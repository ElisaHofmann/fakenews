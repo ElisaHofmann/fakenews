{
 "cells": [
  {
   "cell_type": "markdown",
   "id": "e70be3e0",
   "metadata": {},
   "source": [
    "# 1 Import libraries"
   ]
  },
  {
   "cell_type": "code",
   "execution_count": 1,
   "id": "ccdaea94",
   "metadata": {},
   "outputs": [],
   "source": [
    "#importing Libraries\n",
    "import numpy as np\n",
    "import pandas as pd\n",
    "from matplotlib.pylab import plt\n",
    "import seaborn as sns\n",
    "# from sqlalchemy import create_engine\n",
    "# import sqlalchemy as \n",
    "import sqlite3\n",
    "\n",
    "from wordcloud import WordCloud\n"
   ]
  },
  {
   "cell_type": "markdown",
   "id": "261564fe",
   "metadata": {},
   "source": [
    "# Comments on the document"
   ]
  },
  {
   "cell_type": "code",
   "execution_count": 2,
   "id": "629480e0",
   "metadata": {},
   "outputs": [],
   "source": [
    "######## \n",
    "# This is Elisa's Code from 2023-06-02\n",
    "\n",
    "# loaded dataset (subset of original dataset and pre-processed)\n",
    "# df = pd.read_pickle(\"df_modeling.pkl\")\n",
    "\n",
    "\n",
    "\n",
    "\n",
    "#######\n",
    "\n",
    "# Classification on Text Variables of our Data\n",
    "# for text analysis:\n",
    "# retrieve 2 columns title and content\n",
    "\n",
    "# before fitting: vectorize with TF-IDF Vectorizer + clean text / remove stop_words \n",
    "\n",
    "\n",
    "\n",
    "#######################################################\n",
    "\n",
    "# 1 MAJOR ANALYSIS CHAPTER IN THIS NOTEBOOK\n",
    "\n",
    "##############################\n",
    "\n",
    "\n",
    "# ANALYSIS 2: 2 CLASSES\n",
    "\n",
    "#### Models:\n",
    "# LightGBM\n",
    "# Naive Bayes Bernoulli\n",
    "# Naive Bayes Multinomial\n",
    "# Naive Bayes Complement\n",
    "# Naive Bayes Gaussian --> not working due to memory error\n",
    "# Gradient Boosting --> takes 2 hours\n",
    "# CatBoost --> error\n",
    "# XGBoost\n",
    "\n",
    "\n",
    "# KNN --> takes 2 hours; only ran once, not again\n",
    "# SVM --> takes 3,5 hours; only ran once, not again\n",
    "# Logistic Regression\n",
    "\n",
    "\n",
    "### Results\n",
    "# LightGBM vect accuracy score : 0.8120449509338398\n",
    "# Naive Bayes Bernoulli vect accuracy score : 0.7158911047799936\n",
    "# Naive Bayes Multinomial vect accuracy score : 0.7561728395061729\n",
    "# Naive Bayes Complement vect accuracy score : 0.7752453308008863\n",
    "# GradientBoosting vect accuracy score : 0.785375118708452\n",
    "# XGBoost vect accuracy score : 0.7805476416587528\n",
    "    \n",
    "# Logistic Regression vect accuracy score : 0.8447293447293447\n",
    "\n",
    "\n",
    "\n"
   ]
  },
  {
   "cell_type": "code",
   "execution_count": null,
   "id": "422b4952",
   "metadata": {},
   "outputs": [],
   "source": []
  },
  {
   "cell_type": "markdown",
   "id": "4b5b9cb6",
   "metadata": {},
   "source": [
    "# LOADING PREPROCESSED DATASET df_modeling.pkl"
   ]
  },
  {
   "cell_type": "code",
   "execution_count": 2,
   "id": "939bee98",
   "metadata": {},
   "outputs": [],
   "source": [
    "# retrieve dataset\n",
    "df = pd.read_pickle(\"df_modeling.pkl\")"
   ]
  },
  {
   "cell_type": "code",
   "execution_count": 3,
   "id": "0846b956",
   "metadata": {},
   "outputs": [
    {
     "data": {
      "text/html": [
       "<div>\n",
       "<style scoped>\n",
       "    .dataframe tbody tr th:only-of-type {\n",
       "        vertical-align: middle;\n",
       "    }\n",
       "\n",
       "    .dataframe tbody tr th {\n",
       "        vertical-align: top;\n",
       "    }\n",
       "\n",
       "    .dataframe thead th {\n",
       "        text-align: right;\n",
       "    }\n",
       "</style>\n",
       "<table border=\"1\" class=\"dataframe\">\n",
       "  <thead>\n",
       "    <tr style=\"text-align: right;\">\n",
       "      <th></th>\n",
       "      <th>id</th>\n",
       "      <th>source</th>\n",
       "      <th>title</th>\n",
       "      <th>content</th>\n",
       "      <th>url</th>\n",
       "      <th>published_utc</th>\n",
       "      <th>label</th>\n",
       "      <th>factuality</th>\n",
       "      <th>questionable-source</th>\n",
       "      <th>conspiracy-pseudoscience</th>\n",
       "      <th>...</th>\n",
       "      <th>Russia</th>\n",
       "      <th>USA</th>\n",
       "      <th>United Kingdom</th>\n",
       "      <th>Unknown</th>\n",
       "      <th>tokenized_content</th>\n",
       "      <th>tok_content_length</th>\n",
       "      <th>tokenized_title</th>\n",
       "      <th>tok_title_length</th>\n",
       "      <th>nb_character_content</th>\n",
       "      <th>nb_character_title</th>\n",
       "    </tr>\n",
       "  </thead>\n",
       "  <tbody>\n",
       "    <tr>\n",
       "      <th>0</th>\n",
       "      <td>21stcenturywire--2022-04-26--An Unsettling Rea...</td>\n",
       "      <td>21stcenturywire</td>\n",
       "      <td>An Unsettling Realization: ‘Mask Zealots are S...</td>\n",
       "      <td>It’s been noted how the fanatical nature of ma...</td>\n",
       "      <td>https://21stcenturywire.com/2022/04/26/an-unse...</td>\n",
       "      <td>1650983484</td>\n",
       "      <td>1.0</td>\n",
       "      <td>2.0</td>\n",
       "      <td>0.0</td>\n",
       "      <td>1.0</td>\n",
       "      <td>...</td>\n",
       "      <td>0</td>\n",
       "      <td>1</td>\n",
       "      <td>0</td>\n",
       "      <td>0</td>\n",
       "      <td>[It, ’, s, been, noted, how, the, fanatical, n...</td>\n",
       "      <td>128</td>\n",
       "      <td>[An, Unsettling, Realization, :, ‘, Mask, Zeal...</td>\n",
       "      <td>11</td>\n",
       "      <td>720</td>\n",
       "      <td>61</td>\n",
       "    </tr>\n",
       "    <tr>\n",
       "      <th>1</th>\n",
       "      <td>21stcenturywire--2022-04-24--Episode #416 – ‘S...</td>\n",
       "      <td>21stcenturywire</td>\n",
       "      <td>Episode #416 – ‘Soldiers of Fortune’ with gues...</td>\n",
       "      <td>Episode #416 of SUNDAY WIRE SHOW resumes this ...</td>\n",
       "      <td>https://21stcenturywire.com/2022/04/24/episode...</td>\n",
       "      <td>1650823248</td>\n",
       "      <td>1.0</td>\n",
       "      <td>2.0</td>\n",
       "      <td>0.0</td>\n",
       "      <td>1.0</td>\n",
       "      <td>...</td>\n",
       "      <td>0</td>\n",
       "      <td>1</td>\n",
       "      <td>0</td>\n",
       "      <td>0</td>\n",
       "      <td>[Episode, #, 416, of, SUNDAY, WIRE, SHOW, resu...</td>\n",
       "      <td>221</td>\n",
       "      <td>[Episode, #, 416, –, ‘, Soldiers, of, Fortune,...</td>\n",
       "      <td>14</td>\n",
       "      <td>1143</td>\n",
       "      <td>66</td>\n",
       "    </tr>\n",
       "    <tr>\n",
       "      <th>2</th>\n",
       "      <td>21stcenturywire--2022-07-15--UKC News: UK Thou...</td>\n",
       "      <td>21stcenturywire</td>\n",
       "      <td>UKC News: UK Thought Police, France Stops Vacc...</td>\n",
       "      <td>Authoritarians in the UK government are gettin...</td>\n",
       "      <td>https://21stcenturywire.com/2022/07/15/ukc-new...</td>\n",
       "      <td>1657916785</td>\n",
       "      <td>1.0</td>\n",
       "      <td>2.0</td>\n",
       "      <td>0.0</td>\n",
       "      <td>1.0</td>\n",
       "      <td>...</td>\n",
       "      <td>0</td>\n",
       "      <td>1</td>\n",
       "      <td>0</td>\n",
       "      <td>0</td>\n",
       "      <td>[Authoritarians, in, the, UK, government, are,...</td>\n",
       "      <td>251</td>\n",
       "      <td>[UKC, News, :, UK, Thought, Police, ,, France,...</td>\n",
       "      <td>16</td>\n",
       "      <td>1340</td>\n",
       "      <td>82</td>\n",
       "    </tr>\n",
       "    <tr>\n",
       "      <th>3</th>\n",
       "      <td>21stcenturywire--2022-05-22--Twitter Audit Fin...</td>\n",
       "      <td>21stcenturywire</td>\n",
       "      <td>Twitter Audit Finds Half of President Biden’s ...</td>\n",
       "      <td>After the 2020 election, many Americans began ...</td>\n",
       "      <td>https://21stcenturywire.com/2022/05/22/twitter...</td>\n",
       "      <td>1653236268</td>\n",
       "      <td>1.0</td>\n",
       "      <td>2.0</td>\n",
       "      <td>0.0</td>\n",
       "      <td>1.0</td>\n",
       "      <td>...</td>\n",
       "      <td>0</td>\n",
       "      <td>1</td>\n",
       "      <td>0</td>\n",
       "      <td>0</td>\n",
       "      <td>[After, the, 2020, election, ,, many, American...</td>\n",
       "      <td>630</td>\n",
       "      <td>[Twitter, Audit, Finds, Half, of, President, B...</td>\n",
       "      <td>13</td>\n",
       "      <td>3274</td>\n",
       "      <td>69</td>\n",
       "    </tr>\n",
       "    <tr>\n",
       "      <th>4</th>\n",
       "      <td>21stcenturywire--2022-03-11--UKC News: The Tru...</td>\n",
       "      <td>21stcenturywire</td>\n",
       "      <td>UKC News: The Truth About US Bio Labs + White ...</td>\n",
       "      <td>The high stakes game surrounding the Ukraine c...</td>\n",
       "      <td>https://21stcenturywire.com/2022/03/11/ukc-new...</td>\n",
       "      <td>1647044296</td>\n",
       "      <td>1.0</td>\n",
       "      <td>2.0</td>\n",
       "      <td>0.0</td>\n",
       "      <td>1.0</td>\n",
       "      <td>...</td>\n",
       "      <td>0</td>\n",
       "      <td>1</td>\n",
       "      <td>0</td>\n",
       "      <td>0</td>\n",
       "      <td>[The, high, stakes, game, surrounding, the, Uk...</td>\n",
       "      <td>167</td>\n",
       "      <td>[UKC, News, :, The, Truth, About, US, Bio, Lab...</td>\n",
       "      <td>15</td>\n",
       "      <td>908</td>\n",
       "      <td>70</td>\n",
       "    </tr>\n",
       "  </tbody>\n",
       "</table>\n",
       "<p>5 rows × 42 columns</p>\n",
       "</div>"
      ],
      "text/plain": [
       "                                                  id           source  \\\n",
       "0  21stcenturywire--2022-04-26--An Unsettling Rea...  21stcenturywire   \n",
       "1  21stcenturywire--2022-04-24--Episode #416 – ‘S...  21stcenturywire   \n",
       "2  21stcenturywire--2022-07-15--UKC News: UK Thou...  21stcenturywire   \n",
       "3  21stcenturywire--2022-05-22--Twitter Audit Fin...  21stcenturywire   \n",
       "4  21stcenturywire--2022-03-11--UKC News: The Tru...  21stcenturywire   \n",
       "\n",
       "                                               title  \\\n",
       "0  An Unsettling Realization: ‘Mask Zealots are S...   \n",
       "1  Episode #416 – ‘Soldiers of Fortune’ with gues...   \n",
       "2  UKC News: UK Thought Police, France Stops Vacc...   \n",
       "3  Twitter Audit Finds Half of President Biden’s ...   \n",
       "4  UKC News: The Truth About US Bio Labs + White ...   \n",
       "\n",
       "                                             content  \\\n",
       "0  It’s been noted how the fanatical nature of ma...   \n",
       "1  Episode #416 of SUNDAY WIRE SHOW resumes this ...   \n",
       "2  Authoritarians in the UK government are gettin...   \n",
       "3  After the 2020 election, many Americans began ...   \n",
       "4  The high stakes game surrounding the Ukraine c...   \n",
       "\n",
       "                                                 url  published_utc  label  \\\n",
       "0  https://21stcenturywire.com/2022/04/26/an-unse...     1650983484    1.0   \n",
       "1  https://21stcenturywire.com/2022/04/24/episode...     1650823248    1.0   \n",
       "2  https://21stcenturywire.com/2022/07/15/ukc-new...     1657916785    1.0   \n",
       "3  https://21stcenturywire.com/2022/05/22/twitter...     1653236268    1.0   \n",
       "4  https://21stcenturywire.com/2022/03/11/ukc-new...     1647044296    1.0   \n",
       "\n",
       "   factuality  questionable-source  conspiracy-pseudoscience  ...  Russia  \\\n",
       "0         2.0                  0.0                       1.0  ...       0   \n",
       "1         2.0                  0.0                       1.0  ...       0   \n",
       "2         2.0                  0.0                       1.0  ...       0   \n",
       "3         2.0                  0.0                       1.0  ...       0   \n",
       "4         2.0                  0.0                       1.0  ...       0   \n",
       "\n",
       "   USA  United Kingdom  Unknown  \\\n",
       "0    1               0        0   \n",
       "1    1               0        0   \n",
       "2    1               0        0   \n",
       "3    1               0        0   \n",
       "4    1               0        0   \n",
       "\n",
       "                                   tokenized_content  tok_content_length  \\\n",
       "0  [It, ’, s, been, noted, how, the, fanatical, n...                 128   \n",
       "1  [Episode, #, 416, of, SUNDAY, WIRE, SHOW, resu...                 221   \n",
       "2  [Authoritarians, in, the, UK, government, are,...                 251   \n",
       "3  [After, the, 2020, election, ,, many, American...                 630   \n",
       "4  [The, high, stakes, game, surrounding, the, Uk...                 167   \n",
       "\n",
       "                                     tokenized_title  tok_title_length  \\\n",
       "0  [An, Unsettling, Realization, :, ‘, Mask, Zeal...                11   \n",
       "1  [Episode, #, 416, –, ‘, Soldiers, of, Fortune,...                14   \n",
       "2  [UKC, News, :, UK, Thought, Police, ,, France,...                16   \n",
       "3  [Twitter, Audit, Finds, Half, of, President, B...                13   \n",
       "4  [UKC, News, :, The, Truth, About, US, Bio, Lab...                15   \n",
       "\n",
       "   nb_character_content  nb_character_title  \n",
       "0                   720                  61  \n",
       "1                  1143                  66  \n",
       "2                  1340                  82  \n",
       "3                  3274                  69  \n",
       "4                   908                  70  \n",
       "\n",
       "[5 rows x 42 columns]"
      ]
     },
     "execution_count": 3,
     "metadata": {},
     "output_type": "execute_result"
    }
   ],
   "source": [
    "df.head(5)"
   ]
  },
  {
   "cell_type": "code",
   "execution_count": 3,
   "id": "d527c18b",
   "metadata": {},
   "outputs": [
    {
     "name": "stdout",
     "output_type": "stream",
     "text": [
      "<class 'pandas.core.frame.DataFrame'>\n",
      "Int64Index: 85051 entries, 0 to 106709\n",
      "Data columns (total 42 columns):\n",
      " #   Column                    Non-Null Count  Dtype  \n",
      "---  ------                    --------------  -----  \n",
      " 0   id                        85051 non-null  object \n",
      " 1   source                    85051 non-null  object \n",
      " 2   title                     85051 non-null  object \n",
      " 3   content                   85051 non-null  object \n",
      " 4   url                       85051 non-null  object \n",
      " 5   published_utc             85051 non-null  int64  \n",
      " 6   label                     85051 non-null  float64\n",
      " 7   factuality                85051 non-null  float64\n",
      " 8   questionable-source       85051 non-null  float64\n",
      " 9   conspiracy-pseudoscience  85051 non-null  float64\n",
      " 10  pro-science               85051 non-null  float64\n",
      " 11  year                      85051 non-null  int64  \n",
      " 12  month                     85051 non-null  int64  \n",
      " 13  dayofyear                 85051 non-null  int64  \n",
      " 14  dayofthemonth             85051 non-null  int64  \n",
      " 15  weekday                   85051 non-null  int64  \n",
      " 16  weekend                   85051 non-null  int32  \n",
      " 17  word_count_content        85051 non-null  int64  \n",
      " 18  word_count_title          85051 non-null  int64  \n",
      " 19  Australia                 85051 non-null  uint8  \n",
      " 20  Bulgaria                  85051 non-null  uint8  \n",
      " 21  Canada                    85051 non-null  uint8  \n",
      " 22  Cyprus                    85051 non-null  uint8  \n",
      " 23  France                    85051 non-null  uint8  \n",
      " 24  Germany                   85051 non-null  uint8  \n",
      " 25  Ireland                   85051 non-null  uint8  \n",
      " 26  Israel                    85051 non-null  uint8  \n",
      " 27  Japan                     85051 non-null  uint8  \n",
      " 28  Kenya                     85051 non-null  uint8  \n",
      " 29  Macedonia                 85051 non-null  uint8  \n",
      " 30  Netherlands               85051 non-null  uint8  \n",
      " 31  Qatar                     85051 non-null  uint8  \n",
      " 32  Russia                    85051 non-null  uint8  \n",
      " 33  USA                       85051 non-null  uint8  \n",
      " 34  United Kingdom            85051 non-null  uint8  \n",
      " 35  Unknown                   85051 non-null  uint8  \n",
      " 36  tokenized_content         85051 non-null  object \n",
      " 37  tok_content_length        85051 non-null  int64  \n",
      " 38  tokenized_title           85051 non-null  object \n",
      " 39  tok_title_length          85051 non-null  int64  \n",
      " 40  nb_character_content      85051 non-null  int64  \n",
      " 41  nb_character_title        85051 non-null  int64  \n",
      "dtypes: float64(5), int32(1), int64(12), object(7), uint8(17)\n",
      "memory usage: 17.9+ MB\n"
     ]
    }
   ],
   "source": [
    "df.info()"
   ]
  },
  {
   "cell_type": "code",
   "execution_count": 4,
   "id": "16d20061",
   "metadata": {},
   "outputs": [
    {
     "data": {
      "text/plain": [
       "0.0    36636\n",
       "1.0    26542\n",
       "2.0    21873\n",
       "Name: label, dtype: int64"
      ]
     },
     "execution_count": 4,
     "metadata": {},
     "output_type": "execute_result"
    }
   ],
   "source": [
    "# inspect labels\n",
    "df[\"label\"].value_counts()\n"
   ]
  },
  {
   "cell_type": "code",
   "execution_count": 5,
   "id": "6eecb856",
   "metadata": {},
   "outputs": [],
   "source": [
    "### DELETE 2 in labels (delete 21873 rows)\n",
    "df = df[df[\"label\"] != 2]\n"
   ]
  },
  {
   "cell_type": "code",
   "execution_count": 6,
   "id": "ab5afd51",
   "metadata": {},
   "outputs": [
    {
     "data": {
      "text/plain": [
       "0.0    36636\n",
       "1.0    26542\n",
       "Name: label, dtype: int64"
      ]
     },
     "execution_count": 6,
     "metadata": {},
     "output_type": "execute_result"
    }
   ],
   "source": [
    "# inspect labels\n",
    "df[\"label\"].value_counts()\n",
    "\n",
    "# 0.0    36636\n",
    "# 1.0    26542"
   ]
  },
  {
   "cell_type": "code",
   "execution_count": null,
   "id": "9738dfc3",
   "metadata": {},
   "outputs": [],
   "source": []
  },
  {
   "cell_type": "code",
   "execution_count": null,
   "id": "76c8356f",
   "metadata": {},
   "outputs": [],
   "source": []
  },
  {
   "cell_type": "markdown",
   "id": "0735a094",
   "metadata": {},
   "source": [
    "# Create ML Models on text data (TF-IDF VECTORIZING WITHOUT STOPWORDS)\n"
   ]
  },
  {
   "cell_type": "code",
   "execution_count": null,
   "id": "89a30279",
   "metadata": {},
   "outputs": [],
   "source": [
    "# LightGBM\n",
    "# Naive Bayes Bernoulli\n",
    "# Naive Bayes Multinomial\n",
    "# Naive Bayes Complement\n",
    "# Naive Bayes Gaussian\n",
    "# GradientBoosting \n",
    "# CatBoost \n",
    "# XGBoost \n",
    "\n",
    "# KNN \n",
    "# SVM \n",
    "# Logistic Regression\n"
   ]
  },
  {
   "cell_type": "code",
   "execution_count": null,
   "id": "6532aa5d",
   "metadata": {},
   "outputs": [],
   "source": []
  },
  {
   "cell_type": "code",
   "execution_count": null,
   "id": "62c8ac97",
   "metadata": {},
   "outputs": [],
   "source": []
  },
  {
   "cell_type": "markdown",
   "id": "2f4a3cc1",
   "metadata": {},
   "source": [
    "# Remove Stop Words "
   ]
  },
  {
   "cell_type": "code",
   "execution_count": 7,
   "id": "50a90471",
   "metadata": {},
   "outputs": [
    {
     "name": "stderr",
     "output_type": "stream",
     "text": [
      "[nltk_data] Downloading package stopwords to\n",
      "[nltk_data]     C:\\Users\\Nutzer\\AppData\\Roaming\\nltk_data...\n",
      "[nltk_data]   Package stopwords is already up-to-date!\n"
     ]
    }
   ],
   "source": [
    "import nltk\n",
    "from nltk.corpus import stopwords\n",
    "\n",
    "# Download stopwords corpus if not already downloaded\n",
    "nltk.download('stopwords')\n",
    "\n",
    "# Load the stopwords\n",
    "stop_words = set(stopwords.words('english'))  # You can choose a different language if needed\n",
    "\n",
    "# Update stop words variable\n",
    "# stop_words.update([\",\", \".\"])\n",
    "\n",
    "additional_words = [\"?\", \"!\", \".\", \",\", \":\", \";\", \"-\", \"--\", \"...\", '\"', \"'\"]\n",
    "stop_words.update(set(additional_words))\n"
   ]
  },
  {
   "cell_type": "code",
   "execution_count": 8,
   "id": "02d1886d",
   "metadata": {
    "scrolled": true
   },
   "outputs": [
    {
     "name": "stdout",
     "output_type": "stream",
     "text": [
      "{'should', \"don't\", \"you're\", 'does', 'couldn', 'shan', 'off', \"won't\", 'it', 'had', 'shouldn', 'while', 'if', 'each', \"'\", 'why', 'with', 'than', 'a', 'won', 'out', 'once', 'and', 'ourselves', 'down', 'mustn', 'same', 'all', 'some', 't', ',', 'but', \"weren't\", '--', 'so', 've', '!', \"she's\", 'in', 'under', 'she', 'not', \"you'd\", \"shan't\", 'is', 'hers', 'has', 'from', 'only', 'for', 'your', 'against', \"isn't\", 'these', 'this', 'until', 'which', 'then', 'before', 'most', 'have', 'be', 'at', 'an', 'm', 'by', 'how', 'o', 'our', 'hadn', \"it's\", 'd', \"mustn't\", 'who', 'doing', \"doesn't\", 'of', 'just', 'because', 'her', 'haven', 'over', '...', '?', 'was', 'as', 'wasn', 'ours', 'mightn', \"hasn't\", 'did', 'into', \"couldn't\", 'no', 'herself', 'doesn', \"you've\", 'between', 'during', 'about', 'those', 'are', 'weren', 'now', 'that', ';', 'itself', 'its', 'after', 'ain', 'more', 'yourself', 'am', 'him', 'such', 'his', 'myself', 'he', 'very', 'further', 'them', 'yourselves', '\"', 'above', 'any', ':', 'their', 'ma', 'there', 'don', 'i', 'we', 'whom', 'having', 'too', \"shouldn't\", 'here', '-', 'll', 'again', \"wasn't\", \"hadn't\", 'where', 'when', 'will', 'my', 'needn', 'both', 're', \"should've\", 'yours', 'up', 'you', \"mightn't\", \"aren't\", 'what', 'through', 'few', \"didn't\", 'y', \"that'll\", 'can', 'themselves', 'wouldn', 'below', \"haven't\", 'being', 'the', 'on', 'himself', 's', \"you'll\", 'theirs', 'do', 'me', 'hasn', \"wouldn't\", 'other', 'to', '.', 'isn', 'were', 'own', 'they', 'didn', 'been', \"needn't\", 'nor', 'aren', 'or'}\n"
     ]
    }
   ],
   "source": [
    "# show stop words\n",
    "print(stop_words)\n"
   ]
  },
  {
   "cell_type": "code",
   "execution_count": 9,
   "id": "d75fc920",
   "metadata": {},
   "outputs": [
    {
     "data": {
      "text/plain": [
       "0    It’s been noted how the fanatical nature of ma...\n",
       "1    Episode #416 of SUNDAY WIRE SHOW resumes this ...\n",
       "2    Authoritarians in the UK government are gettin...\n",
       "3    After the 2020 election, many Americans began ...\n",
       "4    The high stakes game surrounding the Ukraine c...\n",
       "5    On the February 3, 2022 episode of Patrick Hen...\n",
       "6    These are the darkest, most difficult days in ...\n",
       "7    A shocking new trend is on the move in America...\n",
       "8    In this episode of the Patrick Henningsen Show...\n",
       "9    Liz Cheney invokes Ronald Reagan to bash those...\n",
       "Name: content, dtype: object"
      ]
     },
     "execution_count": 9,
     "metadata": {},
     "output_type": "execute_result"
    }
   ],
   "source": [
    "# content tbfeore removing stop words\n",
    "df[\"content\"][:10]\n"
   ]
  },
  {
   "cell_type": "code",
   "execution_count": 10,
   "id": "bab8ae8b",
   "metadata": {},
   "outputs": [],
   "source": [
    "# Apply\n",
    "df['content_cleaned'] = df['content'].apply(lambda x: ' '.join([word for word in x.split() if word.lower() not in stop_words]))\n"
   ]
  },
  {
   "cell_type": "code",
   "execution_count": 11,
   "id": "da6e68ab",
   "metadata": {},
   "outputs": [
    {
     "data": {
      "text/plain": [
       "0    It’s noted fanatical nature masking proponents...\n",
       "1    Episode #416 SUNDAY WIRE SHOW resumes week, Ap...\n",
       "2    Authoritarians UK government getting increasin...\n",
       "3    2020 election, many Americans began question m...\n",
       "4    high stakes game surrounding Ukraine conflict ...\n",
       "5    February 3, 2022 episode Patrick Henningsen Sh...\n",
       "6    darkest, difficult days human history. facing ...\n",
       "7    shocking new trend move America: following his...\n",
       "8    episode Patrick Henningsen Show TNT Radio aire...\n",
       "9    Liz Cheney invokes Ronald Reagan bash GOP want...\n",
       "Name: content_cleaned, dtype: object"
      ]
     },
     "execution_count": 11,
     "metadata": {},
     "output_type": "execute_result"
    }
   ],
   "source": [
    "df[\"content_cleaned\"][:10]\n"
   ]
  },
  {
   "cell_type": "code",
   "execution_count": null,
   "id": "4a78acfd",
   "metadata": {},
   "outputs": [],
   "source": []
  },
  {
   "cell_type": "code",
   "execution_count": null,
   "id": "2038bb9a",
   "metadata": {},
   "outputs": [],
   "source": []
  },
  {
   "cell_type": "markdown",
   "id": "49bd85b7",
   "metadata": {},
   "source": [
    "# Lemmatize / Stem\n",
    "# Takes long\n",
    "# did not run it"
   ]
  },
  {
   "cell_type": "code",
   "execution_count": 11,
   "id": "fab29692",
   "metadata": {},
   "outputs": [],
   "source": [
    "# import nltk\n",
    "# from nltk.stem import WordNetLemmatizer, PorterStemmer"
   ]
  },
  {
   "cell_type": "code",
   "execution_count": 19,
   "id": "bae6144d",
   "metadata": {
    "scrolled": true
   },
   "outputs": [
    {
     "name": "stderr",
     "output_type": "stream",
     "text": [
      "[nltk_data] Downloading package wordnet to\n",
      "[nltk_data]     C:\\Users\\Nutzer\\AppData\\Roaming\\nltk_data...\n",
      "[nltk_data]   Package wordnet is already up-to-date!\n",
      "[nltk_data] Downloading package omw-1.4 to\n",
      "[nltk_data]     C:\\Users\\Nutzer\\AppData\\Roaming\\nltk_data...\n"
     ]
    },
    {
     "data": {
      "text/plain": [
       "True"
      ]
     },
     "execution_count": 19,
     "metadata": {},
     "output_type": "execute_result"
    }
   ],
   "source": [
    "# Download necessary resources\n",
    "# nltk.download('wordnet')\n",
    "# nltk.download('omw-1.4')\n",
    "# nltk.download('averaged_perceptron_tagger')"
   ]
  },
  {
   "cell_type": "code",
   "execution_count": 13,
   "id": "eb646b18",
   "metadata": {},
   "outputs": [],
   "source": [
    "# Initialize lemmatizer and stemmer\n",
    "# lemmatizer = WordNetLemmatizer()\n",
    "# stemmer = PorterStemmer()\n"
   ]
  },
  {
   "cell_type": "code",
   "execution_count": null,
   "id": "d365ce3a",
   "metadata": {},
   "outputs": [],
   "source": [
    "# Apply\n",
    "# takes XXX minutes \n",
    "# df['content_clean_lem_stem'] = df['content_cleaned'].apply(lambda x: ' '.join([stemmer.stem(lemmatizer.lemmatize(word)) for word in x.split()]))"
   ]
  },
  {
   "cell_type": "code",
   "execution_count": null,
   "id": "2b62b657",
   "metadata": {},
   "outputs": [],
   "source": [
    "# df[\"content_clean_lem_stem\"][:10]\n"
   ]
  },
  {
   "cell_type": "code",
   "execution_count": null,
   "id": "edfb368b",
   "metadata": {},
   "outputs": [],
   "source": []
  },
  {
   "cell_type": "code",
   "execution_count": null,
   "id": "391f088d",
   "metadata": {},
   "outputs": [],
   "source": []
  },
  {
   "cell_type": "markdown",
   "id": "3dc7ee02",
   "metadata": {},
   "source": [
    "# Create X and Y (only title and text)\n",
    "# X_train_text, X_test_text, Y_train, Y_test (uppercase letters)\n"
   ]
  },
  {
   "cell_type": "code",
   "execution_count": 12,
   "id": "1b7fea27",
   "metadata": {},
   "outputs": [],
   "source": [
    "# STEP 1: DEFINE X and Y\n",
    "X = df.drop(\"label\", axis=1)\n",
    "Y = df[\"label\"]\n"
   ]
  },
  {
   "cell_type": "code",
   "execution_count": 13,
   "id": "66c6ffc9",
   "metadata": {},
   "outputs": [],
   "source": [
    "X.columns = X.columns.astype(str)"
   ]
  },
  {
   "cell_type": "code",
   "execution_count": 14,
   "id": "2e6bb410",
   "metadata": {},
   "outputs": [
    {
     "name": "stdout",
     "output_type": "stream",
     "text": [
      "<class 'pandas.core.frame.DataFrame'>\n",
      "Int64Index: 63178 entries, 0 to 106709\n",
      "Data columns (total 42 columns):\n",
      " #   Column                    Non-Null Count  Dtype  \n",
      "---  ------                    --------------  -----  \n",
      " 0   id                        63178 non-null  object \n",
      " 1   source                    63178 non-null  object \n",
      " 2   title                     63178 non-null  object \n",
      " 3   content                   63178 non-null  object \n",
      " 4   url                       63178 non-null  object \n",
      " 5   published_utc             63178 non-null  int64  \n",
      " 6   factuality                63178 non-null  float64\n",
      " 7   questionable-source       63178 non-null  float64\n",
      " 8   conspiracy-pseudoscience  63178 non-null  float64\n",
      " 9   pro-science               63178 non-null  float64\n",
      " 10  year                      63178 non-null  int64  \n",
      " 11  month                     63178 non-null  int64  \n",
      " 12  dayofyear                 63178 non-null  int64  \n",
      " 13  dayofthemonth             63178 non-null  int64  \n",
      " 14  weekday                   63178 non-null  int64  \n",
      " 15  weekend                   63178 non-null  int32  \n",
      " 16  word_count_content        63178 non-null  int64  \n",
      " 17  word_count_title          63178 non-null  int64  \n",
      " 18  Australia                 63178 non-null  uint8  \n",
      " 19  Bulgaria                  63178 non-null  uint8  \n",
      " 20  Canada                    63178 non-null  uint8  \n",
      " 21  Cyprus                    63178 non-null  uint8  \n",
      " 22  France                    63178 non-null  uint8  \n",
      " 23  Germany                   63178 non-null  uint8  \n",
      " 24  Ireland                   63178 non-null  uint8  \n",
      " 25  Israel                    63178 non-null  uint8  \n",
      " 26  Japan                     63178 non-null  uint8  \n",
      " 27  Kenya                     63178 non-null  uint8  \n",
      " 28  Macedonia                 63178 non-null  uint8  \n",
      " 29  Netherlands               63178 non-null  uint8  \n",
      " 30  Qatar                     63178 non-null  uint8  \n",
      " 31  Russia                    63178 non-null  uint8  \n",
      " 32  USA                       63178 non-null  uint8  \n",
      " 33  United Kingdom            63178 non-null  uint8  \n",
      " 34  Unknown                   63178 non-null  uint8  \n",
      " 35  tokenized_content         63178 non-null  object \n",
      " 36  tok_content_length        63178 non-null  int64  \n",
      " 37  tokenized_title           63178 non-null  object \n",
      " 38  tok_title_length          63178 non-null  int64  \n",
      " 39  nb_character_content      63178 non-null  int64  \n",
      " 40  nb_character_title        63178 non-null  int64  \n",
      " 41  content_cleaned           63178 non-null  object \n",
      "dtypes: float64(4), int32(1), int64(12), object(8), uint8(17)\n",
      "memory usage: 13.3+ MB\n"
     ]
    }
   ],
   "source": [
    "X.info()"
   ]
  },
  {
   "cell_type": "code",
   "execution_count": null,
   "id": "810b78e3",
   "metadata": {},
   "outputs": [],
   "source": []
  },
  {
   "cell_type": "markdown",
   "id": "cf0908f3",
   "metadata": {},
   "source": [
    "## Create Train / Test Datasets"
   ]
  },
  {
   "cell_type": "code",
   "execution_count": 15,
   "id": "0debf450",
   "metadata": {},
   "outputs": [],
   "source": [
    "from sklearn.model_selection import train_test_split\n",
    "\n",
    "X_train, X_test, Y_train, Y_test = train_test_split(X, Y, test_size=0.2)\n"
   ]
  },
  {
   "cell_type": "code",
   "execution_count": null,
   "id": "2c82f09a",
   "metadata": {},
   "outputs": [],
   "source": []
  },
  {
   "cell_type": "markdown",
   "id": "e4ebc738",
   "metadata": {},
   "source": [
    "# Vectorizing"
   ]
  },
  {
   "cell_type": "markdown",
   "id": "e7e6afca",
   "metadata": {},
   "source": [
    "### TFIDF Vectorizing\n",
    "### USING CONTENT_CLEANED AND TITLE ONLY\n"
   ]
  },
  {
   "cell_type": "code",
   "execution_count": 16,
   "id": "3e13c2b9",
   "metadata": {},
   "outputs": [
    {
     "data": {
      "text/html": [
       "<style>#sk-container-id-1 {color: black;background-color: white;}#sk-container-id-1 pre{padding: 0;}#sk-container-id-1 div.sk-toggleable {background-color: white;}#sk-container-id-1 label.sk-toggleable__label {cursor: pointer;display: block;width: 100%;margin-bottom: 0;padding: 0.3em;box-sizing: border-box;text-align: center;}#sk-container-id-1 label.sk-toggleable__label-arrow:before {content: \"▸\";float: left;margin-right: 0.25em;color: #696969;}#sk-container-id-1 label.sk-toggleable__label-arrow:hover:before {color: black;}#sk-container-id-1 div.sk-estimator:hover label.sk-toggleable__label-arrow:before {color: black;}#sk-container-id-1 div.sk-toggleable__content {max-height: 0;max-width: 0;overflow: hidden;text-align: left;background-color: #f0f8ff;}#sk-container-id-1 div.sk-toggleable__content pre {margin: 0.2em;color: black;border-radius: 0.25em;background-color: #f0f8ff;}#sk-container-id-1 input.sk-toggleable__control:checked~div.sk-toggleable__content {max-height: 200px;max-width: 100%;overflow: auto;}#sk-container-id-1 input.sk-toggleable__control:checked~label.sk-toggleable__label-arrow:before {content: \"▾\";}#sk-container-id-1 div.sk-estimator input.sk-toggleable__control:checked~label.sk-toggleable__label {background-color: #d4ebff;}#sk-container-id-1 div.sk-label input.sk-toggleable__control:checked~label.sk-toggleable__label {background-color: #d4ebff;}#sk-container-id-1 input.sk-hidden--visually {border: 0;clip: rect(1px 1px 1px 1px);clip: rect(1px, 1px, 1px, 1px);height: 1px;margin: -1px;overflow: hidden;padding: 0;position: absolute;width: 1px;}#sk-container-id-1 div.sk-estimator {font-family: monospace;background-color: #f0f8ff;border: 1px dotted black;border-radius: 0.25em;box-sizing: border-box;margin-bottom: 0.5em;}#sk-container-id-1 div.sk-estimator:hover {background-color: #d4ebff;}#sk-container-id-1 div.sk-parallel-item::after {content: \"\";width: 100%;border-bottom: 1px solid gray;flex-grow: 1;}#sk-container-id-1 div.sk-label:hover label.sk-toggleable__label {background-color: #d4ebff;}#sk-container-id-1 div.sk-serial::before {content: \"\";position: absolute;border-left: 1px solid gray;box-sizing: border-box;top: 0;bottom: 0;left: 50%;z-index: 0;}#sk-container-id-1 div.sk-serial {display: flex;flex-direction: column;align-items: center;background-color: white;padding-right: 0.2em;padding-left: 0.2em;position: relative;}#sk-container-id-1 div.sk-item {position: relative;z-index: 1;}#sk-container-id-1 div.sk-parallel {display: flex;align-items: stretch;justify-content: center;background-color: white;position: relative;}#sk-container-id-1 div.sk-item::before, #sk-container-id-1 div.sk-parallel-item::before {content: \"\";position: absolute;border-left: 1px solid gray;box-sizing: border-box;top: 0;bottom: 0;left: 50%;z-index: -1;}#sk-container-id-1 div.sk-parallel-item {display: flex;flex-direction: column;z-index: 1;position: relative;background-color: white;}#sk-container-id-1 div.sk-parallel-item:first-child::after {align-self: flex-end;width: 50%;}#sk-container-id-1 div.sk-parallel-item:last-child::after {align-self: flex-start;width: 50%;}#sk-container-id-1 div.sk-parallel-item:only-child::after {width: 0;}#sk-container-id-1 div.sk-dashed-wrapped {border: 1px dashed gray;margin: 0 0.4em 0.5em 0.4em;box-sizing: border-box;padding-bottom: 0.4em;background-color: white;}#sk-container-id-1 div.sk-label label {font-family: monospace;font-weight: bold;display: inline-block;line-height: 1.2em;}#sk-container-id-1 div.sk-label-container {text-align: center;}#sk-container-id-1 div.sk-container {/* jupyter's `normalize.less` sets `[hidden] { display: none; }` but bootstrap.min.css set `[hidden] { display: none !important; }` so we also need the `!important` here to be able to override the default hidden behavior on the sphinx rendered scikit-learn.org. See: https://github.com/scikit-learn/scikit-learn/issues/21755 */display: inline-block !important;position: relative;}#sk-container-id-1 div.sk-text-repr-fallback {display: none;}</style><div id=\"sk-container-id-1\" class=\"sk-top-container\"><div class=\"sk-text-repr-fallback\"><pre>TfidfVectorizer()</pre><b>In a Jupyter environment, please rerun this cell to show the HTML representation or trust the notebook. <br />On GitHub, the HTML representation is unable to render, please try loading this page with nbviewer.org.</b></div><div class=\"sk-container\" hidden><div class=\"sk-item\"><div class=\"sk-estimator sk-toggleable\"><input class=\"sk-toggleable__control sk-hidden--visually\" id=\"sk-estimator-id-1\" type=\"checkbox\" checked><label for=\"sk-estimator-id-1\" class=\"sk-toggleable__label sk-toggleable__label-arrow\">TfidfVectorizer</label><div class=\"sk-toggleable__content\"><pre>TfidfVectorizer()</pre></div></div></div></div></div>"
      ],
      "text/plain": [
       "TfidfVectorizer()"
      ]
     },
     "execution_count": 16,
     "metadata": {},
     "output_type": "execute_result"
    }
   ],
   "source": [
    "# VECTORIZING\n",
    "# TAKES 1 MINUTE\n",
    "\n",
    "from sklearn.feature_extraction.text import TfidfVectorizer\n",
    "from scipy.sparse import hstack, csr_matrix\n",
    "\n",
    "vectorizer1 = TfidfVectorizer()\n",
    "vectorizer2 = TfidfVectorizer()\n",
    "\n",
    "vectorizer1.fit(X_train['content_cleaned'])\n",
    "vectorizer2.fit(X_train['title'])\n"
   ]
  },
  {
   "cell_type": "code",
   "execution_count": 17,
   "id": "941df81a",
   "metadata": {},
   "outputs": [],
   "source": [
    "# TAKES 1 MINUTE\n",
    "\n",
    "X_train_content = vectorizer1.transform(X_train['content_cleaned'])\n",
    "X_train_title = vectorizer2.transform(X_train['title'])\n",
    "X_test_content = vectorizer1.transform(X_test['content_cleaned'])\n",
    "X_test_title = vectorizer2.transform(X_test['title'])\n"
   ]
  },
  {
   "cell_type": "code",
   "execution_count": 18,
   "id": "859b9c9a",
   "metadata": {},
   "outputs": [],
   "source": [
    "X_train_text = hstack([X_train_content, X_train_title])\n",
    "X_test_text = hstack([X_test_content, X_test_title])\n"
   ]
  },
  {
   "cell_type": "code",
   "execution_count": 19,
   "id": "113a46be",
   "metadata": {},
   "outputs": [
    {
     "data": {
      "text/plain": [
       "<50542x238638 sparse matrix of type '<class 'numpy.float64'>'\n",
       "\twith 10690917 stored elements in Compressed Sparse Row format>"
      ]
     },
     "execution_count": 19,
     "metadata": {},
     "output_type": "execute_result"
    }
   ],
   "source": [
    "X_train_text"
   ]
  },
  {
   "cell_type": "code",
   "execution_count": 20,
   "id": "33156537",
   "metadata": {},
   "outputs": [
    {
     "data": {
      "text/plain": [
       "(50542, 238638)"
      ]
     },
     "execution_count": 20,
     "metadata": {},
     "output_type": "execute_result"
    }
   ],
   "source": [
    "X_train_text.shape"
   ]
  },
  {
   "cell_type": "code",
   "execution_count": 21,
   "id": "a4d9e4b9",
   "metadata": {},
   "outputs": [
    {
     "data": {
      "text/plain": [
       "<12636x238638 sparse matrix of type '<class 'numpy.float64'>'\n",
       "\twith 2635193 stored elements in Compressed Sparse Row format>"
      ]
     },
     "execution_count": 21,
     "metadata": {},
     "output_type": "execute_result"
    }
   ],
   "source": [
    "X_test_text"
   ]
  },
  {
   "cell_type": "code",
   "execution_count": 22,
   "id": "c043243c",
   "metadata": {},
   "outputs": [
    {
     "data": {
      "text/plain": [
       "(12636, 238638)"
      ]
     },
     "execution_count": 22,
     "metadata": {},
     "output_type": "execute_result"
    }
   ],
   "source": [
    "X_test_text.shape"
   ]
  },
  {
   "cell_type": "code",
   "execution_count": null,
   "id": "9b1c4da5",
   "metadata": {},
   "outputs": [],
   "source": []
  },
  {
   "cell_type": "code",
   "execution_count": null,
   "id": "0c0acaa4",
   "metadata": {},
   "outputs": [],
   "source": []
  },
  {
   "cell_type": "markdown",
   "id": "c4e5119e",
   "metadata": {},
   "source": [
    "# LightGBM Model"
   ]
  },
  {
   "cell_type": "code",
   "execution_count": 23,
   "id": "7c8b5ef5",
   "metadata": {},
   "outputs": [],
   "source": [
    "import lightgbm as lgb\n",
    "from sklearn.model_selection import train_test_split\n",
    "from sklearn.metrics import accuracy_score"
   ]
  },
  {
   "cell_type": "code",
   "execution_count": 24,
   "id": "25f080f5",
   "metadata": {},
   "outputs": [],
   "source": [
    "# Create a LightGBM dataset for training\n",
    "\n",
    "LightGMB_train_data_text = lgb.Dataset(X_train_text, label=Y_train)\n",
    "\n",
    "# Set the hyperparameters for the LightGBM model\n",
    "paramsLightGBM = {\n",
    "    'boosting_type': 'gbdt',\n",
    "    'objective': 'binary',  # Set the appropriate objective for your classification task\n",
    "    'metric': 'binary_logloss',  # Set the appropriate metric for evaluation\n",
    "    'num_leaves': 31,\n",
    "    'learning_rate': 0.05,\n",
    "    'feature_fraction': 0.9,\n",
    "    'bagging_fraction': 0.8,\n",
    "    'bagging_freq': 5,\n",
    "    'verbose': 0\n",
    "}\n"
   ]
  },
  {
   "cell_type": "code",
   "execution_count": 25,
   "id": "6a9487ed",
   "metadata": {},
   "outputs": [
    {
     "name": "stdout",
     "output_type": "stream",
     "text": [
      "[LightGBM] [Warning] Auto-choosing row-wise multi-threading, the overhead of testing was 9.681393 seconds.\n",
      "You can set `force_row_wise=true` to remove the overhead.\n",
      "And if memory is not enough, you can set `force_col_wise=true`.\n"
     ]
    }
   ],
   "source": [
    "# Train the LightGBM model\n",
    "clf_LightGBM_vect = lgb.train(paramsLightGBM, LightGMB_train_data_text, num_boost_round=100)\n",
    "\n",
    "# takes 3 minutes\n"
   ]
  },
  {
   "cell_type": "code",
   "execution_count": 26,
   "id": "5a87ab64",
   "metadata": {},
   "outputs": [],
   "source": [
    "# Make predictions on the test set\n",
    "y_pred_LightGBM_vect = clf_LightGBM_vect.predict(X_test_text)\n",
    "y_pred_LightGBM_vect = [round(pred) for pred in y_pred_LightGBM_vect]  # Convert probability to binary predictions\n"
   ]
  },
  {
   "cell_type": "code",
   "execution_count": 27,
   "id": "e4b1098f",
   "metadata": {},
   "outputs": [
    {
     "name": "stdout",
     "output_type": "stream",
     "text": [
      "Accuracy LightGBM vect: 0.8120449509338398\n"
     ]
    }
   ],
   "source": [
    "# Evaluate the model\n",
    "accuracy_LightGBM_vect = accuracy_score(Y_test, y_pred_LightGBM_vect)\n",
    "print(\"Accuracy LightGBM vect:\", accuracy_LightGBM_vect)\n",
    "\n",
    "# 0.81\n"
   ]
  },
  {
   "cell_type": "code",
   "execution_count": 28,
   "id": "d8d846ff",
   "metadata": {},
   "outputs": [
    {
     "name": "stdout",
     "output_type": "stream",
     "text": [
      "Confusion Matrix:\n",
      " [[6493  842]\n",
      " [1533 3768]]\n"
     ]
    }
   ],
   "source": [
    "# STEP 7: Evaluate Model with confusion matrix \n",
    "from sklearn.metrics import confusion_matrix \n",
    "\n",
    "conf_matrix_LightGBM_vect = confusion_matrix(Y_test, y_pred_LightGBM_vect)\n",
    "\n",
    "print(\"Confusion Matrix:\\n\",  conf_matrix_LightGBM_vect)\n"
   ]
  },
  {
   "cell_type": "code",
   "execution_count": 29,
   "id": "aec94151",
   "metadata": {},
   "outputs": [
    {
     "name": "stdout",
     "output_type": "stream",
     "text": [
      "LightGBM vect classification report:\n",
      "               precision    recall  f1-score   support\n",
      "\n",
      "         0.0       0.81      0.89      0.85      7335\n",
      "         1.0       0.82      0.71      0.76      5301\n",
      "\n",
      "    accuracy                           0.81     12636\n",
      "   macro avg       0.81      0.80      0.80     12636\n",
      "weighted avg       0.81      0.81      0.81     12636\n",
      "\n"
     ]
    }
   ],
   "source": [
    "# STEP 9: Evaluate model with classification report\n",
    "from sklearn.metrics import classification_report \n",
    "\n",
    "print(\"LightGBM vect classification report:\\n\", classification_report (Y_test, y_pred_LightGBM_vect))\n"
   ]
  },
  {
   "cell_type": "code",
   "execution_count": null,
   "id": "f8687c79",
   "metadata": {},
   "outputs": [],
   "source": []
  },
  {
   "cell_type": "code",
   "execution_count": null,
   "id": "fdd59139",
   "metadata": {},
   "outputs": [],
   "source": []
  },
  {
   "cell_type": "code",
   "execution_count": null,
   "id": "3aae6211",
   "metadata": {},
   "outputs": [],
   "source": []
  },
  {
   "cell_type": "markdown",
   "id": "a3b76e33",
   "metadata": {},
   "source": [
    "# Naive Bayes Bernoulli Model"
   ]
  },
  {
   "cell_type": "code",
   "execution_count": 30,
   "id": "a9a052ef",
   "metadata": {},
   "outputs": [],
   "source": [
    "from sklearn.naive_bayes import BernoulliNB\n",
    "from sklearn.model_selection import train_test_split\n",
    "from sklearn.metrics import accuracy_score"
   ]
  },
  {
   "cell_type": "code",
   "execution_count": 31,
   "id": "213bec85",
   "metadata": {},
   "outputs": [],
   "source": [
    "# Create a Bernoulli Naive Bayes classifier\n",
    "clf_Bern_vect = BernoulliNB()\n"
   ]
  },
  {
   "cell_type": "code",
   "execution_count": 32,
   "id": "8acc28ab",
   "metadata": {},
   "outputs": [
    {
     "data": {
      "text/html": [
       "<style>#sk-container-id-2 {color: black;background-color: white;}#sk-container-id-2 pre{padding: 0;}#sk-container-id-2 div.sk-toggleable {background-color: white;}#sk-container-id-2 label.sk-toggleable__label {cursor: pointer;display: block;width: 100%;margin-bottom: 0;padding: 0.3em;box-sizing: border-box;text-align: center;}#sk-container-id-2 label.sk-toggleable__label-arrow:before {content: \"▸\";float: left;margin-right: 0.25em;color: #696969;}#sk-container-id-2 label.sk-toggleable__label-arrow:hover:before {color: black;}#sk-container-id-2 div.sk-estimator:hover label.sk-toggleable__label-arrow:before {color: black;}#sk-container-id-2 div.sk-toggleable__content {max-height: 0;max-width: 0;overflow: hidden;text-align: left;background-color: #f0f8ff;}#sk-container-id-2 div.sk-toggleable__content pre {margin: 0.2em;color: black;border-radius: 0.25em;background-color: #f0f8ff;}#sk-container-id-2 input.sk-toggleable__control:checked~div.sk-toggleable__content {max-height: 200px;max-width: 100%;overflow: auto;}#sk-container-id-2 input.sk-toggleable__control:checked~label.sk-toggleable__label-arrow:before {content: \"▾\";}#sk-container-id-2 div.sk-estimator input.sk-toggleable__control:checked~label.sk-toggleable__label {background-color: #d4ebff;}#sk-container-id-2 div.sk-label input.sk-toggleable__control:checked~label.sk-toggleable__label {background-color: #d4ebff;}#sk-container-id-2 input.sk-hidden--visually {border: 0;clip: rect(1px 1px 1px 1px);clip: rect(1px, 1px, 1px, 1px);height: 1px;margin: -1px;overflow: hidden;padding: 0;position: absolute;width: 1px;}#sk-container-id-2 div.sk-estimator {font-family: monospace;background-color: #f0f8ff;border: 1px dotted black;border-radius: 0.25em;box-sizing: border-box;margin-bottom: 0.5em;}#sk-container-id-2 div.sk-estimator:hover {background-color: #d4ebff;}#sk-container-id-2 div.sk-parallel-item::after {content: \"\";width: 100%;border-bottom: 1px solid gray;flex-grow: 1;}#sk-container-id-2 div.sk-label:hover label.sk-toggleable__label {background-color: #d4ebff;}#sk-container-id-2 div.sk-serial::before {content: \"\";position: absolute;border-left: 1px solid gray;box-sizing: border-box;top: 0;bottom: 0;left: 50%;z-index: 0;}#sk-container-id-2 div.sk-serial {display: flex;flex-direction: column;align-items: center;background-color: white;padding-right: 0.2em;padding-left: 0.2em;position: relative;}#sk-container-id-2 div.sk-item {position: relative;z-index: 1;}#sk-container-id-2 div.sk-parallel {display: flex;align-items: stretch;justify-content: center;background-color: white;position: relative;}#sk-container-id-2 div.sk-item::before, #sk-container-id-2 div.sk-parallel-item::before {content: \"\";position: absolute;border-left: 1px solid gray;box-sizing: border-box;top: 0;bottom: 0;left: 50%;z-index: -1;}#sk-container-id-2 div.sk-parallel-item {display: flex;flex-direction: column;z-index: 1;position: relative;background-color: white;}#sk-container-id-2 div.sk-parallel-item:first-child::after {align-self: flex-end;width: 50%;}#sk-container-id-2 div.sk-parallel-item:last-child::after {align-self: flex-start;width: 50%;}#sk-container-id-2 div.sk-parallel-item:only-child::after {width: 0;}#sk-container-id-2 div.sk-dashed-wrapped {border: 1px dashed gray;margin: 0 0.4em 0.5em 0.4em;box-sizing: border-box;padding-bottom: 0.4em;background-color: white;}#sk-container-id-2 div.sk-label label {font-family: monospace;font-weight: bold;display: inline-block;line-height: 1.2em;}#sk-container-id-2 div.sk-label-container {text-align: center;}#sk-container-id-2 div.sk-container {/* jupyter's `normalize.less` sets `[hidden] { display: none; }` but bootstrap.min.css set `[hidden] { display: none !important; }` so we also need the `!important` here to be able to override the default hidden behavior on the sphinx rendered scikit-learn.org. See: https://github.com/scikit-learn/scikit-learn/issues/21755 */display: inline-block !important;position: relative;}#sk-container-id-2 div.sk-text-repr-fallback {display: none;}</style><div id=\"sk-container-id-2\" class=\"sk-top-container\"><div class=\"sk-text-repr-fallback\"><pre>BernoulliNB()</pre><b>In a Jupyter environment, please rerun this cell to show the HTML representation or trust the notebook. <br />On GitHub, the HTML representation is unable to render, please try loading this page with nbviewer.org.</b></div><div class=\"sk-container\" hidden><div class=\"sk-item\"><div class=\"sk-estimator sk-toggleable\"><input class=\"sk-toggleable__control sk-hidden--visually\" id=\"sk-estimator-id-2\" type=\"checkbox\" checked><label for=\"sk-estimator-id-2\" class=\"sk-toggleable__label sk-toggleable__label-arrow\">BernoulliNB</label><div class=\"sk-toggleable__content\"><pre>BernoulliNB()</pre></div></div></div></div></div>"
      ],
      "text/plain": [
       "BernoulliNB()"
      ]
     },
     "execution_count": 32,
     "metadata": {},
     "output_type": "execute_result"
    }
   ],
   "source": [
    "# Train the classifier\n",
    "clf_Bern_vect.fit(X_train_text, Y_train)\n"
   ]
  },
  {
   "cell_type": "code",
   "execution_count": 33,
   "id": "1a025c61",
   "metadata": {},
   "outputs": [],
   "source": [
    "# Make predictions on the test set\n",
    "y_pred_Bern_vect = clf_Bern_vect.predict(X_test_text)\n"
   ]
  },
  {
   "cell_type": "code",
   "execution_count": 34,
   "id": "66504eb9",
   "metadata": {},
   "outputs": [
    {
     "name": "stdout",
     "output_type": "stream",
     "text": [
      "Accuracy: 0.7158911047799936\n"
     ]
    }
   ],
   "source": [
    "# Evaluate the model\n",
    "accuracyNB_Bernoulli_vect = accuracy_score(Y_test, y_pred_Bern_vect)\n",
    "print(\"Accuracy:\", accuracyNB_Bernoulli_vect)\n",
    "\n",
    "# 0.71\n"
   ]
  },
  {
   "cell_type": "code",
   "execution_count": 35,
   "id": "4ffb0b7f",
   "metadata": {},
   "outputs": [
    {
     "name": "stdout",
     "output_type": "stream",
     "text": [
      "Confusion Matrix:\n",
      " [[4942 2393]\n",
      " [1197 4104]]\n"
     ]
    }
   ],
   "source": [
    "# STEP 7: Evaluate Model with confusion matrix \n",
    "from sklearn.metrics import confusion_matrix \n",
    "\n",
    "conf_matrix_Bern_vect = confusion_matrix(Y_test, y_pred_Bern_vect)\n",
    "\n",
    "print(\"Confusion Matrix:\\n\",  conf_matrix_Bern_vect)\n"
   ]
  },
  {
   "cell_type": "code",
   "execution_count": 36,
   "id": "76bab7d2",
   "metadata": {},
   "outputs": [
    {
     "name": "stdout",
     "output_type": "stream",
     "text": [
      "Naive Bayes Bernoulli vect classification report:\n",
      "               precision    recall  f1-score   support\n",
      "\n",
      "         0.0       0.81      0.67      0.73      7335\n",
      "         1.0       0.63      0.77      0.70      5301\n",
      "\n",
      "    accuracy                           0.72     12636\n",
      "   macro avg       0.72      0.72      0.71     12636\n",
      "weighted avg       0.73      0.72      0.72     12636\n",
      "\n"
     ]
    }
   ],
   "source": [
    "# STEP 9: Evaluate model with classification report\n",
    "from sklearn.metrics import classification_report \n",
    "\n",
    "print(\"Naive Bayes Bernoulli vect classification report:\\n\", classification_report (Y_test, y_pred_Bern_vect))\n"
   ]
  },
  {
   "cell_type": "code",
   "execution_count": null,
   "id": "b4de5909",
   "metadata": {},
   "outputs": [],
   "source": []
  },
  {
   "cell_type": "code",
   "execution_count": null,
   "id": "f694fa9b",
   "metadata": {},
   "outputs": [],
   "source": []
  },
  {
   "cell_type": "code",
   "execution_count": null,
   "id": "0d49ab49",
   "metadata": {},
   "outputs": [],
   "source": []
  },
  {
   "cell_type": "markdown",
   "id": "618ec981",
   "metadata": {},
   "source": [
    "# MULTINOMIAL NAIVE BAYES\n"
   ]
  },
  {
   "cell_type": "code",
   "execution_count": 37,
   "id": "93313809",
   "metadata": {},
   "outputs": [],
   "source": [
    "from sklearn.naive_bayes import MultinomialNB"
   ]
  },
  {
   "cell_type": "code",
   "execution_count": 38,
   "id": "4175d0de",
   "metadata": {},
   "outputs": [],
   "source": [
    "from sklearn.naive_bayes import MultinomialNB\n",
    "clf_mult_vect = MultinomialNB()\n"
   ]
  },
  {
   "cell_type": "code",
   "execution_count": 39,
   "id": "52476d00",
   "metadata": {},
   "outputs": [
    {
     "data": {
      "text/html": [
       "<style>#sk-container-id-3 {color: black;background-color: white;}#sk-container-id-3 pre{padding: 0;}#sk-container-id-3 div.sk-toggleable {background-color: white;}#sk-container-id-3 label.sk-toggleable__label {cursor: pointer;display: block;width: 100%;margin-bottom: 0;padding: 0.3em;box-sizing: border-box;text-align: center;}#sk-container-id-3 label.sk-toggleable__label-arrow:before {content: \"▸\";float: left;margin-right: 0.25em;color: #696969;}#sk-container-id-3 label.sk-toggleable__label-arrow:hover:before {color: black;}#sk-container-id-3 div.sk-estimator:hover label.sk-toggleable__label-arrow:before {color: black;}#sk-container-id-3 div.sk-toggleable__content {max-height: 0;max-width: 0;overflow: hidden;text-align: left;background-color: #f0f8ff;}#sk-container-id-3 div.sk-toggleable__content pre {margin: 0.2em;color: black;border-radius: 0.25em;background-color: #f0f8ff;}#sk-container-id-3 input.sk-toggleable__control:checked~div.sk-toggleable__content {max-height: 200px;max-width: 100%;overflow: auto;}#sk-container-id-3 input.sk-toggleable__control:checked~label.sk-toggleable__label-arrow:before {content: \"▾\";}#sk-container-id-3 div.sk-estimator input.sk-toggleable__control:checked~label.sk-toggleable__label {background-color: #d4ebff;}#sk-container-id-3 div.sk-label input.sk-toggleable__control:checked~label.sk-toggleable__label {background-color: #d4ebff;}#sk-container-id-3 input.sk-hidden--visually {border: 0;clip: rect(1px 1px 1px 1px);clip: rect(1px, 1px, 1px, 1px);height: 1px;margin: -1px;overflow: hidden;padding: 0;position: absolute;width: 1px;}#sk-container-id-3 div.sk-estimator {font-family: monospace;background-color: #f0f8ff;border: 1px dotted black;border-radius: 0.25em;box-sizing: border-box;margin-bottom: 0.5em;}#sk-container-id-3 div.sk-estimator:hover {background-color: #d4ebff;}#sk-container-id-3 div.sk-parallel-item::after {content: \"\";width: 100%;border-bottom: 1px solid gray;flex-grow: 1;}#sk-container-id-3 div.sk-label:hover label.sk-toggleable__label {background-color: #d4ebff;}#sk-container-id-3 div.sk-serial::before {content: \"\";position: absolute;border-left: 1px solid gray;box-sizing: border-box;top: 0;bottom: 0;left: 50%;z-index: 0;}#sk-container-id-3 div.sk-serial {display: flex;flex-direction: column;align-items: center;background-color: white;padding-right: 0.2em;padding-left: 0.2em;position: relative;}#sk-container-id-3 div.sk-item {position: relative;z-index: 1;}#sk-container-id-3 div.sk-parallel {display: flex;align-items: stretch;justify-content: center;background-color: white;position: relative;}#sk-container-id-3 div.sk-item::before, #sk-container-id-3 div.sk-parallel-item::before {content: \"\";position: absolute;border-left: 1px solid gray;box-sizing: border-box;top: 0;bottom: 0;left: 50%;z-index: -1;}#sk-container-id-3 div.sk-parallel-item {display: flex;flex-direction: column;z-index: 1;position: relative;background-color: white;}#sk-container-id-3 div.sk-parallel-item:first-child::after {align-self: flex-end;width: 50%;}#sk-container-id-3 div.sk-parallel-item:last-child::after {align-self: flex-start;width: 50%;}#sk-container-id-3 div.sk-parallel-item:only-child::after {width: 0;}#sk-container-id-3 div.sk-dashed-wrapped {border: 1px dashed gray;margin: 0 0.4em 0.5em 0.4em;box-sizing: border-box;padding-bottom: 0.4em;background-color: white;}#sk-container-id-3 div.sk-label label {font-family: monospace;font-weight: bold;display: inline-block;line-height: 1.2em;}#sk-container-id-3 div.sk-label-container {text-align: center;}#sk-container-id-3 div.sk-container {/* jupyter's `normalize.less` sets `[hidden] { display: none; }` but bootstrap.min.css set `[hidden] { display: none !important; }` so we also need the `!important` here to be able to override the default hidden behavior on the sphinx rendered scikit-learn.org. See: https://github.com/scikit-learn/scikit-learn/issues/21755 */display: inline-block !important;position: relative;}#sk-container-id-3 div.sk-text-repr-fallback {display: none;}</style><div id=\"sk-container-id-3\" class=\"sk-top-container\"><div class=\"sk-text-repr-fallback\"><pre>MultinomialNB()</pre><b>In a Jupyter environment, please rerun this cell to show the HTML representation or trust the notebook. <br />On GitHub, the HTML representation is unable to render, please try loading this page with nbviewer.org.</b></div><div class=\"sk-container\" hidden><div class=\"sk-item\"><div class=\"sk-estimator sk-toggleable\"><input class=\"sk-toggleable__control sk-hidden--visually\" id=\"sk-estimator-id-3\" type=\"checkbox\" checked><label for=\"sk-estimator-id-3\" class=\"sk-toggleable__label sk-toggleable__label-arrow\">MultinomialNB</label><div class=\"sk-toggleable__content\"><pre>MultinomialNB()</pre></div></div></div></div></div>"
      ],
      "text/plain": [
       "MultinomialNB()"
      ]
     },
     "execution_count": 39,
     "metadata": {},
     "output_type": "execute_result"
    }
   ],
   "source": [
    "# fit the model\n",
    "clf_mult_vect.fit(X_train_text, Y_train)\n"
   ]
  },
  {
   "cell_type": "code",
   "execution_count": 40,
   "id": "34f5ba02",
   "metadata": {},
   "outputs": [
    {
     "data": {
      "text/plain": [
       "0.7561728395061729"
      ]
     },
     "execution_count": 40,
     "metadata": {},
     "output_type": "execute_result"
    }
   ],
   "source": [
    "# get accuracy\n",
    "accuracyNB_Multinomial_vect = clf_mult_vect.score(X_test_text, Y_test)\n",
    "accuracyNB_Multinomial_vect\n",
    "\n",
    "# 0.75\n"
   ]
  },
  {
   "cell_type": "code",
   "execution_count": 41,
   "id": "1234fbd3",
   "metadata": {},
   "outputs": [
    {
     "data": {
      "text/html": [
       "<div>\n",
       "<style scoped>\n",
       "    .dataframe tbody tr th:only-of-type {\n",
       "        vertical-align: middle;\n",
       "    }\n",
       "\n",
       "    .dataframe tbody tr th {\n",
       "        vertical-align: top;\n",
       "    }\n",
       "\n",
       "    .dataframe thead th {\n",
       "        text-align: right;\n",
       "    }\n",
       "</style>\n",
       "<table border=\"1\" class=\"dataframe\">\n",
       "  <thead>\n",
       "    <tr style=\"text-align: right;\">\n",
       "      <th>predict</th>\n",
       "      <th>0.0</th>\n",
       "      <th>1.0</th>\n",
       "    </tr>\n",
       "    <tr>\n",
       "      <th>real</th>\n",
       "      <th></th>\n",
       "      <th></th>\n",
       "    </tr>\n",
       "  </thead>\n",
       "  <tbody>\n",
       "    <tr>\n",
       "      <th>0.0</th>\n",
       "      <td>7105</td>\n",
       "      <td>230</td>\n",
       "    </tr>\n",
       "    <tr>\n",
       "      <th>1.0</th>\n",
       "      <td>2851</td>\n",
       "      <td>2450</td>\n",
       "    </tr>\n",
       "  </tbody>\n",
       "</table>\n",
       "</div>"
      ],
      "text/plain": [
       "predict   0.0   1.0\n",
       "real               \n",
       "0.0      7105   230\n",
       "1.0      2851  2450"
      ]
     },
     "execution_count": 41,
     "metadata": {},
     "output_type": "execute_result"
    }
   ],
   "source": [
    "# get confusion matrix\n",
    "y_pred_NB_Multinomial_vect = clf_mult_vect.predict(X_test_text)\n",
    "pd.crosstab(Y_test, y_pred_NB_Multinomial_vect, rownames=[\"real\"], colnames=[\"predict\"])\n"
   ]
  },
  {
   "cell_type": "code",
   "execution_count": 42,
   "id": "feed2578",
   "metadata": {},
   "outputs": [
    {
     "name": "stdout",
     "output_type": "stream",
     "text": [
      "Naive Bayes Multinomial Vect classification report:\n",
      "                precision    recall  f1-score   support\n",
      "\n",
      "         0.0       0.71      0.97      0.82      7335\n",
      "         1.0       0.91      0.46      0.61      5301\n",
      "\n",
      "    accuracy                           0.76     12636\n",
      "   macro avg       0.81      0.72      0.72     12636\n",
      "weighted avg       0.80      0.76      0.73     12636\n",
      "\n"
     ]
    }
   ],
   "source": [
    "from sklearn.metrics import classification_report \n",
    "\n",
    "# get classification report\n",
    "print(\"Naive Bayes Multinomial Vect classification report:\\n \", classification_report (Y_test, y_pred_NB_Multinomial_vect))"
   ]
  },
  {
   "cell_type": "code",
   "execution_count": 43,
   "id": "2282cd17",
   "metadata": {},
   "outputs": [],
   "source": [
    "from mlxtend.plotting import plot_confusion_matrix\n",
    "import matplotlib.pyplot as plt\n",
    "import numpy as np\n",
    "from sklearn.metrics import confusion_matrix\n"
   ]
  },
  {
   "cell_type": "code",
   "execution_count": 44,
   "id": "f34ad0da",
   "metadata": {},
   "outputs": [
    {
     "name": "stdout",
     "output_type": "stream",
     "text": [
      "[[7105  230]\n",
      " [2851 2450]]\n"
     ]
    }
   ],
   "source": [
    "# create confusion matrix\n",
    "cf_matrix_Multinomial_vect = confusion_matrix(Y_test, y_pred_NB_Multinomial_vect)\n",
    "print(cf_matrix_Multinomial_vect)\n"
   ]
  },
  {
   "cell_type": "code",
   "execution_count": 45,
   "id": "0bce9e7a",
   "metadata": {
    "scrolled": true
   },
   "outputs": [
    {
     "data": {
      "image/png": "[encoded data removed]",
      "text/plain": [
       "<Figure size 640x480 with 2 Axes>"
      ]
     },
     "metadata": {},
     "output_type": "display_data"
    }
   ],
   "source": [
    "# absolute values\n",
    "fig, ax = plot_confusion_matrix(conf_mat=cf_matrix_Multinomial_vect,\n",
    "                                colorbar=True)\n",
    "\n",
    "plt.show()"
   ]
  },
  {
   "cell_type": "code",
   "execution_count": 59,
   "id": "34399e85",
   "metadata": {},
   "outputs": [
    {
     "data": {
      "text/plain": [
       "<Axes: >"
      ]
     },
     "execution_count": 59,
     "metadata": {},
     "output_type": "execute_result"
    },
    {
     "data": {
      "image/png": "[encoded data removed]",
      "text/plain": [
       "<Figure size 640x480 with 2 Axes>"
      ]
     },
     "metadata": {},
     "output_type": "display_data"
    }
   ],
   "source": [
    "# percent\n",
    "sns.heatmap(cf_matrix_Multinomial_vect/np.sum(cf_matrix_Multinomial_vect), annot=True, \n",
    "            fmt='.2%', cmap='Blues')"
   ]
  },
  {
   "cell_type": "code",
   "execution_count": null,
   "id": "82f35f58",
   "metadata": {},
   "outputs": [],
   "source": []
  },
  {
   "cell_type": "code",
   "execution_count": null,
   "id": "0f908775",
   "metadata": {},
   "outputs": [],
   "source": []
  },
  {
   "cell_type": "code",
   "execution_count": null,
   "id": "2b6e611f",
   "metadata": {},
   "outputs": [],
   "source": []
  },
  {
   "cell_type": "markdown",
   "id": "1519fb52",
   "metadata": {},
   "source": [
    "# COMPLEMENT NAIVE BAYES\n"
   ]
  },
  {
   "cell_type": "code",
   "execution_count": 46,
   "id": "c389f919",
   "metadata": {},
   "outputs": [],
   "source": [
    "from sklearn.naive_bayes import ComplementNB\n",
    "clf_compl_vect = ComplementNB()\n"
   ]
  },
  {
   "cell_type": "code",
   "execution_count": 47,
   "id": "266fc172",
   "metadata": {},
   "outputs": [
    {
     "data": {
      "text/html": [
       "<style>#sk-container-id-4 {color: black;background-color: white;}#sk-container-id-4 pre{padding: 0;}#sk-container-id-4 div.sk-toggleable {background-color: white;}#sk-container-id-4 label.sk-toggleable__label {cursor: pointer;display: block;width: 100%;margin-bottom: 0;padding: 0.3em;box-sizing: border-box;text-align: center;}#sk-container-id-4 label.sk-toggleable__label-arrow:before {content: \"▸\";float: left;margin-right: 0.25em;color: #696969;}#sk-container-id-4 label.sk-toggleable__label-arrow:hover:before {color: black;}#sk-container-id-4 div.sk-estimator:hover label.sk-toggleable__label-arrow:before {color: black;}#sk-container-id-4 div.sk-toggleable__content {max-height: 0;max-width: 0;overflow: hidden;text-align: left;background-color: #f0f8ff;}#sk-container-id-4 div.sk-toggleable__content pre {margin: 0.2em;color: black;border-radius: 0.25em;background-color: #f0f8ff;}#sk-container-id-4 input.sk-toggleable__control:checked~div.sk-toggleable__content {max-height: 200px;max-width: 100%;overflow: auto;}#sk-container-id-4 input.sk-toggleable__control:checked~label.sk-toggleable__label-arrow:before {content: \"▾\";}#sk-container-id-4 div.sk-estimator input.sk-toggleable__control:checked~label.sk-toggleable__label {background-color: #d4ebff;}#sk-container-id-4 div.sk-label input.sk-toggleable__control:checked~label.sk-toggleable__label {background-color: #d4ebff;}#sk-container-id-4 input.sk-hidden--visually {border: 0;clip: rect(1px 1px 1px 1px);clip: rect(1px, 1px, 1px, 1px);height: 1px;margin: -1px;overflow: hidden;padding: 0;position: absolute;width: 1px;}#sk-container-id-4 div.sk-estimator {font-family: monospace;background-color: #f0f8ff;border: 1px dotted black;border-radius: 0.25em;box-sizing: border-box;margin-bottom: 0.5em;}#sk-container-id-4 div.sk-estimator:hover {background-color: #d4ebff;}#sk-container-id-4 div.sk-parallel-item::after {content: \"\";width: 100%;border-bottom: 1px solid gray;flex-grow: 1;}#sk-container-id-4 div.sk-label:hover label.sk-toggleable__label {background-color: #d4ebff;}#sk-container-id-4 div.sk-serial::before {content: \"\";position: absolute;border-left: 1px solid gray;box-sizing: border-box;top: 0;bottom: 0;left: 50%;z-index: 0;}#sk-container-id-4 div.sk-serial {display: flex;flex-direction: column;align-items: center;background-color: white;padding-right: 0.2em;padding-left: 0.2em;position: relative;}#sk-container-id-4 div.sk-item {position: relative;z-index: 1;}#sk-container-id-4 div.sk-parallel {display: flex;align-items: stretch;justify-content: center;background-color: white;position: relative;}#sk-container-id-4 div.sk-item::before, #sk-container-id-4 div.sk-parallel-item::before {content: \"\";position: absolute;border-left: 1px solid gray;box-sizing: border-box;top: 0;bottom: 0;left: 50%;z-index: -1;}#sk-container-id-4 div.sk-parallel-item {display: flex;flex-direction: column;z-index: 1;position: relative;background-color: white;}#sk-container-id-4 div.sk-parallel-item:first-child::after {align-self: flex-end;width: 50%;}#sk-container-id-4 div.sk-parallel-item:last-child::after {align-self: flex-start;width: 50%;}#sk-container-id-4 div.sk-parallel-item:only-child::after {width: 0;}#sk-container-id-4 div.sk-dashed-wrapped {border: 1px dashed gray;margin: 0 0.4em 0.5em 0.4em;box-sizing: border-box;padding-bottom: 0.4em;background-color: white;}#sk-container-id-4 div.sk-label label {font-family: monospace;font-weight: bold;display: inline-block;line-height: 1.2em;}#sk-container-id-4 div.sk-label-container {text-align: center;}#sk-container-id-4 div.sk-container {/* jupyter's `normalize.less` sets `[hidden] { display: none; }` but bootstrap.min.css set `[hidden] { display: none !important; }` so we also need the `!important` here to be able to override the default hidden behavior on the sphinx rendered scikit-learn.org. See: https://github.com/scikit-learn/scikit-learn/issues/21755 */display: inline-block !important;position: relative;}#sk-container-id-4 div.sk-text-repr-fallback {display: none;}</style><div id=\"sk-container-id-4\" class=\"sk-top-container\"><div class=\"sk-text-repr-fallback\"><pre>ComplementNB()</pre><b>In a Jupyter environment, please rerun this cell to show the HTML representation or trust the notebook. <br />On GitHub, the HTML representation is unable to render, please try loading this page with nbviewer.org.</b></div><div class=\"sk-container\" hidden><div class=\"sk-item\"><div class=\"sk-estimator sk-toggleable\"><input class=\"sk-toggleable__control sk-hidden--visually\" id=\"sk-estimator-id-4\" type=\"checkbox\" checked><label for=\"sk-estimator-id-4\" class=\"sk-toggleable__label sk-toggleable__label-arrow\">ComplementNB</label><div class=\"sk-toggleable__content\"><pre>ComplementNB()</pre></div></div></div></div></div>"
      ],
      "text/plain": [
       "ComplementNB()"
      ]
     },
     "execution_count": 47,
     "metadata": {},
     "output_type": "execute_result"
    }
   ],
   "source": [
    "# fit model\n",
    "clf_compl_vect.fit(X_train_text, Y_train)\n"
   ]
  },
  {
   "cell_type": "code",
   "execution_count": 48,
   "id": "0a4102ec",
   "metadata": {},
   "outputs": [
    {
     "data": {
      "text/plain": [
       "0.7752453308008863"
      ]
     },
     "execution_count": 48,
     "metadata": {},
     "output_type": "execute_result"
    }
   ],
   "source": [
    "# get accuracy\n",
    "accuracyNB_Complement_vect = clf_compl_vect.score(X_test_text, Y_test)\n",
    "accuracyNB_Complement_vect\n",
    "\n",
    "# 0.77"
   ]
  },
  {
   "cell_type": "code",
   "execution_count": 49,
   "id": "2662630a",
   "metadata": {},
   "outputs": [
    {
     "data": {
      "text/html": [
       "<div>\n",
       "<style scoped>\n",
       "    .dataframe tbody tr th:only-of-type {\n",
       "        vertical-align: middle;\n",
       "    }\n",
       "\n",
       "    .dataframe tbody tr th {\n",
       "        vertical-align: top;\n",
       "    }\n",
       "\n",
       "    .dataframe thead th {\n",
       "        text-align: right;\n",
       "    }\n",
       "</style>\n",
       "<table border=\"1\" class=\"dataframe\">\n",
       "  <thead>\n",
       "    <tr style=\"text-align: right;\">\n",
       "      <th>predict</th>\n",
       "      <th>0.0</th>\n",
       "      <th>1.0</th>\n",
       "    </tr>\n",
       "    <tr>\n",
       "      <th>real</th>\n",
       "      <th></th>\n",
       "      <th></th>\n",
       "    </tr>\n",
       "  </thead>\n",
       "  <tbody>\n",
       "    <tr>\n",
       "      <th>0.0</th>\n",
       "      <td>6964</td>\n",
       "      <td>371</td>\n",
       "    </tr>\n",
       "    <tr>\n",
       "      <th>1.0</th>\n",
       "      <td>2469</td>\n",
       "      <td>2832</td>\n",
       "    </tr>\n",
       "  </tbody>\n",
       "</table>\n",
       "</div>"
      ],
      "text/plain": [
       "predict   0.0   1.0\n",
       "real               \n",
       "0.0      6964   371\n",
       "1.0      2469  2832"
      ]
     },
     "execution_count": 49,
     "metadata": {},
     "output_type": "execute_result"
    }
   ],
   "source": [
    "# get confusion matrix\n",
    "y_pred_NB_Complement_vect = clf_compl_vect.predict(X_test_text)\n",
    "pd.crosstab(Y_test, y_pred_NB_Complement_vect, rownames=[\"real\"], colnames=[\"predict\"])\n"
   ]
  },
  {
   "cell_type": "code",
   "execution_count": 50,
   "id": "311b6e7e",
   "metadata": {},
   "outputs": [
    {
     "name": "stdout",
     "output_type": "stream",
     "text": [
      "Naive Bayes Complement vect classification report:\n",
      "                precision    recall  f1-score   support\n",
      "\n",
      "         0.0       0.74      0.95      0.83      7335\n",
      "         1.0       0.88      0.53      0.67      5301\n",
      "\n",
      "    accuracy                           0.78     12636\n",
      "   macro avg       0.81      0.74      0.75     12636\n",
      "weighted avg       0.80      0.78      0.76     12636\n",
      "\n"
     ]
    }
   ],
   "source": [
    "from sklearn.metrics import classification_report \n",
    "\n",
    "# get classification report\n",
    "print(\"Naive Bayes Complement vect classification report:\\n \", classification_report (Y_test, y_pred_NB_Complement_vect))\n"
   ]
  },
  {
   "cell_type": "code",
   "execution_count": 51,
   "id": "6a6cd63b",
   "metadata": {},
   "outputs": [
    {
     "name": "stdout",
     "output_type": "stream",
     "text": [
      "[[6964  371]\n",
      " [2469 2832]]\n"
     ]
    }
   ],
   "source": [
    "# create confusion matrix\n",
    "cf_matrix_Complement_vect = confusion_matrix(Y_test, y_pred_NB_Complement_vect)\n",
    "print(cf_matrix_Complement_vect)\n"
   ]
  },
  {
   "cell_type": "code",
   "execution_count": 52,
   "id": "864f76c2",
   "metadata": {},
   "outputs": [
    {
     "data": {
      "image/png": "[encoded data removed]",
      "text/plain": [
       "<Figure size 640x480 with 2 Axes>"
      ]
     },
     "metadata": {},
     "output_type": "display_data"
    }
   ],
   "source": [
    "# absolute values\n",
    "fig, ax = plot_confusion_matrix(conf_mat=cf_matrix_Complement_vect,\n",
    "                                colorbar=True)\n",
    "\n",
    "plt.show();\n"
   ]
  },
  {
   "cell_type": "code",
   "execution_count": 53,
   "id": "bd4e027d",
   "metadata": {},
   "outputs": [
    {
     "data": {
      "image/png": "[encoded data removed]",
      "text/plain": [
       "<Figure size 640x480 with 2 Axes>"
      ]
     },
     "metadata": {},
     "output_type": "display_data"
    }
   ],
   "source": [
    "# percent\n",
    "sns.heatmap(cf_matrix_Complement_vect/np.sum(cf_matrix_Complement_vect), annot=True, \n",
    "            fmt='.2%', cmap='Blues');\n"
   ]
  },
  {
   "cell_type": "code",
   "execution_count": null,
   "id": "6d229d5e",
   "metadata": {},
   "outputs": [],
   "source": []
  },
  {
   "cell_type": "code",
   "execution_count": null,
   "id": "6a2a8977",
   "metadata": {},
   "outputs": [],
   "source": []
  },
  {
   "cell_type": "code",
   "execution_count": null,
   "id": "ad3277c7",
   "metadata": {},
   "outputs": [],
   "source": []
  },
  {
   "cell_type": "markdown",
   "id": "3daa6b2f",
   "metadata": {},
   "source": [
    "# Create NAIVE BAYES Gaussian\n",
    "# not possible due to memory error\n"
   ]
  },
  {
   "cell_type": "code",
   "execution_count": null,
   "id": "dd5ed69d",
   "metadata": {},
   "outputs": [],
   "source": [
    "# transform to avoid sparse matrix\n",
    "# Convert sparse matrix to dense numpy array\n",
    "# X_train_text_dense = X_train_text.toarray()\n"
   ]
  },
  {
   "cell_type": "code",
   "execution_count": 143,
   "id": "767ba3a6",
   "metadata": {},
   "outputs": [],
   "source": [
    "# from sklearn.naive_bayes import GaussianNB\n",
    "# clf_gau_vect = GaussianNB()\n"
   ]
  },
  {
   "cell_type": "code",
   "execution_count": null,
   "id": "ac29bd27",
   "metadata": {},
   "outputs": [],
   "source": [
    "# clf_gau_vect.fit(X_train_text, Y_train)\n"
   ]
  },
  {
   "cell_type": "code",
   "execution_count": null,
   "id": "a1e3eabb",
   "metadata": {},
   "outputs": [],
   "source": [
    "# get accuracy\n",
    "# accuracyNB_Gaussian_vect = clf_gau_vect.score(X_test_text, y_test)\n",
    "# accuracyNB_Gaussian_vect\n"
   ]
  },
  {
   "cell_type": "code",
   "execution_count": null,
   "id": "7c836a89",
   "metadata": {},
   "outputs": [],
   "source": [
    "# get confusion matrix\n",
    "# y_pred_NB_Gaussian_vect = clf_gau_vect.predict(X_test_text)\n",
    "# pd.crosstab(y_test, y_pred_NB_Gaussian_vect, rownames=[\"real\"], colnames=[\"predict\"])\n"
   ]
  },
  {
   "cell_type": "code",
   "execution_count": null,
   "id": "9304ff96",
   "metadata": {},
   "outputs": [],
   "source": [
    "# from sklearn.metrics import classification_report \n",
    "\n",
    "# get classification report\n",
    "# print(\"Naive Bayes Gaussian vect classification report:\\n \", classification_report (y_test, y_pred_NB_Gaussian_vect))\n",
    "\n",
    "# really bad overall\n"
   ]
  },
  {
   "cell_type": "code",
   "execution_count": null,
   "id": "37104aec",
   "metadata": {},
   "outputs": [],
   "source": [
    "# create confusion matrix\n",
    "# cf_matrix_Gaussian_vect = confusion_matrix(y_test, y_pred_NB_Gaussian_vect)\n",
    "# print(cf_matrix_Gaussian_vect)\n"
   ]
  },
  {
   "cell_type": "code",
   "execution_count": null,
   "id": "4d4350d0",
   "metadata": {},
   "outputs": [],
   "source": []
  },
  {
   "cell_type": "code",
   "execution_count": null,
   "id": "0a764c28",
   "metadata": {},
   "outputs": [],
   "source": []
  },
  {
   "cell_type": "code",
   "execution_count": null,
   "id": "eaed4c55",
   "metadata": {},
   "outputs": [],
   "source": []
  },
  {
   "cell_type": "markdown",
   "id": "c238c816",
   "metadata": {},
   "source": [
    "# GradientBoosting Model\n"
   ]
  },
  {
   "cell_type": "code",
   "execution_count": 54,
   "id": "4f2c7423",
   "metadata": {},
   "outputs": [],
   "source": [
    "from sklearn.ensemble import GradientBoostingClassifier\n",
    "from sklearn.model_selection import train_test_split\n",
    "from sklearn.metrics import accuracy_score\n",
    "\n",
    "# Create a GradientBoostingClassifier object\n",
    "GradBoost_vect = GradientBoostingClassifier(n_estimators=100, learning_rate=0.1, max_depth=3)\n"
   ]
  },
  {
   "cell_type": "code",
   "execution_count": 55,
   "id": "7124a108",
   "metadata": {},
   "outputs": [
    {
     "data": {
      "text/html": [
       "<style>#sk-container-id-5 {color: black;background-color: white;}#sk-container-id-5 pre{padding: 0;}#sk-container-id-5 div.sk-toggleable {background-color: white;}#sk-container-id-5 label.sk-toggleable__label {cursor: pointer;display: block;width: 100%;margin-bottom: 0;padding: 0.3em;box-sizing: border-box;text-align: center;}#sk-container-id-5 label.sk-toggleable__label-arrow:before {content: \"▸\";float: left;margin-right: 0.25em;color: #696969;}#sk-container-id-5 label.sk-toggleable__label-arrow:hover:before {color: black;}#sk-container-id-5 div.sk-estimator:hover label.sk-toggleable__label-arrow:before {color: black;}#sk-container-id-5 div.sk-toggleable__content {max-height: 0;max-width: 0;overflow: hidden;text-align: left;background-color: #f0f8ff;}#sk-container-id-5 div.sk-toggleable__content pre {margin: 0.2em;color: black;border-radius: 0.25em;background-color: #f0f8ff;}#sk-container-id-5 input.sk-toggleable__control:checked~div.sk-toggleable__content {max-height: 200px;max-width: 100%;overflow: auto;}#sk-container-id-5 input.sk-toggleable__control:checked~label.sk-toggleable__label-arrow:before {content: \"▾\";}#sk-container-id-5 div.sk-estimator input.sk-toggleable__control:checked~label.sk-toggleable__label {background-color: #d4ebff;}#sk-container-id-5 div.sk-label input.sk-toggleable__control:checked~label.sk-toggleable__label {background-color: #d4ebff;}#sk-container-id-5 input.sk-hidden--visually {border: 0;clip: rect(1px 1px 1px 1px);clip: rect(1px, 1px, 1px, 1px);height: 1px;margin: -1px;overflow: hidden;padding: 0;position: absolute;width: 1px;}#sk-container-id-5 div.sk-estimator {font-family: monospace;background-color: #f0f8ff;border: 1px dotted black;border-radius: 0.25em;box-sizing: border-box;margin-bottom: 0.5em;}#sk-container-id-5 div.sk-estimator:hover {background-color: #d4ebff;}#sk-container-id-5 div.sk-parallel-item::after {content: \"\";width: 100%;border-bottom: 1px solid gray;flex-grow: 1;}#sk-container-id-5 div.sk-label:hover label.sk-toggleable__label {background-color: #d4ebff;}#sk-container-id-5 div.sk-serial::before {content: \"\";position: absolute;border-left: 1px solid gray;box-sizing: border-box;top: 0;bottom: 0;left: 50%;z-index: 0;}#sk-container-id-5 div.sk-serial {display: flex;flex-direction: column;align-items: center;background-color: white;padding-right: 0.2em;padding-left: 0.2em;position: relative;}#sk-container-id-5 div.sk-item {position: relative;z-index: 1;}#sk-container-id-5 div.sk-parallel {display: flex;align-items: stretch;justify-content: center;background-color: white;position: relative;}#sk-container-id-5 div.sk-item::before, #sk-container-id-5 div.sk-parallel-item::before {content: \"\";position: absolute;border-left: 1px solid gray;box-sizing: border-box;top: 0;bottom: 0;left: 50%;z-index: -1;}#sk-container-id-5 div.sk-parallel-item {display: flex;flex-direction: column;z-index: 1;position: relative;background-color: white;}#sk-container-id-5 div.sk-parallel-item:first-child::after {align-self: flex-end;width: 50%;}#sk-container-id-5 div.sk-parallel-item:last-child::after {align-self: flex-start;width: 50%;}#sk-container-id-5 div.sk-parallel-item:only-child::after {width: 0;}#sk-container-id-5 div.sk-dashed-wrapped {border: 1px dashed gray;margin: 0 0.4em 0.5em 0.4em;box-sizing: border-box;padding-bottom: 0.4em;background-color: white;}#sk-container-id-5 div.sk-label label {font-family: monospace;font-weight: bold;display: inline-block;line-height: 1.2em;}#sk-container-id-5 div.sk-label-container {text-align: center;}#sk-container-id-5 div.sk-container {/* jupyter's `normalize.less` sets `[hidden] { display: none; }` but bootstrap.min.css set `[hidden] { display: none !important; }` so we also need the `!important` here to be able to override the default hidden behavior on the sphinx rendered scikit-learn.org. See: https://github.com/scikit-learn/scikit-learn/issues/21755 */display: inline-block !important;position: relative;}#sk-container-id-5 div.sk-text-repr-fallback {display: none;}</style><div id=\"sk-container-id-5\" class=\"sk-top-container\"><div class=\"sk-text-repr-fallback\"><pre>GradientBoostingClassifier()</pre><b>In a Jupyter environment, please rerun this cell to show the HTML representation or trust the notebook. <br />On GitHub, the HTML representation is unable to render, please try loading this page with nbviewer.org.</b></div><div class=\"sk-container\" hidden><div class=\"sk-item\"><div class=\"sk-estimator sk-toggleable\"><input class=\"sk-toggleable__control sk-hidden--visually\" id=\"sk-estimator-id-5\" type=\"checkbox\" checked><label for=\"sk-estimator-id-5\" class=\"sk-toggleable__label sk-toggleable__label-arrow\">GradientBoostingClassifier</label><div class=\"sk-toggleable__content\"><pre>GradientBoostingClassifier()</pre></div></div></div></div></div>"
      ],
      "text/plain": [
       "GradientBoostingClassifier()"
      ]
     },
     "execution_count": 55,
     "metadata": {},
     "output_type": "execute_result"
    }
   ],
   "source": [
    "# Fit the model on the training data\n",
    "GradBoost_vect.fit(X_train_text, Y_train)\n",
    "\n",
    "# takes 15 minutes"
   ]
  },
  {
   "cell_type": "code",
   "execution_count": 56,
   "id": "111efc3c",
   "metadata": {},
   "outputs": [],
   "source": [
    "# Make predictions on the test data\n",
    "y_pred_GradBoost_vect = GradBoost_vect.predict(X_test_text)\n"
   ]
  },
  {
   "cell_type": "code",
   "execution_count": 58,
   "id": "554a2c35",
   "metadata": {},
   "outputs": [
    {
     "data": {
      "text/plain": [
       "0.785375118708452"
      ]
     },
     "execution_count": 58,
     "metadata": {},
     "output_type": "execute_result"
    }
   ],
   "source": [
    "# Evaluate the model\n",
    "accuracy_GradBoost_vect = accuracy_score(Y_test, y_pred_GradBoost_vect)\n",
    "accuracy_GradBoost_vect\n",
    "\n",
    "# 0.78"
   ]
  },
  {
   "cell_type": "code",
   "execution_count": 59,
   "id": "4d826557",
   "metadata": {},
   "outputs": [
    {
     "data": {
      "text/html": [
       "<div>\n",
       "<style scoped>\n",
       "    .dataframe tbody tr th:only-of-type {\n",
       "        vertical-align: middle;\n",
       "    }\n",
       "\n",
       "    .dataframe tbody tr th {\n",
       "        vertical-align: top;\n",
       "    }\n",
       "\n",
       "    .dataframe thead th {\n",
       "        text-align: right;\n",
       "    }\n",
       "</style>\n",
       "<table border=\"1\" class=\"dataframe\">\n",
       "  <thead>\n",
       "    <tr style=\"text-align: right;\">\n",
       "      <th>predict</th>\n",
       "      <th>0.0</th>\n",
       "      <th>1.0</th>\n",
       "    </tr>\n",
       "    <tr>\n",
       "      <th>real</th>\n",
       "      <th></th>\n",
       "      <th></th>\n",
       "    </tr>\n",
       "  </thead>\n",
       "  <tbody>\n",
       "    <tr>\n",
       "      <th>0.0</th>\n",
       "      <td>6463</td>\n",
       "      <td>872</td>\n",
       "    </tr>\n",
       "    <tr>\n",
       "      <th>1.0</th>\n",
       "      <td>1840</td>\n",
       "      <td>3461</td>\n",
       "    </tr>\n",
       "  </tbody>\n",
       "</table>\n",
       "</div>"
      ],
      "text/plain": [
       "predict   0.0   1.0\n",
       "real               \n",
       "0.0      6463   872\n",
       "1.0      1840  3461"
      ]
     },
     "execution_count": 59,
     "metadata": {},
     "output_type": "execute_result"
    }
   ],
   "source": [
    "# Get crosstab\n",
    "pd.crosstab(Y_test, y_pred_GradBoost_vect, rownames=[\"real\"], colnames=[\"predict\"])\n"
   ]
  },
  {
   "cell_type": "code",
   "execution_count": 60,
   "id": "6f5f3356",
   "metadata": {},
   "outputs": [
    {
     "name": "stdout",
     "output_type": "stream",
     "text": [
      "GradientBoosting vect classification report:\n",
      "                precision    recall  f1-score   support\n",
      "\n",
      "         0.0       0.78      0.88      0.83      7335\n",
      "         1.0       0.80      0.65      0.72      5301\n",
      "\n",
      "    accuracy                           0.79     12636\n",
      "   macro avg       0.79      0.77      0.77     12636\n",
      "weighted avg       0.79      0.79      0.78     12636\n",
      "\n"
     ]
    }
   ],
   "source": [
    "from sklearn.metrics import classification_report \n",
    "\n",
    "# get classification report\n",
    "print(\"GradientBoosting vect classification report:\\n \", classification_report (Y_test, y_pred_GradBoost_vect))\n"
   ]
  },
  {
   "cell_type": "code",
   "execution_count": 61,
   "id": "4fbb8d39",
   "metadata": {},
   "outputs": [
    {
     "name": "stdout",
     "output_type": "stream",
     "text": [
      "[[6463  872]\n",
      " [1840 3461]]\n"
     ]
    }
   ],
   "source": [
    "# create confusion matrix\n",
    "cf_matrix_GradBoost_vect = confusion_matrix(Y_test, y_pred_GradBoost_vect)\n",
    "print(cf_matrix_GradBoost_vect)\n"
   ]
  },
  {
   "cell_type": "code",
   "execution_count": null,
   "id": "9180dc7c",
   "metadata": {},
   "outputs": [],
   "source": []
  },
  {
   "cell_type": "code",
   "execution_count": null,
   "id": "794c4f68",
   "metadata": {},
   "outputs": [],
   "source": []
  },
  {
   "cell_type": "code",
   "execution_count": null,
   "id": "eedcb022",
   "metadata": {},
   "outputs": [],
   "source": []
  },
  {
   "cell_type": "markdown",
   "id": "9933b50d",
   "metadata": {},
   "source": [
    "# CatBoost Model"
   ]
  },
  {
   "cell_type": "code",
   "execution_count": 62,
   "id": "6453d914",
   "metadata": {},
   "outputs": [],
   "source": [
    "# import catboost as cb\n",
    "# from sklearn.model_selection import train_test_split\n",
    "# from sklearn.metrics import accuracy_score\n",
    "\n",
    "# Create a CatBoost classifier object\n",
    "# catboost_vect = cb.CatBoostClassifier(iterations=100, learning_rate=0.1, depth=6, loss_function='Logloss')\n"
   ]
  },
  {
   "cell_type": "code",
   "execution_count": null,
   "id": "895243c0",
   "metadata": {},
   "outputs": [],
   "source": [
    "# Fit the model on the training data\n",
    "# catboost_vect.fit(X_train_text, Y_train)\n",
    "\n",
    "# creates error :-(\n"
   ]
  },
  {
   "cell_type": "code",
   "execution_count": null,
   "id": "f7c26dd8",
   "metadata": {},
   "outputs": [],
   "source": [
    "# get accuracy\n",
    "# accuracy_CatBoost_vect = catboost_vect.score(X_test_text, Y_test)\n",
    "# accuracy_CatBoost_vect"
   ]
  },
  {
   "cell_type": "code",
   "execution_count": 59,
   "id": "b1962a90",
   "metadata": {},
   "outputs": [],
   "source": [
    "# Make predictions on the test data\n",
    "# y_pred_catboost_vect = catboost_vect.predict(X_test_text)\n"
   ]
  },
  {
   "cell_type": "code",
   "execution_count": null,
   "id": "18b0b938",
   "metadata": {},
   "outputs": [],
   "source": [
    "# Get crosstab\n",
    "# pd.crosstab(Y_test, y_pred_catboost_vect, rownames=[\"real\"], colnames=[\"predict\"])\n"
   ]
  },
  {
   "cell_type": "code",
   "execution_count": null,
   "id": "cf022fb0",
   "metadata": {},
   "outputs": [],
   "source": [
    "# from sklearn.metrics import classification_report \n",
    "\n",
    "# get classification report\n",
    "# print(\"CatBoost vect classification report:\\n \", classification_report (y_test, y_pred_catboost_vect))\n"
   ]
  },
  {
   "cell_type": "code",
   "execution_count": null,
   "id": "ea25d4ce",
   "metadata": {},
   "outputs": [],
   "source": []
  },
  {
   "cell_type": "code",
   "execution_count": null,
   "id": "8c307983",
   "metadata": {},
   "outputs": [],
   "source": []
  },
  {
   "cell_type": "code",
   "execution_count": null,
   "id": "99047d9c",
   "metadata": {},
   "outputs": [],
   "source": []
  },
  {
   "cell_type": "markdown",
   "id": "1de7df85",
   "metadata": {},
   "source": [
    "# XGBoost"
   ]
  },
  {
   "cell_type": "code",
   "execution_count": 65,
   "id": "a08aff42",
   "metadata": {},
   "outputs": [],
   "source": [
    "import xgboost as xgb\n",
    "from sklearn.model_selection import train_test_split\n",
    "from sklearn.metrics import accuracy_score\n",
    "\n",
    "# Create a DMatrix for training and testing data\n",
    "dtrain_vect = xgb.DMatrix(X_train_text, label=Y_train)\n",
    "dtest_vect = xgb.DMatrix(X_test_text, label=Y_test)\n"
   ]
  },
  {
   "cell_type": "code",
   "execution_count": 66,
   "id": "c506d4b8",
   "metadata": {},
   "outputs": [],
   "source": [
    "# Set the hyperparameters for XGBoost\n",
    "params_XGBoost = {\n",
    "    'max_depth': 3,\n",
    "    'eta': 0.1,\n",
    "    'objective': 'binary:logistic',\n",
    "    'eval_metric': 'logloss'\n",
    "}\n"
   ]
  },
  {
   "cell_type": "code",
   "execution_count": 67,
   "id": "2eabeed4",
   "metadata": {},
   "outputs": [],
   "source": [
    "# Train the model\n",
    "XGBoostmodel_vect = xgb.train(params_XGBoost, dtrain_vect, num_boost_round=100)\n"
   ]
  },
  {
   "cell_type": "code",
   "execution_count": 68,
   "id": "e850e7fe",
   "metadata": {},
   "outputs": [],
   "source": [
    "# Make predictions on the test data\n",
    "y_pred_XGBoost_vect = XGBoostmodel_vect.predict(dtest_vect)\n",
    "y_pred_binary_vect = [1 if pred >= 0.5 else 0 for pred in y_pred_XGBoost_vect]\n"
   ]
  },
  {
   "cell_type": "code",
   "execution_count": 69,
   "id": "c1918877",
   "metadata": {},
   "outputs": [
    {
     "data": {
      "text/plain": [
       "0.7805476416587528"
      ]
     },
     "execution_count": 69,
     "metadata": {},
     "output_type": "execute_result"
    }
   ],
   "source": [
    "# Evaluate the model\n",
    "accuracy_XGBoost_vect = accuracy_score(Y_test, y_pred_binary_vect)\n",
    "accuracy_XGBoost_vect\n",
    "\n",
    "# 0.78"
   ]
  },
  {
   "cell_type": "code",
   "execution_count": 70,
   "id": "3707f889",
   "metadata": {},
   "outputs": [
    {
     "data": {
      "text/html": [
       "<div>\n",
       "<style scoped>\n",
       "    .dataframe tbody tr th:only-of-type {\n",
       "        vertical-align: middle;\n",
       "    }\n",
       "\n",
       "    .dataframe tbody tr th {\n",
       "        vertical-align: top;\n",
       "    }\n",
       "\n",
       "    .dataframe thead th {\n",
       "        text-align: right;\n",
       "    }\n",
       "</style>\n",
       "<table border=\"1\" class=\"dataframe\">\n",
       "  <thead>\n",
       "    <tr style=\"text-align: right;\">\n",
       "      <th>predict</th>\n",
       "      <th>0.033836</th>\n",
       "      <th>0.036243</th>\n",
       "      <th>0.041827</th>\n",
       "      <th>0.043954</th>\n",
       "      <th>0.045705</th>\n",
       "      <th>0.046142</th>\n",
       "      <th>0.046245</th>\n",
       "      <th>0.050716</th>\n",
       "      <th>0.052293</th>\n",
       "      <th>0.052445</th>\n",
       "      <th>...</th>\n",
       "      <th>0.980226</th>\n",
       "      <th>0.980302</th>\n",
       "      <th>0.981011</th>\n",
       "      <th>0.981275</th>\n",
       "      <th>0.982047</th>\n",
       "      <th>0.983670</th>\n",
       "      <th>0.983823</th>\n",
       "      <th>0.983967</th>\n",
       "      <th>0.983986</th>\n",
       "      <th>0.992323</th>\n",
       "    </tr>\n",
       "    <tr>\n",
       "      <th>real</th>\n",
       "      <th></th>\n",
       "      <th></th>\n",
       "      <th></th>\n",
       "      <th></th>\n",
       "      <th></th>\n",
       "      <th></th>\n",
       "      <th></th>\n",
       "      <th></th>\n",
       "      <th></th>\n",
       "      <th></th>\n",
       "      <th></th>\n",
       "      <th></th>\n",
       "      <th></th>\n",
       "      <th></th>\n",
       "      <th></th>\n",
       "      <th></th>\n",
       "      <th></th>\n",
       "      <th></th>\n",
       "      <th></th>\n",
       "      <th></th>\n",
       "      <th></th>\n",
       "    </tr>\n",
       "  </thead>\n",
       "  <tbody>\n",
       "    <tr>\n",
       "      <th>0.0</th>\n",
       "      <td>1</td>\n",
       "      <td>1</td>\n",
       "      <td>1</td>\n",
       "      <td>1</td>\n",
       "      <td>1</td>\n",
       "      <td>1</td>\n",
       "      <td>1</td>\n",
       "      <td>1</td>\n",
       "      <td>1</td>\n",
       "      <td>1</td>\n",
       "      <td>...</td>\n",
       "      <td>0</td>\n",
       "      <td>0</td>\n",
       "      <td>0</td>\n",
       "      <td>0</td>\n",
       "      <td>0</td>\n",
       "      <td>0</td>\n",
       "      <td>0</td>\n",
       "      <td>0</td>\n",
       "      <td>0</td>\n",
       "      <td>0</td>\n",
       "    </tr>\n",
       "    <tr>\n",
       "      <th>1.0</th>\n",
       "      <td>0</td>\n",
       "      <td>0</td>\n",
       "      <td>0</td>\n",
       "      <td>0</td>\n",
       "      <td>0</td>\n",
       "      <td>0</td>\n",
       "      <td>0</td>\n",
       "      <td>0</td>\n",
       "      <td>0</td>\n",
       "      <td>0</td>\n",
       "      <td>...</td>\n",
       "      <td>1</td>\n",
       "      <td>1</td>\n",
       "      <td>1</td>\n",
       "      <td>1</td>\n",
       "      <td>1</td>\n",
       "      <td>1</td>\n",
       "      <td>1</td>\n",
       "      <td>1</td>\n",
       "      <td>1</td>\n",
       "      <td>1</td>\n",
       "    </tr>\n",
       "  </tbody>\n",
       "</table>\n",
       "<p>2 rows × 10195 columns</p>\n",
       "</div>"
      ],
      "text/plain": [
       "predict  0.033836  0.036243  0.041827  0.043954  0.045705  0.046142  0.046245  \\\n",
       "real                                                                            \n",
       "0.0             1         1         1         1         1         1         1   \n",
       "1.0             0         0         0         0         0         0         0   \n",
       "\n",
       "predict  0.050716  0.052293  0.052445  ...  0.980226  0.980302  0.981011  \\\n",
       "real                                   ...                                 \n",
       "0.0             1         1         1  ...         0         0         0   \n",
       "1.0             0         0         0  ...         1         1         1   \n",
       "\n",
       "predict  0.981275  0.982047  0.983670  0.983823  0.983967  0.983986  0.992323  \n",
       "real                                                                           \n",
       "0.0             0         0         0         0         0         0         0  \n",
       "1.0             1         1         1         1         1         1         1  \n",
       "\n",
       "[2 rows x 10195 columns]"
      ]
     },
     "execution_count": 70,
     "metadata": {},
     "output_type": "execute_result"
    }
   ],
   "source": [
    "# Create crosstab\n",
    "pd.crosstab(Y_test, y_pred_XGBoost_vect, rownames=[\"real\"], colnames=[\"predict\"])\n"
   ]
  },
  {
   "cell_type": "code",
   "execution_count": null,
   "id": "88c0c606",
   "metadata": {},
   "outputs": [],
   "source": [
    "from sklearn.metrics import classification_report \n",
    "\n",
    "# get classification report\n",
    "# print(\"XGBoost vect classification report:\\n \", classification_report (y_test, y_pred_XGBoost))\n",
    "\n",
    "# not possible"
   ]
  },
  {
   "cell_type": "code",
   "execution_count": null,
   "id": "b2e9d1cd",
   "metadata": {},
   "outputs": [],
   "source": []
  },
  {
   "cell_type": "code",
   "execution_count": null,
   "id": "31a27a33",
   "metadata": {},
   "outputs": [],
   "source": []
  },
  {
   "cell_type": "code",
   "execution_count": null,
   "id": "908f00c8",
   "metadata": {},
   "outputs": [],
   "source": []
  },
  {
   "cell_type": "markdown",
   "id": "2279b5e3",
   "metadata": {},
   "source": [
    "# CREATE KNN ON TEXT DATA\n",
    "# TAKES 2 hours!\n"
   ]
  },
  {
   "cell_type": "code",
   "execution_count": null,
   "id": "ccc7e760",
   "metadata": {},
   "outputs": [],
   "source": [
    "# STEP 3: Instantiate the model\n",
    "# from sklearn.neighbors import KNeighborsClassifier\n",
    "\n",
    "# knn = KNeighborsClassifier(n_neighbors = 6)\n"
   ]
  },
  {
   "cell_type": "code",
   "execution_count": null,
   "id": "44780164",
   "metadata": {},
   "outputs": [],
   "source": [
    "# STEP 4: Fit the model\n",
    "# knn.fit(X_train_text_scaled, y_train)\n"
   ]
  },
  {
   "cell_type": "code",
   "execution_count": null,
   "id": "52591574",
   "metadata": {},
   "outputs": [],
   "source": [
    "# STEP 5: Predict\n",
    "# y_pred_knn_vect = knn.predict(X_test_text_scaled)\n"
   ]
  },
  {
   "cell_type": "code",
   "execution_count": null,
   "id": "10625087",
   "metadata": {},
   "outputs": [],
   "source": [
    "# Evaluate\n",
    "# from sklearn.metrics import accuracy_score, precision_score, recall_score \n",
    "\n",
    "# pd.crosstab(y_test, y_pred_knn_vect, rownames = ['Reality'], colnames = ['Prediction'])\n",
    "\n",
    "### looks really bad!\n"
   ]
  },
  {
   "cell_type": "code",
   "execution_count": null,
   "id": "95ea8af6",
   "metadata": {},
   "outputs": [],
   "source": [
    "# STEP 8: Evaluate model with score\n",
    "# get accuracy\n",
    "# knn.score(X_test_text_scaled, y_test)\n"
   ]
  },
  {
   "cell_type": "code",
   "execution_count": null,
   "id": "1068656f",
   "metadata": {},
   "outputs": [],
   "source": [
    "# STEP 9: Evaluate model with classification report\n",
    "# from sklearn.metrics import classification_report \n",
    "\n",
    "# print(\"KNN vect classification report:\\n\", classification_report (y_test, y_pred_knn_vect))\n",
    "\n",
    "# quite bad overall...\n"
   ]
  },
  {
   "cell_type": "code",
   "execution_count": null,
   "id": "4696b9b2",
   "metadata": {},
   "outputs": [],
   "source": []
  },
  {
   "cell_type": "code",
   "execution_count": null,
   "id": "9371139d",
   "metadata": {},
   "outputs": [],
   "source": []
  },
  {
   "cell_type": "code",
   "execution_count": null,
   "id": "6839ce17",
   "metadata": {},
   "outputs": [],
   "source": []
  },
  {
   "cell_type": "markdown",
   "id": "b71af495",
   "metadata": {},
   "source": [
    "# CREATE SVM MODEL ON TEXT DATA\n",
    "# TAKES 3,5 HOURS\n"
   ]
  },
  {
   "cell_type": "code",
   "execution_count": 220,
   "id": "c9632edd",
   "metadata": {},
   "outputs": [],
   "source": [
    "# Step 3: Instantiate model \n",
    "# from sklearn import svm\n",
    "# clf_SVM_vect = svm.SVC(gamma=0.01, kernel=\"poly\")\n"
   ]
  },
  {
   "cell_type": "code",
   "execution_count": 221,
   "id": "acc686f5",
   "metadata": {},
   "outputs": [
    {
     "data": {
      "text/html": [
       "<style>#sk-container-id-21 {color: black;background-color: white;}#sk-container-id-21 pre{padding: 0;}#sk-container-id-21 div.sk-toggleable {background-color: white;}#sk-container-id-21 label.sk-toggleable__label {cursor: pointer;display: block;width: 100%;margin-bottom: 0;padding: 0.3em;box-sizing: border-box;text-align: center;}#sk-container-id-21 label.sk-toggleable__label-arrow:before {content: \"▸\";float: left;margin-right: 0.25em;color: #696969;}#sk-container-id-21 label.sk-toggleable__label-arrow:hover:before {color: black;}#sk-container-id-21 div.sk-estimator:hover label.sk-toggleable__label-arrow:before {color: black;}#sk-container-id-21 div.sk-toggleable__content {max-height: 0;max-width: 0;overflow: hidden;text-align: left;background-color: #f0f8ff;}#sk-container-id-21 div.sk-toggleable__content pre {margin: 0.2em;color: black;border-radius: 0.25em;background-color: #f0f8ff;}#sk-container-id-21 input.sk-toggleable__control:checked~div.sk-toggleable__content {max-height: 200px;max-width: 100%;overflow: auto;}#sk-container-id-21 input.sk-toggleable__control:checked~label.sk-toggleable__label-arrow:before {content: \"▾\";}#sk-container-id-21 div.sk-estimator input.sk-toggleable__control:checked~label.sk-toggleable__label {background-color: #d4ebff;}#sk-container-id-21 div.sk-label input.sk-toggleable__control:checked~label.sk-toggleable__label {background-color: #d4ebff;}#sk-container-id-21 input.sk-hidden--visually {border: 0;clip: rect(1px 1px 1px 1px);clip: rect(1px, 1px, 1px, 1px);height: 1px;margin: -1px;overflow: hidden;padding: 0;position: absolute;width: 1px;}#sk-container-id-21 div.sk-estimator {font-family: monospace;background-color: #f0f8ff;border: 1px dotted black;border-radius: 0.25em;box-sizing: border-box;margin-bottom: 0.5em;}#sk-container-id-21 div.sk-estimator:hover {background-color: #d4ebff;}#sk-container-id-21 div.sk-parallel-item::after {content: \"\";width: 100%;border-bottom: 1px solid gray;flex-grow: 1;}#sk-container-id-21 div.sk-label:hover label.sk-toggleable__label {background-color: #d4ebff;}#sk-container-id-21 div.sk-serial::before {content: \"\";position: absolute;border-left: 1px solid gray;box-sizing: border-box;top: 0;bottom: 0;left: 50%;z-index: 0;}#sk-container-id-21 div.sk-serial {display: flex;flex-direction: column;align-items: center;background-color: white;padding-right: 0.2em;padding-left: 0.2em;position: relative;}#sk-container-id-21 div.sk-item {position: relative;z-index: 1;}#sk-container-id-21 div.sk-parallel {display: flex;align-items: stretch;justify-content: center;background-color: white;position: relative;}#sk-container-id-21 div.sk-item::before, #sk-container-id-21 div.sk-parallel-item::before {content: \"\";position: absolute;border-left: 1px solid gray;box-sizing: border-box;top: 0;bottom: 0;left: 50%;z-index: -1;}#sk-container-id-21 div.sk-parallel-item {display: flex;flex-direction: column;z-index: 1;position: relative;background-color: white;}#sk-container-id-21 div.sk-parallel-item:first-child::after {align-self: flex-end;width: 50%;}#sk-container-id-21 div.sk-parallel-item:last-child::after {align-self: flex-start;width: 50%;}#sk-container-id-21 div.sk-parallel-item:only-child::after {width: 0;}#sk-container-id-21 div.sk-dashed-wrapped {border: 1px dashed gray;margin: 0 0.4em 0.5em 0.4em;box-sizing: border-box;padding-bottom: 0.4em;background-color: white;}#sk-container-id-21 div.sk-label label {font-family: monospace;font-weight: bold;display: inline-block;line-height: 1.2em;}#sk-container-id-21 div.sk-label-container {text-align: center;}#sk-container-id-21 div.sk-container {/* jupyter's `normalize.less` sets `[hidden] { display: none; }` but bootstrap.min.css set `[hidden] { display: none !important; }` so we also need the `!important` here to be able to override the default hidden behavior on the sphinx rendered scikit-learn.org. See: https://github.com/scikit-learn/scikit-learn/issues/21755 */display: inline-block !important;position: relative;}#sk-container-id-21 div.sk-text-repr-fallback {display: none;}</style><div id=\"sk-container-id-21\" class=\"sk-top-container\"><div class=\"sk-text-repr-fallback\"><pre>SVC(gamma=0.01, kernel=&#x27;poly&#x27;)</pre><b>In a Jupyter environment, please rerun this cell to show the HTML representation or trust the notebook. <br />On GitHub, the HTML representation is unable to render, please try loading this page with nbviewer.org.</b></div><div class=\"sk-container\" hidden><div class=\"sk-item\"><div class=\"sk-estimator sk-toggleable\"><input class=\"sk-toggleable__control sk-hidden--visually\" id=\"sk-estimator-id-21\" type=\"checkbox\" checked><label for=\"sk-estimator-id-21\" class=\"sk-toggleable__label sk-toggleable__label-arrow\">SVC</label><div class=\"sk-toggleable__content\"><pre>SVC(gamma=0.01, kernel=&#x27;poly&#x27;)</pre></div></div></div></div></div>"
      ],
      "text/plain": [
       "SVC(gamma=0.01, kernel='poly')"
      ]
     },
     "execution_count": 221,
     "metadata": {},
     "output_type": "execute_result"
    }
   ],
   "source": [
    "# Step 4: Fit the model on the training dataset\n",
    "# clf_SVM_vect.fit(X_train_text, Y_train)\n",
    "\n",
    "# takes 3,5 hours!!!\n"
   ]
  },
  {
   "cell_type": "code",
   "execution_count": null,
   "id": "59aaf4b7",
   "metadata": {},
   "outputs": [],
   "source": [
    "# get accuracy\n",
    "# SVM_vect_score = clf_SVM_vect.score(X_test_text, Y_test)\n",
    "\n",
    "# takes 45 Minutes\n",
    "\n",
    "# bad result\n"
   ]
  },
  {
   "cell_type": "code",
   "execution_count": null,
   "id": "a09a79bc",
   "metadata": {},
   "outputs": [],
   "source": [
    "# get confusion matrix\n",
    "# y_pred_SVM_vect = clf_SVM_vect.predict(X_test_text)\n",
    "# pd.crosstab(Y_test, y_pred_SVM_vect, rownames=[\"real\"], colnames=[\"predict\"])\n",
    "\n",
    "# dauert 40 Minuten"
   ]
  },
  {
   "cell_type": "code",
   "execution_count": null,
   "id": "9b31555c",
   "metadata": {},
   "outputs": [],
   "source": [
    "# from sklearn.metrics import classification_report \n",
    "\n",
    "# get classification report\n",
    "# print(\"SVM vect classification report:\\n \", classification_report (Y_test, y_pred_SVM_vect))\n"
   ]
  },
  {
   "cell_type": "code",
   "execution_count": null,
   "id": "2e691e96",
   "metadata": {},
   "outputs": [],
   "source": [
    "# create confusion matrix\n",
    "# cf_matrix_SVM_vect = confusion_matrix(Y_test, y_pred_SVM_vect)\n",
    "# print(cf_matrix_SVM_vect)\n"
   ]
  },
  {
   "cell_type": "code",
   "execution_count": null,
   "id": "864a63e9",
   "metadata": {},
   "outputs": [],
   "source": []
  },
  {
   "cell_type": "code",
   "execution_count": null,
   "id": "021615df",
   "metadata": {},
   "outputs": [],
   "source": []
  },
  {
   "cell_type": "code",
   "execution_count": null,
   "id": "338f87df",
   "metadata": {},
   "outputs": [],
   "source": []
  },
  {
   "cell_type": "markdown",
   "id": "f4050b29",
   "metadata": {},
   "source": [
    "# CREATE LOGISTIC REGRESSION MODEL ON TEXT DATA\n"
   ]
  },
  {
   "cell_type": "code",
   "execution_count": null,
   "id": "a166441e",
   "metadata": {},
   "outputs": [],
   "source": [
    "# needs standardization\n"
   ]
  },
  {
   "cell_type": "code",
   "execution_count": 71,
   "id": "de321c53",
   "metadata": {},
   "outputs": [],
   "source": [
    "# Step 3: Instantiate model \n",
    "from sklearn.linear_model import LogisticRegression\n",
    "\n",
    "clf_LogReg_vect = LogisticRegression(C=1.0)\n"
   ]
  },
  {
   "cell_type": "code",
   "execution_count": 72,
   "id": "0b263a24",
   "metadata": {},
   "outputs": [
    {
     "data": {
      "text/html": [
       "<style>#sk-container-id-6 {color: black;background-color: white;}#sk-container-id-6 pre{padding: 0;}#sk-container-id-6 div.sk-toggleable {background-color: white;}#sk-container-id-6 label.sk-toggleable__label {cursor: pointer;display: block;width: 100%;margin-bottom: 0;padding: 0.3em;box-sizing: border-box;text-align: center;}#sk-container-id-6 label.sk-toggleable__label-arrow:before {content: \"▸\";float: left;margin-right: 0.25em;color: #696969;}#sk-container-id-6 label.sk-toggleable__label-arrow:hover:before {color: black;}#sk-container-id-6 div.sk-estimator:hover label.sk-toggleable__label-arrow:before {color: black;}#sk-container-id-6 div.sk-toggleable__content {max-height: 0;max-width: 0;overflow: hidden;text-align: left;background-color: #f0f8ff;}#sk-container-id-6 div.sk-toggleable__content pre {margin: 0.2em;color: black;border-radius: 0.25em;background-color: #f0f8ff;}#sk-container-id-6 input.sk-toggleable__control:checked~div.sk-toggleable__content {max-height: 200px;max-width: 100%;overflow: auto;}#sk-container-id-6 input.sk-toggleable__control:checked~label.sk-toggleable__label-arrow:before {content: \"▾\";}#sk-container-id-6 div.sk-estimator input.sk-toggleable__control:checked~label.sk-toggleable__label {background-color: #d4ebff;}#sk-container-id-6 div.sk-label input.sk-toggleable__control:checked~label.sk-toggleable__label {background-color: #d4ebff;}#sk-container-id-6 input.sk-hidden--visually {border: 0;clip: rect(1px 1px 1px 1px);clip: rect(1px, 1px, 1px, 1px);height: 1px;margin: -1px;overflow: hidden;padding: 0;position: absolute;width: 1px;}#sk-container-id-6 div.sk-estimator {font-family: monospace;background-color: #f0f8ff;border: 1px dotted black;border-radius: 0.25em;box-sizing: border-box;margin-bottom: 0.5em;}#sk-container-id-6 div.sk-estimator:hover {background-color: #d4ebff;}#sk-container-id-6 div.sk-parallel-item::after {content: \"\";width: 100%;border-bottom: 1px solid gray;flex-grow: 1;}#sk-container-id-6 div.sk-label:hover label.sk-toggleable__label {background-color: #d4ebff;}#sk-container-id-6 div.sk-serial::before {content: \"\";position: absolute;border-left: 1px solid gray;box-sizing: border-box;top: 0;bottom: 0;left: 50%;z-index: 0;}#sk-container-id-6 div.sk-serial {display: flex;flex-direction: column;align-items: center;background-color: white;padding-right: 0.2em;padding-left: 0.2em;position: relative;}#sk-container-id-6 div.sk-item {position: relative;z-index: 1;}#sk-container-id-6 div.sk-parallel {display: flex;align-items: stretch;justify-content: center;background-color: white;position: relative;}#sk-container-id-6 div.sk-item::before, #sk-container-id-6 div.sk-parallel-item::before {content: \"\";position: absolute;border-left: 1px solid gray;box-sizing: border-box;top: 0;bottom: 0;left: 50%;z-index: -1;}#sk-container-id-6 div.sk-parallel-item {display: flex;flex-direction: column;z-index: 1;position: relative;background-color: white;}#sk-container-id-6 div.sk-parallel-item:first-child::after {align-self: flex-end;width: 50%;}#sk-container-id-6 div.sk-parallel-item:last-child::after {align-self: flex-start;width: 50%;}#sk-container-id-6 div.sk-parallel-item:only-child::after {width: 0;}#sk-container-id-6 div.sk-dashed-wrapped {border: 1px dashed gray;margin: 0 0.4em 0.5em 0.4em;box-sizing: border-box;padding-bottom: 0.4em;background-color: white;}#sk-container-id-6 div.sk-label label {font-family: monospace;font-weight: bold;display: inline-block;line-height: 1.2em;}#sk-container-id-6 div.sk-label-container {text-align: center;}#sk-container-id-6 div.sk-container {/* jupyter's `normalize.less` sets `[hidden] { display: none; }` but bootstrap.min.css set `[hidden] { display: none !important; }` so we also need the `!important` here to be able to override the default hidden behavior on the sphinx rendered scikit-learn.org. See: https://github.com/scikit-learn/scikit-learn/issues/21755 */display: inline-block !important;position: relative;}#sk-container-id-6 div.sk-text-repr-fallback {display: none;}</style><div id=\"sk-container-id-6\" class=\"sk-top-container\"><div class=\"sk-text-repr-fallback\"><pre>LogisticRegression()</pre><b>In a Jupyter environment, please rerun this cell to show the HTML representation or trust the notebook. <br />On GitHub, the HTML representation is unable to render, please try loading this page with nbviewer.org.</b></div><div class=\"sk-container\" hidden><div class=\"sk-item\"><div class=\"sk-estimator sk-toggleable\"><input class=\"sk-toggleable__control sk-hidden--visually\" id=\"sk-estimator-id-6\" type=\"checkbox\" checked><label for=\"sk-estimator-id-6\" class=\"sk-toggleable__label sk-toggleable__label-arrow\">LogisticRegression</label><div class=\"sk-toggleable__content\"><pre>LogisticRegression()</pre></div></div></div></div></div>"
      ],
      "text/plain": [
       "LogisticRegression()"
      ]
     },
     "execution_count": 72,
     "metadata": {},
     "output_type": "execute_result"
    }
   ],
   "source": [
    "# Step 4: Fit the model on the training dataset\n",
    "clf_LogReg_vect.fit(X_train_text, Y_train)\n",
    "\n",
    "# takes 1 minute"
   ]
  },
  {
   "cell_type": "code",
   "execution_count": 73,
   "id": "94671ec7",
   "metadata": {},
   "outputs": [
    {
     "data": {
      "text/plain": [
       "0.8447293447293447"
      ]
     },
     "execution_count": 73,
     "metadata": {},
     "output_type": "execute_result"
    }
   ],
   "source": [
    "# get accuracy\n",
    "accuracy_logReg_vect = clf_LogReg_vect.score(X_test_text, Y_test)\n",
    "accuracy_logReg_vect\n",
    "\n",
    "# 0.844"
   ]
  },
  {
   "cell_type": "code",
   "execution_count": 74,
   "id": "89438357",
   "metadata": {},
   "outputs": [
    {
     "data": {
      "text/html": [
       "<div>\n",
       "<style scoped>\n",
       "    .dataframe tbody tr th:only-of-type {\n",
       "        vertical-align: middle;\n",
       "    }\n",
       "\n",
       "    .dataframe tbody tr th {\n",
       "        vertical-align: top;\n",
       "    }\n",
       "\n",
       "    .dataframe thead th {\n",
       "        text-align: right;\n",
       "    }\n",
       "</style>\n",
       "<table border=\"1\" class=\"dataframe\">\n",
       "  <thead>\n",
       "    <tr style=\"text-align: right;\">\n",
       "      <th>predict</th>\n",
       "      <th>0.0</th>\n",
       "      <th>1.0</th>\n",
       "    </tr>\n",
       "    <tr>\n",
       "      <th>real</th>\n",
       "      <th></th>\n",
       "      <th></th>\n",
       "    </tr>\n",
       "  </thead>\n",
       "  <tbody>\n",
       "    <tr>\n",
       "      <th>0.0</th>\n",
       "      <td>6556</td>\n",
       "      <td>779</td>\n",
       "    </tr>\n",
       "    <tr>\n",
       "      <th>1.0</th>\n",
       "      <td>1183</td>\n",
       "      <td>4118</td>\n",
       "    </tr>\n",
       "  </tbody>\n",
       "</table>\n",
       "</div>"
      ],
      "text/plain": [
       "predict   0.0   1.0\n",
       "real               \n",
       "0.0      6556   779\n",
       "1.0      1183  4118"
      ]
     },
     "execution_count": 74,
     "metadata": {},
     "output_type": "execute_result"
    }
   ],
   "source": [
    "# get confusion matrix\n",
    "y_pred_LogReg_vect = clf_LogReg_vect.predict(X_test_text)\n",
    "pd.crosstab(Y_test, y_pred_LogReg_vect, rownames=[\"real\"], colnames=[\"predict\"])\n"
   ]
  },
  {
   "cell_type": "code",
   "execution_count": 75,
   "id": "25a4dc91",
   "metadata": {},
   "outputs": [
    {
     "name": "stdout",
     "output_type": "stream",
     "text": [
      "Logistic Regression vect classification report:\n",
      "                precision    recall  f1-score   support\n",
      "\n",
      "         0.0       0.85      0.89      0.87      7335\n",
      "         1.0       0.84      0.78      0.81      5301\n",
      "\n",
      "    accuracy                           0.84     12636\n",
      "   macro avg       0.84      0.84      0.84     12636\n",
      "weighted avg       0.84      0.84      0.84     12636\n",
      "\n"
     ]
    }
   ],
   "source": [
    "from sklearn.metrics import classification_report \n",
    "\n",
    "# get classification report\n",
    "print(\"Logistic Regression vect classification report:\\n \", classification_report (Y_test, y_pred_LogReg_vect))\n"
   ]
  },
  {
   "cell_type": "code",
   "execution_count": 76,
   "id": "f6d9b3f0",
   "metadata": {},
   "outputs": [
    {
     "name": "stdout",
     "output_type": "stream",
     "text": [
      "[[6556  779]\n",
      " [1183 4118]]\n"
     ]
    }
   ],
   "source": [
    "# create confusion matrix\n",
    "cf_matrix_LogReg_vect = confusion_matrix(Y_test, y_pred_LogReg_vect)\n",
    "print(cf_matrix_LogReg_vect)\n"
   ]
  },
  {
   "cell_type": "code",
   "execution_count": null,
   "id": "511b2519",
   "metadata": {},
   "outputs": [],
   "source": []
  },
  {
   "cell_type": "code",
   "execution_count": null,
   "id": "2b794981",
   "metadata": {},
   "outputs": [],
   "source": []
  },
  {
   "cell_type": "code",
   "execution_count": null,
   "id": "8cfced71",
   "metadata": {},
   "outputs": [],
   "source": []
  },
  {
   "cell_type": "markdown",
   "id": "65ddb601",
   "metadata": {},
   "source": [
    "# COMPARE MODELS ON TEXT DATA ONLY"
   ]
  },
  {
   "cell_type": "code",
   "execution_count": 82,
   "id": "15c6267a",
   "metadata": {},
   "outputs": [
    {
     "name": "stdout",
     "output_type": "stream",
     "text": [
      "LightGBM vect accuracy score : 0.8120449509338398\n",
      "Naive Bayes Bernoulli vect accuracy score : 0.7158911047799936\n",
      "Naive Bayes Multinomial vect accuracy score : 0.7561728395061729\n",
      "Naive Bayes Complement vect accuracy score : 0.7752453308008863\n",
      "GradientBoosting vect accuracy score : 0.785375118708452\n",
      "XGBoost vect accuracy score : 0.7805476416587528\n",
      "Logistic Regression vect accuracy score : 0.8447293447293447\n"
     ]
    }
   ],
   "source": [
    "print(\"LightGBM vect accuracy score :\", accuracy_LightGBM_vect)\n",
    "print(\"Naive Bayes Bernoulli vect accuracy score :\", accuracyNB_Bernoulli_vect)\n",
    "print(\"Naive Bayes Multinomial vect accuracy score :\", accuracyNB_Multinomial_vect)\n",
    "print(\"Naive Bayes Complement vect accuracy score :\", accuracyNB_Complement_vect)\n",
    "print(\"GradientBoosting vect accuracy score :\", accuracy_GradBoost_vect)\n",
    "# print(\"CatBoost vect accuracy score :\", accuracy_CatBoost_vect)\n",
    "print(\"XGBoost vect accuracy score :\", accuracy_XGBoost_vect)\n",
    "# print(\"KNN vect accuracy score :\", accuracy_knn_vect)\n",
    "# print(\"SVM vect accuracy score :\", accuracy_SVM_vect)\n",
    "print(\"Logistic Regression vect accuracy score :\", accuracy_logReg_vect)\n"
   ]
  },
  {
   "cell_type": "code",
   "execution_count": 78,
   "id": "6de5788b",
   "metadata": {},
   "outputs": [],
   "source": [
    "#Creating the Dictionary with model name as key adn accuracy as key-value\n",
    "labels_vect  = {'LightGBM vect':accuracy_LightGBM_vect,'Naive Bayes Bernoulli vect':accuracyNB_Bernoulli_vect,\n",
    "        'Naive Bayes Multinomial vect':accuracyNB_Multinomial_vect,\n",
    "        'Naive Bayes Complement vect':accuracyNB_Complement_vect,\n",
    "        'Gradient Boosting vect':accuracy_GradBoost_vect,\n",
    "#        'CatBoost vect':accuracy_CatBoost_vect,  \n",
    "        'XGBoost vect':accuracy_XGBoost_vect, \n",
    "        'Logistic Regression vect':accuracy_logReg_vect}\n"
   ]
  },
  {
   "cell_type": "code",
   "execution_count": 81,
   "id": "174d5609",
   "metadata": {},
   "outputs": [
    {
     "data": {
      "image/png": "[encoded data removed]",
      "text/plain": [
       "<Figure size 2500x1000 with 1 Axes>"
      ]
     },
     "metadata": {},
     "output_type": "display_data"
    }
   ],
   "source": [
    "#Plotting accuracy of all the models with Bar-Graphs\n",
    "plt.figure(figsize=(25,10))\n",
    "plt.title('Comparing Accuracy of ML Models on vectorized text data',fontsize=20)\n",
    "colors=['red','yellow','orange','magenta', 'black',\n",
    "  #      'white', \n",
    "        'purple', \n",
    "        'gray']\n",
    "plt.xticks(fontsize=10,color='black')\n",
    "plt.yticks(fontsize=20,color='black')\n",
    "plt.ylabel('Accuracy',fontsize=20)\n",
    "plt.xlabel('Models',fontsize=20)\n",
    "plt.bar(labels_vect.keys(),labels_vect.values(),edgecolor='black',color=colors, linewidth=2,alpha=0.5);\n",
    "\n"
   ]
  },
  {
   "cell_type": "code",
   "execution_count": null,
   "id": "931558b9",
   "metadata": {},
   "outputs": [],
   "source": []
  },
  {
   "cell_type": "code",
   "execution_count": null,
   "id": "2d1f1cfa",
   "metadata": {},
   "outputs": [],
   "source": []
  },
  {
   "cell_type": "code",
   "execution_count": null,
   "id": "4cfb2319",
   "metadata": {},
   "outputs": [],
   "source": []
  },
  {
   "cell_type": "code",
   "execution_count": null,
   "id": "0d4a190a",
   "metadata": {},
   "outputs": [],
   "source": []
  }
 ],
 "metadata": {
  "kernelspec": {
   "display_name": "Python 3 (ipykernel)",
   "language": "python",
   "name": "python3"
  },
  "language_info": {
   "codemirror_mode": {
    "name": "ipython",
    "version": 3
   },
   "file_extension": ".py",
   "mimetype": "text/x-python",
   "name": "python",
   "nbconvert_exporter": "python",
   "pygments_lexer": "ipython3",
   "version": "3.10.9"
  }
 },
 "nbformat": 4,
 "nbformat_minor": 5
}
