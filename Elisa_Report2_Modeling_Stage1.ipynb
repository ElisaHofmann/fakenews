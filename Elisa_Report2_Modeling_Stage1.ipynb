{
 "cells": [
  {
   "cell_type": "markdown",
   "id": "206be5b3",
   "metadata": {},
   "source": [
    "######################################################################################################\n",
    "# STAGE 1 - Analysis for 3 classes, numeric AND title+content\n",
    "######################################################################################################\n"
   ]
  },
  {
   "cell_type": "code",
   "execution_count": null,
   "id": "2152849b",
   "metadata": {},
   "outputs": [],
   "source": [
    "\n",
    "##########################\n",
    "## STAGE 1 - Analysis for 3 classes, numeric AND title+content\n",
    "##########################\n",
    "\n",
    "##  We kept all three labels for the classification modeling:\n",
    "# 0: articles from reliable sources\n",
    "# 1: articles from unreliable sources\n",
    "# 2: articles from mixed sources\n",
    "\n",
    "\n",
    "# USED PRE-PROCESSED DATASET FOR MODELING: strats6_all_cleaned.pkl\n",
    "# LOAD AS DF6\n",
    "# --> contains 85.051 rows after pre-processing (3 classes)\n",
    "\n",
    "# 0.0    36636\n",
    "# 1.0    26542\n",
    "# 2.0    21873\n",
    "\n",
    "\n",
    "#########\n",
    "# Pre-Processing Steps:\n",
    "# Create dataframe with numeric variables only\n",
    "# standardize this dataframe for some of the models to run properly\n",
    "# vectorize text (TF-IDF)\n",
    "#########\n",
    "\n",
    "\n",
    "\n",
    "# We ran multiple models on 2 different aspects of our dataset:\n",
    "\n",
    "# ASPECT 1: NUMERIC DATA (need for pre-processing and standardization of data for some models)\n",
    "# ASPECT 2: TITLE + CONTENT DATA ONLY (with TF-IDF vectorization)\n",
    "\n",
    "# We chose a variety of initial models and compared the results. We focused on accuracy, f1-score and the confusion matrix as main evaluation metrics.\n",
    "\n",
    "\n",
    "## MODELS FOR STAGE 1 (Basic Models):\n",
    "# 1) Naive Bayes Bernoulli\n",
    "# 2) Naive Bayes Multinomial\n",
    "# 3) Naive Bayes Complement\n",
    "# 4) Logistic Regression\n",
    "\n",
    "\n"
   ]
  },
  {
   "cell_type": "code",
   "execution_count": null,
   "id": "22a2da44",
   "metadata": {},
   "outputs": [],
   "source": []
  },
  {
   "cell_type": "markdown",
   "id": "b9d2187f",
   "metadata": {},
   "source": [
    "# Import libraries"
   ]
  },
  {
   "cell_type": "code",
   "execution_count": 1,
   "id": "8155f53c",
   "metadata": {},
   "outputs": [],
   "source": [
    "import numpy as np\n",
    "import pandas as pd\n",
    "from matplotlib.pylab import plt\n",
    "import seaborn as sns\n",
    "# from sqlalchemy import create_engine\n",
    "# import sqlalchemy as \n",
    "import sqlite3\n",
    "import nltk\n",
    "from nltk.tokenize import word_tokenize\n"
   ]
  },
  {
   "cell_type": "code",
   "execution_count": null,
   "id": "4e048ed5",
   "metadata": {},
   "outputs": [],
   "source": []
  },
  {
   "cell_type": "markdown",
   "id": "ad1d0f3e",
   "metadata": {},
   "source": [
    "# Load dataset"
   ]
  },
  {
   "cell_type": "code",
   "execution_count": 2,
   "id": "641ad1ab",
   "metadata": {},
   "outputs": [],
   "source": [
    "df6 = pd.read_pickle(\"strats6_all_cleaned.pkl\")"
   ]
  },
  {
   "cell_type": "code",
   "execution_count": 3,
   "id": "63af65a1",
   "metadata": {},
   "outputs": [
    {
     "data": {
      "text/html": [
       "<div>\n",
       "<style scoped>\n",
       "    .dataframe tbody tr th:only-of-type {\n",
       "        vertical-align: middle;\n",
       "    }\n",
       "\n",
       "    .dataframe tbody tr th {\n",
       "        vertical-align: top;\n",
       "    }\n",
       "\n",
       "    .dataframe thead th {\n",
       "        text-align: right;\n",
       "    }\n",
       "</style>\n",
       "<table border=\"1\" class=\"dataframe\">\n",
       "  <thead>\n",
       "    <tr style=\"text-align: right;\">\n",
       "      <th></th>\n",
       "      <th>id</th>\n",
       "      <th>source</th>\n",
       "      <th>title</th>\n",
       "      <th>content</th>\n",
       "      <th>url</th>\n",
       "      <th>published_utc</th>\n",
       "      <th>year</th>\n",
       "      <th>month</th>\n",
       "      <th>dayofyear</th>\n",
       "      <th>dayofthemonth</th>\n",
       "      <th>...</th>\n",
       "      <th>Israel</th>\n",
       "      <th>Japan</th>\n",
       "      <th>Kenya</th>\n",
       "      <th>Macedonia</th>\n",
       "      <th>Netherlands</th>\n",
       "      <th>Qatar</th>\n",
       "      <th>Russia</th>\n",
       "      <th>USA</th>\n",
       "      <th>United Kingdom</th>\n",
       "      <th>Unknown</th>\n",
       "    </tr>\n",
       "  </thead>\n",
       "  <tbody>\n",
       "    <tr>\n",
       "      <th>0</th>\n",
       "      <td>21stcenturywire--2022-04-26--An Unsettling Rea...</td>\n",
       "      <td>21stcenturywire</td>\n",
       "      <td>An Unsettling Realization: ‘Mask Zealots are S...</td>\n",
       "      <td>It’s been noted how the fanatical nature of ma...</td>\n",
       "      <td>https://21stcenturywire.com/2022/04/26/an-unse...</td>\n",
       "      <td>1650983484</td>\n",
       "      <td>2022</td>\n",
       "      <td>4</td>\n",
       "      <td>116</td>\n",
       "      <td>26</td>\n",
       "      <td>...</td>\n",
       "      <td>0</td>\n",
       "      <td>0</td>\n",
       "      <td>0</td>\n",
       "      <td>0</td>\n",
       "      <td>0</td>\n",
       "      <td>0</td>\n",
       "      <td>0</td>\n",
       "      <td>1</td>\n",
       "      <td>0</td>\n",
       "      <td>0</td>\n",
       "    </tr>\n",
       "    <tr>\n",
       "      <th>1</th>\n",
       "      <td>21stcenturywire--2022-04-24--Episode #416 – ‘S...</td>\n",
       "      <td>21stcenturywire</td>\n",
       "      <td>Episode #416 – ‘Soldiers of Fortune’ with gues...</td>\n",
       "      <td>Episode #416 of SUNDAY WIRE SHOW resumes this ...</td>\n",
       "      <td>https://21stcenturywire.com/2022/04/24/episode...</td>\n",
       "      <td>1650823248</td>\n",
       "      <td>2022</td>\n",
       "      <td>4</td>\n",
       "      <td>114</td>\n",
       "      <td>24</td>\n",
       "      <td>...</td>\n",
       "      <td>0</td>\n",
       "      <td>0</td>\n",
       "      <td>0</td>\n",
       "      <td>0</td>\n",
       "      <td>0</td>\n",
       "      <td>0</td>\n",
       "      <td>0</td>\n",
       "      <td>1</td>\n",
       "      <td>0</td>\n",
       "      <td>0</td>\n",
       "    </tr>\n",
       "  </tbody>\n",
       "</table>\n",
       "<p>2 rows × 42 columns</p>\n",
       "</div>"
      ],
      "text/plain": [
       "                                                  id           source  \\\n",
       "0  21stcenturywire--2022-04-26--An Unsettling Rea...  21stcenturywire   \n",
       "1  21stcenturywire--2022-04-24--Episode #416 – ‘S...  21stcenturywire   \n",
       "\n",
       "                                               title  \\\n",
       "0  An Unsettling Realization: ‘Mask Zealots are S...   \n",
       "1  Episode #416 – ‘Soldiers of Fortune’ with gues...   \n",
       "\n",
       "                                             content  \\\n",
       "0  It’s been noted how the fanatical nature of ma...   \n",
       "1  Episode #416 of SUNDAY WIRE SHOW resumes this ...   \n",
       "\n",
       "                                                 url  published_utc  year  \\\n",
       "0  https://21stcenturywire.com/2022/04/26/an-unse...     1650983484  2022   \n",
       "1  https://21stcenturywire.com/2022/04/24/episode...     1650823248  2022   \n",
       "\n",
       "   month  dayofyear  dayofthemonth  ...  Israel  Japan  Kenya  Macedonia  \\\n",
       "0      4        116             26  ...       0      0      0          0   \n",
       "1      4        114             24  ...       0      0      0          0   \n",
       "\n",
       "   Netherlands  Qatar  Russia  USA  United Kingdom Unknown  \n",
       "0            0      0       0    1               0       0  \n",
       "1            0      0       0    1               0       0  \n",
       "\n",
       "[2 rows x 42 columns]"
      ]
     },
     "execution_count": 3,
     "metadata": {},
     "output_type": "execute_result"
    }
   ],
   "source": [
    "df6.head(2)"
   ]
  },
  {
   "cell_type": "code",
   "execution_count": 4,
   "id": "8142e184",
   "metadata": {},
   "outputs": [
    {
     "name": "stdout",
     "output_type": "stream",
     "text": [
      "<class 'pandas.core.frame.DataFrame'>\n",
      "Int64Index: 85051 entries, 0 to 106709\n",
      "Data columns (total 42 columns):\n",
      " #   Column                    Non-Null Count  Dtype  \n",
      "---  ------                    --------------  -----  \n",
      " 0   id                        85051 non-null  object \n",
      " 1   source                    85051 non-null  object \n",
      " 2   title                     85051 non-null  object \n",
      " 3   content                   85051 non-null  object \n",
      " 4   url                       85051 non-null  object \n",
      " 5   published_utc             85051 non-null  int64  \n",
      " 6   year                      85051 non-null  int64  \n",
      " 7   month                     85051 non-null  int64  \n",
      " 8   dayofyear                 85051 non-null  int64  \n",
      " 9   dayofthemonth             85051 non-null  int64  \n",
      " 10  weekday                   85051 non-null  int64  \n",
      " 11  weekend                   85051 non-null  int32  \n",
      " 12  label                     85051 non-null  float64\n",
      " 13  factuality                85051 non-null  float64\n",
      " 14  questionable-source       85051 non-null  float64\n",
      " 15  conspiracy-pseudoscience  85051 non-null  float64\n",
      " 16  pro-science               85051 non-null  float64\n",
      " 17  word_count_content        85051 non-null  int64  \n",
      " 18  word_count_title          85051 non-null  int64  \n",
      " 19  tokenized_content         85051 non-null  object \n",
      " 20  tok_content_length        85051 non-null  int64  \n",
      " 21  tokenized_title           85051 non-null  object \n",
      " 22  tok_title_length          85051 non-null  int64  \n",
      " 23  nb_character_content      85051 non-null  int64  \n",
      " 24  nb_character_title        85051 non-null  int64  \n",
      " 25  Australia                 85051 non-null  uint8  \n",
      " 26  Bulgaria                  85051 non-null  uint8  \n",
      " 27  Canada                    85051 non-null  uint8  \n",
      " 28  Cyprus                    85051 non-null  uint8  \n",
      " 29  France                    85051 non-null  uint8  \n",
      " 30  Germany                   85051 non-null  uint8  \n",
      " 31  Ireland                   85051 non-null  uint8  \n",
      " 32  Israel                    85051 non-null  uint8  \n",
      " 33  Japan                     85051 non-null  uint8  \n",
      " 34  Kenya                     85051 non-null  uint8  \n",
      " 35  Macedonia                 85051 non-null  uint8  \n",
      " 36  Netherlands               85051 non-null  uint8  \n",
      " 37  Qatar                     85051 non-null  uint8  \n",
      " 38  Russia                    85051 non-null  uint8  \n",
      " 39  USA                       85051 non-null  uint8  \n",
      " 40  United Kingdom            85051 non-null  uint8  \n",
      " 41  Unknown                   85051 non-null  uint8  \n",
      "dtypes: float64(5), int32(1), int64(12), object(7), uint8(17)\n",
      "memory usage: 17.9+ MB\n"
     ]
    }
   ],
   "source": [
    "df6.info()"
   ]
  },
  {
   "cell_type": "code",
   "execution_count": 5,
   "id": "13619bb4",
   "metadata": {},
   "outputs": [
    {
     "data": {
      "text/plain": [
       "0.0    36636\n",
       "1.0    26542\n",
       "2.0    21873\n",
       "Name: label, dtype: int64"
      ]
     },
     "execution_count": 5,
     "metadata": {},
     "output_type": "execute_result"
    }
   ],
   "source": [
    "# inspect labels\n",
    "df6[\"label\"].value_counts()\n",
    "\n",
    "# slightly unbalanced\n",
    "\n",
    "# 0.0    36636\n",
    "# 1.0    26542\n",
    "# 2.0    21873\n"
   ]
  },
  {
   "cell_type": "code",
   "execution_count": 6,
   "id": "dc060ea4",
   "metadata": {},
   "outputs": [
    {
     "data": {
      "image/png": "[encoded data removed]",
      "text/plain": [
       "<Figure size 640x480 with 1 Axes>"
      ]
     },
     "metadata": {},
     "output_type": "display_data"
    }
   ],
   "source": [
    "# barplot of labels\n",
    "sns.countplot(x = \"label\", data = df6)\n",
    "plt.xticks(np.arange(3),[\"0: Reliable\", \"1: Unreliable\", \"2: Mixed\"])\n",
    "plt.ylabel(\"Frequency\")\n",
    "plt.xlabel(\"Outlet-level veracity labels\")\n",
    "plt.title(\"Frequencies of the three outlet-level veracity labels in 'df6' dataset\")\n",
    "plt.show();\n"
   ]
  },
  {
   "cell_type": "code",
   "execution_count": null,
   "id": "f4263895",
   "metadata": {},
   "outputs": [],
   "source": []
  },
  {
   "cell_type": "markdown",
   "id": "eb451e20",
   "metadata": {},
   "source": [
    "# Numeric Data"
   ]
  },
  {
   "cell_type": "markdown",
   "id": "53702a03",
   "metadata": {},
   "source": [
    "## CREATE NUMERIC DATASETS df_num\n",
    "\n",
    "## x_train, x_test, y_train, y_test (lower case x and y)\n"
   ]
  },
  {
   "cell_type": "code",
   "execution_count": 7,
   "id": "3da31f1d",
   "metadata": {},
   "outputs": [
    {
     "name": "stdout",
     "output_type": "stream",
     "text": [
      "        published_utc  year  month  dayofyear  dayofthemonth  weekday  \\\n",
      "0          1650983484  2022      4        116             26        1   \n",
      "1          1650823248  2022      4        114             24        6   \n",
      "2          1657916785  2022      7        196             15        4   \n",
      "3          1653236268  2022      5        142             22        6   \n",
      "4          1647044296  2022      3         70             11        4   \n",
      "...               ...   ...    ...        ...            ...      ...   \n",
      "106705     1665142200  2022     10        280              7        4   \n",
      "106706     1660253100  2022      8        223             11        3   \n",
      "106707     1655742000  2022      6        171             20        0   \n",
      "106708     1642390200  2022      1         16             16        6   \n",
      "106709     1664605800  2022     10        274              1        5   \n",
      "\n",
      "        weekend  label  factuality  questionable-source  ...  Israel  Japan  \\\n",
      "0             0    1.0         2.0                  0.0  ...       0      0   \n",
      "1             1    1.0         2.0                  0.0  ...       0      0   \n",
      "2             0    1.0         2.0                  0.0  ...       0      0   \n",
      "3             1    1.0         2.0                  0.0  ...       0      0   \n",
      "4             0    1.0         2.0                  0.0  ...       0      0   \n",
      "...         ...    ...         ...                  ...  ...     ...    ...   \n",
      "106705        0    1.0         1.0                  0.0  ...       0      0   \n",
      "106706        0    1.0         1.0                  0.0  ...       0      0   \n",
      "106707        0    1.0         1.0                  0.0  ...       0      0   \n",
      "106708        1    1.0         1.0                  0.0  ...       0      0   \n",
      "106709        1    1.0         1.0                  0.0  ...       0      0   \n",
      "\n",
      "        Kenya  Macedonia  Netherlands  Qatar  Russia  USA  United Kingdom  \\\n",
      "0           0          0            0      0       0    1               0   \n",
      "1           0          0            0      0       0    1               0   \n",
      "2           0          0            0      0       0    1               0   \n",
      "3           0          0            0      0       0    1               0   \n",
      "4           0          0            0      0       0    1               0   \n",
      "...       ...        ...          ...    ...     ...  ...             ...   \n",
      "106705      0          0            0      0       0    0               0   \n",
      "106706      0          0            0      0       0    0               0   \n",
      "106707      0          0            0      0       0    0               0   \n",
      "106708      0          0            0      0       0    0               0   \n",
      "106709      0          0            0      0       0    0               0   \n",
      "\n",
      "        Unknown  \n",
      "0             0  \n",
      "1             0  \n",
      "2             0  \n",
      "3             0  \n",
      "4             0  \n",
      "...         ...  \n",
      "106705        0  \n",
      "106706        0  \n",
      "106707        0  \n",
      "106708        0  \n",
      "106709        0  \n",
      "\n",
      "[85051 rows x 35 columns]\n"
     ]
    }
   ],
   "source": [
    "df_num = df6.select_dtypes(exclude=['object'])\n",
    "print(df_num)\n"
   ]
  },
  {
   "cell_type": "code",
   "execution_count": 8,
   "id": "b9706310",
   "metadata": {},
   "outputs": [],
   "source": [
    "# DEFINE x and y\n",
    "x = df_num.drop([\"label\"], axis = 1)\n",
    "y = df6[\"label\"]\n"
   ]
  },
  {
   "cell_type": "code",
   "execution_count": 9,
   "id": "2e42790e",
   "metadata": {},
   "outputs": [
    {
     "data": {
      "text/html": [
       "<div>\n",
       "<style scoped>\n",
       "    .dataframe tbody tr th:only-of-type {\n",
       "        vertical-align: middle;\n",
       "    }\n",
       "\n",
       "    .dataframe tbody tr th {\n",
       "        vertical-align: top;\n",
       "    }\n",
       "\n",
       "    .dataframe thead th {\n",
       "        text-align: right;\n",
       "    }\n",
       "</style>\n",
       "<table border=\"1\" class=\"dataframe\">\n",
       "  <thead>\n",
       "    <tr style=\"text-align: right;\">\n",
       "      <th></th>\n",
       "      <th>published_utc</th>\n",
       "      <th>year</th>\n",
       "      <th>month</th>\n",
       "      <th>dayofyear</th>\n",
       "      <th>dayofthemonth</th>\n",
       "      <th>weekday</th>\n",
       "      <th>weekend</th>\n",
       "      <th>factuality</th>\n",
       "      <th>questionable-source</th>\n",
       "      <th>conspiracy-pseudoscience</th>\n",
       "      <th>...</th>\n",
       "      <th>Israel</th>\n",
       "      <th>Japan</th>\n",
       "      <th>Kenya</th>\n",
       "      <th>Macedonia</th>\n",
       "      <th>Netherlands</th>\n",
       "      <th>Qatar</th>\n",
       "      <th>Russia</th>\n",
       "      <th>USA</th>\n",
       "      <th>United Kingdom</th>\n",
       "      <th>Unknown</th>\n",
       "    </tr>\n",
       "  </thead>\n",
       "  <tbody>\n",
       "    <tr>\n",
       "      <th>0</th>\n",
       "      <td>1650983484</td>\n",
       "      <td>2022</td>\n",
       "      <td>4</td>\n",
       "      <td>116</td>\n",
       "      <td>26</td>\n",
       "      <td>1</td>\n",
       "      <td>0</td>\n",
       "      <td>2.0</td>\n",
       "      <td>0.0</td>\n",
       "      <td>1.0</td>\n",
       "      <td>...</td>\n",
       "      <td>0</td>\n",
       "      <td>0</td>\n",
       "      <td>0</td>\n",
       "      <td>0</td>\n",
       "      <td>0</td>\n",
       "      <td>0</td>\n",
       "      <td>0</td>\n",
       "      <td>1</td>\n",
       "      <td>0</td>\n",
       "      <td>0</td>\n",
       "    </tr>\n",
       "    <tr>\n",
       "      <th>1</th>\n",
       "      <td>1650823248</td>\n",
       "      <td>2022</td>\n",
       "      <td>4</td>\n",
       "      <td>114</td>\n",
       "      <td>24</td>\n",
       "      <td>6</td>\n",
       "      <td>1</td>\n",
       "      <td>2.0</td>\n",
       "      <td>0.0</td>\n",
       "      <td>1.0</td>\n",
       "      <td>...</td>\n",
       "      <td>0</td>\n",
       "      <td>0</td>\n",
       "      <td>0</td>\n",
       "      <td>0</td>\n",
       "      <td>0</td>\n",
       "      <td>0</td>\n",
       "      <td>0</td>\n",
       "      <td>1</td>\n",
       "      <td>0</td>\n",
       "      <td>0</td>\n",
       "    </tr>\n",
       "    <tr>\n",
       "      <th>2</th>\n",
       "      <td>1657916785</td>\n",
       "      <td>2022</td>\n",
       "      <td>7</td>\n",
       "      <td>196</td>\n",
       "      <td>15</td>\n",
       "      <td>4</td>\n",
       "      <td>0</td>\n",
       "      <td>2.0</td>\n",
       "      <td>0.0</td>\n",
       "      <td>1.0</td>\n",
       "      <td>...</td>\n",
       "      <td>0</td>\n",
       "      <td>0</td>\n",
       "      <td>0</td>\n",
       "      <td>0</td>\n",
       "      <td>0</td>\n",
       "      <td>0</td>\n",
       "      <td>0</td>\n",
       "      <td>1</td>\n",
       "      <td>0</td>\n",
       "      <td>0</td>\n",
       "    </tr>\n",
       "  </tbody>\n",
       "</table>\n",
       "<p>3 rows × 34 columns</p>\n",
       "</div>"
      ],
      "text/plain": [
       "   published_utc  year  month  dayofyear  dayofthemonth  weekday  weekend  \\\n",
       "0     1650983484  2022      4        116             26        1        0   \n",
       "1     1650823248  2022      4        114             24        6        1   \n",
       "2     1657916785  2022      7        196             15        4        0   \n",
       "\n",
       "   factuality  questionable-source  conspiracy-pseudoscience  ...  Israel  \\\n",
       "0         2.0                  0.0                       1.0  ...       0   \n",
       "1         2.0                  0.0                       1.0  ...       0   \n",
       "2         2.0                  0.0                       1.0  ...       0   \n",
       "\n",
       "   Japan  Kenya  Macedonia  Netherlands  Qatar  Russia  USA  United Kingdom  \\\n",
       "0      0      0          0            0      0       0    1               0   \n",
       "1      0      0          0            0      0       0    1               0   \n",
       "2      0      0          0            0      0       0    1               0   \n",
       "\n",
       "   Unknown  \n",
       "0        0  \n",
       "1        0  \n",
       "2        0  \n",
       "\n",
       "[3 rows x 34 columns]"
      ]
     },
     "execution_count": 9,
     "metadata": {},
     "output_type": "execute_result"
    }
   ],
   "source": [
    "x.head(3)"
   ]
  },
  {
   "cell_type": "code",
   "execution_count": 10,
   "id": "163e25fc",
   "metadata": {},
   "outputs": [
    {
     "data": {
      "text/plain": [
       "published_utc                 int64\n",
       "year                          int64\n",
       "month                         int64\n",
       "dayofyear                     int64\n",
       "dayofthemonth                 int64\n",
       "weekday                       int64\n",
       "weekend                       int32\n",
       "factuality                  float64\n",
       "questionable-source         float64\n",
       "conspiracy-pseudoscience    float64\n",
       "pro-science                 float64\n",
       "word_count_content            int64\n",
       "word_count_title              int64\n",
       "tok_content_length            int64\n",
       "tok_title_length              int64\n",
       "nb_character_content          int64\n",
       "nb_character_title            int64\n",
       "Australia                     uint8\n",
       "Bulgaria                      uint8\n",
       "Canada                        uint8\n",
       "Cyprus                        uint8\n",
       "France                        uint8\n",
       "Germany                       uint8\n",
       "Ireland                       uint8\n",
       "Israel                        uint8\n",
       "Japan                         uint8\n",
       "Kenya                         uint8\n",
       "Macedonia                     uint8\n",
       "Netherlands                   uint8\n",
       "Qatar                         uint8\n",
       "Russia                        uint8\n",
       "USA                           uint8\n",
       "United Kingdom                uint8\n",
       "Unknown                       uint8\n",
       "dtype: object"
      ]
     },
     "execution_count": 10,
     "metadata": {},
     "output_type": "execute_result"
    }
   ],
   "source": [
    "x.dtypes"
   ]
  },
  {
   "cell_type": "code",
   "execution_count": 11,
   "id": "fd4ba8d5",
   "metadata": {
    "scrolled": false
   },
   "outputs": [
    {
     "data": {
      "text/plain": [
       "0    1.0\n",
       "1    1.0\n",
       "2    1.0\n",
       "Name: label, dtype: float64"
      ]
     },
     "execution_count": 11,
     "metadata": {},
     "output_type": "execute_result"
    }
   ],
   "source": [
    "y.head(3)"
   ]
  },
  {
   "cell_type": "code",
   "execution_count": 12,
   "id": "b86c84fd",
   "metadata": {},
   "outputs": [],
   "source": [
    "# Split the dataset:\n",
    "from sklearn.model_selection import train_test_split\n",
    "\n",
    "x_train, x_test, y_train, y_test = train_test_split(x, y, test_size = 0.2, random_state = 2)\n"
   ]
  },
  {
   "cell_type": "code",
   "execution_count": null,
   "id": "1854b1ee",
   "metadata": {},
   "outputs": [],
   "source": []
  },
  {
   "cell_type": "markdown",
   "id": "42fa9ca9",
   "metadata": {},
   "source": [
    "# 1 Create Naive Bayes Bernoulli Model on numeric data"
   ]
  },
  {
   "cell_type": "code",
   "execution_count": 13,
   "id": "9f4739a8",
   "metadata": {},
   "outputs": [],
   "source": [
    "from sklearn.naive_bayes import BernoulliNB\n",
    "from sklearn.model_selection import train_test_split\n",
    "from sklearn.metrics import accuracy_score"
   ]
  },
  {
   "cell_type": "code",
   "execution_count": 14,
   "id": "f2960ad0",
   "metadata": {},
   "outputs": [],
   "source": [
    "# Create a Bernoulli Naive Bayes classifier\n",
    "clf_Bern_df6 = BernoulliNB()\n"
   ]
  },
  {
   "cell_type": "code",
   "execution_count": 15,
   "id": "728db523",
   "metadata": {},
   "outputs": [
    {
     "data": {
      "text/html": [
       "<style>#sk-container-id-1 {color: black;background-color: white;}#sk-container-id-1 pre{padding: 0;}#sk-container-id-1 div.sk-toggleable {background-color: white;}#sk-container-id-1 label.sk-toggleable__label {cursor: pointer;display: block;width: 100%;margin-bottom: 0;padding: 0.3em;box-sizing: border-box;text-align: center;}#sk-container-id-1 label.sk-toggleable__label-arrow:before {content: \"▸\";float: left;margin-right: 0.25em;color: #696969;}#sk-container-id-1 label.sk-toggleable__label-arrow:hover:before {color: black;}#sk-container-id-1 div.sk-estimator:hover label.sk-toggleable__label-arrow:before {color: black;}#sk-container-id-1 div.sk-toggleable__content {max-height: 0;max-width: 0;overflow: hidden;text-align: left;background-color: #f0f8ff;}#sk-container-id-1 div.sk-toggleable__content pre {margin: 0.2em;color: black;border-radius: 0.25em;background-color: #f0f8ff;}#sk-container-id-1 input.sk-toggleable__control:checked~div.sk-toggleable__content {max-height: 200px;max-width: 100%;overflow: auto;}#sk-container-id-1 input.sk-toggleable__control:checked~label.sk-toggleable__label-arrow:before {content: \"▾\";}#sk-container-id-1 div.sk-estimator input.sk-toggleable__control:checked~label.sk-toggleable__label {background-color: #d4ebff;}#sk-container-id-1 div.sk-label input.sk-toggleable__control:checked~label.sk-toggleable__label {background-color: #d4ebff;}#sk-container-id-1 input.sk-hidden--visually {border: 0;clip: rect(1px 1px 1px 1px);clip: rect(1px, 1px, 1px, 1px);height: 1px;margin: -1px;overflow: hidden;padding: 0;position: absolute;width: 1px;}#sk-container-id-1 div.sk-estimator {font-family: monospace;background-color: #f0f8ff;border: 1px dotted black;border-radius: 0.25em;box-sizing: border-box;margin-bottom: 0.5em;}#sk-container-id-1 div.sk-estimator:hover {background-color: #d4ebff;}#sk-container-id-1 div.sk-parallel-item::after {content: \"\";width: 100%;border-bottom: 1px solid gray;flex-grow: 1;}#sk-container-id-1 div.sk-label:hover label.sk-toggleable__label {background-color: #d4ebff;}#sk-container-id-1 div.sk-serial::before {content: \"\";position: absolute;border-left: 1px solid gray;box-sizing: border-box;top: 0;bottom: 0;left: 50%;z-index: 0;}#sk-container-id-1 div.sk-serial {display: flex;flex-direction: column;align-items: center;background-color: white;padding-right: 0.2em;padding-left: 0.2em;position: relative;}#sk-container-id-1 div.sk-item {position: relative;z-index: 1;}#sk-container-id-1 div.sk-parallel {display: flex;align-items: stretch;justify-content: center;background-color: white;position: relative;}#sk-container-id-1 div.sk-item::before, #sk-container-id-1 div.sk-parallel-item::before {content: \"\";position: absolute;border-left: 1px solid gray;box-sizing: border-box;top: 0;bottom: 0;left: 50%;z-index: -1;}#sk-container-id-1 div.sk-parallel-item {display: flex;flex-direction: column;z-index: 1;position: relative;background-color: white;}#sk-container-id-1 div.sk-parallel-item:first-child::after {align-self: flex-end;width: 50%;}#sk-container-id-1 div.sk-parallel-item:last-child::after {align-self: flex-start;width: 50%;}#sk-container-id-1 div.sk-parallel-item:only-child::after {width: 0;}#sk-container-id-1 div.sk-dashed-wrapped {border: 1px dashed gray;margin: 0 0.4em 0.5em 0.4em;box-sizing: border-box;padding-bottom: 0.4em;background-color: white;}#sk-container-id-1 div.sk-label label {font-family: monospace;font-weight: bold;display: inline-block;line-height: 1.2em;}#sk-container-id-1 div.sk-label-container {text-align: center;}#sk-container-id-1 div.sk-container {/* jupyter's `normalize.less` sets `[hidden] { display: none; }` but bootstrap.min.css set `[hidden] { display: none !important; }` so we also need the `!important` here to be able to override the default hidden behavior on the sphinx rendered scikit-learn.org. See: https://github.com/scikit-learn/scikit-learn/issues/21755 */display: inline-block !important;position: relative;}#sk-container-id-1 div.sk-text-repr-fallback {display: none;}</style><div id=\"sk-container-id-1\" class=\"sk-top-container\"><div class=\"sk-text-repr-fallback\"><pre>BernoulliNB()</pre><b>In a Jupyter environment, please rerun this cell to show the HTML representation or trust the notebook. <br />On GitHub, the HTML representation is unable to render, please try loading this page with nbviewer.org.</b></div><div class=\"sk-container\" hidden><div class=\"sk-item\"><div class=\"sk-estimator sk-toggleable\"><input class=\"sk-toggleable__control sk-hidden--visually\" id=\"sk-estimator-id-1\" type=\"checkbox\" checked><label for=\"sk-estimator-id-1\" class=\"sk-toggleable__label sk-toggleable__label-arrow\">BernoulliNB</label><div class=\"sk-toggleable__content\"><pre>BernoulliNB()</pre></div></div></div></div></div>"
      ],
      "text/plain": [
       "BernoulliNB()"
      ]
     },
     "execution_count": 15,
     "metadata": {},
     "output_type": "execute_result"
    }
   ],
   "source": [
    "# Train the classifier\n",
    "clf_Bern_df6.fit(x_train, y_train)\n"
   ]
  },
  {
   "cell_type": "code",
   "execution_count": 16,
   "id": "5e973d7d",
   "metadata": {},
   "outputs": [],
   "source": [
    "y_pred_Bern_df6 = clf_Bern_df6.predict(x_test)\n"
   ]
  },
  {
   "cell_type": "code",
   "execution_count": 17,
   "id": "8d3bfef3",
   "metadata": {},
   "outputs": [
    {
     "name": "stdout",
     "output_type": "stream",
     "text": [
      "Accuracy: 0.7734995003233202\n"
     ]
    }
   ],
   "source": [
    "# Evaluate the model\n",
    "accuracyNB_Bernoulli_df6 = accuracy_score(y_test, y_pred_Bern_df6)\n",
    "print(\"Accuracy:\", accuracyNB_Bernoulli_df6)\n",
    "\n",
    "# 0.77\n"
   ]
  },
  {
   "cell_type": "code",
   "execution_count": 18,
   "id": "f46bec67",
   "metadata": {},
   "outputs": [
    {
     "data": {
      "text/html": [
       "<div>\n",
       "<style scoped>\n",
       "    .dataframe tbody tr th:only-of-type {\n",
       "        vertical-align: middle;\n",
       "    }\n",
       "\n",
       "    .dataframe tbody tr th {\n",
       "        vertical-align: top;\n",
       "    }\n",
       "\n",
       "    .dataframe thead th {\n",
       "        text-align: right;\n",
       "    }\n",
       "</style>\n",
       "<table border=\"1\" class=\"dataframe\">\n",
       "  <thead>\n",
       "    <tr style=\"text-align: right;\">\n",
       "      <th>predict</th>\n",
       "      <th>0.0</th>\n",
       "      <th>1.0</th>\n",
       "      <th>2.0</th>\n",
       "    </tr>\n",
       "    <tr>\n",
       "      <th>real</th>\n",
       "      <th></th>\n",
       "      <th></th>\n",
       "      <th></th>\n",
       "    </tr>\n",
       "  </thead>\n",
       "  <tbody>\n",
       "    <tr>\n",
       "      <th>0.0</th>\n",
       "      <td>5752</td>\n",
       "      <td>121</td>\n",
       "      <td>1482</td>\n",
       "    </tr>\n",
       "    <tr>\n",
       "      <th>1.0</th>\n",
       "      <td>0</td>\n",
       "      <td>5251</td>\n",
       "      <td>0</td>\n",
       "    </tr>\n",
       "    <tr>\n",
       "      <th>2.0</th>\n",
       "      <td>2247</td>\n",
       "      <td>3</td>\n",
       "      <td>2155</td>\n",
       "    </tr>\n",
       "  </tbody>\n",
       "</table>\n",
       "</div>"
      ],
      "text/plain": [
       "predict   0.0   1.0   2.0\n",
       "real                     \n",
       "0.0      5752   121  1482\n",
       "1.0         0  5251     0\n",
       "2.0      2247     3  2155"
      ]
     },
     "execution_count": 18,
     "metadata": {},
     "output_type": "execute_result"
    }
   ],
   "source": [
    "# get confusion matrix\n",
    "pd.crosstab(y_test, y_pred_Bern_df6, rownames=[\"true\"], colnames=[\"predict\"])\n",
    "\n",
    "# looks ok\n",
    "# perfect for fake news"
   ]
  },
  {
   "cell_type": "code",
   "execution_count": 19,
   "id": "04e6251a",
   "metadata": {},
   "outputs": [
    {
     "name": "stdout",
     "output_type": "stream",
     "text": [
      "Naive Bayes Bernoulli classification report df6:\n",
      "               precision    recall  f1-score   support\n",
      "\n",
      "         0.0       0.72      0.78      0.75      7355\n",
      "         1.0       0.98      1.00      0.99      5251\n",
      "         2.0       0.59      0.49      0.54      4405\n",
      "\n",
      "    accuracy                           0.77     17011\n",
      "   macro avg       0.76      0.76      0.76     17011\n",
      "weighted avg       0.77      0.77      0.77     17011\n",
      "\n"
     ]
    }
   ],
   "source": [
    "# Evaluate model with classification report\n",
    "from sklearn.metrics import classification_report \n",
    "\n",
    "print(\"Naive Bayes Bernoulli classification report df6:\\n\", classification_report (y_test, y_pred_Bern_df6))\n",
    "\n",
    "# looks ok"
   ]
  },
  {
   "cell_type": "code",
   "execution_count": 20,
   "id": "19cc1a03",
   "metadata": {},
   "outputs": [
    {
     "name": "stdout",
     "output_type": "stream",
     "text": [
      "Confusion Matrix:\n",
      " [[5752  121 1482]\n",
      " [   0 5251    0]\n",
      " [2247    3 2155]]\n"
     ]
    }
   ],
   "source": [
    "# Evaluate Model with confusion matrix \n",
    "from sklearn.metrics import confusion_matrix \n",
    "\n",
    "conf_matrix_Bern_df6 = confusion_matrix(y_test, y_pred_Bern_df6)\n",
    "\n",
    "print(\"Confusion Matrix:\\n\",  conf_matrix_Bern_df6)\n"
   ]
  },
  {
   "cell_type": "code",
   "execution_count": null,
   "id": "3f5a9866",
   "metadata": {},
   "outputs": [],
   "source": []
  },
  {
   "cell_type": "markdown",
   "id": "d9130c16",
   "metadata": {},
   "source": [
    "# 2 Create Naive Bayes Multinomial on numeric data"
   ]
  },
  {
   "cell_type": "code",
   "execution_count": 21,
   "id": "2b0d8b42",
   "metadata": {},
   "outputs": [],
   "source": [
    "from sklearn.naive_bayes import MultinomialNB\n",
    "clf_mult_df6 = MultinomialNB()\n"
   ]
  },
  {
   "cell_type": "code",
   "execution_count": 22,
   "id": "5fd00513",
   "metadata": {},
   "outputs": [
    {
     "data": {
      "text/html": [
       "<style>#sk-container-id-2 {color: black;background-color: white;}#sk-container-id-2 pre{padding: 0;}#sk-container-id-2 div.sk-toggleable {background-color: white;}#sk-container-id-2 label.sk-toggleable__label {cursor: pointer;display: block;width: 100%;margin-bottom: 0;padding: 0.3em;box-sizing: border-box;text-align: center;}#sk-container-id-2 label.sk-toggleable__label-arrow:before {content: \"▸\";float: left;margin-right: 0.25em;color: #696969;}#sk-container-id-2 label.sk-toggleable__label-arrow:hover:before {color: black;}#sk-container-id-2 div.sk-estimator:hover label.sk-toggleable__label-arrow:before {color: black;}#sk-container-id-2 div.sk-toggleable__content {max-height: 0;max-width: 0;overflow: hidden;text-align: left;background-color: #f0f8ff;}#sk-container-id-2 div.sk-toggleable__content pre {margin: 0.2em;color: black;border-radius: 0.25em;background-color: #f0f8ff;}#sk-container-id-2 input.sk-toggleable__control:checked~div.sk-toggleable__content {max-height: 200px;max-width: 100%;overflow: auto;}#sk-container-id-2 input.sk-toggleable__control:checked~label.sk-toggleable__label-arrow:before {content: \"▾\";}#sk-container-id-2 div.sk-estimator input.sk-toggleable__control:checked~label.sk-toggleable__label {background-color: #d4ebff;}#sk-container-id-2 div.sk-label input.sk-toggleable__control:checked~label.sk-toggleable__label {background-color: #d4ebff;}#sk-container-id-2 input.sk-hidden--visually {border: 0;clip: rect(1px 1px 1px 1px);clip: rect(1px, 1px, 1px, 1px);height: 1px;margin: -1px;overflow: hidden;padding: 0;position: absolute;width: 1px;}#sk-container-id-2 div.sk-estimator {font-family: monospace;background-color: #f0f8ff;border: 1px dotted black;border-radius: 0.25em;box-sizing: border-box;margin-bottom: 0.5em;}#sk-container-id-2 div.sk-estimator:hover {background-color: #d4ebff;}#sk-container-id-2 div.sk-parallel-item::after {content: \"\";width: 100%;border-bottom: 1px solid gray;flex-grow: 1;}#sk-container-id-2 div.sk-label:hover label.sk-toggleable__label {background-color: #d4ebff;}#sk-container-id-2 div.sk-serial::before {content: \"\";position: absolute;border-left: 1px solid gray;box-sizing: border-box;top: 0;bottom: 0;left: 50%;z-index: 0;}#sk-container-id-2 div.sk-serial {display: flex;flex-direction: column;align-items: center;background-color: white;padding-right: 0.2em;padding-left: 0.2em;position: relative;}#sk-container-id-2 div.sk-item {position: relative;z-index: 1;}#sk-container-id-2 div.sk-parallel {display: flex;align-items: stretch;justify-content: center;background-color: white;position: relative;}#sk-container-id-2 div.sk-item::before, #sk-container-id-2 div.sk-parallel-item::before {content: \"\";position: absolute;border-left: 1px solid gray;box-sizing: border-box;top: 0;bottom: 0;left: 50%;z-index: -1;}#sk-container-id-2 div.sk-parallel-item {display: flex;flex-direction: column;z-index: 1;position: relative;background-color: white;}#sk-container-id-2 div.sk-parallel-item:first-child::after {align-self: flex-end;width: 50%;}#sk-container-id-2 div.sk-parallel-item:last-child::after {align-self: flex-start;width: 50%;}#sk-container-id-2 div.sk-parallel-item:only-child::after {width: 0;}#sk-container-id-2 div.sk-dashed-wrapped {border: 1px dashed gray;margin: 0 0.4em 0.5em 0.4em;box-sizing: border-box;padding-bottom: 0.4em;background-color: white;}#sk-container-id-2 div.sk-label label {font-family: monospace;font-weight: bold;display: inline-block;line-height: 1.2em;}#sk-container-id-2 div.sk-label-container {text-align: center;}#sk-container-id-2 div.sk-container {/* jupyter's `normalize.less` sets `[hidden] { display: none; }` but bootstrap.min.css set `[hidden] { display: none !important; }` so we also need the `!important` here to be able to override the default hidden behavior on the sphinx rendered scikit-learn.org. See: https://github.com/scikit-learn/scikit-learn/issues/21755 */display: inline-block !important;position: relative;}#sk-container-id-2 div.sk-text-repr-fallback {display: none;}</style><div id=\"sk-container-id-2\" class=\"sk-top-container\"><div class=\"sk-text-repr-fallback\"><pre>MultinomialNB()</pre><b>In a Jupyter environment, please rerun this cell to show the HTML representation or trust the notebook. <br />On GitHub, the HTML representation is unable to render, please try loading this page with nbviewer.org.</b></div><div class=\"sk-container\" hidden><div class=\"sk-item\"><div class=\"sk-estimator sk-toggleable\"><input class=\"sk-toggleable__control sk-hidden--visually\" id=\"sk-estimator-id-2\" type=\"checkbox\" checked><label for=\"sk-estimator-id-2\" class=\"sk-toggleable__label sk-toggleable__label-arrow\">MultinomialNB</label><div class=\"sk-toggleable__content\"><pre>MultinomialNB()</pre></div></div></div></div></div>"
      ],
      "text/plain": [
       "MultinomialNB()"
      ]
     },
     "execution_count": 22,
     "metadata": {},
     "output_type": "execute_result"
    }
   ],
   "source": [
    "clf_mult_df6.fit(x_train, y_train)\n"
   ]
  },
  {
   "cell_type": "code",
   "execution_count": 23,
   "id": "261d2d8f",
   "metadata": {},
   "outputs": [
    {
     "data": {
      "text/plain": [
       "0.3325495267767915"
      ]
     },
     "execution_count": 23,
     "metadata": {},
     "output_type": "execute_result"
    }
   ],
   "source": [
    "# get accuracy\n",
    "accuracyNB_Multinomial_df6 = clf_mult_df6.score(x_test, y_test)\n",
    "accuracyNB_Multinomial_df6\n",
    "\n",
    "# 0.33\n"
   ]
  },
  {
   "cell_type": "code",
   "execution_count": 24,
   "id": "f7449889",
   "metadata": {},
   "outputs": [
    {
     "data": {
      "text/html": [
       "<div>\n",
       "<style scoped>\n",
       "    .dataframe tbody tr th:only-of-type {\n",
       "        vertical-align: middle;\n",
       "    }\n",
       "\n",
       "    .dataframe tbody tr th {\n",
       "        vertical-align: top;\n",
       "    }\n",
       "\n",
       "    .dataframe thead th {\n",
       "        text-align: right;\n",
       "    }\n",
       "</style>\n",
       "<table border=\"1\" class=\"dataframe\">\n",
       "  <thead>\n",
       "    <tr style=\"text-align: right;\">\n",
       "      <th>predict</th>\n",
       "      <th>0.0</th>\n",
       "      <th>1.0</th>\n",
       "      <th>2.0</th>\n",
       "    </tr>\n",
       "    <tr>\n",
       "      <th>real</th>\n",
       "      <th></th>\n",
       "      <th></th>\n",
       "      <th></th>\n",
       "    </tr>\n",
       "  </thead>\n",
       "  <tbody>\n",
       "    <tr>\n",
       "      <th>0.0</th>\n",
       "      <td>427</td>\n",
       "      <td>4480</td>\n",
       "      <td>2448</td>\n",
       "    </tr>\n",
       "    <tr>\n",
       "      <th>1.0</th>\n",
       "      <td>210</td>\n",
       "      <td>3549</td>\n",
       "      <td>1492</td>\n",
       "    </tr>\n",
       "    <tr>\n",
       "      <th>2.0</th>\n",
       "      <td>229</td>\n",
       "      <td>2495</td>\n",
       "      <td>1681</td>\n",
       "    </tr>\n",
       "  </tbody>\n",
       "</table>\n",
       "</div>"
      ],
      "text/plain": [
       "predict  0.0   1.0   2.0\n",
       "real                    \n",
       "0.0      427  4480  2448\n",
       "1.0      210  3549  1492\n",
       "2.0      229  2495  1681"
      ]
     },
     "execution_count": 24,
     "metadata": {},
     "output_type": "execute_result"
    }
   ],
   "source": [
    "# get confusion matrix\n",
    "y_pred_NB_Multinomial_df6 = clf_mult_df6.predict(x_test)\n",
    "pd.crosstab(y_test, y_pred_NB_Multinomial_df6, rownames=[\"true\"], colnames=[\"predict\"])\n",
    "\n",
    "# worse than Bernoulli"
   ]
  },
  {
   "cell_type": "code",
   "execution_count": 25,
   "id": "88e9cb5f",
   "metadata": {},
   "outputs": [
    {
     "name": "stdout",
     "output_type": "stream",
     "text": [
      "Naive Bayes Multinomial classification report df6:\n",
      "                precision    recall  f1-score   support\n",
      "\n",
      "         0.0       0.49      0.06      0.10      7355\n",
      "         1.0       0.34      0.68      0.45      5251\n",
      "         2.0       0.30      0.38      0.34      4405\n",
      "\n",
      "    accuracy                           0.33     17011\n",
      "   macro avg       0.38      0.37      0.30     17011\n",
      "weighted avg       0.39      0.33      0.27     17011\n",
      "\n"
     ]
    }
   ],
   "source": [
    "from sklearn.metrics import classification_report \n",
    "\n",
    "# get classification report\n",
    "print(\"Naive Bayes Multinomial classification report df6:\\n \", classification_report (y_test, y_pred_NB_Multinomial_df6))\n"
   ]
  },
  {
   "cell_type": "code",
   "execution_count": 26,
   "id": "a0499654",
   "metadata": {},
   "outputs": [
    {
     "name": "stdout",
     "output_type": "stream",
     "text": [
      "[[ 427 4480 2448]\n",
      " [ 210 3549 1492]\n",
      " [ 229 2495 1681]]\n"
     ]
    }
   ],
   "source": [
    "# create confusion matrix\n",
    "cf_matrix_Multinomial_df6 = confusion_matrix(y_test, y_pred_NB_Multinomial_df6)\n",
    "print(cf_matrix_Multinomial_df6)\n"
   ]
  },
  {
   "cell_type": "code",
   "execution_count": null,
   "id": "bc6083dd",
   "metadata": {},
   "outputs": [],
   "source": []
  },
  {
   "cell_type": "markdown",
   "id": "83fd8c73",
   "metadata": {},
   "source": [
    "# 3 Create Naive Bayes Complement on numeric data"
   ]
  },
  {
   "cell_type": "code",
   "execution_count": 27,
   "id": "f55c6a6e",
   "metadata": {},
   "outputs": [],
   "source": [
    "from sklearn.naive_bayes import ComplementNB\n",
    "clf_compl_df6 = ComplementNB()\n"
   ]
  },
  {
   "cell_type": "code",
   "execution_count": 28,
   "id": "d87fa084",
   "metadata": {},
   "outputs": [
    {
     "data": {
      "text/html": [
       "<style>#sk-container-id-3 {color: black;background-color: white;}#sk-container-id-3 pre{padding: 0;}#sk-container-id-3 div.sk-toggleable {background-color: white;}#sk-container-id-3 label.sk-toggleable__label {cursor: pointer;display: block;width: 100%;margin-bottom: 0;padding: 0.3em;box-sizing: border-box;text-align: center;}#sk-container-id-3 label.sk-toggleable__label-arrow:before {content: \"▸\";float: left;margin-right: 0.25em;color: #696969;}#sk-container-id-3 label.sk-toggleable__label-arrow:hover:before {color: black;}#sk-container-id-3 div.sk-estimator:hover label.sk-toggleable__label-arrow:before {color: black;}#sk-container-id-3 div.sk-toggleable__content {max-height: 0;max-width: 0;overflow: hidden;text-align: left;background-color: #f0f8ff;}#sk-container-id-3 div.sk-toggleable__content pre {margin: 0.2em;color: black;border-radius: 0.25em;background-color: #f0f8ff;}#sk-container-id-3 input.sk-toggleable__control:checked~div.sk-toggleable__content {max-height: 200px;max-width: 100%;overflow: auto;}#sk-container-id-3 input.sk-toggleable__control:checked~label.sk-toggleable__label-arrow:before {content: \"▾\";}#sk-container-id-3 div.sk-estimator input.sk-toggleable__control:checked~label.sk-toggleable__label {background-color: #d4ebff;}#sk-container-id-3 div.sk-label input.sk-toggleable__control:checked~label.sk-toggleable__label {background-color: #d4ebff;}#sk-container-id-3 input.sk-hidden--visually {border: 0;clip: rect(1px 1px 1px 1px);clip: rect(1px, 1px, 1px, 1px);height: 1px;margin: -1px;overflow: hidden;padding: 0;position: absolute;width: 1px;}#sk-container-id-3 div.sk-estimator {font-family: monospace;background-color: #f0f8ff;border: 1px dotted black;border-radius: 0.25em;box-sizing: border-box;margin-bottom: 0.5em;}#sk-container-id-3 div.sk-estimator:hover {background-color: #d4ebff;}#sk-container-id-3 div.sk-parallel-item::after {content: \"\";width: 100%;border-bottom: 1px solid gray;flex-grow: 1;}#sk-container-id-3 div.sk-label:hover label.sk-toggleable__label {background-color: #d4ebff;}#sk-container-id-3 div.sk-serial::before {content: \"\";position: absolute;border-left: 1px solid gray;box-sizing: border-box;top: 0;bottom: 0;left: 50%;z-index: 0;}#sk-container-id-3 div.sk-serial {display: flex;flex-direction: column;align-items: center;background-color: white;padding-right: 0.2em;padding-left: 0.2em;position: relative;}#sk-container-id-3 div.sk-item {position: relative;z-index: 1;}#sk-container-id-3 div.sk-parallel {display: flex;align-items: stretch;justify-content: center;background-color: white;position: relative;}#sk-container-id-3 div.sk-item::before, #sk-container-id-3 div.sk-parallel-item::before {content: \"\";position: absolute;border-left: 1px solid gray;box-sizing: border-box;top: 0;bottom: 0;left: 50%;z-index: -1;}#sk-container-id-3 div.sk-parallel-item {display: flex;flex-direction: column;z-index: 1;position: relative;background-color: white;}#sk-container-id-3 div.sk-parallel-item:first-child::after {align-self: flex-end;width: 50%;}#sk-container-id-3 div.sk-parallel-item:last-child::after {align-self: flex-start;width: 50%;}#sk-container-id-3 div.sk-parallel-item:only-child::after {width: 0;}#sk-container-id-3 div.sk-dashed-wrapped {border: 1px dashed gray;margin: 0 0.4em 0.5em 0.4em;box-sizing: border-box;padding-bottom: 0.4em;background-color: white;}#sk-container-id-3 div.sk-label label {font-family: monospace;font-weight: bold;display: inline-block;line-height: 1.2em;}#sk-container-id-3 div.sk-label-container {text-align: center;}#sk-container-id-3 div.sk-container {/* jupyter's `normalize.less` sets `[hidden] { display: none; }` but bootstrap.min.css set `[hidden] { display: none !important; }` so we also need the `!important` here to be able to override the default hidden behavior on the sphinx rendered scikit-learn.org. See: https://github.com/scikit-learn/scikit-learn/issues/21755 */display: inline-block !important;position: relative;}#sk-container-id-3 div.sk-text-repr-fallback {display: none;}</style><div id=\"sk-container-id-3\" class=\"sk-top-container\"><div class=\"sk-text-repr-fallback\"><pre>ComplementNB()</pre><b>In a Jupyter environment, please rerun this cell to show the HTML representation or trust the notebook. <br />On GitHub, the HTML representation is unable to render, please try loading this page with nbviewer.org.</b></div><div class=\"sk-container\" hidden><div class=\"sk-item\"><div class=\"sk-estimator sk-toggleable\"><input class=\"sk-toggleable__control sk-hidden--visually\" id=\"sk-estimator-id-3\" type=\"checkbox\" checked><label for=\"sk-estimator-id-3\" class=\"sk-toggleable__label sk-toggleable__label-arrow\">ComplementNB</label><div class=\"sk-toggleable__content\"><pre>ComplementNB()</pre></div></div></div></div></div>"
      ],
      "text/plain": [
       "ComplementNB()"
      ]
     },
     "execution_count": 28,
     "metadata": {},
     "output_type": "execute_result"
    }
   ],
   "source": [
    "clf_compl_df6.fit(x_train, y_train)\n"
   ]
  },
  {
   "cell_type": "code",
   "execution_count": 29,
   "id": "de466502",
   "metadata": {},
   "outputs": [
    {
     "data": {
      "text/plain": [
       "0.3272000470283934"
      ]
     },
     "execution_count": 29,
     "metadata": {},
     "output_type": "execute_result"
    }
   ],
   "source": [
    "# get accuracy\n",
    "accuracyNB_Complement_df6 = clf_compl_df6.score(x_test, y_test)\n",
    "accuracyNB_Complement_df6\n",
    "\n",
    "# 0.327\n"
   ]
  },
  {
   "cell_type": "code",
   "execution_count": 30,
   "id": "8e71e619",
   "metadata": {},
   "outputs": [
    {
     "data": {
      "text/html": [
       "<div>\n",
       "<style scoped>\n",
       "    .dataframe tbody tr th:only-of-type {\n",
       "        vertical-align: middle;\n",
       "    }\n",
       "\n",
       "    .dataframe tbody tr th {\n",
       "        vertical-align: top;\n",
       "    }\n",
       "\n",
       "    .dataframe thead th {\n",
       "        text-align: right;\n",
       "    }\n",
       "</style>\n",
       "<table border=\"1\" class=\"dataframe\">\n",
       "  <thead>\n",
       "    <tr style=\"text-align: right;\">\n",
       "      <th>predict</th>\n",
       "      <th>0.0</th>\n",
       "      <th>1.0</th>\n",
       "      <th>2.0</th>\n",
       "    </tr>\n",
       "    <tr>\n",
       "      <th>real</th>\n",
       "      <th></th>\n",
       "      <th></th>\n",
       "      <th></th>\n",
       "    </tr>\n",
       "  </thead>\n",
       "  <tbody>\n",
       "    <tr>\n",
       "      <th>0.0</th>\n",
       "      <td>77</td>\n",
       "      <td>4682</td>\n",
       "      <td>2596</td>\n",
       "    </tr>\n",
       "    <tr>\n",
       "      <th>1.0</th>\n",
       "      <td>7</td>\n",
       "      <td>3724</td>\n",
       "      <td>1520</td>\n",
       "    </tr>\n",
       "    <tr>\n",
       "      <th>2.0</th>\n",
       "      <td>11</td>\n",
       "      <td>2629</td>\n",
       "      <td>1765</td>\n",
       "    </tr>\n",
       "  </tbody>\n",
       "</table>\n",
       "</div>"
      ],
      "text/plain": [
       "predict  0.0   1.0   2.0\n",
       "real                    \n",
       "0.0       77  4682  2596\n",
       "1.0        7  3724  1520\n",
       "2.0       11  2629  1765"
      ]
     },
     "execution_count": 30,
     "metadata": {},
     "output_type": "execute_result"
    }
   ],
   "source": [
    "# get confusion matrix\n",
    "y_pred_NB_Complement_df6 = clf_compl_df6.predict(x_test)\n",
    "pd.crosstab(y_test, y_pred_NB_Complement_df6, rownames=[\"true\"], colnames=[\"predict\"])\n",
    "\n",
    "# worse than model before"
   ]
  },
  {
   "cell_type": "code",
   "execution_count": 31,
   "id": "a290a7bc",
   "metadata": {},
   "outputs": [
    {
     "name": "stdout",
     "output_type": "stream",
     "text": [
      "Naive Bayes Complement classification report df6:\n",
      "                precision    recall  f1-score   support\n",
      "\n",
      "         0.0       0.81      0.01      0.02      7355\n",
      "         1.0       0.34      0.71      0.46      5251\n",
      "         2.0       0.30      0.40      0.34      4405\n",
      "\n",
      "    accuracy                           0.33     17011\n",
      "   macro avg       0.48      0.37      0.27     17011\n",
      "weighted avg       0.53      0.33      0.24     17011\n",
      "\n"
     ]
    }
   ],
   "source": [
    "from sklearn.metrics import classification_report \n",
    "\n",
    "# get classification report\n",
    "print(\"Naive Bayes Complement classification report df6:\\n \", classification_report (y_test, y_pred_NB_Complement_df6))\n"
   ]
  },
  {
   "cell_type": "code",
   "execution_count": 32,
   "id": "73de4f4f",
   "metadata": {
    "scrolled": true
   },
   "outputs": [
    {
     "name": "stdout",
     "output_type": "stream",
     "text": [
      "[[  77 4682 2596]\n",
      " [   7 3724 1520]\n",
      " [  11 2629 1765]]\n"
     ]
    }
   ],
   "source": [
    "# create confusion matrix\n",
    "cf_matrix_Complement_df6 = confusion_matrix(y_test, y_pred_NB_Complement_df6)\n",
    "print(cf_matrix_Complement_df6)\n"
   ]
  },
  {
   "cell_type": "code",
   "execution_count": null,
   "id": "4ff1190e",
   "metadata": {},
   "outputs": [],
   "source": []
  },
  {
   "cell_type": "markdown",
   "id": "623af938",
   "metadata": {},
   "source": [
    "# CREATE SCALED DATASET"
   ]
  },
  {
   "cell_type": "code",
   "execution_count": 42,
   "id": "a8394b73",
   "metadata": {},
   "outputs": [],
   "source": [
    "# Logistic Regression need standardisation\n"
   ]
  },
  {
   "cell_type": "code",
   "execution_count": 51,
   "id": "dfd541d8",
   "metadata": {},
   "outputs": [],
   "source": [
    "from sklearn.preprocessing import StandardScaler\n",
    "\n",
    "scaler = StandardScaler()\n"
   ]
  },
  {
   "cell_type": "code",
   "execution_count": 52,
   "id": "be503247",
   "metadata": {},
   "outputs": [],
   "source": [
    "cols = x_train.columns\n",
    "\n",
    "x_train_scaled = pd.DataFrame(scaler.fit_transform(x_train), columns=cols)\n",
    "x_test_scaled = pd.DataFrame(scaler.transform(x_test), columns=cols)\n"
   ]
  },
  {
   "cell_type": "code",
   "execution_count": 53,
   "id": "05003f66",
   "metadata": {
    "scrolled": true
   },
   "outputs": [
    {
     "data": {
      "text/html": [
       "<div>\n",
       "<style scoped>\n",
       "    .dataframe tbody tr th:only-of-type {\n",
       "        vertical-align: middle;\n",
       "    }\n",
       "\n",
       "    .dataframe tbody tr th {\n",
       "        vertical-align: top;\n",
       "    }\n",
       "\n",
       "    .dataframe thead th {\n",
       "        text-align: right;\n",
       "    }\n",
       "</style>\n",
       "<table border=\"1\" class=\"dataframe\">\n",
       "  <thead>\n",
       "    <tr style=\"text-align: right;\">\n",
       "      <th></th>\n",
       "      <th>published_utc</th>\n",
       "      <th>year</th>\n",
       "      <th>month</th>\n",
       "      <th>dayofyear</th>\n",
       "      <th>dayofthemonth</th>\n",
       "      <th>weekday</th>\n",
       "      <th>weekend</th>\n",
       "      <th>factuality</th>\n",
       "      <th>questionable-source</th>\n",
       "      <th>conspiracy-pseudoscience</th>\n",
       "      <th>...</th>\n",
       "      <th>Israel</th>\n",
       "      <th>Japan</th>\n",
       "      <th>Kenya</th>\n",
       "      <th>Macedonia</th>\n",
       "      <th>Netherlands</th>\n",
       "      <th>Qatar</th>\n",
       "      <th>Russia</th>\n",
       "      <th>USA</th>\n",
       "      <th>United Kingdom</th>\n",
       "      <th>Unknown</th>\n",
       "    </tr>\n",
       "  </thead>\n",
       "  <tbody>\n",
       "    <tr>\n",
       "      <th>0</th>\n",
       "      <td>0.236385</td>\n",
       "      <td>0.0</td>\n",
       "      <td>0.138142</td>\n",
       "      <td>0.238484</td>\n",
       "      <td>1.280930</td>\n",
       "      <td>-0.413892</td>\n",
       "      <td>-0.531249</td>\n",
       "      <td>1.330124</td>\n",
       "      <td>-0.500620</td>\n",
       "      <td>-0.356074</td>\n",
       "      <td>...</td>\n",
       "      <td>-0.063354</td>\n",
       "      <td>-0.014849</td>\n",
       "      <td>-0.012124</td>\n",
       "      <td>-0.036394</td>\n",
       "      <td>-0.00664</td>\n",
       "      <td>-0.101661</td>\n",
       "      <td>-0.263741</td>\n",
       "      <td>0.743329</td>\n",
       "      <td>-0.502525</td>\n",
       "      <td>-0.138632</td>\n",
       "    </tr>\n",
       "    <tr>\n",
       "      <th>1</th>\n",
       "      <td>0.410721</td>\n",
       "      <td>0.0</td>\n",
       "      <td>0.430322</td>\n",
       "      <td>0.410803</td>\n",
       "      <td>-0.203178</td>\n",
       "      <td>1.685848</td>\n",
       "      <td>1.882357</td>\n",
       "      <td>1.330124</td>\n",
       "      <td>-0.500620</td>\n",
       "      <td>-0.356074</td>\n",
       "      <td>...</td>\n",
       "      <td>-0.063354</td>\n",
       "      <td>-0.014849</td>\n",
       "      <td>-0.012124</td>\n",
       "      <td>-0.036394</td>\n",
       "      <td>-0.00664</td>\n",
       "      <td>-0.101661</td>\n",
       "      <td>-0.263741</td>\n",
       "      <td>-1.345299</td>\n",
       "      <td>1.989951</td>\n",
       "      <td>-0.138632</td>\n",
       "    </tr>\n",
       "    <tr>\n",
       "      <th>2</th>\n",
       "      <td>0.129979</td>\n",
       "      <td>0.0</td>\n",
       "      <td>0.138142</td>\n",
       "      <td>0.133177</td>\n",
       "      <td>0.025146</td>\n",
       "      <td>1.160913</td>\n",
       "      <td>1.882357</td>\n",
       "      <td>-0.339294</td>\n",
       "      <td>-0.500620</td>\n",
       "      <td>-0.356074</td>\n",
       "      <td>...</td>\n",
       "      <td>-0.063354</td>\n",
       "      <td>-0.014849</td>\n",
       "      <td>-0.012124</td>\n",
       "      <td>-0.036394</td>\n",
       "      <td>-0.00664</td>\n",
       "      <td>-0.101661</td>\n",
       "      <td>-0.263741</td>\n",
       "      <td>0.743329</td>\n",
       "      <td>-0.502525</td>\n",
       "      <td>-0.138632</td>\n",
       "    </tr>\n",
       "    <tr>\n",
       "      <th>3</th>\n",
       "      <td>-0.689343</td>\n",
       "      <td>0.0</td>\n",
       "      <td>-0.738400</td>\n",
       "      <td>-0.690127</td>\n",
       "      <td>0.595957</td>\n",
       "      <td>0.111043</td>\n",
       "      <td>-0.531249</td>\n",
       "      <td>-1.174003</td>\n",
       "      <td>-0.500620</td>\n",
       "      <td>2.808407</td>\n",
       "      <td>...</td>\n",
       "      <td>-0.063354</td>\n",
       "      <td>-0.014849</td>\n",
       "      <td>-0.012124</td>\n",
       "      <td>-0.036394</td>\n",
       "      <td>-0.00664</td>\n",
       "      <td>-0.101661</td>\n",
       "      <td>-0.263741</td>\n",
       "      <td>0.743329</td>\n",
       "      <td>-0.502525</td>\n",
       "      <td>-0.138632</td>\n",
       "    </tr>\n",
       "    <tr>\n",
       "      <th>4</th>\n",
       "      <td>-0.270465</td>\n",
       "      <td>0.0</td>\n",
       "      <td>-0.154039</td>\n",
       "      <td>-0.268902</td>\n",
       "      <td>-1.344800</td>\n",
       "      <td>1.160913</td>\n",
       "      <td>1.882357</td>\n",
       "      <td>-0.339294</td>\n",
       "      <td>-0.500620</td>\n",
       "      <td>-0.356074</td>\n",
       "      <td>...</td>\n",
       "      <td>-0.063354</td>\n",
       "      <td>-0.014849</td>\n",
       "      <td>-0.012124</td>\n",
       "      <td>-0.036394</td>\n",
       "      <td>-0.00664</td>\n",
       "      <td>-0.101661</td>\n",
       "      <td>-0.263741</td>\n",
       "      <td>-1.345299</td>\n",
       "      <td>1.989951</td>\n",
       "      <td>-0.138632</td>\n",
       "    </tr>\n",
       "    <tr>\n",
       "      <th>...</th>\n",
       "      <td>...</td>\n",
       "      <td>...</td>\n",
       "      <td>...</td>\n",
       "      <td>...</td>\n",
       "      <td>...</td>\n",
       "      <td>...</td>\n",
       "      <td>...</td>\n",
       "      <td>...</td>\n",
       "      <td>...</td>\n",
       "      <td>...</td>\n",
       "      <td>...</td>\n",
       "      <td>...</td>\n",
       "      <td>...</td>\n",
       "      <td>...</td>\n",
       "      <td>...</td>\n",
       "      <td>...</td>\n",
       "      <td>...</td>\n",
       "      <td>...</td>\n",
       "      <td>...</td>\n",
       "      <td>...</td>\n",
       "      <td>...</td>\n",
       "    </tr>\n",
       "    <tr>\n",
       "      <th>68035</th>\n",
       "      <td>1.102156</td>\n",
       "      <td>0.0</td>\n",
       "      <td>1.014684</td>\n",
       "      <td>1.100082</td>\n",
       "      <td>1.052606</td>\n",
       "      <td>-0.938827</td>\n",
       "      <td>-0.531249</td>\n",
       "      <td>0.495415</td>\n",
       "      <td>-0.500620</td>\n",
       "      <td>-0.356074</td>\n",
       "      <td>...</td>\n",
       "      <td>-0.063354</td>\n",
       "      <td>-0.014849</td>\n",
       "      <td>-0.012124</td>\n",
       "      <td>-0.036394</td>\n",
       "      <td>-0.00664</td>\n",
       "      <td>-0.101661</td>\n",
       "      <td>-0.263741</td>\n",
       "      <td>0.743329</td>\n",
       "      <td>-0.502525</td>\n",
       "      <td>-0.138632</td>\n",
       "    </tr>\n",
       "    <tr>\n",
       "      <th>68036</th>\n",
       "      <td>-0.289386</td>\n",
       "      <td>0.0</td>\n",
       "      <td>-0.154039</td>\n",
       "      <td>-0.288048</td>\n",
       "      <td>-1.573124</td>\n",
       "      <td>0.111043</td>\n",
       "      <td>-0.531249</td>\n",
       "      <td>-1.174003</td>\n",
       "      <td>-0.500620</td>\n",
       "      <td>2.808407</td>\n",
       "      <td>...</td>\n",
       "      <td>-0.063354</td>\n",
       "      <td>-0.014849</td>\n",
       "      <td>-0.012124</td>\n",
       "      <td>-0.036394</td>\n",
       "      <td>-0.00664</td>\n",
       "      <td>-0.101661</td>\n",
       "      <td>-0.263741</td>\n",
       "      <td>-1.345299</td>\n",
       "      <td>-0.502525</td>\n",
       "      <td>-0.138632</td>\n",
       "    </tr>\n",
       "    <tr>\n",
       "      <th>68037</th>\n",
       "      <td>0.016456</td>\n",
       "      <td>0.0</td>\n",
       "      <td>0.138142</td>\n",
       "      <td>0.018298</td>\n",
       "      <td>-1.344800</td>\n",
       "      <td>-1.463761</td>\n",
       "      <td>-0.531249</td>\n",
       "      <td>1.330124</td>\n",
       "      <td>-0.500620</td>\n",
       "      <td>-0.356074</td>\n",
       "      <td>...</td>\n",
       "      <td>-0.063354</td>\n",
       "      <td>-0.014849</td>\n",
       "      <td>-0.012124</td>\n",
       "      <td>-0.036394</td>\n",
       "      <td>-0.00664</td>\n",
       "      <td>-0.101661</td>\n",
       "      <td>-0.263741</td>\n",
       "      <td>0.743329</td>\n",
       "      <td>-0.502525</td>\n",
       "      <td>-0.138632</td>\n",
       "    </tr>\n",
       "    <tr>\n",
       "      <th>68038</th>\n",
       "      <td>-0.207708</td>\n",
       "      <td>0.0</td>\n",
       "      <td>-0.154039</td>\n",
       "      <td>-0.211462</td>\n",
       "      <td>-0.659827</td>\n",
       "      <td>0.635978</td>\n",
       "      <td>-0.531249</td>\n",
       "      <td>-0.339294</td>\n",
       "      <td>1.997523</td>\n",
       "      <td>-0.356074</td>\n",
       "      <td>...</td>\n",
       "      <td>-0.063354</td>\n",
       "      <td>-0.014849</td>\n",
       "      <td>-0.012124</td>\n",
       "      <td>-0.036394</td>\n",
       "      <td>-0.00664</td>\n",
       "      <td>-0.101661</td>\n",
       "      <td>-0.263741</td>\n",
       "      <td>0.743329</td>\n",
       "      <td>-0.502525</td>\n",
       "      <td>-0.138632</td>\n",
       "    </tr>\n",
       "    <tr>\n",
       "      <th>68039</th>\n",
       "      <td>-1.425891</td>\n",
       "      <td>0.0</td>\n",
       "      <td>-1.322762</td>\n",
       "      <td>-1.427272</td>\n",
       "      <td>-1.458962</td>\n",
       "      <td>0.111043</td>\n",
       "      <td>-0.531249</td>\n",
       "      <td>-0.339294</td>\n",
       "      <td>-0.500620</td>\n",
       "      <td>-0.356074</td>\n",
       "      <td>...</td>\n",
       "      <td>-0.063354</td>\n",
       "      <td>-0.014849</td>\n",
       "      <td>-0.012124</td>\n",
       "      <td>-0.036394</td>\n",
       "      <td>-0.00664</td>\n",
       "      <td>-0.101661</td>\n",
       "      <td>-0.263741</td>\n",
       "      <td>0.743329</td>\n",
       "      <td>-0.502525</td>\n",
       "      <td>-0.138632</td>\n",
       "    </tr>\n",
       "  </tbody>\n",
       "</table>\n",
       "<p>68040 rows × 34 columns</p>\n",
       "</div>"
      ],
      "text/plain": [
       "       published_utc  year     month  dayofyear  dayofthemonth   weekday  \\\n",
       "0           0.236385   0.0  0.138142   0.238484       1.280930 -0.413892   \n",
       "1           0.410721   0.0  0.430322   0.410803      -0.203178  1.685848   \n",
       "2           0.129979   0.0  0.138142   0.133177       0.025146  1.160913   \n",
       "3          -0.689343   0.0 -0.738400  -0.690127       0.595957  0.111043   \n",
       "4          -0.270465   0.0 -0.154039  -0.268902      -1.344800  1.160913   \n",
       "...              ...   ...       ...        ...            ...       ...   \n",
       "68035       1.102156   0.0  1.014684   1.100082       1.052606 -0.938827   \n",
       "68036      -0.289386   0.0 -0.154039  -0.288048      -1.573124  0.111043   \n",
       "68037       0.016456   0.0  0.138142   0.018298      -1.344800 -1.463761   \n",
       "68038      -0.207708   0.0 -0.154039  -0.211462      -0.659827  0.635978   \n",
       "68039      -1.425891   0.0 -1.322762  -1.427272      -1.458962  0.111043   \n",
       "\n",
       "        weekend  factuality  questionable-source  conspiracy-pseudoscience  \\\n",
       "0     -0.531249    1.330124            -0.500620                 -0.356074   \n",
       "1      1.882357    1.330124            -0.500620                 -0.356074   \n",
       "2      1.882357   -0.339294            -0.500620                 -0.356074   \n",
       "3     -0.531249   -1.174003            -0.500620                  2.808407   \n",
       "4      1.882357   -0.339294            -0.500620                 -0.356074   \n",
       "...         ...         ...                  ...                       ...   \n",
       "68035 -0.531249    0.495415            -0.500620                 -0.356074   \n",
       "68036 -0.531249   -1.174003            -0.500620                  2.808407   \n",
       "68037 -0.531249    1.330124            -0.500620                 -0.356074   \n",
       "68038 -0.531249   -0.339294             1.997523                 -0.356074   \n",
       "68039 -0.531249   -0.339294            -0.500620                 -0.356074   \n",
       "\n",
       "       ...    Israel     Japan     Kenya  Macedonia  Netherlands     Qatar  \\\n",
       "0      ... -0.063354 -0.014849 -0.012124  -0.036394     -0.00664 -0.101661   \n",
       "1      ... -0.063354 -0.014849 -0.012124  -0.036394     -0.00664 -0.101661   \n",
       "2      ... -0.063354 -0.014849 -0.012124  -0.036394     -0.00664 -0.101661   \n",
       "3      ... -0.063354 -0.014849 -0.012124  -0.036394     -0.00664 -0.101661   \n",
       "4      ... -0.063354 -0.014849 -0.012124  -0.036394     -0.00664 -0.101661   \n",
       "...    ...       ...       ...       ...        ...          ...       ...   \n",
       "68035  ... -0.063354 -0.014849 -0.012124  -0.036394     -0.00664 -0.101661   \n",
       "68036  ... -0.063354 -0.014849 -0.012124  -0.036394     -0.00664 -0.101661   \n",
       "68037  ... -0.063354 -0.014849 -0.012124  -0.036394     -0.00664 -0.101661   \n",
       "68038  ... -0.063354 -0.014849 -0.012124  -0.036394     -0.00664 -0.101661   \n",
       "68039  ... -0.063354 -0.014849 -0.012124  -0.036394     -0.00664 -0.101661   \n",
       "\n",
       "         Russia       USA  United Kingdom   Unknown  \n",
       "0     -0.263741  0.743329       -0.502525 -0.138632  \n",
       "1     -0.263741 -1.345299        1.989951 -0.138632  \n",
       "2     -0.263741  0.743329       -0.502525 -0.138632  \n",
       "3     -0.263741  0.743329       -0.502525 -0.138632  \n",
       "4     -0.263741 -1.345299        1.989951 -0.138632  \n",
       "...         ...       ...             ...       ...  \n",
       "68035 -0.263741  0.743329       -0.502525 -0.138632  \n",
       "68036 -0.263741 -1.345299       -0.502525 -0.138632  \n",
       "68037 -0.263741  0.743329       -0.502525 -0.138632  \n",
       "68038 -0.263741  0.743329       -0.502525 -0.138632  \n",
       "68039 -0.263741  0.743329       -0.502525 -0.138632  \n",
       "\n",
       "[68040 rows x 34 columns]"
      ]
     },
     "execution_count": 53,
     "metadata": {},
     "output_type": "execute_result"
    }
   ],
   "source": [
    "x_train_scaled"
   ]
  },
  {
   "cell_type": "code",
   "execution_count": 54,
   "id": "332e6cb8",
   "metadata": {},
   "outputs": [
    {
     "data": {
      "text/html": [
       "<div>\n",
       "<style scoped>\n",
       "    .dataframe tbody tr th:only-of-type {\n",
       "        vertical-align: middle;\n",
       "    }\n",
       "\n",
       "    .dataframe tbody tr th {\n",
       "        vertical-align: top;\n",
       "    }\n",
       "\n",
       "    .dataframe thead th {\n",
       "        text-align: right;\n",
       "    }\n",
       "</style>\n",
       "<table border=\"1\" class=\"dataframe\">\n",
       "  <thead>\n",
       "    <tr style=\"text-align: right;\">\n",
       "      <th></th>\n",
       "      <th>published_utc</th>\n",
       "      <th>year</th>\n",
       "      <th>month</th>\n",
       "      <th>dayofyear</th>\n",
       "      <th>dayofthemonth</th>\n",
       "      <th>weekday</th>\n",
       "      <th>weekend</th>\n",
       "      <th>factuality</th>\n",
       "      <th>questionable-source</th>\n",
       "      <th>conspiracy-pseudoscience</th>\n",
       "      <th>...</th>\n",
       "      <th>Israel</th>\n",
       "      <th>Japan</th>\n",
       "      <th>Kenya</th>\n",
       "      <th>Macedonia</th>\n",
       "      <th>Netherlands</th>\n",
       "      <th>Qatar</th>\n",
       "      <th>Russia</th>\n",
       "      <th>USA</th>\n",
       "      <th>United Kingdom</th>\n",
       "      <th>Unknown</th>\n",
       "    </tr>\n",
       "  </thead>\n",
       "  <tbody>\n",
       "    <tr>\n",
       "      <th>0</th>\n",
       "      <td>-1.318544</td>\n",
       "      <td>0.0</td>\n",
       "      <td>-1.322762</td>\n",
       "      <td>-1.321966</td>\n",
       "      <td>-0.203178</td>\n",
       "      <td>-1.463761</td>\n",
       "      <td>-0.531249</td>\n",
       "      <td>1.330124</td>\n",
       "      <td>-0.500620</td>\n",
       "      <td>-0.356074</td>\n",
       "      <td>...</td>\n",
       "      <td>-0.063354</td>\n",
       "      <td>-0.014849</td>\n",
       "      <td>-0.012124</td>\n",
       "      <td>-0.036394</td>\n",
       "      <td>-0.00664</td>\n",
       "      <td>-0.101661</td>\n",
       "      <td>-0.263741</td>\n",
       "      <td>0.743329</td>\n",
       "      <td>-0.502525</td>\n",
       "      <td>-0.138632</td>\n",
       "    </tr>\n",
       "    <tr>\n",
       "      <th>1</th>\n",
       "      <td>-0.041297</td>\n",
       "      <td>0.0</td>\n",
       "      <td>-0.154039</td>\n",
       "      <td>-0.039142</td>\n",
       "      <td>1.395092</td>\n",
       "      <td>-0.938827</td>\n",
       "      <td>-0.531249</td>\n",
       "      <td>-0.339294</td>\n",
       "      <td>-0.500620</td>\n",
       "      <td>-0.356074</td>\n",
       "      <td>...</td>\n",
       "      <td>-0.063354</td>\n",
       "      <td>-0.014849</td>\n",
       "      <td>-0.012124</td>\n",
       "      <td>-0.036394</td>\n",
       "      <td>-0.00664</td>\n",
       "      <td>-0.101661</td>\n",
       "      <td>-0.263741</td>\n",
       "      <td>-1.345299</td>\n",
       "      <td>1.989951</td>\n",
       "      <td>-0.138632</td>\n",
       "    </tr>\n",
       "    <tr>\n",
       "      <th>2</th>\n",
       "      <td>1.171116</td>\n",
       "      <td>0.0</td>\n",
       "      <td>1.306864</td>\n",
       "      <td>1.176668</td>\n",
       "      <td>-1.573124</td>\n",
       "      <td>-0.413892</td>\n",
       "      <td>-0.531249</td>\n",
       "      <td>-0.339294</td>\n",
       "      <td>-0.500620</td>\n",
       "      <td>-0.356074</td>\n",
       "      <td>...</td>\n",
       "      <td>-0.063354</td>\n",
       "      <td>-0.014849</td>\n",
       "      <td>-0.012124</td>\n",
       "      <td>-0.036394</td>\n",
       "      <td>-0.00664</td>\n",
       "      <td>-0.101661</td>\n",
       "      <td>-0.263741</td>\n",
       "      <td>0.743329</td>\n",
       "      <td>-0.502525</td>\n",
       "      <td>-0.138632</td>\n",
       "    </tr>\n",
       "    <tr>\n",
       "      <th>3</th>\n",
       "      <td>0.095633</td>\n",
       "      <td>0.0</td>\n",
       "      <td>0.138142</td>\n",
       "      <td>0.094884</td>\n",
       "      <td>-0.431502</td>\n",
       "      <td>-0.938827</td>\n",
       "      <td>-0.531249</td>\n",
       "      <td>0.495415</td>\n",
       "      <td>-0.500620</td>\n",
       "      <td>-0.356074</td>\n",
       "      <td>...</td>\n",
       "      <td>-0.063354</td>\n",
       "      <td>-0.014849</td>\n",
       "      <td>-0.012124</td>\n",
       "      <td>-0.036394</td>\n",
       "      <td>-0.00664</td>\n",
       "      <td>-0.101661</td>\n",
       "      <td>-0.263741</td>\n",
       "      <td>-1.345299</td>\n",
       "      <td>1.989951</td>\n",
       "      <td>-0.138632</td>\n",
       "    </tr>\n",
       "    <tr>\n",
       "      <th>4</th>\n",
       "      <td>-0.690574</td>\n",
       "      <td>0.0</td>\n",
       "      <td>-0.738400</td>\n",
       "      <td>-0.690127</td>\n",
       "      <td>0.595957</td>\n",
       "      <td>0.111043</td>\n",
       "      <td>-0.531249</td>\n",
       "      <td>1.330124</td>\n",
       "      <td>-0.500620</td>\n",
       "      <td>-0.356074</td>\n",
       "      <td>...</td>\n",
       "      <td>-0.063354</td>\n",
       "      <td>-0.014849</td>\n",
       "      <td>-0.012124</td>\n",
       "      <td>-0.036394</td>\n",
       "      <td>-0.00664</td>\n",
       "      <td>-0.101661</td>\n",
       "      <td>-0.263741</td>\n",
       "      <td>0.743329</td>\n",
       "      <td>-0.502525</td>\n",
       "      <td>-0.138632</td>\n",
       "    </tr>\n",
       "    <tr>\n",
       "      <th>...</th>\n",
       "      <td>...</td>\n",
       "      <td>...</td>\n",
       "      <td>...</td>\n",
       "      <td>...</td>\n",
       "      <td>...</td>\n",
       "      <td>...</td>\n",
       "      <td>...</td>\n",
       "      <td>...</td>\n",
       "      <td>...</td>\n",
       "      <td>...</td>\n",
       "      <td>...</td>\n",
       "      <td>...</td>\n",
       "      <td>...</td>\n",
       "      <td>...</td>\n",
       "      <td>...</td>\n",
       "      <td>...</td>\n",
       "      <td>...</td>\n",
       "      <td>...</td>\n",
       "      <td>...</td>\n",
       "      <td>...</td>\n",
       "      <td>...</td>\n",
       "    </tr>\n",
       "    <tr>\n",
       "      <th>17006</th>\n",
       "      <td>-1.090491</td>\n",
       "      <td>0.0</td>\n",
       "      <td>-1.030581</td>\n",
       "      <td>-1.092206</td>\n",
       "      <td>-0.659827</td>\n",
       "      <td>0.111043</td>\n",
       "      <td>-0.531249</td>\n",
       "      <td>-0.339294</td>\n",
       "      <td>-0.500620</td>\n",
       "      <td>-0.356074</td>\n",
       "      <td>...</td>\n",
       "      <td>-0.063354</td>\n",
       "      <td>-0.014849</td>\n",
       "      <td>-0.012124</td>\n",
       "      <td>-0.036394</td>\n",
       "      <td>-0.00664</td>\n",
       "      <td>-0.101661</td>\n",
       "      <td>-0.263741</td>\n",
       "      <td>0.743329</td>\n",
       "      <td>-0.502525</td>\n",
       "      <td>-0.138632</td>\n",
       "    </tr>\n",
       "    <tr>\n",
       "      <th>17007</th>\n",
       "      <td>0.017167</td>\n",
       "      <td>0.0</td>\n",
       "      <td>0.138142</td>\n",
       "      <td>0.018298</td>\n",
       "      <td>-1.344800</td>\n",
       "      <td>-1.463761</td>\n",
       "      <td>-0.531249</td>\n",
       "      <td>-2.008711</td>\n",
       "      <td>1.997523</td>\n",
       "      <td>-0.356074</td>\n",
       "      <td>...</td>\n",
       "      <td>-0.063354</td>\n",
       "      <td>-0.014849</td>\n",
       "      <td>-0.012124</td>\n",
       "      <td>-0.036394</td>\n",
       "      <td>-0.00664</td>\n",
       "      <td>-0.101661</td>\n",
       "      <td>3.791605</td>\n",
       "      <td>-1.345299</td>\n",
       "      <td>-0.502525</td>\n",
       "      <td>-0.138632</td>\n",
       "    </tr>\n",
       "    <tr>\n",
       "      <th>17008</th>\n",
       "      <td>-1.319128</td>\n",
       "      <td>0.0</td>\n",
       "      <td>-1.322762</td>\n",
       "      <td>-1.321966</td>\n",
       "      <td>-0.203178</td>\n",
       "      <td>-1.463761</td>\n",
       "      <td>-0.531249</td>\n",
       "      <td>0.495415</td>\n",
       "      <td>-0.500620</td>\n",
       "      <td>-0.356074</td>\n",
       "      <td>...</td>\n",
       "      <td>-0.063354</td>\n",
       "      <td>-0.014849</td>\n",
       "      <td>-0.012124</td>\n",
       "      <td>-0.036394</td>\n",
       "      <td>-0.00664</td>\n",
       "      <td>-0.101661</td>\n",
       "      <td>-0.263741</td>\n",
       "      <td>0.743329</td>\n",
       "      <td>-0.502525</td>\n",
       "      <td>-0.138632</td>\n",
       "    </tr>\n",
       "    <tr>\n",
       "      <th>17009</th>\n",
       "      <td>-0.842215</td>\n",
       "      <td>0.0</td>\n",
       "      <td>-0.738400</td>\n",
       "      <td>-0.843300</td>\n",
       "      <td>-1.230638</td>\n",
       "      <td>-0.938827</td>\n",
       "      <td>-0.531249</td>\n",
       "      <td>1.330124</td>\n",
       "      <td>-0.500620</td>\n",
       "      <td>-0.356074</td>\n",
       "      <td>...</td>\n",
       "      <td>-0.063354</td>\n",
       "      <td>-0.014849</td>\n",
       "      <td>-0.012124</td>\n",
       "      <td>-0.036394</td>\n",
       "      <td>-0.00664</td>\n",
       "      <td>-0.101661</td>\n",
       "      <td>-0.263741</td>\n",
       "      <td>0.743329</td>\n",
       "      <td>-0.502525</td>\n",
       "      <td>-0.138632</td>\n",
       "    </tr>\n",
       "    <tr>\n",
       "      <th>17010</th>\n",
       "      <td>-1.425379</td>\n",
       "      <td>0.0</td>\n",
       "      <td>-1.322762</td>\n",
       "      <td>-1.427272</td>\n",
       "      <td>-1.458962</td>\n",
       "      <td>0.111043</td>\n",
       "      <td>-0.531249</td>\n",
       "      <td>-0.339294</td>\n",
       "      <td>-0.500620</td>\n",
       "      <td>-0.356074</td>\n",
       "      <td>...</td>\n",
       "      <td>-0.063354</td>\n",
       "      <td>-0.014849</td>\n",
       "      <td>-0.012124</td>\n",
       "      <td>-0.036394</td>\n",
       "      <td>-0.00664</td>\n",
       "      <td>-0.101661</td>\n",
       "      <td>-0.263741</td>\n",
       "      <td>0.743329</td>\n",
       "      <td>-0.502525</td>\n",
       "      <td>-0.138632</td>\n",
       "    </tr>\n",
       "  </tbody>\n",
       "</table>\n",
       "<p>17011 rows × 34 columns</p>\n",
       "</div>"
      ],
      "text/plain": [
       "       published_utc  year     month  dayofyear  dayofthemonth   weekday  \\\n",
       "0          -1.318544   0.0 -1.322762  -1.321966      -0.203178 -1.463761   \n",
       "1          -0.041297   0.0 -0.154039  -0.039142       1.395092 -0.938827   \n",
       "2           1.171116   0.0  1.306864   1.176668      -1.573124 -0.413892   \n",
       "3           0.095633   0.0  0.138142   0.094884      -0.431502 -0.938827   \n",
       "4          -0.690574   0.0 -0.738400  -0.690127       0.595957  0.111043   \n",
       "...              ...   ...       ...        ...            ...       ...   \n",
       "17006      -1.090491   0.0 -1.030581  -1.092206      -0.659827  0.111043   \n",
       "17007       0.017167   0.0  0.138142   0.018298      -1.344800 -1.463761   \n",
       "17008      -1.319128   0.0 -1.322762  -1.321966      -0.203178 -1.463761   \n",
       "17009      -0.842215   0.0 -0.738400  -0.843300      -1.230638 -0.938827   \n",
       "17010      -1.425379   0.0 -1.322762  -1.427272      -1.458962  0.111043   \n",
       "\n",
       "        weekend  factuality  questionable-source  conspiracy-pseudoscience  \\\n",
       "0     -0.531249    1.330124            -0.500620                 -0.356074   \n",
       "1     -0.531249   -0.339294            -0.500620                 -0.356074   \n",
       "2     -0.531249   -0.339294            -0.500620                 -0.356074   \n",
       "3     -0.531249    0.495415            -0.500620                 -0.356074   \n",
       "4     -0.531249    1.330124            -0.500620                 -0.356074   \n",
       "...         ...         ...                  ...                       ...   \n",
       "17006 -0.531249   -0.339294            -0.500620                 -0.356074   \n",
       "17007 -0.531249   -2.008711             1.997523                 -0.356074   \n",
       "17008 -0.531249    0.495415            -0.500620                 -0.356074   \n",
       "17009 -0.531249    1.330124            -0.500620                 -0.356074   \n",
       "17010 -0.531249   -0.339294            -0.500620                 -0.356074   \n",
       "\n",
       "       ...    Israel     Japan     Kenya  Macedonia  Netherlands     Qatar  \\\n",
       "0      ... -0.063354 -0.014849 -0.012124  -0.036394     -0.00664 -0.101661   \n",
       "1      ... -0.063354 -0.014849 -0.012124  -0.036394     -0.00664 -0.101661   \n",
       "2      ... -0.063354 -0.014849 -0.012124  -0.036394     -0.00664 -0.101661   \n",
       "3      ... -0.063354 -0.014849 -0.012124  -0.036394     -0.00664 -0.101661   \n",
       "4      ... -0.063354 -0.014849 -0.012124  -0.036394     -0.00664 -0.101661   \n",
       "...    ...       ...       ...       ...        ...          ...       ...   \n",
       "17006  ... -0.063354 -0.014849 -0.012124  -0.036394     -0.00664 -0.101661   \n",
       "17007  ... -0.063354 -0.014849 -0.012124  -0.036394     -0.00664 -0.101661   \n",
       "17008  ... -0.063354 -0.014849 -0.012124  -0.036394     -0.00664 -0.101661   \n",
       "17009  ... -0.063354 -0.014849 -0.012124  -0.036394     -0.00664 -0.101661   \n",
       "17010  ... -0.063354 -0.014849 -0.012124  -0.036394     -0.00664 -0.101661   \n",
       "\n",
       "         Russia       USA  United Kingdom   Unknown  \n",
       "0     -0.263741  0.743329       -0.502525 -0.138632  \n",
       "1     -0.263741 -1.345299        1.989951 -0.138632  \n",
       "2     -0.263741  0.743329       -0.502525 -0.138632  \n",
       "3     -0.263741 -1.345299        1.989951 -0.138632  \n",
       "4     -0.263741  0.743329       -0.502525 -0.138632  \n",
       "...         ...       ...             ...       ...  \n",
       "17006 -0.263741  0.743329       -0.502525 -0.138632  \n",
       "17007  3.791605 -1.345299       -0.502525 -0.138632  \n",
       "17008 -0.263741  0.743329       -0.502525 -0.138632  \n",
       "17009 -0.263741  0.743329       -0.502525 -0.138632  \n",
       "17010 -0.263741  0.743329       -0.502525 -0.138632  \n",
       "\n",
       "[17011 rows x 34 columns]"
      ]
     },
     "execution_count": 54,
     "metadata": {},
     "output_type": "execute_result"
    }
   ],
   "source": [
    "x_test_scaled"
   ]
  },
  {
   "cell_type": "code",
   "execution_count": null,
   "id": "a058c0c9",
   "metadata": {},
   "outputs": [],
   "source": []
  },
  {
   "cell_type": "markdown",
   "id": "8b673750",
   "metadata": {},
   "source": [
    "# 4 LOGISTIC REGRESSION ON SCALED DATA / numeric data"
   ]
  },
  {
   "cell_type": "code",
   "execution_count": null,
   "id": "e95ab2e9",
   "metadata": {},
   "outputs": [],
   "source": [
    "# Logistic Regression - needs standardization\n"
   ]
  },
  {
   "cell_type": "code",
   "execution_count": 55,
   "id": "2cd249d5",
   "metadata": {},
   "outputs": [],
   "source": [
    "# Step 3: Instantiate model \n",
    "from sklearn.linear_model import LogisticRegression\n",
    "\n",
    "clf_LogReg_df6 = LogisticRegression(C=1.0)\n"
   ]
  },
  {
   "cell_type": "code",
   "execution_count": 56,
   "id": "4f77e7ce",
   "metadata": {},
   "outputs": [
    {
     "name": "stderr",
     "output_type": "stream",
     "text": [
      "C:\\Users\\Nutzer\\anaconda3\\lib\\site-packages\\sklearn\\linear_model\\_logistic.py:458: ConvergenceWarning: lbfgs failed to converge (status=1):\n",
      "STOP: TOTAL NO. of ITERATIONS REACHED LIMIT.\n",
      "\n",
      "Increase the number of iterations (max_iter) or scale the data as shown in:\n",
      "    https://scikit-learn.org/stable/modules/preprocessing.html\n",
      "Please also refer to the documentation for alternative solver options:\n",
      "    https://scikit-learn.org/stable/modules/linear_model.html#logistic-regression\n",
      "  n_iter_i = _check_optimize_result(\n"
     ]
    },
    {
     "data": {
      "text/html": [
       "<style>#sk-container-id-6 {color: black;background-color: white;}#sk-container-id-6 pre{padding: 0;}#sk-container-id-6 div.sk-toggleable {background-color: white;}#sk-container-id-6 label.sk-toggleable__label {cursor: pointer;display: block;width: 100%;margin-bottom: 0;padding: 0.3em;box-sizing: border-box;text-align: center;}#sk-container-id-6 label.sk-toggleable__label-arrow:before {content: \"▸\";float: left;margin-right: 0.25em;color: #696969;}#sk-container-id-6 label.sk-toggleable__label-arrow:hover:before {color: black;}#sk-container-id-6 div.sk-estimator:hover label.sk-toggleable__label-arrow:before {color: black;}#sk-container-id-6 div.sk-toggleable__content {max-height: 0;max-width: 0;overflow: hidden;text-align: left;background-color: #f0f8ff;}#sk-container-id-6 div.sk-toggleable__content pre {margin: 0.2em;color: black;border-radius: 0.25em;background-color: #f0f8ff;}#sk-container-id-6 input.sk-toggleable__control:checked~div.sk-toggleable__content {max-height: 200px;max-width: 100%;overflow: auto;}#sk-container-id-6 input.sk-toggleable__control:checked~label.sk-toggleable__label-arrow:before {content: \"▾\";}#sk-container-id-6 div.sk-estimator input.sk-toggleable__control:checked~label.sk-toggleable__label {background-color: #d4ebff;}#sk-container-id-6 div.sk-label input.sk-toggleable__control:checked~label.sk-toggleable__label {background-color: #d4ebff;}#sk-container-id-6 input.sk-hidden--visually {border: 0;clip: rect(1px 1px 1px 1px);clip: rect(1px, 1px, 1px, 1px);height: 1px;margin: -1px;overflow: hidden;padding: 0;position: absolute;width: 1px;}#sk-container-id-6 div.sk-estimator {font-family: monospace;background-color: #f0f8ff;border: 1px dotted black;border-radius: 0.25em;box-sizing: border-box;margin-bottom: 0.5em;}#sk-container-id-6 div.sk-estimator:hover {background-color: #d4ebff;}#sk-container-id-6 div.sk-parallel-item::after {content: \"\";width: 100%;border-bottom: 1px solid gray;flex-grow: 1;}#sk-container-id-6 div.sk-label:hover label.sk-toggleable__label {background-color: #d4ebff;}#sk-container-id-6 div.sk-serial::before {content: \"\";position: absolute;border-left: 1px solid gray;box-sizing: border-box;top: 0;bottom: 0;left: 50%;z-index: 0;}#sk-container-id-6 div.sk-serial {display: flex;flex-direction: column;align-items: center;background-color: white;padding-right: 0.2em;padding-left: 0.2em;position: relative;}#sk-container-id-6 div.sk-item {position: relative;z-index: 1;}#sk-container-id-6 div.sk-parallel {display: flex;align-items: stretch;justify-content: center;background-color: white;position: relative;}#sk-container-id-6 div.sk-item::before, #sk-container-id-6 div.sk-parallel-item::before {content: \"\";position: absolute;border-left: 1px solid gray;box-sizing: border-box;top: 0;bottom: 0;left: 50%;z-index: -1;}#sk-container-id-6 div.sk-parallel-item {display: flex;flex-direction: column;z-index: 1;position: relative;background-color: white;}#sk-container-id-6 div.sk-parallel-item:first-child::after {align-self: flex-end;width: 50%;}#sk-container-id-6 div.sk-parallel-item:last-child::after {align-self: flex-start;width: 50%;}#sk-container-id-6 div.sk-parallel-item:only-child::after {width: 0;}#sk-container-id-6 div.sk-dashed-wrapped {border: 1px dashed gray;margin: 0 0.4em 0.5em 0.4em;box-sizing: border-box;padding-bottom: 0.4em;background-color: white;}#sk-container-id-6 div.sk-label label {font-family: monospace;font-weight: bold;display: inline-block;line-height: 1.2em;}#sk-container-id-6 div.sk-label-container {text-align: center;}#sk-container-id-6 div.sk-container {/* jupyter's `normalize.less` sets `[hidden] { display: none; }` but bootstrap.min.css set `[hidden] { display: none !important; }` so we also need the `!important` here to be able to override the default hidden behavior on the sphinx rendered scikit-learn.org. See: https://github.com/scikit-learn/scikit-learn/issues/21755 */display: inline-block !important;position: relative;}#sk-container-id-6 div.sk-text-repr-fallback {display: none;}</style><div id=\"sk-container-id-6\" class=\"sk-top-container\"><div class=\"sk-text-repr-fallback\"><pre>LogisticRegression()</pre><b>In a Jupyter environment, please rerun this cell to show the HTML representation or trust the notebook. <br />On GitHub, the HTML representation is unable to render, please try loading this page with nbviewer.org.</b></div><div class=\"sk-container\" hidden><div class=\"sk-item\"><div class=\"sk-estimator sk-toggleable\"><input class=\"sk-toggleable__control sk-hidden--visually\" id=\"sk-estimator-id-6\" type=\"checkbox\" checked><label for=\"sk-estimator-id-6\" class=\"sk-toggleable__label sk-toggleable__label-arrow\">LogisticRegression</label><div class=\"sk-toggleable__content\"><pre>LogisticRegression()</pre></div></div></div></div></div>"
      ],
      "text/plain": [
       "LogisticRegression()"
      ]
     },
     "execution_count": 56,
     "metadata": {},
     "output_type": "execute_result"
    }
   ],
   "source": [
    "# Step 4: Fit the model on the training dataset\n",
    "clf_LogReg_df6.fit(x_train_scaled, y_train)\n"
   ]
  },
  {
   "cell_type": "code",
   "execution_count": 57,
   "id": "3d89fa34",
   "metadata": {},
   "outputs": [
    {
     "data": {
      "text/plain": [
       "0.9448592087472811"
      ]
     },
     "execution_count": 57,
     "metadata": {},
     "output_type": "execute_result"
    }
   ],
   "source": [
    "# get accuracy\n",
    "accuracy_logReg_df6 = clf_LogReg_df6.score(x_test_scaled, y_test)\n",
    "accuracy_logReg_df6\n",
    "\n",
    "# 0.94\n"
   ]
  },
  {
   "cell_type": "code",
   "execution_count": 58,
   "id": "175fa18f",
   "metadata": {},
   "outputs": [
    {
     "data": {
      "text/html": [
       "<div>\n",
       "<style scoped>\n",
       "    .dataframe tbody tr th:only-of-type {\n",
       "        vertical-align: middle;\n",
       "    }\n",
       "\n",
       "    .dataframe tbody tr th {\n",
       "        vertical-align: top;\n",
       "    }\n",
       "\n",
       "    .dataframe thead th {\n",
       "        text-align: right;\n",
       "    }\n",
       "</style>\n",
       "<table border=\"1\" class=\"dataframe\">\n",
       "  <thead>\n",
       "    <tr style=\"text-align: right;\">\n",
       "      <th>predict</th>\n",
       "      <th>0.0</th>\n",
       "      <th>1.0</th>\n",
       "      <th>2.0</th>\n",
       "    </tr>\n",
       "    <tr>\n",
       "      <th>real</th>\n",
       "      <th></th>\n",
       "      <th></th>\n",
       "      <th></th>\n",
       "    </tr>\n",
       "  </thead>\n",
       "  <tbody>\n",
       "    <tr>\n",
       "      <th>0.0</th>\n",
       "      <td>6456</td>\n",
       "      <td>0</td>\n",
       "      <td>899</td>\n",
       "    </tr>\n",
       "    <tr>\n",
       "      <th>1.0</th>\n",
       "      <td>0</td>\n",
       "      <td>5251</td>\n",
       "      <td>0</td>\n",
       "    </tr>\n",
       "    <tr>\n",
       "      <th>2.0</th>\n",
       "      <td>39</td>\n",
       "      <td>0</td>\n",
       "      <td>4366</td>\n",
       "    </tr>\n",
       "  </tbody>\n",
       "</table>\n",
       "</div>"
      ],
      "text/plain": [
       "predict   0.0   1.0   2.0\n",
       "real                     \n",
       "0.0      6456     0   899\n",
       "1.0         0  5251     0\n",
       "2.0        39     0  4366"
      ]
     },
     "execution_count": 58,
     "metadata": {},
     "output_type": "execute_result"
    }
   ],
   "source": [
    "# get confusion matrix\n",
    "y_pred_LogReg_df6 = clf_LogReg_df6.predict(x_test_scaled)\n",
    "pd.crosstab(y_test, y_pred_LogReg_df6, rownames=[\"true\"], colnames=[\"predict\"])\n",
    "\n",
    "# 100% perfect prediction for fake news\n"
   ]
  },
  {
   "cell_type": "code",
   "execution_count": 59,
   "id": "15ee508d",
   "metadata": {},
   "outputs": [
    {
     "name": "stdout",
     "output_type": "stream",
     "text": [
      "Logistic Regression classification report df6:\n",
      "                precision    recall  f1-score   support\n",
      "\n",
      "         0.0       0.99      0.88      0.93      7355\n",
      "         1.0       1.00      1.00      1.00      5251\n",
      "         2.0       0.83      0.99      0.90      4405\n",
      "\n",
      "    accuracy                           0.94     17011\n",
      "   macro avg       0.94      0.96      0.95     17011\n",
      "weighted avg       0.95      0.94      0.95     17011\n",
      "\n"
     ]
    }
   ],
   "source": [
    "from sklearn.metrics import classification_report \n",
    "\n",
    "# get classification report\n",
    "print(\"Logistic Regression classification report df6:\\n \", classification_report (y_test, y_pred_LogReg_df6))\n"
   ]
  },
  {
   "cell_type": "code",
   "execution_count": 60,
   "id": "07e71396",
   "metadata": {},
   "outputs": [
    {
     "name": "stdout",
     "output_type": "stream",
     "text": [
      "[[6456    0  899]\n",
      " [   0 5251    0]\n",
      " [  39    0 4366]]\n"
     ]
    }
   ],
   "source": [
    "# create confusion matrix\n",
    "cf_matrix_LogReg_df6 = confusion_matrix(y_test, y_pred_LogReg_df6)\n",
    "print(cf_matrix_LogReg_df6)\n",
    "\n",
    "# 100% accuracy for fake news!\n"
   ]
  },
  {
   "cell_type": "code",
   "execution_count": null,
   "id": "86dc750b",
   "metadata": {},
   "outputs": [],
   "source": []
  },
  {
   "cell_type": "markdown",
   "id": "4bfb3416",
   "metadata": {},
   "source": [
    "# COMPARE MODELS ON NUMERIC DATA ONLY\n"
   ]
  },
  {
   "cell_type": "code",
   "execution_count": 110,
   "id": "ec7e02e4",
   "metadata": {},
   "outputs": [
    {
     "name": "stdout",
     "output_type": "stream",
     "text": [
      "Naive Bayes Bernoulli accuracy score df6: 0.7734995003233202\n",
      "Naive Bayes Multinomial accuracy score df6: 0.3325495267767915\n",
      "Naive Bayes Complement accuracy score df6 : 0.3272000470283934\n",
      "Logistic Regression accuracy score df6: 0.9448592087472811\n"
     ]
    }
   ],
   "source": [
    "print(\"Naive Bayes Bernoulli accuracy score df6:\", accuracyNB_Bernoulli_df6)\n",
    "print(\"Naive Bayes Multinomial accuracy score df6:\", accuracyNB_Multinomial_df6)\n",
    "print(\"Naive Bayes Complement accuracy score df6 :\", accuracyNB_Complement_df6)\n",
    "print(\"Logistic Regression accuracy score df6:\", accuracy_logReg_df6)\n"
   ]
  },
  {
   "cell_type": "code",
   "execution_count": 111,
   "id": "01a34e9e",
   "metadata": {},
   "outputs": [],
   "source": [
    "#Creating the Dictionary with model name as key adn accuracy as key-value\n",
    "labels={'Naive Bayes Bernoulli':accuracyNB_Bernoulli_df6,\n",
    "        'Naive Bayes Multinomial':accuracyNB_Multinomial_df6,\n",
    "        'Naive Bayes Complement':accuracyNB_Complement_df6,\n",
    "        'Logistic Regression':accuracy_logReg_df6}\n"
   ]
  },
  {
   "cell_type": "code",
   "execution_count": 112,
   "id": "08e73768",
   "metadata": {},
   "outputs": [
    {
     "data": {
      "image/png": "[encoded data removed]",
      "text/plain": [
       "<Figure size 3000x1000 with 1 Axes>"
      ]
     },
     "metadata": {},
     "output_type": "display_data"
    }
   ],
   "source": [
    "#Plotting accuracy of all the models with Bar-Graphs\n",
    "plt.figure(figsize=(30,10))\n",
    "plt.title('Comparing Accuracy of ML Models on numeric data',fontsize=20)\n",
    "colors=['yellow','orange','magenta', 'gray']\n",
    "plt.xticks(fontsize=15,color='black')\n",
    "plt.yticks(fontsize=20,color='black')\n",
    "plt.ylabel('Accuracy',fontsize=20)\n",
    "plt.xlabel('Models',fontsize=20)\n",
    "plt.bar(labels.keys(),labels.values(),edgecolor='black',color=colors, linewidth=2,alpha=0.5);\n",
    "\n"
   ]
  },
  {
   "cell_type": "code",
   "execution_count": null,
   "id": "24a68580",
   "metadata": {},
   "outputs": [],
   "source": [
    "# f1 scores not possible because we have 3 classes\n"
   ]
  },
  {
   "cell_type": "code",
   "execution_count": null,
   "id": "e2df1d0e",
   "metadata": {},
   "outputs": [],
   "source": []
  },
  {
   "cell_type": "code",
   "execution_count": null,
   "id": "c92947c0",
   "metadata": {},
   "outputs": [],
   "source": []
  },
  {
   "cell_type": "markdown",
   "id": "fd23b6f6",
   "metadata": {},
   "source": [
    "# Title + Content Data"
   ]
  },
  {
   "cell_type": "markdown",
   "id": "1d858ebf",
   "metadata": {},
   "source": [
    "# Create X and Y (only title and text)\n",
    "# X_train_text_df6_tfidf, \n",
    "# X_test_text_df6_tfidf, \n",
    "# Y_train_df6, \n",
    "# Y_test_df6 (uppercase letters)\n"
   ]
  },
  {
   "cell_type": "code",
   "execution_count": 64,
   "id": "1b7fea27",
   "metadata": {},
   "outputs": [],
   "source": [
    "# DEFINE X and Y\n",
    "X_df6 = df6.drop(\"label\", axis=1)\n",
    "Y_df6 = df6[\"label\"]\n"
   ]
  },
  {
   "cell_type": "code",
   "execution_count": 65,
   "id": "66c6ffc9",
   "metadata": {},
   "outputs": [],
   "source": [
    "X_df6.columns = X_df6.columns.astype(str)"
   ]
  },
  {
   "cell_type": "code",
   "execution_count": 66,
   "id": "2e6bb410",
   "metadata": {},
   "outputs": [
    {
     "name": "stdout",
     "output_type": "stream",
     "text": [
      "<class 'pandas.core.frame.DataFrame'>\n",
      "Int64Index: 85051 entries, 0 to 106709\n",
      "Data columns (total 41 columns):\n",
      " #   Column                    Non-Null Count  Dtype  \n",
      "---  ------                    --------------  -----  \n",
      " 0   id                        85051 non-null  object \n",
      " 1   source                    85051 non-null  object \n",
      " 2   title                     85051 non-null  object \n",
      " 3   content                   85051 non-null  object \n",
      " 4   url                       85051 non-null  object \n",
      " 5   published_utc             85051 non-null  int64  \n",
      " 6   year                      85051 non-null  int64  \n",
      " 7   month                     85051 non-null  int64  \n",
      " 8   dayofyear                 85051 non-null  int64  \n",
      " 9   dayofthemonth             85051 non-null  int64  \n",
      " 10  weekday                   85051 non-null  int64  \n",
      " 11  weekend                   85051 non-null  int32  \n",
      " 12  factuality                85051 non-null  float64\n",
      " 13  questionable-source       85051 non-null  float64\n",
      " 14  conspiracy-pseudoscience  85051 non-null  float64\n",
      " 15  pro-science               85051 non-null  float64\n",
      " 16  word_count_content        85051 non-null  int64  \n",
      " 17  word_count_title          85051 non-null  int64  \n",
      " 18  tokenized_content         85051 non-null  object \n",
      " 19  tok_content_length        85051 non-null  int64  \n",
      " 20  tokenized_title           85051 non-null  object \n",
      " 21  tok_title_length          85051 non-null  int64  \n",
      " 22  nb_character_content      85051 non-null  int64  \n",
      " 23  nb_character_title        85051 non-null  int64  \n",
      " 24  Australia                 85051 non-null  uint8  \n",
      " 25  Bulgaria                  85051 non-null  uint8  \n",
      " 26  Canada                    85051 non-null  uint8  \n",
      " 27  Cyprus                    85051 non-null  uint8  \n",
      " 28  France                    85051 non-null  uint8  \n",
      " 29  Germany                   85051 non-null  uint8  \n",
      " 30  Ireland                   85051 non-null  uint8  \n",
      " 31  Israel                    85051 non-null  uint8  \n",
      " 32  Japan                     85051 non-null  uint8  \n",
      " 33  Kenya                     85051 non-null  uint8  \n",
      " 34  Macedonia                 85051 non-null  uint8  \n",
      " 35  Netherlands               85051 non-null  uint8  \n",
      " 36  Qatar                     85051 non-null  uint8  \n",
      " 37  Russia                    85051 non-null  uint8  \n",
      " 38  USA                       85051 non-null  uint8  \n",
      " 39  United Kingdom            85051 non-null  uint8  \n",
      " 40  Unknown                   85051 non-null  uint8  \n",
      "dtypes: float64(4), int32(1), int64(12), object(7), uint8(17)\n",
      "memory usage: 17.3+ MB\n"
     ]
    }
   ],
   "source": [
    "X_df6.info()"
   ]
  },
  {
   "cell_type": "code",
   "execution_count": 67,
   "id": "810b78e3",
   "metadata": {},
   "outputs": [
    {
     "data": {
      "text/plain": [
       "id                          0\n",
       "source                      0\n",
       "title                       0\n",
       "content                     0\n",
       "url                         0\n",
       "published_utc               0\n",
       "year                        0\n",
       "month                       0\n",
       "dayofyear                   0\n",
       "dayofthemonth               0\n",
       "weekday                     0\n",
       "weekend                     0\n",
       "factuality                  0\n",
       "questionable-source         0\n",
       "conspiracy-pseudoscience    0\n",
       "pro-science                 0\n",
       "word_count_content          0\n",
       "word_count_title            0\n",
       "tokenized_content           0\n",
       "tok_content_length          0\n",
       "tokenized_title             0\n",
       "tok_title_length            0\n",
       "nb_character_content        0\n",
       "nb_character_title          0\n",
       "Australia                   0\n",
       "Bulgaria                    0\n",
       "Canada                      0\n",
       "Cyprus                      0\n",
       "France                      0\n",
       "Germany                     0\n",
       "Ireland                     0\n",
       "Israel                      0\n",
       "Japan                       0\n",
       "Kenya                       0\n",
       "Macedonia                   0\n",
       "Netherlands                 0\n",
       "Qatar                       0\n",
       "Russia                      0\n",
       "USA                         0\n",
       "United Kingdom              0\n",
       "Unknown                     0\n",
       "dtype: int64"
      ]
     },
     "execution_count": 67,
     "metadata": {},
     "output_type": "execute_result"
    }
   ],
   "source": [
    "X_df6.isnull().sum()"
   ]
  },
  {
   "cell_type": "code",
   "execution_count": 68,
   "id": "0e7a1daf",
   "metadata": {},
   "outputs": [
    {
     "name": "stdout",
     "output_type": "stream",
     "text": [
      "<class 'pandas.core.series.Series'>\n",
      "Int64Index: 85051 entries, 0 to 106709\n",
      "Series name: label\n",
      "Non-Null Count  Dtype  \n",
      "--------------  -----  \n",
      "85051 non-null  float64\n",
      "dtypes: float64(1)\n",
      "memory usage: 1.3 MB\n"
     ]
    }
   ],
   "source": [
    "Y_df6.info()"
   ]
  },
  {
   "cell_type": "code",
   "execution_count": 69,
   "id": "282e7e65",
   "metadata": {},
   "outputs": [
    {
     "data": {
      "text/plain": [
       "0"
      ]
     },
     "execution_count": 69,
     "metadata": {},
     "output_type": "execute_result"
    }
   ],
   "source": [
    "Y_df6.isnull().sum()"
   ]
  },
  {
   "cell_type": "code",
   "execution_count": null,
   "id": "3af358bb",
   "metadata": {},
   "outputs": [],
   "source": []
  },
  {
   "cell_type": "markdown",
   "id": "cf0908f3",
   "metadata": {},
   "source": [
    "## Create Train / Test Datasets"
   ]
  },
  {
   "cell_type": "code",
   "execution_count": 70,
   "id": "0debf450",
   "metadata": {},
   "outputs": [],
   "source": [
    "from sklearn.model_selection import train_test_split\n",
    "\n",
    "X_train_df6, X_test_df6, Y_train_df6, Y_test_df6 = train_test_split(X_df6, Y_df6, test_size=0.2)\n"
   ]
  },
  {
   "cell_type": "code",
   "execution_count": null,
   "id": "fb9d9ac9",
   "metadata": {},
   "outputs": [],
   "source": []
  },
  {
   "cell_type": "markdown",
   "id": "e4ebc738",
   "metadata": {},
   "source": [
    "# Vectorizing"
   ]
  },
  {
   "cell_type": "markdown",
   "id": "e7e6afca",
   "metadata": {},
   "source": [
    "### TFIDF Vectorizing\n",
    "### USING CONTENT_CLEANED AND TITLE ONLY\n"
   ]
  },
  {
   "cell_type": "code",
   "execution_count": 71,
   "id": "3e13c2b9",
   "metadata": {},
   "outputs": [
    {
     "data": {
      "text/html": [
       "<style>#sk-container-id-7 {color: black;background-color: white;}#sk-container-id-7 pre{padding: 0;}#sk-container-id-7 div.sk-toggleable {background-color: white;}#sk-container-id-7 label.sk-toggleable__label {cursor: pointer;display: block;width: 100%;margin-bottom: 0;padding: 0.3em;box-sizing: border-box;text-align: center;}#sk-container-id-7 label.sk-toggleable__label-arrow:before {content: \"▸\";float: left;margin-right: 0.25em;color: #696969;}#sk-container-id-7 label.sk-toggleable__label-arrow:hover:before {color: black;}#sk-container-id-7 div.sk-estimator:hover label.sk-toggleable__label-arrow:before {color: black;}#sk-container-id-7 div.sk-toggleable__content {max-height: 0;max-width: 0;overflow: hidden;text-align: left;background-color: #f0f8ff;}#sk-container-id-7 div.sk-toggleable__content pre {margin: 0.2em;color: black;border-radius: 0.25em;background-color: #f0f8ff;}#sk-container-id-7 input.sk-toggleable__control:checked~div.sk-toggleable__content {max-height: 200px;max-width: 100%;overflow: auto;}#sk-container-id-7 input.sk-toggleable__control:checked~label.sk-toggleable__label-arrow:before {content: \"▾\";}#sk-container-id-7 div.sk-estimator input.sk-toggleable__control:checked~label.sk-toggleable__label {background-color: #d4ebff;}#sk-container-id-7 div.sk-label input.sk-toggleable__control:checked~label.sk-toggleable__label {background-color: #d4ebff;}#sk-container-id-7 input.sk-hidden--visually {border: 0;clip: rect(1px 1px 1px 1px);clip: rect(1px, 1px, 1px, 1px);height: 1px;margin: -1px;overflow: hidden;padding: 0;position: absolute;width: 1px;}#sk-container-id-7 div.sk-estimator {font-family: monospace;background-color: #f0f8ff;border: 1px dotted black;border-radius: 0.25em;box-sizing: border-box;margin-bottom: 0.5em;}#sk-container-id-7 div.sk-estimator:hover {background-color: #d4ebff;}#sk-container-id-7 div.sk-parallel-item::after {content: \"\";width: 100%;border-bottom: 1px solid gray;flex-grow: 1;}#sk-container-id-7 div.sk-label:hover label.sk-toggleable__label {background-color: #d4ebff;}#sk-container-id-7 div.sk-serial::before {content: \"\";position: absolute;border-left: 1px solid gray;box-sizing: border-box;top: 0;bottom: 0;left: 50%;z-index: 0;}#sk-container-id-7 div.sk-serial {display: flex;flex-direction: column;align-items: center;background-color: white;padding-right: 0.2em;padding-left: 0.2em;position: relative;}#sk-container-id-7 div.sk-item {position: relative;z-index: 1;}#sk-container-id-7 div.sk-parallel {display: flex;align-items: stretch;justify-content: center;background-color: white;position: relative;}#sk-container-id-7 div.sk-item::before, #sk-container-id-7 div.sk-parallel-item::before {content: \"\";position: absolute;border-left: 1px solid gray;box-sizing: border-box;top: 0;bottom: 0;left: 50%;z-index: -1;}#sk-container-id-7 div.sk-parallel-item {display: flex;flex-direction: column;z-index: 1;position: relative;background-color: white;}#sk-container-id-7 div.sk-parallel-item:first-child::after {align-self: flex-end;width: 50%;}#sk-container-id-7 div.sk-parallel-item:last-child::after {align-self: flex-start;width: 50%;}#sk-container-id-7 div.sk-parallel-item:only-child::after {width: 0;}#sk-container-id-7 div.sk-dashed-wrapped {border: 1px dashed gray;margin: 0 0.4em 0.5em 0.4em;box-sizing: border-box;padding-bottom: 0.4em;background-color: white;}#sk-container-id-7 div.sk-label label {font-family: monospace;font-weight: bold;display: inline-block;line-height: 1.2em;}#sk-container-id-7 div.sk-label-container {text-align: center;}#sk-container-id-7 div.sk-container {/* jupyter's `normalize.less` sets `[hidden] { display: none; }` but bootstrap.min.css set `[hidden] { display: none !important; }` so we also need the `!important` here to be able to override the default hidden behavior on the sphinx rendered scikit-learn.org. See: https://github.com/scikit-learn/scikit-learn/issues/21755 */display: inline-block !important;position: relative;}#sk-container-id-7 div.sk-text-repr-fallback {display: none;}</style><div id=\"sk-container-id-7\" class=\"sk-top-container\"><div class=\"sk-text-repr-fallback\"><pre>TfidfVectorizer()</pre><b>In a Jupyter environment, please rerun this cell to show the HTML representation or trust the notebook. <br />On GitHub, the HTML representation is unable to render, please try loading this page with nbviewer.org.</b></div><div class=\"sk-container\" hidden><div class=\"sk-item\"><div class=\"sk-estimator sk-toggleable\"><input class=\"sk-toggleable__control sk-hidden--visually\" id=\"sk-estimator-id-7\" type=\"checkbox\" checked><label for=\"sk-estimator-id-7\" class=\"sk-toggleable__label sk-toggleable__label-arrow\">TfidfVectorizer</label><div class=\"sk-toggleable__content\"><pre>TfidfVectorizer()</pre></div></div></div></div></div>"
      ],
      "text/plain": [
       "TfidfVectorizer()"
      ]
     },
     "execution_count": 71,
     "metadata": {},
     "output_type": "execute_result"
    }
   ],
   "source": [
    "# VECTORIZING\n",
    "# TAKES 2 MINUTES\n",
    "\n",
    "from sklearn.feature_extraction.text import TfidfVectorizer\n",
    "from scipy.sparse import hstack, csr_matrix\n",
    "\n",
    "vectorizer1_df6 = TfidfVectorizer()\n",
    "vectorizer2_df6 = TfidfVectorizer()\n",
    "\n",
    "vectorizer1_df6.fit(X_train_df6['content'])\n",
    "vectorizer2_df6.fit(X_train_df6['title'])\n"
   ]
  },
  {
   "cell_type": "code",
   "execution_count": 72,
   "id": "941df81a",
   "metadata": {},
   "outputs": [],
   "source": [
    "# TAKES 2 MINUTES\n",
    "\n",
    "X_train_content_df6_tfidf = vectorizer1_df6.transform(X_train_df6['content'])\n",
    "X_train_title_df6_tfidf = vectorizer2_df6.transform(X_train_df6['title'])\n",
    "X_test_content_df6_tfidf = vectorizer1_df6.transform(X_test_df6['content'])\n",
    "X_test_title_df6_tfidf = vectorizer2_df6.transform(X_test_df6['title'])\n"
   ]
  },
  {
   "cell_type": "code",
   "execution_count": 73,
   "id": "859b9c9a",
   "metadata": {},
   "outputs": [],
   "source": [
    "X_train_text_df6_tfidf = hstack([X_train_content_df6_tfidf, X_train_title_df6_tfidf])\n",
    "X_test_text_df6_tfidf = hstack([X_test_content_df6_tfidf, X_test_title_df6_tfidf])\n"
   ]
  },
  {
   "cell_type": "code",
   "execution_count": 74,
   "id": "113a46be",
   "metadata": {},
   "outputs": [
    {
     "data": {
      "text/plain": [
       "<68040x269091 sparse matrix of type '<class 'numpy.float64'>'\n",
       "\twith 17401587 stored elements in Compressed Sparse Row format>"
      ]
     },
     "execution_count": 74,
     "metadata": {},
     "output_type": "execute_result"
    }
   ],
   "source": [
    "X_train_text_df6_tfidf"
   ]
  },
  {
   "cell_type": "code",
   "execution_count": 75,
   "id": "33156537",
   "metadata": {},
   "outputs": [
    {
     "data": {
      "text/plain": [
       "(68040, 269091)"
      ]
     },
     "execution_count": 75,
     "metadata": {},
     "output_type": "execute_result"
    }
   ],
   "source": [
    "X_train_text_df6_tfidf.shape"
   ]
  },
  {
   "cell_type": "code",
   "execution_count": 76,
   "id": "a4d9e4b9",
   "metadata": {},
   "outputs": [
    {
     "data": {
      "text/plain": [
       "<17011x269091 sparse matrix of type '<class 'numpy.float64'>'\n",
       "\twith 4311425 stored elements in Compressed Sparse Row format>"
      ]
     },
     "execution_count": 76,
     "metadata": {},
     "output_type": "execute_result"
    }
   ],
   "source": [
    "X_test_text_df6_tfidf"
   ]
  },
  {
   "cell_type": "code",
   "execution_count": 77,
   "id": "c043243c",
   "metadata": {
    "scrolled": true
   },
   "outputs": [
    {
     "data": {
      "text/plain": [
       "(17011, 269091)"
      ]
     },
     "execution_count": 77,
     "metadata": {},
     "output_type": "execute_result"
    }
   ],
   "source": [
    "X_test_text_df6_tfidf.shape"
   ]
  },
  {
   "cell_type": "code",
   "execution_count": 78,
   "id": "e3f32b4f",
   "metadata": {},
   "outputs": [
    {
     "data": {
      "text/plain": [
       "64503    2.0\n",
       "8949     0.0\n",
       "11730    0.0\n",
       "32890    1.0\n",
       "99290    0.0\n",
       "        ... \n",
       "96027    0.0\n",
       "75530    2.0\n",
       "67271    0.0\n",
       "66181    0.0\n",
       "39654    2.0\n",
       "Name: label, Length: 68040, dtype: float64"
      ]
     },
     "execution_count": 78,
     "metadata": {},
     "output_type": "execute_result"
    }
   ],
   "source": [
    "Y_train_df6"
   ]
  },
  {
   "cell_type": "code",
   "execution_count": 79,
   "id": "9b1c4da5",
   "metadata": {},
   "outputs": [
    {
     "data": {
      "text/plain": [
       "16657    0.0\n",
       "36065    0.0\n",
       "67039    0.0\n",
       "22361    0.0\n",
       "47443    2.0\n",
       "        ... \n",
       "31263    1.0\n",
       "38694    1.0\n",
       "55305    1.0\n",
       "88626    2.0\n",
       "82095    0.0\n",
       "Name: label, Length: 17011, dtype: float64"
      ]
     },
     "execution_count": 79,
     "metadata": {},
     "output_type": "execute_result"
    }
   ],
   "source": [
    "Y_test_df6"
   ]
  },
  {
   "cell_type": "code",
   "execution_count": null,
   "id": "0c0acaa4",
   "metadata": {},
   "outputs": [],
   "source": []
  },
  {
   "cell_type": "code",
   "execution_count": null,
   "id": "cfa28e93",
   "metadata": {},
   "outputs": [],
   "source": [
    "## MODELS FOR STAGE 1 (Basic Models):\n",
    "# 1) Naive Bayes Bernoulli\n",
    "# 2) Naive Bayes Multinomial\n",
    "# 3) Naive Bayes Complement\n",
    "# 4) Logistic Regression\n"
   ]
  },
  {
   "cell_type": "code",
   "execution_count": null,
   "id": "21ff01b4",
   "metadata": {},
   "outputs": [],
   "source": []
  },
  {
   "cell_type": "markdown",
   "id": "24f76506",
   "metadata": {},
   "source": [
    "# 1 Naive Bayes Bernoulli on text data df6"
   ]
  },
  {
   "cell_type": "code",
   "execution_count": 130,
   "id": "a9a052ef",
   "metadata": {},
   "outputs": [],
   "source": [
    "from sklearn.naive_bayes import BernoulliNB\n",
    "from sklearn.model_selection import train_test_split\n",
    "from sklearn.metrics import accuracy_score"
   ]
  },
  {
   "cell_type": "code",
   "execution_count": 131,
   "id": "213bec85",
   "metadata": {},
   "outputs": [],
   "source": [
    "# Create a Bernoulli Naive Bayes classifier\n",
    "clf_Bern_df6_tfidf = BernoulliNB()\n"
   ]
  },
  {
   "cell_type": "code",
   "execution_count": 132,
   "id": "8acc28ab",
   "metadata": {},
   "outputs": [
    {
     "data": {
      "text/html": [
       "<style>#sk-container-id-13 {color: black;background-color: white;}#sk-container-id-13 pre{padding: 0;}#sk-container-id-13 div.sk-toggleable {background-color: white;}#sk-container-id-13 label.sk-toggleable__label {cursor: pointer;display: block;width: 100%;margin-bottom: 0;padding: 0.3em;box-sizing: border-box;text-align: center;}#sk-container-id-13 label.sk-toggleable__label-arrow:before {content: \"▸\";float: left;margin-right: 0.25em;color: #696969;}#sk-container-id-13 label.sk-toggleable__label-arrow:hover:before {color: black;}#sk-container-id-13 div.sk-estimator:hover label.sk-toggleable__label-arrow:before {color: black;}#sk-container-id-13 div.sk-toggleable__content {max-height: 0;max-width: 0;overflow: hidden;text-align: left;background-color: #f0f8ff;}#sk-container-id-13 div.sk-toggleable__content pre {margin: 0.2em;color: black;border-radius: 0.25em;background-color: #f0f8ff;}#sk-container-id-13 input.sk-toggleable__control:checked~div.sk-toggleable__content {max-height: 200px;max-width: 100%;overflow: auto;}#sk-container-id-13 input.sk-toggleable__control:checked~label.sk-toggleable__label-arrow:before {content: \"▾\";}#sk-container-id-13 div.sk-estimator input.sk-toggleable__control:checked~label.sk-toggleable__label {background-color: #d4ebff;}#sk-container-id-13 div.sk-label input.sk-toggleable__control:checked~label.sk-toggleable__label {background-color: #d4ebff;}#sk-container-id-13 input.sk-hidden--visually {border: 0;clip: rect(1px 1px 1px 1px);clip: rect(1px, 1px, 1px, 1px);height: 1px;margin: -1px;overflow: hidden;padding: 0;position: absolute;width: 1px;}#sk-container-id-13 div.sk-estimator {font-family: monospace;background-color: #f0f8ff;border: 1px dotted black;border-radius: 0.25em;box-sizing: border-box;margin-bottom: 0.5em;}#sk-container-id-13 div.sk-estimator:hover {background-color: #d4ebff;}#sk-container-id-13 div.sk-parallel-item::after {content: \"\";width: 100%;border-bottom: 1px solid gray;flex-grow: 1;}#sk-container-id-13 div.sk-label:hover label.sk-toggleable__label {background-color: #d4ebff;}#sk-container-id-13 div.sk-serial::before {content: \"\";position: absolute;border-left: 1px solid gray;box-sizing: border-box;top: 0;bottom: 0;left: 50%;z-index: 0;}#sk-container-id-13 div.sk-serial {display: flex;flex-direction: column;align-items: center;background-color: white;padding-right: 0.2em;padding-left: 0.2em;position: relative;}#sk-container-id-13 div.sk-item {position: relative;z-index: 1;}#sk-container-id-13 div.sk-parallel {display: flex;align-items: stretch;justify-content: center;background-color: white;position: relative;}#sk-container-id-13 div.sk-item::before, #sk-container-id-13 div.sk-parallel-item::before {content: \"\";position: absolute;border-left: 1px solid gray;box-sizing: border-box;top: 0;bottom: 0;left: 50%;z-index: -1;}#sk-container-id-13 div.sk-parallel-item {display: flex;flex-direction: column;z-index: 1;position: relative;background-color: white;}#sk-container-id-13 div.sk-parallel-item:first-child::after {align-self: flex-end;width: 50%;}#sk-container-id-13 div.sk-parallel-item:last-child::after {align-self: flex-start;width: 50%;}#sk-container-id-13 div.sk-parallel-item:only-child::after {width: 0;}#sk-container-id-13 div.sk-dashed-wrapped {border: 1px dashed gray;margin: 0 0.4em 0.5em 0.4em;box-sizing: border-box;padding-bottom: 0.4em;background-color: white;}#sk-container-id-13 div.sk-label label {font-family: monospace;font-weight: bold;display: inline-block;line-height: 1.2em;}#sk-container-id-13 div.sk-label-container {text-align: center;}#sk-container-id-13 div.sk-container {/* jupyter's `normalize.less` sets `[hidden] { display: none; }` but bootstrap.min.css set `[hidden] { display: none !important; }` so we also need the `!important` here to be able to override the default hidden behavior on the sphinx rendered scikit-learn.org. See: https://github.com/scikit-learn/scikit-learn/issues/21755 */display: inline-block !important;position: relative;}#sk-container-id-13 div.sk-text-repr-fallback {display: none;}</style><div id=\"sk-container-id-13\" class=\"sk-top-container\"><div class=\"sk-text-repr-fallback\"><pre>BernoulliNB()</pre><b>In a Jupyter environment, please rerun this cell to show the HTML representation or trust the notebook. <br />On GitHub, the HTML representation is unable to render, please try loading this page with nbviewer.org.</b></div><div class=\"sk-container\" hidden><div class=\"sk-item\"><div class=\"sk-estimator sk-toggleable\"><input class=\"sk-toggleable__control sk-hidden--visually\" id=\"sk-estimator-id-13\" type=\"checkbox\" checked><label for=\"sk-estimator-id-13\" class=\"sk-toggleable__label sk-toggleable__label-arrow\">BernoulliNB</label><div class=\"sk-toggleable__content\"><pre>BernoulliNB()</pre></div></div></div></div></div>"
      ],
      "text/plain": [
       "BernoulliNB()"
      ]
     },
     "execution_count": 132,
     "metadata": {},
     "output_type": "execute_result"
    }
   ],
   "source": [
    "# Train the classifier\n",
    "clf_Bern_df6_tfidf.fit(X_train_text_df6_tfidf, Y_train_df6)\n"
   ]
  },
  {
   "cell_type": "code",
   "execution_count": 133,
   "id": "1a025c61",
   "metadata": {},
   "outputs": [],
   "source": [
    "# Make predictions on the test set\n",
    "y_pred_NB_Bern_df6_tfidf = clf_Bern_df6_tfidf.predict(X_test_text_df6_tfidf)\n"
   ]
  },
  {
   "cell_type": "code",
   "execution_count": 134,
   "id": "66504eb9",
   "metadata": {},
   "outputs": [
    {
     "name": "stdout",
     "output_type": "stream",
     "text": [
      "Accuracy: 0.5459408617953089\n"
     ]
    }
   ],
   "source": [
    "# Evaluate the model with accuracy\n",
    "accuracy_NB_Bern_df6_tfidf = accuracy_score(Y_test_df6, y_pred_NB_Bern_df6_tfidf)\n",
    "print(\"Accuracy:\", accuracy_NB_Bern_df6_tfidf)\n",
    "\n",
    "# 0.5459\n"
   ]
  },
  {
   "cell_type": "code",
   "execution_count": 135,
   "id": "4ffb0b7f",
   "metadata": {},
   "outputs": [
    {
     "name": "stdout",
     "output_type": "stream",
     "text": [
      "Confusion Matrix:\n",
      " [[3341 2293 1779]\n",
      " [ 777 3637  834]\n",
      " [1075  966 2309]]\n"
     ]
    }
   ],
   "source": [
    "# Evaluate Model with confusion matrix \n",
    "from sklearn.metrics import confusion_matrix \n",
    "\n",
    "cf_matrix_NB_Bern_df6_tfidf = confusion_matrix(Y_test_df6, y_pred_NB_Bern_df6_tfidf)\n",
    "print(\"Confusion Matrix:\\n\",  cf_matrix_NB_Bern_df6_tfidf)\n"
   ]
  },
  {
   "cell_type": "code",
   "execution_count": 136,
   "id": "76bab7d2",
   "metadata": {
    "scrolled": true
   },
   "outputs": [
    {
     "name": "stdout",
     "output_type": "stream",
     "text": [
      "Naive Bayes Bernoulli df6 tfidf classification report:\n",
      "               precision    recall  f1-score   support\n",
      "\n",
      "         0.0       0.64      0.45      0.53      7413\n",
      "         1.0       0.53      0.69      0.60      5248\n",
      "         2.0       0.47      0.53      0.50      4350\n",
      "\n",
      "    accuracy                           0.55     17011\n",
      "   macro avg       0.55      0.56      0.54     17011\n",
      "weighted avg       0.56      0.55      0.54     17011\n",
      "\n"
     ]
    }
   ],
   "source": [
    "# Evaluate model with classification report\n",
    "from sklearn.metrics import classification_report \n",
    "\n",
    "print(\"Naive Bayes Bernoulli df6 tfidf classification report:\\n\", classification_report (Y_test_df6, y_pred_NB_Bern_df6_tfidf))\n"
   ]
  },
  {
   "cell_type": "code",
   "execution_count": null,
   "id": "b4de5909",
   "metadata": {},
   "outputs": [],
   "source": []
  },
  {
   "cell_type": "markdown",
   "id": "618ec981",
   "metadata": {},
   "source": [
    "# 2 MULTINOMIAL NAIVE BAYES on text data df6\n"
   ]
  },
  {
   "cell_type": "code",
   "execution_count": 137,
   "id": "93313809",
   "metadata": {},
   "outputs": [],
   "source": [
    "from sklearn.naive_bayes import MultinomialNB"
   ]
  },
  {
   "cell_type": "code",
   "execution_count": 138,
   "id": "4175d0de",
   "metadata": {},
   "outputs": [],
   "source": [
    "from sklearn.naive_bayes import MultinomialNB\n",
    "clf_mult_df6_tfidf = MultinomialNB()\n"
   ]
  },
  {
   "cell_type": "code",
   "execution_count": 139,
   "id": "52476d00",
   "metadata": {},
   "outputs": [
    {
     "data": {
      "text/html": [
       "<style>#sk-container-id-14 {color: black;background-color: white;}#sk-container-id-14 pre{padding: 0;}#sk-container-id-14 div.sk-toggleable {background-color: white;}#sk-container-id-14 label.sk-toggleable__label {cursor: pointer;display: block;width: 100%;margin-bottom: 0;padding: 0.3em;box-sizing: border-box;text-align: center;}#sk-container-id-14 label.sk-toggleable__label-arrow:before {content: \"▸\";float: left;margin-right: 0.25em;color: #696969;}#sk-container-id-14 label.sk-toggleable__label-arrow:hover:before {color: black;}#sk-container-id-14 div.sk-estimator:hover label.sk-toggleable__label-arrow:before {color: black;}#sk-container-id-14 div.sk-toggleable__content {max-height: 0;max-width: 0;overflow: hidden;text-align: left;background-color: #f0f8ff;}#sk-container-id-14 div.sk-toggleable__content pre {margin: 0.2em;color: black;border-radius: 0.25em;background-color: #f0f8ff;}#sk-container-id-14 input.sk-toggleable__control:checked~div.sk-toggleable__content {max-height: 200px;max-width: 100%;overflow: auto;}#sk-container-id-14 input.sk-toggleable__control:checked~label.sk-toggleable__label-arrow:before {content: \"▾\";}#sk-container-id-14 div.sk-estimator input.sk-toggleable__control:checked~label.sk-toggleable__label {background-color: #d4ebff;}#sk-container-id-14 div.sk-label input.sk-toggleable__control:checked~label.sk-toggleable__label {background-color: #d4ebff;}#sk-container-id-14 input.sk-hidden--visually {border: 0;clip: rect(1px 1px 1px 1px);clip: rect(1px, 1px, 1px, 1px);height: 1px;margin: -1px;overflow: hidden;padding: 0;position: absolute;width: 1px;}#sk-container-id-14 div.sk-estimator {font-family: monospace;background-color: #f0f8ff;border: 1px dotted black;border-radius: 0.25em;box-sizing: border-box;margin-bottom: 0.5em;}#sk-container-id-14 div.sk-estimator:hover {background-color: #d4ebff;}#sk-container-id-14 div.sk-parallel-item::after {content: \"\";width: 100%;border-bottom: 1px solid gray;flex-grow: 1;}#sk-container-id-14 div.sk-label:hover label.sk-toggleable__label {background-color: #d4ebff;}#sk-container-id-14 div.sk-serial::before {content: \"\";position: absolute;border-left: 1px solid gray;box-sizing: border-box;top: 0;bottom: 0;left: 50%;z-index: 0;}#sk-container-id-14 div.sk-serial {display: flex;flex-direction: column;align-items: center;background-color: white;padding-right: 0.2em;padding-left: 0.2em;position: relative;}#sk-container-id-14 div.sk-item {position: relative;z-index: 1;}#sk-container-id-14 div.sk-parallel {display: flex;align-items: stretch;justify-content: center;background-color: white;position: relative;}#sk-container-id-14 div.sk-item::before, #sk-container-id-14 div.sk-parallel-item::before {content: \"\";position: absolute;border-left: 1px solid gray;box-sizing: border-box;top: 0;bottom: 0;left: 50%;z-index: -1;}#sk-container-id-14 div.sk-parallel-item {display: flex;flex-direction: column;z-index: 1;position: relative;background-color: white;}#sk-container-id-14 div.sk-parallel-item:first-child::after {align-self: flex-end;width: 50%;}#sk-container-id-14 div.sk-parallel-item:last-child::after {align-self: flex-start;width: 50%;}#sk-container-id-14 div.sk-parallel-item:only-child::after {width: 0;}#sk-container-id-14 div.sk-dashed-wrapped {border: 1px dashed gray;margin: 0 0.4em 0.5em 0.4em;box-sizing: border-box;padding-bottom: 0.4em;background-color: white;}#sk-container-id-14 div.sk-label label {font-family: monospace;font-weight: bold;display: inline-block;line-height: 1.2em;}#sk-container-id-14 div.sk-label-container {text-align: center;}#sk-container-id-14 div.sk-container {/* jupyter's `normalize.less` sets `[hidden] { display: none; }` but bootstrap.min.css set `[hidden] { display: none !important; }` so we also need the `!important` here to be able to override the default hidden behavior on the sphinx rendered scikit-learn.org. See: https://github.com/scikit-learn/scikit-learn/issues/21755 */display: inline-block !important;position: relative;}#sk-container-id-14 div.sk-text-repr-fallback {display: none;}</style><div id=\"sk-container-id-14\" class=\"sk-top-container\"><div class=\"sk-text-repr-fallback\"><pre>MultinomialNB()</pre><b>In a Jupyter environment, please rerun this cell to show the HTML representation or trust the notebook. <br />On GitHub, the HTML representation is unable to render, please try loading this page with nbviewer.org.</b></div><div class=\"sk-container\" hidden><div class=\"sk-item\"><div class=\"sk-estimator sk-toggleable\"><input class=\"sk-toggleable__control sk-hidden--visually\" id=\"sk-estimator-id-14\" type=\"checkbox\" checked><label for=\"sk-estimator-id-14\" class=\"sk-toggleable__label sk-toggleable__label-arrow\">MultinomialNB</label><div class=\"sk-toggleable__content\"><pre>MultinomialNB()</pre></div></div></div></div></div>"
      ],
      "text/plain": [
       "MultinomialNB()"
      ]
     },
     "execution_count": 139,
     "metadata": {},
     "output_type": "execute_result"
    }
   ],
   "source": [
    "# fit the model\n",
    "clf_mult_df6_tfidf.fit(X_train_text_df6_tfidf, Y_train_df6)\n"
   ]
  },
  {
   "cell_type": "code",
   "execution_count": 140,
   "id": "89904bfa",
   "metadata": {},
   "outputs": [],
   "source": [
    "y_pred_NB_Mult_df6_tfidf = clf_mult_df6_tfidf.predict(X_test_text_df6_tfidf)\n"
   ]
  },
  {
   "cell_type": "code",
   "execution_count": 141,
   "id": "34f5ba02",
   "metadata": {},
   "outputs": [
    {
     "data": {
      "text/plain": [
       "0.592910469696079"
      ]
     },
     "execution_count": 141,
     "metadata": {},
     "output_type": "execute_result"
    }
   ],
   "source": [
    "# get accuracy\n",
    "accuracy_NB_Mult_df6_tfidf = clf_mult_df6_tfidf.score(X_test_text_df6_tfidf, Y_test_df6)\n",
    "accuracy_NB_Mult_df6_tfidf\n",
    "\n",
    "# 0.59\n"
   ]
  },
  {
   "cell_type": "code",
   "execution_count": 142,
   "id": "1234fbd3",
   "metadata": {},
   "outputs": [
    {
     "data": {
      "text/html": [
       "<div>\n",
       "<style scoped>\n",
       "    .dataframe tbody tr th:only-of-type {\n",
       "        vertical-align: middle;\n",
       "    }\n",
       "\n",
       "    .dataframe tbody tr th {\n",
       "        vertical-align: top;\n",
       "    }\n",
       "\n",
       "    .dataframe thead th {\n",
       "        text-align: right;\n",
       "    }\n",
       "</style>\n",
       "<table border=\"1\" class=\"dataframe\">\n",
       "  <thead>\n",
       "    <tr style=\"text-align: right;\">\n",
       "      <th>predict</th>\n",
       "      <th>0.0</th>\n",
       "      <th>1.0</th>\n",
       "      <th>2.0</th>\n",
       "    </tr>\n",
       "    <tr>\n",
       "      <th>real</th>\n",
       "      <th></th>\n",
       "      <th></th>\n",
       "      <th></th>\n",
       "    </tr>\n",
       "  </thead>\n",
       "  <tbody>\n",
       "    <tr>\n",
       "      <th>0.0</th>\n",
       "      <td>7038</td>\n",
       "      <td>152</td>\n",
       "      <td>223</td>\n",
       "    </tr>\n",
       "    <tr>\n",
       "      <th>1.0</th>\n",
       "      <td>3067</td>\n",
       "      <td>2117</td>\n",
       "      <td>64</td>\n",
       "    </tr>\n",
       "    <tr>\n",
       "      <th>2.0</th>\n",
       "      <td>3272</td>\n",
       "      <td>147</td>\n",
       "      <td>931</td>\n",
       "    </tr>\n",
       "  </tbody>\n",
       "</table>\n",
       "</div>"
      ],
      "text/plain": [
       "predict   0.0   1.0  2.0\n",
       "real                    \n",
       "0.0      7038   152  223\n",
       "1.0      3067  2117   64\n",
       "2.0      3272   147  931"
      ]
     },
     "execution_count": 142,
     "metadata": {},
     "output_type": "execute_result"
    }
   ],
   "source": [
    "# get confusion matrix\n",
    "pd.crosstab(Y_test_df6, y_pred_NB_Mult_df6_tfidf, rownames=[\"true\"], colnames=[\"predict\"])\n"
   ]
  },
  {
   "cell_type": "code",
   "execution_count": 143,
   "id": "feed2578",
   "metadata": {},
   "outputs": [
    {
     "name": "stdout",
     "output_type": "stream",
     "text": [
      "Naive Bayes Multinomial df6 tfidf classification report:\n",
      "                precision    recall  f1-score   support\n",
      "\n",
      "         0.0       0.53      0.95      0.68      7413\n",
      "         1.0       0.88      0.40      0.55      5248\n",
      "         2.0       0.76      0.21      0.33      4350\n",
      "\n",
      "    accuracy                           0.59     17011\n",
      "   macro avg       0.72      0.52      0.52     17011\n",
      "weighted avg       0.70      0.59      0.55     17011\n",
      "\n"
     ]
    }
   ],
   "source": [
    "from sklearn.metrics import classification_report \n",
    "\n",
    "# get classification report\n",
    "print(\"Naive Bayes Multinomial df6 tfidf classification report:\\n \", classification_report (Y_test_df6, y_pred_NB_Mult_df6_tfidf))"
   ]
  },
  {
   "cell_type": "code",
   "execution_count": 144,
   "id": "2282cd17",
   "metadata": {},
   "outputs": [],
   "source": [
    "from mlxtend.plotting import plot_confusion_matrix\n",
    "import matplotlib.pyplot as plt\n",
    "import numpy as np\n",
    "from sklearn.metrics import confusion_matrix\n"
   ]
  },
  {
   "cell_type": "code",
   "execution_count": 145,
   "id": "f34ad0da",
   "metadata": {},
   "outputs": [
    {
     "name": "stdout",
     "output_type": "stream",
     "text": [
      "[[7038  152  223]\n",
      " [3067 2117   64]\n",
      " [3272  147  931]]\n"
     ]
    }
   ],
   "source": [
    "# create confusion matrix\n",
    "cf_matrix_NB_Mult_df6_tfidf = confusion_matrix(Y_test_df6, y_pred_NB_Mult_df6_tfidf)\n",
    "print(cf_matrix_NB_Mult_df6_tfidf)\n"
   ]
  },
  {
   "cell_type": "code",
   "execution_count": null,
   "id": "82f35f58",
   "metadata": {},
   "outputs": [],
   "source": []
  },
  {
   "cell_type": "markdown",
   "id": "1519fb52",
   "metadata": {},
   "source": [
    "# 3 COMPLEMENT NAIVE BAYES on text data df6\n"
   ]
  },
  {
   "cell_type": "code",
   "execution_count": 146,
   "id": "c389f919",
   "metadata": {},
   "outputs": [],
   "source": [
    "from sklearn.naive_bayes import ComplementNB\n",
    "clf_compl_df6_tfidf = ComplementNB()\n"
   ]
  },
  {
   "cell_type": "code",
   "execution_count": 147,
   "id": "266fc172",
   "metadata": {
    "scrolled": true
   },
   "outputs": [
    {
     "data": {
      "text/html": [
       "<style>#sk-container-id-15 {color: black;background-color: white;}#sk-container-id-15 pre{padding: 0;}#sk-container-id-15 div.sk-toggleable {background-color: white;}#sk-container-id-15 label.sk-toggleable__label {cursor: pointer;display: block;width: 100%;margin-bottom: 0;padding: 0.3em;box-sizing: border-box;text-align: center;}#sk-container-id-15 label.sk-toggleable__label-arrow:before {content: \"▸\";float: left;margin-right: 0.25em;color: #696969;}#sk-container-id-15 label.sk-toggleable__label-arrow:hover:before {color: black;}#sk-container-id-15 div.sk-estimator:hover label.sk-toggleable__label-arrow:before {color: black;}#sk-container-id-15 div.sk-toggleable__content {max-height: 0;max-width: 0;overflow: hidden;text-align: left;background-color: #f0f8ff;}#sk-container-id-15 div.sk-toggleable__content pre {margin: 0.2em;color: black;border-radius: 0.25em;background-color: #f0f8ff;}#sk-container-id-15 input.sk-toggleable__control:checked~div.sk-toggleable__content {max-height: 200px;max-width: 100%;overflow: auto;}#sk-container-id-15 input.sk-toggleable__control:checked~label.sk-toggleable__label-arrow:before {content: \"▾\";}#sk-container-id-15 div.sk-estimator input.sk-toggleable__control:checked~label.sk-toggleable__label {background-color: #d4ebff;}#sk-container-id-15 div.sk-label input.sk-toggleable__control:checked~label.sk-toggleable__label {background-color: #d4ebff;}#sk-container-id-15 input.sk-hidden--visually {border: 0;clip: rect(1px 1px 1px 1px);clip: rect(1px, 1px, 1px, 1px);height: 1px;margin: -1px;overflow: hidden;padding: 0;position: absolute;width: 1px;}#sk-container-id-15 div.sk-estimator {font-family: monospace;background-color: #f0f8ff;border: 1px dotted black;border-radius: 0.25em;box-sizing: border-box;margin-bottom: 0.5em;}#sk-container-id-15 div.sk-estimator:hover {background-color: #d4ebff;}#sk-container-id-15 div.sk-parallel-item::after {content: \"\";width: 100%;border-bottom: 1px solid gray;flex-grow: 1;}#sk-container-id-15 div.sk-label:hover label.sk-toggleable__label {background-color: #d4ebff;}#sk-container-id-15 div.sk-serial::before {content: \"\";position: absolute;border-left: 1px solid gray;box-sizing: border-box;top: 0;bottom: 0;left: 50%;z-index: 0;}#sk-container-id-15 div.sk-serial {display: flex;flex-direction: column;align-items: center;background-color: white;padding-right: 0.2em;padding-left: 0.2em;position: relative;}#sk-container-id-15 div.sk-item {position: relative;z-index: 1;}#sk-container-id-15 div.sk-parallel {display: flex;align-items: stretch;justify-content: center;background-color: white;position: relative;}#sk-container-id-15 div.sk-item::before, #sk-container-id-15 div.sk-parallel-item::before {content: \"\";position: absolute;border-left: 1px solid gray;box-sizing: border-box;top: 0;bottom: 0;left: 50%;z-index: -1;}#sk-container-id-15 div.sk-parallel-item {display: flex;flex-direction: column;z-index: 1;position: relative;background-color: white;}#sk-container-id-15 div.sk-parallel-item:first-child::after {align-self: flex-end;width: 50%;}#sk-container-id-15 div.sk-parallel-item:last-child::after {align-self: flex-start;width: 50%;}#sk-container-id-15 div.sk-parallel-item:only-child::after {width: 0;}#sk-container-id-15 div.sk-dashed-wrapped {border: 1px dashed gray;margin: 0 0.4em 0.5em 0.4em;box-sizing: border-box;padding-bottom: 0.4em;background-color: white;}#sk-container-id-15 div.sk-label label {font-family: monospace;font-weight: bold;display: inline-block;line-height: 1.2em;}#sk-container-id-15 div.sk-label-container {text-align: center;}#sk-container-id-15 div.sk-container {/* jupyter's `normalize.less` sets `[hidden] { display: none; }` but bootstrap.min.css set `[hidden] { display: none !important; }` so we also need the `!important` here to be able to override the default hidden behavior on the sphinx rendered scikit-learn.org. See: https://github.com/scikit-learn/scikit-learn/issues/21755 */display: inline-block !important;position: relative;}#sk-container-id-15 div.sk-text-repr-fallback {display: none;}</style><div id=\"sk-container-id-15\" class=\"sk-top-container\"><div class=\"sk-text-repr-fallback\"><pre>ComplementNB()</pre><b>In a Jupyter environment, please rerun this cell to show the HTML representation or trust the notebook. <br />On GitHub, the HTML representation is unable to render, please try loading this page with nbviewer.org.</b></div><div class=\"sk-container\" hidden><div class=\"sk-item\"><div class=\"sk-estimator sk-toggleable\"><input class=\"sk-toggleable__control sk-hidden--visually\" id=\"sk-estimator-id-15\" type=\"checkbox\" checked><label for=\"sk-estimator-id-15\" class=\"sk-toggleable__label sk-toggleable__label-arrow\">ComplementNB</label><div class=\"sk-toggleable__content\"><pre>ComplementNB()</pre></div></div></div></div></div>"
      ],
      "text/plain": [
       "ComplementNB()"
      ]
     },
     "execution_count": 147,
     "metadata": {},
     "output_type": "execute_result"
    }
   ],
   "source": [
    "# fit model\n",
    "clf_compl_df6_tfidf.fit(X_train_text_df6_tfidf, Y_train_df6)\n"
   ]
  },
  {
   "cell_type": "code",
   "execution_count": 148,
   "id": "cf71a134",
   "metadata": {},
   "outputs": [],
   "source": [
    "y_pred_NB_Compl_df6_tfidf = clf_compl_df6_tfidf.predict(X_test_text_df6_tfidf)\n"
   ]
  },
  {
   "cell_type": "code",
   "execution_count": 149,
   "id": "0a4102ec",
   "metadata": {},
   "outputs": [
    {
     "data": {
      "text/plain": [
       "0.6424666392334372"
      ]
     },
     "execution_count": 149,
     "metadata": {},
     "output_type": "execute_result"
    }
   ],
   "source": [
    "# get accuracy\n",
    "accuracy_NB_Compl_df6_tfidf = clf_compl_df6_tfidf.score(X_test_text_df6_tfidf, Y_test_df6)\n",
    "accuracy_NB_Compl_df6_tfidf\n",
    "\n",
    "# 0.64"
   ]
  },
  {
   "cell_type": "code",
   "execution_count": 150,
   "id": "2662630a",
   "metadata": {},
   "outputs": [
    {
     "data": {
      "text/html": [
       "<div>\n",
       "<style scoped>\n",
       "    .dataframe tbody tr th:only-of-type {\n",
       "        vertical-align: middle;\n",
       "    }\n",
       "\n",
       "    .dataframe tbody tr th {\n",
       "        vertical-align: top;\n",
       "    }\n",
       "\n",
       "    .dataframe thead th {\n",
       "        text-align: right;\n",
       "    }\n",
       "</style>\n",
       "<table border=\"1\" class=\"dataframe\">\n",
       "  <thead>\n",
       "    <tr style=\"text-align: right;\">\n",
       "      <th>predict</th>\n",
       "      <th>0.0</th>\n",
       "      <th>1.0</th>\n",
       "      <th>2.0</th>\n",
       "    </tr>\n",
       "    <tr>\n",
       "      <th>real</th>\n",
       "      <th></th>\n",
       "      <th></th>\n",
       "      <th></th>\n",
       "    </tr>\n",
       "  </thead>\n",
       "  <tbody>\n",
       "    <tr>\n",
       "      <th>0.0</th>\n",
       "      <td>6018</td>\n",
       "      <td>651</td>\n",
       "      <td>744</td>\n",
       "    </tr>\n",
       "    <tr>\n",
       "      <th>1.0</th>\n",
       "      <td>1777</td>\n",
       "      <td>3169</td>\n",
       "      <td>302</td>\n",
       "    </tr>\n",
       "    <tr>\n",
       "      <th>2.0</th>\n",
       "      <td>2185</td>\n",
       "      <td>423</td>\n",
       "      <td>1742</td>\n",
       "    </tr>\n",
       "  </tbody>\n",
       "</table>\n",
       "</div>"
      ],
      "text/plain": [
       "predict   0.0   1.0   2.0\n",
       "real                     \n",
       "0.0      6018   651   744\n",
       "1.0      1777  3169   302\n",
       "2.0      2185   423  1742"
      ]
     },
     "execution_count": 150,
     "metadata": {},
     "output_type": "execute_result"
    }
   ],
   "source": [
    "# get confusion matrix\n",
    "pd.crosstab(Y_test_df6, y_pred_NB_Compl_df6_tfidf, rownames=[\"true\"], colnames=[\"predict\"])\n"
   ]
  },
  {
   "cell_type": "code",
   "execution_count": 151,
   "id": "311b6e7e",
   "metadata": {},
   "outputs": [
    {
     "name": "stdout",
     "output_type": "stream",
     "text": [
      "Naive Bayes Complement df6 tfidf classification report:\n",
      "                precision    recall  f1-score   support\n",
      "\n",
      "         0.0       0.60      0.81      0.69      7413\n",
      "         1.0       0.75      0.60      0.67      5248\n",
      "         2.0       0.62      0.40      0.49      4350\n",
      "\n",
      "    accuracy                           0.64     17011\n",
      "   macro avg       0.66      0.61      0.62     17011\n",
      "weighted avg       0.65      0.64      0.63     17011\n",
      "\n"
     ]
    }
   ],
   "source": [
    "from sklearn.metrics import classification_report \n",
    "\n",
    "# get classification report\n",
    "print(\"Naive Bayes Complement df6 tfidf classification report:\\n \", classification_report (Y_test_df6, y_pred_NB_Compl_df6_tfidf))\n"
   ]
  },
  {
   "cell_type": "code",
   "execution_count": 152,
   "id": "6a6cd63b",
   "metadata": {},
   "outputs": [
    {
     "name": "stdout",
     "output_type": "stream",
     "text": [
      "[[6018  651  744]\n",
      " [1777 3169  302]\n",
      " [2185  423 1742]]\n"
     ]
    }
   ],
   "source": [
    "# create confusion matrix\n",
    "cf_matrix_Compl_df6_tfidf = confusion_matrix(Y_test_df6, y_pred_NB_Compl_df6_tfidf)\n",
    "print(cf_matrix_Compl_df6_tfidf)\n"
   ]
  },
  {
   "cell_type": "code",
   "execution_count": null,
   "id": "6d229d5e",
   "metadata": {},
   "outputs": [],
   "source": []
  },
  {
   "cell_type": "markdown",
   "id": "f4050b29",
   "metadata": {},
   "source": [
    "# 4 CREATE LOGISTIC REGRESSION MODEL ON TEXT DATA df6\n"
   ]
  },
  {
   "cell_type": "code",
   "execution_count": 119,
   "id": "de321c53",
   "metadata": {},
   "outputs": [],
   "source": [
    "# Step 3: Instantiate model \n",
    "from sklearn.linear_model import LogisticRegression\n",
    "\n",
    "clf_LogReg_df6_tfidf = LogisticRegression(C=1.0)\n",
    "# clf_LogReg_df6_tfidf = LogisticRegression(C=1.0, class_wight=\"balanced\")\n",
    "# clf_LogReg_df6_tfidf = LogisticRegression(C=1.0, penalty=\"elasticnet\")\n"
   ]
  },
  {
   "cell_type": "code",
   "execution_count": 120,
   "id": "0b263a24",
   "metadata": {},
   "outputs": [
    {
     "name": "stderr",
     "output_type": "stream",
     "text": [
      "C:\\Users\\Nutzer\\anaconda3\\lib\\site-packages\\sklearn\\linear_model\\_logistic.py:458: ConvergenceWarning: lbfgs failed to converge (status=1):\n",
      "STOP: TOTAL NO. of ITERATIONS REACHED LIMIT.\n",
      "\n",
      "Increase the number of iterations (max_iter) or scale the data as shown in:\n",
      "    https://scikit-learn.org/stable/modules/preprocessing.html\n",
      "Please also refer to the documentation for alternative solver options:\n",
      "    https://scikit-learn.org/stable/modules/linear_model.html#logistic-regression\n",
      "  n_iter_i = _check_optimize_result(\n"
     ]
    },
    {
     "data": {
      "text/html": [
       "<style>#sk-container-id-12 {color: black;background-color: white;}#sk-container-id-12 pre{padding: 0;}#sk-container-id-12 div.sk-toggleable {background-color: white;}#sk-container-id-12 label.sk-toggleable__label {cursor: pointer;display: block;width: 100%;margin-bottom: 0;padding: 0.3em;box-sizing: border-box;text-align: center;}#sk-container-id-12 label.sk-toggleable__label-arrow:before {content: \"▸\";float: left;margin-right: 0.25em;color: #696969;}#sk-container-id-12 label.sk-toggleable__label-arrow:hover:before {color: black;}#sk-container-id-12 div.sk-estimator:hover label.sk-toggleable__label-arrow:before {color: black;}#sk-container-id-12 div.sk-toggleable__content {max-height: 0;max-width: 0;overflow: hidden;text-align: left;background-color: #f0f8ff;}#sk-container-id-12 div.sk-toggleable__content pre {margin: 0.2em;color: black;border-radius: 0.25em;background-color: #f0f8ff;}#sk-container-id-12 input.sk-toggleable__control:checked~div.sk-toggleable__content {max-height: 200px;max-width: 100%;overflow: auto;}#sk-container-id-12 input.sk-toggleable__control:checked~label.sk-toggleable__label-arrow:before {content: \"▾\";}#sk-container-id-12 div.sk-estimator input.sk-toggleable__control:checked~label.sk-toggleable__label {background-color: #d4ebff;}#sk-container-id-12 div.sk-label input.sk-toggleable__control:checked~label.sk-toggleable__label {background-color: #d4ebff;}#sk-container-id-12 input.sk-hidden--visually {border: 0;clip: rect(1px 1px 1px 1px);clip: rect(1px, 1px, 1px, 1px);height: 1px;margin: -1px;overflow: hidden;padding: 0;position: absolute;width: 1px;}#sk-container-id-12 div.sk-estimator {font-family: monospace;background-color: #f0f8ff;border: 1px dotted black;border-radius: 0.25em;box-sizing: border-box;margin-bottom: 0.5em;}#sk-container-id-12 div.sk-estimator:hover {background-color: #d4ebff;}#sk-container-id-12 div.sk-parallel-item::after {content: \"\";width: 100%;border-bottom: 1px solid gray;flex-grow: 1;}#sk-container-id-12 div.sk-label:hover label.sk-toggleable__label {background-color: #d4ebff;}#sk-container-id-12 div.sk-serial::before {content: \"\";position: absolute;border-left: 1px solid gray;box-sizing: border-box;top: 0;bottom: 0;left: 50%;z-index: 0;}#sk-container-id-12 div.sk-serial {display: flex;flex-direction: column;align-items: center;background-color: white;padding-right: 0.2em;padding-left: 0.2em;position: relative;}#sk-container-id-12 div.sk-item {position: relative;z-index: 1;}#sk-container-id-12 div.sk-parallel {display: flex;align-items: stretch;justify-content: center;background-color: white;position: relative;}#sk-container-id-12 div.sk-item::before, #sk-container-id-12 div.sk-parallel-item::before {content: \"\";position: absolute;border-left: 1px solid gray;box-sizing: border-box;top: 0;bottom: 0;left: 50%;z-index: -1;}#sk-container-id-12 div.sk-parallel-item {display: flex;flex-direction: column;z-index: 1;position: relative;background-color: white;}#sk-container-id-12 div.sk-parallel-item:first-child::after {align-self: flex-end;width: 50%;}#sk-container-id-12 div.sk-parallel-item:last-child::after {align-self: flex-start;width: 50%;}#sk-container-id-12 div.sk-parallel-item:only-child::after {width: 0;}#sk-container-id-12 div.sk-dashed-wrapped {border: 1px dashed gray;margin: 0 0.4em 0.5em 0.4em;box-sizing: border-box;padding-bottom: 0.4em;background-color: white;}#sk-container-id-12 div.sk-label label {font-family: monospace;font-weight: bold;display: inline-block;line-height: 1.2em;}#sk-container-id-12 div.sk-label-container {text-align: center;}#sk-container-id-12 div.sk-container {/* jupyter's `normalize.less` sets `[hidden] { display: none; }` but bootstrap.min.css set `[hidden] { display: none !important; }` so we also need the `!important` here to be able to override the default hidden behavior on the sphinx rendered scikit-learn.org. See: https://github.com/scikit-learn/scikit-learn/issues/21755 */display: inline-block !important;position: relative;}#sk-container-id-12 div.sk-text-repr-fallback {display: none;}</style><div id=\"sk-container-id-12\" class=\"sk-top-container\"><div class=\"sk-text-repr-fallback\"><pre>LogisticRegression()</pre><b>In a Jupyter environment, please rerun this cell to show the HTML representation or trust the notebook. <br />On GitHub, the HTML representation is unable to render, please try loading this page with nbviewer.org.</b></div><div class=\"sk-container\" hidden><div class=\"sk-item\"><div class=\"sk-estimator sk-toggleable\"><input class=\"sk-toggleable__control sk-hidden--visually\" id=\"sk-estimator-id-12\" type=\"checkbox\" checked><label for=\"sk-estimator-id-12\" class=\"sk-toggleable__label sk-toggleable__label-arrow\">LogisticRegression</label><div class=\"sk-toggleable__content\"><pre>LogisticRegression()</pre></div></div></div></div></div>"
      ],
      "text/plain": [
       "LogisticRegression()"
      ]
     },
     "execution_count": 120,
     "metadata": {},
     "output_type": "execute_result"
    }
   ],
   "source": [
    "# Step 4: Fit the model on the training dataset\n",
    "clf_LogReg_df6_tfidf.fit(X_train_text_df6_tfidf, Y_train_df6)\n"
   ]
  },
  {
   "cell_type": "code",
   "execution_count": 121,
   "id": "39649f1e",
   "metadata": {},
   "outputs": [],
   "source": [
    "y_pred_LogReg_df6_tfidf = clf_LogReg_df6_tfidf.predict(X_test_text_df6_tfidf)\n"
   ]
  },
  {
   "cell_type": "code",
   "execution_count": 153,
   "id": "94671ec7",
   "metadata": {},
   "outputs": [
    {
     "data": {
      "text/plain": [
       "0.7210040561989302"
      ]
     },
     "execution_count": 153,
     "metadata": {},
     "output_type": "execute_result"
    }
   ],
   "source": [
    "# get accuracy\n",
    "accuracy_LogReg_df6_tfidf = clf_LogReg_df6_tfidf.score(X_test_text_df6_tfidf, Y_test_df6)\n",
    "accuracy_LogReg_df6_tfidf\n",
    "\n",
    "# 0.721"
   ]
  },
  {
   "cell_type": "code",
   "execution_count": 154,
   "id": "89438357",
   "metadata": {},
   "outputs": [
    {
     "data": {
      "text/html": [
       "<div>\n",
       "<style scoped>\n",
       "    .dataframe tbody tr th:only-of-type {\n",
       "        vertical-align: middle;\n",
       "    }\n",
       "\n",
       "    .dataframe tbody tr th {\n",
       "        vertical-align: top;\n",
       "    }\n",
       "\n",
       "    .dataframe thead th {\n",
       "        text-align: right;\n",
       "    }\n",
       "</style>\n",
       "<table border=\"1\" class=\"dataframe\">\n",
       "  <thead>\n",
       "    <tr style=\"text-align: right;\">\n",
       "      <th>predict</th>\n",
       "      <th>0.0</th>\n",
       "      <th>1.0</th>\n",
       "      <th>2.0</th>\n",
       "    </tr>\n",
       "    <tr>\n",
       "      <th>real</th>\n",
       "      <th></th>\n",
       "      <th></th>\n",
       "      <th></th>\n",
       "    </tr>\n",
       "  </thead>\n",
       "  <tbody>\n",
       "    <tr>\n",
       "      <th>0.0</th>\n",
       "      <td>5763</td>\n",
       "      <td>789</td>\n",
       "      <td>861</td>\n",
       "    </tr>\n",
       "    <tr>\n",
       "      <th>1.0</th>\n",
       "      <td>906</td>\n",
       "      <td>3984</td>\n",
       "      <td>358</td>\n",
       "    </tr>\n",
       "    <tr>\n",
       "      <th>2.0</th>\n",
       "      <td>1314</td>\n",
       "      <td>518</td>\n",
       "      <td>2518</td>\n",
       "    </tr>\n",
       "  </tbody>\n",
       "</table>\n",
       "</div>"
      ],
      "text/plain": [
       "predict   0.0   1.0   2.0\n",
       "real                     \n",
       "0.0      5763   789   861\n",
       "1.0       906  3984   358\n",
       "2.0      1314   518  2518"
      ]
     },
     "execution_count": 154,
     "metadata": {},
     "output_type": "execute_result"
    }
   ],
   "source": [
    "# get confusion matrix\n",
    "pd.crosstab(Y_test_df6, y_pred_LogReg_df6_tfidf, rownames=[\"true\"], colnames=[\"predict\"])\n"
   ]
  },
  {
   "cell_type": "code",
   "execution_count": 155,
   "id": "25a4dc91",
   "metadata": {},
   "outputs": [
    {
     "name": "stdout",
     "output_type": "stream",
     "text": [
      "Logistic Regression df6 tfidf classification report:\n",
      "                precision    recall  f1-score   support\n",
      "\n",
      "         0.0       0.72      0.78      0.75      7413\n",
      "         1.0       0.75      0.76      0.76      5248\n",
      "         2.0       0.67      0.58      0.62      4350\n",
      "\n",
      "    accuracy                           0.72     17011\n",
      "   macro avg       0.72      0.71      0.71     17011\n",
      "weighted avg       0.72      0.72      0.72     17011\n",
      "\n"
     ]
    }
   ],
   "source": [
    "from sklearn.metrics import classification_report \n",
    "\n",
    "# get classification report\n",
    "print(\"Logistic Regression df6 tfidf classification report:\\n \", classification_report (Y_test_df6, y_pred_LogReg_df6_tfidf))\n"
   ]
  },
  {
   "cell_type": "code",
   "execution_count": 156,
   "id": "f6d9b3f0",
   "metadata": {},
   "outputs": [
    {
     "name": "stdout",
     "output_type": "stream",
     "text": [
      "[[5763  789  861]\n",
      " [ 906 3984  358]\n",
      " [1314  518 2518]]\n"
     ]
    }
   ],
   "source": [
    "# create confusion matrix\n",
    "cf_matrix_LogReg_df6_tfidf = confusion_matrix(Y_test_df6, y_pred_LogReg_df6_tfidf)\n",
    "print(cf_matrix_LogReg_df6_tfidf)\n"
   ]
  },
  {
   "cell_type": "code",
   "execution_count": null,
   "id": "511b2519",
   "metadata": {},
   "outputs": [],
   "source": []
  },
  {
   "cell_type": "markdown",
   "id": "d42a376f",
   "metadata": {},
   "source": [
    "# COMPARE MODELS ON TEXT DATA ONLY df6\n"
   ]
  },
  {
   "cell_type": "code",
   "execution_count": 157,
   "id": "23017cfc",
   "metadata": {},
   "outputs": [
    {
     "name": "stdout",
     "output_type": "stream",
     "text": [
      "Naive Bayes Bernoulli accuracy score df6 tfidf: 0.5459408617953089\n",
      "Naive Bayes Multinomial accuracy score df6 tfidf: 0.592910469696079\n",
      "Naive Bayes Complement accuracy score df6 tfidf: 0.6424666392334372\n",
      "Logistic Regression accuracy score df6 tfidf: 0.7210040561989302\n"
     ]
    }
   ],
   "source": [
    "print(\"Naive Bayes Bernoulli accuracy score df6 tfidf:\", accuracy_NB_Bern_df6_tfidf)\n",
    "print(\"Naive Bayes Multinomial accuracy score df6 tfidf:\", accuracy_NB_Mult_df6_tfidf)\n",
    "print(\"Naive Bayes Complement accuracy score df6 tfidf:\", accuracy_NB_Compl_df6_tfidf)\n",
    "print(\"Logistic Regression accuracy score df6 tfidf:\", accuracy_LogReg_df6_tfidf)\n"
   ]
  },
  {
   "cell_type": "code",
   "execution_count": 158,
   "id": "d1b54426",
   "metadata": {},
   "outputs": [],
   "source": [
    "#Creating the Dictionary with model name as key adn accuracy as key-value\n",
    "labels={'Naive Bayes Bernoulli':accuracy_NB_Bern_df6_tfidf,\n",
    "        'Naive Bayes Multinomial':accuracy_NB_Mult_df6_tfidf,\n",
    "        'Naive Bayes Complement':accuracy_NB_Compl_df6_tfidf,\n",
    "        'Logistic Regression':accuracy_LogReg_df6_tfidf}\n"
   ]
  },
  {
   "cell_type": "code",
   "execution_count": 159,
   "id": "92239033",
   "metadata": {},
   "outputs": [
    {
     "data": {
      "image/png": "[encoded data removed]",
      "text/plain": [
       "<Figure size 3000x1000 with 1 Axes>"
      ]
     },
     "metadata": {},
     "output_type": "display_data"
    }
   ],
   "source": [
    "#Plotting accuracy of all the models with Bar-Graphs\n",
    "plt.figure(figsize=(30,10))\n",
    "plt.title('Comparing Accuracy of ML Models on text data from df6 dataset',fontsize=20)\n",
    "colors=['yellow','orange','magenta', 'gray']\n",
    "plt.xticks(fontsize=10,color='black')\n",
    "plt.yticks(fontsize=20,color='black')\n",
    "plt.ylabel('Accuracy',fontsize=20)\n",
    "plt.xlabel('Models',fontsize=20)\n",
    "plt.bar(labels.keys(),labels.values(),edgecolor='black',color=colors, linewidth=2,alpha=0.5);\n",
    "\n"
   ]
  },
  {
   "cell_type": "code",
   "execution_count": null,
   "id": "28b2393a",
   "metadata": {},
   "outputs": [],
   "source": [
    "# f1 scores not possible because we have 3 classes\n"
   ]
  },
  {
   "cell_type": "code",
   "execution_count": null,
   "id": "93e61947",
   "metadata": {},
   "outputs": [],
   "source": []
  }
 ],
 "metadata": {
  "kernelspec": {
   "display_name": "Python 3 (ipykernel)",
   "language": "python",
   "name": "python3"
  },
  "language_info": {
   "codemirror_mode": {
    "name": "ipython",
    "version": 3
   },
   "file_extension": ".py",
   "mimetype": "text/x-python",
   "name": "python",
   "nbconvert_exporter": "python",
   "pygments_lexer": "ipython3",
   "version": "3.10.9"
  }
 },
 "nbformat": 4,
 "nbformat_minor": 5
}
