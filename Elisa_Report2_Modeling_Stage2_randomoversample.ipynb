{
 "cells": [
  {
   "cell_type": "markdown",
   "id": "03376b15",
   "metadata": {},
   "source": [
    "######################################################################################################\n",
    "# STAGE 2 - Analysis for 2 classes, title+content only\n",
    "######################################################################################################\n",
    "# WITH RANDOM OVERSAMPLER\n",
    "######################################################################################################"
   ]
  },
  {
   "cell_type": "code",
   "execution_count": null,
   "id": "bb1c2d54",
   "metadata": {},
   "outputs": [],
   "source": [
    "# HOW TO IMPROVE MODELS?\n",
    "\n",
    "### 1: (done in Notebook \"Elisa_Report2_Modeling_Stage2\")\n",
    "# # try to improve prediction for left bottom corner (false negatives)\n",
    "# PARAMETER TUNING (e.g. num_boost_rounds)\n",
    "# --> improves results a lot\n",
    "\n",
    "\n",
    "### 2: (done in Notebook \"Elisa_Report2_Modeling_Stage2\")\n",
    "# use class_weights\n",
    "# class 1: weight it 1,38 times\n",
    "# done for logistic regression, passive aggressive classifier, SGD, LightGBM\n",
    "\n",
    "# LogReg, PassiveAggressive, SGD: as attributes (class_weight=class_weights)\n",
    "\n",
    "# LightGBM: in params \n",
    "\n",
    "# --> does not really improve results \n",
    "# --> test whether it changes in combination wih oversampling \n",
    "\n",
    "\n",
    "\n",
    "### 3: DONE IN THIS NOTEBOOK\n",
    "# --> using OverSample to deal with slightly unbalanced dataset\n",
    "# Random Oversampling (RandomOverSampler) and SMOTE (SMOTE)\n",
    "# not much of an improvement\n",
    "\n",
    "\n",
    "### 4: done in Notebook \"Elisa_Report2_Modeling_Stage3\"\n",
    "# Cross Validation (Stage 3)\n",
    "\n",
    "\n",
    "### 5: done in Notebook \"Elisa_Report2_Modeling_Stage3\"\n",
    "# compare different vectorizing methods"
   ]
  },
  {
   "cell_type": "code",
   "execution_count": null,
   "id": "99126f79",
   "metadata": {},
   "outputs": [],
   "source": [
    "\n",
    "##########################\n",
    "## STAGE 2 - Analysis for 2 classes, title+content only\n",
    "##########################\n",
    "\n",
    "## We kept only two labels for further classification modeling:\n",
    "# 0: articles from reliable sources\n",
    "# 1: articles from unreliable sources\n",
    "\n",
    "# USED PRE-PROCESSED DATASET: strats12_all_cleaned.pkl\n",
    "# LOAD AS DF12\n",
    "# --> contains 126.335 rows after pre-processing (2 classes)\n",
    "\n",
    "# 0.0    73271\n",
    "# 1.0    53084\n",
    "\n",
    "\n",
    "#########\n",
    "# Pre-Processing Steps:\n",
    "# delete label \"2: mixed\"\n",
    "# Create dataframe with title+content variables only\n",
    "# remove stop words\n",
    "# vectorize text (TF-IDF)\n",
    "#########\n",
    "\n",
    "\n",
    "\n",
    "# We only used title + content (vectorized)\n",
    "# trial of boosting and 3 more complex models\n",
    "\n",
    "\n",
    "# MODELS FOR STAGE 2 (Advanced Models):\n",
    "# 1) Naive Bayes Bernoulli\n",
    "# 2) Naive Bayes Multinomial\n",
    "# 3) Naive Bayes Complement\n",
    "# 4) Logistic Regression****\n",
    "\n",
    "# 5) Random Forest   --> takes very long! \n",
    "# 6) Passive Aggressive Classifier****\n",
    "\n",
    "# 7) LightGBM\n",
    "# 8) CatBoost\n",
    "# 9) XGBoost\n",
    "\n",
    "# 10) Stochastic Gradient Descent (SGD)****\n",
    "\n",
    "# ****: very good results\n"
   ]
  },
  {
   "cell_type": "code",
   "execution_count": null,
   "id": "a6a6ae37",
   "metadata": {},
   "outputs": [],
   "source": []
  },
  {
   "cell_type": "markdown",
   "id": "b9d2187f",
   "metadata": {},
   "source": [
    "# Import libraries"
   ]
  },
  {
   "cell_type": "code",
   "execution_count": 3,
   "id": "8155f53c",
   "metadata": {},
   "outputs": [],
   "source": [
    "import numpy as np\n",
    "import pandas as pd\n",
    "from matplotlib.pylab import plt\n",
    "import seaborn as sns\n",
    "# from sqlalchemy import create_engine\n",
    "# import sqlalchemy as \n",
    "import sqlite3\n",
    "import nltk\n",
    "from nltk.tokenize import word_tokenize\n",
    "from imblearn.over_sampling import RandomOverSampler, SMOTE\n"
   ]
  },
  {
   "cell_type": "code",
   "execution_count": null,
   "id": "f6e1ed8b",
   "metadata": {},
   "outputs": [],
   "source": []
  },
  {
   "cell_type": "markdown",
   "id": "713c9cf9",
   "metadata": {},
   "source": [
    "# Load dataset + Pre-Processing"
   ]
  },
  {
   "cell_type": "code",
   "execution_count": 4,
   "id": "2d38ecd9",
   "metadata": {},
   "outputs": [],
   "source": [
    "df12 = pd.read_pickle(\"strats12_all_cleaned.pkl\")"
   ]
  },
  {
   "cell_type": "code",
   "execution_count": 5,
   "id": "ab123da2",
   "metadata": {},
   "outputs": [
    {
     "data": {
      "text/html": [
       "<div>\n",
       "<style scoped>\n",
       "    .dataframe tbody tr th:only-of-type {\n",
       "        vertical-align: middle;\n",
       "    }\n",
       "\n",
       "    .dataframe tbody tr th {\n",
       "        vertical-align: top;\n",
       "    }\n",
       "\n",
       "    .dataframe thead th {\n",
       "        text-align: right;\n",
       "    }\n",
       "</style>\n",
       "<table border=\"1\" class=\"dataframe\">\n",
       "  <thead>\n",
       "    <tr style=\"text-align: right;\">\n",
       "      <th></th>\n",
       "      <th>id</th>\n",
       "      <th>source</th>\n",
       "      <th>title</th>\n",
       "      <th>content</th>\n",
       "      <th>url</th>\n",
       "      <th>published_utc</th>\n",
       "      <th>label</th>\n",
       "      <th>factuality</th>\n",
       "      <th>questionable-source</th>\n",
       "      <th>conspiracy-pseudoscience</th>\n",
       "      <th>pro-science</th>\n",
       "    </tr>\n",
       "  </thead>\n",
       "  <tbody>\n",
       "    <tr>\n",
       "      <th>0</th>\n",
       "      <td>21stcenturywire--2022-04-26--An Unsettling Rea...</td>\n",
       "      <td>21stcenturywire</td>\n",
       "      <td>An Unsettling Realization: ‘Mask Zealots are S...</td>\n",
       "      <td>It’s been noted how the fanatical nature of ma...</td>\n",
       "      <td>https://21stcenturywire.com/2022/04/26/an-unse...</td>\n",
       "      <td>1650983484</td>\n",
       "      <td>1.0</td>\n",
       "      <td>2.0</td>\n",
       "      <td>0.0</td>\n",
       "      <td>1.0</td>\n",
       "      <td>0.0</td>\n",
       "    </tr>\n",
       "    <tr>\n",
       "      <th>1</th>\n",
       "      <td>21stcenturywire--2022-04-24--Episode #416 – ‘S...</td>\n",
       "      <td>21stcenturywire</td>\n",
       "      <td>Episode #416 – ‘Soldiers of Fortune’ with gues...</td>\n",
       "      <td>Episode #416 of SUNDAY WIRE SHOW resumes this ...</td>\n",
       "      <td>https://21stcenturywire.com/2022/04/24/episode...</td>\n",
       "      <td>1650823248</td>\n",
       "      <td>1.0</td>\n",
       "      <td>2.0</td>\n",
       "      <td>0.0</td>\n",
       "      <td>1.0</td>\n",
       "      <td>0.0</td>\n",
       "    </tr>\n",
       "  </tbody>\n",
       "</table>\n",
       "</div>"
      ],
      "text/plain": [
       "                                                  id           source  \\\n",
       "0  21stcenturywire--2022-04-26--An Unsettling Rea...  21stcenturywire   \n",
       "1  21stcenturywire--2022-04-24--Episode #416 – ‘S...  21stcenturywire   \n",
       "\n",
       "                                               title  \\\n",
       "0  An Unsettling Realization: ‘Mask Zealots are S...   \n",
       "1  Episode #416 – ‘Soldiers of Fortune’ with gues...   \n",
       "\n",
       "                                             content  \\\n",
       "0  It’s been noted how the fanatical nature of ma...   \n",
       "1  Episode #416 of SUNDAY WIRE SHOW resumes this ...   \n",
       "\n",
       "                                                 url  published_utc  label  \\\n",
       "0  https://21stcenturywire.com/2022/04/26/an-unse...     1650983484    1.0   \n",
       "1  https://21stcenturywire.com/2022/04/24/episode...     1650823248    1.0   \n",
       "\n",
       "   factuality  questionable-source  conspiracy-pseudoscience  pro-science  \n",
       "0         2.0                  0.0                       1.0          0.0  \n",
       "1         2.0                  0.0                       1.0          0.0  "
      ]
     },
     "execution_count": 5,
     "metadata": {},
     "output_type": "execute_result"
    }
   ],
   "source": [
    "df12.head(2)"
   ]
  },
  {
   "cell_type": "code",
   "execution_count": 6,
   "id": "51b7c9b9",
   "metadata": {},
   "outputs": [
    {
     "name": "stdout",
     "output_type": "stream",
     "text": [
      "<class 'pandas.core.frame.DataFrame'>\n",
      "Int64Index: 170099 entries, 0 to 213392\n",
      "Data columns (total 11 columns):\n",
      " #   Column                    Non-Null Count   Dtype  \n",
      "---  ------                    --------------   -----  \n",
      " 0   id                        170099 non-null  object \n",
      " 1   source                    170099 non-null  object \n",
      " 2   title                     170099 non-null  object \n",
      " 3   content                   170099 non-null  object \n",
      " 4   url                       170099 non-null  object \n",
      " 5   published_utc             170099 non-null  int64  \n",
      " 6   label                     170099 non-null  float64\n",
      " 7   factuality                170099 non-null  float64\n",
      " 8   questionable-source       170099 non-null  float64\n",
      " 9   conspiracy-pseudoscience  170099 non-null  float64\n",
      " 10  pro-science               170099 non-null  float64\n",
      "dtypes: float64(5), int64(1), object(5)\n",
      "memory usage: 15.6+ MB\n"
     ]
    }
   ],
   "source": [
    "df12.info()"
   ]
  },
  {
   "cell_type": "code",
   "execution_count": null,
   "id": "f47228f6",
   "metadata": {},
   "outputs": [],
   "source": []
  },
  {
   "cell_type": "code",
   "execution_count": 7,
   "id": "3e44adad",
   "metadata": {},
   "outputs": [
    {
     "data": {
      "text/plain": [
       "0.0    73271\n",
       "1.0    53084\n",
       "2.0    43744\n",
       "Name: label, dtype: int64"
      ]
     },
     "execution_count": 7,
     "metadata": {},
     "output_type": "execute_result"
    }
   ],
   "source": [
    "# inspect labels\n",
    "df12[\"label\"].value_counts()\n",
    "\n",
    "# slightly unbalanced\n"
   ]
  },
  {
   "cell_type": "code",
   "execution_count": 8,
   "id": "a0db2eca",
   "metadata": {},
   "outputs": [],
   "source": [
    "### DELETE 2 in labels (delete 43744 rows)\n",
    "df12 = df12[df12[\"label\"] != 2]\n"
   ]
  },
  {
   "cell_type": "code",
   "execution_count": 9,
   "id": "27a0bbb4",
   "metadata": {},
   "outputs": [
    {
     "data": {
      "text/plain": [
       "0.0    73271\n",
       "1.0    53084\n",
       "Name: label, dtype: int64"
      ]
     },
     "execution_count": 9,
     "metadata": {},
     "output_type": "execute_result"
    }
   ],
   "source": [
    "# inspect labels\n",
    "df12[\"label\"].value_counts()\n",
    "\n",
    "# 0.0    73271\n",
    "# 1.0    53084"
   ]
  },
  {
   "cell_type": "code",
   "execution_count": 10,
   "id": "3d132396",
   "metadata": {},
   "outputs": [
    {
     "data": {
      "image/png": "[encoded data removed]",
      "text/plain": [
       "<Figure size 640x480 with 1 Axes>"
      ]
     },
     "metadata": {},
     "output_type": "display_data"
    }
   ],
   "source": [
    "# barplot of labels\n",
    "sns.countplot(x = \"label\", data = df12)\n",
    "plt.xticks(np.arange(2),[\"0: Reliable\", \"1: Unreliable\"])\n",
    "plt.ylabel(\"Frequency\")\n",
    "plt.xlabel(\"Outlet-level veracity labels\")\n",
    "plt.title(\"Frequencies of the two outlet-level veracity labels in 'df12' dataset\")\n",
    "plt.show();\n"
   ]
  },
  {
   "cell_type": "code",
   "execution_count": 11,
   "id": "fbcd2e59",
   "metadata": {},
   "outputs": [
    {
     "name": "stdout",
     "output_type": "stream",
     "text": [
      "<class 'pandas.core.frame.DataFrame'>\n",
      "Int64Index: 126355 entries, 0 to 213392\n",
      "Data columns (total 11 columns):\n",
      " #   Column                    Non-Null Count   Dtype  \n",
      "---  ------                    --------------   -----  \n",
      " 0   id                        126355 non-null  object \n",
      " 1   source                    126355 non-null  object \n",
      " 2   title                     126355 non-null  object \n",
      " 3   content                   126355 non-null  object \n",
      " 4   url                       126355 non-null  object \n",
      " 5   published_utc             126355 non-null  int64  \n",
      " 6   label                     126355 non-null  float64\n",
      " 7   factuality                126355 non-null  float64\n",
      " 8   questionable-source       126355 non-null  float64\n",
      " 9   conspiracy-pseudoscience  126355 non-null  float64\n",
      " 10  pro-science               126355 non-null  float64\n",
      "dtypes: float64(5), int64(1), object(5)\n",
      "memory usage: 11.6+ MB\n"
     ]
    }
   ],
   "source": [
    "df12.info()"
   ]
  },
  {
   "cell_type": "code",
   "execution_count": null,
   "id": "ac0063c4",
   "metadata": {},
   "outputs": [],
   "source": []
  },
  {
   "cell_type": "markdown",
   "id": "2f4a3cc1",
   "metadata": {},
   "source": [
    "# Remove Stop Words "
   ]
  },
  {
   "cell_type": "code",
   "execution_count": 12,
   "id": "50a90471",
   "metadata": {},
   "outputs": [
    {
     "name": "stderr",
     "output_type": "stream",
     "text": [
      "[nltk_data] Downloading package stopwords to\n",
      "[nltk_data]     C:\\Users\\Nutzer\\AppData\\Roaming\\nltk_data...\n",
      "[nltk_data]   Package stopwords is already up-to-date!\n"
     ]
    }
   ],
   "source": [
    "import nltk\n",
    "from nltk.corpus import stopwords\n",
    "\n",
    "# Download stopwords corpus if not already downloaded\n",
    "nltk.download('stopwords')\n",
    "\n",
    "# Load the stopwords\n",
    "stop_words = set(stopwords.words('english'))  # You can choose a different language if needed\n",
    "\n",
    "# Update stop words variable\n",
    "# stop_words.update([\",\", \".\"])\n",
    "\n",
    "additional_words = [\"?\", \"!\", \".\", \",\", \":\", \";\", \"-\", \"--\", \"...\", '\"', \"'\"]\n",
    "stop_words.update(set(additional_words))\n"
   ]
  },
  {
   "cell_type": "code",
   "execution_count": 13,
   "id": "02d1886d",
   "metadata": {
    "scrolled": true
   },
   "outputs": [
    {
     "name": "stdout",
     "output_type": "stream",
     "text": [
      "{'why', 't', 'hadn', ',', 'there', 'ourselves', \"needn't\", 'shouldn', 'wouldn', 'at', 'had', \"should've\", 'from', 'that', 'can', 'am', 'won', 'into', 'now', \"hadn't\", 'until', 'no', \"you're\", 'if', 'out', 'each', 're', \"haven't\", 'herself', 's', 'didn', 'me', \"doesn't\", 'against', 'for', 'is', 'a', \"hasn't\", 'y', 'just', \"didn't\", '--', 'yours', 'once', 'i', \"aren't\", \"it's\", 'these', 'being', 'then', ';', 'about', 'whom', '!', 'mightn', 'he', 'because', 'an', 'ours', 'does', 'we', 'off', \"that'll\", 'nor', 'own', \"weren't\", 'll', 'doesn', 'has', 'you', 'any', '\"', \"don't\", \"wasn't\", 'be', 'doing', 'same', '.', 'she', 'more', \"mustn't\", 'before', 'have', 'only', 'with', 'itself', 'do', 'which', 'themselves', 'between', 'the', 'its', 'haven', \"you'd\", 'shan', \"you'll\", 'ma', 'after', 'needn', 'than', \"couldn't\", '?', \"wouldn't\", '...', 'on', 'who', 'while', 'to', 'having', 'too', 'some', 'my', 'what', 'not', ':', 'further', 'were', 'himself', 'here', 'by', 'most', 'over', 'again', 'your', 'yourselves', 'when', 'was', \"isn't\", \"shan't\", 'them', 'very', 'or', 'our', 'her', 'm', 'few', \"mightn't\", 'been', 'all', 'hers', 'of', 'in', 'd', \"shouldn't\", 'their', 'mustn', 'how', 'yourself', 'other', 'down', 'aren', 'myself', 'both', 'up', 'such', 'o', 'did', 'will', 'above', 'weren', 'are', 'so', 'it', 'where', 'and', 'through', 'as', 'below', 'couldn', 'they', 'his', 'isn', '-', 'but', 'theirs', 'those', \"'\", \"she's\", 'don', 'should', 'wasn', 'this', 'under', \"you've\", 'hasn', 'him', \"won't\", 'during', 'ain', 've'}\n"
     ]
    }
   ],
   "source": [
    "# show stop words\n",
    "print(stop_words)\n"
   ]
  },
  {
   "cell_type": "code",
   "execution_count": 14,
   "id": "d75fc920",
   "metadata": {},
   "outputs": [
    {
     "data": {
      "text/plain": [
       "0    It’s been noted how the fanatical nature of ma...\n",
       "1    Episode #416 of SUNDAY WIRE SHOW resumes this ...\n",
       "2    Authoritarians in the UK government are gettin...\n",
       "3    After the 2020 election, many Americans began ...\n",
       "4    The high stakes game surrounding the Ukraine c...\n",
       "5    On the February 3, 2022 episode of Patrick Hen...\n",
       "6    These are the darkest, most difficult days in ...\n",
       "7    A shocking new trend is on the move in America...\n",
       "8    In this episode of the Patrick Henningsen Show...\n",
       "9    Liz Cheney invokes Ronald Reagan to bash those...\n",
       "Name: content, dtype: object"
      ]
     },
     "execution_count": 14,
     "metadata": {},
     "output_type": "execute_result"
    }
   ],
   "source": [
    "# content before removing stop words\n",
    "df12[\"content\"][:10]\n"
   ]
  },
  {
   "cell_type": "code",
   "execution_count": 15,
   "id": "bab8ae8b",
   "metadata": {},
   "outputs": [],
   "source": [
    "# Apply\n",
    "df12['content_cleaned'] = df12['content'].apply(lambda x: ' '.join([word for word in x.split() if word.lower() not in stop_words]))\n"
   ]
  },
  {
   "cell_type": "code",
   "execution_count": 16,
   "id": "da6e68ab",
   "metadata": {},
   "outputs": [
    {
     "data": {
      "text/plain": [
       "0    It’s noted fanatical nature masking proponents...\n",
       "1    Episode #416 SUNDAY WIRE SHOW resumes week, Ap...\n",
       "2    Authoritarians UK government getting increasin...\n",
       "3    2020 election, many Americans began question m...\n",
       "4    high stakes game surrounding Ukraine conflict ...\n",
       "5    February 3, 2022 episode Patrick Henningsen Sh...\n",
       "6    darkest, difficult days human history. facing ...\n",
       "7    shocking new trend move America: following his...\n",
       "8    episode Patrick Henningsen Show TNT Radio aire...\n",
       "9    Liz Cheney invokes Ronald Reagan bash GOP want...\n",
       "Name: content_cleaned, dtype: object"
      ]
     },
     "execution_count": 16,
     "metadata": {},
     "output_type": "execute_result"
    }
   ],
   "source": [
    "df12[\"content_cleaned\"][:10]\n"
   ]
  },
  {
   "cell_type": "code",
   "execution_count": null,
   "id": "8dae5a58",
   "metadata": {},
   "outputs": [],
   "source": []
  },
  {
   "cell_type": "markdown",
   "id": "8dfa16a6",
   "metadata": {},
   "source": [
    "# Title + Content Data from df12 dataset"
   ]
  },
  {
   "cell_type": "markdown",
   "id": "1312105b",
   "metadata": {},
   "source": [
    "# Create X and Y (only title and text)\n",
    "# X_train_text_df12_tfidf, \n",
    "# X_test_text_df12_tfidf, \n",
    "# Y_train_df12, \n",
    "# Y_test_df12 (uppercase letters)\n"
   ]
  },
  {
   "cell_type": "code",
   "execution_count": 17,
   "id": "1a5f29a6",
   "metadata": {},
   "outputs": [],
   "source": [
    "# DEFINE X and Y\n",
    "X_df12 = df12.drop(\"label\", axis=1)\n",
    "Y_df12 = df12[\"label\"]\n"
   ]
  },
  {
   "cell_type": "code",
   "execution_count": 18,
   "id": "478f46d0",
   "metadata": {},
   "outputs": [],
   "source": [
    "X_df12.columns = X_df12.columns.astype(str)"
   ]
  },
  {
   "cell_type": "code",
   "execution_count": 19,
   "id": "a937afb5",
   "metadata": {},
   "outputs": [
    {
     "name": "stdout",
     "output_type": "stream",
     "text": [
      "<class 'pandas.core.frame.DataFrame'>\n",
      "Int64Index: 126355 entries, 0 to 213392\n",
      "Data columns (total 11 columns):\n",
      " #   Column                    Non-Null Count   Dtype  \n",
      "---  ------                    --------------   -----  \n",
      " 0   id                        126355 non-null  object \n",
      " 1   source                    126355 non-null  object \n",
      " 2   title                     126355 non-null  object \n",
      " 3   content                   126355 non-null  object \n",
      " 4   url                       126355 non-null  object \n",
      " 5   published_utc             126355 non-null  int64  \n",
      " 6   factuality                126355 non-null  float64\n",
      " 7   questionable-source       126355 non-null  float64\n",
      " 8   conspiracy-pseudoscience  126355 non-null  float64\n",
      " 9   pro-science               126355 non-null  float64\n",
      " 10  content_cleaned           126355 non-null  object \n",
      "dtypes: float64(4), int64(1), object(6)\n",
      "memory usage: 11.6+ MB\n"
     ]
    }
   ],
   "source": [
    "X_df12.info()"
   ]
  },
  {
   "cell_type": "code",
   "execution_count": 20,
   "id": "779edb85",
   "metadata": {},
   "outputs": [
    {
     "data": {
      "text/plain": [
       "id                          0\n",
       "source                      0\n",
       "title                       0\n",
       "content                     0\n",
       "url                         0\n",
       "published_utc               0\n",
       "factuality                  0\n",
       "questionable-source         0\n",
       "conspiracy-pseudoscience    0\n",
       "pro-science                 0\n",
       "content_cleaned             0\n",
       "dtype: int64"
      ]
     },
     "execution_count": 20,
     "metadata": {},
     "output_type": "execute_result"
    }
   ],
   "source": [
    "X_df12.isnull().sum()"
   ]
  },
  {
   "cell_type": "code",
   "execution_count": 21,
   "id": "bc8b67f9",
   "metadata": {},
   "outputs": [
    {
     "name": "stdout",
     "output_type": "stream",
     "text": [
      "<class 'pandas.core.series.Series'>\n",
      "Int64Index: 126355 entries, 0 to 213392\n",
      "Series name: label\n",
      "Non-Null Count   Dtype  \n",
      "--------------   -----  \n",
      "126355 non-null  float64\n",
      "dtypes: float64(1)\n",
      "memory usage: 1.9 MB\n"
     ]
    }
   ],
   "source": [
    "Y_df12.info()"
   ]
  },
  {
   "cell_type": "code",
   "execution_count": 22,
   "id": "64278dd2",
   "metadata": {},
   "outputs": [
    {
     "data": {
      "text/plain": [
       "0"
      ]
     },
     "execution_count": 22,
     "metadata": {},
     "output_type": "execute_result"
    }
   ],
   "source": [
    "Y_df12.isnull().sum()"
   ]
  },
  {
   "cell_type": "code",
   "execution_count": null,
   "id": "534674bc",
   "metadata": {},
   "outputs": [],
   "source": []
  },
  {
   "cell_type": "markdown",
   "id": "286415bb",
   "metadata": {},
   "source": [
    "## Create Train / Test Datasets"
   ]
  },
  {
   "cell_type": "code",
   "execution_count": 23,
   "id": "cb37810d",
   "metadata": {},
   "outputs": [],
   "source": [
    "from sklearn.model_selection import train_test_split\n",
    "\n",
    "X_train_df12, X_test_df12, Y_train_df12, Y_test_df12 = train_test_split(X_df12, Y_df12, test_size=0.2)\n"
   ]
  },
  {
   "cell_type": "code",
   "execution_count": null,
   "id": "ebb94256",
   "metadata": {},
   "outputs": [],
   "source": []
  },
  {
   "cell_type": "markdown",
   "id": "6b21f9e7",
   "metadata": {},
   "source": [
    "# Vectorizing"
   ]
  },
  {
   "cell_type": "markdown",
   "id": "85de3fc3",
   "metadata": {},
   "source": [
    "### TFIDF Vectorizing\n",
    "### USING CONTENT_CLEANED AND TITLE ONLY\n"
   ]
  },
  {
   "cell_type": "code",
   "execution_count": 24,
   "id": "661e4589",
   "metadata": {},
   "outputs": [
    {
     "data": {
      "text/html": [
       "<style>#sk-container-id-1 {color: black;background-color: white;}#sk-container-id-1 pre{padding: 0;}#sk-container-id-1 div.sk-toggleable {background-color: white;}#sk-container-id-1 label.sk-toggleable__label {cursor: pointer;display: block;width: 100%;margin-bottom: 0;padding: 0.3em;box-sizing: border-box;text-align: center;}#sk-container-id-1 label.sk-toggleable__label-arrow:before {content: \"▸\";float: left;margin-right: 0.25em;color: #696969;}#sk-container-id-1 label.sk-toggleable__label-arrow:hover:before {color: black;}#sk-container-id-1 div.sk-estimator:hover label.sk-toggleable__label-arrow:before {color: black;}#sk-container-id-1 div.sk-toggleable__content {max-height: 0;max-width: 0;overflow: hidden;text-align: left;background-color: #f0f8ff;}#sk-container-id-1 div.sk-toggleable__content pre {margin: 0.2em;color: black;border-radius: 0.25em;background-color: #f0f8ff;}#sk-container-id-1 input.sk-toggleable__control:checked~div.sk-toggleable__content {max-height: 200px;max-width: 100%;overflow: auto;}#sk-container-id-1 input.sk-toggleable__control:checked~label.sk-toggleable__label-arrow:before {content: \"▾\";}#sk-container-id-1 div.sk-estimator input.sk-toggleable__control:checked~label.sk-toggleable__label {background-color: #d4ebff;}#sk-container-id-1 div.sk-label input.sk-toggleable__control:checked~label.sk-toggleable__label {background-color: #d4ebff;}#sk-container-id-1 input.sk-hidden--visually {border: 0;clip: rect(1px 1px 1px 1px);clip: rect(1px, 1px, 1px, 1px);height: 1px;margin: -1px;overflow: hidden;padding: 0;position: absolute;width: 1px;}#sk-container-id-1 div.sk-estimator {font-family: monospace;background-color: #f0f8ff;border: 1px dotted black;border-radius: 0.25em;box-sizing: border-box;margin-bottom: 0.5em;}#sk-container-id-1 div.sk-estimator:hover {background-color: #d4ebff;}#sk-container-id-1 div.sk-parallel-item::after {content: \"\";width: 100%;border-bottom: 1px solid gray;flex-grow: 1;}#sk-container-id-1 div.sk-label:hover label.sk-toggleable__label {background-color: #d4ebff;}#sk-container-id-1 div.sk-serial::before {content: \"\";position: absolute;border-left: 1px solid gray;box-sizing: border-box;top: 0;bottom: 0;left: 50%;z-index: 0;}#sk-container-id-1 div.sk-serial {display: flex;flex-direction: column;align-items: center;background-color: white;padding-right: 0.2em;padding-left: 0.2em;position: relative;}#sk-container-id-1 div.sk-item {position: relative;z-index: 1;}#sk-container-id-1 div.sk-parallel {display: flex;align-items: stretch;justify-content: center;background-color: white;position: relative;}#sk-container-id-1 div.sk-item::before, #sk-container-id-1 div.sk-parallel-item::before {content: \"\";position: absolute;border-left: 1px solid gray;box-sizing: border-box;top: 0;bottom: 0;left: 50%;z-index: -1;}#sk-container-id-1 div.sk-parallel-item {display: flex;flex-direction: column;z-index: 1;position: relative;background-color: white;}#sk-container-id-1 div.sk-parallel-item:first-child::after {align-self: flex-end;width: 50%;}#sk-container-id-1 div.sk-parallel-item:last-child::after {align-self: flex-start;width: 50%;}#sk-container-id-1 div.sk-parallel-item:only-child::after {width: 0;}#sk-container-id-1 div.sk-dashed-wrapped {border: 1px dashed gray;margin: 0 0.4em 0.5em 0.4em;box-sizing: border-box;padding-bottom: 0.4em;background-color: white;}#sk-container-id-1 div.sk-label label {font-family: monospace;font-weight: bold;display: inline-block;line-height: 1.2em;}#sk-container-id-1 div.sk-label-container {text-align: center;}#sk-container-id-1 div.sk-container {/* jupyter's `normalize.less` sets `[hidden] { display: none; }` but bootstrap.min.css set `[hidden] { display: none !important; }` so we also need the `!important` here to be able to override the default hidden behavior on the sphinx rendered scikit-learn.org. See: https://github.com/scikit-learn/scikit-learn/issues/21755 */display: inline-block !important;position: relative;}#sk-container-id-1 div.sk-text-repr-fallback {display: none;}</style><div id=\"sk-container-id-1\" class=\"sk-top-container\"><div class=\"sk-text-repr-fallback\"><pre>TfidfVectorizer()</pre><b>In a Jupyter environment, please rerun this cell to show the HTML representation or trust the notebook. <br />On GitHub, the HTML representation is unable to render, please try loading this page with nbviewer.org.</b></div><div class=\"sk-container\" hidden><div class=\"sk-item\"><div class=\"sk-estimator sk-toggleable\"><input class=\"sk-toggleable__control sk-hidden--visually\" id=\"sk-estimator-id-1\" type=\"checkbox\" checked><label for=\"sk-estimator-id-1\" class=\"sk-toggleable__label sk-toggleable__label-arrow\">TfidfVectorizer</label><div class=\"sk-toggleable__content\"><pre>TfidfVectorizer()</pre></div></div></div></div></div>"
      ],
      "text/plain": [
       "TfidfVectorizer()"
      ]
     },
     "execution_count": 24,
     "metadata": {},
     "output_type": "execute_result"
    }
   ],
   "source": [
    "# VECTORIZING\n",
    "# TAKES 2 MINUTES\n",
    "\n",
    "from sklearn.feature_extraction.text import TfidfVectorizer\n",
    "from scipy.sparse import hstack, csr_matrix\n",
    "\n",
    "vectorizer1_df12_tfidf = TfidfVectorizer()\n",
    "vectorizer2_df12_tfidf = TfidfVectorizer()\n",
    "\n",
    "vectorizer1_df12_tfidf.fit(X_train_df12['content_cleaned'])\n",
    "vectorizer2_df12_tfidf.fit(X_train_df12['title'])\n"
   ]
  },
  {
   "cell_type": "code",
   "execution_count": 25,
   "id": "98ad6711",
   "metadata": {},
   "outputs": [],
   "source": [
    "# TAKES 2 MINUTES\n",
    "\n",
    "X_train_content_df12_tfidf = vectorizer1_df12_tfidf.transform(X_train_df12['content_cleaned'])\n",
    "X_train_title_df12_tfidf = vectorizer2_df12_tfidf.transform(X_train_df12['title'])\n",
    "X_test_content_df12_tfidf = vectorizer1_df12_tfidf.transform(X_test_df12['content_cleaned'])\n",
    "X_test_title_df12_tfidf = vectorizer2_df12_tfidf.transform(X_test_df12['title'])\n"
   ]
  },
  {
   "cell_type": "code",
   "execution_count": 27,
   "id": "b1c2175b",
   "metadata": {},
   "outputs": [],
   "source": [
    "X_train_text_df12_tfidf = hstack([X_train_content_df12_tfidf, X_train_title_df12_tfidf])\n",
    "X_test_text_df12_tfidf = hstack([X_test_content_df12_tfidf, X_test_title_df12_tfidf])\n"
   ]
  },
  {
   "cell_type": "code",
   "execution_count": 28,
   "id": "ee9ba66d",
   "metadata": {},
   "outputs": [
    {
     "data": {
      "text/plain": [
       "<101084x338505 sparse matrix of type '<class 'numpy.float64'>'\n",
       "\twith 21390669 stored elements in Compressed Sparse Row format>"
      ]
     },
     "execution_count": 28,
     "metadata": {},
     "output_type": "execute_result"
    }
   ],
   "source": [
    "X_train_text_df12_tfidf"
   ]
  },
  {
   "cell_type": "code",
   "execution_count": 29,
   "id": "04ebc270",
   "metadata": {},
   "outputs": [
    {
     "data": {
      "text/plain": [
       "(101084, 338505)"
      ]
     },
     "execution_count": 29,
     "metadata": {},
     "output_type": "execute_result"
    }
   ],
   "source": [
    "X_train_text_df12_tfidf.shape"
   ]
  },
  {
   "cell_type": "code",
   "execution_count": 30,
   "id": "6eeb3233",
   "metadata": {},
   "outputs": [
    {
     "data": {
      "text/plain": [
       "<25271x338505 sparse matrix of type '<class 'numpy.float64'>'\n",
       "\twith 5332579 stored elements in Compressed Sparse Row format>"
      ]
     },
     "execution_count": 30,
     "metadata": {},
     "output_type": "execute_result"
    }
   ],
   "source": [
    "X_test_text_df12_tfidf"
   ]
  },
  {
   "cell_type": "code",
   "execution_count": 31,
   "id": "c288bad4",
   "metadata": {
    "scrolled": true
   },
   "outputs": [
    {
     "data": {
      "text/plain": [
       "(25271, 338505)"
      ]
     },
     "execution_count": 31,
     "metadata": {},
     "output_type": "execute_result"
    }
   ],
   "source": [
    "X_test_text_df12_tfidf.shape"
   ]
  },
  {
   "cell_type": "code",
   "execution_count": 32,
   "id": "e04fca25",
   "metadata": {},
   "outputs": [
    {
     "data": {
      "text/plain": [
       "12684     1.0\n",
       "101668    0.0\n",
       "200947    0.0\n",
       "22377     0.0\n",
       "54264     0.0\n",
       "         ... \n",
       "166886    0.0\n",
       "41730     0.0\n",
       "64547     1.0\n",
       "15530     1.0\n",
       "96635     0.0\n",
       "Name: label, Length: 101084, dtype: float64"
      ]
     },
     "execution_count": 32,
     "metadata": {},
     "output_type": "execute_result"
    }
   ],
   "source": [
    "Y_train_df12"
   ]
  },
  {
   "cell_type": "code",
   "execution_count": 33,
   "id": "411611d1",
   "metadata": {},
   "outputs": [
    {
     "data": {
      "text/plain": [
       "115528    1.0\n",
       "90516     1.0\n",
       "120930    1.0\n",
       "71452     1.0\n",
       "192902    0.0\n",
       "         ... \n",
       "11911     1.0\n",
       "19670     0.0\n",
       "21769     0.0\n",
       "22750     0.0\n",
       "54930     0.0\n",
       "Name: label, Length: 25271, dtype: float64"
      ]
     },
     "execution_count": 33,
     "metadata": {},
     "output_type": "execute_result"
    }
   ],
   "source": [
    "Y_test_df12"
   ]
  },
  {
   "cell_type": "code",
   "execution_count": null,
   "id": "9c6255fe",
   "metadata": {},
   "outputs": [],
   "source": []
  },
  {
   "cell_type": "code",
   "execution_count": null,
   "id": "64124a6c",
   "metadata": {},
   "outputs": [],
   "source": [
    "## MODELS FOR STAGE 2 (Advanced Models):\n",
    "# 1) Naive Bayes Bernoulli\n",
    "# 2) Naive Bayes Multinomial\n",
    "# 3) Naive Bayes Complement\n",
    "# 4) Logistic Regression\n",
    "# 5) Random Forest\n",
    "\n",
    "# 6) Passive Aggressive Classifier \n",
    "# 7) Stochastic Gradient Descent (SGD)\n",
    "\n",
    "# 8) LightGBM\n",
    "# 9) CatBoost\n",
    "# 10) XGBoost\n"
   ]
  },
  {
   "cell_type": "code",
   "execution_count": null,
   "id": "025d9484",
   "metadata": {},
   "outputs": [],
   "source": []
  },
  {
   "cell_type": "markdown",
   "id": "6ec811b7",
   "metadata": {},
   "source": [
    "# Oversampling"
   ]
  },
  {
   "cell_type": "code",
   "execution_count": 34,
   "id": "1f6f658f",
   "metadata": {},
   "outputs": [
    {
     "name": "stdout",
     "output_type": "stream",
     "text": [
      "Number of elements of each class if the new rOs set: {1.0: 58712, 0.0: 58712}\n"
     ]
    }
   ],
   "source": [
    "# Random Over Sampler\n",
    "rOs = RandomOverSampler()\n",
    "\n",
    "X_ro, y_ro = rOs.fit_resample(X_train_text_df12_tfidf, Y_train_df12)\n",
    "\n",
    "print(\"Number of elements of each class if the new rOs set:\", dict(pd.Series(y_ro).value_counts()))\n",
    "\n"
   ]
  },
  {
   "cell_type": "code",
   "execution_count": null,
   "id": "82f8ca70",
   "metadata": {},
   "outputs": [],
   "source": [
    "# SMOTE\n",
    "# smo = SMOTE()\n",
    "\n",
    "# X_sm, y_sm = smo.fit_resample(X_train_text_df12_tfidf, Y_train_df12)\n",
    "\n",
    "# print(\"Number of elements of each class if the new smo set:\", dict(pd.Series(y_sm).value_counts()))\n"
   ]
  },
  {
   "cell_type": "code",
   "execution_count": null,
   "id": "849999de",
   "metadata": {},
   "outputs": [],
   "source": []
  },
  {
   "cell_type": "markdown",
   "id": "60a54bee",
   "metadata": {},
   "source": [
    "# 1 Naive Bayes Bernoulli on text data df12 "
   ]
  },
  {
   "cell_type": "code",
   "execution_count": 35,
   "id": "51be9797",
   "metadata": {},
   "outputs": [],
   "source": [
    "from sklearn.naive_bayes import BernoulliNB\n",
    "from sklearn.model_selection import train_test_split\n",
    "from sklearn.metrics import accuracy_score"
   ]
  },
  {
   "cell_type": "code",
   "execution_count": 36,
   "id": "77278b15",
   "metadata": {},
   "outputs": [],
   "source": [
    "# Create a Bernoulli Naive Bayes classifier\n",
    "clf_Bern_df12_tfidf = BernoulliNB()\n"
   ]
  },
  {
   "cell_type": "code",
   "execution_count": 37,
   "id": "bc0f1c24",
   "metadata": {},
   "outputs": [
    {
     "data": {
      "text/html": [
       "<style>#sk-container-id-2 {color: black;background-color: white;}#sk-container-id-2 pre{padding: 0;}#sk-container-id-2 div.sk-toggleable {background-color: white;}#sk-container-id-2 label.sk-toggleable__label {cursor: pointer;display: block;width: 100%;margin-bottom: 0;padding: 0.3em;box-sizing: border-box;text-align: center;}#sk-container-id-2 label.sk-toggleable__label-arrow:before {content: \"▸\";float: left;margin-right: 0.25em;color: #696969;}#sk-container-id-2 label.sk-toggleable__label-arrow:hover:before {color: black;}#sk-container-id-2 div.sk-estimator:hover label.sk-toggleable__label-arrow:before {color: black;}#sk-container-id-2 div.sk-toggleable__content {max-height: 0;max-width: 0;overflow: hidden;text-align: left;background-color: #f0f8ff;}#sk-container-id-2 div.sk-toggleable__content pre {margin: 0.2em;color: black;border-radius: 0.25em;background-color: #f0f8ff;}#sk-container-id-2 input.sk-toggleable__control:checked~div.sk-toggleable__content {max-height: 200px;max-width: 100%;overflow: auto;}#sk-container-id-2 input.sk-toggleable__control:checked~label.sk-toggleable__label-arrow:before {content: \"▾\";}#sk-container-id-2 div.sk-estimator input.sk-toggleable__control:checked~label.sk-toggleable__label {background-color: #d4ebff;}#sk-container-id-2 div.sk-label input.sk-toggleable__control:checked~label.sk-toggleable__label {background-color: #d4ebff;}#sk-container-id-2 input.sk-hidden--visually {border: 0;clip: rect(1px 1px 1px 1px);clip: rect(1px, 1px, 1px, 1px);height: 1px;margin: -1px;overflow: hidden;padding: 0;position: absolute;width: 1px;}#sk-container-id-2 div.sk-estimator {font-family: monospace;background-color: #f0f8ff;border: 1px dotted black;border-radius: 0.25em;box-sizing: border-box;margin-bottom: 0.5em;}#sk-container-id-2 div.sk-estimator:hover {background-color: #d4ebff;}#sk-container-id-2 div.sk-parallel-item::after {content: \"\";width: 100%;border-bottom: 1px solid gray;flex-grow: 1;}#sk-container-id-2 div.sk-label:hover label.sk-toggleable__label {background-color: #d4ebff;}#sk-container-id-2 div.sk-serial::before {content: \"\";position: absolute;border-left: 1px solid gray;box-sizing: border-box;top: 0;bottom: 0;left: 50%;z-index: 0;}#sk-container-id-2 div.sk-serial {display: flex;flex-direction: column;align-items: center;background-color: white;padding-right: 0.2em;padding-left: 0.2em;position: relative;}#sk-container-id-2 div.sk-item {position: relative;z-index: 1;}#sk-container-id-2 div.sk-parallel {display: flex;align-items: stretch;justify-content: center;background-color: white;position: relative;}#sk-container-id-2 div.sk-item::before, #sk-container-id-2 div.sk-parallel-item::before {content: \"\";position: absolute;border-left: 1px solid gray;box-sizing: border-box;top: 0;bottom: 0;left: 50%;z-index: -1;}#sk-container-id-2 div.sk-parallel-item {display: flex;flex-direction: column;z-index: 1;position: relative;background-color: white;}#sk-container-id-2 div.sk-parallel-item:first-child::after {align-self: flex-end;width: 50%;}#sk-container-id-2 div.sk-parallel-item:last-child::after {align-self: flex-start;width: 50%;}#sk-container-id-2 div.sk-parallel-item:only-child::after {width: 0;}#sk-container-id-2 div.sk-dashed-wrapped {border: 1px dashed gray;margin: 0 0.4em 0.5em 0.4em;box-sizing: border-box;padding-bottom: 0.4em;background-color: white;}#sk-container-id-2 div.sk-label label {font-family: monospace;font-weight: bold;display: inline-block;line-height: 1.2em;}#sk-container-id-2 div.sk-label-container {text-align: center;}#sk-container-id-2 div.sk-container {/* jupyter's `normalize.less` sets `[hidden] { display: none; }` but bootstrap.min.css set `[hidden] { display: none !important; }` so we also need the `!important` here to be able to override the default hidden behavior on the sphinx rendered scikit-learn.org. See: https://github.com/scikit-learn/scikit-learn/issues/21755 */display: inline-block !important;position: relative;}#sk-container-id-2 div.sk-text-repr-fallback {display: none;}</style><div id=\"sk-container-id-2\" class=\"sk-top-container\"><div class=\"sk-text-repr-fallback\"><pre>BernoulliNB()</pre><b>In a Jupyter environment, please rerun this cell to show the HTML representation or trust the notebook. <br />On GitHub, the HTML representation is unable to render, please try loading this page with nbviewer.org.</b></div><div class=\"sk-container\" hidden><div class=\"sk-item\"><div class=\"sk-estimator sk-toggleable\"><input class=\"sk-toggleable__control sk-hidden--visually\" id=\"sk-estimator-id-2\" type=\"checkbox\" checked><label for=\"sk-estimator-id-2\" class=\"sk-toggleable__label sk-toggleable__label-arrow\">BernoulliNB</label><div class=\"sk-toggleable__content\"><pre>BernoulliNB()</pre></div></div></div></div></div>"
      ],
      "text/plain": [
       "BernoulliNB()"
      ]
     },
     "execution_count": 37,
     "metadata": {},
     "output_type": "execute_result"
    }
   ],
   "source": [
    "# Train the classifier\n",
    "clf_Bern_df12_tfidf.fit(X_ro, y_ro)\n"
   ]
  },
  {
   "cell_type": "code",
   "execution_count": 38,
   "id": "49179280",
   "metadata": {},
   "outputs": [],
   "source": [
    "# Make predictions on the test set\n",
    "y_pred_NB_Bern_df12_tfidf = clf_Bern_df12_tfidf.predict(X_test_text_df12_tfidf)\n"
   ]
  },
  {
   "cell_type": "code",
   "execution_count": 39,
   "id": "a7eb3bdb",
   "metadata": {},
   "outputs": [
    {
     "name": "stdout",
     "output_type": "stream",
     "text": [
      "Accuracy: 0.7197973962249219\n"
     ]
    }
   ],
   "source": [
    "# Evaluate the model with accuracy\n",
    "accuracy_NB_Bern_df12_tfidf = accuracy_score(Y_test_df12, y_pred_NB_Bern_df12_tfidf)\n",
    "print(\"Accuracy:\", accuracy_NB_Bern_df12_tfidf)\n",
    "\n",
    "# 0.72\n",
    "# no change"
   ]
  },
  {
   "cell_type": "code",
   "execution_count": 40,
   "id": "f875ce2a",
   "metadata": {},
   "outputs": [
    {
     "data": {
      "text/plain": [
       "0.7079156870024337"
      ]
     },
     "execution_count": 40,
     "metadata": {},
     "output_type": "execute_result"
    }
   ],
   "source": [
    "# Evaluate the model with f1 score\n",
    "from sklearn.metrics import f1_score\n",
    "\n",
    "f1_NB_Bern_df12_tfidf = f1_score(Y_test_df12, y_pred_NB_Bern_df12_tfidf)\n",
    "f1_NB_Bern_df12_tfidf\n",
    "\n",
    "# 0.7079\n",
    "# slight improvement"
   ]
  },
  {
   "cell_type": "code",
   "execution_count": 41,
   "id": "789dee69",
   "metadata": {},
   "outputs": [
    {
     "name": "stdout",
     "output_type": "stream",
     "text": [
      "Confusion Matrix:\n",
      " [[9609 4950]\n",
      " [2131 8581]]\n"
     ]
    }
   ],
   "source": [
    "# Evaluate Model with confusion matrix \n",
    "from sklearn.metrics import confusion_matrix \n",
    "\n",
    "cf_matrix_NB_Bern_df12_tfidf = confusion_matrix(Y_test_df12, y_pred_NB_Bern_df12_tfidf)\n",
    "print(\"Confusion Matrix:\\n\",  cf_matrix_NB_Bern_df12_tfidf)\n",
    "\n",
    "# overall prediction is ok but not very good for any case"
   ]
  },
  {
   "cell_type": "code",
   "execution_count": 42,
   "id": "35b3c46a",
   "metadata": {
    "scrolled": true
   },
   "outputs": [
    {
     "name": "stdout",
     "output_type": "stream",
     "text": [
      "Naive Bayes Bernoulli df12 tfidf classification report:\n",
      "               precision    recall  f1-score   support\n",
      "\n",
      "         0.0       0.82      0.66      0.73     14559\n",
      "         1.0       0.63      0.80      0.71     10712\n",
      "\n",
      "    accuracy                           0.72     25271\n",
      "   macro avg       0.73      0.73      0.72     25271\n",
      "weighted avg       0.74      0.72      0.72     25271\n",
      "\n"
     ]
    }
   ],
   "source": [
    "# Evaluate model with classification report\n",
    "from sklearn.metrics import classification_report \n",
    "\n",
    "print(\"Naive Bayes Bernoulli df12 tfidf classification report:\\n\", classification_report (Y_test_df12, y_pred_NB_Bern_df12_tfidf))\n"
   ]
  },
  {
   "cell_type": "code",
   "execution_count": null,
   "id": "f51f2b08",
   "metadata": {},
   "outputs": [],
   "source": []
  },
  {
   "cell_type": "markdown",
   "id": "ff5dabef",
   "metadata": {},
   "source": [
    "# 2 MULTINOMIAL NAIVE BAYES on text data df12\n"
   ]
  },
  {
   "cell_type": "code",
   "execution_count": 43,
   "id": "32f61444",
   "metadata": {},
   "outputs": [],
   "source": [
    "from sklearn.naive_bayes import MultinomialNB"
   ]
  },
  {
   "cell_type": "code",
   "execution_count": 44,
   "id": "aa4a2801",
   "metadata": {},
   "outputs": [],
   "source": [
    "from sklearn.naive_bayes import MultinomialNB\n",
    "clf_mult_df12_tfidf = MultinomialNB()\n"
   ]
  },
  {
   "cell_type": "code",
   "execution_count": 45,
   "id": "0470c616",
   "metadata": {},
   "outputs": [
    {
     "data": {
      "text/html": [
       "<style>#sk-container-id-3 {color: black;background-color: white;}#sk-container-id-3 pre{padding: 0;}#sk-container-id-3 div.sk-toggleable {background-color: white;}#sk-container-id-3 label.sk-toggleable__label {cursor: pointer;display: block;width: 100%;margin-bottom: 0;padding: 0.3em;box-sizing: border-box;text-align: center;}#sk-container-id-3 label.sk-toggleable__label-arrow:before {content: \"▸\";float: left;margin-right: 0.25em;color: #696969;}#sk-container-id-3 label.sk-toggleable__label-arrow:hover:before {color: black;}#sk-container-id-3 div.sk-estimator:hover label.sk-toggleable__label-arrow:before {color: black;}#sk-container-id-3 div.sk-toggleable__content {max-height: 0;max-width: 0;overflow: hidden;text-align: left;background-color: #f0f8ff;}#sk-container-id-3 div.sk-toggleable__content pre {margin: 0.2em;color: black;border-radius: 0.25em;background-color: #f0f8ff;}#sk-container-id-3 input.sk-toggleable__control:checked~div.sk-toggleable__content {max-height: 200px;max-width: 100%;overflow: auto;}#sk-container-id-3 input.sk-toggleable__control:checked~label.sk-toggleable__label-arrow:before {content: \"▾\";}#sk-container-id-3 div.sk-estimator input.sk-toggleable__control:checked~label.sk-toggleable__label {background-color: #d4ebff;}#sk-container-id-3 div.sk-label input.sk-toggleable__control:checked~label.sk-toggleable__label {background-color: #d4ebff;}#sk-container-id-3 input.sk-hidden--visually {border: 0;clip: rect(1px 1px 1px 1px);clip: rect(1px, 1px, 1px, 1px);height: 1px;margin: -1px;overflow: hidden;padding: 0;position: absolute;width: 1px;}#sk-container-id-3 div.sk-estimator {font-family: monospace;background-color: #f0f8ff;border: 1px dotted black;border-radius: 0.25em;box-sizing: border-box;margin-bottom: 0.5em;}#sk-container-id-3 div.sk-estimator:hover {background-color: #d4ebff;}#sk-container-id-3 div.sk-parallel-item::after {content: \"\";width: 100%;border-bottom: 1px solid gray;flex-grow: 1;}#sk-container-id-3 div.sk-label:hover label.sk-toggleable__label {background-color: #d4ebff;}#sk-container-id-3 div.sk-serial::before {content: \"\";position: absolute;border-left: 1px solid gray;box-sizing: border-box;top: 0;bottom: 0;left: 50%;z-index: 0;}#sk-container-id-3 div.sk-serial {display: flex;flex-direction: column;align-items: center;background-color: white;padding-right: 0.2em;padding-left: 0.2em;position: relative;}#sk-container-id-3 div.sk-item {position: relative;z-index: 1;}#sk-container-id-3 div.sk-parallel {display: flex;align-items: stretch;justify-content: center;background-color: white;position: relative;}#sk-container-id-3 div.sk-item::before, #sk-container-id-3 div.sk-parallel-item::before {content: \"\";position: absolute;border-left: 1px solid gray;box-sizing: border-box;top: 0;bottom: 0;left: 50%;z-index: -1;}#sk-container-id-3 div.sk-parallel-item {display: flex;flex-direction: column;z-index: 1;position: relative;background-color: white;}#sk-container-id-3 div.sk-parallel-item:first-child::after {align-self: flex-end;width: 50%;}#sk-container-id-3 div.sk-parallel-item:last-child::after {align-self: flex-start;width: 50%;}#sk-container-id-3 div.sk-parallel-item:only-child::after {width: 0;}#sk-container-id-3 div.sk-dashed-wrapped {border: 1px dashed gray;margin: 0 0.4em 0.5em 0.4em;box-sizing: border-box;padding-bottom: 0.4em;background-color: white;}#sk-container-id-3 div.sk-label label {font-family: monospace;font-weight: bold;display: inline-block;line-height: 1.2em;}#sk-container-id-3 div.sk-label-container {text-align: center;}#sk-container-id-3 div.sk-container {/* jupyter's `normalize.less` sets `[hidden] { display: none; }` but bootstrap.min.css set `[hidden] { display: none !important; }` so we also need the `!important` here to be able to override the default hidden behavior on the sphinx rendered scikit-learn.org. See: https://github.com/scikit-learn/scikit-learn/issues/21755 */display: inline-block !important;position: relative;}#sk-container-id-3 div.sk-text-repr-fallback {display: none;}</style><div id=\"sk-container-id-3\" class=\"sk-top-container\"><div class=\"sk-text-repr-fallback\"><pre>MultinomialNB()</pre><b>In a Jupyter environment, please rerun this cell to show the HTML representation or trust the notebook. <br />On GitHub, the HTML representation is unable to render, please try loading this page with nbviewer.org.</b></div><div class=\"sk-container\" hidden><div class=\"sk-item\"><div class=\"sk-estimator sk-toggleable\"><input class=\"sk-toggleable__control sk-hidden--visually\" id=\"sk-estimator-id-3\" type=\"checkbox\" checked><label for=\"sk-estimator-id-3\" class=\"sk-toggleable__label sk-toggleable__label-arrow\">MultinomialNB</label><div class=\"sk-toggleable__content\"><pre>MultinomialNB()</pre></div></div></div></div></div>"
      ],
      "text/plain": [
       "MultinomialNB()"
      ]
     },
     "execution_count": 45,
     "metadata": {},
     "output_type": "execute_result"
    }
   ],
   "source": [
    "# fit the model\n",
    "clf_mult_df12_tfidf.fit(X_ro, y_ro)\n"
   ]
  },
  {
   "cell_type": "code",
   "execution_count": 46,
   "id": "e21bb3b7",
   "metadata": {},
   "outputs": [],
   "source": [
    "y_pred_NB_Mult_df12_tfidf = clf_mult_df12_tfidf.predict(X_test_text_df12_tfidf)\n"
   ]
  },
  {
   "cell_type": "code",
   "execution_count": 47,
   "id": "1a44cdc2",
   "metadata": {},
   "outputs": [
    {
     "data": {
      "text/plain": [
       "0.7934786909896719"
      ]
     },
     "execution_count": 47,
     "metadata": {},
     "output_type": "execute_result"
    }
   ],
   "source": [
    "# get accuracy\n",
    "accuracy_NB_Mult_df12_tfidf = clf_mult_df12_tfidf.score(X_test_text_df12_tfidf, Y_test_df12)\n",
    "accuracy_NB_Mult_df12_tfidf\n",
    "\n",
    "# 0.79\n",
    "# slight improvement"
   ]
  },
  {
   "cell_type": "code",
   "execution_count": 48,
   "id": "619fd19c",
   "metadata": {},
   "outputs": [
    {
     "data": {
      "text/plain": [
       "0.7571993486857409"
      ]
     },
     "execution_count": 48,
     "metadata": {},
     "output_type": "execute_result"
    }
   ],
   "source": [
    "# Evaluate the model with f1 score\n",
    "from sklearn.metrics import f1_score\n",
    "\n",
    "f1_NB_Mult_df12_tfidf = f1_score(Y_test_df12, y_pred_NB_Mult_df12_tfidf)\n",
    "f1_NB_Mult_df12_tfidf\n",
    "\n",
    "# 0.757\n",
    "# improvement"
   ]
  },
  {
   "cell_type": "code",
   "execution_count": 49,
   "id": "fc67b21a",
   "metadata": {},
   "outputs": [
    {
     "data": {
      "text/html": [
       "<div>\n",
       "<style scoped>\n",
       "    .dataframe tbody tr th:only-of-type {\n",
       "        vertical-align: middle;\n",
       "    }\n",
       "\n",
       "    .dataframe tbody tr th {\n",
       "        vertical-align: top;\n",
       "    }\n",
       "\n",
       "    .dataframe thead th {\n",
       "        text-align: right;\n",
       "    }\n",
       "</style>\n",
       "<table border=\"1\" class=\"dataframe\">\n",
       "  <thead>\n",
       "    <tr style=\"text-align: right;\">\n",
       "      <th>predict</th>\n",
       "      <th>0.0</th>\n",
       "      <th>1.0</th>\n",
       "    </tr>\n",
       "    <tr>\n",
       "      <th>true</th>\n",
       "      <th></th>\n",
       "      <th></th>\n",
       "    </tr>\n",
       "  </thead>\n",
       "  <tbody>\n",
       "    <tr>\n",
       "      <th>0.0</th>\n",
       "      <td>11914</td>\n",
       "      <td>2645</td>\n",
       "    </tr>\n",
       "    <tr>\n",
       "      <th>1.0</th>\n",
       "      <td>2574</td>\n",
       "      <td>8138</td>\n",
       "    </tr>\n",
       "  </tbody>\n",
       "</table>\n",
       "</div>"
      ],
      "text/plain": [
       "predict    0.0   1.0\n",
       "true                \n",
       "0.0      11914  2645\n",
       "1.0       2574  8138"
      ]
     },
     "execution_count": 49,
     "metadata": {},
     "output_type": "execute_result"
    }
   ],
   "source": [
    "# get confusion matrix\n",
    "pd.crosstab(Y_test_df12, y_pred_NB_Mult_df12_tfidf, rownames=[\"true\"], colnames=[\"predict\"])\n",
    "\n",
    "# overall prediction is ok\n",
    "# best prediction: real news as real news (0:0)"
   ]
  },
  {
   "cell_type": "code",
   "execution_count": 50,
   "id": "c54310c2",
   "metadata": {},
   "outputs": [
    {
     "name": "stdout",
     "output_type": "stream",
     "text": [
      "Naive Bayes Multinomial df12 tfidf classification report:\n",
      "                precision    recall  f1-score   support\n",
      "\n",
      "         0.0       0.82      0.82      0.82     14559\n",
      "         1.0       0.75      0.76      0.76     10712\n",
      "\n",
      "    accuracy                           0.79     25271\n",
      "   macro avg       0.79      0.79      0.79     25271\n",
      "weighted avg       0.79      0.79      0.79     25271\n",
      "\n"
     ]
    }
   ],
   "source": [
    "from sklearn.metrics import classification_report \n",
    "\n",
    "# get classification report\n",
    "print(\"Naive Bayes Multinomial df12 tfidf classification report:\\n \", classification_report (Y_test_df12, y_pred_NB_Mult_df12_tfidf))"
   ]
  },
  {
   "cell_type": "code",
   "execution_count": 51,
   "id": "cb3cde65",
   "metadata": {},
   "outputs": [],
   "source": [
    "from mlxtend.plotting import plot_confusion_matrix\n",
    "import matplotlib.pyplot as plt\n",
    "import numpy as np\n",
    "from sklearn.metrics import confusion_matrix\n"
   ]
  },
  {
   "cell_type": "code",
   "execution_count": 52,
   "id": "0108b0fc",
   "metadata": {},
   "outputs": [
    {
     "name": "stdout",
     "output_type": "stream",
     "text": [
      "[[11914  2645]\n",
      " [ 2574  8138]]\n"
     ]
    }
   ],
   "source": [
    "# create confusion matrix\n",
    "cf_matrix_NB_Mult_df12_tfidf = confusion_matrix(Y_test_df12, y_pred_NB_Mult_df12_tfidf)\n",
    "print(cf_matrix_NB_Mult_df12_tfidf)\n"
   ]
  },
  {
   "cell_type": "code",
   "execution_count": null,
   "id": "eb515c70",
   "metadata": {},
   "outputs": [],
   "source": []
  },
  {
   "cell_type": "markdown",
   "id": "a52fa769",
   "metadata": {},
   "source": [
    "# 3 COMPLEMENT NAIVE BAYES on text data df12\n"
   ]
  },
  {
   "cell_type": "code",
   "execution_count": 53,
   "id": "f4b3a290",
   "metadata": {},
   "outputs": [],
   "source": [
    "from sklearn.naive_bayes import ComplementNB\n",
    "clf_compl_df12_tfidf = ComplementNB()\n"
   ]
  },
  {
   "cell_type": "code",
   "execution_count": 54,
   "id": "d64a2242",
   "metadata": {
    "scrolled": true
   },
   "outputs": [
    {
     "data": {
      "text/html": [
       "<style>#sk-container-id-4 {color: black;background-color: white;}#sk-container-id-4 pre{padding: 0;}#sk-container-id-4 div.sk-toggleable {background-color: white;}#sk-container-id-4 label.sk-toggleable__label {cursor: pointer;display: block;width: 100%;margin-bottom: 0;padding: 0.3em;box-sizing: border-box;text-align: center;}#sk-container-id-4 label.sk-toggleable__label-arrow:before {content: \"▸\";float: left;margin-right: 0.25em;color: #696969;}#sk-container-id-4 label.sk-toggleable__label-arrow:hover:before {color: black;}#sk-container-id-4 div.sk-estimator:hover label.sk-toggleable__label-arrow:before {color: black;}#sk-container-id-4 div.sk-toggleable__content {max-height: 0;max-width: 0;overflow: hidden;text-align: left;background-color: #f0f8ff;}#sk-container-id-4 div.sk-toggleable__content pre {margin: 0.2em;color: black;border-radius: 0.25em;background-color: #f0f8ff;}#sk-container-id-4 input.sk-toggleable__control:checked~div.sk-toggleable__content {max-height: 200px;max-width: 100%;overflow: auto;}#sk-container-id-4 input.sk-toggleable__control:checked~label.sk-toggleable__label-arrow:before {content: \"▾\";}#sk-container-id-4 div.sk-estimator input.sk-toggleable__control:checked~label.sk-toggleable__label {background-color: #d4ebff;}#sk-container-id-4 div.sk-label input.sk-toggleable__control:checked~label.sk-toggleable__label {background-color: #d4ebff;}#sk-container-id-4 input.sk-hidden--visually {border: 0;clip: rect(1px 1px 1px 1px);clip: rect(1px, 1px, 1px, 1px);height: 1px;margin: -1px;overflow: hidden;padding: 0;position: absolute;width: 1px;}#sk-container-id-4 div.sk-estimator {font-family: monospace;background-color: #f0f8ff;border: 1px dotted black;border-radius: 0.25em;box-sizing: border-box;margin-bottom: 0.5em;}#sk-container-id-4 div.sk-estimator:hover {background-color: #d4ebff;}#sk-container-id-4 div.sk-parallel-item::after {content: \"\";width: 100%;border-bottom: 1px solid gray;flex-grow: 1;}#sk-container-id-4 div.sk-label:hover label.sk-toggleable__label {background-color: #d4ebff;}#sk-container-id-4 div.sk-serial::before {content: \"\";position: absolute;border-left: 1px solid gray;box-sizing: border-box;top: 0;bottom: 0;left: 50%;z-index: 0;}#sk-container-id-4 div.sk-serial {display: flex;flex-direction: column;align-items: center;background-color: white;padding-right: 0.2em;padding-left: 0.2em;position: relative;}#sk-container-id-4 div.sk-item {position: relative;z-index: 1;}#sk-container-id-4 div.sk-parallel {display: flex;align-items: stretch;justify-content: center;background-color: white;position: relative;}#sk-container-id-4 div.sk-item::before, #sk-container-id-4 div.sk-parallel-item::before {content: \"\";position: absolute;border-left: 1px solid gray;box-sizing: border-box;top: 0;bottom: 0;left: 50%;z-index: -1;}#sk-container-id-4 div.sk-parallel-item {display: flex;flex-direction: column;z-index: 1;position: relative;background-color: white;}#sk-container-id-4 div.sk-parallel-item:first-child::after {align-self: flex-end;width: 50%;}#sk-container-id-4 div.sk-parallel-item:last-child::after {align-self: flex-start;width: 50%;}#sk-container-id-4 div.sk-parallel-item:only-child::after {width: 0;}#sk-container-id-4 div.sk-dashed-wrapped {border: 1px dashed gray;margin: 0 0.4em 0.5em 0.4em;box-sizing: border-box;padding-bottom: 0.4em;background-color: white;}#sk-container-id-4 div.sk-label label {font-family: monospace;font-weight: bold;display: inline-block;line-height: 1.2em;}#sk-container-id-4 div.sk-label-container {text-align: center;}#sk-container-id-4 div.sk-container {/* jupyter's `normalize.less` sets `[hidden] { display: none; }` but bootstrap.min.css set `[hidden] { display: none !important; }` so we also need the `!important` here to be able to override the default hidden behavior on the sphinx rendered scikit-learn.org. See: https://github.com/scikit-learn/scikit-learn/issues/21755 */display: inline-block !important;position: relative;}#sk-container-id-4 div.sk-text-repr-fallback {display: none;}</style><div id=\"sk-container-id-4\" class=\"sk-top-container\"><div class=\"sk-text-repr-fallback\"><pre>ComplementNB()</pre><b>In a Jupyter environment, please rerun this cell to show the HTML representation or trust the notebook. <br />On GitHub, the HTML representation is unable to render, please try loading this page with nbviewer.org.</b></div><div class=\"sk-container\" hidden><div class=\"sk-item\"><div class=\"sk-estimator sk-toggleable\"><input class=\"sk-toggleable__control sk-hidden--visually\" id=\"sk-estimator-id-4\" type=\"checkbox\" checked><label for=\"sk-estimator-id-4\" class=\"sk-toggleable__label sk-toggleable__label-arrow\">ComplementNB</label><div class=\"sk-toggleable__content\"><pre>ComplementNB()</pre></div></div></div></div></div>"
      ],
      "text/plain": [
       "ComplementNB()"
      ]
     },
     "execution_count": 54,
     "metadata": {},
     "output_type": "execute_result"
    }
   ],
   "source": [
    "# fit model\n",
    "clf_compl_df12_tfidf.fit(X_ro, y_ro)\n"
   ]
  },
  {
   "cell_type": "code",
   "execution_count": 55,
   "id": "3cf8ad30",
   "metadata": {},
   "outputs": [],
   "source": [
    "y_pred_NB_Compl_df12_tfidf = clf_compl_df12_tfidf.predict(X_test_text_df12_tfidf)\n"
   ]
  },
  {
   "cell_type": "code",
   "execution_count": 56,
   "id": "acba2762",
   "metadata": {},
   "outputs": [
    {
     "data": {
      "text/plain": [
       "0.7934786909896719"
      ]
     },
     "execution_count": 56,
     "metadata": {},
     "output_type": "execute_result"
    }
   ],
   "source": [
    "# get accuracy\n",
    "accuracy_NB_Compl_df12_tfidf = clf_compl_df12_tfidf.score(X_test_text_df12_tfidf, Y_test_df12)\n",
    "accuracy_NB_Compl_df12_tfidf\n",
    "\n",
    "# 0.79\n",
    "# no change"
   ]
  },
  {
   "cell_type": "code",
   "execution_count": 57,
   "id": "bc23cd33",
   "metadata": {},
   "outputs": [
    {
     "data": {
      "text/plain": [
       "0.7571993486857409"
      ]
     },
     "execution_count": 57,
     "metadata": {},
     "output_type": "execute_result"
    }
   ],
   "source": [
    "# Evaluate the model with f1 score\n",
    "from sklearn.metrics import f1_score\n",
    "\n",
    "f1_NB_Compl_df12_tfidf = f1_score(Y_test_df12, y_pred_NB_Compl_df12_tfidf)\n",
    "f1_NB_Compl_df12_tfidf\n",
    "\n",
    "# 0.757\n",
    "# improvement"
   ]
  },
  {
   "cell_type": "code",
   "execution_count": 58,
   "id": "6d8598ea",
   "metadata": {},
   "outputs": [
    {
     "data": {
      "text/html": [
       "<div>\n",
       "<style scoped>\n",
       "    .dataframe tbody tr th:only-of-type {\n",
       "        vertical-align: middle;\n",
       "    }\n",
       "\n",
       "    .dataframe tbody tr th {\n",
       "        vertical-align: top;\n",
       "    }\n",
       "\n",
       "    .dataframe thead th {\n",
       "        text-align: right;\n",
       "    }\n",
       "</style>\n",
       "<table border=\"1\" class=\"dataframe\">\n",
       "  <thead>\n",
       "    <tr style=\"text-align: right;\">\n",
       "      <th>predict</th>\n",
       "      <th>0.0</th>\n",
       "      <th>1.0</th>\n",
       "    </tr>\n",
       "    <tr>\n",
       "      <th>true</th>\n",
       "      <th></th>\n",
       "      <th></th>\n",
       "    </tr>\n",
       "  </thead>\n",
       "  <tbody>\n",
       "    <tr>\n",
       "      <th>0.0</th>\n",
       "      <td>11914</td>\n",
       "      <td>2645</td>\n",
       "    </tr>\n",
       "    <tr>\n",
       "      <th>1.0</th>\n",
       "      <td>2574</td>\n",
       "      <td>8138</td>\n",
       "    </tr>\n",
       "  </tbody>\n",
       "</table>\n",
       "</div>"
      ],
      "text/plain": [
       "predict    0.0   1.0\n",
       "true                \n",
       "0.0      11914  2645\n",
       "1.0       2574  8138"
      ]
     },
     "execution_count": 58,
     "metadata": {},
     "output_type": "execute_result"
    }
   ],
   "source": [
    "# get confusion matrix\n",
    "pd.crosstab(Y_test_df12, y_pred_NB_Compl_df12_tfidf, rownames=[\"true\"], colnames=[\"predict\"])\n",
    "\n",
    "# overall prediction is ok\n",
    "# best prediction: real news as real news (0:0)"
   ]
  },
  {
   "cell_type": "code",
   "execution_count": 59,
   "id": "21e4b5d1",
   "metadata": {},
   "outputs": [
    {
     "name": "stdout",
     "output_type": "stream",
     "text": [
      "Naive Bayes Complement df12 tfidf classification report:\n",
      "                precision    recall  f1-score   support\n",
      "\n",
      "         0.0       0.82      0.82      0.82     14559\n",
      "         1.0       0.75      0.76      0.76     10712\n",
      "\n",
      "    accuracy                           0.79     25271\n",
      "   macro avg       0.79      0.79      0.79     25271\n",
      "weighted avg       0.79      0.79      0.79     25271\n",
      "\n"
     ]
    }
   ],
   "source": [
    "from sklearn.metrics import classification_report \n",
    "\n",
    "# get classification report\n",
    "print(\"Naive Bayes Complement df12 tfidf classification report:\\n \", classification_report (Y_test_df12, y_pred_NB_Compl_df12_tfidf))\n"
   ]
  },
  {
   "cell_type": "code",
   "execution_count": 60,
   "id": "585fbe9a",
   "metadata": {},
   "outputs": [
    {
     "name": "stdout",
     "output_type": "stream",
     "text": [
      "[[11914  2645]\n",
      " [ 2574  8138]]\n"
     ]
    }
   ],
   "source": [
    "# create confusion matrix\n",
    "cf_matrix_Compl_df12_tfidf = confusion_matrix(Y_test_df12, y_pred_NB_Compl_df12_tfidf)\n",
    "print(cf_matrix_Compl_df12_tfidf)\n"
   ]
  },
  {
   "cell_type": "code",
   "execution_count": null,
   "id": "38a672c4",
   "metadata": {},
   "outputs": [],
   "source": []
  },
  {
   "cell_type": "markdown",
   "id": "875f93e3",
   "metadata": {},
   "source": [
    "# 4a CREATE LOGISTIC REGRESSION MODEL ON TEXT DATA df12\n"
   ]
  },
  {
   "cell_type": "code",
   "execution_count": 61,
   "id": "e9e44058",
   "metadata": {},
   "outputs": [],
   "source": [
    "# Step 3: Instantiate model \n",
    "from sklearn.linear_model import LogisticRegression\n",
    "\n",
    "clf_LogReg_df12_tfidf = LogisticRegression(C=1.0)\n",
    "# clf_LogReg_df12_tfidf = LogisticRegression(C=1.0, class_wight=\"balanced\")\n",
    "# clf_LogReg_df12_tfidf = LogisticRegression(C=1.0, penalty=\"elasticnet\")\n"
   ]
  },
  {
   "cell_type": "code",
   "execution_count": 62,
   "id": "9d7f0c76",
   "metadata": {},
   "outputs": [
    {
     "name": "stderr",
     "output_type": "stream",
     "text": [
      "C:\\Users\\Nutzer\\anaconda3\\lib\\site-packages\\sklearn\\linear_model\\_logistic.py:458: ConvergenceWarning: lbfgs failed to converge (status=1):\n",
      "STOP: TOTAL NO. of ITERATIONS REACHED LIMIT.\n",
      "\n",
      "Increase the number of iterations (max_iter) or scale the data as shown in:\n",
      "    https://scikit-learn.org/stable/modules/preprocessing.html\n",
      "Please also refer to the documentation for alternative solver options:\n",
      "    https://scikit-learn.org/stable/modules/linear_model.html#logistic-regression\n",
      "  n_iter_i = _check_optimize_result(\n"
     ]
    },
    {
     "data": {
      "text/html": [
       "<style>#sk-container-id-5 {color: black;background-color: white;}#sk-container-id-5 pre{padding: 0;}#sk-container-id-5 div.sk-toggleable {background-color: white;}#sk-container-id-5 label.sk-toggleable__label {cursor: pointer;display: block;width: 100%;margin-bottom: 0;padding: 0.3em;box-sizing: border-box;text-align: center;}#sk-container-id-5 label.sk-toggleable__label-arrow:before {content: \"▸\";float: left;margin-right: 0.25em;color: #696969;}#sk-container-id-5 label.sk-toggleable__label-arrow:hover:before {color: black;}#sk-container-id-5 div.sk-estimator:hover label.sk-toggleable__label-arrow:before {color: black;}#sk-container-id-5 div.sk-toggleable__content {max-height: 0;max-width: 0;overflow: hidden;text-align: left;background-color: #f0f8ff;}#sk-container-id-5 div.sk-toggleable__content pre {margin: 0.2em;color: black;border-radius: 0.25em;background-color: #f0f8ff;}#sk-container-id-5 input.sk-toggleable__control:checked~div.sk-toggleable__content {max-height: 200px;max-width: 100%;overflow: auto;}#sk-container-id-5 input.sk-toggleable__control:checked~label.sk-toggleable__label-arrow:before {content: \"▾\";}#sk-container-id-5 div.sk-estimator input.sk-toggleable__control:checked~label.sk-toggleable__label {background-color: #d4ebff;}#sk-container-id-5 div.sk-label input.sk-toggleable__control:checked~label.sk-toggleable__label {background-color: #d4ebff;}#sk-container-id-5 input.sk-hidden--visually {border: 0;clip: rect(1px 1px 1px 1px);clip: rect(1px, 1px, 1px, 1px);height: 1px;margin: -1px;overflow: hidden;padding: 0;position: absolute;width: 1px;}#sk-container-id-5 div.sk-estimator {font-family: monospace;background-color: #f0f8ff;border: 1px dotted black;border-radius: 0.25em;box-sizing: border-box;margin-bottom: 0.5em;}#sk-container-id-5 div.sk-estimator:hover {background-color: #d4ebff;}#sk-container-id-5 div.sk-parallel-item::after {content: \"\";width: 100%;border-bottom: 1px solid gray;flex-grow: 1;}#sk-container-id-5 div.sk-label:hover label.sk-toggleable__label {background-color: #d4ebff;}#sk-container-id-5 div.sk-serial::before {content: \"\";position: absolute;border-left: 1px solid gray;box-sizing: border-box;top: 0;bottom: 0;left: 50%;z-index: 0;}#sk-container-id-5 div.sk-serial {display: flex;flex-direction: column;align-items: center;background-color: white;padding-right: 0.2em;padding-left: 0.2em;position: relative;}#sk-container-id-5 div.sk-item {position: relative;z-index: 1;}#sk-container-id-5 div.sk-parallel {display: flex;align-items: stretch;justify-content: center;background-color: white;position: relative;}#sk-container-id-5 div.sk-item::before, #sk-container-id-5 div.sk-parallel-item::before {content: \"\";position: absolute;border-left: 1px solid gray;box-sizing: border-box;top: 0;bottom: 0;left: 50%;z-index: -1;}#sk-container-id-5 div.sk-parallel-item {display: flex;flex-direction: column;z-index: 1;position: relative;background-color: white;}#sk-container-id-5 div.sk-parallel-item:first-child::after {align-self: flex-end;width: 50%;}#sk-container-id-5 div.sk-parallel-item:last-child::after {align-self: flex-start;width: 50%;}#sk-container-id-5 div.sk-parallel-item:only-child::after {width: 0;}#sk-container-id-5 div.sk-dashed-wrapped {border: 1px dashed gray;margin: 0 0.4em 0.5em 0.4em;box-sizing: border-box;padding-bottom: 0.4em;background-color: white;}#sk-container-id-5 div.sk-label label {font-family: monospace;font-weight: bold;display: inline-block;line-height: 1.2em;}#sk-container-id-5 div.sk-label-container {text-align: center;}#sk-container-id-5 div.sk-container {/* jupyter's `normalize.less` sets `[hidden] { display: none; }` but bootstrap.min.css set `[hidden] { display: none !important; }` so we also need the `!important` here to be able to override the default hidden behavior on the sphinx rendered scikit-learn.org. See: https://github.com/scikit-learn/scikit-learn/issues/21755 */display: inline-block !important;position: relative;}#sk-container-id-5 div.sk-text-repr-fallback {display: none;}</style><div id=\"sk-container-id-5\" class=\"sk-top-container\"><div class=\"sk-text-repr-fallback\"><pre>LogisticRegression()</pre><b>In a Jupyter environment, please rerun this cell to show the HTML representation or trust the notebook. <br />On GitHub, the HTML representation is unable to render, please try loading this page with nbviewer.org.</b></div><div class=\"sk-container\" hidden><div class=\"sk-item\"><div class=\"sk-estimator sk-toggleable\"><input class=\"sk-toggleable__control sk-hidden--visually\" id=\"sk-estimator-id-5\" type=\"checkbox\" checked><label for=\"sk-estimator-id-5\" class=\"sk-toggleable__label sk-toggleable__label-arrow\">LogisticRegression</label><div class=\"sk-toggleable__content\"><pre>LogisticRegression()</pre></div></div></div></div></div>"
      ],
      "text/plain": [
       "LogisticRegression()"
      ]
     },
     "execution_count": 62,
     "metadata": {},
     "output_type": "execute_result"
    }
   ],
   "source": [
    "# Step 4: Fit the model on the training dataset\n",
    "clf_LogReg_df12_tfidf.fit(X_ro, y_ro)\n"
   ]
  },
  {
   "cell_type": "code",
   "execution_count": 63,
   "id": "2375bcc7",
   "metadata": {},
   "outputs": [],
   "source": [
    "y_pred_LogReg_df12_tfidf = clf_LogReg_df12_tfidf.predict(X_test_text_df12_tfidf)\n"
   ]
  },
  {
   "cell_type": "code",
   "execution_count": 64,
   "id": "949ef63d",
   "metadata": {},
   "outputs": [
    {
     "data": {
      "text/plain": [
       "0.8557635234062759"
      ]
     },
     "execution_count": 64,
     "metadata": {},
     "output_type": "execute_result"
    }
   ],
   "source": [
    "# get accuracy\n",
    "accuracy_LogReg_df12_tfidf = clf_LogReg_df12_tfidf.score(X_test_text_df12_tfidf, Y_test_df12)\n",
    "accuracy_LogReg_df12_tfidf\n",
    "\n",
    "# 0.8557\n",
    "# slightly worse"
   ]
  },
  {
   "cell_type": "code",
   "execution_count": 65,
   "id": "8be190b5",
   "metadata": {},
   "outputs": [
    {
     "data": {
      "text/plain": [
       "0.8318804483188044"
      ]
     },
     "execution_count": 65,
     "metadata": {},
     "output_type": "execute_result"
    }
   ],
   "source": [
    "# Evaluate the model with f1 score\n",
    "from sklearn.metrics import f1_score\n",
    "\n",
    "f1_LogReg_df12_tfidf = f1_score(Y_test_df12, y_pred_LogReg_df12_tfidf)\n",
    "f1_LogReg_df12_tfidf\n",
    "\n",
    "# 0.83\n",
    "# slight improvement"
   ]
  },
  {
   "cell_type": "code",
   "execution_count": 66,
   "id": "b4d2f95e",
   "metadata": {},
   "outputs": [
    {
     "data": {
      "text/html": [
       "<div>\n",
       "<style scoped>\n",
       "    .dataframe tbody tr th:only-of-type {\n",
       "        vertical-align: middle;\n",
       "    }\n",
       "\n",
       "    .dataframe tbody tr th {\n",
       "        vertical-align: top;\n",
       "    }\n",
       "\n",
       "    .dataframe thead th {\n",
       "        text-align: right;\n",
       "    }\n",
       "</style>\n",
       "<table border=\"1\" class=\"dataframe\">\n",
       "  <thead>\n",
       "    <tr style=\"text-align: right;\">\n",
       "      <th>predict</th>\n",
       "      <th>0.0</th>\n",
       "      <th>1.0</th>\n",
       "    </tr>\n",
       "    <tr>\n",
       "      <th>true</th>\n",
       "      <th></th>\n",
       "      <th></th>\n",
       "    </tr>\n",
       "  </thead>\n",
       "  <tbody>\n",
       "    <tr>\n",
       "      <th>0.0</th>\n",
       "      <td>12608</td>\n",
       "      <td>1951</td>\n",
       "    </tr>\n",
       "    <tr>\n",
       "      <th>1.0</th>\n",
       "      <td>1694</td>\n",
       "      <td>9018</td>\n",
       "    </tr>\n",
       "  </tbody>\n",
       "</table>\n",
       "</div>"
      ],
      "text/plain": [
       "predict    0.0   1.0\n",
       "true                \n",
       "0.0      12608  1951\n",
       "1.0       1694  9018"
      ]
     },
     "execution_count": 66,
     "metadata": {},
     "output_type": "execute_result"
    }
   ],
   "source": [
    "# get confusion matrix\n",
    "pd.crosstab(Y_test_df12, y_pred_LogReg_df12_tfidf, rownames=[\"true\"], colnames=[\"predict\"])\n",
    "\n",
    "# overall prediction is quite good\n",
    "# best prediction: real news as real news (0:0), followed by fake news as fake news (1:1)"
   ]
  },
  {
   "cell_type": "code",
   "execution_count": 67,
   "id": "2f0d8caa",
   "metadata": {},
   "outputs": [
    {
     "name": "stdout",
     "output_type": "stream",
     "text": [
      "Logistic Regression df12 tfidf classification report:\n",
      "                precision    recall  f1-score   support\n",
      "\n",
      "         0.0       0.88      0.87      0.87     14559\n",
      "         1.0       0.82      0.84      0.83     10712\n",
      "\n",
      "    accuracy                           0.86     25271\n",
      "   macro avg       0.85      0.85      0.85     25271\n",
      "weighted avg       0.86      0.86      0.86     25271\n",
      "\n"
     ]
    }
   ],
   "source": [
    "from sklearn.metrics import classification_report \n",
    "\n",
    "# get classification report\n",
    "print(\"Logistic Regression df12 tfidf classification report:\\n \", classification_report (Y_test_df12, y_pred_LogReg_df12_tfidf))\n"
   ]
  },
  {
   "cell_type": "code",
   "execution_count": 68,
   "id": "c28e46bd",
   "metadata": {},
   "outputs": [
    {
     "name": "stdout",
     "output_type": "stream",
     "text": [
      "[[12608  1951]\n",
      " [ 1694  9018]]\n"
     ]
    }
   ],
   "source": [
    "# create confusion matrix\n",
    "cf_matrix_LogReg_df12_tfidf = confusion_matrix(Y_test_df12, y_pred_LogReg_df12_tfidf)\n",
    "print(cf_matrix_LogReg_df12_tfidf)\n"
   ]
  },
  {
   "cell_type": "code",
   "execution_count": null,
   "id": "73b9bebc",
   "metadata": {},
   "outputs": [],
   "source": []
  },
  {
   "cell_type": "markdown",
   "id": "df27c58b",
   "metadata": {},
   "source": [
    "# 4b CREATE LOGISTIC REGRESSION MODEL ON TEXT DATA df12 with class_weights\n"
   ]
  },
  {
   "cell_type": "code",
   "execution_count": 69,
   "id": "b1b01d2d",
   "metadata": {},
   "outputs": [],
   "source": [
    "# Definiere die gewünschten Klassengewichte\n",
    "class_weights = {0: 1.0, 1: 1.38}  # Beispielwerte, die angepasst werden können\n"
   ]
  },
  {
   "cell_type": "code",
   "execution_count": 70,
   "id": "34baf87b",
   "metadata": {},
   "outputs": [],
   "source": [
    "# Step 3: Instantiate model \n",
    "from sklearn.linear_model import LogisticRegression\n",
    "\n",
    "clf_LogReg_df12_tfidf_CW = LogisticRegression(C=1.0, class_weight = class_weights)\n"
   ]
  },
  {
   "cell_type": "code",
   "execution_count": 71,
   "id": "2caeb02c",
   "metadata": {},
   "outputs": [
    {
     "name": "stderr",
     "output_type": "stream",
     "text": [
      "C:\\Users\\Nutzer\\anaconda3\\lib\\site-packages\\sklearn\\linear_model\\_logistic.py:458: ConvergenceWarning: lbfgs failed to converge (status=1):\n",
      "STOP: TOTAL NO. of ITERATIONS REACHED LIMIT.\n",
      "\n",
      "Increase the number of iterations (max_iter) or scale the data as shown in:\n",
      "    https://scikit-learn.org/stable/modules/preprocessing.html\n",
      "Please also refer to the documentation for alternative solver options:\n",
      "    https://scikit-learn.org/stable/modules/linear_model.html#logistic-regression\n",
      "  n_iter_i = _check_optimize_result(\n"
     ]
    },
    {
     "data": {
      "text/html": [
       "<style>#sk-container-id-6 {color: black;background-color: white;}#sk-container-id-6 pre{padding: 0;}#sk-container-id-6 div.sk-toggleable {background-color: white;}#sk-container-id-6 label.sk-toggleable__label {cursor: pointer;display: block;width: 100%;margin-bottom: 0;padding: 0.3em;box-sizing: border-box;text-align: center;}#sk-container-id-6 label.sk-toggleable__label-arrow:before {content: \"▸\";float: left;margin-right: 0.25em;color: #696969;}#sk-container-id-6 label.sk-toggleable__label-arrow:hover:before {color: black;}#sk-container-id-6 div.sk-estimator:hover label.sk-toggleable__label-arrow:before {color: black;}#sk-container-id-6 div.sk-toggleable__content {max-height: 0;max-width: 0;overflow: hidden;text-align: left;background-color: #f0f8ff;}#sk-container-id-6 div.sk-toggleable__content pre {margin: 0.2em;color: black;border-radius: 0.25em;background-color: #f0f8ff;}#sk-container-id-6 input.sk-toggleable__control:checked~div.sk-toggleable__content {max-height: 200px;max-width: 100%;overflow: auto;}#sk-container-id-6 input.sk-toggleable__control:checked~label.sk-toggleable__label-arrow:before {content: \"▾\";}#sk-container-id-6 div.sk-estimator input.sk-toggleable__control:checked~label.sk-toggleable__label {background-color: #d4ebff;}#sk-container-id-6 div.sk-label input.sk-toggleable__control:checked~label.sk-toggleable__label {background-color: #d4ebff;}#sk-container-id-6 input.sk-hidden--visually {border: 0;clip: rect(1px 1px 1px 1px);clip: rect(1px, 1px, 1px, 1px);height: 1px;margin: -1px;overflow: hidden;padding: 0;position: absolute;width: 1px;}#sk-container-id-6 div.sk-estimator {font-family: monospace;background-color: #f0f8ff;border: 1px dotted black;border-radius: 0.25em;box-sizing: border-box;margin-bottom: 0.5em;}#sk-container-id-6 div.sk-estimator:hover {background-color: #d4ebff;}#sk-container-id-6 div.sk-parallel-item::after {content: \"\";width: 100%;border-bottom: 1px solid gray;flex-grow: 1;}#sk-container-id-6 div.sk-label:hover label.sk-toggleable__label {background-color: #d4ebff;}#sk-container-id-6 div.sk-serial::before {content: \"\";position: absolute;border-left: 1px solid gray;box-sizing: border-box;top: 0;bottom: 0;left: 50%;z-index: 0;}#sk-container-id-6 div.sk-serial {display: flex;flex-direction: column;align-items: center;background-color: white;padding-right: 0.2em;padding-left: 0.2em;position: relative;}#sk-container-id-6 div.sk-item {position: relative;z-index: 1;}#sk-container-id-6 div.sk-parallel {display: flex;align-items: stretch;justify-content: center;background-color: white;position: relative;}#sk-container-id-6 div.sk-item::before, #sk-container-id-6 div.sk-parallel-item::before {content: \"\";position: absolute;border-left: 1px solid gray;box-sizing: border-box;top: 0;bottom: 0;left: 50%;z-index: -1;}#sk-container-id-6 div.sk-parallel-item {display: flex;flex-direction: column;z-index: 1;position: relative;background-color: white;}#sk-container-id-6 div.sk-parallel-item:first-child::after {align-self: flex-end;width: 50%;}#sk-container-id-6 div.sk-parallel-item:last-child::after {align-self: flex-start;width: 50%;}#sk-container-id-6 div.sk-parallel-item:only-child::after {width: 0;}#sk-container-id-6 div.sk-dashed-wrapped {border: 1px dashed gray;margin: 0 0.4em 0.5em 0.4em;box-sizing: border-box;padding-bottom: 0.4em;background-color: white;}#sk-container-id-6 div.sk-label label {font-family: monospace;font-weight: bold;display: inline-block;line-height: 1.2em;}#sk-container-id-6 div.sk-label-container {text-align: center;}#sk-container-id-6 div.sk-container {/* jupyter's `normalize.less` sets `[hidden] { display: none; }` but bootstrap.min.css set `[hidden] { display: none !important; }` so we also need the `!important` here to be able to override the default hidden behavior on the sphinx rendered scikit-learn.org. See: https://github.com/scikit-learn/scikit-learn/issues/21755 */display: inline-block !important;position: relative;}#sk-container-id-6 div.sk-text-repr-fallback {display: none;}</style><div id=\"sk-container-id-6\" class=\"sk-top-container\"><div class=\"sk-text-repr-fallback\"><pre>LogisticRegression(class_weight={0: 1.0, 1: 1.38})</pre><b>In a Jupyter environment, please rerun this cell to show the HTML representation or trust the notebook. <br />On GitHub, the HTML representation is unable to render, please try loading this page with nbviewer.org.</b></div><div class=\"sk-container\" hidden><div class=\"sk-item\"><div class=\"sk-estimator sk-toggleable\"><input class=\"sk-toggleable__control sk-hidden--visually\" id=\"sk-estimator-id-6\" type=\"checkbox\" checked><label for=\"sk-estimator-id-6\" class=\"sk-toggleable__label sk-toggleable__label-arrow\">LogisticRegression</label><div class=\"sk-toggleable__content\"><pre>LogisticRegression(class_weight={0: 1.0, 1: 1.38})</pre></div></div></div></div></div>"
      ],
      "text/plain": [
       "LogisticRegression(class_weight={0: 1.0, 1: 1.38})"
      ]
     },
     "execution_count": 71,
     "metadata": {},
     "output_type": "execute_result"
    }
   ],
   "source": [
    "# Step 4: Fit the model on the training dataset\n",
    "clf_LogReg_df12_tfidf_CW.fit(X_ro, y_ro)\n"
   ]
  },
  {
   "cell_type": "code",
   "execution_count": 72,
   "id": "4fa9e1df",
   "metadata": {},
   "outputs": [],
   "source": [
    "y_pred_LogReg_df12_tfidf_CW = clf_LogReg_df12_tfidf_CW.predict(X_test_text_df12_tfidf)\n"
   ]
  },
  {
   "cell_type": "code",
   "execution_count": 73,
   "id": "46ac39ed",
   "metadata": {},
   "outputs": [
    {
     "data": {
      "text/plain": [
       "0.8484824502394048"
      ]
     },
     "execution_count": 73,
     "metadata": {},
     "output_type": "execute_result"
    }
   ],
   "source": [
    "# get accuracy\n",
    "accuracy_LogReg_df12_tfidf_CW = clf_LogReg_df12_tfidf_CW.score(X_test_text_df12_tfidf, Y_test_df12)\n",
    "accuracy_LogReg_df12_tfidf_CW\n",
    "\n",
    "# 0.848\n",
    "# slightly worse"
   ]
  },
  {
   "cell_type": "code",
   "execution_count": 74,
   "id": "790849ea",
   "metadata": {},
   "outputs": [
    {
     "data": {
      "text/plain": [
       "0.8299053795921993"
      ]
     },
     "execution_count": 74,
     "metadata": {},
     "output_type": "execute_result"
    }
   ],
   "source": [
    "# Evaluate the model with f1 score\n",
    "from sklearn.metrics import f1_score\n",
    "\n",
    "f1_LogReg_df12_tfidf_CW = f1_score(Y_test_df12, y_pred_LogReg_df12_tfidf_CW)\n",
    "f1_LogReg_df12_tfidf_CW\n",
    "\n",
    "# 0.83\n",
    "# no change"
   ]
  },
  {
   "cell_type": "code",
   "execution_count": 75,
   "id": "12070c54",
   "metadata": {},
   "outputs": [
    {
     "data": {
      "text/html": [
       "<div>\n",
       "<style scoped>\n",
       "    .dataframe tbody tr th:only-of-type {\n",
       "        vertical-align: middle;\n",
       "    }\n",
       "\n",
       "    .dataframe tbody tr th {\n",
       "        vertical-align: top;\n",
       "    }\n",
       "\n",
       "    .dataframe thead th {\n",
       "        text-align: right;\n",
       "    }\n",
       "</style>\n",
       "<table border=\"1\" class=\"dataframe\">\n",
       "  <thead>\n",
       "    <tr style=\"text-align: right;\">\n",
       "      <th>predict</th>\n",
       "      <th>0.0</th>\n",
       "      <th>1.0</th>\n",
       "    </tr>\n",
       "    <tr>\n",
       "      <th>true</th>\n",
       "      <th></th>\n",
       "      <th></th>\n",
       "    </tr>\n",
       "  </thead>\n",
       "  <tbody>\n",
       "    <tr>\n",
       "      <th>0.0</th>\n",
       "      <td>12101</td>\n",
       "      <td>2458</td>\n",
       "    </tr>\n",
       "    <tr>\n",
       "      <th>1.0</th>\n",
       "      <td>1371</td>\n",
       "      <td>9341</td>\n",
       "    </tr>\n",
       "  </tbody>\n",
       "</table>\n",
       "</div>"
      ],
      "text/plain": [
       "predict    0.0   1.0\n",
       "true                \n",
       "0.0      12101  2458\n",
       "1.0       1371  9341"
      ]
     },
     "execution_count": 75,
     "metadata": {},
     "output_type": "execute_result"
    }
   ],
   "source": [
    "# get confusion matrix\n",
    "pd.crosstab(Y_test_df12, y_pred_LogReg_df12_tfidf_CW, rownames=[\"true\"], colnames=[\"predict\"])\n",
    "\n",
    "# overall prediction is quite good\n",
    "# best prediction: real news as real news (0:0), followed by fake news as fake news (1:1)\n",
    "# lowest value for false negatives"
   ]
  },
  {
   "cell_type": "code",
   "execution_count": 76,
   "id": "ecfb2ec0",
   "metadata": {},
   "outputs": [
    {
     "name": "stdout",
     "output_type": "stream",
     "text": [
      "Logistic Regression df12 tfidf with class weights classification report:\n",
      "                precision    recall  f1-score   support\n",
      "\n",
      "         0.0       0.90      0.83      0.86     14559\n",
      "         1.0       0.79      0.87      0.83     10712\n",
      "\n",
      "    accuracy                           0.85     25271\n",
      "   macro avg       0.84      0.85      0.85     25271\n",
      "weighted avg       0.85      0.85      0.85     25271\n",
      "\n"
     ]
    }
   ],
   "source": [
    "from sklearn.metrics import classification_report \n",
    "\n",
    "# get classification report\n",
    "print(\"Logistic Regression df12 tfidf with class weights classification report:\\n \", classification_report (Y_test_df12, y_pred_LogReg_df12_tfidf_CW))\n"
   ]
  },
  {
   "cell_type": "code",
   "execution_count": 77,
   "id": "6276a3ad",
   "metadata": {},
   "outputs": [
    {
     "name": "stdout",
     "output_type": "stream",
     "text": [
      "[[12101  2458]\n",
      " [ 1371  9341]]\n"
     ]
    }
   ],
   "source": [
    "# create confusion matrix\n",
    "cf_matrix_LogReg_df12_tfidf_CW = confusion_matrix(Y_test_df12, y_pred_LogReg_df12_tfidf_CW)\n",
    "print(cf_matrix_LogReg_df12_tfidf_CW)\n"
   ]
  },
  {
   "cell_type": "code",
   "execution_count": null,
   "id": "d3276e6c",
   "metadata": {},
   "outputs": [],
   "source": []
  },
  {
   "cell_type": "markdown",
   "id": "1527141b",
   "metadata": {},
   "source": [
    "# 5 RANDOM FOREST on text data df12\n",
    "# takes too long"
   ]
  },
  {
   "cell_type": "code",
   "execution_count": 125,
   "id": "25e04eab",
   "metadata": {},
   "outputs": [],
   "source": [
    "# from sklearn.ensemble import RandomForestClassifier"
   ]
  },
  {
   "cell_type": "code",
   "execution_count": 126,
   "id": "2992b159",
   "metadata": {},
   "outputs": [],
   "source": [
    "# Instantiate the model\n",
    "# clf_rf_df12_tfidf = RandomForestClassifier()\n"
   ]
  },
  {
   "cell_type": "code",
   "execution_count": 127,
   "id": "b280c8e2",
   "metadata": {},
   "outputs": [
    {
     "data": {
      "text/html": [
       "<style>#sk-container-id-8 {color: black;background-color: white;}#sk-container-id-8 pre{padding: 0;}#sk-container-id-8 div.sk-toggleable {background-color: white;}#sk-container-id-8 label.sk-toggleable__label {cursor: pointer;display: block;width: 100%;margin-bottom: 0;padding: 0.3em;box-sizing: border-box;text-align: center;}#sk-container-id-8 label.sk-toggleable__label-arrow:before {content: \"▸\";float: left;margin-right: 0.25em;color: #696969;}#sk-container-id-8 label.sk-toggleable__label-arrow:hover:before {color: black;}#sk-container-id-8 div.sk-estimator:hover label.sk-toggleable__label-arrow:before {color: black;}#sk-container-id-8 div.sk-toggleable__content {max-height: 0;max-width: 0;overflow: hidden;text-align: left;background-color: #f0f8ff;}#sk-container-id-8 div.sk-toggleable__content pre {margin: 0.2em;color: black;border-radius: 0.25em;background-color: #f0f8ff;}#sk-container-id-8 input.sk-toggleable__control:checked~div.sk-toggleable__content {max-height: 200px;max-width: 100%;overflow: auto;}#sk-container-id-8 input.sk-toggleable__control:checked~label.sk-toggleable__label-arrow:before {content: \"▾\";}#sk-container-id-8 div.sk-estimator input.sk-toggleable__control:checked~label.sk-toggleable__label {background-color: #d4ebff;}#sk-container-id-8 div.sk-label input.sk-toggleable__control:checked~label.sk-toggleable__label {background-color: #d4ebff;}#sk-container-id-8 input.sk-hidden--visually {border: 0;clip: rect(1px 1px 1px 1px);clip: rect(1px, 1px, 1px, 1px);height: 1px;margin: -1px;overflow: hidden;padding: 0;position: absolute;width: 1px;}#sk-container-id-8 div.sk-estimator {font-family: monospace;background-color: #f0f8ff;border: 1px dotted black;border-radius: 0.25em;box-sizing: border-box;margin-bottom: 0.5em;}#sk-container-id-8 div.sk-estimator:hover {background-color: #d4ebff;}#sk-container-id-8 div.sk-parallel-item::after {content: \"\";width: 100%;border-bottom: 1px solid gray;flex-grow: 1;}#sk-container-id-8 div.sk-label:hover label.sk-toggleable__label {background-color: #d4ebff;}#sk-container-id-8 div.sk-serial::before {content: \"\";position: absolute;border-left: 1px solid gray;box-sizing: border-box;top: 0;bottom: 0;left: 50%;z-index: 0;}#sk-container-id-8 div.sk-serial {display: flex;flex-direction: column;align-items: center;background-color: white;padding-right: 0.2em;padding-left: 0.2em;position: relative;}#sk-container-id-8 div.sk-item {position: relative;z-index: 1;}#sk-container-id-8 div.sk-parallel {display: flex;align-items: stretch;justify-content: center;background-color: white;position: relative;}#sk-container-id-8 div.sk-item::before, #sk-container-id-8 div.sk-parallel-item::before {content: \"\";position: absolute;border-left: 1px solid gray;box-sizing: border-box;top: 0;bottom: 0;left: 50%;z-index: -1;}#sk-container-id-8 div.sk-parallel-item {display: flex;flex-direction: column;z-index: 1;position: relative;background-color: white;}#sk-container-id-8 div.sk-parallel-item:first-child::after {align-self: flex-end;width: 50%;}#sk-container-id-8 div.sk-parallel-item:last-child::after {align-self: flex-start;width: 50%;}#sk-container-id-8 div.sk-parallel-item:only-child::after {width: 0;}#sk-container-id-8 div.sk-dashed-wrapped {border: 1px dashed gray;margin: 0 0.4em 0.5em 0.4em;box-sizing: border-box;padding-bottom: 0.4em;background-color: white;}#sk-container-id-8 div.sk-label label {font-family: monospace;font-weight: bold;display: inline-block;line-height: 1.2em;}#sk-container-id-8 div.sk-label-container {text-align: center;}#sk-container-id-8 div.sk-container {/* jupyter's `normalize.less` sets `[hidden] { display: none; }` but bootstrap.min.css set `[hidden] { display: none !important; }` so we also need the `!important` here to be able to override the default hidden behavior on the sphinx rendered scikit-learn.org. See: https://github.com/scikit-learn/scikit-learn/issues/21755 */display: inline-block !important;position: relative;}#sk-container-id-8 div.sk-text-repr-fallback {display: none;}</style><div id=\"sk-container-id-8\" class=\"sk-top-container\"><div class=\"sk-text-repr-fallback\"><pre>RandomForestClassifier()</pre><b>In a Jupyter environment, please rerun this cell to show the HTML representation or trust the notebook. <br />On GitHub, the HTML representation is unable to render, please try loading this page with nbviewer.org.</b></div><div class=\"sk-container\" hidden><div class=\"sk-item\"><div class=\"sk-estimator sk-toggleable\"><input class=\"sk-toggleable__control sk-hidden--visually\" id=\"sk-estimator-id-8\" type=\"checkbox\" checked><label for=\"sk-estimator-id-8\" class=\"sk-toggleable__label sk-toggleable__label-arrow\">RandomForestClassifier</label><div class=\"sk-toggleable__content\"><pre>RandomForestClassifier()</pre></div></div></div></div></div>"
      ],
      "text/plain": [
       "RandomForestClassifier()"
      ]
     },
     "execution_count": 127,
     "metadata": {},
     "output_type": "execute_result"
    }
   ],
   "source": [
    "# fit model\n",
    "# clf_rf_df12_tfidf.fit(X_train_text_df12_tfidf, Y_train_df12)\n"
   ]
  },
  {
   "cell_type": "code",
   "execution_count": 128,
   "id": "bcf41ea5",
   "metadata": {},
   "outputs": [],
   "source": [
    "#Predict on the test set \n",
    "# y_pred_rf_df12_tfidf = clf_rf_df12_tfidf.predict(X_test_text_df12_tfidf)\n"
   ]
  },
  {
   "cell_type": "code",
   "execution_count": 129,
   "id": "83fde4c8",
   "metadata": {},
   "outputs": [
    {
     "data": {
      "text/plain": [
       "0.7886510229116378"
      ]
     },
     "execution_count": 129,
     "metadata": {},
     "output_type": "execute_result"
    }
   ],
   "source": [
    "# get accuracy\n",
    "# accuracy_rf_df12_tfidf = clf_rf_df12_tfidf.score(X_test_text_df12_tfidf, Y_test_df12)\n",
    "# accuracy_rf_df12_tfidf\n",
    "\n",
    "# 0.788\n"
   ]
  },
  {
   "cell_type": "code",
   "execution_count": 130,
   "id": "f401b920",
   "metadata": {},
   "outputs": [
    {
     "data": {
      "text/plain": [
       "0.687642552196035"
      ]
     },
     "execution_count": 130,
     "metadata": {},
     "output_type": "execute_result"
    }
   ],
   "source": [
    "# Evaluate the model with f1 score\n",
    "from sklearn.metrics import f1_score\n",
    "\n",
    "# f1_rf_df12_tfidf = f1_score(Y_test_df12, y_pred_rf_df12_tfidf)\n",
    "# f1_rf_df12_tfidf\n",
    "\n",
    "# 0.6876\n"
   ]
  },
  {
   "cell_type": "code",
   "execution_count": 131,
   "id": "70693f88",
   "metadata": {},
   "outputs": [
    {
     "data": {
      "text/html": [
       "<div>\n",
       "<style scoped>\n",
       "    .dataframe tbody tr th:only-of-type {\n",
       "        vertical-align: middle;\n",
       "    }\n",
       "\n",
       "    .dataframe tbody tr th {\n",
       "        vertical-align: top;\n",
       "    }\n",
       "\n",
       "    .dataframe thead th {\n",
       "        text-align: right;\n",
       "    }\n",
       "</style>\n",
       "<table border=\"1\" class=\"dataframe\">\n",
       "  <thead>\n",
       "    <tr style=\"text-align: right;\">\n",
       "      <th>predict</th>\n",
       "      <th>0.0</th>\n",
       "      <th>1.0</th>\n",
       "    </tr>\n",
       "    <tr>\n",
       "      <th>true</th>\n",
       "      <th></th>\n",
       "      <th></th>\n",
       "    </tr>\n",
       "  </thead>\n",
       "  <tbody>\n",
       "    <tr>\n",
       "      <th>0.0</th>\n",
       "      <td>14051</td>\n",
       "      <td>557</td>\n",
       "    </tr>\n",
       "    <tr>\n",
       "      <th>1.0</th>\n",
       "      <td>4784</td>\n",
       "      <td>5879</td>\n",
       "    </tr>\n",
       "  </tbody>\n",
       "</table>\n",
       "</div>"
      ],
      "text/plain": [
       "predict    0.0   1.0\n",
       "true                \n",
       "0.0      14051   557\n",
       "1.0       4784  5879"
      ]
     },
     "execution_count": 131,
     "metadata": {},
     "output_type": "execute_result"
    }
   ],
   "source": [
    "# get confusion matrix\n",
    "# pd.crosstab(Y_test_df12, y_pred_rf_df12_tfidf, rownames=[\"true\"], colnames=[\"predict\"])\n",
    "\n",
    "# perfect for fake news\n",
    "\n",
    "# overall prediction is quite good\n",
    "# best prediction: real news as real news (0:0), followed by fake news as fake news (1:1)\n",
    "# best result for false positives (real news being predicted as fake news)"
   ]
  },
  {
   "cell_type": "code",
   "execution_count": 132,
   "id": "b27f162b",
   "metadata": {},
   "outputs": [
    {
     "name": "stdout",
     "output_type": "stream",
     "text": [
      "Random Forest df12 tfidf classification report:\n",
      "                precision    recall  f1-score   support\n",
      "\n",
      "         0.0       0.75      0.96      0.84     14608\n",
      "         1.0       0.91      0.55      0.69     10663\n",
      "\n",
      "    accuracy                           0.79     25271\n",
      "   macro avg       0.83      0.76      0.76     25271\n",
      "weighted avg       0.82      0.79      0.78     25271\n",
      "\n"
     ]
    }
   ],
   "source": [
    "# from sklearn.metrics import classification_report \n",
    "\n",
    "# get classification report\n",
    "# print(\"Random Forest df12 tfidf classification report:\\n \", classification_report (Y_test_df12, y_pred_rf_df12_tfidf))\n"
   ]
  },
  {
   "cell_type": "code",
   "execution_count": 133,
   "id": "4d784ed2",
   "metadata": {},
   "outputs": [
    {
     "name": "stdout",
     "output_type": "stream",
     "text": [
      "[[14051   557]\n",
      " [ 4784  5879]]\n"
     ]
    }
   ],
   "source": [
    "# create confusion matrix\n",
    "# cf_matrix_rf_df12_tfidf = confusion_matrix(Y_test_df12, y_pred_rf_df12_tfidf)\n",
    "# print(cf_matrix_rf_df12_tfidf)\n"
   ]
  },
  {
   "cell_type": "code",
   "execution_count": null,
   "id": "4d757e85",
   "metadata": {},
   "outputs": [],
   "source": []
  },
  {
   "cell_type": "markdown",
   "id": "32ba7d30",
   "metadata": {},
   "source": [
    "# 6a Passive Aggressive Classifier on text data df12\n"
   ]
  },
  {
   "cell_type": "markdown",
   "id": "104747ad",
   "metadata": {},
   "source": [
    "Passive Aggressive Classifier Passive Aggressive algorithms are online learning algorithms. Such an algorithm remains passive for a correct classification outcome, and turns aggressive in the event of a miscalculation, updating and adjusting. Unlike most other algorithms, it does not converge. Its purpose is to make updates that correct the loss, causing very little change in the norm of the weight vector.\n"
   ]
  },
  {
   "cell_type": "code",
   "execution_count": 81,
   "id": "cbe4f3e4",
   "metadata": {},
   "outputs": [],
   "source": [
    "from sklearn.linear_model import PassiveAggressiveClassifier\n"
   ]
  },
  {
   "cell_type": "code",
   "execution_count": 84,
   "id": "1e654018",
   "metadata": {},
   "outputs": [],
   "source": [
    "# Initialize a PassiveAggressiveClassifier\n",
    "pac_df12_tfidf = PassiveAggressiveClassifier(max_iter=50)\n"
   ]
  },
  {
   "cell_type": "code",
   "execution_count": 85,
   "id": "26381010",
   "metadata": {},
   "outputs": [
    {
     "data": {
      "text/html": [
       "<style>#sk-container-id-7 {color: black;background-color: white;}#sk-container-id-7 pre{padding: 0;}#sk-container-id-7 div.sk-toggleable {background-color: white;}#sk-container-id-7 label.sk-toggleable__label {cursor: pointer;display: block;width: 100%;margin-bottom: 0;padding: 0.3em;box-sizing: border-box;text-align: center;}#sk-container-id-7 label.sk-toggleable__label-arrow:before {content: \"▸\";float: left;margin-right: 0.25em;color: #696969;}#sk-container-id-7 label.sk-toggleable__label-arrow:hover:before {color: black;}#sk-container-id-7 div.sk-estimator:hover label.sk-toggleable__label-arrow:before {color: black;}#sk-container-id-7 div.sk-toggleable__content {max-height: 0;max-width: 0;overflow: hidden;text-align: left;background-color: #f0f8ff;}#sk-container-id-7 div.sk-toggleable__content pre {margin: 0.2em;color: black;border-radius: 0.25em;background-color: #f0f8ff;}#sk-container-id-7 input.sk-toggleable__control:checked~div.sk-toggleable__content {max-height: 200px;max-width: 100%;overflow: auto;}#sk-container-id-7 input.sk-toggleable__control:checked~label.sk-toggleable__label-arrow:before {content: \"▾\";}#sk-container-id-7 div.sk-estimator input.sk-toggleable__control:checked~label.sk-toggleable__label {background-color: #d4ebff;}#sk-container-id-7 div.sk-label input.sk-toggleable__control:checked~label.sk-toggleable__label {background-color: #d4ebff;}#sk-container-id-7 input.sk-hidden--visually {border: 0;clip: rect(1px 1px 1px 1px);clip: rect(1px, 1px, 1px, 1px);height: 1px;margin: -1px;overflow: hidden;padding: 0;position: absolute;width: 1px;}#sk-container-id-7 div.sk-estimator {font-family: monospace;background-color: #f0f8ff;border: 1px dotted black;border-radius: 0.25em;box-sizing: border-box;margin-bottom: 0.5em;}#sk-container-id-7 div.sk-estimator:hover {background-color: #d4ebff;}#sk-container-id-7 div.sk-parallel-item::after {content: \"\";width: 100%;border-bottom: 1px solid gray;flex-grow: 1;}#sk-container-id-7 div.sk-label:hover label.sk-toggleable__label {background-color: #d4ebff;}#sk-container-id-7 div.sk-serial::before {content: \"\";position: absolute;border-left: 1px solid gray;box-sizing: border-box;top: 0;bottom: 0;left: 50%;z-index: 0;}#sk-container-id-7 div.sk-serial {display: flex;flex-direction: column;align-items: center;background-color: white;padding-right: 0.2em;padding-left: 0.2em;position: relative;}#sk-container-id-7 div.sk-item {position: relative;z-index: 1;}#sk-container-id-7 div.sk-parallel {display: flex;align-items: stretch;justify-content: center;background-color: white;position: relative;}#sk-container-id-7 div.sk-item::before, #sk-container-id-7 div.sk-parallel-item::before {content: \"\";position: absolute;border-left: 1px solid gray;box-sizing: border-box;top: 0;bottom: 0;left: 50%;z-index: -1;}#sk-container-id-7 div.sk-parallel-item {display: flex;flex-direction: column;z-index: 1;position: relative;background-color: white;}#sk-container-id-7 div.sk-parallel-item:first-child::after {align-self: flex-end;width: 50%;}#sk-container-id-7 div.sk-parallel-item:last-child::after {align-self: flex-start;width: 50%;}#sk-container-id-7 div.sk-parallel-item:only-child::after {width: 0;}#sk-container-id-7 div.sk-dashed-wrapped {border: 1px dashed gray;margin: 0 0.4em 0.5em 0.4em;box-sizing: border-box;padding-bottom: 0.4em;background-color: white;}#sk-container-id-7 div.sk-label label {font-family: monospace;font-weight: bold;display: inline-block;line-height: 1.2em;}#sk-container-id-7 div.sk-label-container {text-align: center;}#sk-container-id-7 div.sk-container {/* jupyter's `normalize.less` sets `[hidden] { display: none; }` but bootstrap.min.css set `[hidden] { display: none !important; }` so we also need the `!important` here to be able to override the default hidden behavior on the sphinx rendered scikit-learn.org. See: https://github.com/scikit-learn/scikit-learn/issues/21755 */display: inline-block !important;position: relative;}#sk-container-id-7 div.sk-text-repr-fallback {display: none;}</style><div id=\"sk-container-id-7\" class=\"sk-top-container\"><div class=\"sk-text-repr-fallback\"><pre>PassiveAggressiveClassifier(max_iter=50)</pre><b>In a Jupyter environment, please rerun this cell to show the HTML representation or trust the notebook. <br />On GitHub, the HTML representation is unable to render, please try loading this page with nbviewer.org.</b></div><div class=\"sk-container\" hidden><div class=\"sk-item\"><div class=\"sk-estimator sk-toggleable\"><input class=\"sk-toggleable__control sk-hidden--visually\" id=\"sk-estimator-id-7\" type=\"checkbox\" checked><label for=\"sk-estimator-id-7\" class=\"sk-toggleable__label sk-toggleable__label-arrow\">PassiveAggressiveClassifier</label><div class=\"sk-toggleable__content\"><pre>PassiveAggressiveClassifier(max_iter=50)</pre></div></div></div></div></div>"
      ],
      "text/plain": [
       "PassiveAggressiveClassifier(max_iter=50)"
      ]
     },
     "execution_count": 85,
     "metadata": {},
     "output_type": "execute_result"
    }
   ],
   "source": [
    "# fit model\n",
    "pac_df12_tfidf.fit(X_ro, y_ro)\n"
   ]
  },
  {
   "cell_type": "code",
   "execution_count": 86,
   "id": "8be56494",
   "metadata": {},
   "outputs": [],
   "source": [
    "#Predict on the test set \n",
    "y_pred_PassAgg_df12_tfidf = pac_df12_tfidf.predict(X_test_text_df12_tfidf)\n"
   ]
  },
  {
   "cell_type": "code",
   "execution_count": 87,
   "id": "3b9f98d3",
   "metadata": {},
   "outputs": [
    {
     "data": {
      "text/plain": [
       "0.8211784258636382"
      ]
     },
     "execution_count": 87,
     "metadata": {},
     "output_type": "execute_result"
    }
   ],
   "source": [
    "# get accuracy\n",
    "accuracy_PassAgg_df12_tfidf= pac_df12_tfidf.score(X_test_text_df12_tfidf, Y_test_df12)\n",
    "accuracy_PassAgg_df12_tfidf\n",
    "\n",
    "# 0.82\n",
    "# no change"
   ]
  },
  {
   "cell_type": "code",
   "execution_count": 88,
   "id": "a63499b9",
   "metadata": {},
   "outputs": [
    {
     "data": {
      "text/plain": [
       "0.7894516144061875"
      ]
     },
     "execution_count": 88,
     "metadata": {},
     "output_type": "execute_result"
    }
   ],
   "source": [
    "# Evaluate the model with f1 score\n",
    "from sklearn.metrics import f1_score\n",
    "\n",
    "f1_PassAgg_df12_tfidf = f1_score(Y_test_df12, y_pred_PassAgg_df12_tfidf)\n",
    "f1_PassAgg_df12_tfidf\n",
    "\n",
    "# 0.789\n",
    "# slight improvement"
   ]
  },
  {
   "cell_type": "code",
   "execution_count": 89,
   "id": "fd0c620c",
   "metadata": {},
   "outputs": [
    {
     "data": {
      "text/html": [
       "<div>\n",
       "<style scoped>\n",
       "    .dataframe tbody tr th:only-of-type {\n",
       "        vertical-align: middle;\n",
       "    }\n",
       "\n",
       "    .dataframe tbody tr th {\n",
       "        vertical-align: top;\n",
       "    }\n",
       "\n",
       "    .dataframe thead th {\n",
       "        text-align: right;\n",
       "    }\n",
       "</style>\n",
       "<table border=\"1\" class=\"dataframe\">\n",
       "  <thead>\n",
       "    <tr style=\"text-align: right;\">\n",
       "      <th>predict</th>\n",
       "      <th>0.0</th>\n",
       "      <th>1.0</th>\n",
       "    </tr>\n",
       "    <tr>\n",
       "      <th>true</th>\n",
       "      <th></th>\n",
       "      <th></th>\n",
       "    </tr>\n",
       "  </thead>\n",
       "  <tbody>\n",
       "    <tr>\n",
       "      <th>0.0</th>\n",
       "      <td>12280</td>\n",
       "      <td>2279</td>\n",
       "    </tr>\n",
       "    <tr>\n",
       "      <th>1.0</th>\n",
       "      <td>2240</td>\n",
       "      <td>8472</td>\n",
       "    </tr>\n",
       "  </tbody>\n",
       "</table>\n",
       "</div>"
      ],
      "text/plain": [
       "predict    0.0   1.0\n",
       "true                \n",
       "0.0      12280  2279\n",
       "1.0       2240  8472"
      ]
     },
     "execution_count": 89,
     "metadata": {},
     "output_type": "execute_result"
    }
   ],
   "source": [
    "# get confusion matrix\n",
    "pd.crosstab(Y_test_df12, y_pred_PassAgg_df12_tfidf, rownames=[\"true\"], colnames=[\"predict\"])\n",
    "\n",
    "# overall prediction is quite good but no very good prediction for any case"
   ]
  },
  {
   "cell_type": "code",
   "execution_count": 90,
   "id": "751ef54d",
   "metadata": {},
   "outputs": [
    {
     "name": "stdout",
     "output_type": "stream",
     "text": [
      "Passive Aggressive df12 tfidf classification report:\n",
      "                precision    recall  f1-score   support\n",
      "\n",
      "         0.0       0.85      0.84      0.84     14559\n",
      "         1.0       0.79      0.79      0.79     10712\n",
      "\n",
      "    accuracy                           0.82     25271\n",
      "   macro avg       0.82      0.82      0.82     25271\n",
      "weighted avg       0.82      0.82      0.82     25271\n",
      "\n"
     ]
    }
   ],
   "source": [
    "from sklearn.metrics import classification_report \n",
    "\n",
    "# get classification report\n",
    "print(\"Passive Aggressive df12 tfidf classification report:\\n \", classification_report (Y_test_df12, y_pred_PassAgg_df12_tfidf))\n"
   ]
  },
  {
   "cell_type": "code",
   "execution_count": 91,
   "id": "9bcef2ec",
   "metadata": {
    "scrolled": true
   },
   "outputs": [
    {
     "name": "stdout",
     "output_type": "stream",
     "text": [
      "[[12280  2279]\n",
      " [ 2240  8472]]\n"
     ]
    }
   ],
   "source": [
    "# create confusion matrix\n",
    "cf_matrix_PassAgg_df12_tfidf = confusion_matrix(Y_test_df12, y_pred_PassAgg_df12_tfidf)\n",
    "print(cf_matrix_PassAgg_df12_tfidf)\n"
   ]
  },
  {
   "cell_type": "code",
   "execution_count": null,
   "id": "080e3665",
   "metadata": {},
   "outputs": [],
   "source": []
  },
  {
   "cell_type": "markdown",
   "id": "dd54fa0c",
   "metadata": {},
   "source": [
    "# 6b Passive Aggressive Classifier on text data df12 with class weights\n"
   ]
  },
  {
   "cell_type": "markdown",
   "id": "d9bea99f",
   "metadata": {},
   "source": [
    "Passive Aggressive Classifier Passive Aggressive algorithms are online learning algorithms. Such an algorithm remains passive for a correct classification outcome, and turns aggressive in the event of a miscalculation, updating and adjusting. Unlike most other algorithms, it does not converge. Its purpose is to make updates that correct the loss, causing very little change in the norm of the weight vector.\n"
   ]
  },
  {
   "cell_type": "code",
   "execution_count": 92,
   "id": "9a0b6809",
   "metadata": {},
   "outputs": [],
   "source": [
    "from sklearn.linear_model import PassiveAggressiveClassifier\n"
   ]
  },
  {
   "cell_type": "code",
   "execution_count": 93,
   "id": "09d4007a",
   "metadata": {},
   "outputs": [],
   "source": [
    "# Definiere die gewünschten Klassengewichte\n",
    "class_weights = {0: 1.0, 1: 1.38}  # Beispielwerte, die angepasst werden können\n"
   ]
  },
  {
   "cell_type": "code",
   "execution_count": 94,
   "id": "690af2d3",
   "metadata": {},
   "outputs": [],
   "source": [
    "# Initialize a PassiveAggressiveClassifier\n",
    "pac_df12_tfidf_CW = PassiveAggressiveClassifier(max_iter=50, class_weight=class_weights)\n"
   ]
  },
  {
   "cell_type": "code",
   "execution_count": 95,
   "id": "52d09cb6",
   "metadata": {},
   "outputs": [
    {
     "data": {
      "text/html": [
       "<style>#sk-container-id-8 {color: black;background-color: white;}#sk-container-id-8 pre{padding: 0;}#sk-container-id-8 div.sk-toggleable {background-color: white;}#sk-container-id-8 label.sk-toggleable__label {cursor: pointer;display: block;width: 100%;margin-bottom: 0;padding: 0.3em;box-sizing: border-box;text-align: center;}#sk-container-id-8 label.sk-toggleable__label-arrow:before {content: \"▸\";float: left;margin-right: 0.25em;color: #696969;}#sk-container-id-8 label.sk-toggleable__label-arrow:hover:before {color: black;}#sk-container-id-8 div.sk-estimator:hover label.sk-toggleable__label-arrow:before {color: black;}#sk-container-id-8 div.sk-toggleable__content {max-height: 0;max-width: 0;overflow: hidden;text-align: left;background-color: #f0f8ff;}#sk-container-id-8 div.sk-toggleable__content pre {margin: 0.2em;color: black;border-radius: 0.25em;background-color: #f0f8ff;}#sk-container-id-8 input.sk-toggleable__control:checked~div.sk-toggleable__content {max-height: 200px;max-width: 100%;overflow: auto;}#sk-container-id-8 input.sk-toggleable__control:checked~label.sk-toggleable__label-arrow:before {content: \"▾\";}#sk-container-id-8 div.sk-estimator input.sk-toggleable__control:checked~label.sk-toggleable__label {background-color: #d4ebff;}#sk-container-id-8 div.sk-label input.sk-toggleable__control:checked~label.sk-toggleable__label {background-color: #d4ebff;}#sk-container-id-8 input.sk-hidden--visually {border: 0;clip: rect(1px 1px 1px 1px);clip: rect(1px, 1px, 1px, 1px);height: 1px;margin: -1px;overflow: hidden;padding: 0;position: absolute;width: 1px;}#sk-container-id-8 div.sk-estimator {font-family: monospace;background-color: #f0f8ff;border: 1px dotted black;border-radius: 0.25em;box-sizing: border-box;margin-bottom: 0.5em;}#sk-container-id-8 div.sk-estimator:hover {background-color: #d4ebff;}#sk-container-id-8 div.sk-parallel-item::after {content: \"\";width: 100%;border-bottom: 1px solid gray;flex-grow: 1;}#sk-container-id-8 div.sk-label:hover label.sk-toggleable__label {background-color: #d4ebff;}#sk-container-id-8 div.sk-serial::before {content: \"\";position: absolute;border-left: 1px solid gray;box-sizing: border-box;top: 0;bottom: 0;left: 50%;z-index: 0;}#sk-container-id-8 div.sk-serial {display: flex;flex-direction: column;align-items: center;background-color: white;padding-right: 0.2em;padding-left: 0.2em;position: relative;}#sk-container-id-8 div.sk-item {position: relative;z-index: 1;}#sk-container-id-8 div.sk-parallel {display: flex;align-items: stretch;justify-content: center;background-color: white;position: relative;}#sk-container-id-8 div.sk-item::before, #sk-container-id-8 div.sk-parallel-item::before {content: \"\";position: absolute;border-left: 1px solid gray;box-sizing: border-box;top: 0;bottom: 0;left: 50%;z-index: -1;}#sk-container-id-8 div.sk-parallel-item {display: flex;flex-direction: column;z-index: 1;position: relative;background-color: white;}#sk-container-id-8 div.sk-parallel-item:first-child::after {align-self: flex-end;width: 50%;}#sk-container-id-8 div.sk-parallel-item:last-child::after {align-self: flex-start;width: 50%;}#sk-container-id-8 div.sk-parallel-item:only-child::after {width: 0;}#sk-container-id-8 div.sk-dashed-wrapped {border: 1px dashed gray;margin: 0 0.4em 0.5em 0.4em;box-sizing: border-box;padding-bottom: 0.4em;background-color: white;}#sk-container-id-8 div.sk-label label {font-family: monospace;font-weight: bold;display: inline-block;line-height: 1.2em;}#sk-container-id-8 div.sk-label-container {text-align: center;}#sk-container-id-8 div.sk-container {/* jupyter's `normalize.less` sets `[hidden] { display: none; }` but bootstrap.min.css set `[hidden] { display: none !important; }` so we also need the `!important` here to be able to override the default hidden behavior on the sphinx rendered scikit-learn.org. See: https://github.com/scikit-learn/scikit-learn/issues/21755 */display: inline-block !important;position: relative;}#sk-container-id-8 div.sk-text-repr-fallback {display: none;}</style><div id=\"sk-container-id-8\" class=\"sk-top-container\"><div class=\"sk-text-repr-fallback\"><pre>PassiveAggressiveClassifier(class_weight={0: 1.0, 1: 1.38}, max_iter=50)</pre><b>In a Jupyter environment, please rerun this cell to show the HTML representation or trust the notebook. <br />On GitHub, the HTML representation is unable to render, please try loading this page with nbviewer.org.</b></div><div class=\"sk-container\" hidden><div class=\"sk-item\"><div class=\"sk-estimator sk-toggleable\"><input class=\"sk-toggleable__control sk-hidden--visually\" id=\"sk-estimator-id-8\" type=\"checkbox\" checked><label for=\"sk-estimator-id-8\" class=\"sk-toggleable__label sk-toggleable__label-arrow\">PassiveAggressiveClassifier</label><div class=\"sk-toggleable__content\"><pre>PassiveAggressiveClassifier(class_weight={0: 1.0, 1: 1.38}, max_iter=50)</pre></div></div></div></div></div>"
      ],
      "text/plain": [
       "PassiveAggressiveClassifier(class_weight={0: 1.0, 1: 1.38}, max_iter=50)"
      ]
     },
     "execution_count": 95,
     "metadata": {},
     "output_type": "execute_result"
    }
   ],
   "source": [
    "# fit model\n",
    "pac_df12_tfidf_CW.fit(X_ro, y_ro)\n"
   ]
  },
  {
   "cell_type": "code",
   "execution_count": 96,
   "id": "af7daa42",
   "metadata": {},
   "outputs": [],
   "source": [
    "#Predict on the test set \n",
    "y_pred_PassAgg_df12_tfidf_CW = pac_df12_tfidf_CW.predict(X_test_text_df12_tfidf)\n"
   ]
  },
  {
   "cell_type": "code",
   "execution_count": 97,
   "id": "30af5698",
   "metadata": {},
   "outputs": [
    {
     "data": {
      "text/plain": [
       "0.8198725812195797"
      ]
     },
     "execution_count": 97,
     "metadata": {},
     "output_type": "execute_result"
    }
   ],
   "source": [
    "# get accuracy\n",
    "accuracy_PassAgg_df12_tfidf_CW = pac_df12_tfidf_CW.score(X_test_text_df12_tfidf, Y_test_df12)\n",
    "accuracy_PassAgg_df12_tfidf_CW\n",
    "\n",
    "# 0.82\n",
    "# no change\n"
   ]
  },
  {
   "cell_type": "code",
   "execution_count": 98,
   "id": "50078c7e",
   "metadata": {},
   "outputs": [
    {
     "data": {
      "text/plain": [
       "0.7878448918717375"
      ]
     },
     "execution_count": 98,
     "metadata": {},
     "output_type": "execute_result"
    }
   ],
   "source": [
    "# Evaluate the model with f1 score\n",
    "from sklearn.metrics import f1_score\n",
    "\n",
    "f1_PassAgg_df12_tfidf_CW = f1_score(Y_test_df12, y_pred_PassAgg_df12_tfidf_CW)\n",
    "f1_PassAgg_df12_tfidf_CW\n",
    "\n",
    "# 0.787\n",
    "# no change"
   ]
  },
  {
   "cell_type": "code",
   "execution_count": 99,
   "id": "96b96d7d",
   "metadata": {},
   "outputs": [
    {
     "data": {
      "text/html": [
       "<div>\n",
       "<style scoped>\n",
       "    .dataframe tbody tr th:only-of-type {\n",
       "        vertical-align: middle;\n",
       "    }\n",
       "\n",
       "    .dataframe tbody tr th {\n",
       "        vertical-align: top;\n",
       "    }\n",
       "\n",
       "    .dataframe thead th {\n",
       "        text-align: right;\n",
       "    }\n",
       "</style>\n",
       "<table border=\"1\" class=\"dataframe\">\n",
       "  <thead>\n",
       "    <tr style=\"text-align: right;\">\n",
       "      <th>predict</th>\n",
       "      <th>0.0</th>\n",
       "      <th>1.0</th>\n",
       "    </tr>\n",
       "    <tr>\n",
       "      <th>true</th>\n",
       "      <th></th>\n",
       "      <th></th>\n",
       "    </tr>\n",
       "  </thead>\n",
       "  <tbody>\n",
       "    <tr>\n",
       "      <th>0.0</th>\n",
       "      <td>12267</td>\n",
       "      <td>2292</td>\n",
       "    </tr>\n",
       "    <tr>\n",
       "      <th>1.0</th>\n",
       "      <td>2260</td>\n",
       "      <td>8452</td>\n",
       "    </tr>\n",
       "  </tbody>\n",
       "</table>\n",
       "</div>"
      ],
      "text/plain": [
       "predict    0.0   1.0\n",
       "true                \n",
       "0.0      12267  2292\n",
       "1.0       2260  8452"
      ]
     },
     "execution_count": 99,
     "metadata": {},
     "output_type": "execute_result"
    }
   ],
   "source": [
    "# get confusion matrix\n",
    "pd.crosstab(Y_test_df12, y_pred_PassAgg_df12_tfidf_CW, rownames=[\"true\"], colnames=[\"predict\"])\n",
    "\n",
    "# overall prediction is quite good, similar to prediction without class_weights"
   ]
  },
  {
   "cell_type": "code",
   "execution_count": 100,
   "id": "9b0a94ed",
   "metadata": {},
   "outputs": [
    {
     "name": "stdout",
     "output_type": "stream",
     "text": [
      "Passive Aggressive df12 tfidf with class weights classification report:\n",
      "                precision    recall  f1-score   support\n",
      "\n",
      "         0.0       0.84      0.84      0.84     14559\n",
      "         1.0       0.79      0.79      0.79     10712\n",
      "\n",
      "    accuracy                           0.82     25271\n",
      "   macro avg       0.82      0.82      0.82     25271\n",
      "weighted avg       0.82      0.82      0.82     25271\n",
      "\n"
     ]
    }
   ],
   "source": [
    "from sklearn.metrics import classification_report \n",
    "\n",
    "# get classification report\n",
    "print(\"Passive Aggressive df12 tfidf with class weights classification report:\\n \", classification_report (Y_test_df12, y_pred_PassAgg_df12_tfidf_CW))\n"
   ]
  },
  {
   "cell_type": "code",
   "execution_count": 101,
   "id": "83b0f616",
   "metadata": {},
   "outputs": [
    {
     "name": "stdout",
     "output_type": "stream",
     "text": [
      "[[12267  2292]\n",
      " [ 2260  8452]]\n"
     ]
    }
   ],
   "source": [
    "# create confusion matrix\n",
    "cf_matrix_PassAgg_df12_tfidf_CW = confusion_matrix(Y_test_df12, y_pred_PassAgg_df12_tfidf_CW)\n",
    "print(cf_matrix_PassAgg_df12_tfidf_CW)\n"
   ]
  },
  {
   "cell_type": "code",
   "execution_count": null,
   "id": "2b794981",
   "metadata": {},
   "outputs": [],
   "source": []
  },
  {
   "cell_type": "markdown",
   "id": "83b75554",
   "metadata": {},
   "source": [
    "# 7a LightGBM on text data df12 - 20 rounds"
   ]
  },
  {
   "cell_type": "code",
   "execution_count": 181,
   "id": "7c8b5ef5",
   "metadata": {},
   "outputs": [],
   "source": [
    "import lightgbm as lgb\n",
    "from sklearn.model_selection import train_test_split\n",
    "from sklearn.metrics import accuracy_score"
   ]
  },
  {
   "cell_type": "code",
   "execution_count": 182,
   "id": "25f080f5",
   "metadata": {},
   "outputs": [],
   "source": [
    "# Create a LightGBM dataset for training\n",
    "\n",
    "LightGMB_train_data_text_df12_tfidf = lgb.Dataset(X_ro, label=y_ro)\n",
    "\n",
    "# Set the hyperparameters for the LightGBM model\n",
    "paramsLightGBM_df12_tfidf = {\n",
    "    'boosting_type': 'gbdt',\n",
    "    'objective': 'binary',  # Set the appropriate objective for your classification task\n",
    "    'metric': 'binary_logloss',  # Set the appropriate metric for evaluation\n",
    "    'num_leaves': 31,\n",
    "    'learning_rate': 0.05,\n",
    "    'feature_fraction': 0.9,\n",
    "    'bagging_fraction': 0.8,\n",
    "    'bagging_freq': 5,\n",
    "    'verbose': 0\n",
    "}\n"
   ]
  },
  {
   "cell_type": "code",
   "execution_count": 183,
   "id": "6a9487ed",
   "metadata": {},
   "outputs": [
    {
     "name": "stdout",
     "output_type": "stream",
     "text": [
      "[LightGBM] [Warning] Auto-choosing row-wise multi-threading, the overhead of testing was 25.214561 seconds.\n",
      "You can set `force_row_wise=true` to remove the overhead.\n",
      "And if memory is not enough, you can set `force_col_wise=true`.\n"
     ]
    }
   ],
   "source": [
    "# Train the LightGBM model\n",
    "clf_LightGBM_df12_tfidf = lgb.train(paramsLightGBM_df12_tfidf, LightGMB_train_data_text_df12_tfidf, num_boost_round=20)\n",
    "\n",
    "# takes 3 minutes\n"
   ]
  },
  {
   "cell_type": "code",
   "execution_count": 184,
   "id": "5a87ab64",
   "metadata": {},
   "outputs": [],
   "source": [
    "# Make predictions on the test set\n",
    "y_pred_LightGBM_df12_tfidf = clf_LightGBM_df12_tfidf.predict(X_test_text_df12_tfidf)\n",
    "y_pred_LightGBM_df12_tfidf_binary = [round(pred) for pred in y_pred_LightGBM_df12_tfidf]  # Convert probability to binary predictions\n"
   ]
  },
  {
   "cell_type": "code",
   "execution_count": 185,
   "id": "e4b1098f",
   "metadata": {},
   "outputs": [
    {
     "name": "stdout",
     "output_type": "stream",
     "text": [
      "Accuracy LightGBM vect: 0.7505441019350243\n"
     ]
    }
   ],
   "source": [
    "# Evaluate the model with accuracy\n",
    "accuracy_LightGBM_df12_tfidf = accuracy_score(Y_test_df12, y_pred_LightGBM_df12_tfidf_binary)\n",
    "print(\"Accuracy LightGBM vect:\", accuracy_LightGBM_df12_tfidf)\n",
    "\n",
    "# 0.75\n",
    "# no change\n"
   ]
  },
  {
   "cell_type": "code",
   "execution_count": 108,
   "id": "7b206ff4",
   "metadata": {},
   "outputs": [
    {
     "data": {
      "text/plain": [
       "0.7142339075249321"
      ]
     },
     "execution_count": 108,
     "metadata": {},
     "output_type": "execute_result"
    }
   ],
   "source": [
    "# Evaluate the model with f1 score\n",
    "from sklearn.metrics import f1_score\n",
    "\n",
    "f1_LightGBM_df12_tfidf = f1_score(Y_test_df12, y_pred_LightGBM_df12_tfidf_binary)\n",
    "f1_LightGBM_df12_tfidf\n",
    "\n",
    "# 0.71\n",
    "# improvement\n"
   ]
  },
  {
   "cell_type": "code",
   "execution_count": 109,
   "id": "ef0d9268",
   "metadata": {},
   "outputs": [
    {
     "data": {
      "text/html": [
       "<div>\n",
       "<style scoped>\n",
       "    .dataframe tbody tr th:only-of-type {\n",
       "        vertical-align: middle;\n",
       "    }\n",
       "\n",
       "    .dataframe tbody tr th {\n",
       "        vertical-align: top;\n",
       "    }\n",
       "\n",
       "    .dataframe thead th {\n",
       "        text-align: right;\n",
       "    }\n",
       "</style>\n",
       "<table border=\"1\" class=\"dataframe\">\n",
       "  <thead>\n",
       "    <tr style=\"text-align: right;\">\n",
       "      <th>predict</th>\n",
       "      <th>0</th>\n",
       "      <th>1</th>\n",
       "    </tr>\n",
       "    <tr>\n",
       "      <th>true</th>\n",
       "      <th></th>\n",
       "      <th></th>\n",
       "    </tr>\n",
       "  </thead>\n",
       "  <tbody>\n",
       "    <tr>\n",
       "      <th>0.0</th>\n",
       "      <td>11089</td>\n",
       "      <td>3470</td>\n",
       "    </tr>\n",
       "    <tr>\n",
       "      <th>1.0</th>\n",
       "      <td>2834</td>\n",
       "      <td>7878</td>\n",
       "    </tr>\n",
       "  </tbody>\n",
       "</table>\n",
       "</div>"
      ],
      "text/plain": [
       "predict      0     1\n",
       "true                \n",
       "0.0      11089  3470\n",
       "1.0       2834  7878"
      ]
     },
     "execution_count": 109,
     "metadata": {},
     "output_type": "execute_result"
    }
   ],
   "source": [
    "# get confusion matrix\n",
    "pd.crosstab(Y_test_df12, y_pred_LightGBM_df12_tfidf_binary, rownames=[\"true\"], colnames=[\"predict\"])\n",
    "\n",
    "# overall prediction is quite good but no super good result for any of the cases"
   ]
  },
  {
   "cell_type": "code",
   "execution_count": 112,
   "id": "d8d846ff",
   "metadata": {},
   "outputs": [
    {
     "name": "stdout",
     "output_type": "stream",
     "text": [
      "Confusion Matrix:\n",
      " [[11089  3470]\n",
      " [ 2834  7878]]\n"
     ]
    }
   ],
   "source": [
    "# Evaluate Model with confusion matrix \n",
    "from sklearn.metrics import confusion_matrix \n",
    "\n",
    "cf_matrix_LightGBM_df12_tfidf = confusion_matrix(Y_test_df12, y_pred_LightGBM_df12_tfidf_binary)\n",
    "\n",
    "print(\"Confusion Matrix:\\n\",  cf_matrix_LightGBM_df12_tfidf)\n"
   ]
  },
  {
   "cell_type": "code",
   "execution_count": 113,
   "id": "aec94151",
   "metadata": {},
   "outputs": [
    {
     "name": "stdout",
     "output_type": "stream",
     "text": [
      "LightGBM df12 tfidf classification report:\n",
      "               precision    recall  f1-score   support\n",
      "\n",
      "         0.0       0.80      0.76      0.78     14559\n",
      "         1.0       0.69      0.74      0.71     10712\n",
      "\n",
      "    accuracy                           0.75     25271\n",
      "   macro avg       0.75      0.75      0.75     25271\n",
      "weighted avg       0.75      0.75      0.75     25271\n",
      "\n"
     ]
    }
   ],
   "source": [
    "# STEP 9: Evaluate model with classification report\n",
    "from sklearn.metrics import classification_report \n",
    "\n",
    "print(\"LightGBM df12 tfidf classification report:\\n\", classification_report (Y_test_df12, y_pred_LightGBM_df12_tfidf_binary))\n"
   ]
  },
  {
   "cell_type": "code",
   "execution_count": null,
   "id": "a8c35526",
   "metadata": {},
   "outputs": [],
   "source": []
  },
  {
   "cell_type": "markdown",
   "id": "eeced082",
   "metadata": {},
   "source": [
    "# 7b LightGBM on text data df12 - 200 rounds"
   ]
  },
  {
   "cell_type": "code",
   "execution_count": 114,
   "id": "10e33e0e",
   "metadata": {},
   "outputs": [],
   "source": [
    "import lightgbm as lgb\n",
    "from sklearn.model_selection import train_test_split\n",
    "from sklearn.metrics import accuracy_score"
   ]
  },
  {
   "cell_type": "code",
   "execution_count": 115,
   "id": "013245cb",
   "metadata": {},
   "outputs": [],
   "source": [
    "# Create a LightGBM dataset for training\n",
    "\n",
    "LightGMB_train_data_text_df12_tfidf = lgb.Dataset(X_ro, label=y_ro)\n",
    "\n",
    "# Set the hyperparameters for the LightGBM model\n",
    "paramsLightGBM_df12_tfidf = {\n",
    "    'boosting_type': 'gbdt',\n",
    "    'objective': 'binary',  # Set the appropriate objective for your classification task\n",
    "    'metric': 'binary_logloss',  # Set the appropriate metric for evaluation\n",
    "    'num_leaves': 31,\n",
    "    'learning_rate': 0.05,\n",
    "    'feature_fraction': 0.9,\n",
    "    'bagging_fraction': 0.8,\n",
    "    'bagging_freq': 5,\n",
    "    'verbose': 0\n",
    "}\n"
   ]
  },
  {
   "cell_type": "code",
   "execution_count": 116,
   "id": "1cf9f81f",
   "metadata": {},
   "outputs": [
    {
     "name": "stdout",
     "output_type": "stream",
     "text": [
      "[LightGBM] [Warning] Auto-choosing col-wise multi-threading, the overhead of testing was 25.975366 seconds.\n",
      "You can set `force_col_wise=true` to remove the overhead.\n"
     ]
    }
   ],
   "source": [
    "# Train the LightGBM model\n",
    "clf_LightGBM_df12_tfidf_200 = lgb.train(paramsLightGBM_df12_tfidf, LightGMB_train_data_text_df12_tfidf, num_boost_round=200)\n",
    "\n",
    "# takes 8 minutes\n"
   ]
  },
  {
   "cell_type": "code",
   "execution_count": 117,
   "id": "b389a389",
   "metadata": {},
   "outputs": [],
   "source": [
    "# Make predictions on the test set\n",
    "y_pred_LightGBM_df12_tfidf_200 = clf_LightGBM_df12_tfidf_200.predict(X_test_text_df12_tfidf)\n",
    "y_pred_LightGBM_df12_tfidf_200_binary = [round(pred) for pred in y_pred_LightGBM_df12_tfidf_200]  \n",
    "# Convert probability to binary predictions\n"
   ]
  },
  {
   "cell_type": "code",
   "execution_count": 118,
   "id": "10b00568",
   "metadata": {},
   "outputs": [
    {
     "name": "stdout",
     "output_type": "stream",
     "text": [
      "Accuracy LightGBM vect: 0.8362154247952198\n"
     ]
    }
   ],
   "source": [
    "# Evaluate the model with accuracy\n",
    "accuracy_LightGBM_df12_tfidf_200 = accuracy_score(Y_test_df12, y_pred_LightGBM_df12_tfidf_200_binary)\n",
    "print(\"Accuracy LightGBM vect:\", accuracy_LightGBM_df12_tfidf_200)\n",
    "\n",
    "# 0.836\n",
    "# slightly worse\n"
   ]
  },
  {
   "cell_type": "code",
   "execution_count": 119,
   "id": "9451040c",
   "metadata": {},
   "outputs": [
    {
     "data": {
      "text/plain": [
       "0.8088486583845196"
      ]
     },
     "execution_count": 119,
     "metadata": {},
     "output_type": "execute_result"
    }
   ],
   "source": [
    "# Evaluate the model with f1 score\n",
    "from sklearn.metrics import f1_score\n",
    "\n",
    "f1_LightGBM_df12_tfidf_200 = f1_score(Y_test_df12, y_pred_LightGBM_df12_tfidf_200_binary)\n",
    "f1_LightGBM_df12_tfidf_200\n",
    "\n",
    "# 0.80\n",
    "# no change\n"
   ]
  },
  {
   "cell_type": "code",
   "execution_count": 120,
   "id": "6bfa7000",
   "metadata": {},
   "outputs": [
    {
     "data": {
      "text/html": [
       "<div>\n",
       "<style scoped>\n",
       "    .dataframe tbody tr th:only-of-type {\n",
       "        vertical-align: middle;\n",
       "    }\n",
       "\n",
       "    .dataframe tbody tr th {\n",
       "        vertical-align: top;\n",
       "    }\n",
       "\n",
       "    .dataframe thead th {\n",
       "        text-align: right;\n",
       "    }\n",
       "</style>\n",
       "<table border=\"1\" class=\"dataframe\">\n",
       "  <thead>\n",
       "    <tr style=\"text-align: right;\">\n",
       "      <th>predict</th>\n",
       "      <th>0</th>\n",
       "      <th>1</th>\n",
       "    </tr>\n",
       "    <tr>\n",
       "      <th>true</th>\n",
       "      <th></th>\n",
       "      <th></th>\n",
       "    </tr>\n",
       "  </thead>\n",
       "  <tbody>\n",
       "    <tr>\n",
       "      <th>0.0</th>\n",
       "      <td>12375</td>\n",
       "      <td>2184</td>\n",
       "    </tr>\n",
       "    <tr>\n",
       "      <th>1.0</th>\n",
       "      <td>1955</td>\n",
       "      <td>8757</td>\n",
       "    </tr>\n",
       "  </tbody>\n",
       "</table>\n",
       "</div>"
      ],
      "text/plain": [
       "predict      0     1\n",
       "true                \n",
       "0.0      12375  2184\n",
       "1.0       1955  8757"
      ]
     },
     "execution_count": 120,
     "metadata": {},
     "output_type": "execute_result"
    }
   ],
   "source": [
    "# get confusion matrix\n",
    "pd.crosstab(Y_test_df12, y_pred_LightGBM_df12_tfidf_200_binary, rownames=[\"true\"], colnames=[\"predict\"])\n",
    "\n",
    "# overall prediction is quite good but no super good result for any of the cases"
   ]
  },
  {
   "cell_type": "code",
   "execution_count": 121,
   "id": "774ca83d",
   "metadata": {},
   "outputs": [
    {
     "name": "stdout",
     "output_type": "stream",
     "text": [
      "Confusion Matrix:\n",
      " [[12375  2184]\n",
      " [ 1955  8757]]\n"
     ]
    }
   ],
   "source": [
    "# Evaluate Model with confusion matrix \n",
    "from sklearn.metrics import confusion_matrix \n",
    "\n",
    "cf_matrix_LightGBM_df12_tfidf_200 = confusion_matrix(Y_test_df12, y_pred_LightGBM_df12_tfidf_200_binary)\n",
    "\n",
    "print(\"Confusion Matrix:\\n\",  cf_matrix_LightGBM_df12_tfidf_200)\n"
   ]
  },
  {
   "cell_type": "code",
   "execution_count": 122,
   "id": "4d40978a",
   "metadata": {},
   "outputs": [
    {
     "name": "stdout",
     "output_type": "stream",
     "text": [
      "LightGBM df12 tfidf 200 classification report:\n",
      "               precision    recall  f1-score   support\n",
      "\n",
      "         0.0       0.86      0.85      0.86     14559\n",
      "         1.0       0.80      0.82      0.81     10712\n",
      "\n",
      "    accuracy                           0.84     25271\n",
      "   macro avg       0.83      0.83      0.83     25271\n",
      "weighted avg       0.84      0.84      0.84     25271\n",
      "\n"
     ]
    }
   ],
   "source": [
    "# Evaluate model with classification report\n",
    "from sklearn.metrics import classification_report \n",
    "\n",
    "print(\"LightGBM df12 tfidf 200 classification report:\\n\", classification_report (Y_test_df12, y_pred_LightGBM_df12_tfidf_200_binary))\n"
   ]
  },
  {
   "cell_type": "code",
   "execution_count": null,
   "id": "f8687c79",
   "metadata": {},
   "outputs": [],
   "source": []
  },
  {
   "cell_type": "markdown",
   "id": "5b78c49d",
   "metadata": {},
   "source": [
    "# 7c LightGBM on text data df12 - 500 rounds\n"
   ]
  },
  {
   "cell_type": "code",
   "execution_count": 186,
   "id": "9d85b2d7",
   "metadata": {},
   "outputs": [],
   "source": [
    "# import lightgbm as lgb\n",
    "from sklearn.model_selection import train_test_split\n",
    "from sklearn.metrics import accuracy_score"
   ]
  },
  {
   "cell_type": "code",
   "execution_count": 187,
   "id": "2da7cff9",
   "metadata": {},
   "outputs": [],
   "source": [
    "# Create a LightGBM dataset for training\n",
    "\n",
    "LightGMB_train_data_text_df12_tfidf = lgb.Dataset(X_ro, label=y_ro)\n",
    "\n",
    "# Set the hyperparameters for the LightGBM model\n",
    "paramsLightGBM_df12_tfidf = {\n",
    "    'boosting_type': 'gbdt',\n",
    "    'objective': 'binary',  # Set the appropriate objective for your classification task\n",
    "    'metric': 'binary_logloss',  # Set the appropriate metric for evaluation\n",
    "    'num_leaves': 31,\n",
    "    'learning_rate': 0.05,\n",
    "    'feature_fraction': 0.9,\n",
    "    'bagging_fraction': 0.8,\n",
    "    'bagging_freq': 5,\n",
    "    'verbose': 0\n",
    "}\n"
   ]
  },
  {
   "cell_type": "code",
   "execution_count": 188,
   "id": "0099feda",
   "metadata": {},
   "outputs": [
    {
     "name": "stdout",
     "output_type": "stream",
     "text": [
      "[LightGBM] [Warning] Auto-choosing row-wise multi-threading, the overhead of testing was 34.092873 seconds.\n",
      "You can set `force_row_wise=true` to remove the overhead.\n",
      "And if memory is not enough, you can set `force_col_wise=true`.\n"
     ]
    }
   ],
   "source": [
    "# Train the LightGBM model\n",
    "clf_LightGBM_df12_tfidf_500 = lgb.train(paramsLightGBM_df12_tfidf, LightGMB_train_data_text_df12_tfidf, num_boost_round=500)\n",
    "\n",
    "# takes 16 minutes\n"
   ]
  },
  {
   "cell_type": "code",
   "execution_count": 189,
   "id": "f7eb9591",
   "metadata": {},
   "outputs": [],
   "source": [
    "# Make predictions on the test set\n",
    "y_pred_LightGBM_df12_tfidf_500 = clf_LightGBM_df12_tfidf_500.predict(X_test_text_df12_tfidf)\n",
    "y_pred_LightGBM_df12_tfidf_500_binary = [round(pred) for pred in y_pred_LightGBM_df12_tfidf_500]  \n",
    "# Convert probability to binary predictions\n"
   ]
  },
  {
   "cell_type": "code",
   "execution_count": 206,
   "id": "0bc9c597",
   "metadata": {},
   "outputs": [
    {
     "name": "stdout",
     "output_type": "stream",
     "text": [
      "Accuracy LightGBM vect: 0.8608286177832298\n"
     ]
    }
   ],
   "source": [
    "# Evaluate the model with accuracy\n",
    "accuracy_LightGBM_df12_tfidf_500 = accuracy_score(Y_test_df12, y_pred_LightGBM_df12_tfidf_500_binary)\n",
    "print(\"Accuracy LightGBM vect:\", accuracy_LightGBM_df12_tfidf_500)\n",
    "\n",
    "# 0.86\n",
    "# no change\n"
   ]
  },
  {
   "cell_type": "code",
   "execution_count": 207,
   "id": "97cbbc9c",
   "metadata": {},
   "outputs": [
    {
     "data": {
      "text/plain": [
       "0.8367147964158038"
      ]
     },
     "execution_count": 207,
     "metadata": {},
     "output_type": "execute_result"
    }
   ],
   "source": [
    "# Evaluate the model with f1 score\n",
    "# from sklearn.metrics import f1_score\n",
    "\n",
    "f1_LightGBM_df12_tfidf_500 = f1_score(Y_test_df12, y_pred_LightGBM_df12_tfidf_500_binary)\n",
    "f1_LightGBM_df12_tfidf_500\n",
    "\n",
    "# 0.836\n",
    "# no change\n"
   ]
  },
  {
   "cell_type": "code",
   "execution_count": 192,
   "id": "742c4ab5",
   "metadata": {},
   "outputs": [
    {
     "data": {
      "text/html": [
       "<div>\n",
       "<style scoped>\n",
       "    .dataframe tbody tr th:only-of-type {\n",
       "        vertical-align: middle;\n",
       "    }\n",
       "\n",
       "    .dataframe tbody tr th {\n",
       "        vertical-align: top;\n",
       "    }\n",
       "\n",
       "    .dataframe thead th {\n",
       "        text-align: right;\n",
       "    }\n",
       "</style>\n",
       "<table border=\"1\" class=\"dataframe\">\n",
       "  <thead>\n",
       "    <tr style=\"text-align: right;\">\n",
       "      <th>predict</th>\n",
       "      <th>0</th>\n",
       "      <th>1</th>\n",
       "    </tr>\n",
       "    <tr>\n",
       "      <th>true</th>\n",
       "      <th></th>\n",
       "      <th></th>\n",
       "    </tr>\n",
       "  </thead>\n",
       "  <tbody>\n",
       "    <tr>\n",
       "      <th>0.0</th>\n",
       "      <td>12743</td>\n",
       "      <td>1816</td>\n",
       "    </tr>\n",
       "    <tr>\n",
       "      <th>1.0</th>\n",
       "      <td>1701</td>\n",
       "      <td>9011</td>\n",
       "    </tr>\n",
       "  </tbody>\n",
       "</table>\n",
       "</div>"
      ],
      "text/plain": [
       "predict      0     1\n",
       "true                \n",
       "0.0      12743  1816\n",
       "1.0       1701  9011"
      ]
     },
     "execution_count": 192,
     "metadata": {},
     "output_type": "execute_result"
    }
   ],
   "source": [
    "# get confusion matrix\n",
    "pd.crosstab(Y_test_df12, y_pred_LightGBM_df12_tfidf_500_binary, rownames=[\"true\"], colnames=[\"predict\"])\n",
    "\n",
    "# overall prediction is quite good but no super good result for any of the cases"
   ]
  },
  {
   "cell_type": "code",
   "execution_count": 193,
   "id": "1fc3ad04",
   "metadata": {},
   "outputs": [
    {
     "name": "stdout",
     "output_type": "stream",
     "text": [
      "Confusion Matrix:\n",
      " [[12743  1816]\n",
      " [ 1701  9011]]\n"
     ]
    }
   ],
   "source": [
    "# Evaluate Model with confusion matrix \n",
    "from sklearn.metrics import confusion_matrix \n",
    "\n",
    "cf_matrix_LightGBM_df12_tfidf_500 = confusion_matrix(Y_test_df12, y_pred_LightGBM_df12_tfidf_500_binary)\n",
    "\n",
    "print(\"Confusion Matrix:\\n\",  cf_matrix_LightGBM_df12_tfidf_500)\n"
   ]
  },
  {
   "cell_type": "code",
   "execution_count": 194,
   "id": "d711777f",
   "metadata": {},
   "outputs": [
    {
     "name": "stdout",
     "output_type": "stream",
     "text": [
      "LightGBM df12 tfidf 500 classification report:\n",
      "               precision    recall  f1-score   support\n",
      "\n",
      "         0.0       0.88      0.88      0.88     14559\n",
      "         1.0       0.83      0.84      0.84     10712\n",
      "\n",
      "    accuracy                           0.86     25271\n",
      "   macro avg       0.86      0.86      0.86     25271\n",
      "weighted avg       0.86      0.86      0.86     25271\n",
      "\n"
     ]
    }
   ],
   "source": [
    "# Evaluate model with classification report\n",
    "from sklearn.metrics import classification_report \n",
    "\n",
    "print(\"LightGBM df12 tfidf 500 classification report:\\n\", classification_report (Y_test_df12, y_pred_LightGBM_df12_tfidf_500_binary))\n"
   ]
  },
  {
   "cell_type": "code",
   "execution_count": null,
   "id": "6b624042",
   "metadata": {},
   "outputs": [],
   "source": []
  },
  {
   "cell_type": "markdown",
   "id": "8a5f85d2",
   "metadata": {},
   "source": [
    "# 7d LightGBM on text data df12 - 500 rounds and class weights\n",
    "# takes too long"
   ]
  },
  {
   "cell_type": "code",
   "execution_count": 247,
   "id": "6f3b0a8e",
   "metadata": {},
   "outputs": [],
   "source": [
    "# import lightgbm as lgb\n",
    "# from sklearn.model_selection import train_test_split\n",
    "# from sklearn.metrics import accuracy_score"
   ]
  },
  {
   "cell_type": "code",
   "execution_count": 248,
   "id": "5fa40777",
   "metadata": {},
   "outputs": [],
   "source": [
    "# Definiere die gewünschten Klassengewichte\n",
    "# class_weights_LIGHTGBM = [1.0, 1.38]  # Beispielwerte, die angepasst werden können\n"
   ]
  },
  {
   "cell_type": "code",
   "execution_count": 249,
   "id": "409a1dcf",
   "metadata": {},
   "outputs": [],
   "source": [
    "# Create a LightGBM dataset for training\n",
    "\n",
    "# LightGMB_train_data_text_df12_tfidf = lgb.Dataset(X_train_text_df12_tfidf, label=Y_train_df12)\n",
    "\n",
    "# Set the hyperparameters for the LightGBM model\n",
    "# paramsLightGBM_df12_tfidf_CW = {\n",
    "#    'boosting_type': 'gbdt',\n",
    "#    'objective': 'binary',  # Set the appropriate objective for your classification task\n",
    "#    'metric': 'binary_logloss',  # Set the appropriate metric for evaluation\n",
    "#    'num_leaves': 31,\n",
    "#    'learning_rate': 0.05,\n",
    "#    'feature_fraction': 0.9,\n",
    "#    'bagging_fraction': 0.8,\n",
    "#    'bagging_freq': 5,\n",
    "#    'verbose': 0,\n",
    "#    'class_weight': class_weights_LIGHTGBM\n",
    "#}\n"
   ]
  },
  {
   "cell_type": "code",
   "execution_count": 250,
   "id": "eb965294",
   "metadata": {},
   "outputs": [
    {
     "name": "stdout",
     "output_type": "stream",
     "text": [
      "[LightGBM] [Warning] Unknown parameter: class_weight\n",
      "[LightGBM] [Warning] Unknown parameter: class_weight\n",
      "[LightGBM] [Warning] Auto-choosing col-wise multi-threading, the overhead of testing was 21.648599 seconds.\n",
      "You can set `force_col_wise=true` to remove the overhead.\n"
     ]
    }
   ],
   "source": [
    "# Train the LightGBM model\n",
    "#clf_LightGBM_df12_tfidf_500_CW = lgb.train(paramsLightGBM_df12_tfidf_CW, LightGMB_train_data_text_df12_tfidf, num_boost_round=500)\n",
    "\n",
    "# takes 15 minutes\n"
   ]
  },
  {
   "cell_type": "code",
   "execution_count": 251,
   "id": "b24252d9",
   "metadata": {},
   "outputs": [],
   "source": [
    "# Make predictions on the test set\n",
    "#y_pred_LightGBM_df12_tfidf_500_CW = clf_LightGBM_df12_tfidf_500_CW.predict(X_test_text_df12_tfidf)\n",
    "#y_pred_LightGBM_df12_tfidf_500_CW_binary = [round(pred) for pred in y_pred_LightGBM_df12_tfidf_500_CW]  \n",
    "# Convert probability to binary predictions\n"
   ]
  },
  {
   "cell_type": "code",
   "execution_count": 253,
   "id": "ca28d970",
   "metadata": {},
   "outputs": [
    {
     "name": "stdout",
     "output_type": "stream",
     "text": [
      "Accuracy LightGBM vect: 0.8667247042064026\n"
     ]
    }
   ],
   "source": [
    "# Evaluate the model with accuracy\n",
    "#accuracy_LightGBM_df12_tfidf_500_CW = accuracy_score(Y_test_df12, y_pred_LightGBM_df12_tfidf_500_CW_binary)\n",
    "#print(\"Accuracy LightGBM vect:\", accuracy_LightGBM_df12_tfidf_500_CW)\n",
    "\n",
    "# 0.8667\n"
   ]
  },
  {
   "cell_type": "code",
   "execution_count": 254,
   "id": "4eeebbd5",
   "metadata": {},
   "outputs": [
    {
     "data": {
      "text/plain": [
       "0.8366792745611483"
      ]
     },
     "execution_count": 254,
     "metadata": {},
     "output_type": "execute_result"
    }
   ],
   "source": [
    "# Evaluate the model with f1 score\n",
    "#from sklearn.metrics import f1_score\n",
    "\n",
    "#f1_LightGBM_df12_tfidf_500_CW = f1_score(Y_test_df12, y_pred_LightGBM_df12_tfidf_500_CW_binary)\n",
    "#f1_LightGBM_df12_tfidf_500_CW\n",
    "\n",
    "# 0.8366\n"
   ]
  },
  {
   "cell_type": "code",
   "execution_count": 255,
   "id": "9fdaacd4",
   "metadata": {},
   "outputs": [
    {
     "data": {
      "text/html": [
       "<div>\n",
       "<style scoped>\n",
       "    .dataframe tbody tr th:only-of-type {\n",
       "        vertical-align: middle;\n",
       "    }\n",
       "\n",
       "    .dataframe tbody tr th {\n",
       "        vertical-align: top;\n",
       "    }\n",
       "\n",
       "    .dataframe thead th {\n",
       "        text-align: right;\n",
       "    }\n",
       "</style>\n",
       "<table border=\"1\" class=\"dataframe\">\n",
       "  <thead>\n",
       "    <tr style=\"text-align: right;\">\n",
       "      <th>predict</th>\n",
       "      <th>0</th>\n",
       "      <th>1</th>\n",
       "    </tr>\n",
       "    <tr>\n",
       "      <th>true</th>\n",
       "      <th></th>\n",
       "      <th></th>\n",
       "    </tr>\n",
       "  </thead>\n",
       "  <tbody>\n",
       "    <tr>\n",
       "      <th>0.0</th>\n",
       "      <td>13276</td>\n",
       "      <td>1332</td>\n",
       "    </tr>\n",
       "    <tr>\n",
       "      <th>1.0</th>\n",
       "      <td>2036</td>\n",
       "      <td>8627</td>\n",
       "    </tr>\n",
       "  </tbody>\n",
       "</table>\n",
       "</div>"
      ],
      "text/plain": [
       "predict      0     1\n",
       "true                \n",
       "0.0      13276  1332\n",
       "1.0       2036  8627"
      ]
     },
     "execution_count": 255,
     "metadata": {},
     "output_type": "execute_result"
    }
   ],
   "source": [
    "# get confusion matrix\n",
    "#pd.crosstab(Y_test_df12, y_pred_LightGBM_df12_tfidf_500_CW_binary, rownames=[\"true\"], colnames=[\"predict\"])\n"
   ]
  },
  {
   "cell_type": "code",
   "execution_count": 256,
   "id": "ed6f9739",
   "metadata": {},
   "outputs": [
    {
     "name": "stdout",
     "output_type": "stream",
     "text": [
      "Confusion Matrix:\n",
      " [[13276  1332]\n",
      " [ 2036  8627]]\n"
     ]
    }
   ],
   "source": [
    "# Evaluate Model with confusion matrix \n",
    "#from sklearn.metrics import confusion_matrix \n",
    "\n",
    "#cf_matrix_LightGBM_df12_tfidf_500_CW = confusion_matrix(Y_test_df12, y_pred_LightGBM_df12_tfidf_500_CW_binary)\n",
    "\n",
    "#print(\"Confusion Matrix:\\n\",  cf_matrix_LightGBM_df12_tfidf_500_CW)\n"
   ]
  },
  {
   "cell_type": "code",
   "execution_count": 257,
   "id": "81e8333a",
   "metadata": {},
   "outputs": [
    {
     "name": "stdout",
     "output_type": "stream",
     "text": [
      "LightGBM df12 tfidf 500 with class weight classification report:\n",
      "               precision    recall  f1-score   support\n",
      "\n",
      "         0.0       0.87      0.91      0.89     14608\n",
      "         1.0       0.87      0.81      0.84     10663\n",
      "\n",
      "    accuracy                           0.87     25271\n",
      "   macro avg       0.87      0.86      0.86     25271\n",
      "weighted avg       0.87      0.87      0.87     25271\n",
      "\n"
     ]
    }
   ],
   "source": [
    "# Evaluate model with classification report\n",
    "#from sklearn.metrics import classification_report \n",
    "\n",
    "#print(\"LightGBM df12 tfidf 500 with class weight classification report:\\n\", classification_report (Y_test_df12, y_pred_LightGBM_df12_tfidf_500_CW_binary))\n"
   ]
  },
  {
   "cell_type": "code",
   "execution_count": null,
   "id": "71980e10",
   "metadata": {},
   "outputs": [],
   "source": []
  },
  {
   "cell_type": "markdown",
   "id": "5f4546fd",
   "metadata": {},
   "source": [
    "# 8a CatBoost on text data df12 - 20 rounds\n",
    "# takes too long"
   ]
  },
  {
   "cell_type": "code",
   "execution_count": 195,
   "id": "6453d914",
   "metadata": {},
   "outputs": [],
   "source": [
    "# import catboost as cb\n",
    "# from sklearn.model_selection import train_test_split\n",
    "# from sklearn.metrics import accuracy_score\n",
    "\n",
    "# Create a CatBoost classifier object\n",
    "# catboost_df12_tfidf = cb.CatBoostClassifier(iterations=20, learning_rate=0.1, depth=6, loss_function='Logloss')\n"
   ]
  },
  {
   "cell_type": "code",
   "execution_count": null,
   "id": "19976daf",
   "metadata": {},
   "outputs": [],
   "source": [
    "# Fit the model on the training data\n",
    "# catboost_df12_tfidf.fit(X_ro, y_ro)\n",
    "\n",
    "# takes 15 minutes for 20 iterations\n"
   ]
  },
  {
   "cell_type": "code",
   "execution_count": 92,
   "id": "f7c26dd8",
   "metadata": {},
   "outputs": [
    {
     "data": {
      "text/plain": [
       "0.750029678287365"
      ]
     },
     "execution_count": 92,
     "metadata": {},
     "output_type": "execute_result"
    }
   ],
   "source": [
    "# get accuracy\n",
    "# accuracy_CatBoost_df12_tfidf = catboost_df12_tfidf.score(X_test_text_df12_tfidf, Y_test_df12)\n",
    "# accuracy_CatBoost_df12_tfidf\n",
    "\n",
    "# 0.75 for 20 iterations\n"
   ]
  },
  {
   "cell_type": "code",
   "execution_count": 93,
   "id": "b1962a90",
   "metadata": {},
   "outputs": [],
   "source": [
    "# Make predictions on the test data\n",
    "# y_pred_CatBoost_df12_tfidf = catboost_df12_tfidf.predict(X_test_text_df12_tfidf)\n"
   ]
  },
  {
   "cell_type": "code",
   "execution_count": 94,
   "id": "39aba74d",
   "metadata": {},
   "outputs": [
    {
     "data": {
      "text/plain": [
       "0.6664554622736153"
      ]
     },
     "execution_count": 94,
     "metadata": {},
     "output_type": "execute_result"
    }
   ],
   "source": [
    "# Evaluate the model with f1 score\n",
    "# from sklearn.metrics import f1_score\n",
    "\n",
    "# f1_CatBoost_df12_tfidf = f1_score(Y_test_df12, y_pred_CatBoost_df12_tfidf)\n",
    "# f1_CatBoost_df12_tfidf\n",
    "\n",
    "# 0.666 for 20 iterations\n"
   ]
  },
  {
   "cell_type": "code",
   "execution_count": 98,
   "id": "18b0b938",
   "metadata": {},
   "outputs": [
    {
     "data": {
      "text/html": [
       "<div>\n",
       "<style scoped>\n",
       "    .dataframe tbody tr th:only-of-type {\n",
       "        vertical-align: middle;\n",
       "    }\n",
       "\n",
       "    .dataframe tbody tr th {\n",
       "        vertical-align: top;\n",
       "    }\n",
       "\n",
       "    .dataframe thead th {\n",
       "        text-align: right;\n",
       "    }\n",
       "</style>\n",
       "<table border=\"1\" class=\"dataframe\">\n",
       "  <thead>\n",
       "    <tr style=\"text-align: right;\">\n",
       "      <th>predict</th>\n",
       "      <th>0.0</th>\n",
       "      <th>1.0</th>\n",
       "    </tr>\n",
       "    <tr>\n",
       "      <th>true</th>\n",
       "      <th></th>\n",
       "      <th></th>\n",
       "    </tr>\n",
       "  </thead>\n",
       "  <tbody>\n",
       "    <tr>\n",
       "      <th>0.0</th>\n",
       "      <td>12643</td>\n",
       "      <td>1965</td>\n",
       "    </tr>\n",
       "    <tr>\n",
       "      <th>1.0</th>\n",
       "      <td>4352</td>\n",
       "      <td>6311</td>\n",
       "    </tr>\n",
       "  </tbody>\n",
       "</table>\n",
       "</div>"
      ],
      "text/plain": [
       "predict    0.0   1.0\n",
       "true                \n",
       "0.0      12643  1965\n",
       "1.0       4352  6311"
      ]
     },
     "execution_count": 98,
     "metadata": {},
     "output_type": "execute_result"
    }
   ],
   "source": [
    "# Get crosstab\n",
    "# pd.crosstab(Y_test_df12, y_pred_CatBoost_df12_tfidf, rownames=[\"true\"], colnames=[\"predict\"])\n",
    "\n",
    "# overall prediction is quite good but no super good result for any of the cases"
   ]
  },
  {
   "cell_type": "code",
   "execution_count": 99,
   "id": "cf022fb0",
   "metadata": {},
   "outputs": [
    {
     "name": "stdout",
     "output_type": "stream",
     "text": [
      "CatBoost df12 tfidf classification report:\n",
      "                precision    recall  f1-score   support\n",
      "\n",
      "         0.0       0.74      0.87      0.80     14608\n",
      "         1.0       0.76      0.59      0.67     10663\n",
      "\n",
      "    accuracy                           0.75     25271\n",
      "   macro avg       0.75      0.73      0.73     25271\n",
      "weighted avg       0.75      0.75      0.74     25271\n",
      "\n"
     ]
    }
   ],
   "source": [
    "# from sklearn.metrics import classification_report \n",
    "\n",
    "# get classification report\n",
    "# print(\"CatBoost df12 tfidf classification report:\\n \", classification_report (Y_test_df12, y_pred_CatBoost_df12_tfidf))\n"
   ]
  },
  {
   "cell_type": "code",
   "execution_count": 100,
   "id": "ea25d4ce",
   "metadata": {
    "scrolled": true
   },
   "outputs": [
    {
     "name": "stdout",
     "output_type": "stream",
     "text": [
      "[[12643  1965]\n",
      " [ 4352  6311]]\n"
     ]
    }
   ],
   "source": [
    "# create confusion matrix\n",
    "# cf_matrix_CatBoost_df12_tfidf = confusion_matrix(Y_test_df12, y_pred_CatBoost_df12_tfidf)\n",
    "# print(cf_matrix_CatBoost_df12_tfidf)\n"
   ]
  },
  {
   "cell_type": "code",
   "execution_count": null,
   "id": "8e5827ae",
   "metadata": {},
   "outputs": [],
   "source": []
  },
  {
   "cell_type": "markdown",
   "id": "354185a9",
   "metadata": {},
   "source": [
    "# 8b CatBoost on text data df12 - 50 rounds\n",
    "# takes too long"
   ]
  },
  {
   "cell_type": "code",
   "execution_count": 179,
   "id": "6413c138",
   "metadata": {},
   "outputs": [],
   "source": [
    "# import catboost as cb\n",
    "# from sklearn.model_selection import train_test_split\n",
    "# from sklearn.metrics import accuracy_score\n",
    "\n",
    "# Create a CatBoost classifier object\n",
    "# catboost_df12_tfidf_50 = cb.CatBoostClassifier(iterations=50, learning_rate=0.1, depth=6, loss_function='Logloss')\n"
   ]
  },
  {
   "cell_type": "code",
   "execution_count": null,
   "id": "9a176d03",
   "metadata": {},
   "outputs": [],
   "source": [
    "# Fit the model on the training data\n",
    "# catboost_df12_tfidf_50.fit(X_ro, y_ro)\n",
    "\n",
    "# takes 20 minutes for 50 iterations\n"
   ]
  },
  {
   "cell_type": "code",
   "execution_count": null,
   "id": "233a632a",
   "metadata": {},
   "outputs": [],
   "source": [
    "# get accuracy\n",
    "# accuracy_CatBoost_df12_tfidf_50 = catboost_df12_tfidf_50.score(X_test_text_df12_tfidf, Y_test_df12)\n",
    "# accuracy_CatBoost_df12_tfidf_50\n",
    "\n",
    "# 0.78 for 50 iterations\n"
   ]
  },
  {
   "cell_type": "code",
   "execution_count": 241,
   "id": "caef0079",
   "metadata": {},
   "outputs": [],
   "source": [
    "# Make predictions on the test data\n",
    "# y_pred_CatBoost_df12_tfidf_50 = catboost_df12_tfidf_50.predict(X_test_text_df12_tfidf)\n"
   ]
  },
  {
   "cell_type": "code",
   "execution_count": 242,
   "id": "5404880f",
   "metadata": {},
   "outputs": [
    {
     "data": {
      "text/plain": [
       "0.7140557661353134"
      ]
     },
     "execution_count": 242,
     "metadata": {},
     "output_type": "execute_result"
    }
   ],
   "source": [
    "# Evaluate the model with f1 score\n",
    "# from sklearn.metrics import f1_score\n",
    "\n",
    "# f1_CatBoost_df12_tfidf_50 = f1_score(Y_test_df12, y_pred_CatBoost_df12_tfidf_50)\n",
    "# f1_CatBoost_df12_tfidf_50\n",
    "\n",
    "#  0.71 for 50 iterations\n"
   ]
  },
  {
   "cell_type": "code",
   "execution_count": 243,
   "id": "0e635469",
   "metadata": {},
   "outputs": [
    {
     "data": {
      "text/html": [
       "<div>\n",
       "<style scoped>\n",
       "    .dataframe tbody tr th:only-of-type {\n",
       "        vertical-align: middle;\n",
       "    }\n",
       "\n",
       "    .dataframe tbody tr th {\n",
       "        vertical-align: top;\n",
       "    }\n",
       "\n",
       "    .dataframe thead th {\n",
       "        text-align: right;\n",
       "    }\n",
       "</style>\n",
       "<table border=\"1\" class=\"dataframe\">\n",
       "  <thead>\n",
       "    <tr style=\"text-align: right;\">\n",
       "      <th>predict</th>\n",
       "      <th>0.0</th>\n",
       "      <th>1.0</th>\n",
       "    </tr>\n",
       "    <tr>\n",
       "      <th>true</th>\n",
       "      <th></th>\n",
       "      <th></th>\n",
       "    </tr>\n",
       "  </thead>\n",
       "  <tbody>\n",
       "    <tr>\n",
       "      <th>0.0</th>\n",
       "      <td>12888</td>\n",
       "      <td>1720</td>\n",
       "    </tr>\n",
       "    <tr>\n",
       "      <th>1.0</th>\n",
       "      <td>3787</td>\n",
       "      <td>6876</td>\n",
       "    </tr>\n",
       "  </tbody>\n",
       "</table>\n",
       "</div>"
      ],
      "text/plain": [
       "predict    0.0   1.0\n",
       "true                \n",
       "0.0      12888  1720\n",
       "1.0       3787  6876"
      ]
     },
     "execution_count": 243,
     "metadata": {},
     "output_type": "execute_result"
    }
   ],
   "source": [
    "# Get crosstab\n",
    "# pd.crosstab(Y_test_df12, y_pred_CatBoost_df12_tfidf_50, rownames=[\"true\"], colnames=[\"predict\"])\n"
   ]
  },
  {
   "cell_type": "code",
   "execution_count": 244,
   "id": "b68ab77c",
   "metadata": {},
   "outputs": [
    {
     "name": "stdout",
     "output_type": "stream",
     "text": [
      "CatBoost df12 tfidf 50 classification report:\n",
      "                precision    recall  f1-score   support\n",
      "\n",
      "         0.0       0.77      0.88      0.82     14608\n",
      "         1.0       0.80      0.64      0.71     10663\n",
      "\n",
      "    accuracy                           0.78     25271\n",
      "   macro avg       0.79      0.76      0.77     25271\n",
      "weighted avg       0.78      0.78      0.78     25271\n",
      "\n"
     ]
    }
   ],
   "source": [
    "# from sklearn.metrics import classification_report \n",
    "\n",
    "# get classification report\n",
    "# print(\"CatBoost df12 tfidf 50 classification report:\\n \", classification_report (Y_test_df12, y_pred_CatBoost_df12_tfidf_50))\n"
   ]
  },
  {
   "cell_type": "code",
   "execution_count": 245,
   "id": "57624a4a",
   "metadata": {},
   "outputs": [
    {
     "name": "stdout",
     "output_type": "stream",
     "text": [
      "[[12888  1720]\n",
      " [ 3787  6876]]\n"
     ]
    }
   ],
   "source": [
    "# create confusion matrix\n",
    "# cf_matrix_CatBoost_df12_tfidf_50 = confusion_matrix(Y_test_df12, y_pred_CatBoost_df12_tfidf_50)\n",
    "# print(cf_matrix_CatBoost_df12_tfidf_50)\n"
   ]
  },
  {
   "cell_type": "code",
   "execution_count": null,
   "id": "bf868cd6",
   "metadata": {},
   "outputs": [],
   "source": []
  },
  {
   "cell_type": "markdown",
   "id": "d861a9c6",
   "metadata": {},
   "source": [
    "# 9a XGBoost on text data df12 - 50 rounds"
   ]
  },
  {
   "cell_type": "code",
   "execution_count": null,
   "id": "f85083fc",
   "metadata": {},
   "outputs": [],
   "source": [
    "# XGBoost: Die XGBoost-Bibliothek bietet ebenfalls die Möglichkeit, die Klassengewichte anzupassen. \n",
    "# Du kannst den scale_pos_weight-Parameter verwenden, um das Gewicht der positiven Klasse zu erhöhen.\n"
   ]
  },
  {
   "cell_type": "code",
   "execution_count": 197,
   "id": "a08aff42",
   "metadata": {},
   "outputs": [],
   "source": [
    "import xgboost as xgb\n",
    "from sklearn.model_selection import train_test_split\n",
    "from sklearn.metrics import accuracy_score\n",
    "\n",
    "# Create a DMatrix for training and testing data\n",
    "dtrain_vect_df12_tfidf = xgb.DMatrix(X_ro, label=y_ro)\n",
    "dtest_vect_df12_tfidf = xgb.DMatrix(X_test_text_df12_tfidf, label=Y_test_df12)\n"
   ]
  },
  {
   "cell_type": "code",
   "execution_count": 148,
   "id": "c506d4b8",
   "metadata": {},
   "outputs": [],
   "source": [
    "# Set the hyperparameters for XGBoost\n",
    "params_XGBoost_df12_tfidf = {\n",
    "    'max_depth': 3,\n",
    "    'eta': 0.1,\n",
    "    'objective': 'binary:logistic',\n",
    "    'eval_metric': 'logloss'\n",
    "}\n"
   ]
  },
  {
   "cell_type": "code",
   "execution_count": 149,
   "id": "2eabeed4",
   "metadata": {},
   "outputs": [],
   "source": [
    "# Train the model\n",
    "XGBoostmodel_df12_tfidf = xgb.train(params_XGBoost_df12_tfidf, dtrain_vect_df12_tfidf, num_boost_round=50)\n",
    "\n",
    "# Takes 4 Minutes\n"
   ]
  },
  {
   "cell_type": "code",
   "execution_count": 150,
   "id": "e850e7fe",
   "metadata": {},
   "outputs": [],
   "source": [
    "# Make predictions on the test data\n",
    "y_pred_XGBoost_df12_tfidf = XGBoostmodel_df12_tfidf.predict(dtest_vect_df12_tfidf)\n",
    "y_pred_XGBoost_df12_tfidf_binary = [1 if pred >= 0.5 else 0 for pred in y_pred_XGBoost_df12_tfidf]\n"
   ]
  },
  {
   "cell_type": "code",
   "execution_count": 198,
   "id": "c1918877",
   "metadata": {},
   "outputs": [
    {
     "data": {
      "text/plain": [
       "0.7408887657789561"
      ]
     },
     "execution_count": 198,
     "metadata": {},
     "output_type": "execute_result"
    }
   ],
   "source": [
    "# Evaluate the model with accuracy\n",
    "accuracy_XGBoost_df12_tfidf = accuracy_score(Y_test_df12, y_pred_XGBoost_df12_tfidf_binary)\n",
    "accuracy_XGBoost_df12_tfidf\n",
    "\n",
    "# 0.74\n",
    "# slightly worse"
   ]
  },
  {
   "cell_type": "code",
   "execution_count": 152,
   "id": "66af1a33",
   "metadata": {},
   "outputs": [
    {
     "data": {
      "text/plain": [
       "0.7122517138337141"
      ]
     },
     "execution_count": 152,
     "metadata": {},
     "output_type": "execute_result"
    }
   ],
   "source": [
    "# Evaluate the model with f1 score\n",
    "from sklearn.metrics import f1_score\n",
    "\n",
    "f1_XGBoost_df12_tfidf = f1_score(Y_test_df12, y_pred_XGBoost_df12_tfidf_binary)\n",
    "f1_XGBoost_df12_tfidf\n",
    "\n",
    "# 0.71\n",
    "# improvement"
   ]
  },
  {
   "cell_type": "code",
   "execution_count": 153,
   "id": "3707f889",
   "metadata": {},
   "outputs": [
    {
     "data": {
      "text/html": [
       "<div>\n",
       "<style scoped>\n",
       "    .dataframe tbody tr th:only-of-type {\n",
       "        vertical-align: middle;\n",
       "    }\n",
       "\n",
       "    .dataframe tbody tr th {\n",
       "        vertical-align: top;\n",
       "    }\n",
       "\n",
       "    .dataframe thead th {\n",
       "        text-align: right;\n",
       "    }\n",
       "</style>\n",
       "<table border=\"1\" class=\"dataframe\">\n",
       "  <thead>\n",
       "    <tr style=\"text-align: right;\">\n",
       "      <th>predict</th>\n",
       "      <th>0</th>\n",
       "      <th>1</th>\n",
       "    </tr>\n",
       "    <tr>\n",
       "      <th>true</th>\n",
       "      <th></th>\n",
       "      <th></th>\n",
       "    </tr>\n",
       "  </thead>\n",
       "  <tbody>\n",
       "    <tr>\n",
       "      <th>0.0</th>\n",
       "      <td>10619</td>\n",
       "      <td>3940</td>\n",
       "    </tr>\n",
       "    <tr>\n",
       "      <th>1.0</th>\n",
       "      <td>2608</td>\n",
       "      <td>8104</td>\n",
       "    </tr>\n",
       "  </tbody>\n",
       "</table>\n",
       "</div>"
      ],
      "text/plain": [
       "predict      0     1\n",
       "true                \n",
       "0.0      10619  3940\n",
       "1.0       2608  8104"
      ]
     },
     "execution_count": 153,
     "metadata": {},
     "output_type": "execute_result"
    }
   ],
   "source": [
    "# Create crosstab\n",
    "pd.crosstab(Y_test_df12, y_pred_XGBoost_df12_tfidf_binary, rownames=[\"true\"], colnames=[\"predict\"])\n",
    "\n",
    "# overall prediction is quite good but no super good result for any of the cases"
   ]
  },
  {
   "cell_type": "code",
   "execution_count": 154,
   "id": "6f4e595b",
   "metadata": {},
   "outputs": [],
   "source": [
    "# from sklearn.metrics import classification_report \n",
    "\n",
    "# get classification report\n",
    "# print(\"XGBoost vect classification report:\\n \", classification_report (y_test, y_pred_binary_vect))\n",
    "\n",
    "# not possible"
   ]
  },
  {
   "cell_type": "code",
   "execution_count": 155,
   "id": "b2e9d1cd",
   "metadata": {},
   "outputs": [
    {
     "name": "stdout",
     "output_type": "stream",
     "text": [
      "[[10619  3940]\n",
      " [ 2608  8104]]\n"
     ]
    }
   ],
   "source": [
    "# create confusion matrix\n",
    "cf_matrix_XGBoost_df12_tfidf = confusion_matrix(Y_test_df12, y_pred_XGBoost_df12_tfidf_binary)\n",
    "print(cf_matrix_XGBoost_df12_tfidf)"
   ]
  },
  {
   "cell_type": "code",
   "execution_count": null,
   "id": "d61b8559",
   "metadata": {},
   "outputs": [],
   "source": []
  },
  {
   "cell_type": "markdown",
   "id": "642560e0",
   "metadata": {},
   "source": [
    "# 9b XGBoost on text data df12 - 200 rounds"
   ]
  },
  {
   "cell_type": "code",
   "execution_count": 159,
   "id": "e1175908",
   "metadata": {},
   "outputs": [],
   "source": [
    "import xgboost as xgb\n",
    "from sklearn.model_selection import train_test_split\n",
    "from sklearn.metrics import accuracy_score\n",
    "\n",
    "# Create a DMatrix for training and testing data\n",
    "dtrain_vect_df12_tfidf = xgb.DMatrix(X_ro, label=y_ro)\n",
    "dtest_vect_df12_tfidf = xgb.DMatrix(X_test_text_df12_tfidf, label=Y_test_df12)\n"
   ]
  },
  {
   "cell_type": "code",
   "execution_count": 160,
   "id": "b0415a18",
   "metadata": {},
   "outputs": [],
   "source": [
    "# Set the hyperparameters for XGBoost\n",
    "params_XGBoost_df12_tfidf = {\n",
    "    'max_depth': 3,\n",
    "    'eta': 0.1,\n",
    "    'objective': 'binary:logistic',\n",
    "    'eval_metric': 'logloss'\n",
    "}\n"
   ]
  },
  {
   "cell_type": "code",
   "execution_count": 161,
   "id": "c37171bb",
   "metadata": {},
   "outputs": [],
   "source": [
    "# Train the model\n",
    "XGBoostmodel_df12_tfidf_200 = xgb.train(params_XGBoost_df12_tfidf, dtrain_vect_df12_tfidf, num_boost_round=200)\n",
    "\n",
    "# Takes 15 Minutes\n"
   ]
  },
  {
   "cell_type": "code",
   "execution_count": 162,
   "id": "0e9b7bd7",
   "metadata": {},
   "outputs": [],
   "source": [
    "# Make predictions on the test data\n",
    "y_pred_XGBoost_df12_tfidf_200 = XGBoostmodel_df12_tfidf_200.predict(dtest_vect_df12_tfidf)\n",
    "y_pred_XGBoost_df12_tfidf_200_binary = [1 if pred >= 0.5 else 0 for pred in y_pred_XGBoost_df12_tfidf_200]\n"
   ]
  },
  {
   "cell_type": "code",
   "execution_count": 163,
   "id": "dcccfc86",
   "metadata": {},
   "outputs": [
    {
     "data": {
      "text/plain": [
       "0.7958133829290491"
      ]
     },
     "execution_count": 163,
     "metadata": {},
     "output_type": "execute_result"
    }
   ],
   "source": [
    "# Evaluate the model with accuracy\n",
    "accuracy_XGBoost_df12_tfidf_200 = accuracy_score(Y_test_df12, y_pred_XGBoost_df12_tfidf_200_binary)\n",
    "accuracy_XGBoost_df12_tfidf_200\n",
    "\n",
    "# 0.79\n",
    "# no change"
   ]
  },
  {
   "cell_type": "code",
   "execution_count": 164,
   "id": "47163769",
   "metadata": {},
   "outputs": [
    {
     "data": {
      "text/plain": [
       "0.7663255139932977"
      ]
     },
     "execution_count": 164,
     "metadata": {},
     "output_type": "execute_result"
    }
   ],
   "source": [
    "# Evaluate the model with f1 score\n",
    "from sklearn.metrics import f1_score\n",
    "\n",
    "f1_XGBoost_df12_tfidf_200 = f1_score(Y_test_df12, y_pred_XGBoost_df12_tfidf_200_binary)\n",
    "f1_XGBoost_df12_tfidf_200\n",
    "\n",
    "# 0.766\n",
    "# slightly improved"
   ]
  },
  {
   "cell_type": "code",
   "execution_count": 165,
   "id": "cdc25cab",
   "metadata": {},
   "outputs": [
    {
     "data": {
      "text/html": [
       "<div>\n",
       "<style scoped>\n",
       "    .dataframe tbody tr th:only-of-type {\n",
       "        vertical-align: middle;\n",
       "    }\n",
       "\n",
       "    .dataframe tbody tr th {\n",
       "        vertical-align: top;\n",
       "    }\n",
       "\n",
       "    .dataframe thead th {\n",
       "        text-align: right;\n",
       "    }\n",
       "</style>\n",
       "<table border=\"1\" class=\"dataframe\">\n",
       "  <thead>\n",
       "    <tr style=\"text-align: right;\">\n",
       "      <th>predict</th>\n",
       "      <th>0</th>\n",
       "      <th>1</th>\n",
       "    </tr>\n",
       "    <tr>\n",
       "      <th>true</th>\n",
       "      <th></th>\n",
       "      <th></th>\n",
       "    </tr>\n",
       "  </thead>\n",
       "  <tbody>\n",
       "    <tr>\n",
       "      <th>0.0</th>\n",
       "      <td>11650</td>\n",
       "      <td>2909</td>\n",
       "    </tr>\n",
       "    <tr>\n",
       "      <th>1.0</th>\n",
       "      <td>2251</td>\n",
       "      <td>8461</td>\n",
       "    </tr>\n",
       "  </tbody>\n",
       "</table>\n",
       "</div>"
      ],
      "text/plain": [
       "predict      0     1\n",
       "true                \n",
       "0.0      11650  2909\n",
       "1.0       2251  8461"
      ]
     },
     "execution_count": 165,
     "metadata": {},
     "output_type": "execute_result"
    }
   ],
   "source": [
    "# Create crosstab\n",
    "pd.crosstab(Y_test_df12, y_pred_XGBoost_df12_tfidf_200_binary, rownames=[\"true\"], colnames=[\"predict\"])\n",
    "\n",
    "# overall prediction is quite good but no super good result for any of the cases"
   ]
  },
  {
   "cell_type": "code",
   "execution_count": 166,
   "id": "dba5fed9",
   "metadata": {},
   "outputs": [],
   "source": [
    "# from sklearn.metrics import classification_report \n",
    "\n",
    "# get classification report\n",
    "# print(\"XGBoost vect classification report:\\n \", classification_report (y_test, y_pred_binary_vect))\n",
    "\n",
    "# not possible"
   ]
  },
  {
   "cell_type": "code",
   "execution_count": 167,
   "id": "01c62ecf",
   "metadata": {},
   "outputs": [
    {
     "name": "stdout",
     "output_type": "stream",
     "text": [
      "[[11650  2909]\n",
      " [ 2251  8461]]\n"
     ]
    }
   ],
   "source": [
    "# create confusion matrix\n",
    "cf_matrix_XGBoost_df12_tfidf_200 = confusion_matrix(Y_test_df12, y_pred_XGBoost_df12_tfidf_200_binary)\n",
    "print(cf_matrix_XGBoost_df12_tfidf_200)"
   ]
  },
  {
   "cell_type": "code",
   "execution_count": null,
   "id": "31a27a33",
   "metadata": {},
   "outputs": [],
   "source": []
  },
  {
   "cell_type": "markdown",
   "id": "1030577a",
   "metadata": {},
   "source": [
    "# 9c XGBoost on text data df12 - 500 rounds"
   ]
  },
  {
   "cell_type": "code",
   "execution_count": 168,
   "id": "bc3858c8",
   "metadata": {},
   "outputs": [],
   "source": [
    "import xgboost as xgb\n",
    "from sklearn.model_selection import train_test_split\n",
    "from sklearn.metrics import accuracy_score\n",
    "\n",
    "# Create a DMatrix for training and testing data\n",
    "dtrain_vect_df12_tfidf = xgb.DMatrix(X_ro, label=y_ro)\n",
    "dtest_vect_df12_tfidf = xgb.DMatrix(X_test_text_df12_tfidf, label=Y_test_df12)\n"
   ]
  },
  {
   "cell_type": "code",
   "execution_count": 169,
   "id": "557f19bc",
   "metadata": {},
   "outputs": [],
   "source": [
    "# Set the hyperparameters for XGBoost\n",
    "params_XGBoost_df12_tfidf = {\n",
    "    'max_depth': 3,\n",
    "    'eta': 0.1,\n",
    "    'objective': 'binary:logistic',\n",
    "    'eval_metric': 'logloss'\n",
    "}\n"
   ]
  },
  {
   "cell_type": "code",
   "execution_count": 170,
   "id": "60794805",
   "metadata": {},
   "outputs": [],
   "source": [
    "# Train the model\n",
    "XGBoostmodel_df12_tfidf_500 = xgb.train(params_XGBoost_df12_tfidf, dtrain_vect_df12_tfidf, num_boost_round=500)\n",
    "\n",
    "# Takes 20 Minutes\n"
   ]
  },
  {
   "cell_type": "code",
   "execution_count": 171,
   "id": "fc150cfb",
   "metadata": {},
   "outputs": [],
   "source": [
    "# Make predictions on the test data\n",
    "y_pred_XGBoost_df12_tfidf_500 = XGBoostmodel_df12_tfidf_500.predict(dtest_vect_df12_tfidf)\n",
    "y_pred_XGBoost_df12_tfidf_500_binary = [1 if pred >= 0.5 else 0 for pred in y_pred_XGBoost_df12_tfidf_500]\n"
   ]
  },
  {
   "cell_type": "code",
   "execution_count": 172,
   "id": "2d412338",
   "metadata": {},
   "outputs": [
    {
     "data": {
      "text/plain": [
       "0.8273515096355506"
      ]
     },
     "execution_count": 172,
     "metadata": {},
     "output_type": "execute_result"
    }
   ],
   "source": [
    "# Evaluate the model with accuracy\n",
    "accuracy_XGBoost_df12_tfidf_500 = accuracy_score(Y_test_df12, y_pred_XGBoost_df12_tfidf_500_binary)\n",
    "accuracy_XGBoost_df12_tfidf_500\n",
    "\n",
    "# 0.827\n",
    "# no change"
   ]
  },
  {
   "cell_type": "code",
   "execution_count": 173,
   "id": "6badc7d7",
   "metadata": {},
   "outputs": [
    {
     "data": {
      "text/plain": [
       "0.8002380843367977"
      ]
     },
     "execution_count": 173,
     "metadata": {},
     "output_type": "execute_result"
    }
   ],
   "source": [
    "# Evaluate the model with f1 score\n",
    "from sklearn.metrics import f1_score\n",
    "\n",
    "f1_XGBoost_df12_tfidf_500 = f1_score(Y_test_df12, y_pred_XGBoost_df12_tfidf_500_binary)\n",
    "f1_XGBoost_df12_tfidf_500\n",
    "\n",
    "# 0.80\n",
    "# slight improvement"
   ]
  },
  {
   "cell_type": "code",
   "execution_count": 174,
   "id": "fa2bfb66",
   "metadata": {},
   "outputs": [
    {
     "data": {
      "text/html": [
       "<div>\n",
       "<style scoped>\n",
       "    .dataframe tbody tr th:only-of-type {\n",
       "        vertical-align: middle;\n",
       "    }\n",
       "\n",
       "    .dataframe tbody tr th {\n",
       "        vertical-align: top;\n",
       "    }\n",
       "\n",
       "    .dataframe thead th {\n",
       "        text-align: right;\n",
       "    }\n",
       "</style>\n",
       "<table border=\"1\" class=\"dataframe\">\n",
       "  <thead>\n",
       "    <tr style=\"text-align: right;\">\n",
       "      <th>predict</th>\n",
       "      <th>0</th>\n",
       "      <th>1</th>\n",
       "    </tr>\n",
       "    <tr>\n",
       "      <th>true</th>\n",
       "      <th></th>\n",
       "      <th></th>\n",
       "    </tr>\n",
       "  </thead>\n",
       "  <tbody>\n",
       "    <tr>\n",
       "      <th>0.0</th>\n",
       "      <td>12169</td>\n",
       "      <td>2390</td>\n",
       "    </tr>\n",
       "    <tr>\n",
       "      <th>1.0</th>\n",
       "      <td>1973</td>\n",
       "      <td>8739</td>\n",
       "    </tr>\n",
       "  </tbody>\n",
       "</table>\n",
       "</div>"
      ],
      "text/plain": [
       "predict      0     1\n",
       "true                \n",
       "0.0      12169  2390\n",
       "1.0       1973  8739"
      ]
     },
     "execution_count": 174,
     "metadata": {},
     "output_type": "execute_result"
    }
   ],
   "source": [
    "# Create crosstab\n",
    "pd.crosstab(Y_test_df12, y_pred_XGBoost_df12_tfidf_500_binary, rownames=[\"true\"], colnames=[\"predict\"])\n",
    "\n",
    "# overall prediction is quite good but no super good result for any of the cases"
   ]
  },
  {
   "cell_type": "code",
   "execution_count": 175,
   "id": "b481f841",
   "metadata": {},
   "outputs": [],
   "source": [
    "# from sklearn.metrics import classification_report \n",
    "\n",
    "# get classification report\n",
    "# print(\"XGBoost vect classification report:\\n \", classification_report (y_test, y_pred_binary_vect))\n",
    "\n",
    "# not possible"
   ]
  },
  {
   "cell_type": "code",
   "execution_count": 176,
   "id": "bc13d49c",
   "metadata": {},
   "outputs": [
    {
     "name": "stdout",
     "output_type": "stream",
     "text": [
      "[[12169  2390]\n",
      " [ 1973  8739]]\n"
     ]
    }
   ],
   "source": [
    "# create confusion matrix\n",
    "cf_matrix_XGBoost_df12_tfidf_500 = confusion_matrix(Y_test_df12, y_pred_XGBoost_df12_tfidf_500_binary)\n",
    "print(cf_matrix_XGBoost_df12_tfidf_500)"
   ]
  },
  {
   "cell_type": "code",
   "execution_count": null,
   "id": "da6819ed",
   "metadata": {},
   "outputs": [],
   "source": []
  },
  {
   "cell_type": "markdown",
   "id": "4d8ddfb5",
   "metadata": {},
   "source": [
    "# 10a Stochastic Gradient Decent (SGD) on text data df12"
   ]
  },
  {
   "cell_type": "code",
   "execution_count": 130,
   "id": "fde0e77e",
   "metadata": {},
   "outputs": [],
   "source": [
    "from sklearn.linear_model import SGDClassifier\n",
    "from sklearn.metrics import accuracy_score\n",
    "\n",
    "# Create an SGD classifier\n",
    "sgd_df12_tfidf = SGDClassifier()"
   ]
  },
  {
   "cell_type": "code",
   "execution_count": 131,
   "id": "8f4fb33a",
   "metadata": {},
   "outputs": [
    {
     "data": {
      "text/html": [
       "<style>#sk-container-id-9 {color: black;background-color: white;}#sk-container-id-9 pre{padding: 0;}#sk-container-id-9 div.sk-toggleable {background-color: white;}#sk-container-id-9 label.sk-toggleable__label {cursor: pointer;display: block;width: 100%;margin-bottom: 0;padding: 0.3em;box-sizing: border-box;text-align: center;}#sk-container-id-9 label.sk-toggleable__label-arrow:before {content: \"▸\";float: left;margin-right: 0.25em;color: #696969;}#sk-container-id-9 label.sk-toggleable__label-arrow:hover:before {color: black;}#sk-container-id-9 div.sk-estimator:hover label.sk-toggleable__label-arrow:before {color: black;}#sk-container-id-9 div.sk-toggleable__content {max-height: 0;max-width: 0;overflow: hidden;text-align: left;background-color: #f0f8ff;}#sk-container-id-9 div.sk-toggleable__content pre {margin: 0.2em;color: black;border-radius: 0.25em;background-color: #f0f8ff;}#sk-container-id-9 input.sk-toggleable__control:checked~div.sk-toggleable__content {max-height: 200px;max-width: 100%;overflow: auto;}#sk-container-id-9 input.sk-toggleable__control:checked~label.sk-toggleable__label-arrow:before {content: \"▾\";}#sk-container-id-9 div.sk-estimator input.sk-toggleable__control:checked~label.sk-toggleable__label {background-color: #d4ebff;}#sk-container-id-9 div.sk-label input.sk-toggleable__control:checked~label.sk-toggleable__label {background-color: #d4ebff;}#sk-container-id-9 input.sk-hidden--visually {border: 0;clip: rect(1px 1px 1px 1px);clip: rect(1px, 1px, 1px, 1px);height: 1px;margin: -1px;overflow: hidden;padding: 0;position: absolute;width: 1px;}#sk-container-id-9 div.sk-estimator {font-family: monospace;background-color: #f0f8ff;border: 1px dotted black;border-radius: 0.25em;box-sizing: border-box;margin-bottom: 0.5em;}#sk-container-id-9 div.sk-estimator:hover {background-color: #d4ebff;}#sk-container-id-9 div.sk-parallel-item::after {content: \"\";width: 100%;border-bottom: 1px solid gray;flex-grow: 1;}#sk-container-id-9 div.sk-label:hover label.sk-toggleable__label {background-color: #d4ebff;}#sk-container-id-9 div.sk-serial::before {content: \"\";position: absolute;border-left: 1px solid gray;box-sizing: border-box;top: 0;bottom: 0;left: 50%;z-index: 0;}#sk-container-id-9 div.sk-serial {display: flex;flex-direction: column;align-items: center;background-color: white;padding-right: 0.2em;padding-left: 0.2em;position: relative;}#sk-container-id-9 div.sk-item {position: relative;z-index: 1;}#sk-container-id-9 div.sk-parallel {display: flex;align-items: stretch;justify-content: center;background-color: white;position: relative;}#sk-container-id-9 div.sk-item::before, #sk-container-id-9 div.sk-parallel-item::before {content: \"\";position: absolute;border-left: 1px solid gray;box-sizing: border-box;top: 0;bottom: 0;left: 50%;z-index: -1;}#sk-container-id-9 div.sk-parallel-item {display: flex;flex-direction: column;z-index: 1;position: relative;background-color: white;}#sk-container-id-9 div.sk-parallel-item:first-child::after {align-self: flex-end;width: 50%;}#sk-container-id-9 div.sk-parallel-item:last-child::after {align-self: flex-start;width: 50%;}#sk-container-id-9 div.sk-parallel-item:only-child::after {width: 0;}#sk-container-id-9 div.sk-dashed-wrapped {border: 1px dashed gray;margin: 0 0.4em 0.5em 0.4em;box-sizing: border-box;padding-bottom: 0.4em;background-color: white;}#sk-container-id-9 div.sk-label label {font-family: monospace;font-weight: bold;display: inline-block;line-height: 1.2em;}#sk-container-id-9 div.sk-label-container {text-align: center;}#sk-container-id-9 div.sk-container {/* jupyter's `normalize.less` sets `[hidden] { display: none; }` but bootstrap.min.css set `[hidden] { display: none !important; }` so we also need the `!important` here to be able to override the default hidden behavior on the sphinx rendered scikit-learn.org. See: https://github.com/scikit-learn/scikit-learn/issues/21755 */display: inline-block !important;position: relative;}#sk-container-id-9 div.sk-text-repr-fallback {display: none;}</style><div id=\"sk-container-id-9\" class=\"sk-top-container\"><div class=\"sk-text-repr-fallback\"><pre>SGDClassifier()</pre><b>In a Jupyter environment, please rerun this cell to show the HTML representation or trust the notebook. <br />On GitHub, the HTML representation is unable to render, please try loading this page with nbviewer.org.</b></div><div class=\"sk-container\" hidden><div class=\"sk-item\"><div class=\"sk-estimator sk-toggleable\"><input class=\"sk-toggleable__control sk-hidden--visually\" id=\"sk-estimator-id-9\" type=\"checkbox\" checked><label for=\"sk-estimator-id-9\" class=\"sk-toggleable__label sk-toggleable__label-arrow\">SGDClassifier</label><div class=\"sk-toggleable__content\"><pre>SGDClassifier()</pre></div></div></div></div></div>"
      ],
      "text/plain": [
       "SGDClassifier()"
      ]
     },
     "execution_count": 131,
     "metadata": {},
     "output_type": "execute_result"
    }
   ],
   "source": [
    "# Train the SGD model\n",
    "sgd_df12_tfidf.fit(X_ro, y_ro)\n"
   ]
  },
  {
   "cell_type": "code",
   "execution_count": 132,
   "id": "de59ad77",
   "metadata": {},
   "outputs": [],
   "source": [
    "# Make predictions on the test set\n",
    "y_pred_sgd_df12_tfidf = sgd_df12_tfidf.predict(X_test_text_df12_tfidf)"
   ]
  },
  {
   "cell_type": "code",
   "execution_count": 177,
   "id": "bc559232",
   "metadata": {},
   "outputs": [
    {
     "data": {
      "text/plain": [
       "0.8448023426061494"
      ]
     },
     "execution_count": 177,
     "metadata": {},
     "output_type": "execute_result"
    }
   ],
   "source": [
    "# Calculate accuracy\n",
    "accuracy_sgd_df12_tfidf = accuracy_score(Y_test_df12, y_pred_sgd_df12_tfidf)\n",
    "accuracy_sgd_df12_tfidf\n",
    "\n",
    "# 0.84\n",
    "# slightly worse"
   ]
  },
  {
   "cell_type": "code",
   "execution_count": 134,
   "id": "6ff35ab5",
   "metadata": {},
   "outputs": [
    {
     "data": {
      "text/plain": [
       "0.82025664527956"
      ]
     },
     "execution_count": 134,
     "metadata": {},
     "output_type": "execute_result"
    }
   ],
   "source": [
    "# Evaluate the model with f1 score\n",
    "from sklearn.metrics import f1_score\n",
    "\n",
    "f1_sgd_df12_tfidf = f1_score(Y_test_df12, y_pred_sgd_df12_tfidf)\n",
    "f1_sgd_df12_tfidf\n",
    "\n",
    "# 0.82\n",
    "# slightly improved"
   ]
  },
  {
   "cell_type": "code",
   "execution_count": 135,
   "id": "7db99b75",
   "metadata": {},
   "outputs": [
    {
     "data": {
      "text/html": [
       "<div>\n",
       "<style scoped>\n",
       "    .dataframe tbody tr th:only-of-type {\n",
       "        vertical-align: middle;\n",
       "    }\n",
       "\n",
       "    .dataframe tbody tr th {\n",
       "        vertical-align: top;\n",
       "    }\n",
       "\n",
       "    .dataframe thead th {\n",
       "        text-align: right;\n",
       "    }\n",
       "</style>\n",
       "<table border=\"1\" class=\"dataframe\">\n",
       "  <thead>\n",
       "    <tr style=\"text-align: right;\">\n",
       "      <th>predict</th>\n",
       "      <th>0.0</th>\n",
       "      <th>1.0</th>\n",
       "    </tr>\n",
       "    <tr>\n",
       "      <th>true</th>\n",
       "      <th></th>\n",
       "      <th></th>\n",
       "    </tr>\n",
       "  </thead>\n",
       "  <tbody>\n",
       "    <tr>\n",
       "      <th>0.0</th>\n",
       "      <td>12400</td>\n",
       "      <td>2159</td>\n",
       "    </tr>\n",
       "    <tr>\n",
       "      <th>1.0</th>\n",
       "      <td>1763</td>\n",
       "      <td>8949</td>\n",
       "    </tr>\n",
       "  </tbody>\n",
       "</table>\n",
       "</div>"
      ],
      "text/plain": [
       "predict    0.0   1.0\n",
       "true                \n",
       "0.0      12400  2159\n",
       "1.0       1763  8949"
      ]
     },
     "execution_count": 135,
     "metadata": {},
     "output_type": "execute_result"
    }
   ],
   "source": [
    "# Create crosstab\n",
    "pd.crosstab(Y_test_df12, y_pred_sgd_df12_tfidf, rownames=[\"true\"], colnames=[\"predict\"])\n",
    "\n",
    "# overall prediction is quite good but no super good result for any of the cases"
   ]
  },
  {
   "cell_type": "code",
   "execution_count": 136,
   "id": "8ec99aac",
   "metadata": {},
   "outputs": [
    {
     "name": "stdout",
     "output_type": "stream",
     "text": [
      "SGD df12 tfidf classification report:\n",
      "                precision    recall  f1-score   support\n",
      "\n",
      "         0.0       0.88      0.85      0.86     14559\n",
      "         1.0       0.81      0.84      0.82     10712\n",
      "\n",
      "    accuracy                           0.84     25271\n",
      "   macro avg       0.84      0.84      0.84     25271\n",
      "weighted avg       0.85      0.84      0.85     25271\n",
      "\n"
     ]
    }
   ],
   "source": [
    "from sklearn.metrics import classification_report \n",
    "\n",
    "# get classification report\n",
    "print(\"SGD df12 tfidf classification report:\\n \", classification_report (Y_test_df12, y_pred_sgd_df12_tfidf))\n"
   ]
  },
  {
   "cell_type": "code",
   "execution_count": 137,
   "id": "3dc6cc34",
   "metadata": {},
   "outputs": [
    {
     "name": "stdout",
     "output_type": "stream",
     "text": [
      "[[12400  2159]\n",
      " [ 1763  8949]]\n"
     ]
    }
   ],
   "source": [
    "# create confusion matrix\n",
    "cf_matrix_sgd_df12_tfidf = confusion_matrix(Y_test_df12, y_pred_sgd_df12_tfidf)\n",
    "print(cf_matrix_sgd_df12_tfidf)"
   ]
  },
  {
   "cell_type": "code",
   "execution_count": null,
   "id": "a866a977",
   "metadata": {},
   "outputs": [],
   "source": []
  },
  {
   "cell_type": "markdown",
   "id": "78092b56",
   "metadata": {},
   "source": [
    "# 10b Stochastic Gradient Decent (SGD) on text data df12 with class weight\n"
   ]
  },
  {
   "cell_type": "code",
   "execution_count": 138,
   "id": "0855afb8",
   "metadata": {},
   "outputs": [],
   "source": [
    "from sklearn.linear_model import SGDClassifier\n",
    "from sklearn.metrics import accuracy_score\n",
    "\n",
    "# Create an SGD classifier\n",
    "sgd_df12_tfidf_CW = SGDClassifier(class_weight = class_weights)"
   ]
  },
  {
   "cell_type": "code",
   "execution_count": 139,
   "id": "5b15bf32",
   "metadata": {},
   "outputs": [
    {
     "data": {
      "text/html": [
       "<style>#sk-container-id-10 {color: black;background-color: white;}#sk-container-id-10 pre{padding: 0;}#sk-container-id-10 div.sk-toggleable {background-color: white;}#sk-container-id-10 label.sk-toggleable__label {cursor: pointer;display: block;width: 100%;margin-bottom: 0;padding: 0.3em;box-sizing: border-box;text-align: center;}#sk-container-id-10 label.sk-toggleable__label-arrow:before {content: \"▸\";float: left;margin-right: 0.25em;color: #696969;}#sk-container-id-10 label.sk-toggleable__label-arrow:hover:before {color: black;}#sk-container-id-10 div.sk-estimator:hover label.sk-toggleable__label-arrow:before {color: black;}#sk-container-id-10 div.sk-toggleable__content {max-height: 0;max-width: 0;overflow: hidden;text-align: left;background-color: #f0f8ff;}#sk-container-id-10 div.sk-toggleable__content pre {margin: 0.2em;color: black;border-radius: 0.25em;background-color: #f0f8ff;}#sk-container-id-10 input.sk-toggleable__control:checked~div.sk-toggleable__content {max-height: 200px;max-width: 100%;overflow: auto;}#sk-container-id-10 input.sk-toggleable__control:checked~label.sk-toggleable__label-arrow:before {content: \"▾\";}#sk-container-id-10 div.sk-estimator input.sk-toggleable__control:checked~label.sk-toggleable__label {background-color: #d4ebff;}#sk-container-id-10 div.sk-label input.sk-toggleable__control:checked~label.sk-toggleable__label {background-color: #d4ebff;}#sk-container-id-10 input.sk-hidden--visually {border: 0;clip: rect(1px 1px 1px 1px);clip: rect(1px, 1px, 1px, 1px);height: 1px;margin: -1px;overflow: hidden;padding: 0;position: absolute;width: 1px;}#sk-container-id-10 div.sk-estimator {font-family: monospace;background-color: #f0f8ff;border: 1px dotted black;border-radius: 0.25em;box-sizing: border-box;margin-bottom: 0.5em;}#sk-container-id-10 div.sk-estimator:hover {background-color: #d4ebff;}#sk-container-id-10 div.sk-parallel-item::after {content: \"\";width: 100%;border-bottom: 1px solid gray;flex-grow: 1;}#sk-container-id-10 div.sk-label:hover label.sk-toggleable__label {background-color: #d4ebff;}#sk-container-id-10 div.sk-serial::before {content: \"\";position: absolute;border-left: 1px solid gray;box-sizing: border-box;top: 0;bottom: 0;left: 50%;z-index: 0;}#sk-container-id-10 div.sk-serial {display: flex;flex-direction: column;align-items: center;background-color: white;padding-right: 0.2em;padding-left: 0.2em;position: relative;}#sk-container-id-10 div.sk-item {position: relative;z-index: 1;}#sk-container-id-10 div.sk-parallel {display: flex;align-items: stretch;justify-content: center;background-color: white;position: relative;}#sk-container-id-10 div.sk-item::before, #sk-container-id-10 div.sk-parallel-item::before {content: \"\";position: absolute;border-left: 1px solid gray;box-sizing: border-box;top: 0;bottom: 0;left: 50%;z-index: -1;}#sk-container-id-10 div.sk-parallel-item {display: flex;flex-direction: column;z-index: 1;position: relative;background-color: white;}#sk-container-id-10 div.sk-parallel-item:first-child::after {align-self: flex-end;width: 50%;}#sk-container-id-10 div.sk-parallel-item:last-child::after {align-self: flex-start;width: 50%;}#sk-container-id-10 div.sk-parallel-item:only-child::after {width: 0;}#sk-container-id-10 div.sk-dashed-wrapped {border: 1px dashed gray;margin: 0 0.4em 0.5em 0.4em;box-sizing: border-box;padding-bottom: 0.4em;background-color: white;}#sk-container-id-10 div.sk-label label {font-family: monospace;font-weight: bold;display: inline-block;line-height: 1.2em;}#sk-container-id-10 div.sk-label-container {text-align: center;}#sk-container-id-10 div.sk-container {/* jupyter's `normalize.less` sets `[hidden] { display: none; }` but bootstrap.min.css set `[hidden] { display: none !important; }` so we also need the `!important` here to be able to override the default hidden behavior on the sphinx rendered scikit-learn.org. See: https://github.com/scikit-learn/scikit-learn/issues/21755 */display: inline-block !important;position: relative;}#sk-container-id-10 div.sk-text-repr-fallback {display: none;}</style><div id=\"sk-container-id-10\" class=\"sk-top-container\"><div class=\"sk-text-repr-fallback\"><pre>SGDClassifier(class_weight={0: 1.0, 1: 1.38})</pre><b>In a Jupyter environment, please rerun this cell to show the HTML representation or trust the notebook. <br />On GitHub, the HTML representation is unable to render, please try loading this page with nbviewer.org.</b></div><div class=\"sk-container\" hidden><div class=\"sk-item\"><div class=\"sk-estimator sk-toggleable\"><input class=\"sk-toggleable__control sk-hidden--visually\" id=\"sk-estimator-id-10\" type=\"checkbox\" checked><label for=\"sk-estimator-id-10\" class=\"sk-toggleable__label sk-toggleable__label-arrow\">SGDClassifier</label><div class=\"sk-toggleable__content\"><pre>SGDClassifier(class_weight={0: 1.0, 1: 1.38})</pre></div></div></div></div></div>"
      ],
      "text/plain": [
       "SGDClassifier(class_weight={0: 1.0, 1: 1.38})"
      ]
     },
     "execution_count": 139,
     "metadata": {},
     "output_type": "execute_result"
    }
   ],
   "source": [
    "# Train the SGD model\n",
    "sgd_df12_tfidf_CW.fit(X_ro, y_ro)\n"
   ]
  },
  {
   "cell_type": "code",
   "execution_count": 140,
   "id": "e78c128f",
   "metadata": {},
   "outputs": [],
   "source": [
    "# Make predictions on the test set\n",
    "y_pred_sgd_df12_tfidf_CW = sgd_df12_tfidf_CW.predict(X_test_text_df12_tfidf)"
   ]
  },
  {
   "cell_type": "code",
   "execution_count": 142,
   "id": "53cde93a",
   "metadata": {},
   "outputs": [
    {
     "data": {
      "text/plain": [
       "0.8317834672153852"
      ]
     },
     "execution_count": 142,
     "metadata": {},
     "output_type": "execute_result"
    }
   ],
   "source": [
    "# Calculate accuracy\n",
    "accuracy_sgd_df12_tfidf_CW = accuracy_score(Y_test_df12, y_pred_sgd_df12_tfidf_CW)\n",
    "accuracy_sgd_df12_tfidf_CW\n",
    "\n",
    "# 0.83\n",
    "# slightly worse"
   ]
  },
  {
   "cell_type": "code",
   "execution_count": 143,
   "id": "42a97752",
   "metadata": {},
   "outputs": [
    {
     "data": {
      "text/plain": [
       "0.815934184888504"
      ]
     },
     "execution_count": 143,
     "metadata": {},
     "output_type": "execute_result"
    }
   ],
   "source": [
    "# Evaluate the model with f1 score\n",
    "from sklearn.metrics import f1_score\n",
    "\n",
    "f1_sgd_df12_tfidf_CW = f1_score(Y_test_df12, y_pred_sgd_df12_tfidf_CW)\n",
    "f1_sgd_df12_tfidf_CW\n",
    "\n",
    "# 0.82\n",
    "# no change"
   ]
  },
  {
   "cell_type": "code",
   "execution_count": 144,
   "id": "f6579b40",
   "metadata": {},
   "outputs": [
    {
     "data": {
      "text/html": [
       "<div>\n",
       "<style scoped>\n",
       "    .dataframe tbody tr th:only-of-type {\n",
       "        vertical-align: middle;\n",
       "    }\n",
       "\n",
       "    .dataframe tbody tr th {\n",
       "        vertical-align: top;\n",
       "    }\n",
       "\n",
       "    .dataframe thead th {\n",
       "        text-align: right;\n",
       "    }\n",
       "</style>\n",
       "<table border=\"1\" class=\"dataframe\">\n",
       "  <thead>\n",
       "    <tr style=\"text-align: right;\">\n",
       "      <th>predict</th>\n",
       "      <th>0.0</th>\n",
       "      <th>1.0</th>\n",
       "    </tr>\n",
       "    <tr>\n",
       "      <th>true</th>\n",
       "      <th></th>\n",
       "      <th></th>\n",
       "    </tr>\n",
       "  </thead>\n",
       "  <tbody>\n",
       "    <tr>\n",
       "      <th>0.0</th>\n",
       "      <td>11598</td>\n",
       "      <td>2961</td>\n",
       "    </tr>\n",
       "    <tr>\n",
       "      <th>1.0</th>\n",
       "      <td>1290</td>\n",
       "      <td>9422</td>\n",
       "    </tr>\n",
       "  </tbody>\n",
       "</table>\n",
       "</div>"
      ],
      "text/plain": [
       "predict    0.0   1.0\n",
       "true                \n",
       "0.0      11598  2961\n",
       "1.0       1290  9422"
      ]
     },
     "execution_count": 144,
     "metadata": {},
     "output_type": "execute_result"
    }
   ],
   "source": [
    "# Create crosstab\n",
    "pd.crosstab(Y_test_df12, y_pred_sgd_df12_tfidf_CW, rownames=[\"true\"], colnames=[\"predict\"])\n",
    "\n",
    "# overall prediction is quite good but no super good result for any of the cases"
   ]
  },
  {
   "cell_type": "code",
   "execution_count": 145,
   "id": "528a610b",
   "metadata": {},
   "outputs": [
    {
     "name": "stdout",
     "output_type": "stream",
     "text": [
      "SGD df12 tfidf with class weight classification report:\n",
      "                precision    recall  f1-score   support\n",
      "\n",
      "         0.0       0.90      0.80      0.85     14559\n",
      "         1.0       0.76      0.88      0.82     10712\n",
      "\n",
      "    accuracy                           0.83     25271\n",
      "   macro avg       0.83      0.84      0.83     25271\n",
      "weighted avg       0.84      0.83      0.83     25271\n",
      "\n"
     ]
    }
   ],
   "source": [
    "from sklearn.metrics import classification_report \n",
    "\n",
    "# get classification report\n",
    "print(\"SGD df12 tfidf with class weight classification report:\\n \", classification_report (Y_test_df12, y_pred_sgd_df12_tfidf_CW))\n"
   ]
  },
  {
   "cell_type": "code",
   "execution_count": 146,
   "id": "2c72ddbb",
   "metadata": {},
   "outputs": [
    {
     "name": "stdout",
     "output_type": "stream",
     "text": [
      "[[11598  2961]\n",
      " [ 1290  9422]]\n"
     ]
    }
   ],
   "source": [
    "# create confusion matrix\n",
    "cf_matrix_sgd_df12_tfidf_CW = confusion_matrix(Y_test_df12, y_pred_sgd_df12_tfidf_CW)\n",
    "print(cf_matrix_sgd_df12_tfidf_CW)"
   ]
  },
  {
   "cell_type": "code",
   "execution_count": null,
   "id": "a30f9d09",
   "metadata": {},
   "outputs": [],
   "source": []
  },
  {
   "cell_type": "code",
   "execution_count": null,
   "id": "1744dc28",
   "metadata": {},
   "outputs": [],
   "source": []
  },
  {
   "cell_type": "markdown",
   "id": "50692e8c",
   "metadata": {},
   "source": [
    "# COMPARE MODELS ON TEXT DATA ONLY df12 Random Oversampling\n"
   ]
  },
  {
   "cell_type": "code",
   "execution_count": null,
   "id": "85c70a14",
   "metadata": {},
   "outputs": [],
   "source": [
    "# MODELS FOR STAGE 2 (Advanced Models):\n",
    "# 1) Naive Bayes Bernoulli\n",
    "# 2) Naive Bayes Multinomial\n",
    "# 3) Naive Bayes Complement\n",
    "# 4) Logistic Regression\n",
    "\n",
    "# 5) Random Forest   \n",
    "# 6) Passive Aggressive Classifier \n",
    "\n",
    "# 7) LightGBM\n",
    "# 8) CatBoost\n",
    "# 9) XGBoost\n",
    "\n",
    "# 10) Stochastic Gradient Descent"
   ]
  },
  {
   "cell_type": "code",
   "execution_count": 208,
   "id": "4bf7b299",
   "metadata": {},
   "outputs": [
    {
     "name": "stdout",
     "output_type": "stream",
     "text": [
      "Naive Bayes Bernoulli accuracy score df12 tfidf: 0.7197973962249219\n",
      "Naive Bayes Multinomial accuracy score df12 tfidf: 0.7934786909896719\n",
      "Naive Bayes Complement accuracy score df12 tfidf : 0.7934786909896719\n",
      "Logistic Regression accuracy score df12 tfidf: 0.8557635234062759\n",
      "Logistic Regression accuracy score df12 tfidf with class weight 1:1.38 : 0.8484824502394048\n",
      "Passive Agressive accuracy score df12 tfidf: 0.8211784258636382\n",
      "Passive Agressive accuracy score df12 tfidf with class weight 1:1.38: 0.8198725812195797\n",
      "LightGBM accuracy score df12 tfidf 20 rounds: 0.7505441019350243\n",
      "LightGBM accuracy score df12 tfidf 200 rounds: 0.8362154247952198\n",
      "LightGBM accuracy score df12 tfidf 500 rounds: 0.8608286177832298\n",
      "XGBoost accuracy score df12 tfidf 50 rounds: 0.7408887657789561\n",
      "XGBoost accuracy score df12 tfidf 200 rounds: 0.7958133829290491\n",
      "XGBoost accuracy score df12 tfidf 500 rounds: 0.8273515096355506\n",
      "Stochastic Gradient Descent accuracy score df12 tfidf: 0.8448023426061494\n",
      "Stochastic Gradient Descent accuracy score df12 tfidf with class weight 1:1.38 : 0.8317834672153852\n"
     ]
    }
   ],
   "source": [
    "print(\"Naive Bayes Bernoulli accuracy score df12 tfidf:\", accuracy_NB_Bern_df12_tfidf)\n",
    "print(\"Naive Bayes Multinomial accuracy score df12 tfidf:\", accuracy_NB_Mult_df12_tfidf)\n",
    "print(\"Naive Bayes Complement accuracy score df12 tfidf :\", accuracy_NB_Compl_df12_tfidf)\n",
    "print(\"Logistic Regression accuracy score df12 tfidf:\", accuracy_LogReg_df12_tfidf)\n",
    "print(\"Logistic Regression accuracy score df12 tfidf with class weight 1:1.38 :\", accuracy_LogReg_df12_tfidf_CW) \n",
    "\n",
    "# print(\"Random Forest accuracy score df12 tfidf:\", accuracy_rf_df12_tfidf)\n",
    "print(\"Passive Agressive accuracy score df12 tfidf:\", accuracy_PassAgg_df12_tfidf)\n",
    "print(\"Passive Agressive accuracy score df12 tfidf with class weight 1:1.38:\", accuracy_PassAgg_df12_tfidf_CW)\n",
    "\n",
    "print(\"LightGBM accuracy score df12 tfidf 20 rounds:\", accuracy_LightGBM_df12_tfidf)\n",
    "print(\"LightGBM accuracy score df12 tfidf 200 rounds:\", accuracy_LightGBM_df12_tfidf_200)\n",
    "print(\"LightGBM accuracy score df12 tfidf 500 rounds:\", accuracy_LightGBM_df12_tfidf_500)\n",
    "# print(\"LightGBM accuracy score df12 tfidf 500 rounds with class weight 1:1.38 :\", accuracy_LightGBM_df12_tfidf_500_CW)\n",
    "# print(\"CatBoost accuracy score df12 tfidf 20 rounds:\", accuracy_CatBoost_df12_tfidf)\n",
    "# print(\"CatBoost accuracy score df12 tfidf 50 rounds:\", accuracy_CatBoost_df12_tfidf_50)\n",
    "print(\"XGBoost accuracy score df12 tfidf 50 rounds:\", accuracy_XGBoost_df12_tfidf)\n",
    "print(\"XGBoost accuracy score df12 tfidf 200 rounds:\", accuracy_XGBoost_df12_tfidf_200)\n",
    "print(\"XGBoost accuracy score df12 tfidf 500 rounds:\", accuracy_XGBoost_df12_tfidf_500)\n",
    "\n",
    "print(\"Stochastic Gradient Descent accuracy score df12 tfidf:\", accuracy_sgd_df12_tfidf)\n",
    "print(\"Stochastic Gradient Descent accuracy score df12 tfidf with class weight 1:1.38 :\", accuracy_sgd_df12_tfidf_CW)"
   ]
  },
  {
   "cell_type": "markdown",
   "id": "5eb19e31",
   "metadata": {},
   "source": [
    "## PLOT 1: Accuracy of selected models"
   ]
  },
  {
   "cell_type": "code",
   "execution_count": 209,
   "id": "4a918ecc",
   "metadata": {},
   "outputs": [],
   "source": [
    "#Creating the Dictionary with model name as key and accuracy as key-value\n",
    "acc_labels_df12_tfidf_sel={'Naive Bayes Bernoulli':accuracy_NB_Bern_df12_tfidf,\n",
    "        'Naive Bayes Multinomial':accuracy_NB_Mult_df12_tfidf,\n",
    "        'Naive Bayes Complement':accuracy_NB_Compl_df12_tfidf,\n",
    "        'Logistic Regression':accuracy_LogReg_df12_tfidf,\n",
    " #       'Random Forest':accuracy_rf_df12_tfidf,\n",
    "        'Passive Aggressive':accuracy_PassAgg_df12_tfidf,\n",
    "        'LightBM':accuracy_LightGBM_df12_tfidf,\n",
    " #       'CatBoost':accuracy_CatBoost_df12_tfidf, \n",
    "        'XGBoost':accuracy_XGBoost_df12_tfidf,\n",
    "        'Stoachstic Gradient Descent':accuracy_sgd_df12_tfidf} \n",
    "        "
   ]
  },
  {
   "cell_type": "code",
   "execution_count": 219,
   "id": "8e96ef2b",
   "metadata": {},
   "outputs": [
    {
     "data": {
      "image/png": "[encoded data removed]",
      "text/plain": [
       "<Figure size 2500x1000 with 1 Axes>"
      ]
     },
     "metadata": {},
     "output_type": "display_data"
    }
   ],
   "source": [
    "# Data for the chart\n",
    "acc_labels_sel = list(acc_labels_df12_tfidf_sel.keys())\n",
    "acc_values_sel = list(acc_labels_df12_tfidf_sel.values())\n",
    "# colors=['yellow','orange','magenta', 'gray', 'blue', 'black', 'white', 'lightgreen', 'darkred', 'purple']\n",
    "\n",
    "# Creating the chart\n",
    "plt.figure(figsize=(25, 10))\n",
    "plt.title('Comparing Accuracy of ML Models on text data from df12 dataset with RandomOversampling', fontsize=20)\n",
    "plt.xlabel('Accuracy', fontsize=16)\n",
    "plt.ylabel('Models', fontsize=16)\n",
    "plt.xticks(fontsize=16)\n",
    "plt.yticks(fontsize=16)# Increase the plot width to accommodate the values\n",
    "\n",
    "plt.barh(acc_labels_sel, acc_values_sel, color='blue', edgecolor='black', linewidth=1, alpha=0.7)\n",
    "\n",
    "# Displaying values at the end of the bars\n",
    "for i, value in enumerate(acc_values_sel):\n",
    "    plt.text(value, i, f'{value:.5f}', fontsize=16, va='center')\n",
    "\n",
    "plt.show();"
   ]
  },
  {
   "cell_type": "code",
   "execution_count": null,
   "id": "52ce6d82",
   "metadata": {},
   "outputs": [],
   "source": []
  },
  {
   "cell_type": "markdown",
   "id": "07f6ab5c",
   "metadata": {},
   "source": [
    "## PLOT 2: Accuracy of all models"
   ]
  },
  {
   "cell_type": "code",
   "execution_count": 211,
   "id": "189f1c7e",
   "metadata": {},
   "outputs": [],
   "source": [
    "#Creating the Dictionary with model name as key and accuracy as key-value\n",
    "acc_labels_df12_tfidf_all={'Naive Bayes Bernoulli':accuracy_NB_Bern_df12_tfidf,\n",
    "        'Naive Bayes Multinomial':accuracy_NB_Mult_df12_tfidf,\n",
    "        'Naive Bayes Complement':accuracy_NB_Compl_df12_tfidf,\n",
    "        'Logistic Regression':accuracy_LogReg_df12_tfidf,\n",
    "        'Logistic Regression with class weight':accuracy_LogReg_df12_tfidf_CW,\n",
    "#        'Random Forest':accuracy_rf_df12_tfidf,\n",
    "        'Passive Aggressive':accuracy_PassAgg_df12_tfidf,\n",
    "        'Passive Aggressive with class weight':accuracy_PassAgg_df12_tfidf_CW,\n",
    "        'LightBM 20 rounds':accuracy_LightGBM_df12_tfidf,\n",
    "        'LightBM 200 rounds':accuracy_LightGBM_df12_tfidf_200,\n",
    "        'LightBM 500 rounds':accuracy_LightGBM_df12_tfidf_500,\n",
    "#        'LightBM 500 rounds with class weight':accuracy_LightGBM_df12_tfidf_500_CW,\n",
    "#        'CatBoost 20 rounds':accuracy_CatBoost_df12_tfidf, \n",
    " #       'CatBoost 50 rounds':accuracy_CatBoost_df12_tfidf_50, \n",
    "        'XGBoost 50 rounds':accuracy_XGBoost_df12_tfidf,\n",
    "        'XGBoost 200 rounds':accuracy_XGBoost_df12_tfidf_200,\n",
    "        'XGBoost 500 rounds':accuracy_XGBoost_df12_tfidf_500,\n",
    "        'Stoachstic Gradient Descent':accuracy_sgd_df12_tfidf,\n",
    "        'Stoachstic Gradient Descent with class weight':accuracy_sgd_df12_tfidf_CW} \n",
    "        \n"
   ]
  },
  {
   "cell_type": "code",
   "execution_count": 220,
   "id": "60092fd4",
   "metadata": {},
   "outputs": [
    {
     "data": {
      "image/png": "[encoded data removed]",
      "text/plain": [
       "<Figure size 2500x1000 with 1 Axes>"
      ]
     },
     "metadata": {},
     "output_type": "display_data"
    }
   ],
   "source": [
    "# Data for the chart\n",
    "acc_labels_all = list(acc_labels_df12_tfidf_all.keys())\n",
    "acc_values_all = list(acc_labels_df12_tfidf_all.values())\n",
    "# colors=['yellow','orange','magenta', 'gray', 'lightgray', 'blue', 'black', 'darkgray', 'white', 'lightgreen', 'darkred', 'purple']\n",
    "\n",
    "# Creating the chart\n",
    "plt.figure(figsize=(25, 10))\n",
    "plt.title('Comparing Accuracy of ML Models on text data from df12 dataset with RandomOversampling', fontsize=20)\n",
    "plt.xlabel('Accuracy', fontsize=16)\n",
    "plt.ylabel('Models', fontsize=16)\n",
    "plt.xticks(fontsize=16)\n",
    "plt.yticks(fontsize=16)# Increase the plot width to accommodate the values\n",
    "\n",
    "plt.barh(acc_labels_all, acc_values_all, color='blue', edgecolor='black', linewidth=1, alpha=0.7)\n",
    "\n",
    "# Displaying values at the end of the bars\n",
    "for i, value in enumerate(acc_values_all):\n",
    "    plt.text(value, i, f'{value:.5f}', fontsize=16, va='center')\n",
    "\n",
    "plt.show();"
   ]
  },
  {
   "cell_type": "code",
   "execution_count": null,
   "id": "ed80cb33",
   "metadata": {},
   "outputs": [],
   "source": []
  },
  {
   "cell_type": "markdown",
   "id": "34a2b83d",
   "metadata": {},
   "source": [
    "## PLOT 3: f1 score of selected models"
   ]
  },
  {
   "cell_type": "code",
   "execution_count": 214,
   "id": "2427cebb",
   "metadata": {},
   "outputs": [],
   "source": [
    "#Creating the Dictionary with model name as key and accuracy as key-value\n",
    "f1_labels_df12_tfidf_sel={'Naive Bayes Bernoulli':f1_NB_Bern_df12_tfidf,\n",
    "        'Naive Bayes Multinomial':f1_NB_Mult_df12_tfidf,\n",
    "        'Naive Bayes Complement':f1_NB_Compl_df12_tfidf,\n",
    "        'Logistic Regression':f1_LogReg_df12_tfidf,\n",
    "#        'Random Forest':f1_rf_df12_tfidf,\n",
    "        'Passive Aggressive':f1_PassAgg_df12_tfidf,\n",
    "        'LightBM':f1_LightGBM_df12_tfidf,\n",
    " #       'CatBoost':f1_CatBoost_df12_tfidf, \n",
    "        'XGBoost':f1_XGBoost_df12_tfidf,\n",
    "        'Stoachstic Gradient Descent':f1_sgd_df12_tfidf} \n",
    "        \n"
   ]
  },
  {
   "cell_type": "code",
   "execution_count": 221,
   "id": "7aefd1c6",
   "metadata": {},
   "outputs": [
    {
     "data": {
      "image/png": "[encoded data removed]",
      "text/plain": [
       "<Figure size 2500x1000 with 1 Axes>"
      ]
     },
     "metadata": {},
     "output_type": "display_data"
    }
   ],
   "source": [
    "# Data for the chart\n",
    "f1_labels_sel = list(f1_labels_df12_tfidf_sel.keys())\n",
    "f1_values_sel = list(f1_labels_df12_tfidf_sel.values())\n",
    "# colors=['yellow','orange','magenta', 'gray', 'blue', 'black', 'white', 'lightgreen', 'darkred', 'purple']\n",
    "\n",
    "# Creating the chart\n",
    "plt.figure(figsize=(25, 10))\n",
    "plt.title('Comparing f1-score of ML Models on text data from df12 dataset with RandomOversampling', fontsize=20)\n",
    "plt.xlabel('f1-score', fontsize=16)\n",
    "plt.ylabel('Models', fontsize=16)\n",
    "plt.xticks(fontsize=16)\n",
    "plt.yticks(fontsize=16)# Increase the plot width to accommodate the values\n",
    "\n",
    "plt.barh(f1_labels_sel, f1_values_sel, color='green', edgecolor='black', linewidth=1, alpha=0.7)\n",
    "\n",
    "# Displaying values at the end of the bars\n",
    "for i, value in enumerate(f1_values_sel):\n",
    "    plt.text(value, i, f'{value:.5f}', fontsize=16, va='center')\n",
    "\n",
    "plt.show();"
   ]
  },
  {
   "cell_type": "code",
   "execution_count": null,
   "id": "6825ae3c",
   "metadata": {},
   "outputs": [],
   "source": []
  },
  {
   "cell_type": "markdown",
   "id": "47556521",
   "metadata": {},
   "source": [
    "## PLOT 4: f1 score of all models"
   ]
  },
  {
   "cell_type": "code",
   "execution_count": 217,
   "id": "a53bc36a",
   "metadata": {},
   "outputs": [],
   "source": [
    "#Creating the Dictionary with model name as key and accuracy as key-value\n",
    "f1_labels_df12_tfidf_all={'Naive Bayes Bernoulli':f1_NB_Bern_df12_tfidf,\n",
    "        'Naive Bayes Multinomial':f1_NB_Mult_df12_tfidf,\n",
    "        'Naive Bayes Complement':f1_NB_Compl_df12_tfidf,\n",
    "        'Logistic Regression':f1_LogReg_df12_tfidf,\n",
    "        'Logistic Regression with class weight':f1_LogReg_df12_tfidf_CW,\n",
    "#        'Random Forest':f1_rf_df12_tfidf,\n",
    "        'Passive Aggressive':f1_PassAgg_df12_tfidf,\n",
    "        'Passive Aggressive with class weight':f1_PassAgg_df12_tfidf_CW,\n",
    "        'LightBM 20 rounds':f1_LightGBM_df12_tfidf,\n",
    "        'LightBM 200 rounds':f1_LightGBM_df12_tfidf_200,\n",
    "        'LightBM 500 rounds':f1_LightGBM_df12_tfidf_500,\n",
    "#        'LightBM 500 rounds with class weight':f1_LightGBM_df12_tfidf_500_CW,\n",
    "#        'CatBoost 20 rounds':f1_CatBoost_df12_tfidf, \n",
    "#        'CatBoost 50 rounds':f1_CatBoost_df12_tfidf_50, \n",
    "        'XGBoost 50 rounds':f1_XGBoost_df12_tfidf,\n",
    "        'XGBoost 200 rounds':f1_XGBoost_df12_tfidf_200,\n",
    "        'XGBoost 500 rounds':f1_XGBoost_df12_tfidf_500,\n",
    "        'Stoachstic Gradient Descent':f1_sgd_df12_tfidf,\n",
    "        'Stoachstic Gradient Descent with class weight':f1_sgd_df12_tfidf_CW} \n",
    "        "
   ]
  },
  {
   "cell_type": "code",
   "execution_count": 222,
   "id": "4887eb46",
   "metadata": {},
   "outputs": [
    {
     "data": {
      "image/png": "[encoded data removed]",
      "text/plain": [
       "<Figure size 2500x1000 with 1 Axes>"
      ]
     },
     "metadata": {},
     "output_type": "display_data"
    }
   ],
   "source": [
    "# Data for the chart\n",
    "f1_labels_all = list(f1_labels_df12_tfidf_all.keys())\n",
    "f1_values_all = list(f1_labels_df12_tfidf_all.values())\n",
    "# colors=['yellow','orange','magenta', 'gray', 'lightgray', 'blue', 'black', 'darkgray', 'white', 'lightgreen', 'darkred', 'purple']\n",
    "\n",
    "# Creating the chart\n",
    "plt.figure(figsize=(25, 10))\n",
    "plt.title('Comparing f1-score of ML Models on text data from df12 dataset with RandomOversampling', fontsize=20)\n",
    "plt.xlabel('f1-score', fontsize=16)\n",
    "plt.ylabel('Models', fontsize=16)\n",
    "plt.xticks(fontsize=16)\n",
    "plt.yticks(fontsize=16)# Increase the plot width to accommodate the values\n",
    "\n",
    "plt.barh(f1_labels_all, f1_values_all, color='green', edgecolor='black', linewidth=1, alpha=0.7)\n",
    "\n",
    "# Displaying values at the end of the bars\n",
    "for i, value in enumerate(f1_values_all):\n",
    "    plt.text(value, i, f'{value:.5f}', fontsize=16, va='center')\n",
    "\n",
    "plt.show();"
   ]
  },
  {
   "cell_type": "code",
   "execution_count": null,
   "id": "5f120fb1",
   "metadata": {},
   "outputs": [],
   "source": []
  }
 ],
 "metadata": {
  "kernelspec": {
   "display_name": "Python 3 (ipykernel)",
   "language": "python",
   "name": "python3"
  },
  "language_info": {
   "codemirror_mode": {
    "name": "ipython",
    "version": 3
   },
   "file_extension": ".py",
   "mimetype": "text/x-python",
   "name": "python",
   "nbconvert_exporter": "python",
   "pygments_lexer": "ipython3",
   "version": "3.10.9"
  }
 },
 "nbformat": 4,
 "nbformat_minor": 5
}
