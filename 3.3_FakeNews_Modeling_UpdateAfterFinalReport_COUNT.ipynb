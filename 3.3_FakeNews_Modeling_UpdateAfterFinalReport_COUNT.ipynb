{
 "cells": [
  {
   "cell_type": "markdown",
   "id": "206be5b3",
   "metadata": {},
   "source": [
    "# Fake News Project\n",
    "# Modeling - Update After Final Report\n",
    "\n",
    "# 3.2 COUNT VECTORIZER\n"
   ]
  },
  {
   "cell_type": "code",
   "execution_count": null,
   "id": "47335f47",
   "metadata": {},
   "outputs": [],
   "source": []
  },
  {
   "cell_type": "markdown",
   "id": "b9d2187f",
   "metadata": {},
   "source": [
    "# Import libraries"
   ]
  },
  {
   "cell_type": "code",
   "execution_count": 2,
   "id": "8155f53c",
   "metadata": {},
   "outputs": [],
   "source": [
    "#importing Libraries\n",
    "import numpy as np\n",
    "import pandas as pd\n",
    "from matplotlib.pylab import plt\n",
    "import seaborn as sns\n",
    "# from sqlalchemy import create_engine\n",
    "# import sqlalchemy as \n",
    "import sqlite3\n",
    "import nltk\n",
    "from nltk.tokenize import word_tokenize\n",
    "\n",
    "import nltk\n",
    "from sklearn.preprocessing import LabelBinarizer\n",
    "from nltk.corpus import stopwords\n",
    "from nltk.stem.porter import PorterStemmer\n",
    "from wordcloud import STOPWORDS,WordCloud\n",
    "from nltk.stem import WordNetLemmatizer\n",
    "from nltk.tokenize import word_tokenize,sent_tokenize\n",
    "from bs4 import BeautifulSoup\n",
    "import re,string,unicodedata\n",
    "from sklearn.metrics import f1_score\n",
    "\n",
    "from joblib import dump, load"
   ]
  },
  {
   "cell_type": "code",
   "execution_count": 3,
   "id": "4e048ed5",
   "metadata": {},
   "outputs": [],
   "source": [
    "import warnings\n",
    "\n",
    "warnings.filterwarnings(action=\"ignore\")"
   ]
  },
  {
   "cell_type": "code",
   "execution_count": null,
   "id": "2f15cc9c",
   "metadata": {},
   "outputs": [],
   "source": []
  },
  {
   "cell_type": "markdown",
   "id": "29eabe28",
   "metadata": {},
   "source": [
    "######################################################################################################\n",
    "# STAGE 3 - Optimized Analysis for 2 classes, title+content\n",
    "######################################################################################################\n"
   ]
  },
  {
   "cell_type": "code",
   "execution_count": 4,
   "id": "e331447d",
   "metadata": {},
   "outputs": [],
   "source": [
    "##########################\n",
    "# STAGE 3 - Optimized Analysis for 2 classes, title+content\n",
    "##########################\n",
    "\n",
    "# used dataset: strats_new.pkl (177.830 observations)\n",
    "\n",
    "# delete missing values in target (\"label\")\n",
    "# after dropping missing values in \"labels\" (target): 111.279 observations\n",
    "\n",
    "# TARGET: VARIABLE \"LABEL\"\n",
    "# 0: articles from reliable sources; 61222 observations\n",
    "# 1: articles from unreliable sources; 50058 observations\n",
    "\n",
    "\n",
    "\n",
    "#########\n",
    "# vectorize text (TF-IDF)\n",
    "# vectorize test (countvectorizer)\n",
    "\n",
    "#########\n",
    "\n"
   ]
  },
  {
   "cell_type": "code",
   "execution_count": 5,
   "id": "1de1efa6",
   "metadata": {},
   "outputs": [],
   "source": [
    "# HOW TO FURTHER IMPROVE MODELS?\n",
    "\n",
    "\n",
    "### 5: done in Stage 3 \n",
    "# compare different vectorizing methods on five best performing models\n",
    "# tfidf, countvectorizer\n",
    "# --> countvectorizer: results do not get better\n",
    "\n",
    "\n",
    "\n",
    "### 6: done in Stage 3\n",
    "# Grid Search\n",
    "# get optimal hyperparameters for three models\n",
    "# --> could only be finished for 1 model due to computational limitations\n",
    "\n",
    "\n",
    "\n",
    "### 7: done in Stage 3 \n",
    "# vectorize text (word2vec) \n",
    "# run some models again\n",
    "# --> word2vec: results do not get better\n",
    "\n",
    "\n",
    "\n",
    "\n",
    "################ not in this notebook\n",
    "\n",
    "\n",
    "### 8: not in this notebook; done for another stratified dataset with 12% of original database\n",
    "# using OverSample to deal with slightly unbalanced dataset\n",
    "# Random Oversampling (RandomOverSampler)\n",
    "# --> not much of an improvement\n",
    "\n",
    "\n",
    "\n",
    "### 9: not in this notebook\n",
    "# remove stop words and run five best performing models again\n",
    "\n",
    "\n",
    "\n",
    "### 10: not in this notebook\n",
    "# basic Deep Learning Model\n",
    "\n",
    "\n"
   ]
  },
  {
   "cell_type": "code",
   "execution_count": 6,
   "id": "67c81cee",
   "metadata": {},
   "outputs": [],
   "source": [
    "# CHOSEN MODELS FROM STAGE 2\n",
    "\n",
    "# Logistic Regression\n",
    "# Random Forest\n",
    "# Passive Aggressive Classifier\n",
    "# LightGBM 500 rounds\n",
    "# Stochastic Gradient Descent\n"
   ]
  },
  {
   "cell_type": "code",
   "execution_count": null,
   "id": "d6268312",
   "metadata": {},
   "outputs": [],
   "source": []
  },
  {
   "cell_type": "markdown",
   "id": "4d677a95",
   "metadata": {},
   "source": [
    "# LOADING PREPROCESSED DATASET strats_new.pkl"
   ]
  },
  {
   "cell_type": "code",
   "execution_count": 7,
   "id": "a0627c63",
   "metadata": {},
   "outputs": [
    {
     "data": {
      "text/html": [
       "<div>\n",
       "<style scoped>\n",
       "    .dataframe tbody tr th:only-of-type {\n",
       "        vertical-align: middle;\n",
       "    }\n",
       "\n",
       "    .dataframe tbody tr th {\n",
       "        vertical-align: top;\n",
       "    }\n",
       "\n",
       "    .dataframe thead th {\n",
       "        text-align: right;\n",
       "    }\n",
       "</style>\n",
       "<table border=\"1\" class=\"dataframe\">\n",
       "  <thead>\n",
       "    <tr style=\"text-align: right;\">\n",
       "      <th></th>\n",
       "      <th>id</th>\n",
       "      <th>date</th>\n",
       "      <th>source</th>\n",
       "      <th>title</th>\n",
       "      <th>content</th>\n",
       "      <th>author</th>\n",
       "      <th>url</th>\n",
       "      <th>published</th>\n",
       "      <th>published_utc</th>\n",
       "      <th>collection_utc</th>\n",
       "      <th>...</th>\n",
       "      <th>label</th>\n",
       "      <th>bias</th>\n",
       "      <th>factuality</th>\n",
       "      <th>questionable-source</th>\n",
       "      <th>conspiracy-pseudoscience</th>\n",
       "      <th>pro-science</th>\n",
       "      <th>word_count_content</th>\n",
       "      <th>word_count_title</th>\n",
       "      <th>nb_character_content</th>\n",
       "      <th>nb_character_title</th>\n",
       "    </tr>\n",
       "  </thead>\n",
       "  <tbody>\n",
       "    <tr>\n",
       "      <th>0</th>\n",
       "      <td>21stcenturywire--2022-04-26--An Unsettling Rea...</td>\n",
       "      <td>2022-04-26</td>\n",
       "      <td>21stcenturywire</td>\n",
       "      <td>An Unsettling Realization: ‘Mask Zealots are S...</td>\n",
       "      <td>It’s been noted how the fanatical nature of ma...</td>\n",
       "      <td>NEWS WIRE</td>\n",
       "      <td>https://21stcenturywire.com/2022/04/26/an-unse...</td>\n",
       "      <td>Tue, 26 Apr 2022 10:31:24 +0000</td>\n",
       "      <td>1650983484</td>\n",
       "      <td>1651010407</td>\n",
       "      <td>...</td>\n",
       "      <td>1.0</td>\n",
       "      <td>conspiracy-pseudoscience</td>\n",
       "      <td>2.0</td>\n",
       "      <td>0.0</td>\n",
       "      <td>1.0</td>\n",
       "      <td>0.0</td>\n",
       "      <td>108</td>\n",
       "      <td>8</td>\n",
       "      <td>720</td>\n",
       "      <td>61</td>\n",
       "    </tr>\n",
       "    <tr>\n",
       "      <th>1</th>\n",
       "      <td>21stcenturywire--2022-04-24--Episode #416 – ‘S...</td>\n",
       "      <td>2022-04-24</td>\n",
       "      <td>21stcenturywire</td>\n",
       "      <td>Episode #416 – ‘Soldiers of Fortune’ with gues...</td>\n",
       "      <td>Episode #416 of SUNDAY WIRE SHOW resumes this ...</td>\n",
       "      <td>NEWS WIRE</td>\n",
       "      <td>https://21stcenturywire.com/2022/04/24/episode...</td>\n",
       "      <td>Sun, 24 Apr 2022 14:00:48 +0000</td>\n",
       "      <td>1650823248</td>\n",
       "      <td>1651010408</td>\n",
       "      <td>...</td>\n",
       "      <td>1.0</td>\n",
       "      <td>conspiracy-pseudoscience</td>\n",
       "      <td>2.0</td>\n",
       "      <td>0.0</td>\n",
       "      <td>1.0</td>\n",
       "      <td>0.0</td>\n",
       "      <td>179</td>\n",
       "      <td>11</td>\n",
       "      <td>1143</td>\n",
       "      <td>66</td>\n",
       "    </tr>\n",
       "    <tr>\n",
       "      <th>2</th>\n",
       "      <td>21stcenturywire--2022-07-15--UKC News: UK Thou...</td>\n",
       "      <td>2022-07-15</td>\n",
       "      <td>21stcenturywire</td>\n",
       "      <td>UKC News: UK Thought Police, France Stops Vacc...</td>\n",
       "      <td>Authoritarians in the UK government are gettin...</td>\n",
       "      <td>NEWS WIRE</td>\n",
       "      <td>https://21stcenturywire.com/2022/07/15/ukc-new...</td>\n",
       "      <td>Fri, 15 Jul 2022 16:26:25 +0000</td>\n",
       "      <td>1657916785</td>\n",
       "      <td>1657922407</td>\n",
       "      <td>...</td>\n",
       "      <td>1.0</td>\n",
       "      <td>conspiracy-pseudoscience</td>\n",
       "      <td>2.0</td>\n",
       "      <td>0.0</td>\n",
       "      <td>1.0</td>\n",
       "      <td>0.0</td>\n",
       "      <td>207</td>\n",
       "      <td>13</td>\n",
       "      <td>1340</td>\n",
       "      <td>82</td>\n",
       "    </tr>\n",
       "    <tr>\n",
       "      <th>3</th>\n",
       "      <td>21stcenturywire--2022-05-22--Twitter Audit Fin...</td>\n",
       "      <td>2022-05-22</td>\n",
       "      <td>21stcenturywire</td>\n",
       "      <td>Twitter Audit Finds Half of President Biden’s ...</td>\n",
       "      <td>After the 2020 election, many Americans began ...</td>\n",
       "      <td>NEWS WIRE</td>\n",
       "      <td>https://21stcenturywire.com/2022/05/22/twitter...</td>\n",
       "      <td>Sun, 22 May 2022 12:17:48 +0000</td>\n",
       "      <td>1653236268</td>\n",
       "      <td>1653256808</td>\n",
       "      <td>...</td>\n",
       "      <td>1.0</td>\n",
       "      <td>conspiracy-pseudoscience</td>\n",
       "      <td>2.0</td>\n",
       "      <td>0.0</td>\n",
       "      <td>1.0</td>\n",
       "      <td>0.0</td>\n",
       "      <td>504</td>\n",
       "      <td>11</td>\n",
       "      <td>3274</td>\n",
       "      <td>69</td>\n",
       "    </tr>\n",
       "    <tr>\n",
       "      <th>4</th>\n",
       "      <td>21stcenturywire--2022-03-11--UKC News: The Tru...</td>\n",
       "      <td>2022-03-11</td>\n",
       "      <td>21stcenturywire</td>\n",
       "      <td>UKC News: The Truth About US Bio Labs + White ...</td>\n",
       "      <td>The high stakes game surrounding the Ukraine c...</td>\n",
       "      <td>NEWS WIRE</td>\n",
       "      <td>https://21stcenturywire.com/2022/03/11/ukc-new...</td>\n",
       "      <td>Fri, 11 Mar 2022 19:18:16 +0000</td>\n",
       "      <td>1647044296</td>\n",
       "      <td>1647039605</td>\n",
       "      <td>...</td>\n",
       "      <td>1.0</td>\n",
       "      <td>conspiracy-pseudoscience</td>\n",
       "      <td>2.0</td>\n",
       "      <td>0.0</td>\n",
       "      <td>1.0</td>\n",
       "      <td>0.0</td>\n",
       "      <td>147</td>\n",
       "      <td>14</td>\n",
       "      <td>908</td>\n",
       "      <td>70</td>\n",
       "    </tr>\n",
       "  </tbody>\n",
       "</table>\n",
       "<p>5 rows × 21 columns</p>\n",
       "</div>"
      ],
      "text/plain": [
       "                                                  id        date  \\\n",
       "0  21stcenturywire--2022-04-26--An Unsettling Rea...  2022-04-26   \n",
       "1  21stcenturywire--2022-04-24--Episode #416 – ‘S...  2022-04-24   \n",
       "2  21stcenturywire--2022-07-15--UKC News: UK Thou...  2022-07-15   \n",
       "3  21stcenturywire--2022-05-22--Twitter Audit Fin...  2022-05-22   \n",
       "4  21stcenturywire--2022-03-11--UKC News: The Tru...  2022-03-11   \n",
       "\n",
       "            source                                              title  \\\n",
       "0  21stcenturywire  An Unsettling Realization: ‘Mask Zealots are S...   \n",
       "1  21stcenturywire  Episode #416 – ‘Soldiers of Fortune’ with gues...   \n",
       "2  21stcenturywire  UKC News: UK Thought Police, France Stops Vacc...   \n",
       "3  21stcenturywire  Twitter Audit Finds Half of President Biden’s ...   \n",
       "4  21stcenturywire  UKC News: The Truth About US Bio Labs + White ...   \n",
       "\n",
       "                                             content     author  \\\n",
       "0  It’s been noted how the fanatical nature of ma...  NEWS WIRE   \n",
       "1  Episode #416 of SUNDAY WIRE SHOW resumes this ...  NEWS WIRE   \n",
       "2  Authoritarians in the UK government are gettin...  NEWS WIRE   \n",
       "3  After the 2020 election, many Americans began ...  NEWS WIRE   \n",
       "4  The high stakes game surrounding the Ukraine c...  NEWS WIRE   \n",
       "\n",
       "                                                 url  \\\n",
       "0  https://21stcenturywire.com/2022/04/26/an-unse...   \n",
       "1  https://21stcenturywire.com/2022/04/24/episode...   \n",
       "2  https://21stcenturywire.com/2022/07/15/ukc-new...   \n",
       "3  https://21stcenturywire.com/2022/05/22/twitter...   \n",
       "4  https://21stcenturywire.com/2022/03/11/ukc-new...   \n",
       "\n",
       "                         published  published_utc  collection_utc  ... label  \\\n",
       "0  Tue, 26 Apr 2022 10:31:24 +0000     1650983484      1651010407  ...   1.0   \n",
       "1  Sun, 24 Apr 2022 14:00:48 +0000     1650823248      1651010408  ...   1.0   \n",
       "2  Fri, 15 Jul 2022 16:26:25 +0000     1657916785      1657922407  ...   1.0   \n",
       "3  Sun, 22 May 2022 12:17:48 +0000     1653236268      1653256808  ...   1.0   \n",
       "4  Fri, 11 Mar 2022 19:18:16 +0000     1647044296      1647039605  ...   1.0   \n",
       "\n",
       "                       bias factuality  questionable-source  \\\n",
       "0  conspiracy-pseudoscience        2.0                  0.0   \n",
       "1  conspiracy-pseudoscience        2.0                  0.0   \n",
       "2  conspiracy-pseudoscience        2.0                  0.0   \n",
       "3  conspiracy-pseudoscience        2.0                  0.0   \n",
       "4  conspiracy-pseudoscience        2.0                  0.0   \n",
       "\n",
       "   conspiracy-pseudoscience  pro-science  word_count_content  \\\n",
       "0                       1.0          0.0                 108   \n",
       "1                       1.0          0.0                 179   \n",
       "2                       1.0          0.0                 207   \n",
       "3                       1.0          0.0                 504   \n",
       "4                       1.0          0.0                 147   \n",
       "\n",
       "   word_count_title  nb_character_content  nb_character_title  \n",
       "0                 8                   720                  61  \n",
       "1                11                  1143                  66  \n",
       "2                13                  1340                  82  \n",
       "3                11                  3274                  69  \n",
       "4                14                   908                  70  \n",
       "\n",
       "[5 rows x 21 columns]"
      ]
     },
     "execution_count": 7,
     "metadata": {},
     "output_type": "execute_result"
    }
   ],
   "source": [
    "df = pd.read_pickle(\"strats_new.pkl\")\n",
    "df.head()"
   ]
  },
  {
   "cell_type": "code",
   "execution_count": 8,
   "id": "cafb5e32",
   "metadata": {},
   "outputs": [
    {
     "name": "stdout",
     "output_type": "stream",
     "text": [
      "<class 'pandas.core.frame.DataFrame'>\n",
      "Int64Index: 177831 entries, 0 to 177830\n",
      "Data columns (total 21 columns):\n",
      " #   Column                    Non-Null Count   Dtype  \n",
      "---  ------                    --------------   -----  \n",
      " 0   id                        177831 non-null  object \n",
      " 1   date                      177831 non-null  object \n",
      " 2   source                    177831 non-null  object \n",
      " 3   title                     177831 non-null  object \n",
      " 4   content                   177831 non-null  object \n",
      " 5   author                    177831 non-null  object \n",
      " 6   url                       177831 non-null  object \n",
      " 7   published                 177831 non-null  object \n",
      " 8   published_utc             177831 non-null  int64  \n",
      " 9   collection_utc            177831 non-null  int64  \n",
      " 10  country                   106074 non-null  object \n",
      " 11  label                     111280 non-null  float64\n",
      " 12  bias                      111280 non-null  object \n",
      " 13  factuality                110158 non-null  float64\n",
      " 14  questionable-source       111280 non-null  float64\n",
      " 15  conspiracy-pseudoscience  111280 non-null  float64\n",
      " 16  pro-science               111280 non-null  float64\n",
      " 17  word_count_content        177831 non-null  int64  \n",
      " 18  word_count_title          177831 non-null  int64  \n",
      " 19  nb_character_content      177831 non-null  int64  \n",
      " 20  nb_character_title        177831 non-null  int64  \n",
      "dtypes: float64(5), int64(6), object(10)\n",
      "memory usage: 29.8+ MB\n"
     ]
    }
   ],
   "source": [
    "df.info()"
   ]
  },
  {
   "cell_type": "code",
   "execution_count": 9,
   "id": "d99f6c78",
   "metadata": {},
   "outputs": [],
   "source": [
    "# For modeling purposes, we deleted missing values in the column \"labels\" (target variable). \n",
    "df.dropna(subset=['label'], axis = 0, inplace=True)"
   ]
  },
  {
   "cell_type": "code",
   "execution_count": 10,
   "id": "46f35248",
   "metadata": {
    "scrolled": false
   },
   "outputs": [
    {
     "data": {
      "text/plain": [
       "0.0    61222\n",
       "1.0    50058\n",
       "Name: label, dtype: int64"
      ]
     },
     "execution_count": 10,
     "metadata": {},
     "output_type": "execute_result"
    }
   ],
   "source": [
    "## calculate frequencies of labels\n",
    "df[\"label\"].value_counts()\n",
    "\n",
    "# slightly unbalanced"
   ]
  },
  {
   "cell_type": "code",
   "execution_count": null,
   "id": "86f79731",
   "metadata": {},
   "outputs": [],
   "source": []
  },
  {
   "cell_type": "markdown",
   "id": "7edc5f0f",
   "metadata": {},
   "source": [
    "# Create X_no2 and Y_no2 (only title and text)"
   ]
  },
  {
   "cell_type": "code",
   "execution_count": 11,
   "id": "97cf0ee5",
   "metadata": {},
   "outputs": [],
   "source": [
    "# Create a boolean mask to select rows where the label is not equal to 2\n",
    "mask = df[\"label\"] != 2\n",
    "\n",
    "# Use the mask to filter the DataFrame\n",
    "df_no2 = df[mask]"
   ]
  },
  {
   "cell_type": "code",
   "execution_count": 12,
   "id": "2e2ffc88",
   "metadata": {},
   "outputs": [],
   "source": [
    "# Seperating target and data\n",
    "Y_no2 = df_no2[\"label\"]\n",
    "X_no2 = df_no2.drop(\"label\", axis=1)\n"
   ]
  },
  {
   "cell_type": "code",
   "execution_count": 13,
   "id": "b5bc4b0a",
   "metadata": {},
   "outputs": [
    {
     "name": "stdout",
     "output_type": "stream",
     "text": [
      "<class 'pandas.core.frame.DataFrame'>\n",
      "Int64Index: 111280 entries, 0 to 177830\n",
      "Data columns (total 20 columns):\n",
      " #   Column                    Non-Null Count   Dtype  \n",
      "---  ------                    --------------   -----  \n",
      " 0   id                        111280 non-null  object \n",
      " 1   date                      111280 non-null  object \n",
      " 2   source                    111280 non-null  object \n",
      " 3   title                     111280 non-null  object \n",
      " 4   content                   111280 non-null  object \n",
      " 5   author                    111280 non-null  object \n",
      " 6   url                       111280 non-null  object \n",
      " 7   published                 111280 non-null  object \n",
      " 8   published_utc             111280 non-null  int64  \n",
      " 9   collection_utc            111280 non-null  int64  \n",
      " 10  country                   106074 non-null  object \n",
      " 11  bias                      111280 non-null  object \n",
      " 12  factuality                110158 non-null  float64\n",
      " 13  questionable-source       111280 non-null  float64\n",
      " 14  conspiracy-pseudoscience  111280 non-null  float64\n",
      " 15  pro-science               111280 non-null  float64\n",
      " 16  word_count_content        111280 non-null  int64  \n",
      " 17  word_count_title          111280 non-null  int64  \n",
      " 18  nb_character_content      111280 non-null  int64  \n",
      " 19  nb_character_title        111280 non-null  int64  \n",
      "dtypes: float64(4), int64(6), object(10)\n",
      "memory usage: 17.8+ MB\n"
     ]
    }
   ],
   "source": [
    "X_no2.info()"
   ]
  },
  {
   "cell_type": "code",
   "execution_count": 14,
   "id": "fe015163",
   "metadata": {},
   "outputs": [
    {
     "data": {
      "text/plain": [
       "id                             0\n",
       "date                           0\n",
       "source                         0\n",
       "title                          0\n",
       "content                        0\n",
       "author                         0\n",
       "url                            0\n",
       "published                      0\n",
       "published_utc                  0\n",
       "collection_utc                 0\n",
       "country                     5206\n",
       "bias                           0\n",
       "factuality                  1122\n",
       "questionable-source            0\n",
       "conspiracy-pseudoscience       0\n",
       "pro-science                    0\n",
       "word_count_content             0\n",
       "word_count_title               0\n",
       "nb_character_content           0\n",
       "nb_character_title             0\n",
       "dtype: int64"
      ]
     },
     "execution_count": 14,
     "metadata": {},
     "output_type": "execute_result"
    }
   ],
   "source": [
    "X_no2.isnull().sum()"
   ]
  },
  {
   "cell_type": "code",
   "execution_count": 15,
   "id": "4654be88",
   "metadata": {},
   "outputs": [
    {
     "data": {
      "text/plain": [
       "(111280, 20)"
      ]
     },
     "execution_count": 15,
     "metadata": {},
     "output_type": "execute_result"
    }
   ],
   "source": [
    "X_no2.shape"
   ]
  },
  {
   "cell_type": "code",
   "execution_count": 16,
   "id": "599152b1",
   "metadata": {},
   "outputs": [
    {
     "name": "stdout",
     "output_type": "stream",
     "text": [
      "<class 'pandas.core.series.Series'>\n",
      "Int64Index: 111280 entries, 0 to 177830\n",
      "Series name: label\n",
      "Non-Null Count   Dtype  \n",
      "--------------   -----  \n",
      "111280 non-null  float64\n",
      "dtypes: float64(1)\n",
      "memory usage: 1.7 MB\n"
     ]
    }
   ],
   "source": [
    "Y_no2.info()"
   ]
  },
  {
   "cell_type": "code",
   "execution_count": 17,
   "id": "2ee0e22e",
   "metadata": {},
   "outputs": [
    {
     "data": {
      "text/plain": [
       "0"
      ]
     },
     "execution_count": 17,
     "metadata": {},
     "output_type": "execute_result"
    }
   ],
   "source": [
    "Y_no2.isnull().sum()"
   ]
  },
  {
   "cell_type": "code",
   "execution_count": 18,
   "id": "988de90a",
   "metadata": {
    "scrolled": true
   },
   "outputs": [
    {
     "data": {
      "text/plain": [
       "(111280,)"
      ]
     },
     "execution_count": 18,
     "metadata": {},
     "output_type": "execute_result"
    }
   ],
   "source": [
    "Y_no2.shape"
   ]
  },
  {
   "cell_type": "code",
   "execution_count": null,
   "id": "9ee6b1af",
   "metadata": {},
   "outputs": [],
   "source": []
  },
  {
   "cell_type": "markdown",
   "id": "8c3c0d04",
   "metadata": {},
   "source": [
    "# VECTORIZING"
   ]
  },
  {
   "cell_type": "markdown",
   "id": "031f24b1",
   "metadata": {},
   "source": [
    "# COUNT VECTORIZER\n",
    "## USING CONTENT AND TITLE ONLY"
   ]
  },
  {
   "cell_type": "code",
   "execution_count": 19,
   "id": "3cd89af5",
   "metadata": {},
   "outputs": [],
   "source": [
    "from sklearn.feature_extraction.text import CountVectorizer\n",
    "from scipy.sparse import hstack, csr_matrix\n",
    "\n",
    "# Create two CountVectorizer objects\n",
    "vectorizer1_count = CountVectorizer()\n",
    "vectorizer2_count = CountVectorizer()\n",
    "\n",
    "# Seperating content and title(what we want to predict on)\n",
    "# Fit the vectorizers on the training data\n",
    "vectorizer1_count.fit(X_no2[\"content\"])\n",
    "vectorizer2_count.fit(X_no2[\"title\"])\n",
    "\n",
    "# Transform the text data\n",
    "X_content_count = vectorizer1_count.transform(X_no2[\"content\"])\n",
    "X_title_count = vectorizer2_count.transform(X_no2[\"title\"])\n",
    "\n",
    "# Combine the feature matrices\n",
    "X_text_count = hstack([X_content_count, X_title_count])"
   ]
  },
  {
   "cell_type": "code",
   "execution_count": 20,
   "id": "0cf0173f",
   "metadata": {},
   "outputs": [
    {
     "data": {
      "text/plain": [
       "<111280x352812 sparse matrix of type '<class 'numpy.int64'>'\n",
       "\twith 27130350 stored elements in Compressed Sparse Row format>"
      ]
     },
     "execution_count": 20,
     "metadata": {},
     "output_type": "execute_result"
    }
   ],
   "source": [
    "X_text_count"
   ]
  },
  {
   "cell_type": "code",
   "execution_count": 21,
   "id": "9725a5ad",
   "metadata": {},
   "outputs": [
    {
     "data": {
      "text/plain": [
       "(111280, 352812)"
      ]
     },
     "execution_count": 21,
     "metadata": {},
     "output_type": "execute_result"
    }
   ],
   "source": [
    "X_text_count.shape"
   ]
  },
  {
   "cell_type": "code",
   "execution_count": null,
   "id": "26b99010",
   "metadata": {},
   "outputs": [],
   "source": []
  },
  {
   "cell_type": "markdown",
   "id": "32dac683",
   "metadata": {},
   "source": [
    "## SAVE THE VECTORIZER\n",
    "## ALREADY SAVED"
   ]
  },
  {
   "cell_type": "code",
   "execution_count": 22,
   "id": "3f19594a",
   "metadata": {},
   "outputs": [],
   "source": [
    "# import joblib"
   ]
  },
  {
   "cell_type": "code",
   "execution_count": 23,
   "id": "68cd06b6",
   "metadata": {},
   "outputs": [
    {
     "data": {
      "text/plain": [
       "['vectorizer1_count.pkl']"
      ]
     },
     "execution_count": 23,
     "metadata": {},
     "output_type": "execute_result"
    }
   ],
   "source": [
    "# Save the vectorizers as \"vectorizer1_count.pkl\"\n",
    "# joblib.dump(vectorizer1_count, \"vectorizer1_count.pkl\")\n"
   ]
  },
  {
   "cell_type": "code",
   "execution_count": 24,
   "id": "026a7e44",
   "metadata": {
    "scrolled": true
   },
   "outputs": [
    {
     "data": {
      "text/plain": [
       "['vectorizer2_count.pkl']"
      ]
     },
     "execution_count": 24,
     "metadata": {},
     "output_type": "execute_result"
    }
   ],
   "source": [
    "# Save the vectorizers as \"vectorizer2_count.pkl\"\n",
    "# joblib.dump(vectorizer2_count, \"vectorizer2_count.pkl\")\n"
   ]
  },
  {
   "cell_type": "code",
   "execution_count": null,
   "id": "637f1973",
   "metadata": {},
   "outputs": [],
   "source": []
  },
  {
   "cell_type": "markdown",
   "id": "ba926743",
   "metadata": {},
   "source": [
    "## Create Train / Test Datasets COUNT"
   ]
  },
  {
   "cell_type": "code",
   "execution_count": 25,
   "id": "0bbed503",
   "metadata": {},
   "outputs": [],
   "source": [
    "from sklearn.model_selection import train_test_split\n",
    "\n",
    "X_train_text_count, X_test_text_count, Y_train_count, Y_test_count = train_test_split(X_text_count, Y_no2, test_size=0.2, random_state = 2)\n"
   ]
  },
  {
   "cell_type": "code",
   "execution_count": 26,
   "id": "eb373396",
   "metadata": {},
   "outputs": [
    {
     "data": {
      "text/plain": [
       "<89024x352812 sparse matrix of type '<class 'numpy.int64'>'\n",
       "\twith 21713517 stored elements in Compressed Sparse Row format>"
      ]
     },
     "execution_count": 26,
     "metadata": {},
     "output_type": "execute_result"
    }
   ],
   "source": [
    "X_train_text_count"
   ]
  },
  {
   "cell_type": "code",
   "execution_count": 27,
   "id": "58d9a0b3",
   "metadata": {},
   "outputs": [
    {
     "data": {
      "text/plain": [
       "(89024, 352812)"
      ]
     },
     "execution_count": 27,
     "metadata": {},
     "output_type": "execute_result"
    }
   ],
   "source": [
    "X_train_text_count.shape"
   ]
  },
  {
   "cell_type": "code",
   "execution_count": 28,
   "id": "1225344d",
   "metadata": {},
   "outputs": [
    {
     "data": {
      "text/plain": [
       "<22256x352812 sparse matrix of type '<class 'numpy.int64'>'\n",
       "\twith 5416833 stored elements in Compressed Sparse Row format>"
      ]
     },
     "execution_count": 28,
     "metadata": {},
     "output_type": "execute_result"
    }
   ],
   "source": [
    "X_test_text_count"
   ]
  },
  {
   "cell_type": "code",
   "execution_count": 29,
   "id": "43640625",
   "metadata": {
    "scrolled": true
   },
   "outputs": [
    {
     "data": {
      "text/plain": [
       "(22256, 352812)"
      ]
     },
     "execution_count": 29,
     "metadata": {},
     "output_type": "execute_result"
    }
   ],
   "source": [
    "X_test_text_count.shape"
   ]
  },
  {
   "cell_type": "code",
   "execution_count": 30,
   "id": "e373760d",
   "metadata": {},
   "outputs": [
    {
     "data": {
      "text/plain": [
       "169056    1.0\n",
       "160995    0.0\n",
       "70153     0.0\n",
       "40328     0.0\n",
       "54927     1.0\n",
       "         ... \n",
       "62833     0.0\n",
       "160982    0.0\n",
       "102715    1.0\n",
       "166045    0.0\n",
       "139097    0.0\n",
       "Name: label, Length: 89024, dtype: float64"
      ]
     },
     "execution_count": 30,
     "metadata": {},
     "output_type": "execute_result"
    }
   ],
   "source": [
    "Y_train_count"
   ]
  },
  {
   "cell_type": "code",
   "execution_count": 31,
   "id": "b0b8657d",
   "metadata": {},
   "outputs": [
    {
     "data": {
      "text/plain": [
       "(89024,)"
      ]
     },
     "execution_count": 31,
     "metadata": {},
     "output_type": "execute_result"
    }
   ],
   "source": [
    "Y_train_count.shape"
   ]
  },
  {
   "cell_type": "code",
   "execution_count": 32,
   "id": "a236c810",
   "metadata": {},
   "outputs": [
    {
     "data": {
      "text/plain": [
       "74321     1.0\n",
       "174089    0.0\n",
       "167582    1.0\n",
       "31490     1.0\n",
       "167089    1.0\n",
       "         ... \n",
       "48590     0.0\n",
       "12906     1.0\n",
       "157618    0.0\n",
       "34414     0.0\n",
       "83273     1.0\n",
       "Name: label, Length: 22256, dtype: float64"
      ]
     },
     "execution_count": 32,
     "metadata": {},
     "output_type": "execute_result"
    }
   ],
   "source": [
    "Y_test_count"
   ]
  },
  {
   "cell_type": "code",
   "execution_count": 33,
   "id": "a3cc7932",
   "metadata": {},
   "outputs": [
    {
     "data": {
      "text/plain": [
       "(22256,)"
      ]
     },
     "execution_count": 33,
     "metadata": {},
     "output_type": "execute_result"
    }
   ],
   "source": [
    "Y_test_count.shape"
   ]
  },
  {
   "cell_type": "code",
   "execution_count": null,
   "id": "2cfd760d",
   "metadata": {},
   "outputs": [],
   "source": []
  },
  {
   "cell_type": "markdown",
   "id": "6c535970",
   "metadata": {},
   "source": [
    "# CREATE LOGISTIC REGRESSION MODEL ON count text data\n",
    "# use saved model\n",
    "# model_clf_LogReg_count.joblib\n"
   ]
  },
  {
   "cell_type": "code",
   "execution_count": 34,
   "id": "1840dc97",
   "metadata": {},
   "outputs": [],
   "source": [
    "# Instantiate model \n",
    "from sklearn.linear_model import LogisticRegression\n",
    "\n",
    "# clf_LogReg_count = LogisticRegression(C=1.0)\n"
   ]
  },
  {
   "cell_type": "code",
   "execution_count": 35,
   "id": "f60d0954",
   "metadata": {},
   "outputs": [
    {
     "data": {
      "text/html": [
       "<style>#sk-container-id-1 {color: black;background-color: white;}#sk-container-id-1 pre{padding: 0;}#sk-container-id-1 div.sk-toggleable {background-color: white;}#sk-container-id-1 label.sk-toggleable__label {cursor: pointer;display: block;width: 100%;margin-bottom: 0;padding: 0.3em;box-sizing: border-box;text-align: center;}#sk-container-id-1 label.sk-toggleable__label-arrow:before {content: \"▸\";float: left;margin-right: 0.25em;color: #696969;}#sk-container-id-1 label.sk-toggleable__label-arrow:hover:before {color: black;}#sk-container-id-1 div.sk-estimator:hover label.sk-toggleable__label-arrow:before {color: black;}#sk-container-id-1 div.sk-toggleable__content {max-height: 0;max-width: 0;overflow: hidden;text-align: left;background-color: #f0f8ff;}#sk-container-id-1 div.sk-toggleable__content pre {margin: 0.2em;color: black;border-radius: 0.25em;background-color: #f0f8ff;}#sk-container-id-1 input.sk-toggleable__control:checked~div.sk-toggleable__content {max-height: 200px;max-width: 100%;overflow: auto;}#sk-container-id-1 input.sk-toggleable__control:checked~label.sk-toggleable__label-arrow:before {content: \"▾\";}#sk-container-id-1 div.sk-estimator input.sk-toggleable__control:checked~label.sk-toggleable__label {background-color: #d4ebff;}#sk-container-id-1 div.sk-label input.sk-toggleable__control:checked~label.sk-toggleable__label {background-color: #d4ebff;}#sk-container-id-1 input.sk-hidden--visually {border: 0;clip: rect(1px 1px 1px 1px);clip: rect(1px, 1px, 1px, 1px);height: 1px;margin: -1px;overflow: hidden;padding: 0;position: absolute;width: 1px;}#sk-container-id-1 div.sk-estimator {font-family: monospace;background-color: #f0f8ff;border: 1px dotted black;border-radius: 0.25em;box-sizing: border-box;margin-bottom: 0.5em;}#sk-container-id-1 div.sk-estimator:hover {background-color: #d4ebff;}#sk-container-id-1 div.sk-parallel-item::after {content: \"\";width: 100%;border-bottom: 1px solid gray;flex-grow: 1;}#sk-container-id-1 div.sk-label:hover label.sk-toggleable__label {background-color: #d4ebff;}#sk-container-id-1 div.sk-serial::before {content: \"\";position: absolute;border-left: 1px solid gray;box-sizing: border-box;top: 0;bottom: 0;left: 50%;z-index: 0;}#sk-container-id-1 div.sk-serial {display: flex;flex-direction: column;align-items: center;background-color: white;padding-right: 0.2em;padding-left: 0.2em;position: relative;}#sk-container-id-1 div.sk-item {position: relative;z-index: 1;}#sk-container-id-1 div.sk-parallel {display: flex;align-items: stretch;justify-content: center;background-color: white;position: relative;}#sk-container-id-1 div.sk-item::before, #sk-container-id-1 div.sk-parallel-item::before {content: \"\";position: absolute;border-left: 1px solid gray;box-sizing: border-box;top: 0;bottom: 0;left: 50%;z-index: -1;}#sk-container-id-1 div.sk-parallel-item {display: flex;flex-direction: column;z-index: 1;position: relative;background-color: white;}#sk-container-id-1 div.sk-parallel-item:first-child::after {align-self: flex-end;width: 50%;}#sk-container-id-1 div.sk-parallel-item:last-child::after {align-self: flex-start;width: 50%;}#sk-container-id-1 div.sk-parallel-item:only-child::after {width: 0;}#sk-container-id-1 div.sk-dashed-wrapped {border: 1px dashed gray;margin: 0 0.4em 0.5em 0.4em;box-sizing: border-box;padding-bottom: 0.4em;background-color: white;}#sk-container-id-1 div.sk-label label {font-family: monospace;font-weight: bold;display: inline-block;line-height: 1.2em;}#sk-container-id-1 div.sk-label-container {text-align: center;}#sk-container-id-1 div.sk-container {/* jupyter's `normalize.less` sets `[hidden] { display: none; }` but bootstrap.min.css set `[hidden] { display: none !important; }` so we also need the `!important` here to be able to override the default hidden behavior on the sphinx rendered scikit-learn.org. See: https://github.com/scikit-learn/scikit-learn/issues/21755 */display: inline-block !important;position: relative;}#sk-container-id-1 div.sk-text-repr-fallback {display: none;}</style><div id=\"sk-container-id-1\" class=\"sk-top-container\"><div class=\"sk-text-repr-fallback\"><pre>LogisticRegression()</pre><b>In a Jupyter environment, please rerun this cell to show the HTML representation or trust the notebook. <br />On GitHub, the HTML representation is unable to render, please try loading this page with nbviewer.org.</b></div><div class=\"sk-container\" hidden><div class=\"sk-item\"><div class=\"sk-estimator sk-toggleable\"><input class=\"sk-toggleable__control sk-hidden--visually\" id=\"sk-estimator-id-1\" type=\"checkbox\" checked><label for=\"sk-estimator-id-1\" class=\"sk-toggleable__label sk-toggleable__label-arrow\">LogisticRegression</label><div class=\"sk-toggleable__content\"><pre>LogisticRegression()</pre></div></div></div></div></div>"
      ],
      "text/plain": [
       "LogisticRegression()"
      ]
     },
     "execution_count": 35,
     "metadata": {},
     "output_type": "execute_result"
    }
   ],
   "source": [
    "# Fit the model on the training dataset\n",
    "# clf_LogReg_count.fit(X_train_text_count, Y_train_count)\n",
    "\n",
    "# only run once, then use saved model\n"
   ]
  },
  {
   "cell_type": "code",
   "execution_count": 42,
   "id": "617247d1",
   "metadata": {},
   "outputs": [],
   "source": [
    "from joblib import dump, load"
   ]
  },
  {
   "cell_type": "code",
   "execution_count": 43,
   "id": "69761d69",
   "metadata": {},
   "outputs": [],
   "source": [
    "# LOAD SAVED MODEL\n",
    "clf_LogReg_count = load(\"model_clf_LogReg_count.joblib\")\n"
   ]
  },
  {
   "cell_type": "code",
   "execution_count": 44,
   "id": "4a791bb9",
   "metadata": {},
   "outputs": [],
   "source": [
    "y_pred_LogReg_count = clf_LogReg_count.predict(X_test_text_count)\n"
   ]
  },
  {
   "cell_type": "code",
   "execution_count": 45,
   "id": "f82964cd",
   "metadata": {},
   "outputs": [
    {
     "data": {
      "text/plain": [
       "0.8315959741193386"
      ]
     },
     "execution_count": 45,
     "metadata": {},
     "output_type": "execute_result"
    }
   ],
   "source": [
    "# get accuracy\n",
    "accuracy_LogReg_count = clf_LogReg_count.score(X_test_text_count, Y_test_count)\n",
    "accuracy_LogReg_count\n",
    "\n",
    "# 0.83\n",
    "# a bit worse as compared to tfidf"
   ]
  },
  {
   "cell_type": "code",
   "execution_count": 46,
   "id": "df176340",
   "metadata": {},
   "outputs": [
    {
     "name": "stdout",
     "output_type": "stream",
     "text": [
      "f1 score: 0.8128993610223643\n"
     ]
    }
   ],
   "source": [
    "# Evaluate the model\n",
    "\n",
    "f1_LogReg_count = f1_score(Y_test_count, y_pred_LogReg_count)\n",
    "print(\"f1 score:\", f1_LogReg_count)\n",
    "\n",
    "# 0.812899\n",
    "# a bit worse as compared to tfidf"
   ]
  },
  {
   "cell_type": "code",
   "execution_count": 47,
   "id": "4e54d06c",
   "metadata": {},
   "outputs": [
    {
     "data": {
      "text/html": [
       "<div>\n",
       "<style scoped>\n",
       "    .dataframe tbody tr th:only-of-type {\n",
       "        vertical-align: middle;\n",
       "    }\n",
       "\n",
       "    .dataframe tbody tr th {\n",
       "        vertical-align: top;\n",
       "    }\n",
       "\n",
       "    .dataframe thead th {\n",
       "        text-align: right;\n",
       "    }\n",
       "</style>\n",
       "<table border=\"1\" class=\"dataframe\">\n",
       "  <thead>\n",
       "    <tr style=\"text-align: right;\">\n",
       "      <th>predict</th>\n",
       "      <th>0.0</th>\n",
       "      <th>1.0</th>\n",
       "    </tr>\n",
       "    <tr>\n",
       "      <th>true</th>\n",
       "      <th></th>\n",
       "      <th></th>\n",
       "    </tr>\n",
       "  </thead>\n",
       "  <tbody>\n",
       "    <tr>\n",
       "      <th>0.0</th>\n",
       "      <td>10366</td>\n",
       "      <td>1850</td>\n",
       "    </tr>\n",
       "    <tr>\n",
       "      <th>1.0</th>\n",
       "      <td>1898</td>\n",
       "      <td>8142</td>\n",
       "    </tr>\n",
       "  </tbody>\n",
       "</table>\n",
       "</div>"
      ],
      "text/plain": [
       "predict    0.0   1.0\n",
       "true                \n",
       "0.0      10366  1850\n",
       "1.0       1898  8142"
      ]
     },
     "execution_count": 47,
     "metadata": {},
     "output_type": "execute_result"
    }
   ],
   "source": [
    "# get confusion matrix\n",
    "pd.crosstab(Y_test_count, y_pred_LogReg_count, rownames=[\"true\"], colnames=[\"predict\"])\n"
   ]
  },
  {
   "cell_type": "code",
   "execution_count": 48,
   "id": "c27bb32e",
   "metadata": {},
   "outputs": [
    {
     "name": "stdout",
     "output_type": "stream",
     "text": [
      "Logistic Regression count classification report:\n",
      "                precision    recall  f1-score   support\n",
      "\n",
      "         0.0       0.85      0.85      0.85     12216\n",
      "         1.0       0.81      0.81      0.81     10040\n",
      "\n",
      "    accuracy                           0.83     22256\n",
      "   macro avg       0.83      0.83      0.83     22256\n",
      "weighted avg       0.83      0.83      0.83     22256\n",
      "\n"
     ]
    }
   ],
   "source": [
    "from sklearn.metrics import classification_report \n",
    "\n",
    "# get classification report\n",
    "print(\"Logistic Regression count classification report:\\n \", classification_report (Y_test_count, y_pred_LogReg_count))\n"
   ]
  },
  {
   "cell_type": "code",
   "execution_count": 49,
   "id": "d67a1dc8",
   "metadata": {},
   "outputs": [
    {
     "name": "stdout",
     "output_type": "stream",
     "text": [
      "[[10366  1850]\n",
      " [ 1898  8142]]\n"
     ]
    }
   ],
   "source": [
    "# create confusion matrix\n",
    "from sklearn.metrics import confusion_matrix \n",
    "\n",
    "cf_matrix_LogReg_count = confusion_matrix(Y_test_count, y_pred_LogReg_count)\n",
    "print(cf_matrix_LogReg_count)\n"
   ]
  },
  {
   "cell_type": "markdown",
   "id": "c0b6f3c4",
   "metadata": {},
   "source": [
    "# SAVE OPTIMIZED Logistic Regression MODEL COUNT\n",
    "# ALREADY SAVED\n"
   ]
  },
  {
   "cell_type": "code",
   "execution_count": 43,
   "id": "1c2797a6",
   "metadata": {},
   "outputs": [],
   "source": [
    "# from joblib import dump, load"
   ]
  },
  {
   "cell_type": "code",
   "execution_count": 44,
   "id": "ada9ac5a",
   "metadata": {},
   "outputs": [
    {
     "data": {
      "text/plain": [
       "['model_clf_LogReg_count.joblib']"
      ]
     },
     "execution_count": 44,
     "metadata": {},
     "output_type": "execute_result"
    }
   ],
   "source": [
    "# dump(clf_LogReg_count, \"model_clf_LogReg_count.joblib\")"
   ]
  },
  {
   "cell_type": "code",
   "execution_count": null,
   "id": "dd31b326",
   "metadata": {},
   "outputs": [],
   "source": []
  },
  {
   "cell_type": "code",
   "execution_count": null,
   "id": "ff871b31",
   "metadata": {},
   "outputs": [],
   "source": []
  },
  {
   "cell_type": "markdown",
   "id": "8890ddfa",
   "metadata": {},
   "source": [
    "# RANDOM FOREST on text data count\n",
    "# takes 30 minutes - use saved model\n",
    "# model_clf_rf_count.joblib\n"
   ]
  },
  {
   "cell_type": "code",
   "execution_count": 50,
   "id": "20f1e4c2",
   "metadata": {},
   "outputs": [],
   "source": [
    "from sklearn.ensemble import RandomForestClassifier"
   ]
  },
  {
   "cell_type": "code",
   "execution_count": 51,
   "id": "abe1836d",
   "metadata": {},
   "outputs": [],
   "source": [
    "# Instantiate the model\n",
    "# clf_rf_count = RandomForestClassifier(n_jobs=-1)\n"
   ]
  },
  {
   "cell_type": "code",
   "execution_count": 52,
   "id": "d5e23429",
   "metadata": {},
   "outputs": [],
   "source": [
    "# fit model\n",
    "# clf_rf_count.fit(X_train_text_count, Y_train_count)\n",
    "\n",
    "# takes 30 minutes\n",
    "# only run once, then use saved modelfrom joblib import dump, load\n"
   ]
  },
  {
   "cell_type": "code",
   "execution_count": 53,
   "id": "6ecddc47",
   "metadata": {},
   "outputs": [],
   "source": [
    "from joblib import dump, load"
   ]
  },
  {
   "cell_type": "code",
   "execution_count": 54,
   "id": "3eda07d0",
   "metadata": {},
   "outputs": [],
   "source": [
    "# LOAD SAVED MODEL\n",
    "clf_rf_count = load(\"model_clf_rf_count.joblib\")\n"
   ]
  },
  {
   "cell_type": "code",
   "execution_count": 55,
   "id": "9e0960c1",
   "metadata": {},
   "outputs": [],
   "source": [
    "#Predict on the test set \n",
    "y_pred_rf_count = clf_rf_count.predict(X_test_text_count)\n"
   ]
  },
  {
   "cell_type": "code",
   "execution_count": 56,
   "id": "400ec0f7",
   "metadata": {},
   "outputs": [
    {
     "data": {
      "text/plain": [
       "0.7972232207045291"
      ]
     },
     "execution_count": 56,
     "metadata": {},
     "output_type": "execute_result"
    }
   ],
   "source": [
    "# get accuracy\n",
    "accuracy_rf_count = clf_rf_count.score(X_test_text_count, Y_test_count)\n",
    "accuracy_rf_count\n",
    "\n",
    "# 0.79\n",
    "# identical to tfidf"
   ]
  },
  {
   "cell_type": "code",
   "execution_count": 57,
   "id": "42c50f27",
   "metadata": {},
   "outputs": [
    {
     "data": {
      "text/plain": [
       "0.7270638040520109"
      ]
     },
     "execution_count": 57,
     "metadata": {},
     "output_type": "execute_result"
    }
   ],
   "source": [
    "# Evaluate the model with f1 score\n",
    "from sklearn.metrics import f1_score\n",
    "\n",
    "f1_rf_count = f1_score(Y_test_count, y_pred_rf_count)\n",
    "f1_rf_count\n",
    "\n",
    "# 0.727\n",
    "# identical to tfidf\n"
   ]
  },
  {
   "cell_type": "code",
   "execution_count": 58,
   "id": "273fadce",
   "metadata": {},
   "outputs": [
    {
     "data": {
      "text/html": [
       "<div>\n",
       "<style scoped>\n",
       "    .dataframe tbody tr th:only-of-type {\n",
       "        vertical-align: middle;\n",
       "    }\n",
       "\n",
       "    .dataframe tbody tr th {\n",
       "        vertical-align: top;\n",
       "    }\n",
       "\n",
       "    .dataframe thead th {\n",
       "        text-align: right;\n",
       "    }\n",
       "</style>\n",
       "<table border=\"1\" class=\"dataframe\">\n",
       "  <thead>\n",
       "    <tr style=\"text-align: right;\">\n",
       "      <th>predict</th>\n",
       "      <th>0.0</th>\n",
       "      <th>1.0</th>\n",
       "    </tr>\n",
       "    <tr>\n",
       "      <th>true</th>\n",
       "      <th></th>\n",
       "      <th></th>\n",
       "    </tr>\n",
       "  </thead>\n",
       "  <tbody>\n",
       "    <tr>\n",
       "      <th>0.0</th>\n",
       "      <td>11732</td>\n",
       "      <td>484</td>\n",
       "    </tr>\n",
       "    <tr>\n",
       "      <th>1.0</th>\n",
       "      <td>4029</td>\n",
       "      <td>6011</td>\n",
       "    </tr>\n",
       "  </tbody>\n",
       "</table>\n",
       "</div>"
      ],
      "text/plain": [
       "predict    0.0   1.0\n",
       "true                \n",
       "0.0      11732   484\n",
       "1.0       4029  6011"
      ]
     },
     "execution_count": 58,
     "metadata": {},
     "output_type": "execute_result"
    }
   ],
   "source": [
    "# get confusion matrix\n",
    "pd.crosstab(Y_test_count, y_pred_rf_count, rownames=[\"true\"], colnames=[\"predict\"])\n",
    "\n",
    "# overall prediction is quite good\n",
    "# best prediction: real news as real news (0:0), followed by fake news as fake news (1:1)\n",
    "# best result for false positives (real news being predicted as fake news)"
   ]
  },
  {
   "cell_type": "code",
   "execution_count": 59,
   "id": "0794c806",
   "metadata": {},
   "outputs": [
    {
     "name": "stdout",
     "output_type": "stream",
     "text": [
      "Random Forest count classification report:\n",
      "                precision    recall  f1-score   support\n",
      "\n",
      "         0.0       0.74      0.96      0.84     12216\n",
      "         1.0       0.93      0.60      0.73     10040\n",
      "\n",
      "    accuracy                           0.80     22256\n",
      "   macro avg       0.83      0.78      0.78     22256\n",
      "weighted avg       0.83      0.80      0.79     22256\n",
      "\n"
     ]
    }
   ],
   "source": [
    "from sklearn.metrics import classification_report \n",
    "\n",
    "# get classification report\n",
    "print(\"Random Forest count classification report:\\n \", classification_report (Y_test_count, y_pred_rf_count))\n"
   ]
  },
  {
   "cell_type": "code",
   "execution_count": 60,
   "id": "cc0e43d5",
   "metadata": {
    "scrolled": true
   },
   "outputs": [
    {
     "name": "stdout",
     "output_type": "stream",
     "text": [
      "[[11732   484]\n",
      " [ 4029  6011]]\n"
     ]
    }
   ],
   "source": [
    "# create confusion matrix\n",
    "cf_matrix_rf_count = confusion_matrix(Y_test_count, y_pred_rf_count)\n",
    "print(cf_matrix_rf_count)\n"
   ]
  },
  {
   "cell_type": "markdown",
   "id": "560d446a",
   "metadata": {},
   "source": [
    "# SAVE RANDOM FOREST on text data count\n",
    "# ALRADY SAVED"
   ]
  },
  {
   "cell_type": "code",
   "execution_count": 341,
   "id": "6f80ed00",
   "metadata": {},
   "outputs": [],
   "source": [
    "# from joblib import dump, load"
   ]
  },
  {
   "cell_type": "code",
   "execution_count": 342,
   "id": "ad07dcc1",
   "metadata": {},
   "outputs": [
    {
     "data": {
      "text/plain": [
       "['model_clf_rf_count.joblib']"
      ]
     },
     "execution_count": 342,
     "metadata": {},
     "output_type": "execute_result"
    }
   ],
   "source": [
    "# dump(clf_rf_count, \"model_clf_rf_count.joblib\")"
   ]
  },
  {
   "cell_type": "code",
   "execution_count": null,
   "id": "10ac3a54",
   "metadata": {},
   "outputs": [],
   "source": []
  },
  {
   "cell_type": "code",
   "execution_count": null,
   "id": "1bff3fde",
   "metadata": {},
   "outputs": [],
   "source": []
  },
  {
   "cell_type": "markdown",
   "id": "c6666545",
   "metadata": {},
   "source": [
    "# Passive Aggressive Classifier on text data count\n"
   ]
  },
  {
   "cell_type": "code",
   "execution_count": 61,
   "id": "8b3eab5a",
   "metadata": {},
   "outputs": [],
   "source": [
    "from sklearn.linear_model import PassiveAggressiveClassifier\n"
   ]
  },
  {
   "cell_type": "code",
   "execution_count": 62,
   "id": "a720c914",
   "metadata": {},
   "outputs": [],
   "source": [
    "# Initialize a PassiveAggressiveClassifier\n",
    "pac_count = PassiveAggressiveClassifier(max_iter=50)\n"
   ]
  },
  {
   "cell_type": "code",
   "execution_count": 63,
   "id": "e092a1ba",
   "metadata": {},
   "outputs": [
    {
     "data": {
      "text/html": [
       "<style>#sk-container-id-2 {color: black;background-color: white;}#sk-container-id-2 pre{padding: 0;}#sk-container-id-2 div.sk-toggleable {background-color: white;}#sk-container-id-2 label.sk-toggleable__label {cursor: pointer;display: block;width: 100%;margin-bottom: 0;padding: 0.3em;box-sizing: border-box;text-align: center;}#sk-container-id-2 label.sk-toggleable__label-arrow:before {content: \"▸\";float: left;margin-right: 0.25em;color: #696969;}#sk-container-id-2 label.sk-toggleable__label-arrow:hover:before {color: black;}#sk-container-id-2 div.sk-estimator:hover label.sk-toggleable__label-arrow:before {color: black;}#sk-container-id-2 div.sk-toggleable__content {max-height: 0;max-width: 0;overflow: hidden;text-align: left;background-color: #f0f8ff;}#sk-container-id-2 div.sk-toggleable__content pre {margin: 0.2em;color: black;border-radius: 0.25em;background-color: #f0f8ff;}#sk-container-id-2 input.sk-toggleable__control:checked~div.sk-toggleable__content {max-height: 200px;max-width: 100%;overflow: auto;}#sk-container-id-2 input.sk-toggleable__control:checked~label.sk-toggleable__label-arrow:before {content: \"▾\";}#sk-container-id-2 div.sk-estimator input.sk-toggleable__control:checked~label.sk-toggleable__label {background-color: #d4ebff;}#sk-container-id-2 div.sk-label input.sk-toggleable__control:checked~label.sk-toggleable__label {background-color: #d4ebff;}#sk-container-id-2 input.sk-hidden--visually {border: 0;clip: rect(1px 1px 1px 1px);clip: rect(1px, 1px, 1px, 1px);height: 1px;margin: -1px;overflow: hidden;padding: 0;position: absolute;width: 1px;}#sk-container-id-2 div.sk-estimator {font-family: monospace;background-color: #f0f8ff;border: 1px dotted black;border-radius: 0.25em;box-sizing: border-box;margin-bottom: 0.5em;}#sk-container-id-2 div.sk-estimator:hover {background-color: #d4ebff;}#sk-container-id-2 div.sk-parallel-item::after {content: \"\";width: 100%;border-bottom: 1px solid gray;flex-grow: 1;}#sk-container-id-2 div.sk-label:hover label.sk-toggleable__label {background-color: #d4ebff;}#sk-container-id-2 div.sk-serial::before {content: \"\";position: absolute;border-left: 1px solid gray;box-sizing: border-box;top: 0;bottom: 0;left: 50%;z-index: 0;}#sk-container-id-2 div.sk-serial {display: flex;flex-direction: column;align-items: center;background-color: white;padding-right: 0.2em;padding-left: 0.2em;position: relative;}#sk-container-id-2 div.sk-item {position: relative;z-index: 1;}#sk-container-id-2 div.sk-parallel {display: flex;align-items: stretch;justify-content: center;background-color: white;position: relative;}#sk-container-id-2 div.sk-item::before, #sk-container-id-2 div.sk-parallel-item::before {content: \"\";position: absolute;border-left: 1px solid gray;box-sizing: border-box;top: 0;bottom: 0;left: 50%;z-index: -1;}#sk-container-id-2 div.sk-parallel-item {display: flex;flex-direction: column;z-index: 1;position: relative;background-color: white;}#sk-container-id-2 div.sk-parallel-item:first-child::after {align-self: flex-end;width: 50%;}#sk-container-id-2 div.sk-parallel-item:last-child::after {align-self: flex-start;width: 50%;}#sk-container-id-2 div.sk-parallel-item:only-child::after {width: 0;}#sk-container-id-2 div.sk-dashed-wrapped {border: 1px dashed gray;margin: 0 0.4em 0.5em 0.4em;box-sizing: border-box;padding-bottom: 0.4em;background-color: white;}#sk-container-id-2 div.sk-label label {font-family: monospace;font-weight: bold;display: inline-block;line-height: 1.2em;}#sk-container-id-2 div.sk-label-container {text-align: center;}#sk-container-id-2 div.sk-container {/* jupyter's `normalize.less` sets `[hidden] { display: none; }` but bootstrap.min.css set `[hidden] { display: none !important; }` so we also need the `!important` here to be able to override the default hidden behavior on the sphinx rendered scikit-learn.org. See: https://github.com/scikit-learn/scikit-learn/issues/21755 */display: inline-block !important;position: relative;}#sk-container-id-2 div.sk-text-repr-fallback {display: none;}</style><div id=\"sk-container-id-2\" class=\"sk-top-container\"><div class=\"sk-text-repr-fallback\"><pre>PassiveAggressiveClassifier(max_iter=50)</pre><b>In a Jupyter environment, please rerun this cell to show the HTML representation or trust the notebook. <br />On GitHub, the HTML representation is unable to render, please try loading this page with nbviewer.org.</b></div><div class=\"sk-container\" hidden><div class=\"sk-item\"><div class=\"sk-estimator sk-toggleable\"><input class=\"sk-toggleable__control sk-hidden--visually\" id=\"sk-estimator-id-2\" type=\"checkbox\" checked><label for=\"sk-estimator-id-2\" class=\"sk-toggleable__label sk-toggleable__label-arrow\">PassiveAggressiveClassifier</label><div class=\"sk-toggleable__content\"><pre>PassiveAggressiveClassifier(max_iter=50)</pre></div></div></div></div></div>"
      ],
      "text/plain": [
       "PassiveAggressiveClassifier(max_iter=50)"
      ]
     },
     "execution_count": 63,
     "metadata": {},
     "output_type": "execute_result"
    }
   ],
   "source": [
    "# fit model\n",
    "pac_count.fit(X_train_text_count, Y_train_count)\n"
   ]
  },
  {
   "cell_type": "code",
   "execution_count": 64,
   "id": "852f2fa9",
   "metadata": {},
   "outputs": [],
   "source": [
    "#Predict on the test set \n",
    "y_pred_PassAgg_count = pac_count.predict(X_test_text_count)\n"
   ]
  },
  {
   "cell_type": "code",
   "execution_count": 65,
   "id": "468f4779",
   "metadata": {},
   "outputs": [
    {
     "data": {
      "text/plain": [
       "0.8192397555715313"
      ]
     },
     "execution_count": 65,
     "metadata": {},
     "output_type": "execute_result"
    }
   ],
   "source": [
    "# get accuracy\n",
    "accuracy_PassAgg_count= pac_count.score(X_test_text_count, Y_test_count)\n",
    "accuracy_PassAgg_count\n",
    "\n",
    "# 0.82"
   ]
  },
  {
   "cell_type": "code",
   "execution_count": 66,
   "id": "52bf13c9",
   "metadata": {},
   "outputs": [
    {
     "data": {
      "text/plain": [
       "0.7965201557837236"
      ]
     },
     "execution_count": 66,
     "metadata": {},
     "output_type": "execute_result"
    }
   ],
   "source": [
    "# Evaluate the model with f1 score\n",
    "from sklearn.metrics import f1_score\n",
    "\n",
    "f1_PassAgg_count = f1_score(Y_test_count, y_pred_PassAgg_count)\n",
    "f1_PassAgg_count\n",
    "\n",
    "# 0.796"
   ]
  },
  {
   "cell_type": "code",
   "execution_count": 67,
   "id": "5814b292",
   "metadata": {},
   "outputs": [
    {
     "data": {
      "text/html": [
       "<div>\n",
       "<style scoped>\n",
       "    .dataframe tbody tr th:only-of-type {\n",
       "        vertical-align: middle;\n",
       "    }\n",
       "\n",
       "    .dataframe tbody tr th {\n",
       "        vertical-align: top;\n",
       "    }\n",
       "\n",
       "    .dataframe thead th {\n",
       "        text-align: right;\n",
       "    }\n",
       "</style>\n",
       "<table border=\"1\" class=\"dataframe\">\n",
       "  <thead>\n",
       "    <tr style=\"text-align: right;\">\n",
       "      <th>predict</th>\n",
       "      <th>0.0</th>\n",
       "      <th>1.0</th>\n",
       "    </tr>\n",
       "    <tr>\n",
       "      <th>true</th>\n",
       "      <th></th>\n",
       "      <th></th>\n",
       "    </tr>\n",
       "  </thead>\n",
       "  <tbody>\n",
       "    <tr>\n",
       "      <th>0.0</th>\n",
       "      <td>10359</td>\n",
       "      <td>1857</td>\n",
       "    </tr>\n",
       "    <tr>\n",
       "      <th>1.0</th>\n",
       "      <td>2166</td>\n",
       "      <td>7874</td>\n",
       "    </tr>\n",
       "  </tbody>\n",
       "</table>\n",
       "</div>"
      ],
      "text/plain": [
       "predict    0.0   1.0\n",
       "true                \n",
       "0.0      10359  1857\n",
       "1.0       2166  7874"
      ]
     },
     "execution_count": 67,
     "metadata": {},
     "output_type": "execute_result"
    }
   ],
   "source": [
    "# get confusion matrix\n",
    "pd.crosstab(Y_test_count, y_pred_PassAgg_count, rownames=[\"true\"], colnames=[\"predict\"])\n",
    "\n",
    "# overall prediction is quite good but no very good prediction for any case"
   ]
  },
  {
   "cell_type": "code",
   "execution_count": 68,
   "id": "2eff0462",
   "metadata": {},
   "outputs": [
    {
     "name": "stdout",
     "output_type": "stream",
     "text": [
      "Passive Aggressive count classification report:\n",
      "                precision    recall  f1-score   support\n",
      "\n",
      "         0.0       0.83      0.85      0.84     12216\n",
      "         1.0       0.81      0.78      0.80     10040\n",
      "\n",
      "    accuracy                           0.82     22256\n",
      "   macro avg       0.82      0.82      0.82     22256\n",
      "weighted avg       0.82      0.82      0.82     22256\n",
      "\n"
     ]
    }
   ],
   "source": [
    "from sklearn.metrics import classification_report \n",
    "\n",
    "# get classification report\n",
    "print(\"Passive Aggressive count classification report:\\n \", classification_report (Y_test_count, y_pred_PassAgg_count))\n"
   ]
  },
  {
   "cell_type": "code",
   "execution_count": 69,
   "id": "3cfd0a08",
   "metadata": {
    "scrolled": true
   },
   "outputs": [
    {
     "name": "stdout",
     "output_type": "stream",
     "text": [
      "[[10359  1857]\n",
      " [ 2166  7874]]\n"
     ]
    }
   ],
   "source": [
    "# create confusion matrix\n",
    "cf_matrix_PassAgg_count = confusion_matrix(Y_test_count, y_pred_PassAgg_count)\n",
    "print(cf_matrix_PassAgg_count)\n"
   ]
  },
  {
   "cell_type": "code",
   "execution_count": null,
   "id": "ac7ba86b",
   "metadata": {},
   "outputs": [],
   "source": []
  },
  {
   "cell_type": "markdown",
   "id": "5676d800",
   "metadata": {},
   "source": [
    "# LightGBM on text data count - 500 rounds\n",
    "# takes 7 minutes \n",
    "# use saved model\n",
    "# model_LightGBM500_count.joblib"
   ]
  },
  {
   "cell_type": "code",
   "execution_count": 70,
   "id": "ef9c3c7a",
   "metadata": {},
   "outputs": [],
   "source": [
    "import lightgbm as lgb\n",
    "from sklearn.model_selection import train_test_split\n",
    "from sklearn.metrics import accuracy_score"
   ]
  },
  {
   "cell_type": "code",
   "execution_count": 71,
   "id": "9781fb10",
   "metadata": {},
   "outputs": [],
   "source": [
    "# Create a LightGBM dataset for training\n",
    "\n",
    "LightGMB_train_data_text_count = lgb.Dataset(X_train_text_count.astype(float), label=Y_train_count.astype(float))\n",
    "\n",
    "# Set the hyperparameters for the LightGBM model\n",
    "paramsLightGBM_count = {\n",
    "    'boosting_type': 'gbdt',\n",
    "    'objective': 'binary',  # Set the appropriate objective for your classification task\n",
    "    'metric': 'binary_logloss',  # Set the appropriate metric for evaluation\n",
    "    'num_leaves': 31,\n",
    "    'learning_rate': 0.05,\n",
    "    'feature_fraction': 0.9,\n",
    "    'bagging_fraction': 0.8,\n",
    "    'bagging_freq': 5,\n",
    "    'verbose': 0\n",
    "}\n"
   ]
  },
  {
   "cell_type": "code",
   "execution_count": 70,
   "id": "16386d9f",
   "metadata": {},
   "outputs": [
    {
     "name": "stdout",
     "output_type": "stream",
     "text": [
      "[LightGBM] [Warning] Auto-choosing col-wise multi-threading, the overhead of testing was 18.260831 seconds.\n",
      "You can set `force_col_wise=true` to remove the overhead.\n"
     ]
    }
   ],
   "source": [
    "# Train the LightGBM model\n",
    "# clf_LightGBM_count_500 = lgb.train(paramsLightGBM_count, LightGMB_train_data_text_count, num_boost_round=500)\n",
    "\n",
    "# takes 7 minutes\n",
    "# only run, then use saved model\n"
   ]
  },
  {
   "cell_type": "code",
   "execution_count": 72,
   "id": "ccb8b8dc",
   "metadata": {},
   "outputs": [],
   "source": [
    "from joblib import dump, load"
   ]
  },
  {
   "cell_type": "code",
   "execution_count": 73,
   "id": "e6424840",
   "metadata": {},
   "outputs": [],
   "source": [
    "# LOAD SAVED MODEL\n",
    "clf_LightGBM_count_500 = load(\"model_LightGBM500_count.joblib\")\n"
   ]
  },
  {
   "cell_type": "code",
   "execution_count": 74,
   "id": "b74e4988",
   "metadata": {},
   "outputs": [],
   "source": [
    "# Make predictions on the test set\n",
    "y_pred_LightGBM_count_500 = clf_LightGBM_count_500.predict(X_test_text_count.astype(float))\n",
    "y_pred_LightGBM_count_500_binary = [round(pred) for pred in y_pred_LightGBM_count_500]  \n",
    "# Convert probability to binary predictions\n"
   ]
  },
  {
   "cell_type": "code",
   "execution_count": 75,
   "id": "f528cd2b",
   "metadata": {},
   "outputs": [
    {
     "name": "stdout",
     "output_type": "stream",
     "text": [
      "Accuracy LightGBM count 500: 0.8671369518332135\n"
     ]
    }
   ],
   "source": [
    "# Evaluate the model with accuracy\n",
    "accuracy_LightGBM_count_500 = accuracy_score(Y_test_count, y_pred_LightGBM_count_500_binary)\n",
    "print(\"Accuracy LightGBM count 500:\", accuracy_LightGBM_count_500)\n",
    "\n",
    "# 0.867\n",
    "# a bit worse than tfidf"
   ]
  },
  {
   "cell_type": "code",
   "execution_count": 76,
   "id": "462210d7",
   "metadata": {},
   "outputs": [
    {
     "data": {
      "text/plain": [
       "0.8470174349423146"
      ]
     },
     "execution_count": 76,
     "metadata": {},
     "output_type": "execute_result"
    }
   ],
   "source": [
    "# Evaluate the model with f1 score\n",
    "from sklearn.metrics import f1_score\n",
    "\n",
    "f1_LightGBM_count_500 = f1_score(Y_test_count, y_pred_LightGBM_count_500_binary)\n",
    "f1_LightGBM_count_500\n",
    "\n",
    "# 0.847\n",
    "# a bit worse than tfidf"
   ]
  },
  {
   "cell_type": "code",
   "execution_count": 77,
   "id": "45d3800e",
   "metadata": {},
   "outputs": [
    {
     "data": {
      "text/html": [
       "<div>\n",
       "<style scoped>\n",
       "    .dataframe tbody tr th:only-of-type {\n",
       "        vertical-align: middle;\n",
       "    }\n",
       "\n",
       "    .dataframe tbody tr th {\n",
       "        vertical-align: top;\n",
       "    }\n",
       "\n",
       "    .dataframe thead th {\n",
       "        text-align: right;\n",
       "    }\n",
       "</style>\n",
       "<table border=\"1\" class=\"dataframe\">\n",
       "  <thead>\n",
       "    <tr style=\"text-align: right;\">\n",
       "      <th>predict</th>\n",
       "      <th>0</th>\n",
       "      <th>1</th>\n",
       "    </tr>\n",
       "    <tr>\n",
       "      <th>true</th>\n",
       "      <th></th>\n",
       "      <th></th>\n",
       "    </tr>\n",
       "  </thead>\n",
       "  <tbody>\n",
       "    <tr>\n",
       "      <th>0.0</th>\n",
       "      <td>11113</td>\n",
       "      <td>1103</td>\n",
       "    </tr>\n",
       "    <tr>\n",
       "      <th>1.0</th>\n",
       "      <td>1854</td>\n",
       "      <td>8186</td>\n",
       "    </tr>\n",
       "  </tbody>\n",
       "</table>\n",
       "</div>"
      ],
      "text/plain": [
       "predict      0     1\n",
       "true                \n",
       "0.0      11113  1103\n",
       "1.0       1854  8186"
      ]
     },
     "execution_count": 77,
     "metadata": {},
     "output_type": "execute_result"
    }
   ],
   "source": [
    "# get confusion matrix\n",
    "pd.crosstab(Y_test_count, y_pred_LightGBM_count_500_binary, rownames=[\"true\"], colnames=[\"predict\"])\n",
    "\n",
    "# overall prediction is quite good but no super good result for any of the cases"
   ]
  },
  {
   "cell_type": "code",
   "execution_count": 78,
   "id": "a249ee57",
   "metadata": {},
   "outputs": [
    {
     "name": "stdout",
     "output_type": "stream",
     "text": [
      "Confusion Matrix:\n",
      " [[11113  1103]\n",
      " [ 1854  8186]]\n"
     ]
    }
   ],
   "source": [
    "# Evaluate Model with confusion matrix \n",
    "from sklearn.metrics import confusion_matrix \n",
    "\n",
    "cf_matrix_LightGBM_count_500 = confusion_matrix(Y_test_count, y_pred_LightGBM_count_500_binary)\n",
    "\n",
    "print(\"Confusion Matrix:\\n\",  cf_matrix_LightGBM_count_500)"
   ]
  },
  {
   "cell_type": "code",
   "execution_count": 79,
   "id": "c26c2d56",
   "metadata": {},
   "outputs": [
    {
     "name": "stdout",
     "output_type": "stream",
     "text": [
      "LightGBM count 500 classification report:\n",
      "               precision    recall  f1-score   support\n",
      "\n",
      "         0.0       0.86      0.91      0.88     12216\n",
      "         1.0       0.88      0.82      0.85     10040\n",
      "\n",
      "    accuracy                           0.87     22256\n",
      "   macro avg       0.87      0.86      0.86     22256\n",
      "weighted avg       0.87      0.87      0.87     22256\n",
      "\n"
     ]
    }
   ],
   "source": [
    "# Evaluate model with classification report\n",
    "from sklearn.metrics import classification_report \n",
    "\n",
    "print(\"LightGBM count 500 classification report:\\n\", classification_report (Y_test_count, y_pred_LightGBM_count_500_binary))\n"
   ]
  },
  {
   "cell_type": "markdown",
   "id": "c4e1f065",
   "metadata": {},
   "source": [
    "# SAVE LightGBM 500 boosting rounds MODEL count\n",
    "# ALREADY SAVED"
   ]
  },
  {
   "cell_type": "code",
   "execution_count": 77,
   "id": "33781418",
   "metadata": {},
   "outputs": [],
   "source": [
    "# from joblib import dump, load"
   ]
  },
  {
   "cell_type": "code",
   "execution_count": 78,
   "id": "578cad23",
   "metadata": {},
   "outputs": [
    {
     "data": {
      "text/plain": [
       "['model_LightGBM500_count.joblib']"
      ]
     },
     "execution_count": 78,
     "metadata": {},
     "output_type": "execute_result"
    }
   ],
   "source": [
    "# dump(clf_LightGBM_count_500, \"model_LightGBM500_count.joblib\")"
   ]
  },
  {
   "cell_type": "code",
   "execution_count": null,
   "id": "96a3f649",
   "metadata": {},
   "outputs": [],
   "source": []
  },
  {
   "cell_type": "code",
   "execution_count": null,
   "id": "a57502bb",
   "metadata": {},
   "outputs": [],
   "source": []
  },
  {
   "cell_type": "markdown",
   "id": "18e17040",
   "metadata": {},
   "source": [
    "# LightGBM on text data count - 1000 rounds\n",
    "# takes 14 minutes \n",
    "# use saved model\n",
    "# model_LightGBM1000_count.joblib"
   ]
  },
  {
   "cell_type": "code",
   "execution_count": 80,
   "id": "fbd35198",
   "metadata": {},
   "outputs": [],
   "source": [
    "import lightgbm as lgb\n",
    "from sklearn.model_selection import train_test_split\n",
    "from sklearn.metrics import accuracy_score"
   ]
  },
  {
   "cell_type": "code",
   "execution_count": 81,
   "id": "ea496c9e",
   "metadata": {},
   "outputs": [],
   "source": [
    "# Create a LightGBM dataset for training\n",
    "\n",
    "LightGMB_train_data_text_count = lgb.Dataset(X_train_text_count.astype(float), label=Y_train_count.astype(float))\n",
    "\n",
    "# Set the hyperparameters for the LightGBM model\n",
    "paramsLightGBM_count = {\n",
    "    'boosting_type': 'gbdt',\n",
    "    'objective': 'binary',  # Set the appropriate objective for your classification task\n",
    "    'metric': 'binary_logloss',  # Set the appropriate metric for evaluation\n",
    "    'num_leaves': 31,\n",
    "    'learning_rate': 0.05,\n",
    "    'feature_fraction': 0.9,\n",
    "    'bagging_fraction': 0.8,\n",
    "    'bagging_freq': 5,\n",
    "    'verbose': 0\n",
    "}\n"
   ]
  },
  {
   "cell_type": "code",
   "execution_count": 89,
   "id": "156b05f6",
   "metadata": {},
   "outputs": [
    {
     "name": "stdout",
     "output_type": "stream",
     "text": [
      "[LightGBM] [Warning] Auto-choosing col-wise multi-threading, the overhead of testing was 20.217279 seconds.\n",
      "You can set `force_col_wise=true` to remove the overhead.\n"
     ]
    }
   ],
   "source": [
    "# Train the LightGBM model\n",
    "# clf_LightGBM_count_1000 = lgb.train(paramsLightGBM_count, LightGMB_train_data_text_count, num_boost_round=1000)\n",
    "\n",
    "# takes 14 minutes\n",
    "# only run once, then use saved model\n"
   ]
  },
  {
   "cell_type": "code",
   "execution_count": 82,
   "id": "a0160645",
   "metadata": {},
   "outputs": [],
   "source": [
    "from joblib import dump, load"
   ]
  },
  {
   "cell_type": "code",
   "execution_count": 83,
   "id": "aa04ed69",
   "metadata": {},
   "outputs": [],
   "source": [
    "# LOAD SAVED MODEL\n",
    "clf_LightGBM_count_1000 = load(\"model_LightGBM1000_count.joblib\")\n"
   ]
  },
  {
   "cell_type": "code",
   "execution_count": 84,
   "id": "44e091eb",
   "metadata": {},
   "outputs": [],
   "source": [
    "# Make predictions on the test set\n",
    "y_pred_LightGBM_count_1000 = clf_LightGBM_count_1000.predict(X_test_text_count.astype(float))\n",
    "y_pred_LightGBM_count_1000_binary = [round(pred) for pred in y_pred_LightGBM_count_1000]  \n",
    "# Convert probability to binary predictions\n"
   ]
  },
  {
   "cell_type": "code",
   "execution_count": 85,
   "id": "c13a95d9",
   "metadata": {},
   "outputs": [
    {
     "name": "stdout",
     "output_type": "stream",
     "text": [
      "Accuracy LightGBM count 1000: 0.876078360891445\n"
     ]
    }
   ],
   "source": [
    "# Evaluate the model with accuracy\n",
    "accuracy_LightGBM_count_1000 = accuracy_score(Y_test_count, y_pred_LightGBM_count_1000_binary)\n",
    "print(\"Accuracy LightGBM count 1000:\", accuracy_LightGBM_count_1000)\n",
    "\n",
    "# 0.876\n"
   ]
  },
  {
   "cell_type": "code",
   "execution_count": 86,
   "id": "72bc2d62",
   "metadata": {},
   "outputs": [
    {
     "data": {
      "text/plain": [
       "0.8583898131033065"
      ]
     },
     "execution_count": 86,
     "metadata": {},
     "output_type": "execute_result"
    }
   ],
   "source": [
    "# Evaluate the model with f1 score\n",
    "from sklearn.metrics import f1_score\n",
    "\n",
    "f1_LightGBM_count_1000 = f1_score(Y_test_count, y_pred_LightGBM_count_1000_binary)\n",
    "f1_LightGBM_count_1000\n",
    "\n",
    "# 0.858\n"
   ]
  },
  {
   "cell_type": "code",
   "execution_count": 87,
   "id": "9141a920",
   "metadata": {},
   "outputs": [
    {
     "data": {
      "text/html": [
       "<div>\n",
       "<style scoped>\n",
       "    .dataframe tbody tr th:only-of-type {\n",
       "        vertical-align: middle;\n",
       "    }\n",
       "\n",
       "    .dataframe tbody tr th {\n",
       "        vertical-align: top;\n",
       "    }\n",
       "\n",
       "    .dataframe thead th {\n",
       "        text-align: right;\n",
       "    }\n",
       "</style>\n",
       "<table border=\"1\" class=\"dataframe\">\n",
       "  <thead>\n",
       "    <tr style=\"text-align: right;\">\n",
       "      <th>predict</th>\n",
       "      <th>0</th>\n",
       "      <th>1</th>\n",
       "    </tr>\n",
       "    <tr>\n",
       "      <th>true</th>\n",
       "      <th></th>\n",
       "      <th></th>\n",
       "    </tr>\n",
       "  </thead>\n",
       "  <tbody>\n",
       "    <tr>\n",
       "      <th>0.0</th>\n",
       "      <td>11139</td>\n",
       "      <td>1077</td>\n",
       "    </tr>\n",
       "    <tr>\n",
       "      <th>1.0</th>\n",
       "      <td>1681</td>\n",
       "      <td>8359</td>\n",
       "    </tr>\n",
       "  </tbody>\n",
       "</table>\n",
       "</div>"
      ],
      "text/plain": [
       "predict      0     1\n",
       "true                \n",
       "0.0      11139  1077\n",
       "1.0       1681  8359"
      ]
     },
     "execution_count": 87,
     "metadata": {},
     "output_type": "execute_result"
    }
   ],
   "source": [
    "# get confusion matrix\n",
    "pd.crosstab(Y_test_count, y_pred_LightGBM_count_1000_binary, rownames=[\"true\"], colnames=[\"predict\"])\n",
    "\n",
    "# overall prediction is quite good but no super good result for any of the cases"
   ]
  },
  {
   "cell_type": "code",
   "execution_count": 88,
   "id": "98b5ea3d",
   "metadata": {},
   "outputs": [
    {
     "name": "stdout",
     "output_type": "stream",
     "text": [
      "Confusion Matrix:\n",
      " [[11139  1077]\n",
      " [ 1681  8359]]\n"
     ]
    }
   ],
   "source": [
    "# Evaluate Model with confusion matrix \n",
    "from sklearn.metrics import confusion_matrix \n",
    "\n",
    "cf_matrix_LightGBM_count_1000 = confusion_matrix(Y_test_count, y_pred_LightGBM_count_1000_binary)\n",
    "\n",
    "print(\"Confusion Matrix:\\n\",  cf_matrix_LightGBM_count_1000)"
   ]
  },
  {
   "cell_type": "code",
   "execution_count": 89,
   "id": "80a77bd1",
   "metadata": {
    "scrolled": true
   },
   "outputs": [
    {
     "name": "stdout",
     "output_type": "stream",
     "text": [
      "LightGBM count 1000 classification report:\n",
      "               precision    recall  f1-score   support\n",
      "\n",
      "         0.0       0.87      0.91      0.89     12216\n",
      "         1.0       0.89      0.83      0.86     10040\n",
      "\n",
      "    accuracy                           0.88     22256\n",
      "   macro avg       0.88      0.87      0.87     22256\n",
      "weighted avg       0.88      0.88      0.88     22256\n",
      "\n"
     ]
    }
   ],
   "source": [
    "# Evaluate model with classification report\n",
    "from sklearn.metrics import classification_report \n",
    "\n",
    "print(\"LightGBM count 1000 classification report:\\n\", classification_report (Y_test_count, y_pred_LightGBM_count_1000_binary))\n"
   ]
  },
  {
   "cell_type": "code",
   "execution_count": null,
   "id": "e26b8da2",
   "metadata": {},
   "outputs": [],
   "source": []
  },
  {
   "cell_type": "markdown",
   "id": "979f1cb9",
   "metadata": {},
   "source": [
    "# SAVE LightGBM 1000 boosting rounds MODEL Count\n",
    "# ALREADY SAVED"
   ]
  },
  {
   "cell_type": "code",
   "execution_count": 96,
   "id": "1077b5f6",
   "metadata": {},
   "outputs": [],
   "source": [
    "# from joblib import dump, load"
   ]
  },
  {
   "cell_type": "code",
   "execution_count": 97,
   "id": "576800f8",
   "metadata": {},
   "outputs": [
    {
     "data": {
      "text/plain": [
       "['model_LightGBM1000_count.joblib']"
      ]
     },
     "execution_count": 97,
     "metadata": {},
     "output_type": "execute_result"
    }
   ],
   "source": [
    "# dump(clf_LightGBM_count_1000, \"model_LightGBM1000_count.joblib\")"
   ]
  },
  {
   "cell_type": "code",
   "execution_count": null,
   "id": "c1749df3",
   "metadata": {},
   "outputs": [],
   "source": []
  },
  {
   "cell_type": "markdown",
   "id": "1ea37619",
   "metadata": {},
   "source": [
    "# Stochastic Gradient Descent (SGD) on text data count"
   ]
  },
  {
   "cell_type": "code",
   "execution_count": 95,
   "id": "bff3e433",
   "metadata": {},
   "outputs": [],
   "source": [
    "from sklearn.linear_model import SGDClassifier\n",
    "from sklearn.metrics import accuracy_score\n",
    "\n",
    "# Create an SGD classifier\n",
    "sgd_count = SGDClassifier()"
   ]
  },
  {
   "cell_type": "code",
   "execution_count": 96,
   "id": "5163a9ec",
   "metadata": {},
   "outputs": [
    {
     "data": {
      "text/html": [
       "<style>#sk-container-id-4 {color: black;background-color: white;}#sk-container-id-4 pre{padding: 0;}#sk-container-id-4 div.sk-toggleable {background-color: white;}#sk-container-id-4 label.sk-toggleable__label {cursor: pointer;display: block;width: 100%;margin-bottom: 0;padding: 0.3em;box-sizing: border-box;text-align: center;}#sk-container-id-4 label.sk-toggleable__label-arrow:before {content: \"▸\";float: left;margin-right: 0.25em;color: #696969;}#sk-container-id-4 label.sk-toggleable__label-arrow:hover:before {color: black;}#sk-container-id-4 div.sk-estimator:hover label.sk-toggleable__label-arrow:before {color: black;}#sk-container-id-4 div.sk-toggleable__content {max-height: 0;max-width: 0;overflow: hidden;text-align: left;background-color: #f0f8ff;}#sk-container-id-4 div.sk-toggleable__content pre {margin: 0.2em;color: black;border-radius: 0.25em;background-color: #f0f8ff;}#sk-container-id-4 input.sk-toggleable__control:checked~div.sk-toggleable__content {max-height: 200px;max-width: 100%;overflow: auto;}#sk-container-id-4 input.sk-toggleable__control:checked~label.sk-toggleable__label-arrow:before {content: \"▾\";}#sk-container-id-4 div.sk-estimator input.sk-toggleable__control:checked~label.sk-toggleable__label {background-color: #d4ebff;}#sk-container-id-4 div.sk-label input.sk-toggleable__control:checked~label.sk-toggleable__label {background-color: #d4ebff;}#sk-container-id-4 input.sk-hidden--visually {border: 0;clip: rect(1px 1px 1px 1px);clip: rect(1px, 1px, 1px, 1px);height: 1px;margin: -1px;overflow: hidden;padding: 0;position: absolute;width: 1px;}#sk-container-id-4 div.sk-estimator {font-family: monospace;background-color: #f0f8ff;border: 1px dotted black;border-radius: 0.25em;box-sizing: border-box;margin-bottom: 0.5em;}#sk-container-id-4 div.sk-estimator:hover {background-color: #d4ebff;}#sk-container-id-4 div.sk-parallel-item::after {content: \"\";width: 100%;border-bottom: 1px solid gray;flex-grow: 1;}#sk-container-id-4 div.sk-label:hover label.sk-toggleable__label {background-color: #d4ebff;}#sk-container-id-4 div.sk-serial::before {content: \"\";position: absolute;border-left: 1px solid gray;box-sizing: border-box;top: 0;bottom: 0;left: 50%;z-index: 0;}#sk-container-id-4 div.sk-serial {display: flex;flex-direction: column;align-items: center;background-color: white;padding-right: 0.2em;padding-left: 0.2em;position: relative;}#sk-container-id-4 div.sk-item {position: relative;z-index: 1;}#sk-container-id-4 div.sk-parallel {display: flex;align-items: stretch;justify-content: center;background-color: white;position: relative;}#sk-container-id-4 div.sk-item::before, #sk-container-id-4 div.sk-parallel-item::before {content: \"\";position: absolute;border-left: 1px solid gray;box-sizing: border-box;top: 0;bottom: 0;left: 50%;z-index: -1;}#sk-container-id-4 div.sk-parallel-item {display: flex;flex-direction: column;z-index: 1;position: relative;background-color: white;}#sk-container-id-4 div.sk-parallel-item:first-child::after {align-self: flex-end;width: 50%;}#sk-container-id-4 div.sk-parallel-item:last-child::after {align-self: flex-start;width: 50%;}#sk-container-id-4 div.sk-parallel-item:only-child::after {width: 0;}#sk-container-id-4 div.sk-dashed-wrapped {border: 1px dashed gray;margin: 0 0.4em 0.5em 0.4em;box-sizing: border-box;padding-bottom: 0.4em;background-color: white;}#sk-container-id-4 div.sk-label label {font-family: monospace;font-weight: bold;display: inline-block;line-height: 1.2em;}#sk-container-id-4 div.sk-label-container {text-align: center;}#sk-container-id-4 div.sk-container {/* jupyter's `normalize.less` sets `[hidden] { display: none; }` but bootstrap.min.css set `[hidden] { display: none !important; }` so we also need the `!important` here to be able to override the default hidden behavior on the sphinx rendered scikit-learn.org. See: https://github.com/scikit-learn/scikit-learn/issues/21755 */display: inline-block !important;position: relative;}#sk-container-id-4 div.sk-text-repr-fallback {display: none;}</style><div id=\"sk-container-id-4\" class=\"sk-top-container\"><div class=\"sk-text-repr-fallback\"><pre>SGDClassifier()</pre><b>In a Jupyter environment, please rerun this cell to show the HTML representation or trust the notebook. <br />On GitHub, the HTML representation is unable to render, please try loading this page with nbviewer.org.</b></div><div class=\"sk-container\" hidden><div class=\"sk-item\"><div class=\"sk-estimator sk-toggleable\"><input class=\"sk-toggleable__control sk-hidden--visually\" id=\"sk-estimator-id-4\" type=\"checkbox\" checked><label for=\"sk-estimator-id-4\" class=\"sk-toggleable__label sk-toggleable__label-arrow\">SGDClassifier</label><div class=\"sk-toggleable__content\"><pre>SGDClassifier()</pre></div></div></div></div></div>"
      ],
      "text/plain": [
       "SGDClassifier()"
      ]
     },
     "execution_count": 96,
     "metadata": {},
     "output_type": "execute_result"
    }
   ],
   "source": [
    "# Train the SGD model\n",
    "sgd_count.fit(X_train_text_count, Y_train_count)\n"
   ]
  },
  {
   "cell_type": "code",
   "execution_count": 97,
   "id": "1cc0b921",
   "metadata": {},
   "outputs": [],
   "source": [
    "# Make predictions on the test set\n",
    "y_pred_sgd_count = sgd_count.predict(X_test_text_count)"
   ]
  },
  {
   "cell_type": "code",
   "execution_count": 98,
   "id": "6ff7ea21",
   "metadata": {},
   "outputs": [
    {
     "data": {
      "text/plain": [
       "0.8315959741193386"
      ]
     },
     "execution_count": 98,
     "metadata": {},
     "output_type": "execute_result"
    }
   ],
   "source": [
    "# Calculate accuracy\n",
    "accuracy_sgd_count = accuracy_score(Y_test_count, y_pred_sgd_count)\n",
    "accuracy_sgd_count\n",
    "\n",
    "# 0.83"
   ]
  },
  {
   "cell_type": "code",
   "execution_count": 99,
   "id": "af9c29aa",
   "metadata": {},
   "outputs": [
    {
     "data": {
      "text/plain": [
       "0.820222563315426"
      ]
     },
     "execution_count": 99,
     "metadata": {},
     "output_type": "execute_result"
    }
   ],
   "source": [
    "# Evaluate the model with f1 score\n",
    "from sklearn.metrics import f1_score\n",
    "\n",
    "f1_sgd_count = f1_score(Y_test_count, y_pred_sgd_count)\n",
    "f1_sgd_count\n",
    "\n",
    "# 0.82"
   ]
  },
  {
   "cell_type": "code",
   "execution_count": 100,
   "id": "16d9466c",
   "metadata": {},
   "outputs": [
    {
     "data": {
      "text/html": [
       "<div>\n",
       "<style scoped>\n",
       "    .dataframe tbody tr th:only-of-type {\n",
       "        vertical-align: middle;\n",
       "    }\n",
       "\n",
       "    .dataframe tbody tr th {\n",
       "        vertical-align: top;\n",
       "    }\n",
       "\n",
       "    .dataframe thead th {\n",
       "        text-align: right;\n",
       "    }\n",
       "</style>\n",
       "<table border=\"1\" class=\"dataframe\">\n",
       "  <thead>\n",
       "    <tr style=\"text-align: right;\">\n",
       "      <th>predict</th>\n",
       "      <th>0.0</th>\n",
       "      <th>1.0</th>\n",
       "    </tr>\n",
       "    <tr>\n",
       "      <th>true</th>\n",
       "      <th></th>\n",
       "      <th></th>\n",
       "    </tr>\n",
       "  </thead>\n",
       "  <tbody>\n",
       "    <tr>\n",
       "      <th>0.0</th>\n",
       "      <td>9958</td>\n",
       "      <td>2258</td>\n",
       "    </tr>\n",
       "    <tr>\n",
       "      <th>1.0</th>\n",
       "      <td>1490</td>\n",
       "      <td>8550</td>\n",
       "    </tr>\n",
       "  </tbody>\n",
       "</table>\n",
       "</div>"
      ],
      "text/plain": [
       "predict   0.0   1.0\n",
       "true               \n",
       "0.0      9958  2258\n",
       "1.0      1490  8550"
      ]
     },
     "execution_count": 100,
     "metadata": {},
     "output_type": "execute_result"
    }
   ],
   "source": [
    "# Create crosstab\n",
    "pd.crosstab(Y_test_count, y_pred_sgd_count, rownames=[\"true\"], colnames=[\"predict\"])\n",
    "\n",
    "# overall prediction is quite good but no super good result for any of the cases"
   ]
  },
  {
   "cell_type": "code",
   "execution_count": 101,
   "id": "a89e0540",
   "metadata": {},
   "outputs": [
    {
     "name": "stdout",
     "output_type": "stream",
     "text": [
      "SGD count classification report:\n",
      "                precision    recall  f1-score   support\n",
      "\n",
      "         0.0       0.87      0.82      0.84     12216\n",
      "         1.0       0.79      0.85      0.82     10040\n",
      "\n",
      "    accuracy                           0.83     22256\n",
      "   macro avg       0.83      0.83      0.83     22256\n",
      "weighted avg       0.83      0.83      0.83     22256\n",
      "\n"
     ]
    }
   ],
   "source": [
    "from sklearn.metrics import classification_report \n",
    "\n",
    "# get classification report\n",
    "print(\"SGD count classification report:\\n \", classification_report (Y_test_count, y_pred_sgd_count))\n"
   ]
  },
  {
   "cell_type": "code",
   "execution_count": 102,
   "id": "ad0eb35e",
   "metadata": {},
   "outputs": [
    {
     "name": "stdout",
     "output_type": "stream",
     "text": [
      "[[9958 2258]\n",
      " [1490 8550]]\n"
     ]
    }
   ],
   "source": [
    "# create confusion matrix\n",
    "cf_matrix_sgd_count = confusion_matrix(Y_test_count, y_pred_sgd_count)\n",
    "print(cf_matrix_sgd_count)"
   ]
  },
  {
   "cell_type": "code",
   "execution_count": null,
   "id": "9e58383a",
   "metadata": {},
   "outputs": [],
   "source": []
  },
  {
   "cell_type": "markdown",
   "id": "e15dc8e4",
   "metadata": {},
   "source": [
    "# COMPARE MODELS ON TEXT DATA ONLY COUNT\n"
   ]
  },
  {
   "cell_type": "code",
   "execution_count": 103,
   "id": "bf52ba59",
   "metadata": {},
   "outputs": [],
   "source": [
    "# MODELS FOR STAGE 2 (Advanced Models):\n",
    "# Logistic Regression\n",
    "# Random Forest   \n",
    "# Passive Aggressive Classifier \n",
    "# LightGBM 500 rounds\n",
    "# Stochastic Gradient Descent\n"
   ]
  },
  {
   "cell_type": "code",
   "execution_count": 104,
   "id": "9cf0743c",
   "metadata": {},
   "outputs": [
    {
     "name": "stdout",
     "output_type": "stream",
     "text": [
      "Logistic Regression accuracy score count vectorizer: 0.8315959741193386\n",
      "Random Forest accuracy score count vectorizer: 0.7972232207045291\n",
      "Passive Agressive accuracy score count vectorizer: 0.8192397555715313\n",
      "LightGBM accuracy score count vectorizer 500 rounds: 0.8671369518332135\n",
      "LightGBM accuracy score count vectorizer 1000 rounds: 0.876078360891445\n",
      "Stochastic Gradient Descent accuracy score count vectorizer: 0.8315959741193386\n"
     ]
    }
   ],
   "source": [
    "print(\"Logistic Regression accuracy score count vectorizer:\", accuracy_LogReg_count)\n",
    "print(\"Random Forest accuracy score count vectorizer:\", accuracy_rf_count)\n",
    "print(\"Passive Agressive accuracy score count vectorizer:\", accuracy_PassAgg_count)\n",
    "print(\"LightGBM accuracy score count vectorizer 500 rounds:\", accuracy_LightGBM_count_500)\n",
    "print(\"LightGBM accuracy score count vectorizer 1000 rounds:\", accuracy_LightGBM_count_1000)\n",
    "print(\"Stochastic Gradient Descent accuracy score count vectorizer:\", accuracy_sgd_count)\n"
   ]
  },
  {
   "cell_type": "code",
   "execution_count": 105,
   "id": "1acbfdaa",
   "metadata": {},
   "outputs": [
    {
     "name": "stdout",
     "output_type": "stream",
     "text": [
      "Logistic Regression f1 score count vectorizer: 0.8128993610223643\n",
      "Random Forest f1 score count vectorizer: 0.7270638040520109\n",
      "Passive Agressive f1 score count vectorizer: 0.7965201557837236\n",
      "LightGBM f1 score count vectorizer 500 rounds: 0.8470174349423146\n",
      "LightGBM f1 score count vectorizer 1000 rounds: 0.8583898131033065\n",
      "Stochastic Gradient Descent f1 score count vectorizer: 0.820222563315426\n"
     ]
    }
   ],
   "source": [
    "print(\"Logistic Regression f1 score count vectorizer:\", f1_LogReg_count)\n",
    "print(\"Random Forest f1 score count vectorizer:\", f1_rf_count)\n",
    "print(\"Passive Agressive f1 score count vectorizer:\", f1_PassAgg_count)\n",
    "print(\"LightGBM f1 score count vectorizer 500 rounds:\", f1_LightGBM_count_500)\n",
    "print(\"LightGBM f1 score count vectorizer 1000 rounds:\", f1_LightGBM_count_1000)\n",
    "print(\"Stochastic Gradient Descent f1 score count vectorizer:\", f1_sgd_count)"
   ]
  },
  {
   "cell_type": "code",
   "execution_count": null,
   "id": "f86f1bce",
   "metadata": {},
   "outputs": [],
   "source": []
  },
  {
   "cell_type": "markdown",
   "id": "3c99a540",
   "metadata": {},
   "source": [
    "## PLOT: Accuracy of all models count vectorizer"
   ]
  },
  {
   "cell_type": "code",
   "execution_count": 106,
   "id": "4c0dca18",
   "metadata": {},
   "outputs": [],
   "source": [
    "#Creating the Dictionary with model name as key and accuracy as key-value\n",
    "acc_labels_count_all={'Logistic Regression':accuracy_LogReg_count,\n",
    "        'Random Forest':accuracy_rf_count,\n",
    "        'Passive Aggressive':accuracy_PassAgg_count,\n",
    "        'LightBM 500 rounds':accuracy_LightGBM_count_500,\n",
    "        'LightBM 1000 rounds':accuracy_LightGBM_count_1000,\n",
    "        'Stoachstic Gradient Descent':accuracy_sgd_count} \n",
    "        "
   ]
  },
  {
   "cell_type": "code",
   "execution_count": 107,
   "id": "d31823e4",
   "metadata": {},
   "outputs": [
    {
     "data": {
      "image/png": "[encoded data removed]",
      "text/plain": [
       "<Figure size 2500x1000 with 1 Axes>"
      ]
     },
     "metadata": {},
     "output_type": "display_data"
    }
   ],
   "source": [
    "# Data for the chart\n",
    "acc_labels_all_count = list(acc_labels_count_all.keys())\n",
    "acc_values_all_count = list(acc_labels_count_all.values())\n",
    "\n",
    "# Creating the chart\n",
    "plt.figure(figsize=(25, 10))\n",
    "plt.title('Comparing Accuracy of advanced ML Models on text data with count vectorizer', fontsize=20)\n",
    "plt.xlabel('Accuracy', fontsize=16)\n",
    "plt.ylabel('Models', fontsize=16)\n",
    "plt.xticks(fontsize=16)\n",
    "plt.yticks(fontsize=16)# Increase the plot width to accommodate the values\n",
    "\n",
    "plt.barh(acc_labels_all_count, acc_values_all_count, color='darkblue', edgecolor='black', linewidth=1, alpha=0.7)\n",
    "\n",
    "# Displaying values at the end of the bars\n",
    "for i, value in enumerate(acc_values_all_count):\n",
    "    plt.text(value, i, f'{value:.5f}', fontsize=16, va='center')\n",
    "\n",
    "plt.show();"
   ]
  },
  {
   "cell_type": "code",
   "execution_count": null,
   "id": "c5233696",
   "metadata": {},
   "outputs": [],
   "source": []
  },
  {
   "cell_type": "markdown",
   "id": "53cdc214",
   "metadata": {},
   "source": [
    "## PLOT: f1 score of all models count vectorizer"
   ]
  },
  {
   "cell_type": "code",
   "execution_count": 108,
   "id": "292af63c",
   "metadata": {},
   "outputs": [],
   "source": [
    "#Creating the Dictionary with model name as key and accuracy as key-value\n",
    "f1_labels_count_all={'Logistic Regression':f1_LogReg_count,\n",
    "        'Random Forest':f1_rf_count,\n",
    "        'Passive Aggressive':f1_PassAgg_count,\n",
    "        'LightBM 500 rounds':f1_LightGBM_count_500,\n",
    "        'LightBM 1000 rounds':f1_LightGBM_count_1000,\n",
    "        'Stoachstic Gradient Descent':f1_sgd_count} \n",
    "        "
   ]
  },
  {
   "cell_type": "code",
   "execution_count": 109,
   "id": "aff61115",
   "metadata": {},
   "outputs": [
    {
     "data": {
      "image/png": "[encoded data removed]",
      "text/plain": [
       "<Figure size 2500x1000 with 1 Axes>"
      ]
     },
     "metadata": {},
     "output_type": "display_data"
    }
   ],
   "source": [
    "# Data for the chart\n",
    "f1_labels_all_count = list(f1_labels_count_all.keys())\n",
    "f1_values_all_count = list(f1_labels_count_all.values())\n",
    "\n",
    "# Creating the chart\n",
    "plt.figure(figsize=(25, 10))\n",
    "plt.title('Comparing f1-score of advanced ML Models on text data with count vectorizer', fontsize=20)\n",
    "plt.xlabel('f1-score', fontsize=16)\n",
    "plt.ylabel('Models', fontsize=16)\n",
    "plt.xticks(fontsize=16)\n",
    "plt.yticks(fontsize=16)# Increase the plot width to accommodate the values\n",
    "\n",
    "plt.barh(f1_labels_all_count, f1_values_all_count, color='darkgreen', edgecolor='black', linewidth=1, alpha=0.7)\n",
    "\n",
    "# Displaying values at the end of the bars\n",
    "for i, value in enumerate(f1_values_all_count):\n",
    "    plt.text(value, i, f'{value:.5f}', fontsize=16, va='center')\n",
    "\n",
    "plt.show();"
   ]
  },
  {
   "cell_type": "code",
   "execution_count": null,
   "id": "35476f5b",
   "metadata": {},
   "outputs": [],
   "source": []
  },
  {
   "cell_type": "markdown",
   "id": "3c450b5f",
   "metadata": {},
   "source": [
    "# RUN OPTIMIZED MODELS Count Vectorizer\n"
   ]
  },
  {
   "cell_type": "code",
   "execution_count": 110,
   "id": "f3d68f77",
   "metadata": {},
   "outputs": [],
   "source": [
    "import warnings\n",
    "\n",
    "warnings.filterwarnings(action=\"ignore\")"
   ]
  },
  {
   "cell_type": "markdown",
   "id": "8c2e49c2",
   "metadata": {},
   "source": [
    "## USED DATASETS:\n",
    "## X_train_text_count, X_test_text_count, Y_train_count, Y_test_count\n"
   ]
  },
  {
   "cell_type": "code",
   "execution_count": null,
   "id": "04d1057d",
   "metadata": {},
   "outputs": [],
   "source": []
  },
  {
   "cell_type": "markdown",
   "id": "b8ba2525",
   "metadata": {},
   "source": [
    "# CREATE LOGISTIC REGRESSION MODEL ON count text data with optimal parameters\n",
    "# use saved model\n",
    "# model_clf_LogReg_count_opt.joblib\n"
   ]
  },
  {
   "cell_type": "code",
   "execution_count": 111,
   "id": "f90b915f",
   "metadata": {},
   "outputs": [],
   "source": [
    "# Instantiate model \n",
    "from sklearn.linear_model import LogisticRegression\n",
    "\n",
    "# clf_LogReg_count_opt = LogisticRegression(C=0.1, max_iter=1000, penalty=\"l1\", solver=\"liblinear\")\n"
   ]
  },
  {
   "cell_type": "code",
   "execution_count": null,
   "id": "34eb555c",
   "metadata": {},
   "outputs": [],
   "source": [
    "# Fit the model on the training dataset\n",
    "# clf_LogReg_count_opt.fit(X_train_text_count, Y_train_count)\n",
    "\n",
    "# only run once, then use saved model\n"
   ]
  },
  {
   "cell_type": "code",
   "execution_count": 112,
   "id": "719b4429",
   "metadata": {},
   "outputs": [],
   "source": [
    "from joblib import dump, load"
   ]
  },
  {
   "cell_type": "code",
   "execution_count": 114,
   "id": "335142c7",
   "metadata": {},
   "outputs": [],
   "source": [
    "# LOAD SAVED MODEL\n",
    "clf_LogReg_count_opt = load(\"model_clf_LogReg_count_opt.joblib\")\n"
   ]
  },
  {
   "cell_type": "code",
   "execution_count": 115,
   "id": "b4e1c5c1",
   "metadata": {},
   "outputs": [],
   "source": [
    "y_pred_LogReg_count_opt = clf_LogReg_count_opt.predict(X_test_text_count)\n"
   ]
  },
  {
   "cell_type": "code",
   "execution_count": 116,
   "id": "aff2abd2",
   "metadata": {},
   "outputs": [
    {
     "data": {
      "text/plain": [
       "0.8448957584471604"
      ]
     },
     "execution_count": 116,
     "metadata": {},
     "output_type": "execute_result"
    }
   ],
   "source": [
    "# get accuracy\n",
    "accuracy_LogReg_count_opt = clf_LogReg_count_opt.score(X_test_text_count, Y_test_count)\n",
    "accuracy_LogReg_count_opt\n",
    "\n",
    "# 844"
   ]
  },
  {
   "cell_type": "code",
   "execution_count": 117,
   "id": "eb214130",
   "metadata": {},
   "outputs": [
    {
     "name": "stdout",
     "output_type": "stream",
     "text": [
      "f1 score: 0.8250734772473903\n"
     ]
    }
   ],
   "source": [
    "# Evaluate the model\n",
    "\n",
    "f1_LogReg_count_opt = f1_score(Y_test_count, y_pred_LogReg_count_opt)\n",
    "print(\"f1 score:\", f1_LogReg_count_opt)\n",
    "\n",
    "# 0.825"
   ]
  },
  {
   "cell_type": "code",
   "execution_count": 118,
   "id": "7c03ed8f",
   "metadata": {},
   "outputs": [
    {
     "data": {
      "text/html": [
       "<div>\n",
       "<style scoped>\n",
       "    .dataframe tbody tr th:only-of-type {\n",
       "        vertical-align: middle;\n",
       "    }\n",
       "\n",
       "    .dataframe tbody tr th {\n",
       "        vertical-align: top;\n",
       "    }\n",
       "\n",
       "    .dataframe thead th {\n",
       "        text-align: right;\n",
       "    }\n",
       "</style>\n",
       "<table border=\"1\" class=\"dataframe\">\n",
       "  <thead>\n",
       "    <tr style=\"text-align: right;\">\n",
       "      <th>predict</th>\n",
       "      <th>0.0</th>\n",
       "      <th>1.0</th>\n",
       "    </tr>\n",
       "    <tr>\n",
       "      <th>true</th>\n",
       "      <th></th>\n",
       "      <th></th>\n",
       "    </tr>\n",
       "  </thead>\n",
       "  <tbody>\n",
       "    <tr>\n",
       "      <th>0.0</th>\n",
       "      <td>10663</td>\n",
       "      <td>1553</td>\n",
       "    </tr>\n",
       "    <tr>\n",
       "      <th>1.0</th>\n",
       "      <td>1899</td>\n",
       "      <td>8141</td>\n",
       "    </tr>\n",
       "  </tbody>\n",
       "</table>\n",
       "</div>"
      ],
      "text/plain": [
       "predict    0.0   1.0\n",
       "true                \n",
       "0.0      10663  1553\n",
       "1.0       1899  8141"
      ]
     },
     "execution_count": 118,
     "metadata": {},
     "output_type": "execute_result"
    }
   ],
   "source": [
    "# get confusion matrix\n",
    "pd.crosstab(Y_test_count, y_pred_LogReg_count_opt, rownames=[\"true\"], colnames=[\"predict\"])\n"
   ]
  },
  {
   "cell_type": "code",
   "execution_count": 119,
   "id": "8288876c",
   "metadata": {},
   "outputs": [
    {
     "name": "stdout",
     "output_type": "stream",
     "text": [
      "Logistic Regression count optimized classification report:\n",
      "                precision    recall  f1-score   support\n",
      "\n",
      "         0.0       0.85      0.87      0.86     12216\n",
      "         1.0       0.84      0.81      0.83     10040\n",
      "\n",
      "    accuracy                           0.84     22256\n",
      "   macro avg       0.84      0.84      0.84     22256\n",
      "weighted avg       0.84      0.84      0.84     22256\n",
      "\n"
     ]
    }
   ],
   "source": [
    "from sklearn.metrics import classification_report \n",
    "\n",
    "# get classification report\n",
    "print(\"Logistic Regression count optimized classification report:\\n \", classification_report (Y_test_count, y_pred_LogReg_count_opt))\n"
   ]
  },
  {
   "cell_type": "code",
   "execution_count": 120,
   "id": "de5a4e59",
   "metadata": {},
   "outputs": [
    {
     "name": "stdout",
     "output_type": "stream",
     "text": [
      "[[10663  1553]\n",
      " [ 1899  8141]]\n"
     ]
    }
   ],
   "source": [
    "# create confusion matrix\n",
    "from sklearn.metrics import confusion_matrix \n",
    "\n",
    "cf_matrix_LogReg_count_opt = confusion_matrix(Y_test_count, y_pred_LogReg_count_opt)\n",
    "print(cf_matrix_LogReg_count_opt)\n"
   ]
  },
  {
   "cell_type": "code",
   "execution_count": 121,
   "id": "07a5ebb5",
   "metadata": {},
   "outputs": [
    {
     "name": "stdout",
     "output_type": "stream",
     "text": [
      "Confusion Matrix for optimized Logistic Regression model on count data\n"
     ]
    },
    {
     "data": {
      "image/png": "[encoded data removed]",
      "text/plain": [
       "<Figure size 640x480 with 2 Axes>"
      ]
     },
     "metadata": {},
     "output_type": "display_data"
    }
   ],
   "source": [
    "from mlxtend.plotting import plot_confusion_matrix\n",
    "\n",
    "print(\"Confusion Matrix for optimized Logistic Regression model on count data\")\n",
    "plot_confusion_matrix(conf_mat = cf_matrix_LogReg_count_opt,\n",
    "                      show_absolute=True,\n",
    "                      show_normed=True,\n",
    "                      colorbar=True,\n",
    "                      class_names=['REAL','FAKE'])\n",
    "plt.show();"
   ]
  },
  {
   "cell_type": "markdown",
   "id": "f0dcb09f",
   "metadata": {},
   "source": [
    "# SAVE OPTIMIZED Logistic Regression Model COUNT VECTORIZER\n",
    "# ALREADY SAVED"
   ]
  },
  {
   "cell_type": "code",
   "execution_count": 440,
   "id": "13d6ca05",
   "metadata": {},
   "outputs": [],
   "source": [
    "# from joblib import dump, load"
   ]
  },
  {
   "cell_type": "code",
   "execution_count": 441,
   "id": "f89936fa",
   "metadata": {},
   "outputs": [
    {
     "data": {
      "text/plain": [
       "['model_clf_LogReg_count_opt.joblib']"
      ]
     },
     "execution_count": 441,
     "metadata": {},
     "output_type": "execute_result"
    }
   ],
   "source": [
    "# dump(clf_LogReg_count_opt, \"model_clf_LogReg_count_opt.joblib\")"
   ]
  },
  {
   "cell_type": "code",
   "execution_count": null,
   "id": "e22247b5",
   "metadata": {},
   "outputs": [],
   "source": []
  },
  {
   "cell_type": "code",
   "execution_count": null,
   "id": "72cef94e",
   "metadata": {},
   "outputs": [],
   "source": []
  },
  {
   "cell_type": "markdown",
   "id": "6eac4a40",
   "metadata": {},
   "source": [
    "# Random Forest model ON count text data with optimal parameters\n",
    "# takes 1,5 hour\n",
    "# use saved model\n",
    "# model_clf_rf_count_opt.joblib"
   ]
  },
  {
   "cell_type": "code",
   "execution_count": 122,
   "id": "68306a0d",
   "metadata": {},
   "outputs": [],
   "source": [
    "from sklearn.ensemble import RandomForestClassifier"
   ]
  },
  {
   "cell_type": "code",
   "execution_count": 443,
   "id": "a3e98bd5",
   "metadata": {},
   "outputs": [],
   "source": [
    "# Instantiate the model\n",
    "# clf_rf_count_opt = RandomForestClassifier(n_jobs=-1, criterion=\"entropy\", class_weight={0: 1, 1: 1}, n_estimators=400)\n"
   ]
  },
  {
   "cell_type": "code",
   "execution_count": 444,
   "id": "3246fc19",
   "metadata": {},
   "outputs": [
    {
     "data": {
      "text/html": [
       "<style>#sk-container-id-24 {color: black;background-color: white;}#sk-container-id-24 pre{padding: 0;}#sk-container-id-24 div.sk-toggleable {background-color: white;}#sk-container-id-24 label.sk-toggleable__label {cursor: pointer;display: block;width: 100%;margin-bottom: 0;padding: 0.3em;box-sizing: border-box;text-align: center;}#sk-container-id-24 label.sk-toggleable__label-arrow:before {content: \"▸\";float: left;margin-right: 0.25em;color: #696969;}#sk-container-id-24 label.sk-toggleable__label-arrow:hover:before {color: black;}#sk-container-id-24 div.sk-estimator:hover label.sk-toggleable__label-arrow:before {color: black;}#sk-container-id-24 div.sk-toggleable__content {max-height: 0;max-width: 0;overflow: hidden;text-align: left;background-color: #f0f8ff;}#sk-container-id-24 div.sk-toggleable__content pre {margin: 0.2em;color: black;border-radius: 0.25em;background-color: #f0f8ff;}#sk-container-id-24 input.sk-toggleable__control:checked~div.sk-toggleable__content {max-height: 200px;max-width: 100%;overflow: auto;}#sk-container-id-24 input.sk-toggleable__control:checked~label.sk-toggleable__label-arrow:before {content: \"▾\";}#sk-container-id-24 div.sk-estimator input.sk-toggleable__control:checked~label.sk-toggleable__label {background-color: #d4ebff;}#sk-container-id-24 div.sk-label input.sk-toggleable__control:checked~label.sk-toggleable__label {background-color: #d4ebff;}#sk-container-id-24 input.sk-hidden--visually {border: 0;clip: rect(1px 1px 1px 1px);clip: rect(1px, 1px, 1px, 1px);height: 1px;margin: -1px;overflow: hidden;padding: 0;position: absolute;width: 1px;}#sk-container-id-24 div.sk-estimator {font-family: monospace;background-color: #f0f8ff;border: 1px dotted black;border-radius: 0.25em;box-sizing: border-box;margin-bottom: 0.5em;}#sk-container-id-24 div.sk-estimator:hover {background-color: #d4ebff;}#sk-container-id-24 div.sk-parallel-item::after {content: \"\";width: 100%;border-bottom: 1px solid gray;flex-grow: 1;}#sk-container-id-24 div.sk-label:hover label.sk-toggleable__label {background-color: #d4ebff;}#sk-container-id-24 div.sk-serial::before {content: \"\";position: absolute;border-left: 1px solid gray;box-sizing: border-box;top: 0;bottom: 0;left: 50%;z-index: 0;}#sk-container-id-24 div.sk-serial {display: flex;flex-direction: column;align-items: center;background-color: white;padding-right: 0.2em;padding-left: 0.2em;position: relative;}#sk-container-id-24 div.sk-item {position: relative;z-index: 1;}#sk-container-id-24 div.sk-parallel {display: flex;align-items: stretch;justify-content: center;background-color: white;position: relative;}#sk-container-id-24 div.sk-item::before, #sk-container-id-24 div.sk-parallel-item::before {content: \"\";position: absolute;border-left: 1px solid gray;box-sizing: border-box;top: 0;bottom: 0;left: 50%;z-index: -1;}#sk-container-id-24 div.sk-parallel-item {display: flex;flex-direction: column;z-index: 1;position: relative;background-color: white;}#sk-container-id-24 div.sk-parallel-item:first-child::after {align-self: flex-end;width: 50%;}#sk-container-id-24 div.sk-parallel-item:last-child::after {align-self: flex-start;width: 50%;}#sk-container-id-24 div.sk-parallel-item:only-child::after {width: 0;}#sk-container-id-24 div.sk-dashed-wrapped {border: 1px dashed gray;margin: 0 0.4em 0.5em 0.4em;box-sizing: border-box;padding-bottom: 0.4em;background-color: white;}#sk-container-id-24 div.sk-label label {font-family: monospace;font-weight: bold;display: inline-block;line-height: 1.2em;}#sk-container-id-24 div.sk-label-container {text-align: center;}#sk-container-id-24 div.sk-container {/* jupyter's `normalize.less` sets `[hidden] { display: none; }` but bootstrap.min.css set `[hidden] { display: none !important; }` so we also need the `!important` here to be able to override the default hidden behavior on the sphinx rendered scikit-learn.org. See: https://github.com/scikit-learn/scikit-learn/issues/21755 */display: inline-block !important;position: relative;}#sk-container-id-24 div.sk-text-repr-fallback {display: none;}</style><div id=\"sk-container-id-24\" class=\"sk-top-container\"><div class=\"sk-text-repr-fallback\"><pre>RandomForestClassifier(class_weight={0: 1, 1: 1}, criterion=&#x27;entropy&#x27;,\n",
       "                       n_estimators=400, n_jobs=-1)</pre><b>In a Jupyter environment, please rerun this cell to show the HTML representation or trust the notebook. <br />On GitHub, the HTML representation is unable to render, please try loading this page with nbviewer.org.</b></div><div class=\"sk-container\" hidden><div class=\"sk-item\"><div class=\"sk-estimator sk-toggleable\"><input class=\"sk-toggleable__control sk-hidden--visually\" id=\"sk-estimator-id-24\" type=\"checkbox\" checked><label for=\"sk-estimator-id-24\" class=\"sk-toggleable__label sk-toggleable__label-arrow\">RandomForestClassifier</label><div class=\"sk-toggleable__content\"><pre>RandomForestClassifier(class_weight={0: 1, 1: 1}, criterion=&#x27;entropy&#x27;,\n",
       "                       n_estimators=400, n_jobs=-1)</pre></div></div></div></div></div>"
      ],
      "text/plain": [
       "RandomForestClassifier(class_weight={0: 1, 1: 1}, criterion='entropy',\n",
       "                       n_estimators=400, n_jobs=-1)"
      ]
     },
     "execution_count": 444,
     "metadata": {},
     "output_type": "execute_result"
    }
   ],
   "source": [
    "# fit model\n",
    "# clf_rf_count_opt.fit(X_train_text_count, Y_train_count)\n",
    "\n",
    "# only run once, then use saved model\n",
    "# model_clf_rf_count_opt.joblib\n"
   ]
  },
  {
   "cell_type": "code",
   "execution_count": 123,
   "id": "33a87476",
   "metadata": {},
   "outputs": [],
   "source": [
    "from joblib import dump, load"
   ]
  },
  {
   "cell_type": "code",
   "execution_count": 124,
   "id": "8ccb743b",
   "metadata": {},
   "outputs": [],
   "source": [
    "# LOAD SAVED MODEL\n",
    "clf_rf_count_opt = load(\"model_clf_rf_count_opt.joblib\")\n"
   ]
  },
  {
   "cell_type": "code",
   "execution_count": 125,
   "id": "e3063778",
   "metadata": {},
   "outputs": [],
   "source": [
    "#Predict on the test set \n",
    "y_pred_rf_count_opt = clf_rf_count_opt.predict(X_test_text_count)\n"
   ]
  },
  {
   "cell_type": "code",
   "execution_count": 126,
   "id": "880696de",
   "metadata": {},
   "outputs": [
    {
     "data": {
      "text/plain": [
       "0.8038281811646297"
      ]
     },
     "execution_count": 126,
     "metadata": {},
     "output_type": "execute_result"
    }
   ],
   "source": [
    "# get accuracy\n",
    "accuracy_rf_count_opt = clf_rf_count_opt.score(X_test_text_count, Y_test_count)\n",
    "accuracy_rf_count_opt\n",
    "\n",
    "# 0.80"
   ]
  },
  {
   "cell_type": "code",
   "execution_count": 127,
   "id": "61371b11",
   "metadata": {},
   "outputs": [
    {
     "data": {
      "text/plain": [
       "0.7366071428571428"
      ]
     },
     "execution_count": 127,
     "metadata": {},
     "output_type": "execute_result"
    }
   ],
   "source": [
    "# Evaluate the model with f1 score\n",
    "from sklearn.metrics import f1_score\n",
    "\n",
    "f1_rf_count_opt = f1_score(Y_test_count, y_pred_rf_count_opt)\n",
    "f1_rf_count_opt\n",
    "\n",
    "# 0.736\n"
   ]
  },
  {
   "cell_type": "code",
   "execution_count": 128,
   "id": "22229e5a",
   "metadata": {},
   "outputs": [
    {
     "data": {
      "text/html": [
       "<div>\n",
       "<style scoped>\n",
       "    .dataframe tbody tr th:only-of-type {\n",
       "        vertical-align: middle;\n",
       "    }\n",
       "\n",
       "    .dataframe tbody tr th {\n",
       "        vertical-align: top;\n",
       "    }\n",
       "\n",
       "    .dataframe thead th {\n",
       "        text-align: right;\n",
       "    }\n",
       "</style>\n",
       "<table border=\"1\" class=\"dataframe\">\n",
       "  <thead>\n",
       "    <tr style=\"text-align: right;\">\n",
       "      <th>predict</th>\n",
       "      <th>0.0</th>\n",
       "      <th>1.0</th>\n",
       "    </tr>\n",
       "    <tr>\n",
       "      <th>true</th>\n",
       "      <th></th>\n",
       "      <th></th>\n",
       "    </tr>\n",
       "  </thead>\n",
       "  <tbody>\n",
       "    <tr>\n",
       "      <th>0.0</th>\n",
       "      <td>11785</td>\n",
       "      <td>431</td>\n",
       "    </tr>\n",
       "    <tr>\n",
       "      <th>1.0</th>\n",
       "      <td>3935</td>\n",
       "      <td>6105</td>\n",
       "    </tr>\n",
       "  </tbody>\n",
       "</table>\n",
       "</div>"
      ],
      "text/plain": [
       "predict    0.0   1.0\n",
       "true                \n",
       "0.0      11785   431\n",
       "1.0       3935  6105"
      ]
     },
     "execution_count": 128,
     "metadata": {},
     "output_type": "execute_result"
    }
   ],
   "source": [
    "# get confusion matrix\n",
    "pd.crosstab(Y_test_count, y_pred_rf_count_opt, rownames=[\"true\"], colnames=[\"predict\"])\n",
    "\n",
    "# overall prediction is quite good\n",
    "# best prediction: real news as real news (0:0), followed by fake news as fake news (1:1)\n",
    "# best result for false positives (real news being predicted as fake news)"
   ]
  },
  {
   "cell_type": "code",
   "execution_count": 129,
   "id": "6bfabcc1",
   "metadata": {},
   "outputs": [
    {
     "name": "stdout",
     "output_type": "stream",
     "text": [
      "Random Forest count optimized classification report:\n",
      "                precision    recall  f1-score   support\n",
      "\n",
      "         0.0       0.75      0.96      0.84     12216\n",
      "         1.0       0.93      0.61      0.74     10040\n",
      "\n",
      "    accuracy                           0.80     22256\n",
      "   macro avg       0.84      0.79      0.79     22256\n",
      "weighted avg       0.83      0.80      0.80     22256\n",
      "\n"
     ]
    }
   ],
   "source": [
    "from sklearn.metrics import classification_report \n",
    "\n",
    "# get classification report\n",
    "print(\"Random Forest count optimized classification report:\\n \", classification_report (Y_test_count, y_pred_rf_count_opt))\n"
   ]
  },
  {
   "cell_type": "code",
   "execution_count": 130,
   "id": "085c00ee",
   "metadata": {},
   "outputs": [
    {
     "name": "stdout",
     "output_type": "stream",
     "text": [
      "[[11785   431]\n",
      " [ 3935  6105]]\n"
     ]
    }
   ],
   "source": [
    "# create confusion matrix\n",
    "cf_matrix_rf_count_opt = confusion_matrix(Y_test_count, y_pred_rf_count_opt)\n",
    "print(cf_matrix_rf_count_opt)\n"
   ]
  },
  {
   "cell_type": "code",
   "execution_count": 131,
   "id": "54c209b7",
   "metadata": {},
   "outputs": [
    {
     "name": "stdout",
     "output_type": "stream",
     "text": [
      "Confusion Matrix for optimized Random Forest model on count vectorized data\n"
     ]
    },
    {
     "data": {
      "image/png": "[encoded data removed]",
      "text/plain": [
       "<Figure size 640x480 with 2 Axes>"
      ]
     },
     "metadata": {},
     "output_type": "display_data"
    }
   ],
   "source": [
    "from mlxtend.plotting import plot_confusion_matrix\n",
    "\n",
    "print(\"Confusion Matrix for optimized Random Forest model on count vectorized data\")\n",
    "plot_confusion_matrix(conf_mat = cf_matrix_rf_count_opt,\n",
    "                      show_absolute=True,\n",
    "                      show_normed=True,\n",
    "                      colorbar=True,\n",
    "                      class_names=['REAL','FAKE'])\n",
    "plt.show();"
   ]
  },
  {
   "cell_type": "markdown",
   "id": "569e7ebe",
   "metadata": {},
   "source": [
    "# SAVE OPTIMIZED Random Forest Model COUNT VECTORIZER\n",
    "# ALREADY SAVED"
   ]
  },
  {
   "cell_type": "code",
   "execution_count": 452,
   "id": "42f1fe3b",
   "metadata": {},
   "outputs": [],
   "source": [
    "# from joblib import dump, load"
   ]
  },
  {
   "cell_type": "code",
   "execution_count": 453,
   "id": "f73589cb",
   "metadata": {},
   "outputs": [
    {
     "data": {
      "text/plain": [
       "['model_clf_rf_count_opt.joblib']"
      ]
     },
     "execution_count": 453,
     "metadata": {},
     "output_type": "execute_result"
    }
   ],
   "source": [
    "# dump(clf_rf_count_opt, \"model_clf_rf_count_opt.joblib\")"
   ]
  },
  {
   "cell_type": "code",
   "execution_count": null,
   "id": "f09ceda2",
   "metadata": {},
   "outputs": [],
   "source": []
  },
  {
   "cell_type": "markdown",
   "id": "c12195a5",
   "metadata": {},
   "source": [
    "# SGD model ON count text data with optimal parameters\n",
    "# use saved model\n",
    "# model_sgd_count_opt.joblib"
   ]
  },
  {
   "cell_type": "code",
   "execution_count": 454,
   "id": "45b8d807",
   "metadata": {},
   "outputs": [],
   "source": [
    "# BEST PARAMS FOR SGD:\n",
    "# {'class_weight': None, 'loss': 'hinge', 'penalty': 'elasticnet'}"
   ]
  },
  {
   "cell_type": "code",
   "execution_count": 132,
   "id": "1071e958",
   "metadata": {},
   "outputs": [],
   "source": [
    "from sklearn.linear_model import SGDClassifier\n",
    "from sklearn.metrics import accuracy_score\n",
    "\n",
    "# Create an SGD classifier\n",
    "# sgd_count_opt = SGDClassifier(loss= 'hinge', penalty= 'elasticnet')\n"
   ]
  },
  {
   "cell_type": "code",
   "execution_count": 456,
   "id": "795daed9",
   "metadata": {},
   "outputs": [
    {
     "data": {
      "text/html": [
       "<style>#sk-container-id-25 {color: black;background-color: white;}#sk-container-id-25 pre{padding: 0;}#sk-container-id-25 div.sk-toggleable {background-color: white;}#sk-container-id-25 label.sk-toggleable__label {cursor: pointer;display: block;width: 100%;margin-bottom: 0;padding: 0.3em;box-sizing: border-box;text-align: center;}#sk-container-id-25 label.sk-toggleable__label-arrow:before {content: \"▸\";float: left;margin-right: 0.25em;color: #696969;}#sk-container-id-25 label.sk-toggleable__label-arrow:hover:before {color: black;}#sk-container-id-25 div.sk-estimator:hover label.sk-toggleable__label-arrow:before {color: black;}#sk-container-id-25 div.sk-toggleable__content {max-height: 0;max-width: 0;overflow: hidden;text-align: left;background-color: #f0f8ff;}#sk-container-id-25 div.sk-toggleable__content pre {margin: 0.2em;color: black;border-radius: 0.25em;background-color: #f0f8ff;}#sk-container-id-25 input.sk-toggleable__control:checked~div.sk-toggleable__content {max-height: 200px;max-width: 100%;overflow: auto;}#sk-container-id-25 input.sk-toggleable__control:checked~label.sk-toggleable__label-arrow:before {content: \"▾\";}#sk-container-id-25 div.sk-estimator input.sk-toggleable__control:checked~label.sk-toggleable__label {background-color: #d4ebff;}#sk-container-id-25 div.sk-label input.sk-toggleable__control:checked~label.sk-toggleable__label {background-color: #d4ebff;}#sk-container-id-25 input.sk-hidden--visually {border: 0;clip: rect(1px 1px 1px 1px);clip: rect(1px, 1px, 1px, 1px);height: 1px;margin: -1px;overflow: hidden;padding: 0;position: absolute;width: 1px;}#sk-container-id-25 div.sk-estimator {font-family: monospace;background-color: #f0f8ff;border: 1px dotted black;border-radius: 0.25em;box-sizing: border-box;margin-bottom: 0.5em;}#sk-container-id-25 div.sk-estimator:hover {background-color: #d4ebff;}#sk-container-id-25 div.sk-parallel-item::after {content: \"\";width: 100%;border-bottom: 1px solid gray;flex-grow: 1;}#sk-container-id-25 div.sk-label:hover label.sk-toggleable__label {background-color: #d4ebff;}#sk-container-id-25 div.sk-serial::before {content: \"\";position: absolute;border-left: 1px solid gray;box-sizing: border-box;top: 0;bottom: 0;left: 50%;z-index: 0;}#sk-container-id-25 div.sk-serial {display: flex;flex-direction: column;align-items: center;background-color: white;padding-right: 0.2em;padding-left: 0.2em;position: relative;}#sk-container-id-25 div.sk-item {position: relative;z-index: 1;}#sk-container-id-25 div.sk-parallel {display: flex;align-items: stretch;justify-content: center;background-color: white;position: relative;}#sk-container-id-25 div.sk-item::before, #sk-container-id-25 div.sk-parallel-item::before {content: \"\";position: absolute;border-left: 1px solid gray;box-sizing: border-box;top: 0;bottom: 0;left: 50%;z-index: -1;}#sk-container-id-25 div.sk-parallel-item {display: flex;flex-direction: column;z-index: 1;position: relative;background-color: white;}#sk-container-id-25 div.sk-parallel-item:first-child::after {align-self: flex-end;width: 50%;}#sk-container-id-25 div.sk-parallel-item:last-child::after {align-self: flex-start;width: 50%;}#sk-container-id-25 div.sk-parallel-item:only-child::after {width: 0;}#sk-container-id-25 div.sk-dashed-wrapped {border: 1px dashed gray;margin: 0 0.4em 0.5em 0.4em;box-sizing: border-box;padding-bottom: 0.4em;background-color: white;}#sk-container-id-25 div.sk-label label {font-family: monospace;font-weight: bold;display: inline-block;line-height: 1.2em;}#sk-container-id-25 div.sk-label-container {text-align: center;}#sk-container-id-25 div.sk-container {/* jupyter's `normalize.less` sets `[hidden] { display: none; }` but bootstrap.min.css set `[hidden] { display: none !important; }` so we also need the `!important` here to be able to override the default hidden behavior on the sphinx rendered scikit-learn.org. See: https://github.com/scikit-learn/scikit-learn/issues/21755 */display: inline-block !important;position: relative;}#sk-container-id-25 div.sk-text-repr-fallback {display: none;}</style><div id=\"sk-container-id-25\" class=\"sk-top-container\"><div class=\"sk-text-repr-fallback\"><pre>SGDClassifier(penalty=&#x27;elasticnet&#x27;)</pre><b>In a Jupyter environment, please rerun this cell to show the HTML representation or trust the notebook. <br />On GitHub, the HTML representation is unable to render, please try loading this page with nbviewer.org.</b></div><div class=\"sk-container\" hidden><div class=\"sk-item\"><div class=\"sk-estimator sk-toggleable\"><input class=\"sk-toggleable__control sk-hidden--visually\" id=\"sk-estimator-id-25\" type=\"checkbox\" checked><label for=\"sk-estimator-id-25\" class=\"sk-toggleable__label sk-toggleable__label-arrow\">SGDClassifier</label><div class=\"sk-toggleable__content\"><pre>SGDClassifier(penalty=&#x27;elasticnet&#x27;)</pre></div></div></div></div></div>"
      ],
      "text/plain": [
       "SGDClassifier(penalty='elasticnet')"
      ]
     },
     "execution_count": 456,
     "metadata": {},
     "output_type": "execute_result"
    }
   ],
   "source": [
    "# Train the SGD model\n",
    "# sgd_count_opt.fit(X_train_text_count, Y_train_count)\n",
    "\n",
    "# only run once\n",
    "# then use saved model\n"
   ]
  },
  {
   "cell_type": "code",
   "execution_count": 133,
   "id": "848e55ce",
   "metadata": {},
   "outputs": [],
   "source": [
    "from joblib import dump, load"
   ]
  },
  {
   "cell_type": "code",
   "execution_count": 135,
   "id": "88d95654",
   "metadata": {},
   "outputs": [],
   "source": [
    "# LOAD SAVED MODEL\n",
    "sgd_count_opt = load(\"model_sgd_count_opt.joblib\")\n"
   ]
  },
  {
   "cell_type": "code",
   "execution_count": 136,
   "id": "a1e035a3",
   "metadata": {},
   "outputs": [],
   "source": [
    "# Make predictions on the test set\n",
    "y_pred_sgd_count_opt = sgd_count_opt.predict(X_test_text_count)"
   ]
  },
  {
   "cell_type": "code",
   "execution_count": 137,
   "id": "ca208c1f",
   "metadata": {},
   "outputs": [
    {
     "data": {
      "text/plain": [
       "0.8401779295470885"
      ]
     },
     "execution_count": 137,
     "metadata": {},
     "output_type": "execute_result"
    }
   ],
   "source": [
    "# Calculate accuracy\n",
    "accuracy_sgd_count_opt = accuracy_score(Y_test_count, y_pred_sgd_count_opt)\n",
    "accuracy_sgd_count_opt\n",
    "\n",
    "# 0.84"
   ]
  },
  {
   "cell_type": "code",
   "execution_count": 138,
   "id": "b4955082",
   "metadata": {},
   "outputs": [
    {
     "data": {
      "text/plain": [
       "0.81517277214861"
      ]
     },
     "execution_count": 138,
     "metadata": {},
     "output_type": "execute_result"
    }
   ],
   "source": [
    "# Evaluate the model with f1 score\n",
    "from sklearn.metrics import f1_score\n",
    "\n",
    "f1_sgd_count_opt = f1_score(Y_test_count, y_pred_sgd_count_opt)\n",
    "f1_sgd_count_opt\n",
    "\n",
    "# 0.8151"
   ]
  },
  {
   "cell_type": "code",
   "execution_count": 139,
   "id": "d6834db9",
   "metadata": {},
   "outputs": [
    {
     "data": {
      "text/html": [
       "<div>\n",
       "<style scoped>\n",
       "    .dataframe tbody tr th:only-of-type {\n",
       "        vertical-align: middle;\n",
       "    }\n",
       "\n",
       "    .dataframe tbody tr th {\n",
       "        vertical-align: top;\n",
       "    }\n",
       "\n",
       "    .dataframe thead th {\n",
       "        text-align: right;\n",
       "    }\n",
       "</style>\n",
       "<table border=\"1\" class=\"dataframe\">\n",
       "  <thead>\n",
       "    <tr style=\"text-align: right;\">\n",
       "      <th>predict</th>\n",
       "      <th>0.0</th>\n",
       "      <th>1.0</th>\n",
       "    </tr>\n",
       "    <tr>\n",
       "      <th>true</th>\n",
       "      <th></th>\n",
       "      <th></th>\n",
       "    </tr>\n",
       "  </thead>\n",
       "  <tbody>\n",
       "    <tr>\n",
       "      <th>0.0</th>\n",
       "      <td>10855</td>\n",
       "      <td>1361</td>\n",
       "    </tr>\n",
       "    <tr>\n",
       "      <th>1.0</th>\n",
       "      <td>2196</td>\n",
       "      <td>7844</td>\n",
       "    </tr>\n",
       "  </tbody>\n",
       "</table>\n",
       "</div>"
      ],
      "text/plain": [
       "predict    0.0   1.0\n",
       "true                \n",
       "0.0      10855  1361\n",
       "1.0       2196  7844"
      ]
     },
     "execution_count": 139,
     "metadata": {},
     "output_type": "execute_result"
    }
   ],
   "source": [
    "# Create crosstab\n",
    "pd.crosstab(Y_test_count, y_pred_sgd_count_opt, rownames=[\"true\"], colnames=[\"predict\"])\n",
    "\n",
    "# overall prediction is quite good but no super good result for any of the cases"
   ]
  },
  {
   "cell_type": "code",
   "execution_count": 140,
   "id": "43bbab4f",
   "metadata": {},
   "outputs": [
    {
     "name": "stdout",
     "output_type": "stream",
     "text": [
      "SGD count optimized classification report:\n",
      "                precision    recall  f1-score   support\n",
      "\n",
      "         0.0       0.83      0.89      0.86     12216\n",
      "         1.0       0.85      0.78      0.82     10040\n",
      "\n",
      "    accuracy                           0.84     22256\n",
      "   macro avg       0.84      0.83      0.84     22256\n",
      "weighted avg       0.84      0.84      0.84     22256\n",
      "\n"
     ]
    }
   ],
   "source": [
    "from sklearn.metrics import classification_report \n",
    "\n",
    "# get classification report\n",
    "print(\"SGD count optimized classification report:\\n \", classification_report (Y_test_count, y_pred_sgd_count_opt))\n"
   ]
  },
  {
   "cell_type": "code",
   "execution_count": 141,
   "id": "2aaa20ad",
   "metadata": {},
   "outputs": [
    {
     "name": "stdout",
     "output_type": "stream",
     "text": [
      "[[10855  1361]\n",
      " [ 2196  7844]]\n"
     ]
    }
   ],
   "source": [
    "# create confusion matrix\n",
    "cf_matrix_sgd_count_opt = confusion_matrix(Y_test_count, y_pred_sgd_count_opt)\n",
    "print(cf_matrix_sgd_count_opt)"
   ]
  },
  {
   "cell_type": "code",
   "execution_count": 142,
   "id": "8ed19b45",
   "metadata": {},
   "outputs": [
    {
     "name": "stdout",
     "output_type": "stream",
     "text": [
      "Confusion Matrix for optimized SGD model on count vectorized data\n"
     ]
    },
    {
     "data": {
      "image/png": "[encoded data removed]",
      "text/plain": [
       "<Figure size 640x480 with 2 Axes>"
      ]
     },
     "metadata": {},
     "output_type": "display_data"
    }
   ],
   "source": [
    "from mlxtend.plotting import plot_confusion_matrix\n",
    "\n",
    "print(\"Confusion Matrix for optimized SGD model on count vectorized data\")\n",
    "plot_confusion_matrix(conf_mat = cf_matrix_sgd_count_opt,\n",
    "                      show_absolute=True,\n",
    "                      show_normed=True,\n",
    "                      colorbar=True,\n",
    "                      class_names=['REAL','FAKE'])\n",
    "plt.show();"
   ]
  },
  {
   "cell_type": "markdown",
   "id": "fbdafdb7",
   "metadata": {},
   "source": [
    "# SAVE OPTIMIZED SGD Model COUNT VECTORIZER\n",
    "# ALREADY SAVED"
   ]
  },
  {
   "cell_type": "code",
   "execution_count": 464,
   "id": "b32ffec7",
   "metadata": {},
   "outputs": [],
   "source": [
    "# from joblib import dump, load"
   ]
  },
  {
   "cell_type": "code",
   "execution_count": 465,
   "id": "7bfa75cc",
   "metadata": {},
   "outputs": [
    {
     "data": {
      "text/plain": [
       "['model_sgd_count_opt.joblib']"
      ]
     },
     "execution_count": 465,
     "metadata": {},
     "output_type": "execute_result"
    }
   ],
   "source": [
    "# dump(sgd_count_opt, \"model_sgd_count_opt.joblib\")"
   ]
  },
  {
   "cell_type": "code",
   "execution_count": null,
   "id": "523985f6",
   "metadata": {},
   "outputs": [],
   "source": []
  },
  {
   "cell_type": "markdown",
   "id": "7ccf36cc",
   "metadata": {},
   "source": [
    "# STACKING WITH OPTIMAL MODELS AND COUNT VECTORIZER\n",
    "# RUNS A COUPLE OF HOURS!\n",
    "# USE SAVED MODEL\n",
    "# model_stacking_count.joblib"
   ]
  },
  {
   "cell_type": "code",
   "execution_count": 157,
   "id": "93d5c229",
   "metadata": {},
   "outputs": [],
   "source": [
    "from sklearn.ensemble import StackingClassifier\n",
    "from sklearn.model_selection import cross_validate, KFold"
   ]
  },
  {
   "cell_type": "code",
   "execution_count": 158,
   "id": "5ebdee5f",
   "metadata": {},
   "outputs": [],
   "source": [
    "from joblib import dump, load"
   ]
  },
  {
   "cell_type": "code",
   "execution_count": null,
   "id": "e43db46d",
   "metadata": {},
   "outputs": [],
   "source": [
    "# LOAD SAVED MODELS\n",
    "# clf_rf_count_opt = load(\"model_clf_rf_count_opt.joblib\")\n",
    "# sgd_count_opt = load(\"model_sgd_count_opt.joblib\")\n",
    "# clf_LogReg_count_opt = load(\"model_clf_LogReg_count_opt.joblib\")\n"
   ]
  },
  {
   "cell_type": "code",
   "execution_count": 128,
   "id": "2accecfc",
   "metadata": {},
   "outputs": [
    {
     "data": {
      "text/html": [
       "<style>#sk-container-id-6 {color: black;background-color: white;}#sk-container-id-6 pre{padding: 0;}#sk-container-id-6 div.sk-toggleable {background-color: white;}#sk-container-id-6 label.sk-toggleable__label {cursor: pointer;display: block;width: 100%;margin-bottom: 0;padding: 0.3em;box-sizing: border-box;text-align: center;}#sk-container-id-6 label.sk-toggleable__label-arrow:before {content: \"▸\";float: left;margin-right: 0.25em;color: #696969;}#sk-container-id-6 label.sk-toggleable__label-arrow:hover:before {color: black;}#sk-container-id-6 div.sk-estimator:hover label.sk-toggleable__label-arrow:before {color: black;}#sk-container-id-6 div.sk-toggleable__content {max-height: 0;max-width: 0;overflow: hidden;text-align: left;background-color: #f0f8ff;}#sk-container-id-6 div.sk-toggleable__content pre {margin: 0.2em;color: black;border-radius: 0.25em;background-color: #f0f8ff;}#sk-container-id-6 input.sk-toggleable__control:checked~div.sk-toggleable__content {max-height: 200px;max-width: 100%;overflow: auto;}#sk-container-id-6 input.sk-toggleable__control:checked~label.sk-toggleable__label-arrow:before {content: \"▾\";}#sk-container-id-6 div.sk-estimator input.sk-toggleable__control:checked~label.sk-toggleable__label {background-color: #d4ebff;}#sk-container-id-6 div.sk-label input.sk-toggleable__control:checked~label.sk-toggleable__label {background-color: #d4ebff;}#sk-container-id-6 input.sk-hidden--visually {border: 0;clip: rect(1px 1px 1px 1px);clip: rect(1px, 1px, 1px, 1px);height: 1px;margin: -1px;overflow: hidden;padding: 0;position: absolute;width: 1px;}#sk-container-id-6 div.sk-estimator {font-family: monospace;background-color: #f0f8ff;border: 1px dotted black;border-radius: 0.25em;box-sizing: border-box;margin-bottom: 0.5em;}#sk-container-id-6 div.sk-estimator:hover {background-color: #d4ebff;}#sk-container-id-6 div.sk-parallel-item::after {content: \"\";width: 100%;border-bottom: 1px solid gray;flex-grow: 1;}#sk-container-id-6 div.sk-label:hover label.sk-toggleable__label {background-color: #d4ebff;}#sk-container-id-6 div.sk-serial::before {content: \"\";position: absolute;border-left: 1px solid gray;box-sizing: border-box;top: 0;bottom: 0;left: 50%;z-index: 0;}#sk-container-id-6 div.sk-serial {display: flex;flex-direction: column;align-items: center;background-color: white;padding-right: 0.2em;padding-left: 0.2em;position: relative;}#sk-container-id-6 div.sk-item {position: relative;z-index: 1;}#sk-container-id-6 div.sk-parallel {display: flex;align-items: stretch;justify-content: center;background-color: white;position: relative;}#sk-container-id-6 div.sk-item::before, #sk-container-id-6 div.sk-parallel-item::before {content: \"\";position: absolute;border-left: 1px solid gray;box-sizing: border-box;top: 0;bottom: 0;left: 50%;z-index: -1;}#sk-container-id-6 div.sk-parallel-item {display: flex;flex-direction: column;z-index: 1;position: relative;background-color: white;}#sk-container-id-6 div.sk-parallel-item:first-child::after {align-self: flex-end;width: 50%;}#sk-container-id-6 div.sk-parallel-item:last-child::after {align-self: flex-start;width: 50%;}#sk-container-id-6 div.sk-parallel-item:only-child::after {width: 0;}#sk-container-id-6 div.sk-dashed-wrapped {border: 1px dashed gray;margin: 0 0.4em 0.5em 0.4em;box-sizing: border-box;padding-bottom: 0.4em;background-color: white;}#sk-container-id-6 div.sk-label label {font-family: monospace;font-weight: bold;display: inline-block;line-height: 1.2em;}#sk-container-id-6 div.sk-label-container {text-align: center;}#sk-container-id-6 div.sk-container {/* jupyter's `normalize.less` sets `[hidden] { display: none; }` but bootstrap.min.css set `[hidden] { display: none !important; }` so we also need the `!important` here to be able to override the default hidden behavior on the sphinx rendered scikit-learn.org. See: https://github.com/scikit-learn/scikit-learn/issues/21755 */display: inline-block !important;position: relative;}#sk-container-id-6 div.sk-text-repr-fallback {display: none;}</style><div id=\"sk-container-id-6\" class=\"sk-top-container\"><div class=\"sk-text-repr-fallback\"><pre>StackingClassifier(estimators=[(&#x27;rf&#x27;,\n",
       "                                RandomForestClassifier(class_weight={0: 1,\n",
       "                                                                     1: 1},\n",
       "                                                       criterion=&#x27;entropy&#x27;,\n",
       "                                                       n_estimators=400,\n",
       "                                                       n_jobs=-1)),\n",
       "                               (&#x27;sgd&#x27;, SGDClassifier(penalty=&#x27;elasticnet&#x27;)),\n",
       "                               (&#x27;lr&#x27;,\n",
       "                                LogisticRegression(C=0.1, max_iter=1000,\n",
       "                                                   penalty=&#x27;l1&#x27;,\n",
       "                                                   solver=&#x27;liblinear&#x27;))],\n",
       "                   final_estimator=LogisticRegression(C=0.1, max_iter=1000,\n",
       "                                                      penalty=&#x27;l1&#x27;,\n",
       "                                                      solver=&#x27;liblinear&#x27;))</pre><b>In a Jupyter environment, please rerun this cell to show the HTML representation or trust the notebook. <br />On GitHub, the HTML representation is unable to render, please try loading this page with nbviewer.org.</b></div><div class=\"sk-container\" hidden><div class=\"sk-item sk-dashed-wrapped\"><div class=\"sk-label-container\"><div class=\"sk-label sk-toggleable\"><input class=\"sk-toggleable__control sk-hidden--visually\" id=\"sk-estimator-id-6\" type=\"checkbox\" ><label for=\"sk-estimator-id-6\" class=\"sk-toggleable__label sk-toggleable__label-arrow\">StackingClassifier</label><div class=\"sk-toggleable__content\"><pre>StackingClassifier(estimators=[(&#x27;rf&#x27;,\n",
       "                                RandomForestClassifier(class_weight={0: 1,\n",
       "                                                                     1: 1},\n",
       "                                                       criterion=&#x27;entropy&#x27;,\n",
       "                                                       n_estimators=400,\n",
       "                                                       n_jobs=-1)),\n",
       "                               (&#x27;sgd&#x27;, SGDClassifier(penalty=&#x27;elasticnet&#x27;)),\n",
       "                               (&#x27;lr&#x27;,\n",
       "                                LogisticRegression(C=0.1, max_iter=1000,\n",
       "                                                   penalty=&#x27;l1&#x27;,\n",
       "                                                   solver=&#x27;liblinear&#x27;))],\n",
       "                   final_estimator=LogisticRegression(C=0.1, max_iter=1000,\n",
       "                                                      penalty=&#x27;l1&#x27;,\n",
       "                                                      solver=&#x27;liblinear&#x27;))</pre></div></div></div><div class=\"sk-serial\"><div class=\"sk-item\"><div class=\"sk-parallel\"><div class=\"sk-parallel-item\"><div class=\"sk-item\"><div class=\"sk-label-container\"><div class=\"sk-label sk-toggleable\"><label>rf</label></div></div><div class=\"sk-serial\"><div class=\"sk-item\"><div class=\"sk-estimator sk-toggleable\"><input class=\"sk-toggleable__control sk-hidden--visually\" id=\"sk-estimator-id-7\" type=\"checkbox\" ><label for=\"sk-estimator-id-7\" class=\"sk-toggleable__label sk-toggleable__label-arrow\">RandomForestClassifier</label><div class=\"sk-toggleable__content\"><pre>RandomForestClassifier(class_weight={0: 1, 1: 1}, criterion=&#x27;entropy&#x27;,\n",
       "                       n_estimators=400, n_jobs=-1)</pre></div></div></div></div></div></div><div class=\"sk-parallel-item\"><div class=\"sk-item\"><div class=\"sk-label-container\"><div class=\"sk-label sk-toggleable\"><label>sgd</label></div></div><div class=\"sk-serial\"><div class=\"sk-item\"><div class=\"sk-estimator sk-toggleable\"><input class=\"sk-toggleable__control sk-hidden--visually\" id=\"sk-estimator-id-8\" type=\"checkbox\" ><label for=\"sk-estimator-id-8\" class=\"sk-toggleable__label sk-toggleable__label-arrow\">SGDClassifier</label><div class=\"sk-toggleable__content\"><pre>SGDClassifier(penalty=&#x27;elasticnet&#x27;)</pre></div></div></div></div></div></div><div class=\"sk-parallel-item\"><div class=\"sk-item\"><div class=\"sk-label-container\"><div class=\"sk-label sk-toggleable\"><label>lr</label></div></div><div class=\"sk-serial\"><div class=\"sk-item\"><div class=\"sk-estimator sk-toggleable\"><input class=\"sk-toggleable__control sk-hidden--visually\" id=\"sk-estimator-id-9\" type=\"checkbox\" ><label for=\"sk-estimator-id-9\" class=\"sk-toggleable__label sk-toggleable__label-arrow\">LogisticRegression</label><div class=\"sk-toggleable__content\"><pre>LogisticRegression(C=0.1, max_iter=1000, penalty=&#x27;l1&#x27;, solver=&#x27;liblinear&#x27;)</pre></div></div></div></div></div></div></div></div><div class=\"sk-item\"><div class=\"sk-parallel\"><div class=\"sk-parallel-item\"><div class=\"sk-item\"><div class=\"sk-label-container\"><div class=\"sk-label sk-toggleable\"><label>final_estimator</label></div></div><div class=\"sk-serial\"><div class=\"sk-item\"><div class=\"sk-estimator sk-toggleable\"><input class=\"sk-toggleable__control sk-hidden--visually\" id=\"sk-estimator-id-10\" type=\"checkbox\" ><label for=\"sk-estimator-id-10\" class=\"sk-toggleable__label sk-toggleable__label-arrow\">LogisticRegression</label><div class=\"sk-toggleable__content\"><pre>LogisticRegression(C=0.1, max_iter=1000, penalty=&#x27;l1&#x27;, solver=&#x27;liblinear&#x27;)</pre></div></div></div></div></div></div></div></div></div></div></div></div>"
      ],
      "text/plain": [
       "StackingClassifier(estimators=[('rf',\n",
       "                                RandomForestClassifier(class_weight={0: 1,\n",
       "                                                                     1: 1},\n",
       "                                                       criterion='entropy',\n",
       "                                                       n_estimators=400,\n",
       "                                                       n_jobs=-1)),\n",
       "                               ('sgd', SGDClassifier(penalty='elasticnet')),\n",
       "                               ('lr',\n",
       "                                LogisticRegression(C=0.1, max_iter=1000,\n",
       "                                                   penalty='l1',\n",
       "                                                   solver='liblinear'))],\n",
       "                   final_estimator=LogisticRegression(C=0.1, max_iter=1000,\n",
       "                                                      penalty='l1',\n",
       "                                                      solver='liblinear'))"
      ]
     },
     "execution_count": 128,
     "metadata": {},
     "output_type": "execute_result"
    }
   ],
   "source": [
    "# sclf_count.fit(X_train_text_count, Y_train_count)\n",
    "\n",
    "# takes a couple of hours\n",
    "# only run once, then load saved model"
   ]
  },
  {
   "cell_type": "code",
   "execution_count": 161,
   "id": "e8dc361c",
   "metadata": {},
   "outputs": [],
   "source": [
    "# LOAD SAVED MODEL\n",
    "sclf_count = load(\"model_stacking_count.joblib\")\n"
   ]
  },
  {
   "cell_type": "code",
   "execution_count": 162,
   "id": "7fb6975a",
   "metadata": {},
   "outputs": [],
   "source": [
    "# Make predictions on the test set\n",
    "y_pred_sclf_count = sclf_count.predict(X_test_text_count)"
   ]
  },
  {
   "cell_type": "code",
   "execution_count": 164,
   "id": "7c7de7d5",
   "metadata": {},
   "outputs": [
    {
     "data": {
      "text/plain": [
       "0.8567127965492451"
      ]
     },
     "execution_count": 164,
     "metadata": {},
     "output_type": "execute_result"
    }
   ],
   "source": [
    "# Calculate accuracy\n",
    "accuracy_sclf_count = accuracy_score(Y_test_count, y_pred_sclf_count)\n",
    "accuracy_sclf_count\n",
    "\n",
    "# 0.856"
   ]
  },
  {
   "cell_type": "code",
   "execution_count": 165,
   "id": "c95acbaf",
   "metadata": {},
   "outputs": [
    {
     "data": {
      "text/plain": [
       "0.8431305032219981"
      ]
     },
     "execution_count": 165,
     "metadata": {},
     "output_type": "execute_result"
    }
   ],
   "source": [
    "# Evaluate the model with f1 score\n",
    "from sklearn.metrics import f1_score\n",
    "\n",
    "f1_sclf_count = f1_score(Y_test_count, y_pred_sclf_count)\n",
    "f1_sclf_count\n",
    "\n",
    "# 0.843"
   ]
  },
  {
   "cell_type": "code",
   "execution_count": 166,
   "id": "91a23970",
   "metadata": {},
   "outputs": [
    {
     "data": {
      "text/html": [
       "<div>\n",
       "<style scoped>\n",
       "    .dataframe tbody tr th:only-of-type {\n",
       "        vertical-align: middle;\n",
       "    }\n",
       "\n",
       "    .dataframe tbody tr th {\n",
       "        vertical-align: top;\n",
       "    }\n",
       "\n",
       "    .dataframe thead th {\n",
       "        text-align: right;\n",
       "    }\n",
       "</style>\n",
       "<table border=\"1\" class=\"dataframe\">\n",
       "  <thead>\n",
       "    <tr style=\"text-align: right;\">\n",
       "      <th>predict</th>\n",
       "      <th>0.0</th>\n",
       "      <th>1.0</th>\n",
       "    </tr>\n",
       "    <tr>\n",
       "      <th>true</th>\n",
       "      <th></th>\n",
       "      <th></th>\n",
       "    </tr>\n",
       "  </thead>\n",
       "  <tbody>\n",
       "    <tr>\n",
       "      <th>0.0</th>\n",
       "      <td>10497</td>\n",
       "      <td>1719</td>\n",
       "    </tr>\n",
       "    <tr>\n",
       "      <th>1.0</th>\n",
       "      <td>1470</td>\n",
       "      <td>8570</td>\n",
       "    </tr>\n",
       "  </tbody>\n",
       "</table>\n",
       "</div>"
      ],
      "text/plain": [
       "predict    0.0   1.0\n",
       "true                \n",
       "0.0      10497  1719\n",
       "1.0       1470  8570"
      ]
     },
     "execution_count": 166,
     "metadata": {},
     "output_type": "execute_result"
    }
   ],
   "source": [
    "# Create crosstab\n",
    "pd.crosstab(Y_test_count, y_pred_sclf_count, rownames=[\"true\"], colnames=[\"predict\"])\n"
   ]
  },
  {
   "cell_type": "code",
   "execution_count": 167,
   "id": "46aa49d9",
   "metadata": {},
   "outputs": [
    {
     "name": "stdout",
     "output_type": "stream",
     "text": [
      "Stacking Classifier count vectorizer optimized classification report:\n",
      "                precision    recall  f1-score   support\n",
      "\n",
      "         0.0       0.88      0.86      0.87     12216\n",
      "         1.0       0.83      0.85      0.84     10040\n",
      "\n",
      "    accuracy                           0.86     22256\n",
      "   macro avg       0.86      0.86      0.86     22256\n",
      "weighted avg       0.86      0.86      0.86     22256\n",
      "\n"
     ]
    }
   ],
   "source": [
    "from sklearn.metrics import classification_report \n",
    "\n",
    "# get classification report\n",
    "print(\"Stacking Classifier count vectorizer optimized classification report:\\n \", classification_report (Y_test_count, y_pred_sclf_count))\n"
   ]
  },
  {
   "cell_type": "code",
   "execution_count": 168,
   "id": "9b7326e9",
   "metadata": {},
   "outputs": [
    {
     "name": "stdout",
     "output_type": "stream",
     "text": [
      "[[10497  1719]\n",
      " [ 1470  8570]]\n"
     ]
    }
   ],
   "source": [
    "# create confusion matrix\n",
    "cf_matrix_sclf_count = confusion_matrix(Y_test_count, y_pred_sclf_count)\n",
    "print(cf_matrix_sclf_count)"
   ]
  },
  {
   "cell_type": "code",
   "execution_count": 169,
   "id": "fb822a9b",
   "metadata": {},
   "outputs": [
    {
     "name": "stdout",
     "output_type": "stream",
     "text": [
      "Confusion Matrix for optimized Stacking Classifier model on count vectorized data\n"
     ]
    },
    {
     "data": {
      "image/png": "[encoded data removed]",
      "text/plain": [
       "<Figure size 640x480 with 2 Axes>"
      ]
     },
     "metadata": {},
     "output_type": "display_data"
    }
   ],
   "source": [
    "from mlxtend.plotting import plot_confusion_matrix\n",
    "\n",
    "print(\"Confusion Matrix for optimized Stacking Classifier model on count vectorized data\")\n",
    "plot_confusion_matrix(conf_mat = cf_matrix_sclf_count,\n",
    "                      show_absolute=True,\n",
    "                      show_normed=True,\n",
    "                      colorbar=True,\n",
    "                      class_names=['REAL','FAKE'])\n",
    "plt.show();"
   ]
  },
  {
   "cell_type": "code",
   "execution_count": null,
   "id": "075a1453",
   "metadata": {},
   "outputs": [],
   "source": []
  },
  {
   "cell_type": "markdown",
   "id": "90ad92b1",
   "metadata": {},
   "source": [
    "# SAVE COUNT VECTORIZER STACKING MODEL"
   ]
  },
  {
   "cell_type": "code",
   "execution_count": 201,
   "id": "6ae64bf9",
   "metadata": {},
   "outputs": [],
   "source": [
    "# from joblib import dump, load"
   ]
  },
  {
   "cell_type": "code",
   "execution_count": 202,
   "id": "bfa205e6",
   "metadata": {},
   "outputs": [
    {
     "data": {
      "text/plain": [
       "['model_stacking_count.joblib']"
      ]
     },
     "execution_count": 202,
     "metadata": {},
     "output_type": "execute_result"
    }
   ],
   "source": [
    "# dump(sclf_count, \"model_stacking_count.joblib\")"
   ]
  },
  {
   "cell_type": "code",
   "execution_count": null,
   "id": "b1f15644",
   "metadata": {},
   "outputs": [],
   "source": []
  },
  {
   "cell_type": "markdown",
   "id": "9a967776",
   "metadata": {},
   "source": [
    "# Cross-Fold COUNT\n",
    "# RUNS 12 HOURS"
   ]
  },
  {
   "cell_type": "code",
   "execution_count": 179,
   "id": "9f947899",
   "metadata": {},
   "outputs": [],
   "source": [
    "cv3 = KFold(n_splits=3, shuffle=True)"
   ]
  },
  {
   "cell_type": "code",
   "execution_count": null,
   "id": "1115787f",
   "metadata": {},
   "outputs": [],
   "source": [
    "# sclf_count = StackingClassifier([(\"rf\", clf_rf_count_opt), (\"sgd\", sgd_count_opt), (\"lr\", clf_LogReg_count_opt)], \n",
    "#                                 final_estimator = clf_LogReg_count_opt)\n"
   ]
  },
  {
   "cell_type": "code",
   "execution_count": null,
   "id": "3aa93eb7",
   "metadata": {},
   "outputs": [],
   "source": [
    "# X_train_text_count, Y_train_count"
   ]
  },
  {
   "cell_type": "code",
   "execution_count": 180,
   "id": "5bf74671",
   "metadata": {},
   "outputs": [
    {
     "name": "stdout",
     "output_type": "stream",
     "text": [
      "Random Forest accuracy:  0.794055546259241 0.0023409336649433637 f1:  0.7191389536316687 0.0041806106214762615\n",
      "SGD accuracy:  0.8253729823077726 0.0073926268652640395 f1:  0.8034789252856509 0.003635437902147882\n",
      "Logistic Regression accuracy:  0.8387401135964856 0.0016121162481036564 f1:  0.8173881220251427 0.0014712838138870332\n",
      "Stacking Classifier accuracy:  0.8552638175806035 0.008199539718569826 f1:  0.8379921396248794 0.004912435728972732\n"
     ]
    }
   ],
   "source": [
    "for clf, label in zip([clf_rf_count_opt, sgd_count_opt, clf_LogReg_count_opt, sclf_count], \n",
    "                      [\"Random Forest\", \"SGD\", \"Logistic Regression\", \"Stacking Classifier\"]):\n",
    "    scores = cross_validate(clf, X_train_text_count, Y_train_count, cv=cv3, scoring=[\"accuracy\", \"f1\"])\n",
    "    print(label, \"accuracy: \", scores[\"test_accuracy\"].mean(), scores[\"test_accuracy\"].std(), \"f1: \", scores[\"test_f1\"].mean(), scores[\"test_f1\"].std())\n"
   ]
  },
  {
   "cell_type": "code",
   "execution_count": null,
   "id": "d0c046d7",
   "metadata": {},
   "outputs": [],
   "source": []
  },
  {
   "cell_type": "markdown",
   "id": "bc9203c7",
   "metadata": {},
   "source": [
    "# COMPARE OPTIMIZED MODELS ON TEXT DATA ONLY COUNT\n"
   ]
  },
  {
   "cell_type": "code",
   "execution_count": 172,
   "id": "2adab9ff",
   "metadata": {},
   "outputs": [],
   "source": [
    "# MODELS FOR STAGE 3 (Optimized Models):\n",
    "\n",
    "# Logistic Regression\n",
    "# Random Forest\n",
    "# Stochastic Gradient Descent\n",
    "# Stacking Model TFIDF\n"
   ]
  },
  {
   "cell_type": "markdown",
   "id": "ef0fb3fa",
   "metadata": {},
   "source": [
    "# COMPARE OPTIMAL COUNT VECTORIZER MODELS \n"
   ]
  },
  {
   "cell_type": "code",
   "execution_count": 173,
   "id": "5eab0367",
   "metadata": {},
   "outputs": [
    {
     "name": "stdout",
     "output_type": "stream",
     "text": [
      "Logistic Regression optimized accuracy score count: 0.8448957584471604\n",
      "Random Forest optimized accuracy score count: 0.8038281811646297\n",
      "Stochastic Gradient Descent optimized accuracy score count: 0.8401779295470885\n",
      "Stacking Classifier accuracy score count: 0.8567127965492451\n"
     ]
    }
   ],
   "source": [
    "print(\"Logistic Regression optimized accuracy score count:\", accuracy_LogReg_count_opt)\n",
    "print(\"Random Forest optimized accuracy score count:\", accuracy_rf_count_opt)\n",
    "print(\"Stochastic Gradient Descent optimized accuracy score count:\", accuracy_sgd_count_opt)\n",
    "print(\"Stacking Classifier accuracy score count:\", accuracy_sclf_count)"
   ]
  },
  {
   "cell_type": "code",
   "execution_count": 174,
   "id": "f3bdf30c",
   "metadata": {},
   "outputs": [
    {
     "name": "stdout",
     "output_type": "stream",
     "text": [
      "Logistic Regression optimized f1 score count: 0.8250734772473903\n",
      "Random Forest optimized f1 score count: 0.7366071428571428\n",
      "Stochastic Gradient Descent optimized f1 score count: 0.81517277214861\n",
      "Stacking Classifier f1 score count: 0.8431305032219981\n"
     ]
    }
   ],
   "source": [
    "print(\"Logistic Regression optimized f1 score count:\", f1_LogReg_count_opt)\n",
    "print(\"Random Forest optimized f1 score count:\", f1_rf_count_opt)\n",
    "print(\"Stochastic Gradient Descent optimized f1 score count:\", f1_sgd_count_opt)\n",
    "print(\"Stacking Classifier f1 score count:\", f1_sclf_count)"
   ]
  },
  {
   "cell_type": "code",
   "execution_count": null,
   "id": "d02e210d",
   "metadata": {},
   "outputs": [],
   "source": []
  },
  {
   "cell_type": "markdown",
   "id": "9b819092",
   "metadata": {},
   "source": [
    "## PLOT: Accuracy of final optimized models count vectorizer\n"
   ]
  },
  {
   "cell_type": "code",
   "execution_count": 175,
   "id": "9f542c65",
   "metadata": {},
   "outputs": [],
   "source": [
    "#Creating the Dictionary with model name as key and accuracy as key-value\n",
    "acc_labels_count_sel_opt={'Logistic Regression':accuracy_LogReg_count_opt,\n",
    "        'Random Forest':accuracy_rf_count_opt,\n",
    "        'Stoachstic Gradient Descent':accuracy_sgd_count_opt,\n",
    "        'Stacking':accuracy_sclf_count} \n",
    "        "
   ]
  },
  {
   "cell_type": "code",
   "execution_count": 176,
   "id": "e2c13294",
   "metadata": {},
   "outputs": [
    {
     "data": {
      "image/png": "[encoded data removed]",
      "text/plain": [
       "<Figure size 2500x1000 with 1 Axes>"
      ]
     },
     "metadata": {},
     "output_type": "display_data"
    }
   ],
   "source": [
    "# Data for the chart\n",
    "acc_labels_sel_count_opt = list(acc_labels_count_sel_opt.keys())\n",
    "acc_values_sel_count_opt = list(acc_labels_count_sel_opt.values())\n",
    "\n",
    "# Creating the chart\n",
    "plt.figure(figsize=(25, 10))\n",
    "plt.title('Comparing Accuracy of final optimized ML Models on text data with count vectorizer', fontsize=20)\n",
    "plt.xlabel('Accuracy', fontsize=16)\n",
    "plt.ylabel('Models', fontsize=16)\n",
    "plt.xticks(fontsize=16)\n",
    "plt.yticks(fontsize=16)# Increase the plot width to accommodate the values\n",
    "\n",
    "plt.barh(acc_labels_sel_count_opt, acc_values_sel_count_opt, color='darkcyan', edgecolor='black', linewidth=1, alpha=0.7)\n",
    "\n",
    "# Displaying values at the end of the bars\n",
    "for i, value in enumerate(acc_values_sel_count_opt):\n",
    "    plt.text(value, i, f'{value:.5f}', fontsize=16, va='center')\n",
    "\n",
    "plt.show();"
   ]
  },
  {
   "cell_type": "markdown",
   "id": "de056dc4",
   "metadata": {},
   "source": [
    "## PLOT: f1 score of final optimized models count vectorizer\n"
   ]
  },
  {
   "cell_type": "code",
   "execution_count": 177,
   "id": "c85ad467",
   "metadata": {},
   "outputs": [],
   "source": [
    "#Creating the Dictionary with model name as key and accuracy as key-value\n",
    "f1_labels_count_sel_opt={'Logistic Regression':f1_LogReg_count_opt,\n",
    "        'Random Forest':f1_rf_count_opt,\n",
    "        'Stoachstic Gradient Descent':f1_sgd_count_opt,\n",
    "        'Stacking':f1_sclf_count} \n",
    "        "
   ]
  },
  {
   "cell_type": "code",
   "execution_count": 178,
   "id": "0db0907f",
   "metadata": {},
   "outputs": [
    {
     "data": {
      "image/png": "[encoded data removed]",
      "text/plain": [
       "<Figure size 2500x1000 with 1 Axes>"
      ]
     },
     "metadata": {},
     "output_type": "display_data"
    }
   ],
   "source": [
    "# Data for the chart\n",
    "f1_labels_sel_count_opt = list(f1_labels_count_sel_opt.keys())\n",
    "f1_values_sel_count_opt = list(f1_labels_count_sel_opt.values())\n",
    "\n",
    "# Creating the chart\n",
    "plt.figure(figsize=(25, 10))\n",
    "plt.title('Comparing f1-score of final optimized ML Models on text data with count vectorizer', fontsize=20)\n",
    "plt.xlabel('f1-score', fontsize=16)\n",
    "plt.ylabel('Models', fontsize=16)\n",
    "plt.xticks(fontsize=16)\n",
    "plt.yticks(fontsize=16)# Increase the plot width to accommodate the values\n",
    "\n",
    "plt.barh(f1_labels_sel_count_opt, f1_values_sel_count_opt, color='darkolivegreen', edgecolor='black', linewidth=1, alpha=0.7)\n",
    "\n",
    "# Displaying values at the end of the bars\n",
    "for i, value in enumerate(f1_values_sel_count_opt):\n",
    "    plt.text(value, i, f'{value:.5f}', fontsize=16, va='center')\n",
    "\n",
    "plt.show();\n"
   ]
  },
  {
   "cell_type": "code",
   "execution_count": null,
   "id": "2af665a4",
   "metadata": {},
   "outputs": [],
   "source": []
  }
 ],
 "metadata": {
  "kernelspec": {
   "display_name": "Python 3 (ipykernel)",
   "language": "python",
   "name": "python3"
  },
  "language_info": {
   "codemirror_mode": {
    "name": "ipython",
    "version": 3
   },
   "file_extension": ".py",
   "mimetype": "text/x-python",
   "name": "python",
   "nbconvert_exporter": "python",
   "pygments_lexer": "ipython3",
   "version": "3.10.9"
  }
 },
 "nbformat": 4,
 "nbformat_minor": 5
}
