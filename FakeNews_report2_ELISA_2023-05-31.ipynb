{
 "cells": [
  {
   "cell_type": "markdown",
   "id": "e70be3e0",
   "metadata": {},
   "source": [
    "# 1 Import libraries"
   ]
  },
  {
   "cell_type": "code",
   "execution_count": 1,
   "id": "ccdaea94",
   "metadata": {},
   "outputs": [],
   "source": [
    "#importing Libraries\n",
    "import numpy as np\n",
    "import pandas as pd\n",
    "from matplotlib.pylab import plt\n",
    "import seaborn as sns\n",
    "# from sqlalchemy import create_engine\n",
    "# import sqlalchemy as \n",
    "import sqlite3\n",
    "\n",
    "from wordcloud import WordCloud\n"
   ]
  },
  {
   "cell_type": "markdown",
   "id": "261564fe",
   "metadata": {},
   "source": [
    "# Comments on the document"
   ]
  },
  {
   "cell_type": "code",
   "execution_count": 2,
   "id": "629480e0",
   "metadata": {},
   "outputs": [],
   "source": [
    "######## \n",
    "# This is Elisa's Code from 2023-05-31\n",
    "\n",
    "# loaded dataset (subset of original dataset and pre-processed)\n",
    "# df = pd.read_pickle(\"df_modeling.pkl\")\n",
    "\n",
    "\n",
    "\n",
    "#######################################################\n",
    "\n",
    "# 2 MAJOR ANALYSIS CHAPTERS IN THIS NOTEBOOK\n",
    "\n",
    "################\n",
    "\n",
    "\n",
    "# 1: Classification Models on Numeric Variables of Data\n",
    "# for numeric analysis used dataset:\n",
    "# create df_num\n",
    "\n",
    "\n",
    "#### Models:\n",
    "# LightGBM\n",
    "# Naive Bayes Bernoulli\n",
    "# Naive Bayes Multinomial\n",
    "# Naive Bayes Complement\n",
    "# Naive Bayes Gaussian\n",
    "\n",
    "# KNN (needs standardisation --> scale dataset before fitting)\n",
    "# SVM (needs standardisation --> scale dataset before fitting)\n",
    "# Logistic Regression (needs standardisation --> scale dataset before fitting)\n",
    "\n",
    "\n",
    "### Results\n",
    "# LightGBM accuracy score : 0.6993709952383752\n",
    "# Naive Bayes Bernoulli accuracy score : 0.7734995003233202\n",
    "# Naive Bayes Multinomial accuracy score : 0.3325495267767915\n",
    "# Naive Bayes Complement accuracy score : 0.3272000470283934\n",
    "# Naive Bayes Gaussian accuracy score : 0.43007465757451063\n",
    "\n",
    "# KNN accuracy score : 0.927341132208571\n",
    "# SVM accuracy score : 0.8691434953853389\n",
    "# Logistic Regression accuracy score : 0.9448592087472811\n",
    "\n",
    "################\n",
    "\n",
    "\n",
    "# 2: Classification on Text Variables of our Data\n",
    "# for text analysis:\n",
    "# retrieve 2 columns title and content\n",
    "\n",
    "# before fitting: vectorize with TF-IDF Vectorizer\n",
    "\n",
    "\n",
    "#### Models:\n",
    "# LightGBM\n",
    "# Naive Bayes Bernoulli\n",
    "# Naive Bayes Multinomial\n",
    "# Naive Bayes Complement\n",
    "# Naive Bayes Gaussian --> not working due to memory error\n",
    "\n",
    "# KNN --> takes 2 hours; only ran once, not again\n",
    "# SVM --> takes 3,5 hours; only ran once, not again\n",
    "# Logistic Regression\n",
    "\n",
    "\n",
    "### Results\n",
    "# LightGBM vect accuracy score : 0.5588148844865087\n",
    "# Naive Bayes Bernoulli vect accuracy score : 0.549820704250191\n",
    "# Naive Bayes Multinomial vect accuracy score : 0.5930280406795603\n",
    "# Naive Bayes Complement vect accuracy score : 0.6222444300746576\n",
    "\n",
    "# Logistic Regression vect accuracy score : 0.724589971195109\n",
    "\n",
    "\n"
   ]
  },
  {
   "cell_type": "code",
   "execution_count": null,
   "id": "422b4952",
   "metadata": {},
   "outputs": [],
   "source": []
  },
  {
   "cell_type": "markdown",
   "id": "4b5b9cb6",
   "metadata": {},
   "source": [
    "# LOADING PREPROCESSED DATASET df_modeling.okl"
   ]
  },
  {
   "cell_type": "code",
   "execution_count": 8,
   "id": "939bee98",
   "metadata": {},
   "outputs": [],
   "source": [
    "# retrieve dataset\n",
    "df = pd.read_pickle(\"df_modeling.pkl\")"
   ]
  },
  {
   "cell_type": "code",
   "execution_count": 10,
   "id": "0846b956",
   "metadata": {},
   "outputs": [
    {
     "data": {
      "text/html": [
       "<div>\n",
       "<style scoped>\n",
       "    .dataframe tbody tr th:only-of-type {\n",
       "        vertical-align: middle;\n",
       "    }\n",
       "\n",
       "    .dataframe tbody tr th {\n",
       "        vertical-align: top;\n",
       "    }\n",
       "\n",
       "    .dataframe thead th {\n",
       "        text-align: right;\n",
       "    }\n",
       "</style>\n",
       "<table border=\"1\" class=\"dataframe\">\n",
       "  <thead>\n",
       "    <tr style=\"text-align: right;\">\n",
       "      <th></th>\n",
       "      <th>id</th>\n",
       "      <th>source</th>\n",
       "      <th>title</th>\n",
       "      <th>content</th>\n",
       "      <th>url</th>\n",
       "      <th>published_utc</th>\n",
       "      <th>label</th>\n",
       "      <th>factuality</th>\n",
       "      <th>questionable-source</th>\n",
       "      <th>conspiracy-pseudoscience</th>\n",
       "      <th>...</th>\n",
       "      <th>Russia</th>\n",
       "      <th>USA</th>\n",
       "      <th>United Kingdom</th>\n",
       "      <th>Unknown</th>\n",
       "      <th>tokenized_content</th>\n",
       "      <th>tok_content_length</th>\n",
       "      <th>tokenized_title</th>\n",
       "      <th>tok_title_length</th>\n",
       "      <th>nb_character_content</th>\n",
       "      <th>nb_character_title</th>\n",
       "    </tr>\n",
       "  </thead>\n",
       "  <tbody>\n",
       "    <tr>\n",
       "      <th>0</th>\n",
       "      <td>21stcenturywire--2022-04-26--An Unsettling Rea...</td>\n",
       "      <td>21stcenturywire</td>\n",
       "      <td>An Unsettling Realization: ‘Mask Zealots are S...</td>\n",
       "      <td>It’s been noted how the fanatical nature of ma...</td>\n",
       "      <td>https://21stcenturywire.com/2022/04/26/an-unse...</td>\n",
       "      <td>1650983484</td>\n",
       "      <td>1.0</td>\n",
       "      <td>2.0</td>\n",
       "      <td>0.0</td>\n",
       "      <td>1.0</td>\n",
       "      <td>...</td>\n",
       "      <td>0</td>\n",
       "      <td>1</td>\n",
       "      <td>0</td>\n",
       "      <td>0</td>\n",
       "      <td>[It, ’, s, been, noted, how, the, fanatical, n...</td>\n",
       "      <td>128</td>\n",
       "      <td>[An, Unsettling, Realization, :, ‘, Mask, Zeal...</td>\n",
       "      <td>11</td>\n",
       "      <td>720</td>\n",
       "      <td>61</td>\n",
       "    </tr>\n",
       "    <tr>\n",
       "      <th>1</th>\n",
       "      <td>21stcenturywire--2022-04-24--Episode #416 – ‘S...</td>\n",
       "      <td>21stcenturywire</td>\n",
       "      <td>Episode #416 – ‘Soldiers of Fortune’ with gues...</td>\n",
       "      <td>Episode #416 of SUNDAY WIRE SHOW resumes this ...</td>\n",
       "      <td>https://21stcenturywire.com/2022/04/24/episode...</td>\n",
       "      <td>1650823248</td>\n",
       "      <td>1.0</td>\n",
       "      <td>2.0</td>\n",
       "      <td>0.0</td>\n",
       "      <td>1.0</td>\n",
       "      <td>...</td>\n",
       "      <td>0</td>\n",
       "      <td>1</td>\n",
       "      <td>0</td>\n",
       "      <td>0</td>\n",
       "      <td>[Episode, #, 416, of, SUNDAY, WIRE, SHOW, resu...</td>\n",
       "      <td>221</td>\n",
       "      <td>[Episode, #, 416, –, ‘, Soldiers, of, Fortune,...</td>\n",
       "      <td>14</td>\n",
       "      <td>1143</td>\n",
       "      <td>66</td>\n",
       "    </tr>\n",
       "    <tr>\n",
       "      <th>2</th>\n",
       "      <td>21stcenturywire--2022-07-15--UKC News: UK Thou...</td>\n",
       "      <td>21stcenturywire</td>\n",
       "      <td>UKC News: UK Thought Police, France Stops Vacc...</td>\n",
       "      <td>Authoritarians in the UK government are gettin...</td>\n",
       "      <td>https://21stcenturywire.com/2022/07/15/ukc-new...</td>\n",
       "      <td>1657916785</td>\n",
       "      <td>1.0</td>\n",
       "      <td>2.0</td>\n",
       "      <td>0.0</td>\n",
       "      <td>1.0</td>\n",
       "      <td>...</td>\n",
       "      <td>0</td>\n",
       "      <td>1</td>\n",
       "      <td>0</td>\n",
       "      <td>0</td>\n",
       "      <td>[Authoritarians, in, the, UK, government, are,...</td>\n",
       "      <td>251</td>\n",
       "      <td>[UKC, News, :, UK, Thought, Police, ,, France,...</td>\n",
       "      <td>16</td>\n",
       "      <td>1340</td>\n",
       "      <td>82</td>\n",
       "    </tr>\n",
       "    <tr>\n",
       "      <th>3</th>\n",
       "      <td>21stcenturywire--2022-05-22--Twitter Audit Fin...</td>\n",
       "      <td>21stcenturywire</td>\n",
       "      <td>Twitter Audit Finds Half of President Biden’s ...</td>\n",
       "      <td>After the 2020 election, many Americans began ...</td>\n",
       "      <td>https://21stcenturywire.com/2022/05/22/twitter...</td>\n",
       "      <td>1653236268</td>\n",
       "      <td>1.0</td>\n",
       "      <td>2.0</td>\n",
       "      <td>0.0</td>\n",
       "      <td>1.0</td>\n",
       "      <td>...</td>\n",
       "      <td>0</td>\n",
       "      <td>1</td>\n",
       "      <td>0</td>\n",
       "      <td>0</td>\n",
       "      <td>[After, the, 2020, election, ,, many, American...</td>\n",
       "      <td>630</td>\n",
       "      <td>[Twitter, Audit, Finds, Half, of, President, B...</td>\n",
       "      <td>13</td>\n",
       "      <td>3274</td>\n",
       "      <td>69</td>\n",
       "    </tr>\n",
       "    <tr>\n",
       "      <th>4</th>\n",
       "      <td>21stcenturywire--2022-03-11--UKC News: The Tru...</td>\n",
       "      <td>21stcenturywire</td>\n",
       "      <td>UKC News: The Truth About US Bio Labs + White ...</td>\n",
       "      <td>The high stakes game surrounding the Ukraine c...</td>\n",
       "      <td>https://21stcenturywire.com/2022/03/11/ukc-new...</td>\n",
       "      <td>1647044296</td>\n",
       "      <td>1.0</td>\n",
       "      <td>2.0</td>\n",
       "      <td>0.0</td>\n",
       "      <td>1.0</td>\n",
       "      <td>...</td>\n",
       "      <td>0</td>\n",
       "      <td>1</td>\n",
       "      <td>0</td>\n",
       "      <td>0</td>\n",
       "      <td>[The, high, stakes, game, surrounding, the, Uk...</td>\n",
       "      <td>167</td>\n",
       "      <td>[UKC, News, :, The, Truth, About, US, Bio, Lab...</td>\n",
       "      <td>15</td>\n",
       "      <td>908</td>\n",
       "      <td>70</td>\n",
       "    </tr>\n",
       "  </tbody>\n",
       "</table>\n",
       "<p>5 rows × 42 columns</p>\n",
       "</div>"
      ],
      "text/plain": [
       "                                                  id           source  \\\n",
       "0  21stcenturywire--2022-04-26--An Unsettling Rea...  21stcenturywire   \n",
       "1  21stcenturywire--2022-04-24--Episode #416 – ‘S...  21stcenturywire   \n",
       "2  21stcenturywire--2022-07-15--UKC News: UK Thou...  21stcenturywire   \n",
       "3  21stcenturywire--2022-05-22--Twitter Audit Fin...  21stcenturywire   \n",
       "4  21stcenturywire--2022-03-11--UKC News: The Tru...  21stcenturywire   \n",
       "\n",
       "                                               title  \\\n",
       "0  An Unsettling Realization: ‘Mask Zealots are S...   \n",
       "1  Episode #416 – ‘Soldiers of Fortune’ with gues...   \n",
       "2  UKC News: UK Thought Police, France Stops Vacc...   \n",
       "3  Twitter Audit Finds Half of President Biden’s ...   \n",
       "4  UKC News: The Truth About US Bio Labs + White ...   \n",
       "\n",
       "                                             content  \\\n",
       "0  It’s been noted how the fanatical nature of ma...   \n",
       "1  Episode #416 of SUNDAY WIRE SHOW resumes this ...   \n",
       "2  Authoritarians in the UK government are gettin...   \n",
       "3  After the 2020 election, many Americans began ...   \n",
       "4  The high stakes game surrounding the Ukraine c...   \n",
       "\n",
       "                                                 url  published_utc  label  \\\n",
       "0  https://21stcenturywire.com/2022/04/26/an-unse...     1650983484    1.0   \n",
       "1  https://21stcenturywire.com/2022/04/24/episode...     1650823248    1.0   \n",
       "2  https://21stcenturywire.com/2022/07/15/ukc-new...     1657916785    1.0   \n",
       "3  https://21stcenturywire.com/2022/05/22/twitter...     1653236268    1.0   \n",
       "4  https://21stcenturywire.com/2022/03/11/ukc-new...     1647044296    1.0   \n",
       "\n",
       "   factuality  questionable-source  conspiracy-pseudoscience  ...  Russia  \\\n",
       "0         2.0                  0.0                       1.0  ...       0   \n",
       "1         2.0                  0.0                       1.0  ...       0   \n",
       "2         2.0                  0.0                       1.0  ...       0   \n",
       "3         2.0                  0.0                       1.0  ...       0   \n",
       "4         2.0                  0.0                       1.0  ...       0   \n",
       "\n",
       "   USA  United Kingdom  Unknown  \\\n",
       "0    1               0        0   \n",
       "1    1               0        0   \n",
       "2    1               0        0   \n",
       "3    1               0        0   \n",
       "4    1               0        0   \n",
       "\n",
       "                                   tokenized_content  tok_content_length  \\\n",
       "0  [It, ’, s, been, noted, how, the, fanatical, n...                 128   \n",
       "1  [Episode, #, 416, of, SUNDAY, WIRE, SHOW, resu...                 221   \n",
       "2  [Authoritarians, in, the, UK, government, are,...                 251   \n",
       "3  [After, the, 2020, election, ,, many, American...                 630   \n",
       "4  [The, high, stakes, game, surrounding, the, Uk...                 167   \n",
       "\n",
       "                                     tokenized_title  tok_title_length  \\\n",
       "0  [An, Unsettling, Realization, :, ‘, Mask, Zeal...                11   \n",
       "1  [Episode, #, 416, –, ‘, Soldiers, of, Fortune,...                14   \n",
       "2  [UKC, News, :, UK, Thought, Police, ,, France,...                16   \n",
       "3  [Twitter, Audit, Finds, Half, of, President, B...                13   \n",
       "4  [UKC, News, :, The, Truth, About, US, Bio, Lab...                15   \n",
       "\n",
       "   nb_character_content  nb_character_title  \n",
       "0                   720                  61  \n",
       "1                  1143                  66  \n",
       "2                  1340                  82  \n",
       "3                  3274                  69  \n",
       "4                   908                  70  \n",
       "\n",
       "[5 rows x 42 columns]"
      ]
     },
     "execution_count": 10,
     "metadata": {},
     "output_type": "execute_result"
    }
   ],
   "source": [
    "df.head(5)"
   ]
  },
  {
   "cell_type": "code",
   "execution_count": 11,
   "id": "d527c18b",
   "metadata": {},
   "outputs": [
    {
     "name": "stdout",
     "output_type": "stream",
     "text": [
      "<class 'pandas.core.frame.DataFrame'>\n",
      "Int64Index: 85051 entries, 0 to 106709\n",
      "Data columns (total 42 columns):\n",
      " #   Column                    Non-Null Count  Dtype  \n",
      "---  ------                    --------------  -----  \n",
      " 0   id                        85051 non-null  object \n",
      " 1   source                    85051 non-null  object \n",
      " 2   title                     85051 non-null  object \n",
      " 3   content                   85051 non-null  object \n",
      " 4   url                       85051 non-null  object \n",
      " 5   published_utc             85051 non-null  int64  \n",
      " 6   label                     85051 non-null  float64\n",
      " 7   factuality                85051 non-null  float64\n",
      " 8   questionable-source       85051 non-null  float64\n",
      " 9   conspiracy-pseudoscience  85051 non-null  float64\n",
      " 10  pro-science               85051 non-null  float64\n",
      " 11  year                      85051 non-null  int64  \n",
      " 12  month                     85051 non-null  int64  \n",
      " 13  dayofyear                 85051 non-null  int64  \n",
      " 14  dayofthemonth             85051 non-null  int64  \n",
      " 15  weekday                   85051 non-null  int64  \n",
      " 16  weekend                   85051 non-null  int32  \n",
      " 17  word_count_content        85051 non-null  int64  \n",
      " 18  word_count_title          85051 non-null  int64  \n",
      " 19  Australia                 85051 non-null  uint8  \n",
      " 20  Bulgaria                  85051 non-null  uint8  \n",
      " 21  Canada                    85051 non-null  uint8  \n",
      " 22  Cyprus                    85051 non-null  uint8  \n",
      " 23  France                    85051 non-null  uint8  \n",
      " 24  Germany                   85051 non-null  uint8  \n",
      " 25  Ireland                   85051 non-null  uint8  \n",
      " 26  Israel                    85051 non-null  uint8  \n",
      " 27  Japan                     85051 non-null  uint8  \n",
      " 28  Kenya                     85051 non-null  uint8  \n",
      " 29  Macedonia                 85051 non-null  uint8  \n",
      " 30  Netherlands               85051 non-null  uint8  \n",
      " 31  Qatar                     85051 non-null  uint8  \n",
      " 32  Russia                    85051 non-null  uint8  \n",
      " 33  USA                       85051 non-null  uint8  \n",
      " 34  United Kingdom            85051 non-null  uint8  \n",
      " 35  Unknown                   85051 non-null  uint8  \n",
      " 36  tokenized_content         85051 non-null  object \n",
      " 37  tok_content_length        85051 non-null  int64  \n",
      " 38  tokenized_title           85051 non-null  object \n",
      " 39  tok_title_length          85051 non-null  int64  \n",
      " 40  nb_character_content      85051 non-null  int64  \n",
      " 41  nb_character_title        85051 non-null  int64  \n",
      "dtypes: float64(5), int32(1), int64(12), object(7), uint8(17)\n",
      "memory usage: 17.9+ MB\n"
     ]
    }
   ],
   "source": [
    "df.info()"
   ]
  },
  {
   "cell_type": "code",
   "execution_count": null,
   "id": "16d20061",
   "metadata": {},
   "outputs": [],
   "source": []
  },
  {
   "cell_type": "markdown",
   "id": "53702a03",
   "metadata": {},
   "source": [
    "# CREATE NUMERIC DATASETS df_num\n",
    "\n",
    "# x_train, x_test, y_train, y_test (lower case x and y)\n"
   ]
  },
  {
   "cell_type": "code",
   "execution_count": 13,
   "id": "3da31f1d",
   "metadata": {},
   "outputs": [
    {
     "name": "stdout",
     "output_type": "stream",
     "text": [
      "        published_utc  label  factuality  questionable-source  \\\n",
      "0          1650983484    1.0         2.0                  0.0   \n",
      "1          1650823248    1.0         2.0                  0.0   \n",
      "2          1657916785    1.0         2.0                  0.0   \n",
      "3          1653236268    1.0         2.0                  0.0   \n",
      "4          1647044296    1.0         2.0                  0.0   \n",
      "...               ...    ...         ...                  ...   \n",
      "106705     1665142200    1.0         1.0                  0.0   \n",
      "106706     1660253100    1.0         1.0                  0.0   \n",
      "106707     1655742000    1.0         1.0                  0.0   \n",
      "106708     1642390200    1.0         1.0                  0.0   \n",
      "106709     1664605800    1.0         1.0                  0.0   \n",
      "\n",
      "        conspiracy-pseudoscience  pro-science  year  month  dayofyear  \\\n",
      "0                            1.0          0.0  2022      4        116   \n",
      "1                            1.0          0.0  2022      4        114   \n",
      "2                            1.0          0.0  2022      7        196   \n",
      "3                            1.0          0.0  2022      5        142   \n",
      "4                            1.0          0.0  2022      3         70   \n",
      "...                          ...          ...   ...    ...        ...   \n",
      "106705                       1.0          0.0  2022     10        280   \n",
      "106706                       1.0          0.0  2022      8        223   \n",
      "106707                       1.0          0.0  2022      6        171   \n",
      "106708                       1.0          0.0  2022      1         16   \n",
      "106709                       1.0          0.0  2022     10        274   \n",
      "\n",
      "        dayofthemonth  ...  Netherlands  Qatar  Russia  USA  United Kingdom  \\\n",
      "0                  26  ...            0      0       0    1               0   \n",
      "1                  24  ...            0      0       0    1               0   \n",
      "2                  15  ...            0      0       0    1               0   \n",
      "3                  22  ...            0      0       0    1               0   \n",
      "4                  11  ...            0      0       0    1               0   \n",
      "...               ...  ...          ...    ...     ...  ...             ...   \n",
      "106705              7  ...            0      0       0    0               0   \n",
      "106706             11  ...            0      0       0    0               0   \n",
      "106707             20  ...            0      0       0    0               0   \n",
      "106708             16  ...            0      0       0    0               0   \n",
      "106709              1  ...            0      0       0    0               0   \n",
      "\n",
      "        Unknown  tok_content_length  tok_title_length  nb_character_content  \\\n",
      "0             0                 128                11                   720   \n",
      "1             0                 221                14                  1143   \n",
      "2             0                 251                16                  1340   \n",
      "3             0                 630                13                  3274   \n",
      "4             0                 167                15                   908   \n",
      "...         ...                 ...               ...                   ...   \n",
      "106705        0                 410                 9                  2254   \n",
      "106706        0                 742                18                  3750   \n",
      "106707        0                 400                12                  2123   \n",
      "106708        0                 694                 7                  3873   \n",
      "106709        0                 471                10                  2495   \n",
      "\n",
      "        nb_character_title  \n",
      "0                       61  \n",
      "1                       66  \n",
      "2                       82  \n",
      "3                       69  \n",
      "4                       70  \n",
      "...                    ...  \n",
      "106705                  52  \n",
      "106706                  83  \n",
      "106707                  78  \n",
      "106708                  34  \n",
      "106709                  50  \n",
      "\n",
      "[85051 rows x 35 columns]\n"
     ]
    }
   ],
   "source": [
    "df_num = df.select_dtypes(exclude=['object'])\n",
    "print(df_num)\n"
   ]
  },
  {
   "cell_type": "code",
   "execution_count": 14,
   "id": "b9706310",
   "metadata": {},
   "outputs": [],
   "source": [
    "# STEP 1: DEFINE X and Y\n",
    "x = df_num.drop([\"label\"], axis = 1)\n",
    "y = df[\"label\"]\n"
   ]
  },
  {
   "cell_type": "code",
   "execution_count": 15,
   "id": "2e42790e",
   "metadata": {},
   "outputs": [
    {
     "data": {
      "text/html": [
       "<div>\n",
       "<style scoped>\n",
       "    .dataframe tbody tr th:only-of-type {\n",
       "        vertical-align: middle;\n",
       "    }\n",
       "\n",
       "    .dataframe tbody tr th {\n",
       "        vertical-align: top;\n",
       "    }\n",
       "\n",
       "    .dataframe thead th {\n",
       "        text-align: right;\n",
       "    }\n",
       "</style>\n",
       "<table border=\"1\" class=\"dataframe\">\n",
       "  <thead>\n",
       "    <tr style=\"text-align: right;\">\n",
       "      <th></th>\n",
       "      <th>published_utc</th>\n",
       "      <th>factuality</th>\n",
       "      <th>questionable-source</th>\n",
       "      <th>conspiracy-pseudoscience</th>\n",
       "      <th>pro-science</th>\n",
       "      <th>year</th>\n",
       "      <th>month</th>\n",
       "      <th>dayofyear</th>\n",
       "      <th>dayofthemonth</th>\n",
       "      <th>weekday</th>\n",
       "      <th>...</th>\n",
       "      <th>Netherlands</th>\n",
       "      <th>Qatar</th>\n",
       "      <th>Russia</th>\n",
       "      <th>USA</th>\n",
       "      <th>United Kingdom</th>\n",
       "      <th>Unknown</th>\n",
       "      <th>tok_content_length</th>\n",
       "      <th>tok_title_length</th>\n",
       "      <th>nb_character_content</th>\n",
       "      <th>nb_character_title</th>\n",
       "    </tr>\n",
       "  </thead>\n",
       "  <tbody>\n",
       "    <tr>\n",
       "      <th>0</th>\n",
       "      <td>1650983484</td>\n",
       "      <td>2.0</td>\n",
       "      <td>0.0</td>\n",
       "      <td>1.0</td>\n",
       "      <td>0.0</td>\n",
       "      <td>2022</td>\n",
       "      <td>4</td>\n",
       "      <td>116</td>\n",
       "      <td>26</td>\n",
       "      <td>1</td>\n",
       "      <td>...</td>\n",
       "      <td>0</td>\n",
       "      <td>0</td>\n",
       "      <td>0</td>\n",
       "      <td>1</td>\n",
       "      <td>0</td>\n",
       "      <td>0</td>\n",
       "      <td>128</td>\n",
       "      <td>11</td>\n",
       "      <td>720</td>\n",
       "      <td>61</td>\n",
       "    </tr>\n",
       "    <tr>\n",
       "      <th>1</th>\n",
       "      <td>1650823248</td>\n",
       "      <td>2.0</td>\n",
       "      <td>0.0</td>\n",
       "      <td>1.0</td>\n",
       "      <td>0.0</td>\n",
       "      <td>2022</td>\n",
       "      <td>4</td>\n",
       "      <td>114</td>\n",
       "      <td>24</td>\n",
       "      <td>6</td>\n",
       "      <td>...</td>\n",
       "      <td>0</td>\n",
       "      <td>0</td>\n",
       "      <td>0</td>\n",
       "      <td>1</td>\n",
       "      <td>0</td>\n",
       "      <td>0</td>\n",
       "      <td>221</td>\n",
       "      <td>14</td>\n",
       "      <td>1143</td>\n",
       "      <td>66</td>\n",
       "    </tr>\n",
       "    <tr>\n",
       "      <th>2</th>\n",
       "      <td>1657916785</td>\n",
       "      <td>2.0</td>\n",
       "      <td>0.0</td>\n",
       "      <td>1.0</td>\n",
       "      <td>0.0</td>\n",
       "      <td>2022</td>\n",
       "      <td>7</td>\n",
       "      <td>196</td>\n",
       "      <td>15</td>\n",
       "      <td>4</td>\n",
       "      <td>...</td>\n",
       "      <td>0</td>\n",
       "      <td>0</td>\n",
       "      <td>0</td>\n",
       "      <td>1</td>\n",
       "      <td>0</td>\n",
       "      <td>0</td>\n",
       "      <td>251</td>\n",
       "      <td>16</td>\n",
       "      <td>1340</td>\n",
       "      <td>82</td>\n",
       "    </tr>\n",
       "  </tbody>\n",
       "</table>\n",
       "<p>3 rows × 34 columns</p>\n",
       "</div>"
      ],
      "text/plain": [
       "   published_utc  factuality  questionable-source  conspiracy-pseudoscience  \\\n",
       "0     1650983484         2.0                  0.0                       1.0   \n",
       "1     1650823248         2.0                  0.0                       1.0   \n",
       "2     1657916785         2.0                  0.0                       1.0   \n",
       "\n",
       "   pro-science  year  month  dayofyear  dayofthemonth  weekday  ...  \\\n",
       "0          0.0  2022      4        116             26        1  ...   \n",
       "1          0.0  2022      4        114             24        6  ...   \n",
       "2          0.0  2022      7        196             15        4  ...   \n",
       "\n",
       "   Netherlands  Qatar  Russia  USA  United Kingdom  Unknown  \\\n",
       "0            0      0       0    1               0        0   \n",
       "1            0      0       0    1               0        0   \n",
       "2            0      0       0    1               0        0   \n",
       "\n",
       "   tok_content_length  tok_title_length  nb_character_content  \\\n",
       "0                 128                11                   720   \n",
       "1                 221                14                  1143   \n",
       "2                 251                16                  1340   \n",
       "\n",
       "   nb_character_title  \n",
       "0                  61  \n",
       "1                  66  \n",
       "2                  82  \n",
       "\n",
       "[3 rows x 34 columns]"
      ]
     },
     "execution_count": 15,
     "metadata": {},
     "output_type": "execute_result"
    }
   ],
   "source": [
    "x.head(3)"
   ]
  },
  {
   "cell_type": "code",
   "execution_count": 16,
   "id": "163e25fc",
   "metadata": {},
   "outputs": [
    {
     "data": {
      "text/plain": [
       "published_utc                 int64\n",
       "factuality                  float64\n",
       "questionable-source         float64\n",
       "conspiracy-pseudoscience    float64\n",
       "pro-science                 float64\n",
       "year                          int64\n",
       "month                         int64\n",
       "dayofyear                     int64\n",
       "dayofthemonth                 int64\n",
       "weekday                       int64\n",
       "weekend                       int32\n",
       "word_count_content            int64\n",
       "word_count_title              int64\n",
       "Australia                     uint8\n",
       "Bulgaria                      uint8\n",
       "Canada                        uint8\n",
       "Cyprus                        uint8\n",
       "France                        uint8\n",
       "Germany                       uint8\n",
       "Ireland                       uint8\n",
       "Israel                        uint8\n",
       "Japan                         uint8\n",
       "Kenya                         uint8\n",
       "Macedonia                     uint8\n",
       "Netherlands                   uint8\n",
       "Qatar                         uint8\n",
       "Russia                        uint8\n",
       "USA                           uint8\n",
       "United Kingdom                uint8\n",
       "Unknown                       uint8\n",
       "tok_content_length            int64\n",
       "tok_title_length              int64\n",
       "nb_character_content          int64\n",
       "nb_character_title            int64\n",
       "dtype: object"
      ]
     },
     "execution_count": 16,
     "metadata": {},
     "output_type": "execute_result"
    }
   ],
   "source": [
    "x.dtypes"
   ]
  },
  {
   "cell_type": "code",
   "execution_count": 17,
   "id": "fd4ba8d5",
   "metadata": {
    "scrolled": false
   },
   "outputs": [
    {
     "data": {
      "text/plain": [
       "0    1.0\n",
       "1    1.0\n",
       "2    1.0\n",
       "Name: label, dtype: float64"
      ]
     },
     "execution_count": 17,
     "metadata": {},
     "output_type": "execute_result"
    }
   ],
   "source": [
    "y.head(3)"
   ]
  },
  {
   "cell_type": "code",
   "execution_count": 18,
   "id": "b86c84fd",
   "metadata": {},
   "outputs": [],
   "source": [
    "# STEP 2: Split the dataset:\n",
    "from sklearn.model_selection import train_test_split\n",
    "\n",
    "x_train, x_test, y_train, y_test = train_test_split(x, y, test_size = 0.2, random_state = 2)\n"
   ]
  },
  {
   "cell_type": "code",
   "execution_count": null,
   "id": "1854b1ee",
   "metadata": {},
   "outputs": [],
   "source": []
  },
  {
   "cell_type": "markdown",
   "id": "1a2fa9e3",
   "metadata": {},
   "source": [
    "# CREATE LightGBM MODEL"
   ]
  },
  {
   "cell_type": "code",
   "execution_count": 19,
   "id": "de697cf3",
   "metadata": {},
   "outputs": [],
   "source": [
    "import lightgbm as lgb\n",
    "from sklearn.model_selection import train_test_split\n",
    "from sklearn.metrics import accuracy_score\n"
   ]
  },
  {
   "cell_type": "code",
   "execution_count": 20,
   "id": "6b11f268",
   "metadata": {},
   "outputs": [],
   "source": [
    "# Create a LightGBM dataset for training\n",
    "LightGMB_train_data = lgb.Dataset(x_train, label=y_train)\n"
   ]
  },
  {
   "cell_type": "code",
   "execution_count": 21,
   "id": "a37de7c8",
   "metadata": {},
   "outputs": [],
   "source": [
    "# Set the hyperparameters for the LightGBM model\n",
    "params = {\n",
    "    'boosting_type': 'gbdt',\n",
    "    'objective': 'binary',  # Set the appropriate objective for your classification task\n",
    "    'metric': 'binary_logloss',  # Set the appropriate metric for evaluation\n",
    "    'num_leaves': 31,\n",
    "    'learning_rate': 0.05,\n",
    "    'feature_fraction': 0.9,\n",
    "    'bagging_fraction': 0.8,\n",
    "    'bagging_freq': 5,\n",
    "    'verbose': 0\n",
    "}\n"
   ]
  },
  {
   "cell_type": "code",
   "execution_count": 22,
   "id": "6fadd4c4",
   "metadata": {},
   "outputs": [
    {
     "name": "stdout",
     "output_type": "stream",
     "text": [
      "[LightGBM] [Warning] Found whitespace in feature_names, replace with underlines\n",
      "[LightGBM] [Warning] Auto-choosing row-wise multi-threading, the overhead of testing was 0.003711 seconds.\n",
      "You can set `force_row_wise=true` to remove the overhead.\n",
      "And if memory is not enough, you can set `force_col_wise=true`.\n"
     ]
    }
   ],
   "source": [
    "# Train the LightGBM model\n",
    "clf_LightGBM = lgb.train(params, LightGMB_train_data, num_boost_round=100)\n"
   ]
  },
  {
   "cell_type": "code",
   "execution_count": 47,
   "id": "2fcec7cd",
   "metadata": {},
   "outputs": [],
   "source": [
    "# Make predictions on the test set\n",
    "y_pred_LightGBM = clf_LightGBM.predict(x_test)\n",
    "y_pred_LightGBM = [round(pred) for pred in y_pred_LightGBM]  # Convert probability to binary predictions\n"
   ]
  },
  {
   "cell_type": "code",
   "execution_count": 48,
   "id": "a24409cd",
   "metadata": {},
   "outputs": [
    {
     "data": {
      "text/html": [
       "<div>\n",
       "<style scoped>\n",
       "    .dataframe tbody tr th:only-of-type {\n",
       "        vertical-align: middle;\n",
       "    }\n",
       "\n",
       "    .dataframe tbody tr th {\n",
       "        vertical-align: top;\n",
       "    }\n",
       "\n",
       "    .dataframe thead th {\n",
       "        text-align: right;\n",
       "    }\n",
       "</style>\n",
       "<table border=\"1\" class=\"dataframe\">\n",
       "  <thead>\n",
       "    <tr style=\"text-align: right;\">\n",
       "      <th>predict</th>\n",
       "      <th>0</th>\n",
       "      <th>1</th>\n",
       "    </tr>\n",
       "    <tr>\n",
       "      <th>real</th>\n",
       "      <th></th>\n",
       "      <th></th>\n",
       "    </tr>\n",
       "  </thead>\n",
       "  <tbody>\n",
       "    <tr>\n",
       "      <th>0.0</th>\n",
       "      <td>6646</td>\n",
       "      <td>709</td>\n",
       "    </tr>\n",
       "    <tr>\n",
       "      <th>1.0</th>\n",
       "      <td>0</td>\n",
       "      <td>5251</td>\n",
       "    </tr>\n",
       "    <tr>\n",
       "      <th>2.0</th>\n",
       "      <td>128</td>\n",
       "      <td>4277</td>\n",
       "    </tr>\n",
       "  </tbody>\n",
       "</table>\n",
       "</div>"
      ],
      "text/plain": [
       "predict     0     1\n",
       "real               \n",
       "0.0      6646   709\n",
       "1.0         0  5251\n",
       "2.0       128  4277"
      ]
     },
     "execution_count": 48,
     "metadata": {},
     "output_type": "execute_result"
    }
   ],
   "source": [
    "# get confusion matrix\n",
    "pd.crosstab(y_test, y_pred_LightGBM, rownames=[\"real\"], colnames=[\"predict\"])\n"
   ]
  },
  {
   "cell_type": "code",
   "execution_count": 49,
   "id": "5fbb3dcc",
   "metadata": {},
   "outputs": [
    {
     "name": "stdout",
     "output_type": "stream",
     "text": [
      "Accuracy: 0.6993709952383752\n"
     ]
    }
   ],
   "source": [
    "# Evaluate the model\n",
    "accuracy_LightGBM = accuracy_score(y_test, y_pred_LightGBM)\n",
    "print(\"Accuracy:\", accuracy_LightGBM)\n",
    "\n",
    "# 0.699\n"
   ]
  },
  {
   "cell_type": "code",
   "execution_count": 50,
   "id": "243be810",
   "metadata": {},
   "outputs": [
    {
     "name": "stdout",
     "output_type": "stream",
     "text": [
      "LightGBM classification report:\n",
      "               precision    recall  f1-score   support\n",
      "\n",
      "         0.0       0.98      0.90      0.94      7355\n",
      "         1.0       0.51      1.00      0.68      5251\n",
      "         2.0       0.00      0.00      0.00      4405\n",
      "\n",
      "    accuracy                           0.70     17011\n",
      "   macro avg       0.50      0.63      0.54     17011\n",
      "weighted avg       0.58      0.70      0.62     17011\n",
      "\n"
     ]
    },
    {
     "name": "stderr",
     "output_type": "stream",
     "text": [
      "C:\\Users\\Nutzer\\anaconda3\\lib\\site-packages\\sklearn\\metrics\\_classification.py:1344: UndefinedMetricWarning: Precision and F-score are ill-defined and being set to 0.0 in labels with no predicted samples. Use `zero_division` parameter to control this behavior.\n",
      "  _warn_prf(average, modifier, msg_start, len(result))\n",
      "C:\\Users\\Nutzer\\anaconda3\\lib\\site-packages\\sklearn\\metrics\\_classification.py:1344: UndefinedMetricWarning: Precision and F-score are ill-defined and being set to 0.0 in labels with no predicted samples. Use `zero_division` parameter to control this behavior.\n",
      "  _warn_prf(average, modifier, msg_start, len(result))\n",
      "C:\\Users\\Nutzer\\anaconda3\\lib\\site-packages\\sklearn\\metrics\\_classification.py:1344: UndefinedMetricWarning: Precision and F-score are ill-defined and being set to 0.0 in labels with no predicted samples. Use `zero_division` parameter to control this behavior.\n",
      "  _warn_prf(average, modifier, msg_start, len(result))\n"
     ]
    }
   ],
   "source": [
    "# Evaluate model with classification report\n",
    "from sklearn.metrics import classification_report \n",
    "\n",
    "print(\"LightGBM classification report:\\n\", classification_report (y_test, y_pred_LightGBM))\n",
    "\n",
    "# great for real news and ok for fake news but horrible for mixed news"
   ]
  },
  {
   "cell_type": "code",
   "execution_count": 51,
   "id": "a5ef2f14",
   "metadata": {},
   "outputs": [
    {
     "name": "stdout",
     "output_type": "stream",
     "text": [
      "Confusion Matrix:\n",
      " [[6646  709    0]\n",
      " [   0 5251    0]\n",
      " [ 128 4277    0]]\n"
     ]
    }
   ],
   "source": [
    "# Evaluate Model with confusion matrix \n",
    "from sklearn.metrics import confusion_matrix \n",
    "\n",
    "conf_matrix_LightGBM = confusion_matrix(y_test, y_pred_LightGBM)\n",
    "\n",
    "print(\"Confusion Matrix:\\n\",  conf_matrix_LightGBM)\n"
   ]
  },
  {
   "cell_type": "code",
   "execution_count": null,
   "id": "73bfab6f",
   "metadata": {},
   "outputs": [],
   "source": []
  },
  {
   "cell_type": "code",
   "execution_count": null,
   "id": "81a982b7",
   "metadata": {},
   "outputs": [],
   "source": []
  },
  {
   "cell_type": "markdown",
   "id": "42fa9ca9",
   "metadata": {},
   "source": [
    "# Create Naive Bayes Bernoulli Model"
   ]
  },
  {
   "cell_type": "code",
   "execution_count": 27,
   "id": "9f4739a8",
   "metadata": {},
   "outputs": [],
   "source": [
    "from sklearn.naive_bayes import BernoulliNB\n",
    "from sklearn.model_selection import train_test_split\n",
    "from sklearn.metrics import accuracy_score"
   ]
  },
  {
   "cell_type": "code",
   "execution_count": 28,
   "id": "f2960ad0",
   "metadata": {},
   "outputs": [],
   "source": [
    "# Create a Bernoulli Naive Bayes classifier\n",
    "clf_Bern = BernoulliNB()\n"
   ]
  },
  {
   "cell_type": "code",
   "execution_count": 40,
   "id": "728db523",
   "metadata": {},
   "outputs": [
    {
     "data": {
      "text/html": [
       "<style>#sk-container-id-3 {color: black;background-color: white;}#sk-container-id-3 pre{padding: 0;}#sk-container-id-3 div.sk-toggleable {background-color: white;}#sk-container-id-3 label.sk-toggleable__label {cursor: pointer;display: block;width: 100%;margin-bottom: 0;padding: 0.3em;box-sizing: border-box;text-align: center;}#sk-container-id-3 label.sk-toggleable__label-arrow:before {content: \"▸\";float: left;margin-right: 0.25em;color: #696969;}#sk-container-id-3 label.sk-toggleable__label-arrow:hover:before {color: black;}#sk-container-id-3 div.sk-estimator:hover label.sk-toggleable__label-arrow:before {color: black;}#sk-container-id-3 div.sk-toggleable__content {max-height: 0;max-width: 0;overflow: hidden;text-align: left;background-color: #f0f8ff;}#sk-container-id-3 div.sk-toggleable__content pre {margin: 0.2em;color: black;border-radius: 0.25em;background-color: #f0f8ff;}#sk-container-id-3 input.sk-toggleable__control:checked~div.sk-toggleable__content {max-height: 200px;max-width: 100%;overflow: auto;}#sk-container-id-3 input.sk-toggleable__control:checked~label.sk-toggleable__label-arrow:before {content: \"▾\";}#sk-container-id-3 div.sk-estimator input.sk-toggleable__control:checked~label.sk-toggleable__label {background-color: #d4ebff;}#sk-container-id-3 div.sk-label input.sk-toggleable__control:checked~label.sk-toggleable__label {background-color: #d4ebff;}#sk-container-id-3 input.sk-hidden--visually {border: 0;clip: rect(1px 1px 1px 1px);clip: rect(1px, 1px, 1px, 1px);height: 1px;margin: -1px;overflow: hidden;padding: 0;position: absolute;width: 1px;}#sk-container-id-3 div.sk-estimator {font-family: monospace;background-color: #f0f8ff;border: 1px dotted black;border-radius: 0.25em;box-sizing: border-box;margin-bottom: 0.5em;}#sk-container-id-3 div.sk-estimator:hover {background-color: #d4ebff;}#sk-container-id-3 div.sk-parallel-item::after {content: \"\";width: 100%;border-bottom: 1px solid gray;flex-grow: 1;}#sk-container-id-3 div.sk-label:hover label.sk-toggleable__label {background-color: #d4ebff;}#sk-container-id-3 div.sk-serial::before {content: \"\";position: absolute;border-left: 1px solid gray;box-sizing: border-box;top: 0;bottom: 0;left: 50%;z-index: 0;}#sk-container-id-3 div.sk-serial {display: flex;flex-direction: column;align-items: center;background-color: white;padding-right: 0.2em;padding-left: 0.2em;position: relative;}#sk-container-id-3 div.sk-item {position: relative;z-index: 1;}#sk-container-id-3 div.sk-parallel {display: flex;align-items: stretch;justify-content: center;background-color: white;position: relative;}#sk-container-id-3 div.sk-item::before, #sk-container-id-3 div.sk-parallel-item::before {content: \"\";position: absolute;border-left: 1px solid gray;box-sizing: border-box;top: 0;bottom: 0;left: 50%;z-index: -1;}#sk-container-id-3 div.sk-parallel-item {display: flex;flex-direction: column;z-index: 1;position: relative;background-color: white;}#sk-container-id-3 div.sk-parallel-item:first-child::after {align-self: flex-end;width: 50%;}#sk-container-id-3 div.sk-parallel-item:last-child::after {align-self: flex-start;width: 50%;}#sk-container-id-3 div.sk-parallel-item:only-child::after {width: 0;}#sk-container-id-3 div.sk-dashed-wrapped {border: 1px dashed gray;margin: 0 0.4em 0.5em 0.4em;box-sizing: border-box;padding-bottom: 0.4em;background-color: white;}#sk-container-id-3 div.sk-label label {font-family: monospace;font-weight: bold;display: inline-block;line-height: 1.2em;}#sk-container-id-3 div.sk-label-container {text-align: center;}#sk-container-id-3 div.sk-container {/* jupyter's `normalize.less` sets `[hidden] { display: none; }` but bootstrap.min.css set `[hidden] { display: none !important; }` so we also need the `!important` here to be able to override the default hidden behavior on the sphinx rendered scikit-learn.org. See: https://github.com/scikit-learn/scikit-learn/issues/21755 */display: inline-block !important;position: relative;}#sk-container-id-3 div.sk-text-repr-fallback {display: none;}</style><div id=\"sk-container-id-3\" class=\"sk-top-container\"><div class=\"sk-text-repr-fallback\"><pre>BernoulliNB()</pre><b>In a Jupyter environment, please rerun this cell to show the HTML representation or trust the notebook. <br />On GitHub, the HTML representation is unable to render, please try loading this page with nbviewer.org.</b></div><div class=\"sk-container\" hidden><div class=\"sk-item\"><div class=\"sk-estimator sk-toggleable\"><input class=\"sk-toggleable__control sk-hidden--visually\" id=\"sk-estimator-id-3\" type=\"checkbox\" checked><label for=\"sk-estimator-id-3\" class=\"sk-toggleable__label sk-toggleable__label-arrow\">BernoulliNB</label><div class=\"sk-toggleable__content\"><pre>BernoulliNB()</pre></div></div></div></div></div>"
      ],
      "text/plain": [
       "BernoulliNB()"
      ]
     },
     "execution_count": 40,
     "metadata": {},
     "output_type": "execute_result"
    }
   ],
   "source": [
    "# Train the classifier\n",
    "clf_Bern.fit(x_train, y_train)\n"
   ]
  },
  {
   "cell_type": "code",
   "execution_count": 41,
   "id": "8d3bfef3",
   "metadata": {},
   "outputs": [
    {
     "name": "stdout",
     "output_type": "stream",
     "text": [
      "Accuracy: 0.7734995003233202\n"
     ]
    }
   ],
   "source": [
    "# Evaluate the model\n",
    "accuracyNB_Bernoulli = accuracy_score(y_test, y_pred_Bern)\n",
    "print(\"Accuracy:\", accuracyNB_Bernoulli)\n",
    "\n",
    "# 0.773\n"
   ]
  },
  {
   "cell_type": "code",
   "execution_count": 42,
   "id": "f46bec67",
   "metadata": {},
   "outputs": [
    {
     "data": {
      "text/html": [
       "<div>\n",
       "<style scoped>\n",
       "    .dataframe tbody tr th:only-of-type {\n",
       "        vertical-align: middle;\n",
       "    }\n",
       "\n",
       "    .dataframe tbody tr th {\n",
       "        vertical-align: top;\n",
       "    }\n",
       "\n",
       "    .dataframe thead th {\n",
       "        text-align: right;\n",
       "    }\n",
       "</style>\n",
       "<table border=\"1\" class=\"dataframe\">\n",
       "  <thead>\n",
       "    <tr style=\"text-align: right;\">\n",
       "      <th>predict</th>\n",
       "      <th>0.0</th>\n",
       "      <th>1.0</th>\n",
       "      <th>2.0</th>\n",
       "    </tr>\n",
       "    <tr>\n",
       "      <th>real</th>\n",
       "      <th></th>\n",
       "      <th></th>\n",
       "      <th></th>\n",
       "    </tr>\n",
       "  </thead>\n",
       "  <tbody>\n",
       "    <tr>\n",
       "      <th>0.0</th>\n",
       "      <td>5752</td>\n",
       "      <td>121</td>\n",
       "      <td>1482</td>\n",
       "    </tr>\n",
       "    <tr>\n",
       "      <th>1.0</th>\n",
       "      <td>0</td>\n",
       "      <td>5251</td>\n",
       "      <td>0</td>\n",
       "    </tr>\n",
       "    <tr>\n",
       "      <th>2.0</th>\n",
       "      <td>2247</td>\n",
       "      <td>3</td>\n",
       "      <td>2155</td>\n",
       "    </tr>\n",
       "  </tbody>\n",
       "</table>\n",
       "</div>"
      ],
      "text/plain": [
       "predict   0.0   1.0   2.0\n",
       "real                     \n",
       "0.0      5752   121  1482\n",
       "1.0         0  5251     0\n",
       "2.0      2247     3  2155"
      ]
     },
     "execution_count": 42,
     "metadata": {},
     "output_type": "execute_result"
    }
   ],
   "source": [
    "# get confusion matrix\n",
    "y_pred_Bern = clf_Bern.predict(x_test)\n",
    "pd.crosstab(y_test, y_pred_Bern, rownames=[\"real\"], colnames=[\"predict\"])\n"
   ]
  },
  {
   "cell_type": "code",
   "execution_count": 44,
   "id": "04e6251a",
   "metadata": {},
   "outputs": [
    {
     "name": "stdout",
     "output_type": "stream",
     "text": [
      "Naive Bayes Bernoulli classification report:\n",
      "               precision    recall  f1-score   support\n",
      "\n",
      "         0.0       0.72      0.78      0.75      7355\n",
      "         1.0       0.98      1.00      0.99      5251\n",
      "         2.0       0.59      0.49      0.54      4405\n",
      "\n",
      "    accuracy                           0.77     17011\n",
      "   macro avg       0.76      0.76      0.76     17011\n",
      "weighted avg       0.77      0.77      0.77     17011\n",
      "\n"
     ]
    }
   ],
   "source": [
    "# Evaluate model with classification report\n",
    "from sklearn.metrics import classification_report \n",
    "\n",
    "print(\"Naive Bayes Bernoulli classification report:\\n\", classification_report (y_test, y_pred_Bern))\n",
    "\n",
    "# this one looks already ok"
   ]
  },
  {
   "cell_type": "code",
   "execution_count": 45,
   "id": "19cc1a03",
   "metadata": {},
   "outputs": [
    {
     "name": "stdout",
     "output_type": "stream",
     "text": [
      "Confusion Matrix:\n",
      " [[5752  121 1482]\n",
      " [   0 5251    0]\n",
      " [2247    3 2155]]\n"
     ]
    }
   ],
   "source": [
    "# Evaluate Model with confusion matrix \n",
    "from sklearn.metrics import confusion_matrix \n",
    "\n",
    "conf_matrix_Bern = confusion_matrix(y_test, y_pred_Bern)\n",
    "\n",
    "print(\"Confusion Matrix:\\n\",  conf_matrix_Bern)\n"
   ]
  },
  {
   "cell_type": "code",
   "execution_count": null,
   "id": "3f5a9866",
   "metadata": {},
   "outputs": [],
   "source": []
  },
  {
   "cell_type": "code",
   "execution_count": null,
   "id": "46436416",
   "metadata": {},
   "outputs": [],
   "source": []
  },
  {
   "cell_type": "markdown",
   "id": "d9130c16",
   "metadata": {},
   "source": [
    "# Create Naive Bayes Multinomial"
   ]
  },
  {
   "cell_type": "code",
   "execution_count": 52,
   "id": "2b0d8b42",
   "metadata": {},
   "outputs": [],
   "source": [
    "from sklearn.naive_bayes import MultinomialNB\n",
    "clf_mult = MultinomialNB()\n"
   ]
  },
  {
   "cell_type": "code",
   "execution_count": 53,
   "id": "5fd00513",
   "metadata": {},
   "outputs": [
    {
     "data": {
      "text/html": [
       "<style>#sk-container-id-4 {color: black;background-color: white;}#sk-container-id-4 pre{padding: 0;}#sk-container-id-4 div.sk-toggleable {background-color: white;}#sk-container-id-4 label.sk-toggleable__label {cursor: pointer;display: block;width: 100%;margin-bottom: 0;padding: 0.3em;box-sizing: border-box;text-align: center;}#sk-container-id-4 label.sk-toggleable__label-arrow:before {content: \"▸\";float: left;margin-right: 0.25em;color: #696969;}#sk-container-id-4 label.sk-toggleable__label-arrow:hover:before {color: black;}#sk-container-id-4 div.sk-estimator:hover label.sk-toggleable__label-arrow:before {color: black;}#sk-container-id-4 div.sk-toggleable__content {max-height: 0;max-width: 0;overflow: hidden;text-align: left;background-color: #f0f8ff;}#sk-container-id-4 div.sk-toggleable__content pre {margin: 0.2em;color: black;border-radius: 0.25em;background-color: #f0f8ff;}#sk-container-id-4 input.sk-toggleable__control:checked~div.sk-toggleable__content {max-height: 200px;max-width: 100%;overflow: auto;}#sk-container-id-4 input.sk-toggleable__control:checked~label.sk-toggleable__label-arrow:before {content: \"▾\";}#sk-container-id-4 div.sk-estimator input.sk-toggleable__control:checked~label.sk-toggleable__label {background-color: #d4ebff;}#sk-container-id-4 div.sk-label input.sk-toggleable__control:checked~label.sk-toggleable__label {background-color: #d4ebff;}#sk-container-id-4 input.sk-hidden--visually {border: 0;clip: rect(1px 1px 1px 1px);clip: rect(1px, 1px, 1px, 1px);height: 1px;margin: -1px;overflow: hidden;padding: 0;position: absolute;width: 1px;}#sk-container-id-4 div.sk-estimator {font-family: monospace;background-color: #f0f8ff;border: 1px dotted black;border-radius: 0.25em;box-sizing: border-box;margin-bottom: 0.5em;}#sk-container-id-4 div.sk-estimator:hover {background-color: #d4ebff;}#sk-container-id-4 div.sk-parallel-item::after {content: \"\";width: 100%;border-bottom: 1px solid gray;flex-grow: 1;}#sk-container-id-4 div.sk-label:hover label.sk-toggleable__label {background-color: #d4ebff;}#sk-container-id-4 div.sk-serial::before {content: \"\";position: absolute;border-left: 1px solid gray;box-sizing: border-box;top: 0;bottom: 0;left: 50%;z-index: 0;}#sk-container-id-4 div.sk-serial {display: flex;flex-direction: column;align-items: center;background-color: white;padding-right: 0.2em;padding-left: 0.2em;position: relative;}#sk-container-id-4 div.sk-item {position: relative;z-index: 1;}#sk-container-id-4 div.sk-parallel {display: flex;align-items: stretch;justify-content: center;background-color: white;position: relative;}#sk-container-id-4 div.sk-item::before, #sk-container-id-4 div.sk-parallel-item::before {content: \"\";position: absolute;border-left: 1px solid gray;box-sizing: border-box;top: 0;bottom: 0;left: 50%;z-index: -1;}#sk-container-id-4 div.sk-parallel-item {display: flex;flex-direction: column;z-index: 1;position: relative;background-color: white;}#sk-container-id-4 div.sk-parallel-item:first-child::after {align-self: flex-end;width: 50%;}#sk-container-id-4 div.sk-parallel-item:last-child::after {align-self: flex-start;width: 50%;}#sk-container-id-4 div.sk-parallel-item:only-child::after {width: 0;}#sk-container-id-4 div.sk-dashed-wrapped {border: 1px dashed gray;margin: 0 0.4em 0.5em 0.4em;box-sizing: border-box;padding-bottom: 0.4em;background-color: white;}#sk-container-id-4 div.sk-label label {font-family: monospace;font-weight: bold;display: inline-block;line-height: 1.2em;}#sk-container-id-4 div.sk-label-container {text-align: center;}#sk-container-id-4 div.sk-container {/* jupyter's `normalize.less` sets `[hidden] { display: none; }` but bootstrap.min.css set `[hidden] { display: none !important; }` so we also need the `!important` here to be able to override the default hidden behavior on the sphinx rendered scikit-learn.org. See: https://github.com/scikit-learn/scikit-learn/issues/21755 */display: inline-block !important;position: relative;}#sk-container-id-4 div.sk-text-repr-fallback {display: none;}</style><div id=\"sk-container-id-4\" class=\"sk-top-container\"><div class=\"sk-text-repr-fallback\"><pre>MultinomialNB()</pre><b>In a Jupyter environment, please rerun this cell to show the HTML representation or trust the notebook. <br />On GitHub, the HTML representation is unable to render, please try loading this page with nbviewer.org.</b></div><div class=\"sk-container\" hidden><div class=\"sk-item\"><div class=\"sk-estimator sk-toggleable\"><input class=\"sk-toggleable__control sk-hidden--visually\" id=\"sk-estimator-id-4\" type=\"checkbox\" checked><label for=\"sk-estimator-id-4\" class=\"sk-toggleable__label sk-toggleable__label-arrow\">MultinomialNB</label><div class=\"sk-toggleable__content\"><pre>MultinomialNB()</pre></div></div></div></div></div>"
      ],
      "text/plain": [
       "MultinomialNB()"
      ]
     },
     "execution_count": 53,
     "metadata": {},
     "output_type": "execute_result"
    }
   ],
   "source": [
    "clf_mult.fit(x_train, y_train)\n"
   ]
  },
  {
   "cell_type": "code",
   "execution_count": 54,
   "id": "261d2d8f",
   "metadata": {},
   "outputs": [
    {
     "data": {
      "text/plain": [
       "0.3325495267767915"
      ]
     },
     "execution_count": 54,
     "metadata": {},
     "output_type": "execute_result"
    }
   ],
   "source": [
    "# get accuracy\n",
    "accuracyNB_Multinomial = clf_mult.score(x_test, y_test)\n",
    "accuracyNB_Multinomial\n",
    "\n",
    "# 0.332\n"
   ]
  },
  {
   "cell_type": "code",
   "execution_count": 55,
   "id": "f7449889",
   "metadata": {},
   "outputs": [
    {
     "data": {
      "text/html": [
       "<div>\n",
       "<style scoped>\n",
       "    .dataframe tbody tr th:only-of-type {\n",
       "        vertical-align: middle;\n",
       "    }\n",
       "\n",
       "    .dataframe tbody tr th {\n",
       "        vertical-align: top;\n",
       "    }\n",
       "\n",
       "    .dataframe thead th {\n",
       "        text-align: right;\n",
       "    }\n",
       "</style>\n",
       "<table border=\"1\" class=\"dataframe\">\n",
       "  <thead>\n",
       "    <tr style=\"text-align: right;\">\n",
       "      <th>predict</th>\n",
       "      <th>0.0</th>\n",
       "      <th>1.0</th>\n",
       "      <th>2.0</th>\n",
       "    </tr>\n",
       "    <tr>\n",
       "      <th>real</th>\n",
       "      <th></th>\n",
       "      <th></th>\n",
       "      <th></th>\n",
       "    </tr>\n",
       "  </thead>\n",
       "  <tbody>\n",
       "    <tr>\n",
       "      <th>0.0</th>\n",
       "      <td>427</td>\n",
       "      <td>4480</td>\n",
       "      <td>2448</td>\n",
       "    </tr>\n",
       "    <tr>\n",
       "      <th>1.0</th>\n",
       "      <td>210</td>\n",
       "      <td>3549</td>\n",
       "      <td>1492</td>\n",
       "    </tr>\n",
       "    <tr>\n",
       "      <th>2.0</th>\n",
       "      <td>229</td>\n",
       "      <td>2495</td>\n",
       "      <td>1681</td>\n",
       "    </tr>\n",
       "  </tbody>\n",
       "</table>\n",
       "</div>"
      ],
      "text/plain": [
       "predict  0.0   1.0   2.0\n",
       "real                    \n",
       "0.0      427  4480  2448\n",
       "1.0      210  3549  1492\n",
       "2.0      229  2495  1681"
      ]
     },
     "execution_count": 55,
     "metadata": {},
     "output_type": "execute_result"
    }
   ],
   "source": [
    "# get confusion matrix\n",
    "y_pred_NB_Multinomial = clf_mult.predict(x_test)\n",
    "pd.crosstab(y_test, y_pred_NB_Multinomial, rownames=[\"real\"], colnames=[\"predict\"])\n"
   ]
  },
  {
   "cell_type": "code",
   "execution_count": 56,
   "id": "88e9cb5f",
   "metadata": {},
   "outputs": [
    {
     "name": "stdout",
     "output_type": "stream",
     "text": [
      "Naive Bayes Multinomial classification report:\n",
      "                precision    recall  f1-score   support\n",
      "\n",
      "         0.0       0.49      0.06      0.10      7355\n",
      "         1.0       0.34      0.68      0.45      5251\n",
      "         2.0       0.30      0.38      0.34      4405\n",
      "\n",
      "    accuracy                           0.33     17011\n",
      "   macro avg       0.38      0.37      0.30     17011\n",
      "weighted avg       0.39      0.33      0.27     17011\n",
      "\n"
     ]
    }
   ],
   "source": [
    "from sklearn.metrics import classification_report \n",
    "\n",
    "# get classification report\n",
    "print(\"Naive Bayes Multinomial classification report:\\n \", classification_report (y_test, y_pred_NB_Multinomial))\n",
    "\n",
    "# really bad overall"
   ]
  },
  {
   "cell_type": "code",
   "execution_count": 57,
   "id": "a0499654",
   "metadata": {},
   "outputs": [
    {
     "name": "stdout",
     "output_type": "stream",
     "text": [
      "[[ 427 4480 2448]\n",
      " [ 210 3549 1492]\n",
      " [ 229 2495 1681]]\n"
     ]
    }
   ],
   "source": [
    "# create confusion matrix\n",
    "cf_matrix_Multinomial = confusion_matrix(y_test, y_pred_NB_Multinomial)\n",
    "print(cf_matrix_Multinomial)\n"
   ]
  },
  {
   "cell_type": "code",
   "execution_count": null,
   "id": "bc6083dd",
   "metadata": {},
   "outputs": [],
   "source": []
  },
  {
   "cell_type": "code",
   "execution_count": null,
   "id": "b414f190",
   "metadata": {},
   "outputs": [],
   "source": []
  },
  {
   "cell_type": "markdown",
   "id": "83fd8c73",
   "metadata": {},
   "source": [
    "# Create Naive Bayes Complement"
   ]
  },
  {
   "cell_type": "code",
   "execution_count": 58,
   "id": "f55c6a6e",
   "metadata": {},
   "outputs": [],
   "source": [
    "from sklearn.naive_bayes import ComplementNB\n",
    "clf_compl = ComplementNB()\n"
   ]
  },
  {
   "cell_type": "code",
   "execution_count": 59,
   "id": "d87fa084",
   "metadata": {},
   "outputs": [
    {
     "data": {
      "text/html": [
       "<style>#sk-container-id-5 {color: black;background-color: white;}#sk-container-id-5 pre{padding: 0;}#sk-container-id-5 div.sk-toggleable {background-color: white;}#sk-container-id-5 label.sk-toggleable__label {cursor: pointer;display: block;width: 100%;margin-bottom: 0;padding: 0.3em;box-sizing: border-box;text-align: center;}#sk-container-id-5 label.sk-toggleable__label-arrow:before {content: \"▸\";float: left;margin-right: 0.25em;color: #696969;}#sk-container-id-5 label.sk-toggleable__label-arrow:hover:before {color: black;}#sk-container-id-5 div.sk-estimator:hover label.sk-toggleable__label-arrow:before {color: black;}#sk-container-id-5 div.sk-toggleable__content {max-height: 0;max-width: 0;overflow: hidden;text-align: left;background-color: #f0f8ff;}#sk-container-id-5 div.sk-toggleable__content pre {margin: 0.2em;color: black;border-radius: 0.25em;background-color: #f0f8ff;}#sk-container-id-5 input.sk-toggleable__control:checked~div.sk-toggleable__content {max-height: 200px;max-width: 100%;overflow: auto;}#sk-container-id-5 input.sk-toggleable__control:checked~label.sk-toggleable__label-arrow:before {content: \"▾\";}#sk-container-id-5 div.sk-estimator input.sk-toggleable__control:checked~label.sk-toggleable__label {background-color: #d4ebff;}#sk-container-id-5 div.sk-label input.sk-toggleable__control:checked~label.sk-toggleable__label {background-color: #d4ebff;}#sk-container-id-5 input.sk-hidden--visually {border: 0;clip: rect(1px 1px 1px 1px);clip: rect(1px, 1px, 1px, 1px);height: 1px;margin: -1px;overflow: hidden;padding: 0;position: absolute;width: 1px;}#sk-container-id-5 div.sk-estimator {font-family: monospace;background-color: #f0f8ff;border: 1px dotted black;border-radius: 0.25em;box-sizing: border-box;margin-bottom: 0.5em;}#sk-container-id-5 div.sk-estimator:hover {background-color: #d4ebff;}#sk-container-id-5 div.sk-parallel-item::after {content: \"\";width: 100%;border-bottom: 1px solid gray;flex-grow: 1;}#sk-container-id-5 div.sk-label:hover label.sk-toggleable__label {background-color: #d4ebff;}#sk-container-id-5 div.sk-serial::before {content: \"\";position: absolute;border-left: 1px solid gray;box-sizing: border-box;top: 0;bottom: 0;left: 50%;z-index: 0;}#sk-container-id-5 div.sk-serial {display: flex;flex-direction: column;align-items: center;background-color: white;padding-right: 0.2em;padding-left: 0.2em;position: relative;}#sk-container-id-5 div.sk-item {position: relative;z-index: 1;}#sk-container-id-5 div.sk-parallel {display: flex;align-items: stretch;justify-content: center;background-color: white;position: relative;}#sk-container-id-5 div.sk-item::before, #sk-container-id-5 div.sk-parallel-item::before {content: \"\";position: absolute;border-left: 1px solid gray;box-sizing: border-box;top: 0;bottom: 0;left: 50%;z-index: -1;}#sk-container-id-5 div.sk-parallel-item {display: flex;flex-direction: column;z-index: 1;position: relative;background-color: white;}#sk-container-id-5 div.sk-parallel-item:first-child::after {align-self: flex-end;width: 50%;}#sk-container-id-5 div.sk-parallel-item:last-child::after {align-self: flex-start;width: 50%;}#sk-container-id-5 div.sk-parallel-item:only-child::after {width: 0;}#sk-container-id-5 div.sk-dashed-wrapped {border: 1px dashed gray;margin: 0 0.4em 0.5em 0.4em;box-sizing: border-box;padding-bottom: 0.4em;background-color: white;}#sk-container-id-5 div.sk-label label {font-family: monospace;font-weight: bold;display: inline-block;line-height: 1.2em;}#sk-container-id-5 div.sk-label-container {text-align: center;}#sk-container-id-5 div.sk-container {/* jupyter's `normalize.less` sets `[hidden] { display: none; }` but bootstrap.min.css set `[hidden] { display: none !important; }` so we also need the `!important` here to be able to override the default hidden behavior on the sphinx rendered scikit-learn.org. See: https://github.com/scikit-learn/scikit-learn/issues/21755 */display: inline-block !important;position: relative;}#sk-container-id-5 div.sk-text-repr-fallback {display: none;}</style><div id=\"sk-container-id-5\" class=\"sk-top-container\"><div class=\"sk-text-repr-fallback\"><pre>ComplementNB()</pre><b>In a Jupyter environment, please rerun this cell to show the HTML representation or trust the notebook. <br />On GitHub, the HTML representation is unable to render, please try loading this page with nbviewer.org.</b></div><div class=\"sk-container\" hidden><div class=\"sk-item\"><div class=\"sk-estimator sk-toggleable\"><input class=\"sk-toggleable__control sk-hidden--visually\" id=\"sk-estimator-id-5\" type=\"checkbox\" checked><label for=\"sk-estimator-id-5\" class=\"sk-toggleable__label sk-toggleable__label-arrow\">ComplementNB</label><div class=\"sk-toggleable__content\"><pre>ComplementNB()</pre></div></div></div></div></div>"
      ],
      "text/plain": [
       "ComplementNB()"
      ]
     },
     "execution_count": 59,
     "metadata": {},
     "output_type": "execute_result"
    }
   ],
   "source": [
    "clf_compl.fit(x_train, y_train)\n"
   ]
  },
  {
   "cell_type": "code",
   "execution_count": 60,
   "id": "de466502",
   "metadata": {},
   "outputs": [
    {
     "data": {
      "text/plain": [
       "0.3272000470283934"
      ]
     },
     "execution_count": 60,
     "metadata": {},
     "output_type": "execute_result"
    }
   ],
   "source": [
    "# get accuracy\n",
    "accuracyNB_Complement = clf_compl.score(x_test, y_test)\n",
    "accuracyNB_Complement\n",
    "\n",
    "# 0.331\n"
   ]
  },
  {
   "cell_type": "code",
   "execution_count": 61,
   "id": "8e71e619",
   "metadata": {},
   "outputs": [
    {
     "data": {
      "text/html": [
       "<div>\n",
       "<style scoped>\n",
       "    .dataframe tbody tr th:only-of-type {\n",
       "        vertical-align: middle;\n",
       "    }\n",
       "\n",
       "    .dataframe tbody tr th {\n",
       "        vertical-align: top;\n",
       "    }\n",
       "\n",
       "    .dataframe thead th {\n",
       "        text-align: right;\n",
       "    }\n",
       "</style>\n",
       "<table border=\"1\" class=\"dataframe\">\n",
       "  <thead>\n",
       "    <tr style=\"text-align: right;\">\n",
       "      <th>predict</th>\n",
       "      <th>0.0</th>\n",
       "      <th>1.0</th>\n",
       "      <th>2.0</th>\n",
       "    </tr>\n",
       "    <tr>\n",
       "      <th>real</th>\n",
       "      <th></th>\n",
       "      <th></th>\n",
       "      <th></th>\n",
       "    </tr>\n",
       "  </thead>\n",
       "  <tbody>\n",
       "    <tr>\n",
       "      <th>0.0</th>\n",
       "      <td>77</td>\n",
       "      <td>4682</td>\n",
       "      <td>2596</td>\n",
       "    </tr>\n",
       "    <tr>\n",
       "      <th>1.0</th>\n",
       "      <td>7</td>\n",
       "      <td>3724</td>\n",
       "      <td>1520</td>\n",
       "    </tr>\n",
       "    <tr>\n",
       "      <th>2.0</th>\n",
       "      <td>11</td>\n",
       "      <td>2629</td>\n",
       "      <td>1765</td>\n",
       "    </tr>\n",
       "  </tbody>\n",
       "</table>\n",
       "</div>"
      ],
      "text/plain": [
       "predict  0.0   1.0   2.0\n",
       "real                    \n",
       "0.0       77  4682  2596\n",
       "1.0        7  3724  1520\n",
       "2.0       11  2629  1765"
      ]
     },
     "execution_count": 61,
     "metadata": {},
     "output_type": "execute_result"
    }
   ],
   "source": [
    "# get confusion matrix\n",
    "y_pred_NB_Complement = clf_compl.predict(x_test)\n",
    "pd.crosstab(y_test, y_pred_NB_Complement, rownames=[\"real\"], colnames=[\"predict\"])\n"
   ]
  },
  {
   "cell_type": "code",
   "execution_count": 62,
   "id": "a290a7bc",
   "metadata": {},
   "outputs": [
    {
     "name": "stdout",
     "output_type": "stream",
     "text": [
      "Naive Bayes Complement classification report:\n",
      "                precision    recall  f1-score   support\n",
      "\n",
      "         0.0       0.81      0.01      0.02      7355\n",
      "         1.0       0.34      0.71      0.46      5251\n",
      "         2.0       0.30      0.40      0.34      4405\n",
      "\n",
      "    accuracy                           0.33     17011\n",
      "   macro avg       0.48      0.37      0.27     17011\n",
      "weighted avg       0.53      0.33      0.24     17011\n",
      "\n"
     ]
    }
   ],
   "source": [
    "from sklearn.metrics import classification_report \n",
    "\n",
    "# get classification report\n",
    "print(\"Naive Bayes Complement classification report:\\n \", classification_report (y_test, y_pred_NB_Complement))\n",
    "\n",
    "# really bad overall"
   ]
  },
  {
   "cell_type": "code",
   "execution_count": 63,
   "id": "73de4f4f",
   "metadata": {},
   "outputs": [
    {
     "name": "stdout",
     "output_type": "stream",
     "text": [
      "[[  77 4682 2596]\n",
      " [   7 3724 1520]\n",
      " [  11 2629 1765]]\n"
     ]
    }
   ],
   "source": [
    "# create confusion matrix\n",
    "cf_matrix_Complement = confusion_matrix(y_test, y_pred_NB_Complement)\n",
    "print(cf_matrix_Complement)\n"
   ]
  },
  {
   "cell_type": "code",
   "execution_count": null,
   "id": "c92947c0",
   "metadata": {},
   "outputs": [],
   "source": []
  },
  {
   "cell_type": "code",
   "execution_count": null,
   "id": "4e1c8e45",
   "metadata": {},
   "outputs": [],
   "source": []
  },
  {
   "cell_type": "code",
   "execution_count": null,
   "id": "80ff73a9",
   "metadata": {},
   "outputs": [],
   "source": []
  },
  {
   "cell_type": "markdown",
   "id": "7c857078",
   "metadata": {},
   "source": [
    "# Create Naive Bayes Gaussian\n"
   ]
  },
  {
   "cell_type": "code",
   "execution_count": 64,
   "id": "42bc6695",
   "metadata": {},
   "outputs": [],
   "source": [
    "from sklearn.naive_bayes import GaussianNB\n",
    "clf_gau = GaussianNB()\n"
   ]
  },
  {
   "cell_type": "code",
   "execution_count": 65,
   "id": "7bbed229",
   "metadata": {},
   "outputs": [
    {
     "data": {
      "text/html": [
       "<style>#sk-container-id-6 {color: black;background-color: white;}#sk-container-id-6 pre{padding: 0;}#sk-container-id-6 div.sk-toggleable {background-color: white;}#sk-container-id-6 label.sk-toggleable__label {cursor: pointer;display: block;width: 100%;margin-bottom: 0;padding: 0.3em;box-sizing: border-box;text-align: center;}#sk-container-id-6 label.sk-toggleable__label-arrow:before {content: \"▸\";float: left;margin-right: 0.25em;color: #696969;}#sk-container-id-6 label.sk-toggleable__label-arrow:hover:before {color: black;}#sk-container-id-6 div.sk-estimator:hover label.sk-toggleable__label-arrow:before {color: black;}#sk-container-id-6 div.sk-toggleable__content {max-height: 0;max-width: 0;overflow: hidden;text-align: left;background-color: #f0f8ff;}#sk-container-id-6 div.sk-toggleable__content pre {margin: 0.2em;color: black;border-radius: 0.25em;background-color: #f0f8ff;}#sk-container-id-6 input.sk-toggleable__control:checked~div.sk-toggleable__content {max-height: 200px;max-width: 100%;overflow: auto;}#sk-container-id-6 input.sk-toggleable__control:checked~label.sk-toggleable__label-arrow:before {content: \"▾\";}#sk-container-id-6 div.sk-estimator input.sk-toggleable__control:checked~label.sk-toggleable__label {background-color: #d4ebff;}#sk-container-id-6 div.sk-label input.sk-toggleable__control:checked~label.sk-toggleable__label {background-color: #d4ebff;}#sk-container-id-6 input.sk-hidden--visually {border: 0;clip: rect(1px 1px 1px 1px);clip: rect(1px, 1px, 1px, 1px);height: 1px;margin: -1px;overflow: hidden;padding: 0;position: absolute;width: 1px;}#sk-container-id-6 div.sk-estimator {font-family: monospace;background-color: #f0f8ff;border: 1px dotted black;border-radius: 0.25em;box-sizing: border-box;margin-bottom: 0.5em;}#sk-container-id-6 div.sk-estimator:hover {background-color: #d4ebff;}#sk-container-id-6 div.sk-parallel-item::after {content: \"\";width: 100%;border-bottom: 1px solid gray;flex-grow: 1;}#sk-container-id-6 div.sk-label:hover label.sk-toggleable__label {background-color: #d4ebff;}#sk-container-id-6 div.sk-serial::before {content: \"\";position: absolute;border-left: 1px solid gray;box-sizing: border-box;top: 0;bottom: 0;left: 50%;z-index: 0;}#sk-container-id-6 div.sk-serial {display: flex;flex-direction: column;align-items: center;background-color: white;padding-right: 0.2em;padding-left: 0.2em;position: relative;}#sk-container-id-6 div.sk-item {position: relative;z-index: 1;}#sk-container-id-6 div.sk-parallel {display: flex;align-items: stretch;justify-content: center;background-color: white;position: relative;}#sk-container-id-6 div.sk-item::before, #sk-container-id-6 div.sk-parallel-item::before {content: \"\";position: absolute;border-left: 1px solid gray;box-sizing: border-box;top: 0;bottom: 0;left: 50%;z-index: -1;}#sk-container-id-6 div.sk-parallel-item {display: flex;flex-direction: column;z-index: 1;position: relative;background-color: white;}#sk-container-id-6 div.sk-parallel-item:first-child::after {align-self: flex-end;width: 50%;}#sk-container-id-6 div.sk-parallel-item:last-child::after {align-self: flex-start;width: 50%;}#sk-container-id-6 div.sk-parallel-item:only-child::after {width: 0;}#sk-container-id-6 div.sk-dashed-wrapped {border: 1px dashed gray;margin: 0 0.4em 0.5em 0.4em;box-sizing: border-box;padding-bottom: 0.4em;background-color: white;}#sk-container-id-6 div.sk-label label {font-family: monospace;font-weight: bold;display: inline-block;line-height: 1.2em;}#sk-container-id-6 div.sk-label-container {text-align: center;}#sk-container-id-6 div.sk-container {/* jupyter's `normalize.less` sets `[hidden] { display: none; }` but bootstrap.min.css set `[hidden] { display: none !important; }` so we also need the `!important` here to be able to override the default hidden behavior on the sphinx rendered scikit-learn.org. See: https://github.com/scikit-learn/scikit-learn/issues/21755 */display: inline-block !important;position: relative;}#sk-container-id-6 div.sk-text-repr-fallback {display: none;}</style><div id=\"sk-container-id-6\" class=\"sk-top-container\"><div class=\"sk-text-repr-fallback\"><pre>GaussianNB()</pre><b>In a Jupyter environment, please rerun this cell to show the HTML representation or trust the notebook. <br />On GitHub, the HTML representation is unable to render, please try loading this page with nbviewer.org.</b></div><div class=\"sk-container\" hidden><div class=\"sk-item\"><div class=\"sk-estimator sk-toggleable\"><input class=\"sk-toggleable__control sk-hidden--visually\" id=\"sk-estimator-id-6\" type=\"checkbox\" checked><label for=\"sk-estimator-id-6\" class=\"sk-toggleable__label sk-toggleable__label-arrow\">GaussianNB</label><div class=\"sk-toggleable__content\"><pre>GaussianNB()</pre></div></div></div></div></div>"
      ],
      "text/plain": [
       "GaussianNB()"
      ]
     },
     "execution_count": 65,
     "metadata": {},
     "output_type": "execute_result"
    }
   ],
   "source": [
    "clf_gau.fit(x_train, y_train)\n"
   ]
  },
  {
   "cell_type": "code",
   "execution_count": 66,
   "id": "8076a474",
   "metadata": {},
   "outputs": [
    {
     "data": {
      "text/plain": [
       "0.43007465757451063"
      ]
     },
     "execution_count": 66,
     "metadata": {},
     "output_type": "execute_result"
    }
   ],
   "source": [
    "# get accuracy\n",
    "accuracyNB_Gaussian = clf_gau.score(x_test, y_test)\n",
    "accuracyNB_Gaussian\n",
    "\n",
    "# 0.43\n"
   ]
  },
  {
   "cell_type": "code",
   "execution_count": 67,
   "id": "bcde3d17",
   "metadata": {},
   "outputs": [
    {
     "data": {
      "text/html": [
       "<div>\n",
       "<style scoped>\n",
       "    .dataframe tbody tr th:only-of-type {\n",
       "        vertical-align: middle;\n",
       "    }\n",
       "\n",
       "    .dataframe tbody tr th {\n",
       "        vertical-align: top;\n",
       "    }\n",
       "\n",
       "    .dataframe thead th {\n",
       "        text-align: right;\n",
       "    }\n",
       "</style>\n",
       "<table border=\"1\" class=\"dataframe\">\n",
       "  <thead>\n",
       "    <tr style=\"text-align: right;\">\n",
       "      <th>predict</th>\n",
       "      <th>0.0</th>\n",
       "      <th>1.0</th>\n",
       "      <th>2.0</th>\n",
       "    </tr>\n",
       "    <tr>\n",
       "      <th>real</th>\n",
       "      <th></th>\n",
       "      <th></th>\n",
       "      <th></th>\n",
       "    </tr>\n",
       "  </thead>\n",
       "  <tbody>\n",
       "    <tr>\n",
       "      <th>0.0</th>\n",
       "      <td>7158</td>\n",
       "      <td>90</td>\n",
       "      <td>107</td>\n",
       "    </tr>\n",
       "    <tr>\n",
       "      <th>1.0</th>\n",
       "      <td>5098</td>\n",
       "      <td>62</td>\n",
       "      <td>91</td>\n",
       "    </tr>\n",
       "    <tr>\n",
       "      <th>2.0</th>\n",
       "      <td>4254</td>\n",
       "      <td>55</td>\n",
       "      <td>96</td>\n",
       "    </tr>\n",
       "  </tbody>\n",
       "</table>\n",
       "</div>"
      ],
      "text/plain": [
       "predict   0.0  1.0  2.0\n",
       "real                   \n",
       "0.0      7158   90  107\n",
       "1.0      5098   62   91\n",
       "2.0      4254   55   96"
      ]
     },
     "execution_count": 67,
     "metadata": {},
     "output_type": "execute_result"
    }
   ],
   "source": [
    "# get confusion matrix\n",
    "y_pred_NB_Gaussian = clf_gau.predict(x_test)\n",
    "pd.crosstab(y_test, y_pred_NB_Gaussian, rownames=[\"real\"], colnames=[\"predict\"])\n",
    "\n",
    "# looks bad"
   ]
  },
  {
   "cell_type": "code",
   "execution_count": 68,
   "id": "b1ef5705",
   "metadata": {},
   "outputs": [
    {
     "name": "stdout",
     "output_type": "stream",
     "text": [
      "Naive Bayes Gaussian classification report:\n",
      "                precision    recall  f1-score   support\n",
      "\n",
      "         0.0       0.43      0.97      0.60      7355\n",
      "         1.0       0.30      0.01      0.02      5251\n",
      "         2.0       0.33      0.02      0.04      4405\n",
      "\n",
      "    accuracy                           0.43     17011\n",
      "   macro avg       0.35      0.34      0.22     17011\n",
      "weighted avg       0.36      0.43      0.28     17011\n",
      "\n"
     ]
    }
   ],
   "source": [
    "from sklearn.metrics import classification_report \n",
    "\n",
    "# get classification report\n",
    "print(\"Naive Bayes Gaussian classification report:\\n \", classification_report (y_test, y_pred_NB_Gaussian))\n",
    "\n",
    "# really bad overall"
   ]
  },
  {
   "cell_type": "code",
   "execution_count": 69,
   "id": "ea012e49",
   "metadata": {},
   "outputs": [
    {
     "name": "stdout",
     "output_type": "stream",
     "text": [
      "[[7158   90  107]\n",
      " [5098   62   91]\n",
      " [4254   55   96]]\n"
     ]
    }
   ],
   "source": [
    "# create confusion matrix\n",
    "cf_matrix_Gaussian = confusion_matrix(y_test, y_pred_NB_Gaussian)\n",
    "print(cf_matrix_Gaussian)\n"
   ]
  },
  {
   "cell_type": "code",
   "execution_count": null,
   "id": "5b07f9a5",
   "metadata": {},
   "outputs": [],
   "source": []
  },
  {
   "cell_type": "code",
   "execution_count": null,
   "id": "0634a9dd",
   "metadata": {},
   "outputs": [],
   "source": []
  },
  {
   "cell_type": "code",
   "execution_count": null,
   "id": "d2d58e11",
   "metadata": {},
   "outputs": [],
   "source": []
  },
  {
   "cell_type": "markdown",
   "id": "623af938",
   "metadata": {},
   "source": [
    "# CREATE SCALED DATASET"
   ]
  },
  {
   "cell_type": "code",
   "execution_count": 42,
   "id": "a8394b73",
   "metadata": {},
   "outputs": [],
   "source": [
    "# KNN needs standardisation\n",
    "# SVM needs standardisation\n",
    "# Logistic Regression need standardisation\n"
   ]
  },
  {
   "cell_type": "code",
   "execution_count": 72,
   "id": "dfd541d8",
   "metadata": {},
   "outputs": [],
   "source": [
    "from sklearn.preprocessing import StandardScaler\n",
    "\n",
    "scaler = StandardScaler()\n"
   ]
  },
  {
   "cell_type": "code",
   "execution_count": 73,
   "id": "be503247",
   "metadata": {},
   "outputs": [],
   "source": [
    "cols = x_train.columns\n",
    "\n",
    "x_train_scaled = pd.DataFrame(scaler.fit_transform(x_train), columns=cols)\n",
    "x_test_scaled = pd.DataFrame(scaler.transform(x_test), columns=cols)\n"
   ]
  },
  {
   "cell_type": "code",
   "execution_count": 74,
   "id": "05003f66",
   "metadata": {
    "scrolled": true
   },
   "outputs": [
    {
     "data": {
      "text/html": [
       "<div>\n",
       "<style scoped>\n",
       "    .dataframe tbody tr th:only-of-type {\n",
       "        vertical-align: middle;\n",
       "    }\n",
       "\n",
       "    .dataframe tbody tr th {\n",
       "        vertical-align: top;\n",
       "    }\n",
       "\n",
       "    .dataframe thead th {\n",
       "        text-align: right;\n",
       "    }\n",
       "</style>\n",
       "<table border=\"1\" class=\"dataframe\">\n",
       "  <thead>\n",
       "    <tr style=\"text-align: right;\">\n",
       "      <th></th>\n",
       "      <th>published_utc</th>\n",
       "      <th>factuality</th>\n",
       "      <th>questionable-source</th>\n",
       "      <th>conspiracy-pseudoscience</th>\n",
       "      <th>pro-science</th>\n",
       "      <th>year</th>\n",
       "      <th>month</th>\n",
       "      <th>dayofyear</th>\n",
       "      <th>dayofthemonth</th>\n",
       "      <th>weekday</th>\n",
       "      <th>...</th>\n",
       "      <th>Netherlands</th>\n",
       "      <th>Qatar</th>\n",
       "      <th>Russia</th>\n",
       "      <th>USA</th>\n",
       "      <th>United Kingdom</th>\n",
       "      <th>Unknown</th>\n",
       "      <th>tok_content_length</th>\n",
       "      <th>tok_title_length</th>\n",
       "      <th>nb_character_content</th>\n",
       "      <th>nb_character_title</th>\n",
       "    </tr>\n",
       "  </thead>\n",
       "  <tbody>\n",
       "    <tr>\n",
       "      <th>0</th>\n",
       "      <td>0.236385</td>\n",
       "      <td>1.330124</td>\n",
       "      <td>-0.500620</td>\n",
       "      <td>-0.356074</td>\n",
       "      <td>-0.03431</td>\n",
       "      <td>0.0</td>\n",
       "      <td>0.138142</td>\n",
       "      <td>0.238484</td>\n",
       "      <td>1.280930</td>\n",
       "      <td>-0.413892</td>\n",
       "      <td>...</td>\n",
       "      <td>-0.00664</td>\n",
       "      <td>-0.101661</td>\n",
       "      <td>-0.263741</td>\n",
       "      <td>0.743329</td>\n",
       "      <td>-0.502525</td>\n",
       "      <td>-0.138632</td>\n",
       "      <td>-0.597365</td>\n",
       "      <td>-0.638036</td>\n",
       "      <td>-0.603405</td>\n",
       "      <td>-0.790382</td>\n",
       "    </tr>\n",
       "    <tr>\n",
       "      <th>1</th>\n",
       "      <td>0.410721</td>\n",
       "      <td>1.330124</td>\n",
       "      <td>-0.500620</td>\n",
       "      <td>-0.356074</td>\n",
       "      <td>-0.03431</td>\n",
       "      <td>0.0</td>\n",
       "      <td>0.430322</td>\n",
       "      <td>0.410803</td>\n",
       "      <td>-0.203178</td>\n",
       "      <td>1.685848</td>\n",
       "      <td>...</td>\n",
       "      <td>-0.00664</td>\n",
       "      <td>-0.101661</td>\n",
       "      <td>-0.263741</td>\n",
       "      <td>-1.345299</td>\n",
       "      <td>1.989951</td>\n",
       "      <td>-0.138632</td>\n",
       "      <td>0.699313</td>\n",
       "      <td>0.399997</td>\n",
       "      <td>0.725830</td>\n",
       "      <td>0.136872</td>\n",
       "    </tr>\n",
       "    <tr>\n",
       "      <th>2</th>\n",
       "      <td>0.129979</td>\n",
       "      <td>-0.339294</td>\n",
       "      <td>-0.500620</td>\n",
       "      <td>-0.356074</td>\n",
       "      <td>-0.03431</td>\n",
       "      <td>0.0</td>\n",
       "      <td>0.138142</td>\n",
       "      <td>0.133177</td>\n",
       "      <td>0.025146</td>\n",
       "      <td>1.160913</td>\n",
       "      <td>...</td>\n",
       "      <td>-0.00664</td>\n",
       "      <td>-0.101661</td>\n",
       "      <td>-0.263741</td>\n",
       "      <td>0.743329</td>\n",
       "      <td>-0.502525</td>\n",
       "      <td>-0.138632</td>\n",
       "      <td>0.911546</td>\n",
       "      <td>-0.015217</td>\n",
       "      <td>0.930491</td>\n",
       "      <td>0.431908</td>\n",
       "    </tr>\n",
       "    <tr>\n",
       "      <th>3</th>\n",
       "      <td>-0.689343</td>\n",
       "      <td>-1.174003</td>\n",
       "      <td>-0.500620</td>\n",
       "      <td>2.808407</td>\n",
       "      <td>-0.03431</td>\n",
       "      <td>0.0</td>\n",
       "      <td>-0.738400</td>\n",
       "      <td>-0.690127</td>\n",
       "      <td>0.595957</td>\n",
       "      <td>0.111043</td>\n",
       "      <td>...</td>\n",
       "      <td>-0.00664</td>\n",
       "      <td>-0.101661</td>\n",
       "      <td>-0.263741</td>\n",
       "      <td>0.743329</td>\n",
       "      <td>-0.502525</td>\n",
       "      <td>-0.138632</td>\n",
       "      <td>0.314554</td>\n",
       "      <td>-0.430430</td>\n",
       "      <td>0.309880</td>\n",
       "      <td>-0.663938</td>\n",
       "    </tr>\n",
       "    <tr>\n",
       "      <th>4</th>\n",
       "      <td>-0.270465</td>\n",
       "      <td>-0.339294</td>\n",
       "      <td>-0.500620</td>\n",
       "      <td>-0.356074</td>\n",
       "      <td>-0.03431</td>\n",
       "      <td>0.0</td>\n",
       "      <td>-0.154039</td>\n",
       "      <td>-0.268902</td>\n",
       "      <td>-1.344800</td>\n",
       "      <td>1.160913</td>\n",
       "      <td>...</td>\n",
       "      <td>-0.00664</td>\n",
       "      <td>-0.101661</td>\n",
       "      <td>-0.263741</td>\n",
       "      <td>-1.345299</td>\n",
       "      <td>1.989951</td>\n",
       "      <td>-0.138632</td>\n",
       "      <td>-0.142775</td>\n",
       "      <td>0.399997</td>\n",
       "      <td>-0.166778</td>\n",
       "      <td>0.179020</td>\n",
       "    </tr>\n",
       "    <tr>\n",
       "      <th>...</th>\n",
       "      <td>...</td>\n",
       "      <td>...</td>\n",
       "      <td>...</td>\n",
       "      <td>...</td>\n",
       "      <td>...</td>\n",
       "      <td>...</td>\n",
       "      <td>...</td>\n",
       "      <td>...</td>\n",
       "      <td>...</td>\n",
       "      <td>...</td>\n",
       "      <td>...</td>\n",
       "      <td>...</td>\n",
       "      <td>...</td>\n",
       "      <td>...</td>\n",
       "      <td>...</td>\n",
       "      <td>...</td>\n",
       "      <td>...</td>\n",
       "      <td>...</td>\n",
       "      <td>...</td>\n",
       "      <td>...</td>\n",
       "      <td>...</td>\n",
       "    </tr>\n",
       "    <tr>\n",
       "      <th>68035</th>\n",
       "      <td>1.102156</td>\n",
       "      <td>0.495415</td>\n",
       "      <td>-0.500620</td>\n",
       "      <td>-0.356074</td>\n",
       "      <td>-0.03431</td>\n",
       "      <td>0.0</td>\n",
       "      <td>1.014684</td>\n",
       "      <td>1.100082</td>\n",
       "      <td>1.052606</td>\n",
       "      <td>-0.938827</td>\n",
       "      <td>...</td>\n",
       "      <td>-0.00664</td>\n",
       "      <td>-0.101661</td>\n",
       "      <td>-0.263741</td>\n",
       "      <td>0.743329</td>\n",
       "      <td>-0.502525</td>\n",
       "      <td>-0.138632</td>\n",
       "      <td>-0.831507</td>\n",
       "      <td>0.192390</td>\n",
       "      <td>-0.836963</td>\n",
       "      <td>-0.158163</td>\n",
       "    </tr>\n",
       "    <tr>\n",
       "      <th>68036</th>\n",
       "      <td>-0.289386</td>\n",
       "      <td>-1.174003</td>\n",
       "      <td>-0.500620</td>\n",
       "      <td>2.808407</td>\n",
       "      <td>-0.03431</td>\n",
       "      <td>0.0</td>\n",
       "      <td>-0.154039</td>\n",
       "      <td>-0.288048</td>\n",
       "      <td>-1.573124</td>\n",
       "      <td>0.111043</td>\n",
       "      <td>...</td>\n",
       "      <td>-0.00664</td>\n",
       "      <td>-0.101661</td>\n",
       "      <td>-0.263741</td>\n",
       "      <td>-1.345299</td>\n",
       "      <td>-0.502525</td>\n",
       "      <td>-0.138632</td>\n",
       "      <td>-0.330362</td>\n",
       "      <td>0.815210</td>\n",
       "      <td>-0.339891</td>\n",
       "      <td>0.937683</td>\n",
       "    </tr>\n",
       "    <tr>\n",
       "      <th>68037</th>\n",
       "      <td>0.016456</td>\n",
       "      <td>1.330124</td>\n",
       "      <td>-0.500620</td>\n",
       "      <td>-0.356074</td>\n",
       "      <td>-0.03431</td>\n",
       "      <td>0.0</td>\n",
       "      <td>0.138142</td>\n",
       "      <td>0.018298</td>\n",
       "      <td>-1.344800</td>\n",
       "      <td>-1.463761</td>\n",
       "      <td>...</td>\n",
       "      <td>-0.00664</td>\n",
       "      <td>-0.101661</td>\n",
       "      <td>-0.263741</td>\n",
       "      <td>0.743329</td>\n",
       "      <td>-0.502525</td>\n",
       "      <td>-0.138632</td>\n",
       "      <td>2.417719</td>\n",
       "      <td>1.230423</td>\n",
       "      <td>2.263172</td>\n",
       "      <td>0.431908</td>\n",
       "    </tr>\n",
       "    <tr>\n",
       "      <th>68038</th>\n",
       "      <td>-0.207708</td>\n",
       "      <td>-0.339294</td>\n",
       "      <td>1.997523</td>\n",
       "      <td>-0.356074</td>\n",
       "      <td>-0.03431</td>\n",
       "      <td>0.0</td>\n",
       "      <td>-0.154039</td>\n",
       "      <td>-0.211462</td>\n",
       "      <td>-0.659827</td>\n",
       "      <td>0.635978</td>\n",
       "      <td>...</td>\n",
       "      <td>-0.00664</td>\n",
       "      <td>-0.101661</td>\n",
       "      <td>-0.263741</td>\n",
       "      <td>0.743329</td>\n",
       "      <td>-0.502525</td>\n",
       "      <td>-0.138632</td>\n",
       "      <td>0.326877</td>\n",
       "      <td>0.607603</td>\n",
       "      <td>0.281514</td>\n",
       "      <td>0.136872</td>\n",
       "    </tr>\n",
       "    <tr>\n",
       "      <th>68039</th>\n",
       "      <td>-1.425891</td>\n",
       "      <td>-0.339294</td>\n",
       "      <td>-0.500620</td>\n",
       "      <td>-0.356074</td>\n",
       "      <td>-0.03431</td>\n",
       "      <td>0.0</td>\n",
       "      <td>-1.322762</td>\n",
       "      <td>-1.427272</td>\n",
       "      <td>-1.458962</td>\n",
       "      <td>0.111043</td>\n",
       "      <td>...</td>\n",
       "      <td>-0.00664</td>\n",
       "      <td>-0.101661</td>\n",
       "      <td>-0.263741</td>\n",
       "      <td>0.743329</td>\n",
       "      <td>-0.502525</td>\n",
       "      <td>-0.138632</td>\n",
       "      <td>2.016530</td>\n",
       "      <td>4.136916</td>\n",
       "      <td>1.892556</td>\n",
       "      <td>3.635151</td>\n",
       "    </tr>\n",
       "  </tbody>\n",
       "</table>\n",
       "<p>68040 rows × 34 columns</p>\n",
       "</div>"
      ],
      "text/plain": [
       "       published_utc  factuality  questionable-source  \\\n",
       "0           0.236385    1.330124            -0.500620   \n",
       "1           0.410721    1.330124            -0.500620   \n",
       "2           0.129979   -0.339294            -0.500620   \n",
       "3          -0.689343   -1.174003            -0.500620   \n",
       "4          -0.270465   -0.339294            -0.500620   \n",
       "...              ...         ...                  ...   \n",
       "68035       1.102156    0.495415            -0.500620   \n",
       "68036      -0.289386   -1.174003            -0.500620   \n",
       "68037       0.016456    1.330124            -0.500620   \n",
       "68038      -0.207708   -0.339294             1.997523   \n",
       "68039      -1.425891   -0.339294            -0.500620   \n",
       "\n",
       "       conspiracy-pseudoscience  pro-science  year     month  dayofyear  \\\n",
       "0                     -0.356074     -0.03431   0.0  0.138142   0.238484   \n",
       "1                     -0.356074     -0.03431   0.0  0.430322   0.410803   \n",
       "2                     -0.356074     -0.03431   0.0  0.138142   0.133177   \n",
       "3                      2.808407     -0.03431   0.0 -0.738400  -0.690127   \n",
       "4                     -0.356074     -0.03431   0.0 -0.154039  -0.268902   \n",
       "...                         ...          ...   ...       ...        ...   \n",
       "68035                 -0.356074     -0.03431   0.0  1.014684   1.100082   \n",
       "68036                  2.808407     -0.03431   0.0 -0.154039  -0.288048   \n",
       "68037                 -0.356074     -0.03431   0.0  0.138142   0.018298   \n",
       "68038                 -0.356074     -0.03431   0.0 -0.154039  -0.211462   \n",
       "68039                 -0.356074     -0.03431   0.0 -1.322762  -1.427272   \n",
       "\n",
       "       dayofthemonth   weekday  ...  Netherlands     Qatar    Russia  \\\n",
       "0           1.280930 -0.413892  ...     -0.00664 -0.101661 -0.263741   \n",
       "1          -0.203178  1.685848  ...     -0.00664 -0.101661 -0.263741   \n",
       "2           0.025146  1.160913  ...     -0.00664 -0.101661 -0.263741   \n",
       "3           0.595957  0.111043  ...     -0.00664 -0.101661 -0.263741   \n",
       "4          -1.344800  1.160913  ...     -0.00664 -0.101661 -0.263741   \n",
       "...              ...       ...  ...          ...       ...       ...   \n",
       "68035       1.052606 -0.938827  ...     -0.00664 -0.101661 -0.263741   \n",
       "68036      -1.573124  0.111043  ...     -0.00664 -0.101661 -0.263741   \n",
       "68037      -1.344800 -1.463761  ...     -0.00664 -0.101661 -0.263741   \n",
       "68038      -0.659827  0.635978  ...     -0.00664 -0.101661 -0.263741   \n",
       "68039      -1.458962  0.111043  ...     -0.00664 -0.101661 -0.263741   \n",
       "\n",
       "            USA  United Kingdom   Unknown  tok_content_length  \\\n",
       "0      0.743329       -0.502525 -0.138632           -0.597365   \n",
       "1     -1.345299        1.989951 -0.138632            0.699313   \n",
       "2      0.743329       -0.502525 -0.138632            0.911546   \n",
       "3      0.743329       -0.502525 -0.138632            0.314554   \n",
       "4     -1.345299        1.989951 -0.138632           -0.142775   \n",
       "...         ...             ...       ...                 ...   \n",
       "68035  0.743329       -0.502525 -0.138632           -0.831507   \n",
       "68036 -1.345299       -0.502525 -0.138632           -0.330362   \n",
       "68037  0.743329       -0.502525 -0.138632            2.417719   \n",
       "68038  0.743329       -0.502525 -0.138632            0.326877   \n",
       "68039  0.743329       -0.502525 -0.138632            2.016530   \n",
       "\n",
       "       tok_title_length  nb_character_content  nb_character_title  \n",
       "0             -0.638036             -0.603405           -0.790382  \n",
       "1              0.399997              0.725830            0.136872  \n",
       "2             -0.015217              0.930491            0.431908  \n",
       "3             -0.430430              0.309880           -0.663938  \n",
       "4              0.399997             -0.166778            0.179020  \n",
       "...                 ...                   ...                 ...  \n",
       "68035          0.192390             -0.836963           -0.158163  \n",
       "68036          0.815210             -0.339891            0.937683  \n",
       "68037          1.230423              2.263172            0.431908  \n",
       "68038          0.607603              0.281514            0.136872  \n",
       "68039          4.136916              1.892556            3.635151  \n",
       "\n",
       "[68040 rows x 34 columns]"
      ]
     },
     "execution_count": 74,
     "metadata": {},
     "output_type": "execute_result"
    }
   ],
   "source": [
    "x_train_scaled"
   ]
  },
  {
   "cell_type": "code",
   "execution_count": 75,
   "id": "332e6cb8",
   "metadata": {},
   "outputs": [
    {
     "data": {
      "text/html": [
       "<div>\n",
       "<style scoped>\n",
       "    .dataframe tbody tr th:only-of-type {\n",
       "        vertical-align: middle;\n",
       "    }\n",
       "\n",
       "    .dataframe tbody tr th {\n",
       "        vertical-align: top;\n",
       "    }\n",
       "\n",
       "    .dataframe thead th {\n",
       "        text-align: right;\n",
       "    }\n",
       "</style>\n",
       "<table border=\"1\" class=\"dataframe\">\n",
       "  <thead>\n",
       "    <tr style=\"text-align: right;\">\n",
       "      <th></th>\n",
       "      <th>published_utc</th>\n",
       "      <th>factuality</th>\n",
       "      <th>questionable-source</th>\n",
       "      <th>conspiracy-pseudoscience</th>\n",
       "      <th>pro-science</th>\n",
       "      <th>year</th>\n",
       "      <th>month</th>\n",
       "      <th>dayofyear</th>\n",
       "      <th>dayofthemonth</th>\n",
       "      <th>weekday</th>\n",
       "      <th>...</th>\n",
       "      <th>Netherlands</th>\n",
       "      <th>Qatar</th>\n",
       "      <th>Russia</th>\n",
       "      <th>USA</th>\n",
       "      <th>United Kingdom</th>\n",
       "      <th>Unknown</th>\n",
       "      <th>tok_content_length</th>\n",
       "      <th>tok_title_length</th>\n",
       "      <th>nb_character_content</th>\n",
       "      <th>nb_character_title</th>\n",
       "    </tr>\n",
       "  </thead>\n",
       "  <tbody>\n",
       "    <tr>\n",
       "      <th>0</th>\n",
       "      <td>-1.318544</td>\n",
       "      <td>1.330124</td>\n",
       "      <td>-0.500620</td>\n",
       "      <td>-0.356074</td>\n",
       "      <td>-0.03431</td>\n",
       "      <td>0.0</td>\n",
       "      <td>-1.322762</td>\n",
       "      <td>-1.321966</td>\n",
       "      <td>-0.203178</td>\n",
       "      <td>-1.463761</td>\n",
       "      <td>...</td>\n",
       "      <td>-0.00664</td>\n",
       "      <td>-0.101661</td>\n",
       "      <td>-0.263741</td>\n",
       "      <td>0.743329</td>\n",
       "      <td>-0.502525</td>\n",
       "      <td>-0.138632</td>\n",
       "      <td>-0.517949</td>\n",
       "      <td>-0.845643</td>\n",
       "      <td>-0.528116</td>\n",
       "      <td>-0.748234</td>\n",
       "    </tr>\n",
       "    <tr>\n",
       "      <th>1</th>\n",
       "      <td>-0.041297</td>\n",
       "      <td>-0.339294</td>\n",
       "      <td>-0.500620</td>\n",
       "      <td>-0.356074</td>\n",
       "      <td>-0.03431</td>\n",
       "      <td>0.0</td>\n",
       "      <td>-0.154039</td>\n",
       "      <td>-0.039142</td>\n",
       "      <td>1.395092</td>\n",
       "      <td>-0.938827</td>\n",
       "      <td>...</td>\n",
       "      <td>-0.00664</td>\n",
       "      <td>-0.101661</td>\n",
       "      <td>-0.263741</td>\n",
       "      <td>-1.345299</td>\n",
       "      <td>1.989951</td>\n",
       "      <td>-0.138632</td>\n",
       "      <td>-0.231776</td>\n",
       "      <td>-0.015217</td>\n",
       "      <td>-0.328492</td>\n",
       "      <td>-0.031719</td>\n",
       "    </tr>\n",
       "    <tr>\n",
       "      <th>2</th>\n",
       "      <td>1.171116</td>\n",
       "      <td>-0.339294</td>\n",
       "      <td>-0.500620</td>\n",
       "      <td>-0.356074</td>\n",
       "      <td>-0.03431</td>\n",
       "      <td>0.0</td>\n",
       "      <td>1.306864</td>\n",
       "      <td>1.176668</td>\n",
       "      <td>-1.573124</td>\n",
       "      <td>-0.413892</td>\n",
       "      <td>...</td>\n",
       "      <td>-0.00664</td>\n",
       "      <td>-0.101661</td>\n",
       "      <td>-0.263741</td>\n",
       "      <td>0.743329</td>\n",
       "      <td>-0.502525</td>\n",
       "      <td>-0.138632</td>\n",
       "      <td>-0.203022</td>\n",
       "      <td>-1.468463</td>\n",
       "      <td>-0.193023</td>\n",
       "      <td>-1.928376</td>\n",
       "    </tr>\n",
       "    <tr>\n",
       "      <th>3</th>\n",
       "      <td>0.095633</td>\n",
       "      <td>0.495415</td>\n",
       "      <td>-0.500620</td>\n",
       "      <td>-0.356074</td>\n",
       "      <td>-0.03431</td>\n",
       "      <td>0.0</td>\n",
       "      <td>0.138142</td>\n",
       "      <td>0.094884</td>\n",
       "      <td>-0.431502</td>\n",
       "      <td>-0.938827</td>\n",
       "      <td>...</td>\n",
       "      <td>-0.00664</td>\n",
       "      <td>-0.101661</td>\n",
       "      <td>-0.263741</td>\n",
       "      <td>-1.345299</td>\n",
       "      <td>1.989951</td>\n",
       "      <td>-0.138632</td>\n",
       "      <td>0.773252</td>\n",
       "      <td>0.192390</td>\n",
       "      <td>0.640996</td>\n",
       "      <td>0.010429</td>\n",
       "    </tr>\n",
       "    <tr>\n",
       "      <th>4</th>\n",
       "      <td>-0.690574</td>\n",
       "      <td>1.330124</td>\n",
       "      <td>-0.500620</td>\n",
       "      <td>-0.356074</td>\n",
       "      <td>-0.03431</td>\n",
       "      <td>0.0</td>\n",
       "      <td>-0.738400</td>\n",
       "      <td>-0.690127</td>\n",
       "      <td>0.595957</td>\n",
       "      <td>0.111043</td>\n",
       "      <td>...</td>\n",
       "      <td>-0.00664</td>\n",
       "      <td>-0.101661</td>\n",
       "      <td>-0.263741</td>\n",
       "      <td>0.743329</td>\n",
       "      <td>-0.502525</td>\n",
       "      <td>-0.138632</td>\n",
       "      <td>-0.413886</td>\n",
       "      <td>1.022817</td>\n",
       "      <td>-0.429762</td>\n",
       "      <td>0.600500</td>\n",
       "    </tr>\n",
       "    <tr>\n",
       "      <th>...</th>\n",
       "      <td>...</td>\n",
       "      <td>...</td>\n",
       "      <td>...</td>\n",
       "      <td>...</td>\n",
       "      <td>...</td>\n",
       "      <td>...</td>\n",
       "      <td>...</td>\n",
       "      <td>...</td>\n",
       "      <td>...</td>\n",
       "      <td>...</td>\n",
       "      <td>...</td>\n",
       "      <td>...</td>\n",
       "      <td>...</td>\n",
       "      <td>...</td>\n",
       "      <td>...</td>\n",
       "      <td>...</td>\n",
       "      <td>...</td>\n",
       "      <td>...</td>\n",
       "      <td>...</td>\n",
       "      <td>...</td>\n",
       "      <td>...</td>\n",
       "    </tr>\n",
       "    <tr>\n",
       "      <th>17006</th>\n",
       "      <td>-1.090491</td>\n",
       "      <td>-0.339294</td>\n",
       "      <td>-0.500620</td>\n",
       "      <td>-0.356074</td>\n",
       "      <td>-0.03431</td>\n",
       "      <td>0.0</td>\n",
       "      <td>-1.030581</td>\n",
       "      <td>-1.092206</td>\n",
       "      <td>-0.659827</td>\n",
       "      <td>0.111043</td>\n",
       "      <td>...</td>\n",
       "      <td>-0.00664</td>\n",
       "      <td>-0.101661</td>\n",
       "      <td>-0.263741</td>\n",
       "      <td>0.743329</td>\n",
       "      <td>-0.502525</td>\n",
       "      <td>-0.138632</td>\n",
       "      <td>-0.213976</td>\n",
       "      <td>-0.222823</td>\n",
       "      <td>-0.180298</td>\n",
       "      <td>0.305464</td>\n",
       "    </tr>\n",
       "    <tr>\n",
       "      <th>17007</th>\n",
       "      <td>0.017167</td>\n",
       "      <td>-2.008711</td>\n",
       "      <td>1.997523</td>\n",
       "      <td>-0.356074</td>\n",
       "      <td>-0.03431</td>\n",
       "      <td>0.0</td>\n",
       "      <td>0.138142</td>\n",
       "      <td>0.018298</td>\n",
       "      <td>-1.344800</td>\n",
       "      <td>-1.463761</td>\n",
       "      <td>...</td>\n",
       "      <td>-0.00664</td>\n",
       "      <td>-0.101661</td>\n",
       "      <td>3.791605</td>\n",
       "      <td>-1.345299</td>\n",
       "      <td>-0.502525</td>\n",
       "      <td>-0.138632</td>\n",
       "      <td>-0.831507</td>\n",
       "      <td>-0.430430</td>\n",
       "      <td>-0.836963</td>\n",
       "      <td>-0.200311</td>\n",
       "    </tr>\n",
       "    <tr>\n",
       "      <th>17008</th>\n",
       "      <td>-1.319128</td>\n",
       "      <td>0.495415</td>\n",
       "      <td>-0.500620</td>\n",
       "      <td>-0.356074</td>\n",
       "      <td>-0.03431</td>\n",
       "      <td>0.0</td>\n",
       "      <td>-1.322762</td>\n",
       "      <td>-1.321966</td>\n",
       "      <td>-0.203178</td>\n",
       "      <td>-1.463761</td>\n",
       "      <td>...</td>\n",
       "      <td>-0.00664</td>\n",
       "      <td>-0.101661</td>\n",
       "      <td>-0.263741</td>\n",
       "      <td>0.743329</td>\n",
       "      <td>-0.502525</td>\n",
       "      <td>-0.138632</td>\n",
       "      <td>0.897854</td>\n",
       "      <td>-0.430430</td>\n",
       "      <td>0.895497</td>\n",
       "      <td>-0.579642</td>\n",
       "    </tr>\n",
       "    <tr>\n",
       "      <th>17009</th>\n",
       "      <td>-0.842215</td>\n",
       "      <td>1.330124</td>\n",
       "      <td>-0.500620</td>\n",
       "      <td>-0.356074</td>\n",
       "      <td>-0.03431</td>\n",
       "      <td>0.0</td>\n",
       "      <td>-0.738400</td>\n",
       "      <td>-0.843300</td>\n",
       "      <td>-1.230638</td>\n",
       "      <td>-0.938827</td>\n",
       "      <td>...</td>\n",
       "      <td>-0.00664</td>\n",
       "      <td>-0.101661</td>\n",
       "      <td>-0.263741</td>\n",
       "      <td>0.743329</td>\n",
       "      <td>-0.502525</td>\n",
       "      <td>-0.138632</td>\n",
       "      <td>-0.712382</td>\n",
       "      <td>-0.845643</td>\n",
       "      <td>-0.717666</td>\n",
       "      <td>-0.579642</td>\n",
       "    </tr>\n",
       "    <tr>\n",
       "      <th>17010</th>\n",
       "      <td>-1.425379</td>\n",
       "      <td>-0.339294</td>\n",
       "      <td>-0.500620</td>\n",
       "      <td>-0.356074</td>\n",
       "      <td>-0.03431</td>\n",
       "      <td>0.0</td>\n",
       "      <td>-1.322762</td>\n",
       "      <td>-1.427272</td>\n",
       "      <td>-1.458962</td>\n",
       "      <td>0.111043</td>\n",
       "      <td>...</td>\n",
       "      <td>-0.00664</td>\n",
       "      <td>-0.101661</td>\n",
       "      <td>-0.263741</td>\n",
       "      <td>0.743329</td>\n",
       "      <td>-0.502525</td>\n",
       "      <td>-0.138632</td>\n",
       "      <td>0.997809</td>\n",
       "      <td>-0.430430</td>\n",
       "      <td>0.841946</td>\n",
       "      <td>-1.043270</td>\n",
       "    </tr>\n",
       "  </tbody>\n",
       "</table>\n",
       "<p>17011 rows × 34 columns</p>\n",
       "</div>"
      ],
      "text/plain": [
       "       published_utc  factuality  questionable-source  \\\n",
       "0          -1.318544    1.330124            -0.500620   \n",
       "1          -0.041297   -0.339294            -0.500620   \n",
       "2           1.171116   -0.339294            -0.500620   \n",
       "3           0.095633    0.495415            -0.500620   \n",
       "4          -0.690574    1.330124            -0.500620   \n",
       "...              ...         ...                  ...   \n",
       "17006      -1.090491   -0.339294            -0.500620   \n",
       "17007       0.017167   -2.008711             1.997523   \n",
       "17008      -1.319128    0.495415            -0.500620   \n",
       "17009      -0.842215    1.330124            -0.500620   \n",
       "17010      -1.425379   -0.339294            -0.500620   \n",
       "\n",
       "       conspiracy-pseudoscience  pro-science  year     month  dayofyear  \\\n",
       "0                     -0.356074     -0.03431   0.0 -1.322762  -1.321966   \n",
       "1                     -0.356074     -0.03431   0.0 -0.154039  -0.039142   \n",
       "2                     -0.356074     -0.03431   0.0  1.306864   1.176668   \n",
       "3                     -0.356074     -0.03431   0.0  0.138142   0.094884   \n",
       "4                     -0.356074     -0.03431   0.0 -0.738400  -0.690127   \n",
       "...                         ...          ...   ...       ...        ...   \n",
       "17006                 -0.356074     -0.03431   0.0 -1.030581  -1.092206   \n",
       "17007                 -0.356074     -0.03431   0.0  0.138142   0.018298   \n",
       "17008                 -0.356074     -0.03431   0.0 -1.322762  -1.321966   \n",
       "17009                 -0.356074     -0.03431   0.0 -0.738400  -0.843300   \n",
       "17010                 -0.356074     -0.03431   0.0 -1.322762  -1.427272   \n",
       "\n",
       "       dayofthemonth   weekday  ...  Netherlands     Qatar    Russia  \\\n",
       "0          -0.203178 -1.463761  ...     -0.00664 -0.101661 -0.263741   \n",
       "1           1.395092 -0.938827  ...     -0.00664 -0.101661 -0.263741   \n",
       "2          -1.573124 -0.413892  ...     -0.00664 -0.101661 -0.263741   \n",
       "3          -0.431502 -0.938827  ...     -0.00664 -0.101661 -0.263741   \n",
       "4           0.595957  0.111043  ...     -0.00664 -0.101661 -0.263741   \n",
       "...              ...       ...  ...          ...       ...       ...   \n",
       "17006      -0.659827  0.111043  ...     -0.00664 -0.101661 -0.263741   \n",
       "17007      -1.344800 -1.463761  ...     -0.00664 -0.101661  3.791605   \n",
       "17008      -0.203178 -1.463761  ...     -0.00664 -0.101661 -0.263741   \n",
       "17009      -1.230638 -0.938827  ...     -0.00664 -0.101661 -0.263741   \n",
       "17010      -1.458962  0.111043  ...     -0.00664 -0.101661 -0.263741   \n",
       "\n",
       "            USA  United Kingdom   Unknown  tok_content_length  \\\n",
       "0      0.743329       -0.502525 -0.138632           -0.517949   \n",
       "1     -1.345299        1.989951 -0.138632           -0.231776   \n",
       "2      0.743329       -0.502525 -0.138632           -0.203022   \n",
       "3     -1.345299        1.989951 -0.138632            0.773252   \n",
       "4      0.743329       -0.502525 -0.138632           -0.413886   \n",
       "...         ...             ...       ...                 ...   \n",
       "17006  0.743329       -0.502525 -0.138632           -0.213976   \n",
       "17007 -1.345299       -0.502525 -0.138632           -0.831507   \n",
       "17008  0.743329       -0.502525 -0.138632            0.897854   \n",
       "17009  0.743329       -0.502525 -0.138632           -0.712382   \n",
       "17010  0.743329       -0.502525 -0.138632            0.997809   \n",
       "\n",
       "       tok_title_length  nb_character_content  nb_character_title  \n",
       "0             -0.845643             -0.528116           -0.748234  \n",
       "1             -0.015217             -0.328492           -0.031719  \n",
       "2             -1.468463             -0.193023           -1.928376  \n",
       "3              0.192390              0.640996            0.010429  \n",
       "4              1.022817             -0.429762            0.600500  \n",
       "...                 ...                   ...                 ...  \n",
       "17006         -0.222823             -0.180298            0.305464  \n",
       "17007         -0.430430             -0.836963           -0.200311  \n",
       "17008         -0.430430              0.895497           -0.579642  \n",
       "17009         -0.845643             -0.717666           -0.579642  \n",
       "17010         -0.430430              0.841946           -1.043270  \n",
       "\n",
       "[17011 rows x 34 columns]"
      ]
     },
     "execution_count": 75,
     "metadata": {},
     "output_type": "execute_result"
    }
   ],
   "source": [
    "x_test_scaled"
   ]
  },
  {
   "cell_type": "code",
   "execution_count": null,
   "id": "a058c0c9",
   "metadata": {},
   "outputs": [],
   "source": []
  },
  {
   "cell_type": "code",
   "execution_count": null,
   "id": "a8a81e9b",
   "metadata": {},
   "outputs": [],
   "source": []
  },
  {
   "cell_type": "code",
   "execution_count": null,
   "id": "65c9efb5",
   "metadata": {},
   "outputs": [],
   "source": []
  },
  {
   "cell_type": "markdown",
   "id": "c2804424",
   "metadata": {},
   "source": [
    "# CREATE KNN ON SCALED DATA\n"
   ]
  },
  {
   "cell_type": "code",
   "execution_count": 76,
   "id": "5db2140e",
   "metadata": {},
   "outputs": [],
   "source": [
    "# STEP 3: Instantiate the model\n",
    "from sklearn.neighbors import KNeighborsClassifier\n",
    "\n",
    "knn = KNeighborsClassifier(n_neighbors = 6)\n"
   ]
  },
  {
   "cell_type": "code",
   "execution_count": 77,
   "id": "1ce48f2c",
   "metadata": {},
   "outputs": [
    {
     "data": {
      "text/html": [
       "<style>#sk-container-id-7 {color: black;background-color: white;}#sk-container-id-7 pre{padding: 0;}#sk-container-id-7 div.sk-toggleable {background-color: white;}#sk-container-id-7 label.sk-toggleable__label {cursor: pointer;display: block;width: 100%;margin-bottom: 0;padding: 0.3em;box-sizing: border-box;text-align: center;}#sk-container-id-7 label.sk-toggleable__label-arrow:before {content: \"▸\";float: left;margin-right: 0.25em;color: #696969;}#sk-container-id-7 label.sk-toggleable__label-arrow:hover:before {color: black;}#sk-container-id-7 div.sk-estimator:hover label.sk-toggleable__label-arrow:before {color: black;}#sk-container-id-7 div.sk-toggleable__content {max-height: 0;max-width: 0;overflow: hidden;text-align: left;background-color: #f0f8ff;}#sk-container-id-7 div.sk-toggleable__content pre {margin: 0.2em;color: black;border-radius: 0.25em;background-color: #f0f8ff;}#sk-container-id-7 input.sk-toggleable__control:checked~div.sk-toggleable__content {max-height: 200px;max-width: 100%;overflow: auto;}#sk-container-id-7 input.sk-toggleable__control:checked~label.sk-toggleable__label-arrow:before {content: \"▾\";}#sk-container-id-7 div.sk-estimator input.sk-toggleable__control:checked~label.sk-toggleable__label {background-color: #d4ebff;}#sk-container-id-7 div.sk-label input.sk-toggleable__control:checked~label.sk-toggleable__label {background-color: #d4ebff;}#sk-container-id-7 input.sk-hidden--visually {border: 0;clip: rect(1px 1px 1px 1px);clip: rect(1px, 1px, 1px, 1px);height: 1px;margin: -1px;overflow: hidden;padding: 0;position: absolute;width: 1px;}#sk-container-id-7 div.sk-estimator {font-family: monospace;background-color: #f0f8ff;border: 1px dotted black;border-radius: 0.25em;box-sizing: border-box;margin-bottom: 0.5em;}#sk-container-id-7 div.sk-estimator:hover {background-color: #d4ebff;}#sk-container-id-7 div.sk-parallel-item::after {content: \"\";width: 100%;border-bottom: 1px solid gray;flex-grow: 1;}#sk-container-id-7 div.sk-label:hover label.sk-toggleable__label {background-color: #d4ebff;}#sk-container-id-7 div.sk-serial::before {content: \"\";position: absolute;border-left: 1px solid gray;box-sizing: border-box;top: 0;bottom: 0;left: 50%;z-index: 0;}#sk-container-id-7 div.sk-serial {display: flex;flex-direction: column;align-items: center;background-color: white;padding-right: 0.2em;padding-left: 0.2em;position: relative;}#sk-container-id-7 div.sk-item {position: relative;z-index: 1;}#sk-container-id-7 div.sk-parallel {display: flex;align-items: stretch;justify-content: center;background-color: white;position: relative;}#sk-container-id-7 div.sk-item::before, #sk-container-id-7 div.sk-parallel-item::before {content: \"\";position: absolute;border-left: 1px solid gray;box-sizing: border-box;top: 0;bottom: 0;left: 50%;z-index: -1;}#sk-container-id-7 div.sk-parallel-item {display: flex;flex-direction: column;z-index: 1;position: relative;background-color: white;}#sk-container-id-7 div.sk-parallel-item:first-child::after {align-self: flex-end;width: 50%;}#sk-container-id-7 div.sk-parallel-item:last-child::after {align-self: flex-start;width: 50%;}#sk-container-id-7 div.sk-parallel-item:only-child::after {width: 0;}#sk-container-id-7 div.sk-dashed-wrapped {border: 1px dashed gray;margin: 0 0.4em 0.5em 0.4em;box-sizing: border-box;padding-bottom: 0.4em;background-color: white;}#sk-container-id-7 div.sk-label label {font-family: monospace;font-weight: bold;display: inline-block;line-height: 1.2em;}#sk-container-id-7 div.sk-label-container {text-align: center;}#sk-container-id-7 div.sk-container {/* jupyter's `normalize.less` sets `[hidden] { display: none; }` but bootstrap.min.css set `[hidden] { display: none !important; }` so we also need the `!important` here to be able to override the default hidden behavior on the sphinx rendered scikit-learn.org. See: https://github.com/scikit-learn/scikit-learn/issues/21755 */display: inline-block !important;position: relative;}#sk-container-id-7 div.sk-text-repr-fallback {display: none;}</style><div id=\"sk-container-id-7\" class=\"sk-top-container\"><div class=\"sk-text-repr-fallback\"><pre>KNeighborsClassifier(n_neighbors=6)</pre><b>In a Jupyter environment, please rerun this cell to show the HTML representation or trust the notebook. <br />On GitHub, the HTML representation is unable to render, please try loading this page with nbviewer.org.</b></div><div class=\"sk-container\" hidden><div class=\"sk-item\"><div class=\"sk-estimator sk-toggleable\"><input class=\"sk-toggleable__control sk-hidden--visually\" id=\"sk-estimator-id-7\" type=\"checkbox\" checked><label for=\"sk-estimator-id-7\" class=\"sk-toggleable__label sk-toggleable__label-arrow\">KNeighborsClassifier</label><div class=\"sk-toggleable__content\"><pre>KNeighborsClassifier(n_neighbors=6)</pre></div></div></div></div></div>"
      ],
      "text/plain": [
       "KNeighborsClassifier(n_neighbors=6)"
      ]
     },
     "execution_count": 77,
     "metadata": {},
     "output_type": "execute_result"
    }
   ],
   "source": [
    "# STEP 4: Fit the model\n",
    "\n",
    "knn.fit(x_train_scaled, y_train)\n"
   ]
  },
  {
   "cell_type": "code",
   "execution_count": 78,
   "id": "42c80022",
   "metadata": {},
   "outputs": [],
   "source": [
    "# STEP 5: Predict\n",
    "y_pred_knn = knn.predict(x_test_scaled)\n"
   ]
  },
  {
   "cell_type": "code",
   "execution_count": 79,
   "id": "bdcdb441",
   "metadata": {},
   "outputs": [
    {
     "data": {
      "text/html": [
       "<div>\n",
       "<style scoped>\n",
       "    .dataframe tbody tr th:only-of-type {\n",
       "        vertical-align: middle;\n",
       "    }\n",
       "\n",
       "    .dataframe tbody tr th {\n",
       "        vertical-align: top;\n",
       "    }\n",
       "\n",
       "    .dataframe thead th {\n",
       "        text-align: right;\n",
       "    }\n",
       "</style>\n",
       "<table border=\"1\" class=\"dataframe\">\n",
       "  <thead>\n",
       "    <tr style=\"text-align: right;\">\n",
       "      <th>Prediction</th>\n",
       "      <th>0.0</th>\n",
       "      <th>1.0</th>\n",
       "      <th>2.0</th>\n",
       "    </tr>\n",
       "    <tr>\n",
       "      <th>Reality</th>\n",
       "      <th></th>\n",
       "      <th></th>\n",
       "      <th></th>\n",
       "    </tr>\n",
       "  </thead>\n",
       "  <tbody>\n",
       "    <tr>\n",
       "      <th>0.0</th>\n",
       "      <td>6682</td>\n",
       "      <td>1</td>\n",
       "      <td>672</td>\n",
       "    </tr>\n",
       "    <tr>\n",
       "      <th>1.0</th>\n",
       "      <td>8</td>\n",
       "      <td>5240</td>\n",
       "      <td>3</td>\n",
       "    </tr>\n",
       "    <tr>\n",
       "      <th>2.0</th>\n",
       "      <td>552</td>\n",
       "      <td>0</td>\n",
       "      <td>3853</td>\n",
       "    </tr>\n",
       "  </tbody>\n",
       "</table>\n",
       "</div>"
      ],
      "text/plain": [
       "Prediction   0.0   1.0   2.0\n",
       "Reality                     \n",
       "0.0         6682     1   672\n",
       "1.0            8  5240     3\n",
       "2.0          552     0  3853"
      ]
     },
     "execution_count": 79,
     "metadata": {},
     "output_type": "execute_result"
    }
   ],
   "source": [
    "from sklearn.metrics import accuracy_score, precision_score, recall_score \n",
    "\n",
    "pd.crosstab(y_test, y_pred_knn, rownames = ['Reality'], colnames = ['Prediction'])\n",
    "\n",
    "### looks ok"
   ]
  },
  {
   "cell_type": "code",
   "execution_count": 80,
   "id": "b0ab79f1",
   "metadata": {},
   "outputs": [
    {
     "data": {
      "text/plain": [
       "0.927341132208571"
      ]
     },
     "execution_count": 80,
     "metadata": {},
     "output_type": "execute_result"
    }
   ],
   "source": [
    "# STEP 8: Evaluate model with score\n",
    "# get accuracy\n",
    "accuracy_knn = knn.score(x_test_scaled, y_test)\n",
    "accuracy_knn\n",
    "\n",
    "# WOW\n",
    "\n",
    "# almost 100% accuracy for fake news!\n",
    "# 0.927\n"
   ]
  },
  {
   "cell_type": "code",
   "execution_count": 81,
   "id": "1843c954",
   "metadata": {},
   "outputs": [
    {
     "name": "stdout",
     "output_type": "stream",
     "text": [
      "KNN classification report:\n",
      "               precision    recall  f1-score   support\n",
      "\n",
      "         0.0       0.92      0.91      0.92      7355\n",
      "         1.0       1.00      1.00      1.00      5251\n",
      "         2.0       0.85      0.87      0.86      4405\n",
      "\n",
      "    accuracy                           0.93     17011\n",
      "   macro avg       0.92      0.93      0.93     17011\n",
      "weighted avg       0.93      0.93      0.93     17011\n",
      "\n"
     ]
    }
   ],
   "source": [
    "# STEP 9: Evaluate model with classification report\n",
    "from sklearn.metrics import classification_report \n",
    "\n",
    "print(\"KNN classification report:\\n\", classification_report (y_test, y_pred_knn))\n"
   ]
  },
  {
   "cell_type": "code",
   "execution_count": 82,
   "id": "c759e4fa",
   "metadata": {},
   "outputs": [
    {
     "name": "stdout",
     "output_type": "stream",
     "text": [
      "Confusion Matrix:\n",
      " [[6682    1  672]\n",
      " [   8 5240    3]\n",
      " [ 552    0 3853]]\n"
     ]
    }
   ],
   "source": [
    "# STEP 7: Evaluate Model with confusion matrix \n",
    "from sklearn.metrics import confusion_matrix \n",
    "\n",
    "conf_matrix_knn = confusion_matrix(y_test, y_pred_knn)\n",
    "\n",
    "print(\"Confusion Matrix:\\n\",  conf_matrix_knn)\n"
   ]
  },
  {
   "cell_type": "code",
   "execution_count": null,
   "id": "d83c8e9c",
   "metadata": {},
   "outputs": [],
   "source": []
  },
  {
   "cell_type": "code",
   "execution_count": null,
   "id": "44690414",
   "metadata": {},
   "outputs": [],
   "source": []
  },
  {
   "cell_type": "code",
   "execution_count": null,
   "id": "a7636890",
   "metadata": {},
   "outputs": [],
   "source": []
  },
  {
   "cell_type": "markdown",
   "id": "cb711a1e",
   "metadata": {},
   "source": [
    "# CREATE SVM ON SCALED DATA\n",
    "# takes 4 Minutes\n"
   ]
  },
  {
   "cell_type": "code",
   "execution_count": null,
   "id": "68d0b038",
   "metadata": {},
   "outputs": [],
   "source": [
    "# SVM - needs standardization\n"
   ]
  },
  {
   "cell_type": "code",
   "execution_count": 83,
   "id": "a7932648",
   "metadata": {},
   "outputs": [],
   "source": [
    "# Step 3: Instantiate model \n",
    "from sklearn import svm\n",
    "clf_SVM = svm.SVC(gamma=0.01, kernel=\"poly\")\n"
   ]
  },
  {
   "cell_type": "code",
   "execution_count": 84,
   "id": "bd18429d",
   "metadata": {},
   "outputs": [
    {
     "data": {
      "text/html": [
       "<style>#sk-container-id-8 {color: black;background-color: white;}#sk-container-id-8 pre{padding: 0;}#sk-container-id-8 div.sk-toggleable {background-color: white;}#sk-container-id-8 label.sk-toggleable__label {cursor: pointer;display: block;width: 100%;margin-bottom: 0;padding: 0.3em;box-sizing: border-box;text-align: center;}#sk-container-id-8 label.sk-toggleable__label-arrow:before {content: \"▸\";float: left;margin-right: 0.25em;color: #696969;}#sk-container-id-8 label.sk-toggleable__label-arrow:hover:before {color: black;}#sk-container-id-8 div.sk-estimator:hover label.sk-toggleable__label-arrow:before {color: black;}#sk-container-id-8 div.sk-toggleable__content {max-height: 0;max-width: 0;overflow: hidden;text-align: left;background-color: #f0f8ff;}#sk-container-id-8 div.sk-toggleable__content pre {margin: 0.2em;color: black;border-radius: 0.25em;background-color: #f0f8ff;}#sk-container-id-8 input.sk-toggleable__control:checked~div.sk-toggleable__content {max-height: 200px;max-width: 100%;overflow: auto;}#sk-container-id-8 input.sk-toggleable__control:checked~label.sk-toggleable__label-arrow:before {content: \"▾\";}#sk-container-id-8 div.sk-estimator input.sk-toggleable__control:checked~label.sk-toggleable__label {background-color: #d4ebff;}#sk-container-id-8 div.sk-label input.sk-toggleable__control:checked~label.sk-toggleable__label {background-color: #d4ebff;}#sk-container-id-8 input.sk-hidden--visually {border: 0;clip: rect(1px 1px 1px 1px);clip: rect(1px, 1px, 1px, 1px);height: 1px;margin: -1px;overflow: hidden;padding: 0;position: absolute;width: 1px;}#sk-container-id-8 div.sk-estimator {font-family: monospace;background-color: #f0f8ff;border: 1px dotted black;border-radius: 0.25em;box-sizing: border-box;margin-bottom: 0.5em;}#sk-container-id-8 div.sk-estimator:hover {background-color: #d4ebff;}#sk-container-id-8 div.sk-parallel-item::after {content: \"\";width: 100%;border-bottom: 1px solid gray;flex-grow: 1;}#sk-container-id-8 div.sk-label:hover label.sk-toggleable__label {background-color: #d4ebff;}#sk-container-id-8 div.sk-serial::before {content: \"\";position: absolute;border-left: 1px solid gray;box-sizing: border-box;top: 0;bottom: 0;left: 50%;z-index: 0;}#sk-container-id-8 div.sk-serial {display: flex;flex-direction: column;align-items: center;background-color: white;padding-right: 0.2em;padding-left: 0.2em;position: relative;}#sk-container-id-8 div.sk-item {position: relative;z-index: 1;}#sk-container-id-8 div.sk-parallel {display: flex;align-items: stretch;justify-content: center;background-color: white;position: relative;}#sk-container-id-8 div.sk-item::before, #sk-container-id-8 div.sk-parallel-item::before {content: \"\";position: absolute;border-left: 1px solid gray;box-sizing: border-box;top: 0;bottom: 0;left: 50%;z-index: -1;}#sk-container-id-8 div.sk-parallel-item {display: flex;flex-direction: column;z-index: 1;position: relative;background-color: white;}#sk-container-id-8 div.sk-parallel-item:first-child::after {align-self: flex-end;width: 50%;}#sk-container-id-8 div.sk-parallel-item:last-child::after {align-self: flex-start;width: 50%;}#sk-container-id-8 div.sk-parallel-item:only-child::after {width: 0;}#sk-container-id-8 div.sk-dashed-wrapped {border: 1px dashed gray;margin: 0 0.4em 0.5em 0.4em;box-sizing: border-box;padding-bottom: 0.4em;background-color: white;}#sk-container-id-8 div.sk-label label {font-family: monospace;font-weight: bold;display: inline-block;line-height: 1.2em;}#sk-container-id-8 div.sk-label-container {text-align: center;}#sk-container-id-8 div.sk-container {/* jupyter's `normalize.less` sets `[hidden] { display: none; }` but bootstrap.min.css set `[hidden] { display: none !important; }` so we also need the `!important` here to be able to override the default hidden behavior on the sphinx rendered scikit-learn.org. See: https://github.com/scikit-learn/scikit-learn/issues/21755 */display: inline-block !important;position: relative;}#sk-container-id-8 div.sk-text-repr-fallback {display: none;}</style><div id=\"sk-container-id-8\" class=\"sk-top-container\"><div class=\"sk-text-repr-fallback\"><pre>SVC(gamma=0.01, kernel=&#x27;poly&#x27;)</pre><b>In a Jupyter environment, please rerun this cell to show the HTML representation or trust the notebook. <br />On GitHub, the HTML representation is unable to render, please try loading this page with nbviewer.org.</b></div><div class=\"sk-container\" hidden><div class=\"sk-item\"><div class=\"sk-estimator sk-toggleable\"><input class=\"sk-toggleable__control sk-hidden--visually\" id=\"sk-estimator-id-8\" type=\"checkbox\" checked><label for=\"sk-estimator-id-8\" class=\"sk-toggleable__label sk-toggleable__label-arrow\">SVC</label><div class=\"sk-toggleable__content\"><pre>SVC(gamma=0.01, kernel=&#x27;poly&#x27;)</pre></div></div></div></div></div>"
      ],
      "text/plain": [
       "SVC(gamma=0.01, kernel='poly')"
      ]
     },
     "execution_count": 84,
     "metadata": {},
     "output_type": "execute_result"
    }
   ],
   "source": [
    "# Step 4: Fit the model on the training dataset\n",
    "clf_SVM.fit(x_train_scaled, y_train)\n",
    "\n",
    "# takes 4 minutes"
   ]
  },
  {
   "cell_type": "code",
   "execution_count": 85,
   "id": "c0faeffd",
   "metadata": {},
   "outputs": [
    {
     "data": {
      "text/plain": [
       "0.8691434953853389"
      ]
     },
     "execution_count": 85,
     "metadata": {},
     "output_type": "execute_result"
    }
   ],
   "source": [
    "# get accuracy\n",
    "accuracy_SVM = clf_SVM.score(x_test_scaled, y_test)\n",
    "accuracy_SVM\n",
    "\n",
    "# nice!\n",
    "# 0.869\n"
   ]
  },
  {
   "cell_type": "code",
   "execution_count": 86,
   "id": "6ad245e2",
   "metadata": {},
   "outputs": [
    {
     "data": {
      "text/html": [
       "<div>\n",
       "<style scoped>\n",
       "    .dataframe tbody tr th:only-of-type {\n",
       "        vertical-align: middle;\n",
       "    }\n",
       "\n",
       "    .dataframe tbody tr th {\n",
       "        vertical-align: top;\n",
       "    }\n",
       "\n",
       "    .dataframe thead th {\n",
       "        text-align: right;\n",
       "    }\n",
       "</style>\n",
       "<table border=\"1\" class=\"dataframe\">\n",
       "  <thead>\n",
       "    <tr style=\"text-align: right;\">\n",
       "      <th>predict</th>\n",
       "      <th>0.0</th>\n",
       "      <th>1.0</th>\n",
       "      <th>2.0</th>\n",
       "    </tr>\n",
       "    <tr>\n",
       "      <th>real</th>\n",
       "      <th></th>\n",
       "      <th></th>\n",
       "      <th></th>\n",
       "    </tr>\n",
       "  </thead>\n",
       "  <tbody>\n",
       "    <tr>\n",
       "      <th>0.0</th>\n",
       "      <td>6962</td>\n",
       "      <td>0</td>\n",
       "      <td>393</td>\n",
       "    </tr>\n",
       "    <tr>\n",
       "      <th>1.0</th>\n",
       "      <td>0</td>\n",
       "      <td>5242</td>\n",
       "      <td>9</td>\n",
       "    </tr>\n",
       "    <tr>\n",
       "      <th>2.0</th>\n",
       "      <td>1824</td>\n",
       "      <td>0</td>\n",
       "      <td>2581</td>\n",
       "    </tr>\n",
       "  </tbody>\n",
       "</table>\n",
       "</div>"
      ],
      "text/plain": [
       "predict   0.0   1.0   2.0\n",
       "real                     \n",
       "0.0      6962     0   393\n",
       "1.0         0  5242     9\n",
       "2.0      1824     0  2581"
      ]
     },
     "execution_count": 86,
     "metadata": {},
     "output_type": "execute_result"
    }
   ],
   "source": [
    "# get confusion matrix\n",
    "y_pred_SVM = clf_SVM.predict(x_test_scaled)\n",
    "pd.crosstab(y_test, y_pred_SVM, rownames=[\"real\"], colnames=[\"predict\"])\n",
    "\n",
    "# looks really good\n",
    "# almots perfect for fake news\n"
   ]
  },
  {
   "cell_type": "code",
   "execution_count": 87,
   "id": "21d2e4e7",
   "metadata": {},
   "outputs": [
    {
     "name": "stdout",
     "output_type": "stream",
     "text": [
      "SVM classification report:\n",
      "                precision    recall  f1-score   support\n",
      "\n",
      "         0.0       0.79      0.95      0.86      7355\n",
      "         1.0       1.00      1.00      1.00      5251\n",
      "         2.0       0.87      0.59      0.70      4405\n",
      "\n",
      "    accuracy                           0.87     17011\n",
      "   macro avg       0.89      0.84      0.85     17011\n",
      "weighted avg       0.88      0.87      0.86     17011\n",
      "\n"
     ]
    }
   ],
   "source": [
    "from sklearn.metrics import classification_report \n",
    "\n",
    "# get classification report\n",
    "print(\"SVM classification report:\\n \", classification_report (y_test, y_pred_SVM))\n"
   ]
  },
  {
   "cell_type": "code",
   "execution_count": 88,
   "id": "f6e56aa0",
   "metadata": {},
   "outputs": [
    {
     "name": "stdout",
     "output_type": "stream",
     "text": [
      "[[6962    0  393]\n",
      " [   0 5242    9]\n",
      " [1824    0 2581]]\n"
     ]
    }
   ],
   "source": [
    "# create confusion matrix\n",
    "cf_matrix_SVM = confusion_matrix(y_test, y_pred_SVM)\n",
    "print(cf_matrix_SVM)\n",
    "\n",
    "# almost 100% accuracy for fake news!"
   ]
  },
  {
   "cell_type": "code",
   "execution_count": null,
   "id": "c60c9c8d",
   "metadata": {},
   "outputs": [],
   "source": []
  },
  {
   "cell_type": "code",
   "execution_count": null,
   "id": "47745c23",
   "metadata": {},
   "outputs": [],
   "source": []
  },
  {
   "cell_type": "code",
   "execution_count": null,
   "id": "dc873418",
   "metadata": {},
   "outputs": [],
   "source": []
  },
  {
   "cell_type": "markdown",
   "id": "8b673750",
   "metadata": {},
   "source": [
    "# CREATE LOGISTIC REGRESSION ON SCALED DATA"
   ]
  },
  {
   "cell_type": "code",
   "execution_count": null,
   "id": "e95ab2e9",
   "metadata": {},
   "outputs": [],
   "source": [
    "# Logistic Regression - needs standardization\n"
   ]
  },
  {
   "cell_type": "code",
   "execution_count": 89,
   "id": "2cd249d5",
   "metadata": {},
   "outputs": [],
   "source": [
    "# Step 3: Instantiate model \n",
    "from sklearn.linear_model import LogisticRegression\n",
    "\n",
    "clf_LogReg = LogisticRegression(C=1.0)\n"
   ]
  },
  {
   "cell_type": "code",
   "execution_count": 90,
   "id": "4f77e7ce",
   "metadata": {},
   "outputs": [
    {
     "name": "stderr",
     "output_type": "stream",
     "text": [
      "C:\\Users\\Nutzer\\anaconda3\\lib\\site-packages\\sklearn\\linear_model\\_logistic.py:458: ConvergenceWarning: lbfgs failed to converge (status=1):\n",
      "STOP: TOTAL NO. of ITERATIONS REACHED LIMIT.\n",
      "\n",
      "Increase the number of iterations (max_iter) or scale the data as shown in:\n",
      "    https://scikit-learn.org/stable/modules/preprocessing.html\n",
      "Please also refer to the documentation for alternative solver options:\n",
      "    https://scikit-learn.org/stable/modules/linear_model.html#logistic-regression\n",
      "  n_iter_i = _check_optimize_result(\n"
     ]
    },
    {
     "data": {
      "text/html": [
       "<style>#sk-container-id-9 {color: black;background-color: white;}#sk-container-id-9 pre{padding: 0;}#sk-container-id-9 div.sk-toggleable {background-color: white;}#sk-container-id-9 label.sk-toggleable__label {cursor: pointer;display: block;width: 100%;margin-bottom: 0;padding: 0.3em;box-sizing: border-box;text-align: center;}#sk-container-id-9 label.sk-toggleable__label-arrow:before {content: \"▸\";float: left;margin-right: 0.25em;color: #696969;}#sk-container-id-9 label.sk-toggleable__label-arrow:hover:before {color: black;}#sk-container-id-9 div.sk-estimator:hover label.sk-toggleable__label-arrow:before {color: black;}#sk-container-id-9 div.sk-toggleable__content {max-height: 0;max-width: 0;overflow: hidden;text-align: left;background-color: #f0f8ff;}#sk-container-id-9 div.sk-toggleable__content pre {margin: 0.2em;color: black;border-radius: 0.25em;background-color: #f0f8ff;}#sk-container-id-9 input.sk-toggleable__control:checked~div.sk-toggleable__content {max-height: 200px;max-width: 100%;overflow: auto;}#sk-container-id-9 input.sk-toggleable__control:checked~label.sk-toggleable__label-arrow:before {content: \"▾\";}#sk-container-id-9 div.sk-estimator input.sk-toggleable__control:checked~label.sk-toggleable__label {background-color: #d4ebff;}#sk-container-id-9 div.sk-label input.sk-toggleable__control:checked~label.sk-toggleable__label {background-color: #d4ebff;}#sk-container-id-9 input.sk-hidden--visually {border: 0;clip: rect(1px 1px 1px 1px);clip: rect(1px, 1px, 1px, 1px);height: 1px;margin: -1px;overflow: hidden;padding: 0;position: absolute;width: 1px;}#sk-container-id-9 div.sk-estimator {font-family: monospace;background-color: #f0f8ff;border: 1px dotted black;border-radius: 0.25em;box-sizing: border-box;margin-bottom: 0.5em;}#sk-container-id-9 div.sk-estimator:hover {background-color: #d4ebff;}#sk-container-id-9 div.sk-parallel-item::after {content: \"\";width: 100%;border-bottom: 1px solid gray;flex-grow: 1;}#sk-container-id-9 div.sk-label:hover label.sk-toggleable__label {background-color: #d4ebff;}#sk-container-id-9 div.sk-serial::before {content: \"\";position: absolute;border-left: 1px solid gray;box-sizing: border-box;top: 0;bottom: 0;left: 50%;z-index: 0;}#sk-container-id-9 div.sk-serial {display: flex;flex-direction: column;align-items: center;background-color: white;padding-right: 0.2em;padding-left: 0.2em;position: relative;}#sk-container-id-9 div.sk-item {position: relative;z-index: 1;}#sk-container-id-9 div.sk-parallel {display: flex;align-items: stretch;justify-content: center;background-color: white;position: relative;}#sk-container-id-9 div.sk-item::before, #sk-container-id-9 div.sk-parallel-item::before {content: \"\";position: absolute;border-left: 1px solid gray;box-sizing: border-box;top: 0;bottom: 0;left: 50%;z-index: -1;}#sk-container-id-9 div.sk-parallel-item {display: flex;flex-direction: column;z-index: 1;position: relative;background-color: white;}#sk-container-id-9 div.sk-parallel-item:first-child::after {align-self: flex-end;width: 50%;}#sk-container-id-9 div.sk-parallel-item:last-child::after {align-self: flex-start;width: 50%;}#sk-container-id-9 div.sk-parallel-item:only-child::after {width: 0;}#sk-container-id-9 div.sk-dashed-wrapped {border: 1px dashed gray;margin: 0 0.4em 0.5em 0.4em;box-sizing: border-box;padding-bottom: 0.4em;background-color: white;}#sk-container-id-9 div.sk-label label {font-family: monospace;font-weight: bold;display: inline-block;line-height: 1.2em;}#sk-container-id-9 div.sk-label-container {text-align: center;}#sk-container-id-9 div.sk-container {/* jupyter's `normalize.less` sets `[hidden] { display: none; }` but bootstrap.min.css set `[hidden] { display: none !important; }` so we also need the `!important` here to be able to override the default hidden behavior on the sphinx rendered scikit-learn.org. See: https://github.com/scikit-learn/scikit-learn/issues/21755 */display: inline-block !important;position: relative;}#sk-container-id-9 div.sk-text-repr-fallback {display: none;}</style><div id=\"sk-container-id-9\" class=\"sk-top-container\"><div class=\"sk-text-repr-fallback\"><pre>LogisticRegression()</pre><b>In a Jupyter environment, please rerun this cell to show the HTML representation or trust the notebook. <br />On GitHub, the HTML representation is unable to render, please try loading this page with nbviewer.org.</b></div><div class=\"sk-container\" hidden><div class=\"sk-item\"><div class=\"sk-estimator sk-toggleable\"><input class=\"sk-toggleable__control sk-hidden--visually\" id=\"sk-estimator-id-9\" type=\"checkbox\" checked><label for=\"sk-estimator-id-9\" class=\"sk-toggleable__label sk-toggleable__label-arrow\">LogisticRegression</label><div class=\"sk-toggleable__content\"><pre>LogisticRegression()</pre></div></div></div></div></div>"
      ],
      "text/plain": [
       "LogisticRegression()"
      ]
     },
     "execution_count": 90,
     "metadata": {},
     "output_type": "execute_result"
    }
   ],
   "source": [
    "# Step 4: Fit the model on the training dataset\n",
    "clf_LogReg.fit(x_train_scaled, y_train)\n"
   ]
  },
  {
   "cell_type": "code",
   "execution_count": 91,
   "id": "3d89fa34",
   "metadata": {},
   "outputs": [
    {
     "data": {
      "text/plain": [
       "0.9448592087472811"
      ]
     },
     "execution_count": 91,
     "metadata": {},
     "output_type": "execute_result"
    }
   ],
   "source": [
    "# get accuracy\n",
    "accuracy_logReg = clf_LogReg.score(x_test_scaled, y_test)\n",
    "accuracy_logReg\n",
    "\n",
    "# WOW!!!\n",
    "\n",
    "# 0.944\n"
   ]
  },
  {
   "cell_type": "code",
   "execution_count": 92,
   "id": "175fa18f",
   "metadata": {},
   "outputs": [
    {
     "data": {
      "text/html": [
       "<div>\n",
       "<style scoped>\n",
       "    .dataframe tbody tr th:only-of-type {\n",
       "        vertical-align: middle;\n",
       "    }\n",
       "\n",
       "    .dataframe tbody tr th {\n",
       "        vertical-align: top;\n",
       "    }\n",
       "\n",
       "    .dataframe thead th {\n",
       "        text-align: right;\n",
       "    }\n",
       "</style>\n",
       "<table border=\"1\" class=\"dataframe\">\n",
       "  <thead>\n",
       "    <tr style=\"text-align: right;\">\n",
       "      <th>predict</th>\n",
       "      <th>0.0</th>\n",
       "      <th>1.0</th>\n",
       "      <th>2.0</th>\n",
       "    </tr>\n",
       "    <tr>\n",
       "      <th>real</th>\n",
       "      <th></th>\n",
       "      <th></th>\n",
       "      <th></th>\n",
       "    </tr>\n",
       "  </thead>\n",
       "  <tbody>\n",
       "    <tr>\n",
       "      <th>0.0</th>\n",
       "      <td>6456</td>\n",
       "      <td>0</td>\n",
       "      <td>899</td>\n",
       "    </tr>\n",
       "    <tr>\n",
       "      <th>1.0</th>\n",
       "      <td>0</td>\n",
       "      <td>5251</td>\n",
       "      <td>0</td>\n",
       "    </tr>\n",
       "    <tr>\n",
       "      <th>2.0</th>\n",
       "      <td>39</td>\n",
       "      <td>0</td>\n",
       "      <td>4366</td>\n",
       "    </tr>\n",
       "  </tbody>\n",
       "</table>\n",
       "</div>"
      ],
      "text/plain": [
       "predict   0.0   1.0   2.0\n",
       "real                     \n",
       "0.0      6456     0   899\n",
       "1.0         0  5251     0\n",
       "2.0        39     0  4366"
      ]
     },
     "execution_count": 92,
     "metadata": {},
     "output_type": "execute_result"
    }
   ],
   "source": [
    "# get confusion matrix\n",
    "y_pred_LogReg = clf_LogReg.predict(x_test_scaled)\n",
    "pd.crosstab(y_test, y_pred_LogReg, rownames=[\"real\"], colnames=[\"predict\"])\n",
    "\n",
    "# looks super good\n",
    "# 100% correct prediction for fake news!!!\n"
   ]
  },
  {
   "cell_type": "code",
   "execution_count": 93,
   "id": "15ee508d",
   "metadata": {},
   "outputs": [
    {
     "name": "stdout",
     "output_type": "stream",
     "text": [
      "Logistic Regression classification report:\n",
      "                precision    recall  f1-score   support\n",
      "\n",
      "         0.0       0.99      0.88      0.93      7355\n",
      "         1.0       1.00      1.00      1.00      5251\n",
      "         2.0       0.83      0.99      0.90      4405\n",
      "\n",
      "    accuracy                           0.94     17011\n",
      "   macro avg       0.94      0.96      0.95     17011\n",
      "weighted avg       0.95      0.94      0.95     17011\n",
      "\n"
     ]
    }
   ],
   "source": [
    "from sklearn.metrics import classification_report \n",
    "\n",
    "# get classification report\n",
    "print(\"Logistic Regression classification report:\\n \", classification_report (y_test, y_pred_LogReg))\n"
   ]
  },
  {
   "cell_type": "code",
   "execution_count": 94,
   "id": "07e71396",
   "metadata": {},
   "outputs": [
    {
     "name": "stdout",
     "output_type": "stream",
     "text": [
      "[[6456    0  899]\n",
      " [   0 5251    0]\n",
      " [  39    0 4366]]\n"
     ]
    }
   ],
   "source": [
    "# create confusion matrix\n",
    "cf_matrix_LogReg = confusion_matrix(y_test, y_pred_LogReg)\n",
    "print(cf_matrix_LogReg)\n",
    "\n",
    "# 100% accuracy for fake news!\n"
   ]
  },
  {
   "cell_type": "code",
   "execution_count": null,
   "id": "86dc750b",
   "metadata": {},
   "outputs": [],
   "source": []
  },
  {
   "cell_type": "code",
   "execution_count": null,
   "id": "1487a7ba",
   "metadata": {},
   "outputs": [],
   "source": []
  },
  {
   "cell_type": "code",
   "execution_count": null,
   "id": "5acf5f25",
   "metadata": {},
   "outputs": [],
   "source": []
  },
  {
   "cell_type": "markdown",
   "id": "4bfb3416",
   "metadata": {},
   "source": [
    "# COMPARE MODELS ON NUMERIC DATA ONLY\n"
   ]
  },
  {
   "cell_type": "code",
   "execution_count": 95,
   "id": "ec7e02e4",
   "metadata": {},
   "outputs": [
    {
     "name": "stdout",
     "output_type": "stream",
     "text": [
      "LightGBM accuracy score : 0.6993709952383752\n",
      "Naive Bayes Bernoulli accuracy score : 0.7734995003233202\n",
      "Naive Bayes Multinomial accuracy score : 0.3325495267767915\n",
      "Naive Bayes Complement accuracy score : 0.3272000470283934\n",
      "Naive Bayes Gaussian accuracy score : 0.43007465757451063\n",
      "KNN accuracy score : 0.927341132208571\n",
      "SVM accuracy score : 0.8691434953853389\n",
      "Logistic Regression accuracy score : 0.9448592087472811\n"
     ]
    }
   ],
   "source": [
    "print(\"LightGBM accuracy score :\", accuracy_LightGBM)\n",
    "print(\"Naive Bayes Bernoulli accuracy score :\", accuracyNB_Bernoulli)\n",
    "print(\"Naive Bayes Multinomial accuracy score :\", accuracyNB_Multinomial)\n",
    "print(\"Naive Bayes Complement accuracy score :\", accuracyNB_Complement)\n",
    "print(\"Naive Bayes Gaussian accuracy score :\", accuracyNB_Gaussian)\n",
    "print(\"KNN accuracy score :\", accuracy_knn)\n",
    "print(\"SVM accuracy score :\", accuracy_SVM)\n",
    "print(\"Logistic Regression accuracy score :\", accuracy_logReg)"
   ]
  },
  {
   "cell_type": "code",
   "execution_count": 96,
   "id": "01a34e9e",
   "metadata": {},
   "outputs": [],
   "source": [
    "#Creating the Dictionary with model name as key adn accuracy as key-value\n",
    "labels={'LightGBM accuracy score':accuracy_LightGBM,'Naive Bayes Bernoulli':accuracyNB_Bernoulli,\n",
    "        'Naive Bayes Multinomial':accuracyNB_Multinomial,'Naive Bayes Complement':accuracyNB_Complement,\n",
    "        'Naive Bayes Gaussian':accuracyNB_Gaussian,\n",
    "        'KNN':accuracy_knn, 'SVM':accuracy_SVM, 'Logistic Regression':accuracy_logReg}\n"
   ]
  },
  {
   "cell_type": "code",
   "execution_count": 97,
   "id": "08e73768",
   "metadata": {},
   "outputs": [
    {
     "data": {
      "image/png": "[encoded data removed]",
      "text/plain": [
       "<Figure size 1900x1000 with 1 Axes>"
      ]
     },
     "metadata": {},
     "output_type": "display_data"
    }
   ],
   "source": [
    "#Plotting accuracy of all the models with Bar-Graphs\n",
    "plt.figure(figsize=(19,10))\n",
    "plt.title('Comparing Accuracy of ML Models on numeric data',fontsize=20)\n",
    "colors=['red','yellow','orange','magenta', 'blue', 'cyan', 'green', 'gray']\n",
    "plt.xticks(fontsize=10,color='black')\n",
    "plt.yticks(fontsize=20,color='black')\n",
    "plt.ylabel('Accuracy',fontsize=20)\n",
    "plt.xlabel('Models',fontsize=20)\n",
    "plt.bar(labels.keys(),labels.values(),edgecolor='black',color=colors, linewidth=2,alpha=0.5);\n",
    "\n"
   ]
  },
  {
   "cell_type": "code",
   "execution_count": null,
   "id": "01c96ae1",
   "metadata": {},
   "outputs": [],
   "source": []
  },
  {
   "cell_type": "code",
   "execution_count": null,
   "id": "61379e19",
   "metadata": {},
   "outputs": [],
   "source": []
  },
  {
   "cell_type": "code",
   "execution_count": null,
   "id": "d330761c",
   "metadata": {},
   "outputs": [],
   "source": []
  },
  {
   "cell_type": "markdown",
   "id": "0735a094",
   "metadata": {},
   "source": [
    "# Create ML Models on text data (TF-IDF VECTORIZING)\n"
   ]
  },
  {
   "cell_type": "code",
   "execution_count": null,
   "id": "89a30279",
   "metadata": {},
   "outputs": [],
   "source": [
    "# LightGBM\n",
    "# Naive Bayes Bernoulli\n",
    "# Naive Bayes Multinomial\n",
    "# Naive Bayes Complement\n",
    "# Naive Bayes Gaussian\n",
    "\n",
    "# KNN --> takes super long\n",
    "# SVM --> takes super long\n",
    "# Logistic Regression\n"
   ]
  },
  {
   "cell_type": "code",
   "execution_count": null,
   "id": "6532aa5d",
   "metadata": {},
   "outputs": [],
   "source": []
  },
  {
   "cell_type": "markdown",
   "id": "3dc7ee02",
   "metadata": {},
   "source": [
    "# Create X and Y (only title and text)\n",
    "# X_train, X_test, Y_train, Y_test (uppercase letters)\n"
   ]
  },
  {
   "cell_type": "code",
   "execution_count": 98,
   "id": "1b7fea27",
   "metadata": {},
   "outputs": [],
   "source": [
    "# STEP 1: DEFINE X and Y\n",
    "X = df_short.drop(\"label\", axis=1)\n",
    "Y = df_short[\"label\"]\n"
   ]
  },
  {
   "cell_type": "code",
   "execution_count": 99,
   "id": "66c6ffc9",
   "metadata": {},
   "outputs": [],
   "source": [
    "X.columns = X.columns.astype(str)"
   ]
  },
  {
   "cell_type": "code",
   "execution_count": 100,
   "id": "2e6bb410",
   "metadata": {},
   "outputs": [
    {
     "name": "stdout",
     "output_type": "stream",
     "text": [
      "<class 'pandas.core.frame.DataFrame'>\n",
      "Int64Index: 85051 entries, 0 to 106709\n",
      "Data columns (total 41 columns):\n",
      " #   Column                    Non-Null Count  Dtype  \n",
      "---  ------                    --------------  -----  \n",
      " 0   id                        85051 non-null  object \n",
      " 1   source                    85051 non-null  object \n",
      " 2   title                     85051 non-null  object \n",
      " 3   content                   85051 non-null  object \n",
      " 4   url                       85051 non-null  object \n",
      " 5   published_utc             85051 non-null  int64  \n",
      " 6   factuality                85051 non-null  float64\n",
      " 7   questionable-source       85051 non-null  float64\n",
      " 8   conspiracy-pseudoscience  85051 non-null  float64\n",
      " 9   pro-science               85051 non-null  float64\n",
      " 10  year                      85051 non-null  int64  \n",
      " 11  month                     85051 non-null  int64  \n",
      " 12  dayofyear                 85051 non-null  int64  \n",
      " 13  dayofthemonth             85051 non-null  int64  \n",
      " 14  weekday                   85051 non-null  int64  \n",
      " 15  weekend                   85051 non-null  int32  \n",
      " 16  word_count_content        85051 non-null  int64  \n",
      " 17  word_count_title          85051 non-null  int64  \n",
      " 18  Australia                 85051 non-null  uint8  \n",
      " 19  Bulgaria                  85051 non-null  uint8  \n",
      " 20  Canada                    85051 non-null  uint8  \n",
      " 21  Cyprus                    85051 non-null  uint8  \n",
      " 22  France                    85051 non-null  uint8  \n",
      " 23  Germany                   85051 non-null  uint8  \n",
      " 24  Ireland                   85051 non-null  uint8  \n",
      " 25  Israel                    85051 non-null  uint8  \n",
      " 26  Japan                     85051 non-null  uint8  \n",
      " 27  Kenya                     85051 non-null  uint8  \n",
      " 28  Macedonia                 85051 non-null  uint8  \n",
      " 29  Netherlands               85051 non-null  uint8  \n",
      " 30  Qatar                     85051 non-null  uint8  \n",
      " 31  Russia                    85051 non-null  uint8  \n",
      " 32  USA                       85051 non-null  uint8  \n",
      " 33  United Kingdom            85051 non-null  uint8  \n",
      " 34  Unknown                   85051 non-null  uint8  \n",
      " 35  tokenized_content         85051 non-null  object \n",
      " 36  tok_content_length        85051 non-null  int64  \n",
      " 37  tokenized_title           85051 non-null  object \n",
      " 38  tok_title_length          85051 non-null  int64  \n",
      " 39  nb_character_content      85051 non-null  int64  \n",
      " 40  nb_character_title        85051 non-null  int64  \n",
      "dtypes: float64(4), int32(1), int64(12), object(7), uint8(17)\n",
      "memory usage: 17.3+ MB\n"
     ]
    }
   ],
   "source": [
    "X.info()"
   ]
  },
  {
   "cell_type": "code",
   "execution_count": null,
   "id": "4b50375b",
   "metadata": {},
   "outputs": [],
   "source": []
  },
  {
   "cell_type": "markdown",
   "id": "cf0908f3",
   "metadata": {},
   "source": [
    "## Create Train / Test Datasets"
   ]
  },
  {
   "cell_type": "code",
   "execution_count": 101,
   "id": "0debf450",
   "metadata": {},
   "outputs": [],
   "source": [
    "from sklearn.model_selection import train_test_split\n",
    "\n",
    "X_train, X_test, Y_train, Y_test = train_test_split(X, Y, test_size=0.2)\n"
   ]
  },
  {
   "cell_type": "code",
   "execution_count": null,
   "id": "2c82f09a",
   "metadata": {},
   "outputs": [],
   "source": []
  },
  {
   "cell_type": "markdown",
   "id": "e4ebc738",
   "metadata": {},
   "source": [
    "# Vectorizing"
   ]
  },
  {
   "cell_type": "markdown",
   "id": "e7e6afca",
   "metadata": {},
   "source": [
    "### TFIDF Vectorizing\n",
    "### USING CONTENT AND TITLE ONLY\n"
   ]
  },
  {
   "cell_type": "code",
   "execution_count": 102,
   "id": "3e13c2b9",
   "metadata": {},
   "outputs": [
    {
     "data": {
      "text/html": [
       "<style>#sk-container-id-10 {color: black;background-color: white;}#sk-container-id-10 pre{padding: 0;}#sk-container-id-10 div.sk-toggleable {background-color: white;}#sk-container-id-10 label.sk-toggleable__label {cursor: pointer;display: block;width: 100%;margin-bottom: 0;padding: 0.3em;box-sizing: border-box;text-align: center;}#sk-container-id-10 label.sk-toggleable__label-arrow:before {content: \"▸\";float: left;margin-right: 0.25em;color: #696969;}#sk-container-id-10 label.sk-toggleable__label-arrow:hover:before {color: black;}#sk-container-id-10 div.sk-estimator:hover label.sk-toggleable__label-arrow:before {color: black;}#sk-container-id-10 div.sk-toggleable__content {max-height: 0;max-width: 0;overflow: hidden;text-align: left;background-color: #f0f8ff;}#sk-container-id-10 div.sk-toggleable__content pre {margin: 0.2em;color: black;border-radius: 0.25em;background-color: #f0f8ff;}#sk-container-id-10 input.sk-toggleable__control:checked~div.sk-toggleable__content {max-height: 200px;max-width: 100%;overflow: auto;}#sk-container-id-10 input.sk-toggleable__control:checked~label.sk-toggleable__label-arrow:before {content: \"▾\";}#sk-container-id-10 div.sk-estimator input.sk-toggleable__control:checked~label.sk-toggleable__label {background-color: #d4ebff;}#sk-container-id-10 div.sk-label input.sk-toggleable__control:checked~label.sk-toggleable__label {background-color: #d4ebff;}#sk-container-id-10 input.sk-hidden--visually {border: 0;clip: rect(1px 1px 1px 1px);clip: rect(1px, 1px, 1px, 1px);height: 1px;margin: -1px;overflow: hidden;padding: 0;position: absolute;width: 1px;}#sk-container-id-10 div.sk-estimator {font-family: monospace;background-color: #f0f8ff;border: 1px dotted black;border-radius: 0.25em;box-sizing: border-box;margin-bottom: 0.5em;}#sk-container-id-10 div.sk-estimator:hover {background-color: #d4ebff;}#sk-container-id-10 div.sk-parallel-item::after {content: \"\";width: 100%;border-bottom: 1px solid gray;flex-grow: 1;}#sk-container-id-10 div.sk-label:hover label.sk-toggleable__label {background-color: #d4ebff;}#sk-container-id-10 div.sk-serial::before {content: \"\";position: absolute;border-left: 1px solid gray;box-sizing: border-box;top: 0;bottom: 0;left: 50%;z-index: 0;}#sk-container-id-10 div.sk-serial {display: flex;flex-direction: column;align-items: center;background-color: white;padding-right: 0.2em;padding-left: 0.2em;position: relative;}#sk-container-id-10 div.sk-item {position: relative;z-index: 1;}#sk-container-id-10 div.sk-parallel {display: flex;align-items: stretch;justify-content: center;background-color: white;position: relative;}#sk-container-id-10 div.sk-item::before, #sk-container-id-10 div.sk-parallel-item::before {content: \"\";position: absolute;border-left: 1px solid gray;box-sizing: border-box;top: 0;bottom: 0;left: 50%;z-index: -1;}#sk-container-id-10 div.sk-parallel-item {display: flex;flex-direction: column;z-index: 1;position: relative;background-color: white;}#sk-container-id-10 div.sk-parallel-item:first-child::after {align-self: flex-end;width: 50%;}#sk-container-id-10 div.sk-parallel-item:last-child::after {align-self: flex-start;width: 50%;}#sk-container-id-10 div.sk-parallel-item:only-child::after {width: 0;}#sk-container-id-10 div.sk-dashed-wrapped {border: 1px dashed gray;margin: 0 0.4em 0.5em 0.4em;box-sizing: border-box;padding-bottom: 0.4em;background-color: white;}#sk-container-id-10 div.sk-label label {font-family: monospace;font-weight: bold;display: inline-block;line-height: 1.2em;}#sk-container-id-10 div.sk-label-container {text-align: center;}#sk-container-id-10 div.sk-container {/* jupyter's `normalize.less` sets `[hidden] { display: none; }` but bootstrap.min.css set `[hidden] { display: none !important; }` so we also need the `!important` here to be able to override the default hidden behavior on the sphinx rendered scikit-learn.org. See: https://github.com/scikit-learn/scikit-learn/issues/21755 */display: inline-block !important;position: relative;}#sk-container-id-10 div.sk-text-repr-fallback {display: none;}</style><div id=\"sk-container-id-10\" class=\"sk-top-container\"><div class=\"sk-text-repr-fallback\"><pre>TfidfVectorizer()</pre><b>In a Jupyter environment, please rerun this cell to show the HTML representation or trust the notebook. <br />On GitHub, the HTML representation is unable to render, please try loading this page with nbviewer.org.</b></div><div class=\"sk-container\" hidden><div class=\"sk-item\"><div class=\"sk-estimator sk-toggleable\"><input class=\"sk-toggleable__control sk-hidden--visually\" id=\"sk-estimator-id-10\" type=\"checkbox\" checked><label for=\"sk-estimator-id-10\" class=\"sk-toggleable__label sk-toggleable__label-arrow\">TfidfVectorizer</label><div class=\"sk-toggleable__content\"><pre>TfidfVectorizer()</pre></div></div></div></div></div>"
      ],
      "text/plain": [
       "TfidfVectorizer()"
      ]
     },
     "execution_count": 102,
     "metadata": {},
     "output_type": "execute_result"
    }
   ],
   "source": [
    "# VECTORIZING\n",
    "# TAKES 1 MINUTE\n",
    "\n",
    "from sklearn.feature_extraction.text import TfidfVectorizer\n",
    "from scipy.sparse import hstack, csr_matrix\n",
    "\n",
    "vectorizer1 = TfidfVectorizer()\n",
    "vectorizer2 = TfidfVectorizer()\n",
    "\n",
    "vectorizer1.fit(X_train['content'])\n",
    "vectorizer2.fit(X_train['title'])\n"
   ]
  },
  {
   "cell_type": "code",
   "execution_count": 103,
   "id": "941df81a",
   "metadata": {},
   "outputs": [],
   "source": [
    "# TAKES 1 MINUTE\n",
    "\n",
    "X_train_content = vectorizer1.transform(X_train['content'])\n",
    "X_train_title = vectorizer2.transform(X_train['title'])\n",
    "X_test_content = vectorizer1.transform(X_test['content'])\n",
    "X_test_title = vectorizer2.transform(X_test['title'])\n"
   ]
  },
  {
   "cell_type": "code",
   "execution_count": 104,
   "id": "859b9c9a",
   "metadata": {},
   "outputs": [],
   "source": [
    "X_train_text = hstack([X_train_content, X_train_title])\n",
    "X_test_text = hstack([X_test_content, X_test_title])\n"
   ]
  },
  {
   "cell_type": "code",
   "execution_count": 105,
   "id": "113a46be",
   "metadata": {},
   "outputs": [
    {
     "data": {
      "text/plain": [
       "<68040x269516 sparse matrix of type '<class 'numpy.float64'>'\n",
       "\twith 17382504 stored elements in Compressed Sparse Row format>"
      ]
     },
     "execution_count": 105,
     "metadata": {},
     "output_type": "execute_result"
    }
   ],
   "source": [
    "X_train_text"
   ]
  },
  {
   "cell_type": "code",
   "execution_count": 106,
   "id": "a4d9e4b9",
   "metadata": {},
   "outputs": [
    {
     "data": {
      "text/plain": [
       "<17011x269516 sparse matrix of type '<class 'numpy.float64'>'\n",
       "\twith 4331019 stored elements in Compressed Sparse Row format>"
      ]
     },
     "execution_count": 106,
     "metadata": {},
     "output_type": "execute_result"
    }
   ],
   "source": [
    "X_test_text"
   ]
  },
  {
   "cell_type": "code",
   "execution_count": null,
   "id": "c043243c",
   "metadata": {},
   "outputs": [],
   "source": []
  },
  {
   "cell_type": "code",
   "execution_count": null,
   "id": "9b1c4da5",
   "metadata": {},
   "outputs": [],
   "source": []
  },
  {
   "cell_type": "code",
   "execution_count": null,
   "id": "0c0acaa4",
   "metadata": {},
   "outputs": [],
   "source": []
  },
  {
   "cell_type": "markdown",
   "id": "c4e5119e",
   "metadata": {},
   "source": [
    "# LightGBM Model"
   ]
  },
  {
   "cell_type": "code",
   "execution_count": 107,
   "id": "25f080f5",
   "metadata": {},
   "outputs": [],
   "source": [
    "# Create a LightGBM dataset for training\n",
    "LightGMB_train_data_text = lgb.Dataset(X_train_text, label=Y_train)\n",
    "\n",
    "# Set the hyperparameters for the LightGBM model\n",
    "params = {\n",
    "    'boosting_type': 'gbdt',\n",
    "    'objective': 'binary',  # Set the appropriate objective for your classification task\n",
    "    'metric': 'binary_logloss',  # Set the appropriate metric for evaluation\n",
    "    'num_leaves': 31,\n",
    "    'learning_rate': 0.05,\n",
    "    'feature_fraction': 0.9,\n",
    "    'bagging_fraction': 0.8,\n",
    "    'bagging_freq': 5,\n",
    "    'verbose': 0\n",
    "}\n"
   ]
  },
  {
   "cell_type": "code",
   "execution_count": 108,
   "id": "6a9487ed",
   "metadata": {},
   "outputs": [
    {
     "name": "stdout",
     "output_type": "stream",
     "text": [
      "[LightGBM] [Warning] Auto-choosing col-wise multi-threading, the overhead of testing was 14.234546 seconds.\n",
      "You can set `force_col_wise=true` to remove the overhead.\n"
     ]
    }
   ],
   "source": [
    "# Train the LightGBM model\n",
    "clf_LightGBM_vect = lgb.train(params, LightGMB_train_data_text, num_boost_round=100)\n",
    "\n",
    "# takes 3 minutes\n"
   ]
  },
  {
   "cell_type": "code",
   "execution_count": 109,
   "id": "5a87ab64",
   "metadata": {},
   "outputs": [],
   "source": [
    "# Make predictions on the test set\n",
    "y_pred_LightGBM_vect = clf_LightGBM_vect.predict(X_test_text)\n",
    "y_pred_LightGBM_vect = [round(pred) for pred in y_pred_LightGBM_vect]  # Convert probability to binary predictions\n"
   ]
  },
  {
   "cell_type": "code",
   "execution_count": 110,
   "id": "e4b1098f",
   "metadata": {},
   "outputs": [
    {
     "name": "stdout",
     "output_type": "stream",
     "text": [
      "Accuracy LightGBM vect: 0.5588148844865087\n"
     ]
    }
   ],
   "source": [
    "# Evaluate the model\n",
    "accuracy_LightGBM_vect = accuracy_score(Y_test, y_pred_LightGBM_vect)\n",
    "print(\"Accuracy LightGBM vect:\", accuracy_LightGBM_vect)\n"
   ]
  },
  {
   "cell_type": "code",
   "execution_count": 111,
   "id": "d8d846ff",
   "metadata": {},
   "outputs": [
    {
     "name": "stdout",
     "output_type": "stream",
     "text": [
      "Confusion Matrix:\n",
      " [[4863 2567    0]\n",
      " [ 633 4643    0]\n",
      " [ 889 3416    0]]\n"
     ]
    }
   ],
   "source": [
    "# STEP 7: Evaluate Model with confusion matrix \n",
    "from sklearn.metrics import confusion_matrix \n",
    "\n",
    "conf_matrix_LightGBM_vect = confusion_matrix(Y_test, y_pred_LightGBM_vect)\n",
    "\n",
    "print(\"Confusion Matrix:\\n\",  conf_matrix_LightGBM_vect)\n"
   ]
  },
  {
   "cell_type": "code",
   "execution_count": 112,
   "id": "aec94151",
   "metadata": {},
   "outputs": [
    {
     "name": "stdout",
     "output_type": "stream",
     "text": [
      "LightGBM vect classification report:\n",
      "               precision    recall  f1-score   support\n",
      "\n",
      "         0.0       0.76      0.65      0.70      7430\n",
      "         1.0       0.44      0.88      0.58      5276\n",
      "         2.0       0.00      0.00      0.00      4305\n",
      "\n",
      "    accuracy                           0.56     17011\n",
      "   macro avg       0.40      0.51      0.43     17011\n",
      "weighted avg       0.47      0.56      0.49     17011\n",
      "\n"
     ]
    },
    {
     "name": "stderr",
     "output_type": "stream",
     "text": [
      "C:\\Users\\Nutzer\\anaconda3\\lib\\site-packages\\sklearn\\metrics\\_classification.py:1344: UndefinedMetricWarning: Precision and F-score are ill-defined and being set to 0.0 in labels with no predicted samples. Use `zero_division` parameter to control this behavior.\n",
      "  _warn_prf(average, modifier, msg_start, len(result))\n",
      "C:\\Users\\Nutzer\\anaconda3\\lib\\site-packages\\sklearn\\metrics\\_classification.py:1344: UndefinedMetricWarning: Precision and F-score are ill-defined and being set to 0.0 in labels with no predicted samples. Use `zero_division` parameter to control this behavior.\n",
      "  _warn_prf(average, modifier, msg_start, len(result))\n",
      "C:\\Users\\Nutzer\\anaconda3\\lib\\site-packages\\sklearn\\metrics\\_classification.py:1344: UndefinedMetricWarning: Precision and F-score are ill-defined and being set to 0.0 in labels with no predicted samples. Use `zero_division` parameter to control this behavior.\n",
      "  _warn_prf(average, modifier, msg_start, len(result))\n"
     ]
    }
   ],
   "source": [
    "# STEP 9: Evaluate model with classification report\n",
    "from sklearn.metrics import classification_report \n",
    "\n",
    "print(\"LightGBM vect classification report:\\n\", classification_report (Y_test, y_pred_LightGBM_vect))\n",
    "\n",
    "# great for real news and ok for fake news but horrible for mixed news\n"
   ]
  },
  {
   "cell_type": "code",
   "execution_count": null,
   "id": "f8687c79",
   "metadata": {},
   "outputs": [],
   "source": []
  },
  {
   "cell_type": "code",
   "execution_count": null,
   "id": "fdd59139",
   "metadata": {},
   "outputs": [],
   "source": []
  },
  {
   "cell_type": "code",
   "execution_count": null,
   "id": "3aae6211",
   "metadata": {},
   "outputs": [],
   "source": []
  },
  {
   "cell_type": "markdown",
   "id": "a3b76e33",
   "metadata": {},
   "source": [
    "# Naive Bayes Bernoulli Model"
   ]
  },
  {
   "cell_type": "code",
   "execution_count": 113,
   "id": "213bec85",
   "metadata": {},
   "outputs": [],
   "source": [
    "# Create a Bernoulli Naive Bayes classifier\n",
    "clf_Bern_vect = BernoulliNB()\n"
   ]
  },
  {
   "cell_type": "code",
   "execution_count": 114,
   "id": "8acc28ab",
   "metadata": {},
   "outputs": [
    {
     "data": {
      "text/html": [
       "<style>#sk-container-id-11 {color: black;background-color: white;}#sk-container-id-11 pre{padding: 0;}#sk-container-id-11 div.sk-toggleable {background-color: white;}#sk-container-id-11 label.sk-toggleable__label {cursor: pointer;display: block;width: 100%;margin-bottom: 0;padding: 0.3em;box-sizing: border-box;text-align: center;}#sk-container-id-11 label.sk-toggleable__label-arrow:before {content: \"▸\";float: left;margin-right: 0.25em;color: #696969;}#sk-container-id-11 label.sk-toggleable__label-arrow:hover:before {color: black;}#sk-container-id-11 div.sk-estimator:hover label.sk-toggleable__label-arrow:before {color: black;}#sk-container-id-11 div.sk-toggleable__content {max-height: 0;max-width: 0;overflow: hidden;text-align: left;background-color: #f0f8ff;}#sk-container-id-11 div.sk-toggleable__content pre {margin: 0.2em;color: black;border-radius: 0.25em;background-color: #f0f8ff;}#sk-container-id-11 input.sk-toggleable__control:checked~div.sk-toggleable__content {max-height: 200px;max-width: 100%;overflow: auto;}#sk-container-id-11 input.sk-toggleable__control:checked~label.sk-toggleable__label-arrow:before {content: \"▾\";}#sk-container-id-11 div.sk-estimator input.sk-toggleable__control:checked~label.sk-toggleable__label {background-color: #d4ebff;}#sk-container-id-11 div.sk-label input.sk-toggleable__control:checked~label.sk-toggleable__label {background-color: #d4ebff;}#sk-container-id-11 input.sk-hidden--visually {border: 0;clip: rect(1px 1px 1px 1px);clip: rect(1px, 1px, 1px, 1px);height: 1px;margin: -1px;overflow: hidden;padding: 0;position: absolute;width: 1px;}#sk-container-id-11 div.sk-estimator {font-family: monospace;background-color: #f0f8ff;border: 1px dotted black;border-radius: 0.25em;box-sizing: border-box;margin-bottom: 0.5em;}#sk-container-id-11 div.sk-estimator:hover {background-color: #d4ebff;}#sk-container-id-11 div.sk-parallel-item::after {content: \"\";width: 100%;border-bottom: 1px solid gray;flex-grow: 1;}#sk-container-id-11 div.sk-label:hover label.sk-toggleable__label {background-color: #d4ebff;}#sk-container-id-11 div.sk-serial::before {content: \"\";position: absolute;border-left: 1px solid gray;box-sizing: border-box;top: 0;bottom: 0;left: 50%;z-index: 0;}#sk-container-id-11 div.sk-serial {display: flex;flex-direction: column;align-items: center;background-color: white;padding-right: 0.2em;padding-left: 0.2em;position: relative;}#sk-container-id-11 div.sk-item {position: relative;z-index: 1;}#sk-container-id-11 div.sk-parallel {display: flex;align-items: stretch;justify-content: center;background-color: white;position: relative;}#sk-container-id-11 div.sk-item::before, #sk-container-id-11 div.sk-parallel-item::before {content: \"\";position: absolute;border-left: 1px solid gray;box-sizing: border-box;top: 0;bottom: 0;left: 50%;z-index: -1;}#sk-container-id-11 div.sk-parallel-item {display: flex;flex-direction: column;z-index: 1;position: relative;background-color: white;}#sk-container-id-11 div.sk-parallel-item:first-child::after {align-self: flex-end;width: 50%;}#sk-container-id-11 div.sk-parallel-item:last-child::after {align-self: flex-start;width: 50%;}#sk-container-id-11 div.sk-parallel-item:only-child::after {width: 0;}#sk-container-id-11 div.sk-dashed-wrapped {border: 1px dashed gray;margin: 0 0.4em 0.5em 0.4em;box-sizing: border-box;padding-bottom: 0.4em;background-color: white;}#sk-container-id-11 div.sk-label label {font-family: monospace;font-weight: bold;display: inline-block;line-height: 1.2em;}#sk-container-id-11 div.sk-label-container {text-align: center;}#sk-container-id-11 div.sk-container {/* jupyter's `normalize.less` sets `[hidden] { display: none; }` but bootstrap.min.css set `[hidden] { display: none !important; }` so we also need the `!important` here to be able to override the default hidden behavior on the sphinx rendered scikit-learn.org. See: https://github.com/scikit-learn/scikit-learn/issues/21755 */display: inline-block !important;position: relative;}#sk-container-id-11 div.sk-text-repr-fallback {display: none;}</style><div id=\"sk-container-id-11\" class=\"sk-top-container\"><div class=\"sk-text-repr-fallback\"><pre>BernoulliNB()</pre><b>In a Jupyter environment, please rerun this cell to show the HTML representation or trust the notebook. <br />On GitHub, the HTML representation is unable to render, please try loading this page with nbviewer.org.</b></div><div class=\"sk-container\" hidden><div class=\"sk-item\"><div class=\"sk-estimator sk-toggleable\"><input class=\"sk-toggleable__control sk-hidden--visually\" id=\"sk-estimator-id-11\" type=\"checkbox\" checked><label for=\"sk-estimator-id-11\" class=\"sk-toggleable__label sk-toggleable__label-arrow\">BernoulliNB</label><div class=\"sk-toggleable__content\"><pre>BernoulliNB()</pre></div></div></div></div></div>"
      ],
      "text/plain": [
       "BernoulliNB()"
      ]
     },
     "execution_count": 114,
     "metadata": {},
     "output_type": "execute_result"
    }
   ],
   "source": [
    "# Train the classifier\n",
    "clf_Bern_vect.fit(X_train_text, Y_train)\n"
   ]
  },
  {
   "cell_type": "code",
   "execution_count": 115,
   "id": "1a025c61",
   "metadata": {},
   "outputs": [],
   "source": [
    "# Make predictions on the test set\n",
    "y_pred_Bern_vect = clf_Bern_vect.predict(X_test_text)\n"
   ]
  },
  {
   "cell_type": "code",
   "execution_count": 116,
   "id": "66504eb9",
   "metadata": {},
   "outputs": [
    {
     "name": "stdout",
     "output_type": "stream",
     "text": [
      "Accuracy: 0.549820704250191\n"
     ]
    }
   ],
   "source": [
    "# Evaluate the model\n",
    "accuracyNB_Bernoulli_vect = accuracy_score(Y_test, y_pred_Bern_vect)\n",
    "print(\"Accuracy:\", accuracyNB_Bernoulli_vect)\n"
   ]
  },
  {
   "cell_type": "code",
   "execution_count": 117,
   "id": "4ffb0b7f",
   "metadata": {},
   "outputs": [
    {
     "name": "stdout",
     "output_type": "stream",
     "text": [
      "Confusion Matrix:\n",
      " [[3349 2393 1688]\n",
      " [ 740 3670  866]\n",
      " [1011  960 2334]]\n"
     ]
    }
   ],
   "source": [
    "# STEP 7: Evaluate Model with confusion matrix \n",
    "from sklearn.metrics import confusion_matrix \n",
    "\n",
    "conf_matrix_Bern_vect = confusion_matrix(Y_test, y_pred_Bern_vect)\n",
    "\n",
    "print(\"Confusion Matrix:\\n\",  conf_matrix_Bern_vect)\n"
   ]
  },
  {
   "cell_type": "code",
   "execution_count": 118,
   "id": "76bab7d2",
   "metadata": {},
   "outputs": [
    {
     "name": "stdout",
     "output_type": "stream",
     "text": [
      "Naive Bayes Bernoulli vect classification report:\n",
      "               precision    recall  f1-score   support\n",
      "\n",
      "         0.0       0.66      0.45      0.53      7430\n",
      "         1.0       0.52      0.70      0.60      5276\n",
      "         2.0       0.48      0.54      0.51      4305\n",
      "\n",
      "    accuracy                           0.55     17011\n",
      "   macro avg       0.55      0.56      0.55     17011\n",
      "weighted avg       0.57      0.55      0.55     17011\n",
      "\n"
     ]
    }
   ],
   "source": [
    "# STEP 9: Evaluate model with classification report\n",
    "from sklearn.metrics import classification_report \n",
    "\n",
    "print(\"Naive Bayes Bernoulli vect classification report:\\n\", classification_report (Y_test, y_pred_Bern_vect))\n"
   ]
  },
  {
   "cell_type": "code",
   "execution_count": null,
   "id": "b4de5909",
   "metadata": {},
   "outputs": [],
   "source": []
  },
  {
   "cell_type": "code",
   "execution_count": null,
   "id": "f694fa9b",
   "metadata": {},
   "outputs": [],
   "source": []
  },
  {
   "cell_type": "code",
   "execution_count": null,
   "id": "0d49ab49",
   "metadata": {},
   "outputs": [],
   "source": []
  },
  {
   "cell_type": "markdown",
   "id": "618ec981",
   "metadata": {},
   "source": [
    "# MULTINOMIAL NAIVE BAYES\n"
   ]
  },
  {
   "cell_type": "code",
   "execution_count": 119,
   "id": "4175d0de",
   "metadata": {},
   "outputs": [],
   "source": [
    "from sklearn.naive_bayes import MultinomialNB\n",
    "clf_mult_vect = MultinomialNB()\n"
   ]
  },
  {
   "cell_type": "code",
   "execution_count": 120,
   "id": "52476d00",
   "metadata": {},
   "outputs": [
    {
     "data": {
      "text/html": [
       "<style>#sk-container-id-12 {color: black;background-color: white;}#sk-container-id-12 pre{padding: 0;}#sk-container-id-12 div.sk-toggleable {background-color: white;}#sk-container-id-12 label.sk-toggleable__label {cursor: pointer;display: block;width: 100%;margin-bottom: 0;padding: 0.3em;box-sizing: border-box;text-align: center;}#sk-container-id-12 label.sk-toggleable__label-arrow:before {content: \"▸\";float: left;margin-right: 0.25em;color: #696969;}#sk-container-id-12 label.sk-toggleable__label-arrow:hover:before {color: black;}#sk-container-id-12 div.sk-estimator:hover label.sk-toggleable__label-arrow:before {color: black;}#sk-container-id-12 div.sk-toggleable__content {max-height: 0;max-width: 0;overflow: hidden;text-align: left;background-color: #f0f8ff;}#sk-container-id-12 div.sk-toggleable__content pre {margin: 0.2em;color: black;border-radius: 0.25em;background-color: #f0f8ff;}#sk-container-id-12 input.sk-toggleable__control:checked~div.sk-toggleable__content {max-height: 200px;max-width: 100%;overflow: auto;}#sk-container-id-12 input.sk-toggleable__control:checked~label.sk-toggleable__label-arrow:before {content: \"▾\";}#sk-container-id-12 div.sk-estimator input.sk-toggleable__control:checked~label.sk-toggleable__label {background-color: #d4ebff;}#sk-container-id-12 div.sk-label input.sk-toggleable__control:checked~label.sk-toggleable__label {background-color: #d4ebff;}#sk-container-id-12 input.sk-hidden--visually {border: 0;clip: rect(1px 1px 1px 1px);clip: rect(1px, 1px, 1px, 1px);height: 1px;margin: -1px;overflow: hidden;padding: 0;position: absolute;width: 1px;}#sk-container-id-12 div.sk-estimator {font-family: monospace;background-color: #f0f8ff;border: 1px dotted black;border-radius: 0.25em;box-sizing: border-box;margin-bottom: 0.5em;}#sk-container-id-12 div.sk-estimator:hover {background-color: #d4ebff;}#sk-container-id-12 div.sk-parallel-item::after {content: \"\";width: 100%;border-bottom: 1px solid gray;flex-grow: 1;}#sk-container-id-12 div.sk-label:hover label.sk-toggleable__label {background-color: #d4ebff;}#sk-container-id-12 div.sk-serial::before {content: \"\";position: absolute;border-left: 1px solid gray;box-sizing: border-box;top: 0;bottom: 0;left: 50%;z-index: 0;}#sk-container-id-12 div.sk-serial {display: flex;flex-direction: column;align-items: center;background-color: white;padding-right: 0.2em;padding-left: 0.2em;position: relative;}#sk-container-id-12 div.sk-item {position: relative;z-index: 1;}#sk-container-id-12 div.sk-parallel {display: flex;align-items: stretch;justify-content: center;background-color: white;position: relative;}#sk-container-id-12 div.sk-item::before, #sk-container-id-12 div.sk-parallel-item::before {content: \"\";position: absolute;border-left: 1px solid gray;box-sizing: border-box;top: 0;bottom: 0;left: 50%;z-index: -1;}#sk-container-id-12 div.sk-parallel-item {display: flex;flex-direction: column;z-index: 1;position: relative;background-color: white;}#sk-container-id-12 div.sk-parallel-item:first-child::after {align-self: flex-end;width: 50%;}#sk-container-id-12 div.sk-parallel-item:last-child::after {align-self: flex-start;width: 50%;}#sk-container-id-12 div.sk-parallel-item:only-child::after {width: 0;}#sk-container-id-12 div.sk-dashed-wrapped {border: 1px dashed gray;margin: 0 0.4em 0.5em 0.4em;box-sizing: border-box;padding-bottom: 0.4em;background-color: white;}#sk-container-id-12 div.sk-label label {font-family: monospace;font-weight: bold;display: inline-block;line-height: 1.2em;}#sk-container-id-12 div.sk-label-container {text-align: center;}#sk-container-id-12 div.sk-container {/* jupyter's `normalize.less` sets `[hidden] { display: none; }` but bootstrap.min.css set `[hidden] { display: none !important; }` so we also need the `!important` here to be able to override the default hidden behavior on the sphinx rendered scikit-learn.org. See: https://github.com/scikit-learn/scikit-learn/issues/21755 */display: inline-block !important;position: relative;}#sk-container-id-12 div.sk-text-repr-fallback {display: none;}</style><div id=\"sk-container-id-12\" class=\"sk-top-container\"><div class=\"sk-text-repr-fallback\"><pre>MultinomialNB()</pre><b>In a Jupyter environment, please rerun this cell to show the HTML representation or trust the notebook. <br />On GitHub, the HTML representation is unable to render, please try loading this page with nbviewer.org.</b></div><div class=\"sk-container\" hidden><div class=\"sk-item\"><div class=\"sk-estimator sk-toggleable\"><input class=\"sk-toggleable__control sk-hidden--visually\" id=\"sk-estimator-id-12\" type=\"checkbox\" checked><label for=\"sk-estimator-id-12\" class=\"sk-toggleable__label sk-toggleable__label-arrow\">MultinomialNB</label><div class=\"sk-toggleable__content\"><pre>MultinomialNB()</pre></div></div></div></div></div>"
      ],
      "text/plain": [
       "MultinomialNB()"
      ]
     },
     "execution_count": 120,
     "metadata": {},
     "output_type": "execute_result"
    }
   ],
   "source": [
    "# fit the model\n",
    "clf_mult_vect.fit(X_train_text, Y_train)\n"
   ]
  },
  {
   "cell_type": "code",
   "execution_count": 121,
   "id": "34f5ba02",
   "metadata": {},
   "outputs": [
    {
     "data": {
      "text/plain": [
       "0.5930280406795603"
      ]
     },
     "execution_count": 121,
     "metadata": {},
     "output_type": "execute_result"
    }
   ],
   "source": [
    "# get accuracy\n",
    "accuracyNB_Multinomial_vect = clf_mult_vect.score(X_test_text, Y_test)\n",
    "accuracyNB_Multinomial_vect\n"
   ]
  },
  {
   "cell_type": "code",
   "execution_count": 122,
   "id": "1234fbd3",
   "metadata": {},
   "outputs": [
    {
     "data": {
      "text/html": [
       "<div>\n",
       "<style scoped>\n",
       "    .dataframe tbody tr th:only-of-type {\n",
       "        vertical-align: middle;\n",
       "    }\n",
       "\n",
       "    .dataframe tbody tr th {\n",
       "        vertical-align: top;\n",
       "    }\n",
       "\n",
       "    .dataframe thead th {\n",
       "        text-align: right;\n",
       "    }\n",
       "</style>\n",
       "<table border=\"1\" class=\"dataframe\">\n",
       "  <thead>\n",
       "    <tr style=\"text-align: right;\">\n",
       "      <th>predict</th>\n",
       "      <th>0.0</th>\n",
       "      <th>1.0</th>\n",
       "      <th>2.0</th>\n",
       "    </tr>\n",
       "    <tr>\n",
       "      <th>real</th>\n",
       "      <th></th>\n",
       "      <th></th>\n",
       "      <th></th>\n",
       "    </tr>\n",
       "  </thead>\n",
       "  <tbody>\n",
       "    <tr>\n",
       "      <th>0.0</th>\n",
       "      <td>7089</td>\n",
       "      <td>139</td>\n",
       "      <td>202</td>\n",
       "    </tr>\n",
       "    <tr>\n",
       "      <th>1.0</th>\n",
       "      <td>3159</td>\n",
       "      <td>2054</td>\n",
       "      <td>63</td>\n",
       "    </tr>\n",
       "    <tr>\n",
       "      <th>2.0</th>\n",
       "      <td>3224</td>\n",
       "      <td>136</td>\n",
       "      <td>945</td>\n",
       "    </tr>\n",
       "  </tbody>\n",
       "</table>\n",
       "</div>"
      ],
      "text/plain": [
       "predict   0.0   1.0  2.0\n",
       "real                    \n",
       "0.0      7089   139  202\n",
       "1.0      3159  2054   63\n",
       "2.0      3224   136  945"
      ]
     },
     "execution_count": 122,
     "metadata": {},
     "output_type": "execute_result"
    }
   ],
   "source": [
    "# get confusion matrix\n",
    "y_pred_NB_Multinomial_vect = clf_mult_vect.predict(X_test_text)\n",
    "pd.crosstab(Y_test, y_pred_NB_Multinomial_vect, rownames=[\"real\"], colnames=[\"predict\"])\n"
   ]
  },
  {
   "cell_type": "code",
   "execution_count": 123,
   "id": "feed2578",
   "metadata": {},
   "outputs": [
    {
     "name": "stdout",
     "output_type": "stream",
     "text": [
      "Naive Bayes Multinomial Vect classification report:\n",
      "                precision    recall  f1-score   support\n",
      "\n",
      "         0.0       0.53      0.95      0.68      7430\n",
      "         1.0       0.88      0.39      0.54      5276\n",
      "         2.0       0.78      0.22      0.34      4305\n",
      "\n",
      "    accuracy                           0.59     17011\n",
      "   macro avg       0.73      0.52      0.52     17011\n",
      "weighted avg       0.70      0.59      0.55     17011\n",
      "\n"
     ]
    }
   ],
   "source": [
    "from sklearn.metrics import classification_report \n",
    "\n",
    "# get classification report\n",
    "print(\"Naive Bayes Multinomial Vect classification report:\\n \", classification_report (Y_test, y_pred_NB_Multinomial_vect))"
   ]
  },
  {
   "cell_type": "code",
   "execution_count": 124,
   "id": "2282cd17",
   "metadata": {},
   "outputs": [],
   "source": [
    "from mlxtend.plotting import plot_confusion_matrix\n",
    "import matplotlib.pyplot as plt\n",
    "import numpy as np\n",
    "from sklearn.metrics import confusion_matrix\n"
   ]
  },
  {
   "cell_type": "code",
   "execution_count": 125,
   "id": "f34ad0da",
   "metadata": {},
   "outputs": [
    {
     "name": "stdout",
     "output_type": "stream",
     "text": [
      "[[7089  139  202]\n",
      " [3159 2054   63]\n",
      " [3224  136  945]]\n"
     ]
    }
   ],
   "source": [
    "# create confusion matrix\n",
    "cf_matrix_Multinomial_vect = confusion_matrix(Y_test, y_pred_NB_Multinomial_vect)\n",
    "print(cf_matrix_Multinomial_vect)\n"
   ]
  },
  {
   "cell_type": "code",
   "execution_count": 126,
   "id": "0bce9e7a",
   "metadata": {
    "scrolled": true
   },
   "outputs": [
    {
     "data": {
      "image/png": "[encoded data removed]",
      "text/plain": [
       "<Figure size 640x480 with 2 Axes>"
      ]
     },
     "metadata": {},
     "output_type": "display_data"
    }
   ],
   "source": [
    "# absolute values\n",
    "fig, ax = plot_confusion_matrix(conf_mat=cf_matrix_Multinomial_vect,\n",
    "                                colorbar=True)\n",
    "\n",
    "plt.show()"
   ]
  },
  {
   "cell_type": "code",
   "execution_count": 127,
   "id": "34399e85",
   "metadata": {},
   "outputs": [
    {
     "data": {
      "text/plain": [
       "<Axes: >"
      ]
     },
     "execution_count": 127,
     "metadata": {},
     "output_type": "execute_result"
    },
    {
     "data": {
      "image/png": "[encoded data removed]",
      "text/plain": [
       "<Figure size 640x480 with 2 Axes>"
      ]
     },
     "metadata": {},
     "output_type": "display_data"
    }
   ],
   "source": [
    "# percent\n",
    "sns.heatmap(cf_matrix_Multinomial_vect/np.sum(cf_matrix_Multinomial_vect), annot=True, \n",
    "            fmt='.2%', cmap='Blues')"
   ]
  },
  {
   "cell_type": "code",
   "execution_count": null,
   "id": "82f35f58",
   "metadata": {},
   "outputs": [],
   "source": []
  },
  {
   "cell_type": "code",
   "execution_count": null,
   "id": "0f908775",
   "metadata": {},
   "outputs": [],
   "source": []
  },
  {
   "cell_type": "code",
   "execution_count": null,
   "id": "2b6e611f",
   "metadata": {},
   "outputs": [],
   "source": []
  },
  {
   "cell_type": "markdown",
   "id": "1519fb52",
   "metadata": {},
   "source": [
    "# COMPLEMENT NAIVE BAYES\n"
   ]
  },
  {
   "cell_type": "code",
   "execution_count": 128,
   "id": "c389f919",
   "metadata": {},
   "outputs": [],
   "source": [
    "from sklearn.naive_bayes import ComplementNB\n",
    "clf_compl_vect = ComplementNB(alpha=0.0015)\n"
   ]
  },
  {
   "cell_type": "code",
   "execution_count": 129,
   "id": "266fc172",
   "metadata": {},
   "outputs": [
    {
     "data": {
      "text/html": [
       "<style>#sk-container-id-13 {color: black;background-color: white;}#sk-container-id-13 pre{padding: 0;}#sk-container-id-13 div.sk-toggleable {background-color: white;}#sk-container-id-13 label.sk-toggleable__label {cursor: pointer;display: block;width: 100%;margin-bottom: 0;padding: 0.3em;box-sizing: border-box;text-align: center;}#sk-container-id-13 label.sk-toggleable__label-arrow:before {content: \"▸\";float: left;margin-right: 0.25em;color: #696969;}#sk-container-id-13 label.sk-toggleable__label-arrow:hover:before {color: black;}#sk-container-id-13 div.sk-estimator:hover label.sk-toggleable__label-arrow:before {color: black;}#sk-container-id-13 div.sk-toggleable__content {max-height: 0;max-width: 0;overflow: hidden;text-align: left;background-color: #f0f8ff;}#sk-container-id-13 div.sk-toggleable__content pre {margin: 0.2em;color: black;border-radius: 0.25em;background-color: #f0f8ff;}#sk-container-id-13 input.sk-toggleable__control:checked~div.sk-toggleable__content {max-height: 200px;max-width: 100%;overflow: auto;}#sk-container-id-13 input.sk-toggleable__control:checked~label.sk-toggleable__label-arrow:before {content: \"▾\";}#sk-container-id-13 div.sk-estimator input.sk-toggleable__control:checked~label.sk-toggleable__label {background-color: #d4ebff;}#sk-container-id-13 div.sk-label input.sk-toggleable__control:checked~label.sk-toggleable__label {background-color: #d4ebff;}#sk-container-id-13 input.sk-hidden--visually {border: 0;clip: rect(1px 1px 1px 1px);clip: rect(1px, 1px, 1px, 1px);height: 1px;margin: -1px;overflow: hidden;padding: 0;position: absolute;width: 1px;}#sk-container-id-13 div.sk-estimator {font-family: monospace;background-color: #f0f8ff;border: 1px dotted black;border-radius: 0.25em;box-sizing: border-box;margin-bottom: 0.5em;}#sk-container-id-13 div.sk-estimator:hover {background-color: #d4ebff;}#sk-container-id-13 div.sk-parallel-item::after {content: \"\";width: 100%;border-bottom: 1px solid gray;flex-grow: 1;}#sk-container-id-13 div.sk-label:hover label.sk-toggleable__label {background-color: #d4ebff;}#sk-container-id-13 div.sk-serial::before {content: \"\";position: absolute;border-left: 1px solid gray;box-sizing: border-box;top: 0;bottom: 0;left: 50%;z-index: 0;}#sk-container-id-13 div.sk-serial {display: flex;flex-direction: column;align-items: center;background-color: white;padding-right: 0.2em;padding-left: 0.2em;position: relative;}#sk-container-id-13 div.sk-item {position: relative;z-index: 1;}#sk-container-id-13 div.sk-parallel {display: flex;align-items: stretch;justify-content: center;background-color: white;position: relative;}#sk-container-id-13 div.sk-item::before, #sk-container-id-13 div.sk-parallel-item::before {content: \"\";position: absolute;border-left: 1px solid gray;box-sizing: border-box;top: 0;bottom: 0;left: 50%;z-index: -1;}#sk-container-id-13 div.sk-parallel-item {display: flex;flex-direction: column;z-index: 1;position: relative;background-color: white;}#sk-container-id-13 div.sk-parallel-item:first-child::after {align-self: flex-end;width: 50%;}#sk-container-id-13 div.sk-parallel-item:last-child::after {align-self: flex-start;width: 50%;}#sk-container-id-13 div.sk-parallel-item:only-child::after {width: 0;}#sk-container-id-13 div.sk-dashed-wrapped {border: 1px dashed gray;margin: 0 0.4em 0.5em 0.4em;box-sizing: border-box;padding-bottom: 0.4em;background-color: white;}#sk-container-id-13 div.sk-label label {font-family: monospace;font-weight: bold;display: inline-block;line-height: 1.2em;}#sk-container-id-13 div.sk-label-container {text-align: center;}#sk-container-id-13 div.sk-container {/* jupyter's `normalize.less` sets `[hidden] { display: none; }` but bootstrap.min.css set `[hidden] { display: none !important; }` so we also need the `!important` here to be able to override the default hidden behavior on the sphinx rendered scikit-learn.org. See: https://github.com/scikit-learn/scikit-learn/issues/21755 */display: inline-block !important;position: relative;}#sk-container-id-13 div.sk-text-repr-fallback {display: none;}</style><div id=\"sk-container-id-13\" class=\"sk-top-container\"><div class=\"sk-text-repr-fallback\"><pre>ComplementNB(alpha=0.0015)</pre><b>In a Jupyter environment, please rerun this cell to show the HTML representation or trust the notebook. <br />On GitHub, the HTML representation is unable to render, please try loading this page with nbviewer.org.</b></div><div class=\"sk-container\" hidden><div class=\"sk-item\"><div class=\"sk-estimator sk-toggleable\"><input class=\"sk-toggleable__control sk-hidden--visually\" id=\"sk-estimator-id-13\" type=\"checkbox\" checked><label for=\"sk-estimator-id-13\" class=\"sk-toggleable__label sk-toggleable__label-arrow\">ComplementNB</label><div class=\"sk-toggleable__content\"><pre>ComplementNB(alpha=0.0015)</pre></div></div></div></div></div>"
      ],
      "text/plain": [
       "ComplementNB(alpha=0.0015)"
      ]
     },
     "execution_count": 129,
     "metadata": {},
     "output_type": "execute_result"
    }
   ],
   "source": [
    "# fit model\n",
    "clf_compl_vect.fit(X_train_text, Y_train)\n"
   ]
  },
  {
   "cell_type": "code",
   "execution_count": 130,
   "id": "0a4102ec",
   "metadata": {},
   "outputs": [
    {
     "data": {
      "text/plain": [
       "0.6222444300746576"
      ]
     },
     "execution_count": 130,
     "metadata": {},
     "output_type": "execute_result"
    }
   ],
   "source": [
    "# get accuracy\n",
    "accuracyNB_Complement_vect = clf_compl_vect.score(X_test_text, Y_test)\n",
    "accuracyNB_Complement_vect\n"
   ]
  },
  {
   "cell_type": "code",
   "execution_count": 131,
   "id": "2662630a",
   "metadata": {},
   "outputs": [
    {
     "data": {
      "text/html": [
       "<div>\n",
       "<style scoped>\n",
       "    .dataframe tbody tr th:only-of-type {\n",
       "        vertical-align: middle;\n",
       "    }\n",
       "\n",
       "    .dataframe tbody tr th {\n",
       "        vertical-align: top;\n",
       "    }\n",
       "\n",
       "    .dataframe thead th {\n",
       "        text-align: right;\n",
       "    }\n",
       "</style>\n",
       "<table border=\"1\" class=\"dataframe\">\n",
       "  <thead>\n",
       "    <tr style=\"text-align: right;\">\n",
       "      <th>predict</th>\n",
       "      <th>0.0</th>\n",
       "      <th>1.0</th>\n",
       "      <th>2.0</th>\n",
       "    </tr>\n",
       "    <tr>\n",
       "      <th>real</th>\n",
       "      <th></th>\n",
       "      <th></th>\n",
       "      <th></th>\n",
       "    </tr>\n",
       "  </thead>\n",
       "  <tbody>\n",
       "    <tr>\n",
       "      <th>0.0</th>\n",
       "      <td>4392</td>\n",
       "      <td>1500</td>\n",
       "      <td>1538</td>\n",
       "    </tr>\n",
       "    <tr>\n",
       "      <th>1.0</th>\n",
       "      <td>893</td>\n",
       "      <td>3773</td>\n",
       "      <td>610</td>\n",
       "    </tr>\n",
       "    <tr>\n",
       "      <th>2.0</th>\n",
       "      <td>1132</td>\n",
       "      <td>753</td>\n",
       "      <td>2420</td>\n",
       "    </tr>\n",
       "  </tbody>\n",
       "</table>\n",
       "</div>"
      ],
      "text/plain": [
       "predict   0.0   1.0   2.0\n",
       "real                     \n",
       "0.0      4392  1500  1538\n",
       "1.0       893  3773   610\n",
       "2.0      1132   753  2420"
      ]
     },
     "execution_count": 131,
     "metadata": {},
     "output_type": "execute_result"
    }
   ],
   "source": [
    "# get confusion matrix\n",
    "y_pred_NB_Complement_vect = clf_compl_vect.predict(X_test_text)\n",
    "pd.crosstab(Y_test, y_pred_NB_Complement_vect, rownames=[\"real\"], colnames=[\"predict\"])\n"
   ]
  },
  {
   "cell_type": "code",
   "execution_count": 132,
   "id": "311b6e7e",
   "metadata": {},
   "outputs": [
    {
     "name": "stdout",
     "output_type": "stream",
     "text": [
      "Naive Bayes Complement vect classification report:\n",
      "                precision    recall  f1-score   support\n",
      "\n",
      "         0.0       0.68      0.59      0.63      7430\n",
      "         1.0       0.63      0.72      0.67      5276\n",
      "         2.0       0.53      0.56      0.55      4305\n",
      "\n",
      "    accuracy                           0.62     17011\n",
      "   macro avg       0.61      0.62      0.62     17011\n",
      "weighted avg       0.63      0.62      0.62     17011\n",
      "\n"
     ]
    }
   ],
   "source": [
    "from sklearn.metrics import classification_report \n",
    "\n",
    "# get classification report\n",
    "print(\"Naive Bayes Complement vect classification report:\\n \", classification_report (Y_test, y_pred_NB_Complement_vect))\n"
   ]
  },
  {
   "cell_type": "code",
   "execution_count": 133,
   "id": "6a6cd63b",
   "metadata": {},
   "outputs": [
    {
     "name": "stdout",
     "output_type": "stream",
     "text": [
      "[[4392 1500 1538]\n",
      " [ 893 3773  610]\n",
      " [1132  753 2420]]\n"
     ]
    }
   ],
   "source": [
    "# create confusion matrix\n",
    "cf_matrix_Complement_vect = confusion_matrix(Y_test, y_pred_NB_Complement_vect)\n",
    "print(cf_matrix_Complement_vect)\n"
   ]
  },
  {
   "cell_type": "code",
   "execution_count": 134,
   "id": "864f76c2",
   "metadata": {},
   "outputs": [
    {
     "data": {
      "image/png": "[encoded data removed]",
      "text/plain": [
       "<Figure size 640x480 with 2 Axes>"
      ]
     },
     "metadata": {},
     "output_type": "display_data"
    }
   ],
   "source": [
    "# absolute values\n",
    "fig, ax = plot_confusion_matrix(conf_mat=cf_matrix_Complement_vect,\n",
    "                                colorbar=True)\n",
    "\n",
    "plt.show();\n"
   ]
  },
  {
   "cell_type": "code",
   "execution_count": 135,
   "id": "bd4e027d",
   "metadata": {},
   "outputs": [
    {
     "data": {
      "image/png": "[encoded data removed]",
      "text/plain": [
       "<Figure size 640x480 with 2 Axes>"
      ]
     },
     "metadata": {},
     "output_type": "display_data"
    }
   ],
   "source": [
    "# percent\n",
    "sns.heatmap(cf_matrix_Complement_vect/np.sum(cf_matrix_Complement_vect), annot=True, \n",
    "            fmt='.2%', cmap='Blues');\n"
   ]
  },
  {
   "cell_type": "code",
   "execution_count": null,
   "id": "6d229d5e",
   "metadata": {},
   "outputs": [],
   "source": []
  },
  {
   "cell_type": "code",
   "execution_count": null,
   "id": "6a2a8977",
   "metadata": {},
   "outputs": [],
   "source": []
  },
  {
   "cell_type": "code",
   "execution_count": null,
   "id": "ad3277c7",
   "metadata": {},
   "outputs": [],
   "source": []
  },
  {
   "cell_type": "markdown",
   "id": "3daa6b2f",
   "metadata": {},
   "source": [
    "# Create NAIVE BAYES Gaussian\n",
    "# not possible due to memory error\n"
   ]
  },
  {
   "cell_type": "code",
   "execution_count": null,
   "id": "dd5ed69d",
   "metadata": {},
   "outputs": [],
   "source": [
    "# transform to avoid sparse matrix\n",
    "# Convert sparse matrix to dense numpy array\n",
    "# X_train_text_dense = X_train_text.toarray()\n"
   ]
  },
  {
   "cell_type": "code",
   "execution_count": 119,
   "id": "767ba3a6",
   "metadata": {},
   "outputs": [],
   "source": [
    "# from sklearn.naive_bayes import GaussianNB\n",
    "# clf_gau_vect = GaussianNB()\n"
   ]
  },
  {
   "cell_type": "code",
   "execution_count": null,
   "id": "094889f4",
   "metadata": {},
   "outputs": [],
   "source": [
    "# clf_gau_vect.fit(X_train_text_dense, Y_train)\n"
   ]
  },
  {
   "cell_type": "code",
   "execution_count": null,
   "id": "a1e3eabb",
   "metadata": {},
   "outputs": [],
   "source": [
    "# get accuracy\n",
    "# accuracyNB_Gaussian_vect = clf_gau_vect.score(X_test_text, y_test)\n",
    "# accuracyNB_Gaussian_vect\n"
   ]
  },
  {
   "cell_type": "code",
   "execution_count": null,
   "id": "7c836a89",
   "metadata": {},
   "outputs": [],
   "source": [
    "# get confusion matrix\n",
    "# y_pred_NB_Gaussian_vect = clf_gau_vect.predict(X_test_text)\n",
    "# pd.crosstab(y_test, y_pred_NB_Gaussian_vect, rownames=[\"real\"], colnames=[\"predict\"])\n"
   ]
  },
  {
   "cell_type": "code",
   "execution_count": null,
   "id": "9304ff96",
   "metadata": {},
   "outputs": [],
   "source": [
    "# from sklearn.metrics import classification_report \n",
    "\n",
    "# get classification report\n",
    "# print(\"Naive Bayes Gaussian vect classification report:\\n \", classification_report (y_test, y_pred_NB_Gaussian_vect))\n",
    "\n",
    "# really bad overall\n"
   ]
  },
  {
   "cell_type": "code",
   "execution_count": null,
   "id": "37104aec",
   "metadata": {},
   "outputs": [],
   "source": [
    "# create confusion matrix\n",
    "# cf_matrix_Gaussian_vect = confusion_matrix(y_test, y_pred_NB_Gaussian_vect)\n",
    "# print(cf_matrix_Gaussian_vect)\n"
   ]
  },
  {
   "cell_type": "code",
   "execution_count": null,
   "id": "4d4350d0",
   "metadata": {},
   "outputs": [],
   "source": []
  },
  {
   "cell_type": "code",
   "execution_count": null,
   "id": "31a27a33",
   "metadata": {},
   "outputs": [],
   "source": []
  },
  {
   "cell_type": "code",
   "execution_count": null,
   "id": "908f00c8",
   "metadata": {},
   "outputs": [],
   "source": []
  },
  {
   "cell_type": "markdown",
   "id": "2279b5e3",
   "metadata": {},
   "source": [
    "# CREATE KNN ON TEXT DATA\n",
    "# TAKES 2 hours!\n"
   ]
  },
  {
   "cell_type": "code",
   "execution_count": null,
   "id": "ccc7e760",
   "metadata": {},
   "outputs": [],
   "source": [
    "# STEP 3: Instantiate the model\n",
    "# from sklearn.neighbors import KNeighborsClassifier\n",
    "\n",
    "# knn = KNeighborsClassifier(n_neighbors = 6)\n"
   ]
  },
  {
   "cell_type": "code",
   "execution_count": null,
   "id": "44780164",
   "metadata": {},
   "outputs": [],
   "source": [
    "# STEP 4: Fit the model\n",
    "# knn.fit(X_train_text_scaled, y_train)\n"
   ]
  },
  {
   "cell_type": "code",
   "execution_count": null,
   "id": "52591574",
   "metadata": {},
   "outputs": [],
   "source": [
    "# STEP 5: Predict\n",
    "# y_pred_knn_vect = knn.predict(X_test_text_scaled)\n"
   ]
  },
  {
   "cell_type": "code",
   "execution_count": null,
   "id": "10625087",
   "metadata": {},
   "outputs": [],
   "source": [
    "# Evaluate\n",
    "# from sklearn.metrics import accuracy_score, precision_score, recall_score \n",
    "\n",
    "# pd.crosstab(y_test, y_pred_knn_vect, rownames = ['Reality'], colnames = ['Prediction'])\n",
    "\n",
    "### looks really bad!\n"
   ]
  },
  {
   "cell_type": "code",
   "execution_count": null,
   "id": "95ea8af6",
   "metadata": {},
   "outputs": [],
   "source": [
    "# STEP 8: Evaluate model with score\n",
    "# get accuracy\n",
    "# knn.score(X_test_text_scaled, y_test)\n"
   ]
  },
  {
   "cell_type": "code",
   "execution_count": null,
   "id": "1068656f",
   "metadata": {},
   "outputs": [],
   "source": [
    "# STEP 9: Evaluate model with classification report\n",
    "# from sklearn.metrics import classification_report \n",
    "\n",
    "# print(\"KNN vect classification report:\\n\", classification_report (y_test, y_pred_knn_vect))\n",
    "\n",
    "# quite bad overall...\n"
   ]
  },
  {
   "cell_type": "code",
   "execution_count": null,
   "id": "4696b9b2",
   "metadata": {},
   "outputs": [],
   "source": []
  },
  {
   "cell_type": "code",
   "execution_count": null,
   "id": "9371139d",
   "metadata": {},
   "outputs": [],
   "source": []
  },
  {
   "cell_type": "code",
   "execution_count": null,
   "id": "6839ce17",
   "metadata": {},
   "outputs": [],
   "source": []
  },
  {
   "cell_type": "markdown",
   "id": "b71af495",
   "metadata": {},
   "source": [
    "# CREATE SVM MODEL ON TEXT DATA\n",
    "# TAKES SUPER LONG\n"
   ]
  },
  {
   "cell_type": "code",
   "execution_count": 220,
   "id": "c9632edd",
   "metadata": {},
   "outputs": [],
   "source": [
    "# Step 3: Instantiate model \n",
    "# from sklearn import svm\n",
    "# clf_SVM_vect = svm.SVC(gamma=0.01, kernel=\"poly\")\n"
   ]
  },
  {
   "cell_type": "code",
   "execution_count": 221,
   "id": "acc686f5",
   "metadata": {},
   "outputs": [
    {
     "data": {
      "text/html": [
       "<style>#sk-container-id-21 {color: black;background-color: white;}#sk-container-id-21 pre{padding: 0;}#sk-container-id-21 div.sk-toggleable {background-color: white;}#sk-container-id-21 label.sk-toggleable__label {cursor: pointer;display: block;width: 100%;margin-bottom: 0;padding: 0.3em;box-sizing: border-box;text-align: center;}#sk-container-id-21 label.sk-toggleable__label-arrow:before {content: \"▸\";float: left;margin-right: 0.25em;color: #696969;}#sk-container-id-21 label.sk-toggleable__label-arrow:hover:before {color: black;}#sk-container-id-21 div.sk-estimator:hover label.sk-toggleable__label-arrow:before {color: black;}#sk-container-id-21 div.sk-toggleable__content {max-height: 0;max-width: 0;overflow: hidden;text-align: left;background-color: #f0f8ff;}#sk-container-id-21 div.sk-toggleable__content pre {margin: 0.2em;color: black;border-radius: 0.25em;background-color: #f0f8ff;}#sk-container-id-21 input.sk-toggleable__control:checked~div.sk-toggleable__content {max-height: 200px;max-width: 100%;overflow: auto;}#sk-container-id-21 input.sk-toggleable__control:checked~label.sk-toggleable__label-arrow:before {content: \"▾\";}#sk-container-id-21 div.sk-estimator input.sk-toggleable__control:checked~label.sk-toggleable__label {background-color: #d4ebff;}#sk-container-id-21 div.sk-label input.sk-toggleable__control:checked~label.sk-toggleable__label {background-color: #d4ebff;}#sk-container-id-21 input.sk-hidden--visually {border: 0;clip: rect(1px 1px 1px 1px);clip: rect(1px, 1px, 1px, 1px);height: 1px;margin: -1px;overflow: hidden;padding: 0;position: absolute;width: 1px;}#sk-container-id-21 div.sk-estimator {font-family: monospace;background-color: #f0f8ff;border: 1px dotted black;border-radius: 0.25em;box-sizing: border-box;margin-bottom: 0.5em;}#sk-container-id-21 div.sk-estimator:hover {background-color: #d4ebff;}#sk-container-id-21 div.sk-parallel-item::after {content: \"\";width: 100%;border-bottom: 1px solid gray;flex-grow: 1;}#sk-container-id-21 div.sk-label:hover label.sk-toggleable__label {background-color: #d4ebff;}#sk-container-id-21 div.sk-serial::before {content: \"\";position: absolute;border-left: 1px solid gray;box-sizing: border-box;top: 0;bottom: 0;left: 50%;z-index: 0;}#sk-container-id-21 div.sk-serial {display: flex;flex-direction: column;align-items: center;background-color: white;padding-right: 0.2em;padding-left: 0.2em;position: relative;}#sk-container-id-21 div.sk-item {position: relative;z-index: 1;}#sk-container-id-21 div.sk-parallel {display: flex;align-items: stretch;justify-content: center;background-color: white;position: relative;}#sk-container-id-21 div.sk-item::before, #sk-container-id-21 div.sk-parallel-item::before {content: \"\";position: absolute;border-left: 1px solid gray;box-sizing: border-box;top: 0;bottom: 0;left: 50%;z-index: -1;}#sk-container-id-21 div.sk-parallel-item {display: flex;flex-direction: column;z-index: 1;position: relative;background-color: white;}#sk-container-id-21 div.sk-parallel-item:first-child::after {align-self: flex-end;width: 50%;}#sk-container-id-21 div.sk-parallel-item:last-child::after {align-self: flex-start;width: 50%;}#sk-container-id-21 div.sk-parallel-item:only-child::after {width: 0;}#sk-container-id-21 div.sk-dashed-wrapped {border: 1px dashed gray;margin: 0 0.4em 0.5em 0.4em;box-sizing: border-box;padding-bottom: 0.4em;background-color: white;}#sk-container-id-21 div.sk-label label {font-family: monospace;font-weight: bold;display: inline-block;line-height: 1.2em;}#sk-container-id-21 div.sk-label-container {text-align: center;}#sk-container-id-21 div.sk-container {/* jupyter's `normalize.less` sets `[hidden] { display: none; }` but bootstrap.min.css set `[hidden] { display: none !important; }` so we also need the `!important` here to be able to override the default hidden behavior on the sphinx rendered scikit-learn.org. See: https://github.com/scikit-learn/scikit-learn/issues/21755 */display: inline-block !important;position: relative;}#sk-container-id-21 div.sk-text-repr-fallback {display: none;}</style><div id=\"sk-container-id-21\" class=\"sk-top-container\"><div class=\"sk-text-repr-fallback\"><pre>SVC(gamma=0.01, kernel=&#x27;poly&#x27;)</pre><b>In a Jupyter environment, please rerun this cell to show the HTML representation or trust the notebook. <br />On GitHub, the HTML representation is unable to render, please try loading this page with nbviewer.org.</b></div><div class=\"sk-container\" hidden><div class=\"sk-item\"><div class=\"sk-estimator sk-toggleable\"><input class=\"sk-toggleable__control sk-hidden--visually\" id=\"sk-estimator-id-21\" type=\"checkbox\" checked><label for=\"sk-estimator-id-21\" class=\"sk-toggleable__label sk-toggleable__label-arrow\">SVC</label><div class=\"sk-toggleable__content\"><pre>SVC(gamma=0.01, kernel=&#x27;poly&#x27;)</pre></div></div></div></div></div>"
      ],
      "text/plain": [
       "SVC(gamma=0.01, kernel='poly')"
      ]
     },
     "execution_count": 221,
     "metadata": {},
     "output_type": "execute_result"
    }
   ],
   "source": [
    "# Step 4: Fit the model on the training dataset\n",
    "# clf_SVM_vect.fit(X_train_text, Y_train)\n",
    "\n",
    "# takes 3,5 hours!!!\n"
   ]
  },
  {
   "cell_type": "code",
   "execution_count": null,
   "id": "59aaf4b7",
   "metadata": {},
   "outputs": [],
   "source": [
    "# get accuracy\n",
    "# SVM_vect_score = clf_SVM_vect.score(X_test_text, Y_test)\n",
    "\n",
    "# takes 45 Minutes\n",
    "\n",
    "# bad result\n"
   ]
  },
  {
   "cell_type": "code",
   "execution_count": 223,
   "id": "5df5c3dd",
   "metadata": {},
   "outputs": [
    {
     "data": {
      "text/html": [
       "<div>\n",
       "<style scoped>\n",
       "    .dataframe tbody tr th:only-of-type {\n",
       "        vertical-align: middle;\n",
       "    }\n",
       "\n",
       "    .dataframe tbody tr th {\n",
       "        vertical-align: top;\n",
       "    }\n",
       "\n",
       "    .dataframe thead th {\n",
       "        text-align: right;\n",
       "    }\n",
       "</style>\n",
       "<table border=\"1\" class=\"dataframe\">\n",
       "  <thead>\n",
       "    <tr style=\"text-align: right;\">\n",
       "      <th>predict</th>\n",
       "      <th>0.0</th>\n",
       "    </tr>\n",
       "    <tr>\n",
       "      <th>real</th>\n",
       "      <th></th>\n",
       "    </tr>\n",
       "  </thead>\n",
       "  <tbody>\n",
       "    <tr>\n",
       "      <th>0.0</th>\n",
       "      <td>7399</td>\n",
       "    </tr>\n",
       "    <tr>\n",
       "      <th>1.0</th>\n",
       "      <td>5262</td>\n",
       "    </tr>\n",
       "    <tr>\n",
       "      <th>2.0</th>\n",
       "      <td>4350</td>\n",
       "    </tr>\n",
       "  </tbody>\n",
       "</table>\n",
       "</div>"
      ],
      "text/plain": [
       "predict   0.0\n",
       "real         \n",
       "0.0      7399\n",
       "1.0      5262\n",
       "2.0      4350"
      ]
     },
     "execution_count": 223,
     "metadata": {},
     "output_type": "execute_result"
    }
   ],
   "source": [
    "# get confusion matrix\n",
    "# y_pred_SVM_vect = clf_SVM_vect.predict(X_test_text)\n",
    "# pd.crosstab(Y_test, y_pred_SVM_vect, rownames=[\"real\"], colnames=[\"predict\"])\n",
    "\n",
    "# dauert 40 Minuten"
   ]
  },
  {
   "cell_type": "code",
   "execution_count": 224,
   "id": "f9f10a8e",
   "metadata": {},
   "outputs": [
    {
     "name": "stdout",
     "output_type": "stream",
     "text": [
      "SVM vect classification report:\n",
      "                precision    recall  f1-score   support\n",
      "\n",
      "         0.0       0.43      1.00      0.61      7399\n",
      "         1.0       0.00      0.00      0.00      5262\n",
      "         2.0       0.00      0.00      0.00      4350\n",
      "\n",
      "    accuracy                           0.43     17011\n",
      "   macro avg       0.14      0.33      0.20     17011\n",
      "weighted avg       0.19      0.43      0.26     17011\n",
      "\n"
     ]
    },
    {
     "name": "stderr",
     "output_type": "stream",
     "text": [
      "C:\\Users\\Nutzer\\anaconda3\\lib\\site-packages\\sklearn\\metrics\\_classification.py:1344: UndefinedMetricWarning: Precision and F-score are ill-defined and being set to 0.0 in labels with no predicted samples. Use `zero_division` parameter to control this behavior.\n",
      "  _warn_prf(average, modifier, msg_start, len(result))\n",
      "C:\\Users\\Nutzer\\anaconda3\\lib\\site-packages\\sklearn\\metrics\\_classification.py:1344: UndefinedMetricWarning: Precision and F-score are ill-defined and being set to 0.0 in labels with no predicted samples. Use `zero_division` parameter to control this behavior.\n",
      "  _warn_prf(average, modifier, msg_start, len(result))\n",
      "C:\\Users\\Nutzer\\anaconda3\\lib\\site-packages\\sklearn\\metrics\\_classification.py:1344: UndefinedMetricWarning: Precision and F-score are ill-defined and being set to 0.0 in labels with no predicted samples. Use `zero_division` parameter to control this behavior.\n",
      "  _warn_prf(average, modifier, msg_start, len(result))\n"
     ]
    }
   ],
   "source": [
    "# from sklearn.metrics import classification_report \n",
    "\n",
    "# get classification report\n",
    "# print(\"SVM vect classification report:\\n \", classification_report (Y_test, y_pred_SVM_vect))\n"
   ]
  },
  {
   "cell_type": "code",
   "execution_count": 225,
   "id": "25689c0e",
   "metadata": {},
   "outputs": [
    {
     "name": "stdout",
     "output_type": "stream",
     "text": [
      "[[7399    0    0]\n",
      " [5262    0    0]\n",
      " [4350    0    0]]\n"
     ]
    }
   ],
   "source": [
    "# create confusion matrix\n",
    "# cf_matrix_SVM_vect = confusion_matrix(Y_test, y_pred_SVM_vect)\n",
    "# print(cf_matrix_SVM_vect)\n"
   ]
  },
  {
   "cell_type": "code",
   "execution_count": null,
   "id": "864a63e9",
   "metadata": {},
   "outputs": [],
   "source": []
  },
  {
   "cell_type": "code",
   "execution_count": null,
   "id": "021615df",
   "metadata": {},
   "outputs": [],
   "source": []
  },
  {
   "cell_type": "code",
   "execution_count": null,
   "id": "338f87df",
   "metadata": {},
   "outputs": [],
   "source": []
  },
  {
   "cell_type": "markdown",
   "id": "f4050b29",
   "metadata": {},
   "source": [
    "# CREATE LOGISTIC REGRESION MODEL ON TEXT DATA\n"
   ]
  },
  {
   "cell_type": "code",
   "execution_count": null,
   "id": "a166441e",
   "metadata": {},
   "outputs": [],
   "source": [
    "# needs standardization\n"
   ]
  },
  {
   "cell_type": "code",
   "execution_count": 136,
   "id": "de321c53",
   "metadata": {},
   "outputs": [],
   "source": [
    "# Step 3: Instantiate model \n",
    "from sklearn.linear_model import LogisticRegression\n",
    "\n",
    "clf_LogReg_vect = LogisticRegression(C=1.0)\n"
   ]
  },
  {
   "cell_type": "code",
   "execution_count": 137,
   "id": "0b263a24",
   "metadata": {},
   "outputs": [
    {
     "name": "stderr",
     "output_type": "stream",
     "text": [
      "C:\\Users\\Nutzer\\anaconda3\\lib\\site-packages\\sklearn\\linear_model\\_logistic.py:458: ConvergenceWarning: lbfgs failed to converge (status=1):\n",
      "STOP: TOTAL NO. of ITERATIONS REACHED LIMIT.\n",
      "\n",
      "Increase the number of iterations (max_iter) or scale the data as shown in:\n",
      "    https://scikit-learn.org/stable/modules/preprocessing.html\n",
      "Please also refer to the documentation for alternative solver options:\n",
      "    https://scikit-learn.org/stable/modules/linear_model.html#logistic-regression\n",
      "  n_iter_i = _check_optimize_result(\n"
     ]
    },
    {
     "data": {
      "text/html": [
       "<style>#sk-container-id-14 {color: black;background-color: white;}#sk-container-id-14 pre{padding: 0;}#sk-container-id-14 div.sk-toggleable {background-color: white;}#sk-container-id-14 label.sk-toggleable__label {cursor: pointer;display: block;width: 100%;margin-bottom: 0;padding: 0.3em;box-sizing: border-box;text-align: center;}#sk-container-id-14 label.sk-toggleable__label-arrow:before {content: \"▸\";float: left;margin-right: 0.25em;color: #696969;}#sk-container-id-14 label.sk-toggleable__label-arrow:hover:before {color: black;}#sk-container-id-14 div.sk-estimator:hover label.sk-toggleable__label-arrow:before {color: black;}#sk-container-id-14 div.sk-toggleable__content {max-height: 0;max-width: 0;overflow: hidden;text-align: left;background-color: #f0f8ff;}#sk-container-id-14 div.sk-toggleable__content pre {margin: 0.2em;color: black;border-radius: 0.25em;background-color: #f0f8ff;}#sk-container-id-14 input.sk-toggleable__control:checked~div.sk-toggleable__content {max-height: 200px;max-width: 100%;overflow: auto;}#sk-container-id-14 input.sk-toggleable__control:checked~label.sk-toggleable__label-arrow:before {content: \"▾\";}#sk-container-id-14 div.sk-estimator input.sk-toggleable__control:checked~label.sk-toggleable__label {background-color: #d4ebff;}#sk-container-id-14 div.sk-label input.sk-toggleable__control:checked~label.sk-toggleable__label {background-color: #d4ebff;}#sk-container-id-14 input.sk-hidden--visually {border: 0;clip: rect(1px 1px 1px 1px);clip: rect(1px, 1px, 1px, 1px);height: 1px;margin: -1px;overflow: hidden;padding: 0;position: absolute;width: 1px;}#sk-container-id-14 div.sk-estimator {font-family: monospace;background-color: #f0f8ff;border: 1px dotted black;border-radius: 0.25em;box-sizing: border-box;margin-bottom: 0.5em;}#sk-container-id-14 div.sk-estimator:hover {background-color: #d4ebff;}#sk-container-id-14 div.sk-parallel-item::after {content: \"\";width: 100%;border-bottom: 1px solid gray;flex-grow: 1;}#sk-container-id-14 div.sk-label:hover label.sk-toggleable__label {background-color: #d4ebff;}#sk-container-id-14 div.sk-serial::before {content: \"\";position: absolute;border-left: 1px solid gray;box-sizing: border-box;top: 0;bottom: 0;left: 50%;z-index: 0;}#sk-container-id-14 div.sk-serial {display: flex;flex-direction: column;align-items: center;background-color: white;padding-right: 0.2em;padding-left: 0.2em;position: relative;}#sk-container-id-14 div.sk-item {position: relative;z-index: 1;}#sk-container-id-14 div.sk-parallel {display: flex;align-items: stretch;justify-content: center;background-color: white;position: relative;}#sk-container-id-14 div.sk-item::before, #sk-container-id-14 div.sk-parallel-item::before {content: \"\";position: absolute;border-left: 1px solid gray;box-sizing: border-box;top: 0;bottom: 0;left: 50%;z-index: -1;}#sk-container-id-14 div.sk-parallel-item {display: flex;flex-direction: column;z-index: 1;position: relative;background-color: white;}#sk-container-id-14 div.sk-parallel-item:first-child::after {align-self: flex-end;width: 50%;}#sk-container-id-14 div.sk-parallel-item:last-child::after {align-self: flex-start;width: 50%;}#sk-container-id-14 div.sk-parallel-item:only-child::after {width: 0;}#sk-container-id-14 div.sk-dashed-wrapped {border: 1px dashed gray;margin: 0 0.4em 0.5em 0.4em;box-sizing: border-box;padding-bottom: 0.4em;background-color: white;}#sk-container-id-14 div.sk-label label {font-family: monospace;font-weight: bold;display: inline-block;line-height: 1.2em;}#sk-container-id-14 div.sk-label-container {text-align: center;}#sk-container-id-14 div.sk-container {/* jupyter's `normalize.less` sets `[hidden] { display: none; }` but bootstrap.min.css set `[hidden] { display: none !important; }` so we also need the `!important` here to be able to override the default hidden behavior on the sphinx rendered scikit-learn.org. See: https://github.com/scikit-learn/scikit-learn/issues/21755 */display: inline-block !important;position: relative;}#sk-container-id-14 div.sk-text-repr-fallback {display: none;}</style><div id=\"sk-container-id-14\" class=\"sk-top-container\"><div class=\"sk-text-repr-fallback\"><pre>LogisticRegression()</pre><b>In a Jupyter environment, please rerun this cell to show the HTML representation or trust the notebook. <br />On GitHub, the HTML representation is unable to render, please try loading this page with nbviewer.org.</b></div><div class=\"sk-container\" hidden><div class=\"sk-item\"><div class=\"sk-estimator sk-toggleable\"><input class=\"sk-toggleable__control sk-hidden--visually\" id=\"sk-estimator-id-14\" type=\"checkbox\" checked><label for=\"sk-estimator-id-14\" class=\"sk-toggleable__label sk-toggleable__label-arrow\">LogisticRegression</label><div class=\"sk-toggleable__content\"><pre>LogisticRegression()</pre></div></div></div></div></div>"
      ],
      "text/plain": [
       "LogisticRegression()"
      ]
     },
     "execution_count": 137,
     "metadata": {},
     "output_type": "execute_result"
    }
   ],
   "source": [
    "# Step 4: Fit the model on the training dataset\n",
    "clf_LogReg_vect.fit(X_train_text, Y_train)\n",
    "\n",
    "# takes 1 minute"
   ]
  },
  {
   "cell_type": "code",
   "execution_count": 138,
   "id": "94671ec7",
   "metadata": {},
   "outputs": [
    {
     "data": {
      "text/plain": [
       "0.724589971195109"
      ]
     },
     "execution_count": 138,
     "metadata": {},
     "output_type": "execute_result"
    }
   ],
   "source": [
    "# get accuracy\n",
    "accuracy_logReg_vect = clf_LogReg_vect.score(X_test_text, Y_test)\n",
    "accuracy_logReg_vect\n"
   ]
  },
  {
   "cell_type": "code",
   "execution_count": 139,
   "id": "89438357",
   "metadata": {},
   "outputs": [
    {
     "data": {
      "text/html": [
       "<div>\n",
       "<style scoped>\n",
       "    .dataframe tbody tr th:only-of-type {\n",
       "        vertical-align: middle;\n",
       "    }\n",
       "\n",
       "    .dataframe tbody tr th {\n",
       "        vertical-align: top;\n",
       "    }\n",
       "\n",
       "    .dataframe thead th {\n",
       "        text-align: right;\n",
       "    }\n",
       "</style>\n",
       "<table border=\"1\" class=\"dataframe\">\n",
       "  <thead>\n",
       "    <tr style=\"text-align: right;\">\n",
       "      <th>predict</th>\n",
       "      <th>0.0</th>\n",
       "      <th>1.0</th>\n",
       "      <th>2.0</th>\n",
       "    </tr>\n",
       "    <tr>\n",
       "      <th>real</th>\n",
       "      <th></th>\n",
       "      <th></th>\n",
       "      <th></th>\n",
       "    </tr>\n",
       "  </thead>\n",
       "  <tbody>\n",
       "    <tr>\n",
       "      <th>0.0</th>\n",
       "      <td>5829</td>\n",
       "      <td>774</td>\n",
       "      <td>827</td>\n",
       "    </tr>\n",
       "    <tr>\n",
       "      <th>1.0</th>\n",
       "      <td>903</td>\n",
       "      <td>4017</td>\n",
       "      <td>356</td>\n",
       "    </tr>\n",
       "    <tr>\n",
       "      <th>2.0</th>\n",
       "      <td>1336</td>\n",
       "      <td>489</td>\n",
       "      <td>2480</td>\n",
       "    </tr>\n",
       "  </tbody>\n",
       "</table>\n",
       "</div>"
      ],
      "text/plain": [
       "predict   0.0   1.0   2.0\n",
       "real                     \n",
       "0.0      5829   774   827\n",
       "1.0       903  4017   356\n",
       "2.0      1336   489  2480"
      ]
     },
     "execution_count": 139,
     "metadata": {},
     "output_type": "execute_result"
    }
   ],
   "source": [
    "# get confusion matrix\n",
    "y_pred_LogReg_vect = clf_LogReg_vect.predict(X_test_text)\n",
    "pd.crosstab(Y_test, y_pred_LogReg_vect, rownames=[\"real\"], colnames=[\"predict\"])\n"
   ]
  },
  {
   "cell_type": "code",
   "execution_count": 140,
   "id": "25a4dc91",
   "metadata": {},
   "outputs": [
    {
     "name": "stdout",
     "output_type": "stream",
     "text": [
      "Logistic Regression vect classification report:\n",
      "                precision    recall  f1-score   support\n",
      "\n",
      "         0.0       0.72      0.78      0.75      7430\n",
      "         1.0       0.76      0.76      0.76      5276\n",
      "         2.0       0.68      0.58      0.62      4305\n",
      "\n",
      "    accuracy                           0.72     17011\n",
      "   macro avg       0.72      0.71      0.71     17011\n",
      "weighted avg       0.72      0.72      0.72     17011\n",
      "\n"
     ]
    }
   ],
   "source": [
    "from sklearn.metrics import classification_report \n",
    "\n",
    "# get classification report\n",
    "print(\"Logistic Regression vect classification report:\\n \", classification_report (Y_test, y_pred_LogReg_vect))\n"
   ]
  },
  {
   "cell_type": "code",
   "execution_count": 141,
   "id": "f6d9b3f0",
   "metadata": {},
   "outputs": [
    {
     "name": "stdout",
     "output_type": "stream",
     "text": [
      "[[5829  774  827]\n",
      " [ 903 4017  356]\n",
      " [1336  489 2480]]\n"
     ]
    }
   ],
   "source": [
    "# create confusion matrix\n",
    "cf_matrix_LogReg_vect = confusion_matrix(Y_test, y_pred_LogReg_vect)\n",
    "print(cf_matrix_LogReg_vect)\n"
   ]
  },
  {
   "cell_type": "code",
   "execution_count": null,
   "id": "511b2519",
   "metadata": {},
   "outputs": [],
   "source": []
  },
  {
   "cell_type": "code",
   "execution_count": null,
   "id": "2b794981",
   "metadata": {},
   "outputs": [],
   "source": []
  },
  {
   "cell_type": "code",
   "execution_count": null,
   "id": "8cfced71",
   "metadata": {},
   "outputs": [],
   "source": []
  },
  {
   "cell_type": "markdown",
   "id": "65ddb601",
   "metadata": {},
   "source": [
    "# COMPARE MODELS ON TEXT DATA ONLY"
   ]
  },
  {
   "cell_type": "code",
   "execution_count": 142,
   "id": "15c6267a",
   "metadata": {},
   "outputs": [
    {
     "name": "stdout",
     "output_type": "stream",
     "text": [
      "LightGBM vect accuracy score : 0.5588148844865087\n",
      "Naive Bayes Bernoulli vect accuracy score : 0.549820704250191\n",
      "Naive Bayes Multinomial vect accuracy score : 0.5930280406795603\n",
      "Naive Bayes Complement vect accuracy score : 0.6222444300746576\n",
      "Logistic Regression vect accuracy score : 0.724589971195109\n"
     ]
    }
   ],
   "source": [
    "print(\"LightGBM vect accuracy score :\", accuracy_LightGBM_vect)\n",
    "print(\"Naive Bayes Bernoulli vect accuracy score :\", accuracyNB_Bernoulli_vect)\n",
    "print(\"Naive Bayes Multinomial vect accuracy score :\", accuracyNB_Multinomial_vect)\n",
    "print(\"Naive Bayes Complement vect accuracy score :\", accuracyNB_Complement_vect)\n",
    "# print(\"KNN vect accuracy score :\", accuracy_knn_vect)\n",
    "# print(\"SVM vect accuracy score :\", accuracy_SVM_vect)\n",
    "print(\"Logistic Regression vect accuracy score :\", accuracy_logReg_vect)\n"
   ]
  },
  {
   "cell_type": "code",
   "execution_count": 143,
   "id": "6de5788b",
   "metadata": {},
   "outputs": [],
   "source": [
    "# 5 only (without KNN, without SVM)\n",
    "#Creating the Dictionary with model name as key adn accuracy as key-value\n",
    "labels_vect  = {'LightGBM vect':accuracy_LightGBM_vect,'Naive Bayes Bernoulli vect':accuracyNB_Bernoulli_vect,\n",
    "        'Naive Bayes Multinomial vect':accuracyNB_Multinomial_vect,'Naive Bayes Complement vect':accuracyNB_Complement_vect,\n",
    "        'Logistic Regression vect':accuracy_logReg_vect}\n"
   ]
  },
  {
   "cell_type": "code",
   "execution_count": 144,
   "id": "174d5609",
   "metadata": {},
   "outputs": [
    {
     "data": {
      "image/png": "[encoded data removed]",
      "text/plain": [
       "<Figure size 1900x1000 with 1 Axes>"
      ]
     },
     "metadata": {},
     "output_type": "display_data"
    }
   ],
   "source": [
    "#Plotting accuracy of all the models with Bar-Graphs\n",
    "plt.figure(figsize=(19,10))\n",
    "plt.title('Comparing Accuracy of ML Models on vectorized text data',fontsize=20)\n",
    "colors=['red','yellow','orange','magenta', 'gray']\n",
    "plt.xticks(fontsize=10,color='black')\n",
    "plt.yticks(fontsize=20,color='black')\n",
    "plt.ylabel('Accuracy',fontsize=20)\n",
    "plt.xlabel('Models',fontsize=20)\n",
    "plt.bar(labels_vect.keys(),labels_vect.values(),edgecolor='black',color=colors, linewidth=2,alpha=0.5);\n",
    "\n"
   ]
  },
  {
   "cell_type": "code",
   "execution_count": null,
   "id": "931558b9",
   "metadata": {},
   "outputs": [],
   "source": []
  },
  {
   "cell_type": "code",
   "execution_count": null,
   "id": "2d1f1cfa",
   "metadata": {},
   "outputs": [],
   "source": []
  },
  {
   "cell_type": "code",
   "execution_count": null,
   "id": "4cfb2319",
   "metadata": {},
   "outputs": [],
   "source": []
  },
  {
   "cell_type": "markdown",
   "id": "54f91ab2",
   "metadata": {},
   "source": [
    "# COMPARE NUMERIC AND TF-IDF TEXT RESULTS"
   ]
  },
  {
   "cell_type": "code",
   "execution_count": 145,
   "id": "de57ee44",
   "metadata": {},
   "outputs": [
    {
     "name": "stdout",
     "output_type": "stream",
     "text": [
      "LightGBM accuracy score : 0.6993709952383752\n",
      "Naive Bayes Bernoulli accuracy score : 0.7734995003233202\n",
      "Naive Bayes Multinomial accuracy score : 0.3325495267767915\n",
      "Naive Bayes Complement accuracy score : 0.3272000470283934\n",
      "Naive Bayes Gaussian accuracy score : 0.43007465757451063\n",
      "KNN accuracy score : 0.927341132208571\n",
      "SVM accuracy score : 0.8691434953853389\n",
      "Logistic Regression accuracy score : 0.9448592087472811\n"
     ]
    }
   ],
   "source": [
    "print(\"LightGBM accuracy score :\", accuracy_LightGBM)\n",
    "print(\"Naive Bayes Bernoulli accuracy score :\", accuracyNB_Bernoulli)\n",
    "print(\"Naive Bayes Multinomial accuracy score :\", accuracyNB_Multinomial)\n",
    "print(\"Naive Bayes Complement accuracy score :\", accuracyNB_Complement)\n",
    "print(\"Naive Bayes Gaussian accuracy score :\", accuracyNB_Gaussian)\n",
    "print(\"KNN accuracy score :\", accuracy_knn)\n",
    "print(\"SVM accuracy score :\", accuracy_SVM)\n",
    "print(\"Logistic Regression accuracy score :\", accuracy_logReg)"
   ]
  },
  {
   "cell_type": "code",
   "execution_count": 146,
   "id": "26ea0113",
   "metadata": {},
   "outputs": [
    {
     "data": {
      "image/png": "[encoded data removed]",
      "text/plain": [
       "<Figure size 1900x1000 with 1 Axes>"
      ]
     },
     "metadata": {},
     "output_type": "display_data"
    }
   ],
   "source": [
    "#Plotting accuracy of all the models with Bar-Graphs\n",
    "plt.figure(figsize=(19,10))\n",
    "plt.title('Comparing Accuracy of ML Models on numeric data',fontsize=20)\n",
    "colors=['red','yellow','orange','magenta', 'blue', 'cyan', 'green', 'gray']\n",
    "plt.xticks(fontsize=10,color='black')\n",
    "plt.yticks(fontsize=20,color='black')\n",
    "plt.ylabel('Accuracy',fontsize=20)\n",
    "plt.xlabel('Models',fontsize=20)\n",
    "plt.bar(labels.keys(),labels.values(),edgecolor='black',color=colors, linewidth=2,alpha=0.5);\n",
    "\n"
   ]
  },
  {
   "cell_type": "code",
   "execution_count": null,
   "id": "1fbe21af",
   "metadata": {},
   "outputs": [],
   "source": []
  },
  {
   "cell_type": "code",
   "execution_count": 147,
   "id": "f58ac57d",
   "metadata": {},
   "outputs": [
    {
     "name": "stdout",
     "output_type": "stream",
     "text": [
      "Results from text data\n",
      "\n",
      "LightGBM vect accuracy score : 0.5588148844865087\n",
      "Naive Bayes Bernoulli vect accuracy score : 0.549820704250191\n",
      "Naive Bayes Multinomial vect accuracy score : 0.5930280406795603\n",
      "Naive Bayes Complement vect accuracy score : 0.6222444300746576\n",
      "Logistic Regression vect accuracy score : 0.724589971195109\n"
     ]
    }
   ],
   "source": [
    "###### RESULTS FROM TEXT DATA\n",
    "print(\"Results from text data\\n\")\n",
    "print(\"LightGBM vect accuracy score :\", accuracy_LightGBM_vect)\n",
    "print(\"Naive Bayes Bernoulli vect accuracy score :\", accuracyNB_Bernoulli_vect)\n",
    "print(\"Naive Bayes Multinomial vect accuracy score :\", accuracyNB_Multinomial_vect)\n",
    "print(\"Naive Bayes Complement vect accuracy score :\", accuracyNB_Complement_vect)\n",
    "# print(\"KNN vect accuracy score :\", accuracy_knn_vect)\n",
    "# print(\"SVM vect accuracy score :\", accuracy_SVM_vect)\n",
    "print(\"Logistic Regression vect accuracy score :\", accuracy_logReg_vect)\n"
   ]
  },
  {
   "cell_type": "code",
   "execution_count": 148,
   "id": "5939a6de",
   "metadata": {},
   "outputs": [
    {
     "data": {
      "image/png": "[encoded data removed]",
      "text/plain": [
       "<Figure size 1900x1000 with 1 Axes>"
      ]
     },
     "metadata": {},
     "output_type": "display_data"
    }
   ],
   "source": [
    "#Plotting accuracy of all the models with Bar-Graphs\n",
    "plt.figure(figsize=(19,10))\n",
    "plt.title('Comparing Accuracy of ML Models on vectorized text data',fontsize=20)\n",
    "colors=['red','yellow','orange','magenta', 'gray']\n",
    "plt.xticks(fontsize=10,color='black')\n",
    "plt.yticks(fontsize=20,color='black')\n",
    "plt.ylabel('Accuracy',fontsize=20)\n",
    "plt.xlabel('Models',fontsize=20)\n",
    "plt.bar(labels_vect.keys(),labels_vect.values(),edgecolor='black',color=colors, linewidth=2,alpha=0.5);\n",
    "\n"
   ]
  },
  {
   "cell_type": "code",
   "execution_count": null,
   "id": "1ee4e0aa",
   "metadata": {},
   "outputs": [],
   "source": []
  },
  {
   "cell_type": "code",
   "execution_count": 149,
   "id": "6a9ad410",
   "metadata": {},
   "outputs": [
    {
     "name": "stdout",
     "output_type": "stream",
     "text": [
      "Results from both data in comparison\n",
      "\n",
      "LightGBM accuracy score : 0.6993709952383752\n",
      "LightGBM vect accuracy score : 0.5588148844865087 \n",
      "\n",
      "Naive Bayes Bernoulli accuracy score : 0.7734995003233202\n",
      "Naive Bayes Bernoulli vect accuracy score : 0.549820704250191 \n",
      "\n",
      "Naive Bayes Multinomial accuracy score : 0.3325495267767915\n",
      "Naive Bayes Multinomial vect accuracy score : 0.5930280406795603 \n",
      "\n",
      "Naive Bayes Complement accuracy score : 0.3272000470283934\n",
      "Naive Bayes Complement vect accuracy score : 0.6222444300746576 \n",
      "\n",
      "KNN accuracy score : 0.927341132208571 \n",
      "\n",
      "SVM accuracy score : 0.8691434953853389 \n",
      "\n",
      "Logistic Regression accuracy score : 0.9448592087472811\n",
      "Logistic Regression vect accuracy score : 0.724589971195109\n"
     ]
    }
   ],
   "source": [
    "# Results from both data\n",
    "\n",
    "print(\"Results from both data in comparison\\n\")\n",
    "\n",
    "print(\"LightGBM accuracy score :\", accuracy_LightGBM)\n",
    "print(\"LightGBM vect accuracy score :\", accuracy_LightGBM_vect, \"\\n\")\n",
    "\n",
    "print(\"Naive Bayes Bernoulli accuracy score :\", accuracyNB_Bernoulli)\n",
    "print(\"Naive Bayes Bernoulli vect accuracy score :\", accuracyNB_Bernoulli_vect, \"\\n\")\n",
    "\n",
    "print(\"Naive Bayes Multinomial accuracy score :\", accuracyNB_Multinomial)\n",
    "print(\"Naive Bayes Multinomial vect accuracy score :\", accuracyNB_Multinomial_vect, \"\\n\")\n",
    "\n",
    "print(\"Naive Bayes Complement accuracy score :\", accuracyNB_Complement)\n",
    "print(\"Naive Bayes Complement vect accuracy score :\", accuracyNB_Complement_vect, \"\\n\")\n",
    "\n",
    "print(\"KNN accuracy score :\", accuracy_knn, \"\\n\")\n",
    "# print(\"KNN vect accuracy score :\", accuracy_knn_vect) # super schlecht!\n",
    "\n",
    "print(\"SVM accuracy score :\", accuracy_SVM, \"\\n\")\n",
    "# print(\"SVM vect accuracy score :\", accuracy_SVM_vect) # super schlecht!\n",
    "\n",
    "print(\"Logistic Regression accuracy score :\", accuracy_logReg)\n",
    "print(\"Logistic Regression vect accuracy score :\", accuracy_logReg_vect)\n"
   ]
  },
  {
   "cell_type": "code",
   "execution_count": null,
   "id": "4efb0750",
   "metadata": {},
   "outputs": [],
   "source": []
  },
  {
   "cell_type": "code",
   "execution_count": null,
   "id": "0d4a190a",
   "metadata": {},
   "outputs": [],
   "source": []
  }
 ],
 "metadata": {
  "kernelspec": {
   "display_name": "Python 3 (ipykernel)",
   "language": "python",
   "name": "python3"
  },
  "language_info": {
   "codemirror_mode": {
    "name": "ipython",
    "version": 3
   },
   "file_extension": ".py",
   "mimetype": "text/x-python",
   "name": "python",
   "nbconvert_exporter": "python",
   "pygments_lexer": "ipython3",
   "version": "3.10.9"
  }
 },
 "nbformat": 4,
 "nbformat_minor": 5
}
