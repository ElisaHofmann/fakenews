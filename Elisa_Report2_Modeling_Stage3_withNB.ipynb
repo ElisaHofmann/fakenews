{
 "cells": [
  {
   "cell_type": "markdown",
   "id": "03376b15",
   "metadata": {},
   "source": [
    "######################################################################################################\n",
    "# STAGE 3 - Analysis for 2 classes, title+content only\n",
    "######################################################################################################\n"
   ]
  },
  {
   "cell_type": "code",
   "execution_count": null,
   "id": "bb1c2d54",
   "metadata": {},
   "outputs": [],
   "source": [
    "# HOW TO IMPROVE MODELS?\n",
    "\n",
    "### 1: (done in Notebook \"Elisa_Report2_Modeling_Stage2\")\n",
    "# # try to improve prediction for left bottom corner (false negatives)\n",
    "# PARAMETER TUNING (e.g. num_boost_rounds)\n",
    "# --> improves results a lot\n",
    "\n",
    "\n",
    "### 2: (done in Notebook \"Elisa_Report2_Modeling_Stage2\")\n",
    "# use class_weights\n",
    "# class 1: weight it 1,38 times\n",
    "# done for logistic regression, passive aggressive classifier, SGD, LightGBM\n",
    "\n",
    "# LogReg, PassiveAggressive, SGD: as attributes (class_weight=class_weights)\n",
    "\n",
    "# LightGBM: in params \n",
    "\n",
    "# --> does not really improve results \n",
    "# --> test whether it changes in combination wih oversampling \n",
    "\n",
    "\n",
    "\n",
    "### 3: (done in Notebook \"Elisa_Report2_Modeling_Stage2_randomoversample\")\n",
    "# --> using OverSample to deal with slightly unbalanced dataset\n",
    "# Random Oversampling (RandomOverSampler) and SMOTE (SMOTE)\n",
    "# not much of an improvement\n",
    "\n",
    "\n",
    "### 4: DONE IN THIS NOTEBOOK\n",
    "# Cross Validation (Stage 3)\n",
    "\n",
    "\n",
    "### 5: DONE IN THIS NOTEBOOK\n",
    "# compare different vectorizing methods\n",
    "\n"
   ]
  },
  {
   "cell_type": "code",
   "execution_count": null,
   "id": "99126f79",
   "metadata": {},
   "outputs": [],
   "source": [
    "\n",
    "##########################\n",
    "## STAGE 3 - Analysis for 2 classes, title+content only\n",
    "##########################\n",
    "\n",
    "# USED PRE-PROCESSED DATASET: strats12_all_cleaned.pkl\n",
    "# LOADING AS DF12\n",
    "# --> contains 126.355  rows after pre-processing (2 classes)\n",
    "\n",
    "# 0.0    73271\n",
    "# 1.0    53084\n",
    "\n",
    "\n",
    "# comparison of 3 different vectorization methods for some models (Count Vectorizer (Bag of Words), TF-IDF, word2vec)\n",
    "\n",
    "## Pre-processing step:\n",
    "# vectorize text (TF-IDF, CountVectorizer, word2vec)\n",
    "\n",
    "\n",
    "# --> using stacking (combination of models with good performance from Stage 2)\n",
    "# --> using Cross Validation to improve models\n",
    "# --> interpret results\n",
    "\n",
    "# We only used title + content (vectorized)\n",
    "\n",
    "\n",
    "# MODELS FOR STAGE 3 (Optimized Models) - Chosen Models for final stage:\n",
    "# 2) Naive Bayes Multinomial\n",
    "# 4) Logistic Regression\n",
    "# 6) Passive Aggressive Classifier\n",
    "# 10) Stochastic Gradient Descent (SGD)\n"
   ]
  },
  {
   "cell_type": "code",
   "execution_count": null,
   "id": "a6a6ae37",
   "metadata": {},
   "outputs": [],
   "source": []
  },
  {
   "cell_type": "markdown",
   "id": "b9d2187f",
   "metadata": {},
   "source": [
    "# Import libraries"
   ]
  },
  {
   "cell_type": "code",
   "execution_count": 149,
   "id": "8155f53c",
   "metadata": {},
   "outputs": [],
   "source": [
    "import numpy as np\n",
    "import pandas as pd\n",
    "from matplotlib.pylab import plt\n",
    "import seaborn as sns\n",
    "# from sqlalchemy import create_engine\n",
    "# import sqlalchemy as \n",
    "import sqlite3\n",
    "import nltk\n",
    "from nltk.tokenize import word_tokenize\n",
    "from sklearn.metrics import confusion_matrix \n"
   ]
  },
  {
   "cell_type": "code",
   "execution_count": null,
   "id": "f6e1ed8b",
   "metadata": {},
   "outputs": [],
   "source": []
  },
  {
   "cell_type": "markdown",
   "id": "713c9cf9",
   "metadata": {},
   "source": [
    "# Load dataset + Pre-Processing"
   ]
  },
  {
   "cell_type": "code",
   "execution_count": 2,
   "id": "2d38ecd9",
   "metadata": {},
   "outputs": [],
   "source": [
    "df12 = pd.read_pickle(\"strats12_all_cleaned.pkl\")"
   ]
  },
  {
   "cell_type": "code",
   "execution_count": 150,
   "id": "ab123da2",
   "metadata": {},
   "outputs": [
    {
     "data": {
      "text/html": [
       "<div>\n",
       "<style scoped>\n",
       "    .dataframe tbody tr th:only-of-type {\n",
       "        vertical-align: middle;\n",
       "    }\n",
       "\n",
       "    .dataframe tbody tr th {\n",
       "        vertical-align: top;\n",
       "    }\n",
       "\n",
       "    .dataframe thead th {\n",
       "        text-align: right;\n",
       "    }\n",
       "</style>\n",
       "<table border=\"1\" class=\"dataframe\">\n",
       "  <thead>\n",
       "    <tr style=\"text-align: right;\">\n",
       "      <th></th>\n",
       "      <th>id</th>\n",
       "      <th>source</th>\n",
       "      <th>title</th>\n",
       "      <th>content</th>\n",
       "      <th>url</th>\n",
       "      <th>published_utc</th>\n",
       "      <th>label</th>\n",
       "      <th>factuality</th>\n",
       "      <th>questionable-source</th>\n",
       "      <th>conspiracy-pseudoscience</th>\n",
       "      <th>pro-science</th>\n",
       "      <th>content_cleaned</th>\n",
       "    </tr>\n",
       "  </thead>\n",
       "  <tbody>\n",
       "    <tr>\n",
       "      <th>0</th>\n",
       "      <td>21stcenturywire--2022-04-26--An Unsettling Rea...</td>\n",
       "      <td>21stcenturywire</td>\n",
       "      <td>An Unsettling Realization: ‘Mask Zealots are S...</td>\n",
       "      <td>It’s been noted how the fanatical nature of ma...</td>\n",
       "      <td>https://21stcenturywire.com/2022/04/26/an-unse...</td>\n",
       "      <td>1650983484</td>\n",
       "      <td>1.0</td>\n",
       "      <td>2.0</td>\n",
       "      <td>0.0</td>\n",
       "      <td>1.0</td>\n",
       "      <td>0.0</td>\n",
       "      <td>It’s noted fanatical nature masking proponents...</td>\n",
       "    </tr>\n",
       "    <tr>\n",
       "      <th>1</th>\n",
       "      <td>21stcenturywire--2022-04-24--Episode #416 – ‘S...</td>\n",
       "      <td>21stcenturywire</td>\n",
       "      <td>Episode #416 – ‘Soldiers of Fortune’ with gues...</td>\n",
       "      <td>Episode #416 of SUNDAY WIRE SHOW resumes this ...</td>\n",
       "      <td>https://21stcenturywire.com/2022/04/24/episode...</td>\n",
       "      <td>1650823248</td>\n",
       "      <td>1.0</td>\n",
       "      <td>2.0</td>\n",
       "      <td>0.0</td>\n",
       "      <td>1.0</td>\n",
       "      <td>0.0</td>\n",
       "      <td>Episode #416 SUNDAY WIRE SHOW resumes week, Ap...</td>\n",
       "    </tr>\n",
       "  </tbody>\n",
       "</table>\n",
       "</div>"
      ],
      "text/plain": [
       "                                                  id           source  \\\n",
       "0  21stcenturywire--2022-04-26--An Unsettling Rea...  21stcenturywire   \n",
       "1  21stcenturywire--2022-04-24--Episode #416 – ‘S...  21stcenturywire   \n",
       "\n",
       "                                               title  \\\n",
       "0  An Unsettling Realization: ‘Mask Zealots are S...   \n",
       "1  Episode #416 – ‘Soldiers of Fortune’ with gues...   \n",
       "\n",
       "                                             content  \\\n",
       "0  It’s been noted how the fanatical nature of ma...   \n",
       "1  Episode #416 of SUNDAY WIRE SHOW resumes this ...   \n",
       "\n",
       "                                                 url  published_utc  label  \\\n",
       "0  https://21stcenturywire.com/2022/04/26/an-unse...     1650983484    1.0   \n",
       "1  https://21stcenturywire.com/2022/04/24/episode...     1650823248    1.0   \n",
       "\n",
       "   factuality  questionable-source  conspiracy-pseudoscience  pro-science  \\\n",
       "0         2.0                  0.0                       1.0          0.0   \n",
       "1         2.0                  0.0                       1.0          0.0   \n",
       "\n",
       "                                     content_cleaned  \n",
       "0  It’s noted fanatical nature masking proponents...  \n",
       "1  Episode #416 SUNDAY WIRE SHOW resumes week, Ap...  "
      ]
     },
     "execution_count": 150,
     "metadata": {},
     "output_type": "execute_result"
    }
   ],
   "source": [
    "df12.head(2)"
   ]
  },
  {
   "cell_type": "code",
   "execution_count": 4,
   "id": "51b7c9b9",
   "metadata": {},
   "outputs": [
    {
     "name": "stdout",
     "output_type": "stream",
     "text": [
      "<class 'pandas.core.frame.DataFrame'>\n",
      "Int64Index: 170099 entries, 0 to 213392\n",
      "Data columns (total 11 columns):\n",
      " #   Column                    Non-Null Count   Dtype  \n",
      "---  ------                    --------------   -----  \n",
      " 0   id                        170099 non-null  object \n",
      " 1   source                    170099 non-null  object \n",
      " 2   title                     170099 non-null  object \n",
      " 3   content                   170099 non-null  object \n",
      " 4   url                       170099 non-null  object \n",
      " 5   published_utc             170099 non-null  int64  \n",
      " 6   label                     170099 non-null  float64\n",
      " 7   factuality                170099 non-null  float64\n",
      " 8   questionable-source       170099 non-null  float64\n",
      " 9   conspiracy-pseudoscience  170099 non-null  float64\n",
      " 10  pro-science               170099 non-null  float64\n",
      "dtypes: float64(5), int64(1), object(5)\n",
      "memory usage: 15.6+ MB\n"
     ]
    }
   ],
   "source": [
    "df12.info()"
   ]
  },
  {
   "cell_type": "code",
   "execution_count": null,
   "id": "f47228f6",
   "metadata": {},
   "outputs": [],
   "source": []
  },
  {
   "cell_type": "code",
   "execution_count": 5,
   "id": "3e44adad",
   "metadata": {},
   "outputs": [
    {
     "data": {
      "text/plain": [
       "0.0    73271\n",
       "1.0    53084\n",
       "2.0    43744\n",
       "Name: label, dtype: int64"
      ]
     },
     "execution_count": 5,
     "metadata": {},
     "output_type": "execute_result"
    }
   ],
   "source": [
    "# inspect labels\n",
    "df12[\"label\"].value_counts()\n",
    "\n",
    "# slightly unbalanced\n"
   ]
  },
  {
   "cell_type": "code",
   "execution_count": 6,
   "id": "a0db2eca",
   "metadata": {},
   "outputs": [],
   "source": [
    "### DELETE 2 in labels (delete 43744 rows)\n",
    "df12 = df12[df12[\"label\"] != 2]\n"
   ]
  },
  {
   "cell_type": "code",
   "execution_count": 7,
   "id": "27a0bbb4",
   "metadata": {},
   "outputs": [
    {
     "data": {
      "text/plain": [
       "0.0    73271\n",
       "1.0    53084\n",
       "Name: label, dtype: int64"
      ]
     },
     "execution_count": 7,
     "metadata": {},
     "output_type": "execute_result"
    }
   ],
   "source": [
    "# inspect labels\n",
    "df12[\"label\"].value_counts()\n",
    "\n",
    "# 0.0    73271\n",
    "# 1.0    53084"
   ]
  },
  {
   "cell_type": "code",
   "execution_count": 8,
   "id": "3d132396",
   "metadata": {},
   "outputs": [
    {
     "data": {
      "image/png": "[encoded data removed]",
      "text/plain": [
       "<Figure size 640x480 with 1 Axes>"
      ]
     },
     "metadata": {},
     "output_type": "display_data"
    }
   ],
   "source": [
    "# barplot of labels\n",
    "sns.countplot(x = \"label\", data = df12)\n",
    "plt.xticks(np.arange(2),[\"0: Reliable\", \"1: Unreliable\"])\n",
    "plt.ylabel(\"Frequency\")\n",
    "plt.xlabel(\"Outlet-level veracity labels\")\n",
    "plt.title(\"Frequencies of the two outlet-level veracity labels in 'df12' dataset\")\n",
    "plt.show();\n"
   ]
  },
  {
   "cell_type": "code",
   "execution_count": 9,
   "id": "fbcd2e59",
   "metadata": {
    "scrolled": true
   },
   "outputs": [
    {
     "name": "stdout",
     "output_type": "stream",
     "text": [
      "<class 'pandas.core.frame.DataFrame'>\n",
      "Int64Index: 126355 entries, 0 to 213392\n",
      "Data columns (total 11 columns):\n",
      " #   Column                    Non-Null Count   Dtype  \n",
      "---  ------                    --------------   -----  \n",
      " 0   id                        126355 non-null  object \n",
      " 1   source                    126355 non-null  object \n",
      " 2   title                     126355 non-null  object \n",
      " 3   content                   126355 non-null  object \n",
      " 4   url                       126355 non-null  object \n",
      " 5   published_utc             126355 non-null  int64  \n",
      " 6   label                     126355 non-null  float64\n",
      " 7   factuality                126355 non-null  float64\n",
      " 8   questionable-source       126355 non-null  float64\n",
      " 9   conspiracy-pseudoscience  126355 non-null  float64\n",
      " 10  pro-science               126355 non-null  float64\n",
      "dtypes: float64(5), int64(1), object(5)\n",
      "memory usage: 11.6+ MB\n"
     ]
    }
   ],
   "source": [
    "df12.info()"
   ]
  },
  {
   "cell_type": "code",
   "execution_count": null,
   "id": "0edf3971",
   "metadata": {},
   "outputs": [],
   "source": []
  },
  {
   "cell_type": "markdown",
   "id": "2f4a3cc1",
   "metadata": {},
   "source": [
    "# Remove Stop Words "
   ]
  },
  {
   "cell_type": "code",
   "execution_count": 10,
   "id": "50a90471",
   "metadata": {},
   "outputs": [
    {
     "name": "stderr",
     "output_type": "stream",
     "text": [
      "[nltk_data] Downloading package stopwords to\n",
      "[nltk_data]     C:\\Users\\Nutzer\\AppData\\Roaming\\nltk_data...\n",
      "[nltk_data]   Package stopwords is already up-to-date!\n"
     ]
    }
   ],
   "source": [
    "import nltk\n",
    "from nltk.corpus import stopwords\n",
    "\n",
    "# Download stopwords corpus if not already downloaded\n",
    "nltk.download('stopwords')\n",
    "\n",
    "# Load the stopwords\n",
    "stop_words = set(stopwords.words('english'))  # You can choose a different language if needed\n",
    "\n",
    "# Update stop words variable\n",
    "# stop_words.update([\",\", \".\"])\n",
    "\n",
    "additional_words = [\"?\", \"!\", \".\", \",\", \":\", \";\", \"-\", \"--\", \"...\", '\"', \"'\"]\n",
    "stop_words.update(set(additional_words))\n"
   ]
  },
  {
   "cell_type": "code",
   "execution_count": 11,
   "id": "02d1886d",
   "metadata": {
    "scrolled": true
   },
   "outputs": [
    {
     "name": "stdout",
     "output_type": "stream",
     "text": [
      "{'at', 'where', 'himself', \"don't\", 'through', 'couldn', 'both', '--', 'during', 'whom', 'is', 'while', \"it's\", 'have', 'all', 'before', 'be', \"hadn't\", 'into', 'few', \"that'll\", 'm', 'your', 'who', 'not', 'for', 'he', \"wasn't\", 'why', 'ours', \"you'll\", 'the', 'under', 'wouldn', 'if', 'now', 're', \"didn't\", 'had', 'such', 'same', 't', 'been', 'hers', 'shouldn', ':', 'that', 'most', 'than', 'of', 'having', 'this', 'so', 'no', 'then', \"mightn't\", 'and', 'are', 'y', \"isn't\", 'after', 'yourselves', 'each', 'hasn', 'what', 'they', \"needn't\", 'yourself', 'over', '.', 'themselves', 'between', \"you've\", 'him', 'd', 'shan', 'theirs', 'do', 'wasn', 'won', 'will', ',', 'up', 'with', 'by', 'about', \"she's\", 'haven', ';', 'them', '...', 'we', \"couldn't\", \"mustn't\", 'again', 'how', 'ourselves', 'an', 'weren', 'she', 'did', 'should', 'very', 'my', \"shan't\", 'it', 'itself', 'being', 'nor', 'some', 'has', 'hadn', 'more', 'you', '?', 've', 'her', 'their', \"shouldn't\", 'to', 'any', 'other', \"won't\", 'out', \"haven't\", 'those', \"doesn't\", 'below', 'until', 'own', 'ma', 'or', 'don', 'because', 'our', 'am', 'its', 'in', 'needn', '-', 'a', 's', 'isn', \"should've\", 'from', 'herself', 'mightn', 'which', \"weren't\", \"'\", 'doing', \"wouldn't\", \"you're\", 'these', 'me', 'against', 'myself', 'here', 'i', 'can', 'were', 'just', 'll', 'yours', 'was', 'as', 'aren', 'once', \"you'd\", 'off', \"aren't\", 'but', 'above', 'mustn', 'only', '!', 'his', 'further', 'o', 'does', \"hasn't\", 'too', 'down', 'there', 'doesn', '\"', 'ain', 'when', 'didn', 'on'}\n"
     ]
    }
   ],
   "source": [
    "# show stop words\n",
    "print(stop_words)\n"
   ]
  },
  {
   "cell_type": "code",
   "execution_count": 12,
   "id": "d75fc920",
   "metadata": {},
   "outputs": [
    {
     "data": {
      "text/plain": [
       "0    It’s been noted how the fanatical nature of ma...\n",
       "1    Episode #416 of SUNDAY WIRE SHOW resumes this ...\n",
       "2    Authoritarians in the UK government are gettin...\n",
       "3    After the 2020 election, many Americans began ...\n",
       "4    The high stakes game surrounding the Ukraine c...\n",
       "5    On the February 3, 2022 episode of Patrick Hen...\n",
       "6    These are the darkest, most difficult days in ...\n",
       "7    A shocking new trend is on the move in America...\n",
       "8    In this episode of the Patrick Henningsen Show...\n",
       "9    Liz Cheney invokes Ronald Reagan to bash those...\n",
       "Name: content, dtype: object"
      ]
     },
     "execution_count": 12,
     "metadata": {},
     "output_type": "execute_result"
    }
   ],
   "source": [
    "# content before removing stop words\n",
    "df12[\"content\"][:10]\n"
   ]
  },
  {
   "cell_type": "code",
   "execution_count": 13,
   "id": "bab8ae8b",
   "metadata": {},
   "outputs": [],
   "source": [
    "# Apply\n",
    "df12['content_cleaned'] = df12['content'].apply(lambda x: ' '.join([word for word in x.split() if word.lower() not in stop_words]))\n"
   ]
  },
  {
   "cell_type": "code",
   "execution_count": 14,
   "id": "da6e68ab",
   "metadata": {},
   "outputs": [
    {
     "data": {
      "text/plain": [
       "0    It’s noted fanatical nature masking proponents...\n",
       "1    Episode #416 SUNDAY WIRE SHOW resumes week, Ap...\n",
       "2    Authoritarians UK government getting increasin...\n",
       "3    2020 election, many Americans began question m...\n",
       "4    high stakes game surrounding Ukraine conflict ...\n",
       "5    February 3, 2022 episode Patrick Henningsen Sh...\n",
       "6    darkest, difficult days human history. facing ...\n",
       "7    shocking new trend move America: following his...\n",
       "8    episode Patrick Henningsen Show TNT Radio aire...\n",
       "9    Liz Cheney invokes Ronald Reagan bash GOP want...\n",
       "Name: content_cleaned, dtype: object"
      ]
     },
     "execution_count": 14,
     "metadata": {},
     "output_type": "execute_result"
    }
   ],
   "source": [
    "df12[\"content_cleaned\"][:10]\n"
   ]
  },
  {
   "cell_type": "code",
   "execution_count": null,
   "id": "8dae5a58",
   "metadata": {},
   "outputs": [],
   "source": []
  },
  {
   "cell_type": "markdown",
   "id": "8dfa16a6",
   "metadata": {},
   "source": [
    "# Title + Content Data from df12 dataset"
   ]
  },
  {
   "cell_type": "markdown",
   "id": "1312105b",
   "metadata": {},
   "source": [
    "# Create X and Y (only title and text)\n",
    "# X_train_text_df12_tfidf, \n",
    "# X_test_text_df12_tfidf, \n",
    "# Y_train_df12, \n",
    "# Y_test_df12 (uppercase letters)\n"
   ]
  },
  {
   "cell_type": "code",
   "execution_count": 15,
   "id": "1a5f29a6",
   "metadata": {},
   "outputs": [],
   "source": [
    "# DEFINE X and Y\n",
    "X_df12 = df12.drop(\"label\", axis=1)\n",
    "Y_df12 = df12[\"label\"]\n"
   ]
  },
  {
   "cell_type": "code",
   "execution_count": 16,
   "id": "478f46d0",
   "metadata": {},
   "outputs": [],
   "source": [
    "X_df12.columns = X_df12.columns.astype(str)"
   ]
  },
  {
   "cell_type": "code",
   "execution_count": 17,
   "id": "a937afb5",
   "metadata": {},
   "outputs": [
    {
     "name": "stdout",
     "output_type": "stream",
     "text": [
      "<class 'pandas.core.frame.DataFrame'>\n",
      "Int64Index: 126355 entries, 0 to 213392\n",
      "Data columns (total 11 columns):\n",
      " #   Column                    Non-Null Count   Dtype  \n",
      "---  ------                    --------------   -----  \n",
      " 0   id                        126355 non-null  object \n",
      " 1   source                    126355 non-null  object \n",
      " 2   title                     126355 non-null  object \n",
      " 3   content                   126355 non-null  object \n",
      " 4   url                       126355 non-null  object \n",
      " 5   published_utc             126355 non-null  int64  \n",
      " 6   factuality                126355 non-null  float64\n",
      " 7   questionable-source       126355 non-null  float64\n",
      " 8   conspiracy-pseudoscience  126355 non-null  float64\n",
      " 9   pro-science               126355 non-null  float64\n",
      " 10  content_cleaned           126355 non-null  object \n",
      "dtypes: float64(4), int64(1), object(6)\n",
      "memory usage: 11.6+ MB\n"
     ]
    }
   ],
   "source": [
    "X_df12.info()"
   ]
  },
  {
   "cell_type": "code",
   "execution_count": 18,
   "id": "779edb85",
   "metadata": {},
   "outputs": [
    {
     "data": {
      "text/plain": [
       "id                          0\n",
       "source                      0\n",
       "title                       0\n",
       "content                     0\n",
       "url                         0\n",
       "published_utc               0\n",
       "factuality                  0\n",
       "questionable-source         0\n",
       "conspiracy-pseudoscience    0\n",
       "pro-science                 0\n",
       "content_cleaned             0\n",
       "dtype: int64"
      ]
     },
     "execution_count": 18,
     "metadata": {},
     "output_type": "execute_result"
    }
   ],
   "source": [
    "X_df12.isnull().sum()"
   ]
  },
  {
   "cell_type": "code",
   "execution_count": 19,
   "id": "bc8b67f9",
   "metadata": {},
   "outputs": [
    {
     "name": "stdout",
     "output_type": "stream",
     "text": [
      "<class 'pandas.core.series.Series'>\n",
      "Int64Index: 126355 entries, 0 to 213392\n",
      "Series name: label\n",
      "Non-Null Count   Dtype  \n",
      "--------------   -----  \n",
      "126355 non-null  float64\n",
      "dtypes: float64(1)\n",
      "memory usage: 1.9 MB\n"
     ]
    }
   ],
   "source": [
    "Y_df12.info()"
   ]
  },
  {
   "cell_type": "code",
   "execution_count": 20,
   "id": "64278dd2",
   "metadata": {},
   "outputs": [
    {
     "data": {
      "text/plain": [
       "0"
      ]
     },
     "execution_count": 20,
     "metadata": {},
     "output_type": "execute_result"
    }
   ],
   "source": [
    "Y_df12.isnull().sum()"
   ]
  },
  {
   "cell_type": "code",
   "execution_count": null,
   "id": "534674bc",
   "metadata": {},
   "outputs": [],
   "source": []
  },
  {
   "cell_type": "markdown",
   "id": "286415bb",
   "metadata": {},
   "source": [
    "## Create Train / Test Datasets"
   ]
  },
  {
   "cell_type": "code",
   "execution_count": 21,
   "id": "cb37810d",
   "metadata": {},
   "outputs": [],
   "source": [
    "from sklearn.model_selection import train_test_split\n",
    "\n",
    "X_train_df12, X_test_df12, Y_train_df12, Y_test_df12 = train_test_split(X_df12, Y_df12, test_size=0.2)\n"
   ]
  },
  {
   "cell_type": "code",
   "execution_count": null,
   "id": "ebb94256",
   "metadata": {},
   "outputs": [],
   "source": []
  },
  {
   "cell_type": "markdown",
   "id": "6b21f9e7",
   "metadata": {},
   "source": [
    "# Vectorizing: TF-IDF VECTORIZER"
   ]
  },
  {
   "cell_type": "markdown",
   "id": "85de3fc3",
   "metadata": {},
   "source": [
    "### TFIDF Vectorizing\n",
    "### USING CONTENT_CLEANED AND TITLE ONLY\n"
   ]
  },
  {
   "cell_type": "code",
   "execution_count": 22,
   "id": "661e4589",
   "metadata": {},
   "outputs": [
    {
     "data": {
      "text/html": [
       "<style>#sk-container-id-1 {color: black;background-color: white;}#sk-container-id-1 pre{padding: 0;}#sk-container-id-1 div.sk-toggleable {background-color: white;}#sk-container-id-1 label.sk-toggleable__label {cursor: pointer;display: block;width: 100%;margin-bottom: 0;padding: 0.3em;box-sizing: border-box;text-align: center;}#sk-container-id-1 label.sk-toggleable__label-arrow:before {content: \"▸\";float: left;margin-right: 0.25em;color: #696969;}#sk-container-id-1 label.sk-toggleable__label-arrow:hover:before {color: black;}#sk-container-id-1 div.sk-estimator:hover label.sk-toggleable__label-arrow:before {color: black;}#sk-container-id-1 div.sk-toggleable__content {max-height: 0;max-width: 0;overflow: hidden;text-align: left;background-color: #f0f8ff;}#sk-container-id-1 div.sk-toggleable__content pre {margin: 0.2em;color: black;border-radius: 0.25em;background-color: #f0f8ff;}#sk-container-id-1 input.sk-toggleable__control:checked~div.sk-toggleable__content {max-height: 200px;max-width: 100%;overflow: auto;}#sk-container-id-1 input.sk-toggleable__control:checked~label.sk-toggleable__label-arrow:before {content: \"▾\";}#sk-container-id-1 div.sk-estimator input.sk-toggleable__control:checked~label.sk-toggleable__label {background-color: #d4ebff;}#sk-container-id-1 div.sk-label input.sk-toggleable__control:checked~label.sk-toggleable__label {background-color: #d4ebff;}#sk-container-id-1 input.sk-hidden--visually {border: 0;clip: rect(1px 1px 1px 1px);clip: rect(1px, 1px, 1px, 1px);height: 1px;margin: -1px;overflow: hidden;padding: 0;position: absolute;width: 1px;}#sk-container-id-1 div.sk-estimator {font-family: monospace;background-color: #f0f8ff;border: 1px dotted black;border-radius: 0.25em;box-sizing: border-box;margin-bottom: 0.5em;}#sk-container-id-1 div.sk-estimator:hover {background-color: #d4ebff;}#sk-container-id-1 div.sk-parallel-item::after {content: \"\";width: 100%;border-bottom: 1px solid gray;flex-grow: 1;}#sk-container-id-1 div.sk-label:hover label.sk-toggleable__label {background-color: #d4ebff;}#sk-container-id-1 div.sk-serial::before {content: \"\";position: absolute;border-left: 1px solid gray;box-sizing: border-box;top: 0;bottom: 0;left: 50%;z-index: 0;}#sk-container-id-1 div.sk-serial {display: flex;flex-direction: column;align-items: center;background-color: white;padding-right: 0.2em;padding-left: 0.2em;position: relative;}#sk-container-id-1 div.sk-item {position: relative;z-index: 1;}#sk-container-id-1 div.sk-parallel {display: flex;align-items: stretch;justify-content: center;background-color: white;position: relative;}#sk-container-id-1 div.sk-item::before, #sk-container-id-1 div.sk-parallel-item::before {content: \"\";position: absolute;border-left: 1px solid gray;box-sizing: border-box;top: 0;bottom: 0;left: 50%;z-index: -1;}#sk-container-id-1 div.sk-parallel-item {display: flex;flex-direction: column;z-index: 1;position: relative;background-color: white;}#sk-container-id-1 div.sk-parallel-item:first-child::after {align-self: flex-end;width: 50%;}#sk-container-id-1 div.sk-parallel-item:last-child::after {align-self: flex-start;width: 50%;}#sk-container-id-1 div.sk-parallel-item:only-child::after {width: 0;}#sk-container-id-1 div.sk-dashed-wrapped {border: 1px dashed gray;margin: 0 0.4em 0.5em 0.4em;box-sizing: border-box;padding-bottom: 0.4em;background-color: white;}#sk-container-id-1 div.sk-label label {font-family: monospace;font-weight: bold;display: inline-block;line-height: 1.2em;}#sk-container-id-1 div.sk-label-container {text-align: center;}#sk-container-id-1 div.sk-container {/* jupyter's `normalize.less` sets `[hidden] { display: none; }` but bootstrap.min.css set `[hidden] { display: none !important; }` so we also need the `!important` here to be able to override the default hidden behavior on the sphinx rendered scikit-learn.org. See: https://github.com/scikit-learn/scikit-learn/issues/21755 */display: inline-block !important;position: relative;}#sk-container-id-1 div.sk-text-repr-fallback {display: none;}</style><div id=\"sk-container-id-1\" class=\"sk-top-container\"><div class=\"sk-text-repr-fallback\"><pre>TfidfVectorizer()</pre><b>In a Jupyter environment, please rerun this cell to show the HTML representation or trust the notebook. <br />On GitHub, the HTML representation is unable to render, please try loading this page with nbviewer.org.</b></div><div class=\"sk-container\" hidden><div class=\"sk-item\"><div class=\"sk-estimator sk-toggleable\"><input class=\"sk-toggleable__control sk-hidden--visually\" id=\"sk-estimator-id-1\" type=\"checkbox\" checked><label for=\"sk-estimator-id-1\" class=\"sk-toggleable__label sk-toggleable__label-arrow\">TfidfVectorizer</label><div class=\"sk-toggleable__content\"><pre>TfidfVectorizer()</pre></div></div></div></div></div>"
      ],
      "text/plain": [
       "TfidfVectorizer()"
      ]
     },
     "execution_count": 22,
     "metadata": {},
     "output_type": "execute_result"
    }
   ],
   "source": [
    "# VECTORIZING\n",
    "# TAKES 2 MINUTES\n",
    "\n",
    "from sklearn.feature_extraction.text import TfidfVectorizer\n",
    "from scipy.sparse import hstack, csr_matrix\n",
    "\n",
    "vectorizer1_df12_tfidf = TfidfVectorizer()\n",
    "vectorizer2_df12_tfidf = TfidfVectorizer()\n",
    "\n",
    "vectorizer1_df12_tfidf.fit(X_train_df12['content_cleaned'])\n",
    "vectorizer2_df12_tfidf.fit(X_train_df12['title'])\n"
   ]
  },
  {
   "cell_type": "code",
   "execution_count": 23,
   "id": "98ad6711",
   "metadata": {},
   "outputs": [],
   "source": [
    "# TAKES 2 MINUTES\n",
    "\n",
    "X_train_content_df12_tfidf = vectorizer1_df12_tfidf.transform(X_train_df12['content_cleaned'])\n",
    "X_train_title_df12_tfidf = vectorizer2_df12_tfidf.transform(X_train_df12['title'])\n",
    "X_test_content_df12_tfidf = vectorizer1_df12_tfidf.transform(X_test_df12['content_cleaned'])\n",
    "X_test_title_df12_tfidf = vectorizer2_df12_tfidf.transform(X_test_df12['title'])\n"
   ]
  },
  {
   "cell_type": "code",
   "execution_count": 25,
   "id": "b1c2175b",
   "metadata": {},
   "outputs": [],
   "source": [
    "X_train_text_df12_tfidf = hstack([X_train_content_df12_tfidf, X_train_title_df12_tfidf])\n",
    "X_test_text_df12_tfidf = hstack([X_test_content_df12_tfidf, X_test_title_df12_tfidf])\n"
   ]
  },
  {
   "cell_type": "code",
   "execution_count": 26,
   "id": "ee9ba66d",
   "metadata": {},
   "outputs": [
    {
     "data": {
      "text/plain": [
       "<101084x340148 sparse matrix of type '<class 'numpy.float64'>'\n",
       "\twith 21424947 stored elements in Compressed Sparse Row format>"
      ]
     },
     "execution_count": 26,
     "metadata": {},
     "output_type": "execute_result"
    }
   ],
   "source": [
    "X_train_text_df12_tfidf"
   ]
  },
  {
   "cell_type": "code",
   "execution_count": 27,
   "id": "04ebc270",
   "metadata": {},
   "outputs": [
    {
     "data": {
      "text/plain": [
       "(101084, 340148)"
      ]
     },
     "execution_count": 27,
     "metadata": {},
     "output_type": "execute_result"
    }
   ],
   "source": [
    "X_train_text_df12_tfidf.shape"
   ]
  },
  {
   "cell_type": "code",
   "execution_count": 28,
   "id": "6eeb3233",
   "metadata": {},
   "outputs": [
    {
     "data": {
      "text/plain": [
       "<25271x340148 sparse matrix of type '<class 'numpy.float64'>'\n",
       "\twith 5299931 stored elements in Compressed Sparse Row format>"
      ]
     },
     "execution_count": 28,
     "metadata": {},
     "output_type": "execute_result"
    }
   ],
   "source": [
    "X_test_text_df12_tfidf"
   ]
  },
  {
   "cell_type": "code",
   "execution_count": 29,
   "id": "c288bad4",
   "metadata": {
    "scrolled": true
   },
   "outputs": [
    {
     "data": {
      "text/plain": [
       "(25271, 340148)"
      ]
     },
     "execution_count": 29,
     "metadata": {},
     "output_type": "execute_result"
    }
   ],
   "source": [
    "X_test_text_df12_tfidf.shape"
   ]
  },
  {
   "cell_type": "code",
   "execution_count": 30,
   "id": "e04fca25",
   "metadata": {},
   "outputs": [
    {
     "data": {
      "text/plain": [
       "22684     0.0\n",
       "65415     1.0\n",
       "113795    0.0\n",
       "73055     0.0\n",
       "71554     1.0\n",
       "         ... \n",
       "92007     0.0\n",
       "96663     0.0\n",
       "90426     1.0\n",
       "11148     0.0\n",
       "66170     1.0\n",
       "Name: label, Length: 101084, dtype: float64"
      ]
     },
     "execution_count": 30,
     "metadata": {},
     "output_type": "execute_result"
    }
   ],
   "source": [
    "Y_train_df12"
   ]
  },
  {
   "cell_type": "code",
   "execution_count": 31,
   "id": "411611d1",
   "metadata": {},
   "outputs": [
    {
     "data": {
      "text/plain": [
       "191155    0.0\n",
       "69721     1.0\n",
       "57443     0.0\n",
       "14137     1.0\n",
       "139098    1.0\n",
       "         ... \n",
       "83307     0.0\n",
       "101204    0.0\n",
       "122843    1.0\n",
       "43518     0.0\n",
       "125717    1.0\n",
       "Name: label, Length: 25271, dtype: float64"
      ]
     },
     "execution_count": 31,
     "metadata": {},
     "output_type": "execute_result"
    }
   ],
   "source": [
    "Y_test_df12"
   ]
  },
  {
   "cell_type": "code",
   "execution_count": null,
   "id": "9c6255fe",
   "metadata": {},
   "outputs": [],
   "source": []
  },
  {
   "cell_type": "code",
   "execution_count": 32,
   "id": "64124a6c",
   "metadata": {},
   "outputs": [],
   "source": [
    "## MODELS FOR STAGE 3 (Optimized Models) - Chosen Models for final stage:\n",
    "\n",
    "# 2) Naive Bayes Multinomial\n",
    "# 4) Logistic Regression\n",
    "\n",
    "# 6) Passive Aggressive Classifier \n",
    "# 7) Stochastic Gradient Descent (SGD)\n"
   ]
  },
  {
   "cell_type": "code",
   "execution_count": null,
   "id": "09be64d6",
   "metadata": {},
   "outputs": [],
   "source": []
  },
  {
   "cell_type": "markdown",
   "id": "dea52075",
   "metadata": {},
   "source": [
    "# REPRODUCE MODELS WITH TFIDF AS IN STAGE 2\n"
   ]
  },
  {
   "cell_type": "code",
   "execution_count": null,
   "id": "710c49e2",
   "metadata": {},
   "outputs": [],
   "source": []
  },
  {
   "cell_type": "markdown",
   "id": "ff5dabef",
   "metadata": {},
   "source": [
    "# 2 MULTINOMIAL NAIVE BAYES on text data df12 TFIDF\n"
   ]
  },
  {
   "cell_type": "code",
   "execution_count": 151,
   "id": "32f61444",
   "metadata": {},
   "outputs": [],
   "source": [
    "from sklearn.naive_bayes import MultinomialNB"
   ]
  },
  {
   "cell_type": "code",
   "execution_count": 152,
   "id": "aa4a2801",
   "metadata": {},
   "outputs": [],
   "source": [
    "from sklearn.naive_bayes import MultinomialNB\n",
    "clf_mult_df12_tfidf = MultinomialNB()\n"
   ]
  },
  {
   "cell_type": "code",
   "execution_count": 153,
   "id": "0470c616",
   "metadata": {},
   "outputs": [
    {
     "data": {
      "text/html": [
       "<style>#sk-container-id-12 {color: black;background-color: white;}#sk-container-id-12 pre{padding: 0;}#sk-container-id-12 div.sk-toggleable {background-color: white;}#sk-container-id-12 label.sk-toggleable__label {cursor: pointer;display: block;width: 100%;margin-bottom: 0;padding: 0.3em;box-sizing: border-box;text-align: center;}#sk-container-id-12 label.sk-toggleable__label-arrow:before {content: \"▸\";float: left;margin-right: 0.25em;color: #696969;}#sk-container-id-12 label.sk-toggleable__label-arrow:hover:before {color: black;}#sk-container-id-12 div.sk-estimator:hover label.sk-toggleable__label-arrow:before {color: black;}#sk-container-id-12 div.sk-toggleable__content {max-height: 0;max-width: 0;overflow: hidden;text-align: left;background-color: #f0f8ff;}#sk-container-id-12 div.sk-toggleable__content pre {margin: 0.2em;color: black;border-radius: 0.25em;background-color: #f0f8ff;}#sk-container-id-12 input.sk-toggleable__control:checked~div.sk-toggleable__content {max-height: 200px;max-width: 100%;overflow: auto;}#sk-container-id-12 input.sk-toggleable__control:checked~label.sk-toggleable__label-arrow:before {content: \"▾\";}#sk-container-id-12 div.sk-estimator input.sk-toggleable__control:checked~label.sk-toggleable__label {background-color: #d4ebff;}#sk-container-id-12 div.sk-label input.sk-toggleable__control:checked~label.sk-toggleable__label {background-color: #d4ebff;}#sk-container-id-12 input.sk-hidden--visually {border: 0;clip: rect(1px 1px 1px 1px);clip: rect(1px, 1px, 1px, 1px);height: 1px;margin: -1px;overflow: hidden;padding: 0;position: absolute;width: 1px;}#sk-container-id-12 div.sk-estimator {font-family: monospace;background-color: #f0f8ff;border: 1px dotted black;border-radius: 0.25em;box-sizing: border-box;margin-bottom: 0.5em;}#sk-container-id-12 div.sk-estimator:hover {background-color: #d4ebff;}#sk-container-id-12 div.sk-parallel-item::after {content: \"\";width: 100%;border-bottom: 1px solid gray;flex-grow: 1;}#sk-container-id-12 div.sk-label:hover label.sk-toggleable__label {background-color: #d4ebff;}#sk-container-id-12 div.sk-serial::before {content: \"\";position: absolute;border-left: 1px solid gray;box-sizing: border-box;top: 0;bottom: 0;left: 50%;z-index: 0;}#sk-container-id-12 div.sk-serial {display: flex;flex-direction: column;align-items: center;background-color: white;padding-right: 0.2em;padding-left: 0.2em;position: relative;}#sk-container-id-12 div.sk-item {position: relative;z-index: 1;}#sk-container-id-12 div.sk-parallel {display: flex;align-items: stretch;justify-content: center;background-color: white;position: relative;}#sk-container-id-12 div.sk-item::before, #sk-container-id-12 div.sk-parallel-item::before {content: \"\";position: absolute;border-left: 1px solid gray;box-sizing: border-box;top: 0;bottom: 0;left: 50%;z-index: -1;}#sk-container-id-12 div.sk-parallel-item {display: flex;flex-direction: column;z-index: 1;position: relative;background-color: white;}#sk-container-id-12 div.sk-parallel-item:first-child::after {align-self: flex-end;width: 50%;}#sk-container-id-12 div.sk-parallel-item:last-child::after {align-self: flex-start;width: 50%;}#sk-container-id-12 div.sk-parallel-item:only-child::after {width: 0;}#sk-container-id-12 div.sk-dashed-wrapped {border: 1px dashed gray;margin: 0 0.4em 0.5em 0.4em;box-sizing: border-box;padding-bottom: 0.4em;background-color: white;}#sk-container-id-12 div.sk-label label {font-family: monospace;font-weight: bold;display: inline-block;line-height: 1.2em;}#sk-container-id-12 div.sk-label-container {text-align: center;}#sk-container-id-12 div.sk-container {/* jupyter's `normalize.less` sets `[hidden] { display: none; }` but bootstrap.min.css set `[hidden] { display: none !important; }` so we also need the `!important` here to be able to override the default hidden behavior on the sphinx rendered scikit-learn.org. See: https://github.com/scikit-learn/scikit-learn/issues/21755 */display: inline-block !important;position: relative;}#sk-container-id-12 div.sk-text-repr-fallback {display: none;}</style><div id=\"sk-container-id-12\" class=\"sk-top-container\"><div class=\"sk-text-repr-fallback\"><pre>MultinomialNB()</pre><b>In a Jupyter environment, please rerun this cell to show the HTML representation or trust the notebook. <br />On GitHub, the HTML representation is unable to render, please try loading this page with nbviewer.org.</b></div><div class=\"sk-container\" hidden><div class=\"sk-item\"><div class=\"sk-estimator sk-toggleable\"><input class=\"sk-toggleable__control sk-hidden--visually\" id=\"sk-estimator-id-12\" type=\"checkbox\" checked><label for=\"sk-estimator-id-12\" class=\"sk-toggleable__label sk-toggleable__label-arrow\">MultinomialNB</label><div class=\"sk-toggleable__content\"><pre>MultinomialNB()</pre></div></div></div></div></div>"
      ],
      "text/plain": [
       "MultinomialNB()"
      ]
     },
     "execution_count": 153,
     "metadata": {},
     "output_type": "execute_result"
    }
   ],
   "source": [
    "# fit the model\n",
    "clf_mult_df12_tfidf.fit(X_train_text_df12_tfidf, Y_train_df12)\n"
   ]
  },
  {
   "cell_type": "code",
   "execution_count": 154,
   "id": "e21bb3b7",
   "metadata": {},
   "outputs": [],
   "source": [
    "y_pred_NB_Mult_df12_tfidf = clf_mult_df12_tfidf.predict(X_test_text_df12_tfidf)\n"
   ]
  },
  {
   "cell_type": "code",
   "execution_count": 155,
   "id": "1a44cdc2",
   "metadata": {},
   "outputs": [
    {
     "data": {
      "text/plain": [
       "0.777887697360611"
      ]
     },
     "execution_count": 155,
     "metadata": {},
     "output_type": "execute_result"
    }
   ],
   "source": [
    "# get accuracy\n",
    "accuracy_NB_Mult_df12_tfidf = clf_mult_df12_tfidf.score(X_test_text_df12_tfidf, Y_test_df12)\n",
    "accuracy_NB_Mult_df12_tfidf\n",
    "\n",
    "# 0.777\n"
   ]
  },
  {
   "cell_type": "code",
   "execution_count": 156,
   "id": "9ebd414d",
   "metadata": {},
   "outputs": [
    {
     "data": {
      "text/plain": [
       "0.6668249539977444"
      ]
     },
     "execution_count": 156,
     "metadata": {},
     "output_type": "execute_result"
    }
   ],
   "source": [
    "# Evaluate the model with f1 score\n",
    "from sklearn.metrics import f1_score\n",
    "\n",
    "f1_NB_Mult_df12_tfidf = f1_score(Y_test_df12, y_pred_NB_Mult_df12_tfidf)\n",
    "f1_NB_Mult_df12_tfidf\n",
    "\n",
    "# 0.666"
   ]
  },
  {
   "cell_type": "code",
   "execution_count": 157,
   "id": "fc67b21a",
   "metadata": {},
   "outputs": [
    {
     "data": {
      "text/html": [
       "<div>\n",
       "<style scoped>\n",
       "    .dataframe tbody tr th:only-of-type {\n",
       "        vertical-align: middle;\n",
       "    }\n",
       "\n",
       "    .dataframe tbody tr th {\n",
       "        vertical-align: top;\n",
       "    }\n",
       "\n",
       "    .dataframe thead th {\n",
       "        text-align: right;\n",
       "    }\n",
       "</style>\n",
       "<table border=\"1\" class=\"dataframe\">\n",
       "  <thead>\n",
       "    <tr style=\"text-align: right;\">\n",
       "      <th>predict</th>\n",
       "      <th>0.0</th>\n",
       "      <th>1.0</th>\n",
       "    </tr>\n",
       "    <tr>\n",
       "      <th>true</th>\n",
       "      <th></th>\n",
       "      <th></th>\n",
       "    </tr>\n",
       "  </thead>\n",
       "  <tbody>\n",
       "    <tr>\n",
       "      <th>0.0</th>\n",
       "      <td>14041</td>\n",
       "      <td>652</td>\n",
       "    </tr>\n",
       "    <tr>\n",
       "      <th>1.0</th>\n",
       "      <td>4961</td>\n",
       "      <td>5617</td>\n",
       "    </tr>\n",
       "  </tbody>\n",
       "</table>\n",
       "</div>"
      ],
      "text/plain": [
       "predict    0.0   1.0\n",
       "true                \n",
       "0.0      14041   652\n",
       "1.0       4961  5617"
      ]
     },
     "execution_count": 157,
     "metadata": {},
     "output_type": "execute_result"
    }
   ],
   "source": [
    "# get confusion matrix\n",
    "pd.crosstab(Y_test_df12, y_pred_NB_Mult_df12_tfidf, rownames=[\"real\"], colnames=[\"predict\"])\n",
    "\n",
    "# overall prediction is ok\n",
    "# best prediction: upper right corner (false positives)"
   ]
  },
  {
   "cell_type": "code",
   "execution_count": 158,
   "id": "c54310c2",
   "metadata": {},
   "outputs": [
    {
     "name": "stdout",
     "output_type": "stream",
     "text": [
      "Naive Bayes Multinomial df12 tfidf classification report:\n",
      "                precision    recall  f1-score   support\n",
      "\n",
      "         0.0       0.74      0.96      0.83     14693\n",
      "         1.0       0.90      0.53      0.67     10578\n",
      "\n",
      "    accuracy                           0.78     25271\n",
      "   macro avg       0.82      0.74      0.75     25271\n",
      "weighted avg       0.80      0.78      0.76     25271\n",
      "\n"
     ]
    }
   ],
   "source": [
    "from sklearn.metrics import classification_report \n",
    "\n",
    "# get classification report\n",
    "print(\"Naive Bayes Multinomial df12 tfidf classification report:\\n \", classification_report (Y_test_df12, y_pred_NB_Mult_df12_tfidf))"
   ]
  },
  {
   "cell_type": "code",
   "execution_count": 159,
   "id": "cb3cde65",
   "metadata": {},
   "outputs": [],
   "source": [
    "from mlxtend.plotting import plot_confusion_matrix\n",
    "import matplotlib.pyplot as plt\n",
    "import numpy as np\n",
    "from sklearn.metrics import confusion_matrix\n"
   ]
  },
  {
   "cell_type": "code",
   "execution_count": 160,
   "id": "0108b0fc",
   "metadata": {},
   "outputs": [
    {
     "name": "stdout",
     "output_type": "stream",
     "text": [
      "[[14041   652]\n",
      " [ 4961  5617]]\n"
     ]
    }
   ],
   "source": [
    "# create confusion matrix\n",
    "cf_matrix_NB_Mult_df12_tfidf = confusion_matrix(Y_test_df12, y_pred_NB_Mult_df12_tfidf)\n",
    "print(cf_matrix_NB_Mult_df12_tfidf)\n"
   ]
  },
  {
   "cell_type": "code",
   "execution_count": null,
   "id": "913d1cd5",
   "metadata": {},
   "outputs": [],
   "source": []
  },
  {
   "cell_type": "markdown",
   "id": "875f93e3",
   "metadata": {},
   "source": [
    "# 4 LOGISTIC REGRESSION MODEL ON TEXT DATA df12\n"
   ]
  },
  {
   "cell_type": "code",
   "execution_count": 34,
   "id": "e9e44058",
   "metadata": {},
   "outputs": [],
   "source": [
    "# Step 3: Instantiate model \n",
    "from sklearn.linear_model import LogisticRegression\n",
    "\n",
    "clf_LogReg_df12_tfidf = LogisticRegression(C=1.0, n_jobs=-1)\n",
    "\n"
   ]
  },
  {
   "cell_type": "code",
   "execution_count": 36,
   "id": "9d7f0c76",
   "metadata": {},
   "outputs": [
    {
     "data": {
      "text/html": [
       "<style>#sk-container-id-3 {color: black;background-color: white;}#sk-container-id-3 pre{padding: 0;}#sk-container-id-3 div.sk-toggleable {background-color: white;}#sk-container-id-3 label.sk-toggleable__label {cursor: pointer;display: block;width: 100%;margin-bottom: 0;padding: 0.3em;box-sizing: border-box;text-align: center;}#sk-container-id-3 label.sk-toggleable__label-arrow:before {content: \"▸\";float: left;margin-right: 0.25em;color: #696969;}#sk-container-id-3 label.sk-toggleable__label-arrow:hover:before {color: black;}#sk-container-id-3 div.sk-estimator:hover label.sk-toggleable__label-arrow:before {color: black;}#sk-container-id-3 div.sk-toggleable__content {max-height: 0;max-width: 0;overflow: hidden;text-align: left;background-color: #f0f8ff;}#sk-container-id-3 div.sk-toggleable__content pre {margin: 0.2em;color: black;border-radius: 0.25em;background-color: #f0f8ff;}#sk-container-id-3 input.sk-toggleable__control:checked~div.sk-toggleable__content {max-height: 200px;max-width: 100%;overflow: auto;}#sk-container-id-3 input.sk-toggleable__control:checked~label.sk-toggleable__label-arrow:before {content: \"▾\";}#sk-container-id-3 div.sk-estimator input.sk-toggleable__control:checked~label.sk-toggleable__label {background-color: #d4ebff;}#sk-container-id-3 div.sk-label input.sk-toggleable__control:checked~label.sk-toggleable__label {background-color: #d4ebff;}#sk-container-id-3 input.sk-hidden--visually {border: 0;clip: rect(1px 1px 1px 1px);clip: rect(1px, 1px, 1px, 1px);height: 1px;margin: -1px;overflow: hidden;padding: 0;position: absolute;width: 1px;}#sk-container-id-3 div.sk-estimator {font-family: monospace;background-color: #f0f8ff;border: 1px dotted black;border-radius: 0.25em;box-sizing: border-box;margin-bottom: 0.5em;}#sk-container-id-3 div.sk-estimator:hover {background-color: #d4ebff;}#sk-container-id-3 div.sk-parallel-item::after {content: \"\";width: 100%;border-bottom: 1px solid gray;flex-grow: 1;}#sk-container-id-3 div.sk-label:hover label.sk-toggleable__label {background-color: #d4ebff;}#sk-container-id-3 div.sk-serial::before {content: \"\";position: absolute;border-left: 1px solid gray;box-sizing: border-box;top: 0;bottom: 0;left: 50%;z-index: 0;}#sk-container-id-3 div.sk-serial {display: flex;flex-direction: column;align-items: center;background-color: white;padding-right: 0.2em;padding-left: 0.2em;position: relative;}#sk-container-id-3 div.sk-item {position: relative;z-index: 1;}#sk-container-id-3 div.sk-parallel {display: flex;align-items: stretch;justify-content: center;background-color: white;position: relative;}#sk-container-id-3 div.sk-item::before, #sk-container-id-3 div.sk-parallel-item::before {content: \"\";position: absolute;border-left: 1px solid gray;box-sizing: border-box;top: 0;bottom: 0;left: 50%;z-index: -1;}#sk-container-id-3 div.sk-parallel-item {display: flex;flex-direction: column;z-index: 1;position: relative;background-color: white;}#sk-container-id-3 div.sk-parallel-item:first-child::after {align-self: flex-end;width: 50%;}#sk-container-id-3 div.sk-parallel-item:last-child::after {align-self: flex-start;width: 50%;}#sk-container-id-3 div.sk-parallel-item:only-child::after {width: 0;}#sk-container-id-3 div.sk-dashed-wrapped {border: 1px dashed gray;margin: 0 0.4em 0.5em 0.4em;box-sizing: border-box;padding-bottom: 0.4em;background-color: white;}#sk-container-id-3 div.sk-label label {font-family: monospace;font-weight: bold;display: inline-block;line-height: 1.2em;}#sk-container-id-3 div.sk-label-container {text-align: center;}#sk-container-id-3 div.sk-container {/* jupyter's `normalize.less` sets `[hidden] { display: none; }` but bootstrap.min.css set `[hidden] { display: none !important; }` so we also need the `!important` here to be able to override the default hidden behavior on the sphinx rendered scikit-learn.org. See: https://github.com/scikit-learn/scikit-learn/issues/21755 */display: inline-block !important;position: relative;}#sk-container-id-3 div.sk-text-repr-fallback {display: none;}</style><div id=\"sk-container-id-3\" class=\"sk-top-container\"><div class=\"sk-text-repr-fallback\"><pre>LogisticRegression(n_jobs=-1)</pre><b>In a Jupyter environment, please rerun this cell to show the HTML representation or trust the notebook. <br />On GitHub, the HTML representation is unable to render, please try loading this page with nbviewer.org.</b></div><div class=\"sk-container\" hidden><div class=\"sk-item\"><div class=\"sk-estimator sk-toggleable\"><input class=\"sk-toggleable__control sk-hidden--visually\" id=\"sk-estimator-id-3\" type=\"checkbox\" checked><label for=\"sk-estimator-id-3\" class=\"sk-toggleable__label sk-toggleable__label-arrow\">LogisticRegression</label><div class=\"sk-toggleable__content\"><pre>LogisticRegression(n_jobs=-1)</pre></div></div></div></div></div>"
      ],
      "text/plain": [
       "LogisticRegression(n_jobs=-1)"
      ]
     },
     "execution_count": 36,
     "metadata": {},
     "output_type": "execute_result"
    }
   ],
   "source": [
    "# Step 4: Fit the model on the training dataset\n",
    "clf_LogReg_df12_tfidf.fit(X_train_text_df12_tfidf, Y_train_df12)\n"
   ]
  },
  {
   "cell_type": "code",
   "execution_count": 37,
   "id": "2375bcc7",
   "metadata": {},
   "outputs": [],
   "source": [
    "y_pred_LogReg_df12_tfidf = clf_LogReg_df12_tfidf.predict(X_test_text_df12_tfidf)\n"
   ]
  },
  {
   "cell_type": "code",
   "execution_count": 38,
   "id": "949ef63d",
   "metadata": {},
   "outputs": [
    {
     "data": {
      "text/plain": [
       "0.8546159629614973"
      ]
     },
     "execution_count": 38,
     "metadata": {},
     "output_type": "execute_result"
    }
   ],
   "source": [
    "# get accuracy\n",
    "accuracy_LogReg_df12_tfidf = clf_LogReg_df12_tfidf.score(X_test_text_df12_tfidf, Y_test_df12)\n",
    "accuracy_LogReg_df12_tfidf\n",
    "\n",
    "# 0.854\n"
   ]
  },
  {
   "cell_type": "code",
   "execution_count": 39,
   "id": "8be190b5",
   "metadata": {},
   "outputs": [
    {
     "data": {
      "text/plain": [
       "0.8213903743315508"
      ]
     },
     "execution_count": 39,
     "metadata": {},
     "output_type": "execute_result"
    }
   ],
   "source": [
    "# Evaluate the model with f1 score\n",
    "from sklearn.metrics import f1_score\n",
    "\n",
    "f1_LogReg_df12_tfidf = f1_score(Y_test_df12, y_pred_LogReg_df12_tfidf)\n",
    "f1_LogReg_df12_tfidf\n",
    "\n",
    "# 0.821\n"
   ]
  },
  {
   "cell_type": "code",
   "execution_count": 40,
   "id": "b4d2f95e",
   "metadata": {},
   "outputs": [
    {
     "data": {
      "text/html": [
       "<div>\n",
       "<style scoped>\n",
       "    .dataframe tbody tr th:only-of-type {\n",
       "        vertical-align: middle;\n",
       "    }\n",
       "\n",
       "    .dataframe tbody tr th {\n",
       "        vertical-align: top;\n",
       "    }\n",
       "\n",
       "    .dataframe thead th {\n",
       "        text-align: right;\n",
       "    }\n",
       "</style>\n",
       "<table border=\"1\" class=\"dataframe\">\n",
       "  <thead>\n",
       "    <tr style=\"text-align: right;\">\n",
       "      <th>predict</th>\n",
       "      <th>0.0</th>\n",
       "      <th>1.0</th>\n",
       "    </tr>\n",
       "    <tr>\n",
       "      <th>real</th>\n",
       "      <th></th>\n",
       "      <th></th>\n",
       "    </tr>\n",
       "  </thead>\n",
       "  <tbody>\n",
       "    <tr>\n",
       "      <th>0.0</th>\n",
       "      <td>13149</td>\n",
       "      <td>1544</td>\n",
       "    </tr>\n",
       "    <tr>\n",
       "      <th>1.0</th>\n",
       "      <td>2130</td>\n",
       "      <td>8448</td>\n",
       "    </tr>\n",
       "  </tbody>\n",
       "</table>\n",
       "</div>"
      ],
      "text/plain": [
       "predict    0.0   1.0\n",
       "real                \n",
       "0.0      13149  1544\n",
       "1.0       2130  8448"
      ]
     },
     "execution_count": 40,
     "metadata": {},
     "output_type": "execute_result"
    }
   ],
   "source": [
    "# get confusion matrix\n",
    "pd.crosstab(Y_test_df12, y_pred_LogReg_df12_tfidf, rownames=[\"real\"], colnames=[\"predict\"])\n",
    "\n",
    "# overall prediction is quite good\n",
    "# best prediction: real news as real news (0:0), followed by fake news as fake news (1:1)"
   ]
  },
  {
   "cell_type": "code",
   "execution_count": 41,
   "id": "2f0d8caa",
   "metadata": {},
   "outputs": [
    {
     "name": "stdout",
     "output_type": "stream",
     "text": [
      "Logistic Regression df12 tfidf classification report:\n",
      "                precision    recall  f1-score   support\n",
      "\n",
      "         0.0       0.86      0.89      0.88     14693\n",
      "         1.0       0.85      0.80      0.82     10578\n",
      "\n",
      "    accuracy                           0.85     25271\n",
      "   macro avg       0.85      0.85      0.85     25271\n",
      "weighted avg       0.85      0.85      0.85     25271\n",
      "\n"
     ]
    }
   ],
   "source": [
    "from sklearn.metrics import classification_report \n",
    "\n",
    "# get classification report\n",
    "print(\"Logistic Regression df12 tfidf classification report:\\n \", classification_report (Y_test_df12, y_pred_LogReg_df12_tfidf))\n"
   ]
  },
  {
   "cell_type": "code",
   "execution_count": 42,
   "id": "c28e46bd",
   "metadata": {},
   "outputs": [
    {
     "name": "stdout",
     "output_type": "stream",
     "text": [
      "[[13149  1544]\n",
      " [ 2130  8448]]\n"
     ]
    }
   ],
   "source": [
    "# create confusion matrix\n",
    "cf_matrix_LogReg_df12_tfidf = confusion_matrix(Y_test_df12, y_pred_LogReg_df12_tfidf)\n",
    "print(cf_matrix_LogReg_df12_tfidf)\n"
   ]
  },
  {
   "cell_type": "code",
   "execution_count": null,
   "id": "73b9bebc",
   "metadata": {},
   "outputs": [],
   "source": []
  },
  {
   "cell_type": "markdown",
   "id": "32ba7d30",
   "metadata": {},
   "source": [
    "# 6 Passive Aggressive Classifier on text data df12\n"
   ]
  },
  {
   "cell_type": "markdown",
   "id": "104747ad",
   "metadata": {},
   "source": [
    "Passive Aggressive Classifier Passive Aggressive algorithms are online learning algorithms. Such an algorithm remains passive for a correct classification outcome, and turns aggressive in the event of a miscalculation, updating and adjusting. Unlike most other algorithms, it does not converge. Its purpose is to make updates that correct the loss, causing very little change in the norm of the weight vector.\n"
   ]
  },
  {
   "cell_type": "code",
   "execution_count": 52,
   "id": "cbe4f3e4",
   "metadata": {},
   "outputs": [],
   "source": [
    "from sklearn.linear_model import PassiveAggressiveClassifier\n"
   ]
  },
  {
   "cell_type": "code",
   "execution_count": 53,
   "id": "1e654018",
   "metadata": {},
   "outputs": [],
   "source": [
    "# Initialize a PassiveAggressiveClassifier\n",
    "pac_df12_tfidf = PassiveAggressiveClassifier(max_iter=50, n_jobs=-1)\n"
   ]
  },
  {
   "cell_type": "code",
   "execution_count": 54,
   "id": "26381010",
   "metadata": {},
   "outputs": [
    {
     "data": {
      "text/html": [
       "<style>#sk-container-id-5 {color: black;background-color: white;}#sk-container-id-5 pre{padding: 0;}#sk-container-id-5 div.sk-toggleable {background-color: white;}#sk-container-id-5 label.sk-toggleable__label {cursor: pointer;display: block;width: 100%;margin-bottom: 0;padding: 0.3em;box-sizing: border-box;text-align: center;}#sk-container-id-5 label.sk-toggleable__label-arrow:before {content: \"▸\";float: left;margin-right: 0.25em;color: #696969;}#sk-container-id-5 label.sk-toggleable__label-arrow:hover:before {color: black;}#sk-container-id-5 div.sk-estimator:hover label.sk-toggleable__label-arrow:before {color: black;}#sk-container-id-5 div.sk-toggleable__content {max-height: 0;max-width: 0;overflow: hidden;text-align: left;background-color: #f0f8ff;}#sk-container-id-5 div.sk-toggleable__content pre {margin: 0.2em;color: black;border-radius: 0.25em;background-color: #f0f8ff;}#sk-container-id-5 input.sk-toggleable__control:checked~div.sk-toggleable__content {max-height: 200px;max-width: 100%;overflow: auto;}#sk-container-id-5 input.sk-toggleable__control:checked~label.sk-toggleable__label-arrow:before {content: \"▾\";}#sk-container-id-5 div.sk-estimator input.sk-toggleable__control:checked~label.sk-toggleable__label {background-color: #d4ebff;}#sk-container-id-5 div.sk-label input.sk-toggleable__control:checked~label.sk-toggleable__label {background-color: #d4ebff;}#sk-container-id-5 input.sk-hidden--visually {border: 0;clip: rect(1px 1px 1px 1px);clip: rect(1px, 1px, 1px, 1px);height: 1px;margin: -1px;overflow: hidden;padding: 0;position: absolute;width: 1px;}#sk-container-id-5 div.sk-estimator {font-family: monospace;background-color: #f0f8ff;border: 1px dotted black;border-radius: 0.25em;box-sizing: border-box;margin-bottom: 0.5em;}#sk-container-id-5 div.sk-estimator:hover {background-color: #d4ebff;}#sk-container-id-5 div.sk-parallel-item::after {content: \"\";width: 100%;border-bottom: 1px solid gray;flex-grow: 1;}#sk-container-id-5 div.sk-label:hover label.sk-toggleable__label {background-color: #d4ebff;}#sk-container-id-5 div.sk-serial::before {content: \"\";position: absolute;border-left: 1px solid gray;box-sizing: border-box;top: 0;bottom: 0;left: 50%;z-index: 0;}#sk-container-id-5 div.sk-serial {display: flex;flex-direction: column;align-items: center;background-color: white;padding-right: 0.2em;padding-left: 0.2em;position: relative;}#sk-container-id-5 div.sk-item {position: relative;z-index: 1;}#sk-container-id-5 div.sk-parallel {display: flex;align-items: stretch;justify-content: center;background-color: white;position: relative;}#sk-container-id-5 div.sk-item::before, #sk-container-id-5 div.sk-parallel-item::before {content: \"\";position: absolute;border-left: 1px solid gray;box-sizing: border-box;top: 0;bottom: 0;left: 50%;z-index: -1;}#sk-container-id-5 div.sk-parallel-item {display: flex;flex-direction: column;z-index: 1;position: relative;background-color: white;}#sk-container-id-5 div.sk-parallel-item:first-child::after {align-self: flex-end;width: 50%;}#sk-container-id-5 div.sk-parallel-item:last-child::after {align-self: flex-start;width: 50%;}#sk-container-id-5 div.sk-parallel-item:only-child::after {width: 0;}#sk-container-id-5 div.sk-dashed-wrapped {border: 1px dashed gray;margin: 0 0.4em 0.5em 0.4em;box-sizing: border-box;padding-bottom: 0.4em;background-color: white;}#sk-container-id-5 div.sk-label label {font-family: monospace;font-weight: bold;display: inline-block;line-height: 1.2em;}#sk-container-id-5 div.sk-label-container {text-align: center;}#sk-container-id-5 div.sk-container {/* jupyter's `normalize.less` sets `[hidden] { display: none; }` but bootstrap.min.css set `[hidden] { display: none !important; }` so we also need the `!important` here to be able to override the default hidden behavior on the sphinx rendered scikit-learn.org. See: https://github.com/scikit-learn/scikit-learn/issues/21755 */display: inline-block !important;position: relative;}#sk-container-id-5 div.sk-text-repr-fallback {display: none;}</style><div id=\"sk-container-id-5\" class=\"sk-top-container\"><div class=\"sk-text-repr-fallback\"><pre>PassiveAggressiveClassifier(max_iter=50, n_jobs=-1)</pre><b>In a Jupyter environment, please rerun this cell to show the HTML representation or trust the notebook. <br />On GitHub, the HTML representation is unable to render, please try loading this page with nbviewer.org.</b></div><div class=\"sk-container\" hidden><div class=\"sk-item\"><div class=\"sk-estimator sk-toggleable\"><input class=\"sk-toggleable__control sk-hidden--visually\" id=\"sk-estimator-id-5\" type=\"checkbox\" checked><label for=\"sk-estimator-id-5\" class=\"sk-toggleable__label sk-toggleable__label-arrow\">PassiveAggressiveClassifier</label><div class=\"sk-toggleable__content\"><pre>PassiveAggressiveClassifier(max_iter=50, n_jobs=-1)</pre></div></div></div></div></div>"
      ],
      "text/plain": [
       "PassiveAggressiveClassifier(max_iter=50, n_jobs=-1)"
      ]
     },
     "execution_count": 54,
     "metadata": {},
     "output_type": "execute_result"
    }
   ],
   "source": [
    "# fit model\n",
    "pac_df12_tfidf.fit(X_train_text_df12_tfidf, Y_train_df12)\n"
   ]
  },
  {
   "cell_type": "code",
   "execution_count": 55,
   "id": "8be56494",
   "metadata": {},
   "outputs": [],
   "source": [
    "#Predict on the test set \n",
    "y_pred_PassAgg_df12_tfidf = pac_df12_tfidf.predict(X_test_text_df12_tfidf)\n"
   ]
  },
  {
   "cell_type": "code",
   "execution_count": 56,
   "id": "3b9f98d3",
   "metadata": {},
   "outputs": [
    {
     "data": {
      "text/plain": [
       "0.8224446994578766"
      ]
     },
     "execution_count": 56,
     "metadata": {},
     "output_type": "execute_result"
    }
   ],
   "source": [
    "# get accuracy\n",
    "accuracy_PassAgg_df12_tfidf= pac_df12_tfidf.score(X_test_text_df12_tfidf, Y_test_df12)\n",
    "accuracy_PassAgg_df12_tfidf\n",
    "\n",
    "# 0.822\n"
   ]
  },
  {
   "cell_type": "code",
   "execution_count": 57,
   "id": "a63499b9",
   "metadata": {},
   "outputs": [
    {
     "data": {
      "text/plain": [
       "0.7884987037473485"
      ]
     },
     "execution_count": 57,
     "metadata": {},
     "output_type": "execute_result"
    }
   ],
   "source": [
    "# Evaluate the model with f1 score\n",
    "from sklearn.metrics import f1_score\n",
    "\n",
    "f1_PassAgg_df12_tfidf = f1_score(Y_test_df12, y_pred_PassAgg_df12_tfidf)\n",
    "f1_PassAgg_df12_tfidf\n",
    "\n",
    "# 0.788\n"
   ]
  },
  {
   "cell_type": "code",
   "execution_count": 58,
   "id": "fd0c620c",
   "metadata": {},
   "outputs": [
    {
     "data": {
      "text/html": [
       "<div>\n",
       "<style scoped>\n",
       "    .dataframe tbody tr th:only-of-type {\n",
       "        vertical-align: middle;\n",
       "    }\n",
       "\n",
       "    .dataframe tbody tr th {\n",
       "        vertical-align: top;\n",
       "    }\n",
       "\n",
       "    .dataframe thead th {\n",
       "        text-align: right;\n",
       "    }\n",
       "</style>\n",
       "<table border=\"1\" class=\"dataframe\">\n",
       "  <thead>\n",
       "    <tr style=\"text-align: right;\">\n",
       "      <th>predict</th>\n",
       "      <th>0.0</th>\n",
       "      <th>1.0</th>\n",
       "    </tr>\n",
       "    <tr>\n",
       "      <th>real</th>\n",
       "      <th></th>\n",
       "      <th></th>\n",
       "    </tr>\n",
       "  </thead>\n",
       "  <tbody>\n",
       "    <tr>\n",
       "      <th>0.0</th>\n",
       "      <td>12420</td>\n",
       "      <td>2273</td>\n",
       "    </tr>\n",
       "    <tr>\n",
       "      <th>1.0</th>\n",
       "      <td>2214</td>\n",
       "      <td>8364</td>\n",
       "    </tr>\n",
       "  </tbody>\n",
       "</table>\n",
       "</div>"
      ],
      "text/plain": [
       "predict    0.0   1.0\n",
       "real                \n",
       "0.0      12420  2273\n",
       "1.0       2214  8364"
      ]
     },
     "execution_count": 58,
     "metadata": {},
     "output_type": "execute_result"
    }
   ],
   "source": [
    "# get confusion matrix\n",
    "pd.crosstab(Y_test_df12, y_pred_PassAgg_df12_tfidf, rownames=[\"real\"], colnames=[\"predict\"])\n",
    "\n",
    "# overall prediction is quite good but no very good prediction for any case"
   ]
  },
  {
   "cell_type": "code",
   "execution_count": 59,
   "id": "751ef54d",
   "metadata": {},
   "outputs": [
    {
     "name": "stdout",
     "output_type": "stream",
     "text": [
      "Passive Aggressive df12 tfidf classification report:\n",
      "                precision    recall  f1-score   support\n",
      "\n",
      "         0.0       0.85      0.85      0.85     14693\n",
      "         1.0       0.79      0.79      0.79     10578\n",
      "\n",
      "    accuracy                           0.82     25271\n",
      "   macro avg       0.82      0.82      0.82     25271\n",
      "weighted avg       0.82      0.82      0.82     25271\n",
      "\n"
     ]
    }
   ],
   "source": [
    "from sklearn.metrics import classification_report \n",
    "\n",
    "# get classification report\n",
    "print(\"Passive Aggressive df12 tfidf classification report:\\n \", classification_report (Y_test_df12, y_pred_PassAgg_df12_tfidf))\n"
   ]
  },
  {
   "cell_type": "code",
   "execution_count": 60,
   "id": "9bcef2ec",
   "metadata": {
    "scrolled": true
   },
   "outputs": [
    {
     "name": "stdout",
     "output_type": "stream",
     "text": [
      "[[12420  2273]\n",
      " [ 2214  8364]]\n"
     ]
    }
   ],
   "source": [
    "# create confusion matrix\n",
    "cf_matrix_PassAgg_df12_tfidf = confusion_matrix(Y_test_df12, y_pred_PassAgg_df12_tfidf)\n",
    "print(cf_matrix_PassAgg_df12_tfidf)\n"
   ]
  },
  {
   "cell_type": "code",
   "execution_count": null,
   "id": "080e3665",
   "metadata": {},
   "outputs": [],
   "source": []
  },
  {
   "cell_type": "markdown",
   "id": "4d8ddfb5",
   "metadata": {},
   "source": [
    "# 10 Stochastic Gradient Decent (SGD) on text data df12"
   ]
  },
  {
   "cell_type": "code",
   "execution_count": 61,
   "id": "fde0e77e",
   "metadata": {},
   "outputs": [],
   "source": [
    "from sklearn.linear_model import SGDClassifier\n",
    "from sklearn.metrics import accuracy_score\n",
    "\n",
    "# Create an SGD classifier\n",
    "sgd_df12_tfidf = SGDClassifier(n_jobs=-1)"
   ]
  },
  {
   "cell_type": "code",
   "execution_count": 62,
   "id": "8f4fb33a",
   "metadata": {},
   "outputs": [
    {
     "data": {
      "text/html": [
       "<style>#sk-container-id-6 {color: black;background-color: white;}#sk-container-id-6 pre{padding: 0;}#sk-container-id-6 div.sk-toggleable {background-color: white;}#sk-container-id-6 label.sk-toggleable__label {cursor: pointer;display: block;width: 100%;margin-bottom: 0;padding: 0.3em;box-sizing: border-box;text-align: center;}#sk-container-id-6 label.sk-toggleable__label-arrow:before {content: \"▸\";float: left;margin-right: 0.25em;color: #696969;}#sk-container-id-6 label.sk-toggleable__label-arrow:hover:before {color: black;}#sk-container-id-6 div.sk-estimator:hover label.sk-toggleable__label-arrow:before {color: black;}#sk-container-id-6 div.sk-toggleable__content {max-height: 0;max-width: 0;overflow: hidden;text-align: left;background-color: #f0f8ff;}#sk-container-id-6 div.sk-toggleable__content pre {margin: 0.2em;color: black;border-radius: 0.25em;background-color: #f0f8ff;}#sk-container-id-6 input.sk-toggleable__control:checked~div.sk-toggleable__content {max-height: 200px;max-width: 100%;overflow: auto;}#sk-container-id-6 input.sk-toggleable__control:checked~label.sk-toggleable__label-arrow:before {content: \"▾\";}#sk-container-id-6 div.sk-estimator input.sk-toggleable__control:checked~label.sk-toggleable__label {background-color: #d4ebff;}#sk-container-id-6 div.sk-label input.sk-toggleable__control:checked~label.sk-toggleable__label {background-color: #d4ebff;}#sk-container-id-6 input.sk-hidden--visually {border: 0;clip: rect(1px 1px 1px 1px);clip: rect(1px, 1px, 1px, 1px);height: 1px;margin: -1px;overflow: hidden;padding: 0;position: absolute;width: 1px;}#sk-container-id-6 div.sk-estimator {font-family: monospace;background-color: #f0f8ff;border: 1px dotted black;border-radius: 0.25em;box-sizing: border-box;margin-bottom: 0.5em;}#sk-container-id-6 div.sk-estimator:hover {background-color: #d4ebff;}#sk-container-id-6 div.sk-parallel-item::after {content: \"\";width: 100%;border-bottom: 1px solid gray;flex-grow: 1;}#sk-container-id-6 div.sk-label:hover label.sk-toggleable__label {background-color: #d4ebff;}#sk-container-id-6 div.sk-serial::before {content: \"\";position: absolute;border-left: 1px solid gray;box-sizing: border-box;top: 0;bottom: 0;left: 50%;z-index: 0;}#sk-container-id-6 div.sk-serial {display: flex;flex-direction: column;align-items: center;background-color: white;padding-right: 0.2em;padding-left: 0.2em;position: relative;}#sk-container-id-6 div.sk-item {position: relative;z-index: 1;}#sk-container-id-6 div.sk-parallel {display: flex;align-items: stretch;justify-content: center;background-color: white;position: relative;}#sk-container-id-6 div.sk-item::before, #sk-container-id-6 div.sk-parallel-item::before {content: \"\";position: absolute;border-left: 1px solid gray;box-sizing: border-box;top: 0;bottom: 0;left: 50%;z-index: -1;}#sk-container-id-6 div.sk-parallel-item {display: flex;flex-direction: column;z-index: 1;position: relative;background-color: white;}#sk-container-id-6 div.sk-parallel-item:first-child::after {align-self: flex-end;width: 50%;}#sk-container-id-6 div.sk-parallel-item:last-child::after {align-self: flex-start;width: 50%;}#sk-container-id-6 div.sk-parallel-item:only-child::after {width: 0;}#sk-container-id-6 div.sk-dashed-wrapped {border: 1px dashed gray;margin: 0 0.4em 0.5em 0.4em;box-sizing: border-box;padding-bottom: 0.4em;background-color: white;}#sk-container-id-6 div.sk-label label {font-family: monospace;font-weight: bold;display: inline-block;line-height: 1.2em;}#sk-container-id-6 div.sk-label-container {text-align: center;}#sk-container-id-6 div.sk-container {/* jupyter's `normalize.less` sets `[hidden] { display: none; }` but bootstrap.min.css set `[hidden] { display: none !important; }` so we also need the `!important` here to be able to override the default hidden behavior on the sphinx rendered scikit-learn.org. See: https://github.com/scikit-learn/scikit-learn/issues/21755 */display: inline-block !important;position: relative;}#sk-container-id-6 div.sk-text-repr-fallback {display: none;}</style><div id=\"sk-container-id-6\" class=\"sk-top-container\"><div class=\"sk-text-repr-fallback\"><pre>SGDClassifier(n_jobs=-1)</pre><b>In a Jupyter environment, please rerun this cell to show the HTML representation or trust the notebook. <br />On GitHub, the HTML representation is unable to render, please try loading this page with nbviewer.org.</b></div><div class=\"sk-container\" hidden><div class=\"sk-item\"><div class=\"sk-estimator sk-toggleable\"><input class=\"sk-toggleable__control sk-hidden--visually\" id=\"sk-estimator-id-6\" type=\"checkbox\" checked><label for=\"sk-estimator-id-6\" class=\"sk-toggleable__label sk-toggleable__label-arrow\">SGDClassifier</label><div class=\"sk-toggleable__content\"><pre>SGDClassifier(n_jobs=-1)</pre></div></div></div></div></div>"
      ],
      "text/plain": [
       "SGDClassifier(n_jobs=-1)"
      ]
     },
     "execution_count": 62,
     "metadata": {},
     "output_type": "execute_result"
    }
   ],
   "source": [
    "# Train the SGD model\n",
    "sgd_df12_tfidf.fit(X_train_text_df12_tfidf, Y_train_df12)\n"
   ]
  },
  {
   "cell_type": "code",
   "execution_count": 63,
   "id": "de59ad77",
   "metadata": {},
   "outputs": [],
   "source": [
    "# Make predictions on the test set\n",
    "y_pred_sgd_df12_tfidf = sgd_df12_tfidf.predict(X_test_text_df12_tfidf)"
   ]
  },
  {
   "cell_type": "code",
   "execution_count": 64,
   "id": "bc559232",
   "metadata": {},
   "outputs": [
    {
     "data": {
      "text/plain": [
       "0.8452771952039888"
      ]
     },
     "execution_count": 64,
     "metadata": {},
     "output_type": "execute_result"
    }
   ],
   "source": [
    "# Calculate accuracy\n",
    "accuracy_sgd_df12_tfidf = accuracy_score(Y_test_df12, y_pred_sgd_df12_tfidf)\n",
    "accuracy_sgd_df12_tfidf\n",
    "\n",
    "# 0.845\n"
   ]
  },
  {
   "cell_type": "code",
   "execution_count": 65,
   "id": "6ff35ab5",
   "metadata": {},
   "outputs": [
    {
     "data": {
      "text/plain": [
       "0.8067608974992586"
      ]
     },
     "execution_count": 65,
     "metadata": {},
     "output_type": "execute_result"
    }
   ],
   "source": [
    "# Evaluate the model with f1 score\n",
    "from sklearn.metrics import f1_score\n",
    "\n",
    "f1_sgd_df12_tfidf = f1_score(Y_test_df12, y_pred_sgd_df12_tfidf)\n",
    "f1_sgd_df12_tfidf\n",
    "\n",
    "# 0.8067\n"
   ]
  },
  {
   "cell_type": "code",
   "execution_count": 66,
   "id": "7db99b75",
   "metadata": {},
   "outputs": [
    {
     "data": {
      "text/html": [
       "<div>\n",
       "<style scoped>\n",
       "    .dataframe tbody tr th:only-of-type {\n",
       "        vertical-align: middle;\n",
       "    }\n",
       "\n",
       "    .dataframe tbody tr th {\n",
       "        vertical-align: top;\n",
       "    }\n",
       "\n",
       "    .dataframe thead th {\n",
       "        text-align: right;\n",
       "    }\n",
       "</style>\n",
       "<table border=\"1\" class=\"dataframe\">\n",
       "  <thead>\n",
       "    <tr style=\"text-align: right;\">\n",
       "      <th>predict</th>\n",
       "      <th>0.0</th>\n",
       "      <th>1.0</th>\n",
       "    </tr>\n",
       "    <tr>\n",
       "      <th>real</th>\n",
       "      <th></th>\n",
       "      <th></th>\n",
       "    </tr>\n",
       "  </thead>\n",
       "  <tbody>\n",
       "    <tr>\n",
       "      <th>0.0</th>\n",
       "      <td>13199</td>\n",
       "      <td>1494</td>\n",
       "    </tr>\n",
       "    <tr>\n",
       "      <th>1.0</th>\n",
       "      <td>2416</td>\n",
       "      <td>8162</td>\n",
       "    </tr>\n",
       "  </tbody>\n",
       "</table>\n",
       "</div>"
      ],
      "text/plain": [
       "predict    0.0   1.0\n",
       "real                \n",
       "0.0      13199  1494\n",
       "1.0       2416  8162"
      ]
     },
     "execution_count": 66,
     "metadata": {},
     "output_type": "execute_result"
    }
   ],
   "source": [
    "# Create crosstab\n",
    "pd.crosstab(Y_test_df12, y_pred_sgd_df12_tfidf, rownames=[\"real\"], colnames=[\"predict\"])\n",
    "\n",
    "# overall prediction is quite good but no super good result for any of the cases"
   ]
  },
  {
   "cell_type": "code",
   "execution_count": 67,
   "id": "8ec99aac",
   "metadata": {},
   "outputs": [
    {
     "name": "stdout",
     "output_type": "stream",
     "text": [
      "SGD df12 tfidf classification report:\n",
      "                precision    recall  f1-score   support\n",
      "\n",
      "         0.0       0.85      0.90      0.87     14693\n",
      "         1.0       0.85      0.77      0.81     10578\n",
      "\n",
      "    accuracy                           0.85     25271\n",
      "   macro avg       0.85      0.83      0.84     25271\n",
      "weighted avg       0.85      0.85      0.84     25271\n",
      "\n"
     ]
    }
   ],
   "source": [
    "from sklearn.metrics import classification_report \n",
    "\n",
    "# get classification report\n",
    "print(\"SGD df12 tfidf classification report:\\n \", classification_report (Y_test_df12, y_pred_sgd_df12_tfidf))\n"
   ]
  },
  {
   "cell_type": "code",
   "execution_count": 68,
   "id": "3dc6cc34",
   "metadata": {},
   "outputs": [
    {
     "name": "stdout",
     "output_type": "stream",
     "text": [
      "[[13199  1494]\n",
      " [ 2416  8162]]\n"
     ]
    }
   ],
   "source": [
    "# create confusion matrix\n",
    "cf_matrix_sgd_df12_tfidf = confusion_matrix(Y_test_df12, y_pred_sgd_df12_tfidf)\n",
    "print(cf_matrix_sgd_df12_tfidf)"
   ]
  },
  {
   "cell_type": "code",
   "execution_count": null,
   "id": "a866a977",
   "metadata": {},
   "outputs": [],
   "source": []
  },
  {
   "cell_type": "markdown",
   "id": "50692e8c",
   "metadata": {},
   "source": [
    "# COMPARE MODELS ON TEXT DATA ONLY df12 TFIDF\n"
   ]
  },
  {
   "cell_type": "code",
   "execution_count": 161,
   "id": "85c70a14",
   "metadata": {},
   "outputs": [],
   "source": [
    "# MODELS FOR STAGE 3 (Optimized Models):\n",
    "# 2) Naive Bayes Multinomial\n",
    "# 4) Logistic Regression\n",
    "\n",
    "# 6) Passive Aggressive Classifier \n",
    "# 10) Stochastic Gradient Descent\n"
   ]
  },
  {
   "cell_type": "code",
   "execution_count": 162,
   "id": "4bf7b299",
   "metadata": {},
   "outputs": [
    {
     "name": "stdout",
     "output_type": "stream",
     "text": [
      "Naive Bayes Multinomial accuracy score df12 tfidf: 0.777887697360611\n",
      "Logistic Regression accuracy score df12 tfidf: 0.8546159629614973\n",
      "Passive Agressive accuracy score df12 tfidf: 0.8224446994578766\n",
      "Stochastic Gradient Descent accuracy score df12 tfidf: 0.8452771952039888\n"
     ]
    }
   ],
   "source": [
    "print(\"Naive Bayes Multinomial accuracy score df12 tfidf:\", accuracy_NB_Mult_df12_tfidf)\n",
    "print(\"Logistic Regression accuracy score df12 tfidf:\", accuracy_LogReg_df12_tfidf)\n",
    "print(\"Passive Agressive accuracy score df12 tfidf:\", accuracy_PassAgg_df12_tfidf)\n",
    "print(\"Stochastic Gradient Descent accuracy score df12 tfidf:\", accuracy_sgd_df12_tfidf)\n"
   ]
  },
  {
   "cell_type": "code",
   "execution_count": 163,
   "id": "9c945684",
   "metadata": {},
   "outputs": [
    {
     "name": "stdout",
     "output_type": "stream",
     "text": [
      "Naive Bayes Multinomial f1 score df12 tfidf: 0.6668249539977444\n",
      "Logistic Regression f1 score df12 tfidf: 0.8213903743315508\n",
      "Passive Agressive f1 score df12 tfidf: 0.7884987037473485\n",
      "Stochastic Gradient Descent f1 score df12 tfidf: 0.8067608974992586\n"
     ]
    }
   ],
   "source": [
    "print(\"Naive Bayes Multinomial f1 score df12 tfidf:\", f1_NB_Mult_df12_tfidf)\n",
    "print(\"Logistic Regression f1 score df12 tfidf:\", f1_LogReg_df12_tfidf)\n",
    "print(\"Passive Agressive f1 score df12 tfidf:\", f1_PassAgg_df12_tfidf)\n",
    "print(\"Stochastic Gradient Descent f1 score df12 tfidf:\", f1_sgd_df12_tfidf)"
   ]
  },
  {
   "cell_type": "markdown",
   "id": "5eb19e31",
   "metadata": {},
   "source": [
    "## PLOT 1: Accuracy of all four models TF-IDF"
   ]
  },
  {
   "cell_type": "code",
   "execution_count": 164,
   "id": "4a918ecc",
   "metadata": {},
   "outputs": [],
   "source": [
    "#Creating the Dictionary with model name as key and accuracy as key-value\n",
    "acc_labels_df12_tfidf_sel={'Naive Bayes Multinomial':accuracy_NB_Mult_df12_tfidf,\n",
    "        'Logistic Regression':accuracy_LogReg_df12_tfidf,\n",
    "        'Passive Aggressive':accuracy_PassAgg_df12_tfidf,\n",
    "        'Stoachstic Gradient Descent':accuracy_sgd_df12_tfidf} \n",
    "        "
   ]
  },
  {
   "cell_type": "code",
   "execution_count": 165,
   "id": "8e96ef2b",
   "metadata": {},
   "outputs": [
    {
     "data": {
      "image/png": "[encoded data removed]",
      "text/plain": [
       "<Figure size 2500x1000 with 1 Axes>"
      ]
     },
     "metadata": {},
     "output_type": "display_data"
    }
   ],
   "source": [
    "# Data for the chart\n",
    "acc_labels_sel = list(acc_labels_df12_tfidf_sel.keys())\n",
    "acc_values_sel = list(acc_labels_df12_tfidf_sel.values())\n",
    "# colors=['yellow','orange','magenta', 'gray', 'blue', 'black', 'white', 'lightgreen', 'darkred', 'purple']\n",
    "\n",
    "# Creating the chart\n",
    "plt.figure(figsize=(25, 10))\n",
    "plt.title('Comparing Accuracy of ML Models on text data from df12 dataset with TFIDF', fontsize=20)\n",
    "plt.xlabel('Accuracy', fontsize=16)\n",
    "plt.ylabel('Models', fontsize=16)\n",
    "plt.xticks(fontsize=16)\n",
    "plt.yticks(fontsize=16)# Increase the plot width to accommodate the values\n",
    "\n",
    "plt.barh(acc_labels_sel, acc_values_sel, color='lightblue', edgecolor='black', linewidth=1, alpha=0.7)\n",
    "\n",
    "# Displaying values at the end of the bars\n",
    "for i, value in enumerate(acc_values_sel):\n",
    "    plt.text(value, i, f'{value:.5f}', fontsize=16, va='center')\n",
    "\n",
    "plt.show();"
   ]
  },
  {
   "cell_type": "code",
   "execution_count": null,
   "id": "52ce6d82",
   "metadata": {},
   "outputs": [],
   "source": []
  },
  {
   "cell_type": "markdown",
   "id": "34a2b83d",
   "metadata": {},
   "source": [
    "## PLOT 2: f1-score of all four models TF-IDF"
   ]
  },
  {
   "cell_type": "code",
   "execution_count": 166,
   "id": "2427cebb",
   "metadata": {},
   "outputs": [],
   "source": [
    "#Creating the Dictionary with model name as key and accuracy as key-value\n",
    "f1_labels_df12_tfidf_sel={'Naive Bayes Multinomial':f1_NB_Mult_df12_tfidf,\n",
    "        'Logistic Regression':f1_LogReg_df12_tfidf,\n",
    "        'Passive Aggressive':f1_PassAgg_df12_tfidf,\n",
    "        'Stoachstic Gradient Descent':f1_sgd_df12_tfidf} \n",
    "        "
   ]
  },
  {
   "cell_type": "code",
   "execution_count": 167,
   "id": "7aefd1c6",
   "metadata": {},
   "outputs": [
    {
     "data": {
      "image/png": "[encoded data removed]",
      "text/plain": [
       "<Figure size 2500x1000 with 1 Axes>"
      ]
     },
     "metadata": {},
     "output_type": "display_data"
    }
   ],
   "source": [
    "# Data for the chart\n",
    "f1_labels_sel = list(f1_labels_df12_tfidf_sel.keys())\n",
    "f1_values_sel = list(f1_labels_df12_tfidf_sel.values())\n",
    "# colors=['yellow','orange','magenta', 'gray', 'blue', 'black', 'white', 'lightgreen', 'darkred', 'purple']\n",
    "\n",
    "# Creating the chart\n",
    "plt.figure(figsize=(25, 10))\n",
    "plt.title('Comparing f1-score of ML Models on text data from df12 dataset with TFIDF', fontsize=20)\n",
    "plt.xlabel('f1-score', fontsize=16)\n",
    "plt.ylabel('Models', fontsize=16)\n",
    "plt.xticks(fontsize=16)\n",
    "plt.yticks(fontsize=16)# Increase the plot width to accommodate the values\n",
    "\n",
    "plt.barh(f1_labels_sel, f1_values_sel, color='lightgreen', edgecolor='black', linewidth=1, alpha=0.7)\n",
    "\n",
    "# Displaying values at the end of the bars\n",
    "for i, value in enumerate(f1_values_sel):\n",
    "    plt.text(value, i, f'{value:.5f}', fontsize=16, va='center')\n",
    "\n",
    "plt.show();"
   ]
  },
  {
   "cell_type": "code",
   "execution_count": null,
   "id": "6825ae3c",
   "metadata": {},
   "outputs": [],
   "source": []
  },
  {
   "cell_type": "markdown",
   "id": "664d464d",
   "metadata": {},
   "source": [
    "## PLOT 3: confusion matrix of all four models TF-IDF"
   ]
  },
  {
   "cell_type": "markdown",
   "id": "22865716",
   "metadata": {},
   "source": [
    "### NAIVE BAYES MULTINOMIAL"
   ]
  },
  {
   "cell_type": "code",
   "execution_count": 168,
   "id": "ef674071",
   "metadata": {},
   "outputs": [
    {
     "data": {
      "text/html": [
       "<div>\n",
       "<style scoped>\n",
       "    .dataframe tbody tr th:only-of-type {\n",
       "        vertical-align: middle;\n",
       "    }\n",
       "\n",
       "    .dataframe tbody tr th {\n",
       "        vertical-align: top;\n",
       "    }\n",
       "\n",
       "    .dataframe thead th {\n",
       "        text-align: right;\n",
       "    }\n",
       "</style>\n",
       "<table border=\"1\" class=\"dataframe\">\n",
       "  <thead>\n",
       "    <tr style=\"text-align: right;\">\n",
       "      <th>predict</th>\n",
       "      <th>0.0</th>\n",
       "      <th>1.0</th>\n",
       "    </tr>\n",
       "    <tr>\n",
       "      <th>real</th>\n",
       "      <th></th>\n",
       "      <th></th>\n",
       "    </tr>\n",
       "  </thead>\n",
       "  <tbody>\n",
       "    <tr>\n",
       "      <th>0.0</th>\n",
       "      <td>14041</td>\n",
       "      <td>652</td>\n",
       "    </tr>\n",
       "    <tr>\n",
       "      <th>1.0</th>\n",
       "      <td>4961</td>\n",
       "      <td>5617</td>\n",
       "    </tr>\n",
       "  </tbody>\n",
       "</table>\n",
       "</div>"
      ],
      "text/plain": [
       "predict    0.0   1.0\n",
       "real                \n",
       "0.0      14041   652\n",
       "1.0       4961  5617"
      ]
     },
     "execution_count": 168,
     "metadata": {},
     "output_type": "execute_result"
    }
   ],
   "source": [
    "# get confusion matrix\n",
    "pd.crosstab(Y_test_df12, y_pred_NB_Mult_df12_tfidf, rownames=[\"real\"], colnames=[\"predict\"])\n"
   ]
  },
  {
   "cell_type": "code",
   "execution_count": 169,
   "id": "8a2eb19f",
   "metadata": {},
   "outputs": [
    {
     "name": "stdout",
     "output_type": "stream",
     "text": [
      "[[14041   652]\n",
      " [ 4961  5617]]\n"
     ]
    }
   ],
   "source": [
    "# create confusion matrix\n",
    "cf_matrix_NB_Mult_df12_tfidf = confusion_matrix(Y_test_df12, y_pred_NB_Mult_df12_tfidf)\n",
    "print(cf_matrix_NB_Mult_df12_tfidf)\n"
   ]
  },
  {
   "cell_type": "code",
   "execution_count": 170,
   "id": "00a9a70b",
   "metadata": {},
   "outputs": [
    {
     "name": "stdout",
     "output_type": "stream",
     "text": [
      "Confusion Matrix for Naive Bayes Multinomial TFIDF\n"
     ]
    },
    {
     "data": {
      "image/png": "[encoded data removed]",
      "text/plain": [
       "<Figure size 640x480 with 2 Axes>"
      ]
     },
     "metadata": {},
     "output_type": "display_data"
    }
   ],
   "source": [
    "from mlxtend.plotting import plot_confusion_matrix\n",
    "\n",
    "print(\"Confusion Matrix for Naive Bayes Multinomial TFIDF\")\n",
    "plot_confusion_matrix(conf_mat = cf_matrix_NB_Mult_df12_tfidf,\n",
    "                      show_absolute=True,\n",
    "                      show_normed=True,\n",
    "                      colorbar=True,\n",
    "                      class_names=['REAL','FAKE'])\n",
    "plt.show();\n"
   ]
  },
  {
   "cell_type": "code",
   "execution_count": null,
   "id": "16f825ae",
   "metadata": {},
   "outputs": [],
   "source": []
  },
  {
   "cell_type": "markdown",
   "id": "3b89b5e5",
   "metadata": {},
   "source": [
    "### LOGISTIC REGRESSION"
   ]
  },
  {
   "cell_type": "code",
   "execution_count": 171,
   "id": "d1dec479",
   "metadata": {},
   "outputs": [
    {
     "data": {
      "text/html": [
       "<div>\n",
       "<style scoped>\n",
       "    .dataframe tbody tr th:only-of-type {\n",
       "        vertical-align: middle;\n",
       "    }\n",
       "\n",
       "    .dataframe tbody tr th {\n",
       "        vertical-align: top;\n",
       "    }\n",
       "\n",
       "    .dataframe thead th {\n",
       "        text-align: right;\n",
       "    }\n",
       "</style>\n",
       "<table border=\"1\" class=\"dataframe\">\n",
       "  <thead>\n",
       "    <tr style=\"text-align: right;\">\n",
       "      <th>predict</th>\n",
       "      <th>0.0</th>\n",
       "      <th>1.0</th>\n",
       "    </tr>\n",
       "    <tr>\n",
       "      <th>real</th>\n",
       "      <th></th>\n",
       "      <th></th>\n",
       "    </tr>\n",
       "  </thead>\n",
       "  <tbody>\n",
       "    <tr>\n",
       "      <th>0.0</th>\n",
       "      <td>13149</td>\n",
       "      <td>1544</td>\n",
       "    </tr>\n",
       "    <tr>\n",
       "      <th>1.0</th>\n",
       "      <td>2130</td>\n",
       "      <td>8448</td>\n",
       "    </tr>\n",
       "  </tbody>\n",
       "</table>\n",
       "</div>"
      ],
      "text/plain": [
       "predict    0.0   1.0\n",
       "real                \n",
       "0.0      13149  1544\n",
       "1.0       2130  8448"
      ]
     },
     "execution_count": 171,
     "metadata": {},
     "output_type": "execute_result"
    }
   ],
   "source": [
    "# get confusion matrix\n",
    "pd.crosstab(Y_test_df12, y_pred_LogReg_df12_tfidf, rownames=[\"real\"], colnames=[\"predict\"])\n"
   ]
  },
  {
   "cell_type": "code",
   "execution_count": 172,
   "id": "c42fa103",
   "metadata": {},
   "outputs": [
    {
     "name": "stdout",
     "output_type": "stream",
     "text": [
      "[[13149  1544]\n",
      " [ 2130  8448]]\n"
     ]
    }
   ],
   "source": [
    "# create confusion matrix\n",
    "cf_matrix_LogReg_df12_tfidf = confusion_matrix(Y_test_df12, y_pred_LogReg_df12_tfidf)\n",
    "print(cf_matrix_LogReg_df12_tfidf)\n"
   ]
  },
  {
   "cell_type": "code",
   "execution_count": 173,
   "id": "0d35f22f",
   "metadata": {},
   "outputs": [
    {
     "name": "stdout",
     "output_type": "stream",
     "text": [
      "Confusion Matrix for Logistic Regression TFIDF\n"
     ]
    },
    {
     "data": {
      "image/png": "[encoded data removed]",
      "text/plain": [
       "<Figure size 640x480 with 2 Axes>"
      ]
     },
     "metadata": {},
     "output_type": "display_data"
    }
   ],
   "source": [
    "from mlxtend.plotting import plot_confusion_matrix\n",
    "\n",
    "print(\"Confusion Matrix for Logistic Regression TFIDF\")\n",
    "plot_confusion_matrix(conf_mat = cf_matrix_LogReg_df12_tfidf,\n",
    "                      show_absolute=True,\n",
    "                      show_normed=True,\n",
    "                      colorbar=True,\n",
    "                      class_names=['REAL','FAKE'])\n",
    "plt.show();\n"
   ]
  },
  {
   "cell_type": "code",
   "execution_count": null,
   "id": "8e347f4e",
   "metadata": {},
   "outputs": [],
   "source": []
  },
  {
   "cell_type": "markdown",
   "id": "f779cbe5",
   "metadata": {},
   "source": [
    "### PASSIVE AGGRESSIVE "
   ]
  },
  {
   "cell_type": "code",
   "execution_count": 174,
   "id": "dc9c32e8",
   "metadata": {},
   "outputs": [
    {
     "data": {
      "text/html": [
       "<div>\n",
       "<style scoped>\n",
       "    .dataframe tbody tr th:only-of-type {\n",
       "        vertical-align: middle;\n",
       "    }\n",
       "\n",
       "    .dataframe tbody tr th {\n",
       "        vertical-align: top;\n",
       "    }\n",
       "\n",
       "    .dataframe thead th {\n",
       "        text-align: right;\n",
       "    }\n",
       "</style>\n",
       "<table border=\"1\" class=\"dataframe\">\n",
       "  <thead>\n",
       "    <tr style=\"text-align: right;\">\n",
       "      <th>predict</th>\n",
       "      <th>0.0</th>\n",
       "      <th>1.0</th>\n",
       "    </tr>\n",
       "    <tr>\n",
       "      <th>real</th>\n",
       "      <th></th>\n",
       "      <th></th>\n",
       "    </tr>\n",
       "  </thead>\n",
       "  <tbody>\n",
       "    <tr>\n",
       "      <th>0.0</th>\n",
       "      <td>12420</td>\n",
       "      <td>2273</td>\n",
       "    </tr>\n",
       "    <tr>\n",
       "      <th>1.0</th>\n",
       "      <td>2214</td>\n",
       "      <td>8364</td>\n",
       "    </tr>\n",
       "  </tbody>\n",
       "</table>\n",
       "</div>"
      ],
      "text/plain": [
       "predict    0.0   1.0\n",
       "real                \n",
       "0.0      12420  2273\n",
       "1.0       2214  8364"
      ]
     },
     "execution_count": 174,
     "metadata": {},
     "output_type": "execute_result"
    }
   ],
   "source": [
    "# get confusion matrix\n",
    "pd.crosstab(Y_test_df12, y_pred_PassAgg_df12_tfidf, rownames=[\"real\"], colnames=[\"predict\"])"
   ]
  },
  {
   "cell_type": "code",
   "execution_count": 175,
   "id": "86900fcd",
   "metadata": {},
   "outputs": [
    {
     "name": "stdout",
     "output_type": "stream",
     "text": [
      "[[12420  2273]\n",
      " [ 2214  8364]]\n"
     ]
    }
   ],
   "source": [
    "# create confusion matrix\n",
    "cf_matrix_PassAgg_df12_tfidf = confusion_matrix(Y_test_df12, y_pred_PassAgg_df12_tfidf)\n",
    "print(cf_matrix_PassAgg_df12_tfidf)"
   ]
  },
  {
   "cell_type": "code",
   "execution_count": 176,
   "id": "39cad313",
   "metadata": {},
   "outputs": [
    {
     "name": "stdout",
     "output_type": "stream",
     "text": [
      "Confusion Matrix for Passive Aggressive TFIDF\n"
     ]
    },
    {
     "data": {
      "image/png": "[encoded data removed]",
      "text/plain": [
       "<Figure size 640x480 with 2 Axes>"
      ]
     },
     "metadata": {},
     "output_type": "display_data"
    }
   ],
   "source": [
    "from mlxtend.plotting import plot_confusion_matrix\n",
    "\n",
    "print(\"Confusion Matrix for Passive Aggressive TFIDF\")\n",
    "plot_confusion_matrix(conf_mat = cf_matrix_PassAgg_df12_tfidf,\n",
    "                      show_absolute=True,\n",
    "                      show_normed=True,\n",
    "                      colorbar=True,\n",
    "                      class_names=['REAL','FAKE'])\n",
    "plt.show();\n"
   ]
  },
  {
   "cell_type": "code",
   "execution_count": null,
   "id": "c3c9f968",
   "metadata": {},
   "outputs": [],
   "source": []
  },
  {
   "cell_type": "markdown",
   "id": "79d3d7e6",
   "metadata": {},
   "source": [
    "### STOCHASTIC GRADIENT DESCENT "
   ]
  },
  {
   "cell_type": "code",
   "execution_count": 177,
   "id": "167d9500",
   "metadata": {},
   "outputs": [
    {
     "data": {
      "text/html": [
       "<div>\n",
       "<style scoped>\n",
       "    .dataframe tbody tr th:only-of-type {\n",
       "        vertical-align: middle;\n",
       "    }\n",
       "\n",
       "    .dataframe tbody tr th {\n",
       "        vertical-align: top;\n",
       "    }\n",
       "\n",
       "    .dataframe thead th {\n",
       "        text-align: right;\n",
       "    }\n",
       "</style>\n",
       "<table border=\"1\" class=\"dataframe\">\n",
       "  <thead>\n",
       "    <tr style=\"text-align: right;\">\n",
       "      <th>predict</th>\n",
       "      <th>0.0</th>\n",
       "      <th>1.0</th>\n",
       "    </tr>\n",
       "    <tr>\n",
       "      <th>real</th>\n",
       "      <th></th>\n",
       "      <th></th>\n",
       "    </tr>\n",
       "  </thead>\n",
       "  <tbody>\n",
       "    <tr>\n",
       "      <th>0.0</th>\n",
       "      <td>13199</td>\n",
       "      <td>1494</td>\n",
       "    </tr>\n",
       "    <tr>\n",
       "      <th>1.0</th>\n",
       "      <td>2416</td>\n",
       "      <td>8162</td>\n",
       "    </tr>\n",
       "  </tbody>\n",
       "</table>\n",
       "</div>"
      ],
      "text/plain": [
       "predict    0.0   1.0\n",
       "real                \n",
       "0.0      13199  1494\n",
       "1.0       2416  8162"
      ]
     },
     "execution_count": 177,
     "metadata": {},
     "output_type": "execute_result"
    }
   ],
   "source": [
    "# Create crosstab\n",
    "pd.crosstab(Y_test_df12, y_pred_sgd_df12_tfidf, rownames=[\"real\"], colnames=[\"predict\"])"
   ]
  },
  {
   "cell_type": "code",
   "execution_count": 178,
   "id": "78c0c645",
   "metadata": {},
   "outputs": [
    {
     "name": "stdout",
     "output_type": "stream",
     "text": [
      "[[13199  1494]\n",
      " [ 2416  8162]]\n"
     ]
    }
   ],
   "source": [
    "# create confusion matrix\n",
    "cf_matrix_sgd_df12_tfidf = confusion_matrix(Y_test_df12, y_pred_sgd_df12_tfidf)\n",
    "print(cf_matrix_sgd_df12_tfidf)"
   ]
  },
  {
   "cell_type": "code",
   "execution_count": 179,
   "id": "66a75098",
   "metadata": {},
   "outputs": [
    {
     "name": "stdout",
     "output_type": "stream",
     "text": [
      "Confusion Matrix for Stochastic Gradient Descent TFIDF\n"
     ]
    },
    {
     "data": {
      "image/png": "[encoded data removed]",
      "text/plain": [
       "<Figure size 640x480 with 2 Axes>"
      ]
     },
     "metadata": {},
     "output_type": "display_data"
    }
   ],
   "source": [
    "from mlxtend.plotting import plot_confusion_matrix\n",
    "\n",
    "print(\"Confusion Matrix for Stochastic Gradient Descent TFIDF\")\n",
    "plot_confusion_matrix(conf_mat = cf_matrix_sgd_df12_tfidf,\n",
    "                      show_absolute=True,\n",
    "                      show_normed=True,\n",
    "                      colorbar=True,\n",
    "                      class_names=['REAL','FAKE'])\n",
    "plt.show();\n"
   ]
  },
  {
   "cell_type": "code",
   "execution_count": null,
   "id": "df61462d",
   "metadata": {},
   "outputs": [],
   "source": []
  },
  {
   "cell_type": "markdown",
   "id": "aa16d07b",
   "metadata": {},
   "source": [
    "# STACKING TF-IDF MODELS + CROSS-VALIDATE"
   ]
  },
  {
   "cell_type": "code",
   "execution_count": 181,
   "id": "09d719c6",
   "metadata": {},
   "outputs": [],
   "source": [
    "from sklearn.ensemble import StackingClassifier\n"
   ]
  },
  {
   "cell_type": "code",
   "execution_count": null,
   "id": "d6fdf8c3",
   "metadata": {},
   "outputs": [],
   "source": [
    "## We stack the 4 best models\n",
    "# Naive Bayes Multinomial\n",
    "# Logistic Regression\n",
    "# Passive Aggressive Classifier\n",
    "# Stochastic Gradient Descent\n"
   ]
  },
  {
   "cell_type": "code",
   "execution_count": 194,
   "id": "9d35a897",
   "metadata": {},
   "outputs": [],
   "source": [
    "# Create a new feature matrix with the predictions\n",
    "stacked_features_tfidf_4 = np.column_stack((y_pred_NB_Mult_df12_tfidf, y_pred_LogReg_df12_tfidf, \n",
    "                                            y_pred_PassAgg_df12_tfidf, y_pred_sgd_df12_tfidf))\n"
   ]
  },
  {
   "cell_type": "code",
   "execution_count": 213,
   "id": "90520dd7",
   "metadata": {},
   "outputs": [
    {
     "data": {
      "text/html": [
       "<style>#sk-container-id-19 {color: black;background-color: white;}#sk-container-id-19 pre{padding: 0;}#sk-container-id-19 div.sk-toggleable {background-color: white;}#sk-container-id-19 label.sk-toggleable__label {cursor: pointer;display: block;width: 100%;margin-bottom: 0;padding: 0.3em;box-sizing: border-box;text-align: center;}#sk-container-id-19 label.sk-toggleable__label-arrow:before {content: \"▸\";float: left;margin-right: 0.25em;color: #696969;}#sk-container-id-19 label.sk-toggleable__label-arrow:hover:before {color: black;}#sk-container-id-19 div.sk-estimator:hover label.sk-toggleable__label-arrow:before {color: black;}#sk-container-id-19 div.sk-toggleable__content {max-height: 0;max-width: 0;overflow: hidden;text-align: left;background-color: #f0f8ff;}#sk-container-id-19 div.sk-toggleable__content pre {margin: 0.2em;color: black;border-radius: 0.25em;background-color: #f0f8ff;}#sk-container-id-19 input.sk-toggleable__control:checked~div.sk-toggleable__content {max-height: 200px;max-width: 100%;overflow: auto;}#sk-container-id-19 input.sk-toggleable__control:checked~label.sk-toggleable__label-arrow:before {content: \"▾\";}#sk-container-id-19 div.sk-estimator input.sk-toggleable__control:checked~label.sk-toggleable__label {background-color: #d4ebff;}#sk-container-id-19 div.sk-label input.sk-toggleable__control:checked~label.sk-toggleable__label {background-color: #d4ebff;}#sk-container-id-19 input.sk-hidden--visually {border: 0;clip: rect(1px 1px 1px 1px);clip: rect(1px, 1px, 1px, 1px);height: 1px;margin: -1px;overflow: hidden;padding: 0;position: absolute;width: 1px;}#sk-container-id-19 div.sk-estimator {font-family: monospace;background-color: #f0f8ff;border: 1px dotted black;border-radius: 0.25em;box-sizing: border-box;margin-bottom: 0.5em;}#sk-container-id-19 div.sk-estimator:hover {background-color: #d4ebff;}#sk-container-id-19 div.sk-parallel-item::after {content: \"\";width: 100%;border-bottom: 1px solid gray;flex-grow: 1;}#sk-container-id-19 div.sk-label:hover label.sk-toggleable__label {background-color: #d4ebff;}#sk-container-id-19 div.sk-serial::before {content: \"\";position: absolute;border-left: 1px solid gray;box-sizing: border-box;top: 0;bottom: 0;left: 50%;z-index: 0;}#sk-container-id-19 div.sk-serial {display: flex;flex-direction: column;align-items: center;background-color: white;padding-right: 0.2em;padding-left: 0.2em;position: relative;}#sk-container-id-19 div.sk-item {position: relative;z-index: 1;}#sk-container-id-19 div.sk-parallel {display: flex;align-items: stretch;justify-content: center;background-color: white;position: relative;}#sk-container-id-19 div.sk-item::before, #sk-container-id-19 div.sk-parallel-item::before {content: \"\";position: absolute;border-left: 1px solid gray;box-sizing: border-box;top: 0;bottom: 0;left: 50%;z-index: -1;}#sk-container-id-19 div.sk-parallel-item {display: flex;flex-direction: column;z-index: 1;position: relative;background-color: white;}#sk-container-id-19 div.sk-parallel-item:first-child::after {align-self: flex-end;width: 50%;}#sk-container-id-19 div.sk-parallel-item:last-child::after {align-self: flex-start;width: 50%;}#sk-container-id-19 div.sk-parallel-item:only-child::after {width: 0;}#sk-container-id-19 div.sk-dashed-wrapped {border: 1px dashed gray;margin: 0 0.4em 0.5em 0.4em;box-sizing: border-box;padding-bottom: 0.4em;background-color: white;}#sk-container-id-19 div.sk-label label {font-family: monospace;font-weight: bold;display: inline-block;line-height: 1.2em;}#sk-container-id-19 div.sk-label-container {text-align: center;}#sk-container-id-19 div.sk-container {/* jupyter's `normalize.less` sets `[hidden] { display: none; }` but bootstrap.min.css set `[hidden] { display: none !important; }` so we also need the `!important` here to be able to override the default hidden behavior on the sphinx rendered scikit-learn.org. See: https://github.com/scikit-learn/scikit-learn/issues/21755 */display: inline-block !important;position: relative;}#sk-container-id-19 div.sk-text-repr-fallback {display: none;}</style><div id=\"sk-container-id-19\" class=\"sk-top-container\"><div class=\"sk-text-repr-fallback\"><pre>LogisticRegression(n_jobs=-1)</pre><b>In a Jupyter environment, please rerun this cell to show the HTML representation or trust the notebook. <br />On GitHub, the HTML representation is unable to render, please try loading this page with nbviewer.org.</b></div><div class=\"sk-container\" hidden><div class=\"sk-item\"><div class=\"sk-estimator sk-toggleable\"><input class=\"sk-toggleable__control sk-hidden--visually\" id=\"sk-estimator-id-19\" type=\"checkbox\" checked><label for=\"sk-estimator-id-19\" class=\"sk-toggleable__label sk-toggleable__label-arrow\">LogisticRegression</label><div class=\"sk-toggleable__content\"><pre>LogisticRegression(n_jobs=-1)</pre></div></div></div></div></div>"
      ],
      "text/plain": [
       "LogisticRegression(n_jobs=-1)"
      ]
     },
     "execution_count": 213,
     "metadata": {},
     "output_type": "execute_result"
    }
   ],
   "source": [
    "# Train the meta model (Logistic Regression in this case) on the new feature matrix\n",
    "meta_model_tfidf_4 = clf_LogReg_df12_tfidf\n",
    "meta_model_tfidf_4.fit(stacked_features_tfidf_4, Y_test_df12)\n"
   ]
  },
  {
   "cell_type": "code",
   "execution_count": 214,
   "id": "9a004dda",
   "metadata": {},
   "outputs": [],
   "source": [
    "# Make final predictions using the meta model\n",
    "meta_preds_tfidf_4 = meta_model_tfidf_4.predict(stacked_features_tfidf_4)\n"
   ]
  },
  {
   "cell_type": "code",
   "execution_count": 215,
   "id": "ac849974",
   "metadata": {},
   "outputs": [
    {
     "name": "stdout",
     "output_type": "stream",
     "text": [
      "Stacked model accuracy: 0.8552886708084365\n"
     ]
    }
   ],
   "source": [
    "# Evaluate the accuracy of the stacked model\n",
    "accuracy_meta_tfidf_4 = accuracy_score(Y_test_df12, meta_preds_tfidf_4)\n",
    "print(\"Stacked model accuracy:\", accuracy_meta_tfidf_4)\n",
    "\n",
    "# 0.855"
   ]
  },
  {
   "cell_type": "code",
   "execution_count": 216,
   "id": "6df12398",
   "metadata": {},
   "outputs": [
    {
     "name": "stdout",
     "output_type": "stream",
     "text": [
      "Stacked model f1 score: 0.8228798372644938\n"
     ]
    }
   ],
   "source": [
    "# Evaluate the f1 score of the stacked model\n",
    "f1_meta_tfidf_4 = f1_score(Y_test_df12, meta_preds_tfidf_4)\n",
    "print(\"Stacked model f1 score:\", f1_meta_tfidf_4)\n",
    "\n",
    "# 0.822"
   ]
  },
  {
   "cell_type": "code",
   "execution_count": 217,
   "id": "de1058e3",
   "metadata": {},
   "outputs": [
    {
     "data": {
      "text/html": [
       "<div>\n",
       "<style scoped>\n",
       "    .dataframe tbody tr th:only-of-type {\n",
       "        vertical-align: middle;\n",
       "    }\n",
       "\n",
       "    .dataframe tbody tr th {\n",
       "        vertical-align: top;\n",
       "    }\n",
       "\n",
       "    .dataframe thead th {\n",
       "        text-align: right;\n",
       "    }\n",
       "</style>\n",
       "<table border=\"1\" class=\"dataframe\">\n",
       "  <thead>\n",
       "    <tr style=\"text-align: right;\">\n",
       "      <th>predict</th>\n",
       "      <th>0.0</th>\n",
       "      <th>1.0</th>\n",
       "    </tr>\n",
       "    <tr>\n",
       "      <th>real</th>\n",
       "      <th></th>\n",
       "      <th></th>\n",
       "    </tr>\n",
       "  </thead>\n",
       "  <tbody>\n",
       "    <tr>\n",
       "      <th>0.0</th>\n",
       "      <td>13119</td>\n",
       "      <td>1574</td>\n",
       "    </tr>\n",
       "    <tr>\n",
       "      <th>1.0</th>\n",
       "      <td>2083</td>\n",
       "      <td>8495</td>\n",
       "    </tr>\n",
       "  </tbody>\n",
       "</table>\n",
       "</div>"
      ],
      "text/plain": [
       "predict    0.0   1.0\n",
       "real                \n",
       "0.0      13119  1574\n",
       "1.0       2083  8495"
      ]
     },
     "execution_count": 217,
     "metadata": {},
     "output_type": "execute_result"
    }
   ],
   "source": [
    "# get confusion matrix\n",
    "pd.crosstab(Y_test_df12, meta_preds_tfidf_4, rownames=[\"real\"], colnames=[\"predict\"])\n"
   ]
  },
  {
   "cell_type": "code",
   "execution_count": 218,
   "id": "d14f5731",
   "metadata": {},
   "outputs": [
    {
     "name": "stdout",
     "output_type": "stream",
     "text": [
      "Stacking classification report:\n",
      "                precision    recall  f1-score   support\n",
      "\n",
      "         0.0       0.86      0.89      0.88     14693\n",
      "         1.0       0.84      0.80      0.82     10578\n",
      "\n",
      "    accuracy                           0.86     25271\n",
      "   macro avg       0.85      0.85      0.85     25271\n",
      "weighted avg       0.85      0.86      0.85     25271\n",
      "\n"
     ]
    }
   ],
   "source": [
    "from sklearn.metrics import classification_report \n",
    "\n",
    "# get classification report\n",
    "print(\"Stacking classification report:\\n \", classification_report (Y_test_df12, meta_preds_tfidf_4))\n"
   ]
  },
  {
   "cell_type": "code",
   "execution_count": 219,
   "id": "96df846a",
   "metadata": {},
   "outputs": [
    {
     "name": "stdout",
     "output_type": "stream",
     "text": [
      "[[13119  1574]\n",
      " [ 2083  8495]]\n"
     ]
    }
   ],
   "source": [
    "# create confusion matrix\n",
    "cf_matrix_meta_tfidf_4 = confusion_matrix(Y_test_df12, meta_preds_tfidf_4)\n",
    "print(cf_matrix_meta_tfidf_4)\n"
   ]
  },
  {
   "cell_type": "code",
   "execution_count": 393,
   "id": "889b37b2",
   "metadata": {},
   "outputs": [
    {
     "name": "stdout",
     "output_type": "stream",
     "text": [
      "Confusion Matrix for Stacking model TFIDF\n"
     ]
    },
    {
     "data": {
      "image/png": "[encoded data removed]",
      "text/plain": [
       "<Figure size 640x480 with 2 Axes>"
      ]
     },
     "metadata": {},
     "output_type": "display_data"
    }
   ],
   "source": [
    "from mlxtend.plotting import plot_confusion_matrix\n",
    "\n",
    "print(\"Confusion Matrix for Stacking model TFIDF\")\n",
    "plot_confusion_matrix(conf_mat = cf_matrix_meta_tfidf_4,\n",
    "                      show_absolute=True,\n",
    "                      show_normed=True,\n",
    "                      colorbar=True,\n",
    "                      class_names=['REAL','FAKE'])\n",
    "plt.show();"
   ]
  },
  {
   "cell_type": "code",
   "execution_count": null,
   "id": "a7d06aa4",
   "metadata": {},
   "outputs": [],
   "source": []
  },
  {
   "cell_type": "markdown",
   "id": "ae3ecb36",
   "metadata": {},
   "source": [
    "# CROSS VALIDATION"
   ]
  },
  {
   "cell_type": "code",
   "execution_count": 220,
   "id": "f94c3a06",
   "metadata": {},
   "outputs": [],
   "source": [
    "from sklearn.model_selection import cross_validate, KFold"
   ]
  },
  {
   "cell_type": "code",
   "execution_count": 221,
   "id": "a2b40fa1",
   "metadata": {},
   "outputs": [],
   "source": [
    "cv3 = KFold(n_splits=3, shuffle=True)"
   ]
  },
  {
   "cell_type": "code",
   "execution_count": 233,
   "id": "e3c42088",
   "metadata": {},
   "outputs": [],
   "source": [
    "sclf_tfidf_4 = StackingClassifier([(\"NB\", clf_mult_df12_tfidf), (\"lr\", clf_LogReg_df12_tfidf), (\"pac\", pac_df12_tfidf), \n",
    "                                (\"sgd\", sgd_df12_tfidf)], final_estimator=clf_LogReg_df12_tfidf)\n"
   ]
  },
  {
   "cell_type": "code",
   "execution_count": 237,
   "id": "4a901bca",
   "metadata": {},
   "outputs": [
    {
     "name": "stdout",
     "output_type": "stream",
     "text": [
      "Naive Bayes Multinomial accuracy:  0.7544715303432149 0.0009529510709506239 f1:  0.608587684464237 0.004025398290768578\n",
      "Logistic Regression accuracy:  0.8502136616194728 0.0016096326875761054 f1:  0.8159953963912869 0.0016833363213143283\n",
      "Passive Aggressive Classifier accuracy:  0.8173993948762709 0.0008333379779116304 f1:  0.7838145877061842 0.002135978013283802\n",
      "Stochastic Gradient Descent accuracy:  0.8441791277055651 0.002089318880543675 f1:  0.8058509910032164 0.0023146883789911953\n",
      "Stacking Classifier accuracy:  0.8499366957840838 0.0016586997933607454 f1:  0.8171696222519133 0.001826482806985051\n"
     ]
    }
   ],
   "source": [
    "for clf, label in zip([clf_mult_df12_tfidf, clf_LogReg_df12_tfidf, pac_df12_tfidf, sgd_df12_tfidf, sclf_tfidf_4], [\"Naive Bayes Multinomial\", \"Logistic Regression\", \"Passive Aggressive Classifier\", \"Stochastic Gradient Descent\", \"Stacking Classifier\"]):\n",
    "    scores = cross_validate(clf, X_train_text_df12_tfidf, Y_train_df12, cv=cv3, scoring=[\"accuracy\", \"f1\"])\n",
    "    print(label, \"accuracy: \", scores[\"test_accuracy\"].mean(), scores[\"test_accuracy\"].std(), \"f1: \", scores[\"test_f1\"].mean(), scores[\"test_f1\"].std())\n",
    "    "
   ]
  },
  {
   "cell_type": "code",
   "execution_count": null,
   "id": "8cd2f5bf",
   "metadata": {},
   "outputs": [],
   "source": []
  },
  {
   "cell_type": "code",
   "execution_count": null,
   "id": "c93e62f8",
   "metadata": {},
   "outputs": [],
   "source": []
  },
  {
   "cell_type": "code",
   "execution_count": null,
   "id": "347043f4",
   "metadata": {},
   "outputs": [],
   "source": []
  },
  {
   "cell_type": "markdown",
   "id": "97657d14",
   "metadata": {},
   "source": [
    "# Vectorizing: COUNT VECTORIZER "
   ]
  },
  {
   "cell_type": "markdown",
   "id": "362d5e5b",
   "metadata": {},
   "source": [
    "### COUNT VECTORIZER \n",
    "### USING CONTENT_CLEANED AND TITLE ONLY\n"
   ]
  },
  {
   "cell_type": "code",
   "execution_count": 86,
   "id": "f6302a59",
   "metadata": {},
   "outputs": [
    {
     "data": {
      "text/html": [
       "<style>#sk-container-id-7 {color: black;background-color: white;}#sk-container-id-7 pre{padding: 0;}#sk-container-id-7 div.sk-toggleable {background-color: white;}#sk-container-id-7 label.sk-toggleable__label {cursor: pointer;display: block;width: 100%;margin-bottom: 0;padding: 0.3em;box-sizing: border-box;text-align: center;}#sk-container-id-7 label.sk-toggleable__label-arrow:before {content: \"▸\";float: left;margin-right: 0.25em;color: #696969;}#sk-container-id-7 label.sk-toggleable__label-arrow:hover:before {color: black;}#sk-container-id-7 div.sk-estimator:hover label.sk-toggleable__label-arrow:before {color: black;}#sk-container-id-7 div.sk-toggleable__content {max-height: 0;max-width: 0;overflow: hidden;text-align: left;background-color: #f0f8ff;}#sk-container-id-7 div.sk-toggleable__content pre {margin: 0.2em;color: black;border-radius: 0.25em;background-color: #f0f8ff;}#sk-container-id-7 input.sk-toggleable__control:checked~div.sk-toggleable__content {max-height: 200px;max-width: 100%;overflow: auto;}#sk-container-id-7 input.sk-toggleable__control:checked~label.sk-toggleable__label-arrow:before {content: \"▾\";}#sk-container-id-7 div.sk-estimator input.sk-toggleable__control:checked~label.sk-toggleable__label {background-color: #d4ebff;}#sk-container-id-7 div.sk-label input.sk-toggleable__control:checked~label.sk-toggleable__label {background-color: #d4ebff;}#sk-container-id-7 input.sk-hidden--visually {border: 0;clip: rect(1px 1px 1px 1px);clip: rect(1px, 1px, 1px, 1px);height: 1px;margin: -1px;overflow: hidden;padding: 0;position: absolute;width: 1px;}#sk-container-id-7 div.sk-estimator {font-family: monospace;background-color: #f0f8ff;border: 1px dotted black;border-radius: 0.25em;box-sizing: border-box;margin-bottom: 0.5em;}#sk-container-id-7 div.sk-estimator:hover {background-color: #d4ebff;}#sk-container-id-7 div.sk-parallel-item::after {content: \"\";width: 100%;border-bottom: 1px solid gray;flex-grow: 1;}#sk-container-id-7 div.sk-label:hover label.sk-toggleable__label {background-color: #d4ebff;}#sk-container-id-7 div.sk-serial::before {content: \"\";position: absolute;border-left: 1px solid gray;box-sizing: border-box;top: 0;bottom: 0;left: 50%;z-index: 0;}#sk-container-id-7 div.sk-serial {display: flex;flex-direction: column;align-items: center;background-color: white;padding-right: 0.2em;padding-left: 0.2em;position: relative;}#sk-container-id-7 div.sk-item {position: relative;z-index: 1;}#sk-container-id-7 div.sk-parallel {display: flex;align-items: stretch;justify-content: center;background-color: white;position: relative;}#sk-container-id-7 div.sk-item::before, #sk-container-id-7 div.sk-parallel-item::before {content: \"\";position: absolute;border-left: 1px solid gray;box-sizing: border-box;top: 0;bottom: 0;left: 50%;z-index: -1;}#sk-container-id-7 div.sk-parallel-item {display: flex;flex-direction: column;z-index: 1;position: relative;background-color: white;}#sk-container-id-7 div.sk-parallel-item:first-child::after {align-self: flex-end;width: 50%;}#sk-container-id-7 div.sk-parallel-item:last-child::after {align-self: flex-start;width: 50%;}#sk-container-id-7 div.sk-parallel-item:only-child::after {width: 0;}#sk-container-id-7 div.sk-dashed-wrapped {border: 1px dashed gray;margin: 0 0.4em 0.5em 0.4em;box-sizing: border-box;padding-bottom: 0.4em;background-color: white;}#sk-container-id-7 div.sk-label label {font-family: monospace;font-weight: bold;display: inline-block;line-height: 1.2em;}#sk-container-id-7 div.sk-label-container {text-align: center;}#sk-container-id-7 div.sk-container {/* jupyter's `normalize.less` sets `[hidden] { display: none; }` but bootstrap.min.css set `[hidden] { display: none !important; }` so we also need the `!important` here to be able to override the default hidden behavior on the sphinx rendered scikit-learn.org. See: https://github.com/scikit-learn/scikit-learn/issues/21755 */display: inline-block !important;position: relative;}#sk-container-id-7 div.sk-text-repr-fallback {display: none;}</style><div id=\"sk-container-id-7\" class=\"sk-top-container\"><div class=\"sk-text-repr-fallback\"><pre>CountVectorizer(ngram_range=(2, 2))</pre><b>In a Jupyter environment, please rerun this cell to show the HTML representation or trust the notebook. <br />On GitHub, the HTML representation is unable to render, please try loading this page with nbviewer.org.</b></div><div class=\"sk-container\" hidden><div class=\"sk-item\"><div class=\"sk-estimator sk-toggleable\"><input class=\"sk-toggleable__control sk-hidden--visually\" id=\"sk-estimator-id-7\" type=\"checkbox\" checked><label for=\"sk-estimator-id-7\" class=\"sk-toggleable__label sk-toggleable__label-arrow\">CountVectorizer</label><div class=\"sk-toggleable__content\"><pre>CountVectorizer(ngram_range=(2, 2))</pre></div></div></div></div></div>"
      ],
      "text/plain": [
       "CountVectorizer(ngram_range=(2, 2))"
      ]
     },
     "execution_count": 86,
     "metadata": {},
     "output_type": "execute_result"
    }
   ],
   "source": [
    "# VECTORIZING\n",
    "# TAKES 1 MINUTE\n",
    "from sklearn.feature_extraction.text import CountVectorizer\n",
    "from scipy.sparse import hstack, csr_matrix\n",
    "\n",
    "# Initialize vectorizer, using the CountVectorizer method. The goal here is to extract only the words\n",
    "vectorizer1_df12_count = CountVectorizer(ngram_range = (2,2))\n",
    "vectorizer2_df12_count = CountVectorizer(ngram_range = (2,2))\n",
    "\n",
    "vectorizer1_df12_count.fit(X_train_df12['content_cleaned'])\n",
    "vectorizer2_df12_count.fit(X_train_df12['title'])\n"
   ]
  },
  {
   "cell_type": "code",
   "execution_count": 87,
   "id": "14106638",
   "metadata": {},
   "outputs": [],
   "source": [
    "# TAKES 1 MINUTE\n",
    "\n",
    "X_train_content_df12_count= vectorizer1_df12_count.transform(X_train_df12['content_cleaned'])\n",
    "X_train_title_df12_count = vectorizer2_df12_count.transform(X_train_df12['title'])\n",
    "X_test_content_df12_count = vectorizer1_df12_count.transform(X_test_df12['content_cleaned'])\n",
    "X_test_title_df12_count = vectorizer2_df12_count.transform(X_test_df12['title'])\n"
   ]
  },
  {
   "cell_type": "code",
   "execution_count": 88,
   "id": "429d576c",
   "metadata": {},
   "outputs": [],
   "source": [
    "X_train_text_df12_count = hstack([X_train_content_df12_count, X_train_title_df12_count])\n",
    "X_test_text_df12_count = hstack([X_test_content_df12_count, X_test_title_df12_count])\n"
   ]
  },
  {
   "cell_type": "code",
   "execution_count": 89,
   "id": "e4d77349",
   "metadata": {},
   "outputs": [
    {
     "data": {
      "text/plain": [
       "<101084x12152906 sparse matrix of type '<class 'numpy.int64'>'\n",
       "\twith 29781372 stored elements in Compressed Sparse Row format>"
      ]
     },
     "execution_count": 89,
     "metadata": {},
     "output_type": "execute_result"
    }
   ],
   "source": [
    "X_train_text_df12_count"
   ]
  },
  {
   "cell_type": "code",
   "execution_count": 90,
   "id": "c2bf7353",
   "metadata": {},
   "outputs": [
    {
     "data": {
      "text/plain": [
       "(101084, 12152906)"
      ]
     },
     "execution_count": 90,
     "metadata": {},
     "output_type": "execute_result"
    }
   ],
   "source": [
    "X_train_text_df12_count.shape"
   ]
  },
  {
   "cell_type": "code",
   "execution_count": 91,
   "id": "ad7f0da6",
   "metadata": {},
   "outputs": [
    {
     "data": {
      "text/plain": [
       "<25271x12152906 sparse matrix of type '<class 'numpy.int64'>'\n",
       "\twith 5223825 stored elements in Compressed Sparse Row format>"
      ]
     },
     "execution_count": 91,
     "metadata": {},
     "output_type": "execute_result"
    }
   ],
   "source": [
    "X_test_text_df12_count"
   ]
  },
  {
   "cell_type": "code",
   "execution_count": 92,
   "id": "6a37f104",
   "metadata": {
    "scrolled": true
   },
   "outputs": [
    {
     "data": {
      "text/plain": [
       "(25271, 12152906)"
      ]
     },
     "execution_count": 92,
     "metadata": {},
     "output_type": "execute_result"
    }
   ],
   "source": [
    "X_test_text_df12_count.shape"
   ]
  },
  {
   "cell_type": "code",
   "execution_count": 93,
   "id": "07d09ad8",
   "metadata": {},
   "outputs": [
    {
     "data": {
      "text/plain": [
       "22684     0.0\n",
       "65415     1.0\n",
       "113795    0.0\n",
       "73055     0.0\n",
       "71554     1.0\n",
       "         ... \n",
       "92007     0.0\n",
       "96663     0.0\n",
       "90426     1.0\n",
       "11148     0.0\n",
       "66170     1.0\n",
       "Name: label, Length: 101084, dtype: float64"
      ]
     },
     "execution_count": 93,
     "metadata": {},
     "output_type": "execute_result"
    }
   ],
   "source": [
    "Y_train_df12"
   ]
  },
  {
   "cell_type": "code",
   "execution_count": 94,
   "id": "47aba5f9",
   "metadata": {},
   "outputs": [
    {
     "data": {
      "text/plain": [
       "22684     0.0\n",
       "65415     1.0\n",
       "113795    0.0\n",
       "73055     0.0\n",
       "71554     1.0\n",
       "         ... \n",
       "92007     0.0\n",
       "96663     0.0\n",
       "90426     1.0\n",
       "11148     0.0\n",
       "66170     1.0\n",
       "Name: label, Length: 101084, dtype: float64"
      ]
     },
     "execution_count": 94,
     "metadata": {},
     "output_type": "execute_result"
    }
   ],
   "source": [
    "Y_train_df12"
   ]
  },
  {
   "cell_type": "code",
   "execution_count": null,
   "id": "5a9f42cb",
   "metadata": {},
   "outputs": [],
   "source": []
  },
  {
   "cell_type": "code",
   "execution_count": null,
   "id": "34a3e896",
   "metadata": {},
   "outputs": [],
   "source": [
    "## MODELS FOR STAGE 3 (Optimized Models) - Chosen Models for final stage:\n",
    "\n",
    "# 4) Logistic Regression\n",
    "# (5) Random Forest)\n",
    "\n",
    "# 6) Passive Aggressive Classifier \n",
    "# 7) Stochastic Gradient Descent (SGD)\n"
   ]
  },
  {
   "cell_type": "code",
   "execution_count": null,
   "id": "75442ddf",
   "metadata": {},
   "outputs": [],
   "source": []
  },
  {
   "cell_type": "markdown",
   "id": "f610bbc9",
   "metadata": {},
   "source": [
    "# CREATE MODELS WITH COUNT VECTORIZER AS IN STAGE 2\n"
   ]
  },
  {
   "cell_type": "markdown",
   "id": "ec7867d0",
   "metadata": {},
   "source": [
    "# 2 MULTINOMIAL NAIVE BAYES on text data df12 count\n"
   ]
  },
  {
   "cell_type": "code",
   "execution_count": 238,
   "id": "9eaf23f8",
   "metadata": {},
   "outputs": [],
   "source": [
    "from sklearn.naive_bayes import MultinomialNB"
   ]
  },
  {
   "cell_type": "code",
   "execution_count": 239,
   "id": "aca5de96",
   "metadata": {},
   "outputs": [],
   "source": [
    "from sklearn.naive_bayes import MultinomialNB\n",
    "clf_mult_df12_count = MultinomialNB()\n"
   ]
  },
  {
   "cell_type": "code",
   "execution_count": 248,
   "id": "24a5bcc3",
   "metadata": {},
   "outputs": [
    {
     "data": {
      "text/html": [
       "<style>#sk-container-id-21 {color: black;background-color: white;}#sk-container-id-21 pre{padding: 0;}#sk-container-id-21 div.sk-toggleable {background-color: white;}#sk-container-id-21 label.sk-toggleable__label {cursor: pointer;display: block;width: 100%;margin-bottom: 0;padding: 0.3em;box-sizing: border-box;text-align: center;}#sk-container-id-21 label.sk-toggleable__label-arrow:before {content: \"▸\";float: left;margin-right: 0.25em;color: #696969;}#sk-container-id-21 label.sk-toggleable__label-arrow:hover:before {color: black;}#sk-container-id-21 div.sk-estimator:hover label.sk-toggleable__label-arrow:before {color: black;}#sk-container-id-21 div.sk-toggleable__content {max-height: 0;max-width: 0;overflow: hidden;text-align: left;background-color: #f0f8ff;}#sk-container-id-21 div.sk-toggleable__content pre {margin: 0.2em;color: black;border-radius: 0.25em;background-color: #f0f8ff;}#sk-container-id-21 input.sk-toggleable__control:checked~div.sk-toggleable__content {max-height: 200px;max-width: 100%;overflow: auto;}#sk-container-id-21 input.sk-toggleable__control:checked~label.sk-toggleable__label-arrow:before {content: \"▾\";}#sk-container-id-21 div.sk-estimator input.sk-toggleable__control:checked~label.sk-toggleable__label {background-color: #d4ebff;}#sk-container-id-21 div.sk-label input.sk-toggleable__control:checked~label.sk-toggleable__label {background-color: #d4ebff;}#sk-container-id-21 input.sk-hidden--visually {border: 0;clip: rect(1px 1px 1px 1px);clip: rect(1px, 1px, 1px, 1px);height: 1px;margin: -1px;overflow: hidden;padding: 0;position: absolute;width: 1px;}#sk-container-id-21 div.sk-estimator {font-family: monospace;background-color: #f0f8ff;border: 1px dotted black;border-radius: 0.25em;box-sizing: border-box;margin-bottom: 0.5em;}#sk-container-id-21 div.sk-estimator:hover {background-color: #d4ebff;}#sk-container-id-21 div.sk-parallel-item::after {content: \"\";width: 100%;border-bottom: 1px solid gray;flex-grow: 1;}#sk-container-id-21 div.sk-label:hover label.sk-toggleable__label {background-color: #d4ebff;}#sk-container-id-21 div.sk-serial::before {content: \"\";position: absolute;border-left: 1px solid gray;box-sizing: border-box;top: 0;bottom: 0;left: 50%;z-index: 0;}#sk-container-id-21 div.sk-serial {display: flex;flex-direction: column;align-items: center;background-color: white;padding-right: 0.2em;padding-left: 0.2em;position: relative;}#sk-container-id-21 div.sk-item {position: relative;z-index: 1;}#sk-container-id-21 div.sk-parallel {display: flex;align-items: stretch;justify-content: center;background-color: white;position: relative;}#sk-container-id-21 div.sk-item::before, #sk-container-id-21 div.sk-parallel-item::before {content: \"\";position: absolute;border-left: 1px solid gray;box-sizing: border-box;top: 0;bottom: 0;left: 50%;z-index: -1;}#sk-container-id-21 div.sk-parallel-item {display: flex;flex-direction: column;z-index: 1;position: relative;background-color: white;}#sk-container-id-21 div.sk-parallel-item:first-child::after {align-self: flex-end;width: 50%;}#sk-container-id-21 div.sk-parallel-item:last-child::after {align-self: flex-start;width: 50%;}#sk-container-id-21 div.sk-parallel-item:only-child::after {width: 0;}#sk-container-id-21 div.sk-dashed-wrapped {border: 1px dashed gray;margin: 0 0.4em 0.5em 0.4em;box-sizing: border-box;padding-bottom: 0.4em;background-color: white;}#sk-container-id-21 div.sk-label label {font-family: monospace;font-weight: bold;display: inline-block;line-height: 1.2em;}#sk-container-id-21 div.sk-label-container {text-align: center;}#sk-container-id-21 div.sk-container {/* jupyter's `normalize.less` sets `[hidden] { display: none; }` but bootstrap.min.css set `[hidden] { display: none !important; }` so we also need the `!important` here to be able to override the default hidden behavior on the sphinx rendered scikit-learn.org. See: https://github.com/scikit-learn/scikit-learn/issues/21755 */display: inline-block !important;position: relative;}#sk-container-id-21 div.sk-text-repr-fallback {display: none;}</style><div id=\"sk-container-id-21\" class=\"sk-top-container\"><div class=\"sk-text-repr-fallback\"><pre>MultinomialNB()</pre><b>In a Jupyter environment, please rerun this cell to show the HTML representation or trust the notebook. <br />On GitHub, the HTML representation is unable to render, please try loading this page with nbviewer.org.</b></div><div class=\"sk-container\" hidden><div class=\"sk-item\"><div class=\"sk-estimator sk-toggleable\"><input class=\"sk-toggleable__control sk-hidden--visually\" id=\"sk-estimator-id-21\" type=\"checkbox\" checked><label for=\"sk-estimator-id-21\" class=\"sk-toggleable__label sk-toggleable__label-arrow\">MultinomialNB</label><div class=\"sk-toggleable__content\"><pre>MultinomialNB()</pre></div></div></div></div></div>"
      ],
      "text/plain": [
       "MultinomialNB()"
      ]
     },
     "execution_count": 248,
     "metadata": {},
     "output_type": "execute_result"
    }
   ],
   "source": [
    "# fit the model\n",
    "clf_mult_df12_count.fit(X_train_text_df12_count, Y_train_df12)\n"
   ]
  },
  {
   "cell_type": "code",
   "execution_count": 249,
   "id": "62d7e874",
   "metadata": {},
   "outputs": [],
   "source": [
    "y_pred_NB_Mult_df12_count= clf_mult_df12_count.predict(X_test_text_df12_count)\n"
   ]
  },
  {
   "cell_type": "code",
   "execution_count": 250,
   "id": "2345eee0",
   "metadata": {},
   "outputs": [
    {
     "data": {
      "text/plain": [
       "0.8351470064500811"
      ]
     },
     "execution_count": 250,
     "metadata": {},
     "output_type": "execute_result"
    }
   ],
   "source": [
    "# get accuracy\n",
    "accuracy_NB_Mult_df12_count = clf_mult_df12_count.score(X_test_text_df12_count, Y_test_df12)\n",
    "accuracy_NB_Mult_df12_count\n",
    "\n",
    "# 0.83\n"
   ]
  },
  {
   "cell_type": "code",
   "execution_count": 251,
   "id": "04bcbe1c",
   "metadata": {},
   "outputs": [
    {
     "data": {
      "text/plain": [
       "0.778357097254735"
      ]
     },
     "execution_count": 251,
     "metadata": {},
     "output_type": "execute_result"
    }
   ],
   "source": [
    "# Evaluate the model with f1 score\n",
    "from sklearn.metrics import f1_score\n",
    "\n",
    "f1_NB_Mult_df12_count = f1_score(Y_test_df12, y_pred_NB_Mult_df12_count)\n",
    "f1_NB_Mult_df12_count\n",
    "\n",
    "# 0.778\n",
    "# improvement compared to tf-idf"
   ]
  },
  {
   "cell_type": "code",
   "execution_count": 252,
   "id": "17781cd3",
   "metadata": {},
   "outputs": [
    {
     "data": {
      "text/html": [
       "<div>\n",
       "<style scoped>\n",
       "    .dataframe tbody tr th:only-of-type {\n",
       "        vertical-align: middle;\n",
       "    }\n",
       "\n",
       "    .dataframe tbody tr th {\n",
       "        vertical-align: top;\n",
       "    }\n",
       "\n",
       "    .dataframe thead th {\n",
       "        text-align: right;\n",
       "    }\n",
       "</style>\n",
       "<table border=\"1\" class=\"dataframe\">\n",
       "  <thead>\n",
       "    <tr style=\"text-align: right;\">\n",
       "      <th>predict</th>\n",
       "      <th>0.0</th>\n",
       "      <th>1.0</th>\n",
       "    </tr>\n",
       "    <tr>\n",
       "      <th>real</th>\n",
       "      <th></th>\n",
       "      <th></th>\n",
       "    </tr>\n",
       "  </thead>\n",
       "  <tbody>\n",
       "    <tr>\n",
       "      <th>0.0</th>\n",
       "      <td>13790</td>\n",
       "      <td>903</td>\n",
       "    </tr>\n",
       "    <tr>\n",
       "      <th>1.0</th>\n",
       "      <td>3263</td>\n",
       "      <td>7315</td>\n",
       "    </tr>\n",
       "  </tbody>\n",
       "</table>\n",
       "</div>"
      ],
      "text/plain": [
       "predict    0.0   1.0\n",
       "real                \n",
       "0.0      13790   903\n",
       "1.0       3263  7315"
      ]
     },
     "execution_count": 252,
     "metadata": {},
     "output_type": "execute_result"
    }
   ],
   "source": [
    "# get confusion matrix\n",
    "pd.crosstab(Y_test_df12, y_pred_NB_Mult_df12_count, rownames=[\"real\"], colnames=[\"predict\"])\n",
    "\n",
    "# overall prediction is ok\n",
    "# best prediction: upper right corner (false positives)"
   ]
  },
  {
   "cell_type": "code",
   "execution_count": 253,
   "id": "d46dfb59",
   "metadata": {},
   "outputs": [
    {
     "name": "stdout",
     "output_type": "stream",
     "text": [
      "Naive Bayes Multinomial df12 count vectorizer classification report:\n",
      "                precision    recall  f1-score   support\n",
      "\n",
      "         0.0       0.81      0.94      0.87     14693\n",
      "         1.0       0.89      0.69      0.78     10578\n",
      "\n",
      "    accuracy                           0.84     25271\n",
      "   macro avg       0.85      0.82      0.82     25271\n",
      "weighted avg       0.84      0.84      0.83     25271\n",
      "\n"
     ]
    }
   ],
   "source": [
    "from sklearn.metrics import classification_report \n",
    "\n",
    "# get classification report\n",
    "print(\"Naive Bayes Multinomial df12 count vectorizer classification report:\\n \", classification_report (Y_test_df12, y_pred_NB_Mult_df12_count))"
   ]
  },
  {
   "cell_type": "code",
   "execution_count": 254,
   "id": "1b4f8627",
   "metadata": {},
   "outputs": [],
   "source": [
    "from mlxtend.plotting import plot_confusion_matrix\n",
    "import matplotlib.pyplot as plt\n",
    "import numpy as np\n",
    "from sklearn.metrics import confusion_matrix\n"
   ]
  },
  {
   "cell_type": "code",
   "execution_count": 255,
   "id": "3338ea0d",
   "metadata": {},
   "outputs": [
    {
     "name": "stdout",
     "output_type": "stream",
     "text": [
      "[[13790   903]\n",
      " [ 3263  7315]]\n"
     ]
    }
   ],
   "source": [
    "# create confusion matrix\n",
    "cf_matrix_NB_Mult_df12_count = confusion_matrix(Y_test_df12, y_pred_NB_Mult_df12_count)\n",
    "print(cf_matrix_NB_Mult_df12_count)\n"
   ]
  },
  {
   "cell_type": "code",
   "execution_count": null,
   "id": "3ad91123",
   "metadata": {},
   "outputs": [],
   "source": [
    "# INTERPRETATION"
   ]
  },
  {
   "cell_type": "code",
   "execution_count": 317,
   "id": "0bad06a2",
   "metadata": {},
   "outputs": [],
   "source": [
    "from sklearn.feature_extraction.text import TfidfVectorizer\n",
    "from sklearn.naive_bayes import MultinomialNB\n",
    "import lime\n",
    "import lime.lime_text\n",
    "import shap\n"
   ]
  },
  {
   "cell_type": "code",
   "execution_count": null,
   "id": "72d2b3b7",
   "metadata": {},
   "outputs": [],
   "source": [
    "### LIME"
   ]
  },
  {
   "cell_type": "code",
   "execution_count": null,
   "id": "9d13b80e",
   "metadata": {},
   "outputs": [],
   "source": [
    "'''\n",
    "# LIME interpretation\n",
    "explainer = lime.lime_text.LimeTextExplainer()\n",
    "def predict_fn(texts):\n",
    "    vectors = hstack([vectorizer1_df12_count.transform(texts[:, 0]), vectorizer2_df12_count.transform(texts[:, 1])])\n",
    "    return clf_mult_df12_count.predict_proba(vectors)\n",
    "\n",
    "# Select a sample text for interpretation\n",
    "sample_text = np.array([[X_train_df12['content_cleaned'][0], X_train_df12['title'][0]]])\n",
    "exp = explainer.explain_instance(sample_text[0], predict_fn, num_features=10)\n",
    "exp.show_in_notebook(text=sample_text[0])\n",
    "'''\n",
    "\n",
    "# errors\n"
   ]
  },
  {
   "cell_type": "code",
   "execution_count": null,
   "id": "c0cd2219",
   "metadata": {},
   "outputs": [],
   "source": [
    "### SHAP"
   ]
  },
  {
   "cell_type": "code",
   "execution_count": null,
   "id": "9e38e2c8",
   "metadata": {},
   "outputs": [],
   "source": [
    "'''\n",
    "import shap\n",
    "\n",
    "# Create a single vectorizer for content and title\n",
    "vectorizer_combined = TfidfVectorizer(ngram_range=(2, 2))\n",
    "X_train_combined = vectorizer_combined.fit_transform(X_train_df12['content_cleaned'] + ' ' + X_train_df12['title'])\n",
    "\n",
    "# SHAP interpretation\n",
    "explainer_shap = shap.Explainer(clf_mult_df12_count, vectorizer_combined.transform)\n",
    "shap_values = explainer_shap(vectorizer_combined.transform(X_train_df12['content_cleaned'] + ' ' + X_train_df12['title']))\n",
    "shap.summary_plot(shap_values, vectorizer_combined.get_feature_names())\n",
    "'''\n",
    "\n",
    "## error"
   ]
  },
  {
   "cell_type": "code",
   "execution_count": null,
   "id": "1be02acc",
   "metadata": {},
   "outputs": [],
   "source": []
  },
  {
   "cell_type": "markdown",
   "id": "36824081",
   "metadata": {},
   "source": [
    "# 4 LOGISTIC REGRESSION MODEL ON TEXT DATA df12\n"
   ]
  },
  {
   "cell_type": "code",
   "execution_count": 259,
   "id": "d09b8173",
   "metadata": {},
   "outputs": [],
   "source": [
    "# Step 3: Instantiate model \n",
    "from sklearn.linear_model import LogisticRegression\n",
    "\n",
    "clf_LogReg_df12_count = LogisticRegression(C=1.0, n_jobs=-1)\n"
   ]
  },
  {
   "cell_type": "code",
   "execution_count": 260,
   "id": "5a41c4af",
   "metadata": {},
   "outputs": [
    {
     "data": {
      "text/html": [
       "<style>#sk-container-id-22 {color: black;background-color: white;}#sk-container-id-22 pre{padding: 0;}#sk-container-id-22 div.sk-toggleable {background-color: white;}#sk-container-id-22 label.sk-toggleable__label {cursor: pointer;display: block;width: 100%;margin-bottom: 0;padding: 0.3em;box-sizing: border-box;text-align: center;}#sk-container-id-22 label.sk-toggleable__label-arrow:before {content: \"▸\";float: left;margin-right: 0.25em;color: #696969;}#sk-container-id-22 label.sk-toggleable__label-arrow:hover:before {color: black;}#sk-container-id-22 div.sk-estimator:hover label.sk-toggleable__label-arrow:before {color: black;}#sk-container-id-22 div.sk-toggleable__content {max-height: 0;max-width: 0;overflow: hidden;text-align: left;background-color: #f0f8ff;}#sk-container-id-22 div.sk-toggleable__content pre {margin: 0.2em;color: black;border-radius: 0.25em;background-color: #f0f8ff;}#sk-container-id-22 input.sk-toggleable__control:checked~div.sk-toggleable__content {max-height: 200px;max-width: 100%;overflow: auto;}#sk-container-id-22 input.sk-toggleable__control:checked~label.sk-toggleable__label-arrow:before {content: \"▾\";}#sk-container-id-22 div.sk-estimator input.sk-toggleable__control:checked~label.sk-toggleable__label {background-color: #d4ebff;}#sk-container-id-22 div.sk-label input.sk-toggleable__control:checked~label.sk-toggleable__label {background-color: #d4ebff;}#sk-container-id-22 input.sk-hidden--visually {border: 0;clip: rect(1px 1px 1px 1px);clip: rect(1px, 1px, 1px, 1px);height: 1px;margin: -1px;overflow: hidden;padding: 0;position: absolute;width: 1px;}#sk-container-id-22 div.sk-estimator {font-family: monospace;background-color: #f0f8ff;border: 1px dotted black;border-radius: 0.25em;box-sizing: border-box;margin-bottom: 0.5em;}#sk-container-id-22 div.sk-estimator:hover {background-color: #d4ebff;}#sk-container-id-22 div.sk-parallel-item::after {content: \"\";width: 100%;border-bottom: 1px solid gray;flex-grow: 1;}#sk-container-id-22 div.sk-label:hover label.sk-toggleable__label {background-color: #d4ebff;}#sk-container-id-22 div.sk-serial::before {content: \"\";position: absolute;border-left: 1px solid gray;box-sizing: border-box;top: 0;bottom: 0;left: 50%;z-index: 0;}#sk-container-id-22 div.sk-serial {display: flex;flex-direction: column;align-items: center;background-color: white;padding-right: 0.2em;padding-left: 0.2em;position: relative;}#sk-container-id-22 div.sk-item {position: relative;z-index: 1;}#sk-container-id-22 div.sk-parallel {display: flex;align-items: stretch;justify-content: center;background-color: white;position: relative;}#sk-container-id-22 div.sk-item::before, #sk-container-id-22 div.sk-parallel-item::before {content: \"\";position: absolute;border-left: 1px solid gray;box-sizing: border-box;top: 0;bottom: 0;left: 50%;z-index: -1;}#sk-container-id-22 div.sk-parallel-item {display: flex;flex-direction: column;z-index: 1;position: relative;background-color: white;}#sk-container-id-22 div.sk-parallel-item:first-child::after {align-self: flex-end;width: 50%;}#sk-container-id-22 div.sk-parallel-item:last-child::after {align-self: flex-start;width: 50%;}#sk-container-id-22 div.sk-parallel-item:only-child::after {width: 0;}#sk-container-id-22 div.sk-dashed-wrapped {border: 1px dashed gray;margin: 0 0.4em 0.5em 0.4em;box-sizing: border-box;padding-bottom: 0.4em;background-color: white;}#sk-container-id-22 div.sk-label label {font-family: monospace;font-weight: bold;display: inline-block;line-height: 1.2em;}#sk-container-id-22 div.sk-label-container {text-align: center;}#sk-container-id-22 div.sk-container {/* jupyter's `normalize.less` sets `[hidden] { display: none; }` but bootstrap.min.css set `[hidden] { display: none !important; }` so we also need the `!important` here to be able to override the default hidden behavior on the sphinx rendered scikit-learn.org. See: https://github.com/scikit-learn/scikit-learn/issues/21755 */display: inline-block !important;position: relative;}#sk-container-id-22 div.sk-text-repr-fallback {display: none;}</style><div id=\"sk-container-id-22\" class=\"sk-top-container\"><div class=\"sk-text-repr-fallback\"><pre>LogisticRegression(n_jobs=-1)</pre><b>In a Jupyter environment, please rerun this cell to show the HTML representation or trust the notebook. <br />On GitHub, the HTML representation is unable to render, please try loading this page with nbviewer.org.</b></div><div class=\"sk-container\" hidden><div class=\"sk-item\"><div class=\"sk-estimator sk-toggleable\"><input class=\"sk-toggleable__control sk-hidden--visually\" id=\"sk-estimator-id-22\" type=\"checkbox\" checked><label for=\"sk-estimator-id-22\" class=\"sk-toggleable__label sk-toggleable__label-arrow\">LogisticRegression</label><div class=\"sk-toggleable__content\"><pre>LogisticRegression(n_jobs=-1)</pre></div></div></div></div></div>"
      ],
      "text/plain": [
       "LogisticRegression(n_jobs=-1)"
      ]
     },
     "execution_count": 260,
     "metadata": {},
     "output_type": "execute_result"
    }
   ],
   "source": [
    "# Step 4: Fit the model on the training dataset\n",
    "clf_LogReg_df12_count.fit(X_train_text_df12_count, Y_train_df12)\n"
   ]
  },
  {
   "cell_type": "code",
   "execution_count": 261,
   "id": "adf6aa46",
   "metadata": {},
   "outputs": [],
   "source": [
    "y_pred_LogReg_df12_count = clf_LogReg_df12_count.predict(X_test_text_df12_count)\n"
   ]
  },
  {
   "cell_type": "code",
   "execution_count": 262,
   "id": "a3af27d5",
   "metadata": {},
   "outputs": [
    {
     "data": {
      "text/plain": [
       "0.8536662577658185"
      ]
     },
     "execution_count": 262,
     "metadata": {},
     "output_type": "execute_result"
    }
   ],
   "source": [
    "# get accuracy\n",
    "accuracy_LogReg_df12_count = clf_LogReg_df12_count.score(X_test_text_df12_count, Y_test_df12)\n",
    "accuracy_LogReg_df12_count\n",
    "\n",
    "# 0.853\n",
    "# no change compared to tf-idf\n"
   ]
  },
  {
   "cell_type": "code",
   "execution_count": 263,
   "id": "3467f79f",
   "metadata": {},
   "outputs": [
    {
     "data": {
      "text/plain": [
       "0.823854434600362"
      ]
     },
     "execution_count": 263,
     "metadata": {},
     "output_type": "execute_result"
    }
   ],
   "source": [
    "# Evaluate the model with f1 score\n",
    "from sklearn.metrics import f1_score\n",
    "\n",
    "f1_LogReg_df12_count = f1_score(Y_test_df12, y_pred_LogReg_df12_count)\n",
    "f1_LogReg_df12_count\n",
    "\n",
    "# 0.823\n",
    "# no change compared to tf-idf"
   ]
  },
  {
   "cell_type": "code",
   "execution_count": 264,
   "id": "67be4138",
   "metadata": {},
   "outputs": [
    {
     "data": {
      "text/html": [
       "<div>\n",
       "<style scoped>\n",
       "    .dataframe tbody tr th:only-of-type {\n",
       "        vertical-align: middle;\n",
       "    }\n",
       "\n",
       "    .dataframe tbody tr th {\n",
       "        vertical-align: top;\n",
       "    }\n",
       "\n",
       "    .dataframe thead th {\n",
       "        text-align: right;\n",
       "    }\n",
       "</style>\n",
       "<table border=\"1\" class=\"dataframe\">\n",
       "  <thead>\n",
       "    <tr style=\"text-align: right;\">\n",
       "      <th>predict</th>\n",
       "      <th>0.0</th>\n",
       "      <th>1.0</th>\n",
       "    </tr>\n",
       "    <tr>\n",
       "      <th>real</th>\n",
       "      <th></th>\n",
       "      <th></th>\n",
       "    </tr>\n",
       "  </thead>\n",
       "  <tbody>\n",
       "    <tr>\n",
       "      <th>0.0</th>\n",
       "      <td>12925</td>\n",
       "      <td>1768</td>\n",
       "    </tr>\n",
       "    <tr>\n",
       "      <th>1.0</th>\n",
       "      <td>1930</td>\n",
       "      <td>8648</td>\n",
       "    </tr>\n",
       "  </tbody>\n",
       "</table>\n",
       "</div>"
      ],
      "text/plain": [
       "predict    0.0   1.0\n",
       "real                \n",
       "0.0      12925  1768\n",
       "1.0       1930  8648"
      ]
     },
     "execution_count": 264,
     "metadata": {},
     "output_type": "execute_result"
    }
   ],
   "source": [
    "# get confusion matrix\n",
    "pd.crosstab(Y_test_df12, y_pred_LogReg_df12_count, rownames=[\"real\"], colnames=[\"predict\"])\n",
    "\n",
    "# overall prediction is quite good\n",
    "# best prediction: real news as real news (0:0), followed by fake news as fake news (1:1)"
   ]
  },
  {
   "cell_type": "code",
   "execution_count": 265,
   "id": "2d90fad1",
   "metadata": {},
   "outputs": [
    {
     "name": "stdout",
     "output_type": "stream",
     "text": [
      "Logistic Regression df12 count vectorizer classification report:\n",
      "                precision    recall  f1-score   support\n",
      "\n",
      "         0.0       0.87      0.88      0.87     14693\n",
      "         1.0       0.83      0.82      0.82     10578\n",
      "\n",
      "    accuracy                           0.85     25271\n",
      "   macro avg       0.85      0.85      0.85     25271\n",
      "weighted avg       0.85      0.85      0.85     25271\n",
      "\n"
     ]
    }
   ],
   "source": [
    "from sklearn.metrics import classification_report \n",
    "\n",
    "# get classification report\n",
    "print(\"Logistic Regression df12 count vectorizer classification report:\\n \", classification_report (Y_test_df12, y_pred_LogReg_df12_count))\n"
   ]
  },
  {
   "cell_type": "code",
   "execution_count": 266,
   "id": "94cecb3f",
   "metadata": {},
   "outputs": [
    {
     "name": "stdout",
     "output_type": "stream",
     "text": [
      "[[12925  1768]\n",
      " [ 1930  8648]]\n"
     ]
    }
   ],
   "source": [
    "# create confusion matrix\n",
    "cf_matrix_LogReg_df12_count = confusion_matrix(Y_test_df12, y_pred_LogReg_df12_count)\n",
    "print(cf_matrix_LogReg_df12_count)\n"
   ]
  },
  {
   "cell_type": "code",
   "execution_count": null,
   "id": "f1214ed4",
   "metadata": {},
   "outputs": [],
   "source": []
  },
  {
   "cell_type": "markdown",
   "id": "18acb248",
   "metadata": {},
   "source": [
    "# 6 Passive Aggressive Classifier on text data df12\n"
   ]
  },
  {
   "cell_type": "markdown",
   "id": "8c1aa79a",
   "metadata": {},
   "source": [
    "Passive Aggressive Classifier Passive Aggressive algorithms are online learning algorithms. Such an algorithm remains passive for a correct classification outcome, and turns aggressive in the event of a miscalculation, updating and adjusting. Unlike most other algorithms, it does not converge. Its purpose is to make updates that correct the loss, causing very little change in the norm of the weight vector.\n"
   ]
  },
  {
   "cell_type": "code",
   "execution_count": 103,
   "id": "b4bc1bbf",
   "metadata": {},
   "outputs": [],
   "source": [
    "from sklearn.linear_model import PassiveAggressiveClassifier\n"
   ]
  },
  {
   "cell_type": "code",
   "execution_count": 104,
   "id": "a419b6aa",
   "metadata": {},
   "outputs": [],
   "source": [
    "# Initialize a PassiveAggressiveClassifier\n",
    "pac_df12_count = PassiveAggressiveClassifier(max_iter=50, n_jobs=-1)\n"
   ]
  },
  {
   "cell_type": "code",
   "execution_count": 105,
   "id": "64ed17b3",
   "metadata": {},
   "outputs": [
    {
     "data": {
      "text/html": [
       "<style>#sk-container-id-9 {color: black;background-color: white;}#sk-container-id-9 pre{padding: 0;}#sk-container-id-9 div.sk-toggleable {background-color: white;}#sk-container-id-9 label.sk-toggleable__label {cursor: pointer;display: block;width: 100%;margin-bottom: 0;padding: 0.3em;box-sizing: border-box;text-align: center;}#sk-container-id-9 label.sk-toggleable__label-arrow:before {content: \"▸\";float: left;margin-right: 0.25em;color: #696969;}#sk-container-id-9 label.sk-toggleable__label-arrow:hover:before {color: black;}#sk-container-id-9 div.sk-estimator:hover label.sk-toggleable__label-arrow:before {color: black;}#sk-container-id-9 div.sk-toggleable__content {max-height: 0;max-width: 0;overflow: hidden;text-align: left;background-color: #f0f8ff;}#sk-container-id-9 div.sk-toggleable__content pre {margin: 0.2em;color: black;border-radius: 0.25em;background-color: #f0f8ff;}#sk-container-id-9 input.sk-toggleable__control:checked~div.sk-toggleable__content {max-height: 200px;max-width: 100%;overflow: auto;}#sk-container-id-9 input.sk-toggleable__control:checked~label.sk-toggleable__label-arrow:before {content: \"▾\";}#sk-container-id-9 div.sk-estimator input.sk-toggleable__control:checked~label.sk-toggleable__label {background-color: #d4ebff;}#sk-container-id-9 div.sk-label input.sk-toggleable__control:checked~label.sk-toggleable__label {background-color: #d4ebff;}#sk-container-id-9 input.sk-hidden--visually {border: 0;clip: rect(1px 1px 1px 1px);clip: rect(1px, 1px, 1px, 1px);height: 1px;margin: -1px;overflow: hidden;padding: 0;position: absolute;width: 1px;}#sk-container-id-9 div.sk-estimator {font-family: monospace;background-color: #f0f8ff;border: 1px dotted black;border-radius: 0.25em;box-sizing: border-box;margin-bottom: 0.5em;}#sk-container-id-9 div.sk-estimator:hover {background-color: #d4ebff;}#sk-container-id-9 div.sk-parallel-item::after {content: \"\";width: 100%;border-bottom: 1px solid gray;flex-grow: 1;}#sk-container-id-9 div.sk-label:hover label.sk-toggleable__label {background-color: #d4ebff;}#sk-container-id-9 div.sk-serial::before {content: \"\";position: absolute;border-left: 1px solid gray;box-sizing: border-box;top: 0;bottom: 0;left: 50%;z-index: 0;}#sk-container-id-9 div.sk-serial {display: flex;flex-direction: column;align-items: center;background-color: white;padding-right: 0.2em;padding-left: 0.2em;position: relative;}#sk-container-id-9 div.sk-item {position: relative;z-index: 1;}#sk-container-id-9 div.sk-parallel {display: flex;align-items: stretch;justify-content: center;background-color: white;position: relative;}#sk-container-id-9 div.sk-item::before, #sk-container-id-9 div.sk-parallel-item::before {content: \"\";position: absolute;border-left: 1px solid gray;box-sizing: border-box;top: 0;bottom: 0;left: 50%;z-index: -1;}#sk-container-id-9 div.sk-parallel-item {display: flex;flex-direction: column;z-index: 1;position: relative;background-color: white;}#sk-container-id-9 div.sk-parallel-item:first-child::after {align-self: flex-end;width: 50%;}#sk-container-id-9 div.sk-parallel-item:last-child::after {align-self: flex-start;width: 50%;}#sk-container-id-9 div.sk-parallel-item:only-child::after {width: 0;}#sk-container-id-9 div.sk-dashed-wrapped {border: 1px dashed gray;margin: 0 0.4em 0.5em 0.4em;box-sizing: border-box;padding-bottom: 0.4em;background-color: white;}#sk-container-id-9 div.sk-label label {font-family: monospace;font-weight: bold;display: inline-block;line-height: 1.2em;}#sk-container-id-9 div.sk-label-container {text-align: center;}#sk-container-id-9 div.sk-container {/* jupyter's `normalize.less` sets `[hidden] { display: none; }` but bootstrap.min.css set `[hidden] { display: none !important; }` so we also need the `!important` here to be able to override the default hidden behavior on the sphinx rendered scikit-learn.org. See: https://github.com/scikit-learn/scikit-learn/issues/21755 */display: inline-block !important;position: relative;}#sk-container-id-9 div.sk-text-repr-fallback {display: none;}</style><div id=\"sk-container-id-9\" class=\"sk-top-container\"><div class=\"sk-text-repr-fallback\"><pre>PassiveAggressiveClassifier(max_iter=50, n_jobs=-1)</pre><b>In a Jupyter environment, please rerun this cell to show the HTML representation or trust the notebook. <br />On GitHub, the HTML representation is unable to render, please try loading this page with nbviewer.org.</b></div><div class=\"sk-container\" hidden><div class=\"sk-item\"><div class=\"sk-estimator sk-toggleable\"><input class=\"sk-toggleable__control sk-hidden--visually\" id=\"sk-estimator-id-9\" type=\"checkbox\" checked><label for=\"sk-estimator-id-9\" class=\"sk-toggleable__label sk-toggleable__label-arrow\">PassiveAggressiveClassifier</label><div class=\"sk-toggleable__content\"><pre>PassiveAggressiveClassifier(max_iter=50, n_jobs=-1)</pre></div></div></div></div></div>"
      ],
      "text/plain": [
       "PassiveAggressiveClassifier(max_iter=50, n_jobs=-1)"
      ]
     },
     "execution_count": 105,
     "metadata": {},
     "output_type": "execute_result"
    }
   ],
   "source": [
    "# fit model\n",
    "pac_df12_count.fit(X_train_text_df12_count, Y_train_df12)\n"
   ]
  },
  {
   "cell_type": "code",
   "execution_count": 106,
   "id": "f093938b",
   "metadata": {},
   "outputs": [],
   "source": [
    "#Predict on the test set \n",
    "y_pred_PassAgg_df12_count = pac_df12_count.predict(X_test_text_df12_count)\n"
   ]
  },
  {
   "cell_type": "code",
   "execution_count": 107,
   "id": "1689f1f2",
   "metadata": {},
   "outputs": [
    {
     "data": {
      "text/plain": [
       "0.8421115112183927"
      ]
     },
     "execution_count": 107,
     "metadata": {},
     "output_type": "execute_result"
    }
   ],
   "source": [
    "# get accuracy\n",
    "accuracy_PassAgg_df12_count= pac_df12_count.score(X_test_text_df12_count, Y_test_df12)\n",
    "accuracy_PassAgg_df12_count\n",
    "\n",
    "# 0.842\n",
    "# improved compared to TF-IDF\n"
   ]
  },
  {
   "cell_type": "code",
   "execution_count": 109,
   "id": "8abd5973",
   "metadata": {},
   "outputs": [
    {
     "data": {
      "text/plain": [
       "0.81216457960644"
      ]
     },
     "execution_count": 109,
     "metadata": {},
     "output_type": "execute_result"
    }
   ],
   "source": [
    "# Evaluate the model with f1 score\n",
    "from sklearn.metrics import f1_score\n",
    "\n",
    "f1_PassAgg_df12_count = f1_score(Y_test_df12, y_pred_PassAgg_df12_count)\n",
    "f1_PassAgg_df12_count\n",
    "\n",
    "# 0.812\n",
    "# improved compared to TF-IDF\n"
   ]
  },
  {
   "cell_type": "code",
   "execution_count": 110,
   "id": "e04993b1",
   "metadata": {},
   "outputs": [
    {
     "data": {
      "text/html": [
       "<div>\n",
       "<style scoped>\n",
       "    .dataframe tbody tr th:only-of-type {\n",
       "        vertical-align: middle;\n",
       "    }\n",
       "\n",
       "    .dataframe tbody tr th {\n",
       "        vertical-align: top;\n",
       "    }\n",
       "\n",
       "    .dataframe thead th {\n",
       "        text-align: right;\n",
       "    }\n",
       "</style>\n",
       "<table border=\"1\" class=\"dataframe\">\n",
       "  <thead>\n",
       "    <tr style=\"text-align: right;\">\n",
       "      <th>predict</th>\n",
       "      <th>0.0</th>\n",
       "      <th>1.0</th>\n",
       "    </tr>\n",
       "    <tr>\n",
       "      <th>real</th>\n",
       "      <th></th>\n",
       "      <th></th>\n",
       "    </tr>\n",
       "  </thead>\n",
       "  <tbody>\n",
       "    <tr>\n",
       "      <th>0.0</th>\n",
       "      <td>12655</td>\n",
       "      <td>2038</td>\n",
       "    </tr>\n",
       "    <tr>\n",
       "      <th>1.0</th>\n",
       "      <td>1952</td>\n",
       "      <td>8626</td>\n",
       "    </tr>\n",
       "  </tbody>\n",
       "</table>\n",
       "</div>"
      ],
      "text/plain": [
       "predict    0.0   1.0\n",
       "real                \n",
       "0.0      12655  2038\n",
       "1.0       1952  8626"
      ]
     },
     "execution_count": 110,
     "metadata": {},
     "output_type": "execute_result"
    }
   ],
   "source": [
    "# get confusion matrix\n",
    "pd.crosstab(Y_test_df12, y_pred_PassAgg_df12_count, rownames=[\"real\"], colnames=[\"predict\"])\n",
    "\n",
    "# overall prediction is quite good but no very good prediction for any case"
   ]
  },
  {
   "cell_type": "code",
   "execution_count": 111,
   "id": "7350d53d",
   "metadata": {},
   "outputs": [
    {
     "name": "stdout",
     "output_type": "stream",
     "text": [
      "Passive Aggressive df12 count vectorizer classification report:\n",
      "                precision    recall  f1-score   support\n",
      "\n",
      "         0.0       0.87      0.86      0.86     14693\n",
      "         1.0       0.81      0.82      0.81     10578\n",
      "\n",
      "    accuracy                           0.84     25271\n",
      "   macro avg       0.84      0.84      0.84     25271\n",
      "weighted avg       0.84      0.84      0.84     25271\n",
      "\n"
     ]
    }
   ],
   "source": [
    "from sklearn.metrics import classification_report \n",
    "\n",
    "# get classification report\n",
    "print(\"Passive Aggressive df12 count vectorizer classification report:\\n \", classification_report (Y_test_df12, y_pred_PassAgg_df12_count))\n"
   ]
  },
  {
   "cell_type": "code",
   "execution_count": 112,
   "id": "52b261b2",
   "metadata": {
    "scrolled": true
   },
   "outputs": [
    {
     "name": "stdout",
     "output_type": "stream",
     "text": [
      "[[12655  2038]\n",
      " [ 1952  8626]]\n"
     ]
    }
   ],
   "source": [
    "# create confusion matrix\n",
    "cf_matrix_PassAgg_df12_count = confusion_matrix(Y_test_df12, y_pred_PassAgg_df12_count)\n",
    "print(cf_matrix_PassAgg_df12_count)\n"
   ]
  },
  {
   "cell_type": "code",
   "execution_count": null,
   "id": "87053f88",
   "metadata": {},
   "outputs": [],
   "source": []
  },
  {
   "cell_type": "markdown",
   "id": "08a5c04c",
   "metadata": {},
   "source": [
    "# 10 Stochastic Gradient Decent (SGD) on text data df12"
   ]
  },
  {
   "cell_type": "code",
   "execution_count": 113,
   "id": "12bd8c74",
   "metadata": {},
   "outputs": [],
   "source": [
    "from sklearn.linear_model import SGDClassifier\n",
    "from sklearn.metrics import accuracy_score\n",
    "\n",
    "# Create an SGD classifier\n",
    "sgd_df12_count = SGDClassifier(n_jobs=-1)"
   ]
  },
  {
   "cell_type": "code",
   "execution_count": 114,
   "id": "7e304dd7",
   "metadata": {},
   "outputs": [
    {
     "data": {
      "text/html": [
       "<style>#sk-container-id-10 {color: black;background-color: white;}#sk-container-id-10 pre{padding: 0;}#sk-container-id-10 div.sk-toggleable {background-color: white;}#sk-container-id-10 label.sk-toggleable__label {cursor: pointer;display: block;width: 100%;margin-bottom: 0;padding: 0.3em;box-sizing: border-box;text-align: center;}#sk-container-id-10 label.sk-toggleable__label-arrow:before {content: \"▸\";float: left;margin-right: 0.25em;color: #696969;}#sk-container-id-10 label.sk-toggleable__label-arrow:hover:before {color: black;}#sk-container-id-10 div.sk-estimator:hover label.sk-toggleable__label-arrow:before {color: black;}#sk-container-id-10 div.sk-toggleable__content {max-height: 0;max-width: 0;overflow: hidden;text-align: left;background-color: #f0f8ff;}#sk-container-id-10 div.sk-toggleable__content pre {margin: 0.2em;color: black;border-radius: 0.25em;background-color: #f0f8ff;}#sk-container-id-10 input.sk-toggleable__control:checked~div.sk-toggleable__content {max-height: 200px;max-width: 100%;overflow: auto;}#sk-container-id-10 input.sk-toggleable__control:checked~label.sk-toggleable__label-arrow:before {content: \"▾\";}#sk-container-id-10 div.sk-estimator input.sk-toggleable__control:checked~label.sk-toggleable__label {background-color: #d4ebff;}#sk-container-id-10 div.sk-label input.sk-toggleable__control:checked~label.sk-toggleable__label {background-color: #d4ebff;}#sk-container-id-10 input.sk-hidden--visually {border: 0;clip: rect(1px 1px 1px 1px);clip: rect(1px, 1px, 1px, 1px);height: 1px;margin: -1px;overflow: hidden;padding: 0;position: absolute;width: 1px;}#sk-container-id-10 div.sk-estimator {font-family: monospace;background-color: #f0f8ff;border: 1px dotted black;border-radius: 0.25em;box-sizing: border-box;margin-bottom: 0.5em;}#sk-container-id-10 div.sk-estimator:hover {background-color: #d4ebff;}#sk-container-id-10 div.sk-parallel-item::after {content: \"\";width: 100%;border-bottom: 1px solid gray;flex-grow: 1;}#sk-container-id-10 div.sk-label:hover label.sk-toggleable__label {background-color: #d4ebff;}#sk-container-id-10 div.sk-serial::before {content: \"\";position: absolute;border-left: 1px solid gray;box-sizing: border-box;top: 0;bottom: 0;left: 50%;z-index: 0;}#sk-container-id-10 div.sk-serial {display: flex;flex-direction: column;align-items: center;background-color: white;padding-right: 0.2em;padding-left: 0.2em;position: relative;}#sk-container-id-10 div.sk-item {position: relative;z-index: 1;}#sk-container-id-10 div.sk-parallel {display: flex;align-items: stretch;justify-content: center;background-color: white;position: relative;}#sk-container-id-10 div.sk-item::before, #sk-container-id-10 div.sk-parallel-item::before {content: \"\";position: absolute;border-left: 1px solid gray;box-sizing: border-box;top: 0;bottom: 0;left: 50%;z-index: -1;}#sk-container-id-10 div.sk-parallel-item {display: flex;flex-direction: column;z-index: 1;position: relative;background-color: white;}#sk-container-id-10 div.sk-parallel-item:first-child::after {align-self: flex-end;width: 50%;}#sk-container-id-10 div.sk-parallel-item:last-child::after {align-self: flex-start;width: 50%;}#sk-container-id-10 div.sk-parallel-item:only-child::after {width: 0;}#sk-container-id-10 div.sk-dashed-wrapped {border: 1px dashed gray;margin: 0 0.4em 0.5em 0.4em;box-sizing: border-box;padding-bottom: 0.4em;background-color: white;}#sk-container-id-10 div.sk-label label {font-family: monospace;font-weight: bold;display: inline-block;line-height: 1.2em;}#sk-container-id-10 div.sk-label-container {text-align: center;}#sk-container-id-10 div.sk-container {/* jupyter's `normalize.less` sets `[hidden] { display: none; }` but bootstrap.min.css set `[hidden] { display: none !important; }` so we also need the `!important` here to be able to override the default hidden behavior on the sphinx rendered scikit-learn.org. See: https://github.com/scikit-learn/scikit-learn/issues/21755 */display: inline-block !important;position: relative;}#sk-container-id-10 div.sk-text-repr-fallback {display: none;}</style><div id=\"sk-container-id-10\" class=\"sk-top-container\"><div class=\"sk-text-repr-fallback\"><pre>SGDClassifier(n_jobs=-1)</pre><b>In a Jupyter environment, please rerun this cell to show the HTML representation or trust the notebook. <br />On GitHub, the HTML representation is unable to render, please try loading this page with nbviewer.org.</b></div><div class=\"sk-container\" hidden><div class=\"sk-item\"><div class=\"sk-estimator sk-toggleable\"><input class=\"sk-toggleable__control sk-hidden--visually\" id=\"sk-estimator-id-10\" type=\"checkbox\" checked><label for=\"sk-estimator-id-10\" class=\"sk-toggleable__label sk-toggleable__label-arrow\">SGDClassifier</label><div class=\"sk-toggleable__content\"><pre>SGDClassifier(n_jobs=-1)</pre></div></div></div></div></div>"
      ],
      "text/plain": [
       "SGDClassifier(n_jobs=-1)"
      ]
     },
     "execution_count": 114,
     "metadata": {},
     "output_type": "execute_result"
    }
   ],
   "source": [
    "# Train the SGD model\n",
    "sgd_df12_count.fit(X_train_text_df12_count, Y_train_df12)\n"
   ]
  },
  {
   "cell_type": "code",
   "execution_count": 115,
   "id": "6ee5d1c0",
   "metadata": {},
   "outputs": [],
   "source": [
    "# Make predictions on the test set\n",
    "y_pred_sgd_df12_count = sgd_df12_count.predict(X_test_text_df12_count)\n"
   ]
  },
  {
   "cell_type": "code",
   "execution_count": 116,
   "id": "711c5730",
   "metadata": {},
   "outputs": [
    {
     "data": {
      "text/plain": [
       "0.8496300106841834"
      ]
     },
     "execution_count": 116,
     "metadata": {},
     "output_type": "execute_result"
    }
   ],
   "source": [
    "# Calculate accuracy\n",
    "accuracy_sgd_df12_count = accuracy_score(Y_test_df12, y_pred_sgd_df12_count)\n",
    "accuracy_sgd_df12_count\n",
    "\n",
    "# 0.849\n",
    "# slight improvement compared to tf-idf\n"
   ]
  },
  {
   "cell_type": "code",
   "execution_count": 117,
   "id": "5df67c7c",
   "metadata": {
    "scrolled": true
   },
   "outputs": [
    {
     "data": {
      "text/plain": [
       "0.8223635003739715"
      ]
     },
     "execution_count": 117,
     "metadata": {},
     "output_type": "execute_result"
    }
   ],
   "source": [
    "# Evaluate the model with f1 score\n",
    "from sklearn.metrics import f1_score\n",
    "\n",
    "f1_sgd_df12_count = f1_score(Y_test_df12, y_pred_sgd_df12_count)\n",
    "f1_sgd_df12_count\n",
    "\n",
    "# 0.822\n",
    "# slight improvement compared to tf-idf\n"
   ]
  },
  {
   "cell_type": "code",
   "execution_count": 118,
   "id": "b79223ff",
   "metadata": {},
   "outputs": [
    {
     "data": {
      "text/html": [
       "<div>\n",
       "<style scoped>\n",
       "    .dataframe tbody tr th:only-of-type {\n",
       "        vertical-align: middle;\n",
       "    }\n",
       "\n",
       "    .dataframe tbody tr th {\n",
       "        vertical-align: top;\n",
       "    }\n",
       "\n",
       "    .dataframe thead th {\n",
       "        text-align: right;\n",
       "    }\n",
       "</style>\n",
       "<table border=\"1\" class=\"dataframe\">\n",
       "  <thead>\n",
       "    <tr style=\"text-align: right;\">\n",
       "      <th>predict</th>\n",
       "      <th>0.0</th>\n",
       "      <th>1.0</th>\n",
       "    </tr>\n",
       "    <tr>\n",
       "      <th>real</th>\n",
       "      <th></th>\n",
       "      <th></th>\n",
       "    </tr>\n",
       "  </thead>\n",
       "  <tbody>\n",
       "    <tr>\n",
       "      <th>0.0</th>\n",
       "      <td>12675</td>\n",
       "      <td>2018</td>\n",
       "    </tr>\n",
       "    <tr>\n",
       "      <th>1.0</th>\n",
       "      <td>1782</td>\n",
       "      <td>8796</td>\n",
       "    </tr>\n",
       "  </tbody>\n",
       "</table>\n",
       "</div>"
      ],
      "text/plain": [
       "predict    0.0   1.0\n",
       "real                \n",
       "0.0      12675  2018\n",
       "1.0       1782  8796"
      ]
     },
     "execution_count": 118,
     "metadata": {},
     "output_type": "execute_result"
    }
   ],
   "source": [
    "# Create crosstab\n",
    "pd.crosstab(Y_test_df12, y_pred_sgd_df12_count, rownames=[\"real\"], colnames=[\"predict\"])\n",
    "\n",
    "# overall prediction is quite good but no super good result for any of the cases"
   ]
  },
  {
   "cell_type": "code",
   "execution_count": 119,
   "id": "2a38a90f",
   "metadata": {},
   "outputs": [
    {
     "name": "stdout",
     "output_type": "stream",
     "text": [
      "SGD df12 count vectorizer classification report:\n",
      "                precision    recall  f1-score   support\n",
      "\n",
      "         0.0       0.88      0.86      0.87     14693\n",
      "         1.0       0.81      0.83      0.82     10578\n",
      "\n",
      "    accuracy                           0.85     25271\n",
      "   macro avg       0.85      0.85      0.85     25271\n",
      "weighted avg       0.85      0.85      0.85     25271\n",
      "\n"
     ]
    }
   ],
   "source": [
    "from sklearn.metrics import classification_report \n",
    "\n",
    "# get classification report\n",
    "print(\"SGD df12 count vectorizer classification report:\\n \", classification_report (Y_test_df12, y_pred_sgd_df12_count))\n"
   ]
  },
  {
   "cell_type": "code",
   "execution_count": 120,
   "id": "0a9279e8",
   "metadata": {},
   "outputs": [
    {
     "name": "stdout",
     "output_type": "stream",
     "text": [
      "[[12675  2018]\n",
      " [ 1782  8796]]\n"
     ]
    }
   ],
   "source": [
    "# create confusion matrix\n",
    "cf_matrix_sgd_df12_count = confusion_matrix(Y_test_df12, y_pred_sgd_df12_count)\n",
    "print(cf_matrix_sgd_df12_count)"
   ]
  },
  {
   "cell_type": "code",
   "execution_count": null,
   "id": "c9e0b079",
   "metadata": {},
   "outputs": [],
   "source": []
  },
  {
   "cell_type": "markdown",
   "id": "de453f7e",
   "metadata": {},
   "source": [
    "# COMPARE MODELS ON TEXT DATA ONLY df12  Count Vectorizer\n"
   ]
  },
  {
   "cell_type": "code",
   "execution_count": null,
   "id": "42a09e48",
   "metadata": {},
   "outputs": [],
   "source": [
    "# MODELS FOR STAGE 3 (Optimized Models):\n",
    "# 2) Naive Bayes Multinomial\n",
    "# 4) Logistic Regression\n",
    "# 6) Passive Aggressive Classifier \n",
    "# 10) Stochastic Gradient Descent\n"
   ]
  },
  {
   "cell_type": "code",
   "execution_count": 268,
   "id": "be1f4b0a",
   "metadata": {},
   "outputs": [
    {
     "name": "stdout",
     "output_type": "stream",
     "text": [
      "Naive Bayes Multinomial accuracy score df12 count: 0.8351470064500811\n",
      "Logistic Regression accuracy score df12 count: 0.8536662577658185\n",
      "Passive Agressive accuracy score df12 count: 0.8421115112183927\n",
      "Stochastic Gradient Descent accuracy score df12 count: 0.8496300106841834\n"
     ]
    }
   ],
   "source": [
    "print(\"Naive Bayes Multinomial accuracy score df12 count:\", accuracy_NB_Mult_df12_count)\n",
    "print(\"Logistic Regression accuracy score df12 count:\", accuracy_LogReg_df12_count)\n",
    "print(\"Passive Agressive accuracy score df12 count:\", accuracy_PassAgg_df12_count)\n",
    "print(\"Stochastic Gradient Descent accuracy score df12 count:\", accuracy_sgd_df12_count)\n"
   ]
  },
  {
   "cell_type": "code",
   "execution_count": 270,
   "id": "61e335e5",
   "metadata": {},
   "outputs": [
    {
     "name": "stdout",
     "output_type": "stream",
     "text": [
      "Naive Bayes Multinomial f1 score df12 count: 0.778357097254735\n",
      "Logistic Regression f1 score df12 count: 0.823854434600362\n",
      "Passive Agressive f1 score df12 count: 0.81216457960644\n",
      "Stochastic Gradient Descent f1 score df12 count: 0.8223635003739715\n"
     ]
    }
   ],
   "source": [
    "print(\"Naive Bayes Multinomial f1 score df12 count:\", f1_NB_Mult_df12_count)\n",
    "print(\"Logistic Regression f1 score df12 count:\", f1_LogReg_df12_count)\n",
    "print(\"Passive Agressive f1 score df12 count:\", f1_PassAgg_df12_count)\n",
    "print(\"Stochastic Gradient Descent f1 score df12 count:\", f1_sgd_df12_count)\n"
   ]
  },
  {
   "cell_type": "code",
   "execution_count": null,
   "id": "d2f4f291",
   "metadata": {},
   "outputs": [],
   "source": []
  },
  {
   "cell_type": "markdown",
   "id": "8fa716dd",
   "metadata": {},
   "source": [
    "## PLOT 1: Accuracy of all four models Count Vectorizer"
   ]
  },
  {
   "cell_type": "code",
   "execution_count": 271,
   "id": "9e71d5ab",
   "metadata": {},
   "outputs": [],
   "source": [
    "#Creating the Dictionary with model name as key and accuracy as key-value\n",
    "acc_labels_df12_count_sel={'Naive Bayes Multinomial':accuracy_NB_Mult_df12_count,\n",
    "        'Logistic Regression':accuracy_LogReg_df12_count,\n",
    "        'Passive Aggressive':accuracy_PassAgg_df12_count,\n",
    "        'Stoachstic Gradient Descent':accuracy_sgd_df12_count} \n",
    "        "
   ]
  },
  {
   "cell_type": "code",
   "execution_count": 272,
   "id": "1b058d00",
   "metadata": {},
   "outputs": [
    {
     "data": {
      "image/png": "[encoded data removed]",
      "text/plain": [
       "<Figure size 2500x1000 with 1 Axes>"
      ]
     },
     "metadata": {},
     "output_type": "display_data"
    }
   ],
   "source": [
    "# Data for the chart\n",
    "acc_labels_sel_count = list(acc_labels_df12_count_sel.keys())\n",
    "acc_values_sel_count = list(acc_labels_df12_count_sel.values())\n",
    "# colors=['yellow','orange','magenta', 'gray', 'blue', 'black', 'white', 'lightgreen', 'darkred', 'purple']\n",
    "\n",
    "# Creating the chart\n",
    "plt.figure(figsize=(25, 10))\n",
    "plt.title('Comparing Accuracy of ML Models on text data from df12 dataset with Count Vectorizer', fontsize=20)\n",
    "plt.xlabel('Accuracy', fontsize=16)\n",
    "plt.ylabel('Models', fontsize=16)\n",
    "plt.xticks(fontsize=16)\n",
    "plt.yticks(fontsize=16)# Increase the plot width to accommodate the values\n",
    "\n",
    "plt.barh(acc_labels_sel_count, acc_values_sel_count, color='darkblue', edgecolor='black', linewidth=1, alpha=0.7)\n",
    "\n",
    "# Displaying values at the end of the bars\n",
    "for i, value in enumerate(acc_values_sel_count):\n",
    "    plt.text(value, i, f'{value:.5f}', fontsize=16, va='center')\n",
    "\n",
    "plt.show();"
   ]
  },
  {
   "cell_type": "code",
   "execution_count": null,
   "id": "0aea8c4e",
   "metadata": {},
   "outputs": [],
   "source": []
  },
  {
   "cell_type": "markdown",
   "id": "2bc7129f",
   "metadata": {},
   "source": [
    "## PLOT 2: f1-score of all four models Count Vectorizer"
   ]
  },
  {
   "cell_type": "code",
   "execution_count": 273,
   "id": "2d70f7d9",
   "metadata": {},
   "outputs": [],
   "source": [
    "#Creating the Dictionary with model name as key and accuracy as key-value\n",
    "f1_labels_df12_count_sel={'Naive Bayes Multinomial':f1_NB_Mult_df12_count,\n",
    "        'Logistic Regression':f1_LogReg_df12_count,\n",
    "        'Passive Aggressive':f1_PassAgg_df12_count,\n",
    "        'Stoachstic Gradient Descent':f1_sgd_df12_count} \n",
    "        "
   ]
  },
  {
   "cell_type": "code",
   "execution_count": 274,
   "id": "718f9027",
   "metadata": {},
   "outputs": [
    {
     "data": {
      "image/png": "[encoded data removed]",
      "text/plain": [
       "<Figure size 2500x1000 with 1 Axes>"
      ]
     },
     "metadata": {},
     "output_type": "display_data"
    }
   ],
   "source": [
    "# Data for the chart\n",
    "f1_labels_sel_count = list(f1_labels_df12_count_sel.keys())\n",
    "f1_values_sel_count = list(f1_labels_df12_count_sel.values())\n",
    "# colors=['yellow','orange','magenta', 'gray', 'blue', 'black', 'white', 'lightgreen', 'darkred', 'purple']\n",
    "\n",
    "# Creating the chart\n",
    "plt.figure(figsize=(25, 10))\n",
    "plt.title('Comparing f1-score of ML Models on text data from df12 dataset with Count Vectorizer', fontsize=20)\n",
    "plt.xlabel('f1-score', fontsize=16)\n",
    "plt.ylabel('Models', fontsize=16)\n",
    "plt.xticks(fontsize=16)\n",
    "plt.yticks(fontsize=16)# Increase the plot width to accommodate the values\n",
    "\n",
    "plt.barh(f1_labels_sel_count, f1_values_sel_count, color='darkgreen', edgecolor='black', linewidth=1, alpha=0.7)\n",
    "\n",
    "# Displaying values at the end of the bars\n",
    "for i, value in enumerate(f1_values_sel_count):\n",
    "    plt.text(value, i, f'{value:.5f}', fontsize=16, va='center')\n",
    "\n",
    "plt.show();"
   ]
  },
  {
   "cell_type": "code",
   "execution_count": null,
   "id": "29ec3dcd",
   "metadata": {},
   "outputs": [],
   "source": []
  },
  {
   "cell_type": "markdown",
   "id": "de306760",
   "metadata": {},
   "source": [
    "# PLOT 3: confusion matrix of all four models Count Vectorizer"
   ]
  },
  {
   "cell_type": "markdown",
   "id": "474900c7",
   "metadata": {},
   "source": [
    "### NAIVE BAYES MULTINOMIAL"
   ]
  },
  {
   "cell_type": "code",
   "execution_count": 275,
   "id": "8928a2cf",
   "metadata": {},
   "outputs": [
    {
     "data": {
      "text/html": [
       "<div>\n",
       "<style scoped>\n",
       "    .dataframe tbody tr th:only-of-type {\n",
       "        vertical-align: middle;\n",
       "    }\n",
       "\n",
       "    .dataframe tbody tr th {\n",
       "        vertical-align: top;\n",
       "    }\n",
       "\n",
       "    .dataframe thead th {\n",
       "        text-align: right;\n",
       "    }\n",
       "</style>\n",
       "<table border=\"1\" class=\"dataframe\">\n",
       "  <thead>\n",
       "    <tr style=\"text-align: right;\">\n",
       "      <th>predict</th>\n",
       "      <th>0.0</th>\n",
       "      <th>1.0</th>\n",
       "    </tr>\n",
       "    <tr>\n",
       "      <th>real</th>\n",
       "      <th></th>\n",
       "      <th></th>\n",
       "    </tr>\n",
       "  </thead>\n",
       "  <tbody>\n",
       "    <tr>\n",
       "      <th>0.0</th>\n",
       "      <td>13790</td>\n",
       "      <td>903</td>\n",
       "    </tr>\n",
       "    <tr>\n",
       "      <th>1.0</th>\n",
       "      <td>3263</td>\n",
       "      <td>7315</td>\n",
       "    </tr>\n",
       "  </tbody>\n",
       "</table>\n",
       "</div>"
      ],
      "text/plain": [
       "predict    0.0   1.0\n",
       "real                \n",
       "0.0      13790   903\n",
       "1.0       3263  7315"
      ]
     },
     "execution_count": 275,
     "metadata": {},
     "output_type": "execute_result"
    }
   ],
   "source": [
    "# get confusion matrix\n",
    "pd.crosstab(Y_test_df12, y_pred_NB_Mult_df12_count, rownames=[\"real\"], colnames=[\"predict\"])\n"
   ]
  },
  {
   "cell_type": "code",
   "execution_count": 276,
   "id": "28040894",
   "metadata": {},
   "outputs": [
    {
     "name": "stdout",
     "output_type": "stream",
     "text": [
      "[[13790   903]\n",
      " [ 3263  7315]]\n"
     ]
    }
   ],
   "source": [
    "# create confusion matrix\n",
    "cf_matrix_NB_Mult_df12_count = confusion_matrix(Y_test_df12, y_pred_NB_Mult_df12_count)\n",
    "print(cf_matrix_NB_Mult_df12_count)\n"
   ]
  },
  {
   "cell_type": "code",
   "execution_count": 328,
   "id": "84b32327",
   "metadata": {},
   "outputs": [
    {
     "data": {
      "image/png": "[encoded data removed]",
      "text/plain": [
       "<Figure size 640x480 with 2 Axes>"
      ]
     },
     "metadata": {},
     "output_type": "display_data"
    }
   ],
   "source": [
    "from mlxtend.plotting import plot_confusion_matrix\n",
    "\n",
    "# print(\"Confusion Matrix for Naive Bayes Multinomial Count Vectorizer\")\n",
    "plot_confusion_matrix(conf_mat = cf_matrix_NB_Mult_df12_count,\n",
    "                      show_absolute=True,\n",
    "                      show_normed=True,\n",
    "                      colorbar=True,\n",
    "                      class_names=['REAL','FAKE'])\n",
    "plt.title(\"Confusion Matrix for Naive Bayes Multinomial Count Vectorizer\")\n",
    "plt.show();\n"
   ]
  },
  {
   "cell_type": "code",
   "execution_count": null,
   "id": "652228d5",
   "metadata": {},
   "outputs": [],
   "source": []
  },
  {
   "cell_type": "markdown",
   "id": "db192d91",
   "metadata": {},
   "source": [
    "### LOGISTIC REGRESSION"
   ]
  },
  {
   "cell_type": "code",
   "execution_count": 279,
   "id": "52ff5cd9",
   "metadata": {},
   "outputs": [
    {
     "data": {
      "text/html": [
       "<div>\n",
       "<style scoped>\n",
       "    .dataframe tbody tr th:only-of-type {\n",
       "        vertical-align: middle;\n",
       "    }\n",
       "\n",
       "    .dataframe tbody tr th {\n",
       "        vertical-align: top;\n",
       "    }\n",
       "\n",
       "    .dataframe thead th {\n",
       "        text-align: right;\n",
       "    }\n",
       "</style>\n",
       "<table border=\"1\" class=\"dataframe\">\n",
       "  <thead>\n",
       "    <tr style=\"text-align: right;\">\n",
       "      <th>predict</th>\n",
       "      <th>0.0</th>\n",
       "      <th>1.0</th>\n",
       "    </tr>\n",
       "    <tr>\n",
       "      <th>real</th>\n",
       "      <th></th>\n",
       "      <th></th>\n",
       "    </tr>\n",
       "  </thead>\n",
       "  <tbody>\n",
       "    <tr>\n",
       "      <th>0.0</th>\n",
       "      <td>12925</td>\n",
       "      <td>1768</td>\n",
       "    </tr>\n",
       "    <tr>\n",
       "      <th>1.0</th>\n",
       "      <td>1930</td>\n",
       "      <td>8648</td>\n",
       "    </tr>\n",
       "  </tbody>\n",
       "</table>\n",
       "</div>"
      ],
      "text/plain": [
       "predict    0.0   1.0\n",
       "real                \n",
       "0.0      12925  1768\n",
       "1.0       1930  8648"
      ]
     },
     "execution_count": 279,
     "metadata": {},
     "output_type": "execute_result"
    }
   ],
   "source": [
    "# get confusion matrix\n",
    "pd.crosstab(Y_test_df12, y_pred_LogReg_df12_count, rownames=[\"real\"], colnames=[\"predict\"])\n"
   ]
  },
  {
   "cell_type": "code",
   "execution_count": 280,
   "id": "61e008b8",
   "metadata": {},
   "outputs": [
    {
     "name": "stdout",
     "output_type": "stream",
     "text": [
      "[[12925  1768]\n",
      " [ 1930  8648]]\n"
     ]
    }
   ],
   "source": [
    "# create confusion matrix\n",
    "cf_matrix_LogReg_df12_count = confusion_matrix(Y_test_df12, y_pred_LogReg_df12_count)\n",
    "print(cf_matrix_LogReg_df12_count)\n"
   ]
  },
  {
   "cell_type": "code",
   "execution_count": 329,
   "id": "0296ec29",
   "metadata": {},
   "outputs": [
    {
     "data": {
      "image/png": "[encoded data removed]",
      "text/plain": [
       "<Figure size 640x480 with 2 Axes>"
      ]
     },
     "metadata": {},
     "output_type": "display_data"
    }
   ],
   "source": [
    "from mlxtend.plotting import plot_confusion_matrix\n",
    "\n",
    "# print(\"Confusion Matrix for Logistic Regression Count Vectorizer\")\n",
    "plot_confusion_matrix(conf_mat = cf_matrix_LogReg_df12_count,\n",
    "                      show_absolute=True,\n",
    "                      show_normed=True,\n",
    "                      colorbar=True,\n",
    "                      class_names=['REAL','FAKE'])\n",
    "plt.title(\"Confusion Matrix for Logistic Regression Count Vectorizer\")\n",
    "plt.show();\n",
    "\n"
   ]
  },
  {
   "cell_type": "code",
   "execution_count": null,
   "id": "53d6ae2d",
   "metadata": {},
   "outputs": [],
   "source": []
  },
  {
   "cell_type": "markdown",
   "id": "3ec973de",
   "metadata": {},
   "source": [
    "### PASSIVE AGGRESSIVE "
   ]
  },
  {
   "cell_type": "code",
   "execution_count": 282,
   "id": "50b1b8a7",
   "metadata": {},
   "outputs": [
    {
     "data": {
      "text/html": [
       "<div>\n",
       "<style scoped>\n",
       "    .dataframe tbody tr th:only-of-type {\n",
       "        vertical-align: middle;\n",
       "    }\n",
       "\n",
       "    .dataframe tbody tr th {\n",
       "        vertical-align: top;\n",
       "    }\n",
       "\n",
       "    .dataframe thead th {\n",
       "        text-align: right;\n",
       "    }\n",
       "</style>\n",
       "<table border=\"1\" class=\"dataframe\">\n",
       "  <thead>\n",
       "    <tr style=\"text-align: right;\">\n",
       "      <th>predict</th>\n",
       "      <th>0.0</th>\n",
       "      <th>1.0</th>\n",
       "    </tr>\n",
       "    <tr>\n",
       "      <th>real</th>\n",
       "      <th></th>\n",
       "      <th></th>\n",
       "    </tr>\n",
       "  </thead>\n",
       "  <tbody>\n",
       "    <tr>\n",
       "      <th>0.0</th>\n",
       "      <td>12655</td>\n",
       "      <td>2038</td>\n",
       "    </tr>\n",
       "    <tr>\n",
       "      <th>1.0</th>\n",
       "      <td>1952</td>\n",
       "      <td>8626</td>\n",
       "    </tr>\n",
       "  </tbody>\n",
       "</table>\n",
       "</div>"
      ],
      "text/plain": [
       "predict    0.0   1.0\n",
       "real                \n",
       "0.0      12655  2038\n",
       "1.0       1952  8626"
      ]
     },
     "execution_count": 282,
     "metadata": {},
     "output_type": "execute_result"
    }
   ],
   "source": [
    "# get confusion matrix\n",
    "pd.crosstab(Y_test_df12, y_pred_PassAgg_df12_count, rownames=[\"real\"], colnames=[\"predict\"])"
   ]
  },
  {
   "cell_type": "code",
   "execution_count": 283,
   "id": "0c5a1efe",
   "metadata": {},
   "outputs": [
    {
     "name": "stdout",
     "output_type": "stream",
     "text": [
      "[[12655  2038]\n",
      " [ 1952  8626]]\n"
     ]
    }
   ],
   "source": [
    "# create confusion matrix\n",
    "cf_matrix_PassAgg_df12_count = confusion_matrix(Y_test_df12, y_pred_PassAgg_df12_count)\n",
    "print(cf_matrix_PassAgg_df12_count)"
   ]
  },
  {
   "cell_type": "code",
   "execution_count": 330,
   "id": "339d7649",
   "metadata": {},
   "outputs": [
    {
     "data": {
      "image/png": "[encoded data removed]",
      "text/plain": [
       "<Figure size 640x480 with 2 Axes>"
      ]
     },
     "metadata": {},
     "output_type": "display_data"
    }
   ],
   "source": [
    "from mlxtend.plotting import plot_confusion_matrix\n",
    "\n",
    "# print(\"Confusion Matrix for Passive Aggressive Count Vectorizer\")\n",
    "plot_confusion_matrix(conf_mat = cf_matrix_PassAgg_df12_count,\n",
    "                      show_absolute=True,\n",
    "                      show_normed=True,\n",
    "                      colorbar=True,\n",
    "                      class_names=['REAL','FAKE'])\n",
    "plt.title(\"Confusion Matrix for Passive Aggressive Count Vectorizer\")\n",
    "plt.show();\n"
   ]
  },
  {
   "cell_type": "code",
   "execution_count": null,
   "id": "0d9e870f",
   "metadata": {},
   "outputs": [],
   "source": []
  },
  {
   "cell_type": "markdown",
   "id": "9f05acdc",
   "metadata": {},
   "source": [
    "### STOCHASTIC GRADIENT DESCENT "
   ]
  },
  {
   "cell_type": "code",
   "execution_count": 285,
   "id": "6c4532c6",
   "metadata": {},
   "outputs": [
    {
     "data": {
      "text/html": [
       "<div>\n",
       "<style scoped>\n",
       "    .dataframe tbody tr th:only-of-type {\n",
       "        vertical-align: middle;\n",
       "    }\n",
       "\n",
       "    .dataframe tbody tr th {\n",
       "        vertical-align: top;\n",
       "    }\n",
       "\n",
       "    .dataframe thead th {\n",
       "        text-align: right;\n",
       "    }\n",
       "</style>\n",
       "<table border=\"1\" class=\"dataframe\">\n",
       "  <thead>\n",
       "    <tr style=\"text-align: right;\">\n",
       "      <th>predict</th>\n",
       "      <th>0.0</th>\n",
       "      <th>1.0</th>\n",
       "    </tr>\n",
       "    <tr>\n",
       "      <th>real</th>\n",
       "      <th></th>\n",
       "      <th></th>\n",
       "    </tr>\n",
       "  </thead>\n",
       "  <tbody>\n",
       "    <tr>\n",
       "      <th>0.0</th>\n",
       "      <td>12675</td>\n",
       "      <td>2018</td>\n",
       "    </tr>\n",
       "    <tr>\n",
       "      <th>1.0</th>\n",
       "      <td>1782</td>\n",
       "      <td>8796</td>\n",
       "    </tr>\n",
       "  </tbody>\n",
       "</table>\n",
       "</div>"
      ],
      "text/plain": [
       "predict    0.0   1.0\n",
       "real                \n",
       "0.0      12675  2018\n",
       "1.0       1782  8796"
      ]
     },
     "execution_count": 285,
     "metadata": {},
     "output_type": "execute_result"
    }
   ],
   "source": [
    "# Create crosstab\n",
    "pd.crosstab(Y_test_df12, y_pred_sgd_df12_count, rownames=[\"real\"], colnames=[\"predict\"])"
   ]
  },
  {
   "cell_type": "code",
   "execution_count": 286,
   "id": "475a3444",
   "metadata": {},
   "outputs": [
    {
     "name": "stdout",
     "output_type": "stream",
     "text": [
      "[[12675  2018]\n",
      " [ 1782  8796]]\n"
     ]
    }
   ],
   "source": [
    "# create confusion matrix\n",
    "cf_matrix_sgd_df12_count = confusion_matrix(Y_test_df12, y_pred_sgd_df12_count)\n",
    "print(cf_matrix_sgd_df12_count)"
   ]
  },
  {
   "cell_type": "code",
   "execution_count": 331,
   "id": "88716890",
   "metadata": {},
   "outputs": [
    {
     "data": {
      "image/png": "[encoded data removed]",
      "text/plain": [
       "<Figure size 640x480 with 2 Axes>"
      ]
     },
     "metadata": {},
     "output_type": "display_data"
    }
   ],
   "source": [
    "from mlxtend.plotting import plot_confusion_matrix\n",
    "\n",
    "# print(\"Confusion Matrix for Stochastic Gradient Descent Count Vectorizer\")\n",
    "plot_confusion_matrix(conf_mat = cf_matrix_sgd_df12_count,\n",
    "                      show_absolute=True,\n",
    "                      show_normed=True,\n",
    "                      colorbar=True,\n",
    "                      class_names=['REAL','FAKE'])\n",
    "plt.title(\"Confusion Matrix for Stochastic Gradient Descent Count Vectorizer\")\n",
    "plt.show();\n"
   ]
  },
  {
   "cell_type": "code",
   "execution_count": null,
   "id": "39f148dd",
   "metadata": {},
   "outputs": [],
   "source": []
  },
  {
   "cell_type": "code",
   "execution_count": null,
   "id": "f3b23d58",
   "metadata": {},
   "outputs": [],
   "source": []
  },
  {
   "cell_type": "markdown",
   "id": "d5875508",
   "metadata": {},
   "source": [
    "# STACKING COUNTVECTORIZER MODELS + CROSS-VALIDATE"
   ]
  },
  {
   "cell_type": "code",
   "execution_count": 288,
   "id": "ef11dea1",
   "metadata": {},
   "outputs": [],
   "source": [
    "from sklearn.ensemble import StackingClassifier\n"
   ]
  },
  {
   "cell_type": "code",
   "execution_count": null,
   "id": "d3645ca3",
   "metadata": {},
   "outputs": [],
   "source": [
    "## We stack the 4 best models\n",
    "# Naive Bayes Multinomial\n",
    "# Logistic Regression\n",
    "# Passive Aggressive Classifier\n",
    "# Stochastic Gradient Descent\n"
   ]
  },
  {
   "cell_type": "code",
   "execution_count": 295,
   "id": "01434298",
   "metadata": {},
   "outputs": [],
   "source": [
    "# Create a new feature matrix with the predictions\n",
    "stacked_features_count_4 = np.column_stack((y_pred_NB_Mult_df12_count, y_pred_LogReg_df12_count, \n",
    "                                            y_pred_PassAgg_df12_count, y_pred_sgd_df12_count))\n"
   ]
  },
  {
   "cell_type": "code",
   "execution_count": 296,
   "id": "bf4e4aac",
   "metadata": {},
   "outputs": [
    {
     "data": {
      "text/html": [
       "<style>#sk-container-id-24 {color: black;background-color: white;}#sk-container-id-24 pre{padding: 0;}#sk-container-id-24 div.sk-toggleable {background-color: white;}#sk-container-id-24 label.sk-toggleable__label {cursor: pointer;display: block;width: 100%;margin-bottom: 0;padding: 0.3em;box-sizing: border-box;text-align: center;}#sk-container-id-24 label.sk-toggleable__label-arrow:before {content: \"▸\";float: left;margin-right: 0.25em;color: #696969;}#sk-container-id-24 label.sk-toggleable__label-arrow:hover:before {color: black;}#sk-container-id-24 div.sk-estimator:hover label.sk-toggleable__label-arrow:before {color: black;}#sk-container-id-24 div.sk-toggleable__content {max-height: 0;max-width: 0;overflow: hidden;text-align: left;background-color: #f0f8ff;}#sk-container-id-24 div.sk-toggleable__content pre {margin: 0.2em;color: black;border-radius: 0.25em;background-color: #f0f8ff;}#sk-container-id-24 input.sk-toggleable__control:checked~div.sk-toggleable__content {max-height: 200px;max-width: 100%;overflow: auto;}#sk-container-id-24 input.sk-toggleable__control:checked~label.sk-toggleable__label-arrow:before {content: \"▾\";}#sk-container-id-24 div.sk-estimator input.sk-toggleable__control:checked~label.sk-toggleable__label {background-color: #d4ebff;}#sk-container-id-24 div.sk-label input.sk-toggleable__control:checked~label.sk-toggleable__label {background-color: #d4ebff;}#sk-container-id-24 input.sk-hidden--visually {border: 0;clip: rect(1px 1px 1px 1px);clip: rect(1px, 1px, 1px, 1px);height: 1px;margin: -1px;overflow: hidden;padding: 0;position: absolute;width: 1px;}#sk-container-id-24 div.sk-estimator {font-family: monospace;background-color: #f0f8ff;border: 1px dotted black;border-radius: 0.25em;box-sizing: border-box;margin-bottom: 0.5em;}#sk-container-id-24 div.sk-estimator:hover {background-color: #d4ebff;}#sk-container-id-24 div.sk-parallel-item::after {content: \"\";width: 100%;border-bottom: 1px solid gray;flex-grow: 1;}#sk-container-id-24 div.sk-label:hover label.sk-toggleable__label {background-color: #d4ebff;}#sk-container-id-24 div.sk-serial::before {content: \"\";position: absolute;border-left: 1px solid gray;box-sizing: border-box;top: 0;bottom: 0;left: 50%;z-index: 0;}#sk-container-id-24 div.sk-serial {display: flex;flex-direction: column;align-items: center;background-color: white;padding-right: 0.2em;padding-left: 0.2em;position: relative;}#sk-container-id-24 div.sk-item {position: relative;z-index: 1;}#sk-container-id-24 div.sk-parallel {display: flex;align-items: stretch;justify-content: center;background-color: white;position: relative;}#sk-container-id-24 div.sk-item::before, #sk-container-id-24 div.sk-parallel-item::before {content: \"\";position: absolute;border-left: 1px solid gray;box-sizing: border-box;top: 0;bottom: 0;left: 50%;z-index: -1;}#sk-container-id-24 div.sk-parallel-item {display: flex;flex-direction: column;z-index: 1;position: relative;background-color: white;}#sk-container-id-24 div.sk-parallel-item:first-child::after {align-self: flex-end;width: 50%;}#sk-container-id-24 div.sk-parallel-item:last-child::after {align-self: flex-start;width: 50%;}#sk-container-id-24 div.sk-parallel-item:only-child::after {width: 0;}#sk-container-id-24 div.sk-dashed-wrapped {border: 1px dashed gray;margin: 0 0.4em 0.5em 0.4em;box-sizing: border-box;padding-bottom: 0.4em;background-color: white;}#sk-container-id-24 div.sk-label label {font-family: monospace;font-weight: bold;display: inline-block;line-height: 1.2em;}#sk-container-id-24 div.sk-label-container {text-align: center;}#sk-container-id-24 div.sk-container {/* jupyter's `normalize.less` sets `[hidden] { display: none; }` but bootstrap.min.css set `[hidden] { display: none !important; }` so we also need the `!important` here to be able to override the default hidden behavior on the sphinx rendered scikit-learn.org. See: https://github.com/scikit-learn/scikit-learn/issues/21755 */display: inline-block !important;position: relative;}#sk-container-id-24 div.sk-text-repr-fallback {display: none;}</style><div id=\"sk-container-id-24\" class=\"sk-top-container\"><div class=\"sk-text-repr-fallback\"><pre>LogisticRegression(n_jobs=-1)</pre><b>In a Jupyter environment, please rerun this cell to show the HTML representation or trust the notebook. <br />On GitHub, the HTML representation is unable to render, please try loading this page with nbviewer.org.</b></div><div class=\"sk-container\" hidden><div class=\"sk-item\"><div class=\"sk-estimator sk-toggleable\"><input class=\"sk-toggleable__control sk-hidden--visually\" id=\"sk-estimator-id-24\" type=\"checkbox\" checked><label for=\"sk-estimator-id-24\" class=\"sk-toggleable__label sk-toggleable__label-arrow\">LogisticRegression</label><div class=\"sk-toggleable__content\"><pre>LogisticRegression(n_jobs=-1)</pre></div></div></div></div></div>"
      ],
      "text/plain": [
       "LogisticRegression(n_jobs=-1)"
      ]
     },
     "execution_count": 296,
     "metadata": {},
     "output_type": "execute_result"
    }
   ],
   "source": [
    "# Train the meta model (Logistic Regression in this case) on the new feature matrix\n",
    "meta_model_count_4 = clf_LogReg_df12_tfidf\n",
    "meta_model_count_4.fit(stacked_features_count_4, Y_test_df12)\n"
   ]
  },
  {
   "cell_type": "code",
   "execution_count": 297,
   "id": "2fdd1fe0",
   "metadata": {},
   "outputs": [],
   "source": [
    "# Make final predictions using the meta model\n",
    "meta_preds_count_4 = meta_model_count_4.predict(stacked_features_count_4)\n"
   ]
  },
  {
   "cell_type": "code",
   "execution_count": 298,
   "id": "82af0750",
   "metadata": {},
   "outputs": [
    {
     "name": "stdout",
     "output_type": "stream",
     "text": [
      "Stacked model accuracy: 0.8570693680503344\n"
     ]
    }
   ],
   "source": [
    "# Evaluate the accuracy of the stacked model\n",
    "accuracy_meta_count_4 = accuracy_score(Y_test_df12, meta_preds_count_4)\n",
    "print(\"Stacked model accuracy:\", accuracy_meta_count_4)\n",
    "\n",
    "# 0.857"
   ]
  },
  {
   "cell_type": "code",
   "execution_count": 299,
   "id": "ebbc17c4",
   "metadata": {},
   "outputs": [
    {
     "name": "stdout",
     "output_type": "stream",
     "text": [
      "Stacked model f1 score: 0.8262793382070026\n"
     ]
    }
   ],
   "source": [
    "# Evaluate the f1 score of the stacked model\n",
    "f1_meta_count_4 = f1_score(Y_test_df12, meta_preds_count_4)\n",
    "print(\"Stacked model f1 score:\", f1_meta_count_4)\n",
    "\n",
    "# 0.826"
   ]
  },
  {
   "cell_type": "code",
   "execution_count": 300,
   "id": "e1f4980d",
   "metadata": {},
   "outputs": [
    {
     "data": {
      "text/html": [
       "<div>\n",
       "<style scoped>\n",
       "    .dataframe tbody tr th:only-of-type {\n",
       "        vertical-align: middle;\n",
       "    }\n",
       "\n",
       "    .dataframe tbody tr th {\n",
       "        vertical-align: top;\n",
       "    }\n",
       "\n",
       "    .dataframe thead th {\n",
       "        text-align: right;\n",
       "    }\n",
       "</style>\n",
       "<table border=\"1\" class=\"dataframe\">\n",
       "  <thead>\n",
       "    <tr style=\"text-align: right;\">\n",
       "      <th>predict</th>\n",
       "      <th>0.0</th>\n",
       "      <th>1.0</th>\n",
       "    </tr>\n",
       "    <tr>\n",
       "      <th>real</th>\n",
       "      <th></th>\n",
       "      <th></th>\n",
       "    </tr>\n",
       "  </thead>\n",
       "  <tbody>\n",
       "    <tr>\n",
       "      <th>0.0</th>\n",
       "      <td>13069</td>\n",
       "      <td>1624</td>\n",
       "    </tr>\n",
       "    <tr>\n",
       "      <th>1.0</th>\n",
       "      <td>1988</td>\n",
       "      <td>8590</td>\n",
       "    </tr>\n",
       "  </tbody>\n",
       "</table>\n",
       "</div>"
      ],
      "text/plain": [
       "predict    0.0   1.0\n",
       "real                \n",
       "0.0      13069  1624\n",
       "1.0       1988  8590"
      ]
     },
     "execution_count": 300,
     "metadata": {},
     "output_type": "execute_result"
    }
   ],
   "source": [
    "# get confusion matrix\n",
    "pd.crosstab(Y_test_df12, meta_preds_count_4, rownames=[\"real\"], colnames=[\"predict\"])\n"
   ]
  },
  {
   "cell_type": "code",
   "execution_count": 301,
   "id": "2dd17c16",
   "metadata": {},
   "outputs": [
    {
     "name": "stdout",
     "output_type": "stream",
     "text": [
      "Stacking classification report:\n",
      "                precision    recall  f1-score   support\n",
      "\n",
      "         0.0       0.87      0.89      0.88     14693\n",
      "         1.0       0.84      0.81      0.83     10578\n",
      "\n",
      "    accuracy                           0.86     25271\n",
      "   macro avg       0.85      0.85      0.85     25271\n",
      "weighted avg       0.86      0.86      0.86     25271\n",
      "\n"
     ]
    }
   ],
   "source": [
    "from sklearn.metrics import classification_report \n",
    "\n",
    "# get classification report\n",
    "print(\"Stacking classification report:\\n \", classification_report (Y_test_df12, meta_preds_count_4))\n"
   ]
  },
  {
   "cell_type": "code",
   "execution_count": 302,
   "id": "a65dfc93",
   "metadata": {},
   "outputs": [
    {
     "name": "stdout",
     "output_type": "stream",
     "text": [
      "[[13069  1624]\n",
      " [ 1988  8590]]\n"
     ]
    }
   ],
   "source": [
    "# create confusion matrix\n",
    "cf_matrix_meta_count_4 = confusion_matrix(Y_test_df12, meta_preds_count_4)\n",
    "print(cf_matrix_meta_count_4)\n"
   ]
  },
  {
   "cell_type": "code",
   "execution_count": 353,
   "id": "df06cf05",
   "metadata": {},
   "outputs": [
    {
     "data": {
      "image/png": "[encoded data removed]",
      "text/plain": [
       "<Figure size 640x480 with 2 Axes>"
      ]
     },
     "metadata": {},
     "output_type": "display_data"
    }
   ],
   "source": [
    "from mlxtend.plotting import plot_confusion_matrix\n",
    "\n",
    "# print(\"Confusion Matrix for Stochastic Gradient Descent Count Vectorizer\")\n",
    "plot_confusion_matrix(conf_mat = cf_matrix_meta_count_4,\n",
    "                      show_absolute=True,\n",
    "                      show_normed=True,\n",
    "                      colorbar=True,\n",
    "                      class_names=['REAL','FAKE'])\n",
    "plt.title(\"Confusion Matrix for Stacking model Count Vectorizer\")\n",
    "plt.show();\n"
   ]
  },
  {
   "cell_type": "code",
   "execution_count": null,
   "id": "511973ba",
   "metadata": {},
   "outputs": [],
   "source": []
  },
  {
   "cell_type": "markdown",
   "id": "404fd478",
   "metadata": {},
   "source": [
    "# CROSS VALIDATION\n",
    "# takes 1 hour\n"
   ]
  },
  {
   "cell_type": "code",
   "execution_count": 323,
   "id": "cdb3978e",
   "metadata": {},
   "outputs": [],
   "source": [
    "from sklearn.model_selection import cross_validate, KFold"
   ]
  },
  {
   "cell_type": "code",
   "execution_count": 324,
   "id": "8685571c",
   "metadata": {},
   "outputs": [],
   "source": [
    "cv3 = KFold(n_splits=3, shuffle=True)"
   ]
  },
  {
   "cell_type": "code",
   "execution_count": 325,
   "id": "78d8ffc6",
   "metadata": {},
   "outputs": [],
   "source": [
    "sclf_count_4 = StackingClassifier([(\"NB\", clf_mult_df12_count), (\"lr\", clf_LogReg_df12_count), (\"pac\", pac_df12_count), \n",
    "                                (\"sgd\", sgd_df12_count)], final_estimator=clf_LogReg_df12_count)\n"
   ]
  },
  {
   "cell_type": "code",
   "execution_count": 326,
   "id": "67916fc0",
   "metadata": {
    "scrolled": true
   },
   "outputs": [
    {
     "name": "stdout",
     "output_type": "stream",
     "text": [
      "Naive Bayes Multinomial accuracy:  0.8325056689850717 0.0028643450120715195 f1:  0.79349596145086 0.0035760369844448623\n",
      "Logistic Regression accuracy:  0.8448814657869576 0.001823759422963097 f1:  0.8133936148031435 0.0023300540346867606\n",
      "Passive Aggressive Classifier accuracy:  0.833969794207591 0.002267676588384451 f1:  0.8025937033055968 0.002478760156211542\n",
      "Stochastic Gradient Descent accuracy:  0.8414091111558308 0.0015495049168915748 f1:  0.8108972580023094 0.0015246244423368896\n",
      "Stacking Classifier accuracy:  0.8545170356020746 0.00023098250718917463 f1:  0.8239200317970664 0.0007127779725527534\n"
     ]
    }
   ],
   "source": [
    "for clf, label in zip([clf_mult_df12_count, clf_LogReg_df12_count, pac_df12_count, sgd_df12_count, sclf_count_4], [\"Naive Bayes Multinomial\", \"Logistic Regression\", \"Passive Aggressive Classifier\", \"Stochastic Gradient Descent\", \"Stacking Classifier\"]):\n",
    "    scores = cross_validate(clf, X_train_text_df12_count, Y_train_df12, cv=cv3, scoring=[\"accuracy\", \"f1\"])\n",
    "    print(label, \"accuracy: \", scores[\"test_accuracy\"].mean(), scores[\"test_accuracy\"].std(), \"f1: \", scores[\"test_f1\"].mean(), scores[\"test_f1\"].std())\n",
    "    "
   ]
  },
  {
   "cell_type": "code",
   "execution_count": null,
   "id": "be0dfcf3",
   "metadata": {},
   "outputs": [],
   "source": []
  },
  {
   "cell_type": "code",
   "execution_count": null,
   "id": "874b5e91",
   "metadata": {},
   "outputs": [],
   "source": []
  }
 ],
 "metadata": {
  "kernelspec": {
   "display_name": "Python 3 (ipykernel)",
   "language": "python",
   "name": "python3"
  },
  "language_info": {
   "codemirror_mode": {
    "name": "ipython",
    "version": 3
   },
   "file_extension": ".py",
   "mimetype": "text/x-python",
   "name": "python",
   "nbconvert_exporter": "python",
   "pygments_lexer": "ipython3",
   "version": "3.10.9"
  }
 },
 "nbformat": 4,
 "nbformat_minor": 5
}
