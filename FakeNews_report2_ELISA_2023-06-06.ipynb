{
 "cells": [
  {
   "cell_type": "markdown",
   "id": "943b2ecb",
   "metadata": {},
   "source": [
    "# 1 Import libraries"
   ]
  },
  {
   "cell_type": "code",
   "execution_count": 1,
   "id": "ccdaea94",
   "metadata": {},
   "outputs": [],
   "source": [
    "#importing Libraries\n",
    "import numpy as np\n",
    "import pandas as pd\n",
    "from matplotlib.pylab import plt\n",
    "import seaborn as sns\n",
    "# from sqlalchemy import create_engine\n",
    "# import sqlalchemy as \n",
    "import sqlite3\n",
    "from sklearn.metrics import f1_score\n",
    "\n",
    "from wordcloud import WordCloud\n"
   ]
  },
  {
   "cell_type": "markdown",
   "id": "261564fe",
   "metadata": {},
   "source": [
    "# Comments on the document"
   ]
  },
  {
   "cell_type": "code",
   "execution_count": 2,
   "id": "629480e0",
   "metadata": {},
   "outputs": [],
   "source": [
    "######## \n",
    "# This is Elisa's Code from 2023-06-06\n",
    "\n",
    "# loaded dataset (new subset of original dataset and pre-processed)\n",
    "# df = pd.read_pickle(\"strats_new.pkl\")\n",
    "\n",
    "# 177831 entries (3 labels)\n",
    "# after removing \"mixed\" class and missing values:\n",
    "# 0.0    61222    real news\n",
    "# 1.0    50058    fake news\n",
    "\n",
    "\n",
    "\n",
    "#######\n",
    "\n",
    "# Classification on Text Variables of our Data\n",
    "# for text analysis:\n",
    "# retrieve 2 columns title and content\n",
    "\n",
    "# before fitting: vectorize with TF-IDF Vectorizer + remove stop_words \n",
    "\n",
    "\n",
    "\n",
    "#######################################################\n",
    "\n",
    "# 1 MAJOR ANALYSIS CHAPTER IN THIS NOTEBOOK\n",
    "\n",
    "##############################\n",
    "\n",
    "\n",
    "\n",
    "\n",
    "##############################\n",
    "### TODO: UPDATE RESULTS #####\n",
    "##############################\n",
    "\n",
    "\n",
    "\n",
    "# ANALYSIS 2: 2 CLASSES\n",
    "\n",
    "#### Models:\n",
    "# LightGBM\n",
    "# Naive Bayes Bernoulli\n",
    "# Naive Bayes Multinomial\n",
    "# Naive Bayes Complement\n",
    "# Naive Bayes Gaussian --> not working due to memory error\n",
    "\n",
    "# Gradient Boosting\n",
    "# CatBoost\n",
    "# XGBoost\n",
    "\n",
    "# KNN --> takes 2 hours; only ran once a while ago, not again\n",
    "# SVM --> takes 3,5 hours; only ran once a while ago, not again\n",
    "\n",
    "# Passive Aggressive Classifier\n",
    "# Logistic Regression\n",
    "# Bagging\n",
    "\n",
    "\n",
    "\n",
    "### Results\n",
    "\n",
    "# LightGBM vect f1 score : 0.7784959798202743\n",
    "# Naive Bayes Bernoulli vect f1 score : 0.7142986671502404\n",
    "# Naive Bayes Multinomial vect f1 score : error\n",
    "# Naive Bayes Complement vect f1 score : 0.7426458036984354\n",
    "\n",
    "# GradientBoosting vect f1 score : 0.6323451280416533\n",
    "# CatBoost vect f1 score : 0.7018594390167034 (20 iterations)\n",
    "# CatBoost vect f1 score : 0.7018594390167034 (50 iterations) #####\n",
    "# XGBoost vect f1 score : 0.7417114812300946\n",
    "\n",
    "# KNN --> not run again, no result\n",
    "# SVM --> not run again, no result\n",
    "\n",
    "# Passive Aggressive vect f1 score : 0.8027945694182935\n",
    "# Logistic Regression vect f1 score : 0.8369287393927001\n",
    "# Bagging --> not run, no result\n"
   ]
  },
  {
   "cell_type": "code",
   "execution_count": null,
   "id": "35f1c6a1",
   "metadata": {},
   "outputs": [],
   "source": []
  },
  {
   "cell_type": "markdown",
   "id": "4b5b9cb6",
   "metadata": {},
   "source": [
    "# LOADING NEW STRATIFIED AND PREPROCESSED DATASET strats_new.pkl"
   ]
  },
  {
   "cell_type": "code",
   "execution_count": 2,
   "id": "939bee98",
   "metadata": {},
   "outputs": [],
   "source": [
    "# retrieve dataset\n",
    "df = pd.read_pickle(\"strats_new.pkl\")"
   ]
  },
  {
   "cell_type": "code",
   "execution_count": 3,
   "id": "0846b956",
   "metadata": {},
   "outputs": [
    {
     "data": {
      "text/html": [
       "<div>\n",
       "<style scoped>\n",
       "    .dataframe tbody tr th:only-of-type {\n",
       "        vertical-align: middle;\n",
       "    }\n",
       "\n",
       "    .dataframe tbody tr th {\n",
       "        vertical-align: top;\n",
       "    }\n",
       "\n",
       "    .dataframe thead th {\n",
       "        text-align: right;\n",
       "    }\n",
       "</style>\n",
       "<table border=\"1\" class=\"dataframe\">\n",
       "  <thead>\n",
       "    <tr style=\"text-align: right;\">\n",
       "      <th></th>\n",
       "      <th>id</th>\n",
       "      <th>date</th>\n",
       "      <th>source</th>\n",
       "      <th>title</th>\n",
       "      <th>content</th>\n",
       "      <th>author</th>\n",
       "      <th>url</th>\n",
       "      <th>published</th>\n",
       "      <th>published_utc</th>\n",
       "      <th>collection_utc</th>\n",
       "      <th>...</th>\n",
       "      <th>label</th>\n",
       "      <th>bias</th>\n",
       "      <th>factuality</th>\n",
       "      <th>questionable-source</th>\n",
       "      <th>conspiracy-pseudoscience</th>\n",
       "      <th>pro-science</th>\n",
       "      <th>word_count_content</th>\n",
       "      <th>word_count_title</th>\n",
       "      <th>nb_character_content</th>\n",
       "      <th>nb_character_title</th>\n",
       "    </tr>\n",
       "  </thead>\n",
       "  <tbody>\n",
       "    <tr>\n",
       "      <th>0</th>\n",
       "      <td>21stcenturywire--2022-04-26--An Unsettling Rea...</td>\n",
       "      <td>2022-04-26</td>\n",
       "      <td>21stcenturywire</td>\n",
       "      <td>An Unsettling Realization: ‘Mask Zealots are S...</td>\n",
       "      <td>It’s been noted how the fanatical nature of ma...</td>\n",
       "      <td>NEWS WIRE</td>\n",
       "      <td>https://21stcenturywire.com/2022/04/26/an-unse...</td>\n",
       "      <td>Tue, 26 Apr 2022 10:31:24 +0000</td>\n",
       "      <td>1650983484</td>\n",
       "      <td>1651010407</td>\n",
       "      <td>...</td>\n",
       "      <td>1.0</td>\n",
       "      <td>conspiracy-pseudoscience</td>\n",
       "      <td>2.0</td>\n",
       "      <td>0.0</td>\n",
       "      <td>1.0</td>\n",
       "      <td>0.0</td>\n",
       "      <td>108</td>\n",
       "      <td>8</td>\n",
       "      <td>720</td>\n",
       "      <td>61</td>\n",
       "    </tr>\n",
       "    <tr>\n",
       "      <th>1</th>\n",
       "      <td>21stcenturywire--2022-04-24--Episode #416 – ‘S...</td>\n",
       "      <td>2022-04-24</td>\n",
       "      <td>21stcenturywire</td>\n",
       "      <td>Episode #416 – ‘Soldiers of Fortune’ with gues...</td>\n",
       "      <td>Episode #416 of SUNDAY WIRE SHOW resumes this ...</td>\n",
       "      <td>NEWS WIRE</td>\n",
       "      <td>https://21stcenturywire.com/2022/04/24/episode...</td>\n",
       "      <td>Sun, 24 Apr 2022 14:00:48 +0000</td>\n",
       "      <td>1650823248</td>\n",
       "      <td>1651010408</td>\n",
       "      <td>...</td>\n",
       "      <td>1.0</td>\n",
       "      <td>conspiracy-pseudoscience</td>\n",
       "      <td>2.0</td>\n",
       "      <td>0.0</td>\n",
       "      <td>1.0</td>\n",
       "      <td>0.0</td>\n",
       "      <td>179</td>\n",
       "      <td>11</td>\n",
       "      <td>1143</td>\n",
       "      <td>66</td>\n",
       "    </tr>\n",
       "    <tr>\n",
       "      <th>2</th>\n",
       "      <td>21stcenturywire--2022-07-15--UKC News: UK Thou...</td>\n",
       "      <td>2022-07-15</td>\n",
       "      <td>21stcenturywire</td>\n",
       "      <td>UKC News: UK Thought Police, France Stops Vacc...</td>\n",
       "      <td>Authoritarians in the UK government are gettin...</td>\n",
       "      <td>NEWS WIRE</td>\n",
       "      <td>https://21stcenturywire.com/2022/07/15/ukc-new...</td>\n",
       "      <td>Fri, 15 Jul 2022 16:26:25 +0000</td>\n",
       "      <td>1657916785</td>\n",
       "      <td>1657922407</td>\n",
       "      <td>...</td>\n",
       "      <td>1.0</td>\n",
       "      <td>conspiracy-pseudoscience</td>\n",
       "      <td>2.0</td>\n",
       "      <td>0.0</td>\n",
       "      <td>1.0</td>\n",
       "      <td>0.0</td>\n",
       "      <td>207</td>\n",
       "      <td>13</td>\n",
       "      <td>1340</td>\n",
       "      <td>82</td>\n",
       "    </tr>\n",
       "    <tr>\n",
       "      <th>3</th>\n",
       "      <td>21stcenturywire--2022-05-22--Twitter Audit Fin...</td>\n",
       "      <td>2022-05-22</td>\n",
       "      <td>21stcenturywire</td>\n",
       "      <td>Twitter Audit Finds Half of President Biden’s ...</td>\n",
       "      <td>After the 2020 election, many Americans began ...</td>\n",
       "      <td>NEWS WIRE</td>\n",
       "      <td>https://21stcenturywire.com/2022/05/22/twitter...</td>\n",
       "      <td>Sun, 22 May 2022 12:17:48 +0000</td>\n",
       "      <td>1653236268</td>\n",
       "      <td>1653256808</td>\n",
       "      <td>...</td>\n",
       "      <td>1.0</td>\n",
       "      <td>conspiracy-pseudoscience</td>\n",
       "      <td>2.0</td>\n",
       "      <td>0.0</td>\n",
       "      <td>1.0</td>\n",
       "      <td>0.0</td>\n",
       "      <td>504</td>\n",
       "      <td>11</td>\n",
       "      <td>3274</td>\n",
       "      <td>69</td>\n",
       "    </tr>\n",
       "    <tr>\n",
       "      <th>4</th>\n",
       "      <td>21stcenturywire--2022-03-11--UKC News: The Tru...</td>\n",
       "      <td>2022-03-11</td>\n",
       "      <td>21stcenturywire</td>\n",
       "      <td>UKC News: The Truth About US Bio Labs + White ...</td>\n",
       "      <td>The high stakes game surrounding the Ukraine c...</td>\n",
       "      <td>NEWS WIRE</td>\n",
       "      <td>https://21stcenturywire.com/2022/03/11/ukc-new...</td>\n",
       "      <td>Fri, 11 Mar 2022 19:18:16 +0000</td>\n",
       "      <td>1647044296</td>\n",
       "      <td>1647039605</td>\n",
       "      <td>...</td>\n",
       "      <td>1.0</td>\n",
       "      <td>conspiracy-pseudoscience</td>\n",
       "      <td>2.0</td>\n",
       "      <td>0.0</td>\n",
       "      <td>1.0</td>\n",
       "      <td>0.0</td>\n",
       "      <td>147</td>\n",
       "      <td>14</td>\n",
       "      <td>908</td>\n",
       "      <td>70</td>\n",
       "    </tr>\n",
       "  </tbody>\n",
       "</table>\n",
       "<p>5 rows × 21 columns</p>\n",
       "</div>"
      ],
      "text/plain": [
       "                                                  id        date  \\\n",
       "0  21stcenturywire--2022-04-26--An Unsettling Rea...  2022-04-26   \n",
       "1  21stcenturywire--2022-04-24--Episode #416 – ‘S...  2022-04-24   \n",
       "2  21stcenturywire--2022-07-15--UKC News: UK Thou...  2022-07-15   \n",
       "3  21stcenturywire--2022-05-22--Twitter Audit Fin...  2022-05-22   \n",
       "4  21stcenturywire--2022-03-11--UKC News: The Tru...  2022-03-11   \n",
       "\n",
       "            source                                              title  \\\n",
       "0  21stcenturywire  An Unsettling Realization: ‘Mask Zealots are S...   \n",
       "1  21stcenturywire  Episode #416 – ‘Soldiers of Fortune’ with gues...   \n",
       "2  21stcenturywire  UKC News: UK Thought Police, France Stops Vacc...   \n",
       "3  21stcenturywire  Twitter Audit Finds Half of President Biden’s ...   \n",
       "4  21stcenturywire  UKC News: The Truth About US Bio Labs + White ...   \n",
       "\n",
       "                                             content     author  \\\n",
       "0  It’s been noted how the fanatical nature of ma...  NEWS WIRE   \n",
       "1  Episode #416 of SUNDAY WIRE SHOW resumes this ...  NEWS WIRE   \n",
       "2  Authoritarians in the UK government are gettin...  NEWS WIRE   \n",
       "3  After the 2020 election, many Americans began ...  NEWS WIRE   \n",
       "4  The high stakes game surrounding the Ukraine c...  NEWS WIRE   \n",
       "\n",
       "                                                 url  \\\n",
       "0  https://21stcenturywire.com/2022/04/26/an-unse...   \n",
       "1  https://21stcenturywire.com/2022/04/24/episode...   \n",
       "2  https://21stcenturywire.com/2022/07/15/ukc-new...   \n",
       "3  https://21stcenturywire.com/2022/05/22/twitter...   \n",
       "4  https://21stcenturywire.com/2022/03/11/ukc-new...   \n",
       "\n",
       "                         published  published_utc  collection_utc  ... label  \\\n",
       "0  Tue, 26 Apr 2022 10:31:24 +0000     1650983484      1651010407  ...   1.0   \n",
       "1  Sun, 24 Apr 2022 14:00:48 +0000     1650823248      1651010408  ...   1.0   \n",
       "2  Fri, 15 Jul 2022 16:26:25 +0000     1657916785      1657922407  ...   1.0   \n",
       "3  Sun, 22 May 2022 12:17:48 +0000     1653236268      1653256808  ...   1.0   \n",
       "4  Fri, 11 Mar 2022 19:18:16 +0000     1647044296      1647039605  ...   1.0   \n",
       "\n",
       "                       bias factuality  questionable-source  \\\n",
       "0  conspiracy-pseudoscience        2.0                  0.0   \n",
       "1  conspiracy-pseudoscience        2.0                  0.0   \n",
       "2  conspiracy-pseudoscience        2.0                  0.0   \n",
       "3  conspiracy-pseudoscience        2.0                  0.0   \n",
       "4  conspiracy-pseudoscience        2.0                  0.0   \n",
       "\n",
       "   conspiracy-pseudoscience  pro-science  word_count_content  \\\n",
       "0                       1.0          0.0                 108   \n",
       "1                       1.0          0.0                 179   \n",
       "2                       1.0          0.0                 207   \n",
       "3                       1.0          0.0                 504   \n",
       "4                       1.0          0.0                 147   \n",
       "\n",
       "   word_count_title  nb_character_content  nb_character_title  \n",
       "0                 8                   720                  61  \n",
       "1                11                  1143                  66  \n",
       "2                13                  1340                  82  \n",
       "3                11                  3274                  69  \n",
       "4                14                   908                  70  \n",
       "\n",
       "[5 rows x 21 columns]"
      ]
     },
     "execution_count": 3,
     "metadata": {},
     "output_type": "execute_result"
    }
   ],
   "source": [
    "df.head(5)"
   ]
  },
  {
   "cell_type": "code",
   "execution_count": 4,
   "id": "d527c18b",
   "metadata": {},
   "outputs": [
    {
     "name": "stdout",
     "output_type": "stream",
     "text": [
      "<class 'pandas.core.frame.DataFrame'>\n",
      "Int64Index: 177831 entries, 0 to 177830\n",
      "Data columns (total 21 columns):\n",
      " #   Column                    Non-Null Count   Dtype  \n",
      "---  ------                    --------------   -----  \n",
      " 0   id                        177831 non-null  object \n",
      " 1   date                      177831 non-null  object \n",
      " 2   source                    177831 non-null  object \n",
      " 3   title                     177831 non-null  object \n",
      " 4   content                   177831 non-null  object \n",
      " 5   author                    177831 non-null  object \n",
      " 6   url                       177831 non-null  object \n",
      " 7   published                 177831 non-null  object \n",
      " 8   published_utc             177831 non-null  int64  \n",
      " 9   collection_utc            177831 non-null  int64  \n",
      " 10  country                   106074 non-null  object \n",
      " 11  label                     111280 non-null  float64\n",
      " 12  bias                      111280 non-null  object \n",
      " 13  factuality                110158 non-null  float64\n",
      " 14  questionable-source       111280 non-null  float64\n",
      " 15  conspiracy-pseudoscience  111280 non-null  float64\n",
      " 16  pro-science               111280 non-null  float64\n",
      " 17  word_count_content        177831 non-null  int64  \n",
      " 18  word_count_title          177831 non-null  int64  \n",
      " 19  nb_character_content      177831 non-null  int64  \n",
      " 20  nb_character_title        177831 non-null  int64  \n",
      "dtypes: float64(5), int64(6), object(10)\n",
      "memory usage: 29.8+ MB\n"
     ]
    }
   ],
   "source": [
    "df.info()"
   ]
  },
  {
   "cell_type": "code",
   "execution_count": 5,
   "id": "16d20061",
   "metadata": {},
   "outputs": [
    {
     "data": {
      "text/plain": [
       "0.0    61222\n",
       "1.0    50058\n",
       "Name: label, dtype: int64"
      ]
     },
     "execution_count": 5,
     "metadata": {},
     "output_type": "execute_result"
    }
   ],
   "source": [
    "# inspect labels\n",
    "df[\"label\"].value_counts()\n",
    "\n",
    "# slightly unbalanced\n"
   ]
  },
  {
   "cell_type": "code",
   "execution_count": 6,
   "id": "9738dfc3",
   "metadata": {},
   "outputs": [
    {
     "data": {
      "text/plain": [
       "id                              0\n",
       "date                            0\n",
       "source                          0\n",
       "title                           0\n",
       "content                         0\n",
       "author                          0\n",
       "url                             0\n",
       "published                       0\n",
       "published_utc                   0\n",
       "collection_utc                  0\n",
       "country                     71757\n",
       "label                       66551\n",
       "bias                        66551\n",
       "factuality                  67673\n",
       "questionable-source         66551\n",
       "conspiracy-pseudoscience    66551\n",
       "pro-science                 66551\n",
       "word_count_content              0\n",
       "word_count_title                0\n",
       "nb_character_content            0\n",
       "nb_character_title              0\n",
       "dtype: int64"
      ]
     },
     "execution_count": 6,
     "metadata": {},
     "output_type": "execute_result"
    }
   ],
   "source": [
    "df.isna().sum()"
   ]
  },
  {
   "cell_type": "code",
   "execution_count": 7,
   "id": "76c8356f",
   "metadata": {},
   "outputs": [],
   "source": [
    "# delete missing values in label\n",
    "df.dropna(subset=['label'], axis = 0, inplace=True)\n"
   ]
  },
  {
   "cell_type": "code",
   "execution_count": 8,
   "id": "bfa19a1d",
   "metadata": {},
   "outputs": [
    {
     "data": {
      "text/plain": [
       "id                             0\n",
       "date                           0\n",
       "source                         0\n",
       "title                          0\n",
       "content                        0\n",
       "author                         0\n",
       "url                            0\n",
       "published                      0\n",
       "published_utc                  0\n",
       "collection_utc                 0\n",
       "country                     5206\n",
       "label                          0\n",
       "bias                           0\n",
       "factuality                  1122\n",
       "questionable-source            0\n",
       "conspiracy-pseudoscience       0\n",
       "pro-science                    0\n",
       "word_count_content             0\n",
       "word_count_title               0\n",
       "nb_character_content           0\n",
       "nb_character_title             0\n",
       "dtype: int64"
      ]
     },
     "execution_count": 8,
     "metadata": {},
     "output_type": "execute_result"
    }
   ],
   "source": [
    "df.isna().sum()"
   ]
  },
  {
   "cell_type": "code",
   "execution_count": 9,
   "id": "e52b13aa",
   "metadata": {},
   "outputs": [
    {
     "name": "stdout",
     "output_type": "stream",
     "text": [
      "<class 'pandas.core.frame.DataFrame'>\n",
      "Int64Index: 111280 entries, 0 to 177830\n",
      "Data columns (total 21 columns):\n",
      " #   Column                    Non-Null Count   Dtype  \n",
      "---  ------                    --------------   -----  \n",
      " 0   id                        111280 non-null  object \n",
      " 1   date                      111280 non-null  object \n",
      " 2   source                    111280 non-null  object \n",
      " 3   title                     111280 non-null  object \n",
      " 4   content                   111280 non-null  object \n",
      " 5   author                    111280 non-null  object \n",
      " 6   url                       111280 non-null  object \n",
      " 7   published                 111280 non-null  object \n",
      " 8   published_utc             111280 non-null  int64  \n",
      " 9   collection_utc            111280 non-null  int64  \n",
      " 10  country                   106074 non-null  object \n",
      " 11  label                     111280 non-null  float64\n",
      " 12  bias                      111280 non-null  object \n",
      " 13  factuality                110158 non-null  float64\n",
      " 14  questionable-source       111280 non-null  float64\n",
      " 15  conspiracy-pseudoscience  111280 non-null  float64\n",
      " 16  pro-science               111280 non-null  float64\n",
      " 17  word_count_content        111280 non-null  int64  \n",
      " 18  word_count_title          111280 non-null  int64  \n",
      " 19  nb_character_content      111280 non-null  int64  \n",
      " 20  nb_character_title        111280 non-null  int64  \n",
      "dtypes: float64(5), int64(6), object(10)\n",
      "memory usage: 18.7+ MB\n"
     ]
    }
   ],
   "source": [
    "df.info()"
   ]
  },
  {
   "cell_type": "code",
   "execution_count": 10,
   "id": "ccaf78a2",
   "metadata": {},
   "outputs": [
    {
     "data": {
      "text/plain": [
       "0.0    61222\n",
       "1.0    50058\n",
       "Name: label, dtype: int64"
      ]
     },
     "execution_count": 10,
     "metadata": {},
     "output_type": "execute_result"
    }
   ],
   "source": [
    "# inspect labels\n",
    "df[\"label\"].value_counts()\n",
    "\n",
    "# slightly unbalanced\n",
    "# deleteion of missing labels did not change the number of labels\n"
   ]
  },
  {
   "cell_type": "code",
   "execution_count": 11,
   "id": "fac6c985",
   "metadata": {},
   "outputs": [
    {
     "data": {
      "image/png": "[encoded data removed]",
      "text/plain": [
       "<Figure size 640x480 with 1 Axes>"
      ]
     },
     "metadata": {},
     "output_type": "display_data"
    }
   ],
   "source": [
    "# barplot of labels\n",
    "sns.countplot(x = \"label\", data = df)\n",
    "plt.xticks(np.arange(2),[\"0: Reliable\", \"1: Unreliable\"])\n",
    "plt.ylabel(\"Frequency\")\n",
    "plt.xlabel(\"Outlet-level veracity labels\")\n",
    "plt.title(\"Frequencies of the two outlet-level veracity labels in 'df' dataset\")\n",
    "plt.show();\n"
   ]
  },
  {
   "cell_type": "code",
   "execution_count": null,
   "id": "bbdf38df",
   "metadata": {},
   "outputs": [],
   "source": []
  },
  {
   "cell_type": "code",
   "execution_count": null,
   "id": "74025934",
   "metadata": {},
   "outputs": [],
   "source": []
  },
  {
   "cell_type": "markdown",
   "id": "0735a094",
   "metadata": {},
   "source": [
    "# Create ML Models on text data (TF-IDF VECTORIZING WITHOUT STOPWORDS)\n"
   ]
  },
  {
   "cell_type": "code",
   "execution_count": null,
   "id": "89a30279",
   "metadata": {},
   "outputs": [],
   "source": [
    "# LightGBM\n",
    "# Naive Bayes Bernoulli\n",
    "# Naive Bayes Multinomial\n",
    "# Naive Bayes Complement\n",
    "# Naive Bayes Gaussian --> not working due to memory error\n",
    "\n",
    "# Gradient Boosting\n",
    "# CatBoost\n",
    "# XGBoost\n",
    "\n",
    "# KNN --> takes 2 hours; only ran once a while ago, not again\n",
    "# SVM --> takes 3,5 hours; only ran once a while ago, not again\n",
    "\n"
   ]
  },
  {
   "cell_type": "code",
   "execution_count": null,
   "id": "6532aa5d",
   "metadata": {},
   "outputs": [],
   "source": []
  },
  {
   "cell_type": "code",
   "execution_count": null,
   "id": "62c8ac97",
   "metadata": {},
   "outputs": [],
   "source": []
  },
  {
   "cell_type": "markdown",
   "id": "2f4a3cc1",
   "metadata": {},
   "source": [
    "# Remove Stop Words "
   ]
  },
  {
   "cell_type": "code",
   "execution_count": 12,
   "id": "50a90471",
   "metadata": {},
   "outputs": [
    {
     "name": "stderr",
     "output_type": "stream",
     "text": [
      "[nltk_data] Downloading package stopwords to\n",
      "[nltk_data]     C:\\Users\\Nutzer\\AppData\\Roaming\\nltk_data...\n",
      "[nltk_data]   Package stopwords is already up-to-date!\n"
     ]
    }
   ],
   "source": [
    "import nltk\n",
    "from nltk.corpus import stopwords\n",
    "\n",
    "# Download stopwords corpus if not already downloaded\n",
    "nltk.download('stopwords')\n",
    "\n",
    "# Load the stopwords\n",
    "stop_words = set(stopwords.words('english'))  # You can choose a different language if needed\n",
    "\n",
    "# Update stop words variable\n",
    "# stop_words.update([\",\", \".\"])\n",
    "\n",
    "additional_words = [\"?\", \"!\", \".\", \",\", \":\", \";\", \"-\", \"--\", \"...\", '\"', \"'\"]\n",
    "stop_words.update(set(additional_words))\n"
   ]
  },
  {
   "cell_type": "code",
   "execution_count": 13,
   "id": "02d1886d",
   "metadata": {
    "scrolled": true
   },
   "outputs": [
    {
     "name": "stdout",
     "output_type": "stream",
     "text": [
      "{'off', ';', 'those', 's', 'down', 'you', 'yourself', 'above', 'a', 'this', '!', 'itself', 'most', 'been', 'of', 'few', 'all', 'is', 'are', 'will', 'don', 'when', \"hadn't\", 'shan', 'being', 'through', \"wasn't\", 'each', 'himself', ',', 'our', 'but', 'she', 'do', 'because', 'were', 'about', 'and', 'too', 'very', 'that', 'weren', 'nor', '--', 'him', 'd', 've', 'couldn', \"mightn't\", 'other', 'm', 'theirs', 'if', 'into', \"'\", 'these', 'over', 'should', \"didn't\", 'during', 'same', \"hasn't\", 'at', 'mightn', 'my', 'am', 're', \"doesn't\", \"shan't\", '-', 'between', \"needn't\", 'yourselves', 'they', '?', 'in', 'no', 'under', 'below', 'from', 'her', 'just', \"couldn't\", \"wouldn't\", 'there', 'then', 'them', 'with', 'to', 'aren', 'any', 'had', \"don't\", 'whom', 'here', 'your', 'where', 'out', 'further', 'has', 'needn', 'his', 'or', 'after', 'for', \"mustn't\", 'hers', 'having', 'hasn', 'its', 'myself', 'we', \"that'll\", 'again', 'both', 'ours', 'which', 'shouldn', 'won', 'did', 'an', 'by', 'hadn', 'mustn', 'only', \"it's\", 'me', 'more', 'can', 'be', 'until', 'up', \"shouldn't\", 'o', 'it', 'such', 'as', 'what', \"you've\", 'doesn', 'own', 'll', 'ma', 'some', 'not', 'wasn', 'so', 'wouldn', ':', 'haven', 'against', 'who', 'the', 'i', 'isn', 't', 'now', 'their', 'themselves', 'was', \"haven't\", \"should've\", \"weren't\", \"won't\", \"you'd\", \"aren't\", 'does', 'doing', 'have', 'while', 'on', 'once', 'why', 'ain', 'herself', 'how', '...', '\"', 'before', 'yours', \"you're\", \"isn't\", 'y', 'ourselves', '.', 'didn', 'he', \"she's\", 'than', \"you'll\"}\n"
     ]
    }
   ],
   "source": [
    "# show stop words\n",
    "print(stop_words)\n"
   ]
  },
  {
   "cell_type": "code",
   "execution_count": 14,
   "id": "d75fc920",
   "metadata": {},
   "outputs": [
    {
     "data": {
      "text/plain": [
       "0    It’s been noted how the fanatical nature of ma...\n",
       "1    Episode #416 of SUNDAY WIRE SHOW resumes this ...\n",
       "2    Authoritarians in the UK government are gettin...\n",
       "3    After the 2020 election, many Americans began ...\n",
       "4    The high stakes game surrounding the Ukraine c...\n",
       "5    On the February 3, 2022 episode of Patrick Hen...\n",
       "6    These are the darkest, most difficult days in ...\n",
       "7    A shocking new trend is on the move in America...\n",
       "8    In this episode of the Patrick Henningsen Show...\n",
       "9    Liz Cheney invokes Ronald Reagan to bash those...\n",
       "Name: content, dtype: object"
      ]
     },
     "execution_count": 14,
     "metadata": {},
     "output_type": "execute_result"
    }
   ],
   "source": [
    "# content before removing stop words\n",
    "df[\"content\"][:10]\n"
   ]
  },
  {
   "cell_type": "code",
   "execution_count": 15,
   "id": "bab8ae8b",
   "metadata": {},
   "outputs": [],
   "source": [
    "# Apply\n",
    "df['content_cleaned'] = df['content'].apply(lambda x: ' '.join([word for word in x.split() if word.lower() not in stop_words]))\n"
   ]
  },
  {
   "cell_type": "code",
   "execution_count": 16,
   "id": "da6e68ab",
   "metadata": {},
   "outputs": [
    {
     "data": {
      "text/plain": [
       "0    It’s noted fanatical nature masking proponents...\n",
       "1    Episode #416 SUNDAY WIRE SHOW resumes week, Ap...\n",
       "2    Authoritarians UK government getting increasin...\n",
       "3    2020 election, many Americans began question m...\n",
       "4    high stakes game surrounding Ukraine conflict ...\n",
       "5    February 3, 2022 episode Patrick Henningsen Sh...\n",
       "6    darkest, difficult days human history. facing ...\n",
       "7    shocking new trend move America: following his...\n",
       "8    episode Patrick Henningsen Show TNT Radio aire...\n",
       "9    Liz Cheney invokes Ronald Reagan bash GOP want...\n",
       "Name: content_cleaned, dtype: object"
      ]
     },
     "execution_count": 16,
     "metadata": {},
     "output_type": "execute_result"
    }
   ],
   "source": [
    "df[\"content_cleaned\"][:10]\n"
   ]
  },
  {
   "cell_type": "code",
   "execution_count": null,
   "id": "8dae5a58",
   "metadata": {},
   "outputs": [],
   "source": []
  },
  {
   "cell_type": "code",
   "execution_count": null,
   "id": "2038bb9a",
   "metadata": {},
   "outputs": [],
   "source": []
  },
  {
   "cell_type": "code",
   "execution_count": null,
   "id": "391f088d",
   "metadata": {},
   "outputs": [],
   "source": []
  },
  {
   "cell_type": "markdown",
   "id": "3dc7ee02",
   "metadata": {},
   "source": [
    "# Create X and Y (only title and text)\n",
    "# X_train_text, X_test_text, Y_train, Y_test (uppercase letters)\n"
   ]
  },
  {
   "cell_type": "code",
   "execution_count": 18,
   "id": "1b7fea27",
   "metadata": {},
   "outputs": [],
   "source": [
    "# STEP 1: DEFINE X and Y\n",
    "X = df.drop(\"label\", axis=1)\n",
    "Y = df[\"label\"]\n"
   ]
  },
  {
   "cell_type": "code",
   "execution_count": 19,
   "id": "66c6ffc9",
   "metadata": {},
   "outputs": [],
   "source": [
    "X.columns = X.columns.astype(str)"
   ]
  },
  {
   "cell_type": "code",
   "execution_count": 20,
   "id": "2e6bb410",
   "metadata": {},
   "outputs": [
    {
     "name": "stdout",
     "output_type": "stream",
     "text": [
      "<class 'pandas.core.frame.DataFrame'>\n",
      "Int64Index: 111280 entries, 0 to 177830\n",
      "Data columns (total 21 columns):\n",
      " #   Column                    Non-Null Count   Dtype  \n",
      "---  ------                    --------------   -----  \n",
      " 0   id                        111280 non-null  object \n",
      " 1   date                      111280 non-null  object \n",
      " 2   source                    111280 non-null  object \n",
      " 3   title                     111280 non-null  object \n",
      " 4   content                   111280 non-null  object \n",
      " 5   author                    111280 non-null  object \n",
      " 6   url                       111280 non-null  object \n",
      " 7   published                 111280 non-null  object \n",
      " 8   published_utc             111280 non-null  int64  \n",
      " 9   collection_utc            111280 non-null  int64  \n",
      " 10  country                   106074 non-null  object \n",
      " 11  bias                      111280 non-null  object \n",
      " 12  factuality                110158 non-null  float64\n",
      " 13  questionable-source       111280 non-null  float64\n",
      " 14  conspiracy-pseudoscience  111280 non-null  float64\n",
      " 15  pro-science               111280 non-null  float64\n",
      " 16  word_count_content        111280 non-null  int64  \n",
      " 17  word_count_title          111280 non-null  int64  \n",
      " 18  nb_character_content      111280 non-null  int64  \n",
      " 19  nb_character_title        111280 non-null  int64  \n",
      " 20  content_cleaned           111280 non-null  object \n",
      "dtypes: float64(4), int64(6), object(11)\n",
      "memory usage: 18.7+ MB\n"
     ]
    }
   ],
   "source": [
    "X.info()"
   ]
  },
  {
   "cell_type": "code",
   "execution_count": 21,
   "id": "810b78e3",
   "metadata": {},
   "outputs": [
    {
     "data": {
      "text/plain": [
       "id                             0\n",
       "date                           0\n",
       "source                         0\n",
       "title                          0\n",
       "content                        0\n",
       "author                         0\n",
       "url                            0\n",
       "published                      0\n",
       "published_utc                  0\n",
       "collection_utc                 0\n",
       "country                     5206\n",
       "bias                           0\n",
       "factuality                  1122\n",
       "questionable-source            0\n",
       "conspiracy-pseudoscience       0\n",
       "pro-science                    0\n",
       "word_count_content             0\n",
       "word_count_title               0\n",
       "nb_character_content           0\n",
       "nb_character_title             0\n",
       "content_cleaned                0\n",
       "dtype: int64"
      ]
     },
     "execution_count": 21,
     "metadata": {},
     "output_type": "execute_result"
    }
   ],
   "source": [
    "X.isnull().sum()"
   ]
  },
  {
   "cell_type": "code",
   "execution_count": 22,
   "id": "0e7a1daf",
   "metadata": {},
   "outputs": [
    {
     "name": "stdout",
     "output_type": "stream",
     "text": [
      "<class 'pandas.core.series.Series'>\n",
      "Int64Index: 111280 entries, 0 to 177830\n",
      "Series name: label\n",
      "Non-Null Count   Dtype  \n",
      "--------------   -----  \n",
      "111280 non-null  float64\n",
      "dtypes: float64(1)\n",
      "memory usage: 1.7 MB\n"
     ]
    }
   ],
   "source": [
    "Y.info()"
   ]
  },
  {
   "cell_type": "code",
   "execution_count": 23,
   "id": "282e7e65",
   "metadata": {},
   "outputs": [
    {
     "data": {
      "text/plain": [
       "0"
      ]
     },
     "execution_count": 23,
     "metadata": {},
     "output_type": "execute_result"
    }
   ],
   "source": [
    "Y.isnull().sum()"
   ]
  },
  {
   "cell_type": "code",
   "execution_count": null,
   "id": "3af358bb",
   "metadata": {},
   "outputs": [],
   "source": []
  },
  {
   "cell_type": "markdown",
   "id": "cf0908f3",
   "metadata": {},
   "source": [
    "## Create Train / Test Datasets"
   ]
  },
  {
   "cell_type": "code",
   "execution_count": 24,
   "id": "0debf450",
   "metadata": {},
   "outputs": [],
   "source": [
    "from sklearn.model_selection import train_test_split\n",
    "\n",
    "X_train, X_test, Y_train, Y_test = train_test_split(X, Y, test_size=0.2)\n"
   ]
  },
  {
   "cell_type": "code",
   "execution_count": null,
   "id": "fb9d9ac9",
   "metadata": {},
   "outputs": [],
   "source": []
  },
  {
   "cell_type": "markdown",
   "id": "e4ebc738",
   "metadata": {},
   "source": [
    "# Vectorizing"
   ]
  },
  {
   "cell_type": "markdown",
   "id": "e7e6afca",
   "metadata": {},
   "source": [
    "### TFIDF Vectorizing\n",
    "### USING CONTENT_CLEANED AND TITLE ONLY\n"
   ]
  },
  {
   "cell_type": "code",
   "execution_count": 25,
   "id": "3e13c2b9",
   "metadata": {},
   "outputs": [
    {
     "data": {
      "text/html": [
       "<style>#sk-container-id-1 {color: black;background-color: white;}#sk-container-id-1 pre{padding: 0;}#sk-container-id-1 div.sk-toggleable {background-color: white;}#sk-container-id-1 label.sk-toggleable__label {cursor: pointer;display: block;width: 100%;margin-bottom: 0;padding: 0.3em;box-sizing: border-box;text-align: center;}#sk-container-id-1 label.sk-toggleable__label-arrow:before {content: \"▸\";float: left;margin-right: 0.25em;color: #696969;}#sk-container-id-1 label.sk-toggleable__label-arrow:hover:before {color: black;}#sk-container-id-1 div.sk-estimator:hover label.sk-toggleable__label-arrow:before {color: black;}#sk-container-id-1 div.sk-toggleable__content {max-height: 0;max-width: 0;overflow: hidden;text-align: left;background-color: #f0f8ff;}#sk-container-id-1 div.sk-toggleable__content pre {margin: 0.2em;color: black;border-radius: 0.25em;background-color: #f0f8ff;}#sk-container-id-1 input.sk-toggleable__control:checked~div.sk-toggleable__content {max-height: 200px;max-width: 100%;overflow: auto;}#sk-container-id-1 input.sk-toggleable__control:checked~label.sk-toggleable__label-arrow:before {content: \"▾\";}#sk-container-id-1 div.sk-estimator input.sk-toggleable__control:checked~label.sk-toggleable__label {background-color: #d4ebff;}#sk-container-id-1 div.sk-label input.sk-toggleable__control:checked~label.sk-toggleable__label {background-color: #d4ebff;}#sk-container-id-1 input.sk-hidden--visually {border: 0;clip: rect(1px 1px 1px 1px);clip: rect(1px, 1px, 1px, 1px);height: 1px;margin: -1px;overflow: hidden;padding: 0;position: absolute;width: 1px;}#sk-container-id-1 div.sk-estimator {font-family: monospace;background-color: #f0f8ff;border: 1px dotted black;border-radius: 0.25em;box-sizing: border-box;margin-bottom: 0.5em;}#sk-container-id-1 div.sk-estimator:hover {background-color: #d4ebff;}#sk-container-id-1 div.sk-parallel-item::after {content: \"\";width: 100%;border-bottom: 1px solid gray;flex-grow: 1;}#sk-container-id-1 div.sk-label:hover label.sk-toggleable__label {background-color: #d4ebff;}#sk-container-id-1 div.sk-serial::before {content: \"\";position: absolute;border-left: 1px solid gray;box-sizing: border-box;top: 0;bottom: 0;left: 50%;z-index: 0;}#sk-container-id-1 div.sk-serial {display: flex;flex-direction: column;align-items: center;background-color: white;padding-right: 0.2em;padding-left: 0.2em;position: relative;}#sk-container-id-1 div.sk-item {position: relative;z-index: 1;}#sk-container-id-1 div.sk-parallel {display: flex;align-items: stretch;justify-content: center;background-color: white;position: relative;}#sk-container-id-1 div.sk-item::before, #sk-container-id-1 div.sk-parallel-item::before {content: \"\";position: absolute;border-left: 1px solid gray;box-sizing: border-box;top: 0;bottom: 0;left: 50%;z-index: -1;}#sk-container-id-1 div.sk-parallel-item {display: flex;flex-direction: column;z-index: 1;position: relative;background-color: white;}#sk-container-id-1 div.sk-parallel-item:first-child::after {align-self: flex-end;width: 50%;}#sk-container-id-1 div.sk-parallel-item:last-child::after {align-self: flex-start;width: 50%;}#sk-container-id-1 div.sk-parallel-item:only-child::after {width: 0;}#sk-container-id-1 div.sk-dashed-wrapped {border: 1px dashed gray;margin: 0 0.4em 0.5em 0.4em;box-sizing: border-box;padding-bottom: 0.4em;background-color: white;}#sk-container-id-1 div.sk-label label {font-family: monospace;font-weight: bold;display: inline-block;line-height: 1.2em;}#sk-container-id-1 div.sk-label-container {text-align: center;}#sk-container-id-1 div.sk-container {/* jupyter's `normalize.less` sets `[hidden] { display: none; }` but bootstrap.min.css set `[hidden] { display: none !important; }` so we also need the `!important` here to be able to override the default hidden behavior on the sphinx rendered scikit-learn.org. See: https://github.com/scikit-learn/scikit-learn/issues/21755 */display: inline-block !important;position: relative;}#sk-container-id-1 div.sk-text-repr-fallback {display: none;}</style><div id=\"sk-container-id-1\" class=\"sk-top-container\"><div class=\"sk-text-repr-fallback\"><pre>TfidfVectorizer()</pre><b>In a Jupyter environment, please rerun this cell to show the HTML representation or trust the notebook. <br />On GitHub, the HTML representation is unable to render, please try loading this page with nbviewer.org.</b></div><div class=\"sk-container\" hidden><div class=\"sk-item\"><div class=\"sk-estimator sk-toggleable\"><input class=\"sk-toggleable__control sk-hidden--visually\" id=\"sk-estimator-id-1\" type=\"checkbox\" checked><label for=\"sk-estimator-id-1\" class=\"sk-toggleable__label sk-toggleable__label-arrow\">TfidfVectorizer</label><div class=\"sk-toggleable__content\"><pre>TfidfVectorizer()</pre></div></div></div></div></div>"
      ],
      "text/plain": [
       "TfidfVectorizer()"
      ]
     },
     "execution_count": 25,
     "metadata": {},
     "output_type": "execute_result"
    }
   ],
   "source": [
    "# VECTORIZING\n",
    "# TAKES 2 MINUTES\n",
    "\n",
    "from sklearn.feature_extraction.text import TfidfVectorizer\n",
    "from scipy.sparse import hstack, csr_matrix\n",
    "\n",
    "vectorizer1 = TfidfVectorizer()\n",
    "vectorizer2 = TfidfVectorizer()\n",
    "\n",
    "vectorizer1.fit(X_train['content_cleaned'])\n",
    "vectorizer2.fit(X_train['title'])\n"
   ]
  },
  {
   "cell_type": "code",
   "execution_count": 26,
   "id": "941df81a",
   "metadata": {},
   "outputs": [],
   "source": [
    "# TAKES 2 MINUTES\n",
    "\n",
    "X_train_content = vectorizer1.transform(X_train['content_cleaned'])\n",
    "X_train_title = vectorizer2.transform(X_train['title'])\n",
    "X_test_content = vectorizer1.transform(X_test['content_cleaned'])\n",
    "X_test_title = vectorizer2.transform(X_test['title'])\n"
   ]
  },
  {
   "cell_type": "code",
   "execution_count": 27,
   "id": "859b9c9a",
   "metadata": {},
   "outputs": [],
   "source": [
    "X_train_text = hstack([X_train_content, X_train_title])\n",
    "X_test_text = hstack([X_test_content, X_test_title])\n"
   ]
  },
  {
   "cell_type": "code",
   "execution_count": 28,
   "id": "113a46be",
   "metadata": {},
   "outputs": [
    {
     "data": {
      "text/plain": [
       "<89024x317198 sparse matrix of type '<class 'numpy.float64'>'\n",
       "\twith 18555402 stored elements in Compressed Sparse Row format>"
      ]
     },
     "execution_count": 28,
     "metadata": {},
     "output_type": "execute_result"
    }
   ],
   "source": [
    "X_train_text"
   ]
  },
  {
   "cell_type": "code",
   "execution_count": 29,
   "id": "33156537",
   "metadata": {},
   "outputs": [
    {
     "data": {
      "text/plain": [
       "(89024, 317198)"
      ]
     },
     "execution_count": 29,
     "metadata": {},
     "output_type": "execute_result"
    }
   ],
   "source": [
    "X_train_text.shape"
   ]
  },
  {
   "cell_type": "code",
   "execution_count": 30,
   "id": "a4d9e4b9",
   "metadata": {},
   "outputs": [
    {
     "data": {
      "text/plain": [
       "<22256x317198 sparse matrix of type '<class 'numpy.float64'>'\n",
       "\twith 4593622 stored elements in Compressed Sparse Row format>"
      ]
     },
     "execution_count": 30,
     "metadata": {},
     "output_type": "execute_result"
    }
   ],
   "source": [
    "X_test_text"
   ]
  },
  {
   "cell_type": "code",
   "execution_count": 31,
   "id": "c043243c",
   "metadata": {
    "scrolled": true
   },
   "outputs": [
    {
     "data": {
      "text/plain": [
       "(22256, 317198)"
      ]
     },
     "execution_count": 31,
     "metadata": {},
     "output_type": "execute_result"
    }
   ],
   "source": [
    "X_test_text.shape"
   ]
  },
  {
   "cell_type": "code",
   "execution_count": 32,
   "id": "e3f32b4f",
   "metadata": {},
   "outputs": [
    {
     "data": {
      "text/plain": [
       "55316     1.0\n",
       "110413    0.0\n",
       "79862     0.0\n",
       "8271      1.0\n",
       "111039    0.0\n",
       "         ... \n",
       "26918     1.0\n",
       "34657     0.0\n",
       "114871    1.0\n",
       "177328    1.0\n",
       "11898     1.0\n",
       "Name: label, Length: 89024, dtype: float64"
      ]
     },
     "execution_count": 32,
     "metadata": {},
     "output_type": "execute_result"
    }
   ],
   "source": [
    "Y_train"
   ]
  },
  {
   "cell_type": "code",
   "execution_count": 33,
   "id": "9b1c4da5",
   "metadata": {},
   "outputs": [
    {
     "data": {
      "text/plain": [
       "26370     1.0\n",
       "159889    0.0\n",
       "60942     1.0\n",
       "76022     0.0\n",
       "100811    1.0\n",
       "         ... \n",
       "16707     0.0\n",
       "174314    0.0\n",
       "60933     0.0\n",
       "51418     1.0\n",
       "92609     1.0\n",
       "Name: label, Length: 22256, dtype: float64"
      ]
     },
     "execution_count": 33,
     "metadata": {},
     "output_type": "execute_result"
    }
   ],
   "source": [
    "Y_test"
   ]
  },
  {
   "cell_type": "code",
   "execution_count": null,
   "id": "0c0acaa4",
   "metadata": {},
   "outputs": [],
   "source": []
  },
  {
   "cell_type": "code",
   "execution_count": null,
   "id": "e3fb7ae0",
   "metadata": {},
   "outputs": [],
   "source": []
  },
  {
   "cell_type": "code",
   "execution_count": null,
   "id": "6b2aa195",
   "metadata": {},
   "outputs": [],
   "source": []
  },
  {
   "cell_type": "markdown",
   "id": "c4e5119e",
   "metadata": {},
   "source": [
    "# LightGBM Model"
   ]
  },
  {
   "cell_type": "code",
   "execution_count": 34,
   "id": "7c8b5ef5",
   "metadata": {},
   "outputs": [],
   "source": [
    "import lightgbm as lgb\n",
    "from sklearn.model_selection import train_test_split\n",
    "from sklearn.metrics import accuracy_score"
   ]
  },
  {
   "cell_type": "code",
   "execution_count": 35,
   "id": "25f080f5",
   "metadata": {},
   "outputs": [],
   "source": [
    "# Create a LightGBM dataset for training\n",
    "\n",
    "LightGMB_train_data_text = lgb.Dataset(X_train_text, label=Y_train)\n",
    "\n",
    "# Set the hyperparameters for the LightGBM model\n",
    "paramsLightGBM = {\n",
    "    'boosting_type': 'gbdt',\n",
    "    'objective': 'binary',  # Set the appropriate objective for your classification task\n",
    "    'metric': 'binary_logloss',  # Set the appropriate metric for evaluation\n",
    "    'num_leaves': 31,\n",
    "    'learning_rate': 0.05,\n",
    "    'feature_fraction': 0.9,\n",
    "    'bagging_fraction': 0.8,\n",
    "    'bagging_freq': 5,\n",
    "    'verbose': 0\n",
    "}\n"
   ]
  },
  {
   "cell_type": "code",
   "execution_count": 36,
   "id": "6a9487ed",
   "metadata": {},
   "outputs": [
    {
     "name": "stdout",
     "output_type": "stream",
     "text": [
      "[LightGBM] [Warning] Auto-choosing row-wise multi-threading, the overhead of testing was 21.505985 seconds.\n",
      "You can set `force_row_wise=true` to remove the overhead.\n",
      "And if memory is not enough, you can set `force_col_wise=true`.\n"
     ]
    }
   ],
   "source": [
    "# Train the LightGBM model)\n",
    "clf_LightGBM_vect = lgb.train(paramsLightGBM, LightGMB_train_data_text, num_boost_round=100)\n",
    "\n",
    "# takes 10 minutes\n"
   ]
  },
  {
   "cell_type": "code",
   "execution_count": 38,
   "id": "5a87ab64",
   "metadata": {},
   "outputs": [],
   "source": [
    "# Make predictions on the test set\n",
    "y_pred_LightGBM_vect = clf_LightGBM_vect.predict(X_test_text)\n",
    "y_pred_LightGBM_vect = [round(pred) for pred in y_pred_LightGBM_vect]  # Convert probability to binary predictions\n"
   ]
  },
  {
   "cell_type": "code",
   "execution_count": 39,
   "id": "e4b1098f",
   "metadata": {},
   "outputs": [
    {
     "name": "stdout",
     "output_type": "stream",
     "text": [
      "Accuracy LightGBM vect: 0.8106128684399713\n"
     ]
    }
   ],
   "source": [
    "# Evaluate the model with accuracy\n",
    "accuracy_LightGBM_vect = accuracy_score(Y_test, y_pred_LightGBM_vect)\n",
    "print(\"Accuracy LightGBM vect:\", accuracy_LightGBM_vect)\n",
    "\n",
    "# 0.81\n"
   ]
  },
  {
   "cell_type": "code",
   "execution_count": 40,
   "id": "7b206ff4",
   "metadata": {},
   "outputs": [
    {
     "data": {
      "text/plain": [
       "0.7784959798202743"
      ]
     },
     "execution_count": 40,
     "metadata": {},
     "output_type": "execute_result"
    }
   ],
   "source": [
    "# Evaluate the model with f1 score\n",
    "from sklearn.metrics import f1_score\n",
    "\n",
    "f1_LightGBM_vect = f1_score(Y_test, y_pred_LightGBM_vect)\n",
    "f1_LightGBM_vect\n",
    "\n",
    "# 0.78\n"
   ]
  },
  {
   "cell_type": "code",
   "execution_count": 41,
   "id": "ef0d9268",
   "metadata": {},
   "outputs": [
    {
     "data": {
      "text/html": [
       "<div>\n",
       "<style scoped>\n",
       "    .dataframe tbody tr th:only-of-type {\n",
       "        vertical-align: middle;\n",
       "    }\n",
       "\n",
       "    .dataframe tbody tr th {\n",
       "        vertical-align: top;\n",
       "    }\n",
       "\n",
       "    .dataframe thead th {\n",
       "        text-align: right;\n",
       "    }\n",
       "</style>\n",
       "<table border=\"1\" class=\"dataframe\">\n",
       "  <thead>\n",
       "    <tr style=\"text-align: right;\">\n",
       "      <th>predict</th>\n",
       "      <th>0</th>\n",
       "      <th>1</th>\n",
       "    </tr>\n",
       "    <tr>\n",
       "      <th>true</th>\n",
       "      <th></th>\n",
       "      <th></th>\n",
       "    </tr>\n",
       "  </thead>\n",
       "  <tbody>\n",
       "    <tr>\n",
       "      <th>0.0</th>\n",
       "      <td>10634</td>\n",
       "      <td>1607</td>\n",
       "    </tr>\n",
       "    <tr>\n",
       "      <th>1.0</th>\n",
       "      <td>2608</td>\n",
       "      <td>7407</td>\n",
       "    </tr>\n",
       "  </tbody>\n",
       "</table>\n",
       "</div>"
      ],
      "text/plain": [
       "predict      0     1\n",
       "true                \n",
       "0.0      10634  1607\n",
       "1.0       2608  7407"
      ]
     },
     "execution_count": 41,
     "metadata": {},
     "output_type": "execute_result"
    }
   ],
   "source": [
    "# get confusion matrix\n",
    "pd.crosstab(Y_test, y_pred_LightGBM_vect, rownames=[\"true\"], colnames=[\"predict\"])\n"
   ]
  },
  {
   "cell_type": "code",
   "execution_count": 42,
   "id": "d8d846ff",
   "metadata": {},
   "outputs": [
    {
     "name": "stdout",
     "output_type": "stream",
     "text": [
      "Confusion Matrix:\n",
      " [[10634  1607]\n",
      " [ 2608  7407]]\n"
     ]
    }
   ],
   "source": [
    "# STEP 7: Evaluate Model with confusion matrix \n",
    "from sklearn.metrics import confusion_matrix \n",
    "\n",
    "cf_matrix_LightGBM_vect = confusion_matrix(Y_test, y_pred_LightGBM_vect)\n",
    "\n",
    "print(\"Confusion Matrix:\\n\",  cf_matrix_LightGBM_vect)\n"
   ]
  },
  {
   "cell_type": "code",
   "execution_count": 172,
   "id": "aec94151",
   "metadata": {},
   "outputs": [
    {
     "name": "stdout",
     "output_type": "stream",
     "text": [
      "LightGBM vect classification report:\n",
      "               precision    recall  f1-score   support\n",
      "\n",
      "         0.0       0.81      0.86      0.83     12300\n",
      "         1.0       0.81      0.74      0.78      9956\n",
      "\n",
      "    accuracy                           0.81     22256\n",
      "   macro avg       0.81      0.80      0.80     22256\n",
      "weighted avg       0.81      0.81      0.81     22256\n",
      "\n"
     ]
    }
   ],
   "source": [
    "# STEP 9: Evaluate model with classification report\n",
    "from sklearn.metrics import classification_report \n",
    "\n",
    "print(\"LightGBM vect classification report:\\n\", classification_report (Y_test, y_pred_LightGBM_vect))\n"
   ]
  },
  {
   "cell_type": "code",
   "execution_count": null,
   "id": "f8687c79",
   "metadata": {},
   "outputs": [],
   "source": []
  },
  {
   "cell_type": "code",
   "execution_count": null,
   "id": "fdd59139",
   "metadata": {},
   "outputs": [],
   "source": []
  },
  {
   "cell_type": "code",
   "execution_count": null,
   "id": "3aae6211",
   "metadata": {},
   "outputs": [],
   "source": []
  },
  {
   "cell_type": "markdown",
   "id": "a3b76e33",
   "metadata": {},
   "source": [
    "# Naive Bayes Bernoulli Model"
   ]
  },
  {
   "cell_type": "code",
   "execution_count": 43,
   "id": "a9a052ef",
   "metadata": {},
   "outputs": [],
   "source": [
    "from sklearn.naive_bayes import BernoulliNB\n",
    "from sklearn.model_selection import train_test_split\n",
    "from sklearn.metrics import accuracy_score"
   ]
  },
  {
   "cell_type": "code",
   "execution_count": 44,
   "id": "213bec85",
   "metadata": {},
   "outputs": [],
   "source": [
    "# Create a Bernoulli Naive Bayes classifier\n",
    "clf_Bern_vect = BernoulliNB()\n"
   ]
  },
  {
   "cell_type": "code",
   "execution_count": 45,
   "id": "8acc28ab",
   "metadata": {},
   "outputs": [
    {
     "data": {
      "text/html": [
       "<style>#sk-container-id-2 {color: black;background-color: white;}#sk-container-id-2 pre{padding: 0;}#sk-container-id-2 div.sk-toggleable {background-color: white;}#sk-container-id-2 label.sk-toggleable__label {cursor: pointer;display: block;width: 100%;margin-bottom: 0;padding: 0.3em;box-sizing: border-box;text-align: center;}#sk-container-id-2 label.sk-toggleable__label-arrow:before {content: \"▸\";float: left;margin-right: 0.25em;color: #696969;}#sk-container-id-2 label.sk-toggleable__label-arrow:hover:before {color: black;}#sk-container-id-2 div.sk-estimator:hover label.sk-toggleable__label-arrow:before {color: black;}#sk-container-id-2 div.sk-toggleable__content {max-height: 0;max-width: 0;overflow: hidden;text-align: left;background-color: #f0f8ff;}#sk-container-id-2 div.sk-toggleable__content pre {margin: 0.2em;color: black;border-radius: 0.25em;background-color: #f0f8ff;}#sk-container-id-2 input.sk-toggleable__control:checked~div.sk-toggleable__content {max-height: 200px;max-width: 100%;overflow: auto;}#sk-container-id-2 input.sk-toggleable__control:checked~label.sk-toggleable__label-arrow:before {content: \"▾\";}#sk-container-id-2 div.sk-estimator input.sk-toggleable__control:checked~label.sk-toggleable__label {background-color: #d4ebff;}#sk-container-id-2 div.sk-label input.sk-toggleable__control:checked~label.sk-toggleable__label {background-color: #d4ebff;}#sk-container-id-2 input.sk-hidden--visually {border: 0;clip: rect(1px 1px 1px 1px);clip: rect(1px, 1px, 1px, 1px);height: 1px;margin: -1px;overflow: hidden;padding: 0;position: absolute;width: 1px;}#sk-container-id-2 div.sk-estimator {font-family: monospace;background-color: #f0f8ff;border: 1px dotted black;border-radius: 0.25em;box-sizing: border-box;margin-bottom: 0.5em;}#sk-container-id-2 div.sk-estimator:hover {background-color: #d4ebff;}#sk-container-id-2 div.sk-parallel-item::after {content: \"\";width: 100%;border-bottom: 1px solid gray;flex-grow: 1;}#sk-container-id-2 div.sk-label:hover label.sk-toggleable__label {background-color: #d4ebff;}#sk-container-id-2 div.sk-serial::before {content: \"\";position: absolute;border-left: 1px solid gray;box-sizing: border-box;top: 0;bottom: 0;left: 50%;z-index: 0;}#sk-container-id-2 div.sk-serial {display: flex;flex-direction: column;align-items: center;background-color: white;padding-right: 0.2em;padding-left: 0.2em;position: relative;}#sk-container-id-2 div.sk-item {position: relative;z-index: 1;}#sk-container-id-2 div.sk-parallel {display: flex;align-items: stretch;justify-content: center;background-color: white;position: relative;}#sk-container-id-2 div.sk-item::before, #sk-container-id-2 div.sk-parallel-item::before {content: \"\";position: absolute;border-left: 1px solid gray;box-sizing: border-box;top: 0;bottom: 0;left: 50%;z-index: -1;}#sk-container-id-2 div.sk-parallel-item {display: flex;flex-direction: column;z-index: 1;position: relative;background-color: white;}#sk-container-id-2 div.sk-parallel-item:first-child::after {align-self: flex-end;width: 50%;}#sk-container-id-2 div.sk-parallel-item:last-child::after {align-self: flex-start;width: 50%;}#sk-container-id-2 div.sk-parallel-item:only-child::after {width: 0;}#sk-container-id-2 div.sk-dashed-wrapped {border: 1px dashed gray;margin: 0 0.4em 0.5em 0.4em;box-sizing: border-box;padding-bottom: 0.4em;background-color: white;}#sk-container-id-2 div.sk-label label {font-family: monospace;font-weight: bold;display: inline-block;line-height: 1.2em;}#sk-container-id-2 div.sk-label-container {text-align: center;}#sk-container-id-2 div.sk-container {/* jupyter's `normalize.less` sets `[hidden] { display: none; }` but bootstrap.min.css set `[hidden] { display: none !important; }` so we also need the `!important` here to be able to override the default hidden behavior on the sphinx rendered scikit-learn.org. See: https://github.com/scikit-learn/scikit-learn/issues/21755 */display: inline-block !important;position: relative;}#sk-container-id-2 div.sk-text-repr-fallback {display: none;}</style><div id=\"sk-container-id-2\" class=\"sk-top-container\"><div class=\"sk-text-repr-fallback\"><pre>BernoulliNB()</pre><b>In a Jupyter environment, please rerun this cell to show the HTML representation or trust the notebook. <br />On GitHub, the HTML representation is unable to render, please try loading this page with nbviewer.org.</b></div><div class=\"sk-container\" hidden><div class=\"sk-item\"><div class=\"sk-estimator sk-toggleable\"><input class=\"sk-toggleable__control sk-hidden--visually\" id=\"sk-estimator-id-2\" type=\"checkbox\" checked><label for=\"sk-estimator-id-2\" class=\"sk-toggleable__label sk-toggleable__label-arrow\">BernoulliNB</label><div class=\"sk-toggleable__content\"><pre>BernoulliNB()</pre></div></div></div></div></div>"
      ],
      "text/plain": [
       "BernoulliNB()"
      ]
     },
     "execution_count": 45,
     "metadata": {},
     "output_type": "execute_result"
    }
   ],
   "source": [
    "# Train the classifier\n",
    "clf_Bern_vect.fit(X_train_text, Y_train)\n"
   ]
  },
  {
   "cell_type": "code",
   "execution_count": 46,
   "id": "1a025c61",
   "metadata": {},
   "outputs": [],
   "source": [
    "# Make predictions on the test set\n",
    "y_pred_NB_Bern_vect = clf_Bern_vect.predict(X_test_text)\n"
   ]
  },
  {
   "cell_type": "code",
   "execution_count": 47,
   "id": "66504eb9",
   "metadata": {},
   "outputs": [
    {
     "name": "stdout",
     "output_type": "stream",
     "text": [
      "Accuracy: 0.7168404025880661\n"
     ]
    }
   ],
   "source": [
    "# Evaluate the model with accuracy\n",
    "accuracy_NB_Bern_vect = accuracy_score(Y_test, y_pred_NB_Bern_vect)\n",
    "print(\"Accuracy:\", accuracy_NB_Bern_vect)\n",
    "\n",
    "# 0.72\n"
   ]
  },
  {
   "cell_type": "code",
   "execution_count": 49,
   "id": "258c045f",
   "metadata": {},
   "outputs": [
    {
     "data": {
      "text/plain": [
       "0.7142986671502404"
      ]
     },
     "execution_count": 49,
     "metadata": {},
     "output_type": "execute_result"
    }
   ],
   "source": [
    "# Evaluate the model with f1 score\n",
    "from sklearn.metrics import f1_score\n",
    "\n",
    "f1_NB_Bern_vect = f1_score(Y_test, y_pred_NB_Bern_vect)\n",
    "f1_NB_Bern_vect\n",
    "\n",
    "# 0.71\n"
   ]
  },
  {
   "cell_type": "code",
   "execution_count": 50,
   "id": "4ffb0b7f",
   "metadata": {},
   "outputs": [
    {
     "name": "stdout",
     "output_type": "stream",
     "text": [
      "Confusion Matrix:\n",
      " [[8076 4165]\n",
      " [2137 7878]]\n"
     ]
    }
   ],
   "source": [
    "# STEP 7: Evaluate Model with confusion matrix \n",
    "from sklearn.metrics import confusion_matrix \n",
    "\n",
    "cf_matrix_NB_Bern_vect = confusion_matrix(Y_test, y_pred_NB_Bern_vect)\n",
    "print(\"Confusion Matrix:\\n\",  cf_matrix_NB_Bern_vect)\n"
   ]
  },
  {
   "cell_type": "code",
   "execution_count": 51,
   "id": "76bab7d2",
   "metadata": {},
   "outputs": [
    {
     "name": "stdout",
     "output_type": "stream",
     "text": [
      "Naive Bayes Bernoulli vect classification report:\n",
      "               precision    recall  f1-score   support\n",
      "\n",
      "         0.0       0.79      0.66      0.72     12241\n",
      "         1.0       0.65      0.79      0.71     10015\n",
      "\n",
      "    accuracy                           0.72     22256\n",
      "   macro avg       0.72      0.72      0.72     22256\n",
      "weighted avg       0.73      0.72      0.72     22256\n",
      "\n"
     ]
    }
   ],
   "source": [
    "# STEP 9: Evaluate model with classification report\n",
    "from sklearn.metrics import classification_report \n",
    "\n",
    "print(\"Naive Bayes Bernoulli vect classification report:\\n\", classification_report (Y_test, y_pred_NB_Bern_vect))\n"
   ]
  },
  {
   "cell_type": "code",
   "execution_count": null,
   "id": "b4de5909",
   "metadata": {},
   "outputs": [],
   "source": []
  },
  {
   "cell_type": "code",
   "execution_count": null,
   "id": "f694fa9b",
   "metadata": {},
   "outputs": [],
   "source": []
  },
  {
   "cell_type": "code",
   "execution_count": null,
   "id": "0d49ab49",
   "metadata": {},
   "outputs": [],
   "source": []
  },
  {
   "cell_type": "markdown",
   "id": "618ec981",
   "metadata": {},
   "source": [
    "# MULTINOMIAL NAIVE BAYES\n"
   ]
  },
  {
   "cell_type": "code",
   "execution_count": 52,
   "id": "93313809",
   "metadata": {},
   "outputs": [],
   "source": [
    "from sklearn.naive_bayes import MultinomialNB"
   ]
  },
  {
   "cell_type": "code",
   "execution_count": 53,
   "id": "4175d0de",
   "metadata": {},
   "outputs": [],
   "source": [
    "from sklearn.naive_bayes import MultinomialNB\n",
    "clf_mult_vect = MultinomialNB()\n"
   ]
  },
  {
   "cell_type": "code",
   "execution_count": 54,
   "id": "52476d00",
   "metadata": {},
   "outputs": [
    {
     "data": {
      "text/html": [
       "<style>#sk-container-id-3 {color: black;background-color: white;}#sk-container-id-3 pre{padding: 0;}#sk-container-id-3 div.sk-toggleable {background-color: white;}#sk-container-id-3 label.sk-toggleable__label {cursor: pointer;display: block;width: 100%;margin-bottom: 0;padding: 0.3em;box-sizing: border-box;text-align: center;}#sk-container-id-3 label.sk-toggleable__label-arrow:before {content: \"▸\";float: left;margin-right: 0.25em;color: #696969;}#sk-container-id-3 label.sk-toggleable__label-arrow:hover:before {color: black;}#sk-container-id-3 div.sk-estimator:hover label.sk-toggleable__label-arrow:before {color: black;}#sk-container-id-3 div.sk-toggleable__content {max-height: 0;max-width: 0;overflow: hidden;text-align: left;background-color: #f0f8ff;}#sk-container-id-3 div.sk-toggleable__content pre {margin: 0.2em;color: black;border-radius: 0.25em;background-color: #f0f8ff;}#sk-container-id-3 input.sk-toggleable__control:checked~div.sk-toggleable__content {max-height: 200px;max-width: 100%;overflow: auto;}#sk-container-id-3 input.sk-toggleable__control:checked~label.sk-toggleable__label-arrow:before {content: \"▾\";}#sk-container-id-3 div.sk-estimator input.sk-toggleable__control:checked~label.sk-toggleable__label {background-color: #d4ebff;}#sk-container-id-3 div.sk-label input.sk-toggleable__control:checked~label.sk-toggleable__label {background-color: #d4ebff;}#sk-container-id-3 input.sk-hidden--visually {border: 0;clip: rect(1px 1px 1px 1px);clip: rect(1px, 1px, 1px, 1px);height: 1px;margin: -1px;overflow: hidden;padding: 0;position: absolute;width: 1px;}#sk-container-id-3 div.sk-estimator {font-family: monospace;background-color: #f0f8ff;border: 1px dotted black;border-radius: 0.25em;box-sizing: border-box;margin-bottom: 0.5em;}#sk-container-id-3 div.sk-estimator:hover {background-color: #d4ebff;}#sk-container-id-3 div.sk-parallel-item::after {content: \"\";width: 100%;border-bottom: 1px solid gray;flex-grow: 1;}#sk-container-id-3 div.sk-label:hover label.sk-toggleable__label {background-color: #d4ebff;}#sk-container-id-3 div.sk-serial::before {content: \"\";position: absolute;border-left: 1px solid gray;box-sizing: border-box;top: 0;bottom: 0;left: 50%;z-index: 0;}#sk-container-id-3 div.sk-serial {display: flex;flex-direction: column;align-items: center;background-color: white;padding-right: 0.2em;padding-left: 0.2em;position: relative;}#sk-container-id-3 div.sk-item {position: relative;z-index: 1;}#sk-container-id-3 div.sk-parallel {display: flex;align-items: stretch;justify-content: center;background-color: white;position: relative;}#sk-container-id-3 div.sk-item::before, #sk-container-id-3 div.sk-parallel-item::before {content: \"\";position: absolute;border-left: 1px solid gray;box-sizing: border-box;top: 0;bottom: 0;left: 50%;z-index: -1;}#sk-container-id-3 div.sk-parallel-item {display: flex;flex-direction: column;z-index: 1;position: relative;background-color: white;}#sk-container-id-3 div.sk-parallel-item:first-child::after {align-self: flex-end;width: 50%;}#sk-container-id-3 div.sk-parallel-item:last-child::after {align-self: flex-start;width: 50%;}#sk-container-id-3 div.sk-parallel-item:only-child::after {width: 0;}#sk-container-id-3 div.sk-dashed-wrapped {border: 1px dashed gray;margin: 0 0.4em 0.5em 0.4em;box-sizing: border-box;padding-bottom: 0.4em;background-color: white;}#sk-container-id-3 div.sk-label label {font-family: monospace;font-weight: bold;display: inline-block;line-height: 1.2em;}#sk-container-id-3 div.sk-label-container {text-align: center;}#sk-container-id-3 div.sk-container {/* jupyter's `normalize.less` sets `[hidden] { display: none; }` but bootstrap.min.css set `[hidden] { display: none !important; }` so we also need the `!important` here to be able to override the default hidden behavior on the sphinx rendered scikit-learn.org. See: https://github.com/scikit-learn/scikit-learn/issues/21755 */display: inline-block !important;position: relative;}#sk-container-id-3 div.sk-text-repr-fallback {display: none;}</style><div id=\"sk-container-id-3\" class=\"sk-top-container\"><div class=\"sk-text-repr-fallback\"><pre>MultinomialNB()</pre><b>In a Jupyter environment, please rerun this cell to show the HTML representation or trust the notebook. <br />On GitHub, the HTML representation is unable to render, please try loading this page with nbviewer.org.</b></div><div class=\"sk-container\" hidden><div class=\"sk-item\"><div class=\"sk-estimator sk-toggleable\"><input class=\"sk-toggleable__control sk-hidden--visually\" id=\"sk-estimator-id-3\" type=\"checkbox\" checked><label for=\"sk-estimator-id-3\" class=\"sk-toggleable__label sk-toggleable__label-arrow\">MultinomialNB</label><div class=\"sk-toggleable__content\"><pre>MultinomialNB()</pre></div></div></div></div></div>"
      ],
      "text/plain": [
       "MultinomialNB()"
      ]
     },
     "execution_count": 54,
     "metadata": {},
     "output_type": "execute_result"
    }
   ],
   "source": [
    "# fit the model\n",
    "clf_mult_vect.fit(X_train_text, Y_train)\n"
   ]
  },
  {
   "cell_type": "code",
   "execution_count": 55,
   "id": "89904bfa",
   "metadata": {},
   "outputs": [],
   "source": [
    "y_pred_NB_Mult_vect = clf_mult_vect.predict(X_test_text)\n"
   ]
  },
  {
   "cell_type": "code",
   "execution_count": 56,
   "id": "34f5ba02",
   "metadata": {},
   "outputs": [
    {
     "data": {
      "text/plain": [
       "0.7893601725377426"
      ]
     },
     "execution_count": 56,
     "metadata": {},
     "output_type": "execute_result"
    }
   ],
   "source": [
    "# get accuracy\n",
    "accuracy_NB_Mult_vect = clf_mult_vect.score(X_test_text, Y_test)\n",
    "accuracy_NB_Mult_vect\n",
    "\n",
    "# 0.79\n"
   ]
  },
  {
   "cell_type": "code",
   "execution_count": 57,
   "id": "86311a00",
   "metadata": {},
   "outputs": [
    {
     "ename": "TypeError",
     "evalue": "Singleton array 0.7893601725377426 cannot be considered a valid collection.",
     "output_type": "error",
     "traceback": [
      "\u001b[1;31m---------------------------------------------------------------------------\u001b[0m",
      "\u001b[1;31mTypeError\u001b[0m                                 Traceback (most recent call last)",
      "Cell \u001b[1;32mIn[57], line 4\u001b[0m\n\u001b[0;32m      1\u001b[0m \u001b[38;5;66;03m# Evaluate the model with f1 score\u001b[39;00m\n\u001b[0;32m      2\u001b[0m \u001b[38;5;28;01mfrom\u001b[39;00m \u001b[38;5;21;01msklearn\u001b[39;00m\u001b[38;5;21;01m.\u001b[39;00m\u001b[38;5;21;01mmetrics\u001b[39;00m \u001b[38;5;28;01mimport\u001b[39;00m f1_score\n\u001b[1;32m----> 4\u001b[0m f1_NB_Mult_vect \u001b[38;5;241m=\u001b[39m \u001b[43mf1_score\u001b[49m\u001b[43m(\u001b[49m\u001b[43mY_test\u001b[49m\u001b[43m,\u001b[49m\u001b[43m \u001b[49m\u001b[43maccuracy_NB_Mult_vect\u001b[49m\u001b[43m)\u001b[49m\n\u001b[0;32m      5\u001b[0m f1_NB_Mult_vect\n",
      "File \u001b[1;32m~\\anaconda3\\lib\\site-packages\\sklearn\\metrics\\_classification.py:1146\u001b[0m, in \u001b[0;36mf1_score\u001b[1;34m(y_true, y_pred, labels, pos_label, average, sample_weight, zero_division)\u001b[0m\n\u001b[0;32m   1011\u001b[0m \u001b[38;5;28;01mdef\u001b[39;00m \u001b[38;5;21mf1_score\u001b[39m(\n\u001b[0;32m   1012\u001b[0m     y_true,\n\u001b[0;32m   1013\u001b[0m     y_pred,\n\u001b[1;32m   (...)\u001b[0m\n\u001b[0;32m   1019\u001b[0m     zero_division\u001b[38;5;241m=\u001b[39m\u001b[38;5;124m\"\u001b[39m\u001b[38;5;124mwarn\u001b[39m\u001b[38;5;124m\"\u001b[39m,\n\u001b[0;32m   1020\u001b[0m ):\n\u001b[0;32m   1021\u001b[0m     \u001b[38;5;124;03m\"\"\"Compute the F1 score, also known as balanced F-score or F-measure.\u001b[39;00m\n\u001b[0;32m   1022\u001b[0m \n\u001b[0;32m   1023\u001b[0m \u001b[38;5;124;03m    The F1 score can be interpreted as a harmonic mean of the precision and\u001b[39;00m\n\u001b[1;32m   (...)\u001b[0m\n\u001b[0;32m   1144\u001b[0m \u001b[38;5;124;03m    array([0.66666667, 1.        , 0.66666667])\u001b[39;00m\n\u001b[0;32m   1145\u001b[0m \u001b[38;5;124;03m    \"\"\"\u001b[39;00m\n\u001b[1;32m-> 1146\u001b[0m     \u001b[38;5;28;01mreturn\u001b[39;00m \u001b[43mfbeta_score\u001b[49m\u001b[43m(\u001b[49m\n\u001b[0;32m   1147\u001b[0m \u001b[43m        \u001b[49m\u001b[43my_true\u001b[49m\u001b[43m,\u001b[49m\n\u001b[0;32m   1148\u001b[0m \u001b[43m        \u001b[49m\u001b[43my_pred\u001b[49m\u001b[43m,\u001b[49m\n\u001b[0;32m   1149\u001b[0m \u001b[43m        \u001b[49m\u001b[43mbeta\u001b[49m\u001b[38;5;241;43m=\u001b[39;49m\u001b[38;5;241;43m1\u001b[39;49m\u001b[43m,\u001b[49m\n\u001b[0;32m   1150\u001b[0m \u001b[43m        \u001b[49m\u001b[43mlabels\u001b[49m\u001b[38;5;241;43m=\u001b[39;49m\u001b[43mlabels\u001b[49m\u001b[43m,\u001b[49m\n\u001b[0;32m   1151\u001b[0m \u001b[43m        \u001b[49m\u001b[43mpos_label\u001b[49m\u001b[38;5;241;43m=\u001b[39;49m\u001b[43mpos_label\u001b[49m\u001b[43m,\u001b[49m\n\u001b[0;32m   1152\u001b[0m \u001b[43m        \u001b[49m\u001b[43maverage\u001b[49m\u001b[38;5;241;43m=\u001b[39;49m\u001b[43maverage\u001b[49m\u001b[43m,\u001b[49m\n\u001b[0;32m   1153\u001b[0m \u001b[43m        \u001b[49m\u001b[43msample_weight\u001b[49m\u001b[38;5;241;43m=\u001b[39;49m\u001b[43msample_weight\u001b[49m\u001b[43m,\u001b[49m\n\u001b[0;32m   1154\u001b[0m \u001b[43m        \u001b[49m\u001b[43mzero_division\u001b[49m\u001b[38;5;241;43m=\u001b[39;49m\u001b[43mzero_division\u001b[49m\u001b[43m,\u001b[49m\n\u001b[0;32m   1155\u001b[0m \u001b[43m    \u001b[49m\u001b[43m)\u001b[49m\n",
      "File \u001b[1;32m~\\anaconda3\\lib\\site-packages\\sklearn\\metrics\\_classification.py:1287\u001b[0m, in \u001b[0;36mfbeta_score\u001b[1;34m(y_true, y_pred, beta, labels, pos_label, average, sample_weight, zero_division)\u001b[0m\n\u001b[0;32m   1158\u001b[0m \u001b[38;5;28;01mdef\u001b[39;00m \u001b[38;5;21mfbeta_score\u001b[39m(\n\u001b[0;32m   1159\u001b[0m     y_true,\n\u001b[0;32m   1160\u001b[0m     y_pred,\n\u001b[1;32m   (...)\u001b[0m\n\u001b[0;32m   1167\u001b[0m     zero_division\u001b[38;5;241m=\u001b[39m\u001b[38;5;124m\"\u001b[39m\u001b[38;5;124mwarn\u001b[39m\u001b[38;5;124m\"\u001b[39m,\n\u001b[0;32m   1168\u001b[0m ):\n\u001b[0;32m   1169\u001b[0m     \u001b[38;5;124;03m\"\"\"Compute the F-beta score.\u001b[39;00m\n\u001b[0;32m   1170\u001b[0m \n\u001b[0;32m   1171\u001b[0m \u001b[38;5;124;03m    The F-beta score is the weighted harmonic mean of precision and recall,\u001b[39;00m\n\u001b[1;32m   (...)\u001b[0m\n\u001b[0;32m   1284\u001b[0m \u001b[38;5;124;03m    array([0.71..., 0.        , 0.        ])\u001b[39;00m\n\u001b[0;32m   1285\u001b[0m \u001b[38;5;124;03m    \"\"\"\u001b[39;00m\n\u001b[1;32m-> 1287\u001b[0m     _, _, f, _ \u001b[38;5;241m=\u001b[39m \u001b[43mprecision_recall_fscore_support\u001b[49m\u001b[43m(\u001b[49m\n\u001b[0;32m   1288\u001b[0m \u001b[43m        \u001b[49m\u001b[43my_true\u001b[49m\u001b[43m,\u001b[49m\n\u001b[0;32m   1289\u001b[0m \u001b[43m        \u001b[49m\u001b[43my_pred\u001b[49m\u001b[43m,\u001b[49m\n\u001b[0;32m   1290\u001b[0m \u001b[43m        \u001b[49m\u001b[43mbeta\u001b[49m\u001b[38;5;241;43m=\u001b[39;49m\u001b[43mbeta\u001b[49m\u001b[43m,\u001b[49m\n\u001b[0;32m   1291\u001b[0m \u001b[43m        \u001b[49m\u001b[43mlabels\u001b[49m\u001b[38;5;241;43m=\u001b[39;49m\u001b[43mlabels\u001b[49m\u001b[43m,\u001b[49m\n\u001b[0;32m   1292\u001b[0m \u001b[43m        \u001b[49m\u001b[43mpos_label\u001b[49m\u001b[38;5;241;43m=\u001b[39;49m\u001b[43mpos_label\u001b[49m\u001b[43m,\u001b[49m\n\u001b[0;32m   1293\u001b[0m \u001b[43m        \u001b[49m\u001b[43maverage\u001b[49m\u001b[38;5;241;43m=\u001b[39;49m\u001b[43maverage\u001b[49m\u001b[43m,\u001b[49m\n\u001b[0;32m   1294\u001b[0m \u001b[43m        \u001b[49m\u001b[43mwarn_for\u001b[49m\u001b[38;5;241;43m=\u001b[39;49m\u001b[43m(\u001b[49m\u001b[38;5;124;43m\"\u001b[39;49m\u001b[38;5;124;43mf-score\u001b[39;49m\u001b[38;5;124;43m\"\u001b[39;49m\u001b[43m,\u001b[49m\u001b[43m)\u001b[49m\u001b[43m,\u001b[49m\n\u001b[0;32m   1295\u001b[0m \u001b[43m        \u001b[49m\u001b[43msample_weight\u001b[49m\u001b[38;5;241;43m=\u001b[39;49m\u001b[43msample_weight\u001b[49m\u001b[43m,\u001b[49m\n\u001b[0;32m   1296\u001b[0m \u001b[43m        \u001b[49m\u001b[43mzero_division\u001b[49m\u001b[38;5;241;43m=\u001b[39;49m\u001b[43mzero_division\u001b[49m\u001b[43m,\u001b[49m\n\u001b[0;32m   1297\u001b[0m \u001b[43m    \u001b[49m\u001b[43m)\u001b[49m\n\u001b[0;32m   1298\u001b[0m     \u001b[38;5;28;01mreturn\u001b[39;00m f\n",
      "File \u001b[1;32m~\\anaconda3\\lib\\site-packages\\sklearn\\metrics\\_classification.py:1573\u001b[0m, in \u001b[0;36mprecision_recall_fscore_support\u001b[1;34m(y_true, y_pred, beta, labels, pos_label, average, warn_for, sample_weight, zero_division)\u001b[0m\n\u001b[0;32m   1571\u001b[0m \u001b[38;5;28;01mif\u001b[39;00m beta \u001b[38;5;241m<\u001b[39m \u001b[38;5;241m0\u001b[39m:\n\u001b[0;32m   1572\u001b[0m     \u001b[38;5;28;01mraise\u001b[39;00m \u001b[38;5;167;01mValueError\u001b[39;00m(\u001b[38;5;124m\"\u001b[39m\u001b[38;5;124mbeta should be >=0 in the F-beta score\u001b[39m\u001b[38;5;124m\"\u001b[39m)\n\u001b[1;32m-> 1573\u001b[0m labels \u001b[38;5;241m=\u001b[39m \u001b[43m_check_set_wise_labels\u001b[49m\u001b[43m(\u001b[49m\u001b[43my_true\u001b[49m\u001b[43m,\u001b[49m\u001b[43m \u001b[49m\u001b[43my_pred\u001b[49m\u001b[43m,\u001b[49m\u001b[43m \u001b[49m\u001b[43maverage\u001b[49m\u001b[43m,\u001b[49m\u001b[43m \u001b[49m\u001b[43mlabels\u001b[49m\u001b[43m,\u001b[49m\u001b[43m \u001b[49m\u001b[43mpos_label\u001b[49m\u001b[43m)\u001b[49m\n\u001b[0;32m   1575\u001b[0m \u001b[38;5;66;03m# Calculate tp_sum, pred_sum, true_sum ###\u001b[39;00m\n\u001b[0;32m   1576\u001b[0m samplewise \u001b[38;5;241m=\u001b[39m average \u001b[38;5;241m==\u001b[39m \u001b[38;5;124m\"\u001b[39m\u001b[38;5;124msamples\u001b[39m\u001b[38;5;124m\"\u001b[39m\n",
      "File \u001b[1;32m~\\anaconda3\\lib\\site-packages\\sklearn\\metrics\\_classification.py:1374\u001b[0m, in \u001b[0;36m_check_set_wise_labels\u001b[1;34m(y_true, y_pred, average, labels, pos_label)\u001b[0m\n\u001b[0;32m   1371\u001b[0m \u001b[38;5;28;01mif\u001b[39;00m average \u001b[38;5;129;01mnot\u001b[39;00m \u001b[38;5;129;01min\u001b[39;00m average_options \u001b[38;5;129;01mand\u001b[39;00m average \u001b[38;5;241m!=\u001b[39m \u001b[38;5;124m\"\u001b[39m\u001b[38;5;124mbinary\u001b[39m\u001b[38;5;124m\"\u001b[39m:\n\u001b[0;32m   1372\u001b[0m     \u001b[38;5;28;01mraise\u001b[39;00m \u001b[38;5;167;01mValueError\u001b[39;00m(\u001b[38;5;124m\"\u001b[39m\u001b[38;5;124maverage has to be one of \u001b[39m\u001b[38;5;124m\"\u001b[39m \u001b[38;5;241m+\u001b[39m \u001b[38;5;28mstr\u001b[39m(average_options))\n\u001b[1;32m-> 1374\u001b[0m y_type, y_true, y_pred \u001b[38;5;241m=\u001b[39m \u001b[43m_check_targets\u001b[49m\u001b[43m(\u001b[49m\u001b[43my_true\u001b[49m\u001b[43m,\u001b[49m\u001b[43m \u001b[49m\u001b[43my_pred\u001b[49m\u001b[43m)\u001b[49m\n\u001b[0;32m   1375\u001b[0m \u001b[38;5;66;03m# Convert to Python primitive type to avoid NumPy type / Python str\u001b[39;00m\n\u001b[0;32m   1376\u001b[0m \u001b[38;5;66;03m# comparison. See https://github.com/numpy/numpy/issues/6784\u001b[39;00m\n\u001b[0;32m   1377\u001b[0m present_labels \u001b[38;5;241m=\u001b[39m unique_labels(y_true, y_pred)\u001b[38;5;241m.\u001b[39mtolist()\n",
      "File \u001b[1;32m~\\anaconda3\\lib\\site-packages\\sklearn\\metrics\\_classification.py:86\u001b[0m, in \u001b[0;36m_check_targets\u001b[1;34m(y_true, y_pred)\u001b[0m\n\u001b[0;32m     59\u001b[0m \u001b[38;5;28;01mdef\u001b[39;00m \u001b[38;5;21m_check_targets\u001b[39m(y_true, y_pred):\n\u001b[0;32m     60\u001b[0m     \u001b[38;5;124;03m\"\"\"Check that y_true and y_pred belong to the same classification task.\u001b[39;00m\n\u001b[0;32m     61\u001b[0m \n\u001b[0;32m     62\u001b[0m \u001b[38;5;124;03m    This converts multiclass or binary types to a common shape, and raises a\u001b[39;00m\n\u001b[1;32m   (...)\u001b[0m\n\u001b[0;32m     84\u001b[0m \u001b[38;5;124;03m    y_pred : array or indicator matrix\u001b[39;00m\n\u001b[0;32m     85\u001b[0m \u001b[38;5;124;03m    \"\"\"\u001b[39;00m\n\u001b[1;32m---> 86\u001b[0m     \u001b[43mcheck_consistent_length\u001b[49m\u001b[43m(\u001b[49m\u001b[43my_true\u001b[49m\u001b[43m,\u001b[49m\u001b[43m \u001b[49m\u001b[43my_pred\u001b[49m\u001b[43m)\u001b[49m\n\u001b[0;32m     87\u001b[0m     type_true \u001b[38;5;241m=\u001b[39m type_of_target(y_true, input_name\u001b[38;5;241m=\u001b[39m\u001b[38;5;124m\"\u001b[39m\u001b[38;5;124my_true\u001b[39m\u001b[38;5;124m\"\u001b[39m)\n\u001b[0;32m     88\u001b[0m     type_pred \u001b[38;5;241m=\u001b[39m type_of_target(y_pred, input_name\u001b[38;5;241m=\u001b[39m\u001b[38;5;124m\"\u001b[39m\u001b[38;5;124my_pred\u001b[39m\u001b[38;5;124m\"\u001b[39m)\n",
      "File \u001b[1;32m~\\anaconda3\\lib\\site-packages\\sklearn\\utils\\validation.py:394\u001b[0m, in \u001b[0;36mcheck_consistent_length\u001b[1;34m(*arrays)\u001b[0m\n\u001b[0;32m    383\u001b[0m \u001b[38;5;28;01mdef\u001b[39;00m \u001b[38;5;21mcheck_consistent_length\u001b[39m(\u001b[38;5;241m*\u001b[39marrays):\n\u001b[0;32m    384\u001b[0m     \u001b[38;5;124;03m\"\"\"Check that all arrays have consistent first dimensions.\u001b[39;00m\n\u001b[0;32m    385\u001b[0m \n\u001b[0;32m    386\u001b[0m \u001b[38;5;124;03m    Checks whether all objects in arrays have the same shape or length.\u001b[39;00m\n\u001b[1;32m   (...)\u001b[0m\n\u001b[0;32m    391\u001b[0m \u001b[38;5;124;03m        Objects that will be checked for consistent length.\u001b[39;00m\n\u001b[0;32m    392\u001b[0m \u001b[38;5;124;03m    \"\"\"\u001b[39;00m\n\u001b[1;32m--> 394\u001b[0m     lengths \u001b[38;5;241m=\u001b[39m [_num_samples(X) \u001b[38;5;28;01mfor\u001b[39;00m X \u001b[38;5;129;01min\u001b[39;00m arrays \u001b[38;5;28;01mif\u001b[39;00m X \u001b[38;5;129;01mis\u001b[39;00m \u001b[38;5;129;01mnot\u001b[39;00m \u001b[38;5;28;01mNone\u001b[39;00m]\n\u001b[0;32m    395\u001b[0m     uniques \u001b[38;5;241m=\u001b[39m np\u001b[38;5;241m.\u001b[39munique(lengths)\n\u001b[0;32m    396\u001b[0m     \u001b[38;5;28;01mif\u001b[39;00m \u001b[38;5;28mlen\u001b[39m(uniques) \u001b[38;5;241m>\u001b[39m \u001b[38;5;241m1\u001b[39m:\n",
      "File \u001b[1;32m~\\anaconda3\\lib\\site-packages\\sklearn\\utils\\validation.py:394\u001b[0m, in \u001b[0;36m<listcomp>\u001b[1;34m(.0)\u001b[0m\n\u001b[0;32m    383\u001b[0m \u001b[38;5;28;01mdef\u001b[39;00m \u001b[38;5;21mcheck_consistent_length\u001b[39m(\u001b[38;5;241m*\u001b[39marrays):\n\u001b[0;32m    384\u001b[0m     \u001b[38;5;124;03m\"\"\"Check that all arrays have consistent first dimensions.\u001b[39;00m\n\u001b[0;32m    385\u001b[0m \n\u001b[0;32m    386\u001b[0m \u001b[38;5;124;03m    Checks whether all objects in arrays have the same shape or length.\u001b[39;00m\n\u001b[1;32m   (...)\u001b[0m\n\u001b[0;32m    391\u001b[0m \u001b[38;5;124;03m        Objects that will be checked for consistent length.\u001b[39;00m\n\u001b[0;32m    392\u001b[0m \u001b[38;5;124;03m    \"\"\"\u001b[39;00m\n\u001b[1;32m--> 394\u001b[0m     lengths \u001b[38;5;241m=\u001b[39m [\u001b[43m_num_samples\u001b[49m\u001b[43m(\u001b[49m\u001b[43mX\u001b[49m\u001b[43m)\u001b[49m \u001b[38;5;28;01mfor\u001b[39;00m X \u001b[38;5;129;01min\u001b[39;00m arrays \u001b[38;5;28;01mif\u001b[39;00m X \u001b[38;5;129;01mis\u001b[39;00m \u001b[38;5;129;01mnot\u001b[39;00m \u001b[38;5;28;01mNone\u001b[39;00m]\n\u001b[0;32m    395\u001b[0m     uniques \u001b[38;5;241m=\u001b[39m np\u001b[38;5;241m.\u001b[39munique(lengths)\n\u001b[0;32m    396\u001b[0m     \u001b[38;5;28;01mif\u001b[39;00m \u001b[38;5;28mlen\u001b[39m(uniques) \u001b[38;5;241m>\u001b[39m \u001b[38;5;241m1\u001b[39m:\n",
      "File \u001b[1;32m~\\anaconda3\\lib\\site-packages\\sklearn\\utils\\validation.py:335\u001b[0m, in \u001b[0;36m_num_samples\u001b[1;34m(x)\u001b[0m\n\u001b[0;32m    333\u001b[0m \u001b[38;5;28;01mif\u001b[39;00m \u001b[38;5;28mhasattr\u001b[39m(x, \u001b[38;5;124m\"\u001b[39m\u001b[38;5;124mshape\u001b[39m\u001b[38;5;124m\"\u001b[39m) \u001b[38;5;129;01mand\u001b[39;00m x\u001b[38;5;241m.\u001b[39mshape \u001b[38;5;129;01mis\u001b[39;00m \u001b[38;5;129;01mnot\u001b[39;00m \u001b[38;5;28;01mNone\u001b[39;00m:\n\u001b[0;32m    334\u001b[0m     \u001b[38;5;28;01mif\u001b[39;00m \u001b[38;5;28mlen\u001b[39m(x\u001b[38;5;241m.\u001b[39mshape) \u001b[38;5;241m==\u001b[39m \u001b[38;5;241m0\u001b[39m:\n\u001b[1;32m--> 335\u001b[0m         \u001b[38;5;28;01mraise\u001b[39;00m \u001b[38;5;167;01mTypeError\u001b[39;00m(\n\u001b[0;32m    336\u001b[0m             \u001b[38;5;124m\"\u001b[39m\u001b[38;5;124mSingleton array \u001b[39m\u001b[38;5;132;01m%r\u001b[39;00m\u001b[38;5;124m cannot be considered a valid collection.\u001b[39m\u001b[38;5;124m\"\u001b[39m \u001b[38;5;241m%\u001b[39m x\n\u001b[0;32m    337\u001b[0m         )\n\u001b[0;32m    338\u001b[0m     \u001b[38;5;66;03m# Check that shape is returning an integer or default to len\u001b[39;00m\n\u001b[0;32m    339\u001b[0m     \u001b[38;5;66;03m# Dask dataframes may not return numeric shape[0] value\u001b[39;00m\n\u001b[0;32m    340\u001b[0m     \u001b[38;5;28;01mif\u001b[39;00m \u001b[38;5;28misinstance\u001b[39m(x\u001b[38;5;241m.\u001b[39mshape[\u001b[38;5;241m0\u001b[39m], numbers\u001b[38;5;241m.\u001b[39mIntegral):\n",
      "\u001b[1;31mTypeError\u001b[0m: Singleton array 0.7893601725377426 cannot be considered a valid collection."
     ]
    }
   ],
   "source": [
    "# Evaluate the model with f1 score\n",
    "from sklearn.metrics import f1_score\n",
    "\n",
    "f1_NB_Mult_vect = f1_score(Y_test, accuracy_NB_Mult_vect)\n",
    "f1_NB_Mult_vect\n",
    "\n",
    "# "
   ]
  },
  {
   "cell_type": "code",
   "execution_count": 60,
   "id": "1234fbd3",
   "metadata": {},
   "outputs": [
    {
     "data": {
      "text/html": [
       "<div>\n",
       "<style scoped>\n",
       "    .dataframe tbody tr th:only-of-type {\n",
       "        vertical-align: middle;\n",
       "    }\n",
       "\n",
       "    .dataframe tbody tr th {\n",
       "        vertical-align: top;\n",
       "    }\n",
       "\n",
       "    .dataframe thead th {\n",
       "        text-align: right;\n",
       "    }\n",
       "</style>\n",
       "<table border=\"1\" class=\"dataframe\">\n",
       "  <thead>\n",
       "    <tr style=\"text-align: right;\">\n",
       "      <th>predict</th>\n",
       "      <th>0.0</th>\n",
       "      <th>1.0</th>\n",
       "    </tr>\n",
       "    <tr>\n",
       "      <th>true</th>\n",
       "      <th></th>\n",
       "      <th></th>\n",
       "    </tr>\n",
       "  </thead>\n",
       "  <tbody>\n",
       "    <tr>\n",
       "      <th>0.0</th>\n",
       "      <td>11416</td>\n",
       "      <td>825</td>\n",
       "    </tr>\n",
       "    <tr>\n",
       "      <th>1.0</th>\n",
       "      <td>3863</td>\n",
       "      <td>6152</td>\n",
       "    </tr>\n",
       "  </tbody>\n",
       "</table>\n",
       "</div>"
      ],
      "text/plain": [
       "predict    0.0   1.0\n",
       "true                \n",
       "0.0      11416   825\n",
       "1.0       3863  6152"
      ]
     },
     "execution_count": 60,
     "metadata": {},
     "output_type": "execute_result"
    }
   ],
   "source": [
    "# get confusion matrix\n",
    "pd.crosstab(Y_test, y_pred_NB_Mult_vect, rownames=[\"true\"], colnames=[\"predict\"])\n"
   ]
  },
  {
   "cell_type": "code",
   "execution_count": 61,
   "id": "feed2578",
   "metadata": {},
   "outputs": [
    {
     "name": "stdout",
     "output_type": "stream",
     "text": [
      "Naive Bayes Multinomial Vect classification report:\n",
      "                precision    recall  f1-score   support\n",
      "\n",
      "         0.0       0.75      0.93      0.83     12241\n",
      "         1.0       0.88      0.61      0.72     10015\n",
      "\n",
      "    accuracy                           0.79     22256\n",
      "   macro avg       0.81      0.77      0.78     22256\n",
      "weighted avg       0.81      0.79      0.78     22256\n",
      "\n"
     ]
    }
   ],
   "source": [
    "from sklearn.metrics import classification_report \n",
    "\n",
    "# get classification report\n",
    "print(\"Naive Bayes Multinomial Vect classification report:\\n \", classification_report (Y_test, y_pred_NB_Mult_vect))"
   ]
  },
  {
   "cell_type": "code",
   "execution_count": 62,
   "id": "2282cd17",
   "metadata": {},
   "outputs": [],
   "source": [
    "from mlxtend.plotting import plot_confusion_matrix\n",
    "import matplotlib.pyplot as plt\n",
    "import numpy as np\n",
    "from sklearn.metrics import confusion_matrix\n"
   ]
  },
  {
   "cell_type": "code",
   "execution_count": 138,
   "id": "f34ad0da",
   "metadata": {},
   "outputs": [
    {
     "name": "stdout",
     "output_type": "stream",
     "text": [
      "[[11416   825]\n",
      " [ 3863  6152]]\n"
     ]
    }
   ],
   "source": [
    "# create confusion matrix\n",
    "cf_matrix_NB_Mult_vect = confusion_matrix(Y_test, y_pred_NB_Mult_vect)\n",
    "print(cf_matrix_NB_Mult_vect)\n"
   ]
  },
  {
   "cell_type": "code",
   "execution_count": 64,
   "id": "0bce9e7a",
   "metadata": {
    "scrolled": true
   },
   "outputs": [],
   "source": [
    "# absolute values\n",
    "# fig, ax = plot_confusion_matrix(conf_mat=cf_matrix_Multinomial_vect,\n",
    "#                                 colorbar=True)\n",
    "\n",
    "# plt.show()"
   ]
  },
  {
   "cell_type": "code",
   "execution_count": 65,
   "id": "34399e85",
   "metadata": {},
   "outputs": [],
   "source": [
    "# percent\n",
    "# sns.heatmap(cf_matrix_Multinomial_vect/np.sum(cf_matrix_Multinomial_vect), annot=True, \n",
    "#             fmt='.2%', cmap='Blues')"
   ]
  },
  {
   "cell_type": "code",
   "execution_count": null,
   "id": "82f35f58",
   "metadata": {},
   "outputs": [],
   "source": []
  },
  {
   "cell_type": "code",
   "execution_count": null,
   "id": "0f908775",
   "metadata": {},
   "outputs": [],
   "source": []
  },
  {
   "cell_type": "code",
   "execution_count": null,
   "id": "2b6e611f",
   "metadata": {},
   "outputs": [],
   "source": []
  },
  {
   "cell_type": "markdown",
   "id": "1519fb52",
   "metadata": {},
   "source": [
    "# COMPLEMENT NAIVE BAYES\n"
   ]
  },
  {
   "cell_type": "code",
   "execution_count": 66,
   "id": "c389f919",
   "metadata": {},
   "outputs": [],
   "source": [
    "from sklearn.naive_bayes import ComplementNB\n",
    "clf_compl_vect = ComplementNB()\n"
   ]
  },
  {
   "cell_type": "code",
   "execution_count": 67,
   "id": "266fc172",
   "metadata": {
    "scrolled": true
   },
   "outputs": [
    {
     "data": {
      "text/html": [
       "<style>#sk-container-id-4 {color: black;background-color: white;}#sk-container-id-4 pre{padding: 0;}#sk-container-id-4 div.sk-toggleable {background-color: white;}#sk-container-id-4 label.sk-toggleable__label {cursor: pointer;display: block;width: 100%;margin-bottom: 0;padding: 0.3em;box-sizing: border-box;text-align: center;}#sk-container-id-4 label.sk-toggleable__label-arrow:before {content: \"▸\";float: left;margin-right: 0.25em;color: #696969;}#sk-container-id-4 label.sk-toggleable__label-arrow:hover:before {color: black;}#sk-container-id-4 div.sk-estimator:hover label.sk-toggleable__label-arrow:before {color: black;}#sk-container-id-4 div.sk-toggleable__content {max-height: 0;max-width: 0;overflow: hidden;text-align: left;background-color: #f0f8ff;}#sk-container-id-4 div.sk-toggleable__content pre {margin: 0.2em;color: black;border-radius: 0.25em;background-color: #f0f8ff;}#sk-container-id-4 input.sk-toggleable__control:checked~div.sk-toggleable__content {max-height: 200px;max-width: 100%;overflow: auto;}#sk-container-id-4 input.sk-toggleable__control:checked~label.sk-toggleable__label-arrow:before {content: \"▾\";}#sk-container-id-4 div.sk-estimator input.sk-toggleable__control:checked~label.sk-toggleable__label {background-color: #d4ebff;}#sk-container-id-4 div.sk-label input.sk-toggleable__control:checked~label.sk-toggleable__label {background-color: #d4ebff;}#sk-container-id-4 input.sk-hidden--visually {border: 0;clip: rect(1px 1px 1px 1px);clip: rect(1px, 1px, 1px, 1px);height: 1px;margin: -1px;overflow: hidden;padding: 0;position: absolute;width: 1px;}#sk-container-id-4 div.sk-estimator {font-family: monospace;background-color: #f0f8ff;border: 1px dotted black;border-radius: 0.25em;box-sizing: border-box;margin-bottom: 0.5em;}#sk-container-id-4 div.sk-estimator:hover {background-color: #d4ebff;}#sk-container-id-4 div.sk-parallel-item::after {content: \"\";width: 100%;border-bottom: 1px solid gray;flex-grow: 1;}#sk-container-id-4 div.sk-label:hover label.sk-toggleable__label {background-color: #d4ebff;}#sk-container-id-4 div.sk-serial::before {content: \"\";position: absolute;border-left: 1px solid gray;box-sizing: border-box;top: 0;bottom: 0;left: 50%;z-index: 0;}#sk-container-id-4 div.sk-serial {display: flex;flex-direction: column;align-items: center;background-color: white;padding-right: 0.2em;padding-left: 0.2em;position: relative;}#sk-container-id-4 div.sk-item {position: relative;z-index: 1;}#sk-container-id-4 div.sk-parallel {display: flex;align-items: stretch;justify-content: center;background-color: white;position: relative;}#sk-container-id-4 div.sk-item::before, #sk-container-id-4 div.sk-parallel-item::before {content: \"\";position: absolute;border-left: 1px solid gray;box-sizing: border-box;top: 0;bottom: 0;left: 50%;z-index: -1;}#sk-container-id-4 div.sk-parallel-item {display: flex;flex-direction: column;z-index: 1;position: relative;background-color: white;}#sk-container-id-4 div.sk-parallel-item:first-child::after {align-self: flex-end;width: 50%;}#sk-container-id-4 div.sk-parallel-item:last-child::after {align-self: flex-start;width: 50%;}#sk-container-id-4 div.sk-parallel-item:only-child::after {width: 0;}#sk-container-id-4 div.sk-dashed-wrapped {border: 1px dashed gray;margin: 0 0.4em 0.5em 0.4em;box-sizing: border-box;padding-bottom: 0.4em;background-color: white;}#sk-container-id-4 div.sk-label label {font-family: monospace;font-weight: bold;display: inline-block;line-height: 1.2em;}#sk-container-id-4 div.sk-label-container {text-align: center;}#sk-container-id-4 div.sk-container {/* jupyter's `normalize.less` sets `[hidden] { display: none; }` but bootstrap.min.css set `[hidden] { display: none !important; }` so we also need the `!important` here to be able to override the default hidden behavior on the sphinx rendered scikit-learn.org. See: https://github.com/scikit-learn/scikit-learn/issues/21755 */display: inline-block !important;position: relative;}#sk-container-id-4 div.sk-text-repr-fallback {display: none;}</style><div id=\"sk-container-id-4\" class=\"sk-top-container\"><div class=\"sk-text-repr-fallback\"><pre>ComplementNB()</pre><b>In a Jupyter environment, please rerun this cell to show the HTML representation or trust the notebook. <br />On GitHub, the HTML representation is unable to render, please try loading this page with nbviewer.org.</b></div><div class=\"sk-container\" hidden><div class=\"sk-item\"><div class=\"sk-estimator sk-toggleable\"><input class=\"sk-toggleable__control sk-hidden--visually\" id=\"sk-estimator-id-4\" type=\"checkbox\" checked><label for=\"sk-estimator-id-4\" class=\"sk-toggleable__label sk-toggleable__label-arrow\">ComplementNB</label><div class=\"sk-toggleable__content\"><pre>ComplementNB()</pre></div></div></div></div></div>"
      ],
      "text/plain": [
       "ComplementNB()"
      ]
     },
     "execution_count": 67,
     "metadata": {},
     "output_type": "execute_result"
    }
   ],
   "source": [
    "# fit model\n",
    "clf_compl_vect.fit(X_train_text, Y_train)\n"
   ]
  },
  {
   "cell_type": "code",
   "execution_count": 68,
   "id": "cf71a134",
   "metadata": {},
   "outputs": [],
   "source": [
    "y_pred_NB_Compl_vect = clf_compl_vect.predict(X_test_text)\n"
   ]
  },
  {
   "cell_type": "code",
   "execution_count": 69,
   "id": "0a4102ec",
   "metadata": {},
   "outputs": [
    {
     "data": {
      "text/plain": [
       "0.7967739036664271"
      ]
     },
     "execution_count": 69,
     "metadata": {},
     "output_type": "execute_result"
    }
   ],
   "source": [
    "# get accuracy\n",
    "accuracy_NB_Compl_vect = clf_compl_vect.score(X_test_text, Y_test)\n",
    "accuracy_NB_Compl_vect\n",
    "\n",
    "# 0.79677"
   ]
  },
  {
   "cell_type": "code",
   "execution_count": 70,
   "id": "056a507f",
   "metadata": {},
   "outputs": [
    {
     "data": {
      "text/plain": [
       "0.7426458036984354"
      ]
     },
     "execution_count": 70,
     "metadata": {},
     "output_type": "execute_result"
    }
   ],
   "source": [
    "# Evaluate the model with f1 score\n",
    "from sklearn.metrics import f1_score\n",
    "\n",
    "f1_NB_Compl_vect = f1_score(Y_test, y_pred_NB_Compl_vect)\n",
    "f1_NB_Compl_vect\n",
    "\n",
    "# 0.74"
   ]
  },
  {
   "cell_type": "code",
   "execution_count": 71,
   "id": "2662630a",
   "metadata": {},
   "outputs": [
    {
     "data": {
      "text/html": [
       "<div>\n",
       "<style scoped>\n",
       "    .dataframe tbody tr th:only-of-type {\n",
       "        vertical-align: middle;\n",
       "    }\n",
       "\n",
       "    .dataframe tbody tr th {\n",
       "        vertical-align: top;\n",
       "    }\n",
       "\n",
       "    .dataframe thead th {\n",
       "        text-align: right;\n",
       "    }\n",
       "</style>\n",
       "<table border=\"1\" class=\"dataframe\">\n",
       "  <thead>\n",
       "    <tr style=\"text-align: right;\">\n",
       "      <th>predict</th>\n",
       "      <th>0.0</th>\n",
       "      <th>1.0</th>\n",
       "    </tr>\n",
       "    <tr>\n",
       "      <th>true</th>\n",
       "      <th></th>\n",
       "      <th></th>\n",
       "    </tr>\n",
       "  </thead>\n",
       "  <tbody>\n",
       "    <tr>\n",
       "      <th>0.0</th>\n",
       "      <td>11207</td>\n",
       "      <td>1034</td>\n",
       "    </tr>\n",
       "    <tr>\n",
       "      <th>1.0</th>\n",
       "      <td>3489</td>\n",
       "      <td>6526</td>\n",
       "    </tr>\n",
       "  </tbody>\n",
       "</table>\n",
       "</div>"
      ],
      "text/plain": [
       "predict    0.0   1.0\n",
       "true                \n",
       "0.0      11207  1034\n",
       "1.0       3489  6526"
      ]
     },
     "execution_count": 71,
     "metadata": {},
     "output_type": "execute_result"
    }
   ],
   "source": [
    "# get confusion matrix\n",
    "pd.crosstab(Y_test, y_pred_NB_Compl_vect, rownames=[\"true\"], colnames=[\"predict\"])\n"
   ]
  },
  {
   "cell_type": "code",
   "execution_count": 72,
   "id": "311b6e7e",
   "metadata": {},
   "outputs": [
    {
     "name": "stdout",
     "output_type": "stream",
     "text": [
      "Naive Bayes Complement vect classification report:\n",
      "                precision    recall  f1-score   support\n",
      "\n",
      "         0.0       0.76      0.92      0.83     12241\n",
      "         1.0       0.86      0.65      0.74     10015\n",
      "\n",
      "    accuracy                           0.80     22256\n",
      "   macro avg       0.81      0.78      0.79     22256\n",
      "weighted avg       0.81      0.80      0.79     22256\n",
      "\n"
     ]
    }
   ],
   "source": [
    "from sklearn.metrics import classification_report \n",
    "\n",
    "# get classification report\n",
    "print(\"Naive Bayes Complement vect classification report:\\n \", classification_report (Y_test, y_pred_NB_Compl_vect))\n"
   ]
  },
  {
   "cell_type": "code",
   "execution_count": 73,
   "id": "6a6cd63b",
   "metadata": {},
   "outputs": [
    {
     "name": "stdout",
     "output_type": "stream",
     "text": [
      "[[11207  1034]\n",
      " [ 3489  6526]]\n"
     ]
    }
   ],
   "source": [
    "# create confusion matrix\n",
    "cf_matrix_Compl_vect = confusion_matrix(Y_test, y_pred_NB_Compl_vect)\n",
    "print(cf_matrix_Compl_vect)\n"
   ]
  },
  {
   "cell_type": "code",
   "execution_count": 77,
   "id": "864f76c2",
   "metadata": {},
   "outputs": [],
   "source": [
    "# absolute values\n",
    "# fig, ax = plot_confusion_matrix(conf_mat=cf_matrix_Complement_vect,\n",
    "#                                 colorbar=True)\n",
    "\n",
    "# plt.show();\n"
   ]
  },
  {
   "cell_type": "code",
   "execution_count": 78,
   "id": "bd4e027d",
   "metadata": {},
   "outputs": [],
   "source": [
    "# percent\n",
    "# sns.heatmap(cf_matrix_Complement_vect/np.sum(cf_matrix_Complement_vect), annot=True, \n",
    "#             fmt='.2%', cmap='Blues');\n"
   ]
  },
  {
   "cell_type": "code",
   "execution_count": null,
   "id": "6d229d5e",
   "metadata": {},
   "outputs": [],
   "source": []
  },
  {
   "cell_type": "code",
   "execution_count": null,
   "id": "6a2a8977",
   "metadata": {},
   "outputs": [],
   "source": []
  },
  {
   "cell_type": "code",
   "execution_count": null,
   "id": "ad3277c7",
   "metadata": {},
   "outputs": [],
   "source": []
  },
  {
   "cell_type": "markdown",
   "id": "3daa6b2f",
   "metadata": {},
   "source": [
    "# Create NAIVE BAYES Gaussian\n",
    "# not possible due to memory error\n"
   ]
  },
  {
   "cell_type": "code",
   "execution_count": null,
   "id": "dd5ed69d",
   "metadata": {},
   "outputs": [],
   "source": [
    "# transform to avoid sparse matrix\n",
    "# Convert sparse matrix to dense numpy array\n",
    "# X_train_text_dense = X_train_text.toarray()\n"
   ]
  },
  {
   "cell_type": "code",
   "execution_count": 74,
   "id": "767ba3a6",
   "metadata": {},
   "outputs": [],
   "source": [
    "# from sklearn.naive_bayes import GaussianNB\n",
    "# clf_gau_vect = GaussianNB()\n"
   ]
  },
  {
   "cell_type": "code",
   "execution_count": null,
   "id": "4244c4c5",
   "metadata": {},
   "outputs": [],
   "source": [
    "# clf_gau_vect.fit(X_train_text, Y_train)\n"
   ]
  },
  {
   "cell_type": "code",
   "execution_count": null,
   "id": "a1e3eabb",
   "metadata": {},
   "outputs": [],
   "source": [
    "# get accuracy\n",
    "# accuracyNB_Gaussian_vect = clf_gau_vect.score(X_test_text, y_test)\n",
    "# accuracyNB_Gaussian_vect\n"
   ]
  },
  {
   "cell_type": "code",
   "execution_count": null,
   "id": "7c836a89",
   "metadata": {},
   "outputs": [],
   "source": [
    "# get confusion matrix\n",
    "# y_pred_NB_Gaussian_vect = clf_gau_vect.predict(X_test_text)\n",
    "# pd.crosstab(y_test, y_pred_NB_Gaussian_vect, rownames=[\"real\"], colnames=[\"predict\"])\n"
   ]
  },
  {
   "cell_type": "code",
   "execution_count": null,
   "id": "9304ff96",
   "metadata": {},
   "outputs": [],
   "source": [
    "# from sklearn.metrics import classification_report \n",
    "\n",
    "# get classification report\n",
    "# print(\"Naive Bayes Gaussian vect classification report:\\n \", classification_report (y_test, y_pred_NB_Gaussian_vect))\n",
    "\n",
    "# really bad overall\n"
   ]
  },
  {
   "cell_type": "code",
   "execution_count": null,
   "id": "37104aec",
   "metadata": {},
   "outputs": [],
   "source": [
    "# create confusion matrix\n",
    "# cf_matrix_Gaussian_vect = confusion_matrix(y_test, y_pred_NB_Gaussian_vect)\n",
    "# print(cf_matrix_Gaussian_vect)\n"
   ]
  },
  {
   "cell_type": "code",
   "execution_count": null,
   "id": "4d4350d0",
   "metadata": {},
   "outputs": [],
   "source": []
  },
  {
   "cell_type": "code",
   "execution_count": null,
   "id": "0a764c28",
   "metadata": {},
   "outputs": [],
   "source": []
  },
  {
   "cell_type": "code",
   "execution_count": null,
   "id": "eaed4c55",
   "metadata": {},
   "outputs": [],
   "source": []
  },
  {
   "cell_type": "markdown",
   "id": "c238c816",
   "metadata": {},
   "source": [
    "# GradientBoosting Model\n"
   ]
  },
  {
   "cell_type": "code",
   "execution_count": 76,
   "id": "4f2c7423",
   "metadata": {},
   "outputs": [],
   "source": [
    "from sklearn.ensemble import GradientBoostingClassifier\n",
    "from sklearn.model_selection import train_test_split\n",
    "from sklearn.metrics import accuracy_score\n",
    "\n",
    "# Create a GradientBoostingClassifier object\n",
    "GradBoost_vect = GradientBoostingClassifier(n_estimators=10, learning_rate=0.1, max_depth=3)\n"
   ]
  },
  {
   "cell_type": "code",
   "execution_count": 77,
   "id": "1c0ba33b",
   "metadata": {},
   "outputs": [
    {
     "data": {
      "text/html": [
       "<style>#sk-container-id-5 {color: black;background-color: white;}#sk-container-id-5 pre{padding: 0;}#sk-container-id-5 div.sk-toggleable {background-color: white;}#sk-container-id-5 label.sk-toggleable__label {cursor: pointer;display: block;width: 100%;margin-bottom: 0;padding: 0.3em;box-sizing: border-box;text-align: center;}#sk-container-id-5 label.sk-toggleable__label-arrow:before {content: \"▸\";float: left;margin-right: 0.25em;color: #696969;}#sk-container-id-5 label.sk-toggleable__label-arrow:hover:before {color: black;}#sk-container-id-5 div.sk-estimator:hover label.sk-toggleable__label-arrow:before {color: black;}#sk-container-id-5 div.sk-toggleable__content {max-height: 0;max-width: 0;overflow: hidden;text-align: left;background-color: #f0f8ff;}#sk-container-id-5 div.sk-toggleable__content pre {margin: 0.2em;color: black;border-radius: 0.25em;background-color: #f0f8ff;}#sk-container-id-5 input.sk-toggleable__control:checked~div.sk-toggleable__content {max-height: 200px;max-width: 100%;overflow: auto;}#sk-container-id-5 input.sk-toggleable__control:checked~label.sk-toggleable__label-arrow:before {content: \"▾\";}#sk-container-id-5 div.sk-estimator input.sk-toggleable__control:checked~label.sk-toggleable__label {background-color: #d4ebff;}#sk-container-id-5 div.sk-label input.sk-toggleable__control:checked~label.sk-toggleable__label {background-color: #d4ebff;}#sk-container-id-5 input.sk-hidden--visually {border: 0;clip: rect(1px 1px 1px 1px);clip: rect(1px, 1px, 1px, 1px);height: 1px;margin: -1px;overflow: hidden;padding: 0;position: absolute;width: 1px;}#sk-container-id-5 div.sk-estimator {font-family: monospace;background-color: #f0f8ff;border: 1px dotted black;border-radius: 0.25em;box-sizing: border-box;margin-bottom: 0.5em;}#sk-container-id-5 div.sk-estimator:hover {background-color: #d4ebff;}#sk-container-id-5 div.sk-parallel-item::after {content: \"\";width: 100%;border-bottom: 1px solid gray;flex-grow: 1;}#sk-container-id-5 div.sk-label:hover label.sk-toggleable__label {background-color: #d4ebff;}#sk-container-id-5 div.sk-serial::before {content: \"\";position: absolute;border-left: 1px solid gray;box-sizing: border-box;top: 0;bottom: 0;left: 50%;z-index: 0;}#sk-container-id-5 div.sk-serial {display: flex;flex-direction: column;align-items: center;background-color: white;padding-right: 0.2em;padding-left: 0.2em;position: relative;}#sk-container-id-5 div.sk-item {position: relative;z-index: 1;}#sk-container-id-5 div.sk-parallel {display: flex;align-items: stretch;justify-content: center;background-color: white;position: relative;}#sk-container-id-5 div.sk-item::before, #sk-container-id-5 div.sk-parallel-item::before {content: \"\";position: absolute;border-left: 1px solid gray;box-sizing: border-box;top: 0;bottom: 0;left: 50%;z-index: -1;}#sk-container-id-5 div.sk-parallel-item {display: flex;flex-direction: column;z-index: 1;position: relative;background-color: white;}#sk-container-id-5 div.sk-parallel-item:first-child::after {align-self: flex-end;width: 50%;}#sk-container-id-5 div.sk-parallel-item:last-child::after {align-self: flex-start;width: 50%;}#sk-container-id-5 div.sk-parallel-item:only-child::after {width: 0;}#sk-container-id-5 div.sk-dashed-wrapped {border: 1px dashed gray;margin: 0 0.4em 0.5em 0.4em;box-sizing: border-box;padding-bottom: 0.4em;background-color: white;}#sk-container-id-5 div.sk-label label {font-family: monospace;font-weight: bold;display: inline-block;line-height: 1.2em;}#sk-container-id-5 div.sk-label-container {text-align: center;}#sk-container-id-5 div.sk-container {/* jupyter's `normalize.less` sets `[hidden] { display: none; }` but bootstrap.min.css set `[hidden] { display: none !important; }` so we also need the `!important` here to be able to override the default hidden behavior on the sphinx rendered scikit-learn.org. See: https://github.com/scikit-learn/scikit-learn/issues/21755 */display: inline-block !important;position: relative;}#sk-container-id-5 div.sk-text-repr-fallback {display: none;}</style><div id=\"sk-container-id-5\" class=\"sk-top-container\"><div class=\"sk-text-repr-fallback\"><pre>GradientBoostingClassifier(n_estimators=10)</pre><b>In a Jupyter environment, please rerun this cell to show the HTML representation or trust the notebook. <br />On GitHub, the HTML representation is unable to render, please try loading this page with nbviewer.org.</b></div><div class=\"sk-container\" hidden><div class=\"sk-item\"><div class=\"sk-estimator sk-toggleable\"><input class=\"sk-toggleable__control sk-hidden--visually\" id=\"sk-estimator-id-5\" type=\"checkbox\" checked><label for=\"sk-estimator-id-5\" class=\"sk-toggleable__label sk-toggleable__label-arrow\">GradientBoostingClassifier</label><div class=\"sk-toggleable__content\"><pre>GradientBoostingClassifier(n_estimators=10)</pre></div></div></div></div></div>"
      ],
      "text/plain": [
       "GradientBoostingClassifier(n_estimators=10)"
      ]
     },
     "execution_count": 77,
     "metadata": {},
     "output_type": "execute_result"
    }
   ],
   "source": [
    "# Fit the model on the training data\n",
    "GradBoost_vect.fit(X_train_text, Y_train)\n",
    "\n",
    "# takes 10 minutes"
   ]
  },
  {
   "cell_type": "code",
   "execution_count": 78,
   "id": "111efc3c",
   "metadata": {},
   "outputs": [],
   "source": [
    "# Make predictions on the test data\n",
    "y_pred_GradBoost_vect = GradBoost_vect.predict(X_test_text)\n"
   ]
  },
  {
   "cell_type": "code",
   "execution_count": 79,
   "id": "554a2c35",
   "metadata": {},
   "outputs": [
    {
     "data": {
      "text/plain": [
       "0.6890726096333573"
      ]
     },
     "execution_count": 79,
     "metadata": {},
     "output_type": "execute_result"
    }
   ],
   "source": [
    "# Evaluate the model with accuracy\n",
    "accuracy_GradBoost_vect = accuracy_score(Y_test, y_pred_GradBoost_vect)\n",
    "accuracy_GradBoost_vect\n",
    "\n",
    "# 0.69"
   ]
  },
  {
   "cell_type": "code",
   "execution_count": 80,
   "id": "25dce674",
   "metadata": {},
   "outputs": [
    {
     "data": {
      "text/plain": [
       "0.6323451280416533"
      ]
     },
     "execution_count": 80,
     "metadata": {},
     "output_type": "execute_result"
    }
   ],
   "source": [
    "# Evaluate the model with f1 score\n",
    "from sklearn.metrics import f1_score\n",
    "\n",
    "f1_GradBoost_vect = f1_score(Y_test, y_pred_GradBoost_vect)\n",
    "f1_GradBoost_vect\n",
    "\n",
    "# 0.63"
   ]
  },
  {
   "cell_type": "code",
   "execution_count": 81,
   "id": "4d826557",
   "metadata": {},
   "outputs": [
    {
     "data": {
      "text/html": [
       "<div>\n",
       "<style scoped>\n",
       "    .dataframe tbody tr th:only-of-type {\n",
       "        vertical-align: middle;\n",
       "    }\n",
       "\n",
       "    .dataframe tbody tr th {\n",
       "        vertical-align: top;\n",
       "    }\n",
       "\n",
       "    .dataframe thead th {\n",
       "        text-align: right;\n",
       "    }\n",
       "</style>\n",
       "<table border=\"1\" class=\"dataframe\">\n",
       "  <thead>\n",
       "    <tr style=\"text-align: right;\">\n",
       "      <th>predict</th>\n",
       "      <th>0.0</th>\n",
       "      <th>1.0</th>\n",
       "    </tr>\n",
       "    <tr>\n",
       "      <th>true</th>\n",
       "      <th></th>\n",
       "      <th></th>\n",
       "    </tr>\n",
       "  </thead>\n",
       "  <tbody>\n",
       "    <tr>\n",
       "      <th>0.0</th>\n",
       "      <td>9385</td>\n",
       "      <td>2856</td>\n",
       "    </tr>\n",
       "    <tr>\n",
       "      <th>1.0</th>\n",
       "      <td>4064</td>\n",
       "      <td>5951</td>\n",
       "    </tr>\n",
       "  </tbody>\n",
       "</table>\n",
       "</div>"
      ],
      "text/plain": [
       "predict   0.0   1.0\n",
       "true               \n",
       "0.0      9385  2856\n",
       "1.0      4064  5951"
      ]
     },
     "execution_count": 81,
     "metadata": {},
     "output_type": "execute_result"
    }
   ],
   "source": [
    "# Get crosstab\n",
    "pd.crosstab(Y_test, y_pred_GradBoost_vect, rownames=[\"true\"], colnames=[\"predict\"])\n"
   ]
  },
  {
   "cell_type": "code",
   "execution_count": 82,
   "id": "6f5f3356",
   "metadata": {},
   "outputs": [
    {
     "name": "stdout",
     "output_type": "stream",
     "text": [
      "GradientBoosting vect classification report:\n",
      "                precision    recall  f1-score   support\n",
      "\n",
      "         0.0       0.70      0.77      0.73     12241\n",
      "         1.0       0.68      0.59      0.63     10015\n",
      "\n",
      "    accuracy                           0.69     22256\n",
      "   macro avg       0.69      0.68      0.68     22256\n",
      "weighted avg       0.69      0.69      0.69     22256\n",
      "\n"
     ]
    }
   ],
   "source": [
    "# from sklearn.metrics import classification_report \n",
    "\n",
    "# get classification report\n",
    "print(\"GradientBoosting vect classification report:\\n \", classification_report (Y_test, y_pred_GradBoost_vect))\n"
   ]
  },
  {
   "cell_type": "code",
   "execution_count": 83,
   "id": "4fbb8d39",
   "metadata": {},
   "outputs": [
    {
     "name": "stdout",
     "output_type": "stream",
     "text": [
      "[[9385 2856]\n",
      " [4064 5951]]\n"
     ]
    }
   ],
   "source": [
    "# create confusion matrix\n",
    "cf_matrix_GradBoost_vect = confusion_matrix(Y_test, y_pred_GradBoost_vect)\n",
    "print(cf_matrix_GradBoost_vect)\n"
   ]
  },
  {
   "cell_type": "code",
   "execution_count": null,
   "id": "9180dc7c",
   "metadata": {},
   "outputs": [],
   "source": []
  },
  {
   "cell_type": "code",
   "execution_count": null,
   "id": "794c4f68",
   "metadata": {},
   "outputs": [],
   "source": []
  },
  {
   "cell_type": "code",
   "execution_count": null,
   "id": "eedcb022",
   "metadata": {},
   "outputs": [],
   "source": []
  },
  {
   "cell_type": "markdown",
   "id": "9933b50d",
   "metadata": {},
   "source": [
    "# CatBoost Model\n"
   ]
  },
  {
   "cell_type": "code",
   "execution_count": 162,
   "id": "6453d914",
   "metadata": {},
   "outputs": [],
   "source": [
    "import catboost as cb\n",
    "from sklearn.model_selection import train_test_split\n",
    "from sklearn.metrics import accuracy_score\n",
    "\n",
    "# Create a CatBoost classifier object\n",
    "catboost_vect = cb.CatBoostClassifier(iterations=50, learning_rate=0.1, depth=6, loss_function='Logloss')\n"
   ]
  },
  {
   "cell_type": "code",
   "execution_count": 163,
   "id": "895243c0",
   "metadata": {},
   "outputs": [
    {
     "name": "stdout",
     "output_type": "stream",
     "text": [
      "0:\tlearn: 0.6734934\ttotal: 23.9s\tremaining: 19m 32s\n",
      "1:\tlearn: 0.6585292\ttotal: 44.6s\tremaining: 17m 50s\n",
      "2:\tlearn: 0.6469595\ttotal: 1m 3s\tremaining: 16m 39s\n",
      "3:\tlearn: 0.6340375\ttotal: 1m 24s\tremaining: 16m 16s\n",
      "4:\tlearn: 0.6265401\ttotal: 1m 41s\tremaining: 15m 13s\n",
      "5:\tlearn: 0.6182922\ttotal: 1m 58s\tremaining: 14m 28s\n",
      "6:\tlearn: 0.6118820\ttotal: 2m 12s\tremaining: 13m 31s\n",
      "7:\tlearn: 0.6056858\ttotal: 2m 25s\tremaining: 12m 46s\n",
      "8:\tlearn: 0.5998679\ttotal: 2m 43s\tremaining: 12m 22s\n",
      "9:\tlearn: 0.5934018\ttotal: 2m 59s\tremaining: 11m 56s\n",
      "10:\tlearn: 0.5889115\ttotal: 3m 14s\tremaining: 11m 28s\n",
      "11:\tlearn: 0.5844879\ttotal: 3m 30s\tremaining: 11m 8s\n",
      "12:\tlearn: 0.5804243\ttotal: 3m 46s\tremaining: 10m 45s\n",
      "13:\tlearn: 0.5762772\ttotal: 4m 1s\tremaining: 10m 21s\n",
      "14:\tlearn: 0.5724252\ttotal: 4m 16s\tremaining: 9m 59s\n",
      "15:\tlearn: 0.5680659\ttotal: 4m 32s\tremaining: 9m 38s\n",
      "16:\tlearn: 0.5630875\ttotal: 4m 46s\tremaining: 9m 15s\n",
      "17:\tlearn: 0.5593408\ttotal: 5m 1s\tremaining: 8m 55s\n",
      "18:\tlearn: 0.5555182\ttotal: 5m 17s\tremaining: 8m 38s\n",
      "19:\tlearn: 0.5532336\ttotal: 5m 32s\tremaining: 8m 18s\n",
      "20:\tlearn: 0.5501836\ttotal: 5m 46s\tremaining: 7m 58s\n",
      "21:\tlearn: 0.5476449\ttotal: 6m 1s\tremaining: 7m 39s\n",
      "22:\tlearn: 0.5444875\ttotal: 6m 16s\tremaining: 7m 22s\n",
      "23:\tlearn: 0.5422721\ttotal: 6m 33s\tremaining: 7m 6s\n",
      "24:\tlearn: 0.5397028\ttotal: 6m 49s\tremaining: 6m 49s\n",
      "25:\tlearn: 0.5369125\ttotal: 7m 2s\tremaining: 6m 30s\n",
      "26:\tlearn: 0.5344867\ttotal: 7m 17s\tremaining: 6m 12s\n",
      "27:\tlearn: 0.5324179\ttotal: 7m 32s\tremaining: 5m 55s\n",
      "28:\tlearn: 0.5307291\ttotal: 7m 47s\tremaining: 5m 38s\n",
      "29:\tlearn: 0.5282156\ttotal: 8m 1s\tremaining: 5m 20s\n",
      "30:\tlearn: 0.5261014\ttotal: 8m 17s\tremaining: 5m 4s\n",
      "31:\tlearn: 0.5242291\ttotal: 8m 31s\tremaining: 4m 47s\n",
      "32:\tlearn: 0.5223667\ttotal: 8m 46s\tremaining: 4m 30s\n",
      "33:\tlearn: 0.5207095\ttotal: 8m 59s\tremaining: 4m 13s\n",
      "34:\tlearn: 0.5190226\ttotal: 9m 14s\tremaining: 3m 57s\n",
      "35:\tlearn: 0.5166137\ttotal: 9m 28s\tremaining: 3m 41s\n",
      "36:\tlearn: 0.5151158\ttotal: 9m 42s\tremaining: 3m 24s\n",
      "37:\tlearn: 0.5136051\ttotal: 9m 56s\tremaining: 3m 8s\n",
      "38:\tlearn: 0.5119773\ttotal: 10m 12s\tremaining: 2m 52s\n",
      "39:\tlearn: 0.5101611\ttotal: 10m 27s\tremaining: 2m 36s\n",
      "40:\tlearn: 0.5087721\ttotal: 10m 43s\tremaining: 2m 21s\n",
      "41:\tlearn: 0.5071573\ttotal: 10m 58s\tremaining: 2m 5s\n",
      "42:\tlearn: 0.5056017\ttotal: 11m 14s\tremaining: 1m 49s\n",
      "43:\tlearn: 0.5040520\ttotal: 11m 31s\tremaining: 1m 34s\n",
      "44:\tlearn: 0.5024474\ttotal: 11m 47s\tremaining: 1m 18s\n",
      "45:\tlearn: 0.5008116\ttotal: 12m\tremaining: 1m 2s\n",
      "46:\tlearn: 0.4992835\ttotal: 12m 14s\tremaining: 46.9s\n",
      "47:\tlearn: 0.4981322\ttotal: 12m 29s\tremaining: 31.2s\n",
      "48:\tlearn: 0.4968690\ttotal: 12m 43s\tremaining: 15.6s\n",
      "49:\tlearn: 0.4957065\ttotal: 12m 57s\tremaining: 0us\n"
     ]
    },
    {
     "data": {
      "text/plain": [
       "<catboost.core.CatBoostClassifier at 0x1ccc9111ba0>"
      ]
     },
     "execution_count": 163,
     "metadata": {},
     "output_type": "execute_result"
    }
   ],
   "source": [
    "# Fit the model on the training data\n",
    "catboost_vect.fit(X_train_text, Y_train)\n",
    "\n",
    "# takes 8 minutes for 20 iterations\n",
    "# takes XXX minutes for 50 iterations\n"
   ]
  },
  {
   "cell_type": "code",
   "execution_count": 164,
   "id": "f7c26dd8",
   "metadata": {},
   "outputs": [
    {
     "data": {
      "text/plain": [
       "0.779744787922358"
      ]
     },
     "execution_count": 164,
     "metadata": {},
     "output_type": "execute_result"
    }
   ],
   "source": [
    "# get accuracy\n",
    "accuracy_CatBoost_vect = catboost_vect.score(X_test_text, Y_test)\n",
    "accuracy_CatBoost_vect\n",
    "\n",
    "# 0.74 for 20 iterations\n",
    "# 0.7797 for 50 iterations\n"
   ]
  },
  {
   "cell_type": "code",
   "execution_count": 165,
   "id": "b1962a90",
   "metadata": {},
   "outputs": [],
   "source": [
    "# Make predictions on the test data\n",
    "y_pred_CatBoost_vect = catboost_vect.predict(X_test_text)\n"
   ]
  },
  {
   "cell_type": "code",
   "execution_count": 166,
   "id": "39aba74d",
   "metadata": {},
   "outputs": [
    {
     "data": {
      "text/plain": [
       "0.7426771653543308"
      ]
     },
     "execution_count": 166,
     "metadata": {},
     "output_type": "execute_result"
    }
   ],
   "source": [
    "# Evaluate the model with f1 score\n",
    "from sklearn.metrics import f1_score\n",
    "\n",
    "f1_CatBoost_vect = f1_score(Y_test, y_pred_CatBoost_vect)\n",
    "f1_CatBoost_vect\n",
    "\n",
    "# 0.70 for 20 iterations\n",
    "# 0.74 for 50 iterations\n"
   ]
  },
  {
   "cell_type": "code",
   "execution_count": 167,
   "id": "18b0b938",
   "metadata": {},
   "outputs": [
    {
     "data": {
      "text/html": [
       "<div>\n",
       "<style scoped>\n",
       "    .dataframe tbody tr th:only-of-type {\n",
       "        vertical-align: middle;\n",
       "    }\n",
       "\n",
       "    .dataframe tbody tr th {\n",
       "        vertical-align: top;\n",
       "    }\n",
       "\n",
       "    .dataframe thead th {\n",
       "        text-align: right;\n",
       "    }\n",
       "</style>\n",
       "<table border=\"1\" class=\"dataframe\">\n",
       "  <thead>\n",
       "    <tr style=\"text-align: right;\">\n",
       "      <th>predict</th>\n",
       "      <th>0.0</th>\n",
       "      <th>1.0</th>\n",
       "    </tr>\n",
       "    <tr>\n",
       "      <th>true</th>\n",
       "      <th></th>\n",
       "      <th></th>\n",
       "    </tr>\n",
       "  </thead>\n",
       "  <tbody>\n",
       "    <tr>\n",
       "      <th>0.0</th>\n",
       "      <td>10280</td>\n",
       "      <td>1961</td>\n",
       "    </tr>\n",
       "    <tr>\n",
       "      <th>1.0</th>\n",
       "      <td>2941</td>\n",
       "      <td>7074</td>\n",
       "    </tr>\n",
       "  </tbody>\n",
       "</table>\n",
       "</div>"
      ],
      "text/plain": [
       "predict    0.0   1.0\n",
       "true                \n",
       "0.0      10280  1961\n",
       "1.0       2941  7074"
      ]
     },
     "execution_count": 167,
     "metadata": {},
     "output_type": "execute_result"
    }
   ],
   "source": [
    "# Get crosstab\n",
    "pd.crosstab(Y_test, y_pred_CatBoost_vect, rownames=[\"true\"], colnames=[\"predict\"])\n"
   ]
  },
  {
   "cell_type": "code",
   "execution_count": 168,
   "id": "cf022fb0",
   "metadata": {},
   "outputs": [
    {
     "name": "stdout",
     "output_type": "stream",
     "text": [
      "CatBoost vect classification report:\n",
      "                precision    recall  f1-score   support\n",
      "\n",
      "         0.0       0.78      0.84      0.81     12241\n",
      "         1.0       0.78      0.71      0.74     10015\n",
      "\n",
      "    accuracy                           0.78     22256\n",
      "   macro avg       0.78      0.77      0.78     22256\n",
      "weighted avg       0.78      0.78      0.78     22256\n",
      "\n"
     ]
    }
   ],
   "source": [
    "# from sklearn.metrics import classification_report \n",
    "\n",
    "# get classification report\n",
    "print(\"CatBoost vect classification report:\\n \", classification_report (Y_test, y_pred_CatBoost_vect))\n"
   ]
  },
  {
   "cell_type": "code",
   "execution_count": 169,
   "id": "ea25d4ce",
   "metadata": {},
   "outputs": [
    {
     "name": "stdout",
     "output_type": "stream",
     "text": [
      "[[10280  1961]\n",
      " [ 2941  7074]]\n"
     ]
    }
   ],
   "source": [
    "# create confusion matrix\n",
    "cf_matrix_CatBoost_vect = confusion_matrix(Y_test, y_pred_CatBoost_vect)\n",
    "print(cf_matrix_CatBoost_vect)\n"
   ]
  },
  {
   "cell_type": "code",
   "execution_count": null,
   "id": "8c307983",
   "metadata": {},
   "outputs": [],
   "source": []
  },
  {
   "cell_type": "code",
   "execution_count": null,
   "id": "99047d9c",
   "metadata": {},
   "outputs": [],
   "source": []
  },
  {
   "cell_type": "markdown",
   "id": "1de7df85",
   "metadata": {},
   "source": [
    "# XGBoost"
   ]
  },
  {
   "cell_type": "code",
   "execution_count": 92,
   "id": "a08aff42",
   "metadata": {},
   "outputs": [],
   "source": [
    "import xgboost as xgb\n",
    "from sklearn.model_selection import train_test_split\n",
    "from sklearn.metrics import accuracy_score\n",
    "\n",
    "# Create a DMatrix for training and testing data\n",
    "dtrain_vect = xgb.DMatrix(X_train_text, label=Y_train)\n",
    "dtest_vect = xgb.DMatrix(X_test_text, label=Y_test)\n"
   ]
  },
  {
   "cell_type": "code",
   "execution_count": 93,
   "id": "c506d4b8",
   "metadata": {},
   "outputs": [],
   "source": [
    "# Set the hyperparameters for XGBoost\n",
    "params_XGBoost = {\n",
    "    'max_depth': 3,\n",
    "    'eta': 0.1,\n",
    "    'objective': 'binary:logistic',\n",
    "    'eval_metric': 'logloss'\n",
    "}\n"
   ]
  },
  {
   "cell_type": "code",
   "execution_count": 94,
   "id": "2eabeed4",
   "metadata": {},
   "outputs": [],
   "source": [
    "# Train the model\n",
    "XGBoostmodel_vect = xgb.train(params_XGBoost, dtrain_vect, num_boost_round=100)\n",
    "\n",
    "# Takes 7 Minutes\n"
   ]
  },
  {
   "cell_type": "code",
   "execution_count": 95,
   "id": "e850e7fe",
   "metadata": {},
   "outputs": [],
   "source": [
    "# Make predictions on the test data\n",
    "y_pred_XGBoost_vect = XGBoostmodel_vect.predict(dtest_vect)\n",
    "y_pred_binary_vect = [1 if pred >= 0.5 else 0 for pred in y_pred_XGBoost_vect]\n"
   ]
  },
  {
   "cell_type": "code",
   "execution_count": 96,
   "id": "c1918877",
   "metadata": {},
   "outputs": [
    {
     "data": {
      "text/plain": [
       "0.7777228612508986"
      ]
     },
     "execution_count": 96,
     "metadata": {},
     "output_type": "execute_result"
    }
   ],
   "source": [
    "# Evaluate the model with accuracy\n",
    "accuracy_XGBoost_vect = accuracy_score(Y_test, y_pred_binary_vect)\n",
    "accuracy_XGBoost_vect\n",
    "\n",
    "# 0.78"
   ]
  },
  {
   "cell_type": "code",
   "execution_count": 97,
   "id": "66af1a33",
   "metadata": {},
   "outputs": [
    {
     "data": {
      "text/plain": [
       "0.7417114812300946"
      ]
     },
     "execution_count": 97,
     "metadata": {},
     "output_type": "execute_result"
    }
   ],
   "source": [
    "# Evaluate the model with f1 score\n",
    "from sklearn.metrics import f1_score\n",
    "\n",
    "f1_XGBoost_vect = f1_score(Y_test, y_pred_binary_vect)\n",
    "f1_XGBoost_vect\n",
    "\n",
    "# 0.74"
   ]
  },
  {
   "cell_type": "code",
   "execution_count": 98,
   "id": "3707f889",
   "metadata": {},
   "outputs": [
    {
     "data": {
      "text/html": [
       "<div>\n",
       "<style scoped>\n",
       "    .dataframe tbody tr th:only-of-type {\n",
       "        vertical-align: middle;\n",
       "    }\n",
       "\n",
       "    .dataframe tbody tr th {\n",
       "        vertical-align: top;\n",
       "    }\n",
       "\n",
       "    .dataframe thead th {\n",
       "        text-align: right;\n",
       "    }\n",
       "</style>\n",
       "<table border=\"1\" class=\"dataframe\">\n",
       "  <thead>\n",
       "    <tr style=\"text-align: right;\">\n",
       "      <th>predict</th>\n",
       "      <th>0</th>\n",
       "      <th>1</th>\n",
       "    </tr>\n",
       "    <tr>\n",
       "      <th>true</th>\n",
       "      <th></th>\n",
       "      <th></th>\n",
       "    </tr>\n",
       "  </thead>\n",
       "  <tbody>\n",
       "    <tr>\n",
       "      <th>0.0</th>\n",
       "      <td>10206</td>\n",
       "      <td>2035</td>\n",
       "    </tr>\n",
       "    <tr>\n",
       "      <th>1.0</th>\n",
       "      <td>2912</td>\n",
       "      <td>7103</td>\n",
       "    </tr>\n",
       "  </tbody>\n",
       "</table>\n",
       "</div>"
      ],
      "text/plain": [
       "predict      0     1\n",
       "true                \n",
       "0.0      10206  2035\n",
       "1.0       2912  7103"
      ]
     },
     "execution_count": 98,
     "metadata": {},
     "output_type": "execute_result"
    }
   ],
   "source": [
    "# Create crosstab\n",
    "pd.crosstab(Y_test, y_pred_binary_vect, rownames=[\"true\"], colnames=[\"predict\"])\n"
   ]
  },
  {
   "cell_type": "code",
   "execution_count": 99,
   "id": "6f4e595b",
   "metadata": {},
   "outputs": [],
   "source": [
    "from sklearn.metrics import classification_report \n",
    "\n",
    "# get classification report\n",
    "# print(\"XGBoost vect classification report:\\n \", classification_report (y_test, y_pred_binary_vect))\n",
    "\n",
    "# not possible"
   ]
  },
  {
   "cell_type": "code",
   "execution_count": 150,
   "id": "b2e9d1cd",
   "metadata": {},
   "outputs": [
    {
     "name": "stdout",
     "output_type": "stream",
     "text": [
      "[[10206  2035]\n",
      " [ 2912  7103]]\n"
     ]
    }
   ],
   "source": [
    "# create confusion matrix\n",
    "cf_matrix_XGBoost_vect = confusion_matrix(Y_test, y_pred_binary_vect)\n",
    "print(cf_matrix_XGBoost_vect)"
   ]
  },
  {
   "cell_type": "code",
   "execution_count": null,
   "id": "31a27a33",
   "metadata": {},
   "outputs": [],
   "source": []
  },
  {
   "cell_type": "code",
   "execution_count": null,
   "id": "908f00c8",
   "metadata": {},
   "outputs": [],
   "source": []
  },
  {
   "cell_type": "markdown",
   "id": "2279b5e3",
   "metadata": {},
   "source": [
    "# CREATE KNN ON TEXT DATA\n",
    "# TAKES 2 hours!\n"
   ]
  },
  {
   "cell_type": "code",
   "execution_count": 275,
   "id": "ccc7e760",
   "metadata": {},
   "outputs": [],
   "source": [
    "# STEP 3: Instantiate the model\n",
    "# from sklearn.neighbors import KNeighborsClassifier\n",
    "\n",
    "# knn = KNeighborsClassifier(n_neighbors = 3)\n"
   ]
  },
  {
   "cell_type": "code",
   "execution_count": 276,
   "id": "4951fddd",
   "metadata": {},
   "outputs": [
    {
     "data": {
      "text/html": [
       "<style>#sk-container-id-9 {color: black;background-color: white;}#sk-container-id-9 pre{padding: 0;}#sk-container-id-9 div.sk-toggleable {background-color: white;}#sk-container-id-9 label.sk-toggleable__label {cursor: pointer;display: block;width: 100%;margin-bottom: 0;padding: 0.3em;box-sizing: border-box;text-align: center;}#sk-container-id-9 label.sk-toggleable__label-arrow:before {content: \"▸\";float: left;margin-right: 0.25em;color: #696969;}#sk-container-id-9 label.sk-toggleable__label-arrow:hover:before {color: black;}#sk-container-id-9 div.sk-estimator:hover label.sk-toggleable__label-arrow:before {color: black;}#sk-container-id-9 div.sk-toggleable__content {max-height: 0;max-width: 0;overflow: hidden;text-align: left;background-color: #f0f8ff;}#sk-container-id-9 div.sk-toggleable__content pre {margin: 0.2em;color: black;border-radius: 0.25em;background-color: #f0f8ff;}#sk-container-id-9 input.sk-toggleable__control:checked~div.sk-toggleable__content {max-height: 200px;max-width: 100%;overflow: auto;}#sk-container-id-9 input.sk-toggleable__control:checked~label.sk-toggleable__label-arrow:before {content: \"▾\";}#sk-container-id-9 div.sk-estimator input.sk-toggleable__control:checked~label.sk-toggleable__label {background-color: #d4ebff;}#sk-container-id-9 div.sk-label input.sk-toggleable__control:checked~label.sk-toggleable__label {background-color: #d4ebff;}#sk-container-id-9 input.sk-hidden--visually {border: 0;clip: rect(1px 1px 1px 1px);clip: rect(1px, 1px, 1px, 1px);height: 1px;margin: -1px;overflow: hidden;padding: 0;position: absolute;width: 1px;}#sk-container-id-9 div.sk-estimator {font-family: monospace;background-color: #f0f8ff;border: 1px dotted black;border-radius: 0.25em;box-sizing: border-box;margin-bottom: 0.5em;}#sk-container-id-9 div.sk-estimator:hover {background-color: #d4ebff;}#sk-container-id-9 div.sk-parallel-item::after {content: \"\";width: 100%;border-bottom: 1px solid gray;flex-grow: 1;}#sk-container-id-9 div.sk-label:hover label.sk-toggleable__label {background-color: #d4ebff;}#sk-container-id-9 div.sk-serial::before {content: \"\";position: absolute;border-left: 1px solid gray;box-sizing: border-box;top: 0;bottom: 0;left: 50%;z-index: 0;}#sk-container-id-9 div.sk-serial {display: flex;flex-direction: column;align-items: center;background-color: white;padding-right: 0.2em;padding-left: 0.2em;position: relative;}#sk-container-id-9 div.sk-item {position: relative;z-index: 1;}#sk-container-id-9 div.sk-parallel {display: flex;align-items: stretch;justify-content: center;background-color: white;position: relative;}#sk-container-id-9 div.sk-item::before, #sk-container-id-9 div.sk-parallel-item::before {content: \"\";position: absolute;border-left: 1px solid gray;box-sizing: border-box;top: 0;bottom: 0;left: 50%;z-index: -1;}#sk-container-id-9 div.sk-parallel-item {display: flex;flex-direction: column;z-index: 1;position: relative;background-color: white;}#sk-container-id-9 div.sk-parallel-item:first-child::after {align-self: flex-end;width: 50%;}#sk-container-id-9 div.sk-parallel-item:last-child::after {align-self: flex-start;width: 50%;}#sk-container-id-9 div.sk-parallel-item:only-child::after {width: 0;}#sk-container-id-9 div.sk-dashed-wrapped {border: 1px dashed gray;margin: 0 0.4em 0.5em 0.4em;box-sizing: border-box;padding-bottom: 0.4em;background-color: white;}#sk-container-id-9 div.sk-label label {font-family: monospace;font-weight: bold;display: inline-block;line-height: 1.2em;}#sk-container-id-9 div.sk-label-container {text-align: center;}#sk-container-id-9 div.sk-container {/* jupyter's `normalize.less` sets `[hidden] { display: none; }` but bootstrap.min.css set `[hidden] { display: none !important; }` so we also need the `!important` here to be able to override the default hidden behavior on the sphinx rendered scikit-learn.org. See: https://github.com/scikit-learn/scikit-learn/issues/21755 */display: inline-block !important;position: relative;}#sk-container-id-9 div.sk-text-repr-fallback {display: none;}</style><div id=\"sk-container-id-9\" class=\"sk-top-container\"><div class=\"sk-text-repr-fallback\"><pre>KNeighborsClassifier(n_neighbors=3)</pre><b>In a Jupyter environment, please rerun this cell to show the HTML representation or trust the notebook. <br />On GitHub, the HTML representation is unable to render, please try loading this page with nbviewer.org.</b></div><div class=\"sk-container\" hidden><div class=\"sk-item\"><div class=\"sk-estimator sk-toggleable\"><input class=\"sk-toggleable__control sk-hidden--visually\" id=\"sk-estimator-id-9\" type=\"checkbox\" checked><label for=\"sk-estimator-id-9\" class=\"sk-toggleable__label sk-toggleable__label-arrow\">KNeighborsClassifier</label><div class=\"sk-toggleable__content\"><pre>KNeighborsClassifier(n_neighbors=3)</pre></div></div></div></div></div>"
      ],
      "text/plain": [
       "KNeighborsClassifier(n_neighbors=3)"
      ]
     },
     "execution_count": 276,
     "metadata": {},
     "output_type": "execute_result"
    }
   ],
   "source": [
    "# STEP 4: Fit the model\n",
    "# knn.fit(X_train_text, Y_train)\n"
   ]
  },
  {
   "cell_type": "code",
   "execution_count": null,
   "id": "52591574",
   "metadata": {},
   "outputs": [],
   "source": [
    "# STEP 5: Predict\n",
    "# y_pred_knn_vect = knn.predict(X_test_text)\n"
   ]
  },
  {
   "cell_type": "code",
   "execution_count": null,
   "id": "460cd48b",
   "metadata": {},
   "outputs": [],
   "source": [
    "# STEP 8: Evaluate model with accuracy\n",
    "# get accuracy\n",
    "# accuracy_knn_vect = knn.score(X_test_text, y_test)\n",
    "# accuracy_knn_vect\n",
    "\n",
    "# "
   ]
  },
  {
   "cell_type": "code",
   "execution_count": null,
   "id": "142ff832",
   "metadata": {},
   "outputs": [],
   "source": [
    "# Evaluate the model with f1 score\n",
    "# from sklearn.metrics import f1_score\n",
    "\n",
    "# f1_knn_vect = f1_score(Y_test, y_pred_knn_vect)\n",
    "# f1_knn_vect\n",
    "\n",
    "# "
   ]
  },
  {
   "cell_type": "code",
   "execution_count": null,
   "id": "10625087",
   "metadata": {},
   "outputs": [],
   "source": [
    "# Evaluate\n",
    "# from sklearn.metrics import accuracy_score, precision_score, recall_score \n",
    "\n",
    "# pd.crosstab(y_test, y_pred_knn_vect, rownames = ['true'], colnames = ['predicted'])\n"
   ]
  },
  {
   "cell_type": "code",
   "execution_count": null,
   "id": "1068656f",
   "metadata": {},
   "outputs": [],
   "source": [
    "# STEP 9: Evaluate model with classification report\n",
    "# from sklearn.metrics import classification_report \n",
    "\n",
    "# print(\"KNN vect classification report:\\n\", classification_report (y_test, y_pred_knn_vect))\n"
   ]
  },
  {
   "cell_type": "code",
   "execution_count": null,
   "id": "4696b9b2",
   "metadata": {},
   "outputs": [],
   "source": [
    "# create confusion matrix\n",
    "# cf_matrix_knn_vect = confusion_matrix(Y_test, y_pred_knn_vect)\n",
    "# print(cf_matrix_knn_vect)\n"
   ]
  },
  {
   "cell_type": "code",
   "execution_count": null,
   "id": "9371139d",
   "metadata": {},
   "outputs": [],
   "source": []
  },
  {
   "cell_type": "code",
   "execution_count": null,
   "id": "caf20a00",
   "metadata": {},
   "outputs": [],
   "source": []
  },
  {
   "cell_type": "code",
   "execution_count": null,
   "id": "6839ce17",
   "metadata": {},
   "outputs": [],
   "source": []
  },
  {
   "cell_type": "markdown",
   "id": "b71af495",
   "metadata": {},
   "source": [
    "# CREATE SVM MODEL ON TEXT DATA\n",
    "# TAKES 3,5 HOURS\n"
   ]
  },
  {
   "cell_type": "code",
   "execution_count": 220,
   "id": "c9632edd",
   "metadata": {},
   "outputs": [],
   "source": [
    "# Step 3: Instantiate model \n",
    "# from sklearn import svm\n",
    "# clf_SVM_vect = svm.SVC(gamma=0.01, kernel=\"poly\")\n"
   ]
  },
  {
   "cell_type": "code",
   "execution_count": 221,
   "id": "acc686f5",
   "metadata": {},
   "outputs": [
    {
     "data": {
      "text/html": [
       "<style>#sk-container-id-21 {color: black;background-color: white;}#sk-container-id-21 pre{padding: 0;}#sk-container-id-21 div.sk-toggleable {background-color: white;}#sk-container-id-21 label.sk-toggleable__label {cursor: pointer;display: block;width: 100%;margin-bottom: 0;padding: 0.3em;box-sizing: border-box;text-align: center;}#sk-container-id-21 label.sk-toggleable__label-arrow:before {content: \"▸\";float: left;margin-right: 0.25em;color: #696969;}#sk-container-id-21 label.sk-toggleable__label-arrow:hover:before {color: black;}#sk-container-id-21 div.sk-estimator:hover label.sk-toggleable__label-arrow:before {color: black;}#sk-container-id-21 div.sk-toggleable__content {max-height: 0;max-width: 0;overflow: hidden;text-align: left;background-color: #f0f8ff;}#sk-container-id-21 div.sk-toggleable__content pre {margin: 0.2em;color: black;border-radius: 0.25em;background-color: #f0f8ff;}#sk-container-id-21 input.sk-toggleable__control:checked~div.sk-toggleable__content {max-height: 200px;max-width: 100%;overflow: auto;}#sk-container-id-21 input.sk-toggleable__control:checked~label.sk-toggleable__label-arrow:before {content: \"▾\";}#sk-container-id-21 div.sk-estimator input.sk-toggleable__control:checked~label.sk-toggleable__label {background-color: #d4ebff;}#sk-container-id-21 div.sk-label input.sk-toggleable__control:checked~label.sk-toggleable__label {background-color: #d4ebff;}#sk-container-id-21 input.sk-hidden--visually {border: 0;clip: rect(1px 1px 1px 1px);clip: rect(1px, 1px, 1px, 1px);height: 1px;margin: -1px;overflow: hidden;padding: 0;position: absolute;width: 1px;}#sk-container-id-21 div.sk-estimator {font-family: monospace;background-color: #f0f8ff;border: 1px dotted black;border-radius: 0.25em;box-sizing: border-box;margin-bottom: 0.5em;}#sk-container-id-21 div.sk-estimator:hover {background-color: #d4ebff;}#sk-container-id-21 div.sk-parallel-item::after {content: \"\";width: 100%;border-bottom: 1px solid gray;flex-grow: 1;}#sk-container-id-21 div.sk-label:hover label.sk-toggleable__label {background-color: #d4ebff;}#sk-container-id-21 div.sk-serial::before {content: \"\";position: absolute;border-left: 1px solid gray;box-sizing: border-box;top: 0;bottom: 0;left: 50%;z-index: 0;}#sk-container-id-21 div.sk-serial {display: flex;flex-direction: column;align-items: center;background-color: white;padding-right: 0.2em;padding-left: 0.2em;position: relative;}#sk-container-id-21 div.sk-item {position: relative;z-index: 1;}#sk-container-id-21 div.sk-parallel {display: flex;align-items: stretch;justify-content: center;background-color: white;position: relative;}#sk-container-id-21 div.sk-item::before, #sk-container-id-21 div.sk-parallel-item::before {content: \"\";position: absolute;border-left: 1px solid gray;box-sizing: border-box;top: 0;bottom: 0;left: 50%;z-index: -1;}#sk-container-id-21 div.sk-parallel-item {display: flex;flex-direction: column;z-index: 1;position: relative;background-color: white;}#sk-container-id-21 div.sk-parallel-item:first-child::after {align-self: flex-end;width: 50%;}#sk-container-id-21 div.sk-parallel-item:last-child::after {align-self: flex-start;width: 50%;}#sk-container-id-21 div.sk-parallel-item:only-child::after {width: 0;}#sk-container-id-21 div.sk-dashed-wrapped {border: 1px dashed gray;margin: 0 0.4em 0.5em 0.4em;box-sizing: border-box;padding-bottom: 0.4em;background-color: white;}#sk-container-id-21 div.sk-label label {font-family: monospace;font-weight: bold;display: inline-block;line-height: 1.2em;}#sk-container-id-21 div.sk-label-container {text-align: center;}#sk-container-id-21 div.sk-container {/* jupyter's `normalize.less` sets `[hidden] { display: none; }` but bootstrap.min.css set `[hidden] { display: none !important; }` so we also need the `!important` here to be able to override the default hidden behavior on the sphinx rendered scikit-learn.org. See: https://github.com/scikit-learn/scikit-learn/issues/21755 */display: inline-block !important;position: relative;}#sk-container-id-21 div.sk-text-repr-fallback {display: none;}</style><div id=\"sk-container-id-21\" class=\"sk-top-container\"><div class=\"sk-text-repr-fallback\"><pre>SVC(gamma=0.01, kernel=&#x27;poly&#x27;)</pre><b>In a Jupyter environment, please rerun this cell to show the HTML representation or trust the notebook. <br />On GitHub, the HTML representation is unable to render, please try loading this page with nbviewer.org.</b></div><div class=\"sk-container\" hidden><div class=\"sk-item\"><div class=\"sk-estimator sk-toggleable\"><input class=\"sk-toggleable__control sk-hidden--visually\" id=\"sk-estimator-id-21\" type=\"checkbox\" checked><label for=\"sk-estimator-id-21\" class=\"sk-toggleable__label sk-toggleable__label-arrow\">SVC</label><div class=\"sk-toggleable__content\"><pre>SVC(gamma=0.01, kernel=&#x27;poly&#x27;)</pre></div></div></div></div></div>"
      ],
      "text/plain": [
       "SVC(gamma=0.01, kernel='poly')"
      ]
     },
     "execution_count": 221,
     "metadata": {},
     "output_type": "execute_result"
    }
   ],
   "source": [
    "# Step 4: Fit the model on the training dataset\n",
    "# clf_SVM_vect.fit(X_train_text, Y_train)\n",
    "\n",
    "# takes 3,5 hours!!!\n"
   ]
  },
  {
   "cell_type": "code",
   "execution_count": null,
   "id": "e3e51929",
   "metadata": {},
   "outputs": [],
   "source": [
    "# predict\n",
    "# y_pred_SVM_vect = clf_SVM_vect.predict(X_test_text)\n"
   ]
  },
  {
   "cell_type": "code",
   "execution_count": null,
   "id": "59aaf4b7",
   "metadata": {},
   "outputs": [],
   "source": [
    "# get accuracy\n",
    "# accuracy_SVM_vect = clf_SVM_vect.score(X_test_text, Y_test)\n",
    "# accuracy_SVM_vect\n",
    "\n",
    "# takes 45 Minutes\n"
   ]
  },
  {
   "cell_type": "code",
   "execution_count": null,
   "id": "e7a6542b",
   "metadata": {},
   "outputs": [],
   "source": [
    "# Evaluate the model with f1 score\n",
    "# from sklearn.metrics import f1_score\n",
    "\n",
    "# f1_SVM_vect = f1_score(Y_test, y_pred_SVM_vect)\n",
    "# f1_SVM_vect\n",
    "\n",
    "# "
   ]
  },
  {
   "cell_type": "code",
   "execution_count": null,
   "id": "a09a79bc",
   "metadata": {},
   "outputs": [],
   "source": [
    "# get confusion matrix\n",
    "# pd.crosstab(Y_test, y_pred_SVM_vect, rownames=[\"true\"], colnames=[\"predict\"])\n",
    "\n",
    "# takes 40 Minutes\n"
   ]
  },
  {
   "cell_type": "code",
   "execution_count": null,
   "id": "9b31555c",
   "metadata": {},
   "outputs": [],
   "source": [
    "# from sklearn.metrics import classification_report \n",
    "\n",
    "# get classification report\n",
    "# print(\"SVM vect classification report:\\n \", classification_report (Y_test, y_pred_SVM_vect))\n"
   ]
  },
  {
   "cell_type": "code",
   "execution_count": null,
   "id": "2e691e96",
   "metadata": {},
   "outputs": [],
   "source": [
    "# create confusion matrix\n",
    "# cf_matrix_SVM_vect = confusion_matrix(Y_test, y_pred_SVM_vect)\n",
    "# print(cf_matrix_SVM_vect)\n"
   ]
  },
  {
   "cell_type": "code",
   "execution_count": null,
   "id": "864a63e9",
   "metadata": {},
   "outputs": [],
   "source": []
  },
  {
   "cell_type": "code",
   "execution_count": null,
   "id": "021615df",
   "metadata": {},
   "outputs": [],
   "source": []
  },
  {
   "cell_type": "code",
   "execution_count": null,
   "id": "338f87df",
   "metadata": {},
   "outputs": [],
   "source": []
  },
  {
   "cell_type": "markdown",
   "id": "f4050b29",
   "metadata": {},
   "source": [
    "# CREATE LOGISTIC REGRESSION MODEL ON TEXT DATA\n"
   ]
  },
  {
   "cell_type": "code",
   "execution_count": 101,
   "id": "de321c53",
   "metadata": {},
   "outputs": [],
   "source": [
    "# Step 3: Instantiate model \n",
    "from sklearn.linear_model import LogisticRegression\n",
    "\n",
    "clf_LogReg_vect = LogisticRegression(C=1.0)\n",
    "# clf_LogReg_vect = LogisticRegression(C=1.0, class_wight=\"balanced\")\n",
    "# clf_LogReg_vect = LogisticRegression(C=1.0, penalty=\"elasticnet\")\n"
   ]
  },
  {
   "cell_type": "code",
   "execution_count": 102,
   "id": "0b263a24",
   "metadata": {},
   "outputs": [
    {
     "data": {
      "text/html": [
       "<style>#sk-container-id-6 {color: black;background-color: white;}#sk-container-id-6 pre{padding: 0;}#sk-container-id-6 div.sk-toggleable {background-color: white;}#sk-container-id-6 label.sk-toggleable__label {cursor: pointer;display: block;width: 100%;margin-bottom: 0;padding: 0.3em;box-sizing: border-box;text-align: center;}#sk-container-id-6 label.sk-toggleable__label-arrow:before {content: \"▸\";float: left;margin-right: 0.25em;color: #696969;}#sk-container-id-6 label.sk-toggleable__label-arrow:hover:before {color: black;}#sk-container-id-6 div.sk-estimator:hover label.sk-toggleable__label-arrow:before {color: black;}#sk-container-id-6 div.sk-toggleable__content {max-height: 0;max-width: 0;overflow: hidden;text-align: left;background-color: #f0f8ff;}#sk-container-id-6 div.sk-toggleable__content pre {margin: 0.2em;color: black;border-radius: 0.25em;background-color: #f0f8ff;}#sk-container-id-6 input.sk-toggleable__control:checked~div.sk-toggleable__content {max-height: 200px;max-width: 100%;overflow: auto;}#sk-container-id-6 input.sk-toggleable__control:checked~label.sk-toggleable__label-arrow:before {content: \"▾\";}#sk-container-id-6 div.sk-estimator input.sk-toggleable__control:checked~label.sk-toggleable__label {background-color: #d4ebff;}#sk-container-id-6 div.sk-label input.sk-toggleable__control:checked~label.sk-toggleable__label {background-color: #d4ebff;}#sk-container-id-6 input.sk-hidden--visually {border: 0;clip: rect(1px 1px 1px 1px);clip: rect(1px, 1px, 1px, 1px);height: 1px;margin: -1px;overflow: hidden;padding: 0;position: absolute;width: 1px;}#sk-container-id-6 div.sk-estimator {font-family: monospace;background-color: #f0f8ff;border: 1px dotted black;border-radius: 0.25em;box-sizing: border-box;margin-bottom: 0.5em;}#sk-container-id-6 div.sk-estimator:hover {background-color: #d4ebff;}#sk-container-id-6 div.sk-parallel-item::after {content: \"\";width: 100%;border-bottom: 1px solid gray;flex-grow: 1;}#sk-container-id-6 div.sk-label:hover label.sk-toggleable__label {background-color: #d4ebff;}#sk-container-id-6 div.sk-serial::before {content: \"\";position: absolute;border-left: 1px solid gray;box-sizing: border-box;top: 0;bottom: 0;left: 50%;z-index: 0;}#sk-container-id-6 div.sk-serial {display: flex;flex-direction: column;align-items: center;background-color: white;padding-right: 0.2em;padding-left: 0.2em;position: relative;}#sk-container-id-6 div.sk-item {position: relative;z-index: 1;}#sk-container-id-6 div.sk-parallel {display: flex;align-items: stretch;justify-content: center;background-color: white;position: relative;}#sk-container-id-6 div.sk-item::before, #sk-container-id-6 div.sk-parallel-item::before {content: \"\";position: absolute;border-left: 1px solid gray;box-sizing: border-box;top: 0;bottom: 0;left: 50%;z-index: -1;}#sk-container-id-6 div.sk-parallel-item {display: flex;flex-direction: column;z-index: 1;position: relative;background-color: white;}#sk-container-id-6 div.sk-parallel-item:first-child::after {align-self: flex-end;width: 50%;}#sk-container-id-6 div.sk-parallel-item:last-child::after {align-self: flex-start;width: 50%;}#sk-container-id-6 div.sk-parallel-item:only-child::after {width: 0;}#sk-container-id-6 div.sk-dashed-wrapped {border: 1px dashed gray;margin: 0 0.4em 0.5em 0.4em;box-sizing: border-box;padding-bottom: 0.4em;background-color: white;}#sk-container-id-6 div.sk-label label {font-family: monospace;font-weight: bold;display: inline-block;line-height: 1.2em;}#sk-container-id-6 div.sk-label-container {text-align: center;}#sk-container-id-6 div.sk-container {/* jupyter's `normalize.less` sets `[hidden] { display: none; }` but bootstrap.min.css set `[hidden] { display: none !important; }` so we also need the `!important` here to be able to override the default hidden behavior on the sphinx rendered scikit-learn.org. See: https://github.com/scikit-learn/scikit-learn/issues/21755 */display: inline-block !important;position: relative;}#sk-container-id-6 div.sk-text-repr-fallback {display: none;}</style><div id=\"sk-container-id-6\" class=\"sk-top-container\"><div class=\"sk-text-repr-fallback\"><pre>LogisticRegression()</pre><b>In a Jupyter environment, please rerun this cell to show the HTML representation or trust the notebook. <br />On GitHub, the HTML representation is unable to render, please try loading this page with nbviewer.org.</b></div><div class=\"sk-container\" hidden><div class=\"sk-item\"><div class=\"sk-estimator sk-toggleable\"><input class=\"sk-toggleable__control sk-hidden--visually\" id=\"sk-estimator-id-6\" type=\"checkbox\" checked><label for=\"sk-estimator-id-6\" class=\"sk-toggleable__label sk-toggleable__label-arrow\">LogisticRegression</label><div class=\"sk-toggleable__content\"><pre>LogisticRegression()</pre></div></div></div></div></div>"
      ],
      "text/plain": [
       "LogisticRegression()"
      ]
     },
     "execution_count": 102,
     "metadata": {},
     "output_type": "execute_result"
    }
   ],
   "source": [
    "# Step 4: Fit the model on the training dataset\n",
    "clf_LogReg_vect.fit(X_train_text, Y_train)\n",
    "\n",
    "# takes 1 minute"
   ]
  },
  {
   "cell_type": "code",
   "execution_count": 103,
   "id": "39649f1e",
   "metadata": {},
   "outputs": [],
   "source": [
    "y_pred_LogReg_vect = clf_LogReg_vect.predict(X_test_text)\n"
   ]
  },
  {
   "cell_type": "code",
   "execution_count": 105,
   "id": "94671ec7",
   "metadata": {},
   "outputs": [
    {
     "data": {
      "text/plain": [
       "0.8566678648454349"
      ]
     },
     "execution_count": 105,
     "metadata": {},
     "output_type": "execute_result"
    }
   ],
   "source": [
    "# get accuracy\n",
    "accuracy_LogReg_vect = clf_LogReg_vect.score(X_test_text, Y_test)\n",
    "accuracy_LogReg_vect\n",
    "\n",
    "# 0.86"
   ]
  },
  {
   "cell_type": "code",
   "execution_count": 106,
   "id": "0bbb594d",
   "metadata": {},
   "outputs": [
    {
     "data": {
      "text/plain": [
       "0.8369287393927001"
      ]
     },
     "execution_count": 106,
     "metadata": {},
     "output_type": "execute_result"
    }
   ],
   "source": [
    "# Evaluate the model with f1 score\n",
    "from sklearn.metrics import f1_score\n",
    "\n",
    "f1_LogReg_vect = f1_score(Y_test, y_pred_LogReg_vect)\n",
    "f1_LogReg_vect\n",
    "\n",
    "# 0.84"
   ]
  },
  {
   "cell_type": "code",
   "execution_count": 107,
   "id": "89438357",
   "metadata": {},
   "outputs": [
    {
     "data": {
      "text/html": [
       "<div>\n",
       "<style scoped>\n",
       "    .dataframe tbody tr th:only-of-type {\n",
       "        vertical-align: middle;\n",
       "    }\n",
       "\n",
       "    .dataframe tbody tr th {\n",
       "        vertical-align: top;\n",
       "    }\n",
       "\n",
       "    .dataframe thead th {\n",
       "        text-align: right;\n",
       "    }\n",
       "</style>\n",
       "<table border=\"1\" class=\"dataframe\">\n",
       "  <thead>\n",
       "    <tr style=\"text-align: right;\">\n",
       "      <th>predict</th>\n",
       "      <th>0.0</th>\n",
       "      <th>1.0</th>\n",
       "    </tr>\n",
       "    <tr>\n",
       "      <th>true</th>\n",
       "      <th></th>\n",
       "      <th></th>\n",
       "    </tr>\n",
       "  </thead>\n",
       "  <tbody>\n",
       "    <tr>\n",
       "      <th>0.0</th>\n",
       "      <td>10880</td>\n",
       "      <td>1361</td>\n",
       "    </tr>\n",
       "    <tr>\n",
       "      <th>1.0</th>\n",
       "      <td>1829</td>\n",
       "      <td>8186</td>\n",
       "    </tr>\n",
       "  </tbody>\n",
       "</table>\n",
       "</div>"
      ],
      "text/plain": [
       "predict    0.0   1.0\n",
       "true                \n",
       "0.0      10880  1361\n",
       "1.0       1829  8186"
      ]
     },
     "execution_count": 107,
     "metadata": {},
     "output_type": "execute_result"
    }
   ],
   "source": [
    "# get confusion matrix\n",
    "pd.crosstab(Y_test, y_pred_LogReg_vect, rownames=[\"true\"], colnames=[\"predict\"])\n"
   ]
  },
  {
   "cell_type": "code",
   "execution_count": 108,
   "id": "25a4dc91",
   "metadata": {},
   "outputs": [
    {
     "name": "stdout",
     "output_type": "stream",
     "text": [
      "Logistic Regression vect classification report:\n",
      "                precision    recall  f1-score   support\n",
      "\n",
      "         0.0       0.86      0.89      0.87     12241\n",
      "         1.0       0.86      0.82      0.84     10015\n",
      "\n",
      "    accuracy                           0.86     22256\n",
      "   macro avg       0.86      0.85      0.85     22256\n",
      "weighted avg       0.86      0.86      0.86     22256\n",
      "\n"
     ]
    }
   ],
   "source": [
    "from sklearn.metrics import classification_report \n",
    "\n",
    "# get classification report\n",
    "print(\"Logistic Regression vect classification report:\\n \", classification_report (Y_test, y_pred_LogReg_vect))\n"
   ]
  },
  {
   "cell_type": "code",
   "execution_count": 109,
   "id": "f6d9b3f0",
   "metadata": {},
   "outputs": [
    {
     "name": "stdout",
     "output_type": "stream",
     "text": [
      "[[10880  1361]\n",
      " [ 1829  8186]]\n"
     ]
    }
   ],
   "source": [
    "# create confusion matrix\n",
    "cf_matrix_LogReg_vect = confusion_matrix(Y_test, y_pred_LogReg_vect)\n",
    "print(cf_matrix_LogReg_vect)\n"
   ]
  },
  {
   "cell_type": "code",
   "execution_count": null,
   "id": "511b2519",
   "metadata": {},
   "outputs": [],
   "source": []
  },
  {
   "cell_type": "code",
   "execution_count": null,
   "id": "49fc6f89",
   "metadata": {},
   "outputs": [],
   "source": []
  },
  {
   "cell_type": "code",
   "execution_count": null,
   "id": "9238ffa5",
   "metadata": {},
   "outputs": [],
   "source": []
  },
  {
   "cell_type": "markdown",
   "id": "32ba7d30",
   "metadata": {},
   "source": [
    "# Passive Aggressive Classifier\n"
   ]
  },
  {
   "cell_type": "markdown",
   "id": "104747ad",
   "metadata": {},
   "source": [
    "Passive Aggressive Classifier Passive Aggressive algorithms are online learning algorithms. Such an algorithm remains passive for a correct classification outcome, and turns aggressive in the event of a miscalculation, updating and adjusting. Unlike most other algorithms, it does not converge. Its purpose is to make updates that correct the loss, causing very little change in the norm of the weight vector.\n"
   ]
  },
  {
   "cell_type": "code",
   "execution_count": 110,
   "id": "cbe4f3e4",
   "metadata": {},
   "outputs": [],
   "source": [
    "from sklearn.linear_model import PassiveAggressiveClassifier\n"
   ]
  },
  {
   "cell_type": "code",
   "execution_count": 111,
   "id": "1e654018",
   "metadata": {},
   "outputs": [],
   "source": [
    "# Initialize a PassiveAggressiveClassifier\n",
    "pac = PassiveAggressiveClassifier(class_weight=\"balanced\", max_iter=50)\n",
    "# pac = PassiveAggressiveClassifier(max_iter=50)\n"
   ]
  },
  {
   "cell_type": "code",
   "execution_count": 112,
   "id": "26381010",
   "metadata": {},
   "outputs": [
    {
     "data": {
      "text/html": [
       "<style>#sk-container-id-7 {color: black;background-color: white;}#sk-container-id-7 pre{padding: 0;}#sk-container-id-7 div.sk-toggleable {background-color: white;}#sk-container-id-7 label.sk-toggleable__label {cursor: pointer;display: block;width: 100%;margin-bottom: 0;padding: 0.3em;box-sizing: border-box;text-align: center;}#sk-container-id-7 label.sk-toggleable__label-arrow:before {content: \"▸\";float: left;margin-right: 0.25em;color: #696969;}#sk-container-id-7 label.sk-toggleable__label-arrow:hover:before {color: black;}#sk-container-id-7 div.sk-estimator:hover label.sk-toggleable__label-arrow:before {color: black;}#sk-container-id-7 div.sk-toggleable__content {max-height: 0;max-width: 0;overflow: hidden;text-align: left;background-color: #f0f8ff;}#sk-container-id-7 div.sk-toggleable__content pre {margin: 0.2em;color: black;border-radius: 0.25em;background-color: #f0f8ff;}#sk-container-id-7 input.sk-toggleable__control:checked~div.sk-toggleable__content {max-height: 200px;max-width: 100%;overflow: auto;}#sk-container-id-7 input.sk-toggleable__control:checked~label.sk-toggleable__label-arrow:before {content: \"▾\";}#sk-container-id-7 div.sk-estimator input.sk-toggleable__control:checked~label.sk-toggleable__label {background-color: #d4ebff;}#sk-container-id-7 div.sk-label input.sk-toggleable__control:checked~label.sk-toggleable__label {background-color: #d4ebff;}#sk-container-id-7 input.sk-hidden--visually {border: 0;clip: rect(1px 1px 1px 1px);clip: rect(1px, 1px, 1px, 1px);height: 1px;margin: -1px;overflow: hidden;padding: 0;position: absolute;width: 1px;}#sk-container-id-7 div.sk-estimator {font-family: monospace;background-color: #f0f8ff;border: 1px dotted black;border-radius: 0.25em;box-sizing: border-box;margin-bottom: 0.5em;}#sk-container-id-7 div.sk-estimator:hover {background-color: #d4ebff;}#sk-container-id-7 div.sk-parallel-item::after {content: \"\";width: 100%;border-bottom: 1px solid gray;flex-grow: 1;}#sk-container-id-7 div.sk-label:hover label.sk-toggleable__label {background-color: #d4ebff;}#sk-container-id-7 div.sk-serial::before {content: \"\";position: absolute;border-left: 1px solid gray;box-sizing: border-box;top: 0;bottom: 0;left: 50%;z-index: 0;}#sk-container-id-7 div.sk-serial {display: flex;flex-direction: column;align-items: center;background-color: white;padding-right: 0.2em;padding-left: 0.2em;position: relative;}#sk-container-id-7 div.sk-item {position: relative;z-index: 1;}#sk-container-id-7 div.sk-parallel {display: flex;align-items: stretch;justify-content: center;background-color: white;position: relative;}#sk-container-id-7 div.sk-item::before, #sk-container-id-7 div.sk-parallel-item::before {content: \"\";position: absolute;border-left: 1px solid gray;box-sizing: border-box;top: 0;bottom: 0;left: 50%;z-index: -1;}#sk-container-id-7 div.sk-parallel-item {display: flex;flex-direction: column;z-index: 1;position: relative;background-color: white;}#sk-container-id-7 div.sk-parallel-item:first-child::after {align-self: flex-end;width: 50%;}#sk-container-id-7 div.sk-parallel-item:last-child::after {align-self: flex-start;width: 50%;}#sk-container-id-7 div.sk-parallel-item:only-child::after {width: 0;}#sk-container-id-7 div.sk-dashed-wrapped {border: 1px dashed gray;margin: 0 0.4em 0.5em 0.4em;box-sizing: border-box;padding-bottom: 0.4em;background-color: white;}#sk-container-id-7 div.sk-label label {font-family: monospace;font-weight: bold;display: inline-block;line-height: 1.2em;}#sk-container-id-7 div.sk-label-container {text-align: center;}#sk-container-id-7 div.sk-container {/* jupyter's `normalize.less` sets `[hidden] { display: none; }` but bootstrap.min.css set `[hidden] { display: none !important; }` so we also need the `!important` here to be able to override the default hidden behavior on the sphinx rendered scikit-learn.org. See: https://github.com/scikit-learn/scikit-learn/issues/21755 */display: inline-block !important;position: relative;}#sk-container-id-7 div.sk-text-repr-fallback {display: none;}</style><div id=\"sk-container-id-7\" class=\"sk-top-container\"><div class=\"sk-text-repr-fallback\"><pre>PassiveAggressiveClassifier(class_weight=&#x27;balanced&#x27;, max_iter=50)</pre><b>In a Jupyter environment, please rerun this cell to show the HTML representation or trust the notebook. <br />On GitHub, the HTML representation is unable to render, please try loading this page with nbviewer.org.</b></div><div class=\"sk-container\" hidden><div class=\"sk-item\"><div class=\"sk-estimator sk-toggleable\"><input class=\"sk-toggleable__control sk-hidden--visually\" id=\"sk-estimator-id-7\" type=\"checkbox\" checked><label for=\"sk-estimator-id-7\" class=\"sk-toggleable__label sk-toggleable__label-arrow\">PassiveAggressiveClassifier</label><div class=\"sk-toggleable__content\"><pre>PassiveAggressiveClassifier(class_weight=&#x27;balanced&#x27;, max_iter=50)</pre></div></div></div></div></div>"
      ],
      "text/plain": [
       "PassiveAggressiveClassifier(class_weight='balanced', max_iter=50)"
      ]
     },
     "execution_count": 112,
     "metadata": {},
     "output_type": "execute_result"
    }
   ],
   "source": [
    "# fit model\n",
    "pac.fit(X_train_text, Y_train)\n"
   ]
  },
  {
   "cell_type": "code",
   "execution_count": 113,
   "id": "8be56494",
   "metadata": {},
   "outputs": [],
   "source": [
    "#Predict on the test set \n",
    "y_pred_PassAgg_vect = pac.predict(X_test_text)\n"
   ]
  },
  {
   "cell_type": "code",
   "execution_count": 114,
   "id": "3b9f98d3",
   "metadata": {},
   "outputs": [
    {
     "data": {
      "text/plain": [
       "0.8211718188353703"
      ]
     },
     "execution_count": 114,
     "metadata": {},
     "output_type": "execute_result"
    }
   ],
   "source": [
    "# get accuracy\n",
    "accuracy_PassAgg_vect = pac.score(X_test_text, Y_test)\n",
    "accuracy_PassAgg_vect\n",
    "\n",
    "# 0.82\n"
   ]
  },
  {
   "cell_type": "code",
   "execution_count": 115,
   "id": "a63499b9",
   "metadata": {},
   "outputs": [
    {
     "data": {
      "text/plain": [
       "0.8027945694182935"
      ]
     },
     "execution_count": 115,
     "metadata": {},
     "output_type": "execute_result"
    }
   ],
   "source": [
    "# Evaluate the model with f1 score\n",
    "from sklearn.metrics import f1_score\n",
    "\n",
    "f1_PassAgg_vect = f1_score(Y_test, y_pred_PassAgg_vect)\n",
    "f1_PassAgg_vect\n",
    "\n",
    "# 0.80"
   ]
  },
  {
   "cell_type": "code",
   "execution_count": 116,
   "id": "fd0c620c",
   "metadata": {},
   "outputs": [
    {
     "data": {
      "text/html": [
       "<div>\n",
       "<style scoped>\n",
       "    .dataframe tbody tr th:only-of-type {\n",
       "        vertical-align: middle;\n",
       "    }\n",
       "\n",
       "    .dataframe tbody tr th {\n",
       "        vertical-align: top;\n",
       "    }\n",
       "\n",
       "    .dataframe thead th {\n",
       "        text-align: right;\n",
       "    }\n",
       "</style>\n",
       "<table border=\"1\" class=\"dataframe\">\n",
       "  <thead>\n",
       "    <tr style=\"text-align: right;\">\n",
       "      <th>predict</th>\n",
       "      <th>0.0</th>\n",
       "      <th>1.0</th>\n",
       "    </tr>\n",
       "    <tr>\n",
       "      <th>true</th>\n",
       "      <th></th>\n",
       "      <th></th>\n",
       "    </tr>\n",
       "  </thead>\n",
       "  <tbody>\n",
       "    <tr>\n",
       "      <th>0.0</th>\n",
       "      <td>10175</td>\n",
       "      <td>2066</td>\n",
       "    </tr>\n",
       "    <tr>\n",
       "      <th>1.0</th>\n",
       "      <td>1914</td>\n",
       "      <td>8101</td>\n",
       "    </tr>\n",
       "  </tbody>\n",
       "</table>\n",
       "</div>"
      ],
      "text/plain": [
       "predict    0.0   1.0\n",
       "true                \n",
       "0.0      10175  2066\n",
       "1.0       1914  8101"
      ]
     },
     "execution_count": 116,
     "metadata": {},
     "output_type": "execute_result"
    }
   ],
   "source": [
    "# get confusion matrix\n",
    "pd.crosstab(Y_test, y_pred_PassAgg_vect, rownames=[\"true\"], colnames=[\"predict\"])\n"
   ]
  },
  {
   "cell_type": "code",
   "execution_count": 117,
   "id": "751ef54d",
   "metadata": {},
   "outputs": [
    {
     "name": "stdout",
     "output_type": "stream",
     "text": [
      "Passive Aggressive vect classification report:\n",
      "                precision    recall  f1-score   support\n",
      "\n",
      "         0.0       0.84      0.83      0.84     12241\n",
      "         1.0       0.80      0.81      0.80     10015\n",
      "\n",
      "    accuracy                           0.82     22256\n",
      "   macro avg       0.82      0.82      0.82     22256\n",
      "weighted avg       0.82      0.82      0.82     22256\n",
      "\n"
     ]
    }
   ],
   "source": [
    "from sklearn.metrics import classification_report \n",
    "\n",
    "# get classification report\n",
    "print(\"Passive Aggressive vect classification report:\\n \", classification_report (Y_test, y_pred_PassAgg_vect))\n"
   ]
  },
  {
   "cell_type": "code",
   "execution_count": 118,
   "id": "9bcef2ec",
   "metadata": {},
   "outputs": [
    {
     "name": "stdout",
     "output_type": "stream",
     "text": [
      "[[10175  2066]\n",
      " [ 1914  8101]]\n"
     ]
    }
   ],
   "source": [
    "# create confusion matrix\n",
    "cf_matrix_PassAgg_vect = confusion_matrix(Y_test, y_pred_PassAgg_vect)\n",
    "print(cf_matrix_PassAgg_vect)\n"
   ]
  },
  {
   "cell_type": "code",
   "execution_count": null,
   "id": "2b794981",
   "metadata": {},
   "outputs": [],
   "source": []
  },
  {
   "cell_type": "code",
   "execution_count": null,
   "id": "22bca499",
   "metadata": {},
   "outputs": [],
   "source": []
  },
  {
   "cell_type": "code",
   "execution_count": null,
   "id": "d9b4ed4d",
   "metadata": {},
   "outputs": [],
   "source": []
  },
  {
   "cell_type": "markdown",
   "id": "69a7a088",
   "metadata": {},
   "source": [
    "# BAGGING CLASSIFIER\n",
    "# NOT SURE HOW LONG IT TAKES\n",
    "# RUN AGAIN\n"
   ]
  },
  {
   "cell_type": "code",
   "execution_count": 107,
   "id": "9e5ee0f2",
   "metadata": {},
   "outputs": [],
   "source": [
    "from sklearn.ensemble import BaggingClassifier"
   ]
  },
  {
   "cell_type": "code",
   "execution_count": 109,
   "id": "5c15ae60",
   "metadata": {},
   "outputs": [],
   "source": [
    "# Instantiate the model\n",
    "bag = BaggingClassifier(n_estimators=10, oob_score=True)\n"
   ]
  },
  {
   "cell_type": "code",
   "execution_count": null,
   "id": "48844302",
   "metadata": {},
   "outputs": [],
   "source": [
    "# fit model\n",
    "bag.fit(X_train_text, Y_train)\n",
    "\n",
    "# takes XXX minutes\n"
   ]
  },
  {
   "cell_type": "code",
   "execution_count": null,
   "id": "45678364",
   "metadata": {},
   "outputs": [],
   "source": [
    "#Predict on the test set \n",
    "y_pred_bag_vect = bag.predict(X_test_text)\n"
   ]
  },
  {
   "cell_type": "code",
   "execution_count": null,
   "id": "ecf3ed96",
   "metadata": {},
   "outputs": [],
   "source": [
    "# get accuracy\n",
    "accuracy_bag_vect = bag.score(X_test_text, Y_test)\n",
    "accuracy_bag_vect\n",
    "\n",
    "# \n"
   ]
  },
  {
   "cell_type": "code",
   "execution_count": null,
   "id": "ad2a7d5a",
   "metadata": {},
   "outputs": [],
   "source": [
    "# Evaluate the model with f1 score\n",
    "from sklearn.metrics import f1_score\n",
    "\n",
    "f1_bag_vect = f1_score(Y_test, y_pred_bag_vect)\n",
    "f1_bag_vect\n",
    "\n",
    "# \n"
   ]
  },
  {
   "cell_type": "code",
   "execution_count": null,
   "id": "0855bcbc",
   "metadata": {},
   "outputs": [],
   "source": [
    "# Evaluation of the Model with rate of good predictions using the score method\n",
    "bag.oob_score_\n"
   ]
  },
  {
   "cell_type": "code",
   "execution_count": null,
   "id": "e3d81939",
   "metadata": {},
   "outputs": [],
   "source": [
    "# get confusion matrix\n",
    "pd.crosstab(Y_test, y_pred_bag_vect, rownames=[\"true\"], colnames=[\"predict\"])\n"
   ]
  },
  {
   "cell_type": "code",
   "execution_count": null,
   "id": "db337d22",
   "metadata": {},
   "outputs": [],
   "source": [
    "from sklearn.metrics import classification_report \n",
    "\n",
    "# get classification report\n",
    "print(\"Bagging vect classification report:\\n \", classification_report (Y_test, y_pred_bag_vect))\n"
   ]
  },
  {
   "cell_type": "code",
   "execution_count": null,
   "id": "bbf575bc",
   "metadata": {},
   "outputs": [],
   "source": [
    "# create confusion matrix\n",
    "cf_matrix_bag_vect = confusion_matrix(Y_test, y_pred_bag_vect)\n",
    "print(cf_matrix_bag_vect)\n"
   ]
  },
  {
   "cell_type": "code",
   "execution_count": null,
   "id": "a0711244",
   "metadata": {},
   "outputs": [],
   "source": []
  },
  {
   "cell_type": "code",
   "execution_count": null,
   "id": "8cfced71",
   "metadata": {},
   "outputs": [],
   "source": []
  },
  {
   "cell_type": "code",
   "execution_count": null,
   "id": "8ea256e6",
   "metadata": {},
   "outputs": [],
   "source": []
  },
  {
   "cell_type": "markdown",
   "id": "65ddb601",
   "metadata": {},
   "source": [
    "# COMPARE ACCURACY OF MODELS ON TEXT DATA ONLY\n"
   ]
  },
  {
   "cell_type": "code",
   "execution_count": 171,
   "id": "15c6267a",
   "metadata": {},
   "outputs": [
    {
     "name": "stdout",
     "output_type": "stream",
     "text": [
      "LightGBM vect accuracy score : 0.8106128684399713\n",
      "Naive Bayes Bernoulli vect accuracy score : 0.7168404025880661\n",
      "Naive Bayes Multinomial vect accuracy score : 0.7893601725377426\n",
      "Naive Bayes Complement vect accuracy score : 0.7967739036664271\n",
      "GradientBoosting vect accuracy score : 0.6890726096333573\n",
      "CatBoost vect accuracy score : 0.779744787922358\n",
      "XGBoost vect accuracy score : 0.7777228612508986\n",
      "Passive Aggressive vect accuracy score : 0.8211718188353703\n",
      "Logistic Regression vect accuracy score : 0.8566678648454349\n"
     ]
    }
   ],
   "source": [
    "print(\"LightGBM vect accuracy score :\", accuracy_LightGBM_vect)\n",
    "print(\"Naive Bayes Bernoulli vect accuracy score :\", accuracy_NB_Bern_vect)\n",
    "print(\"Naive Bayes Multinomial vect accuracy score :\", accuracy_NB_Mult_vect)\n",
    "print(\"Naive Bayes Complement vect accuracy score :\", accuracy_NB_Compl_vect)\n",
    "print(\"GradientBoosting vect accuracy score :\", accuracy_GradBoost_vect)\n",
    "print(\"CatBoost vect accuracy score :\", accuracy_CatBoost_vect)\n",
    "print(\"XGBoost vect accuracy score :\", accuracy_XGBoost_vect)\n",
    "# print(\"KNN vect accuracy score :\", accuracy_knn_vect)\n",
    "# print(\"SVM vect accuracy score :\", accuracy_SVM_vect)\n",
    "print(\"Passive Aggressive vect accuracy score :\", accuracy_PassAgg_vect)\n",
    "print(\"Logistic Regression vect accuracy score :\", accuracy_LogReg_vect)\n",
    "# print(\"Bagging vect accuracy score :\", accuracy_bag_vect)\n"
   ]
  },
  {
   "cell_type": "code",
   "execution_count": 172,
   "id": "6de5788b",
   "metadata": {},
   "outputs": [],
   "source": [
    "#Creating the Dictionary with model name as key adn accuracy as key-value\n",
    "labels_vect  = {'LightGBM vect':accuracy_LightGBM_vect,\n",
    "                'Naive Bayes Bernoulli vect':accuracy_NB_Bern_vect,\n",
    "        'Naive Bayes Multinomial vect':accuracy_NB_Mult_vect,\n",
    "        'Naive Bayes Complement vect':accuracy_NB_Compl_vect,\n",
    "        'Gradient Boosting vect':accuracy_GradBoost_vect,\n",
    "        'CatBoost vect':accuracy_CatBoost_vect,  \n",
    "        'XGBoost vect':accuracy_XGBoost_vect, \n",
    "        'Passive Aggressive vect':accuracy_PassAgg_vect,        \n",
    "        'Logistic Regression vect':accuracy_LogReg_vect} #,\n",
    "#        'Bagging vect':accuracy_bag_vect}\n"
   ]
  },
  {
   "cell_type": "code",
   "execution_count": 173,
   "id": "174d5609",
   "metadata": {},
   "outputs": [
    {
     "data": {
      "image/png": "[encoded data removed]",
      "text/plain": [
       "<Figure size 2500x1000 with 1 Axes>"
      ]
     },
     "metadata": {},
     "output_type": "display_data"
    }
   ],
   "source": [
    "#Plotting accuracy of all the models with Bar-Graphs\n",
    "plt.figure(figsize=(25,10))\n",
    "plt.title('Comparing Accuracy of ML Models on vectorized text data',fontsize=20)\n",
    "colors=['red','yellow','orange','magenta', \n",
    "        'black',\n",
    "        'white', \n",
    "        'purple', \n",
    "        'blue',\n",
    "        'gray'] #,\n",
    "#       'darkred']\n",
    "plt.xticks(fontsize=10,color='black')\n",
    "plt.yticks(fontsize=20,color='black')\n",
    "plt.ylabel('Accuracy',fontsize=20)\n",
    "plt.xlabel('Models',fontsize=20)\n",
    "plt.bar(labels_vect.keys(),labels_vect.values(),edgecolor='black',color=colors, linewidth=2,alpha=0.5);\n",
    "\n"
   ]
  },
  {
   "cell_type": "code",
   "execution_count": null,
   "id": "931558b9",
   "metadata": {},
   "outputs": [],
   "source": []
  },
  {
   "cell_type": "code",
   "execution_count": null,
   "id": "2d1f1cfa",
   "metadata": {},
   "outputs": [],
   "source": []
  },
  {
   "cell_type": "code",
   "execution_count": null,
   "id": "4cfb2319",
   "metadata": {},
   "outputs": [],
   "source": []
  },
  {
   "cell_type": "markdown",
   "id": "a1e3c014",
   "metadata": {},
   "source": [
    "# COMPARE f1 score OF MODELS ON TEXT DATA ONLY\n"
   ]
  },
  {
   "cell_type": "code",
   "execution_count": 175,
   "id": "af7c4ab8",
   "metadata": {},
   "outputs": [
    {
     "name": "stdout",
     "output_type": "stream",
     "text": [
      "LightGBM vect f1 score : 0.7784959798202743\n",
      "Naive Bayes Bernoulli vect f1 score : 0.7142986671502404\n",
      "Naive Bayes Complement vect f1 score : 0.7426458036984354\n",
      "GradientBoosting vect f1 score : 0.6323451280416533\n",
      "CatBoost vect f1 score : 0.7426771653543308\n",
      "XGBoost vect f1 score : 0.7417114812300946\n",
      "Passive Aggressive vect f1 score : 0.8027945694182935\n",
      "Logistic Regression vect f1 score : 0.8369287393927001\n"
     ]
    }
   ],
   "source": [
    "print(\"LightGBM vect f1 score :\", f1_LightGBM_vect)\n",
    "print(\"Naive Bayes Bernoulli vect f1 score :\", f1_NB_Bern_vect)\n",
    "# print(\"Naive Bayes Multinomial vect f1 score :\", f1_NB_Mult_vect)\n",
    "print(\"Naive Bayes Complement vect f1 score :\", f1_NB_Compl_vect)\n",
    "print(\"GradientBoosting vect f1 score :\", f1_GradBoost_vect)\n",
    "print(\"CatBoost vect f1 score :\", f1_CatBoost_vect)\n",
    "print(\"XGBoost vect f1 score :\", f1_XGBoost_vect)\n",
    "# print(\"KNN vect accuracy score :\", f1_knn_vect)\n",
    "# print(\"SVM vect accuracy score :\", f1_SVM_vect)\n",
    "print(\"Passive Aggressive vect f1 score :\", f1_PassAgg_vect)\n",
    "print(\"Logistic Regression vect f1 score :\", f1_LogReg_vect)\n"
   ]
  },
  {
   "cell_type": "code",
   "execution_count": 176,
   "id": "6bb8c0d1",
   "metadata": {},
   "outputs": [],
   "source": [
    "#Creating the Dictionary with model name as key adn accuracy as key-value\n",
    "labels_vect_f1  = {'LightGBM vect':f1_LightGBM_vect,\n",
    "                   'Naive Bayes Bernoulli vect':f1_NB_Bern_vect,\n",
    " #       'Naive Bayes Multinomial vect':f1_NB_Mult_vect,\n",
    "        'Naive Bayes Complement vect':f1_NB_Compl_vect,\n",
    "        'Gradient Boosting vect':f1_GradBoost_vect,\n",
    "        'CatBoost vect':f1_CatBoost_vect,  \n",
    "        'XGBoost vect':f1_XGBoost_vect, \n",
    "        'Passive Aggressive vect':f1_PassAgg_vect,\n",
    "        'Logistic Regression vect':f1_LogReg_vect}\n"
   ]
  },
  {
   "cell_type": "code",
   "execution_count": 177,
   "id": "49ba2a2c",
   "metadata": {},
   "outputs": [
    {
     "data": {
      "image/png": "[encoded data removed]",
      "text/plain": [
       "<Figure size 2500x1000 with 1 Axes>"
      ]
     },
     "metadata": {},
     "output_type": "display_data"
    }
   ],
   "source": [
    "#Plotting accuracy of all the models with Bar-Graphs\n",
    "plt.figure(figsize=(25,10))\n",
    "plt.title('Comparing f1 score of ML Models on vectorized text data',fontsize=20)\n",
    "colors=['red','yellow',\n",
    "        #'orange',\n",
    "        'magenta', \n",
    "         'black',\n",
    "        'white', \n",
    "        'purple', \n",
    "        'blue',\n",
    "        'gray']\n",
    "plt.xticks(fontsize=10,color='black')\n",
    "plt.yticks(fontsize=20,color='black')\n",
    "plt.ylabel('f1 score',fontsize=20)\n",
    "plt.xlabel('Models',fontsize=20)\n",
    "plt.bar(labels_vect_f1.keys(),labels_vect_f1.values(),edgecolor='black',color=colors, linewidth=2,alpha=0.5);\n",
    "\n"
   ]
  },
  {
   "cell_type": "code",
   "execution_count": null,
   "id": "cdf6fc77",
   "metadata": {},
   "outputs": [],
   "source": []
  },
  {
   "cell_type": "code",
   "execution_count": null,
   "id": "ff6c7672",
   "metadata": {},
   "outputs": [],
   "source": []
  },
  {
   "cell_type": "markdown",
   "id": "3cf58cdc",
   "metadata": {},
   "source": [
    "# COMPARE CONFUSION MATRICES\n"
   ]
  },
  {
   "cell_type": "code",
   "execution_count": null,
   "id": "ff8fedcf",
   "metadata": {},
   "outputs": [],
   "source": [
    "#cf_matrix_PassAgg_vect = confusion_matrix(Y_test, y_pred_PassAgg_vect)\n",
    "#print(cf_matrix_PassAgg_vect)\n",
    "\n",
    "#cf_matrix_LogReg_vect = confusion_matrix(Y_test, y_pred_LogReg_vect)\n",
    "#print(cf_matrix_LogReg_vect)\n",
    "\n",
    "#cf_matrix_GradBoost_vect = confusion_matrix(Y_test, y_pred_GradBoost_vect)\n",
    "#print(cf_matrix_GradBoost_vect)\n",
    "\n",
    "#cf_matrix_Complement_vect = confusion_matrix(Y_test, y_pred_NB_Complement_vect)\n",
    "#print(cf_matrix_Complement_vect)\n",
    "\n",
    "#cf_matrix_Multinomial_vect = confusion_matrix(Y_test, y_pred_NB_Multinomial_vect)\n",
    "#print(cf_matrix_Multinomial_vect)\n",
    "\n",
    "#conf_matrix_Bern_vect = confusion_matrix(Y_test, y_pred_Bern_vect)\n",
    "#print(\"Confusion Matrix:\\n\",  conf_matrix_Bern_vect)\n",
    "\n",
    "#conf_matrix_LightGBM_vect = confusion_matrix(Y_test, y_pred_LightGBM_vect)\n",
    "#print(\"Confusion Matrix:\\n\",  conf_matrix_LightGBM_vect)"
   ]
  },
  {
   "cell_type": "code",
   "execution_count": null,
   "id": "6b114638",
   "metadata": {},
   "outputs": [],
   "source": []
  },
  {
   "cell_type": "code",
   "execution_count": null,
   "id": "10c80542",
   "metadata": {},
   "outputs": [],
   "source": [
    "#### LIGHTGBM"
   ]
  },
  {
   "cell_type": "code",
   "execution_count": 129,
   "id": "770bc069",
   "metadata": {},
   "outputs": [
    {
     "data": {
      "text/html": [
       "<div>\n",
       "<style scoped>\n",
       "    .dataframe tbody tr th:only-of-type {\n",
       "        vertical-align: middle;\n",
       "    }\n",
       "\n",
       "    .dataframe tbody tr th {\n",
       "        vertical-align: top;\n",
       "    }\n",
       "\n",
       "    .dataframe thead th {\n",
       "        text-align: right;\n",
       "    }\n",
       "</style>\n",
       "<table border=\"1\" class=\"dataframe\">\n",
       "  <thead>\n",
       "    <tr style=\"text-align: right;\">\n",
       "      <th>predict</th>\n",
       "      <th>0</th>\n",
       "      <th>1</th>\n",
       "    </tr>\n",
       "    <tr>\n",
       "      <th>true</th>\n",
       "      <th></th>\n",
       "      <th></th>\n",
       "    </tr>\n",
       "  </thead>\n",
       "  <tbody>\n",
       "    <tr>\n",
       "      <th>0.0</th>\n",
       "      <td>10634</td>\n",
       "      <td>1607</td>\n",
       "    </tr>\n",
       "    <tr>\n",
       "      <th>1.0</th>\n",
       "      <td>2608</td>\n",
       "      <td>7407</td>\n",
       "    </tr>\n",
       "  </tbody>\n",
       "</table>\n",
       "</div>"
      ],
      "text/plain": [
       "predict      0     1\n",
       "true                \n",
       "0.0      10634  1607\n",
       "1.0       2608  7407"
      ]
     },
     "execution_count": 129,
     "metadata": {},
     "output_type": "execute_result"
    }
   ],
   "source": [
    "pd.crosstab(Y_test, y_pred_LightGBM_vect, rownames=[\"true\"], colnames=[\"predict\"])\n"
   ]
  },
  {
   "cell_type": "code",
   "execution_count": 131,
   "id": "ac8262f0",
   "metadata": {},
   "outputs": [
    {
     "name": "stdout",
     "output_type": "stream",
     "text": [
      "Confusion Matrix for LightGBM\n"
     ]
    },
    {
     "data": {
      "image/png": "[encoded data removed]",
      "text/plain": [
       "<Figure size 640x480 with 2 Axes>"
      ]
     },
     "metadata": {},
     "output_type": "display_data"
    }
   ],
   "source": [
    "from mlxtend.plotting import plot_confusion_matrix\n",
    "\n",
    "print(\"Confusion Matrix for LightGBM\")\n",
    "plot_confusion_matrix(conf_mat = cf_matrix_LightGBM_vect,\n",
    "                      show_absolute=True,\n",
    "                      show_normed=True,\n",
    "                      colorbar=True,\n",
    "                      class_names=['REAL','FAKE'])\n",
    "\n",
    "plt.show();\n"
   ]
  },
  {
   "cell_type": "code",
   "execution_count": null,
   "id": "4b5349c8",
   "metadata": {},
   "outputs": [],
   "source": []
  },
  {
   "cell_type": "code",
   "execution_count": 132,
   "id": "08cc94aa",
   "metadata": {},
   "outputs": [],
   "source": [
    "#### NAIVE BAYES BERNOULLI"
   ]
  },
  {
   "cell_type": "code",
   "execution_count": 133,
   "id": "26ab8a1e",
   "metadata": {},
   "outputs": [
    {
     "data": {
      "text/html": [
       "<div>\n",
       "<style scoped>\n",
       "    .dataframe tbody tr th:only-of-type {\n",
       "        vertical-align: middle;\n",
       "    }\n",
       "\n",
       "    .dataframe tbody tr th {\n",
       "        vertical-align: top;\n",
       "    }\n",
       "\n",
       "    .dataframe thead th {\n",
       "        text-align: right;\n",
       "    }\n",
       "</style>\n",
       "<table border=\"1\" class=\"dataframe\">\n",
       "  <thead>\n",
       "    <tr style=\"text-align: right;\">\n",
       "      <th>predict</th>\n",
       "      <th>0.0</th>\n",
       "      <th>1.0</th>\n",
       "    </tr>\n",
       "    <tr>\n",
       "      <th>true</th>\n",
       "      <th></th>\n",
       "      <th></th>\n",
       "    </tr>\n",
       "  </thead>\n",
       "  <tbody>\n",
       "    <tr>\n",
       "      <th>0.0</th>\n",
       "      <td>8076</td>\n",
       "      <td>4165</td>\n",
       "    </tr>\n",
       "    <tr>\n",
       "      <th>1.0</th>\n",
       "      <td>2137</td>\n",
       "      <td>7878</td>\n",
       "    </tr>\n",
       "  </tbody>\n",
       "</table>\n",
       "</div>"
      ],
      "text/plain": [
       "predict   0.0   1.0\n",
       "true               \n",
       "0.0      8076  4165\n",
       "1.0      2137  7878"
      ]
     },
     "execution_count": 133,
     "metadata": {},
     "output_type": "execute_result"
    }
   ],
   "source": [
    "pd.crosstab(Y_test, y_pred_NB_Bern_vect, rownames=[\"true\"], colnames=[\"predict\"])\n"
   ]
  },
  {
   "cell_type": "code",
   "execution_count": 135,
   "id": "4a633400",
   "metadata": {
    "scrolled": true
   },
   "outputs": [
    {
     "name": "stdout",
     "output_type": "stream",
     "text": [
      "Confusion Matrix for Naive Bayes Bernoulli\n"
     ]
    },
    {
     "data": {
      "image/png": "[encoded data removed]",
      "text/plain": [
       "<Figure size 640x480 with 2 Axes>"
      ]
     },
     "metadata": {},
     "output_type": "display_data"
    }
   ],
   "source": [
    "from mlxtend.plotting import plot_confusion_matrix\n",
    "\n",
    "print(\"Confusion Matrix for Naive Bayes Bernoulli\")\n",
    "# plt.figure(figsize=(5,5))\n",
    "plot_confusion_matrix(conf_mat = cf_matrix_NB_Bern_vect,\n",
    "                      show_absolute=True,\n",
    "                      show_normed=True,\n",
    "                      colorbar=True,\n",
    "                      class_names=['REAL','FAKE'])\n",
    "plt.show();\n"
   ]
  },
  {
   "cell_type": "code",
   "execution_count": null,
   "id": "38c07029",
   "metadata": {},
   "outputs": [],
   "source": []
  },
  {
   "cell_type": "code",
   "execution_count": null,
   "id": "55c90195",
   "metadata": {},
   "outputs": [],
   "source": [
    "#### NAIVE BAYES MULTINOMIAL"
   ]
  },
  {
   "cell_type": "code",
   "execution_count": 136,
   "id": "d23df08d",
   "metadata": {},
   "outputs": [
    {
     "data": {
      "text/html": [
       "<div>\n",
       "<style scoped>\n",
       "    .dataframe tbody tr th:only-of-type {\n",
       "        vertical-align: middle;\n",
       "    }\n",
       "\n",
       "    .dataframe tbody tr th {\n",
       "        vertical-align: top;\n",
       "    }\n",
       "\n",
       "    .dataframe thead th {\n",
       "        text-align: right;\n",
       "    }\n",
       "</style>\n",
       "<table border=\"1\" class=\"dataframe\">\n",
       "  <thead>\n",
       "    <tr style=\"text-align: right;\">\n",
       "      <th>predict</th>\n",
       "      <th>0.0</th>\n",
       "      <th>1.0</th>\n",
       "    </tr>\n",
       "    <tr>\n",
       "      <th>true</th>\n",
       "      <th></th>\n",
       "      <th></th>\n",
       "    </tr>\n",
       "  </thead>\n",
       "  <tbody>\n",
       "    <tr>\n",
       "      <th>0.0</th>\n",
       "      <td>11416</td>\n",
       "      <td>825</td>\n",
       "    </tr>\n",
       "    <tr>\n",
       "      <th>1.0</th>\n",
       "      <td>3863</td>\n",
       "      <td>6152</td>\n",
       "    </tr>\n",
       "  </tbody>\n",
       "</table>\n",
       "</div>"
      ],
      "text/plain": [
       "predict    0.0   1.0\n",
       "true                \n",
       "0.0      11416   825\n",
       "1.0       3863  6152"
      ]
     },
     "execution_count": 136,
     "metadata": {},
     "output_type": "execute_result"
    }
   ],
   "source": [
    "pd.crosstab(Y_test, y_pred_NB_Mult_vect, rownames=[\"true\"], colnames=[\"predict\"])\n"
   ]
  },
  {
   "cell_type": "code",
   "execution_count": 139,
   "id": "591494b3",
   "metadata": {},
   "outputs": [
    {
     "name": "stdout",
     "output_type": "stream",
     "text": [
      "Confusion Matrix for Naive Bayes Multinomial\n"
     ]
    },
    {
     "data": {
      "image/png": "[encoded data removed]",
      "text/plain": [
       "<Figure size 640x480 with 2 Axes>"
      ]
     },
     "metadata": {},
     "output_type": "display_data"
    }
   ],
   "source": [
    "from mlxtend.plotting import plot_confusion_matrix\n",
    "\n",
    "print(\"Confusion Matrix for Naive Bayes Multinomial\")\n",
    "plot_confusion_matrix(conf_mat = cf_matrix_NB_Mult_vect,\n",
    "                      show_absolute=True,\n",
    "                      show_normed=True,\n",
    "                      colorbar=True,\n",
    "                      class_names=['REAL','FAKE'])\n",
    "plt.show();\n"
   ]
  },
  {
   "cell_type": "code",
   "execution_count": null,
   "id": "74d11fae",
   "metadata": {},
   "outputs": [],
   "source": []
  },
  {
   "cell_type": "code",
   "execution_count": null,
   "id": "cbc7abe5",
   "metadata": {},
   "outputs": [],
   "source": [
    "#### NAIVE BAYES COMPLEMENT"
   ]
  },
  {
   "cell_type": "code",
   "execution_count": 140,
   "id": "166bfa7a",
   "metadata": {},
   "outputs": [
    {
     "data": {
      "text/html": [
       "<div>\n",
       "<style scoped>\n",
       "    .dataframe tbody tr th:only-of-type {\n",
       "        vertical-align: middle;\n",
       "    }\n",
       "\n",
       "    .dataframe tbody tr th {\n",
       "        vertical-align: top;\n",
       "    }\n",
       "\n",
       "    .dataframe thead th {\n",
       "        text-align: right;\n",
       "    }\n",
       "</style>\n",
       "<table border=\"1\" class=\"dataframe\">\n",
       "  <thead>\n",
       "    <tr style=\"text-align: right;\">\n",
       "      <th>predict</th>\n",
       "      <th>0.0</th>\n",
       "      <th>1.0</th>\n",
       "    </tr>\n",
       "    <tr>\n",
       "      <th>true</th>\n",
       "      <th></th>\n",
       "      <th></th>\n",
       "    </tr>\n",
       "  </thead>\n",
       "  <tbody>\n",
       "    <tr>\n",
       "      <th>0.0</th>\n",
       "      <td>11207</td>\n",
       "      <td>1034</td>\n",
       "    </tr>\n",
       "    <tr>\n",
       "      <th>1.0</th>\n",
       "      <td>3489</td>\n",
       "      <td>6526</td>\n",
       "    </tr>\n",
       "  </tbody>\n",
       "</table>\n",
       "</div>"
      ],
      "text/plain": [
       "predict    0.0   1.0\n",
       "true                \n",
       "0.0      11207  1034\n",
       "1.0       3489  6526"
      ]
     },
     "execution_count": 140,
     "metadata": {},
     "output_type": "execute_result"
    }
   ],
   "source": [
    "pd.crosstab(Y_test, y_pred_NB_Compl_vect, rownames=[\"true\"], colnames=[\"predict\"])\n"
   ]
  },
  {
   "cell_type": "code",
   "execution_count": 141,
   "id": "b01a8549",
   "metadata": {},
   "outputs": [
    {
     "name": "stdout",
     "output_type": "stream",
     "text": [
      "Confusion Matrix for Naive Bayes Complement\n"
     ]
    },
    {
     "data": {
      "image/png": "[encoded data removed]",
      "text/plain": [
       "<Figure size 640x480 with 2 Axes>"
      ]
     },
     "metadata": {},
     "output_type": "display_data"
    }
   ],
   "source": [
    "from mlxtend.plotting import plot_confusion_matrix\n",
    "\n",
    "print(\"Confusion Matrix for Naive Bayes Complement\")\n",
    "plot_confusion_matrix(conf_mat = cf_matrix_Compl_vect,\n",
    "                      show_absolute=True,\n",
    "                      show_normed=True,\n",
    "                      colorbar=True,\n",
    "                      class_names=['REAL','FAKE'])\n",
    "plt.show();\n"
   ]
  },
  {
   "cell_type": "code",
   "execution_count": null,
   "id": "3ef3b6ea",
   "metadata": {},
   "outputs": [],
   "source": []
  },
  {
   "cell_type": "code",
   "execution_count": null,
   "id": "25640bfb",
   "metadata": {},
   "outputs": [],
   "source": [
    "#### GRADIENT BOOSTING"
   ]
  },
  {
   "cell_type": "code",
   "execution_count": 142,
   "id": "250aca6e",
   "metadata": {},
   "outputs": [
    {
     "data": {
      "text/html": [
       "<div>\n",
       "<style scoped>\n",
       "    .dataframe tbody tr th:only-of-type {\n",
       "        vertical-align: middle;\n",
       "    }\n",
       "\n",
       "    .dataframe tbody tr th {\n",
       "        vertical-align: top;\n",
       "    }\n",
       "\n",
       "    .dataframe thead th {\n",
       "        text-align: right;\n",
       "    }\n",
       "</style>\n",
       "<table border=\"1\" class=\"dataframe\">\n",
       "  <thead>\n",
       "    <tr style=\"text-align: right;\">\n",
       "      <th>predict</th>\n",
       "      <th>0.0</th>\n",
       "      <th>1.0</th>\n",
       "    </tr>\n",
       "    <tr>\n",
       "      <th>true</th>\n",
       "      <th></th>\n",
       "      <th></th>\n",
       "    </tr>\n",
       "  </thead>\n",
       "  <tbody>\n",
       "    <tr>\n",
       "      <th>0.0</th>\n",
       "      <td>9385</td>\n",
       "      <td>2856</td>\n",
       "    </tr>\n",
       "    <tr>\n",
       "      <th>1.0</th>\n",
       "      <td>4064</td>\n",
       "      <td>5951</td>\n",
       "    </tr>\n",
       "  </tbody>\n",
       "</table>\n",
       "</div>"
      ],
      "text/plain": [
       "predict   0.0   1.0\n",
       "true               \n",
       "0.0      9385  2856\n",
       "1.0      4064  5951"
      ]
     },
     "execution_count": 142,
     "metadata": {},
     "output_type": "execute_result"
    }
   ],
   "source": [
    "pd.crosstab(Y_test, y_pred_GradBoost_vect, rownames=[\"true\"], colnames=[\"predict\"])\n"
   ]
  },
  {
   "cell_type": "code",
   "execution_count": 143,
   "id": "3fc3964b",
   "metadata": {},
   "outputs": [
    {
     "name": "stdout",
     "output_type": "stream",
     "text": [
      "Confusion Matrix for Gradient Boosting\n"
     ]
    },
    {
     "data": {
      "image/png": "[encoded data removed]",
      "text/plain": [
       "<Figure size 640x480 with 2 Axes>"
      ]
     },
     "metadata": {},
     "output_type": "display_data"
    }
   ],
   "source": [
    "from mlxtend.plotting import plot_confusion_matrix\n",
    "\n",
    "print(\"Confusion Matrix for Gradient Boosting\")\n",
    "plot_confusion_matrix(conf_mat = cf_matrix_GradBoost_vect,\n",
    "                      show_absolute=True,\n",
    "                      show_normed=True,\n",
    "                      colorbar=True,\n",
    "                      class_names=['REAL','FAKE'])\n",
    "plt.show();\n"
   ]
  },
  {
   "cell_type": "code",
   "execution_count": null,
   "id": "6faaf092",
   "metadata": {},
   "outputs": [],
   "source": []
  },
  {
   "cell_type": "code",
   "execution_count": null,
   "id": "eefddf78",
   "metadata": {},
   "outputs": [],
   "source": [
    "#### CATBOOST"
   ]
  },
  {
   "cell_type": "code",
   "execution_count": 178,
   "id": "0a99d204",
   "metadata": {},
   "outputs": [
    {
     "data": {
      "text/html": [
       "<div>\n",
       "<style scoped>\n",
       "    .dataframe tbody tr th:only-of-type {\n",
       "        vertical-align: middle;\n",
       "    }\n",
       "\n",
       "    .dataframe tbody tr th {\n",
       "        vertical-align: top;\n",
       "    }\n",
       "\n",
       "    .dataframe thead th {\n",
       "        text-align: right;\n",
       "    }\n",
       "</style>\n",
       "<table border=\"1\" class=\"dataframe\">\n",
       "  <thead>\n",
       "    <tr style=\"text-align: right;\">\n",
       "      <th>predict</th>\n",
       "      <th>0.0</th>\n",
       "      <th>1.0</th>\n",
       "    </tr>\n",
       "    <tr>\n",
       "      <th>true</th>\n",
       "      <th></th>\n",
       "      <th></th>\n",
       "    </tr>\n",
       "  </thead>\n",
       "  <tbody>\n",
       "    <tr>\n",
       "      <th>0.0</th>\n",
       "      <td>10280</td>\n",
       "      <td>1961</td>\n",
       "    </tr>\n",
       "    <tr>\n",
       "      <th>1.0</th>\n",
       "      <td>2941</td>\n",
       "      <td>7074</td>\n",
       "    </tr>\n",
       "  </tbody>\n",
       "</table>\n",
       "</div>"
      ],
      "text/plain": [
       "predict    0.0   1.0\n",
       "true                \n",
       "0.0      10280  1961\n",
       "1.0       2941  7074"
      ]
     },
     "execution_count": 178,
     "metadata": {},
     "output_type": "execute_result"
    }
   ],
   "source": [
    "pd.crosstab(Y_test, y_pred_CatBoost_vect, rownames=[\"true\"], colnames=[\"predict\"])\n"
   ]
  },
  {
   "cell_type": "code",
   "execution_count": 179,
   "id": "7f2f9a89",
   "metadata": {},
   "outputs": [
    {
     "name": "stdout",
     "output_type": "stream",
     "text": [
      "Confusion Matrix for CatBoost\n"
     ]
    },
    {
     "data": {
      "image/png": "[encoded data removed]",
      "text/plain": [
       "<Figure size 640x480 with 2 Axes>"
      ]
     },
     "metadata": {},
     "output_type": "display_data"
    }
   ],
   "source": [
    "from mlxtend.plotting import plot_confusion_matrix\n",
    "\n",
    "print(\"Confusion Matrix for CatBoost\")\n",
    "plot_confusion_matrix(conf_mat = cf_matrix_CatBoost_vect,\n",
    "                      show_absolute=True,\n",
    "                      show_normed=True,\n",
    "                      colorbar=True,\n",
    "                      class_names=['REAL','FAKE'])\n",
    "plt.show();\n"
   ]
  },
  {
   "cell_type": "code",
   "execution_count": null,
   "id": "b83ee497",
   "metadata": {},
   "outputs": [],
   "source": []
  },
  {
   "cell_type": "code",
   "execution_count": null,
   "id": "3c2ecc9c",
   "metadata": {},
   "outputs": [],
   "source": [
    "#### XGBOOST"
   ]
  },
  {
   "cell_type": "code",
   "execution_count": 148,
   "id": "1e5643ca",
   "metadata": {},
   "outputs": [
    {
     "data": {
      "text/html": [
       "<div>\n",
       "<style scoped>\n",
       "    .dataframe tbody tr th:only-of-type {\n",
       "        vertical-align: middle;\n",
       "    }\n",
       "\n",
       "    .dataframe tbody tr th {\n",
       "        vertical-align: top;\n",
       "    }\n",
       "\n",
       "    .dataframe thead th {\n",
       "        text-align: right;\n",
       "    }\n",
       "</style>\n",
       "<table border=\"1\" class=\"dataframe\">\n",
       "  <thead>\n",
       "    <tr style=\"text-align: right;\">\n",
       "      <th>predict</th>\n",
       "      <th>0</th>\n",
       "      <th>1</th>\n",
       "    </tr>\n",
       "    <tr>\n",
       "      <th>true</th>\n",
       "      <th></th>\n",
       "      <th></th>\n",
       "    </tr>\n",
       "  </thead>\n",
       "  <tbody>\n",
       "    <tr>\n",
       "      <th>0.0</th>\n",
       "      <td>10206</td>\n",
       "      <td>2035</td>\n",
       "    </tr>\n",
       "    <tr>\n",
       "      <th>1.0</th>\n",
       "      <td>2912</td>\n",
       "      <td>7103</td>\n",
       "    </tr>\n",
       "  </tbody>\n",
       "</table>\n",
       "</div>"
      ],
      "text/plain": [
       "predict      0     1\n",
       "true                \n",
       "0.0      10206  2035\n",
       "1.0       2912  7103"
      ]
     },
     "execution_count": 148,
     "metadata": {},
     "output_type": "execute_result"
    }
   ],
   "source": [
    "pd.crosstab(Y_test, y_pred_binary_vect, rownames=[\"true\"], colnames=[\"predict\"])\n"
   ]
  },
  {
   "cell_type": "code",
   "execution_count": 151,
   "id": "d096f6d0",
   "metadata": {},
   "outputs": [
    {
     "name": "stdout",
     "output_type": "stream",
     "text": [
      "Confusion Matrix for XGBoost\n"
     ]
    },
    {
     "data": {
      "image/png": "[encoded data removed]",
      "text/plain": [
       "<Figure size 640x480 with 2 Axes>"
      ]
     },
     "metadata": {},
     "output_type": "display_data"
    }
   ],
   "source": [
    "from mlxtend.plotting import plot_confusion_matrix\n",
    "\n",
    "print(\"Confusion Matrix for XGBoost\")\n",
    "plot_confusion_matrix(conf_mat = cf_matrix_XGBoost_vect,\n",
    "                      show_absolute=True,\n",
    "                      show_normed=True,\n",
    "                      colorbar=True,\n",
    "                      class_names=['REAL','FAKE'])\n",
    "plt.show();\n"
   ]
  },
  {
   "cell_type": "code",
   "execution_count": null,
   "id": "61254d29",
   "metadata": {},
   "outputs": [],
   "source": []
  },
  {
   "cell_type": "code",
   "execution_count": null,
   "id": "a2030f6e",
   "metadata": {},
   "outputs": [],
   "source": [
    "#### LOGISTIC REGRESSION"
   ]
  },
  {
   "cell_type": "code",
   "execution_count": 152,
   "id": "ef674071",
   "metadata": {},
   "outputs": [
    {
     "data": {
      "text/html": [
       "<div>\n",
       "<style scoped>\n",
       "    .dataframe tbody tr th:only-of-type {\n",
       "        vertical-align: middle;\n",
       "    }\n",
       "\n",
       "    .dataframe tbody tr th {\n",
       "        vertical-align: top;\n",
       "    }\n",
       "\n",
       "    .dataframe thead th {\n",
       "        text-align: right;\n",
       "    }\n",
       "</style>\n",
       "<table border=\"1\" class=\"dataframe\">\n",
       "  <thead>\n",
       "    <tr style=\"text-align: right;\">\n",
       "      <th>predict</th>\n",
       "      <th>0.0</th>\n",
       "      <th>1.0</th>\n",
       "    </tr>\n",
       "    <tr>\n",
       "      <th>true</th>\n",
       "      <th></th>\n",
       "      <th></th>\n",
       "    </tr>\n",
       "  </thead>\n",
       "  <tbody>\n",
       "    <tr>\n",
       "      <th>0.0</th>\n",
       "      <td>10880</td>\n",
       "      <td>1361</td>\n",
       "    </tr>\n",
       "    <tr>\n",
       "      <th>1.0</th>\n",
       "      <td>1829</td>\n",
       "      <td>8186</td>\n",
       "    </tr>\n",
       "  </tbody>\n",
       "</table>\n",
       "</div>"
      ],
      "text/plain": [
       "predict    0.0   1.0\n",
       "true                \n",
       "0.0      10880  1361\n",
       "1.0       1829  8186"
      ]
     },
     "execution_count": 152,
     "metadata": {},
     "output_type": "execute_result"
    }
   ],
   "source": [
    "pd.crosstab(Y_test, y_pred_LogReg_vect, rownames=[\"true\"], colnames=[\"predict\"])\n"
   ]
  },
  {
   "cell_type": "code",
   "execution_count": 153,
   "id": "00a9a70b",
   "metadata": {},
   "outputs": [
    {
     "name": "stdout",
     "output_type": "stream",
     "text": [
      "Confusion Matrix for Logistic Regression\n"
     ]
    },
    {
     "data": {
      "image/png": "[encoded data removed]",
      "text/plain": [
       "<Figure size 640x480 with 2 Axes>"
      ]
     },
     "metadata": {},
     "output_type": "display_data"
    }
   ],
   "source": [
    "from mlxtend.plotting import plot_confusion_matrix\n",
    "\n",
    "print(\"Confusion Matrix for Logistic Regression\")\n",
    "plot_confusion_matrix(conf_mat = cf_matrix_LogReg_vect,\n",
    "                      show_absolute=True,\n",
    "                      show_normed=True,\n",
    "                      colorbar=True,\n",
    "                      class_names=['REAL','FAKE'])\n",
    "plt.show();\n"
   ]
  },
  {
   "cell_type": "code",
   "execution_count": null,
   "id": "16f825ae",
   "metadata": {},
   "outputs": [],
   "source": []
  },
  {
   "cell_type": "code",
   "execution_count": null,
   "id": "dccbadfd",
   "metadata": {},
   "outputs": [],
   "source": [
    "#### PASSIVE AGGRESSIVE "
   ]
  },
  {
   "cell_type": "code",
   "execution_count": 154,
   "id": "dc9c32e8",
   "metadata": {},
   "outputs": [
    {
     "data": {
      "text/html": [
       "<div>\n",
       "<style scoped>\n",
       "    .dataframe tbody tr th:only-of-type {\n",
       "        vertical-align: middle;\n",
       "    }\n",
       "\n",
       "    .dataframe tbody tr th {\n",
       "        vertical-align: top;\n",
       "    }\n",
       "\n",
       "    .dataframe thead th {\n",
       "        text-align: right;\n",
       "    }\n",
       "</style>\n",
       "<table border=\"1\" class=\"dataframe\">\n",
       "  <thead>\n",
       "    <tr style=\"text-align: right;\">\n",
       "      <th>predict</th>\n",
       "      <th>0.0</th>\n",
       "      <th>1.0</th>\n",
       "    </tr>\n",
       "    <tr>\n",
       "      <th>true</th>\n",
       "      <th></th>\n",
       "      <th></th>\n",
       "    </tr>\n",
       "  </thead>\n",
       "  <tbody>\n",
       "    <tr>\n",
       "      <th>0.0</th>\n",
       "      <td>10175</td>\n",
       "      <td>2066</td>\n",
       "    </tr>\n",
       "    <tr>\n",
       "      <th>1.0</th>\n",
       "      <td>1914</td>\n",
       "      <td>8101</td>\n",
       "    </tr>\n",
       "  </tbody>\n",
       "</table>\n",
       "</div>"
      ],
      "text/plain": [
       "predict    0.0   1.0\n",
       "true                \n",
       "0.0      10175  2066\n",
       "1.0       1914  8101"
      ]
     },
     "execution_count": 154,
     "metadata": {},
     "output_type": "execute_result"
    }
   ],
   "source": [
    "pd.crosstab(Y_test, y_pred_PassAgg_vect, rownames=[\"true\"], colnames=[\"predict\"])\n"
   ]
  },
  {
   "cell_type": "code",
   "execution_count": 155,
   "id": "39cad313",
   "metadata": {},
   "outputs": [
    {
     "name": "stdout",
     "output_type": "stream",
     "text": [
      "Confusion Matrix for Passive Aggressive\n"
     ]
    },
    {
     "data": {
      "image/png": "[encoded data removed]",
      "text/plain": [
       "<Figure size 640x480 with 2 Axes>"
      ]
     },
     "metadata": {},
     "output_type": "display_data"
    }
   ],
   "source": [
    "from mlxtend.plotting import plot_confusion_matrix\n",
    "\n",
    "print(\"Confusion Matrix for Passive Aggressive\")\n",
    "plot_confusion_matrix(conf_mat = cf_matrix_PassAgg_vect,\n",
    "                      show_absolute=True,\n",
    "                      show_normed=True,\n",
    "                      colorbar=True,\n",
    "                      class_names=['REAL','FAKE'])\n",
    "plt.show();\n"
   ]
  },
  {
   "cell_type": "code",
   "execution_count": null,
   "id": "2a4a72dc",
   "metadata": {},
   "outputs": [],
   "source": []
  },
  {
   "cell_type": "code",
   "execution_count": null,
   "id": "f612d838",
   "metadata": {},
   "outputs": [],
   "source": []
  },
  {
   "cell_type": "code",
   "execution_count": null,
   "id": "deaa3189",
   "metadata": {},
   "outputs": [],
   "source": []
  },
  {
   "cell_type": "markdown",
   "id": "04d240ae",
   "metadata": {},
   "source": [
    "# Building a system\n"
   ]
  },
  {
   "cell_type": "code",
   "execution_count": 156,
   "id": "0d4a190a",
   "metadata": {},
   "outputs": [],
   "source": [
    "# Finally to make this model useful we need to make a system. \n",
    "# Taking a sample out of the test-set (I took the first sample):\n",
    "X_sample = X_test_text[1]"
   ]
  },
  {
   "cell_type": "code",
   "execution_count": 157,
   "id": "ef34055e",
   "metadata": {},
   "outputs": [
    {
     "name": "stdout",
     "output_type": "stream",
     "text": [
      "The NEWS is Fake!\n"
     ]
    }
   ],
   "source": [
    "# Checking our prediction for this sample:\n",
    "\n",
    "# LightGBM\n",
    "prediction = clf_LightGBM_vect.predict(X_sample)\n",
    "if prediction == 0:\n",
    "    print('The NEWS is Real!')\n",
    "else:\n",
    "    print('The NEWS is Fake!')"
   ]
  },
  {
   "cell_type": "code",
   "execution_count": 158,
   "id": "44793e72",
   "metadata": {},
   "outputs": [
    {
     "name": "stdout",
     "output_type": "stream",
     "text": [
      "The NEWS is Real!\n"
     ]
    }
   ],
   "source": [
    "# Checking our prediction for this sample:\n",
    "\n",
    "# NB Bernoulli\n",
    "prediction = clf_Bern_vect.predict(X_sample)\n",
    "if prediction == 0:\n",
    "    print('The NEWS is Real!')\n",
    "else:\n",
    "    print('The NEWS is Fake!')"
   ]
  },
  {
   "cell_type": "code",
   "execution_count": 159,
   "id": "522de2cd",
   "metadata": {},
   "outputs": [
    {
     "name": "stdout",
     "output_type": "stream",
     "text": [
      "The NEWS is Real!\n"
     ]
    }
   ],
   "source": [
    "# Checking our prediction for this sample:\n",
    "\n",
    "# NB Multinomial\n",
    "prediction = clf_mult_vect.predict(X_sample)\n",
    "if prediction == 0:\n",
    "    print('The NEWS is Real!')\n",
    "else:\n",
    "    print('The NEWS is Fake!')"
   ]
  },
  {
   "cell_type": "code",
   "execution_count": 160,
   "id": "3968d06a",
   "metadata": {},
   "outputs": [
    {
     "name": "stdout",
     "output_type": "stream",
     "text": [
      "The NEWS is Real!\n"
     ]
    }
   ],
   "source": [
    "# Checking our prediction for this sample:\n",
    "\n",
    "# PAC\n",
    "prediction = pac.predict(X_sample)\n",
    "if prediction == 0:\n",
    "    print('The NEWS is Real!')\n",
    "else:\n",
    "    print('The NEWS is Fake!')"
   ]
  },
  {
   "cell_type": "code",
   "execution_count": 161,
   "id": "e8345c1a",
   "metadata": {},
   "outputs": [
    {
     "name": "stdout",
     "output_type": "stream",
     "text": [
      "The NEWS is Real!\n"
     ]
    }
   ],
   "source": [
    "# LOG REG\n",
    "prediction = clf_LogReg_vect.predict(X_sample)\n",
    "if prediction == 0:\n",
    "    print('The NEWS is Real!')\n",
    "else:\n",
    "    print('The NEWS is Fake!')"
   ]
  },
  {
   "cell_type": "code",
   "execution_count": null,
   "id": "7a6b8a3c",
   "metadata": {},
   "outputs": [],
   "source": []
  },
  {
   "cell_type": "code",
   "execution_count": null,
   "id": "a5a7cdee",
   "metadata": {},
   "outputs": [],
   "source": []
  },
  {
   "cell_type": "code",
   "execution_count": null,
   "id": "519c8c9c",
   "metadata": {},
   "outputs": [],
   "source": []
  },
  {
   "cell_type": "markdown",
   "id": "0992dd4d",
   "metadata": {},
   "source": [
    "# VOTING\n",
    "# EVTL. MEMORY ERROR\n"
   ]
  },
  {
   "cell_type": "markdown",
   "id": "79cde020",
   "metadata": {},
   "source": [
    "## We try voting with 2/3 best models\n",
    "\n",
    "LightGBM\n",
    "evtl. CatBoost\n",
    "Logistic Regression\n",
    "Passive Aggressive Classifier"
   ]
  },
  {
   "cell_type": "code",
   "execution_count": null,
   "id": "3e49df50",
   "metadata": {},
   "outputs": [],
   "source": []
  },
  {
   "cell_type": "code",
   "execution_count": null,
   "id": "59d05765",
   "metadata": {},
   "outputs": [],
   "source": []
  },
  {
   "cell_type": "code",
   "execution_count": null,
   "id": "d5d73887",
   "metadata": {},
   "outputs": [],
   "source": []
  },
  {
   "cell_type": "markdown",
   "id": "b82f7de5",
   "metadata": {},
   "source": [
    "# INTERPRETATION"
   ]
  },
  {
   "cell_type": "code",
   "execution_count": null,
   "id": "f1873201",
   "metadata": {},
   "outputs": [],
   "source": [
    "# xgb.plot_importance(xgb2, max_num_features=15);"
   ]
  },
  {
   "cell_type": "code",
   "execution_count": null,
   "id": "ceab4c8b",
   "metadata": {},
   "outputs": [],
   "source": []
  },
  {
   "cell_type": "code",
   "execution_count": null,
   "id": "89c62eb0",
   "metadata": {},
   "outputs": [],
   "source": []
  }
 ],
 "metadata": {
  "kernelspec": {
   "display_name": "Python 3 (ipykernel)",
   "language": "python",
   "name": "python3"
  },
  "language_info": {
   "codemirror_mode": {
    "name": "ipython",
    "version": 3
   },
   "file_extension": ".py",
   "mimetype": "text/x-python",
   "name": "python",
   "nbconvert_exporter": "python",
   "pygments_lexer": "ipython3",
   "version": "3.10.9"
  }
 },
 "nbformat": 4,
 "nbformat_minor": 5
}
