{
 "cells": [
  {
   "cell_type": "markdown",
   "id": "206be5b3",
   "metadata": {},
   "source": [
    "# Fake News Project\n",
    "# Modeling - Update After Final Report\n",
    "\n",
    "# WORD2VEC\n"
   ]
  },
  {
   "cell_type": "markdown",
   "id": "b9d2187f",
   "metadata": {},
   "source": [
    "# Import libraries"
   ]
  },
  {
   "cell_type": "code",
   "execution_count": 1,
   "id": "8155f53c",
   "metadata": {},
   "outputs": [],
   "source": [
    "#importing Libraries\n",
    "import numpy as np\n",
    "import pandas as pd\n",
    "from matplotlib.pylab import plt\n",
    "import seaborn as sns\n",
    "# from sqlalchemy import create_engine\n",
    "# import sqlalchemy as \n",
    "import sqlite3\n",
    "import nltk\n",
    "from nltk.tokenize import word_tokenize\n",
    "\n",
    "import nltk\n",
    "from sklearn.preprocessing import LabelBinarizer\n",
    "from nltk.corpus import stopwords\n",
    "from nltk.stem.porter import PorterStemmer\n",
    "from wordcloud import STOPWORDS,WordCloud\n",
    "from nltk.stem import WordNetLemmatizer\n",
    "from nltk.tokenize import word_tokenize,sent_tokenize\n",
    "from bs4 import BeautifulSoup\n",
    "import re,string,unicodedata\n",
    "from sklearn.metrics import f1_score\n",
    "\n",
    "from joblib import dump, load"
   ]
  },
  {
   "cell_type": "code",
   "execution_count": 2,
   "id": "4e048ed5",
   "metadata": {},
   "outputs": [],
   "source": [
    "import warnings\n",
    "\n",
    "warnings.filterwarnings(action=\"ignore\")"
   ]
  },
  {
   "cell_type": "code",
   "execution_count": null,
   "id": "e25acee2",
   "metadata": {},
   "outputs": [],
   "source": []
  },
  {
   "cell_type": "markdown",
   "id": "19c0f2cb",
   "metadata": {},
   "source": [
    "# Load Dataset"
   ]
  },
  {
   "cell_type": "code",
   "execution_count": 3,
   "id": "a0627c63",
   "metadata": {},
   "outputs": [],
   "source": [
    "df= pd.read_pickle(\"strats_new.pkl\")"
   ]
  },
  {
   "cell_type": "code",
   "execution_count": 4,
   "id": "d99f6c78",
   "metadata": {},
   "outputs": [],
   "source": [
    "# For modeling purposes, we deleted missing values in the column \"labels\" (target variable). \n",
    "df.dropna(subset=['label'], axis = 0, inplace=True)"
   ]
  },
  {
   "cell_type": "code",
   "execution_count": 5,
   "id": "46f35248",
   "metadata": {},
   "outputs": [
    {
     "data": {
      "text/plain": [
       "0.0    61222\n",
       "1.0    50058\n",
       "Name: label, dtype: int64"
      ]
     },
     "execution_count": 5,
     "metadata": {},
     "output_type": "execute_result"
    }
   ],
   "source": [
    "## calculate frequencies of labels\n",
    "df[\"label\"].value_counts()"
   ]
  },
  {
   "cell_type": "code",
   "execution_count": 6,
   "id": "97cf0ee5",
   "metadata": {},
   "outputs": [],
   "source": [
    "# Create a boolean mask to select rows where the label is not equal to 2\n",
    "mask = df[\"label\"] != 2\n",
    "\n",
    "# Use the mask to filter the DataFrame\n",
    "df_no2 = df[mask]"
   ]
  },
  {
   "cell_type": "code",
   "execution_count": 7,
   "id": "2e2ffc88",
   "metadata": {},
   "outputs": [],
   "source": [
    "# Seperating target and data\n",
    "Y_no2 = df_no2[\"label\"]\n",
    "X_no2 = df_no2.drop(\"label\", axis=1)\n"
   ]
  },
  {
   "cell_type": "code",
   "execution_count": 8,
   "id": "b5bc4b0a",
   "metadata": {},
   "outputs": [
    {
     "name": "stdout",
     "output_type": "stream",
     "text": [
      "<class 'pandas.core.frame.DataFrame'>\n",
      "Int64Index: 111280 entries, 0 to 177830\n",
      "Data columns (total 20 columns):\n",
      " #   Column                    Non-Null Count   Dtype  \n",
      "---  ------                    --------------   -----  \n",
      " 0   id                        111280 non-null  object \n",
      " 1   date                      111280 non-null  object \n",
      " 2   source                    111280 non-null  object \n",
      " 3   title                     111280 non-null  object \n",
      " 4   content                   111280 non-null  object \n",
      " 5   author                    111280 non-null  object \n",
      " 6   url                       111280 non-null  object \n",
      " 7   published                 111280 non-null  object \n",
      " 8   published_utc             111280 non-null  int64  \n",
      " 9   collection_utc            111280 non-null  int64  \n",
      " 10  country                   106074 non-null  object \n",
      " 11  bias                      111280 non-null  object \n",
      " 12  factuality                110158 non-null  float64\n",
      " 13  questionable-source       111280 non-null  float64\n",
      " 14  conspiracy-pseudoscience  111280 non-null  float64\n",
      " 15  pro-science               111280 non-null  float64\n",
      " 16  word_count_content        111280 non-null  int64  \n",
      " 17  word_count_title          111280 non-null  int64  \n",
      " 18  nb_character_content      111280 non-null  int64  \n",
      " 19  nb_character_title        111280 non-null  int64  \n",
      "dtypes: float64(4), int64(6), object(10)\n",
      "memory usage: 17.8+ MB\n"
     ]
    }
   ],
   "source": [
    "X_no2.info()"
   ]
  },
  {
   "cell_type": "code",
   "execution_count": 9,
   "id": "fe015163",
   "metadata": {},
   "outputs": [
    {
     "data": {
      "text/plain": [
       "id                             0\n",
       "date                           0\n",
       "source                         0\n",
       "title                          0\n",
       "content                        0\n",
       "author                         0\n",
       "url                            0\n",
       "published                      0\n",
       "published_utc                  0\n",
       "collection_utc                 0\n",
       "country                     5206\n",
       "bias                           0\n",
       "factuality                  1122\n",
       "questionable-source            0\n",
       "conspiracy-pseudoscience       0\n",
       "pro-science                    0\n",
       "word_count_content             0\n",
       "word_count_title               0\n",
       "nb_character_content           0\n",
       "nb_character_title             0\n",
       "dtype: int64"
      ]
     },
     "execution_count": 9,
     "metadata": {},
     "output_type": "execute_result"
    }
   ],
   "source": [
    "X_no2.isnull().sum()"
   ]
  },
  {
   "cell_type": "code",
   "execution_count": 10,
   "id": "4654be88",
   "metadata": {},
   "outputs": [
    {
     "data": {
      "text/plain": [
       "(111280, 20)"
      ]
     },
     "execution_count": 10,
     "metadata": {},
     "output_type": "execute_result"
    }
   ],
   "source": [
    "X_no2.shape"
   ]
  },
  {
   "cell_type": "code",
   "execution_count": 11,
   "id": "599152b1",
   "metadata": {},
   "outputs": [
    {
     "name": "stdout",
     "output_type": "stream",
     "text": [
      "<class 'pandas.core.series.Series'>\n",
      "Int64Index: 111280 entries, 0 to 177830\n",
      "Series name: label\n",
      "Non-Null Count   Dtype  \n",
      "--------------   -----  \n",
      "111280 non-null  float64\n",
      "dtypes: float64(1)\n",
      "memory usage: 1.7 MB\n"
     ]
    }
   ],
   "source": [
    "Y_no2.info()"
   ]
  },
  {
   "cell_type": "code",
   "execution_count": 12,
   "id": "2ee0e22e",
   "metadata": {},
   "outputs": [
    {
     "data": {
      "text/plain": [
       "0"
      ]
     },
     "execution_count": 12,
     "metadata": {},
     "output_type": "execute_result"
    }
   ],
   "source": [
    "Y_no2.isnull().sum()"
   ]
  },
  {
   "cell_type": "code",
   "execution_count": 13,
   "id": "988de90a",
   "metadata": {
    "scrolled": true
   },
   "outputs": [
    {
     "data": {
      "text/plain": [
       "(111280,)"
      ]
     },
     "execution_count": 13,
     "metadata": {},
     "output_type": "execute_result"
    }
   ],
   "source": [
    "Y_no2.shape"
   ]
  },
  {
   "cell_type": "code",
   "execution_count": null,
   "id": "9ee6b1af",
   "metadata": {},
   "outputs": [],
   "source": []
  },
  {
   "cell_type": "markdown",
   "id": "021594cd",
   "metadata": {},
   "source": [
    "# WORD2VEC \n",
    "## takes 20-30 minutes overall\n"
   ]
  },
  {
   "cell_type": "code",
   "execution_count": 14,
   "id": "9b45292b",
   "metadata": {},
   "outputs": [],
   "source": [
    "X_text2 = X_no2[[\"title\", \"content\"]]"
   ]
  },
  {
   "cell_type": "code",
   "execution_count": 15,
   "id": "84debab1",
   "metadata": {},
   "outputs": [
    {
     "data": {
      "text/plain": [
       "(111280, 2)"
      ]
     },
     "execution_count": 15,
     "metadata": {},
     "output_type": "execute_result"
    }
   ],
   "source": [
    "X_text2.shape"
   ]
  },
  {
   "cell_type": "code",
   "execution_count": 16,
   "id": "4d8d3bdb",
   "metadata": {},
   "outputs": [
    {
     "name": "stderr",
     "output_type": "stream",
     "text": [
      "[nltk_data] Downloading package punkt to\n",
      "[nltk_data]     C:\\Users\\Nutzer\\AppData\\Roaming\\nltk_data...\n",
      "[nltk_data]   Package punkt is already up-to-date!\n"
     ]
    }
   ],
   "source": [
    "from gensim.models import Word2Vec\n",
    "from nltk.tokenize import sent_tokenize, word_tokenize\n",
    "import nltk\n",
    "nltk.download(\"punkt\")\n",
    "import warnings\n",
    "\n",
    "warnings.filterwarnings(action=\"ignore\")"
   ]
  },
  {
   "cell_type": "code",
   "execution_count": 17,
   "id": "a9f7dfe3",
   "metadata": {},
   "outputs": [],
   "source": [
    "title_sentences = [sent_tokenize(text) for text in X_text2[\"title\"]]\n",
    "content_sentences = [sent_tokenize(text) for text in X_text2[\"content\"]]\n",
    "\n",
    "tokenized_title_sentences = [[word_tokenize(sentence) for sentence in sentence_list] for sentence_list in title_sentences]\n",
    "tokenized_content_sentences = [[word_tokenize(sentence) for sentence in sentence_list] for sentence_list in content_sentences]\n",
    "\n",
    "tokenized_sentences = [sentence for sentence_list in tokenized_title_sentences + tokenized_content_sentences for sentence in sentence_list]"
   ]
  },
  {
   "cell_type": "code",
   "execution_count": 18,
   "id": "540968b0",
   "metadata": {},
   "outputs": [],
   "source": [
    "model = Word2Vec(tokenized_sentences, min_count=1, vector_size=200)\n",
    "# takes 10 minutes\n"
   ]
  },
  {
   "cell_type": "code",
   "execution_count": 19,
   "id": "c88965e4",
   "metadata": {},
   "outputs": [],
   "source": [
    "title_feature_vectors = []\n",
    "content_feature_vectors = []\n",
    "for title, content in zip(X_text2[\"title\"], X_text2[\"content\"]):\n",
    "    title_words = word_tokenize(title)\n",
    "    content_words = word_tokenize(content)\n",
    "    title_word_vectors = [model.wv[word] for word in title_words if word in model.wv]\n",
    "    content_word_vectors = [model.wv[word] for word in content_words if word in model.wv]\n",
    "    if title_word_vectors:\n",
    "        title_feature_vector = np.mean(title_word_vectors, axis=0)\n",
    "    else:\n",
    "        title_feature_vector = np.zeros(model.vector_size)\n",
    "    if content_word_vectors:\n",
    "        content_feature_vector = np.mean(content_word_vectors, axis=0)\n",
    "    else:\n",
    "        content_feature_vector = np.zeros(model.vector_size)\n",
    "    title_feature_vectors.append(title_feature_vector)\n",
    "    content_feature_vectors.append(content_feature_vector)"
   ]
  },
  {
   "cell_type": "code",
   "execution_count": 20,
   "id": "91989185",
   "metadata": {},
   "outputs": [
    {
     "name": "stdout",
     "output_type": "stream",
     "text": [
      "(111280, 400)\n"
     ]
    }
   ],
   "source": [
    "X_w2v = np.hstack((title_feature_vectors, content_feature_vectors))\n",
    "print(X_w2v.shape)\n"
   ]
  },
  {
   "cell_type": "code",
   "execution_count": 21,
   "id": "ed6a7ba5",
   "metadata": {
    "scrolled": true
   },
   "outputs": [
    {
     "data": {
      "text/plain": [
       "(111280,)"
      ]
     },
     "execution_count": 21,
     "metadata": {},
     "output_type": "execute_result"
    }
   ],
   "source": [
    "Y_no2.shape"
   ]
  },
  {
   "cell_type": "code",
   "execution_count": null,
   "id": "858ce426",
   "metadata": {},
   "outputs": [],
   "source": []
  },
  {
   "cell_type": "code",
   "execution_count": null,
   "id": "add1c709",
   "metadata": {},
   "outputs": [],
   "source": []
  },
  {
   "cell_type": "markdown",
   "id": "43a18939",
   "metadata": {},
   "source": [
    "# Create Train / Test Datasets for Word2Vec\n",
    "# X_train_w2v, X_test_w2v, y_train_w2v, y_test_w2v"
   ]
  },
  {
   "cell_type": "code",
   "execution_count": 22,
   "id": "e86e66aa",
   "metadata": {},
   "outputs": [],
   "source": [
    "# Split the dataset:\n",
    "from sklearn.model_selection import train_test_split"
   ]
  },
  {
   "cell_type": "code",
   "execution_count": 23,
   "id": "d33e12ff",
   "metadata": {},
   "outputs": [],
   "source": [
    "X_train_w2v, X_test_w2v, y_train_w2v, y_test_w2v = train_test_split(X_w2v, Y_no2, test_size=0.2, random_state = 2)"
   ]
  },
  {
   "cell_type": "code",
   "execution_count": null,
   "id": "65bae913",
   "metadata": {},
   "outputs": [],
   "source": []
  },
  {
   "cell_type": "markdown",
   "id": "6eaf180c",
   "metadata": {},
   "source": [
    "# LIGHT GBM 500 WORD2VEC\n",
    "# use saved model\n",
    "# model saved as model_clf_Light_500_w2v.joblib\n"
   ]
  },
  {
   "cell_type": "code",
   "execution_count": 24,
   "id": "f583e752",
   "metadata": {},
   "outputs": [],
   "source": [
    "import lightgbm as lgb\n"
   ]
  },
  {
   "cell_type": "code",
   "execution_count": 25,
   "id": "b26dff51",
   "metadata": {},
   "outputs": [],
   "source": [
    "Light_w2v = lgb.Dataset(X_train_w2v.astype(float), label=y_train_w2v.astype(float))\n",
    "\n",
    "# Set the hyperparameters for the LightGBM model\n",
    "paramsLight_w2v = {\n",
    "    'boosting_type': 'gbdt',\n",
    "    'objective': 'binary',  # Set the appropriate objective for your classification task\n",
    "    'metric': 'binary_logloss',  # Set the appropriate metric for evaluation\n",
    "    'num_leaves': 31,\n",
    "    'learning_rate': 0.05,\n",
    "    'feature_fraction': 0.9,\n",
    "    'bagging_fraction': 0.8,\n",
    "    'bagging_freq': 5,\n",
    "    'verbose': 0\n",
    "}"
   ]
  },
  {
   "cell_type": "code",
   "execution_count": 26,
   "id": "85eb29d0",
   "metadata": {},
   "outputs": [
    {
     "name": "stdout",
     "output_type": "stream",
     "text": [
      "[LightGBM] [Warning] Auto-choosing col-wise multi-threading, the overhead of testing was 0.440229 seconds.\n",
      "You can set `force_col_wise=true` to remove the overhead.\n"
     ]
    }
   ],
   "source": [
    "# clf_Light_500_w2v = lgb.train(paramsLight_w2v, Light_w2v, num_boost_round=500)\n",
    "\n",
    "# only run once\n",
    "# then load saved model"
   ]
  },
  {
   "cell_type": "code",
   "execution_count": 229,
   "id": "617247d1",
   "metadata": {},
   "outputs": [],
   "source": [
    "from joblib import dump, load"
   ]
  },
  {
   "cell_type": "code",
   "execution_count": 230,
   "id": "69761d69",
   "metadata": {},
   "outputs": [],
   "source": [
    "# LOAD SAVED MODEL\n",
    "clf_Light_500_w2v = load(\"model_clf_Light_500_w2v.joblib\")\n"
   ]
  },
  {
   "cell_type": "code",
   "execution_count": 97,
   "id": "090a4ed2",
   "metadata": {},
   "outputs": [],
   "source": [
    "y_pred_Light_500_w2v = clf_Light_500_w2v.predict(X_test_w2v)\n",
    "y_pred_Light_500_w2v_binary = [round(pred) for pred in y_pred_Light_500_w2v]\n"
   ]
  },
  {
   "cell_type": "code",
   "execution_count": 98,
   "id": "cff00729",
   "metadata": {},
   "outputs": [
    {
     "name": "stdout",
     "output_type": "stream",
     "text": [
      "Accuracy LightGBM 500 w2v: 0.8417056074766355\n"
     ]
    }
   ],
   "source": [
    "from sklearn.metrics import accuracy_score\n",
    "from sklearn.metrics import classification_report\n",
    "\n",
    "accuracy_Light_500_w2v = accuracy_score(y_test_w2v, y_pred_Light_500_w2v_binary)\n",
    "print(\"Accuracy LightGBM 500 w2v:\", accuracy_Light_500_w2v)\n",
    "\n",
    "# 0.841"
   ]
  },
  {
   "cell_type": "code",
   "execution_count": 99,
   "id": "59647feb",
   "metadata": {},
   "outputs": [
    {
     "data": {
      "text/plain": [
       "0.8193055341847464"
      ]
     },
     "execution_count": 99,
     "metadata": {},
     "output_type": "execute_result"
    }
   ],
   "source": [
    "# Evaluate the model with f1 score\n",
    "from sklearn.metrics import f1_score\n",
    "\n",
    "f1_Light_500_w2v = f1_score(y_test_w2v, y_pred_Light_500_w2v_binary)\n",
    "f1_Light_500_w2v\n",
    "\n",
    "# 0.819"
   ]
  },
  {
   "cell_type": "code",
   "execution_count": 100,
   "id": "b73feea1",
   "metadata": {},
   "outputs": [
    {
     "name": "stdout",
     "output_type": "stream",
     "text": [
      "              precision    recall  f1-score   support\n",
      "\n",
      "         0.0       0.84      0.88      0.86     12216\n",
      "         1.0       0.84      0.80      0.82     10040\n",
      "\n",
      "    accuracy                           0.84     22256\n",
      "   macro avg       0.84      0.84      0.84     22256\n",
      "weighted avg       0.84      0.84      0.84     22256\n",
      "\n"
     ]
    }
   ],
   "source": [
    "print(classification_report(y_test_w2v, y_pred_Light_500_w2v_binary))"
   ]
  },
  {
   "cell_type": "code",
   "execution_count": 101,
   "id": "f2a74391",
   "metadata": {
    "scrolled": false
   },
   "outputs": [
    {
     "data": {
      "text/html": [
       "<div>\n",
       "<style scoped>\n",
       "    .dataframe tbody tr th:only-of-type {\n",
       "        vertical-align: middle;\n",
       "    }\n",
       "\n",
       "    .dataframe tbody tr th {\n",
       "        vertical-align: top;\n",
       "    }\n",
       "\n",
       "    .dataframe thead th {\n",
       "        text-align: right;\n",
       "    }\n",
       "</style>\n",
       "<table border=\"1\" class=\"dataframe\">\n",
       "  <thead>\n",
       "    <tr style=\"text-align: right;\">\n",
       "      <th>predict</th>\n",
       "      <th>0</th>\n",
       "      <th>1</th>\n",
       "    </tr>\n",
       "    <tr>\n",
       "      <th>real</th>\n",
       "      <th></th>\n",
       "      <th></th>\n",
       "    </tr>\n",
       "  </thead>\n",
       "  <tbody>\n",
       "    <tr>\n",
       "      <th>0.0</th>\n",
       "      <td>10746</td>\n",
       "      <td>1470</td>\n",
       "    </tr>\n",
       "    <tr>\n",
       "      <th>1.0</th>\n",
       "      <td>2053</td>\n",
       "      <td>7987</td>\n",
       "    </tr>\n",
       "  </tbody>\n",
       "</table>\n",
       "</div>"
      ],
      "text/plain": [
       "predict      0     1\n",
       "real                \n",
       "0.0      10746  1470\n",
       "1.0       2053  7987"
      ]
     },
     "execution_count": 101,
     "metadata": {},
     "output_type": "execute_result"
    }
   ],
   "source": [
    "pd.crosstab(y_test_w2v, y_pred_Light_500_w2v_binary, rownames=[\"real\"], colnames=[\"predict\"])"
   ]
  },
  {
   "cell_type": "markdown",
   "id": "f495c6a8",
   "metadata": {},
   "source": [
    "## SAVE LightGBM 500 rounds word2vec\n",
    "## ALREADY SAVED\n"
   ]
  },
  {
   "cell_type": "code",
   "execution_count": 32,
   "id": "8c30a8cb",
   "metadata": {},
   "outputs": [],
   "source": [
    "# from joblib import dump, load"
   ]
  },
  {
   "cell_type": "code",
   "execution_count": 33,
   "id": "fff6e196",
   "metadata": {},
   "outputs": [
    {
     "data": {
      "text/plain": [
       "['model_clf_Light_500_w2v.joblib']"
      ]
     },
     "execution_count": 33,
     "metadata": {},
     "output_type": "execute_result"
    }
   ],
   "source": [
    "# dump(clf_Light_500_w2v, \"model_clf_Light_500_w2v.joblib\")"
   ]
  },
  {
   "cell_type": "code",
   "execution_count": null,
   "id": "b5279cb8",
   "metadata": {},
   "outputs": [],
   "source": []
  },
  {
   "cell_type": "code",
   "execution_count": null,
   "id": "ab7b4924",
   "metadata": {},
   "outputs": [],
   "source": []
  },
  {
   "cell_type": "markdown",
   "id": "23e96ae6",
   "metadata": {},
   "source": [
    "# RANDOM FOREST WORD2VEC\n",
    "# use saved model\n",
    "# model saved as model_clf_rf_w2v.joblib"
   ]
  },
  {
   "cell_type": "code",
   "execution_count": 102,
   "id": "498a9642",
   "metadata": {},
   "outputs": [],
   "source": [
    "# Instantiate the model\n",
    "from sklearn.ensemble import RandomForestClassifier\n"
   ]
  },
  {
   "cell_type": "code",
   "execution_count": 35,
   "id": "7612cc1f",
   "metadata": {},
   "outputs": [],
   "source": [
    "# clf_rf_w2v = RandomForestClassifier(n_jobs=-1)\n",
    "\n",
    "# only run once\n",
    "# then load saved model"
   ]
  },
  {
   "cell_type": "code",
   "execution_count": 36,
   "id": "0b5e51ec",
   "metadata": {},
   "outputs": [
    {
     "data": {
      "text/html": [
       "<style>#sk-container-id-1 {color: black;background-color: white;}#sk-container-id-1 pre{padding: 0;}#sk-container-id-1 div.sk-toggleable {background-color: white;}#sk-container-id-1 label.sk-toggleable__label {cursor: pointer;display: block;width: 100%;margin-bottom: 0;padding: 0.3em;box-sizing: border-box;text-align: center;}#sk-container-id-1 label.sk-toggleable__label-arrow:before {content: \"▸\";float: left;margin-right: 0.25em;color: #696969;}#sk-container-id-1 label.sk-toggleable__label-arrow:hover:before {color: black;}#sk-container-id-1 div.sk-estimator:hover label.sk-toggleable__label-arrow:before {color: black;}#sk-container-id-1 div.sk-toggleable__content {max-height: 0;max-width: 0;overflow: hidden;text-align: left;background-color: #f0f8ff;}#sk-container-id-1 div.sk-toggleable__content pre {margin: 0.2em;color: black;border-radius: 0.25em;background-color: #f0f8ff;}#sk-container-id-1 input.sk-toggleable__control:checked~div.sk-toggleable__content {max-height: 200px;max-width: 100%;overflow: auto;}#sk-container-id-1 input.sk-toggleable__control:checked~label.sk-toggleable__label-arrow:before {content: \"▾\";}#sk-container-id-1 div.sk-estimator input.sk-toggleable__control:checked~label.sk-toggleable__label {background-color: #d4ebff;}#sk-container-id-1 div.sk-label input.sk-toggleable__control:checked~label.sk-toggleable__label {background-color: #d4ebff;}#sk-container-id-1 input.sk-hidden--visually {border: 0;clip: rect(1px 1px 1px 1px);clip: rect(1px, 1px, 1px, 1px);height: 1px;margin: -1px;overflow: hidden;padding: 0;position: absolute;width: 1px;}#sk-container-id-1 div.sk-estimator {font-family: monospace;background-color: #f0f8ff;border: 1px dotted black;border-radius: 0.25em;box-sizing: border-box;margin-bottom: 0.5em;}#sk-container-id-1 div.sk-estimator:hover {background-color: #d4ebff;}#sk-container-id-1 div.sk-parallel-item::after {content: \"\";width: 100%;border-bottom: 1px solid gray;flex-grow: 1;}#sk-container-id-1 div.sk-label:hover label.sk-toggleable__label {background-color: #d4ebff;}#sk-container-id-1 div.sk-serial::before {content: \"\";position: absolute;border-left: 1px solid gray;box-sizing: border-box;top: 0;bottom: 0;left: 50%;z-index: 0;}#sk-container-id-1 div.sk-serial {display: flex;flex-direction: column;align-items: center;background-color: white;padding-right: 0.2em;padding-left: 0.2em;position: relative;}#sk-container-id-1 div.sk-item {position: relative;z-index: 1;}#sk-container-id-1 div.sk-parallel {display: flex;align-items: stretch;justify-content: center;background-color: white;position: relative;}#sk-container-id-1 div.sk-item::before, #sk-container-id-1 div.sk-parallel-item::before {content: \"\";position: absolute;border-left: 1px solid gray;box-sizing: border-box;top: 0;bottom: 0;left: 50%;z-index: -1;}#sk-container-id-1 div.sk-parallel-item {display: flex;flex-direction: column;z-index: 1;position: relative;background-color: white;}#sk-container-id-1 div.sk-parallel-item:first-child::after {align-self: flex-end;width: 50%;}#sk-container-id-1 div.sk-parallel-item:last-child::after {align-self: flex-start;width: 50%;}#sk-container-id-1 div.sk-parallel-item:only-child::after {width: 0;}#sk-container-id-1 div.sk-dashed-wrapped {border: 1px dashed gray;margin: 0 0.4em 0.5em 0.4em;box-sizing: border-box;padding-bottom: 0.4em;background-color: white;}#sk-container-id-1 div.sk-label label {font-family: monospace;font-weight: bold;display: inline-block;line-height: 1.2em;}#sk-container-id-1 div.sk-label-container {text-align: center;}#sk-container-id-1 div.sk-container {/* jupyter's `normalize.less` sets `[hidden] { display: none; }` but bootstrap.min.css set `[hidden] { display: none !important; }` so we also need the `!important` here to be able to override the default hidden behavior on the sphinx rendered scikit-learn.org. See: https://github.com/scikit-learn/scikit-learn/issues/21755 */display: inline-block !important;position: relative;}#sk-container-id-1 div.sk-text-repr-fallback {display: none;}</style><div id=\"sk-container-id-1\" class=\"sk-top-container\"><div class=\"sk-text-repr-fallback\"><pre>RandomForestClassifier(n_jobs=-1)</pre><b>In a Jupyter environment, please rerun this cell to show the HTML representation or trust the notebook. <br />On GitHub, the HTML representation is unable to render, please try loading this page with nbviewer.org.</b></div><div class=\"sk-container\" hidden><div class=\"sk-item\"><div class=\"sk-estimator sk-toggleable\"><input class=\"sk-toggleable__control sk-hidden--visually\" id=\"sk-estimator-id-1\" type=\"checkbox\" checked><label for=\"sk-estimator-id-1\" class=\"sk-toggleable__label sk-toggleable__label-arrow\">RandomForestClassifier</label><div class=\"sk-toggleable__content\"><pre>RandomForestClassifier(n_jobs=-1)</pre></div></div></div></div></div>"
      ],
      "text/plain": [
       "RandomForestClassifier(n_jobs=-1)"
      ]
     },
     "execution_count": 36,
     "metadata": {},
     "output_type": "execute_result"
    }
   ],
   "source": [
    "# fit model\n",
    "# clf_rf_w2v.fit(X_train_w2v, y_train_w2v)\n",
    "\n",
    "# only run once\n",
    "# then load saved model"
   ]
  },
  {
   "cell_type": "code",
   "execution_count": 103,
   "id": "07f769f2",
   "metadata": {},
   "outputs": [],
   "source": [
    "from joblib import dump, load"
   ]
  },
  {
   "cell_type": "code",
   "execution_count": 104,
   "id": "f62cbc27",
   "metadata": {},
   "outputs": [],
   "source": [
    "# LOAD SAVED MODEL\n",
    "clf_rf_w2v = load(\"model_clf_rf_w2v.joblib\")\n"
   ]
  },
  {
   "cell_type": "code",
   "execution_count": 105,
   "id": "31af7406",
   "metadata": {},
   "outputs": [],
   "source": [
    "#Predict on the test set \n",
    "y_pred_rf_w2v = clf_rf_w2v.predict(X_test_w2v)"
   ]
  },
  {
   "cell_type": "code",
   "execution_count": 106,
   "id": "a764f133",
   "metadata": {},
   "outputs": [
    {
     "data": {
      "text/plain": [
       "0.8049065420560748"
      ]
     },
     "execution_count": 106,
     "metadata": {},
     "output_type": "execute_result"
    }
   ],
   "source": [
    "# get accuracy\n",
    "accuracy_rf_w2v = clf_rf_w2v.score(X_test_w2v, y_test_w2v)\n",
    "accuracy_rf_w2v\n",
    "\n",
    "# 0.80"
   ]
  },
  {
   "cell_type": "code",
   "execution_count": 107,
   "id": "612aa8d4",
   "metadata": {},
   "outputs": [
    {
     "data": {
      "text/plain": [
       "0.7695573718288928"
      ]
     },
     "execution_count": 107,
     "metadata": {},
     "output_type": "execute_result"
    }
   ],
   "source": [
    "# Evaluate the model with f1 score\n",
    "from sklearn.metrics import f1_score\n",
    "\n",
    "f1_rf_w2v = f1_score(y_test_w2v, y_pred_rf_w2v)\n",
    "f1_rf_w2v\n",
    "\n",
    "# 0.769"
   ]
  },
  {
   "cell_type": "code",
   "execution_count": 108,
   "id": "b6c8218d",
   "metadata": {},
   "outputs": [
    {
     "data": {
      "text/html": [
       "<div>\n",
       "<style scoped>\n",
       "    .dataframe tbody tr th:only-of-type {\n",
       "        vertical-align: middle;\n",
       "    }\n",
       "\n",
       "    .dataframe tbody tr th {\n",
       "        vertical-align: top;\n",
       "    }\n",
       "\n",
       "    .dataframe thead th {\n",
       "        text-align: right;\n",
       "    }\n",
       "</style>\n",
       "<table border=\"1\" class=\"dataframe\">\n",
       "  <thead>\n",
       "    <tr style=\"text-align: right;\">\n",
       "      <th>predict</th>\n",
       "      <th>0.0</th>\n",
       "      <th>1.0</th>\n",
       "    </tr>\n",
       "    <tr>\n",
       "      <th>true</th>\n",
       "      <th></th>\n",
       "      <th></th>\n",
       "    </tr>\n",
       "  </thead>\n",
       "  <tbody>\n",
       "    <tr>\n",
       "      <th>0.0</th>\n",
       "      <td>10664</td>\n",
       "      <td>1552</td>\n",
       "    </tr>\n",
       "    <tr>\n",
       "      <th>1.0</th>\n",
       "      <td>2790</td>\n",
       "      <td>7250</td>\n",
       "    </tr>\n",
       "  </tbody>\n",
       "</table>\n",
       "</div>"
      ],
      "text/plain": [
       "predict    0.0   1.0\n",
       "true                \n",
       "0.0      10664  1552\n",
       "1.0       2790  7250"
      ]
     },
     "execution_count": 108,
     "metadata": {},
     "output_type": "execute_result"
    }
   ],
   "source": [
    "# get confusion matrix\n",
    "pd.crosstab(y_test_w2v, y_pred_rf_w2v, rownames=[\"true\"], colnames=[\"predict\"])"
   ]
  },
  {
   "cell_type": "code",
   "execution_count": 109,
   "id": "e9265a91",
   "metadata": {},
   "outputs": [
    {
     "name": "stdout",
     "output_type": "stream",
     "text": [
      "Random Forest w2v classification report:\n",
      "                precision    recall  f1-score   support\n",
      "\n",
      "         0.0       0.79      0.87      0.83     12216\n",
      "         1.0       0.82      0.72      0.77     10040\n",
      "\n",
      "    accuracy                           0.80     22256\n",
      "   macro avg       0.81      0.80      0.80     22256\n",
      "weighted avg       0.81      0.80      0.80     22256\n",
      "\n"
     ]
    }
   ],
   "source": [
    "from sklearn.metrics import classification_report \n",
    "\n",
    "# get classification report\n",
    "print(\"Random Forest w2v classification report:\\n \", classification_report (y_test_w2v, y_pred_rf_w2v))\n"
   ]
  },
  {
   "cell_type": "code",
   "execution_count": 110,
   "id": "cbd2b822",
   "metadata": {},
   "outputs": [
    {
     "name": "stdout",
     "output_type": "stream",
     "text": [
      "[[10664  1552]\n",
      " [ 2790  7250]]\n"
     ]
    }
   ],
   "source": [
    "# create confusion matrix\n",
    "\n",
    "from sklearn.metrics import confusion_matrix\n",
    "\n",
    "cf_matrix_rf_w2v = confusion_matrix(y_test_w2v, y_pred_rf_w2v)\n",
    "print(cf_matrix_rf_w2v)\n"
   ]
  },
  {
   "cell_type": "markdown",
   "id": "2036f460",
   "metadata": {},
   "source": [
    "## SAVE Random Forest word2vec\n",
    "## ALREADY SAVED\n"
   ]
  },
  {
   "cell_type": "code",
   "execution_count": 45,
   "id": "db6f6a53",
   "metadata": {},
   "outputs": [],
   "source": [
    "# from joblib import dump, load"
   ]
  },
  {
   "cell_type": "code",
   "execution_count": 46,
   "id": "25f8a85b",
   "metadata": {},
   "outputs": [
    {
     "data": {
      "text/plain": [
       "['model_clf_rf_w2v.joblib']"
      ]
     },
     "execution_count": 46,
     "metadata": {},
     "output_type": "execute_result"
    }
   ],
   "source": [
    "# dump(clf_rf_w2v, \"model_clf_rf_w2v.joblib\")"
   ]
  },
  {
   "cell_type": "code",
   "execution_count": null,
   "id": "c243f0c1",
   "metadata": {},
   "outputs": [],
   "source": []
  },
  {
   "cell_type": "code",
   "execution_count": null,
   "id": "cb0bab3f",
   "metadata": {},
   "outputs": [],
   "source": []
  },
  {
   "cell_type": "markdown",
   "id": "b1091bd8",
   "metadata": {},
   "source": [
    "# LOGISTIC REGRESSION WORD2VEC\n",
    "# use saved model\n",
    "# model saved as model_clf_LogReg_w2v.joblib\n"
   ]
  },
  {
   "cell_type": "code",
   "execution_count": 111,
   "id": "98a355f0",
   "metadata": {},
   "outputs": [],
   "source": [
    "from sklearn.linear_model import LogisticRegression\n"
   ]
  },
  {
   "cell_type": "code",
   "execution_count": 48,
   "id": "dc09c9e5",
   "metadata": {},
   "outputs": [],
   "source": [
    "# clf_LogReg_w2v = LogisticRegression(C=1.0)\n",
    "\n",
    "# only run once\n",
    "# then load saved model"
   ]
  },
  {
   "cell_type": "code",
   "execution_count": 49,
   "id": "2daa0321",
   "metadata": {},
   "outputs": [
    {
     "data": {
      "text/html": [
       "<style>#sk-container-id-2 {color: black;background-color: white;}#sk-container-id-2 pre{padding: 0;}#sk-container-id-2 div.sk-toggleable {background-color: white;}#sk-container-id-2 label.sk-toggleable__label {cursor: pointer;display: block;width: 100%;margin-bottom: 0;padding: 0.3em;box-sizing: border-box;text-align: center;}#sk-container-id-2 label.sk-toggleable__label-arrow:before {content: \"▸\";float: left;margin-right: 0.25em;color: #696969;}#sk-container-id-2 label.sk-toggleable__label-arrow:hover:before {color: black;}#sk-container-id-2 div.sk-estimator:hover label.sk-toggleable__label-arrow:before {color: black;}#sk-container-id-2 div.sk-toggleable__content {max-height: 0;max-width: 0;overflow: hidden;text-align: left;background-color: #f0f8ff;}#sk-container-id-2 div.sk-toggleable__content pre {margin: 0.2em;color: black;border-radius: 0.25em;background-color: #f0f8ff;}#sk-container-id-2 input.sk-toggleable__control:checked~div.sk-toggleable__content {max-height: 200px;max-width: 100%;overflow: auto;}#sk-container-id-2 input.sk-toggleable__control:checked~label.sk-toggleable__label-arrow:before {content: \"▾\";}#sk-container-id-2 div.sk-estimator input.sk-toggleable__control:checked~label.sk-toggleable__label {background-color: #d4ebff;}#sk-container-id-2 div.sk-label input.sk-toggleable__control:checked~label.sk-toggleable__label {background-color: #d4ebff;}#sk-container-id-2 input.sk-hidden--visually {border: 0;clip: rect(1px 1px 1px 1px);clip: rect(1px, 1px, 1px, 1px);height: 1px;margin: -1px;overflow: hidden;padding: 0;position: absolute;width: 1px;}#sk-container-id-2 div.sk-estimator {font-family: monospace;background-color: #f0f8ff;border: 1px dotted black;border-radius: 0.25em;box-sizing: border-box;margin-bottom: 0.5em;}#sk-container-id-2 div.sk-estimator:hover {background-color: #d4ebff;}#sk-container-id-2 div.sk-parallel-item::after {content: \"\";width: 100%;border-bottom: 1px solid gray;flex-grow: 1;}#sk-container-id-2 div.sk-label:hover label.sk-toggleable__label {background-color: #d4ebff;}#sk-container-id-2 div.sk-serial::before {content: \"\";position: absolute;border-left: 1px solid gray;box-sizing: border-box;top: 0;bottom: 0;left: 50%;z-index: 0;}#sk-container-id-2 div.sk-serial {display: flex;flex-direction: column;align-items: center;background-color: white;padding-right: 0.2em;padding-left: 0.2em;position: relative;}#sk-container-id-2 div.sk-item {position: relative;z-index: 1;}#sk-container-id-2 div.sk-parallel {display: flex;align-items: stretch;justify-content: center;background-color: white;position: relative;}#sk-container-id-2 div.sk-item::before, #sk-container-id-2 div.sk-parallel-item::before {content: \"\";position: absolute;border-left: 1px solid gray;box-sizing: border-box;top: 0;bottom: 0;left: 50%;z-index: -1;}#sk-container-id-2 div.sk-parallel-item {display: flex;flex-direction: column;z-index: 1;position: relative;background-color: white;}#sk-container-id-2 div.sk-parallel-item:first-child::after {align-self: flex-end;width: 50%;}#sk-container-id-2 div.sk-parallel-item:last-child::after {align-self: flex-start;width: 50%;}#sk-container-id-2 div.sk-parallel-item:only-child::after {width: 0;}#sk-container-id-2 div.sk-dashed-wrapped {border: 1px dashed gray;margin: 0 0.4em 0.5em 0.4em;box-sizing: border-box;padding-bottom: 0.4em;background-color: white;}#sk-container-id-2 div.sk-label label {font-family: monospace;font-weight: bold;display: inline-block;line-height: 1.2em;}#sk-container-id-2 div.sk-label-container {text-align: center;}#sk-container-id-2 div.sk-container {/* jupyter's `normalize.less` sets `[hidden] { display: none; }` but bootstrap.min.css set `[hidden] { display: none !important; }` so we also need the `!important` here to be able to override the default hidden behavior on the sphinx rendered scikit-learn.org. See: https://github.com/scikit-learn/scikit-learn/issues/21755 */display: inline-block !important;position: relative;}#sk-container-id-2 div.sk-text-repr-fallback {display: none;}</style><div id=\"sk-container-id-2\" class=\"sk-top-container\"><div class=\"sk-text-repr-fallback\"><pre>LogisticRegression()</pre><b>In a Jupyter environment, please rerun this cell to show the HTML representation or trust the notebook. <br />On GitHub, the HTML representation is unable to render, please try loading this page with nbviewer.org.</b></div><div class=\"sk-container\" hidden><div class=\"sk-item\"><div class=\"sk-estimator sk-toggleable\"><input class=\"sk-toggleable__control sk-hidden--visually\" id=\"sk-estimator-id-2\" type=\"checkbox\" checked><label for=\"sk-estimator-id-2\" class=\"sk-toggleable__label sk-toggleable__label-arrow\">LogisticRegression</label><div class=\"sk-toggleable__content\"><pre>LogisticRegression()</pre></div></div></div></div></div>"
      ],
      "text/plain": [
       "LogisticRegression()"
      ]
     },
     "execution_count": 49,
     "metadata": {},
     "output_type": "execute_result"
    }
   ],
   "source": [
    "# Fit the model on the training dataset\n",
    "# clf_LogReg_w2v.fit(X_train_w2v, y_train_w2v)\n",
    "\n",
    "# only run once\n",
    "# then load saved model"
   ]
  },
  {
   "cell_type": "code",
   "execution_count": 112,
   "id": "2e3e8d93",
   "metadata": {},
   "outputs": [],
   "source": [
    "from joblib import dump, load"
   ]
  },
  {
   "cell_type": "code",
   "execution_count": 113,
   "id": "506948bb",
   "metadata": {},
   "outputs": [],
   "source": [
    "# LOAD SAVED MODEL\n",
    "clf_LogReg_w2v = load(\"model_clf_LogReg_w2v.joblib\")"
   ]
  },
  {
   "cell_type": "code",
   "execution_count": 114,
   "id": "2d5f818b",
   "metadata": {},
   "outputs": [],
   "source": [
    "# predict on test set\n",
    "y_pred_LogReg_w2v = clf_LogReg_w2v.predict(X_test_w2v)\n"
   ]
  },
  {
   "cell_type": "code",
   "execution_count": 115,
   "id": "5c274a14",
   "metadata": {},
   "outputs": [
    {
     "data": {
      "text/plain": [
       "0.7956056793673616"
      ]
     },
     "execution_count": 115,
     "metadata": {},
     "output_type": "execute_result"
    }
   ],
   "source": [
    "# get accuracy\n",
    "accuracy_LogReg_w2v = clf_LogReg_w2v.score(X_test_w2v, y_test_w2v)\n",
    "accuracy_LogReg_w2v\n",
    "\n",
    "# 0.79"
   ]
  },
  {
   "cell_type": "code",
   "execution_count": 116,
   "id": "6977216e",
   "metadata": {},
   "outputs": [
    {
     "name": "stdout",
     "output_type": "stream",
     "text": [
      "f1 score: 0.7676117496807152\n"
     ]
    }
   ],
   "source": [
    "# Evaluate the model\n",
    "f1_LogReg_w2v = f1_score(y_test_w2v, y_pred_LogReg_w2v)\n",
    "print(\"f1 score:\", f1_LogReg_w2v)\n",
    "\n",
    "# 0.76"
   ]
  },
  {
   "cell_type": "code",
   "execution_count": 117,
   "id": "4b11f98b",
   "metadata": {},
   "outputs": [
    {
     "data": {
      "text/html": [
       "<div>\n",
       "<style scoped>\n",
       "    .dataframe tbody tr th:only-of-type {\n",
       "        vertical-align: middle;\n",
       "    }\n",
       "\n",
       "    .dataframe tbody tr th {\n",
       "        vertical-align: top;\n",
       "    }\n",
       "\n",
       "    .dataframe thead th {\n",
       "        text-align: right;\n",
       "    }\n",
       "</style>\n",
       "<table border=\"1\" class=\"dataframe\">\n",
       "  <thead>\n",
       "    <tr style=\"text-align: right;\">\n",
       "      <th>predict</th>\n",
       "      <th>0.0</th>\n",
       "      <th>1.0</th>\n",
       "    </tr>\n",
       "    <tr>\n",
       "      <th>true</th>\n",
       "      <th></th>\n",
       "      <th></th>\n",
       "    </tr>\n",
       "  </thead>\n",
       "  <tbody>\n",
       "    <tr>\n",
       "      <th>0.0</th>\n",
       "      <td>10194</td>\n",
       "      <td>2022</td>\n",
       "    </tr>\n",
       "    <tr>\n",
       "      <th>1.0</th>\n",
       "      <td>2527</td>\n",
       "      <td>7513</td>\n",
       "    </tr>\n",
       "  </tbody>\n",
       "</table>\n",
       "</div>"
      ],
      "text/plain": [
       "predict    0.0   1.0\n",
       "true                \n",
       "0.0      10194  2022\n",
       "1.0       2527  7513"
      ]
     },
     "execution_count": 117,
     "metadata": {},
     "output_type": "execute_result"
    }
   ],
   "source": [
    "# get confusion matrix\n",
    "pd.crosstab(y_test_w2v, y_pred_LogReg_w2v, rownames=[\"true\"], colnames=[\"predict\"])\n"
   ]
  },
  {
   "cell_type": "code",
   "execution_count": 118,
   "id": "d5a5dc8e",
   "metadata": {},
   "outputs": [
    {
     "name": "stdout",
     "output_type": "stream",
     "text": [
      "Logistic Regression w2v classification report:\n",
      "                precision    recall  f1-score   support\n",
      "\n",
      "         0.0       0.80      0.83      0.82     12216\n",
      "         1.0       0.79      0.75      0.77     10040\n",
      "\n",
      "    accuracy                           0.80     22256\n",
      "   macro avg       0.79      0.79      0.79     22256\n",
      "weighted avg       0.80      0.80      0.80     22256\n",
      "\n"
     ]
    }
   ],
   "source": [
    "from sklearn.metrics import classification_report \n",
    "\n",
    "# get classification report\n",
    "print(\"Logistic Regression w2v classification report:\\n \", classification_report (y_test_w2v, y_pred_LogReg_w2v))\n"
   ]
  },
  {
   "cell_type": "code",
   "execution_count": 119,
   "id": "44e88cde",
   "metadata": {},
   "outputs": [
    {
     "name": "stdout",
     "output_type": "stream",
     "text": [
      "[[10194  2022]\n",
      " [ 2527  7513]]\n"
     ]
    }
   ],
   "source": [
    "# create confusion matrix\n",
    "cf_matrix_LogReg_w2v = confusion_matrix(y_test_w2v, y_pred_LogReg_w2v)\n",
    "print(cf_matrix_LogReg_w2v)\n"
   ]
  },
  {
   "cell_type": "markdown",
   "id": "3b274e8a",
   "metadata": {},
   "source": [
    "## SAVE Logistic Regression word2vec\n",
    "## ALREADY SAVED\n"
   ]
  },
  {
   "cell_type": "code",
   "execution_count": 57,
   "id": "a2908193",
   "metadata": {},
   "outputs": [],
   "source": [
    "# from joblib import dump, load"
   ]
  },
  {
   "cell_type": "code",
   "execution_count": 58,
   "id": "90139d65",
   "metadata": {},
   "outputs": [
    {
     "data": {
      "text/plain": [
       "['model_clf_LogReg_w2v.joblib']"
      ]
     },
     "execution_count": 58,
     "metadata": {},
     "output_type": "execute_result"
    }
   ],
   "source": [
    "# dump(clf_LogReg_w2v, \"model_clf_LogReg_w2v.joblib\")"
   ]
  },
  {
   "cell_type": "code",
   "execution_count": null,
   "id": "06b10933",
   "metadata": {},
   "outputs": [],
   "source": []
  },
  {
   "cell_type": "code",
   "execution_count": null,
   "id": "a326a68a",
   "metadata": {},
   "outputs": [],
   "source": []
  },
  {
   "cell_type": "markdown",
   "id": "2ebabee5",
   "metadata": {},
   "source": [
    "# Stacking Classifier word2vec\n",
    "# takes 15 minutes\n",
    "# use saved model\n",
    "# model saved as sclf_w2v.joblib\n"
   ]
  },
  {
   "cell_type": "code",
   "execution_count": 120,
   "id": "b860ff74",
   "metadata": {},
   "outputs": [],
   "source": [
    "from sklearn.ensemble import StackingClassifier\n",
    "from sklearn.model_selection import cross_validate, KFold"
   ]
  },
  {
   "cell_type": "code",
   "execution_count": 60,
   "id": "e8ea4b7a",
   "metadata": {},
   "outputs": [],
   "source": [
    "# sclf_w2v = StackingClassifier([(\"rf\", clf_rf_w2v), (\"lr\", clf_LogReg_w2v)], \n",
    "                                final_estimator = clf_LogReg_w2v)\n"
   ]
  },
  {
   "cell_type": "code",
   "execution_count": 61,
   "id": "3fd62489",
   "metadata": {},
   "outputs": [
    {
     "data": {
      "text/html": [
       "<style>#sk-container-id-3 {color: black;background-color: white;}#sk-container-id-3 pre{padding: 0;}#sk-container-id-3 div.sk-toggleable {background-color: white;}#sk-container-id-3 label.sk-toggleable__label {cursor: pointer;display: block;width: 100%;margin-bottom: 0;padding: 0.3em;box-sizing: border-box;text-align: center;}#sk-container-id-3 label.sk-toggleable__label-arrow:before {content: \"▸\";float: left;margin-right: 0.25em;color: #696969;}#sk-container-id-3 label.sk-toggleable__label-arrow:hover:before {color: black;}#sk-container-id-3 div.sk-estimator:hover label.sk-toggleable__label-arrow:before {color: black;}#sk-container-id-3 div.sk-toggleable__content {max-height: 0;max-width: 0;overflow: hidden;text-align: left;background-color: #f0f8ff;}#sk-container-id-3 div.sk-toggleable__content pre {margin: 0.2em;color: black;border-radius: 0.25em;background-color: #f0f8ff;}#sk-container-id-3 input.sk-toggleable__control:checked~div.sk-toggleable__content {max-height: 200px;max-width: 100%;overflow: auto;}#sk-container-id-3 input.sk-toggleable__control:checked~label.sk-toggleable__label-arrow:before {content: \"▾\";}#sk-container-id-3 div.sk-estimator input.sk-toggleable__control:checked~label.sk-toggleable__label {background-color: #d4ebff;}#sk-container-id-3 div.sk-label input.sk-toggleable__control:checked~label.sk-toggleable__label {background-color: #d4ebff;}#sk-container-id-3 input.sk-hidden--visually {border: 0;clip: rect(1px 1px 1px 1px);clip: rect(1px, 1px, 1px, 1px);height: 1px;margin: -1px;overflow: hidden;padding: 0;position: absolute;width: 1px;}#sk-container-id-3 div.sk-estimator {font-family: monospace;background-color: #f0f8ff;border: 1px dotted black;border-radius: 0.25em;box-sizing: border-box;margin-bottom: 0.5em;}#sk-container-id-3 div.sk-estimator:hover {background-color: #d4ebff;}#sk-container-id-3 div.sk-parallel-item::after {content: \"\";width: 100%;border-bottom: 1px solid gray;flex-grow: 1;}#sk-container-id-3 div.sk-label:hover label.sk-toggleable__label {background-color: #d4ebff;}#sk-container-id-3 div.sk-serial::before {content: \"\";position: absolute;border-left: 1px solid gray;box-sizing: border-box;top: 0;bottom: 0;left: 50%;z-index: 0;}#sk-container-id-3 div.sk-serial {display: flex;flex-direction: column;align-items: center;background-color: white;padding-right: 0.2em;padding-left: 0.2em;position: relative;}#sk-container-id-3 div.sk-item {position: relative;z-index: 1;}#sk-container-id-3 div.sk-parallel {display: flex;align-items: stretch;justify-content: center;background-color: white;position: relative;}#sk-container-id-3 div.sk-item::before, #sk-container-id-3 div.sk-parallel-item::before {content: \"\";position: absolute;border-left: 1px solid gray;box-sizing: border-box;top: 0;bottom: 0;left: 50%;z-index: -1;}#sk-container-id-3 div.sk-parallel-item {display: flex;flex-direction: column;z-index: 1;position: relative;background-color: white;}#sk-container-id-3 div.sk-parallel-item:first-child::after {align-self: flex-end;width: 50%;}#sk-container-id-3 div.sk-parallel-item:last-child::after {align-self: flex-start;width: 50%;}#sk-container-id-3 div.sk-parallel-item:only-child::after {width: 0;}#sk-container-id-3 div.sk-dashed-wrapped {border: 1px dashed gray;margin: 0 0.4em 0.5em 0.4em;box-sizing: border-box;padding-bottom: 0.4em;background-color: white;}#sk-container-id-3 div.sk-label label {font-family: monospace;font-weight: bold;display: inline-block;line-height: 1.2em;}#sk-container-id-3 div.sk-label-container {text-align: center;}#sk-container-id-3 div.sk-container {/* jupyter's `normalize.less` sets `[hidden] { display: none; }` but bootstrap.min.css set `[hidden] { display: none !important; }` so we also need the `!important` here to be able to override the default hidden behavior on the sphinx rendered scikit-learn.org. See: https://github.com/scikit-learn/scikit-learn/issues/21755 */display: inline-block !important;position: relative;}#sk-container-id-3 div.sk-text-repr-fallback {display: none;}</style><div id=\"sk-container-id-3\" class=\"sk-top-container\"><div class=\"sk-text-repr-fallback\"><pre>StackingClassifier(estimators=[(&#x27;rf&#x27;, RandomForestClassifier(n_jobs=-1)),\n",
       "                               (&#x27;lr&#x27;, LogisticRegression())],\n",
       "                   final_estimator=LogisticRegression())</pre><b>In a Jupyter environment, please rerun this cell to show the HTML representation or trust the notebook. <br />On GitHub, the HTML representation is unable to render, please try loading this page with nbviewer.org.</b></div><div class=\"sk-container\" hidden><div class=\"sk-item sk-dashed-wrapped\"><div class=\"sk-label-container\"><div class=\"sk-label sk-toggleable\"><input class=\"sk-toggleable__control sk-hidden--visually\" id=\"sk-estimator-id-3\" type=\"checkbox\" ><label for=\"sk-estimator-id-3\" class=\"sk-toggleable__label sk-toggleable__label-arrow\">StackingClassifier</label><div class=\"sk-toggleable__content\"><pre>StackingClassifier(estimators=[(&#x27;rf&#x27;, RandomForestClassifier(n_jobs=-1)),\n",
       "                               (&#x27;lr&#x27;, LogisticRegression())],\n",
       "                   final_estimator=LogisticRegression())</pre></div></div></div><div class=\"sk-serial\"><div class=\"sk-item\"><div class=\"sk-parallel\"><div class=\"sk-parallel-item\"><div class=\"sk-item\"><div class=\"sk-label-container\"><div class=\"sk-label sk-toggleable\"><label>rf</label></div></div><div class=\"sk-serial\"><div class=\"sk-item\"><div class=\"sk-estimator sk-toggleable\"><input class=\"sk-toggleable__control sk-hidden--visually\" id=\"sk-estimator-id-4\" type=\"checkbox\" ><label for=\"sk-estimator-id-4\" class=\"sk-toggleable__label sk-toggleable__label-arrow\">RandomForestClassifier</label><div class=\"sk-toggleable__content\"><pre>RandomForestClassifier(n_jobs=-1)</pre></div></div></div></div></div></div><div class=\"sk-parallel-item\"><div class=\"sk-item\"><div class=\"sk-label-container\"><div class=\"sk-label sk-toggleable\"><label>lr</label></div></div><div class=\"sk-serial\"><div class=\"sk-item\"><div class=\"sk-estimator sk-toggleable\"><input class=\"sk-toggleable__control sk-hidden--visually\" id=\"sk-estimator-id-5\" type=\"checkbox\" ><label for=\"sk-estimator-id-5\" class=\"sk-toggleable__label sk-toggleable__label-arrow\">LogisticRegression</label><div class=\"sk-toggleable__content\"><pre>LogisticRegression()</pre></div></div></div></div></div></div></div></div><div class=\"sk-item\"><div class=\"sk-parallel\"><div class=\"sk-parallel-item\"><div class=\"sk-item\"><div class=\"sk-label-container\"><div class=\"sk-label sk-toggleable\"><label>final_estimator</label></div></div><div class=\"sk-serial\"><div class=\"sk-item\"><div class=\"sk-estimator sk-toggleable\"><input class=\"sk-toggleable__control sk-hidden--visually\" id=\"sk-estimator-id-6\" type=\"checkbox\" ><label for=\"sk-estimator-id-6\" class=\"sk-toggleable__label sk-toggleable__label-arrow\">LogisticRegression</label><div class=\"sk-toggleable__content\"><pre>LogisticRegression()</pre></div></div></div></div></div></div></div></div></div></div></div></div>"
      ],
      "text/plain": [
       "StackingClassifier(estimators=[('rf', RandomForestClassifier(n_jobs=-1)),\n",
       "                               ('lr', LogisticRegression())],\n",
       "                   final_estimator=LogisticRegression())"
      ]
     },
     "execution_count": 61,
     "metadata": {},
     "output_type": "execute_result"
    }
   ],
   "source": [
    "# sclf_w2v.fit(X_train_w2v, y_train_w2v)\n",
    "\n",
    "# takes 15 minutes\n",
    "# only run once, then use saved model"
   ]
  },
  {
   "cell_type": "code",
   "execution_count": 124,
   "id": "fb1ca30e",
   "metadata": {},
   "outputs": [],
   "source": [
    "from joblib import dump, load"
   ]
  },
  {
   "cell_type": "code",
   "execution_count": 125,
   "id": "469a61d8",
   "metadata": {},
   "outputs": [],
   "source": [
    "# LOAD SAVED MODEL\n",
    "sclf_w2v = load(\"sclf_w2v.joblib\")\n"
   ]
  },
  {
   "cell_type": "code",
   "execution_count": 126,
   "id": "435ebc29",
   "metadata": {},
   "outputs": [],
   "source": [
    "# Make predictions on the test set\n",
    "y_pred_sclf_w2v = sclf_w2v.predict(X_test_w2v)"
   ]
  },
  {
   "cell_type": "code",
   "execution_count": 127,
   "id": "2d944343",
   "metadata": {},
   "outputs": [
    {
     "data": {
      "text/plain": [
       "0.8170381020848311"
      ]
     },
     "execution_count": 127,
     "metadata": {},
     "output_type": "execute_result"
    }
   ],
   "source": [
    "# Calculate accuracy\n",
    "accuracy_sclf_w2v = accuracy_score(y_test_w2v, y_pred_sclf_w2v)\n",
    "accuracy_sclf_w2v\n",
    "\n",
    "# 0.817"
   ]
  },
  {
   "cell_type": "code",
   "execution_count": 128,
   "id": "ae556b9f",
   "metadata": {},
   "outputs": [
    {
     "data": {
      "text/plain": [
       "0.792604665376388"
      ]
     },
     "execution_count": 128,
     "metadata": {},
     "output_type": "execute_result"
    }
   ],
   "source": [
    "# Evaluate the model with f1 score\n",
    "from sklearn.metrics import f1_score\n",
    "\n",
    "f1_sclf_w2v = f1_score(y_test_w2v, y_pred_sclf_w2v)\n",
    "f1_sclf_w2v\n",
    "\n",
    "# 0.79"
   ]
  },
  {
   "cell_type": "code",
   "execution_count": 129,
   "id": "fcddf627",
   "metadata": {},
   "outputs": [
    {
     "data": {
      "text/html": [
       "<div>\n",
       "<style scoped>\n",
       "    .dataframe tbody tr th:only-of-type {\n",
       "        vertical-align: middle;\n",
       "    }\n",
       "\n",
       "    .dataframe tbody tr th {\n",
       "        vertical-align: top;\n",
       "    }\n",
       "\n",
       "    .dataframe thead th {\n",
       "        text-align: right;\n",
       "    }\n",
       "</style>\n",
       "<table border=\"1\" class=\"dataframe\">\n",
       "  <thead>\n",
       "    <tr style=\"text-align: right;\">\n",
       "      <th>predict</th>\n",
       "      <th>0.0</th>\n",
       "      <th>1.0</th>\n",
       "    </tr>\n",
       "    <tr>\n",
       "      <th>true</th>\n",
       "      <th></th>\n",
       "      <th></th>\n",
       "    </tr>\n",
       "  </thead>\n",
       "  <tbody>\n",
       "    <tr>\n",
       "      <th>0.0</th>\n",
       "      <td>10403</td>\n",
       "      <td>1813</td>\n",
       "    </tr>\n",
       "    <tr>\n",
       "      <th>1.0</th>\n",
       "      <td>2259</td>\n",
       "      <td>7781</td>\n",
       "    </tr>\n",
       "  </tbody>\n",
       "</table>\n",
       "</div>"
      ],
      "text/plain": [
       "predict    0.0   1.0\n",
       "true                \n",
       "0.0      10403  1813\n",
       "1.0       2259  7781"
      ]
     },
     "execution_count": 129,
     "metadata": {},
     "output_type": "execute_result"
    }
   ],
   "source": [
    "# Create crosstab\n",
    "pd.crosstab(y_test_w2v, y_pred_sclf_w2v, rownames=[\"true\"], colnames=[\"predict\"])\n"
   ]
  },
  {
   "cell_type": "code",
   "execution_count": 130,
   "id": "d3ae5c49",
   "metadata": {},
   "outputs": [
    {
     "name": "stdout",
     "output_type": "stream",
     "text": [
      "Stacking Classifier w2v classification report:\n",
      "                precision    recall  f1-score   support\n",
      "\n",
      "         0.0       0.82      0.85      0.84     12216\n",
      "         1.0       0.81      0.78      0.79     10040\n",
      "\n",
      "    accuracy                           0.82     22256\n",
      "   macro avg       0.82      0.81      0.81     22256\n",
      "weighted avg       0.82      0.82      0.82     22256\n",
      "\n"
     ]
    }
   ],
   "source": [
    "from sklearn.metrics import classification_report \n",
    "\n",
    "# get classification report\n",
    "print(\"Stacking Classifier w2v classification report:\\n \", classification_report (y_test_w2v, y_pred_sclf_w2v))\n"
   ]
  },
  {
   "cell_type": "code",
   "execution_count": 131,
   "id": "493d0fec",
   "metadata": {},
   "outputs": [
    {
     "name": "stdout",
     "output_type": "stream",
     "text": [
      "[[10403  1813]\n",
      " [ 2259  7781]]\n"
     ]
    }
   ],
   "source": [
    "# create confusion matrix\n",
    "cf_matrix_sclf_w2v = confusion_matrix(y_test_w2v, y_pred_sclf_w2v)\n",
    "print(cf_matrix_sclf_w2v)"
   ]
  },
  {
   "cell_type": "code",
   "execution_count": 132,
   "id": "7e7ae070",
   "metadata": {},
   "outputs": [
    {
     "name": "stdout",
     "output_type": "stream",
     "text": [
      "Confusion Matrix for Stacking Classifier model on w2v data\n"
     ]
    },
    {
     "data": {
      "image/png": "[encoded data removed]",
      "text/plain": [
       "<Figure size 640x480 with 2 Axes>"
      ]
     },
     "metadata": {},
     "output_type": "display_data"
    }
   ],
   "source": [
    "from mlxtend.plotting import plot_confusion_matrix\n",
    "\n",
    "print(\"Confusion Matrix for Stacking Classifier model on w2v data\")\n",
    "plot_confusion_matrix(conf_mat = cf_matrix_sclf_w2v,\n",
    "                      show_absolute=True,\n",
    "                      show_normed=True,\n",
    "                      colorbar=True,\n",
    "                      class_names=['REAL','FAKE'])\n",
    "plt.show();"
   ]
  },
  {
   "cell_type": "markdown",
   "id": "9b75c8d5",
   "metadata": {},
   "source": [
    "## SAVE Stacking Classifier word2vec\n",
    "## ALREADY SAVED\n"
   ]
  },
  {
   "cell_type": "code",
   "execution_count": 70,
   "id": "6c7361c7",
   "metadata": {},
   "outputs": [],
   "source": [
    "# from joblib import dump, load"
   ]
  },
  {
   "cell_type": "code",
   "execution_count": 71,
   "id": "e17aa9ad",
   "metadata": {},
   "outputs": [
    {
     "data": {
      "text/plain": [
       "['sclf_w2v.joblib']"
      ]
     },
     "execution_count": 71,
     "metadata": {},
     "output_type": "execute_result"
    }
   ],
   "source": [
    "# dump(sclf_w2v, \"sclf_w2v.joblib\")"
   ]
  },
  {
   "cell_type": "code",
   "execution_count": null,
   "id": "10f9bf02",
   "metadata": {},
   "outputs": [],
   "source": []
  },
  {
   "cell_type": "markdown",
   "id": "9fa83d5e",
   "metadata": {},
   "source": [
    "# Cross-Fold word2vec\n",
    "# takes a couple of hours"
   ]
  },
  {
   "cell_type": "code",
   "execution_count": 72,
   "id": "61cba94e",
   "metadata": {},
   "outputs": [],
   "source": [
    "cv3 = KFold(n_splits=3, shuffle=True)"
   ]
  },
  {
   "cell_type": "code",
   "execution_count": 73,
   "id": "e6d6d64d",
   "metadata": {},
   "outputs": [],
   "source": [
    "# sclf_w2v = StackingClassifier([(\"rf\", clf_rf_w2v), (\"lr\", clf_LogReg_w2v)], \n",
    "#                                final_estimator = clf_LogReg_w2v)"
   ]
  },
  {
   "cell_type": "code",
   "execution_count": 74,
   "id": "4c14cc79",
   "metadata": {},
   "outputs": [],
   "source": [
    "# X_train_w2v, y_train_w2v"
   ]
  },
  {
   "cell_type": "code",
   "execution_count": 75,
   "id": "d77cc705",
   "metadata": {},
   "outputs": [
    {
     "name": "stdout",
     "output_type": "stream",
     "text": [
      "Random Forest accuracy:  0.8004470793613354 0.002019214258624255 f1:  0.7634466291787686 0.0018236859114945086\n",
      "Logistic Regression accuracy:  0.7971108806684989 0.0016208247900923879 f1:  0.7684172873944033 0.003092828770189549\n",
      "Stacking Classifier accuracy:  0.8143422302187563 0.0030524682884402595 f1:  0.7884762047003852 0.002968545311244472\n"
     ]
    }
   ],
   "source": [
    "for clf, label in zip([clf_rf_w2v, clf_LogReg_w2v, sclf_w2v], [\"Random Forest\", \"Logistic Regression\", \"Stacking Classifier\"]):\n",
    "    scores = cross_validate(clf, X_train_w2v, y_train_w2v, cv=cv3, scoring=[\"accuracy\", \"f1\"])\n",
    "    print(label, \"accuracy: \", scores[\"test_accuracy\"].mean(), scores[\"test_accuracy\"].std(), \"f1: \", scores[\"test_f1\"].mean(), scores[\"test_f1\"].std())\n"
   ]
  },
  {
   "cell_type": "code",
   "execution_count": null,
   "id": "e456c060",
   "metadata": {},
   "outputs": [],
   "source": []
  },
  {
   "cell_type": "code",
   "execution_count": null,
   "id": "dfca9f56",
   "metadata": {},
   "outputs": [],
   "source": []
  },
  {
   "cell_type": "markdown",
   "id": "f70b4ad2",
   "metadata": {},
   "source": [
    "# COMPARE MODELS ON TEXT DATA WORD2VEC\n"
   ]
  },
  {
   "cell_type": "code",
   "execution_count": 76,
   "id": "563d2f42",
   "metadata": {},
   "outputs": [],
   "source": [
    "# MODELS FOR WORD2VEC:\n",
    "# LightGBM 500 rounds\n",
    "# Logistic Regression\n",
    "# Random Forest   \n",
    "# Stacking Classifier\n"
   ]
  },
  {
   "cell_type": "code",
   "execution_count": 133,
   "id": "301f34d8",
   "metadata": {},
   "outputs": [
    {
     "name": "stdout",
     "output_type": "stream",
     "text": [
      "LightGBM accuracy score word2vec 500 rounds: 0.8417056074766355\n",
      "Logistic Regression accuracy score word2vec : 0.7956056793673616\n",
      "Random Forest accuracy score word2vec: 0.8049065420560748\n",
      "Stacking Classifier accuracy score word2vec: 0.8170381020848311\n"
     ]
    }
   ],
   "source": [
    "print(\"LightGBM accuracy score word2vec 500 rounds:\", accuracy_Light_500_w2v)\n",
    "print(\"Logistic Regression accuracy score word2vec :\", accuracy_LogReg_w2v)\n",
    "print(\"Random Forest accuracy score word2vec:\", accuracy_rf_w2v)\n",
    "print(\"Stacking Classifier accuracy score word2vec:\", accuracy_sclf_w2v)\n"
   ]
  },
  {
   "cell_type": "code",
   "execution_count": 134,
   "id": "8eb65f51",
   "metadata": {
    "scrolled": true
   },
   "outputs": [
    {
     "name": "stdout",
     "output_type": "stream",
     "text": [
      "LightGBM f1 score word2vec 500 rounds: 0.8193055341847464\n",
      "Logistic Regression f1 score word2vec : 0.7676117496807152\n",
      "Random Forest f1 score word2vec: 0.7695573718288928\n",
      "Stacking Classifier f1 score word2vec: 0.792604665376388\n"
     ]
    }
   ],
   "source": [
    "print(\"LightGBM f1 score word2vec 500 rounds:\", f1_Light_500_w2v)\n",
    "print(\"Logistic Regression f1 score word2vec :\", f1_LogReg_w2v)\n",
    "print(\"Random Forest f1 score word2vec:\", f1_rf_w2v)\n",
    "print(\"Stacking Classifier f1 score word2vec:\", f1_sclf_w2v)\n"
   ]
  },
  {
   "cell_type": "code",
   "execution_count": null,
   "id": "83d165eb",
   "metadata": {},
   "outputs": [],
   "source": []
  },
  {
   "cell_type": "markdown",
   "id": "e390c043",
   "metadata": {},
   "source": [
    "# PLOT WORD2VEC MODELS"
   ]
  },
  {
   "cell_type": "code",
   "execution_count": 135,
   "id": "d1b54426",
   "metadata": {},
   "outputs": [],
   "source": [
    "#Creating the Dictionary with model name as key adn accuracy as key-value\n",
    "labels_acc_w2 = {'LightGBM accuracy score word2vec 500 rounds:': accuracy_Light_500_w2v,\n",
    "        'Logistic Regression accuracy score word2vec:': accuracy_LogReg_w2v,\n",
    "        'Random Forest accuracy score word2vec:': accuracy_rf_w2v,\n",
    "        'Stacking Classifier accuracy score word2vec:': accuracy_sclf_w2v}\n"
   ]
  },
  {
   "cell_type": "code",
   "execution_count": 136,
   "id": "92239033",
   "metadata": {},
   "outputs": [
    {
     "data": {
      "image/png": "[encoded data removed]",
      "text/plain": [
       "<Figure size 2500x1000 with 1 Axes>"
      ]
     },
     "metadata": {},
     "output_type": "display_data"
    }
   ],
   "source": [
    "# Data for the chart\n",
    "acc_labels_w2v = list(labels_acc_w2.keys())\n",
    "acc_values_w2v = list(labels_acc_w2.values())\n",
    "\n",
    "# Creating the chart\n",
    "plt.figure(figsize=(25, 10))\n",
    "plt.title('Comparing Accuracy of ML Models on text data with word2vec vectorizer', fontsize=20)\n",
    "plt.xlabel('Accuracy', fontsize=16)\n",
    "plt.ylabel('Models', fontsize=16)\n",
    "plt.xticks(fontsize=16)\n",
    "plt.yticks(fontsize=16)# Increase the plot width to accommodate the values\n",
    "\n",
    "plt.barh(acc_labels_w2v, acc_values_w2v, color='cornflowerblue', edgecolor='black', linewidth=1, alpha=0.7)\n",
    "\n",
    "# Displaying values at the end of the bars\n",
    "for i, value in enumerate(acc_values_w2v):\n",
    "    plt.text(value, i, f'{value:.5f}', fontsize=16, va='center')\n",
    "\n",
    "plt.show();"
   ]
  },
  {
   "cell_type": "code",
   "execution_count": null,
   "id": "93e61947",
   "metadata": {},
   "outputs": [],
   "source": []
  },
  {
   "cell_type": "code",
   "execution_count": 137,
   "id": "d3e1f72d",
   "metadata": {},
   "outputs": [],
   "source": [
    "#Creating the Dictionary with model name as key adn accuracy as key-value\n",
    "labels_f1_w2v = {\"LightGBM f1 score word2vec 500 rounds:\": f1_Light_500_w2v,\n",
    "        \"Logistic Regression f1 score word2vec :\": f1_LogReg_w2v,\n",
    "        \"Random Forest f1 score word2vec:\": f1_rf_w2v,\n",
    "        \"Stacking Classifier f1 score word2vec:\": f1_sclf_w2v}\n"
   ]
  },
  {
   "cell_type": "code",
   "execution_count": 138,
   "id": "887a5f4e",
   "metadata": {},
   "outputs": [
    {
     "data": {
      "image/png": "[encoded data removed]",
      "text/plain": [
       "<Figure size 2500x1000 with 1 Axes>"
      ]
     },
     "metadata": {},
     "output_type": "display_data"
    }
   ],
   "source": [
    "# Data for the chart\n",
    "f1_labels_w2v = list(labels_f1_w2v.keys())\n",
    "f1_values_w2v = list(labels_f1_w2v.values())\n",
    "\n",
    "# Creating the chart\n",
    "plt.figure(figsize=(25,10))\n",
    "plt.title('Comparing f1 scores of ML Models word2vec',fontsize=20)\n",
    "plt.xlabel('Accuracy', fontsize=16)\n",
    "plt.ylabel('Models', fontsize=16)\n",
    "plt.xticks(fontsize=16)\n",
    "plt.yticks(fontsize=16)# Increase the plot width to accommodate the values\n",
    "\n",
    "plt.barh(f1_labels_w2v, f1_values_w2v, color='yellowgreen', edgecolor='black', linewidth=1, alpha=0.7)\n",
    "\n",
    "# Displaying values at the end of the bars\n",
    "for i, value in enumerate(f1_values_w2v):\n",
    "    plt.text(value, i, f'{value:.5f}', fontsize=16, va='center')\n",
    "\n",
    "plt.show();"
   ]
  },
  {
   "cell_type": "code",
   "execution_count": null,
   "id": "adfa0b14",
   "metadata": {},
   "outputs": [],
   "source": []
  }
 ],
 "metadata": {
  "kernelspec": {
   "display_name": "Python 3 (ipykernel)",
   "language": "python",
   "name": "python3"
  },
  "language_info": {
   "codemirror_mode": {
    "name": "ipython",
    "version": 3
   },
   "file_extension": ".py",
   "mimetype": "text/x-python",
   "name": "python",
   "nbconvert_exporter": "python",
   "pygments_lexer": "ipython3",
   "version": "3.10.9"
  }
 },
 "nbformat": 4,
 "nbformat_minor": 5
}
