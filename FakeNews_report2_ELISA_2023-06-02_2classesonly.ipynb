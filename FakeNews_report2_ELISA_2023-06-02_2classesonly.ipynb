{
 "cells": [
  {
   "cell_type": "markdown",
   "id": "e70be3e0",
   "metadata": {},
   "source": [
    "# 1 Import libraries"
   ]
  },
  {
   "cell_type": "code",
   "execution_count": 5,
   "id": "ccdaea94",
   "metadata": {},
   "outputs": [],
   "source": [
    "#importing Libraries\n",
    "import numpy as np\n",
    "import pandas as pd\n",
    "from matplotlib.pylab import plt\n",
    "import seaborn as sns\n",
    "# from sqlalchemy import create_engine\n",
    "# import sqlalchemy as \n",
    "import sqlite3\n",
    "\n",
    "from wordcloud import WordCloud\n"
   ]
  },
  {
   "cell_type": "markdown",
   "id": "261564fe",
   "metadata": {},
   "source": [
    "# Comments on the document"
   ]
  },
  {
   "cell_type": "code",
   "execution_count": 2,
   "id": "629480e0",
   "metadata": {},
   "outputs": [],
   "source": [
    "######## \n",
    "# This is Elisa's Code from 2023-06-02\n",
    "\n",
    "# loaded dataset (subset of original dataset and pre-processed)\n",
    "# df = pd.read_pickle(\"df_modeling.pkl\")\n",
    "\n",
    "\n",
    "\n",
    "#######################################################\n",
    "\n",
    "# 2 MAJOR ANALYSIS CHAPTERS IN THIS NOTEBOOK\n",
    "\n",
    "# Deletion of \"mixed\" class in texts\n",
    "# we only have 2 classes to predict\n",
    "\n",
    "################\n",
    "\n",
    "\n",
    "# 1: Classification Models on Numeric Variables of Data\n",
    "# for numeric analysis used dataset:\n",
    "# create df_num\n",
    "\n",
    "\n",
    "#### Models:\n",
    "# LightGBM\n",
    "# Naive Bayes Bernoulli\n",
    "# Naive Bayes Multinomial\n",
    "# Naive Bayes Complement\n",
    "# Naive Bayes Gaussian\n",
    "# Gradient Boosting\n",
    "# XGBoost\n",
    "# CatBoost\n",
    "\n",
    "# KNN (needs standardisation --> scale dataset before fitting)\n",
    "# SVM (needs standardisation --> scale dataset before fitting)\n",
    "# Logistic Regression (needs standardisation --> scale dataset before fitting)\n",
    "\n",
    "\n",
    "### Results\n",
    "# LightGBM accuracy score : 1.0\n",
    "# Naive Bayes Bernoulli accuracy score : 0.9910572966128521\n",
    "# Naive Bayes Multinomial accuracy score : 0.5169357391579614\n",
    "# Naive Bayes Complement accuracy score : 0.5169357391579614\n",
    "# Naive Bayes Gaussian accuracy score : 0.5768439379550491\n",
    "# GradientBoosting accuracy score : 1.0\n",
    "# XGBoost accuracy score : 1.0\n",
    "# CatBoost accuracy score : 1.0\n",
    "\n",
    "# KNN accuracy score : 0.9992086103197214\n",
    "# SVM accuracy score : 0.99113643558088\n",
    "# Logistic Regression accuracy score : 1.0\n",
    "\n",
    "\n",
    "\n",
    "\n",
    "################\n",
    "\n",
    "\n",
    "# 2: Classification on Text Variables of our Data\n",
    "# for text analysis:\n",
    "# retrieve 2 columns title and content\n",
    "\n",
    "# before fitting: vectorize with TF-IDF Vectorizer\n",
    "\n",
    "\n",
    "#### Models:\n",
    "# LightGBM\n",
    "# Naive Bayes Bernoulli\n",
    "# Naive Bayes Multinomial\n",
    "# Naive Bayes Complement\n",
    "# Naive Bayes Gaussian --> not working due to memory error\n",
    "# Gradient Boosting\n",
    "# XGBoost\n",
    "# CatBoost --> error\n",
    "\n",
    "# KNN --> takes 2 hours; only ran once, not again\n",
    "# SVM --> takes 3,5 hours; only ran once, not again\n",
    "# Logistic Regression\n",
    "\n",
    "\n",
    "### Results\n",
    "# LightGBM vect accuracy score : 0.8184552073440963\n",
    "# Naive Bayes Bernoulli vect accuracy score : 0.710193099081988\n",
    "# Naive Bayes Multinomial vect accuracy score : 0.7406616017727129\n",
    "# Naive Bayes Complement vect accuracy score : 0.7610794555239\n",
    "# GradientBoosting vect accuracy score : 0.5299145299145299\n",
    "# XGBoost vect accuracy score : 0.7860873694207028\n",
    "\n",
    "# Logistic Regression vect accuracy score : 0.8408515352959798\n",
    "\n"
   ]
  },
  {
   "cell_type": "code",
   "execution_count": null,
   "id": "422b4952",
   "metadata": {},
   "outputs": [],
   "source": []
  },
  {
   "cell_type": "markdown",
   "id": "4b5b9cb6",
   "metadata": {},
   "source": [
    "# LOADING PREPROCESSED DATASET df_modeling.okl"
   ]
  },
  {
   "cell_type": "code",
   "execution_count": 6,
   "id": "939bee98",
   "metadata": {},
   "outputs": [],
   "source": [
    "# retrieve dataset\n",
    "df = pd.read_pickle(\"df_modeling.pkl\")"
   ]
  },
  {
   "cell_type": "code",
   "execution_count": 7,
   "id": "0846b956",
   "metadata": {},
   "outputs": [
    {
     "data": {
      "text/html": [
       "<div>\n",
       "<style scoped>\n",
       "    .dataframe tbody tr th:only-of-type {\n",
       "        vertical-align: middle;\n",
       "    }\n",
       "\n",
       "    .dataframe tbody tr th {\n",
       "        vertical-align: top;\n",
       "    }\n",
       "\n",
       "    .dataframe thead th {\n",
       "        text-align: right;\n",
       "    }\n",
       "</style>\n",
       "<table border=\"1\" class=\"dataframe\">\n",
       "  <thead>\n",
       "    <tr style=\"text-align: right;\">\n",
       "      <th></th>\n",
       "      <th>id</th>\n",
       "      <th>source</th>\n",
       "      <th>title</th>\n",
       "      <th>content</th>\n",
       "      <th>url</th>\n",
       "      <th>published_utc</th>\n",
       "      <th>label</th>\n",
       "      <th>factuality</th>\n",
       "      <th>questionable-source</th>\n",
       "      <th>conspiracy-pseudoscience</th>\n",
       "      <th>...</th>\n",
       "      <th>Russia</th>\n",
       "      <th>USA</th>\n",
       "      <th>United Kingdom</th>\n",
       "      <th>Unknown</th>\n",
       "      <th>tokenized_content</th>\n",
       "      <th>tok_content_length</th>\n",
       "      <th>tokenized_title</th>\n",
       "      <th>tok_title_length</th>\n",
       "      <th>nb_character_content</th>\n",
       "      <th>nb_character_title</th>\n",
       "    </tr>\n",
       "  </thead>\n",
       "  <tbody>\n",
       "    <tr>\n",
       "      <th>0</th>\n",
       "      <td>21stcenturywire--2022-04-26--An Unsettling Rea...</td>\n",
       "      <td>21stcenturywire</td>\n",
       "      <td>An Unsettling Realization: ‘Mask Zealots are S...</td>\n",
       "      <td>It’s been noted how the fanatical nature of ma...</td>\n",
       "      <td>https://21stcenturywire.com/2022/04/26/an-unse...</td>\n",
       "      <td>1650983484</td>\n",
       "      <td>1.0</td>\n",
       "      <td>2.0</td>\n",
       "      <td>0.0</td>\n",
       "      <td>1.0</td>\n",
       "      <td>...</td>\n",
       "      <td>0</td>\n",
       "      <td>1</td>\n",
       "      <td>0</td>\n",
       "      <td>0</td>\n",
       "      <td>[It, ’, s, been, noted, how, the, fanatical, n...</td>\n",
       "      <td>128</td>\n",
       "      <td>[An, Unsettling, Realization, :, ‘, Mask, Zeal...</td>\n",
       "      <td>11</td>\n",
       "      <td>720</td>\n",
       "      <td>61</td>\n",
       "    </tr>\n",
       "    <tr>\n",
       "      <th>1</th>\n",
       "      <td>21stcenturywire--2022-04-24--Episode #416 – ‘S...</td>\n",
       "      <td>21stcenturywire</td>\n",
       "      <td>Episode #416 – ‘Soldiers of Fortune’ with gues...</td>\n",
       "      <td>Episode #416 of SUNDAY WIRE SHOW resumes this ...</td>\n",
       "      <td>https://21stcenturywire.com/2022/04/24/episode...</td>\n",
       "      <td>1650823248</td>\n",
       "      <td>1.0</td>\n",
       "      <td>2.0</td>\n",
       "      <td>0.0</td>\n",
       "      <td>1.0</td>\n",
       "      <td>...</td>\n",
       "      <td>0</td>\n",
       "      <td>1</td>\n",
       "      <td>0</td>\n",
       "      <td>0</td>\n",
       "      <td>[Episode, #, 416, of, SUNDAY, WIRE, SHOW, resu...</td>\n",
       "      <td>221</td>\n",
       "      <td>[Episode, #, 416, –, ‘, Soldiers, of, Fortune,...</td>\n",
       "      <td>14</td>\n",
       "      <td>1143</td>\n",
       "      <td>66</td>\n",
       "    </tr>\n",
       "    <tr>\n",
       "      <th>2</th>\n",
       "      <td>21stcenturywire--2022-07-15--UKC News: UK Thou...</td>\n",
       "      <td>21stcenturywire</td>\n",
       "      <td>UKC News: UK Thought Police, France Stops Vacc...</td>\n",
       "      <td>Authoritarians in the UK government are gettin...</td>\n",
       "      <td>https://21stcenturywire.com/2022/07/15/ukc-new...</td>\n",
       "      <td>1657916785</td>\n",
       "      <td>1.0</td>\n",
       "      <td>2.0</td>\n",
       "      <td>0.0</td>\n",
       "      <td>1.0</td>\n",
       "      <td>...</td>\n",
       "      <td>0</td>\n",
       "      <td>1</td>\n",
       "      <td>0</td>\n",
       "      <td>0</td>\n",
       "      <td>[Authoritarians, in, the, UK, government, are,...</td>\n",
       "      <td>251</td>\n",
       "      <td>[UKC, News, :, UK, Thought, Police, ,, France,...</td>\n",
       "      <td>16</td>\n",
       "      <td>1340</td>\n",
       "      <td>82</td>\n",
       "    </tr>\n",
       "    <tr>\n",
       "      <th>3</th>\n",
       "      <td>21stcenturywire--2022-05-22--Twitter Audit Fin...</td>\n",
       "      <td>21stcenturywire</td>\n",
       "      <td>Twitter Audit Finds Half of President Biden’s ...</td>\n",
       "      <td>After the 2020 election, many Americans began ...</td>\n",
       "      <td>https://21stcenturywire.com/2022/05/22/twitter...</td>\n",
       "      <td>1653236268</td>\n",
       "      <td>1.0</td>\n",
       "      <td>2.0</td>\n",
       "      <td>0.0</td>\n",
       "      <td>1.0</td>\n",
       "      <td>...</td>\n",
       "      <td>0</td>\n",
       "      <td>1</td>\n",
       "      <td>0</td>\n",
       "      <td>0</td>\n",
       "      <td>[After, the, 2020, election, ,, many, American...</td>\n",
       "      <td>630</td>\n",
       "      <td>[Twitter, Audit, Finds, Half, of, President, B...</td>\n",
       "      <td>13</td>\n",
       "      <td>3274</td>\n",
       "      <td>69</td>\n",
       "    </tr>\n",
       "    <tr>\n",
       "      <th>4</th>\n",
       "      <td>21stcenturywire--2022-03-11--UKC News: The Tru...</td>\n",
       "      <td>21stcenturywire</td>\n",
       "      <td>UKC News: The Truth About US Bio Labs + White ...</td>\n",
       "      <td>The high stakes game surrounding the Ukraine c...</td>\n",
       "      <td>https://21stcenturywire.com/2022/03/11/ukc-new...</td>\n",
       "      <td>1647044296</td>\n",
       "      <td>1.0</td>\n",
       "      <td>2.0</td>\n",
       "      <td>0.0</td>\n",
       "      <td>1.0</td>\n",
       "      <td>...</td>\n",
       "      <td>0</td>\n",
       "      <td>1</td>\n",
       "      <td>0</td>\n",
       "      <td>0</td>\n",
       "      <td>[The, high, stakes, game, surrounding, the, Uk...</td>\n",
       "      <td>167</td>\n",
       "      <td>[UKC, News, :, The, Truth, About, US, Bio, Lab...</td>\n",
       "      <td>15</td>\n",
       "      <td>908</td>\n",
       "      <td>70</td>\n",
       "    </tr>\n",
       "  </tbody>\n",
       "</table>\n",
       "<p>5 rows × 42 columns</p>\n",
       "</div>"
      ],
      "text/plain": [
       "                                                  id           source  \\\n",
       "0  21stcenturywire--2022-04-26--An Unsettling Rea...  21stcenturywire   \n",
       "1  21stcenturywire--2022-04-24--Episode #416 – ‘S...  21stcenturywire   \n",
       "2  21stcenturywire--2022-07-15--UKC News: UK Thou...  21stcenturywire   \n",
       "3  21stcenturywire--2022-05-22--Twitter Audit Fin...  21stcenturywire   \n",
       "4  21stcenturywire--2022-03-11--UKC News: The Tru...  21stcenturywire   \n",
       "\n",
       "                                               title  \\\n",
       "0  An Unsettling Realization: ‘Mask Zealots are S...   \n",
       "1  Episode #416 – ‘Soldiers of Fortune’ with gues...   \n",
       "2  UKC News: UK Thought Police, France Stops Vacc...   \n",
       "3  Twitter Audit Finds Half of President Biden’s ...   \n",
       "4  UKC News: The Truth About US Bio Labs + White ...   \n",
       "\n",
       "                                             content  \\\n",
       "0  It’s been noted how the fanatical nature of ma...   \n",
       "1  Episode #416 of SUNDAY WIRE SHOW resumes this ...   \n",
       "2  Authoritarians in the UK government are gettin...   \n",
       "3  After the 2020 election, many Americans began ...   \n",
       "4  The high stakes game surrounding the Ukraine c...   \n",
       "\n",
       "                                                 url  published_utc  label  \\\n",
       "0  https://21stcenturywire.com/2022/04/26/an-unse...     1650983484    1.0   \n",
       "1  https://21stcenturywire.com/2022/04/24/episode...     1650823248    1.0   \n",
       "2  https://21stcenturywire.com/2022/07/15/ukc-new...     1657916785    1.0   \n",
       "3  https://21stcenturywire.com/2022/05/22/twitter...     1653236268    1.0   \n",
       "4  https://21stcenturywire.com/2022/03/11/ukc-new...     1647044296    1.0   \n",
       "\n",
       "   factuality  questionable-source  conspiracy-pseudoscience  ...  Russia  \\\n",
       "0         2.0                  0.0                       1.0  ...       0   \n",
       "1         2.0                  0.0                       1.0  ...       0   \n",
       "2         2.0                  0.0                       1.0  ...       0   \n",
       "3         2.0                  0.0                       1.0  ...       0   \n",
       "4         2.0                  0.0                       1.0  ...       0   \n",
       "\n",
       "   USA  United Kingdom  Unknown  \\\n",
       "0    1               0        0   \n",
       "1    1               0        0   \n",
       "2    1               0        0   \n",
       "3    1               0        0   \n",
       "4    1               0        0   \n",
       "\n",
       "                                   tokenized_content  tok_content_length  \\\n",
       "0  [It, ’, s, been, noted, how, the, fanatical, n...                 128   \n",
       "1  [Episode, #, 416, of, SUNDAY, WIRE, SHOW, resu...                 221   \n",
       "2  [Authoritarians, in, the, UK, government, are,...                 251   \n",
       "3  [After, the, 2020, election, ,, many, American...                 630   \n",
       "4  [The, high, stakes, game, surrounding, the, Uk...                 167   \n",
       "\n",
       "                                     tokenized_title  tok_title_length  \\\n",
       "0  [An, Unsettling, Realization, :, ‘, Mask, Zeal...                11   \n",
       "1  [Episode, #, 416, –, ‘, Soldiers, of, Fortune,...                14   \n",
       "2  [UKC, News, :, UK, Thought, Police, ,, France,...                16   \n",
       "3  [Twitter, Audit, Finds, Half, of, President, B...                13   \n",
       "4  [UKC, News, :, The, Truth, About, US, Bio, Lab...                15   \n",
       "\n",
       "   nb_character_content  nb_character_title  \n",
       "0                   720                  61  \n",
       "1                  1143                  66  \n",
       "2                  1340                  82  \n",
       "3                  3274                  69  \n",
       "4                   908                  70  \n",
       "\n",
       "[5 rows x 42 columns]"
      ]
     },
     "execution_count": 7,
     "metadata": {},
     "output_type": "execute_result"
    }
   ],
   "source": [
    "df.head(5)"
   ]
  },
  {
   "cell_type": "code",
   "execution_count": 8,
   "id": "d527c18b",
   "metadata": {},
   "outputs": [
    {
     "name": "stdout",
     "output_type": "stream",
     "text": [
      "<class 'pandas.core.frame.DataFrame'>\n",
      "Int64Index: 85051 entries, 0 to 106709\n",
      "Data columns (total 42 columns):\n",
      " #   Column                    Non-Null Count  Dtype  \n",
      "---  ------                    --------------  -----  \n",
      " 0   id                        85051 non-null  object \n",
      " 1   source                    85051 non-null  object \n",
      " 2   title                     85051 non-null  object \n",
      " 3   content                   85051 non-null  object \n",
      " 4   url                       85051 non-null  object \n",
      " 5   published_utc             85051 non-null  int64  \n",
      " 6   label                     85051 non-null  float64\n",
      " 7   factuality                85051 non-null  float64\n",
      " 8   questionable-source       85051 non-null  float64\n",
      " 9   conspiracy-pseudoscience  85051 non-null  float64\n",
      " 10  pro-science               85051 non-null  float64\n",
      " 11  year                      85051 non-null  int64  \n",
      " 12  month                     85051 non-null  int64  \n",
      " 13  dayofyear                 85051 non-null  int64  \n",
      " 14  dayofthemonth             85051 non-null  int64  \n",
      " 15  weekday                   85051 non-null  int64  \n",
      " 16  weekend                   85051 non-null  int32  \n",
      " 17  word_count_content        85051 non-null  int64  \n",
      " 18  word_count_title          85051 non-null  int64  \n",
      " 19  Australia                 85051 non-null  uint8  \n",
      " 20  Bulgaria                  85051 non-null  uint8  \n",
      " 21  Canada                    85051 non-null  uint8  \n",
      " 22  Cyprus                    85051 non-null  uint8  \n",
      " 23  France                    85051 non-null  uint8  \n",
      " 24  Germany                   85051 non-null  uint8  \n",
      " 25  Ireland                   85051 non-null  uint8  \n",
      " 26  Israel                    85051 non-null  uint8  \n",
      " 27  Japan                     85051 non-null  uint8  \n",
      " 28  Kenya                     85051 non-null  uint8  \n",
      " 29  Macedonia                 85051 non-null  uint8  \n",
      " 30  Netherlands               85051 non-null  uint8  \n",
      " 31  Qatar                     85051 non-null  uint8  \n",
      " 32  Russia                    85051 non-null  uint8  \n",
      " 33  USA                       85051 non-null  uint8  \n",
      " 34  United Kingdom            85051 non-null  uint8  \n",
      " 35  Unknown                   85051 non-null  uint8  \n",
      " 36  tokenized_content         85051 non-null  object \n",
      " 37  tok_content_length        85051 non-null  int64  \n",
      " 38  tokenized_title           85051 non-null  object \n",
      " 39  tok_title_length          85051 non-null  int64  \n",
      " 40  nb_character_content      85051 non-null  int64  \n",
      " 41  nb_character_title        85051 non-null  int64  \n",
      "dtypes: float64(5), int32(1), int64(12), object(7), uint8(17)\n",
      "memory usage: 17.9+ MB\n"
     ]
    }
   ],
   "source": [
    "df.info()"
   ]
  },
  {
   "cell_type": "code",
   "execution_count": 9,
   "id": "16d20061",
   "metadata": {},
   "outputs": [
    {
     "data": {
      "text/plain": [
       "0.0    36636\n",
       "1.0    26542\n",
       "2.0    21873\n",
       "Name: label, dtype: int64"
      ]
     },
     "execution_count": 9,
     "metadata": {},
     "output_type": "execute_result"
    }
   ],
   "source": [
    "# inspect labels\n",
    "df[\"label\"].value_counts()\n"
   ]
  },
  {
   "cell_type": "code",
   "execution_count": 10,
   "id": "dac608d2",
   "metadata": {},
   "outputs": [],
   "source": [
    "### DELETE 2 in labels (delete 21873 rows)\n",
    "df = df[df[\"label\"] != 2]\n"
   ]
  },
  {
   "cell_type": "code",
   "execution_count": 11,
   "id": "de56e2bf",
   "metadata": {},
   "outputs": [
    {
     "data": {
      "text/plain": [
       "0.0    36636\n",
       "1.0    26542\n",
       "Name: label, dtype: int64"
      ]
     },
     "execution_count": 11,
     "metadata": {},
     "output_type": "execute_result"
    }
   ],
   "source": [
    "# inspect labels\n",
    "df[\"label\"].value_counts()\n",
    "\n",
    "# 0.0    36636\n",
    "# 1.0    26542"
   ]
  },
  {
   "cell_type": "code",
   "execution_count": null,
   "id": "8afc7925",
   "metadata": {},
   "outputs": [],
   "source": []
  },
  {
   "cell_type": "code",
   "execution_count": null,
   "id": "c20cef92",
   "metadata": {},
   "outputs": [],
   "source": []
  },
  {
   "cell_type": "markdown",
   "id": "53702a03",
   "metadata": {},
   "source": [
    "# CREATE NUMERIC DATASETS df_num\n",
    "\n",
    "# x_train, x_test, y_train, y_test (lower case x and y)\n"
   ]
  },
  {
   "cell_type": "code",
   "execution_count": 12,
   "id": "3da31f1d",
   "metadata": {},
   "outputs": [
    {
     "name": "stdout",
     "output_type": "stream",
     "text": [
      "        published_utc  label  factuality  questionable-source  \\\n",
      "0          1650983484    1.0         2.0                  0.0   \n",
      "1          1650823248    1.0         2.0                  0.0   \n",
      "2          1657916785    1.0         2.0                  0.0   \n",
      "3          1653236268    1.0         2.0                  0.0   \n",
      "4          1647044296    1.0         2.0                  0.0   \n",
      "...               ...    ...         ...                  ...   \n",
      "106705     1665142200    1.0         1.0                  0.0   \n",
      "106706     1660253100    1.0         1.0                  0.0   \n",
      "106707     1655742000    1.0         1.0                  0.0   \n",
      "106708     1642390200    1.0         1.0                  0.0   \n",
      "106709     1664605800    1.0         1.0                  0.0   \n",
      "\n",
      "        conspiracy-pseudoscience  pro-science  year  month  dayofyear  \\\n",
      "0                            1.0          0.0  2022      4        116   \n",
      "1                            1.0          0.0  2022      4        114   \n",
      "2                            1.0          0.0  2022      7        196   \n",
      "3                            1.0          0.0  2022      5        142   \n",
      "4                            1.0          0.0  2022      3         70   \n",
      "...                          ...          ...   ...    ...        ...   \n",
      "106705                       1.0          0.0  2022     10        280   \n",
      "106706                       1.0          0.0  2022      8        223   \n",
      "106707                       1.0          0.0  2022      6        171   \n",
      "106708                       1.0          0.0  2022      1         16   \n",
      "106709                       1.0          0.0  2022     10        274   \n",
      "\n",
      "        dayofthemonth  ...  Netherlands  Qatar  Russia  USA  United Kingdom  \\\n",
      "0                  26  ...            0      0       0    1               0   \n",
      "1                  24  ...            0      0       0    1               0   \n",
      "2                  15  ...            0      0       0    1               0   \n",
      "3                  22  ...            0      0       0    1               0   \n",
      "4                  11  ...            0      0       0    1               0   \n",
      "...               ...  ...          ...    ...     ...  ...             ...   \n",
      "106705              7  ...            0      0       0    0               0   \n",
      "106706             11  ...            0      0       0    0               0   \n",
      "106707             20  ...            0      0       0    0               0   \n",
      "106708             16  ...            0      0       0    0               0   \n",
      "106709              1  ...            0      0       0    0               0   \n",
      "\n",
      "        Unknown  tok_content_length  tok_title_length  nb_character_content  \\\n",
      "0             0                 128                11                   720   \n",
      "1             0                 221                14                  1143   \n",
      "2             0                 251                16                  1340   \n",
      "3             0                 630                13                  3274   \n",
      "4             0                 167                15                   908   \n",
      "...         ...                 ...               ...                   ...   \n",
      "106705        0                 410                 9                  2254   \n",
      "106706        0                 742                18                  3750   \n",
      "106707        0                 400                12                  2123   \n",
      "106708        0                 694                 7                  3873   \n",
      "106709        0                 471                10                  2495   \n",
      "\n",
      "        nb_character_title  \n",
      "0                       61  \n",
      "1                       66  \n",
      "2                       82  \n",
      "3                       69  \n",
      "4                       70  \n",
      "...                    ...  \n",
      "106705                  52  \n",
      "106706                  83  \n",
      "106707                  78  \n",
      "106708                  34  \n",
      "106709                  50  \n",
      "\n",
      "[63178 rows x 35 columns]\n"
     ]
    }
   ],
   "source": [
    "df_num = df.select_dtypes(exclude=['object'])\n",
    "print(df_num)\n"
   ]
  },
  {
   "cell_type": "code",
   "execution_count": 13,
   "id": "b9706310",
   "metadata": {},
   "outputs": [],
   "source": [
    "# STEP 1: DEFINE X and Y\n",
    "x = df_num.drop([\"label\"], axis = 1)\n",
    "y = df[\"label\"]\n"
   ]
  },
  {
   "cell_type": "code",
   "execution_count": 14,
   "id": "2e42790e",
   "metadata": {},
   "outputs": [
    {
     "data": {
      "text/html": [
       "<div>\n",
       "<style scoped>\n",
       "    .dataframe tbody tr th:only-of-type {\n",
       "        vertical-align: middle;\n",
       "    }\n",
       "\n",
       "    .dataframe tbody tr th {\n",
       "        vertical-align: top;\n",
       "    }\n",
       "\n",
       "    .dataframe thead th {\n",
       "        text-align: right;\n",
       "    }\n",
       "</style>\n",
       "<table border=\"1\" class=\"dataframe\">\n",
       "  <thead>\n",
       "    <tr style=\"text-align: right;\">\n",
       "      <th></th>\n",
       "      <th>published_utc</th>\n",
       "      <th>factuality</th>\n",
       "      <th>questionable-source</th>\n",
       "      <th>conspiracy-pseudoscience</th>\n",
       "      <th>pro-science</th>\n",
       "      <th>year</th>\n",
       "      <th>month</th>\n",
       "      <th>dayofyear</th>\n",
       "      <th>dayofthemonth</th>\n",
       "      <th>weekday</th>\n",
       "      <th>...</th>\n",
       "      <th>Netherlands</th>\n",
       "      <th>Qatar</th>\n",
       "      <th>Russia</th>\n",
       "      <th>USA</th>\n",
       "      <th>United Kingdom</th>\n",
       "      <th>Unknown</th>\n",
       "      <th>tok_content_length</th>\n",
       "      <th>tok_title_length</th>\n",
       "      <th>nb_character_content</th>\n",
       "      <th>nb_character_title</th>\n",
       "    </tr>\n",
       "  </thead>\n",
       "  <tbody>\n",
       "    <tr>\n",
       "      <th>0</th>\n",
       "      <td>1650983484</td>\n",
       "      <td>2.0</td>\n",
       "      <td>0.0</td>\n",
       "      <td>1.0</td>\n",
       "      <td>0.0</td>\n",
       "      <td>2022</td>\n",
       "      <td>4</td>\n",
       "      <td>116</td>\n",
       "      <td>26</td>\n",
       "      <td>1</td>\n",
       "      <td>...</td>\n",
       "      <td>0</td>\n",
       "      <td>0</td>\n",
       "      <td>0</td>\n",
       "      <td>1</td>\n",
       "      <td>0</td>\n",
       "      <td>0</td>\n",
       "      <td>128</td>\n",
       "      <td>11</td>\n",
       "      <td>720</td>\n",
       "      <td>61</td>\n",
       "    </tr>\n",
       "    <tr>\n",
       "      <th>1</th>\n",
       "      <td>1650823248</td>\n",
       "      <td>2.0</td>\n",
       "      <td>0.0</td>\n",
       "      <td>1.0</td>\n",
       "      <td>0.0</td>\n",
       "      <td>2022</td>\n",
       "      <td>4</td>\n",
       "      <td>114</td>\n",
       "      <td>24</td>\n",
       "      <td>6</td>\n",
       "      <td>...</td>\n",
       "      <td>0</td>\n",
       "      <td>0</td>\n",
       "      <td>0</td>\n",
       "      <td>1</td>\n",
       "      <td>0</td>\n",
       "      <td>0</td>\n",
       "      <td>221</td>\n",
       "      <td>14</td>\n",
       "      <td>1143</td>\n",
       "      <td>66</td>\n",
       "    </tr>\n",
       "    <tr>\n",
       "      <th>2</th>\n",
       "      <td>1657916785</td>\n",
       "      <td>2.0</td>\n",
       "      <td>0.0</td>\n",
       "      <td>1.0</td>\n",
       "      <td>0.0</td>\n",
       "      <td>2022</td>\n",
       "      <td>7</td>\n",
       "      <td>196</td>\n",
       "      <td>15</td>\n",
       "      <td>4</td>\n",
       "      <td>...</td>\n",
       "      <td>0</td>\n",
       "      <td>0</td>\n",
       "      <td>0</td>\n",
       "      <td>1</td>\n",
       "      <td>0</td>\n",
       "      <td>0</td>\n",
       "      <td>251</td>\n",
       "      <td>16</td>\n",
       "      <td>1340</td>\n",
       "      <td>82</td>\n",
       "    </tr>\n",
       "  </tbody>\n",
       "</table>\n",
       "<p>3 rows × 34 columns</p>\n",
       "</div>"
      ],
      "text/plain": [
       "   published_utc  factuality  questionable-source  conspiracy-pseudoscience  \\\n",
       "0     1650983484         2.0                  0.0                       1.0   \n",
       "1     1650823248         2.0                  0.0                       1.0   \n",
       "2     1657916785         2.0                  0.0                       1.0   \n",
       "\n",
       "   pro-science  year  month  dayofyear  dayofthemonth  weekday  ...  \\\n",
       "0          0.0  2022      4        116             26        1  ...   \n",
       "1          0.0  2022      4        114             24        6  ...   \n",
       "2          0.0  2022      7        196             15        4  ...   \n",
       "\n",
       "   Netherlands  Qatar  Russia  USA  United Kingdom  Unknown  \\\n",
       "0            0      0       0    1               0        0   \n",
       "1            0      0       0    1               0        0   \n",
       "2            0      0       0    1               0        0   \n",
       "\n",
       "   tok_content_length  tok_title_length  nb_character_content  \\\n",
       "0                 128                11                   720   \n",
       "1                 221                14                  1143   \n",
       "2                 251                16                  1340   \n",
       "\n",
       "   nb_character_title  \n",
       "0                  61  \n",
       "1                  66  \n",
       "2                  82  \n",
       "\n",
       "[3 rows x 34 columns]"
      ]
     },
     "execution_count": 14,
     "metadata": {},
     "output_type": "execute_result"
    }
   ],
   "source": [
    "x.head(3)"
   ]
  },
  {
   "cell_type": "code",
   "execution_count": 15,
   "id": "163e25fc",
   "metadata": {},
   "outputs": [
    {
     "data": {
      "text/plain": [
       "published_utc                 int64\n",
       "factuality                  float64\n",
       "questionable-source         float64\n",
       "conspiracy-pseudoscience    float64\n",
       "pro-science                 float64\n",
       "year                          int64\n",
       "month                         int64\n",
       "dayofyear                     int64\n",
       "dayofthemonth                 int64\n",
       "weekday                       int64\n",
       "weekend                       int32\n",
       "word_count_content            int64\n",
       "word_count_title              int64\n",
       "Australia                     uint8\n",
       "Bulgaria                      uint8\n",
       "Canada                        uint8\n",
       "Cyprus                        uint8\n",
       "France                        uint8\n",
       "Germany                       uint8\n",
       "Ireland                       uint8\n",
       "Israel                        uint8\n",
       "Japan                         uint8\n",
       "Kenya                         uint8\n",
       "Macedonia                     uint8\n",
       "Netherlands                   uint8\n",
       "Qatar                         uint8\n",
       "Russia                        uint8\n",
       "USA                           uint8\n",
       "United Kingdom                uint8\n",
       "Unknown                       uint8\n",
       "tok_content_length            int64\n",
       "tok_title_length              int64\n",
       "nb_character_content          int64\n",
       "nb_character_title            int64\n",
       "dtype: object"
      ]
     },
     "execution_count": 15,
     "metadata": {},
     "output_type": "execute_result"
    }
   ],
   "source": [
    "x.dtypes"
   ]
  },
  {
   "cell_type": "code",
   "execution_count": 16,
   "id": "fd4ba8d5",
   "metadata": {
    "scrolled": false
   },
   "outputs": [
    {
     "data": {
      "text/plain": [
       "0    1.0\n",
       "1    1.0\n",
       "2    1.0\n",
       "Name: label, dtype: float64"
      ]
     },
     "execution_count": 16,
     "metadata": {},
     "output_type": "execute_result"
    }
   ],
   "source": [
    "y.head(3)"
   ]
  },
  {
   "cell_type": "code",
   "execution_count": 17,
   "id": "b86c84fd",
   "metadata": {},
   "outputs": [],
   "source": [
    "# STEP 2: Split the dataset:\n",
    "from sklearn.model_selection import train_test_split\n",
    "\n",
    "x_train, x_test, y_train, y_test = train_test_split(x, y, test_size = 0.2, random_state = 2)\n"
   ]
  },
  {
   "cell_type": "code",
   "execution_count": null,
   "id": "1854b1ee",
   "metadata": {},
   "outputs": [],
   "source": []
  },
  {
   "cell_type": "markdown",
   "id": "1a2fa9e3",
   "metadata": {},
   "source": [
    "# CREATE LightGBM MODEL"
   ]
  },
  {
   "cell_type": "code",
   "execution_count": 18,
   "id": "de697cf3",
   "metadata": {},
   "outputs": [],
   "source": [
    "import lightgbm as lgb\n",
    "from sklearn.model_selection import train_test_split\n",
    "from sklearn.metrics import accuracy_score\n"
   ]
  },
  {
   "cell_type": "code",
   "execution_count": 19,
   "id": "6b11f268",
   "metadata": {},
   "outputs": [],
   "source": [
    "# Create a LightGBM dataset for training\n",
    "LightGMB_train_data = lgb.Dataset(x_train, label=y_train)\n"
   ]
  },
  {
   "cell_type": "code",
   "execution_count": 20,
   "id": "a37de7c8",
   "metadata": {},
   "outputs": [],
   "source": [
    "# Set the hyperparameters for the LightGBM model\n",
    "params_LightGBM = {\n",
    "    'boosting_type': 'gbdt',\n",
    "    'objective': 'binary',  # Set the appropriate objective for your classification task\n",
    "    'metric': 'binary_logloss',  # Set the appropriate metric for evaluation\n",
    "    'num_leaves': 31,\n",
    "    'learning_rate': 0.05,\n",
    "    'feature_fraction': 0.9,\n",
    "    'bagging_fraction': 0.8,\n",
    "    'bagging_freq': 5,\n",
    "    'verbose': 0\n",
    "}\n"
   ]
  },
  {
   "cell_type": "code",
   "execution_count": 21,
   "id": "6fadd4c4",
   "metadata": {},
   "outputs": [
    {
     "name": "stdout",
     "output_type": "stream",
     "text": [
      "[LightGBM] [Warning] Found whitespace in feature_names, replace with underlines\n",
      "[LightGBM] [Warning] Auto-choosing col-wise multi-threading, the overhead of testing was 0.005627 seconds.\n",
      "You can set `force_col_wise=true` to remove the overhead.\n",
      "[LightGBM] [Warning] No further splits with positive gain, best gain: -inf\n",
      "[LightGBM] [Warning] No further splits with positive gain, best gain: -inf\n",
      "[LightGBM] [Warning] No further splits with positive gain, best gain: -inf\n",
      "[LightGBM] [Warning] No further splits with positive gain, best gain: -inf\n",
      "[LightGBM] [Warning] No further splits with positive gain, best gain: -inf\n",
      "[LightGBM] [Warning] No further splits with positive gain, best gain: -inf\n",
      "[LightGBM] [Warning] No further splits with positive gain, best gain: -inf\n",
      "[LightGBM] [Warning] No further splits with positive gain, best gain: -inf\n"
     ]
    }
   ],
   "source": [
    "# Train the LightGBM model\n",
    "clf_LightGBM = lgb.train(params_LightGBM, LightGMB_train_data, num_boost_round=100)\n"
   ]
  },
  {
   "cell_type": "code",
   "execution_count": 22,
   "id": "2fcec7cd",
   "metadata": {},
   "outputs": [],
   "source": [
    "# Make predictions on the test set\n",
    "y_pred_LightGBM = clf_LightGBM.predict(x_test)\n",
    "y_pred_LightGBM = [round(pred) for pred in y_pred_LightGBM]  # Convert probability to binary predictions\n"
   ]
  },
  {
   "cell_type": "code",
   "execution_count": 23,
   "id": "a24409cd",
   "metadata": {},
   "outputs": [
    {
     "data": {
      "text/html": [
       "<div>\n",
       "<style scoped>\n",
       "    .dataframe tbody tr th:only-of-type {\n",
       "        vertical-align: middle;\n",
       "    }\n",
       "\n",
       "    .dataframe tbody tr th {\n",
       "        vertical-align: top;\n",
       "    }\n",
       "\n",
       "    .dataframe thead th {\n",
       "        text-align: right;\n",
       "    }\n",
       "</style>\n",
       "<table border=\"1\" class=\"dataframe\">\n",
       "  <thead>\n",
       "    <tr style=\"text-align: right;\">\n",
       "      <th>predict</th>\n",
       "      <th>0</th>\n",
       "      <th>1</th>\n",
       "    </tr>\n",
       "    <tr>\n",
       "      <th>real</th>\n",
       "      <th></th>\n",
       "      <th></th>\n",
       "    </tr>\n",
       "  </thead>\n",
       "  <tbody>\n",
       "    <tr>\n",
       "      <th>0.0</th>\n",
       "      <td>7293</td>\n",
       "      <td>0</td>\n",
       "    </tr>\n",
       "    <tr>\n",
       "      <th>1.0</th>\n",
       "      <td>0</td>\n",
       "      <td>5343</td>\n",
       "    </tr>\n",
       "  </tbody>\n",
       "</table>\n",
       "</div>"
      ],
      "text/plain": [
       "predict     0     1\n",
       "real               \n",
       "0.0      7293     0\n",
       "1.0         0  5343"
      ]
     },
     "execution_count": 23,
     "metadata": {},
     "output_type": "execute_result"
    }
   ],
   "source": [
    "# get confusion matrix\n",
    "pd.crosstab(y_test, y_pred_LightGBM, rownames=[\"real\"], colnames=[\"predict\"])\n",
    "\n",
    "# works perfectly\n"
   ]
  },
  {
   "cell_type": "code",
   "execution_count": 24,
   "id": "5fbb3dcc",
   "metadata": {},
   "outputs": [
    {
     "name": "stdout",
     "output_type": "stream",
     "text": [
      "Accuracy: 1.0\n"
     ]
    }
   ],
   "source": [
    "# Evaluate the model\n",
    "accuracy_LightGBM = accuracy_score(y_test, y_pred_LightGBM)\n",
    "print(\"Accuracy:\", accuracy_LightGBM)\n",
    "\n",
    "# 1.0\n"
   ]
  },
  {
   "cell_type": "code",
   "execution_count": 25,
   "id": "243be810",
   "metadata": {},
   "outputs": [
    {
     "name": "stdout",
     "output_type": "stream",
     "text": [
      "LightGBM classification report:\n",
      "               precision    recall  f1-score   support\n",
      "\n",
      "         0.0       1.00      1.00      1.00      7293\n",
      "         1.0       1.00      1.00      1.00      5343\n",
      "\n",
      "    accuracy                           1.00     12636\n",
      "   macro avg       1.00      1.00      1.00     12636\n",
      "weighted avg       1.00      1.00      1.00     12636\n",
      "\n"
     ]
    }
   ],
   "source": [
    "# Evaluate model with classification report\n",
    "from sklearn.metrics import classification_report \n",
    "\n",
    "print(\"LightGBM classification report:\\n\", classification_report (y_test, y_pred_LightGBM))\n"
   ]
  },
  {
   "cell_type": "code",
   "execution_count": 26,
   "id": "a5ef2f14",
   "metadata": {},
   "outputs": [
    {
     "name": "stdout",
     "output_type": "stream",
     "text": [
      "Confusion Matrix:\n",
      " [[7293    0]\n",
      " [   0 5343]]\n"
     ]
    }
   ],
   "source": [
    "# Evaluate Model with confusion matrix \n",
    "from sklearn.metrics import confusion_matrix \n",
    "\n",
    "conf_matrix_LightGBM = confusion_matrix(y_test, y_pred_LightGBM)\n",
    "\n",
    "print(\"Confusion Matrix:\\n\",  conf_matrix_LightGBM)\n"
   ]
  },
  {
   "cell_type": "code",
   "execution_count": null,
   "id": "73bfab6f",
   "metadata": {},
   "outputs": [],
   "source": []
  },
  {
   "cell_type": "code",
   "execution_count": null,
   "id": "81a982b7",
   "metadata": {},
   "outputs": [],
   "source": []
  },
  {
   "cell_type": "markdown",
   "id": "42fa9ca9",
   "metadata": {},
   "source": [
    "# Create Naive Bayes Bernoulli Model"
   ]
  },
  {
   "cell_type": "code",
   "execution_count": 27,
   "id": "9f4739a8",
   "metadata": {},
   "outputs": [],
   "source": [
    "from sklearn.naive_bayes import BernoulliNB\n",
    "from sklearn.model_selection import train_test_split\n",
    "from sklearn.metrics import accuracy_score"
   ]
  },
  {
   "cell_type": "code",
   "execution_count": 28,
   "id": "f2960ad0",
   "metadata": {},
   "outputs": [],
   "source": [
    "# Create a Bernoulli Naive Bayes classifier\n",
    "clf_Bern = BernoulliNB()\n"
   ]
  },
  {
   "cell_type": "code",
   "execution_count": 29,
   "id": "728db523",
   "metadata": {},
   "outputs": [
    {
     "data": {
      "text/html": [
       "<style>#sk-container-id-1 {color: black;background-color: white;}#sk-container-id-1 pre{padding: 0;}#sk-container-id-1 div.sk-toggleable {background-color: white;}#sk-container-id-1 label.sk-toggleable__label {cursor: pointer;display: block;width: 100%;margin-bottom: 0;padding: 0.3em;box-sizing: border-box;text-align: center;}#sk-container-id-1 label.sk-toggleable__label-arrow:before {content: \"▸\";float: left;margin-right: 0.25em;color: #696969;}#sk-container-id-1 label.sk-toggleable__label-arrow:hover:before {color: black;}#sk-container-id-1 div.sk-estimator:hover label.sk-toggleable__label-arrow:before {color: black;}#sk-container-id-1 div.sk-toggleable__content {max-height: 0;max-width: 0;overflow: hidden;text-align: left;background-color: #f0f8ff;}#sk-container-id-1 div.sk-toggleable__content pre {margin: 0.2em;color: black;border-radius: 0.25em;background-color: #f0f8ff;}#sk-container-id-1 input.sk-toggleable__control:checked~div.sk-toggleable__content {max-height: 200px;max-width: 100%;overflow: auto;}#sk-container-id-1 input.sk-toggleable__control:checked~label.sk-toggleable__label-arrow:before {content: \"▾\";}#sk-container-id-1 div.sk-estimator input.sk-toggleable__control:checked~label.sk-toggleable__label {background-color: #d4ebff;}#sk-container-id-1 div.sk-label input.sk-toggleable__control:checked~label.sk-toggleable__label {background-color: #d4ebff;}#sk-container-id-1 input.sk-hidden--visually {border: 0;clip: rect(1px 1px 1px 1px);clip: rect(1px, 1px, 1px, 1px);height: 1px;margin: -1px;overflow: hidden;padding: 0;position: absolute;width: 1px;}#sk-container-id-1 div.sk-estimator {font-family: monospace;background-color: #f0f8ff;border: 1px dotted black;border-radius: 0.25em;box-sizing: border-box;margin-bottom: 0.5em;}#sk-container-id-1 div.sk-estimator:hover {background-color: #d4ebff;}#sk-container-id-1 div.sk-parallel-item::after {content: \"\";width: 100%;border-bottom: 1px solid gray;flex-grow: 1;}#sk-container-id-1 div.sk-label:hover label.sk-toggleable__label {background-color: #d4ebff;}#sk-container-id-1 div.sk-serial::before {content: \"\";position: absolute;border-left: 1px solid gray;box-sizing: border-box;top: 0;bottom: 0;left: 50%;z-index: 0;}#sk-container-id-1 div.sk-serial {display: flex;flex-direction: column;align-items: center;background-color: white;padding-right: 0.2em;padding-left: 0.2em;position: relative;}#sk-container-id-1 div.sk-item {position: relative;z-index: 1;}#sk-container-id-1 div.sk-parallel {display: flex;align-items: stretch;justify-content: center;background-color: white;position: relative;}#sk-container-id-1 div.sk-item::before, #sk-container-id-1 div.sk-parallel-item::before {content: \"\";position: absolute;border-left: 1px solid gray;box-sizing: border-box;top: 0;bottom: 0;left: 50%;z-index: -1;}#sk-container-id-1 div.sk-parallel-item {display: flex;flex-direction: column;z-index: 1;position: relative;background-color: white;}#sk-container-id-1 div.sk-parallel-item:first-child::after {align-self: flex-end;width: 50%;}#sk-container-id-1 div.sk-parallel-item:last-child::after {align-self: flex-start;width: 50%;}#sk-container-id-1 div.sk-parallel-item:only-child::after {width: 0;}#sk-container-id-1 div.sk-dashed-wrapped {border: 1px dashed gray;margin: 0 0.4em 0.5em 0.4em;box-sizing: border-box;padding-bottom: 0.4em;background-color: white;}#sk-container-id-1 div.sk-label label {font-family: monospace;font-weight: bold;display: inline-block;line-height: 1.2em;}#sk-container-id-1 div.sk-label-container {text-align: center;}#sk-container-id-1 div.sk-container {/* jupyter's `normalize.less` sets `[hidden] { display: none; }` but bootstrap.min.css set `[hidden] { display: none !important; }` so we also need the `!important` here to be able to override the default hidden behavior on the sphinx rendered scikit-learn.org. See: https://github.com/scikit-learn/scikit-learn/issues/21755 */display: inline-block !important;position: relative;}#sk-container-id-1 div.sk-text-repr-fallback {display: none;}</style><div id=\"sk-container-id-1\" class=\"sk-top-container\"><div class=\"sk-text-repr-fallback\"><pre>BernoulliNB()</pre><b>In a Jupyter environment, please rerun this cell to show the HTML representation or trust the notebook. <br />On GitHub, the HTML representation is unable to render, please try loading this page with nbviewer.org.</b></div><div class=\"sk-container\" hidden><div class=\"sk-item\"><div class=\"sk-estimator sk-toggleable\"><input class=\"sk-toggleable__control sk-hidden--visually\" id=\"sk-estimator-id-1\" type=\"checkbox\" checked><label for=\"sk-estimator-id-1\" class=\"sk-toggleable__label sk-toggleable__label-arrow\">BernoulliNB</label><div class=\"sk-toggleable__content\"><pre>BernoulliNB()</pre></div></div></div></div></div>"
      ],
      "text/plain": [
       "BernoulliNB()"
      ]
     },
     "execution_count": 29,
     "metadata": {},
     "output_type": "execute_result"
    }
   ],
   "source": [
    "# Train the classifier\n",
    "clf_Bern.fit(x_train, y_train)\n"
   ]
  },
  {
   "cell_type": "code",
   "execution_count": 30,
   "id": "5e973d7d",
   "metadata": {},
   "outputs": [],
   "source": [
    "y_pred_Bern = clf_Bern.predict(x_test)\n"
   ]
  },
  {
   "cell_type": "code",
   "execution_count": 31,
   "id": "8d3bfef3",
   "metadata": {},
   "outputs": [
    {
     "name": "stdout",
     "output_type": "stream",
     "text": [
      "Accuracy: 0.9910572966128521\n"
     ]
    }
   ],
   "source": [
    "# Evaluate the model\n",
    "accuracyNB_Bernoulli = accuracy_score(y_test, y_pred_Bern)\n",
    "print(\"Accuracy:\", accuracyNB_Bernoulli)\n",
    "\n",
    "# 0.991\n"
   ]
  },
  {
   "cell_type": "code",
   "execution_count": 32,
   "id": "f46bec67",
   "metadata": {},
   "outputs": [
    {
     "data": {
      "text/html": [
       "<div>\n",
       "<style scoped>\n",
       "    .dataframe tbody tr th:only-of-type {\n",
       "        vertical-align: middle;\n",
       "    }\n",
       "\n",
       "    .dataframe tbody tr th {\n",
       "        vertical-align: top;\n",
       "    }\n",
       "\n",
       "    .dataframe thead th {\n",
       "        text-align: right;\n",
       "    }\n",
       "</style>\n",
       "<table border=\"1\" class=\"dataframe\">\n",
       "  <thead>\n",
       "    <tr style=\"text-align: right;\">\n",
       "      <th>predict</th>\n",
       "      <th>0.0</th>\n",
       "      <th>1.0</th>\n",
       "    </tr>\n",
       "    <tr>\n",
       "      <th>real</th>\n",
       "      <th></th>\n",
       "      <th></th>\n",
       "    </tr>\n",
       "  </thead>\n",
       "  <tbody>\n",
       "    <tr>\n",
       "      <th>0.0</th>\n",
       "      <td>7180</td>\n",
       "      <td>113</td>\n",
       "    </tr>\n",
       "    <tr>\n",
       "      <th>1.0</th>\n",
       "      <td>0</td>\n",
       "      <td>5343</td>\n",
       "    </tr>\n",
       "  </tbody>\n",
       "</table>\n",
       "</div>"
      ],
      "text/plain": [
       "predict   0.0   1.0\n",
       "real               \n",
       "0.0      7180   113\n",
       "1.0         0  5343"
      ]
     },
     "execution_count": 32,
     "metadata": {},
     "output_type": "execute_result"
    }
   ],
   "source": [
    "# get confusion matrix\n",
    "pd.crosstab(y_test, y_pred_Bern, rownames=[\"real\"], colnames=[\"predict\"])\n",
    "\n",
    "# looks ok"
   ]
  },
  {
   "cell_type": "code",
   "execution_count": 33,
   "id": "04e6251a",
   "metadata": {},
   "outputs": [
    {
     "name": "stdout",
     "output_type": "stream",
     "text": [
      "Naive Bayes Bernoulli classification report:\n",
      "               precision    recall  f1-score   support\n",
      "\n",
      "         0.0       1.00      0.98      0.99      7293\n",
      "         1.0       0.98      1.00      0.99      5343\n",
      "\n",
      "    accuracy                           0.99     12636\n",
      "   macro avg       0.99      0.99      0.99     12636\n",
      "weighted avg       0.99      0.99      0.99     12636\n",
      "\n"
     ]
    }
   ],
   "source": [
    "# Evaluate model with classification report\n",
    "from sklearn.metrics import classification_report \n",
    "\n",
    "print(\"Naive Bayes Bernoulli classification report:\\n\", classification_report (y_test, y_pred_Bern))\n",
    "\n",
    "# looks ok"
   ]
  },
  {
   "cell_type": "code",
   "execution_count": 34,
   "id": "19cc1a03",
   "metadata": {},
   "outputs": [
    {
     "name": "stdout",
     "output_type": "stream",
     "text": [
      "Confusion Matrix:\n",
      " [[7180  113]\n",
      " [   0 5343]]\n"
     ]
    }
   ],
   "source": [
    "# Evaluate Model with confusion matrix \n",
    "from sklearn.metrics import confusion_matrix \n",
    "\n",
    "conf_matrix_Bern = confusion_matrix(y_test, y_pred_Bern)\n",
    "\n",
    "print(\"Confusion Matrix:\\n\",  conf_matrix_Bern)\n"
   ]
  },
  {
   "cell_type": "code",
   "execution_count": null,
   "id": "3f5a9866",
   "metadata": {},
   "outputs": [],
   "source": []
  },
  {
   "cell_type": "code",
   "execution_count": null,
   "id": "46436416",
   "metadata": {},
   "outputs": [],
   "source": []
  },
  {
   "cell_type": "markdown",
   "id": "d9130c16",
   "metadata": {},
   "source": [
    "# Create Naive Bayes Multinomial"
   ]
  },
  {
   "cell_type": "code",
   "execution_count": 35,
   "id": "2b0d8b42",
   "metadata": {},
   "outputs": [],
   "source": [
    "from sklearn.naive_bayes import MultinomialNB\n",
    "clf_mult = MultinomialNB()\n"
   ]
  },
  {
   "cell_type": "code",
   "execution_count": 36,
   "id": "5fd00513",
   "metadata": {},
   "outputs": [
    {
     "data": {
      "text/html": [
       "<style>#sk-container-id-2 {color: black;background-color: white;}#sk-container-id-2 pre{padding: 0;}#sk-container-id-2 div.sk-toggleable {background-color: white;}#sk-container-id-2 label.sk-toggleable__label {cursor: pointer;display: block;width: 100%;margin-bottom: 0;padding: 0.3em;box-sizing: border-box;text-align: center;}#sk-container-id-2 label.sk-toggleable__label-arrow:before {content: \"▸\";float: left;margin-right: 0.25em;color: #696969;}#sk-container-id-2 label.sk-toggleable__label-arrow:hover:before {color: black;}#sk-container-id-2 div.sk-estimator:hover label.sk-toggleable__label-arrow:before {color: black;}#sk-container-id-2 div.sk-toggleable__content {max-height: 0;max-width: 0;overflow: hidden;text-align: left;background-color: #f0f8ff;}#sk-container-id-2 div.sk-toggleable__content pre {margin: 0.2em;color: black;border-radius: 0.25em;background-color: #f0f8ff;}#sk-container-id-2 input.sk-toggleable__control:checked~div.sk-toggleable__content {max-height: 200px;max-width: 100%;overflow: auto;}#sk-container-id-2 input.sk-toggleable__control:checked~label.sk-toggleable__label-arrow:before {content: \"▾\";}#sk-container-id-2 div.sk-estimator input.sk-toggleable__control:checked~label.sk-toggleable__label {background-color: #d4ebff;}#sk-container-id-2 div.sk-label input.sk-toggleable__control:checked~label.sk-toggleable__label {background-color: #d4ebff;}#sk-container-id-2 input.sk-hidden--visually {border: 0;clip: rect(1px 1px 1px 1px);clip: rect(1px, 1px, 1px, 1px);height: 1px;margin: -1px;overflow: hidden;padding: 0;position: absolute;width: 1px;}#sk-container-id-2 div.sk-estimator {font-family: monospace;background-color: #f0f8ff;border: 1px dotted black;border-radius: 0.25em;box-sizing: border-box;margin-bottom: 0.5em;}#sk-container-id-2 div.sk-estimator:hover {background-color: #d4ebff;}#sk-container-id-2 div.sk-parallel-item::after {content: \"\";width: 100%;border-bottom: 1px solid gray;flex-grow: 1;}#sk-container-id-2 div.sk-label:hover label.sk-toggleable__label {background-color: #d4ebff;}#sk-container-id-2 div.sk-serial::before {content: \"\";position: absolute;border-left: 1px solid gray;box-sizing: border-box;top: 0;bottom: 0;left: 50%;z-index: 0;}#sk-container-id-2 div.sk-serial {display: flex;flex-direction: column;align-items: center;background-color: white;padding-right: 0.2em;padding-left: 0.2em;position: relative;}#sk-container-id-2 div.sk-item {position: relative;z-index: 1;}#sk-container-id-2 div.sk-parallel {display: flex;align-items: stretch;justify-content: center;background-color: white;position: relative;}#sk-container-id-2 div.sk-item::before, #sk-container-id-2 div.sk-parallel-item::before {content: \"\";position: absolute;border-left: 1px solid gray;box-sizing: border-box;top: 0;bottom: 0;left: 50%;z-index: -1;}#sk-container-id-2 div.sk-parallel-item {display: flex;flex-direction: column;z-index: 1;position: relative;background-color: white;}#sk-container-id-2 div.sk-parallel-item:first-child::after {align-self: flex-end;width: 50%;}#sk-container-id-2 div.sk-parallel-item:last-child::after {align-self: flex-start;width: 50%;}#sk-container-id-2 div.sk-parallel-item:only-child::after {width: 0;}#sk-container-id-2 div.sk-dashed-wrapped {border: 1px dashed gray;margin: 0 0.4em 0.5em 0.4em;box-sizing: border-box;padding-bottom: 0.4em;background-color: white;}#sk-container-id-2 div.sk-label label {font-family: monospace;font-weight: bold;display: inline-block;line-height: 1.2em;}#sk-container-id-2 div.sk-label-container {text-align: center;}#sk-container-id-2 div.sk-container {/* jupyter's `normalize.less` sets `[hidden] { display: none; }` but bootstrap.min.css set `[hidden] { display: none !important; }` so we also need the `!important` here to be able to override the default hidden behavior on the sphinx rendered scikit-learn.org. See: https://github.com/scikit-learn/scikit-learn/issues/21755 */display: inline-block !important;position: relative;}#sk-container-id-2 div.sk-text-repr-fallback {display: none;}</style><div id=\"sk-container-id-2\" class=\"sk-top-container\"><div class=\"sk-text-repr-fallback\"><pre>MultinomialNB()</pre><b>In a Jupyter environment, please rerun this cell to show the HTML representation or trust the notebook. <br />On GitHub, the HTML representation is unable to render, please try loading this page with nbviewer.org.</b></div><div class=\"sk-container\" hidden><div class=\"sk-item\"><div class=\"sk-estimator sk-toggleable\"><input class=\"sk-toggleable__control sk-hidden--visually\" id=\"sk-estimator-id-2\" type=\"checkbox\" checked><label for=\"sk-estimator-id-2\" class=\"sk-toggleable__label sk-toggleable__label-arrow\">MultinomialNB</label><div class=\"sk-toggleable__content\"><pre>MultinomialNB()</pre></div></div></div></div></div>"
      ],
      "text/plain": [
       "MultinomialNB()"
      ]
     },
     "execution_count": 36,
     "metadata": {},
     "output_type": "execute_result"
    }
   ],
   "source": [
    "clf_mult.fit(x_train, y_train)\n"
   ]
  },
  {
   "cell_type": "code",
   "execution_count": 37,
   "id": "261d2d8f",
   "metadata": {},
   "outputs": [
    {
     "data": {
      "text/plain": [
       "0.5169357391579614"
      ]
     },
     "execution_count": 37,
     "metadata": {},
     "output_type": "execute_result"
    }
   ],
   "source": [
    "# get accuracy\n",
    "accuracyNB_Multinomial = clf_mult.score(x_test, y_test)\n",
    "accuracyNB_Multinomial\n",
    "\n",
    "# 0.516\n"
   ]
  },
  {
   "cell_type": "code",
   "execution_count": 38,
   "id": "f7449889",
   "metadata": {},
   "outputs": [
    {
     "data": {
      "text/html": [
       "<div>\n",
       "<style scoped>\n",
       "    .dataframe tbody tr th:only-of-type {\n",
       "        vertical-align: middle;\n",
       "    }\n",
       "\n",
       "    .dataframe tbody tr th {\n",
       "        vertical-align: top;\n",
       "    }\n",
       "\n",
       "    .dataframe thead th {\n",
       "        text-align: right;\n",
       "    }\n",
       "</style>\n",
       "<table border=\"1\" class=\"dataframe\">\n",
       "  <thead>\n",
       "    <tr style=\"text-align: right;\">\n",
       "      <th>predict</th>\n",
       "      <th>0.0</th>\n",
       "      <th>1.0</th>\n",
       "    </tr>\n",
       "    <tr>\n",
       "      <th>real</th>\n",
       "      <th></th>\n",
       "      <th></th>\n",
       "    </tr>\n",
       "  </thead>\n",
       "  <tbody>\n",
       "    <tr>\n",
       "      <th>0.0</th>\n",
       "      <td>2925</td>\n",
       "      <td>4368</td>\n",
       "    </tr>\n",
       "    <tr>\n",
       "      <th>1.0</th>\n",
       "      <td>1736</td>\n",
       "      <td>3607</td>\n",
       "    </tr>\n",
       "  </tbody>\n",
       "</table>\n",
       "</div>"
      ],
      "text/plain": [
       "predict   0.0   1.0\n",
       "real               \n",
       "0.0      2925  4368\n",
       "1.0      1736  3607"
      ]
     },
     "execution_count": 38,
     "metadata": {},
     "output_type": "execute_result"
    }
   ],
   "source": [
    "# get confusion matrix\n",
    "y_pred_NB_Multinomial = clf_mult.predict(x_test)\n",
    "pd.crosstab(y_test, y_pred_NB_Multinomial, rownames=[\"real\"], colnames=[\"predict\"])\n",
    "\n",
    "# worse than models before"
   ]
  },
  {
   "cell_type": "code",
   "execution_count": 39,
   "id": "88e9cb5f",
   "metadata": {},
   "outputs": [
    {
     "name": "stdout",
     "output_type": "stream",
     "text": [
      "Naive Bayes Multinomial classification report:\n",
      "                precision    recall  f1-score   support\n",
      "\n",
      "         0.0       0.63      0.40      0.49      7293\n",
      "         1.0       0.45      0.68      0.54      5343\n",
      "\n",
      "    accuracy                           0.52     12636\n",
      "   macro avg       0.54      0.54      0.52     12636\n",
      "weighted avg       0.55      0.52      0.51     12636\n",
      "\n"
     ]
    }
   ],
   "source": [
    "from sklearn.metrics import classification_report \n",
    "\n",
    "# get classification report\n",
    "print(\"Naive Bayes Multinomial classification report:\\n \", classification_report (y_test, y_pred_NB_Multinomial))\n"
   ]
  },
  {
   "cell_type": "code",
   "execution_count": 40,
   "id": "a0499654",
   "metadata": {},
   "outputs": [
    {
     "name": "stdout",
     "output_type": "stream",
     "text": [
      "[[2925 4368]\n",
      " [1736 3607]]\n"
     ]
    }
   ],
   "source": [
    "# create confusion matrix\n",
    "cf_matrix_Multinomial = confusion_matrix(y_test, y_pred_NB_Multinomial)\n",
    "print(cf_matrix_Multinomial)\n"
   ]
  },
  {
   "cell_type": "code",
   "execution_count": null,
   "id": "bc6083dd",
   "metadata": {},
   "outputs": [],
   "source": []
  },
  {
   "cell_type": "code",
   "execution_count": null,
   "id": "b414f190",
   "metadata": {},
   "outputs": [],
   "source": []
  },
  {
   "cell_type": "markdown",
   "id": "83fd8c73",
   "metadata": {},
   "source": [
    "# Create Naive Bayes Complement"
   ]
  },
  {
   "cell_type": "code",
   "execution_count": 41,
   "id": "f55c6a6e",
   "metadata": {},
   "outputs": [],
   "source": [
    "from sklearn.naive_bayes import ComplementNB\n",
    "clf_compl = ComplementNB()\n"
   ]
  },
  {
   "cell_type": "code",
   "execution_count": 42,
   "id": "d87fa084",
   "metadata": {},
   "outputs": [
    {
     "data": {
      "text/html": [
       "<style>#sk-container-id-3 {color: black;background-color: white;}#sk-container-id-3 pre{padding: 0;}#sk-container-id-3 div.sk-toggleable {background-color: white;}#sk-container-id-3 label.sk-toggleable__label {cursor: pointer;display: block;width: 100%;margin-bottom: 0;padding: 0.3em;box-sizing: border-box;text-align: center;}#sk-container-id-3 label.sk-toggleable__label-arrow:before {content: \"▸\";float: left;margin-right: 0.25em;color: #696969;}#sk-container-id-3 label.sk-toggleable__label-arrow:hover:before {color: black;}#sk-container-id-3 div.sk-estimator:hover label.sk-toggleable__label-arrow:before {color: black;}#sk-container-id-3 div.sk-toggleable__content {max-height: 0;max-width: 0;overflow: hidden;text-align: left;background-color: #f0f8ff;}#sk-container-id-3 div.sk-toggleable__content pre {margin: 0.2em;color: black;border-radius: 0.25em;background-color: #f0f8ff;}#sk-container-id-3 input.sk-toggleable__control:checked~div.sk-toggleable__content {max-height: 200px;max-width: 100%;overflow: auto;}#sk-container-id-3 input.sk-toggleable__control:checked~label.sk-toggleable__label-arrow:before {content: \"▾\";}#sk-container-id-3 div.sk-estimator input.sk-toggleable__control:checked~label.sk-toggleable__label {background-color: #d4ebff;}#sk-container-id-3 div.sk-label input.sk-toggleable__control:checked~label.sk-toggleable__label {background-color: #d4ebff;}#sk-container-id-3 input.sk-hidden--visually {border: 0;clip: rect(1px 1px 1px 1px);clip: rect(1px, 1px, 1px, 1px);height: 1px;margin: -1px;overflow: hidden;padding: 0;position: absolute;width: 1px;}#sk-container-id-3 div.sk-estimator {font-family: monospace;background-color: #f0f8ff;border: 1px dotted black;border-radius: 0.25em;box-sizing: border-box;margin-bottom: 0.5em;}#sk-container-id-3 div.sk-estimator:hover {background-color: #d4ebff;}#sk-container-id-3 div.sk-parallel-item::after {content: \"\";width: 100%;border-bottom: 1px solid gray;flex-grow: 1;}#sk-container-id-3 div.sk-label:hover label.sk-toggleable__label {background-color: #d4ebff;}#sk-container-id-3 div.sk-serial::before {content: \"\";position: absolute;border-left: 1px solid gray;box-sizing: border-box;top: 0;bottom: 0;left: 50%;z-index: 0;}#sk-container-id-3 div.sk-serial {display: flex;flex-direction: column;align-items: center;background-color: white;padding-right: 0.2em;padding-left: 0.2em;position: relative;}#sk-container-id-3 div.sk-item {position: relative;z-index: 1;}#sk-container-id-3 div.sk-parallel {display: flex;align-items: stretch;justify-content: center;background-color: white;position: relative;}#sk-container-id-3 div.sk-item::before, #sk-container-id-3 div.sk-parallel-item::before {content: \"\";position: absolute;border-left: 1px solid gray;box-sizing: border-box;top: 0;bottom: 0;left: 50%;z-index: -1;}#sk-container-id-3 div.sk-parallel-item {display: flex;flex-direction: column;z-index: 1;position: relative;background-color: white;}#sk-container-id-3 div.sk-parallel-item:first-child::after {align-self: flex-end;width: 50%;}#sk-container-id-3 div.sk-parallel-item:last-child::after {align-self: flex-start;width: 50%;}#sk-container-id-3 div.sk-parallel-item:only-child::after {width: 0;}#sk-container-id-3 div.sk-dashed-wrapped {border: 1px dashed gray;margin: 0 0.4em 0.5em 0.4em;box-sizing: border-box;padding-bottom: 0.4em;background-color: white;}#sk-container-id-3 div.sk-label label {font-family: monospace;font-weight: bold;display: inline-block;line-height: 1.2em;}#sk-container-id-3 div.sk-label-container {text-align: center;}#sk-container-id-3 div.sk-container {/* jupyter's `normalize.less` sets `[hidden] { display: none; }` but bootstrap.min.css set `[hidden] { display: none !important; }` so we also need the `!important` here to be able to override the default hidden behavior on the sphinx rendered scikit-learn.org. See: https://github.com/scikit-learn/scikit-learn/issues/21755 */display: inline-block !important;position: relative;}#sk-container-id-3 div.sk-text-repr-fallback {display: none;}</style><div id=\"sk-container-id-3\" class=\"sk-top-container\"><div class=\"sk-text-repr-fallback\"><pre>ComplementNB()</pre><b>In a Jupyter environment, please rerun this cell to show the HTML representation or trust the notebook. <br />On GitHub, the HTML representation is unable to render, please try loading this page with nbviewer.org.</b></div><div class=\"sk-container\" hidden><div class=\"sk-item\"><div class=\"sk-estimator sk-toggleable\"><input class=\"sk-toggleable__control sk-hidden--visually\" id=\"sk-estimator-id-3\" type=\"checkbox\" checked><label for=\"sk-estimator-id-3\" class=\"sk-toggleable__label sk-toggleable__label-arrow\">ComplementNB</label><div class=\"sk-toggleable__content\"><pre>ComplementNB()</pre></div></div></div></div></div>"
      ],
      "text/plain": [
       "ComplementNB()"
      ]
     },
     "execution_count": 42,
     "metadata": {},
     "output_type": "execute_result"
    }
   ],
   "source": [
    "clf_compl.fit(x_train, y_train)\n"
   ]
  },
  {
   "cell_type": "code",
   "execution_count": 43,
   "id": "de466502",
   "metadata": {},
   "outputs": [
    {
     "data": {
      "text/plain": [
       "0.5169357391579614"
      ]
     },
     "execution_count": 43,
     "metadata": {},
     "output_type": "execute_result"
    }
   ],
   "source": [
    "# get accuracy\n",
    "accuracyNB_Complement = clf_compl.score(x_test, y_test)\n",
    "accuracyNB_Complement\n",
    "\n",
    "# 0.5169\n"
   ]
  },
  {
   "cell_type": "code",
   "execution_count": 44,
   "id": "8e71e619",
   "metadata": {},
   "outputs": [
    {
     "data": {
      "text/html": [
       "<div>\n",
       "<style scoped>\n",
       "    .dataframe tbody tr th:only-of-type {\n",
       "        vertical-align: middle;\n",
       "    }\n",
       "\n",
       "    .dataframe tbody tr th {\n",
       "        vertical-align: top;\n",
       "    }\n",
       "\n",
       "    .dataframe thead th {\n",
       "        text-align: right;\n",
       "    }\n",
       "</style>\n",
       "<table border=\"1\" class=\"dataframe\">\n",
       "  <thead>\n",
       "    <tr style=\"text-align: right;\">\n",
       "      <th>predict</th>\n",
       "      <th>0.0</th>\n",
       "      <th>1.0</th>\n",
       "    </tr>\n",
       "    <tr>\n",
       "      <th>real</th>\n",
       "      <th></th>\n",
       "      <th></th>\n",
       "    </tr>\n",
       "  </thead>\n",
       "  <tbody>\n",
       "    <tr>\n",
       "      <th>0.0</th>\n",
       "      <td>2923</td>\n",
       "      <td>4370</td>\n",
       "    </tr>\n",
       "    <tr>\n",
       "      <th>1.0</th>\n",
       "      <td>1734</td>\n",
       "      <td>3609</td>\n",
       "    </tr>\n",
       "  </tbody>\n",
       "</table>\n",
       "</div>"
      ],
      "text/plain": [
       "predict   0.0   1.0\n",
       "real               \n",
       "0.0      2923  4370\n",
       "1.0      1734  3609"
      ]
     },
     "execution_count": 44,
     "metadata": {},
     "output_type": "execute_result"
    }
   ],
   "source": [
    "# get confusion matrix\n",
    "y_pred_NB_Complement = clf_compl.predict(x_test)\n",
    "pd.crosstab(y_test, y_pred_NB_Complement, rownames=[\"real\"], colnames=[\"predict\"])\n",
    "\n",
    "# worse than model before"
   ]
  },
  {
   "cell_type": "code",
   "execution_count": 45,
   "id": "a290a7bc",
   "metadata": {},
   "outputs": [
    {
     "name": "stdout",
     "output_type": "stream",
     "text": [
      "Naive Bayes Complement classification report:\n",
      "                precision    recall  f1-score   support\n",
      "\n",
      "         0.0       0.63      0.40      0.49      7293\n",
      "         1.0       0.45      0.68      0.54      5343\n",
      "\n",
      "    accuracy                           0.52     12636\n",
      "   macro avg       0.54      0.54      0.52     12636\n",
      "weighted avg       0.55      0.52      0.51     12636\n",
      "\n"
     ]
    }
   ],
   "source": [
    "from sklearn.metrics import classification_report \n",
    "\n",
    "# get classification report\n",
    "print(\"Naive Bayes Complement classification report:\\n \", classification_report (y_test, y_pred_NB_Complement))\n"
   ]
  },
  {
   "cell_type": "code",
   "execution_count": 46,
   "id": "73de4f4f",
   "metadata": {},
   "outputs": [
    {
     "name": "stdout",
     "output_type": "stream",
     "text": [
      "[[2923 4370]\n",
      " [1734 3609]]\n"
     ]
    }
   ],
   "source": [
    "# create confusion matrix\n",
    "cf_matrix_Complement = confusion_matrix(y_test, y_pred_NB_Complement)\n",
    "print(cf_matrix_Complement)\n"
   ]
  },
  {
   "cell_type": "code",
   "execution_count": null,
   "id": "c92947c0",
   "metadata": {},
   "outputs": [],
   "source": []
  },
  {
   "cell_type": "code",
   "execution_count": null,
   "id": "4e1c8e45",
   "metadata": {},
   "outputs": [],
   "source": []
  },
  {
   "cell_type": "code",
   "execution_count": null,
   "id": "80ff73a9",
   "metadata": {},
   "outputs": [],
   "source": []
  },
  {
   "cell_type": "markdown",
   "id": "7c857078",
   "metadata": {},
   "source": [
    "# Create Naive Bayes Gaussian\n"
   ]
  },
  {
   "cell_type": "code",
   "execution_count": 47,
   "id": "42bc6695",
   "metadata": {},
   "outputs": [],
   "source": [
    "from sklearn.naive_bayes import GaussianNB\n",
    "clf_gau = GaussianNB()\n"
   ]
  },
  {
   "cell_type": "code",
   "execution_count": 48,
   "id": "7bbed229",
   "metadata": {},
   "outputs": [
    {
     "data": {
      "text/html": [
       "<style>#sk-container-id-4 {color: black;background-color: white;}#sk-container-id-4 pre{padding: 0;}#sk-container-id-4 div.sk-toggleable {background-color: white;}#sk-container-id-4 label.sk-toggleable__label {cursor: pointer;display: block;width: 100%;margin-bottom: 0;padding: 0.3em;box-sizing: border-box;text-align: center;}#sk-container-id-4 label.sk-toggleable__label-arrow:before {content: \"▸\";float: left;margin-right: 0.25em;color: #696969;}#sk-container-id-4 label.sk-toggleable__label-arrow:hover:before {color: black;}#sk-container-id-4 div.sk-estimator:hover label.sk-toggleable__label-arrow:before {color: black;}#sk-container-id-4 div.sk-toggleable__content {max-height: 0;max-width: 0;overflow: hidden;text-align: left;background-color: #f0f8ff;}#sk-container-id-4 div.sk-toggleable__content pre {margin: 0.2em;color: black;border-radius: 0.25em;background-color: #f0f8ff;}#sk-container-id-4 input.sk-toggleable__control:checked~div.sk-toggleable__content {max-height: 200px;max-width: 100%;overflow: auto;}#sk-container-id-4 input.sk-toggleable__control:checked~label.sk-toggleable__label-arrow:before {content: \"▾\";}#sk-container-id-4 div.sk-estimator input.sk-toggleable__control:checked~label.sk-toggleable__label {background-color: #d4ebff;}#sk-container-id-4 div.sk-label input.sk-toggleable__control:checked~label.sk-toggleable__label {background-color: #d4ebff;}#sk-container-id-4 input.sk-hidden--visually {border: 0;clip: rect(1px 1px 1px 1px);clip: rect(1px, 1px, 1px, 1px);height: 1px;margin: -1px;overflow: hidden;padding: 0;position: absolute;width: 1px;}#sk-container-id-4 div.sk-estimator {font-family: monospace;background-color: #f0f8ff;border: 1px dotted black;border-radius: 0.25em;box-sizing: border-box;margin-bottom: 0.5em;}#sk-container-id-4 div.sk-estimator:hover {background-color: #d4ebff;}#sk-container-id-4 div.sk-parallel-item::after {content: \"\";width: 100%;border-bottom: 1px solid gray;flex-grow: 1;}#sk-container-id-4 div.sk-label:hover label.sk-toggleable__label {background-color: #d4ebff;}#sk-container-id-4 div.sk-serial::before {content: \"\";position: absolute;border-left: 1px solid gray;box-sizing: border-box;top: 0;bottom: 0;left: 50%;z-index: 0;}#sk-container-id-4 div.sk-serial {display: flex;flex-direction: column;align-items: center;background-color: white;padding-right: 0.2em;padding-left: 0.2em;position: relative;}#sk-container-id-4 div.sk-item {position: relative;z-index: 1;}#sk-container-id-4 div.sk-parallel {display: flex;align-items: stretch;justify-content: center;background-color: white;position: relative;}#sk-container-id-4 div.sk-item::before, #sk-container-id-4 div.sk-parallel-item::before {content: \"\";position: absolute;border-left: 1px solid gray;box-sizing: border-box;top: 0;bottom: 0;left: 50%;z-index: -1;}#sk-container-id-4 div.sk-parallel-item {display: flex;flex-direction: column;z-index: 1;position: relative;background-color: white;}#sk-container-id-4 div.sk-parallel-item:first-child::after {align-self: flex-end;width: 50%;}#sk-container-id-4 div.sk-parallel-item:last-child::after {align-self: flex-start;width: 50%;}#sk-container-id-4 div.sk-parallel-item:only-child::after {width: 0;}#sk-container-id-4 div.sk-dashed-wrapped {border: 1px dashed gray;margin: 0 0.4em 0.5em 0.4em;box-sizing: border-box;padding-bottom: 0.4em;background-color: white;}#sk-container-id-4 div.sk-label label {font-family: monospace;font-weight: bold;display: inline-block;line-height: 1.2em;}#sk-container-id-4 div.sk-label-container {text-align: center;}#sk-container-id-4 div.sk-container {/* jupyter's `normalize.less` sets `[hidden] { display: none; }` but bootstrap.min.css set `[hidden] { display: none !important; }` so we also need the `!important` here to be able to override the default hidden behavior on the sphinx rendered scikit-learn.org. See: https://github.com/scikit-learn/scikit-learn/issues/21755 */display: inline-block !important;position: relative;}#sk-container-id-4 div.sk-text-repr-fallback {display: none;}</style><div id=\"sk-container-id-4\" class=\"sk-top-container\"><div class=\"sk-text-repr-fallback\"><pre>GaussianNB()</pre><b>In a Jupyter environment, please rerun this cell to show the HTML representation or trust the notebook. <br />On GitHub, the HTML representation is unable to render, please try loading this page with nbviewer.org.</b></div><div class=\"sk-container\" hidden><div class=\"sk-item\"><div class=\"sk-estimator sk-toggleable\"><input class=\"sk-toggleable__control sk-hidden--visually\" id=\"sk-estimator-id-4\" type=\"checkbox\" checked><label for=\"sk-estimator-id-4\" class=\"sk-toggleable__label sk-toggleable__label-arrow\">GaussianNB</label><div class=\"sk-toggleable__content\"><pre>GaussianNB()</pre></div></div></div></div></div>"
      ],
      "text/plain": [
       "GaussianNB()"
      ]
     },
     "execution_count": 48,
     "metadata": {},
     "output_type": "execute_result"
    }
   ],
   "source": [
    "clf_gau.fit(x_train, y_train)\n"
   ]
  },
  {
   "cell_type": "code",
   "execution_count": 49,
   "id": "8076a474",
   "metadata": {},
   "outputs": [
    {
     "data": {
      "text/plain": [
       "0.5768439379550491"
      ]
     },
     "execution_count": 49,
     "metadata": {},
     "output_type": "execute_result"
    }
   ],
   "source": [
    "# get accuracy\n",
    "accuracyNB_Gaussian = clf_gau.score(x_test, y_test)\n",
    "accuracyNB_Gaussian\n",
    "\n",
    "# 0.5768\n"
   ]
  },
  {
   "cell_type": "code",
   "execution_count": 50,
   "id": "bcde3d17",
   "metadata": {},
   "outputs": [
    {
     "data": {
      "text/html": [
       "<div>\n",
       "<style scoped>\n",
       "    .dataframe tbody tr th:only-of-type {\n",
       "        vertical-align: middle;\n",
       "    }\n",
       "\n",
       "    .dataframe tbody tr th {\n",
       "        vertical-align: top;\n",
       "    }\n",
       "\n",
       "    .dataframe thead th {\n",
       "        text-align: right;\n",
       "    }\n",
       "</style>\n",
       "<table border=\"1\" class=\"dataframe\">\n",
       "  <thead>\n",
       "    <tr style=\"text-align: right;\">\n",
       "      <th>predict</th>\n",
       "      <th>0.0</th>\n",
       "      <th>1.0</th>\n",
       "    </tr>\n",
       "    <tr>\n",
       "      <th>real</th>\n",
       "      <th></th>\n",
       "      <th></th>\n",
       "    </tr>\n",
       "  </thead>\n",
       "  <tbody>\n",
       "    <tr>\n",
       "      <th>0.0</th>\n",
       "      <td>7276</td>\n",
       "      <td>17</td>\n",
       "    </tr>\n",
       "    <tr>\n",
       "      <th>1.0</th>\n",
       "      <td>5330</td>\n",
       "      <td>13</td>\n",
       "    </tr>\n",
       "  </tbody>\n",
       "</table>\n",
       "</div>"
      ],
      "text/plain": [
       "predict   0.0  1.0\n",
       "real              \n",
       "0.0      7276   17\n",
       "1.0      5330   13"
      ]
     },
     "execution_count": 50,
     "metadata": {},
     "output_type": "execute_result"
    }
   ],
   "source": [
    "# get confusion matrix\n",
    "y_pred_NB_Gaussian = clf_gau.predict(x_test)\n",
    "pd.crosstab(y_test, y_pred_NB_Gaussian, rownames=[\"real\"], colnames=[\"predict\"])\n"
   ]
  },
  {
   "cell_type": "code",
   "execution_count": 51,
   "id": "b1ef5705",
   "metadata": {},
   "outputs": [
    {
     "name": "stdout",
     "output_type": "stream",
     "text": [
      "Naive Bayes Gaussian classification report:\n",
      "                precision    recall  f1-score   support\n",
      "\n",
      "         0.0       0.58      1.00      0.73      7293\n",
      "         1.0       0.43      0.00      0.00      5343\n",
      "\n",
      "    accuracy                           0.58     12636\n",
      "   macro avg       0.51      0.50      0.37     12636\n",
      "weighted avg       0.52      0.58      0.42     12636\n",
      "\n"
     ]
    }
   ],
   "source": [
    "from sklearn.metrics import classification_report \n",
    "\n",
    "# get classification report\n",
    "print(\"Naive Bayes Gaussian classification report:\\n \", classification_report (y_test, y_pred_NB_Gaussian))\n"
   ]
  },
  {
   "cell_type": "code",
   "execution_count": 52,
   "id": "ea012e49",
   "metadata": {},
   "outputs": [
    {
     "name": "stdout",
     "output_type": "stream",
     "text": [
      "[[7276   17]\n",
      " [5330   13]]\n"
     ]
    }
   ],
   "source": [
    "# create confusion matrix\n",
    "cf_matrix_Gaussian = confusion_matrix(y_test, y_pred_NB_Gaussian)\n",
    "print(cf_matrix_Gaussian)\n"
   ]
  },
  {
   "cell_type": "code",
   "execution_count": null,
   "id": "5b07f9a5",
   "metadata": {},
   "outputs": [],
   "source": []
  },
  {
   "cell_type": "code",
   "execution_count": null,
   "id": "f97e5454",
   "metadata": {},
   "outputs": [],
   "source": []
  },
  {
   "cell_type": "code",
   "execution_count": null,
   "id": "60334342",
   "metadata": {},
   "outputs": [],
   "source": []
  },
  {
   "cell_type": "markdown",
   "id": "bfb7b851",
   "metadata": {},
   "source": [
    "# CatBoost Model\n"
   ]
  },
  {
   "cell_type": "code",
   "execution_count": 53,
   "id": "6453d914",
   "metadata": {},
   "outputs": [],
   "source": [
    "import catboost as cb\n",
    "from sklearn.model_selection import train_test_split\n",
    "from sklearn.metrics import accuracy_score\n",
    "\n",
    "# Create a CatBoost classifier object\n",
    "catboost = cb.CatBoostClassifier(iterations=100, learning_rate=0.1, depth=6, loss_function='Logloss')\n"
   ]
  },
  {
   "cell_type": "code",
   "execution_count": 54,
   "id": "31d0c469",
   "metadata": {},
   "outputs": [
    {
     "name": "stdout",
     "output_type": "stream",
     "text": [
      "0:\tlearn: 0.3501847\ttotal: 282ms\tremaining: 28s\n",
      "1:\tlearn: 0.1777483\ttotal: 339ms\tremaining: 16.6s\n",
      "2:\tlearn: 0.0897664\ttotal: 359ms\tremaining: 11.6s\n",
      "3:\tlearn: 0.0474967\ttotal: 373ms\tremaining: 8.95s\n",
      "4:\tlearn: 0.0260682\ttotal: 387ms\tremaining: 7.35s\n",
      "5:\tlearn: 0.0148733\ttotal: 400ms\tremaining: 6.26s\n",
      "6:\tlearn: 0.0092293\ttotal: 413ms\tremaining: 5.49s\n",
      "7:\tlearn: 0.0060594\ttotal: 428ms\tremaining: 4.92s\n",
      "8:\tlearn: 0.0041057\ttotal: 443ms\tremaining: 4.48s\n",
      "9:\tlearn: 0.0028904\ttotal: 457ms\tremaining: 4.11s\n",
      "10:\tlearn: 0.0020771\ttotal: 472ms\tremaining: 3.82s\n",
      "11:\tlearn: 0.0015630\ttotal: 485ms\tremaining: 3.56s\n",
      "12:\tlearn: 0.0011847\ttotal: 505ms\tremaining: 3.38s\n",
      "13:\tlearn: 0.0009326\ttotal: 518ms\tremaining: 3.18s\n",
      "14:\tlearn: 0.0007450\ttotal: 533ms\tremaining: 3.02s\n",
      "15:\tlearn: 0.0006176\ttotal: 546ms\tremaining: 2.87s\n",
      "16:\tlearn: 0.0005134\ttotal: 563ms\tremaining: 2.75s\n",
      "17:\tlearn: 0.0004386\ttotal: 576ms\tremaining: 2.62s\n",
      "18:\tlearn: 0.0003815\ttotal: 593ms\tremaining: 2.53s\n",
      "19:\tlearn: 0.0003333\ttotal: 632ms\tremaining: 2.53s\n",
      "20:\tlearn: 0.0002955\ttotal: 645ms\tremaining: 2.42s\n",
      "21:\tlearn: 0.0002671\ttotal: 657ms\tremaining: 2.33s\n",
      "22:\tlearn: 0.0002357\ttotal: 671ms\tremaining: 2.24s\n",
      "23:\tlearn: 0.0002189\ttotal: 683ms\tremaining: 2.16s\n",
      "24:\tlearn: 0.0001989\ttotal: 696ms\tremaining: 2.09s\n",
      "25:\tlearn: 0.0001872\ttotal: 714ms\tremaining: 2.03s\n",
      "26:\tlearn: 0.0001702\ttotal: 729ms\tremaining: 1.97s\n",
      "27:\tlearn: 0.0001702\ttotal: 739ms\tremaining: 1.9s\n",
      "28:\tlearn: 0.0001702\ttotal: 749ms\tremaining: 1.83s\n",
      "29:\tlearn: 0.0001702\ttotal: 759ms\tremaining: 1.77s\n",
      "30:\tlearn: 0.0001632\ttotal: 772ms\tremaining: 1.72s\n",
      "31:\tlearn: 0.0001631\ttotal: 782ms\tremaining: 1.66s\n",
      "32:\tlearn: 0.0001631\ttotal: 792ms\tremaining: 1.61s\n",
      "33:\tlearn: 0.0001631\ttotal: 802ms\tremaining: 1.56s\n",
      "34:\tlearn: 0.0001631\ttotal: 813ms\tremaining: 1.51s\n",
      "35:\tlearn: 0.0001631\ttotal: 823ms\tremaining: 1.46s\n",
      "36:\tlearn: 0.0001631\ttotal: 834ms\tremaining: 1.42s\n",
      "37:\tlearn: 0.0001631\ttotal: 844ms\tremaining: 1.38s\n",
      "38:\tlearn: 0.0001631\ttotal: 855ms\tremaining: 1.34s\n",
      "39:\tlearn: 0.0001631\ttotal: 869ms\tremaining: 1.3s\n",
      "40:\tlearn: 0.0001631\ttotal: 883ms\tremaining: 1.27s\n",
      "41:\tlearn: 0.0001632\ttotal: 897ms\tremaining: 1.24s\n",
      "42:\tlearn: 0.0001632\ttotal: 917ms\tremaining: 1.22s\n",
      "43:\tlearn: 0.0001631\ttotal: 936ms\tremaining: 1.19s\n",
      "44:\tlearn: 0.0001631\ttotal: 947ms\tremaining: 1.16s\n",
      "45:\tlearn: 0.0001631\ttotal: 957ms\tremaining: 1.12s\n",
      "46:\tlearn: 0.0001631\ttotal: 968ms\tremaining: 1.09s\n",
      "47:\tlearn: 0.0001631\ttotal: 978ms\tremaining: 1.06s\n",
      "48:\tlearn: 0.0001630\ttotal: 989ms\tremaining: 1.03s\n",
      "49:\tlearn: 0.0001630\ttotal: 999ms\tremaining: 999ms\n",
      "50:\tlearn: 0.0001630\ttotal: 1.01s\tremaining: 969ms\n",
      "51:\tlearn: 0.0001631\ttotal: 1.02s\tremaining: 941ms\n",
      "52:\tlearn: 0.0001631\ttotal: 1.03s\tremaining: 913ms\n",
      "53:\tlearn: 0.0001631\ttotal: 1.04s\tremaining: 886ms\n",
      "54:\tlearn: 0.0001631\ttotal: 1.05s\tremaining: 860ms\n",
      "55:\tlearn: 0.0001630\ttotal: 1.06s\tremaining: 835ms\n",
      "56:\tlearn: 0.0001630\ttotal: 1.07s\tremaining: 810ms\n",
      "57:\tlearn: 0.0001630\ttotal: 1.09s\tremaining: 787ms\n",
      "58:\tlearn: 0.0001630\ttotal: 1.1s\tremaining: 764ms\n",
      "59:\tlearn: 0.0001630\ttotal: 1.11s\tremaining: 741ms\n",
      "60:\tlearn: 0.0001630\ttotal: 1.12s\tremaining: 717ms\n",
      "61:\tlearn: 0.0001630\ttotal: 1.14s\tremaining: 697ms\n",
      "62:\tlearn: 0.0001630\ttotal: 1.15s\tremaining: 675ms\n",
      "63:\tlearn: 0.0001630\ttotal: 1.16s\tremaining: 655ms\n",
      "64:\tlearn: 0.0001630\ttotal: 1.18s\tremaining: 633ms\n",
      "65:\tlearn: 0.0001630\ttotal: 1.19s\tremaining: 612ms\n",
      "66:\tlearn: 0.0001630\ttotal: 1.2s\tremaining: 590ms\n",
      "67:\tlearn: 0.0001630\ttotal: 1.21s\tremaining: 569ms\n",
      "68:\tlearn: 0.0001630\ttotal: 1.24s\tremaining: 556ms\n",
      "69:\tlearn: 0.0001630\ttotal: 1.26s\tremaining: 540ms\n",
      "70:\tlearn: 0.0001630\ttotal: 1.27s\tremaining: 518ms\n",
      "71:\tlearn: 0.0001630\ttotal: 1.28s\tremaining: 498ms\n",
      "72:\tlearn: 0.0001630\ttotal: 1.29s\tremaining: 477ms\n",
      "73:\tlearn: 0.0001630\ttotal: 1.3s\tremaining: 457ms\n",
      "74:\tlearn: 0.0001630\ttotal: 1.31s\tremaining: 437ms\n",
      "75:\tlearn: 0.0001630\ttotal: 1.32s\tremaining: 417ms\n",
      "76:\tlearn: 0.0001630\ttotal: 1.33s\tremaining: 397ms\n",
      "77:\tlearn: 0.0001630\ttotal: 1.34s\tremaining: 378ms\n",
      "78:\tlearn: 0.0001630\ttotal: 1.35s\tremaining: 359ms\n",
      "79:\tlearn: 0.0001561\ttotal: 1.37s\tremaining: 342ms\n",
      "80:\tlearn: 0.0001560\ttotal: 1.38s\tremaining: 324ms\n",
      "81:\tlearn: 0.0001561\ttotal: 1.39s\tremaining: 306ms\n",
      "82:\tlearn: 0.0001561\ttotal: 1.4s\tremaining: 287ms\n",
      "83:\tlearn: 0.0001561\ttotal: 1.42s\tremaining: 270ms\n",
      "84:\tlearn: 0.0001561\ttotal: 1.43s\tremaining: 252ms\n",
      "85:\tlearn: 0.0001561\ttotal: 1.44s\tremaining: 235ms\n",
      "86:\tlearn: 0.0001561\ttotal: 1.45s\tremaining: 217ms\n",
      "87:\tlearn: 0.0001561\ttotal: 1.46s\tremaining: 200ms\n",
      "88:\tlearn: 0.0001561\ttotal: 1.48s\tremaining: 183ms\n",
      "89:\tlearn: 0.0001561\ttotal: 1.49s\tremaining: 166ms\n",
      "90:\tlearn: 0.0001561\ttotal: 1.5s\tremaining: 149ms\n",
      "91:\tlearn: 0.0001561\ttotal: 1.51s\tremaining: 132ms\n",
      "92:\tlearn: 0.0001561\ttotal: 1.53s\tremaining: 115ms\n",
      "93:\tlearn: 0.0001561\ttotal: 1.56s\tremaining: 99.7ms\n",
      "94:\tlearn: 0.0001561\ttotal: 1.59s\tremaining: 83.8ms\n",
      "95:\tlearn: 0.0001561\ttotal: 1.61s\tremaining: 67ms\n",
      "96:\tlearn: 0.0001561\ttotal: 1.62s\tremaining: 50.2ms\n",
      "97:\tlearn: 0.0001561\ttotal: 1.63s\tremaining: 33.3ms\n",
      "98:\tlearn: 0.0001561\ttotal: 1.64s\tremaining: 16.6ms\n",
      "99:\tlearn: 0.0001561\ttotal: 1.65s\tremaining: 0us\n"
     ]
    },
    {
     "data": {
      "text/plain": [
       "<catboost.core.CatBoostClassifier at 0x2209f4ccb20>"
      ]
     },
     "execution_count": 54,
     "metadata": {},
     "output_type": "execute_result"
    }
   ],
   "source": [
    "# Fit the model on the training data\n",
    "catboost.fit(x_train, y_train)\n"
   ]
  },
  {
   "cell_type": "code",
   "execution_count": 55,
   "id": "b844187e",
   "metadata": {},
   "outputs": [
    {
     "data": {
      "text/plain": [
       "1.0"
      ]
     },
     "execution_count": 55,
     "metadata": {},
     "output_type": "execute_result"
    }
   ],
   "source": [
    "# get accuracy\n",
    "accuracy_CatBoost = catboost.score(x_test, y_test)\n",
    "accuracy_CatBoost\n",
    "\n",
    "# 1.0\n"
   ]
  },
  {
   "cell_type": "code",
   "execution_count": 56,
   "id": "b1962a90",
   "metadata": {},
   "outputs": [],
   "source": [
    "# Make predictions on the test data\n",
    "y_pred_catboost = catboost.predict(x_test)\n"
   ]
  },
  {
   "cell_type": "code",
   "execution_count": 57,
   "id": "b2927fce",
   "metadata": {},
   "outputs": [
    {
     "data": {
      "text/html": [
       "<div>\n",
       "<style scoped>\n",
       "    .dataframe tbody tr th:only-of-type {\n",
       "        vertical-align: middle;\n",
       "    }\n",
       "\n",
       "    .dataframe tbody tr th {\n",
       "        vertical-align: top;\n",
       "    }\n",
       "\n",
       "    .dataframe thead th {\n",
       "        text-align: right;\n",
       "    }\n",
       "</style>\n",
       "<table border=\"1\" class=\"dataframe\">\n",
       "  <thead>\n",
       "    <tr style=\"text-align: right;\">\n",
       "      <th>predict</th>\n",
       "      <th>0.0</th>\n",
       "      <th>1.0</th>\n",
       "    </tr>\n",
       "    <tr>\n",
       "      <th>real</th>\n",
       "      <th></th>\n",
       "      <th></th>\n",
       "    </tr>\n",
       "  </thead>\n",
       "  <tbody>\n",
       "    <tr>\n",
       "      <th>0.0</th>\n",
       "      <td>7293</td>\n",
       "      <td>0</td>\n",
       "    </tr>\n",
       "    <tr>\n",
       "      <th>1.0</th>\n",
       "      <td>0</td>\n",
       "      <td>5343</td>\n",
       "    </tr>\n",
       "  </tbody>\n",
       "</table>\n",
       "</div>"
      ],
      "text/plain": [
       "predict   0.0   1.0\n",
       "real               \n",
       "0.0      7293     0\n",
       "1.0         0  5343"
      ]
     },
     "execution_count": 57,
     "metadata": {},
     "output_type": "execute_result"
    }
   ],
   "source": [
    "pd.crosstab(y_test, y_pred_catboost, rownames=[\"real\"], colnames=[\"predict\"])\n",
    "\n",
    "# perfect prediction"
   ]
  },
  {
   "cell_type": "code",
   "execution_count": 58,
   "id": "0634a9dd",
   "metadata": {},
   "outputs": [
    {
     "name": "stdout",
     "output_type": "stream",
     "text": [
      "CatBoost classification report:\n",
      "                precision    recall  f1-score   support\n",
      "\n",
      "         0.0       1.00      1.00      1.00      7293\n",
      "         1.0       1.00      1.00      1.00      5343\n",
      "\n",
      "    accuracy                           1.00     12636\n",
      "   macro avg       1.00      1.00      1.00     12636\n",
      "weighted avg       1.00      1.00      1.00     12636\n",
      "\n"
     ]
    }
   ],
   "source": [
    "# from sklearn.metrics import classification_report \n",
    "\n",
    "# get classification report\n",
    "print(\"CatBoost classification report:\\n \", classification_report (y_test, y_pred_catboost))\n"
   ]
  },
  {
   "cell_type": "code",
   "execution_count": null,
   "id": "d2d58e11",
   "metadata": {},
   "outputs": [],
   "source": []
  },
  {
   "cell_type": "code",
   "execution_count": null,
   "id": "d927956b",
   "metadata": {},
   "outputs": [],
   "source": []
  },
  {
   "cell_type": "code",
   "execution_count": null,
   "id": "efb93724",
   "metadata": {},
   "outputs": [],
   "source": []
  },
  {
   "cell_type": "markdown",
   "id": "7c2d5234",
   "metadata": {},
   "source": [
    "# GradientBoostingClassifier\n"
   ]
  },
  {
   "cell_type": "code",
   "execution_count": 59,
   "id": "8fcd5ccd",
   "metadata": {},
   "outputs": [],
   "source": [
    "from sklearn.ensemble import GradientBoostingClassifier\n",
    "from sklearn.model_selection import train_test_split\n",
    "from sklearn.metrics import accuracy_score\n",
    "\n",
    "# Create a GradientBoostingClassifier object\n",
    "GradBoost = GradientBoostingClassifier(n_estimators=100, learning_rate=0.1, max_depth=3)"
   ]
  },
  {
   "cell_type": "code",
   "execution_count": 60,
   "id": "a9a0531a",
   "metadata": {},
   "outputs": [
    {
     "data": {
      "text/html": [
       "<style>#sk-container-id-5 {color: black;background-color: white;}#sk-container-id-5 pre{padding: 0;}#sk-container-id-5 div.sk-toggleable {background-color: white;}#sk-container-id-5 label.sk-toggleable__label {cursor: pointer;display: block;width: 100%;margin-bottom: 0;padding: 0.3em;box-sizing: border-box;text-align: center;}#sk-container-id-5 label.sk-toggleable__label-arrow:before {content: \"▸\";float: left;margin-right: 0.25em;color: #696969;}#sk-container-id-5 label.sk-toggleable__label-arrow:hover:before {color: black;}#sk-container-id-5 div.sk-estimator:hover label.sk-toggleable__label-arrow:before {color: black;}#sk-container-id-5 div.sk-toggleable__content {max-height: 0;max-width: 0;overflow: hidden;text-align: left;background-color: #f0f8ff;}#sk-container-id-5 div.sk-toggleable__content pre {margin: 0.2em;color: black;border-radius: 0.25em;background-color: #f0f8ff;}#sk-container-id-5 input.sk-toggleable__control:checked~div.sk-toggleable__content {max-height: 200px;max-width: 100%;overflow: auto;}#sk-container-id-5 input.sk-toggleable__control:checked~label.sk-toggleable__label-arrow:before {content: \"▾\";}#sk-container-id-5 div.sk-estimator input.sk-toggleable__control:checked~label.sk-toggleable__label {background-color: #d4ebff;}#sk-container-id-5 div.sk-label input.sk-toggleable__control:checked~label.sk-toggleable__label {background-color: #d4ebff;}#sk-container-id-5 input.sk-hidden--visually {border: 0;clip: rect(1px 1px 1px 1px);clip: rect(1px, 1px, 1px, 1px);height: 1px;margin: -1px;overflow: hidden;padding: 0;position: absolute;width: 1px;}#sk-container-id-5 div.sk-estimator {font-family: monospace;background-color: #f0f8ff;border: 1px dotted black;border-radius: 0.25em;box-sizing: border-box;margin-bottom: 0.5em;}#sk-container-id-5 div.sk-estimator:hover {background-color: #d4ebff;}#sk-container-id-5 div.sk-parallel-item::after {content: \"\";width: 100%;border-bottom: 1px solid gray;flex-grow: 1;}#sk-container-id-5 div.sk-label:hover label.sk-toggleable__label {background-color: #d4ebff;}#sk-container-id-5 div.sk-serial::before {content: \"\";position: absolute;border-left: 1px solid gray;box-sizing: border-box;top: 0;bottom: 0;left: 50%;z-index: 0;}#sk-container-id-5 div.sk-serial {display: flex;flex-direction: column;align-items: center;background-color: white;padding-right: 0.2em;padding-left: 0.2em;position: relative;}#sk-container-id-5 div.sk-item {position: relative;z-index: 1;}#sk-container-id-5 div.sk-parallel {display: flex;align-items: stretch;justify-content: center;background-color: white;position: relative;}#sk-container-id-5 div.sk-item::before, #sk-container-id-5 div.sk-parallel-item::before {content: \"\";position: absolute;border-left: 1px solid gray;box-sizing: border-box;top: 0;bottom: 0;left: 50%;z-index: -1;}#sk-container-id-5 div.sk-parallel-item {display: flex;flex-direction: column;z-index: 1;position: relative;background-color: white;}#sk-container-id-5 div.sk-parallel-item:first-child::after {align-self: flex-end;width: 50%;}#sk-container-id-5 div.sk-parallel-item:last-child::after {align-self: flex-start;width: 50%;}#sk-container-id-5 div.sk-parallel-item:only-child::after {width: 0;}#sk-container-id-5 div.sk-dashed-wrapped {border: 1px dashed gray;margin: 0 0.4em 0.5em 0.4em;box-sizing: border-box;padding-bottom: 0.4em;background-color: white;}#sk-container-id-5 div.sk-label label {font-family: monospace;font-weight: bold;display: inline-block;line-height: 1.2em;}#sk-container-id-5 div.sk-label-container {text-align: center;}#sk-container-id-5 div.sk-container {/* jupyter's `normalize.less` sets `[hidden] { display: none; }` but bootstrap.min.css set `[hidden] { display: none !important; }` so we also need the `!important` here to be able to override the default hidden behavior on the sphinx rendered scikit-learn.org. See: https://github.com/scikit-learn/scikit-learn/issues/21755 */display: inline-block !important;position: relative;}#sk-container-id-5 div.sk-text-repr-fallback {display: none;}</style><div id=\"sk-container-id-5\" class=\"sk-top-container\"><div class=\"sk-text-repr-fallback\"><pre>GradientBoostingClassifier()</pre><b>In a Jupyter environment, please rerun this cell to show the HTML representation or trust the notebook. <br />On GitHub, the HTML representation is unable to render, please try loading this page with nbviewer.org.</b></div><div class=\"sk-container\" hidden><div class=\"sk-item\"><div class=\"sk-estimator sk-toggleable\"><input class=\"sk-toggleable__control sk-hidden--visually\" id=\"sk-estimator-id-5\" type=\"checkbox\" checked><label for=\"sk-estimator-id-5\" class=\"sk-toggleable__label sk-toggleable__label-arrow\">GradientBoostingClassifier</label><div class=\"sk-toggleable__content\"><pre>GradientBoostingClassifier()</pre></div></div></div></div></div>"
      ],
      "text/plain": [
       "GradientBoostingClassifier()"
      ]
     },
     "execution_count": 60,
     "metadata": {},
     "output_type": "execute_result"
    }
   ],
   "source": [
    "# Fit the model on the training data\n",
    "GradBoost.fit(x_train, y_train)\n",
    "\n",
    "# takes 1 minute\n"
   ]
  },
  {
   "cell_type": "code",
   "execution_count": 61,
   "id": "2200976d",
   "metadata": {},
   "outputs": [],
   "source": [
    "# Make predictions on the test data\n",
    "y_pred_GradBoost = GradBoost.predict(x_test)\n"
   ]
  },
  {
   "cell_type": "code",
   "execution_count": 62,
   "id": "46e97b7a",
   "metadata": {},
   "outputs": [
    {
     "data": {
      "text/plain": [
       "1.0"
      ]
     },
     "execution_count": 62,
     "metadata": {},
     "output_type": "execute_result"
    }
   ],
   "source": [
    "# Evaluate the model\n",
    "accuracy_GradBoost = accuracy_score(y_test, y_pred_GradBoost)\n",
    "accuracy_GradBoost\n",
    "\n",
    "# 1.0\n"
   ]
  },
  {
   "cell_type": "code",
   "execution_count": 63,
   "id": "9664daeb",
   "metadata": {},
   "outputs": [
    {
     "data": {
      "text/html": [
       "<div>\n",
       "<style scoped>\n",
       "    .dataframe tbody tr th:only-of-type {\n",
       "        vertical-align: middle;\n",
       "    }\n",
       "\n",
       "    .dataframe tbody tr th {\n",
       "        vertical-align: top;\n",
       "    }\n",
       "\n",
       "    .dataframe thead th {\n",
       "        text-align: right;\n",
       "    }\n",
       "</style>\n",
       "<table border=\"1\" class=\"dataframe\">\n",
       "  <thead>\n",
       "    <tr style=\"text-align: right;\">\n",
       "      <th>predict</th>\n",
       "      <th>0.0</th>\n",
       "      <th>1.0</th>\n",
       "    </tr>\n",
       "    <tr>\n",
       "      <th>real</th>\n",
       "      <th></th>\n",
       "      <th></th>\n",
       "    </tr>\n",
       "  </thead>\n",
       "  <tbody>\n",
       "    <tr>\n",
       "      <th>0.0</th>\n",
       "      <td>7293</td>\n",
       "      <td>0</td>\n",
       "    </tr>\n",
       "    <tr>\n",
       "      <th>1.0</th>\n",
       "      <td>0</td>\n",
       "      <td>5343</td>\n",
       "    </tr>\n",
       "  </tbody>\n",
       "</table>\n",
       "</div>"
      ],
      "text/plain": [
       "predict   0.0   1.0\n",
       "real               \n",
       "0.0      7293     0\n",
       "1.0         0  5343"
      ]
     },
     "execution_count": 63,
     "metadata": {},
     "output_type": "execute_result"
    }
   ],
   "source": [
    "# Create crosstab\n",
    "pd.crosstab(y_test, y_pred_GradBoost, rownames=[\"real\"], colnames=[\"predict\"])\n",
    "\n",
    "# pperfect prediction\n"
   ]
  },
  {
   "cell_type": "code",
   "execution_count": 64,
   "id": "9d2d3d6b",
   "metadata": {},
   "outputs": [
    {
     "name": "stdout",
     "output_type": "stream",
     "text": [
      "GradientBoosting classification report:\n",
      "                precision    recall  f1-score   support\n",
      "\n",
      "         0.0       1.00      1.00      1.00      7293\n",
      "         1.0       1.00      1.00      1.00      5343\n",
      "\n",
      "    accuracy                           1.00     12636\n",
      "   macro avg       1.00      1.00      1.00     12636\n",
      "weighted avg       1.00      1.00      1.00     12636\n",
      "\n"
     ]
    }
   ],
   "source": [
    "from sklearn.metrics import classification_report \n",
    "\n",
    "# get classification report\n",
    "print(\"GradientBoosting classification report:\\n \", classification_report (y_test, y_pred_GradBoost))\n"
   ]
  },
  {
   "cell_type": "code",
   "execution_count": null,
   "id": "ee9efd58",
   "metadata": {},
   "outputs": [],
   "source": []
  },
  {
   "cell_type": "code",
   "execution_count": null,
   "id": "6b549415",
   "metadata": {},
   "outputs": [],
   "source": []
  },
  {
   "cell_type": "code",
   "execution_count": null,
   "id": "ecf99e2a",
   "metadata": {},
   "outputs": [],
   "source": []
  },
  {
   "cell_type": "markdown",
   "id": "a94c9f56",
   "metadata": {},
   "source": [
    "# XGBoost Model\n"
   ]
  },
  {
   "cell_type": "code",
   "execution_count": 65,
   "id": "a08aff42",
   "metadata": {},
   "outputs": [],
   "source": [
    "import xgboost as xgb\n",
    "from sklearn.model_selection import train_test_split\n",
    "from sklearn.metrics import accuracy_score\n",
    "\n",
    "# Create a DMatrix for training and testing data\n",
    "dtrain = xgb.DMatrix(x_train, label=y_train)\n",
    "dtest = xgb.DMatrix(x_test, label=y_test)\n"
   ]
  },
  {
   "cell_type": "code",
   "execution_count": 66,
   "id": "c506d4b8",
   "metadata": {},
   "outputs": [],
   "source": [
    "# Set the hyperparameters for XGBoost\n",
    "params_XGBoost = {\n",
    "    'max_depth': 3,\n",
    "    'eta': 0.1,\n",
    "    'objective': 'binary:logistic',\n",
    "    'eval_metric': 'logloss'\n",
    "}\n"
   ]
  },
  {
   "cell_type": "code",
   "execution_count": 67,
   "id": "2eabeed4",
   "metadata": {},
   "outputs": [],
   "source": [
    "# Train the model\n",
    "XGBoostmodel = xgb.train(params_XGBoost, dtrain, num_boost_round=100)\n"
   ]
  },
  {
   "cell_type": "code",
   "execution_count": 68,
   "id": "e850e7fe",
   "metadata": {},
   "outputs": [],
   "source": [
    "# Make predictions on the test data\n",
    "y_pred_XGBoost = XGBoostmodel.predict(dtest)\n",
    "y_pred_binary = [1 if pred >= 0.5 else 0 for pred in y_pred_XGBoost]\n"
   ]
  },
  {
   "cell_type": "code",
   "execution_count": 69,
   "id": "c162372a",
   "metadata": {},
   "outputs": [
    {
     "data": {
      "text/plain": [
       "1.0"
      ]
     },
     "execution_count": 69,
     "metadata": {},
     "output_type": "execute_result"
    }
   ],
   "source": [
    "# Evaluate the model\n",
    "accuracy_XGBoost = accuracy_score(y_test, y_pred_binary)\n",
    "accuracy_XGBoost\n",
    "\n",
    "# 1.0"
   ]
  },
  {
   "cell_type": "code",
   "execution_count": 70,
   "id": "9ec0fde5",
   "metadata": {},
   "outputs": [
    {
     "data": {
      "text/html": [
       "<div>\n",
       "<style scoped>\n",
       "    .dataframe tbody tr th:only-of-type {\n",
       "        vertical-align: middle;\n",
       "    }\n",
       "\n",
       "    .dataframe tbody tr th {\n",
       "        vertical-align: top;\n",
       "    }\n",
       "\n",
       "    .dataframe thead th {\n",
       "        text-align: right;\n",
       "    }\n",
       "</style>\n",
       "<table border=\"1\" class=\"dataframe\">\n",
       "  <thead>\n",
       "    <tr style=\"text-align: right;\">\n",
       "      <th>predict</th>\n",
       "      <th>0.000048</th>\n",
       "      <th>0.000218</th>\n",
       "      <th>0.000221</th>\n",
       "      <th>0.000222</th>\n",
       "      <th>0.000224</th>\n",
       "      <th>0.000225</th>\n",
       "      <th>0.000226</th>\n",
       "      <th>0.000228</th>\n",
       "      <th>0.000228</th>\n",
       "      <th>0.000229</th>\n",
       "      <th>...</th>\n",
       "      <th>0.999887</th>\n",
       "      <th>0.999889</th>\n",
       "      <th>0.999891</th>\n",
       "      <th>0.999910</th>\n",
       "      <th>0.999911</th>\n",
       "      <th>0.999911</th>\n",
       "      <th>0.999912</th>\n",
       "      <th>0.999914</th>\n",
       "      <th>0.999916</th>\n",
       "      <th>0.999936</th>\n",
       "    </tr>\n",
       "    <tr>\n",
       "      <th>real</th>\n",
       "      <th></th>\n",
       "      <th></th>\n",
       "      <th></th>\n",
       "      <th></th>\n",
       "      <th></th>\n",
       "      <th></th>\n",
       "      <th></th>\n",
       "      <th></th>\n",
       "      <th></th>\n",
       "      <th></th>\n",
       "      <th></th>\n",
       "      <th></th>\n",
       "      <th></th>\n",
       "      <th></th>\n",
       "      <th></th>\n",
       "      <th></th>\n",
       "      <th></th>\n",
       "      <th></th>\n",
       "      <th></th>\n",
       "      <th></th>\n",
       "      <th></th>\n",
       "    </tr>\n",
       "  </thead>\n",
       "  <tbody>\n",
       "    <tr>\n",
       "      <th>0.0</th>\n",
       "      <td>6223</td>\n",
       "      <td>631</td>\n",
       "      <td>9</td>\n",
       "      <td>3</td>\n",
       "      <td>7</td>\n",
       "      <td>2</td>\n",
       "      <td>2</td>\n",
       "      <td>13</td>\n",
       "      <td>2</td>\n",
       "      <td>1</td>\n",
       "      <td>...</td>\n",
       "      <td>0</td>\n",
       "      <td>0</td>\n",
       "      <td>0</td>\n",
       "      <td>0</td>\n",
       "      <td>0</td>\n",
       "      <td>0</td>\n",
       "      <td>0</td>\n",
       "      <td>0</td>\n",
       "      <td>0</td>\n",
       "      <td>0</td>\n",
       "    </tr>\n",
       "    <tr>\n",
       "      <th>1.0</th>\n",
       "      <td>0</td>\n",
       "      <td>0</td>\n",
       "      <td>0</td>\n",
       "      <td>0</td>\n",
       "      <td>0</td>\n",
       "      <td>0</td>\n",
       "      <td>0</td>\n",
       "      <td>0</td>\n",
       "      <td>0</td>\n",
       "      <td>0</td>\n",
       "      <td>...</td>\n",
       "      <td>29</td>\n",
       "      <td>17</td>\n",
       "      <td>776</td>\n",
       "      <td>941</td>\n",
       "      <td>35</td>\n",
       "      <td>3</td>\n",
       "      <td>20</td>\n",
       "      <td>21</td>\n",
       "      <td>1048</td>\n",
       "      <td>1342</td>\n",
       "    </tr>\n",
       "  </tbody>\n",
       "</table>\n",
       "<p>2 rows × 43 columns</p>\n",
       "</div>"
      ],
      "text/plain": [
       "predict  0.000048  0.000218  0.000221  0.000222  0.000224  0.000225  0.000226  \\\n",
       "real                                                                            \n",
       "0.0          6223       631         9         3         7         2         2   \n",
       "1.0             0         0         0         0         0         0         0   \n",
       "\n",
       "predict  0.000228  0.000228  0.000229  ...  0.999887  0.999889  0.999891  \\\n",
       "real                                   ...                                 \n",
       "0.0            13         2         1  ...         0         0         0   \n",
       "1.0             0         0         0  ...        29        17       776   \n",
       "\n",
       "predict  0.999910  0.999911  0.999911  0.999912  0.999914  0.999916  0.999936  \n",
       "real                                                                           \n",
       "0.0             0         0         0         0         0         0         0  \n",
       "1.0           941        35         3        20        21      1048      1342  \n",
       "\n",
       "[2 rows x 43 columns]"
      ]
     },
     "execution_count": 70,
     "metadata": {},
     "output_type": "execute_result"
    }
   ],
   "source": [
    "# Create crosstab\n",
    "pd.crosstab(y_test, y_pred_XGBoost, rownames=[\"real\"], colnames=[\"predict\"])\n"
   ]
  },
  {
   "cell_type": "code",
   "execution_count": null,
   "id": "b984e8ba",
   "metadata": {},
   "outputs": [],
   "source": [
    "# from sklearn.metrics import classification_report \n",
    "\n",
    "# get classification report\n",
    "# print(\"XGBoost classification report:\\n \", classification_report (y_test, y_pred_XGBoost))\n",
    "\n",
    "# not possible"
   ]
  },
  {
   "cell_type": "code",
   "execution_count": null,
   "id": "81ee9e65",
   "metadata": {},
   "outputs": [],
   "source": []
  },
  {
   "cell_type": "code",
   "execution_count": null,
   "id": "b155aadc",
   "metadata": {},
   "outputs": [],
   "source": []
  },
  {
   "cell_type": "code",
   "execution_count": null,
   "id": "44755e5f",
   "metadata": {},
   "outputs": [],
   "source": []
  },
  {
   "cell_type": "markdown",
   "id": "623af938",
   "metadata": {},
   "source": [
    "# CREATE SCALED DATASET"
   ]
  },
  {
   "cell_type": "code",
   "execution_count": 42,
   "id": "a8394b73",
   "metadata": {},
   "outputs": [],
   "source": [
    "# KNN needs standardisation\n",
    "# SVM needs standardisation\n",
    "# Logistic Regression need standardisation\n"
   ]
  },
  {
   "cell_type": "code",
   "execution_count": 71,
   "id": "dfd541d8",
   "metadata": {},
   "outputs": [],
   "source": [
    "from sklearn.preprocessing import StandardScaler\n",
    "\n",
    "scaler = StandardScaler()\n"
   ]
  },
  {
   "cell_type": "code",
   "execution_count": 72,
   "id": "be503247",
   "metadata": {},
   "outputs": [],
   "source": [
    "cols = x_train.columns\n",
    "\n",
    "x_train_scaled = pd.DataFrame(scaler.fit_transform(x_train), columns=cols)\n",
    "x_test_scaled = pd.DataFrame(scaler.transform(x_test), columns=cols)\n"
   ]
  },
  {
   "cell_type": "code",
   "execution_count": 73,
   "id": "05003f66",
   "metadata": {
    "scrolled": true
   },
   "outputs": [
    {
     "data": {
      "text/html": [
       "<div>\n",
       "<style scoped>\n",
       "    .dataframe tbody tr th:only-of-type {\n",
       "        vertical-align: middle;\n",
       "    }\n",
       "\n",
       "    .dataframe tbody tr th {\n",
       "        vertical-align: top;\n",
       "    }\n",
       "\n",
       "    .dataframe thead th {\n",
       "        text-align: right;\n",
       "    }\n",
       "</style>\n",
       "<table border=\"1\" class=\"dataframe\">\n",
       "  <thead>\n",
       "    <tr style=\"text-align: right;\">\n",
       "      <th></th>\n",
       "      <th>published_utc</th>\n",
       "      <th>factuality</th>\n",
       "      <th>questionable-source</th>\n",
       "      <th>conspiracy-pseudoscience</th>\n",
       "      <th>pro-science</th>\n",
       "      <th>year</th>\n",
       "      <th>month</th>\n",
       "      <th>dayofyear</th>\n",
       "      <th>dayofthemonth</th>\n",
       "      <th>weekday</th>\n",
       "      <th>...</th>\n",
       "      <th>Netherlands</th>\n",
       "      <th>Qatar</th>\n",
       "      <th>Russia</th>\n",
       "      <th>USA</th>\n",
       "      <th>United Kingdom</th>\n",
       "      <th>Unknown</th>\n",
       "      <th>tok_content_length</th>\n",
       "      <th>tok_title_length</th>\n",
       "      <th>nb_character_content</th>\n",
       "      <th>nb_character_title</th>\n",
       "    </tr>\n",
       "  </thead>\n",
       "  <tbody>\n",
       "    <tr>\n",
       "      <th>0</th>\n",
       "      <td>0.055648</td>\n",
       "      <td>-1.873996</td>\n",
       "      <td>1.647713</td>\n",
       "      <td>-0.420498</td>\n",
       "      <td>-0.041525</td>\n",
       "      <td>0.0</td>\n",
       "      <td>0.147250</td>\n",
       "      <td>0.056877</td>\n",
       "      <td>-0.993261</td>\n",
       "      <td>0.132327</td>\n",
       "      <td>...</td>\n",
       "      <td>-0.007705</td>\n",
       "      <td>0.0</td>\n",
       "      <td>3.219140</td>\n",
       "      <td>-1.492122</td>\n",
       "      <td>-0.366361</td>\n",
       "      <td>-0.159962</td>\n",
       "      <td>-0.106798</td>\n",
       "      <td>0.314536</td>\n",
       "      <td>-0.130083</td>\n",
       "      <td>-0.183574</td>\n",
       "    </tr>\n",
       "    <tr>\n",
       "      <th>1</th>\n",
       "      <td>0.923308</td>\n",
       "      <td>-0.403772</td>\n",
       "      <td>-0.606902</td>\n",
       "      <td>2.378133</td>\n",
       "      <td>-0.041525</td>\n",
       "      <td>0.0</td>\n",
       "      <td>1.023465</td>\n",
       "      <td>0.927561</td>\n",
       "      <td>-1.107449</td>\n",
       "      <td>0.132327</td>\n",
       "      <td>...</td>\n",
       "      <td>-0.007705</td>\n",
       "      <td>0.0</td>\n",
       "      <td>-0.310642</td>\n",
       "      <td>-1.492122</td>\n",
       "      <td>-0.366361</td>\n",
       "      <td>-0.159962</td>\n",
       "      <td>-0.679320</td>\n",
       "      <td>-0.752081</td>\n",
       "      <td>-0.690434</td>\n",
       "      <td>-1.032936</td>\n",
       "    </tr>\n",
       "    <tr>\n",
       "      <th>2</th>\n",
       "      <td>0.699753</td>\n",
       "      <td>-1.138884</td>\n",
       "      <td>1.647713</td>\n",
       "      <td>-0.420498</td>\n",
       "      <td>-0.041525</td>\n",
       "      <td>0.0</td>\n",
       "      <td>0.731393</td>\n",
       "      <td>0.697930</td>\n",
       "      <td>-0.422322</td>\n",
       "      <td>-1.454527</td>\n",
       "      <td>...</td>\n",
       "      <td>-0.007705</td>\n",
       "      <td>0.0</td>\n",
       "      <td>-0.310642</td>\n",
       "      <td>-1.492122</td>\n",
       "      <td>2.729547</td>\n",
       "      <td>-0.159962</td>\n",
       "      <td>0.297414</td>\n",
       "      <td>0.741183</td>\n",
       "      <td>0.306285</td>\n",
       "      <td>1.217874</td>\n",
       "    </tr>\n",
       "    <tr>\n",
       "      <th>3</th>\n",
       "      <td>0.715443</td>\n",
       "      <td>0.331340</td>\n",
       "      <td>-0.606902</td>\n",
       "      <td>-0.420498</td>\n",
       "      <td>-0.041525</td>\n",
       "      <td>0.0</td>\n",
       "      <td>0.731393</td>\n",
       "      <td>0.717066</td>\n",
       "      <td>-0.193947</td>\n",
       "      <td>-0.396625</td>\n",
       "      <td>...</td>\n",
       "      <td>-0.007705</td>\n",
       "      <td>0.0</td>\n",
       "      <td>-0.310642</td>\n",
       "      <td>-1.492122</td>\n",
       "      <td>2.729547</td>\n",
       "      <td>-0.159962</td>\n",
       "      <td>0.746685</td>\n",
       "      <td>0.527860</td>\n",
       "      <td>0.710188</td>\n",
       "      <td>0.156171</td>\n",
       "    </tr>\n",
       "    <tr>\n",
       "      <th>4</th>\n",
       "      <td>1.559851</td>\n",
       "      <td>0.331340</td>\n",
       "      <td>-0.606902</td>\n",
       "      <td>-0.420498</td>\n",
       "      <td>-0.041525</td>\n",
       "      <td>0.0</td>\n",
       "      <td>1.607609</td>\n",
       "      <td>1.559047</td>\n",
       "      <td>-0.536510</td>\n",
       "      <td>1.719181</td>\n",
       "      <td>...</td>\n",
       "      <td>-0.007705</td>\n",
       "      <td>0.0</td>\n",
       "      <td>-0.310642</td>\n",
       "      <td>-1.492122</td>\n",
       "      <td>2.729547</td>\n",
       "      <td>-0.159962</td>\n",
       "      <td>-0.501732</td>\n",
       "      <td>0.527860</td>\n",
       "      <td>-0.509956</td>\n",
       "      <td>1.005534</td>\n",
       "    </tr>\n",
       "    <tr>\n",
       "      <th>...</th>\n",
       "      <td>...</td>\n",
       "      <td>...</td>\n",
       "      <td>...</td>\n",
       "      <td>...</td>\n",
       "      <td>...</td>\n",
       "      <td>...</td>\n",
       "      <td>...</td>\n",
       "      <td>...</td>\n",
       "      <td>...</td>\n",
       "      <td>...</td>\n",
       "      <td>...</td>\n",
       "      <td>...</td>\n",
       "      <td>...</td>\n",
       "      <td>...</td>\n",
       "      <td>...</td>\n",
       "      <td>...</td>\n",
       "      <td>...</td>\n",
       "      <td>...</td>\n",
       "      <td>...</td>\n",
       "      <td>...</td>\n",
       "      <td>...</td>\n",
       "    </tr>\n",
       "    <tr>\n",
       "      <th>50537</th>\n",
       "      <td>1.568332</td>\n",
       "      <td>-0.403772</td>\n",
       "      <td>-0.606902</td>\n",
       "      <td>-0.420498</td>\n",
       "      <td>-0.041525</td>\n",
       "      <td>0.0</td>\n",
       "      <td>1.607609</td>\n",
       "      <td>1.568615</td>\n",
       "      <td>-0.422322</td>\n",
       "      <td>-1.454527</td>\n",
       "      <td>...</td>\n",
       "      <td>-0.007705</td>\n",
       "      <td>0.0</td>\n",
       "      <td>-0.310642</td>\n",
       "      <td>-1.492122</td>\n",
       "      <td>2.729547</td>\n",
       "      <td>-0.159962</td>\n",
       "      <td>-0.089569</td>\n",
       "      <td>0.314536</td>\n",
       "      <td>-0.110399</td>\n",
       "      <td>0.708257</td>\n",
       "    </tr>\n",
       "    <tr>\n",
       "      <th>50538</th>\n",
       "      <td>-1.205523</td>\n",
       "      <td>-1.138884</td>\n",
       "      <td>1.647713</td>\n",
       "      <td>-0.420498</td>\n",
       "      <td>-0.041525</td>\n",
       "      <td>0.0</td>\n",
       "      <td>-1.313110</td>\n",
       "      <td>-1.206093</td>\n",
       "      <td>1.062119</td>\n",
       "      <td>0.661278</td>\n",
       "      <td>...</td>\n",
       "      <td>-0.007705</td>\n",
       "      <td>0.0</td>\n",
       "      <td>-0.310642</td>\n",
       "      <td>0.670186</td>\n",
       "      <td>-0.366361</td>\n",
       "      <td>-0.159962</td>\n",
       "      <td>0.765239</td>\n",
       "      <td>0.101213</td>\n",
       "      <td>0.646023</td>\n",
       "      <td>-0.098637</td>\n",
       "    </tr>\n",
       "    <tr>\n",
       "      <th>50539</th>\n",
       "      <td>1.642355</td>\n",
       "      <td>1.066452</td>\n",
       "      <td>-0.606902</td>\n",
       "      <td>-0.420498</td>\n",
       "      <td>-0.041525</td>\n",
       "      <td>0.0</td>\n",
       "      <td>1.607609</td>\n",
       "      <td>1.645158</td>\n",
       "      <td>0.491180</td>\n",
       "      <td>-0.925576</td>\n",
       "      <td>...</td>\n",
       "      <td>-0.007705</td>\n",
       "      <td>0.0</td>\n",
       "      <td>-0.310642</td>\n",
       "      <td>0.670186</td>\n",
       "      <td>-0.366361</td>\n",
       "      <td>-0.159962</td>\n",
       "      <td>-0.044509</td>\n",
       "      <td>-0.112111</td>\n",
       "      <td>-0.045724</td>\n",
       "      <td>-0.480850</td>\n",
       "    </tr>\n",
       "    <tr>\n",
       "      <th>50540</th>\n",
       "      <td>-1.097476</td>\n",
       "      <td>-1.138884</td>\n",
       "      <td>-0.606902</td>\n",
       "      <td>2.378133</td>\n",
       "      <td>-0.041525</td>\n",
       "      <td>0.0</td>\n",
       "      <td>-1.021038</td>\n",
       "      <td>-1.100846</td>\n",
       "      <td>-0.879073</td>\n",
       "      <td>-0.925576</td>\n",
       "      <td>...</td>\n",
       "      <td>-0.007705</td>\n",
       "      <td>0.0</td>\n",
       "      <td>-0.310642</td>\n",
       "      <td>-1.492122</td>\n",
       "      <td>-0.366361</td>\n",
       "      <td>6.251471</td>\n",
       "      <td>-0.770765</td>\n",
       "      <td>0.314536</td>\n",
       "      <td>-0.778372</td>\n",
       "      <td>0.410980</td>\n",
       "    </tr>\n",
       "    <tr>\n",
       "      <th>50541</th>\n",
       "      <td>-0.616928</td>\n",
       "      <td>0.331340</td>\n",
       "      <td>-0.606902</td>\n",
       "      <td>-0.420498</td>\n",
       "      <td>-0.041525</td>\n",
       "      <td>0.0</td>\n",
       "      <td>-0.728966</td>\n",
       "      <td>-0.612880</td>\n",
       "      <td>1.404682</td>\n",
       "      <td>0.132327</td>\n",
       "      <td>...</td>\n",
       "      <td>-0.007705</td>\n",
       "      <td>0.0</td>\n",
       "      <td>-0.310642</td>\n",
       "      <td>-1.492122</td>\n",
       "      <td>-0.366361</td>\n",
       "      <td>-0.159962</td>\n",
       "      <td>-0.628959</td>\n",
       "      <td>-0.538758</td>\n",
       "      <td>-0.622946</td>\n",
       "      <td>-0.693191</td>\n",
       "    </tr>\n",
       "  </tbody>\n",
       "</table>\n",
       "<p>50542 rows × 34 columns</p>\n",
       "</div>"
      ],
      "text/plain": [
       "       published_utc  factuality  questionable-source  \\\n",
       "0           0.055648   -1.873996             1.647713   \n",
       "1           0.923308   -0.403772            -0.606902   \n",
       "2           0.699753   -1.138884             1.647713   \n",
       "3           0.715443    0.331340            -0.606902   \n",
       "4           1.559851    0.331340            -0.606902   \n",
       "...              ...         ...                  ...   \n",
       "50537       1.568332   -0.403772            -0.606902   \n",
       "50538      -1.205523   -1.138884             1.647713   \n",
       "50539       1.642355    1.066452            -0.606902   \n",
       "50540      -1.097476   -1.138884            -0.606902   \n",
       "50541      -0.616928    0.331340            -0.606902   \n",
       "\n",
       "       conspiracy-pseudoscience  pro-science  year     month  dayofyear  \\\n",
       "0                     -0.420498    -0.041525   0.0  0.147250   0.056877   \n",
       "1                      2.378133    -0.041525   0.0  1.023465   0.927561   \n",
       "2                     -0.420498    -0.041525   0.0  0.731393   0.697930   \n",
       "3                     -0.420498    -0.041525   0.0  0.731393   0.717066   \n",
       "4                     -0.420498    -0.041525   0.0  1.607609   1.559047   \n",
       "...                         ...          ...   ...       ...        ...   \n",
       "50537                 -0.420498    -0.041525   0.0  1.607609   1.568615   \n",
       "50538                 -0.420498    -0.041525   0.0 -1.313110  -1.206093   \n",
       "50539                 -0.420498    -0.041525   0.0  1.607609   1.645158   \n",
       "50540                  2.378133    -0.041525   0.0 -1.021038  -1.100846   \n",
       "50541                 -0.420498    -0.041525   0.0 -0.728966  -0.612880   \n",
       "\n",
       "       dayofthemonth   weekday  ...  Netherlands  Qatar    Russia       USA  \\\n",
       "0          -0.993261  0.132327  ...    -0.007705    0.0  3.219140 -1.492122   \n",
       "1          -1.107449  0.132327  ...    -0.007705    0.0 -0.310642 -1.492122   \n",
       "2          -0.422322 -1.454527  ...    -0.007705    0.0 -0.310642 -1.492122   \n",
       "3          -0.193947 -0.396625  ...    -0.007705    0.0 -0.310642 -1.492122   \n",
       "4          -0.536510  1.719181  ...    -0.007705    0.0 -0.310642 -1.492122   \n",
       "...              ...       ...  ...          ...    ...       ...       ...   \n",
       "50537      -0.422322 -1.454527  ...    -0.007705    0.0 -0.310642 -1.492122   \n",
       "50538       1.062119  0.661278  ...    -0.007705    0.0 -0.310642  0.670186   \n",
       "50539       0.491180 -0.925576  ...    -0.007705    0.0 -0.310642  0.670186   \n",
       "50540      -0.879073 -0.925576  ...    -0.007705    0.0 -0.310642 -1.492122   \n",
       "50541       1.404682  0.132327  ...    -0.007705    0.0 -0.310642 -1.492122   \n",
       "\n",
       "       United Kingdom   Unknown  tok_content_length  tok_title_length  \\\n",
       "0           -0.366361 -0.159962           -0.106798          0.314536   \n",
       "1           -0.366361 -0.159962           -0.679320         -0.752081   \n",
       "2            2.729547 -0.159962            0.297414          0.741183   \n",
       "3            2.729547 -0.159962            0.746685          0.527860   \n",
       "4            2.729547 -0.159962           -0.501732          0.527860   \n",
       "...               ...       ...                 ...               ...   \n",
       "50537        2.729547 -0.159962           -0.089569          0.314536   \n",
       "50538       -0.366361 -0.159962            0.765239          0.101213   \n",
       "50539       -0.366361 -0.159962           -0.044509         -0.112111   \n",
       "50540       -0.366361  6.251471           -0.770765          0.314536   \n",
       "50541       -0.366361 -0.159962           -0.628959         -0.538758   \n",
       "\n",
       "       nb_character_content  nb_character_title  \n",
       "0                 -0.130083           -0.183574  \n",
       "1                 -0.690434           -1.032936  \n",
       "2                  0.306285            1.217874  \n",
       "3                  0.710188            0.156171  \n",
       "4                 -0.509956            1.005534  \n",
       "...                     ...                 ...  \n",
       "50537             -0.110399            0.708257  \n",
       "50538              0.646023           -0.098637  \n",
       "50539             -0.045724           -0.480850  \n",
       "50540             -0.778372            0.410980  \n",
       "50541             -0.622946           -0.693191  \n",
       "\n",
       "[50542 rows x 34 columns]"
      ]
     },
     "execution_count": 73,
     "metadata": {},
     "output_type": "execute_result"
    }
   ],
   "source": [
    "x_train_scaled"
   ]
  },
  {
   "cell_type": "code",
   "execution_count": 74,
   "id": "332e6cb8",
   "metadata": {},
   "outputs": [
    {
     "data": {
      "text/html": [
       "<div>\n",
       "<style scoped>\n",
       "    .dataframe tbody tr th:only-of-type {\n",
       "        vertical-align: middle;\n",
       "    }\n",
       "\n",
       "    .dataframe tbody tr th {\n",
       "        vertical-align: top;\n",
       "    }\n",
       "\n",
       "    .dataframe thead th {\n",
       "        text-align: right;\n",
       "    }\n",
       "</style>\n",
       "<table border=\"1\" class=\"dataframe\">\n",
       "  <thead>\n",
       "    <tr style=\"text-align: right;\">\n",
       "      <th></th>\n",
       "      <th>published_utc</th>\n",
       "      <th>factuality</th>\n",
       "      <th>questionable-source</th>\n",
       "      <th>conspiracy-pseudoscience</th>\n",
       "      <th>pro-science</th>\n",
       "      <th>year</th>\n",
       "      <th>month</th>\n",
       "      <th>dayofyear</th>\n",
       "      <th>dayofthemonth</th>\n",
       "      <th>weekday</th>\n",
       "      <th>...</th>\n",
       "      <th>Netherlands</th>\n",
       "      <th>Qatar</th>\n",
       "      <th>Russia</th>\n",
       "      <th>USA</th>\n",
       "      <th>United Kingdom</th>\n",
       "      <th>Unknown</th>\n",
       "      <th>tok_content_length</th>\n",
       "      <th>tok_title_length</th>\n",
       "      <th>nb_character_content</th>\n",
       "      <th>nb_character_title</th>\n",
       "    </tr>\n",
       "  </thead>\n",
       "  <tbody>\n",
       "    <tr>\n",
       "      <th>0</th>\n",
       "      <td>0.824584</td>\n",
       "      <td>-1.873996</td>\n",
       "      <td>1.647713</td>\n",
       "      <td>-0.420498</td>\n",
       "      <td>-0.041525</td>\n",
       "      <td>0.0</td>\n",
       "      <td>0.731393</td>\n",
       "      <td>0.822314</td>\n",
       "      <td>1.062119</td>\n",
       "      <td>1.719181</td>\n",
       "      <td>...</td>\n",
       "      <td>-0.007705</td>\n",
       "      <td>0.0</td>\n",
       "      <td>3.219140</td>\n",
       "      <td>-1.492122</td>\n",
       "      <td>-0.366361</td>\n",
       "      <td>-0.159962</td>\n",
       "      <td>-0.059087</td>\n",
       "      <td>-0.965405</td>\n",
       "      <td>-0.064385</td>\n",
       "      <td>-0.778127</td>\n",
       "    </tr>\n",
       "    <tr>\n",
       "      <th>1</th>\n",
       "      <td>0.244762</td>\n",
       "      <td>-0.403772</td>\n",
       "      <td>1.647713</td>\n",
       "      <td>-0.420498</td>\n",
       "      <td>-0.041525</td>\n",
       "      <td>0.0</td>\n",
       "      <td>0.147250</td>\n",
       "      <td>0.248236</td>\n",
       "      <td>1.290495</td>\n",
       "      <td>-0.396625</td>\n",
       "      <td>...</td>\n",
       "      <td>-0.007705</td>\n",
       "      <td>0.0</td>\n",
       "      <td>-0.310642</td>\n",
       "      <td>0.670186</td>\n",
       "      <td>-0.366361</td>\n",
       "      <td>-0.159962</td>\n",
       "      <td>-0.259205</td>\n",
       "      <td>-0.112111</td>\n",
       "      <td>-0.315929</td>\n",
       "      <td>0.283576</td>\n",
       "    </tr>\n",
       "    <tr>\n",
       "      <th>2</th>\n",
       "      <td>-0.969602</td>\n",
       "      <td>1.066452</td>\n",
       "      <td>-0.606902</td>\n",
       "      <td>-0.420498</td>\n",
       "      <td>-0.041525</td>\n",
       "      <td>0.0</td>\n",
       "      <td>-1.021038</td>\n",
       "      <td>-0.966894</td>\n",
       "      <td>0.719556</td>\n",
       "      <td>-0.925576</td>\n",
       "      <td>...</td>\n",
       "      <td>-0.007705</td>\n",
       "      <td>0.0</td>\n",
       "      <td>-0.310642</td>\n",
       "      <td>0.670186</td>\n",
       "      <td>-0.366361</td>\n",
       "      <td>-0.159962</td>\n",
       "      <td>-0.484503</td>\n",
       "      <td>-1.178728</td>\n",
       "      <td>-0.471355</td>\n",
       "      <td>-1.245277</td>\n",
       "    </tr>\n",
       "    <tr>\n",
       "      <th>3</th>\n",
       "      <td>0.949024</td>\n",
       "      <td>0.331340</td>\n",
       "      <td>-0.606902</td>\n",
       "      <td>-0.420498</td>\n",
       "      <td>-0.041525</td>\n",
       "      <td>0.0</td>\n",
       "      <td>1.023465</td>\n",
       "      <td>0.946697</td>\n",
       "      <td>-0.879073</td>\n",
       "      <td>1.190230</td>\n",
       "      <td>...</td>\n",
       "      <td>-0.007705</td>\n",
       "      <td>0.0</td>\n",
       "      <td>-0.310642</td>\n",
       "      <td>0.670186</td>\n",
       "      <td>-0.366361</td>\n",
       "      <td>-0.159962</td>\n",
       "      <td>0.928249</td>\n",
       "      <td>-0.538758</td>\n",
       "      <td>1.054527</td>\n",
       "      <td>-0.990468</td>\n",
       "    </tr>\n",
       "    <tr>\n",
       "      <th>4</th>\n",
       "      <td>-0.385220</td>\n",
       "      <td>0.331340</td>\n",
       "      <td>-0.606902</td>\n",
       "      <td>-0.420498</td>\n",
       "      <td>-0.041525</td>\n",
       "      <td>0.0</td>\n",
       "      <td>-0.436894</td>\n",
       "      <td>-0.383249</td>\n",
       "      <td>0.719556</td>\n",
       "      <td>1.719181</td>\n",
       "      <td>...</td>\n",
       "      <td>-0.007705</td>\n",
       "      <td>0.0</td>\n",
       "      <td>-0.310642</td>\n",
       "      <td>-1.492122</td>\n",
       "      <td>2.729547</td>\n",
       "      <td>-0.159962</td>\n",
       "      <td>-0.063063</td>\n",
       "      <td>0.741183</td>\n",
       "      <td>-0.023228</td>\n",
       "      <td>0.623321</td>\n",
       "    </tr>\n",
       "    <tr>\n",
       "      <th>...</th>\n",
       "      <td>...</td>\n",
       "      <td>...</td>\n",
       "      <td>...</td>\n",
       "      <td>...</td>\n",
       "      <td>...</td>\n",
       "      <td>...</td>\n",
       "      <td>...</td>\n",
       "      <td>...</td>\n",
       "      <td>...</td>\n",
       "      <td>...</td>\n",
       "      <td>...</td>\n",
       "      <td>...</td>\n",
       "      <td>...</td>\n",
       "      <td>...</td>\n",
       "      <td>...</td>\n",
       "      <td>...</td>\n",
       "      <td>...</td>\n",
       "      <td>...</td>\n",
       "      <td>...</td>\n",
       "      <td>...</td>\n",
       "      <td>...</td>\n",
       "    </tr>\n",
       "    <tr>\n",
       "      <th>12631</th>\n",
       "      <td>0.392246</td>\n",
       "      <td>-0.403772</td>\n",
       "      <td>1.647713</td>\n",
       "      <td>-0.420498</td>\n",
       "      <td>-0.041525</td>\n",
       "      <td>0.0</td>\n",
       "      <td>0.439321</td>\n",
       "      <td>0.391756</td>\n",
       "      <td>-0.536510</td>\n",
       "      <td>0.132327</td>\n",
       "      <td>...</td>\n",
       "      <td>-0.007705</td>\n",
       "      <td>0.0</td>\n",
       "      <td>3.219140</td>\n",
       "      <td>-1.492122</td>\n",
       "      <td>-0.366361</td>\n",
       "      <td>-0.159962</td>\n",
       "      <td>-0.521611</td>\n",
       "      <td>0.741183</td>\n",
       "      <td>-0.507400</td>\n",
       "      <td>0.835661</td>\n",
       "    </tr>\n",
       "    <tr>\n",
       "      <th>12632</th>\n",
       "      <td>1.536614</td>\n",
       "      <td>1.066452</td>\n",
       "      <td>-0.606902</td>\n",
       "      <td>-0.420498</td>\n",
       "      <td>-0.041525</td>\n",
       "      <td>0.0</td>\n",
       "      <td>1.607609</td>\n",
       "      <td>1.539911</td>\n",
       "      <td>-0.764886</td>\n",
       "      <td>0.661278</td>\n",
       "      <td>...</td>\n",
       "      <td>-0.007705</td>\n",
       "      <td>0.0</td>\n",
       "      <td>-0.310642</td>\n",
       "      <td>0.670186</td>\n",
       "      <td>-0.366361</td>\n",
       "      <td>-0.159962</td>\n",
       "      <td>-0.533539</td>\n",
       "      <td>0.314536</td>\n",
       "      <td>-0.552136</td>\n",
       "      <td>0.156171</td>\n",
       "    </tr>\n",
       "    <tr>\n",
       "      <th>12633</th>\n",
       "      <td>-1.388615</td>\n",
       "      <td>-0.403772</td>\n",
       "      <td>-0.606902</td>\n",
       "      <td>-0.420498</td>\n",
       "      <td>-0.041525</td>\n",
       "      <td>0.0</td>\n",
       "      <td>-1.313110</td>\n",
       "      <td>-1.387885</td>\n",
       "      <td>-1.107449</td>\n",
       "      <td>1.719181</td>\n",
       "      <td>...</td>\n",
       "      <td>-0.007705</td>\n",
       "      <td>0.0</td>\n",
       "      <td>-0.310642</td>\n",
       "      <td>-1.492122</td>\n",
       "      <td>2.729547</td>\n",
       "      <td>-0.159962</td>\n",
       "      <td>-0.362577</td>\n",
       "      <td>0.741183</td>\n",
       "      <td>-0.347884</td>\n",
       "      <td>0.283576</td>\n",
       "    </tr>\n",
       "    <tr>\n",
       "      <th>12634</th>\n",
       "      <td>-1.230284</td>\n",
       "      <td>-1.873996</td>\n",
       "      <td>-0.606902</td>\n",
       "      <td>2.378133</td>\n",
       "      <td>-0.041525</td>\n",
       "      <td>0.0</td>\n",
       "      <td>-1.313110</td>\n",
       "      <td>-1.225229</td>\n",
       "      <td>0.833743</td>\n",
       "      <td>-0.396625</td>\n",
       "      <td>...</td>\n",
       "      <td>-0.007705</td>\n",
       "      <td>0.0</td>\n",
       "      <td>-0.310642</td>\n",
       "      <td>0.670186</td>\n",
       "      <td>-0.366361</td>\n",
       "      <td>-0.159962</td>\n",
       "      <td>0.111874</td>\n",
       "      <td>-0.325434</td>\n",
       "      <td>0.070590</td>\n",
       "      <td>-0.778127</td>\n",
       "    </tr>\n",
       "    <tr>\n",
       "      <th>12635</th>\n",
       "      <td>1.529524</td>\n",
       "      <td>0.331340</td>\n",
       "      <td>-0.606902</td>\n",
       "      <td>-0.420498</td>\n",
       "      <td>-0.041525</td>\n",
       "      <td>0.0</td>\n",
       "      <td>1.607609</td>\n",
       "      <td>1.530343</td>\n",
       "      <td>-0.879073</td>\n",
       "      <td>0.132327</td>\n",
       "      <td>...</td>\n",
       "      <td>-0.007705</td>\n",
       "      <td>0.0</td>\n",
       "      <td>-0.310642</td>\n",
       "      <td>0.670186</td>\n",
       "      <td>-0.366361</td>\n",
       "      <td>-0.159962</td>\n",
       "      <td>0.893792</td>\n",
       "      <td>-0.112111</td>\n",
       "      <td>0.935402</td>\n",
       "      <td>-0.141106</td>\n",
       "    </tr>\n",
       "  </tbody>\n",
       "</table>\n",
       "<p>12636 rows × 34 columns</p>\n",
       "</div>"
      ],
      "text/plain": [
       "       published_utc  factuality  questionable-source  \\\n",
       "0           0.824584   -1.873996             1.647713   \n",
       "1           0.244762   -0.403772             1.647713   \n",
       "2          -0.969602    1.066452            -0.606902   \n",
       "3           0.949024    0.331340            -0.606902   \n",
       "4          -0.385220    0.331340            -0.606902   \n",
       "...              ...         ...                  ...   \n",
       "12631       0.392246   -0.403772             1.647713   \n",
       "12632       1.536614    1.066452            -0.606902   \n",
       "12633      -1.388615   -0.403772            -0.606902   \n",
       "12634      -1.230284   -1.873996            -0.606902   \n",
       "12635       1.529524    0.331340            -0.606902   \n",
       "\n",
       "       conspiracy-pseudoscience  pro-science  year     month  dayofyear  \\\n",
       "0                     -0.420498    -0.041525   0.0  0.731393   0.822314   \n",
       "1                     -0.420498    -0.041525   0.0  0.147250   0.248236   \n",
       "2                     -0.420498    -0.041525   0.0 -1.021038  -0.966894   \n",
       "3                     -0.420498    -0.041525   0.0  1.023465   0.946697   \n",
       "4                     -0.420498    -0.041525   0.0 -0.436894  -0.383249   \n",
       "...                         ...          ...   ...       ...        ...   \n",
       "12631                 -0.420498    -0.041525   0.0  0.439321   0.391756   \n",
       "12632                 -0.420498    -0.041525   0.0  1.607609   1.539911   \n",
       "12633                 -0.420498    -0.041525   0.0 -1.313110  -1.387885   \n",
       "12634                  2.378133    -0.041525   0.0 -1.313110  -1.225229   \n",
       "12635                 -0.420498    -0.041525   0.0  1.607609   1.530343   \n",
       "\n",
       "       dayofthemonth   weekday  ...  Netherlands  Qatar    Russia       USA  \\\n",
       "0           1.062119  1.719181  ...    -0.007705    0.0  3.219140 -1.492122   \n",
       "1           1.290495 -0.396625  ...    -0.007705    0.0 -0.310642  0.670186   \n",
       "2           0.719556 -0.925576  ...    -0.007705    0.0 -0.310642  0.670186   \n",
       "3          -0.879073  1.190230  ...    -0.007705    0.0 -0.310642  0.670186   \n",
       "4           0.719556  1.719181  ...    -0.007705    0.0 -0.310642 -1.492122   \n",
       "...              ...       ...  ...          ...    ...       ...       ...   \n",
       "12631      -0.536510  0.132327  ...    -0.007705    0.0  3.219140 -1.492122   \n",
       "12632      -0.764886  0.661278  ...    -0.007705    0.0 -0.310642  0.670186   \n",
       "12633      -1.107449  1.719181  ...    -0.007705    0.0 -0.310642 -1.492122   \n",
       "12634       0.833743 -0.396625  ...    -0.007705    0.0 -0.310642  0.670186   \n",
       "12635      -0.879073  0.132327  ...    -0.007705    0.0 -0.310642  0.670186   \n",
       "\n",
       "       United Kingdom   Unknown  tok_content_length  tok_title_length  \\\n",
       "0           -0.366361 -0.159962           -0.059087         -0.965405   \n",
       "1           -0.366361 -0.159962           -0.259205         -0.112111   \n",
       "2           -0.366361 -0.159962           -0.484503         -1.178728   \n",
       "3           -0.366361 -0.159962            0.928249         -0.538758   \n",
       "4            2.729547 -0.159962           -0.063063          0.741183   \n",
       "...               ...       ...                 ...               ...   \n",
       "12631       -0.366361 -0.159962           -0.521611          0.741183   \n",
       "12632       -0.366361 -0.159962           -0.533539          0.314536   \n",
       "12633        2.729547 -0.159962           -0.362577          0.741183   \n",
       "12634       -0.366361 -0.159962            0.111874         -0.325434   \n",
       "12635       -0.366361 -0.159962            0.893792         -0.112111   \n",
       "\n",
       "       nb_character_content  nb_character_title  \n",
       "0                 -0.064385           -0.778127  \n",
       "1                 -0.315929            0.283576  \n",
       "2                 -0.471355           -1.245277  \n",
       "3                  1.054527           -0.990468  \n",
       "4                 -0.023228            0.623321  \n",
       "...                     ...                 ...  \n",
       "12631             -0.507400            0.835661  \n",
       "12632             -0.552136            0.156171  \n",
       "12633             -0.347884            0.283576  \n",
       "12634              0.070590           -0.778127  \n",
       "12635              0.935402           -0.141106  \n",
       "\n",
       "[12636 rows x 34 columns]"
      ]
     },
     "execution_count": 74,
     "metadata": {},
     "output_type": "execute_result"
    }
   ],
   "source": [
    "x_test_scaled"
   ]
  },
  {
   "cell_type": "code",
   "execution_count": null,
   "id": "a058c0c9",
   "metadata": {},
   "outputs": [],
   "source": []
  },
  {
   "cell_type": "code",
   "execution_count": null,
   "id": "a8a81e9b",
   "metadata": {},
   "outputs": [],
   "source": []
  },
  {
   "cell_type": "code",
   "execution_count": null,
   "id": "65c9efb5",
   "metadata": {},
   "outputs": [],
   "source": []
  },
  {
   "cell_type": "markdown",
   "id": "c2804424",
   "metadata": {},
   "source": [
    "# CREATE KNN ON SCALED DATA\n"
   ]
  },
  {
   "cell_type": "code",
   "execution_count": 75,
   "id": "5db2140e",
   "metadata": {},
   "outputs": [],
   "source": [
    "# STEP 3: Instantiate the model\n",
    "from sklearn.neighbors import KNeighborsClassifier\n",
    "\n",
    "knn = KNeighborsClassifier(n_neighbors = 6)\n"
   ]
  },
  {
   "cell_type": "code",
   "execution_count": 76,
   "id": "1ce48f2c",
   "metadata": {},
   "outputs": [
    {
     "data": {
      "text/html": [
       "<style>#sk-container-id-6 {color: black;background-color: white;}#sk-container-id-6 pre{padding: 0;}#sk-container-id-6 div.sk-toggleable {background-color: white;}#sk-container-id-6 label.sk-toggleable__label {cursor: pointer;display: block;width: 100%;margin-bottom: 0;padding: 0.3em;box-sizing: border-box;text-align: center;}#sk-container-id-6 label.sk-toggleable__label-arrow:before {content: \"▸\";float: left;margin-right: 0.25em;color: #696969;}#sk-container-id-6 label.sk-toggleable__label-arrow:hover:before {color: black;}#sk-container-id-6 div.sk-estimator:hover label.sk-toggleable__label-arrow:before {color: black;}#sk-container-id-6 div.sk-toggleable__content {max-height: 0;max-width: 0;overflow: hidden;text-align: left;background-color: #f0f8ff;}#sk-container-id-6 div.sk-toggleable__content pre {margin: 0.2em;color: black;border-radius: 0.25em;background-color: #f0f8ff;}#sk-container-id-6 input.sk-toggleable__control:checked~div.sk-toggleable__content {max-height: 200px;max-width: 100%;overflow: auto;}#sk-container-id-6 input.sk-toggleable__control:checked~label.sk-toggleable__label-arrow:before {content: \"▾\";}#sk-container-id-6 div.sk-estimator input.sk-toggleable__control:checked~label.sk-toggleable__label {background-color: #d4ebff;}#sk-container-id-6 div.sk-label input.sk-toggleable__control:checked~label.sk-toggleable__label {background-color: #d4ebff;}#sk-container-id-6 input.sk-hidden--visually {border: 0;clip: rect(1px 1px 1px 1px);clip: rect(1px, 1px, 1px, 1px);height: 1px;margin: -1px;overflow: hidden;padding: 0;position: absolute;width: 1px;}#sk-container-id-6 div.sk-estimator {font-family: monospace;background-color: #f0f8ff;border: 1px dotted black;border-radius: 0.25em;box-sizing: border-box;margin-bottom: 0.5em;}#sk-container-id-6 div.sk-estimator:hover {background-color: #d4ebff;}#sk-container-id-6 div.sk-parallel-item::after {content: \"\";width: 100%;border-bottom: 1px solid gray;flex-grow: 1;}#sk-container-id-6 div.sk-label:hover label.sk-toggleable__label {background-color: #d4ebff;}#sk-container-id-6 div.sk-serial::before {content: \"\";position: absolute;border-left: 1px solid gray;box-sizing: border-box;top: 0;bottom: 0;left: 50%;z-index: 0;}#sk-container-id-6 div.sk-serial {display: flex;flex-direction: column;align-items: center;background-color: white;padding-right: 0.2em;padding-left: 0.2em;position: relative;}#sk-container-id-6 div.sk-item {position: relative;z-index: 1;}#sk-container-id-6 div.sk-parallel {display: flex;align-items: stretch;justify-content: center;background-color: white;position: relative;}#sk-container-id-6 div.sk-item::before, #sk-container-id-6 div.sk-parallel-item::before {content: \"\";position: absolute;border-left: 1px solid gray;box-sizing: border-box;top: 0;bottom: 0;left: 50%;z-index: -1;}#sk-container-id-6 div.sk-parallel-item {display: flex;flex-direction: column;z-index: 1;position: relative;background-color: white;}#sk-container-id-6 div.sk-parallel-item:first-child::after {align-self: flex-end;width: 50%;}#sk-container-id-6 div.sk-parallel-item:last-child::after {align-self: flex-start;width: 50%;}#sk-container-id-6 div.sk-parallel-item:only-child::after {width: 0;}#sk-container-id-6 div.sk-dashed-wrapped {border: 1px dashed gray;margin: 0 0.4em 0.5em 0.4em;box-sizing: border-box;padding-bottom: 0.4em;background-color: white;}#sk-container-id-6 div.sk-label label {font-family: monospace;font-weight: bold;display: inline-block;line-height: 1.2em;}#sk-container-id-6 div.sk-label-container {text-align: center;}#sk-container-id-6 div.sk-container {/* jupyter's `normalize.less` sets `[hidden] { display: none; }` but bootstrap.min.css set `[hidden] { display: none !important; }` so we also need the `!important` here to be able to override the default hidden behavior on the sphinx rendered scikit-learn.org. See: https://github.com/scikit-learn/scikit-learn/issues/21755 */display: inline-block !important;position: relative;}#sk-container-id-6 div.sk-text-repr-fallback {display: none;}</style><div id=\"sk-container-id-6\" class=\"sk-top-container\"><div class=\"sk-text-repr-fallback\"><pre>KNeighborsClassifier(n_neighbors=6)</pre><b>In a Jupyter environment, please rerun this cell to show the HTML representation or trust the notebook. <br />On GitHub, the HTML representation is unable to render, please try loading this page with nbviewer.org.</b></div><div class=\"sk-container\" hidden><div class=\"sk-item\"><div class=\"sk-estimator sk-toggleable\"><input class=\"sk-toggleable__control sk-hidden--visually\" id=\"sk-estimator-id-6\" type=\"checkbox\" checked><label for=\"sk-estimator-id-6\" class=\"sk-toggleable__label sk-toggleable__label-arrow\">KNeighborsClassifier</label><div class=\"sk-toggleable__content\"><pre>KNeighborsClassifier(n_neighbors=6)</pre></div></div></div></div></div>"
      ],
      "text/plain": [
       "KNeighborsClassifier(n_neighbors=6)"
      ]
     },
     "execution_count": 76,
     "metadata": {},
     "output_type": "execute_result"
    }
   ],
   "source": [
    "# STEP 4: Fit the model\n",
    "\n",
    "knn.fit(x_train_scaled, y_train)\n"
   ]
  },
  {
   "cell_type": "code",
   "execution_count": 77,
   "id": "42c80022",
   "metadata": {},
   "outputs": [],
   "source": [
    "# STEP 5: Predict\n",
    "y_pred_knn = knn.predict(x_test_scaled)\n"
   ]
  },
  {
   "cell_type": "code",
   "execution_count": 78,
   "id": "bdcdb441",
   "metadata": {},
   "outputs": [
    {
     "data": {
      "text/html": [
       "<div>\n",
       "<style scoped>\n",
       "    .dataframe tbody tr th:only-of-type {\n",
       "        vertical-align: middle;\n",
       "    }\n",
       "\n",
       "    .dataframe tbody tr th {\n",
       "        vertical-align: top;\n",
       "    }\n",
       "\n",
       "    .dataframe thead th {\n",
       "        text-align: right;\n",
       "    }\n",
       "</style>\n",
       "<table border=\"1\" class=\"dataframe\">\n",
       "  <thead>\n",
       "    <tr style=\"text-align: right;\">\n",
       "      <th>Prediction</th>\n",
       "      <th>0.0</th>\n",
       "      <th>1.0</th>\n",
       "    </tr>\n",
       "    <tr>\n",
       "      <th>Reality</th>\n",
       "      <th></th>\n",
       "      <th></th>\n",
       "    </tr>\n",
       "  </thead>\n",
       "  <tbody>\n",
       "    <tr>\n",
       "      <th>0.0</th>\n",
       "      <td>7293</td>\n",
       "      <td>0</td>\n",
       "    </tr>\n",
       "    <tr>\n",
       "      <th>1.0</th>\n",
       "      <td>10</td>\n",
       "      <td>5333</td>\n",
       "    </tr>\n",
       "  </tbody>\n",
       "</table>\n",
       "</div>"
      ],
      "text/plain": [
       "Prediction   0.0   1.0\n",
       "Reality               \n",
       "0.0         7293     0\n",
       "1.0           10  5333"
      ]
     },
     "execution_count": 78,
     "metadata": {},
     "output_type": "execute_result"
    }
   ],
   "source": [
    "from sklearn.metrics import accuracy_score, precision_score, recall_score \n",
    "\n",
    "pd.crosstab(y_test, y_pred_knn, rownames = ['Reality'], colnames = ['Prediction'])\n",
    "\n",
    "### looks almost perfect"
   ]
  },
  {
   "cell_type": "code",
   "execution_count": 79,
   "id": "b0ab79f1",
   "metadata": {},
   "outputs": [
    {
     "data": {
      "text/plain": [
       "0.9992086103197214"
      ]
     },
     "execution_count": 79,
     "metadata": {},
     "output_type": "execute_result"
    }
   ],
   "source": [
    "# STEP 8: Evaluate model with score\n",
    "# get accuracy\n",
    "accuracy_knn = knn.score(x_test_scaled, y_test)\n",
    "accuracy_knn\n",
    "\n",
    "# 0.999\n"
   ]
  },
  {
   "cell_type": "code",
   "execution_count": 80,
   "id": "1843c954",
   "metadata": {},
   "outputs": [
    {
     "name": "stdout",
     "output_type": "stream",
     "text": [
      "KNN classification report:\n",
      "               precision    recall  f1-score   support\n",
      "\n",
      "         0.0       1.00      1.00      1.00      7293\n",
      "         1.0       1.00      1.00      1.00      5343\n",
      "\n",
      "    accuracy                           1.00     12636\n",
      "   macro avg       1.00      1.00      1.00     12636\n",
      "weighted avg       1.00      1.00      1.00     12636\n",
      "\n"
     ]
    }
   ],
   "source": [
    "# STEP 9: Evaluate model with classification report\n",
    "from sklearn.metrics import classification_report \n",
    "\n",
    "print(\"KNN classification report:\\n\", classification_report (y_test, y_pred_knn))\n"
   ]
  },
  {
   "cell_type": "code",
   "execution_count": 81,
   "id": "c759e4fa",
   "metadata": {},
   "outputs": [
    {
     "name": "stdout",
     "output_type": "stream",
     "text": [
      "Confusion Matrix:\n",
      " [[7293    0]\n",
      " [  10 5333]]\n"
     ]
    }
   ],
   "source": [
    "# STEP 7: Evaluate Model with confusion matrix \n",
    "from sklearn.metrics import confusion_matrix \n",
    "\n",
    "conf_matrix_knn = confusion_matrix(y_test, y_pred_knn)\n",
    "\n",
    "print(\"Confusion Matrix:\\n\",  conf_matrix_knn)\n"
   ]
  },
  {
   "cell_type": "code",
   "execution_count": null,
   "id": "d83c8e9c",
   "metadata": {},
   "outputs": [],
   "source": []
  },
  {
   "cell_type": "code",
   "execution_count": null,
   "id": "44690414",
   "metadata": {},
   "outputs": [],
   "source": []
  },
  {
   "cell_type": "code",
   "execution_count": null,
   "id": "a7636890",
   "metadata": {},
   "outputs": [],
   "source": []
  },
  {
   "cell_type": "markdown",
   "id": "cb711a1e",
   "metadata": {},
   "source": [
    "# CREATE SVM ON SCALED DATA\n"
   ]
  },
  {
   "cell_type": "code",
   "execution_count": null,
   "id": "68d0b038",
   "metadata": {},
   "outputs": [],
   "source": [
    "# SVM - needs standardization\n"
   ]
  },
  {
   "cell_type": "code",
   "execution_count": 82,
   "id": "a7932648",
   "metadata": {},
   "outputs": [],
   "source": [
    "# Step 3: Instantiate model \n",
    "from sklearn import svm\n",
    "clf_SVM = svm.SVC(gamma=0.01, kernel=\"poly\")\n"
   ]
  },
  {
   "cell_type": "code",
   "execution_count": 83,
   "id": "bd18429d",
   "metadata": {},
   "outputs": [
    {
     "data": {
      "text/html": [
       "<style>#sk-container-id-7 {color: black;background-color: white;}#sk-container-id-7 pre{padding: 0;}#sk-container-id-7 div.sk-toggleable {background-color: white;}#sk-container-id-7 label.sk-toggleable__label {cursor: pointer;display: block;width: 100%;margin-bottom: 0;padding: 0.3em;box-sizing: border-box;text-align: center;}#sk-container-id-7 label.sk-toggleable__label-arrow:before {content: \"▸\";float: left;margin-right: 0.25em;color: #696969;}#sk-container-id-7 label.sk-toggleable__label-arrow:hover:before {color: black;}#sk-container-id-7 div.sk-estimator:hover label.sk-toggleable__label-arrow:before {color: black;}#sk-container-id-7 div.sk-toggleable__content {max-height: 0;max-width: 0;overflow: hidden;text-align: left;background-color: #f0f8ff;}#sk-container-id-7 div.sk-toggleable__content pre {margin: 0.2em;color: black;border-radius: 0.25em;background-color: #f0f8ff;}#sk-container-id-7 input.sk-toggleable__control:checked~div.sk-toggleable__content {max-height: 200px;max-width: 100%;overflow: auto;}#sk-container-id-7 input.sk-toggleable__control:checked~label.sk-toggleable__label-arrow:before {content: \"▾\";}#sk-container-id-7 div.sk-estimator input.sk-toggleable__control:checked~label.sk-toggleable__label {background-color: #d4ebff;}#sk-container-id-7 div.sk-label input.sk-toggleable__control:checked~label.sk-toggleable__label {background-color: #d4ebff;}#sk-container-id-7 input.sk-hidden--visually {border: 0;clip: rect(1px 1px 1px 1px);clip: rect(1px, 1px, 1px, 1px);height: 1px;margin: -1px;overflow: hidden;padding: 0;position: absolute;width: 1px;}#sk-container-id-7 div.sk-estimator {font-family: monospace;background-color: #f0f8ff;border: 1px dotted black;border-radius: 0.25em;box-sizing: border-box;margin-bottom: 0.5em;}#sk-container-id-7 div.sk-estimator:hover {background-color: #d4ebff;}#sk-container-id-7 div.sk-parallel-item::after {content: \"\";width: 100%;border-bottom: 1px solid gray;flex-grow: 1;}#sk-container-id-7 div.sk-label:hover label.sk-toggleable__label {background-color: #d4ebff;}#sk-container-id-7 div.sk-serial::before {content: \"\";position: absolute;border-left: 1px solid gray;box-sizing: border-box;top: 0;bottom: 0;left: 50%;z-index: 0;}#sk-container-id-7 div.sk-serial {display: flex;flex-direction: column;align-items: center;background-color: white;padding-right: 0.2em;padding-left: 0.2em;position: relative;}#sk-container-id-7 div.sk-item {position: relative;z-index: 1;}#sk-container-id-7 div.sk-parallel {display: flex;align-items: stretch;justify-content: center;background-color: white;position: relative;}#sk-container-id-7 div.sk-item::before, #sk-container-id-7 div.sk-parallel-item::before {content: \"\";position: absolute;border-left: 1px solid gray;box-sizing: border-box;top: 0;bottom: 0;left: 50%;z-index: -1;}#sk-container-id-7 div.sk-parallel-item {display: flex;flex-direction: column;z-index: 1;position: relative;background-color: white;}#sk-container-id-7 div.sk-parallel-item:first-child::after {align-self: flex-end;width: 50%;}#sk-container-id-7 div.sk-parallel-item:last-child::after {align-self: flex-start;width: 50%;}#sk-container-id-7 div.sk-parallel-item:only-child::after {width: 0;}#sk-container-id-7 div.sk-dashed-wrapped {border: 1px dashed gray;margin: 0 0.4em 0.5em 0.4em;box-sizing: border-box;padding-bottom: 0.4em;background-color: white;}#sk-container-id-7 div.sk-label label {font-family: monospace;font-weight: bold;display: inline-block;line-height: 1.2em;}#sk-container-id-7 div.sk-label-container {text-align: center;}#sk-container-id-7 div.sk-container {/* jupyter's `normalize.less` sets `[hidden] { display: none; }` but bootstrap.min.css set `[hidden] { display: none !important; }` so we also need the `!important` here to be able to override the default hidden behavior on the sphinx rendered scikit-learn.org. See: https://github.com/scikit-learn/scikit-learn/issues/21755 */display: inline-block !important;position: relative;}#sk-container-id-7 div.sk-text-repr-fallback {display: none;}</style><div id=\"sk-container-id-7\" class=\"sk-top-container\"><div class=\"sk-text-repr-fallback\"><pre>SVC(gamma=0.01, kernel=&#x27;poly&#x27;)</pre><b>In a Jupyter environment, please rerun this cell to show the HTML representation or trust the notebook. <br />On GitHub, the HTML representation is unable to render, please try loading this page with nbviewer.org.</b></div><div class=\"sk-container\" hidden><div class=\"sk-item\"><div class=\"sk-estimator sk-toggleable\"><input class=\"sk-toggleable__control sk-hidden--visually\" id=\"sk-estimator-id-7\" type=\"checkbox\" checked><label for=\"sk-estimator-id-7\" class=\"sk-toggleable__label sk-toggleable__label-arrow\">SVC</label><div class=\"sk-toggleable__content\"><pre>SVC(gamma=0.01, kernel=&#x27;poly&#x27;)</pre></div></div></div></div></div>"
      ],
      "text/plain": [
       "SVC(gamma=0.01, kernel='poly')"
      ]
     },
     "execution_count": 83,
     "metadata": {},
     "output_type": "execute_result"
    }
   ],
   "source": [
    "# Step 4: Fit the model on the training dataset\n",
    "clf_SVM.fit(x_train_scaled, y_train)\n",
    "\n",
    "# takes 2 minutes"
   ]
  },
  {
   "cell_type": "code",
   "execution_count": 84,
   "id": "c0faeffd",
   "metadata": {},
   "outputs": [
    {
     "data": {
      "text/plain": [
       "0.99113643558088"
      ]
     },
     "execution_count": 84,
     "metadata": {},
     "output_type": "execute_result"
    }
   ],
   "source": [
    "# get accuracy\n",
    "accuracy_SVM = clf_SVM.score(x_test_scaled, y_test)\n",
    "accuracy_SVM\n",
    "\n",
    "# 0.99\n"
   ]
  },
  {
   "cell_type": "code",
   "execution_count": 85,
   "id": "6ad245e2",
   "metadata": {},
   "outputs": [
    {
     "data": {
      "text/html": [
       "<div>\n",
       "<style scoped>\n",
       "    .dataframe tbody tr th:only-of-type {\n",
       "        vertical-align: middle;\n",
       "    }\n",
       "\n",
       "    .dataframe tbody tr th {\n",
       "        vertical-align: top;\n",
       "    }\n",
       "\n",
       "    .dataframe thead th {\n",
       "        text-align: right;\n",
       "    }\n",
       "</style>\n",
       "<table border=\"1\" class=\"dataframe\">\n",
       "  <thead>\n",
       "    <tr style=\"text-align: right;\">\n",
       "      <th>predict</th>\n",
       "      <th>0.0</th>\n",
       "      <th>1.0</th>\n",
       "    </tr>\n",
       "    <tr>\n",
       "      <th>real</th>\n",
       "      <th></th>\n",
       "      <th></th>\n",
       "    </tr>\n",
       "  </thead>\n",
       "  <tbody>\n",
       "    <tr>\n",
       "      <th>0.0</th>\n",
       "      <td>7293</td>\n",
       "      <td>0</td>\n",
       "    </tr>\n",
       "    <tr>\n",
       "      <th>1.0</th>\n",
       "      <td>112</td>\n",
       "      <td>5231</td>\n",
       "    </tr>\n",
       "  </tbody>\n",
       "</table>\n",
       "</div>"
      ],
      "text/plain": [
       "predict   0.0   1.0\n",
       "real               \n",
       "0.0      7293     0\n",
       "1.0       112  5231"
      ]
     },
     "execution_count": 85,
     "metadata": {},
     "output_type": "execute_result"
    }
   ],
   "source": [
    "# get confusion matrix\n",
    "y_pred_SVM = clf_SVM.predict(x_test_scaled)\n",
    "pd.crosstab(y_test, y_pred_SVM, rownames=[\"real\"], colnames=[\"predict\"])\n",
    "\n",
    "# looks ok\n"
   ]
  },
  {
   "cell_type": "code",
   "execution_count": 86,
   "id": "21d2e4e7",
   "metadata": {},
   "outputs": [
    {
     "name": "stdout",
     "output_type": "stream",
     "text": [
      "SVM classification report:\n",
      "                precision    recall  f1-score   support\n",
      "\n",
      "         0.0       0.98      1.00      0.99      7293\n",
      "         1.0       1.00      0.98      0.99      5343\n",
      "\n",
      "    accuracy                           0.99     12636\n",
      "   macro avg       0.99      0.99      0.99     12636\n",
      "weighted avg       0.99      0.99      0.99     12636\n",
      "\n"
     ]
    }
   ],
   "source": [
    "from sklearn.metrics import classification_report \n",
    "\n",
    "# get classification report\n",
    "print(\"SVM classification report:\\n \", classification_report (y_test, y_pred_SVM))\n"
   ]
  },
  {
   "cell_type": "code",
   "execution_count": 87,
   "id": "f6e56aa0",
   "metadata": {},
   "outputs": [
    {
     "name": "stdout",
     "output_type": "stream",
     "text": [
      "[[7293    0]\n",
      " [ 112 5231]]\n"
     ]
    }
   ],
   "source": [
    "# create confusion matrix\n",
    "cf_matrix_SVM = confusion_matrix(y_test, y_pred_SVM)\n",
    "print(cf_matrix_SVM)\n",
    "\n",
    "# almost 100% accuracy for fake news!"
   ]
  },
  {
   "cell_type": "code",
   "execution_count": null,
   "id": "c60c9c8d",
   "metadata": {},
   "outputs": [],
   "source": []
  },
  {
   "cell_type": "code",
   "execution_count": null,
   "id": "47745c23",
   "metadata": {},
   "outputs": [],
   "source": []
  },
  {
   "cell_type": "code",
   "execution_count": null,
   "id": "dc873418",
   "metadata": {},
   "outputs": [],
   "source": []
  },
  {
   "cell_type": "markdown",
   "id": "8b673750",
   "metadata": {},
   "source": [
    "# CREATE LOGISTIC REGRESSION ON SCALED DATA"
   ]
  },
  {
   "cell_type": "code",
   "execution_count": null,
   "id": "e95ab2e9",
   "metadata": {},
   "outputs": [],
   "source": [
    "# Logistic Regression - needs standardization\n"
   ]
  },
  {
   "cell_type": "code",
   "execution_count": 88,
   "id": "2cd249d5",
   "metadata": {},
   "outputs": [],
   "source": [
    "# Step 3: Instantiate model \n",
    "from sklearn.linear_model import LogisticRegression\n",
    "\n",
    "clf_LogReg = LogisticRegression(C=1.0)\n"
   ]
  },
  {
   "cell_type": "code",
   "execution_count": 89,
   "id": "4f77e7ce",
   "metadata": {},
   "outputs": [
    {
     "data": {
      "text/html": [
       "<style>#sk-container-id-8 {color: black;background-color: white;}#sk-container-id-8 pre{padding: 0;}#sk-container-id-8 div.sk-toggleable {background-color: white;}#sk-container-id-8 label.sk-toggleable__label {cursor: pointer;display: block;width: 100%;margin-bottom: 0;padding: 0.3em;box-sizing: border-box;text-align: center;}#sk-container-id-8 label.sk-toggleable__label-arrow:before {content: \"▸\";float: left;margin-right: 0.25em;color: #696969;}#sk-container-id-8 label.sk-toggleable__label-arrow:hover:before {color: black;}#sk-container-id-8 div.sk-estimator:hover label.sk-toggleable__label-arrow:before {color: black;}#sk-container-id-8 div.sk-toggleable__content {max-height: 0;max-width: 0;overflow: hidden;text-align: left;background-color: #f0f8ff;}#sk-container-id-8 div.sk-toggleable__content pre {margin: 0.2em;color: black;border-radius: 0.25em;background-color: #f0f8ff;}#sk-container-id-8 input.sk-toggleable__control:checked~div.sk-toggleable__content {max-height: 200px;max-width: 100%;overflow: auto;}#sk-container-id-8 input.sk-toggleable__control:checked~label.sk-toggleable__label-arrow:before {content: \"▾\";}#sk-container-id-8 div.sk-estimator input.sk-toggleable__control:checked~label.sk-toggleable__label {background-color: #d4ebff;}#sk-container-id-8 div.sk-label input.sk-toggleable__control:checked~label.sk-toggleable__label {background-color: #d4ebff;}#sk-container-id-8 input.sk-hidden--visually {border: 0;clip: rect(1px 1px 1px 1px);clip: rect(1px, 1px, 1px, 1px);height: 1px;margin: -1px;overflow: hidden;padding: 0;position: absolute;width: 1px;}#sk-container-id-8 div.sk-estimator {font-family: monospace;background-color: #f0f8ff;border: 1px dotted black;border-radius: 0.25em;box-sizing: border-box;margin-bottom: 0.5em;}#sk-container-id-8 div.sk-estimator:hover {background-color: #d4ebff;}#sk-container-id-8 div.sk-parallel-item::after {content: \"\";width: 100%;border-bottom: 1px solid gray;flex-grow: 1;}#sk-container-id-8 div.sk-label:hover label.sk-toggleable__label {background-color: #d4ebff;}#sk-container-id-8 div.sk-serial::before {content: \"\";position: absolute;border-left: 1px solid gray;box-sizing: border-box;top: 0;bottom: 0;left: 50%;z-index: 0;}#sk-container-id-8 div.sk-serial {display: flex;flex-direction: column;align-items: center;background-color: white;padding-right: 0.2em;padding-left: 0.2em;position: relative;}#sk-container-id-8 div.sk-item {position: relative;z-index: 1;}#sk-container-id-8 div.sk-parallel {display: flex;align-items: stretch;justify-content: center;background-color: white;position: relative;}#sk-container-id-8 div.sk-item::before, #sk-container-id-8 div.sk-parallel-item::before {content: \"\";position: absolute;border-left: 1px solid gray;box-sizing: border-box;top: 0;bottom: 0;left: 50%;z-index: -1;}#sk-container-id-8 div.sk-parallel-item {display: flex;flex-direction: column;z-index: 1;position: relative;background-color: white;}#sk-container-id-8 div.sk-parallel-item:first-child::after {align-self: flex-end;width: 50%;}#sk-container-id-8 div.sk-parallel-item:last-child::after {align-self: flex-start;width: 50%;}#sk-container-id-8 div.sk-parallel-item:only-child::after {width: 0;}#sk-container-id-8 div.sk-dashed-wrapped {border: 1px dashed gray;margin: 0 0.4em 0.5em 0.4em;box-sizing: border-box;padding-bottom: 0.4em;background-color: white;}#sk-container-id-8 div.sk-label label {font-family: monospace;font-weight: bold;display: inline-block;line-height: 1.2em;}#sk-container-id-8 div.sk-label-container {text-align: center;}#sk-container-id-8 div.sk-container {/* jupyter's `normalize.less` sets `[hidden] { display: none; }` but bootstrap.min.css set `[hidden] { display: none !important; }` so we also need the `!important` here to be able to override the default hidden behavior on the sphinx rendered scikit-learn.org. See: https://github.com/scikit-learn/scikit-learn/issues/21755 */display: inline-block !important;position: relative;}#sk-container-id-8 div.sk-text-repr-fallback {display: none;}</style><div id=\"sk-container-id-8\" class=\"sk-top-container\"><div class=\"sk-text-repr-fallback\"><pre>LogisticRegression()</pre><b>In a Jupyter environment, please rerun this cell to show the HTML representation or trust the notebook. <br />On GitHub, the HTML representation is unable to render, please try loading this page with nbviewer.org.</b></div><div class=\"sk-container\" hidden><div class=\"sk-item\"><div class=\"sk-estimator sk-toggleable\"><input class=\"sk-toggleable__control sk-hidden--visually\" id=\"sk-estimator-id-8\" type=\"checkbox\" checked><label for=\"sk-estimator-id-8\" class=\"sk-toggleable__label sk-toggleable__label-arrow\">LogisticRegression</label><div class=\"sk-toggleable__content\"><pre>LogisticRegression()</pre></div></div></div></div></div>"
      ],
      "text/plain": [
       "LogisticRegression()"
      ]
     },
     "execution_count": 89,
     "metadata": {},
     "output_type": "execute_result"
    }
   ],
   "source": [
    "# Step 4: Fit the model on the training dataset\n",
    "clf_LogReg.fit(x_train_scaled, y_train)\n"
   ]
  },
  {
   "cell_type": "code",
   "execution_count": 90,
   "id": "3d89fa34",
   "metadata": {},
   "outputs": [
    {
     "data": {
      "text/plain": [
       "1.0"
      ]
     },
     "execution_count": 90,
     "metadata": {},
     "output_type": "execute_result"
    }
   ],
   "source": [
    "# get accuracy\n",
    "accuracy_logReg = clf_LogReg.score(x_test_scaled, y_test)\n",
    "accuracy_logReg\n",
    "\n",
    "# 1.0\n"
   ]
  },
  {
   "cell_type": "code",
   "execution_count": 91,
   "id": "175fa18f",
   "metadata": {},
   "outputs": [
    {
     "data": {
      "text/html": [
       "<div>\n",
       "<style scoped>\n",
       "    .dataframe tbody tr th:only-of-type {\n",
       "        vertical-align: middle;\n",
       "    }\n",
       "\n",
       "    .dataframe tbody tr th {\n",
       "        vertical-align: top;\n",
       "    }\n",
       "\n",
       "    .dataframe thead th {\n",
       "        text-align: right;\n",
       "    }\n",
       "</style>\n",
       "<table border=\"1\" class=\"dataframe\">\n",
       "  <thead>\n",
       "    <tr style=\"text-align: right;\">\n",
       "      <th>predict</th>\n",
       "      <th>0.0</th>\n",
       "      <th>1.0</th>\n",
       "    </tr>\n",
       "    <tr>\n",
       "      <th>real</th>\n",
       "      <th></th>\n",
       "      <th></th>\n",
       "    </tr>\n",
       "  </thead>\n",
       "  <tbody>\n",
       "    <tr>\n",
       "      <th>0.0</th>\n",
       "      <td>7293</td>\n",
       "      <td>0</td>\n",
       "    </tr>\n",
       "    <tr>\n",
       "      <th>1.0</th>\n",
       "      <td>0</td>\n",
       "      <td>5343</td>\n",
       "    </tr>\n",
       "  </tbody>\n",
       "</table>\n",
       "</div>"
      ],
      "text/plain": [
       "predict   0.0   1.0\n",
       "real               \n",
       "0.0      7293     0\n",
       "1.0         0  5343"
      ]
     },
     "execution_count": 91,
     "metadata": {},
     "output_type": "execute_result"
    }
   ],
   "source": [
    "# get confusion matrix\n",
    "y_pred_LogReg = clf_LogReg.predict(x_test_scaled)\n",
    "pd.crosstab(y_test, y_pred_LogReg, rownames=[\"real\"], colnames=[\"predict\"])\n",
    "\n",
    "# 100% perfect prediction\n"
   ]
  },
  {
   "cell_type": "code",
   "execution_count": 92,
   "id": "15ee508d",
   "metadata": {},
   "outputs": [
    {
     "name": "stdout",
     "output_type": "stream",
     "text": [
      "Logistic Regression classification report:\n",
      "                precision    recall  f1-score   support\n",
      "\n",
      "         0.0       1.00      1.00      1.00      7293\n",
      "         1.0       1.00      1.00      1.00      5343\n",
      "\n",
      "    accuracy                           1.00     12636\n",
      "   macro avg       1.00      1.00      1.00     12636\n",
      "weighted avg       1.00      1.00      1.00     12636\n",
      "\n"
     ]
    }
   ],
   "source": [
    "from sklearn.metrics import classification_report \n",
    "\n",
    "# get classification report\n",
    "print(\"Logistic Regression classification report:\\n \", classification_report (y_test, y_pred_LogReg))\n"
   ]
  },
  {
   "cell_type": "code",
   "execution_count": 93,
   "id": "07e71396",
   "metadata": {},
   "outputs": [
    {
     "name": "stdout",
     "output_type": "stream",
     "text": [
      "[[7293    0]\n",
      " [   0 5343]]\n"
     ]
    }
   ],
   "source": [
    "# create confusion matrix\n",
    "cf_matrix_LogReg = confusion_matrix(y_test, y_pred_LogReg)\n",
    "print(cf_matrix_LogReg)\n",
    "\n",
    "# 100% accuracy for fake news!\n"
   ]
  },
  {
   "cell_type": "code",
   "execution_count": null,
   "id": "86dc750b",
   "metadata": {},
   "outputs": [],
   "source": []
  },
  {
   "cell_type": "code",
   "execution_count": null,
   "id": "1487a7ba",
   "metadata": {},
   "outputs": [],
   "source": []
  },
  {
   "cell_type": "code",
   "execution_count": null,
   "id": "5acf5f25",
   "metadata": {},
   "outputs": [],
   "source": []
  },
  {
   "cell_type": "markdown",
   "id": "4bfb3416",
   "metadata": {},
   "source": [
    "# COMPARE MODELS ON NUMERIC DATA ONLY\n"
   ]
  },
  {
   "cell_type": "code",
   "execution_count": 94,
   "id": "ec7e02e4",
   "metadata": {},
   "outputs": [
    {
     "name": "stdout",
     "output_type": "stream",
     "text": [
      "LightGBM accuracy score : 1.0\n",
      "Naive Bayes Bernoulli accuracy score : 0.9910572966128521\n",
      "Naive Bayes Multinomial accuracy score : 0.5169357391579614\n",
      "Naive Bayes Complement accuracy score : 0.5169357391579614\n",
      "Naive Bayes Gaussian accuracy score : 0.5768439379550491\n",
      "GradientBoosting accuracy score : 1.0\n",
      "CatBoost accuracy score : 1.0\n",
      "XGBoost accuracy score : 1.0\n",
      "KNN accuracy score : 0.9992086103197214\n",
      "SVM accuracy score : 0.99113643558088\n",
      "Logistic Regression accuracy score : 1.0\n"
     ]
    }
   ],
   "source": [
    "print(\"LightGBM accuracy score :\", accuracy_LightGBM)\n",
    "print(\"Naive Bayes Bernoulli accuracy score :\", accuracyNB_Bernoulli)\n",
    "print(\"Naive Bayes Multinomial accuracy score :\", accuracyNB_Multinomial)\n",
    "print(\"Naive Bayes Complement accuracy score :\", accuracyNB_Complement)\n",
    "print(\"Naive Bayes Gaussian accuracy score :\", accuracyNB_Gaussian)\n",
    "print(\"GradientBoosting accuracy score :\", accuracy_GradBoost)\n",
    "print(\"CatBoost accuracy score :\", accuracy_CatBoost)\n",
    "print(\"XGBoost accuracy score :\", accuracy_XGBoost)\n",
    "print(\"KNN accuracy score :\", accuracy_knn)\n",
    "print(\"SVM accuracy score :\", accuracy_SVM)\n",
    "print(\"Logistic Regression accuracy score :\", accuracy_logReg)\n"
   ]
  },
  {
   "cell_type": "code",
   "execution_count": 95,
   "id": "01a34e9e",
   "metadata": {},
   "outputs": [],
   "source": [
    "#Creating the Dictionary with model name as key adn accuracy as key-value\n",
    "labels={'LightGBM accuracy score':accuracy_LightGBM,'Naive Bayes Bernoulli':accuracyNB_Bernoulli,\n",
    "        'Naive Bayes Multinomial':accuracyNB_Multinomial,'Naive Bayes Complement':accuracyNB_Complement,\n",
    "        'Naive Bayes Gaussian':accuracyNB_Gaussian, 'GradientBoosting':accuracy_GradBoost,\n",
    "        'CatBoost':accuracy_CatBoost, 'XGBoost':accuracy_XGBoost, \n",
    "        'KNN':accuracy_knn, 'SVM':accuracy_SVM, 'Logistic Regression':accuracy_logReg}\n"
   ]
  },
  {
   "cell_type": "code",
   "execution_count": 96,
   "id": "08e73768",
   "metadata": {},
   "outputs": [
    {
     "data": {
      "image/png": "[encoded data removed]",
      "text/plain": [
       "<Figure size 3000x1000 with 1 Axes>"
      ]
     },
     "metadata": {},
     "output_type": "display_data"
    }
   ],
   "source": [
    "#Plotting accuracy of all the models with Bar-Graphs\n",
    "plt.figure(figsize=(30,10))\n",
    "plt.title('Comparing Accuracy of ML Models on numeric data',fontsize=20)\n",
    "colors=['red','yellow','orange','magenta', 'blue', 'black', 'white', 'purple', 'cyan', 'green', 'gray']\n",
    "plt.xticks(fontsize=10,color='black')\n",
    "plt.yticks(fontsize=20,color='black')\n",
    "plt.ylabel('Accuracy',fontsize=20)\n",
    "plt.xlabel('Models',fontsize=20)\n",
    "plt.bar(labels.keys(),labels.values(),edgecolor='black',color=colors, linewidth=2,alpha=0.5);\n",
    "\n"
   ]
  },
  {
   "cell_type": "code",
   "execution_count": null,
   "id": "61379e19",
   "metadata": {},
   "outputs": [],
   "source": []
  },
  {
   "cell_type": "code",
   "execution_count": null,
   "id": "d330761c",
   "metadata": {},
   "outputs": [],
   "source": []
  },
  {
   "cell_type": "markdown",
   "id": "0735a094",
   "metadata": {},
   "source": [
    "# Create ML Models on text data (TF-IDF VECTORIZING)\n"
   ]
  },
  {
   "cell_type": "code",
   "execution_count": null,
   "id": "89a30279",
   "metadata": {},
   "outputs": [],
   "source": [
    "# LightGBM\n",
    "# Naive Bayes Bernoulli\n",
    "# Naive Bayes Multinomial\n",
    "# Naive Bayes Complement\n",
    "# Naive Bayes Gaussian\n",
    "\n",
    "# KNN --> takes super long\n",
    "# SVM --> takes super long\n",
    "# Logistic Regression\n"
   ]
  },
  {
   "cell_type": "code",
   "execution_count": null,
   "id": "6532aa5d",
   "metadata": {},
   "outputs": [],
   "source": []
  },
  {
   "cell_type": "markdown",
   "id": "3dc7ee02",
   "metadata": {},
   "source": [
    "# Create X and Y (only title and text)\n",
    "# X_train_text, X_test_text, Y_train, Y_test (uppercase letters)\n"
   ]
  },
  {
   "cell_type": "code",
   "execution_count": 97,
   "id": "1b7fea27",
   "metadata": {},
   "outputs": [],
   "source": [
    "# STEP 1: DEFINE X and Y\n",
    "X = df.drop(\"label\", axis=1)\n",
    "Y = df[\"label\"]\n"
   ]
  },
  {
   "cell_type": "code",
   "execution_count": 98,
   "id": "66c6ffc9",
   "metadata": {},
   "outputs": [],
   "source": [
    "X.columns = X.columns.astype(str)"
   ]
  },
  {
   "cell_type": "code",
   "execution_count": 99,
   "id": "2e6bb410",
   "metadata": {},
   "outputs": [
    {
     "name": "stdout",
     "output_type": "stream",
     "text": [
      "<class 'pandas.core.frame.DataFrame'>\n",
      "Int64Index: 63178 entries, 0 to 106709\n",
      "Data columns (total 41 columns):\n",
      " #   Column                    Non-Null Count  Dtype  \n",
      "---  ------                    --------------  -----  \n",
      " 0   id                        63178 non-null  object \n",
      " 1   source                    63178 non-null  object \n",
      " 2   title                     63178 non-null  object \n",
      " 3   content                   63178 non-null  object \n",
      " 4   url                       63178 non-null  object \n",
      " 5   published_utc             63178 non-null  int64  \n",
      " 6   factuality                63178 non-null  float64\n",
      " 7   questionable-source       63178 non-null  float64\n",
      " 8   conspiracy-pseudoscience  63178 non-null  float64\n",
      " 9   pro-science               63178 non-null  float64\n",
      " 10  year                      63178 non-null  int64  \n",
      " 11  month                     63178 non-null  int64  \n",
      " 12  dayofyear                 63178 non-null  int64  \n",
      " 13  dayofthemonth             63178 non-null  int64  \n",
      " 14  weekday                   63178 non-null  int64  \n",
      " 15  weekend                   63178 non-null  int32  \n",
      " 16  word_count_content        63178 non-null  int64  \n",
      " 17  word_count_title          63178 non-null  int64  \n",
      " 18  Australia                 63178 non-null  uint8  \n",
      " 19  Bulgaria                  63178 non-null  uint8  \n",
      " 20  Canada                    63178 non-null  uint8  \n",
      " 21  Cyprus                    63178 non-null  uint8  \n",
      " 22  France                    63178 non-null  uint8  \n",
      " 23  Germany                   63178 non-null  uint8  \n",
      " 24  Ireland                   63178 non-null  uint8  \n",
      " 25  Israel                    63178 non-null  uint8  \n",
      " 26  Japan                     63178 non-null  uint8  \n",
      " 27  Kenya                     63178 non-null  uint8  \n",
      " 28  Macedonia                 63178 non-null  uint8  \n",
      " 29  Netherlands               63178 non-null  uint8  \n",
      " 30  Qatar                     63178 non-null  uint8  \n",
      " 31  Russia                    63178 non-null  uint8  \n",
      " 32  USA                       63178 non-null  uint8  \n",
      " 33  United Kingdom            63178 non-null  uint8  \n",
      " 34  Unknown                   63178 non-null  uint8  \n",
      " 35  tokenized_content         63178 non-null  object \n",
      " 36  tok_content_length        63178 non-null  int64  \n",
      " 37  tokenized_title           63178 non-null  object \n",
      " 38  tok_title_length          63178 non-null  int64  \n",
      " 39  nb_character_content      63178 non-null  int64  \n",
      " 40  nb_character_title        63178 non-null  int64  \n",
      "dtypes: float64(4), int32(1), int64(12), object(7), uint8(17)\n",
      "memory usage: 12.8+ MB\n"
     ]
    }
   ],
   "source": [
    "X.info()"
   ]
  },
  {
   "cell_type": "code",
   "execution_count": null,
   "id": "dc221eb6",
   "metadata": {},
   "outputs": [],
   "source": []
  },
  {
   "cell_type": "markdown",
   "id": "cf0908f3",
   "metadata": {},
   "source": [
    "## Create Train / Test Datasets"
   ]
  },
  {
   "cell_type": "code",
   "execution_count": 100,
   "id": "0debf450",
   "metadata": {},
   "outputs": [],
   "source": [
    "from sklearn.model_selection import train_test_split\n",
    "\n",
    "X_train, X_test, Y_train, Y_test = train_test_split(X, Y, test_size=0.2)\n"
   ]
  },
  {
   "cell_type": "code",
   "execution_count": null,
   "id": "2c82f09a",
   "metadata": {},
   "outputs": [],
   "source": []
  },
  {
   "cell_type": "markdown",
   "id": "e4ebc738",
   "metadata": {},
   "source": [
    "# Vectorizing"
   ]
  },
  {
   "cell_type": "markdown",
   "id": "e7e6afca",
   "metadata": {},
   "source": [
    "### TFIDF Vectorizing\n",
    "### USING CONTENT AND TITLE ONLY\n"
   ]
  },
  {
   "cell_type": "code",
   "execution_count": 101,
   "id": "3e13c2b9",
   "metadata": {},
   "outputs": [
    {
     "data": {
      "text/html": [
       "<style>#sk-container-id-9 {color: black;background-color: white;}#sk-container-id-9 pre{padding: 0;}#sk-container-id-9 div.sk-toggleable {background-color: white;}#sk-container-id-9 label.sk-toggleable__label {cursor: pointer;display: block;width: 100%;margin-bottom: 0;padding: 0.3em;box-sizing: border-box;text-align: center;}#sk-container-id-9 label.sk-toggleable__label-arrow:before {content: \"▸\";float: left;margin-right: 0.25em;color: #696969;}#sk-container-id-9 label.sk-toggleable__label-arrow:hover:before {color: black;}#sk-container-id-9 div.sk-estimator:hover label.sk-toggleable__label-arrow:before {color: black;}#sk-container-id-9 div.sk-toggleable__content {max-height: 0;max-width: 0;overflow: hidden;text-align: left;background-color: #f0f8ff;}#sk-container-id-9 div.sk-toggleable__content pre {margin: 0.2em;color: black;border-radius: 0.25em;background-color: #f0f8ff;}#sk-container-id-9 input.sk-toggleable__control:checked~div.sk-toggleable__content {max-height: 200px;max-width: 100%;overflow: auto;}#sk-container-id-9 input.sk-toggleable__control:checked~label.sk-toggleable__label-arrow:before {content: \"▾\";}#sk-container-id-9 div.sk-estimator input.sk-toggleable__control:checked~label.sk-toggleable__label {background-color: #d4ebff;}#sk-container-id-9 div.sk-label input.sk-toggleable__control:checked~label.sk-toggleable__label {background-color: #d4ebff;}#sk-container-id-9 input.sk-hidden--visually {border: 0;clip: rect(1px 1px 1px 1px);clip: rect(1px, 1px, 1px, 1px);height: 1px;margin: -1px;overflow: hidden;padding: 0;position: absolute;width: 1px;}#sk-container-id-9 div.sk-estimator {font-family: monospace;background-color: #f0f8ff;border: 1px dotted black;border-radius: 0.25em;box-sizing: border-box;margin-bottom: 0.5em;}#sk-container-id-9 div.sk-estimator:hover {background-color: #d4ebff;}#sk-container-id-9 div.sk-parallel-item::after {content: \"\";width: 100%;border-bottom: 1px solid gray;flex-grow: 1;}#sk-container-id-9 div.sk-label:hover label.sk-toggleable__label {background-color: #d4ebff;}#sk-container-id-9 div.sk-serial::before {content: \"\";position: absolute;border-left: 1px solid gray;box-sizing: border-box;top: 0;bottom: 0;left: 50%;z-index: 0;}#sk-container-id-9 div.sk-serial {display: flex;flex-direction: column;align-items: center;background-color: white;padding-right: 0.2em;padding-left: 0.2em;position: relative;}#sk-container-id-9 div.sk-item {position: relative;z-index: 1;}#sk-container-id-9 div.sk-parallel {display: flex;align-items: stretch;justify-content: center;background-color: white;position: relative;}#sk-container-id-9 div.sk-item::before, #sk-container-id-9 div.sk-parallel-item::before {content: \"\";position: absolute;border-left: 1px solid gray;box-sizing: border-box;top: 0;bottom: 0;left: 50%;z-index: -1;}#sk-container-id-9 div.sk-parallel-item {display: flex;flex-direction: column;z-index: 1;position: relative;background-color: white;}#sk-container-id-9 div.sk-parallel-item:first-child::after {align-self: flex-end;width: 50%;}#sk-container-id-9 div.sk-parallel-item:last-child::after {align-self: flex-start;width: 50%;}#sk-container-id-9 div.sk-parallel-item:only-child::after {width: 0;}#sk-container-id-9 div.sk-dashed-wrapped {border: 1px dashed gray;margin: 0 0.4em 0.5em 0.4em;box-sizing: border-box;padding-bottom: 0.4em;background-color: white;}#sk-container-id-9 div.sk-label label {font-family: monospace;font-weight: bold;display: inline-block;line-height: 1.2em;}#sk-container-id-9 div.sk-label-container {text-align: center;}#sk-container-id-9 div.sk-container {/* jupyter's `normalize.less` sets `[hidden] { display: none; }` but bootstrap.min.css set `[hidden] { display: none !important; }` so we also need the `!important` here to be able to override the default hidden behavior on the sphinx rendered scikit-learn.org. See: https://github.com/scikit-learn/scikit-learn/issues/21755 */display: inline-block !important;position: relative;}#sk-container-id-9 div.sk-text-repr-fallback {display: none;}</style><div id=\"sk-container-id-9\" class=\"sk-top-container\"><div class=\"sk-text-repr-fallback\"><pre>TfidfVectorizer()</pre><b>In a Jupyter environment, please rerun this cell to show the HTML representation or trust the notebook. <br />On GitHub, the HTML representation is unable to render, please try loading this page with nbviewer.org.</b></div><div class=\"sk-container\" hidden><div class=\"sk-item\"><div class=\"sk-estimator sk-toggleable\"><input class=\"sk-toggleable__control sk-hidden--visually\" id=\"sk-estimator-id-9\" type=\"checkbox\" checked><label for=\"sk-estimator-id-9\" class=\"sk-toggleable__label sk-toggleable__label-arrow\">TfidfVectorizer</label><div class=\"sk-toggleable__content\"><pre>TfidfVectorizer()</pre></div></div></div></div></div>"
      ],
      "text/plain": [
       "TfidfVectorizer()"
      ]
     },
     "execution_count": 101,
     "metadata": {},
     "output_type": "execute_result"
    }
   ],
   "source": [
    "# VECTORIZING\n",
    "# TAKES 1 MINUTE\n",
    "\n",
    "from sklearn.feature_extraction.text import TfidfVectorizer\n",
    "from scipy.sparse import hstack, csr_matrix\n",
    "\n",
    "vectorizer1 = TfidfVectorizer()\n",
    "vectorizer2 = TfidfVectorizer()\n",
    "\n",
    "vectorizer1.fit(X_train['content'])\n",
    "vectorizer2.fit(X_train['title'])\n"
   ]
  },
  {
   "cell_type": "code",
   "execution_count": 102,
   "id": "941df81a",
   "metadata": {},
   "outputs": [],
   "source": [
    "# TAKES 1 MINUTE\n",
    "\n",
    "X_train_content = vectorizer1.transform(X_train['content'])\n",
    "X_train_title = vectorizer2.transform(X_train['title'])\n",
    "X_test_content = vectorizer1.transform(X_test['content'])\n",
    "X_test_title = vectorizer2.transform(X_test['title'])\n"
   ]
  },
  {
   "cell_type": "code",
   "execution_count": 103,
   "id": "859b9c9a",
   "metadata": {},
   "outputs": [],
   "source": [
    "X_train_text = hstack([X_train_content, X_train_title])\n",
    "X_test_text = hstack([X_test_content, X_test_title])\n"
   ]
  },
  {
   "cell_type": "code",
   "execution_count": 104,
   "id": "113a46be",
   "metadata": {},
   "outputs": [
    {
     "data": {
      "text/plain": [
       "<50542x238650 sparse matrix of type '<class 'numpy.float64'>'\n",
       "\twith 12521947 stored elements in Compressed Sparse Row format>"
      ]
     },
     "execution_count": 104,
     "metadata": {},
     "output_type": "execute_result"
    }
   ],
   "source": [
    "X_train_text"
   ]
  },
  {
   "cell_type": "code",
   "execution_count": 105,
   "id": "33156537",
   "metadata": {},
   "outputs": [
    {
     "data": {
      "text/plain": [
       "(50542, 238650)"
      ]
     },
     "execution_count": 105,
     "metadata": {},
     "output_type": "execute_result"
    }
   ],
   "source": [
    "X_train_text.shape"
   ]
  },
  {
   "cell_type": "code",
   "execution_count": 106,
   "id": "a4d9e4b9",
   "metadata": {},
   "outputs": [
    {
     "data": {
      "text/plain": [
       "<12636x238650 sparse matrix of type '<class 'numpy.float64'>'\n",
       "\twith 3079206 stored elements in Compressed Sparse Row format>"
      ]
     },
     "execution_count": 106,
     "metadata": {},
     "output_type": "execute_result"
    }
   ],
   "source": [
    "X_test_text"
   ]
  },
  {
   "cell_type": "code",
   "execution_count": 107,
   "id": "c043243c",
   "metadata": {},
   "outputs": [
    {
     "data": {
      "text/plain": [
       "(12636, 238650)"
      ]
     },
     "execution_count": 107,
     "metadata": {},
     "output_type": "execute_result"
    }
   ],
   "source": [
    "X_test_text.shape"
   ]
  },
  {
   "cell_type": "code",
   "execution_count": null,
   "id": "9b1c4da5",
   "metadata": {},
   "outputs": [],
   "source": []
  },
  {
   "cell_type": "code",
   "execution_count": null,
   "id": "0c0acaa4",
   "metadata": {},
   "outputs": [],
   "source": []
  },
  {
   "cell_type": "markdown",
   "id": "c4e5119e",
   "metadata": {},
   "source": [
    "# LightGBM Model"
   ]
  },
  {
   "cell_type": "code",
   "execution_count": 108,
   "id": "25f080f5",
   "metadata": {},
   "outputs": [],
   "source": [
    "# Create a LightGBM dataset for training\n",
    "LightGMB_train_data_text = lgb.Dataset(X_train_text, label=Y_train)\n",
    "\n",
    "# Set the hyperparameters for the LightGBM model\n",
    "paramsLightGBM = {\n",
    "    'boosting_type': 'gbdt',\n",
    "    'objective': 'binary',  # Set the appropriate objective for your classification task\n",
    "    'metric': 'binary_logloss',  # Set the appropriate metric for evaluation\n",
    "    'num_leaves': 31,\n",
    "    'learning_rate': 0.05,\n",
    "    'feature_fraction': 0.9,\n",
    "    'bagging_fraction': 0.8,\n",
    "    'bagging_freq': 5,\n",
    "    'verbose': 0\n",
    "}\n"
   ]
  },
  {
   "cell_type": "code",
   "execution_count": 109,
   "id": "6a9487ed",
   "metadata": {},
   "outputs": [
    {
     "name": "stdout",
     "output_type": "stream",
     "text": [
      "[LightGBM] [Warning] Auto-choosing col-wise multi-threading, the overhead of testing was 8.670722 seconds.\n",
      "You can set `force_col_wise=true` to remove the overhead.\n"
     ]
    }
   ],
   "source": [
    "# Train the LightGBM model\n",
    "clf_LightGBM_vect = lgb.train(paramsLightGBM, LightGMB_train_data_text, num_boost_round=100)\n",
    "\n",
    "# takes 3 minutes\n"
   ]
  },
  {
   "cell_type": "code",
   "execution_count": 110,
   "id": "5a87ab64",
   "metadata": {},
   "outputs": [],
   "source": [
    "# Make predictions on the test set\n",
    "y_pred_LightGBM_vect = clf_LightGBM_vect.predict(X_test_text)\n",
    "y_pred_LightGBM_vect = [round(pred) for pred in y_pred_LightGBM_vect]  # Convert probability to binary predictions\n"
   ]
  },
  {
   "cell_type": "code",
   "execution_count": 111,
   "id": "e4b1098f",
   "metadata": {},
   "outputs": [
    {
     "name": "stdout",
     "output_type": "stream",
     "text": [
      "Accuracy LightGBM vect: 0.8184552073440963\n"
     ]
    }
   ],
   "source": [
    "# Evaluate the model\n",
    "accuracy_LightGBM_vect = accuracy_score(Y_test, y_pred_LightGBM_vect)\n",
    "print(\"Accuracy LightGBM vect:\", accuracy_LightGBM_vect)\n",
    "\n",
    "# 0.81\n"
   ]
  },
  {
   "cell_type": "code",
   "execution_count": 112,
   "id": "d8d846ff",
   "metadata": {},
   "outputs": [
    {
     "name": "stdout",
     "output_type": "stream",
     "text": [
      "Confusion Matrix:\n",
      " [[6658  664]\n",
      " [1630 3684]]\n"
     ]
    }
   ],
   "source": [
    "# STEP 7: Evaluate Model with confusion matrix \n",
    "from sklearn.metrics import confusion_matrix \n",
    "\n",
    "conf_matrix_LightGBM_vect = confusion_matrix(Y_test, y_pred_LightGBM_vect)\n",
    "\n",
    "print(\"Confusion Matrix:\\n\",  conf_matrix_LightGBM_vect)\n"
   ]
  },
  {
   "cell_type": "code",
   "execution_count": 113,
   "id": "aec94151",
   "metadata": {},
   "outputs": [
    {
     "name": "stdout",
     "output_type": "stream",
     "text": [
      "LightGBM vect classification report:\n",
      "               precision    recall  f1-score   support\n",
      "\n",
      "         0.0       0.80      0.91      0.85      7322\n",
      "         1.0       0.85      0.69      0.76      5314\n",
      "\n",
      "    accuracy                           0.82     12636\n",
      "   macro avg       0.83      0.80      0.81     12636\n",
      "weighted avg       0.82      0.82      0.81     12636\n",
      "\n"
     ]
    }
   ],
   "source": [
    "# STEP 9: Evaluate model with classification report\n",
    "from sklearn.metrics import classification_report \n",
    "\n",
    "print(\"LightGBM vect classification report:\\n\", classification_report (Y_test, y_pred_LightGBM_vect))\n"
   ]
  },
  {
   "cell_type": "code",
   "execution_count": null,
   "id": "f8687c79",
   "metadata": {},
   "outputs": [],
   "source": []
  },
  {
   "cell_type": "code",
   "execution_count": null,
   "id": "fdd59139",
   "metadata": {},
   "outputs": [],
   "source": []
  },
  {
   "cell_type": "code",
   "execution_count": null,
   "id": "3aae6211",
   "metadata": {},
   "outputs": [],
   "source": []
  },
  {
   "cell_type": "markdown",
   "id": "a3b76e33",
   "metadata": {},
   "source": [
    "# Naive Bayes Bernoulli Model"
   ]
  },
  {
   "cell_type": "code",
   "execution_count": 114,
   "id": "213bec85",
   "metadata": {},
   "outputs": [],
   "source": [
    "# Create a Bernoulli Naive Bayes classifier\n",
    "clf_Bern_vect = BernoulliNB()\n"
   ]
  },
  {
   "cell_type": "code",
   "execution_count": 115,
   "id": "8acc28ab",
   "metadata": {},
   "outputs": [
    {
     "data": {
      "text/html": [
       "<style>#sk-container-id-10 {color: black;background-color: white;}#sk-container-id-10 pre{padding: 0;}#sk-container-id-10 div.sk-toggleable {background-color: white;}#sk-container-id-10 label.sk-toggleable__label {cursor: pointer;display: block;width: 100%;margin-bottom: 0;padding: 0.3em;box-sizing: border-box;text-align: center;}#sk-container-id-10 label.sk-toggleable__label-arrow:before {content: \"▸\";float: left;margin-right: 0.25em;color: #696969;}#sk-container-id-10 label.sk-toggleable__label-arrow:hover:before {color: black;}#sk-container-id-10 div.sk-estimator:hover label.sk-toggleable__label-arrow:before {color: black;}#sk-container-id-10 div.sk-toggleable__content {max-height: 0;max-width: 0;overflow: hidden;text-align: left;background-color: #f0f8ff;}#sk-container-id-10 div.sk-toggleable__content pre {margin: 0.2em;color: black;border-radius: 0.25em;background-color: #f0f8ff;}#sk-container-id-10 input.sk-toggleable__control:checked~div.sk-toggleable__content {max-height: 200px;max-width: 100%;overflow: auto;}#sk-container-id-10 input.sk-toggleable__control:checked~label.sk-toggleable__label-arrow:before {content: \"▾\";}#sk-container-id-10 div.sk-estimator input.sk-toggleable__control:checked~label.sk-toggleable__label {background-color: #d4ebff;}#sk-container-id-10 div.sk-label input.sk-toggleable__control:checked~label.sk-toggleable__label {background-color: #d4ebff;}#sk-container-id-10 input.sk-hidden--visually {border: 0;clip: rect(1px 1px 1px 1px);clip: rect(1px, 1px, 1px, 1px);height: 1px;margin: -1px;overflow: hidden;padding: 0;position: absolute;width: 1px;}#sk-container-id-10 div.sk-estimator {font-family: monospace;background-color: #f0f8ff;border: 1px dotted black;border-radius: 0.25em;box-sizing: border-box;margin-bottom: 0.5em;}#sk-container-id-10 div.sk-estimator:hover {background-color: #d4ebff;}#sk-container-id-10 div.sk-parallel-item::after {content: \"\";width: 100%;border-bottom: 1px solid gray;flex-grow: 1;}#sk-container-id-10 div.sk-label:hover label.sk-toggleable__label {background-color: #d4ebff;}#sk-container-id-10 div.sk-serial::before {content: \"\";position: absolute;border-left: 1px solid gray;box-sizing: border-box;top: 0;bottom: 0;left: 50%;z-index: 0;}#sk-container-id-10 div.sk-serial {display: flex;flex-direction: column;align-items: center;background-color: white;padding-right: 0.2em;padding-left: 0.2em;position: relative;}#sk-container-id-10 div.sk-item {position: relative;z-index: 1;}#sk-container-id-10 div.sk-parallel {display: flex;align-items: stretch;justify-content: center;background-color: white;position: relative;}#sk-container-id-10 div.sk-item::before, #sk-container-id-10 div.sk-parallel-item::before {content: \"\";position: absolute;border-left: 1px solid gray;box-sizing: border-box;top: 0;bottom: 0;left: 50%;z-index: -1;}#sk-container-id-10 div.sk-parallel-item {display: flex;flex-direction: column;z-index: 1;position: relative;background-color: white;}#sk-container-id-10 div.sk-parallel-item:first-child::after {align-self: flex-end;width: 50%;}#sk-container-id-10 div.sk-parallel-item:last-child::after {align-self: flex-start;width: 50%;}#sk-container-id-10 div.sk-parallel-item:only-child::after {width: 0;}#sk-container-id-10 div.sk-dashed-wrapped {border: 1px dashed gray;margin: 0 0.4em 0.5em 0.4em;box-sizing: border-box;padding-bottom: 0.4em;background-color: white;}#sk-container-id-10 div.sk-label label {font-family: monospace;font-weight: bold;display: inline-block;line-height: 1.2em;}#sk-container-id-10 div.sk-label-container {text-align: center;}#sk-container-id-10 div.sk-container {/* jupyter's `normalize.less` sets `[hidden] { display: none; }` but bootstrap.min.css set `[hidden] { display: none !important; }` so we also need the `!important` here to be able to override the default hidden behavior on the sphinx rendered scikit-learn.org. See: https://github.com/scikit-learn/scikit-learn/issues/21755 */display: inline-block !important;position: relative;}#sk-container-id-10 div.sk-text-repr-fallback {display: none;}</style><div id=\"sk-container-id-10\" class=\"sk-top-container\"><div class=\"sk-text-repr-fallback\"><pre>BernoulliNB()</pre><b>In a Jupyter environment, please rerun this cell to show the HTML representation or trust the notebook. <br />On GitHub, the HTML representation is unable to render, please try loading this page with nbviewer.org.</b></div><div class=\"sk-container\" hidden><div class=\"sk-item\"><div class=\"sk-estimator sk-toggleable\"><input class=\"sk-toggleable__control sk-hidden--visually\" id=\"sk-estimator-id-10\" type=\"checkbox\" checked><label for=\"sk-estimator-id-10\" class=\"sk-toggleable__label sk-toggleable__label-arrow\">BernoulliNB</label><div class=\"sk-toggleable__content\"><pre>BernoulliNB()</pre></div></div></div></div></div>"
      ],
      "text/plain": [
       "BernoulliNB()"
      ]
     },
     "execution_count": 115,
     "metadata": {},
     "output_type": "execute_result"
    }
   ],
   "source": [
    "# Train the classifier\n",
    "clf_Bern_vect.fit(X_train_text, Y_train)\n"
   ]
  },
  {
   "cell_type": "code",
   "execution_count": 116,
   "id": "1a025c61",
   "metadata": {},
   "outputs": [],
   "source": [
    "# Make predictions on the test set\n",
    "y_pred_Bern_vect = clf_Bern_vect.predict(X_test_text)\n"
   ]
  },
  {
   "cell_type": "code",
   "execution_count": 117,
   "id": "66504eb9",
   "metadata": {},
   "outputs": [
    {
     "name": "stdout",
     "output_type": "stream",
     "text": [
      "Accuracy Naive Bayes Bernoulli: 0.710193099081988\n"
     ]
    }
   ],
   "source": [
    "# Evaluate the model\n",
    "accuracyNB_Bernoulli_vect = accuracy_score(Y_test, y_pred_Bern_vect)\n",
    "print(\"Accuracy Naive Bayes Bernoulli:\", accuracyNB_Bernoulli_vect)\n",
    "\n",
    "# 0.70\n"
   ]
  },
  {
   "cell_type": "code",
   "execution_count": 118,
   "id": "4ffb0b7f",
   "metadata": {},
   "outputs": [
    {
     "name": "stdout",
     "output_type": "stream",
     "text": [
      "Confusion Matrix:\n",
      " [[4987 2335]\n",
      " [1327 3987]]\n"
     ]
    }
   ],
   "source": [
    "# STEP 7: Evaluate Model with confusion matrix \n",
    "from sklearn.metrics import confusion_matrix \n",
    "\n",
    "conf_matrix_Bern_vect = confusion_matrix(Y_test, y_pred_Bern_vect)\n",
    "\n",
    "print(\"Confusion Matrix:\\n\",  conf_matrix_Bern_vect)\n"
   ]
  },
  {
   "cell_type": "code",
   "execution_count": 119,
   "id": "76bab7d2",
   "metadata": {},
   "outputs": [
    {
     "name": "stdout",
     "output_type": "stream",
     "text": [
      "Naive Bayes Bernoulli vect classification report:\n",
      "               precision    recall  f1-score   support\n",
      "\n",
      "         0.0       0.79      0.68      0.73      7322\n",
      "         1.0       0.63      0.75      0.69      5314\n",
      "\n",
      "    accuracy                           0.71     12636\n",
      "   macro avg       0.71      0.72      0.71     12636\n",
      "weighted avg       0.72      0.71      0.71     12636\n",
      "\n"
     ]
    }
   ],
   "source": [
    "# STEP 9: Evaluate model with classification report\n",
    "from sklearn.metrics import classification_report \n",
    "\n",
    "print(\"Naive Bayes Bernoulli vect classification report:\\n\", classification_report (Y_test, y_pred_Bern_vect))\n"
   ]
  },
  {
   "cell_type": "code",
   "execution_count": null,
   "id": "b4de5909",
   "metadata": {},
   "outputs": [],
   "source": []
  },
  {
   "cell_type": "code",
   "execution_count": null,
   "id": "f694fa9b",
   "metadata": {},
   "outputs": [],
   "source": []
  },
  {
   "cell_type": "code",
   "execution_count": null,
   "id": "0d49ab49",
   "metadata": {},
   "outputs": [],
   "source": []
  },
  {
   "cell_type": "markdown",
   "id": "618ec981",
   "metadata": {},
   "source": [
    "# MULTINOMIAL NAIVE BAYES\n"
   ]
  },
  {
   "cell_type": "code",
   "execution_count": 120,
   "id": "4175d0de",
   "metadata": {},
   "outputs": [],
   "source": [
    "from sklearn.naive_bayes import MultinomialNB\n",
    "clf_mult_vect = MultinomialNB()\n"
   ]
  },
  {
   "cell_type": "code",
   "execution_count": 121,
   "id": "52476d00",
   "metadata": {},
   "outputs": [
    {
     "data": {
      "text/html": [
       "<style>#sk-container-id-11 {color: black;background-color: white;}#sk-container-id-11 pre{padding: 0;}#sk-container-id-11 div.sk-toggleable {background-color: white;}#sk-container-id-11 label.sk-toggleable__label {cursor: pointer;display: block;width: 100%;margin-bottom: 0;padding: 0.3em;box-sizing: border-box;text-align: center;}#sk-container-id-11 label.sk-toggleable__label-arrow:before {content: \"▸\";float: left;margin-right: 0.25em;color: #696969;}#sk-container-id-11 label.sk-toggleable__label-arrow:hover:before {color: black;}#sk-container-id-11 div.sk-estimator:hover label.sk-toggleable__label-arrow:before {color: black;}#sk-container-id-11 div.sk-toggleable__content {max-height: 0;max-width: 0;overflow: hidden;text-align: left;background-color: #f0f8ff;}#sk-container-id-11 div.sk-toggleable__content pre {margin: 0.2em;color: black;border-radius: 0.25em;background-color: #f0f8ff;}#sk-container-id-11 input.sk-toggleable__control:checked~div.sk-toggleable__content {max-height: 200px;max-width: 100%;overflow: auto;}#sk-container-id-11 input.sk-toggleable__control:checked~label.sk-toggleable__label-arrow:before {content: \"▾\";}#sk-container-id-11 div.sk-estimator input.sk-toggleable__control:checked~label.sk-toggleable__label {background-color: #d4ebff;}#sk-container-id-11 div.sk-label input.sk-toggleable__control:checked~label.sk-toggleable__label {background-color: #d4ebff;}#sk-container-id-11 input.sk-hidden--visually {border: 0;clip: rect(1px 1px 1px 1px);clip: rect(1px, 1px, 1px, 1px);height: 1px;margin: -1px;overflow: hidden;padding: 0;position: absolute;width: 1px;}#sk-container-id-11 div.sk-estimator {font-family: monospace;background-color: #f0f8ff;border: 1px dotted black;border-radius: 0.25em;box-sizing: border-box;margin-bottom: 0.5em;}#sk-container-id-11 div.sk-estimator:hover {background-color: #d4ebff;}#sk-container-id-11 div.sk-parallel-item::after {content: \"\";width: 100%;border-bottom: 1px solid gray;flex-grow: 1;}#sk-container-id-11 div.sk-label:hover label.sk-toggleable__label {background-color: #d4ebff;}#sk-container-id-11 div.sk-serial::before {content: \"\";position: absolute;border-left: 1px solid gray;box-sizing: border-box;top: 0;bottom: 0;left: 50%;z-index: 0;}#sk-container-id-11 div.sk-serial {display: flex;flex-direction: column;align-items: center;background-color: white;padding-right: 0.2em;padding-left: 0.2em;position: relative;}#sk-container-id-11 div.sk-item {position: relative;z-index: 1;}#sk-container-id-11 div.sk-parallel {display: flex;align-items: stretch;justify-content: center;background-color: white;position: relative;}#sk-container-id-11 div.sk-item::before, #sk-container-id-11 div.sk-parallel-item::before {content: \"\";position: absolute;border-left: 1px solid gray;box-sizing: border-box;top: 0;bottom: 0;left: 50%;z-index: -1;}#sk-container-id-11 div.sk-parallel-item {display: flex;flex-direction: column;z-index: 1;position: relative;background-color: white;}#sk-container-id-11 div.sk-parallel-item:first-child::after {align-self: flex-end;width: 50%;}#sk-container-id-11 div.sk-parallel-item:last-child::after {align-self: flex-start;width: 50%;}#sk-container-id-11 div.sk-parallel-item:only-child::after {width: 0;}#sk-container-id-11 div.sk-dashed-wrapped {border: 1px dashed gray;margin: 0 0.4em 0.5em 0.4em;box-sizing: border-box;padding-bottom: 0.4em;background-color: white;}#sk-container-id-11 div.sk-label label {font-family: monospace;font-weight: bold;display: inline-block;line-height: 1.2em;}#sk-container-id-11 div.sk-label-container {text-align: center;}#sk-container-id-11 div.sk-container {/* jupyter's `normalize.less` sets `[hidden] { display: none; }` but bootstrap.min.css set `[hidden] { display: none !important; }` so we also need the `!important` here to be able to override the default hidden behavior on the sphinx rendered scikit-learn.org. See: https://github.com/scikit-learn/scikit-learn/issues/21755 */display: inline-block !important;position: relative;}#sk-container-id-11 div.sk-text-repr-fallback {display: none;}</style><div id=\"sk-container-id-11\" class=\"sk-top-container\"><div class=\"sk-text-repr-fallback\"><pre>MultinomialNB()</pre><b>In a Jupyter environment, please rerun this cell to show the HTML representation or trust the notebook. <br />On GitHub, the HTML representation is unable to render, please try loading this page with nbviewer.org.</b></div><div class=\"sk-container\" hidden><div class=\"sk-item\"><div class=\"sk-estimator sk-toggleable\"><input class=\"sk-toggleable__control sk-hidden--visually\" id=\"sk-estimator-id-11\" type=\"checkbox\" checked><label for=\"sk-estimator-id-11\" class=\"sk-toggleable__label sk-toggleable__label-arrow\">MultinomialNB</label><div class=\"sk-toggleable__content\"><pre>MultinomialNB()</pre></div></div></div></div></div>"
      ],
      "text/plain": [
       "MultinomialNB()"
      ]
     },
     "execution_count": 121,
     "metadata": {},
     "output_type": "execute_result"
    }
   ],
   "source": [
    "# fit the model\n",
    "clf_mult_vect.fit(X_train_text, Y_train)\n"
   ]
  },
  {
   "cell_type": "code",
   "execution_count": 122,
   "id": "34f5ba02",
   "metadata": {},
   "outputs": [
    {
     "data": {
      "text/plain": [
       "0.7406616017727129"
      ]
     },
     "execution_count": 122,
     "metadata": {},
     "output_type": "execute_result"
    }
   ],
   "source": [
    "# get accuracy\n",
    "accuracyNB_Multinomial_vect = clf_mult_vect.score(X_test_text, Y_test)\n",
    "accuracyNB_Multinomial_vect\n",
    "\n",
    "# 0.74\n"
   ]
  },
  {
   "cell_type": "code",
   "execution_count": 123,
   "id": "1234fbd3",
   "metadata": {},
   "outputs": [
    {
     "data": {
      "text/html": [
       "<div>\n",
       "<style scoped>\n",
       "    .dataframe tbody tr th:only-of-type {\n",
       "        vertical-align: middle;\n",
       "    }\n",
       "\n",
       "    .dataframe tbody tr th {\n",
       "        vertical-align: top;\n",
       "    }\n",
       "\n",
       "    .dataframe thead th {\n",
       "        text-align: right;\n",
       "    }\n",
       "</style>\n",
       "<table border=\"1\" class=\"dataframe\">\n",
       "  <thead>\n",
       "    <tr style=\"text-align: right;\">\n",
       "      <th>predict</th>\n",
       "      <th>0.0</th>\n",
       "      <th>1.0</th>\n",
       "    </tr>\n",
       "    <tr>\n",
       "      <th>real</th>\n",
       "      <th></th>\n",
       "      <th></th>\n",
       "    </tr>\n",
       "  </thead>\n",
       "  <tbody>\n",
       "    <tr>\n",
       "      <th>0.0</th>\n",
       "      <td>7157</td>\n",
       "      <td>165</td>\n",
       "    </tr>\n",
       "    <tr>\n",
       "      <th>1.0</th>\n",
       "      <td>3112</td>\n",
       "      <td>2202</td>\n",
       "    </tr>\n",
       "  </tbody>\n",
       "</table>\n",
       "</div>"
      ],
      "text/plain": [
       "predict   0.0   1.0\n",
       "real               \n",
       "0.0      7157   165\n",
       "1.0      3112  2202"
      ]
     },
     "execution_count": 123,
     "metadata": {},
     "output_type": "execute_result"
    }
   ],
   "source": [
    "# get confusion matrix\n",
    "y_pred_NB_Multinomial_vect = clf_mult_vect.predict(X_test_text)\n",
    "pd.crosstab(Y_test, y_pred_NB_Multinomial_vect, rownames=[\"real\"], colnames=[\"predict\"])\n"
   ]
  },
  {
   "cell_type": "code",
   "execution_count": 124,
   "id": "feed2578",
   "metadata": {},
   "outputs": [
    {
     "name": "stdout",
     "output_type": "stream",
     "text": [
      "Naive Bayes Multinomial Vect classification report:\n",
      "                precision    recall  f1-score   support\n",
      "\n",
      "         0.0       0.70      0.98      0.81      7322\n",
      "         1.0       0.93      0.41      0.57      5314\n",
      "\n",
      "    accuracy                           0.74     12636\n",
      "   macro avg       0.81      0.70      0.69     12636\n",
      "weighted avg       0.80      0.74      0.71     12636\n",
      "\n"
     ]
    }
   ],
   "source": [
    "from sklearn.metrics import classification_report \n",
    "\n",
    "# get classification report\n",
    "print(\"Naive Bayes Multinomial Vect classification report:\\n \", classification_report (Y_test, y_pred_NB_Multinomial_vect))"
   ]
  },
  {
   "cell_type": "code",
   "execution_count": 125,
   "id": "2282cd17",
   "metadata": {},
   "outputs": [],
   "source": [
    "from mlxtend.plotting import plot_confusion_matrix\n",
    "import matplotlib.pyplot as plt\n",
    "import numpy as np\n",
    "from sklearn.metrics import confusion_matrix\n"
   ]
  },
  {
   "cell_type": "code",
   "execution_count": 126,
   "id": "f34ad0da",
   "metadata": {},
   "outputs": [
    {
     "name": "stdout",
     "output_type": "stream",
     "text": [
      "[[7157  165]\n",
      " [3112 2202]]\n"
     ]
    }
   ],
   "source": [
    "# create confusion matrix\n",
    "cf_matrix_Multinomial_vect = confusion_matrix(Y_test, y_pred_NB_Multinomial_vect)\n",
    "print(cf_matrix_Multinomial_vect)\n"
   ]
  },
  {
   "cell_type": "code",
   "execution_count": 127,
   "id": "0bce9e7a",
   "metadata": {
    "scrolled": true
   },
   "outputs": [
    {
     "data": {
      "image/png": "[encoded data removed]",
      "text/plain": [
       "<Figure size 640x480 with 2 Axes>"
      ]
     },
     "metadata": {},
     "output_type": "display_data"
    }
   ],
   "source": [
    "# absolute values\n",
    "fig, ax = plot_confusion_matrix(conf_mat=cf_matrix_Multinomial_vect,\n",
    "                                colorbar=True)\n",
    "\n",
    "plt.show()"
   ]
  },
  {
   "cell_type": "code",
   "execution_count": 128,
   "id": "34399e85",
   "metadata": {},
   "outputs": [
    {
     "data": {
      "text/plain": [
       "<Axes: >"
      ]
     },
     "execution_count": 128,
     "metadata": {},
     "output_type": "execute_result"
    },
    {
     "data": {
      "image/png": "[encoded data removed]",
      "text/plain": [
       "<Figure size 640x480 with 2 Axes>"
      ]
     },
     "metadata": {},
     "output_type": "display_data"
    }
   ],
   "source": [
    "# percent\n",
    "sns.heatmap(cf_matrix_Multinomial_vect/np.sum(cf_matrix_Multinomial_vect), annot=True, \n",
    "            fmt='.2%', cmap='Blues')"
   ]
  },
  {
   "cell_type": "code",
   "execution_count": null,
   "id": "82f35f58",
   "metadata": {},
   "outputs": [],
   "source": []
  },
  {
   "cell_type": "code",
   "execution_count": null,
   "id": "0f908775",
   "metadata": {},
   "outputs": [],
   "source": []
  },
  {
   "cell_type": "code",
   "execution_count": null,
   "id": "2b6e611f",
   "metadata": {},
   "outputs": [],
   "source": []
  },
  {
   "cell_type": "markdown",
   "id": "1519fb52",
   "metadata": {},
   "source": [
    "# COMPLEMENT NAIVE BAYES\n"
   ]
  },
  {
   "cell_type": "code",
   "execution_count": 146,
   "id": "c389f919",
   "metadata": {},
   "outputs": [],
   "source": [
    "from sklearn.naive_bayes import ComplementNB\n",
    "clf_compl_vect = ComplementNB()\n"
   ]
  },
  {
   "cell_type": "code",
   "execution_count": 147,
   "id": "266fc172",
   "metadata": {},
   "outputs": [
    {
     "data": {
      "text/html": [
       "<style>#sk-container-id-14 {color: black;background-color: white;}#sk-container-id-14 pre{padding: 0;}#sk-container-id-14 div.sk-toggleable {background-color: white;}#sk-container-id-14 label.sk-toggleable__label {cursor: pointer;display: block;width: 100%;margin-bottom: 0;padding: 0.3em;box-sizing: border-box;text-align: center;}#sk-container-id-14 label.sk-toggleable__label-arrow:before {content: \"▸\";float: left;margin-right: 0.25em;color: #696969;}#sk-container-id-14 label.sk-toggleable__label-arrow:hover:before {color: black;}#sk-container-id-14 div.sk-estimator:hover label.sk-toggleable__label-arrow:before {color: black;}#sk-container-id-14 div.sk-toggleable__content {max-height: 0;max-width: 0;overflow: hidden;text-align: left;background-color: #f0f8ff;}#sk-container-id-14 div.sk-toggleable__content pre {margin: 0.2em;color: black;border-radius: 0.25em;background-color: #f0f8ff;}#sk-container-id-14 input.sk-toggleable__control:checked~div.sk-toggleable__content {max-height: 200px;max-width: 100%;overflow: auto;}#sk-container-id-14 input.sk-toggleable__control:checked~label.sk-toggleable__label-arrow:before {content: \"▾\";}#sk-container-id-14 div.sk-estimator input.sk-toggleable__control:checked~label.sk-toggleable__label {background-color: #d4ebff;}#sk-container-id-14 div.sk-label input.sk-toggleable__control:checked~label.sk-toggleable__label {background-color: #d4ebff;}#sk-container-id-14 input.sk-hidden--visually {border: 0;clip: rect(1px 1px 1px 1px);clip: rect(1px, 1px, 1px, 1px);height: 1px;margin: -1px;overflow: hidden;padding: 0;position: absolute;width: 1px;}#sk-container-id-14 div.sk-estimator {font-family: monospace;background-color: #f0f8ff;border: 1px dotted black;border-radius: 0.25em;box-sizing: border-box;margin-bottom: 0.5em;}#sk-container-id-14 div.sk-estimator:hover {background-color: #d4ebff;}#sk-container-id-14 div.sk-parallel-item::after {content: \"\";width: 100%;border-bottom: 1px solid gray;flex-grow: 1;}#sk-container-id-14 div.sk-label:hover label.sk-toggleable__label {background-color: #d4ebff;}#sk-container-id-14 div.sk-serial::before {content: \"\";position: absolute;border-left: 1px solid gray;box-sizing: border-box;top: 0;bottom: 0;left: 50%;z-index: 0;}#sk-container-id-14 div.sk-serial {display: flex;flex-direction: column;align-items: center;background-color: white;padding-right: 0.2em;padding-left: 0.2em;position: relative;}#sk-container-id-14 div.sk-item {position: relative;z-index: 1;}#sk-container-id-14 div.sk-parallel {display: flex;align-items: stretch;justify-content: center;background-color: white;position: relative;}#sk-container-id-14 div.sk-item::before, #sk-container-id-14 div.sk-parallel-item::before {content: \"\";position: absolute;border-left: 1px solid gray;box-sizing: border-box;top: 0;bottom: 0;left: 50%;z-index: -1;}#sk-container-id-14 div.sk-parallel-item {display: flex;flex-direction: column;z-index: 1;position: relative;background-color: white;}#sk-container-id-14 div.sk-parallel-item:first-child::after {align-self: flex-end;width: 50%;}#sk-container-id-14 div.sk-parallel-item:last-child::after {align-self: flex-start;width: 50%;}#sk-container-id-14 div.sk-parallel-item:only-child::after {width: 0;}#sk-container-id-14 div.sk-dashed-wrapped {border: 1px dashed gray;margin: 0 0.4em 0.5em 0.4em;box-sizing: border-box;padding-bottom: 0.4em;background-color: white;}#sk-container-id-14 div.sk-label label {font-family: monospace;font-weight: bold;display: inline-block;line-height: 1.2em;}#sk-container-id-14 div.sk-label-container {text-align: center;}#sk-container-id-14 div.sk-container {/* jupyter's `normalize.less` sets `[hidden] { display: none; }` but bootstrap.min.css set `[hidden] { display: none !important; }` so we also need the `!important` here to be able to override the default hidden behavior on the sphinx rendered scikit-learn.org. See: https://github.com/scikit-learn/scikit-learn/issues/21755 */display: inline-block !important;position: relative;}#sk-container-id-14 div.sk-text-repr-fallback {display: none;}</style><div id=\"sk-container-id-14\" class=\"sk-top-container\"><div class=\"sk-text-repr-fallback\"><pre>ComplementNB()</pre><b>In a Jupyter environment, please rerun this cell to show the HTML representation or trust the notebook. <br />On GitHub, the HTML representation is unable to render, please try loading this page with nbviewer.org.</b></div><div class=\"sk-container\" hidden><div class=\"sk-item\"><div class=\"sk-estimator sk-toggleable\"><input class=\"sk-toggleable__control sk-hidden--visually\" id=\"sk-estimator-id-14\" type=\"checkbox\" checked><label for=\"sk-estimator-id-14\" class=\"sk-toggleable__label sk-toggleable__label-arrow\">ComplementNB</label><div class=\"sk-toggleable__content\"><pre>ComplementNB()</pre></div></div></div></div></div>"
      ],
      "text/plain": [
       "ComplementNB()"
      ]
     },
     "execution_count": 147,
     "metadata": {},
     "output_type": "execute_result"
    }
   ],
   "source": [
    "# fit model\n",
    "clf_compl_vect.fit(X_train_text, Y_train)\n"
   ]
  },
  {
   "cell_type": "code",
   "execution_count": 148,
   "id": "0a4102ec",
   "metadata": {},
   "outputs": [
    {
     "data": {
      "text/plain": [
       "0.7610794555239"
      ]
     },
     "execution_count": 148,
     "metadata": {},
     "output_type": "execute_result"
    }
   ],
   "source": [
    "# get accuracy\n",
    "accuracyNB_Complement_vect = clf_compl_vect.score(X_test_text, Y_test)\n",
    "accuracyNB_Complement_vect\n",
    "\n",
    "# 0.76"
   ]
  },
  {
   "cell_type": "code",
   "execution_count": 149,
   "id": "2662630a",
   "metadata": {},
   "outputs": [
    {
     "data": {
      "text/html": [
       "<div>\n",
       "<style scoped>\n",
       "    .dataframe tbody tr th:only-of-type {\n",
       "        vertical-align: middle;\n",
       "    }\n",
       "\n",
       "    .dataframe tbody tr th {\n",
       "        vertical-align: top;\n",
       "    }\n",
       "\n",
       "    .dataframe thead th {\n",
       "        text-align: right;\n",
       "    }\n",
       "</style>\n",
       "<table border=\"1\" class=\"dataframe\">\n",
       "  <thead>\n",
       "    <tr style=\"text-align: right;\">\n",
       "      <th>predict</th>\n",
       "      <th>0.0</th>\n",
       "      <th>1.0</th>\n",
       "    </tr>\n",
       "    <tr>\n",
       "      <th>real</th>\n",
       "      <th></th>\n",
       "      <th></th>\n",
       "    </tr>\n",
       "  </thead>\n",
       "  <tbody>\n",
       "    <tr>\n",
       "      <th>0.0</th>\n",
       "      <td>7022</td>\n",
       "      <td>300</td>\n",
       "    </tr>\n",
       "    <tr>\n",
       "      <th>1.0</th>\n",
       "      <td>2719</td>\n",
       "      <td>2595</td>\n",
       "    </tr>\n",
       "  </tbody>\n",
       "</table>\n",
       "</div>"
      ],
      "text/plain": [
       "predict   0.0   1.0\n",
       "real               \n",
       "0.0      7022   300\n",
       "1.0      2719  2595"
      ]
     },
     "execution_count": 149,
     "metadata": {},
     "output_type": "execute_result"
    }
   ],
   "source": [
    "# get confusion matrix\n",
    "y_pred_NB_Complement_vect = clf_compl_vect.predict(X_test_text)\n",
    "pd.crosstab(Y_test, y_pred_NB_Complement_vect, rownames=[\"real\"], colnames=[\"predict\"])\n"
   ]
  },
  {
   "cell_type": "code",
   "execution_count": 150,
   "id": "311b6e7e",
   "metadata": {},
   "outputs": [
    {
     "name": "stdout",
     "output_type": "stream",
     "text": [
      "Naive Bayes Complement vect classification report:\n",
      "                precision    recall  f1-score   support\n",
      "\n",
      "         0.0       0.72      0.96      0.82      7322\n",
      "         1.0       0.90      0.49      0.63      5314\n",
      "\n",
      "    accuracy                           0.76     12636\n",
      "   macro avg       0.81      0.72      0.73     12636\n",
      "weighted avg       0.79      0.76      0.74     12636\n",
      "\n"
     ]
    }
   ],
   "source": [
    "from sklearn.metrics import classification_report \n",
    "\n",
    "# get classification report\n",
    "print(\"Naive Bayes Complement vect classification report:\\n \", classification_report (Y_test, y_pred_NB_Complement_vect))\n"
   ]
  },
  {
   "cell_type": "code",
   "execution_count": 151,
   "id": "6a6cd63b",
   "metadata": {},
   "outputs": [
    {
     "name": "stdout",
     "output_type": "stream",
     "text": [
      "[[7022  300]\n",
      " [2719 2595]]\n"
     ]
    }
   ],
   "source": [
    "# create confusion matrix\n",
    "cf_matrix_Complement_vect = confusion_matrix(Y_test, y_pred_NB_Complement_vect)\n",
    "print(cf_matrix_Complement_vect)\n"
   ]
  },
  {
   "cell_type": "code",
   "execution_count": 152,
   "id": "864f76c2",
   "metadata": {},
   "outputs": [
    {
     "data": {
      "image/png": "[encoded data removed]",
      "text/plain": [
       "<Figure size 640x480 with 2 Axes>"
      ]
     },
     "metadata": {},
     "output_type": "display_data"
    }
   ],
   "source": [
    "# absolute values\n",
    "fig, ax = plot_confusion_matrix(conf_mat=cf_matrix_Complement_vect,\n",
    "                                colorbar=True)\n",
    "\n",
    "plt.show();\n"
   ]
  },
  {
   "cell_type": "code",
   "execution_count": 153,
   "id": "bd4e027d",
   "metadata": {},
   "outputs": [
    {
     "data": {
      "image/png": "[encoded data removed]",
      "text/plain": [
       "<Figure size 640x480 with 2 Axes>"
      ]
     },
     "metadata": {},
     "output_type": "display_data"
    }
   ],
   "source": [
    "# percent\n",
    "sns.heatmap(cf_matrix_Complement_vect/np.sum(cf_matrix_Complement_vect), annot=True, \n",
    "            fmt='.2%', cmap='Blues');\n"
   ]
  },
  {
   "cell_type": "code",
   "execution_count": null,
   "id": "6d229d5e",
   "metadata": {},
   "outputs": [],
   "source": []
  },
  {
   "cell_type": "code",
   "execution_count": null,
   "id": "6a2a8977",
   "metadata": {},
   "outputs": [],
   "source": []
  },
  {
   "cell_type": "code",
   "execution_count": null,
   "id": "ad3277c7",
   "metadata": {},
   "outputs": [],
   "source": []
  },
  {
   "cell_type": "markdown",
   "id": "3daa6b2f",
   "metadata": {},
   "source": [
    "# Create NAIVE BAYES Gaussian\n",
    "# not possible due to memory error\n"
   ]
  },
  {
   "cell_type": "code",
   "execution_count": null,
   "id": "dd5ed69d",
   "metadata": {},
   "outputs": [],
   "source": [
    "# transform to avoid sparse matrix\n",
    "# Convert sparse matrix to dense numpy array\n",
    "# X_train_text_dense = X_train_text.toarray()\n"
   ]
  },
  {
   "cell_type": "code",
   "execution_count": 143,
   "id": "767ba3a6",
   "metadata": {},
   "outputs": [],
   "source": [
    "# from sklearn.naive_bayes import GaussianNB\n",
    "# clf_gau_vect = GaussianNB()\n"
   ]
  },
  {
   "cell_type": "code",
   "execution_count": null,
   "id": "8f154408",
   "metadata": {},
   "outputs": [],
   "source": [
    "# clf_gau_vect.fit(X_train_text, Y_train)\n"
   ]
  },
  {
   "cell_type": "code",
   "execution_count": null,
   "id": "a1e3eabb",
   "metadata": {},
   "outputs": [],
   "source": [
    "# get accuracy\n",
    "# accuracyNB_Gaussian_vect = clf_gau_vect.score(X_test_text, y_test)\n",
    "# accuracyNB_Gaussian_vect\n"
   ]
  },
  {
   "cell_type": "code",
   "execution_count": null,
   "id": "7c836a89",
   "metadata": {},
   "outputs": [],
   "source": [
    "# get confusion matrix\n",
    "# y_pred_NB_Gaussian_vect = clf_gau_vect.predict(X_test_text)\n",
    "# pd.crosstab(y_test, y_pred_NB_Gaussian_vect, rownames=[\"real\"], colnames=[\"predict\"])\n"
   ]
  },
  {
   "cell_type": "code",
   "execution_count": null,
   "id": "9304ff96",
   "metadata": {},
   "outputs": [],
   "source": [
    "# from sklearn.metrics import classification_report \n",
    "\n",
    "# get classification report\n",
    "# print(\"Naive Bayes Gaussian vect classification report:\\n \", classification_report (y_test, y_pred_NB_Gaussian_vect))\n",
    "\n",
    "# really bad overall\n"
   ]
  },
  {
   "cell_type": "code",
   "execution_count": null,
   "id": "37104aec",
   "metadata": {},
   "outputs": [],
   "source": [
    "# create confusion matrix\n",
    "# cf_matrix_Gaussian_vect = confusion_matrix(y_test, y_pred_NB_Gaussian_vect)\n",
    "# print(cf_matrix_Gaussian_vect)\n"
   ]
  },
  {
   "cell_type": "code",
   "execution_count": null,
   "id": "4d4350d0",
   "metadata": {},
   "outputs": [],
   "source": []
  },
  {
   "cell_type": "code",
   "execution_count": null,
   "id": "0a764c28",
   "metadata": {},
   "outputs": [],
   "source": []
  },
  {
   "cell_type": "code",
   "execution_count": null,
   "id": "eaed4c55",
   "metadata": {},
   "outputs": [],
   "source": []
  },
  {
   "cell_type": "markdown",
   "id": "c238c816",
   "metadata": {},
   "source": [
    "# GradientBoosting Model\n"
   ]
  },
  {
   "cell_type": "code",
   "execution_count": 167,
   "id": "4f2c7423",
   "metadata": {},
   "outputs": [],
   "source": [
    "from sklearn.ensemble import GradientBoostingClassifier\n",
    "from sklearn.model_selection import train_test_split\n",
    "from sklearn.metrics import accuracy_score\n",
    "\n",
    "# Create a GradientBoostingClassifier object\n",
    "GradBoost_vect = GradientBoostingClassifier(n_estimators=100, learning_rate=0.1, max_depth=3)\n"
   ]
  },
  {
   "cell_type": "code",
   "execution_count": 168,
   "id": "7124a108",
   "metadata": {},
   "outputs": [
    {
     "data": {
      "text/html": [
       "<style>#sk-container-id-16 {color: black;background-color: white;}#sk-container-id-16 pre{padding: 0;}#sk-container-id-16 div.sk-toggleable {background-color: white;}#sk-container-id-16 label.sk-toggleable__label {cursor: pointer;display: block;width: 100%;margin-bottom: 0;padding: 0.3em;box-sizing: border-box;text-align: center;}#sk-container-id-16 label.sk-toggleable__label-arrow:before {content: \"▸\";float: left;margin-right: 0.25em;color: #696969;}#sk-container-id-16 label.sk-toggleable__label-arrow:hover:before {color: black;}#sk-container-id-16 div.sk-estimator:hover label.sk-toggleable__label-arrow:before {color: black;}#sk-container-id-16 div.sk-toggleable__content {max-height: 0;max-width: 0;overflow: hidden;text-align: left;background-color: #f0f8ff;}#sk-container-id-16 div.sk-toggleable__content pre {margin: 0.2em;color: black;border-radius: 0.25em;background-color: #f0f8ff;}#sk-container-id-16 input.sk-toggleable__control:checked~div.sk-toggleable__content {max-height: 200px;max-width: 100%;overflow: auto;}#sk-container-id-16 input.sk-toggleable__control:checked~label.sk-toggleable__label-arrow:before {content: \"▾\";}#sk-container-id-16 div.sk-estimator input.sk-toggleable__control:checked~label.sk-toggleable__label {background-color: #d4ebff;}#sk-container-id-16 div.sk-label input.sk-toggleable__control:checked~label.sk-toggleable__label {background-color: #d4ebff;}#sk-container-id-16 input.sk-hidden--visually {border: 0;clip: rect(1px 1px 1px 1px);clip: rect(1px, 1px, 1px, 1px);height: 1px;margin: -1px;overflow: hidden;padding: 0;position: absolute;width: 1px;}#sk-container-id-16 div.sk-estimator {font-family: monospace;background-color: #f0f8ff;border: 1px dotted black;border-radius: 0.25em;box-sizing: border-box;margin-bottom: 0.5em;}#sk-container-id-16 div.sk-estimator:hover {background-color: #d4ebff;}#sk-container-id-16 div.sk-parallel-item::after {content: \"\";width: 100%;border-bottom: 1px solid gray;flex-grow: 1;}#sk-container-id-16 div.sk-label:hover label.sk-toggleable__label {background-color: #d4ebff;}#sk-container-id-16 div.sk-serial::before {content: \"\";position: absolute;border-left: 1px solid gray;box-sizing: border-box;top: 0;bottom: 0;left: 50%;z-index: 0;}#sk-container-id-16 div.sk-serial {display: flex;flex-direction: column;align-items: center;background-color: white;padding-right: 0.2em;padding-left: 0.2em;position: relative;}#sk-container-id-16 div.sk-item {position: relative;z-index: 1;}#sk-container-id-16 div.sk-parallel {display: flex;align-items: stretch;justify-content: center;background-color: white;position: relative;}#sk-container-id-16 div.sk-item::before, #sk-container-id-16 div.sk-parallel-item::before {content: \"\";position: absolute;border-left: 1px solid gray;box-sizing: border-box;top: 0;bottom: 0;left: 50%;z-index: -1;}#sk-container-id-16 div.sk-parallel-item {display: flex;flex-direction: column;z-index: 1;position: relative;background-color: white;}#sk-container-id-16 div.sk-parallel-item:first-child::after {align-self: flex-end;width: 50%;}#sk-container-id-16 div.sk-parallel-item:last-child::after {align-self: flex-start;width: 50%;}#sk-container-id-16 div.sk-parallel-item:only-child::after {width: 0;}#sk-container-id-16 div.sk-dashed-wrapped {border: 1px dashed gray;margin: 0 0.4em 0.5em 0.4em;box-sizing: border-box;padding-bottom: 0.4em;background-color: white;}#sk-container-id-16 div.sk-label label {font-family: monospace;font-weight: bold;display: inline-block;line-height: 1.2em;}#sk-container-id-16 div.sk-label-container {text-align: center;}#sk-container-id-16 div.sk-container {/* jupyter's `normalize.less` sets `[hidden] { display: none; }` but bootstrap.min.css set `[hidden] { display: none !important; }` so we also need the `!important` here to be able to override the default hidden behavior on the sphinx rendered scikit-learn.org. See: https://github.com/scikit-learn/scikit-learn/issues/21755 */display: inline-block !important;position: relative;}#sk-container-id-16 div.sk-text-repr-fallback {display: none;}</style><div id=\"sk-container-id-16\" class=\"sk-top-container\"><div class=\"sk-text-repr-fallback\"><pre>GradientBoostingClassifier()</pre><b>In a Jupyter environment, please rerun this cell to show the HTML representation or trust the notebook. <br />On GitHub, the HTML representation is unable to render, please try loading this page with nbviewer.org.</b></div><div class=\"sk-container\" hidden><div class=\"sk-item\"><div class=\"sk-estimator sk-toggleable\"><input class=\"sk-toggleable__control sk-hidden--visually\" id=\"sk-estimator-id-16\" type=\"checkbox\" checked><label for=\"sk-estimator-id-16\" class=\"sk-toggleable__label sk-toggleable__label-arrow\">GradientBoostingClassifier</label><div class=\"sk-toggleable__content\"><pre>GradientBoostingClassifier()</pre></div></div></div></div></div>"
      ],
      "text/plain": [
       "GradientBoostingClassifier()"
      ]
     },
     "execution_count": 168,
     "metadata": {},
     "output_type": "execute_result"
    }
   ],
   "source": [
    "# Fit the model on the training data\n",
    "GradBoost_vect.fit(X_train_text, Y_train)\n",
    "\n",
    "# takes 15 minutes"
   ]
  },
  {
   "cell_type": "code",
   "execution_count": 169,
   "id": "111efc3c",
   "metadata": {},
   "outputs": [],
   "source": [
    "# Make predictions on the test data\n",
    "y_pred_GradBoost_vect = GradBoost_vect.predict(X_test_text)\n"
   ]
  },
  {
   "cell_type": "code",
   "execution_count": 170,
   "id": "2e8c838b",
   "metadata": {},
   "outputs": [
    {
     "data": {
      "text/plain": [
       "0.5299145299145299"
      ]
     },
     "execution_count": 170,
     "metadata": {},
     "output_type": "execute_result"
    }
   ],
   "source": [
    "# Evaluate the model\n",
    "accuracy_GradBoost_vect = accuracy_score(y_test, y_pred_GradBoost_vect)\n",
    "accuracy_GradBoost_vect\n",
    "\n",
    "# 0.5299"
   ]
  },
  {
   "cell_type": "code",
   "execution_count": 171,
   "id": "ba0b94c2",
   "metadata": {},
   "outputs": [
    {
     "data": {
      "text/html": [
       "<div>\n",
       "<style scoped>\n",
       "    .dataframe tbody tr th:only-of-type {\n",
       "        vertical-align: middle;\n",
       "    }\n",
       "\n",
       "    .dataframe tbody tr th {\n",
       "        vertical-align: top;\n",
       "    }\n",
       "\n",
       "    .dataframe thead th {\n",
       "        text-align: right;\n",
       "    }\n",
       "</style>\n",
       "<table border=\"1\" class=\"dataframe\">\n",
       "  <thead>\n",
       "    <tr style=\"text-align: right;\">\n",
       "      <th>predict</th>\n",
       "      <th>0.0</th>\n",
       "      <th>1.0</th>\n",
       "    </tr>\n",
       "    <tr>\n",
       "      <th>real</th>\n",
       "      <th></th>\n",
       "      <th></th>\n",
       "    </tr>\n",
       "  </thead>\n",
       "  <tbody>\n",
       "    <tr>\n",
       "      <th>0.0</th>\n",
       "      <td>6756</td>\n",
       "      <td>566</td>\n",
       "    </tr>\n",
       "    <tr>\n",
       "      <th>1.0</th>\n",
       "      <td>2113</td>\n",
       "      <td>3201</td>\n",
       "    </tr>\n",
       "  </tbody>\n",
       "</table>\n",
       "</div>"
      ],
      "text/plain": [
       "predict   0.0   1.0\n",
       "real               \n",
       "0.0      6756   566\n",
       "1.0      2113  3201"
      ]
     },
     "execution_count": 171,
     "metadata": {},
     "output_type": "execute_result"
    }
   ],
   "source": [
    "pd.crosstab(Y_test, y_pred_GradBoost_vect, rownames=[\"real\"], colnames=[\"predict\"])\n"
   ]
  },
  {
   "cell_type": "code",
   "execution_count": 172,
   "id": "04009344",
   "metadata": {},
   "outputs": [
    {
     "name": "stdout",
     "output_type": "stream",
     "text": [
      "GradientBoosting vect classification report:\n",
      "                precision    recall  f1-score   support\n",
      "\n",
      "         0.0       0.76      0.92      0.83      7322\n",
      "         1.0       0.85      0.60      0.70      5314\n",
      "\n",
      "    accuracy                           0.79     12636\n",
      "   macro avg       0.81      0.76      0.77     12636\n",
      "weighted avg       0.80      0.79      0.78     12636\n",
      "\n"
     ]
    }
   ],
   "source": [
    "from sklearn.metrics import classification_report \n",
    "\n",
    "# get classification report\n",
    "print(\"GradientBoosting vect classification report:\\n \", classification_report (Y_test, y_pred_GradBoost_vect))\n"
   ]
  },
  {
   "cell_type": "code",
   "execution_count": 173,
   "id": "b46a39ba",
   "metadata": {},
   "outputs": [
    {
     "name": "stdout",
     "output_type": "stream",
     "text": [
      "[[6756  566]\n",
      " [2113 3201]]\n"
     ]
    }
   ],
   "source": [
    "# create confusion matrix\n",
    "cf_matrix_GradBoost_vect = confusion_matrix(Y_test, y_pred_GradBoost_vect)\n",
    "print(cf_matrix_GradBoost_vect)\n"
   ]
  },
  {
   "cell_type": "code",
   "execution_count": null,
   "id": "9180dc7c",
   "metadata": {},
   "outputs": [],
   "source": []
  },
  {
   "cell_type": "code",
   "execution_count": null,
   "id": "56135e7b",
   "metadata": {},
   "outputs": [],
   "source": []
  },
  {
   "cell_type": "code",
   "execution_count": null,
   "id": "062b96bf",
   "metadata": {},
   "outputs": [],
   "source": []
  },
  {
   "cell_type": "markdown",
   "id": "aed8c270",
   "metadata": {},
   "source": [
    "# CatBoost Model\n",
    "# error\n"
   ]
  },
  {
   "cell_type": "code",
   "execution_count": 187,
   "id": "77d2b4d1",
   "metadata": {},
   "outputs": [],
   "source": [
    "# import catboost as cb\n",
    "# from sklearn.model_selection import train_test_split\n",
    "# from sklearn.metrics import accuracy_score\n",
    "\n",
    "# Create a CatBoost classifier object\n",
    "# catboost_vect = cb.CatBoostClassifier(iterations=5, learning_rate=0.1, depth=6, loss_function='Logloss')\n"
   ]
  },
  {
   "cell_type": "code",
   "execution_count": null,
   "id": "51beabc6",
   "metadata": {},
   "outputs": [],
   "source": [
    "# Fit the model on the training data\n",
    "# catboost_vect.fit(X_train_text, Y_train)\n",
    "\n",
    "# creates error :-("
   ]
  },
  {
   "cell_type": "code",
   "execution_count": null,
   "id": "2a494a40",
   "metadata": {},
   "outputs": [],
   "source": [
    "# get accuracy\n",
    "# accuracy_CatBoost_vect = catboost_vect.score(X_test_text, Y_test)\n",
    "# accuracy_CatBoost_vect\n"
   ]
  },
  {
   "cell_type": "code",
   "execution_count": null,
   "id": "318500bf",
   "metadata": {},
   "outputs": [],
   "source": [
    "# Make predictions on the test data\n",
    "# y_pred_catboost_vect = catboost_vect.predict(X_test_text)\n"
   ]
  },
  {
   "cell_type": "code",
   "execution_count": null,
   "id": "d6688f77",
   "metadata": {},
   "outputs": [],
   "source": [
    "# Get crosstab\n",
    "# pd.crosstab(Y_test, y_pred_catboost_vect, rownames=[\"real\"], colnames=[\"predict\"])\n"
   ]
  },
  {
   "cell_type": "code",
   "execution_count": null,
   "id": "d907b9d1",
   "metadata": {},
   "outputs": [],
   "source": [
    "# from sklearn.metrics import classification_report \n",
    "\n",
    "# get classification report\n",
    "# print(\"CatBoost vect classification report:\\n \", classification_report (Y_test, y_pred_catboost_vect))\n"
   ]
  },
  {
   "cell_type": "code",
   "execution_count": null,
   "id": "578aab09",
   "metadata": {},
   "outputs": [],
   "source": []
  },
  {
   "cell_type": "code",
   "execution_count": null,
   "id": "5ff9b370",
   "metadata": {},
   "outputs": [],
   "source": []
  },
  {
   "cell_type": "code",
   "execution_count": null,
   "id": "50db598c",
   "metadata": {},
   "outputs": [],
   "source": []
  },
  {
   "cell_type": "markdown",
   "id": "9dabe1c1",
   "metadata": {},
   "source": [
    "# XGBoost"
   ]
  },
  {
   "cell_type": "code",
   "execution_count": 174,
   "id": "22c28810",
   "metadata": {},
   "outputs": [],
   "source": [
    "import xgboost as xgb\n",
    "from sklearn.model_selection import train_test_split\n",
    "from sklearn.metrics import accuracy_score\n",
    "\n",
    "# Create a DMatrix for training and testing data\n",
    "dtrain_vect = xgb.DMatrix(X_train_text, label=Y_train)\n",
    "dtest_vect = xgb.DMatrix(X_test_text, label=Y_test)\n"
   ]
  },
  {
   "cell_type": "code",
   "execution_count": 175,
   "id": "cff90e0c",
   "metadata": {},
   "outputs": [],
   "source": [
    "# Set the hyperparameters for XGBoost\n",
    "params_XGBoost = {\n",
    "    'max_depth': 3,\n",
    "    'eta': 0.1,\n",
    "    'objective': 'binary:logistic',\n",
    "    'eval_metric': 'logloss'\n",
    "}\n"
   ]
  },
  {
   "cell_type": "code",
   "execution_count": 176,
   "id": "42eb26b3",
   "metadata": {},
   "outputs": [],
   "source": [
    "# Train the model\n",
    "XGBoostmodel_vect = xgb.train(params_XGBoost, dtrain_vect, num_boost_round=100)\n",
    "\n",
    "# takes 3 minutes\n"
   ]
  },
  {
   "cell_type": "code",
   "execution_count": 177,
   "id": "9522d9d9",
   "metadata": {},
   "outputs": [],
   "source": [
    "# Make predictions on the test data\n",
    "y_pred_XGBoost_vect = XGBoostmodel_vect.predict(dtest_vect)\n",
    "y_pred_binary_vect = [1 if pred >= 0.5 else 0 for pred in y_pred_XGBoost_vect]\n"
   ]
  },
  {
   "cell_type": "code",
   "execution_count": 178,
   "id": "d8bdf4b4",
   "metadata": {},
   "outputs": [
    {
     "data": {
      "text/plain": [
       "0.7860873694207028"
      ]
     },
     "execution_count": 178,
     "metadata": {},
     "output_type": "execute_result"
    }
   ],
   "source": [
    "# Evaluate the model\n",
    "accuracy_XGBoost_vect = accuracy_score(Y_test, y_pred_binary_vect)\n",
    "accuracy_XGBoost_vect\n",
    "\n",
    "# 0.786"
   ]
  },
  {
   "cell_type": "code",
   "execution_count": 179,
   "id": "d49da1fe",
   "metadata": {},
   "outputs": [
    {
     "data": {
      "text/html": [
       "<div>\n",
       "<style scoped>\n",
       "    .dataframe tbody tr th:only-of-type {\n",
       "        vertical-align: middle;\n",
       "    }\n",
       "\n",
       "    .dataframe tbody tr th {\n",
       "        vertical-align: top;\n",
       "    }\n",
       "\n",
       "    .dataframe thead th {\n",
       "        text-align: right;\n",
       "    }\n",
       "</style>\n",
       "<table border=\"1\" class=\"dataframe\">\n",
       "  <thead>\n",
       "    <tr style=\"text-align: right;\">\n",
       "      <th>predict</th>\n",
       "      <th>0.043790</th>\n",
       "      <th>0.048898</th>\n",
       "      <th>0.049976</th>\n",
       "      <th>0.050148</th>\n",
       "      <th>0.051230</th>\n",
       "      <th>0.052027</th>\n",
       "      <th>0.052880</th>\n",
       "      <th>0.052905</th>\n",
       "      <th>0.055705</th>\n",
       "      <th>0.055873</th>\n",
       "      <th>...</th>\n",
       "      <th>0.978782</th>\n",
       "      <th>0.980353</th>\n",
       "      <th>0.981326</th>\n",
       "      <th>0.983063</th>\n",
       "      <th>0.985419</th>\n",
       "      <th>0.985583</th>\n",
       "      <th>0.985796</th>\n",
       "      <th>0.986320</th>\n",
       "      <th>0.988030</th>\n",
       "      <th>0.988601</th>\n",
       "    </tr>\n",
       "    <tr>\n",
       "      <th>real</th>\n",
       "      <th></th>\n",
       "      <th></th>\n",
       "      <th></th>\n",
       "      <th></th>\n",
       "      <th></th>\n",
       "      <th></th>\n",
       "      <th></th>\n",
       "      <th></th>\n",
       "      <th></th>\n",
       "      <th></th>\n",
       "      <th></th>\n",
       "      <th></th>\n",
       "      <th></th>\n",
       "      <th></th>\n",
       "      <th></th>\n",
       "      <th></th>\n",
       "      <th></th>\n",
       "      <th></th>\n",
       "      <th></th>\n",
       "      <th></th>\n",
       "      <th></th>\n",
       "    </tr>\n",
       "  </thead>\n",
       "  <tbody>\n",
       "    <tr>\n",
       "      <th>0.0</th>\n",
       "      <td>1</td>\n",
       "      <td>1</td>\n",
       "      <td>1</td>\n",
       "      <td>1</td>\n",
       "      <td>1</td>\n",
       "      <td>1</td>\n",
       "      <td>1</td>\n",
       "      <td>1</td>\n",
       "      <td>1</td>\n",
       "      <td>1</td>\n",
       "      <td>...</td>\n",
       "      <td>0</td>\n",
       "      <td>0</td>\n",
       "      <td>0</td>\n",
       "      <td>0</td>\n",
       "      <td>0</td>\n",
       "      <td>0</td>\n",
       "      <td>0</td>\n",
       "      <td>0</td>\n",
       "      <td>0</td>\n",
       "      <td>0</td>\n",
       "    </tr>\n",
       "    <tr>\n",
       "      <th>1.0</th>\n",
       "      <td>0</td>\n",
       "      <td>0</td>\n",
       "      <td>0</td>\n",
       "      <td>0</td>\n",
       "      <td>0</td>\n",
       "      <td>0</td>\n",
       "      <td>0</td>\n",
       "      <td>0</td>\n",
       "      <td>0</td>\n",
       "      <td>0</td>\n",
       "      <td>...</td>\n",
       "      <td>1</td>\n",
       "      <td>1</td>\n",
       "      <td>1</td>\n",
       "      <td>1</td>\n",
       "      <td>1</td>\n",
       "      <td>1</td>\n",
       "      <td>1</td>\n",
       "      <td>1</td>\n",
       "      <td>1</td>\n",
       "      <td>1</td>\n",
       "    </tr>\n",
       "  </tbody>\n",
       "</table>\n",
       "<p>2 rows × 11222 columns</p>\n",
       "</div>"
      ],
      "text/plain": [
       "predict  0.043790  0.048898  0.049976  0.050148  0.051230  0.052027  0.052880  \\\n",
       "real                                                                            \n",
       "0.0             1         1         1         1         1         1         1   \n",
       "1.0             0         0         0         0         0         0         0   \n",
       "\n",
       "predict  0.052905  0.055705  0.055873  ...  0.978782  0.980353  0.981326  \\\n",
       "real                                   ...                                 \n",
       "0.0             1         1         1  ...         0         0         0   \n",
       "1.0             0         0         0  ...         1         1         1   \n",
       "\n",
       "predict  0.983063  0.985419  0.985583  0.985796  0.986320  0.988030  0.988601  \n",
       "real                                                                           \n",
       "0.0             0         0         0         0         0         0         0  \n",
       "1.0             1         1         1         1         1         1         1  \n",
       "\n",
       "[2 rows x 11222 columns]"
      ]
     },
     "execution_count": 179,
     "metadata": {},
     "output_type": "execute_result"
    }
   ],
   "source": [
    "# Create crosstab\n",
    "pd.crosstab(Y_test, y_pred_XGBoost_vect, rownames=[\"real\"], colnames=[\"predict\"])\n"
   ]
  },
  {
   "cell_type": "code",
   "execution_count": null,
   "id": "88c0c606",
   "metadata": {},
   "outputs": [],
   "source": [
    "# from sklearn.metrics import classification_report \n",
    "\n",
    "# get classification report\n",
    "# print(\"XGBoost vect classification report:\\n \", classification_report (y_test, y_pred_XGBoost))\n",
    "\n",
    "# not possible"
   ]
  },
  {
   "cell_type": "code",
   "execution_count": null,
   "id": "b2e9d1cd",
   "metadata": {},
   "outputs": [],
   "source": []
  },
  {
   "cell_type": "code",
   "execution_count": null,
   "id": "31a27a33",
   "metadata": {},
   "outputs": [],
   "source": []
  },
  {
   "cell_type": "code",
   "execution_count": null,
   "id": "908f00c8",
   "metadata": {},
   "outputs": [],
   "source": []
  },
  {
   "cell_type": "markdown",
   "id": "2279b5e3",
   "metadata": {},
   "source": [
    "# CREATE KNN ON TEXT DATA\n",
    "# TAKES LONG!\n"
   ]
  },
  {
   "cell_type": "code",
   "execution_count": 170,
   "id": "ccc7e760",
   "metadata": {},
   "outputs": [],
   "source": [
    "# STEP 3: Instantiate the model\n",
    "# from sklearn.neighbors import KNeighborsClassifier\n",
    "\n",
    "# knn = KNeighborsClassifier(n_neighbors = 6)\n"
   ]
  },
  {
   "cell_type": "code",
   "execution_count": 171,
   "id": "44780164",
   "metadata": {},
   "outputs": [
    {
     "data": {
      "text/html": [
       "<style>#sk-container-id-14 {color: black;background-color: white;}#sk-container-id-14 pre{padding: 0;}#sk-container-id-14 div.sk-toggleable {background-color: white;}#sk-container-id-14 label.sk-toggleable__label {cursor: pointer;display: block;width: 100%;margin-bottom: 0;padding: 0.3em;box-sizing: border-box;text-align: center;}#sk-container-id-14 label.sk-toggleable__label-arrow:before {content: \"▸\";float: left;margin-right: 0.25em;color: #696969;}#sk-container-id-14 label.sk-toggleable__label-arrow:hover:before {color: black;}#sk-container-id-14 div.sk-estimator:hover label.sk-toggleable__label-arrow:before {color: black;}#sk-container-id-14 div.sk-toggleable__content {max-height: 0;max-width: 0;overflow: hidden;text-align: left;background-color: #f0f8ff;}#sk-container-id-14 div.sk-toggleable__content pre {margin: 0.2em;color: black;border-radius: 0.25em;background-color: #f0f8ff;}#sk-container-id-14 input.sk-toggleable__control:checked~div.sk-toggleable__content {max-height: 200px;max-width: 100%;overflow: auto;}#sk-container-id-14 input.sk-toggleable__control:checked~label.sk-toggleable__label-arrow:before {content: \"▾\";}#sk-container-id-14 div.sk-estimator input.sk-toggleable__control:checked~label.sk-toggleable__label {background-color: #d4ebff;}#sk-container-id-14 div.sk-label input.sk-toggleable__control:checked~label.sk-toggleable__label {background-color: #d4ebff;}#sk-container-id-14 input.sk-hidden--visually {border: 0;clip: rect(1px 1px 1px 1px);clip: rect(1px, 1px, 1px, 1px);height: 1px;margin: -1px;overflow: hidden;padding: 0;position: absolute;width: 1px;}#sk-container-id-14 div.sk-estimator {font-family: monospace;background-color: #f0f8ff;border: 1px dotted black;border-radius: 0.25em;box-sizing: border-box;margin-bottom: 0.5em;}#sk-container-id-14 div.sk-estimator:hover {background-color: #d4ebff;}#sk-container-id-14 div.sk-parallel-item::after {content: \"\";width: 100%;border-bottom: 1px solid gray;flex-grow: 1;}#sk-container-id-14 div.sk-label:hover label.sk-toggleable__label {background-color: #d4ebff;}#sk-container-id-14 div.sk-serial::before {content: \"\";position: absolute;border-left: 1px solid gray;box-sizing: border-box;top: 0;bottom: 0;left: 50%;z-index: 0;}#sk-container-id-14 div.sk-serial {display: flex;flex-direction: column;align-items: center;background-color: white;padding-right: 0.2em;padding-left: 0.2em;position: relative;}#sk-container-id-14 div.sk-item {position: relative;z-index: 1;}#sk-container-id-14 div.sk-parallel {display: flex;align-items: stretch;justify-content: center;background-color: white;position: relative;}#sk-container-id-14 div.sk-item::before, #sk-container-id-14 div.sk-parallel-item::before {content: \"\";position: absolute;border-left: 1px solid gray;box-sizing: border-box;top: 0;bottom: 0;left: 50%;z-index: -1;}#sk-container-id-14 div.sk-parallel-item {display: flex;flex-direction: column;z-index: 1;position: relative;background-color: white;}#sk-container-id-14 div.sk-parallel-item:first-child::after {align-self: flex-end;width: 50%;}#sk-container-id-14 div.sk-parallel-item:last-child::after {align-self: flex-start;width: 50%;}#sk-container-id-14 div.sk-parallel-item:only-child::after {width: 0;}#sk-container-id-14 div.sk-dashed-wrapped {border: 1px dashed gray;margin: 0 0.4em 0.5em 0.4em;box-sizing: border-box;padding-bottom: 0.4em;background-color: white;}#sk-container-id-14 div.sk-label label {font-family: monospace;font-weight: bold;display: inline-block;line-height: 1.2em;}#sk-container-id-14 div.sk-label-container {text-align: center;}#sk-container-id-14 div.sk-container {/* jupyter's `normalize.less` sets `[hidden] { display: none; }` but bootstrap.min.css set `[hidden] { display: none !important; }` so we also need the `!important` here to be able to override the default hidden behavior on the sphinx rendered scikit-learn.org. See: https://github.com/scikit-learn/scikit-learn/issues/21755 */display: inline-block !important;position: relative;}#sk-container-id-14 div.sk-text-repr-fallback {display: none;}</style><div id=\"sk-container-id-14\" class=\"sk-top-container\"><div class=\"sk-text-repr-fallback\"><pre>KNeighborsClassifier(n_neighbors=6)</pre><b>In a Jupyter environment, please rerun this cell to show the HTML representation or trust the notebook. <br />On GitHub, the HTML representation is unable to render, please try loading this page with nbviewer.org.</b></div><div class=\"sk-container\" hidden><div class=\"sk-item\"><div class=\"sk-estimator sk-toggleable\"><input class=\"sk-toggleable__control sk-hidden--visually\" id=\"sk-estimator-id-14\" type=\"checkbox\" checked><label for=\"sk-estimator-id-14\" class=\"sk-toggleable__label sk-toggleable__label-arrow\">KNeighborsClassifier</label><div class=\"sk-toggleable__content\"><pre>KNeighborsClassifier(n_neighbors=6)</pre></div></div></div></div></div>"
      ],
      "text/plain": [
       "KNeighborsClassifier(n_neighbors=6)"
      ]
     },
     "execution_count": 171,
     "metadata": {},
     "output_type": "execute_result"
    }
   ],
   "source": [
    "# STEP 4: Fit the model\n",
    "# knn.fit(X_train_text, Y_train)\n"
   ]
  },
  {
   "cell_type": "code",
   "execution_count": null,
   "id": "52591574",
   "metadata": {},
   "outputs": [],
   "source": [
    "# STEP 5: Predict\n",
    "# y_pred_knn_vect = knn.predict(X_test_text)\n",
    "# y_pred_knn_vect\n",
    "\n",
    "# takes XXX minutes\n"
   ]
  },
  {
   "cell_type": "code",
   "execution_count": null,
   "id": "10625087",
   "metadata": {},
   "outputs": [],
   "source": [
    "# Evaluate\n",
    "# from sklearn.metrics import accuracy_score, precision_score, recall_score \n",
    "\n",
    "# pd.crosstab(Y_test, y_pred_knn_vect, rownames = ['Reality'], colnames = ['Prediction'])\n",
    "\n"
   ]
  },
  {
   "cell_type": "code",
   "execution_count": null,
   "id": "95ea8af6",
   "metadata": {},
   "outputs": [],
   "source": [
    "# STEP 8: Evaluate model with score\n",
    "# get accuracy\n",
    "# knn.score(X_test_text_scaled, Y_test)\n"
   ]
  },
  {
   "cell_type": "code",
   "execution_count": null,
   "id": "1068656f",
   "metadata": {},
   "outputs": [],
   "source": [
    "# STEP 9: Evaluate model with classification report\n",
    "# from sklearn.metrics import classification_report \n",
    "\n",
    "# print(\"KNN vect classification report:\\n\", classification_report (Y_test, y_pred_knn_vect))\n"
   ]
  },
  {
   "cell_type": "code",
   "execution_count": null,
   "id": "4696b9b2",
   "metadata": {},
   "outputs": [],
   "source": []
  },
  {
   "cell_type": "code",
   "execution_count": null,
   "id": "9371139d",
   "metadata": {},
   "outputs": [],
   "source": []
  },
  {
   "cell_type": "code",
   "execution_count": null,
   "id": "6839ce17",
   "metadata": {},
   "outputs": [],
   "source": []
  },
  {
   "cell_type": "markdown",
   "id": "b71af495",
   "metadata": {},
   "source": [
    "# CREATE SVM MODEL ON TEXT DATA\n",
    "# TAKES 3,5 HOURS\n"
   ]
  },
  {
   "cell_type": "code",
   "execution_count": 220,
   "id": "c9632edd",
   "metadata": {},
   "outputs": [],
   "source": [
    "# Step 3: Instantiate model \n",
    "# from sklearn import svm\n",
    "# clf_SVM_vect = svm.SVC(gamma=0.01, kernel=\"poly\")\n"
   ]
  },
  {
   "cell_type": "code",
   "execution_count": 221,
   "id": "acc686f5",
   "metadata": {},
   "outputs": [
    {
     "data": {
      "text/html": [
       "<style>#sk-container-id-21 {color: black;background-color: white;}#sk-container-id-21 pre{padding: 0;}#sk-container-id-21 div.sk-toggleable {background-color: white;}#sk-container-id-21 label.sk-toggleable__label {cursor: pointer;display: block;width: 100%;margin-bottom: 0;padding: 0.3em;box-sizing: border-box;text-align: center;}#sk-container-id-21 label.sk-toggleable__label-arrow:before {content: \"▸\";float: left;margin-right: 0.25em;color: #696969;}#sk-container-id-21 label.sk-toggleable__label-arrow:hover:before {color: black;}#sk-container-id-21 div.sk-estimator:hover label.sk-toggleable__label-arrow:before {color: black;}#sk-container-id-21 div.sk-toggleable__content {max-height: 0;max-width: 0;overflow: hidden;text-align: left;background-color: #f0f8ff;}#sk-container-id-21 div.sk-toggleable__content pre {margin: 0.2em;color: black;border-radius: 0.25em;background-color: #f0f8ff;}#sk-container-id-21 input.sk-toggleable__control:checked~div.sk-toggleable__content {max-height: 200px;max-width: 100%;overflow: auto;}#sk-container-id-21 input.sk-toggleable__control:checked~label.sk-toggleable__label-arrow:before {content: \"▾\";}#sk-container-id-21 div.sk-estimator input.sk-toggleable__control:checked~label.sk-toggleable__label {background-color: #d4ebff;}#sk-container-id-21 div.sk-label input.sk-toggleable__control:checked~label.sk-toggleable__label {background-color: #d4ebff;}#sk-container-id-21 input.sk-hidden--visually {border: 0;clip: rect(1px 1px 1px 1px);clip: rect(1px, 1px, 1px, 1px);height: 1px;margin: -1px;overflow: hidden;padding: 0;position: absolute;width: 1px;}#sk-container-id-21 div.sk-estimator {font-family: monospace;background-color: #f0f8ff;border: 1px dotted black;border-radius: 0.25em;box-sizing: border-box;margin-bottom: 0.5em;}#sk-container-id-21 div.sk-estimator:hover {background-color: #d4ebff;}#sk-container-id-21 div.sk-parallel-item::after {content: \"\";width: 100%;border-bottom: 1px solid gray;flex-grow: 1;}#sk-container-id-21 div.sk-label:hover label.sk-toggleable__label {background-color: #d4ebff;}#sk-container-id-21 div.sk-serial::before {content: \"\";position: absolute;border-left: 1px solid gray;box-sizing: border-box;top: 0;bottom: 0;left: 50%;z-index: 0;}#sk-container-id-21 div.sk-serial {display: flex;flex-direction: column;align-items: center;background-color: white;padding-right: 0.2em;padding-left: 0.2em;position: relative;}#sk-container-id-21 div.sk-item {position: relative;z-index: 1;}#sk-container-id-21 div.sk-parallel {display: flex;align-items: stretch;justify-content: center;background-color: white;position: relative;}#sk-container-id-21 div.sk-item::before, #sk-container-id-21 div.sk-parallel-item::before {content: \"\";position: absolute;border-left: 1px solid gray;box-sizing: border-box;top: 0;bottom: 0;left: 50%;z-index: -1;}#sk-container-id-21 div.sk-parallel-item {display: flex;flex-direction: column;z-index: 1;position: relative;background-color: white;}#sk-container-id-21 div.sk-parallel-item:first-child::after {align-self: flex-end;width: 50%;}#sk-container-id-21 div.sk-parallel-item:last-child::after {align-self: flex-start;width: 50%;}#sk-container-id-21 div.sk-parallel-item:only-child::after {width: 0;}#sk-container-id-21 div.sk-dashed-wrapped {border: 1px dashed gray;margin: 0 0.4em 0.5em 0.4em;box-sizing: border-box;padding-bottom: 0.4em;background-color: white;}#sk-container-id-21 div.sk-label label {font-family: monospace;font-weight: bold;display: inline-block;line-height: 1.2em;}#sk-container-id-21 div.sk-label-container {text-align: center;}#sk-container-id-21 div.sk-container {/* jupyter's `normalize.less` sets `[hidden] { display: none; }` but bootstrap.min.css set `[hidden] { display: none !important; }` so we also need the `!important` here to be able to override the default hidden behavior on the sphinx rendered scikit-learn.org. See: https://github.com/scikit-learn/scikit-learn/issues/21755 */display: inline-block !important;position: relative;}#sk-container-id-21 div.sk-text-repr-fallback {display: none;}</style><div id=\"sk-container-id-21\" class=\"sk-top-container\"><div class=\"sk-text-repr-fallback\"><pre>SVC(gamma=0.01, kernel=&#x27;poly&#x27;)</pre><b>In a Jupyter environment, please rerun this cell to show the HTML representation or trust the notebook. <br />On GitHub, the HTML representation is unable to render, please try loading this page with nbviewer.org.</b></div><div class=\"sk-container\" hidden><div class=\"sk-item\"><div class=\"sk-estimator sk-toggleable\"><input class=\"sk-toggleable__control sk-hidden--visually\" id=\"sk-estimator-id-21\" type=\"checkbox\" checked><label for=\"sk-estimator-id-21\" class=\"sk-toggleable__label sk-toggleable__label-arrow\">SVC</label><div class=\"sk-toggleable__content\"><pre>SVC(gamma=0.01, kernel=&#x27;poly&#x27;)</pre></div></div></div></div></div>"
      ],
      "text/plain": [
       "SVC(gamma=0.01, kernel='poly')"
      ]
     },
     "execution_count": 221,
     "metadata": {},
     "output_type": "execute_result"
    }
   ],
   "source": [
    "# Step 4: Fit the model on the training dataset\n",
    "# clf_SVM_vect.fit(X_train_text, Y_train)\n",
    "\n",
    "# takes 3,5 hours!!!\n"
   ]
  },
  {
   "cell_type": "code",
   "execution_count": null,
   "id": "59aaf4b7",
   "metadata": {},
   "outputs": [],
   "source": [
    "# get accuracy\n",
    "# SVM_vect_score = clf_SVM_vect.score(X_test_text, Y_test)\n",
    "\n",
    "# takes 45 Minutes\n",
    "\n",
    "# bad result\n"
   ]
  },
  {
   "cell_type": "code",
   "execution_count": 223,
   "id": "5df5c3dd",
   "metadata": {},
   "outputs": [
    {
     "data": {
      "text/html": [
       "<div>\n",
       "<style scoped>\n",
       "    .dataframe tbody tr th:only-of-type {\n",
       "        vertical-align: middle;\n",
       "    }\n",
       "\n",
       "    .dataframe tbody tr th {\n",
       "        vertical-align: top;\n",
       "    }\n",
       "\n",
       "    .dataframe thead th {\n",
       "        text-align: right;\n",
       "    }\n",
       "</style>\n",
       "<table border=\"1\" class=\"dataframe\">\n",
       "  <thead>\n",
       "    <tr style=\"text-align: right;\">\n",
       "      <th>predict</th>\n",
       "      <th>0.0</th>\n",
       "    </tr>\n",
       "    <tr>\n",
       "      <th>real</th>\n",
       "      <th></th>\n",
       "    </tr>\n",
       "  </thead>\n",
       "  <tbody>\n",
       "    <tr>\n",
       "      <th>0.0</th>\n",
       "      <td>7399</td>\n",
       "    </tr>\n",
       "    <tr>\n",
       "      <th>1.0</th>\n",
       "      <td>5262</td>\n",
       "    </tr>\n",
       "    <tr>\n",
       "      <th>2.0</th>\n",
       "      <td>4350</td>\n",
       "    </tr>\n",
       "  </tbody>\n",
       "</table>\n",
       "</div>"
      ],
      "text/plain": [
       "predict   0.0\n",
       "real         \n",
       "0.0      7399\n",
       "1.0      5262\n",
       "2.0      4350"
      ]
     },
     "execution_count": 223,
     "metadata": {},
     "output_type": "execute_result"
    }
   ],
   "source": [
    "# get confusion matrix\n",
    "# y_pred_SVM_vect = clf_SVM_vect.predict(X_test_text)\n",
    "# pd.crosstab(Y_test, y_pred_SVM_vect, rownames=[\"real\"], colnames=[\"predict\"])\n",
    "\n",
    "# dauert 40 Minuten"
   ]
  },
  {
   "cell_type": "code",
   "execution_count": 224,
   "id": "f9f10a8e",
   "metadata": {},
   "outputs": [
    {
     "name": "stdout",
     "output_type": "stream",
     "text": [
      "SVM vect classification report:\n",
      "                precision    recall  f1-score   support\n",
      "\n",
      "         0.0       0.43      1.00      0.61      7399\n",
      "         1.0       0.00      0.00      0.00      5262\n",
      "         2.0       0.00      0.00      0.00      4350\n",
      "\n",
      "    accuracy                           0.43     17011\n",
      "   macro avg       0.14      0.33      0.20     17011\n",
      "weighted avg       0.19      0.43      0.26     17011\n",
      "\n"
     ]
    },
    {
     "name": "stderr",
     "output_type": "stream",
     "text": [
      "C:\\Users\\Nutzer\\anaconda3\\lib\\site-packages\\sklearn\\metrics\\_classification.py:1344: UndefinedMetricWarning: Precision and F-score are ill-defined and being set to 0.0 in labels with no predicted samples. Use `zero_division` parameter to control this behavior.\n",
      "  _warn_prf(average, modifier, msg_start, len(result))\n",
      "C:\\Users\\Nutzer\\anaconda3\\lib\\site-packages\\sklearn\\metrics\\_classification.py:1344: UndefinedMetricWarning: Precision and F-score are ill-defined and being set to 0.0 in labels with no predicted samples. Use `zero_division` parameter to control this behavior.\n",
      "  _warn_prf(average, modifier, msg_start, len(result))\n",
      "C:\\Users\\Nutzer\\anaconda3\\lib\\site-packages\\sklearn\\metrics\\_classification.py:1344: UndefinedMetricWarning: Precision and F-score are ill-defined and being set to 0.0 in labels with no predicted samples. Use `zero_division` parameter to control this behavior.\n",
      "  _warn_prf(average, modifier, msg_start, len(result))\n"
     ]
    }
   ],
   "source": [
    "# from sklearn.metrics import classification_report \n",
    "\n",
    "# get classification report\n",
    "# print(\"SVM vect classification report:\\n \", classification_report (Y_test, y_pred_SVM_vect))\n"
   ]
  },
  {
   "cell_type": "code",
   "execution_count": 225,
   "id": "25689c0e",
   "metadata": {},
   "outputs": [
    {
     "name": "stdout",
     "output_type": "stream",
     "text": [
      "[[7399    0    0]\n",
      " [5262    0    0]\n",
      " [4350    0    0]]\n"
     ]
    }
   ],
   "source": [
    "# create confusion matrix\n",
    "# cf_matrix_SVM_vect = confusion_matrix(Y_test, y_pred_SVM_vect)\n",
    "# print(cf_matrix_SVM_vect)\n"
   ]
  },
  {
   "cell_type": "code",
   "execution_count": null,
   "id": "864a63e9",
   "metadata": {},
   "outputs": [],
   "source": []
  },
  {
   "cell_type": "code",
   "execution_count": null,
   "id": "021615df",
   "metadata": {},
   "outputs": [],
   "source": []
  },
  {
   "cell_type": "code",
   "execution_count": null,
   "id": "338f87df",
   "metadata": {},
   "outputs": [],
   "source": []
  },
  {
   "cell_type": "markdown",
   "id": "f4050b29",
   "metadata": {},
   "source": [
    "# CREATE LOGISTIC REGRESION MODEL ON TEXT DATA\n"
   ]
  },
  {
   "cell_type": "code",
   "execution_count": 180,
   "id": "de321c53",
   "metadata": {},
   "outputs": [],
   "source": [
    "# Step 3: Instantiate model \n",
    "from sklearn.linear_model import LogisticRegression\n",
    "\n",
    "clf_LogReg_vect = LogisticRegression(C=1.0)\n"
   ]
  },
  {
   "cell_type": "code",
   "execution_count": 181,
   "id": "0b263a24",
   "metadata": {},
   "outputs": [
    {
     "name": "stderr",
     "output_type": "stream",
     "text": [
      "C:\\Users\\Nutzer\\anaconda3\\lib\\site-packages\\sklearn\\linear_model\\_logistic.py:458: ConvergenceWarning: lbfgs failed to converge (status=1):\n",
      "STOP: TOTAL NO. of ITERATIONS REACHED LIMIT.\n",
      "\n",
      "Increase the number of iterations (max_iter) or scale the data as shown in:\n",
      "    https://scikit-learn.org/stable/modules/preprocessing.html\n",
      "Please also refer to the documentation for alternative solver options:\n",
      "    https://scikit-learn.org/stable/modules/linear_model.html#logistic-regression\n",
      "  n_iter_i = _check_optimize_result(\n"
     ]
    },
    {
     "data": {
      "text/html": [
       "<style>#sk-container-id-17 {color: black;background-color: white;}#sk-container-id-17 pre{padding: 0;}#sk-container-id-17 div.sk-toggleable {background-color: white;}#sk-container-id-17 label.sk-toggleable__label {cursor: pointer;display: block;width: 100%;margin-bottom: 0;padding: 0.3em;box-sizing: border-box;text-align: center;}#sk-container-id-17 label.sk-toggleable__label-arrow:before {content: \"▸\";float: left;margin-right: 0.25em;color: #696969;}#sk-container-id-17 label.sk-toggleable__label-arrow:hover:before {color: black;}#sk-container-id-17 div.sk-estimator:hover label.sk-toggleable__label-arrow:before {color: black;}#sk-container-id-17 div.sk-toggleable__content {max-height: 0;max-width: 0;overflow: hidden;text-align: left;background-color: #f0f8ff;}#sk-container-id-17 div.sk-toggleable__content pre {margin: 0.2em;color: black;border-radius: 0.25em;background-color: #f0f8ff;}#sk-container-id-17 input.sk-toggleable__control:checked~div.sk-toggleable__content {max-height: 200px;max-width: 100%;overflow: auto;}#sk-container-id-17 input.sk-toggleable__control:checked~label.sk-toggleable__label-arrow:before {content: \"▾\";}#sk-container-id-17 div.sk-estimator input.sk-toggleable__control:checked~label.sk-toggleable__label {background-color: #d4ebff;}#sk-container-id-17 div.sk-label input.sk-toggleable__control:checked~label.sk-toggleable__label {background-color: #d4ebff;}#sk-container-id-17 input.sk-hidden--visually {border: 0;clip: rect(1px 1px 1px 1px);clip: rect(1px, 1px, 1px, 1px);height: 1px;margin: -1px;overflow: hidden;padding: 0;position: absolute;width: 1px;}#sk-container-id-17 div.sk-estimator {font-family: monospace;background-color: #f0f8ff;border: 1px dotted black;border-radius: 0.25em;box-sizing: border-box;margin-bottom: 0.5em;}#sk-container-id-17 div.sk-estimator:hover {background-color: #d4ebff;}#sk-container-id-17 div.sk-parallel-item::after {content: \"\";width: 100%;border-bottom: 1px solid gray;flex-grow: 1;}#sk-container-id-17 div.sk-label:hover label.sk-toggleable__label {background-color: #d4ebff;}#sk-container-id-17 div.sk-serial::before {content: \"\";position: absolute;border-left: 1px solid gray;box-sizing: border-box;top: 0;bottom: 0;left: 50%;z-index: 0;}#sk-container-id-17 div.sk-serial {display: flex;flex-direction: column;align-items: center;background-color: white;padding-right: 0.2em;padding-left: 0.2em;position: relative;}#sk-container-id-17 div.sk-item {position: relative;z-index: 1;}#sk-container-id-17 div.sk-parallel {display: flex;align-items: stretch;justify-content: center;background-color: white;position: relative;}#sk-container-id-17 div.sk-item::before, #sk-container-id-17 div.sk-parallel-item::before {content: \"\";position: absolute;border-left: 1px solid gray;box-sizing: border-box;top: 0;bottom: 0;left: 50%;z-index: -1;}#sk-container-id-17 div.sk-parallel-item {display: flex;flex-direction: column;z-index: 1;position: relative;background-color: white;}#sk-container-id-17 div.sk-parallel-item:first-child::after {align-self: flex-end;width: 50%;}#sk-container-id-17 div.sk-parallel-item:last-child::after {align-self: flex-start;width: 50%;}#sk-container-id-17 div.sk-parallel-item:only-child::after {width: 0;}#sk-container-id-17 div.sk-dashed-wrapped {border: 1px dashed gray;margin: 0 0.4em 0.5em 0.4em;box-sizing: border-box;padding-bottom: 0.4em;background-color: white;}#sk-container-id-17 div.sk-label label {font-family: monospace;font-weight: bold;display: inline-block;line-height: 1.2em;}#sk-container-id-17 div.sk-label-container {text-align: center;}#sk-container-id-17 div.sk-container {/* jupyter's `normalize.less` sets `[hidden] { display: none; }` but bootstrap.min.css set `[hidden] { display: none !important; }` so we also need the `!important` here to be able to override the default hidden behavior on the sphinx rendered scikit-learn.org. See: https://github.com/scikit-learn/scikit-learn/issues/21755 */display: inline-block !important;position: relative;}#sk-container-id-17 div.sk-text-repr-fallback {display: none;}</style><div id=\"sk-container-id-17\" class=\"sk-top-container\"><div class=\"sk-text-repr-fallback\"><pre>LogisticRegression()</pre><b>In a Jupyter environment, please rerun this cell to show the HTML representation or trust the notebook. <br />On GitHub, the HTML representation is unable to render, please try loading this page with nbviewer.org.</b></div><div class=\"sk-container\" hidden><div class=\"sk-item\"><div class=\"sk-estimator sk-toggleable\"><input class=\"sk-toggleable__control sk-hidden--visually\" id=\"sk-estimator-id-17\" type=\"checkbox\" checked><label for=\"sk-estimator-id-17\" class=\"sk-toggleable__label sk-toggleable__label-arrow\">LogisticRegression</label><div class=\"sk-toggleable__content\"><pre>LogisticRegression()</pre></div></div></div></div></div>"
      ],
      "text/plain": [
       "LogisticRegression()"
      ]
     },
     "execution_count": 181,
     "metadata": {},
     "output_type": "execute_result"
    }
   ],
   "source": [
    "# Step 4: Fit the model on the training dataset\n",
    "clf_LogReg_vect.fit(X_train_text, Y_train)\n",
    "\n",
    "# takes 1 minute"
   ]
  },
  {
   "cell_type": "code",
   "execution_count": 182,
   "id": "94671ec7",
   "metadata": {},
   "outputs": [
    {
     "data": {
      "text/plain": [
       "0.8408515352959798"
      ]
     },
     "execution_count": 182,
     "metadata": {},
     "output_type": "execute_result"
    }
   ],
   "source": [
    "# get accuracy\n",
    "accuracy_logReg_vect = clf_LogReg_vect.score(X_test_text, Y_test)\n",
    "accuracy_logReg_vect\n",
    "\n",
    "# 0.84\n"
   ]
  },
  {
   "cell_type": "code",
   "execution_count": 183,
   "id": "89438357",
   "metadata": {},
   "outputs": [
    {
     "data": {
      "text/html": [
       "<div>\n",
       "<style scoped>\n",
       "    .dataframe tbody tr th:only-of-type {\n",
       "        vertical-align: middle;\n",
       "    }\n",
       "\n",
       "    .dataframe tbody tr th {\n",
       "        vertical-align: top;\n",
       "    }\n",
       "\n",
       "    .dataframe thead th {\n",
       "        text-align: right;\n",
       "    }\n",
       "</style>\n",
       "<table border=\"1\" class=\"dataframe\">\n",
       "  <thead>\n",
       "    <tr style=\"text-align: right;\">\n",
       "      <th>predict</th>\n",
       "      <th>0.0</th>\n",
       "      <th>1.0</th>\n",
       "    </tr>\n",
       "    <tr>\n",
       "      <th>real</th>\n",
       "      <th></th>\n",
       "      <th></th>\n",
       "    </tr>\n",
       "  </thead>\n",
       "  <tbody>\n",
       "    <tr>\n",
       "      <th>0.0</th>\n",
       "      <td>6472</td>\n",
       "      <td>850</td>\n",
       "    </tr>\n",
       "    <tr>\n",
       "      <th>1.0</th>\n",
       "      <td>1161</td>\n",
       "      <td>4153</td>\n",
       "    </tr>\n",
       "  </tbody>\n",
       "</table>\n",
       "</div>"
      ],
      "text/plain": [
       "predict   0.0   1.0\n",
       "real               \n",
       "0.0      6472   850\n",
       "1.0      1161  4153"
      ]
     },
     "execution_count": 183,
     "metadata": {},
     "output_type": "execute_result"
    }
   ],
   "source": [
    "# get confusion matrix\n",
    "y_pred_LogReg_vect = clf_LogReg_vect.predict(X_test_text)\n",
    "pd.crosstab(Y_test, y_pred_LogReg_vect, rownames=[\"real\"], colnames=[\"predict\"])\n"
   ]
  },
  {
   "cell_type": "code",
   "execution_count": 184,
   "id": "25a4dc91",
   "metadata": {},
   "outputs": [
    {
     "name": "stdout",
     "output_type": "stream",
     "text": [
      "Logistic Regression vect classification report:\n",
      "                precision    recall  f1-score   support\n",
      "\n",
      "         0.0       0.85      0.88      0.87      7322\n",
      "         1.0       0.83      0.78      0.81      5314\n",
      "\n",
      "    accuracy                           0.84     12636\n",
      "   macro avg       0.84      0.83      0.84     12636\n",
      "weighted avg       0.84      0.84      0.84     12636\n",
      "\n"
     ]
    }
   ],
   "source": [
    "from sklearn.metrics import classification_report \n",
    "\n",
    "# get classification report\n",
    "print(\"Logistic Regression vect classification report:\\n \", classification_report (Y_test, y_pred_LogReg_vect))\n"
   ]
  },
  {
   "cell_type": "code",
   "execution_count": 185,
   "id": "f6d9b3f0",
   "metadata": {},
   "outputs": [
    {
     "name": "stdout",
     "output_type": "stream",
     "text": [
      "[[6472  850]\n",
      " [1161 4153]]\n"
     ]
    }
   ],
   "source": [
    "# create confusion matrix\n",
    "cf_matrix_LogReg_vect = confusion_matrix(Y_test, y_pred_LogReg_vect)\n",
    "print(cf_matrix_LogReg_vect)\n"
   ]
  },
  {
   "cell_type": "code",
   "execution_count": null,
   "id": "511b2519",
   "metadata": {},
   "outputs": [],
   "source": []
  },
  {
   "cell_type": "code",
   "execution_count": null,
   "id": "2b794981",
   "metadata": {},
   "outputs": [],
   "source": []
  },
  {
   "cell_type": "code",
   "execution_count": null,
   "id": "8cfced71",
   "metadata": {},
   "outputs": [],
   "source": []
  },
  {
   "cell_type": "markdown",
   "id": "65ddb601",
   "metadata": {},
   "source": [
    "# COMPARE MODELS ON TEXT DATA ONLY"
   ]
  },
  {
   "cell_type": "code",
   "execution_count": 194,
   "id": "15c6267a",
   "metadata": {},
   "outputs": [
    {
     "name": "stdout",
     "output_type": "stream",
     "text": [
      "LightGBM vect accuracy score : 0.8184552073440963\n",
      "Naive Bayes Bernoulli vect accuracy score : 0.710193099081988\n",
      "Naive Bayes Multinomial vect accuracy score : 0.7406616017727129\n",
      "Naive Bayes Complement vect accuracy score : 0.7610794555239\n",
      "GradientBoosting vect accuracy score : 0.5299145299145299\n",
      "XGBoost vect accuracy score : 0.7860873694207028\n",
      "Logistic Regression vect accuracy score : 0.8408515352959798\n"
     ]
    }
   ],
   "source": [
    "print(\"LightGBM vect accuracy score :\", accuracy_LightGBM_vect)\n",
    "print(\"Naive Bayes Bernoulli vect accuracy score :\", accuracyNB_Bernoulli_vect)\n",
    "print(\"Naive Bayes Multinomial vect accuracy score :\", accuracyNB_Multinomial_vect)\n",
    "print(\"Naive Bayes Complement vect accuracy score :\", accuracyNB_Complement_vect)\n",
    "print(\"GradientBoosting vect accuracy score :\", accuracy_GradBoost_vect)\n",
    "# print(\"CatBoost vect accuracy score :\", accuracy_CatBoost_vect)\n",
    "print(\"XGBoost vect accuracy score :\", accuracy_XGBoost_vect)\n",
    "# print(\"KNN vect accuracy score :\", accuracy_knn_vect)\n",
    "# print(\"SVM vect accuracy score :\", accuracy_SVM_vect)\n",
    "print(\"Logistic Regression vect accuracy score :\", accuracy_logReg_vect)\n"
   ]
  },
  {
   "cell_type": "code",
   "execution_count": 190,
   "id": "6de5788b",
   "metadata": {},
   "outputs": [],
   "source": [
    "#Creating the Dictionary with model name as key adn accuracy as key-value\n",
    "labels_vect  = {'LightGBM vect':accuracy_LightGBM_vect,'Naive Bayes Bernoulli vect':accuracyNB_Bernoulli_vect,\n",
    "        'Naive Bayes Multinomial vect':accuracyNB_Multinomial_vect,\n",
    "        'Naive Bayes Complement vect':accuracyNB_Complement_vect,\n",
    "        'Gradient Boosting vect':accuracy_GradBoost_vect,\n",
    "#        'CatBoost vect':accuracy_CatBoost_vect,  \n",
    "        'XGBoost vect':accuracy_XGBoost_vect, \n",
    "        'Logistic Regression vect':accuracy_logReg_vect}\n"
   ]
  },
  {
   "cell_type": "code",
   "execution_count": 192,
   "id": "174d5609",
   "metadata": {},
   "outputs": [
    {
     "data": {
      "image/png": "[encoded data removed]",
      "text/plain": [
       "<Figure size 2500x1000 with 1 Axes>"
      ]
     },
     "metadata": {},
     "output_type": "display_data"
    }
   ],
   "source": [
    "#Plotting accuracy of all the models with Bar-Graphs\n",
    "plt.figure(figsize=(25,10))\n",
    "plt.title('Comparing Accuracy of ML Models on vectorized text data',fontsize=20)\n",
    "colors=['red','yellow','orange','magenta', 'black',\n",
    "        #'white', \n",
    "        'purple', #\n",
    "        'gray']\n",
    "plt.xticks(fontsize=10,color='black')\n",
    "plt.yticks(fontsize=20,color='black')\n",
    "plt.ylabel('Accuracy',fontsize=20)\n",
    "plt.xlabel('Models',fontsize=20)\n",
    "plt.bar(labels_vect.keys(),labels_vect.values(),edgecolor='black',color=colors, linewidth=2,alpha=0.5);\n",
    "\n"
   ]
  },
  {
   "cell_type": "code",
   "execution_count": null,
   "id": "931558b9",
   "metadata": {},
   "outputs": [],
   "source": []
  },
  {
   "cell_type": "code",
   "execution_count": null,
   "id": "2d1f1cfa",
   "metadata": {},
   "outputs": [],
   "source": []
  },
  {
   "cell_type": "code",
   "execution_count": null,
   "id": "4cfb2319",
   "metadata": {},
   "outputs": [],
   "source": []
  },
  {
   "cell_type": "code",
   "execution_count": null,
   "id": "0d4a190a",
   "metadata": {},
   "outputs": [],
   "source": []
  }
 ],
 "metadata": {
  "kernelspec": {
   "display_name": "Python 3 (ipykernel)",
   "language": "python",
   "name": "python3"
  },
  "language_info": {
   "codemirror_mode": {
    "name": "ipython",
    "version": 3
   },
   "file_extension": ".py",
   "mimetype": "text/x-python",
   "name": "python",
   "nbconvert_exporter": "python",
   "pygments_lexer": "ipython3",
   "version": "3.10.9"
  }
 },
 "nbformat": 4,
 "nbformat_minor": 5
}
