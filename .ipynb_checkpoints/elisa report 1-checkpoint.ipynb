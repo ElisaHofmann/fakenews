{
 "cells": [
  {
   "cell_type": "markdown",
   "id": "5b9b311e",
   "metadata": {},
   "source": [
    "# Elisa's code snippets for report 1 in a Jupyter Notebook\n",
    "###############################################################################################\n"
   ]
  },
  {
   "cell_type": "markdown",
   "id": "d58b879c",
   "metadata": {},
   "source": [
    "## Link to datasets:\n",
    "https://dataverse.harvard.edu/dataset.xhtml?persistentId=doi:10.7910/DVN/AMCV2H\n",
    "\n",
    "## Link to source for labels:\n",
    "https://mediabiasfactcheck.com/\n"
   ]
  },
  {
   "cell_type": "code",
   "execution_count": 1,
   "id": "8d50f15a",
   "metadata": {},
   "outputs": [],
   "source": [
    "## Importing libraries\n",
    "#importing Libraries\n",
    "import numpy as np\n",
    "import pandas as pd\n",
    "from matplotlib.pylab import plt\n",
    "import seaborn as sns\n",
    "# from sqlalchemy import create_engine\n",
    "# import sqlalchemy as \n",
    "import sqlite3\n",
    "\n",
    "from sklearn import metrics\n",
    "from sklearn.metrics import confusion_matrix , classification_report\n",
    "from sklearn.feature_extraction.text import CountVectorizer\n",
    "from sklearn.feature_extraction.text import TfidfVectorizer\n",
    "from sklearn.model_selection import train_test_split\n",
    "# from wordcloud import WordCloud\n",
    "import re\n",
    "from nltk.corpus import stopwords\n",
    "from nltk.stem.porter import PorterStemmer\n",
    "import nltk\n"
   ]
  },
  {
   "cell_type": "markdown",
   "id": "94ff352e",
   "metadata": {},
   "source": [
    "## 1 - Dataset Analysis: \"nela-gt-2022-db\"\n"
   ]
  },
  {
   "cell_type": "markdown",
   "id": "1afe804d",
   "metadata": {},
   "source": [
    "### Elisa's code for reading and inspecting the database \"nela-gt-2022.db\""
   ]
  },
  {
   "cell_type": "code",
   "execution_count": 2,
   "id": "f62fe06b",
   "metadata": {},
   "outputs": [
    {
     "ename": "OperationalError",
     "evalue": "unable to open database file",
     "output_type": "error",
     "traceback": [
      "\u001b[1;31m---------------------------------------------------------------------------\u001b[0m",
      "\u001b[1;31mOperationalError\u001b[0m                          Traceback (most recent call last)",
      "Cell \u001b[1;32mIn[2], line 2\u001b[0m\n\u001b[0;32m      1\u001b[0m \u001b[38;5;66;03m# Read sqlite query results into a pandas DataFrame called db\u001b[39;00m\n\u001b[1;32m----> 2\u001b[0m con \u001b[38;5;241m=\u001b[39m \u001b[43msqlite3\u001b[49m\u001b[38;5;241;43m.\u001b[39;49m\u001b[43mconnect\u001b[49m\u001b[43m(\u001b[49m\u001b[38;5;124;43m\"\u001b[39;49m\u001b[38;5;124;43mnela-gt-2022_db/nela-gt-2022.db\u001b[39;49m\u001b[38;5;124;43m\"\u001b[39;49m\u001b[43m)\u001b[49m\n\u001b[0;32m      3\u001b[0m db \u001b[38;5;241m=\u001b[39m pd\u001b[38;5;241m.\u001b[39mread_sql_query(\u001b[38;5;124m\"\u001b[39m\u001b[38;5;124mSELECT * from newsdata\u001b[39m\u001b[38;5;124m\"\u001b[39m, con)\n",
      "\u001b[1;31mOperationalError\u001b[0m: unable to open database file"
     ]
    }
   ],
   "source": [
    "# Read sqlite query results into a pandas DataFrame called db\n",
    "con = sqlite3.connect(\"nela-gt-2022_db/nela-gt-2022.db\")\n",
    "db = pd.read_sql_query(\"SELECT * from newsdata\", con)"
   ]
  },
  {
   "cell_type": "markdown",
   "id": "ca784812",
   "metadata": {},
   "source": [
    "### first exploration of the document \"nela-gt-2022.db\""
   ]
  },
  {
   "cell_type": "code",
   "execution_count": null,
   "id": "aabd1301",
   "metadata": {},
   "outputs": [],
   "source": [
    "print(db.head())"
   ]
  },
  {
   "cell_type": "code",
   "execution_count": null,
   "id": "a6fa03da",
   "metadata": {},
   "outputs": [],
   "source": [
    "print(db.info())"
   ]
  },
  {
   "cell_type": "code",
   "execution_count": null,
   "id": "4164b32f",
   "metadata": {},
   "outputs": [],
   "source": [
    "print(db.describe())"
   ]
  },
  {
   "cell_type": "code",
   "execution_count": null,
   "id": "7bcb8623",
   "metadata": {},
   "outputs": [],
   "source": [
    "# check for missing values\n",
    "db.isnull().sum(axis = 0)"
   ]
  },
  {
   "cell_type": "markdown",
   "id": "465d9743",
   "metadata": {},
   "source": [
    "### Analysis of the publishers / sources"
   ]
  },
  {
   "cell_type": "code",
   "execution_count": null,
   "id": "e05cd5d3",
   "metadata": {},
   "outputs": [],
   "source": [
    "# get publishers\n",
    "db[\"source\"].unique()"
   ]
  },
  {
   "cell_type": "code",
   "execution_count": null,
   "id": "86440087",
   "metadata": {},
   "outputs": [],
   "source": [
    "# get publishers sorted alphabetically\n",
    "a = db[\"source\"].unique()\n",
    "print(sorted(a))\n"
   ]
  },
  {
   "cell_type": "code",
   "execution_count": null,
   "id": "bb067baf",
   "metadata": {},
   "outputs": [],
   "source": [
    "# check whether we have duplicates\n",
    "print(db.duplicated().sum())"
   ]
  },
  {
   "cell_type": "code",
   "execution_count": null,
   "id": "9adf4ccb",
   "metadata": {},
   "outputs": [],
   "source": [
    "# plot sources - barplot\n",
    "fig = plt.figure(figsize = (10,40))\n",
    "sns.countplot(y = db.source, order = db[\"source\"].value_counts().index)\n",
    "plt.xlabel(\"Frequency\")\n",
    "plt.ylabel(\"Sources\")\n",
    "plt.title(\"Number of articles per news source contained in the dataset in the year 2022\")\n",
    "plt.show();\n",
    "\n",
    "#### idea for improvement: create bins (1.g. sources with 100 articles, 100-200 etc. and then plot)\n"
   ]
  },
  {
   "cell_type": "markdown",
   "id": "f31a702f",
   "metadata": {},
   "source": [
    "### Analysis of time data"
   ]
  },
  {
   "cell_type": "code",
   "execution_count": null,
   "id": "73661030",
   "metadata": {},
   "outputs": [],
   "source": [
    "## create new variables\n",
    "db[\"year\"] = pd.to_datetime(db[\"date\"]).dt.year\n",
    "db[\"month\"] = pd.to_datetime(db[\"date\"]).dt.month\n",
    "db[\"day\"] = pd.to_datetime(db[\"date\"]).dt.dayofyear\n",
    "db[\"weekday\"] = pd.to_datetime(db[\"date\"]).dt.weekday\n",
    "db[\"time\"] = pd.to_datetime(db[\"date\"]).dt.time\n",
    "\n",
    "db.info()\n",
    "db.head(5)"
   ]
  },
  {
   "cell_type": "markdown",
   "id": "87b087ed",
   "metadata": {},
   "source": [
    "#### Articles per month - barplot"
   ]
  },
  {
   "cell_type": "code",
   "execution_count": null,
   "id": "a4794d5b",
   "metadata": {},
   "outputs": [],
   "source": [
    "# get values\n",
    "# db[\"month\"].value_counts()\n",
    "\n",
    "## plot the number of articles per month\n",
    "plt.figure(figsize=(15,5))\n",
    "sns.countplot(x=db.month, color=\"limegreen\");\n",
    "plt.xticks(np.arange(12),[\"January\", \"February\", \"March\", \"April\", \"May\", \"June\", \"July\", \"August\", \"September\", \"October\", \"November\", \"December\"]);\n",
    "plt.ylabel(\"Number of articles\")\n",
    "plt.xlabel(\"Months\")\n",
    "plt.title(\"Number of articles per month in dataset\");\n"
   ]
  },
  {
   "cell_type": "markdown",
   "id": "516a42f5",
   "metadata": {},
   "source": [
    "#### Articles per day - lineplot"
   ]
  },
  {
   "cell_type": "code",
   "execution_count": null,
   "id": "0c8b3f8a",
   "metadata": {},
   "outputs": [],
   "source": [
    "## lineplot articles per day whole year\n",
    "db[\"date\"].value_counts()\n",
    "\n",
    "## sort the values and create a new variable\n",
    "lineplot_data = db[\"date\"].value_counts().sort_index()\n",
    "\n",
    "## plot\n",
    "fig = plt.figure(figsize = (10, 8))\n",
    "ax1 = fig.add_subplot(111)\n",
    "ax1.plot_date(lineplot_data.index, lineplot_data, linestyle='-')\n",
    "\n",
    "## nicer x-axis\n",
    "month_starts = [0,31,60,91,121,152,182,213,244,274,305,335]\n",
    "month_names = ['Jan','Feb','Mar','Apr','May','Jun',\n",
    "               'Jul','Aug','Sep','Oct','Nov','Dec'] \n",
    "plt.gca().set_xticks(month_starts)\n",
    "plt.gca().set_xticklabels(month_names)\n",
    "\n",
    "plt.show();\n",
    "\n",
    "# ToDo: figure out what the two low dots are"
   ]
  },
  {
   "cell_type": "markdown",
   "id": "aa96d734",
   "metadata": {},
   "source": [
    "#### Articles per weekday - barplot "
   ]
  },
  {
   "cell_type": "code",
   "execution_count": null,
   "id": "53d043e9",
   "metadata": {},
   "outputs": [],
   "source": [
    "# get values\n",
    "# db[\"weekday\"].value_counts()\n",
    "\n",
    "## plot the number of articles per weekday\n",
    "# barplot\n",
    "fig = plt.figure(figsize = (9, 6))\n",
    "sns.countplot (x = db[\"weekday\"], color = \"lightblue\")               \n",
    "plt.xticks(np.arange(7),[\"Monday\", \"Tuesday\", \"Wednesday\", \"Thursday\", \"Friday\", \"Saturday\", \"Sunday\"])\n",
    "plt.ylabel(\"Frequency\")\n",
    "plt.xlabel(\"Weekdays\")\n",
    "plt.show();\n",
    "\n",
    "\n"
   ]
  },
  {
   "cell_type": "markdown",
   "id": "d84a41b1",
   "metadata": {},
   "source": [
    "## 2 - Dataset Analysis: \"label.tab\""
   ]
  },
  {
   "cell_type": "code",
   "execution_count": null,
   "id": "55504165",
   "metadata": {},
   "outputs": [],
   "source": [
    "# read document \n",
    "labels = pd.read_csv(\"labels.csv\")"
   ]
  },
  {
   "cell_type": "code",
   "execution_count": null,
   "id": "73c53252",
   "metadata": {},
   "outputs": [],
   "source": [
    "labels.head(10)"
   ]
  },
  {
   "cell_type": "code",
   "execution_count": null,
   "id": "b7294169",
   "metadata": {},
   "outputs": [],
   "source": [
    "labels.info()"
   ]
  },
  {
   "cell_type": "markdown",
   "id": "c2e60c3c",
   "metadata": {},
   "source": [
    "### Plot the labels - barplot"
   ]
  },
  {
   "cell_type": "code",
   "execution_count": null,
   "id": "7337e8a2",
   "metadata": {},
   "outputs": [],
   "source": [
    "sns.countplot(x = \"label\", data = labels)\n",
    "plt.xticks(np.arange(3),[\"0: Reliable\", \"1: Mixed\", \"2: Unreliable\"])\n",
    "plt.ylabel(\"Frequency\")\n",
    "plt.xlabel(\"Outlet-level veracity label 'label' document\")\n",
    "plt.show();"
   ]
  },
  {
   "cell_type": "code",
   "execution_count": null,
   "id": "4db41cda",
   "metadata": {},
   "outputs": [],
   "source": []
  },
  {
   "cell_type": "code",
   "execution_count": null,
   "id": "c6b1cb77",
   "metadata": {},
   "outputs": [],
   "source": []
  },
  {
   "cell_type": "markdown",
   "id": "ceec5e7d",
   "metadata": {},
   "source": [
    "## 3 - Dataset Analysis: \"labels_all.tab\""
   ]
  },
  {
   "cell_type": "code",
   "execution_count": null,
   "id": "4b2b41a6",
   "metadata": {},
   "outputs": [],
   "source": [
    "# read document\n",
    "labels_all = pd.read_csv(\"labels_all.csv\")"
   ]
  },
  {
   "cell_type": "code",
   "execution_count": null,
   "id": "92f10c58",
   "metadata": {},
   "outputs": [],
   "source": [
    "labels_all.head(10)"
   ]
  },
  {
   "cell_type": "code",
   "execution_count": null,
   "id": "0335810a",
   "metadata": {},
   "outputs": [],
   "source": [
    "labels_all.info(10)\n"
   ]
  },
  {
   "cell_type": "markdown",
   "id": "98146174",
   "metadata": {},
   "source": [
    "### Plot the labels - barplot"
   ]
  },
  {
   "cell_type": "code",
   "execution_count": null,
   "id": "1cbb034b",
   "metadata": {},
   "outputs": [],
   "source": [
    "sns.countplot(x = \"label\", data = labels_all)\n",
    "plt.xticks(np.arange(4),[\"-1: Unlabeled\", \"0: Reliable\", \"1: Mixed\", \"2: Unreliable\"])\n",
    "plt.ylabel(\"Frequency\")\n",
    "plt.xlabel(\"Outlet-level veracity label label_all document\")\n",
    "plt.show();"
   ]
  },
  {
   "cell_type": "markdown",
   "id": "c31c580b",
   "metadata": {},
   "source": [
    "### Plot the countries - barplot"
   ]
  },
  {
   "cell_type": "code",
   "execution_count": null,
   "id": "dabbc20a",
   "metadata": {},
   "outputs": [],
   "source": [
    "sns.countplot(y = \"country\", data = labels_all);\n",
    "plt.ylabel(\"Country\")\n",
    "plt.xlabel(\"Frequency\")\n",
    "plt.show();\n",
    "\n",
    "# ToDo: plot descending"
   ]
  },
  {
   "cell_type": "markdown",
   "id": "ae3768d4",
   "metadata": {},
   "source": [
    "### Plot factuality scores"
   ]
  },
  {
   "cell_type": "code",
   "execution_count": null,
   "id": "d20028cc",
   "metadata": {},
   "outputs": [],
   "source": [
    "# count values\n",
    "labels_all.factuality.value_counts()\n"
   ]
  },
  {
   "cell_type": "code",
   "execution_count": null,
   "id": "e6f00825",
   "metadata": {},
   "outputs": [],
   "source": [
    "sns.countplot(x = \"factuality\", data = labels_all) \n",
    "plt.xticks(np.arange(6),[\"0: Very Low\", \"1\", \"2\", \"3\", \"4\", \"5: Very High\"])\n",
    "plt.ylabel(\"Frequency\")\n",
    "plt.xlabel(\"Outlet-level factuality label labels_all document\")\n",
    "plt.show();\n",
    "\n",
    "# ToDo: need a title for this one :-)"
   ]
  },
  {
   "cell_type": "code",
   "execution_count": null,
   "id": "28eddb64",
   "metadata": {},
   "outputs": [],
   "source": [
    "## alternative but not so nice\n",
    "sns.displot (labels_all[\"factuality\"], kde=True, bins=6);\n"
   ]
  },
  {
   "cell_type": "code",
   "execution_count": null,
   "id": "b4e99cba",
   "metadata": {},
   "outputs": [],
   "source": []
  }
 ],
 "metadata": {
  "kernelspec": {
   "display_name": "Python 3 (ipykernel)",
   "language": "python",
   "name": "python3"
  },
  "language_info": {
   "codemirror_mode": {
    "name": "ipython",
    "version": 3
   },
   "file_extension": ".py",
   "mimetype": "text/x-python",
   "name": "python",
   "nbconvert_exporter": "python",
   "pygments_lexer": "ipython3",
   "version": "3.10.9"
  }
 },
 "nbformat": 4,
 "nbformat_minor": 5
}
