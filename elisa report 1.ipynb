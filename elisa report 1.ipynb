{
 "cells": [
  {
   "cell_type": "markdown",
<<<<<<< Updated upstream
   "id": "d9eb32ac",
=======
   "id": "d0b423d8",
>>>>>>> Stashed changes
   "metadata": {},
   "source": [
    "# Elisa's code snippets for report 1 in a Jupyter Notebook\n",
    "###############################################################################################\n"
   ]
  },
  {
   "cell_type": "markdown",
<<<<<<< Updated upstream
   "id": "c1aadbf1",
=======
   "id": "14edc602",
>>>>>>> Stashed changes
   "metadata": {},
   "source": [
    "## Link to datasets:\n",
    "https://dataverse.harvard.edu/dataset.xhtml?persistentId=doi:10.7910/DVN/AMCV2H\n",
    "\n",
    "## Link to source for labels:\n",
    "https://mediabiasfactcheck.com/\n"
   ]
  },
  {
   "cell_type": "code",
   "execution_count": 1,
<<<<<<< Updated upstream
   "id": "79c1f4af",
=======
   "id": "f055dca5",
>>>>>>> Stashed changes
   "metadata": {},
   "outputs": [],
   "source": [
    "## Importing libraries\n",
    "#importing Libraries\n",
    "import numpy as np\n",
    "import pandas as pd\n",
    "from matplotlib.pylab import plt\n",
    "import seaborn as sns\n",
    "# from sqlalchemy import create_engine\n",
    "# import sqlalchemy as \n",
    "import sqlite3\n",
    "\n",
    "from sklearn import metrics\n",
    "from sklearn.metrics import confusion_matrix , classification_report\n",
    "from sklearn.feature_extraction.text import CountVectorizer\n",
    "from sklearn.feature_extraction.text import TfidfVectorizer\n",
    "from sklearn.model_selection import train_test_split\n",
    "# from wordcloud import WordCloud\n",
    "import re\n",
    "from nltk.corpus import stopwords\n",
    "from nltk.stem.porter import PorterStemmer\n",
    "import nltk\n"
   ]
  },
  {
   "cell_type": "markdown",
<<<<<<< Updated upstream
   "id": "c1f135cf",
=======
   "id": "39e55d23",
>>>>>>> Stashed changes
   "metadata": {},
   "source": [
    "## 1 - Dataset Analysis: \"nela-gt-2022-db\"\n"
   ]
  },
  {
   "cell_type": "markdown",
<<<<<<< Updated upstream
   "id": "e8ff227e",
=======
   "id": "2bea9889",
>>>>>>> Stashed changes
   "metadata": {},
   "source": [
    "### Elisa's code for reading and inspecting the database \"nela-gt-2022.db\""
   ]
  },
  {
   "cell_type": "code",
   "execution_count": 5,
<<<<<<< Updated upstream
   "id": "356f3477",
=======
   "id": "95782729",
>>>>>>> Stashed changes
   "metadata": {},
   "outputs": [
    {
     "ename": "OperationalError",
     "evalue": "unable to open database file",
     "output_type": "error",
     "traceback": [
      "\u001b[1;31m---------------------------------------------------------------------------\u001b[0m",
      "\u001b[1;31mOperationalError\u001b[0m                          Traceback (most recent call last)",
      "Cell \u001b[1;32mIn[5], line 2\u001b[0m\n\u001b[0;32m      1\u001b[0m \u001b[38;5;66;03m# Read sqlite query results into a pandas DataFrame called db\u001b[39;00m\n\u001b[1;32m----> 2\u001b[0m con \u001b[38;5;241m=\u001b[39m \u001b[43msqlite3\u001b[49m\u001b[38;5;241;43m.\u001b[39;49m\u001b[43mconnect\u001b[49m\u001b[43m(\u001b[49m\u001b[38;5;124;43m\"\u001b[39;49m\u001b[38;5;124;43mfakenews/nela-gt-2022.db\u001b[39;49m\u001b[38;5;124;43m\"\u001b[39;49m\u001b[43m)\u001b[49m\n\u001b[0;32m      3\u001b[0m db \u001b[38;5;241m=\u001b[39m pd\u001b[38;5;241m.\u001b[39mread_sql_query(\u001b[38;5;124m\"\u001b[39m\u001b[38;5;124mSELECT * from newsdata\u001b[39m\u001b[38;5;124m\"\u001b[39m, con)\n",
      "\u001b[1;31mOperationalError\u001b[0m: unable to open database file"
     ]
    }
   ],
   "source": [
<<<<<<< Updated upstream
    "# cannot open it on GitHub - database is too large\n",
=======
    "# cannot open\n",
>>>>>>> Stashed changes
    "\n",
    "# Read sqlite query results into a pandas DataFrame called db\n",
    "con = sqlite3.connect(\"fakenews/nela-gt-2022.db\")\n",
    "db = pd.read_sql_query(\"SELECT * from newsdata\", con)"
   ]
  },
  {
   "cell_type": "markdown",
<<<<<<< Updated upstream
   "id": "63efa30f",
=======
   "id": "8af02643",
>>>>>>> Stashed changes
   "metadata": {},
   "source": [
    "### first exploration of the document \"nela-gt-2022.db\""
   ]
  },
  {
   "cell_type": "code",
   "execution_count": null,
<<<<<<< Updated upstream
   "id": "3db0ea51",
=======
   "id": "93693314",
>>>>>>> Stashed changes
   "metadata": {},
   "outputs": [],
   "source": [
    "print(db.head())"
   ]
  },
  {
   "cell_type": "code",
   "execution_count": null,
<<<<<<< Updated upstream
   "id": "b808ea82",
=======
   "id": "02f44ab3",
>>>>>>> Stashed changes
   "metadata": {},
   "outputs": [],
   "source": [
    "print(db.info())"
   ]
  },
  {
   "cell_type": "code",
   "execution_count": null,
<<<<<<< Updated upstream
   "id": "aaad94aa",
=======
   "id": "fb96dd07",
>>>>>>> Stashed changes
   "metadata": {},
   "outputs": [],
   "source": [
    "print(db.describe())"
   ]
  },
  {
   "cell_type": "code",
   "execution_count": null,
<<<<<<< Updated upstream
   "id": "1515f441",
=======
   "id": "4a98d501",
>>>>>>> Stashed changes
   "metadata": {},
   "outputs": [],
   "source": [
    "# check for missing values\n",
    "db.isnull().sum(axis = 0)"
   ]
  },
  {
   "cell_type": "markdown",
<<<<<<< Updated upstream
   "id": "acd39325",
=======
   "id": "0095e446",
>>>>>>> Stashed changes
   "metadata": {},
   "source": [
    "### Analysis of the publishers / sources"
   ]
  },
  {
   "cell_type": "code",
   "execution_count": null,
<<<<<<< Updated upstream
   "id": "53faf316",
=======
   "id": "54bde4f7",
>>>>>>> Stashed changes
   "metadata": {},
   "outputs": [],
   "source": [
    "# get publishers\n",
    "db[\"source\"].unique()"
   ]
  },
  {
   "cell_type": "code",
   "execution_count": null,
<<<<<<< Updated upstream
   "id": "b21bba0a",
=======
   "id": "405dbc4a",
>>>>>>> Stashed changes
   "metadata": {},
   "outputs": [],
   "source": [
    "# get publishers sorted alphabetically\n",
    "a = db[\"source\"].unique()\n",
    "print(sorted(a))\n"
   ]
  },
  {
   "cell_type": "code",
   "execution_count": null,
<<<<<<< Updated upstream
   "id": "40e758f3",
=======
   "id": "e8e87d61",
>>>>>>> Stashed changes
   "metadata": {},
   "outputs": [],
   "source": [
    "# check whether we have duplicates\n",
    "print(db.duplicated().sum())"
   ]
  },
  {
   "cell_type": "code",
   "execution_count": null,
<<<<<<< Updated upstream
   "id": "457875b1",
=======
   "id": "7cb6fe21",
>>>>>>> Stashed changes
   "metadata": {},
   "outputs": [],
   "source": [
    "# plot sources - barplot\n",
    "fig = plt.figure(figsize = (10,40))\n",
    "sns.countplot(y = db.source, order = db[\"source\"].value_counts().index)\n",
    "plt.xlabel(\"Frequency\")\n",
    "plt.ylabel(\"Sources\")\n",
    "plt.title(\"Number of articles per news source contained in the dataset in the year 2022\")\n",
    "plt.show();\n",
    "\n",
    "#### idea for improvement: create bins (1.g. sources with 100 articles, 100-200 etc. and then plot)\n"
   ]
  },
  {
   "cell_type": "markdown",
<<<<<<< Updated upstream
   "id": "8adf8a44",
=======
   "id": "1f55e98f",
>>>>>>> Stashed changes
   "metadata": {},
   "source": [
    "### Analysis of time data"
   ]
  },
  {
   "cell_type": "code",
   "execution_count": null,
<<<<<<< Updated upstream
   "id": "1cb18f30",
=======
   "id": "a8cd55eb",
>>>>>>> Stashed changes
   "metadata": {},
   "outputs": [],
   "source": [
    "## create new variables\n",
    "db[\"year\"] = pd.to_datetime(db[\"date\"]).dt.year\n",
    "db[\"month\"] = pd.to_datetime(db[\"date\"]).dt.month\n",
    "db[\"day\"] = pd.to_datetime(db[\"date\"]).dt.dayofyear\n",
    "db[\"weekday\"] = pd.to_datetime(db[\"date\"]).dt.weekday\n",
    "db[\"time\"] = pd.to_datetime(db[\"date\"]).dt.time\n",
    "\n",
    "db.info()\n",
    "db.head(5)"
   ]
  },
  {
   "cell_type": "markdown",
<<<<<<< Updated upstream
   "id": "3eb31607",
=======
   "id": "977f3990",
>>>>>>> Stashed changes
   "metadata": {},
   "source": [
    "#### Articles per month - barplot"
   ]
  },
  {
   "cell_type": "code",
   "execution_count": null,
<<<<<<< Updated upstream
   "id": "b62b4457",
=======
   "id": "154f738a",
>>>>>>> Stashed changes
   "metadata": {},
   "outputs": [],
   "source": [
    "# get values\n",
    "# db[\"month\"].value_counts()\n",
    "\n",
    "## plot the number of articles per month\n",
    "plt.figure(figsize=(15,5))\n",
    "sns.countplot(x=db.month, color=\"limegreen\");\n",
    "plt.xticks(np.arange(12),[\"January\", \"February\", \"March\", \"April\", \"May\", \"June\", \"July\", \"August\", \"September\", \"October\", \"November\", \"December\"]);\n",
    "plt.ylabel(\"Number of articles\")\n",
    "plt.xlabel(\"Months\")\n",
    "plt.title(\"Number of articles per month in dataset\");\n"
   ]
  },
  {
   "cell_type": "markdown",
<<<<<<< Updated upstream
   "id": "b2ef29d6",
=======
   "id": "a053dc14",
>>>>>>> Stashed changes
   "metadata": {},
   "source": [
    "#### Articles per day - lineplot"
   ]
  },
  {
   "cell_type": "code",
   "execution_count": null,
<<<<<<< Updated upstream
   "id": "a9eed596",
=======
   "id": "db5e8a36",
>>>>>>> Stashed changes
   "metadata": {},
   "outputs": [],
   "source": [
    "## lineplot articles per day whole year\n",
    "db[\"date\"].value_counts()\n",
    "\n",
    "## sort the values and create a new variable\n",
    "lineplot_data = db[\"date\"].value_counts().sort_index()\n",
    "\n",
    "## plot\n",
    "fig = plt.figure(figsize = (10, 8))\n",
    "ax1 = fig.add_subplot(111)\n",
    "ax1.plot_date(lineplot_data.index, lineplot_data, linestyle='-')\n",
    "\n",
    "## nicer x-axis\n",
    "month_starts = [0,31,60,91,121,152,182,213,244,274,305,335]\n",
    "month_names = ['Jan','Feb','Mar','Apr','May','Jun',\n",
    "               'Jul','Aug','Sep','Oct','Nov','Dec'] \n",
    "plt.gca().set_xticks(month_starts)\n",
    "plt.gca().set_xticklabels(month_names)\n",
    "\n",
    "plt.show();\n",
    "\n",
    "# ToDo: figure out what the two low dots are"
   ]
  },
  {
   "cell_type": "markdown",
<<<<<<< Updated upstream
   "id": "9e6d1222",
=======
   "id": "ddadacea",
>>>>>>> Stashed changes
   "metadata": {},
   "source": [
    "#### Articles per weekday - barplot "
   ]
  },
  {
   "cell_type": "code",
   "execution_count": null,
<<<<<<< Updated upstream
   "id": "9a2e2e73",
=======
   "id": "1f4f2355",
>>>>>>> Stashed changes
   "metadata": {},
   "outputs": [],
   "source": [
    "# get values\n",
    "# db[\"weekday\"].value_counts()\n",
    "\n",
    "## plot the number of articles per weekday\n",
    "# barplot\n",
    "fig = plt.figure(figsize = (9, 6))\n",
    "sns.countplot (x = db[\"weekday\"], color = \"lightblue\")               \n",
    "plt.xticks(np.arange(7),[\"Monday\", \"Tuesday\", \"Wednesday\", \"Thursday\", \"Friday\", \"Saturday\", \"Sunday\"])\n",
    "plt.ylabel(\"Frequency\")\n",
    "plt.xlabel(\"Weekdays\")\n",
    "plt.show();\n",
    "\n",
    "\n"
   ]
  },
  {
   "cell_type": "markdown",
<<<<<<< Updated upstream
   "id": "28822335",
=======
   "id": "f143a036",
>>>>>>> Stashed changes
   "metadata": {},
   "source": [
    "## 2 - Dataset Analysis: \"label.tab\""
   ]
  },
  {
   "cell_type": "code",
   "execution_count": 6,
<<<<<<< Updated upstream
   "id": "f92cfab2",
=======
   "id": "79d3e99a",
>>>>>>> Stashed changes
   "metadata": {},
   "outputs": [],
   "source": [
    "# read document \n",
    "labels = pd.read_csv(\"labels.csv\")"
   ]
  },
  {
   "cell_type": "code",
   "execution_count": 7,
<<<<<<< Updated upstream
   "id": "73306fc1",
=======
   "id": "0e899144",
>>>>>>> Stashed changes
   "metadata": {},
   "outputs": [
    {
     "data": {
      "text/html": [
       "<div>\n",
       "<style scoped>\n",
       "    .dataframe tbody tr th:only-of-type {\n",
       "        vertical-align: middle;\n",
       "    }\n",
       "\n",
       "    .dataframe tbody tr th {\n",
       "        vertical-align: top;\n",
       "    }\n",
       "\n",
       "    .dataframe thead th {\n",
       "        text-align: right;\n",
       "    }\n",
       "</style>\n",
       "<table border=\"1\" class=\"dataframe\">\n",
       "  <thead>\n",
       "    <tr style=\"text-align: right;\">\n",
       "      <th></th>\n",
       "      <th>source</th>\n",
       "      <th>label</th>\n",
       "    </tr>\n",
       "  </thead>\n",
       "  <tbody>\n",
       "    <tr>\n",
       "      <th>0</th>\n",
       "      <td>adweek</td>\n",
       "      <td>0</td>\n",
       "    </tr>\n",
       "    <tr>\n",
       "      <th>1</th>\n",
       "      <td>airwars</td>\n",
       "      <td>0</td>\n",
       "    </tr>\n",
       "    <tr>\n",
       "      <th>2</th>\n",
       "      <td>bangkokpost</td>\n",
       "      <td>0</td>\n",
       "    </tr>\n",
       "    <tr>\n",
       "      <th>3</th>\n",
       "      <td>cnet</td>\n",
       "      <td>0</td>\n",
       "    </tr>\n",
       "    <tr>\n",
       "      <th>4</th>\n",
       "      <td>courthousenews</td>\n",
       "      <td>0</td>\n",
       "    </tr>\n",
       "    <tr>\n",
       "      <th>5</th>\n",
       "      <td>thedailyrecord</td>\n",
       "      <td>0</td>\n",
       "    </tr>\n",
       "    <tr>\n",
       "      <th>6</th>\n",
       "      <td>digitaljournal</td>\n",
       "      <td>0</td>\n",
       "    </tr>\n",
       "    <tr>\n",
       "      <th>7</th>\n",
       "      <td>foreignpolicy</td>\n",
       "      <td>0</td>\n",
       "    </tr>\n",
       "    <tr>\n",
       "      <th>8</th>\n",
       "      <td>france24</td>\n",
       "      <td>0</td>\n",
       "    </tr>\n",
       "    <tr>\n",
       "      <th>9</th>\n",
       "      <td>politicalwire</td>\n",
       "      <td>0</td>\n",
       "    </tr>\n",
       "  </tbody>\n",
       "</table>\n",
       "</div>"
      ],
      "text/plain": [
       "           source  label\n",
       "0          adweek      0\n",
       "1         airwars      0\n",
       "2     bangkokpost      0\n",
       "3            cnet      0\n",
       "4  courthousenews      0\n",
       "5  thedailyrecord      0\n",
       "6  digitaljournal      0\n",
       "7   foreignpolicy      0\n",
       "8        france24      0\n",
       "9   politicalwire      0"
      ]
     },
     "execution_count": 7,
     "metadata": {},
     "output_type": "execute_result"
    }
   ],
   "source": [
    "labels.head(10)"
   ]
  },
  {
   "cell_type": "code",
   "execution_count": 8,
<<<<<<< Updated upstream
   "id": "a6c7b6a5",
=======
   "id": "a6c2a1b8",
>>>>>>> Stashed changes
   "metadata": {},
   "outputs": [
    {
     "name": "stdout",
     "output_type": "stream",
     "text": [
      "<class 'pandas.core.frame.DataFrame'>\n",
      "RangeIndex: 336 entries, 0 to 335\n",
      "Data columns (total 2 columns):\n",
      " #   Column  Non-Null Count  Dtype \n",
      "---  ------  --------------  ----- \n",
      " 0   source  336 non-null    object\n",
      " 1   label   336 non-null    int64 \n",
      "dtypes: int64(1), object(1)\n",
      "memory usage: 5.4+ KB\n"
     ]
    }
   ],
   "source": [
    "labels.info()"
   ]
  },
  {
   "cell_type": "markdown",
<<<<<<< Updated upstream
   "id": "c8c24559",
=======
   "id": "52a51c0c",
>>>>>>> Stashed changes
   "metadata": {},
   "source": [
    "### Plot the labels - barplot"
   ]
  },
  {
   "cell_type": "code",
   "execution_count": 28,
<<<<<<< Updated upstream
   "id": "93fea244",
=======
   "id": "ee0a0af7",
>>>>>>> Stashed changes
   "metadata": {},
   "outputs": [
    {
     "data": {
      "image/png": "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\n",
      "text/plain": [
       "<Figure size 640x480 with 1 Axes>"
      ]
     },
     "metadata": {},
     "output_type": "display_data"
    }
   ],
   "source": [
    "sns.countplot(x = \"label\", data = labels)\n",
    "plt.xticks(np.arange(3),[\"0: Reliable\", \"1: Mixed\", \"2: Unreliable\"])\n",
    "plt.ylabel(\"Frequency\")\n",
    "plt.xlabel(\"Outlet-level veracity labels\")\n",
    "plt.title(\"Frequencies of three different outlet-level veracity labels ('labels.tab' document)\")\n",
    "plt.show();\n",
    "\n",
    "# labels were collected from https://mediabiasfactcheck.com/"
   ]
  },
  {
   "cell_type": "code",
   "execution_count": null,
<<<<<<< Updated upstream
   "id": "70dfeb11",
=======
   "id": "70cb5026",
>>>>>>> Stashed changes
   "metadata": {},
   "outputs": [],
   "source": []
  },
  {
   "cell_type": "code",
   "execution_count": null,
<<<<<<< Updated upstream
   "id": "e47e03b4",
=======
   "id": "5481c80e",
>>>>>>> Stashed changes
   "metadata": {},
   "outputs": [],
   "source": []
  },
  {
   "cell_type": "markdown",
<<<<<<< Updated upstream
   "id": "74143af2",
=======
   "id": "9b17ec09",
>>>>>>> Stashed changes
   "metadata": {},
   "source": [
    "## 3 - Dataset Analysis: \"labels_all.tab\""
   ]
  },
  {
   "cell_type": "code",
   "execution_count": 13,
<<<<<<< Updated upstream
   "id": "f50859ac",
=======
   "id": "5a51aec4",
>>>>>>> Stashed changes
   "metadata": {},
   "outputs": [],
   "source": [
    "# read document\n",
    "labels_all = pd.read_csv(\"labels_all.csv\")"
   ]
  },
  {
   "cell_type": "code",
   "execution_count": 15,
<<<<<<< Updated upstream
   "id": "e426b3b2",
=======
   "id": "b3e582ba",
>>>>>>> Stashed changes
   "metadata": {},
   "outputs": [
    {
     "data": {
      "text/html": [
       "<div>\n",
       "<style scoped>\n",
       "    .dataframe tbody tr th:only-of-type {\n",
       "        vertical-align: middle;\n",
       "    }\n",
       "\n",
       "    .dataframe tbody tr th {\n",
       "        vertical-align: top;\n",
       "    }\n",
       "\n",
       "    .dataframe thead th {\n",
       "        text-align: right;\n",
       "    }\n",
       "</style>\n",
       "<table border=\"1\" class=\"dataframe\">\n",
       "  <thead>\n",
       "    <tr style=\"text-align: right;\">\n",
       "      <th></th>\n",
       "      <th>source</th>\n",
       "      <th>country</th>\n",
       "      <th>label</th>\n",
       "      <th>bias</th>\n",
       "      <th>factuality</th>\n",
       "      <th>questionable-source</th>\n",
       "      <th>conspiracy-pseudoscience</th>\n",
       "      <th>pro-science</th>\n",
       "    </tr>\n",
       "  </thead>\n",
       "  <tbody>\n",
       "    <tr>\n",
       "      <th>0</th>\n",
       "      <td>21stcenturywire</td>\n",
       "      <td>USA</td>\n",
       "      <td>1</td>\n",
       "      <td>conspiracy-pseudoscience</td>\n",
       "      <td>2.0</td>\n",
       "      <td>0</td>\n",
       "      <td>1</td>\n",
       "      <td>0</td>\n",
       "    </tr>\n",
       "    <tr>\n",
       "      <th>1</th>\n",
       "      <td>369news</td>\n",
       "      <td>Unknown</td>\n",
       "      <td>1</td>\n",
       "      <td>conspiracy-pseudoscience</td>\n",
       "      <td>2.0</td>\n",
       "      <td>0</td>\n",
       "      <td>1</td>\n",
       "      <td>0</td>\n",
       "    </tr>\n",
       "    <tr>\n",
       "      <th>2</th>\n",
       "      <td>911truthorg</td>\n",
       "      <td>USA</td>\n",
       "      <td>1</td>\n",
       "      <td>conspiracy-pseudoscience</td>\n",
       "      <td>1.0</td>\n",
       "      <td>0</td>\n",
       "      <td>1</td>\n",
       "      <td>0</td>\n",
       "    </tr>\n",
       "    <tr>\n",
       "      <th>3</th>\n",
       "      <td>abcnews</td>\n",
       "      <td>USA</td>\n",
       "      <td>0</td>\n",
       "      <td>left-center</td>\n",
       "      <td>4.0</td>\n",
       "      <td>0</td>\n",
       "      <td>0</td>\n",
       "      <td>0</td>\n",
       "    </tr>\n",
       "    <tr>\n",
       "      <th>4</th>\n",
       "      <td>acnlatitudes</td>\n",
       "      <td>USA</td>\n",
       "      <td>1</td>\n",
       "      <td>conspiracy-pseudoscience</td>\n",
       "      <td>2.0</td>\n",
       "      <td>0</td>\n",
       "      <td>1</td>\n",
       "      <td>0</td>\n",
       "    </tr>\n",
       "    <tr>\n",
       "      <th>5</th>\n",
       "      <td>activistpost</td>\n",
       "      <td>Unknown</td>\n",
       "      <td>1</td>\n",
       "      <td>conspiracy-pseudoscience</td>\n",
       "      <td>1.0</td>\n",
       "      <td>0</td>\n",
       "      <td>1</td>\n",
       "      <td>0</td>\n",
       "    </tr>\n",
       "    <tr>\n",
       "      <th>6</th>\n",
       "      <td>adweek</td>\n",
       "      <td>USA</td>\n",
       "      <td>0</td>\n",
       "      <td>center</td>\n",
       "      <td>4.0</td>\n",
       "      <td>0</td>\n",
       "      <td>0</td>\n",
       "      <td>0</td>\n",
       "    </tr>\n",
       "    <tr>\n",
       "      <th>7</th>\n",
       "      <td>adwnews</td>\n",
       "      <td>NaN</td>\n",
       "      <td>1</td>\n",
       "      <td>conspiracy-pseudoscience</td>\n",
       "      <td>1.0</td>\n",
       "      <td>0</td>\n",
       "      <td>1</td>\n",
       "      <td>0</td>\n",
       "    </tr>\n",
       "    <tr>\n",
       "      <th>8</th>\n",
       "      <td>ageofautism</td>\n",
       "      <td>USA</td>\n",
       "      <td>1</td>\n",
       "      <td>conspiracy-pseudoscience</td>\n",
       "      <td>1.0</td>\n",
       "      <td>0</td>\n",
       "      <td>1</td>\n",
       "      <td>0</td>\n",
       "    </tr>\n",
       "    <tr>\n",
       "      <th>9</th>\n",
       "      <td>airwars</td>\n",
       "      <td>NaN</td>\n",
       "      <td>0</td>\n",
       "      <td>center</td>\n",
       "      <td>4.0</td>\n",
       "      <td>0</td>\n",
       "      <td>0</td>\n",
       "      <td>0</td>\n",
       "    </tr>\n",
       "  </tbody>\n",
       "</table>\n",
       "</div>"
      ],
      "text/plain": [
       "            source  country  label                      bias  factuality  \\\n",
       "0  21stcenturywire      USA      1  conspiracy-pseudoscience         2.0   \n",
       "1          369news  Unknown      1  conspiracy-pseudoscience         2.0   \n",
       "2      911truthorg      USA      1  conspiracy-pseudoscience         1.0   \n",
       "3          abcnews      USA      0               left-center         4.0   \n",
       "4     acnlatitudes      USA      1  conspiracy-pseudoscience         2.0   \n",
       "5     activistpost  Unknown      1  conspiracy-pseudoscience         1.0   \n",
       "6           adweek      USA      0                    center         4.0   \n",
       "7          adwnews      NaN      1  conspiracy-pseudoscience         1.0   \n",
       "8      ageofautism      USA      1  conspiracy-pseudoscience         1.0   \n",
       "9          airwars      NaN      0                    center         4.0   \n",
       "\n",
       "   questionable-source  conspiracy-pseudoscience  pro-science  \n",
       "0                    0                         1            0  \n",
       "1                    0                         1            0  \n",
       "2                    0                         1            0  \n",
       "3                    0                         0            0  \n",
       "4                    0                         1            0  \n",
       "5                    0                         1            0  \n",
       "6                    0                         0            0  \n",
       "7                    0                         1            0  \n",
       "8                    0                         1            0  \n",
       "9                    0                         0            0  "
      ]
     },
     "execution_count": 15,
     "metadata": {},
     "output_type": "execute_result"
    }
   ],
   "source": [
    "labels_all.head(10)"
   ]
  },
  {
   "cell_type": "code",
   "execution_count": 16,
<<<<<<< Updated upstream
   "id": "71532068",
=======
   "id": "4772650e",
>>>>>>> Stashed changes
   "metadata": {},
   "outputs": [
    {
     "name": "stdout",
     "output_type": "stream",
     "text": [
      "<class 'pandas.core.frame.DataFrame'>\n",
      "RangeIndex: 348 entries, 0 to 347\n",
      "Data columns (total 8 columns):\n",
      " #   Column                    Non-Null Count  Dtype  \n",
      "---  ------                    --------------  -----  \n",
      " 0   source                    348 non-null    object \n",
      " 1   country                   291 non-null    object \n",
      " 2   label                     348 non-null    int64  \n",
      " 3   bias                      348 non-null    object \n",
      " 4   factuality                341 non-null    float64\n",
      " 5   questionable-source       348 non-null    int64  \n",
      " 6   conspiracy-pseudoscience  348 non-null    int64  \n",
      " 7   pro-science               348 non-null    int64  \n",
      "dtypes: float64(1), int64(4), object(3)\n",
      "memory usage: 21.9+ KB\n"
     ]
    }
   ],
   "source": [
    "labels_all.info(10)\n"
   ]
  },
  {
   "cell_type": "markdown",
<<<<<<< Updated upstream
   "id": "a6932eb8",
=======
   "id": "242b19ec",
>>>>>>> Stashed changes
   "metadata": {},
   "source": [
    "### Plot the labels - barplot"
   ]
  },
  {
   "cell_type": "code",
   "execution_count": 29,
<<<<<<< Updated upstream
   "id": "a77db791",
=======
   "id": "b397228e",
>>>>>>> Stashed changes
   "metadata": {},
   "outputs": [
    {
     "data": {
      "image/png": "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\n",
      "text/plain": [
       "<Figure size 640x480 with 1 Axes>"
      ]
     },
     "metadata": {},
     "output_type": "display_data"
    }
   ],
   "source": [
    "sns.countplot(x = \"label\", data = labels_all)\n",
    "plt.xticks(np.arange(4),[\"-1: Unlabeled\", \"0: Reliable\", \"1: Mixed\", \"2: Unreliable\"])\n",
    "plt.ylabel(\"Frequency\")\n",
    "plt.xlabel(\"Outlet-level veracity labels\")\n",
    "plt.title(\"Frequencies of the four different outlet-level veracity labels ('labels_all.tab' document)\")\n",
    "plt.show();\n"
   ]
  },
  {
   "cell_type": "markdown",
<<<<<<< Updated upstream
   "id": "9592f23b",
=======
   "id": "35e8fa23",
>>>>>>> Stashed changes
   "metadata": {},
   "source": [
    "### Plot the countries - barplot"
   ]
  },
  {
   "cell_type": "code",
   "execution_count": 30,
<<<<<<< Updated upstream
   "id": "49b7a96a",
=======
   "id": "fbc44d6a",
>>>>>>> Stashed changes
   "metadata": {},
   "outputs": [
    {
     "data": {
      "image/png": "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\n",
      "text/plain": [
       "<Figure size 640x480 with 1 Axes>"
      ]
     },
     "metadata": {},
     "output_type": "display_data"
    }
   ],
   "source": [
    "sns.countplot(y = \"country\", data = labels_all, order = labels_all[\"country\"].value_counts().index)\n",
    "plt.ylabel(\"Country\")\n",
    "plt.xlabel(\"Frequency\")\n",
    "plt.title(\"Frequency of countries ('labels_all.tab' document)\")\n",
    "plt.show();\n"
   ]
  },
  {
   "cell_type": "markdown",
<<<<<<< Updated upstream
   "id": "9ba11248",
=======
   "id": "fb1e0d1b",
>>>>>>> Stashed changes
   "metadata": {},
   "source": [
    "### Plot factuality scores"
   ]
  },
  {
   "cell_type": "code",
   "execution_count": 21,
<<<<<<< Updated upstream
   "id": "2ddf93a2",
=======
   "id": "53237427",
>>>>>>> Stashed changes
   "metadata": {},
   "outputs": [
    {
     "data": {
      "text/plain": [
       "2.0    114\n",
       "1.0    112\n",
       "4.0     69\n",
       "0.0     24\n",
       "3.0     18\n",
       "5.0      4\n",
       "Name: factuality, dtype: int64"
      ]
     },
     "execution_count": 21,
     "metadata": {},
     "output_type": "execute_result"
    }
   ],
   "source": [
    "# count values\n",
    "labels_all.factuality.value_counts()\n"
   ]
  },
  {
   "cell_type": "code",
   "execution_count": 34,
<<<<<<< Updated upstream
   "id": "603c7f99",
=======
   "id": "e301d171",
>>>>>>> Stashed changes
   "metadata": {},
   "outputs": [
    {
     "data": {
      "image/png": "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\n",
      "text/plain": [
       "<Figure size 640x480 with 1 Axes>"
      ]
     },
     "metadata": {},
     "output_type": "display_data"
    }
   ],
   "source": [
    "sns.countplot(x = \"factuality\", data = labels_all) \n",
    "plt.xticks(np.arange(6),[\"0: Very Low\", \"Low\", \"Mixed\", \"Mostly Factual\", \"High\", \"Very High\"])\n",
    "plt.ylabel(\"Frequency\")\n",
    "plt.xlabel(\"Outlet-level factuality labels\")\n",
    "plt.title(\"Frequencies of outlet-level factuality labels ('labels_all.tab' document)\")\n",
    "plt.show();\n"
   ]
  },
  {
   "cell_type": "code",
   "execution_count": 33,
<<<<<<< Updated upstream
   "id": "9c594ca0",
=======
   "id": "a7a1248e",
>>>>>>> Stashed changes
   "metadata": {},
   "outputs": [
    {
     "data": {
      "image/png": "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\n",
      "text/plain": [
       "<Figure size 500x500 with 1 Axes>"
      ]
     },
     "metadata": {},
     "output_type": "display_data"
    }
   ],
   "source": [
    "## alternative but not so nice\n",
    "sns.displot (labels_all[\"factuality\"], kde=True, bins=6);\n"
   ]
  },
  {
   "cell_type": "code",
   "execution_count": null,
<<<<<<< Updated upstream
   "id": "f86ce9e0",
=======
   "id": "7069f437",
>>>>>>> Stashed changes
   "metadata": {},
   "outputs": [],
   "source": []
  }
 ],
 "metadata": {
  "kernelspec": {
   "display_name": "Python 3 (ipykernel)",
   "language": "python",
   "name": "python3"
  },
  "language_info": {
   "codemirror_mode": {
    "name": "ipython",
    "version": 3
   },
   "file_extension": ".py",
   "mimetype": "text/x-python",
   "name": "python",
   "nbconvert_exporter": "python",
   "pygments_lexer": "ipython3",
   "version": "3.10.9"
  }
 },
 "nbformat": 4,
 "nbformat_minor": 5
}
