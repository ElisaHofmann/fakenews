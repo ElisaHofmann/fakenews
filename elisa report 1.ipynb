{
 "cells": [
  {
   "cell_type": "markdown",
   "id": "b2947801",
   "metadata": {},
   "source": [
    "# Elisa's code snippets for report 1\n",
    "##############################################\n"
   ]
  },
  {
   "cell_type": "markdown",
   "id": "f288c019",
   "metadata": {},
   "source": [
    "# Link to datasets:\n",
    "# https://dataverse.harvard.edu/dataset.xhtml?persistentId=doi:10.7910/DVN/AMCV2H\n",
    "\n",
    "# Link to source for labels:\n",
    "# https://mediabiasfactcheck.com/\n"
   ]
  },
  {
   "cell_type": "code",
   "execution_count": null,
   "id": "6b3d73df",
   "metadata": {},
   "outputs": [],
   "source": [
    "# Elisa's code for reading the database\n",
    "\n",
    "# import library\n",
    "import pandas as pd\n",
    "import sqlite3\n",
    "\n",
    "# Read sqlite query results into a pandas DataFrame\n",
    "con = sqlite3.connect(\"nela-gt-2022_db/nela-gt-2022.db\")\n",
    "db = pd.read_sql_query(\"SELECT * from newsdata\", con)"
   ]
  },
  {
   "cell_type": "code",
   "execution_count": null,
   "id": "cb4d981f",
   "metadata": {},
   "outputs": [],
   "source": []
  }
 ],
 "metadata": {
  "kernelspec": {
   "display_name": "Python 3 (ipykernel)",
   "language": "python",
   "name": "python3"
  },
  "language_info": {
   "codemirror_mode": {
    "name": "ipython",
    "version": 3
   },
   "file_extension": ".py",
   "mimetype": "text/x-python",
   "name": "python",
   "nbconvert_exporter": "python",
   "pygments_lexer": "ipython3",
   "version": "3.10.9"
  }
 },
 "nbformat": 4,
 "nbformat_minor": 5
}
